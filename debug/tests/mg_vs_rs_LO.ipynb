{
 "cells": [
  {
   "cell_type": "code",
   "execution_count": null,
   "id": "e605de22",
   "metadata": {},
   "outputs": [],
   "source": [
    "import hepi\n",
    "import smpl\n",
    "import numpy as np\n",
    "import hepi.madgraph as mg\n",
    "import matplotlib.pyplot as plt\n",
    "import hepi.resummino as rs\n",
    "import time\n",
    "print (mg.get_path())\n",
    "rs.set_path(\"~/git/resummino_ug_to_UX_vNLO/\")\n",
    "print (rs.get_path())"
   ]
  },
  {
   "cell_type": "markdown",
   "id": "e98d8473",
   "metadata": {},
   "source": [
    "## NLO comparison"
   ]
  },
  {
   "cell_type": "code",
   "execution_count": null,
   "id": "4a981ec6",
   "metadata": {},
   "outputs": [],
   "source": [
    "for p in [2000002,1000002,1000021]:\n",
    "    i = hepi.Input(hepi.Order.NLO,13000,p,1000022,\"param_card_nlo.dat\",\"CT14lo\",\"CT14lo\",1., 1.,\"NLO_COMP\")\n",
    "    li = [i]\n",
    "    li = hepi.scan(li,\"mu_f\",np.around(np.logspace(-1, 1, 4),2))\n",
    "    li = hepi.scan(li,\"mu_r\",np.around(np.logspace(-1, 1, 4),2))\n",
    "    rs_dl = rs.run(li,False,False)\n",
    "    mg_dl = mg.run(li,False)\n",
    "    rs_dl['ratio_nlo'] = rs_dl[\"nlo\"]/mg_dl[\"nlo\"]\n",
    "    hepi.scale_plot(rs_dl,[\"lo\",\"nlo\"],cont=False)\n",
    "    hepi.scale_plot(mg_dl,[\"nlo\"],cont=True)\n",
    "    smpl.plot.show()\n",
    "    hepi.scale_plot(rs_dl,[\"ratio_nlo\"],cont=False)\n",
    "    smpl.plot.show()\n",
    "\n",
    "    i = hepi.Input(hepi.Order.NLO,13000,p,1000022,\"param_card_nlo.dat\",\"CT14lo\",\"CT14lo\",1., 1.,\"NLO_COMP_MASS\")\n",
    "    li = [i]\n",
    "    li = hepi.mass_scan([i],p, np.linspace(1000,4000,16),diff_L_R=20)\n",
    "    rs_dl = rs.run(li,False,False)\n",
    "    mg_dl = mg.run(li,False)\n",
    "    rs_dl['ratio_nlo'] = (rs_dl[\"nlo\"]-mg_dl[\"nlo\"])/rs_dl[\"nlo\"]\n",
    "    \n",
    "    hepi.mass_plot(rs_dl,p,\"lo\",logy=True)\n",
    "    hepi.mass_plot(rs_dl,p,\"nlo\",logy=True)\n",
    "    hepi.mass_plot(mg_dl,p,\"nlo\",logy=True)\n",
    "    smpl.plot.show()\n",
    "    hepi.mass_plot(rs_dl,p,\"ratio_nlo\",logy=False,label=\"ratio_nlo\",yaxis=\"ratio\")\n",
    "    plt.ylim([-0.1,0.1])\n",
    "    smpl.plot.show()"
   ]
  },
  {
   "cell_type": "markdown",
   "id": "17fd0dcc",
   "metadata": {},
   "source": [
    "## Mass comparison"
   ]
  },
  {
   "cell_type": "code",
   "execution_count": null,
   "id": "93b9fa21",
   "metadata": {},
   "outputs": [],
   "source": []
  }
 ],
 "metadata": {
  "kernelspec": {
   "display_name": "Python 3",
   "language": "python",
   "name": "python3"
  },
  "language_info": {
   "codemirror_mode": {
    "name": "ipython",
    "version": 3
   },
   "file_extension": ".py",
   "mimetype": "text/x-python",
   "name": "python",
   "nbconvert_exporter": "python",
   "pygments_lexer": "ipython3",
   "version": "3.8.13"
  }
 },
 "nbformat": 4,
 "nbformat_minor": 5
}
