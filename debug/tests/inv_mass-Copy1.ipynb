{
 "cells": [
  {
   "cell_type": "code",
   "execution_count": 1,
   "metadata": {},
   "outputs": [
    {
     "name": "stdout",
     "output_type": "stream",
     "text": [
      "/opt/MG5_aMC_v2_7_0/\n",
      "~/git/resummino_ug_to_UX_vNLO/\n"
     ]
    }
   ],
   "source": [
    "import hepi\n",
    "import smpl\n",
    "import numpy as np\n",
    "import hepi.madgraph as mg\n",
    "import matplotlib.pyplot as plt\n",
    "import hepi.resummino as rs\n",
    "import time\n",
    "from smpl import plot\n",
    "print (mg.get_path())\n",
    "rs.set_path(\"~/git/resummino_ug_to_UX_vNLO/\")\n",
    "print (rs.get_path())"
   ]
  },
  {
   "cell_type": "code",
   "execution_count": 2,
   "metadata": {},
   "outputs": [
    {
     "name": "stdout",
     "output_type": "stream",
     "text": [
      "1943.493444\n",
      "Running: 41 jobs\n"
     ]
    },
    {
     "data": {
      "text/html": [
       "<style>\n",
       "</style>\n",
       "<div class=\"enlighten\">\n",
       "  <div class=\"enlighten-bar\">\n",
       "    <pre>./output/2b575685c8dc380cc7978e6f9075387efb3d20f5e05f3770daadecfa3ea2f50a.out                       </pre>\n",
       "  </div>\n",
       "  <div class=\"enlighten-bar\">\n",
       "    <pre> ... ./output/2b575685c8dc380cc7978e6f9075387efb3d20f5e05f3770daadecfa3ea2f50a.out Stage: DONE Status DONE:</pre>\n",
       "  </div>\n",
       "  <div class=\"enlighten-bar\">\n",
       "    <pre> ... ./output/f31d78997f0bdcc06ac4cd7a1bea56762775c90c8c6f2aa9a21ea157b18d5d7f.out Stage: DONE Status DONE:</pre>\n",
       "  </div>\n",
       "  <div class=\"enlighten-bar\">\n",
       "    <pre> ... ./output/d3e4de588655223ded53ea9362b7feef82929a1b3db9cb70e4eb593cde593512.out Stage: DONE Status DONE:</pre>\n",
       "  </div>\n",
       "  <div class=\"enlighten-bar\">\n",
       "    <pre> ... ./output/ecd2e3c94d26aac8652eb47e79deccac1ba8696ee285397dd787fc21ae452ce5.out Stage: DONE Status DONE:</pre>\n",
       "  </div>\n",
       "  <div class=\"enlighten-bar\">\n",
       "    <pre> ... ./output/c592eb3295489260c22bd4646867927f0a9dc7f755ecd67a0d75b776b0c70be1.out Stage: DONE Status DONE:</pre>\n",
       "  </div>\n",
       "  <div class=\"enlighten-bar\">\n",
       "    <pre> ... ./output/e9ed986cc6534d822c33a4c45d5e11c130e8418ef7c5cee626467aefc1506c3e.out Stage: DONE Status DONE:</pre>\n",
       "  </div>\n",
       "  <div class=\"enlighten-bar\">\n",
       "    <pre> ... ./output/7b4306d7092b2a4635c24dede68c152320898f40e691e95006054ddd538dae0c.out Stage: DONE Status DONE:</pre>\n",
       "  </div>\n",
       "  <div class=\"enlighten-bar\">\n",
       "    <pre> ... ./output/f4be18af36756c5400915c746ab5cc1ccc1156ad8ef5b42932cda59d7690f9c1.out Stage: DONE Status DONE:</pre>\n",
       "  </div>\n",
       "  <div class=\"enlighten-bar\">\n",
       "    <pre> ... ./output/1a69ef88481b31645bb8ca532f1394bed80409ebd23db4976e97d8eb722cb8d4.out Stage: DONE Status DONE:</pre>\n",
       "  </div>\n",
       "  <div class=\"enlighten-bar\">\n",
       "    <pre> ... ./output/adddafcf2f7e11f460cd9b2b4ea9555b63a3adcb34b06588a4e01f2fb38b75ae.out Stage: DONE Status DONE:</pre>\n",
       "  </div>\n",
       "  <div class=\"enlighten-bar\">\n",
       "    <pre> ... ./output/ed6f3ba524fe337063a15ba4f68ba8eebb1e280f3ba9d746ea0f20e426500aef.out Stage: DONE Status DONE:</pre>\n",
       "  </div>\n",
       "  <div class=\"enlighten-bar\">\n",
       "    <pre> ... ./output/dd35b5076acf10d68ac23703817c87691aeec1a15ff1995647e6c7d8aade7bdd.out Stage: DONE Status DONE:</pre>\n",
       "  </div>\n",
       "  <div class=\"enlighten-bar\">\n",
       "    <pre> ... ./output/f81ab190bf55e4371dd2771d00a8bd027523fb307e2a3144f6e30e5a450a04ab.out Stage: DONE Status DONE:</pre>\n",
       "  </div>\n",
       "  <div class=\"enlighten-bar\">\n",
       "    <pre> ... ./output/f98db42ff0efe64b5a265990f96ceac3ac3eb0bf249590c784bea5e45932aed6.out Stage: DONE Status DONE:</pre>\n",
       "  </div>\n",
       "  <div class=\"enlighten-bar\">\n",
       "    <pre> ... ./output/1e91f454c64f5c37c0073795f9e0a20f88b45bb3e1c3f31f3b985dea7c6a5162.out Stage: DONE Status DONE:</pre>\n",
       "  </div>\n",
       "  <div class=\"enlighten-bar\">\n",
       "    <pre> ... ./output/27fbf951e8a896ffbb7c5c2b51128e37f6b0f75a4cc3ace2027207c0933c3e3a.out Stage: DONE Status DONE:</pre>\n",
       "  </div>\n",
       "  <div class=\"enlighten-bar\">\n",
       "    <pre> ... ./output/cec75b15a76290e4e7cf985df84f90b60d96ca54b584b283736c1cc039819b6f.out Stage: DONE Status DONE:</pre>\n",
       "  </div>\n",
       "  <div class=\"enlighten-bar\">\n",
       "    <pre> ... ./output/dac6d5b16cdf52ad1ad14e7371ca037b79a08824899d87287bc94e73b29e4bd4.out Stage: DONE Status DONE:</pre>\n",
       "  </div>\n",
       "  <div class=\"enlighten-bar\">\n",
       "    <pre> ... ./output/2ca448f9f12b42d694de9e8e6ed0549c4d0ec3b8e7227febb3eb2a2789e93542.out Stage: DONE Status DONE:</pre>\n",
       "  </div>\n",
       "  <div class=\"enlighten-bar\">\n",
       "    <pre> ... ./output/0f895a72208668e5ff274f51d5f9529d308bd2414c2e62f96601857a2952ae80.out Stage: DONE Status DONE:</pre>\n",
       "  </div>\n",
       "  <div class=\"enlighten-bar\">\n",
       "    <pre> ... ./output/97b7add9c825e5ec6bf78ac27e53d1361ff4918cee4678f94524b48b62ef16f2.out Stage: DONE Status DONE:</pre>\n",
       "  </div>\n",
       "  <div class=\"enlighten-bar\">\n",
       "    <pre> ... ./output/9db03b430063c4a4bfebc708e06744c002350c96aeee532a38100fe68c829f95.out Stage: DONE Status DONE:</pre>\n",
       "  </div>\n",
       "  <div class=\"enlighten-bar\">\n",
       "    <pre> ... ./output/34a5078552bdf1613a486749097579c6227222403c3ce3ac424d6d1d16e256eb.out Stage: DONE Status DONE:</pre>\n",
       "  </div>\n",
       "  <div class=\"enlighten-bar\">\n",
       "    <pre> ... ./output/a28874ddad612f783f3a2331ca770c85188a4376f4122f384af18e5e0f387063.out Stage: DONE Status DONE:</pre>\n",
       "  </div>\n",
       "  <div class=\"enlighten-bar\">\n",
       "    <pre> ... ./output/0dcc0fd95b6204ab616999ccecd306d71c2cea48582a84d2d040889393c601aa.out Stage: DONE Status DONE:</pre>\n",
       "  </div>\n",
       "  <div class=\"enlighten-bar\">\n",
       "    <pre> ... ./output/6a51ed4e52a4b833f9e2195df18bdd4254d4c3a1abbc8b089f29d8a8fc4e13c9.out Stage: DONE Status DONE:</pre>\n",
       "  </div>\n",
       "  <div class=\"enlighten-bar\">\n",
       "    <pre> ... ./output/155609c2ec4b17576fe8e1febf99cbe0eea1c4b53c23cb381efaa8b30789abd3.out Stage: DONE Status DONE:</pre>\n",
       "  </div>\n",
       "  <div class=\"enlighten-bar\">\n",
       "    <pre> ... ./output/7f94439855392c34406d70d6ab043ee63cbb9b534dce4d3f60ae3afd40f56d88.out Stage: DONE Status DONE:</pre>\n",
       "  </div>\n",
       "  <div class=\"enlighten-bar\">\n",
       "    <pre> ... ./output/6f0a0db7a65f2c1902219aa5ac5dd684cf7940f1630f111498452d0bee1481c3.out Stage: DONE Status DONE:</pre>\n",
       "  </div>\n",
       "  <div class=\"enlighten-bar\">\n",
       "    <pre> ... ./output/2a6d2cafb1c8196864e629057446c414a4941dd48eae8b53e21302f95b3f8741.out Stage: DONE Status DONE:</pre>\n",
       "  </div>\n",
       "  <div class=\"enlighten-bar\">\n",
       "    <pre> ... ./output/65f485b0158aa37d178fbcb90b5d97644a19da57476621a3383cc1f95d492d39.out Stage: DONE Status DONE:</pre>\n",
       "  </div>\n",
       "  <div class=\"enlighten-bar\">\n",
       "    <pre> ... ./output/bf7ada90766f1a434501a4da436a9644bfeb24c44147868efa92987e772f0295.out Stage: DONE Status DONE:</pre>\n",
       "  </div>\n",
       "  <div class=\"enlighten-bar\">\n",
       "    <pre> ... ./output/265125bd45626335990baf062f9a80f01be7b04ceecb73f15d51531ac467785c.out Stage: DONE Status DONE:</pre>\n",
       "  </div>\n",
       "  <div class=\"enlighten-bar\">\n",
       "    <pre> ... ./output/b930c5bf529d868858b36bea1bafab0a67e8546c9d2b30ba6b294440e43bf313.out Stage: DONE Status DONE:</pre>\n",
       "  </div>\n",
       "  <div class=\"enlighten-bar\">\n",
       "    <pre> ... ./output/2c4313714fdfab9a2f50a8e74379db11e2c99bd5055a1ee85f0c688777d41de0.out Stage: DONE Status DONE:</pre>\n",
       "  </div>\n",
       "  <div class=\"enlighten-bar\">\n",
       "    <pre> ... ./output/9a11ff42656a84d45d53f95e8d4f55dd3c7b9fa573951738dbd8c810412b8c28.out Stage: DONE Status DONE:</pre>\n",
       "  </div>\n",
       "  <div class=\"enlighten-bar\">\n",
       "    <pre> ... ./output/f42a28dcd38740cff1fa5e01b9830a0c35b8878c0d7037dc8aa214b8a4a1739b.out Stage: DONE Status DONE:</pre>\n",
       "  </div>\n",
       "  <div class=\"enlighten-bar\">\n",
       "    <pre> ... ./output/a36e6a7eb752a149ffe7b894b6d61cc1b82e53780b80b2b92d8125aa7b5ff229.out Stage: DONE Status DONE:</pre>\n",
       "  </div>\n",
       "  <div class=\"enlighten-bar\">\n",
       "    <pre> ... ./output/bc3119f99da49f7ff06ace2ace517fb56901939849a055e4a0ee1843f13583f9.out Stage: DONE Status DONE:</pre>\n",
       "  </div>\n",
       "  <div class=\"enlighten-bar\">\n",
       "    <pre> ... ./output/32f38886cddfc3f92b045ba68d8956364966355670539978a1c0578eba267ddf.out Stage: DONE Status DONE:</pre>\n",
       "  </div>\n",
       "  <div class=\"enlighten-bar\">\n",
       "    <pre> ... ./output/c849fdb25536b67ab9e74363b6ebb36d110cd7466a64bdc66492ca0a6efcd655.out Stage: DONE Status DONE:</pre>\n",
       "  </div>\n",
       "</div>\n"
      ],
      "text/plain": [
       "<IPython.core.display.HTML object>"
      ]
     },
     "metadata": {},
     "output_type": "display_data"
    },
    {
     "data": {
      "image/png": "[encoded data removed]",
      "text/plain": [
       "<Figure size 432x288 with 1 Axes>"
      ]
     },
     "metadata": {
      "needs_background": "light"
     },
     "output_type": "display_data"
    },
    {
     "ename": "AttributeError",
     "evalue": "'function' object has no attribute 'get_output_dir'",
     "output_type": "error",
     "traceback": [
      "\u001b[0;31m---------------------------------------------------------------------------\u001b[0m",
      "\u001b[0;31mAttributeError\u001b[0m                            Traceback (most recent call last)",
      "\u001b[0;32m<ipython-input-2-d47e2c17be11>\u001b[0m in \u001b[0;36m<module>\u001b[0;34m\u001b[0m\n\u001b[1;32m     20\u001b[0m                     \u001b[0;31m#hepi.plot(dl, \"invariant_mass\", \"nlo_plus_nll\", logy=False, label=\"nlo+nll\",xaxis=\"$M$\",yaxis=\"$d\\\\sigma/dM$ [pb/GeV]\")\u001b[0m\u001b[0;34m\u001b[0m\u001b[0;34m\u001b[0m\u001b[0;34m\u001b[0m\u001b[0m\n\u001b[1;32m     21\u001b[0m                     \u001b[0;31m#plot.show()\u001b[0m\u001b[0;34m\u001b[0m\u001b[0;34m\u001b[0m\u001b[0;34m\u001b[0m\u001b[0m\n\u001b[0;32m---> 22\u001b[0;31m                     \u001b[0mplt\u001b[0m\u001b[0;34m.\u001b[0m\u001b[0msavefig\u001b[0m\u001b[0;34m(\u001b[0m\u001b[0minput\u001b[0m\u001b[0;34m.\u001b[0m\u001b[0mget_output_dir\u001b[0m\u001b[0;34m(\u001b[0m\u001b[0;34m)\u001b[0m \u001b[0;34m+\u001b[0m \u001b[0;34m\"inv_mass_\"\u001b[0m \u001b[0;34m+\u001b[0m \u001b[0mstr\u001b[0m\u001b[0;34m(\u001b[0m\u001b[0mp\u001b[0m\u001b[0;34m)\u001b[0m \u001b[0;34m+\u001b[0m \u001b[0;34m\"_\"\u001b[0m \u001b[0;34m+\u001b[0m \u001b[0mstr\u001b[0m\u001b[0;34m(\u001b[0m\u001b[0mnlo_pdf\u001b[0m\u001b[0;34m)\u001b[0m \u001b[0;34m+\u001b[0m \u001b[0;34m\"_\"\u001b[0m \u001b[0;34m+\u001b[0m\u001b[0mstr\u001b[0m\u001b[0;34m(\u001b[0m\u001b[0mscenario\u001b[0m\u001b[0;34m)\u001b[0m \u001b[0;34m+\u001b[0m \u001b[0;34m\".pdf\"\u001b[0m\u001b[0;34m)\u001b[0m\u001b[0;34m\u001b[0m\u001b[0;34m\u001b[0m\u001b[0m\n\u001b[0m\u001b[1;32m     23\u001b[0m \u001b[0;34m\u001b[0m\u001b[0m\n",
      "\u001b[0;31mAttributeError\u001b[0m: 'function' object has no attribute 'get_output_dir'"
     ]
    }
   ],
   "source": [
    "for run_plot in [False ]:\n",
    "    for scenario in [\"scenarioB.in\"]:\n",
    "        for lo_pdf,nlo_pdf in [(\"CT18NLO\",\"CT18NLO\")]:\n",
    "            for p in [2000002, 1000002]:\n",
    "                li = [hepi.Input(hepi.Order.LO, 13000, p, 1000022, scenario, lo_pdf, nlo_pdf, 1., 1.)]\n",
    "\n",
    "                li = hepi.scan_invariant_mass(li, 4000, 40+1)\n",
    "                print(li[0].invariant_mass)\n",
    "                #li = hepi.seven_point_scan(li)\n",
    "\n",
    "                dl = rs.run(li, False, True)\n",
    "\n",
    "                if not run_plot:\n",
    "                    \n",
    "                    plot.data([],[],init=True)\n",
    "                    hepi.plot(dl, \"invariant_mass\", \"lo\", logy=False, label=\"lo\",xaxis=\"$M$ [GeV]\",yaxis=\"$d\\\\sigma/dM$ [pb/GeV]\")\n",
    "                    plot.show()\n",
    "                    #hepi.plot(dl, \"invariant_mass\", \"nlo\", logy=False, label=\"nlo\",xaxis=\"$M$\",yaxis=\"$d\\\\sigma/dM$ [pb/GeV]\")\n",
    "                    #plot.show()\n",
    "                    #hepi.plot(dl, \"invariant_mass\", \"nlo_plus_nll\", logy=False, label=\"nlo+nll\",xaxis=\"$M$\",yaxis=\"$d\\\\sigma/dM$ [pb/GeV]\")\n",
    "                    #plot.show()\n",
    "                    plt.savefig(input.get_output_dir() + \"inv_mass_\" + str(p) + \"_\" + str(nlo_pdf) + \"_\" +str(scenario) + \".pdf\")\n",
    "                                                                                                                                                            "
   ]
  },
  {
   "cell_type": "code",
   "execution_count": null,
   "metadata": {},
   "outputs": [],
   "source": []
  }
 ],
 "metadata": {
  "kernelspec": {
   "display_name": "Python 3",
   "language": "python",
   "name": "python3"
  },
  "language_info": {
   "codemirror_mode": {
    "name": "ipython",
    "version": 3
   },
   "file_extension": ".py",
   "mimetype": "text/x-python",
   "name": "python",
   "nbconvert_exporter": "python",
   "pygments_lexer": "ipython3",
   "version": "3.7.9"
  }
 },
 "nbformat": 4,
 "nbformat_minor": 4
}
