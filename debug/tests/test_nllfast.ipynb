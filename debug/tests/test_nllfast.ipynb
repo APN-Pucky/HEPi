{
 "cells": [
  {
   "cell_type": "code",
   "execution_count": 3,
   "id": "6c1a697f",
   "metadata": {},
   "outputs": [
    {
     "name": "stdout",
     "output_type": "stream",
     "text": [
      "0.1.4.18+dirty\n",
      "/home/apn/git/Prospino2/\n"
     ]
    }
   ],
   "source": [
    "import hepi\n",
    "print(hepi.__version__)\n",
    "import smpl\n",
    "import numpy as np\n",
    "import hepi.nllfast as nf\n",
    "import hepi.prospino2 as ps\n",
    "import hepi.resummino as rs\n",
    "import hepi.madgraph as mg\n",
    "import hepi.util as util\n",
    "import matplotlib.pyplot as plt\n",
    "rs.set_path(\"~/git/resummino_test\")\n",
    "ps.set_path(\"/home/apn/git/Prospino2\")\n",
    "print (ps.get_path())\n",
    "model_path=\"/opt/MG5_aMC_v2_7_0/models/EWKino_NLO_UFO_py3\""
   ]
  },
  {
   "cell_type": "code",
   "execution_count": null,
   "id": "96faad7d",
   "metadata": {
    "scrolled": true
   },
   "outputs": [],
   "source": [
    "params = [\n",
    "    \"mastercode_with_gm2.in\",\n",
    "]\n",
    "pss = [ \n",
    "    \n",
    "      (1000002,1000002),\n",
    "     ]"
   ]
  },
  {
   "cell_type": "markdown",
   "id": "234755a8",
   "metadata": {},
   "source": [
    "# Mass"
   ]
  },
  {
   "cell_type": "code",
   "execution_count": null,
   "id": "e423f880",
   "metadata": {
    "scrolled": true
   },
   "outputs": [],
   "source": [
    "for pa,pb in pss:\n",
    "    for param in params:\n",
    "        i = hepi.Input(hepi.Order.NLO,13000,pa,pb,param,\"cteq6l1\",\"cteq66\",1., 1.,model_path=model_path,id=\"5\")\n",
    "        #i = hepi.Input(hepi.Order.NLO,13000,pa,pb,param,\"CT14lo\",\"CT14lo\",1., 1.,model_path=model_path,id=\"5\")\n",
    "        li = [i]\n",
    "        li = hepi.mass_scan([i],pa, np.linspace(100,1000,16))\n",
    "        nf_dl = nf.run(li,noskip=True)\n",
    "        ps_dl = ps.run(li,skip=True)\n",
    "        rs_dl = rs.run(li,noskip=False)\n",
    "        o=\"NLO\"\n",
    "        rs_dl['rel_diff_mg'] = (rs_dl[o]-mg_dl[o])/rs_dl[o]\n",
    "        rs_dl['rel_diff_ps'] = (rs_dl[o]-ps_dl[o])/rs_dl[o]\n",
    "        print(mg_dl)\n",
    "        hepi.mass_plot(ps_dl,\"LO\",pa,logy=True)\n",
    "        hepi.mass_plot(mg_dl,\"LO\",pa,logy=True)\n",
    "        hepi.mass_plot(rs_dl,\"LO\",pa,logy=True)\n",
    "        hepi.mass_plot(ps_dl,\"NLO\",pa,logy=True)\n",
    "        hepi.mass_plot(mg_dl,\"NLO\",pa,logy=True)\n",
    "        hepi.mass_plot(rs_dl,\"NLO\",pa,logy=True)\n",
    "        smpl.plot.show()\n",
    "\n",
    "        hepi.mass_plot(rs_dl,\"rel_diff_ps\",pa,logy=False,label=\"rel_diff_PS\",yaxis=\"rel diff\")\n",
    "        hepi.mass_plot(rs_dl,\"rel_diff_mg\",pa,logy=False,label=\"rel_diff_MG\",yaxis=\"rel diff\")\n",
    "        smpl.plot.show()\n",
    "        hepi.mass_plot(ps_dl,\"K_NLO\",pa,yaxis=\"K_NLO\",logy=True)\n",
    "        hepi.mass_plot(mg_dl,\"K_NLO\",pa,yaxis=\"K_NLO\",logy=True)\n",
    "        hepi.mass_plot(rs_dl,\"K_NLO\",pa,yaxis=\"K_NLO\",logy=True)\n",
    "        smpl.plot.show()\n"
   ]
  },
  {
   "cell_type": "code",
   "execution_count": null,
   "id": "175691db",
   "metadata": {},
   "outputs": [],
   "source": [
    "pss = [ \n",
    "    \n",
    "      (1000022,1000021),\n",
    "    \n",
    "    \n",
    "    \n",
    "     ]\n",
    "for pa,pb in pss:\n",
    "    for param in params:\n",
    "        i = hepi.Input(hepi.Order.NLO,13000,pa,pb,param,\"cteq6l1\",\"cteq66\",1., 1.,model_path=model_path,id=\"5\")\n",
    "        #i = hepi.Input(hepi.Order.NLO,13000,pa,pb,param,\"CT14lo\",\"CT14lo\",1., 1.,model_path=model_path,id=\"5\")\n",
    "        li = [i]\n",
    "        li = hepi.mass_scan([i],pa, np.linspace(100,1000,16))\n",
    "        mg_dl = mg.run(li,noskip=True)\n",
    "        ps_dl = ps.run(li,skip=True)\n",
    "        rs_dl = rs.run(li,noskip=False)\n",
    "        o=\"NLO\"\n",
    "        rs_dl['rel_diff_mg'] = (rs_dl[o]-mg_dl[o])/rs_dl[o]\n",
    "        rs_dl['rel_diff_ps'] = (rs_dl[o]-ps_dl[o])/rs_dl[o]\n",
    "        print(mg_dl)\n",
    "        hepi.mass_plot(ps_dl,\"LO\",pa,logy=True)\n",
    "        hepi.mass_plot(mg_dl,\"LO\",pa,logy=True)\n",
    "        hepi.mass_plot(rs_dl,\"LO\",pa,logy=True)\n",
    "        hepi.mass_plot(ps_dl,\"NLO\",pa,logy=True)\n",
    "        hepi.mass_plot(mg_dl,\"NLO\",pa,logy=True)\n",
    "        hepi.mass_plot(rs_dl,\"NLO\",pa,logy=True)\n",
    "        smpl.plot.show()\n",
    "\n",
    "        hepi.mass_plot(rs_dl,\"rel_diff_ps\",pa,logy=False,label=\"rel_diff_PS\",yaxis=\"rel diff\")\n",
    "        hepi.mass_plot(rs_dl,\"rel_diff_mg\",pa,logy=False,label=\"rel_diff_MG\",yaxis=\"rel diff\")\n",
    "        smpl.plot.show()\n",
    "        hepi.mass_plot(ps_dl,\"K_NLO\",pa,yaxis=\"K_NLO\",logy=True)\n",
    "        hepi.mass_plot(mg_dl,\"K_NLO\",pa,yaxis=\"K_NLO\",logy=True)\n",
    "        hepi.mass_plot(rs_dl,\"K_NLO\",pa,yaxis=\"K_NLO\",logy=True)\n",
    "        smpl.plot.show()\n"
   ]
  },
  {
   "cell_type": "code",
   "execution_count": null,
   "id": "300c59a5",
   "metadata": {},
   "outputs": [],
   "source": []
  }
 ],
 "metadata": {
  "kernelspec": {
   "display_name": "Python 3",
   "language": "python",
   "name": "python3"
  },
  "language_info": {
   "codemirror_mode": {
    "name": "ipython",
    "version": 3
   },
   "file_extension": ".py",
   "mimetype": "text/x-python",
   "name": "python",
   "nbconvert_exporter": "python",
   "pygments_lexer": "ipython3",
   "version": "3.8.13"
  }
 },
 "nbformat": 4,
 "nbformat_minor": 5
}
