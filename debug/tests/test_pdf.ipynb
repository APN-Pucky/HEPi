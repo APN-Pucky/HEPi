{
 "cells": [
  {
   "cell_type": "code",
   "execution_count": 1,
   "metadata": {},
   "outputs": [
    {
     "name": "stdout",
     "output_type": "stream",
     "text": [
      "~/git/resummino_ug_to_UX_vNLO/\n"
     ]
    }
   ],
   "source": [
    "import hepi\n",
    "import smpl\n",
    "import numpy as np\n",
    "import hepi.resummino as rs\n",
    "import hepi.madgraph as mg\n",
    "import matplotlib.pyplot as plt\n",
    "rs.set_path(\"~/git/resummino_ug_to_UX_vNLO/\")\n",
    "print (rs.get_path())"
   ]
  },
  {
   "cell_type": "code",
   "execution_count": 3,
   "metadata": {},
   "outputs": [
    {
     "name": "stdout",
     "output_type": "stream",
     "text": [
      "Running: 59 jobs\n",
      "skipskipskipskipskipskipskipskipskipskipskipskipskipskipskipskipskipskipskipskipskipskipskipskipskipskipskipskipskipskipskipskipskipskipskipskipskipskipskipskipskipskipskipskipskipskipskipskipskipskipskipskipskipskipskipskipskipskip"
     ]
    },
    {
     "ename": "ValueError",
     "evalue": "The number of derivatives at boundaries does not match: expected 3, got 0+0",
     "output_type": "error",
     "traceback": [
      "\u001b[0;31m---------------------------------------------------------------------------\u001b[0m",
      "\u001b[0;31mValueError\u001b[0m                                Traceback (most recent call last)",
      "\u001b[0;32m<ipython-input-3-62a111275942>\u001b[0m in \u001b[0;36m<module>\u001b[0;34m\u001b[0m\n\u001b[1;32m     24\u001b[0m                     \u001b[0mdp\u001b[0m\u001b[0;34m[\u001b[0m\u001b[0mnlo_pdf\u001b[0m\u001b[0;34m]\u001b[0m \u001b[0;34m=\u001b[0m \u001b[0mdl\u001b[0m\u001b[0;34m\u001b[0m\u001b[0;34m\u001b[0m\u001b[0m\n\u001b[1;32m     25\u001b[0m \u001b[0;34m\u001b[0m\u001b[0m\n\u001b[0;32m---> 26\u001b[0;31m                     \u001b[0mhepi\u001b[0m\u001b[0;34m.\u001b[0m\u001b[0mmass_and_K_plot\u001b[0m\u001b[0;34m(\u001b[0m\u001b[0mdl\u001b[0m\u001b[0;34m,\u001b[0m\u001b[0mli\u001b[0m\u001b[0;34m,\u001b[0m\u001b[0mp\u001b[0m\u001b[0;34m,\u001b[0m\u001b[0mpdf\u001b[0m\u001b[0;34m=\u001b[0m\u001b[0;32mTrue\u001b[0m\u001b[0;34m,\u001b[0m\u001b[0mplot_data\u001b[0m\u001b[0;34m=\u001b[0m\u001b[0;32mTrue\u001b[0m\u001b[0;34m,\u001b[0m\u001b[0mfill\u001b[0m\u001b[0;34m=\u001b[0m\u001b[0;32mTrue\u001b[0m\u001b[0;34m)\u001b[0m\u001b[0;34m\u001b[0m\u001b[0;34m\u001b[0m\u001b[0m\n\u001b[0m\u001b[1;32m     27\u001b[0m                     \u001b[0mplt\u001b[0m\u001b[0;34m.\u001b[0m\u001b[0msavefig\u001b[0m\u001b[0;34m(\u001b[0m\u001b[0minput\u001b[0m\u001b[0;34m.\u001b[0m\u001b[0mget_output_dir\u001b[0m\u001b[0;34m(\u001b[0m\u001b[0;34m)\u001b[0m\u001b[0;34m+\u001b[0m \u001b[0mget_job_name\u001b[0m\u001b[0;34m(\u001b[0m\u001b[0;34m)\u001b[0m\u001b[0;34m+\u001b[0m\u001b[0;34m\"_mass_and_K_\"\u001b[0m \u001b[0;34m+\u001b[0m \u001b[0mnlo_pdf\u001b[0m \u001b[0;34m+\u001b[0m \u001b[0;34m\"_\"\u001b[0m \u001b[0;34m+\u001b[0m \u001b[0mstr\u001b[0m\u001b[0;34m(\u001b[0m\u001b[0mp\u001b[0m\u001b[0;34m)\u001b[0m\u001b[0;34m+\u001b[0m \u001b[0;34m\"_\"\u001b[0m \u001b[0;34m+\u001b[0m\u001b[0mstr\u001b[0m\u001b[0;34m(\u001b[0m\u001b[0mscenario\u001b[0m\u001b[0;34m)\u001b[0m \u001b[0;34m+\u001b[0m \u001b[0;34m\".pdf\"\u001b[0m\u001b[0;34m,\u001b[0m\u001b[0mbbox_inches\u001b[0m \u001b[0;34m=\u001b[0m \u001b[0;34m'tight'\u001b[0m\u001b[0;34m,\u001b[0m \u001b[0mpad_inches\u001b[0m \u001b[0;34m=\u001b[0m \u001b[0;36m0\u001b[0m\u001b[0;34m)\u001b[0m\u001b[0;34m\u001b[0m\u001b[0;34m\u001b[0m\u001b[0m\n\u001b[1;32m     28\u001b[0m \u001b[0;34m\u001b[0m\u001b[0m\n",
      "\u001b[0;32m~/.local/lib/python3.7/site-packages/hepi/plot.py\u001b[0m in \u001b[0;36mmass_and_K_plot\u001b[0;34m(dl, li, p, scale, pdf, plehn, combined, cont, figsize, **kwargs)\u001b[0m\n\u001b[1;32m    478\u001b[0m         \u001b[0;32mfor\u001b[0m \u001b[0mi\u001b[0m \u001b[0;32min\u001b[0m \u001b[0;34m[\u001b[0m\u001b[0;36m0\u001b[0m\u001b[0;34m,\u001b[0m\u001b[0;36m1\u001b[0m\u001b[0;34m]\u001b[0m\u001b[0;34m:\u001b[0m\u001b[0;34m\u001b[0m\u001b[0;34m\u001b[0m\u001b[0m\n\u001b[1;32m    479\u001b[0m             \u001b[0mkargs\u001b[0m \u001b[0;34m=\u001b[0m \u001b[0;34m{\u001b[0m\u001b[0;34m'logy'\u001b[0m\u001b[0;34m:\u001b[0m\u001b[0;34m[\u001b[0m\u001b[0;32mTrue\u001b[0m\u001b[0;34m,\u001b[0m\u001b[0;32mFalse\u001b[0m\u001b[0;34m]\u001b[0m\u001b[0;34m[\u001b[0m\u001b[0mi\u001b[0m\u001b[0;34m]\u001b[0m\u001b[0;34m,\u001b[0m\u001b[0;34m'mask'\u001b[0m\u001b[0;34m:\u001b[0m\u001b[0mdl\u001b[0m\u001b[0;34m[\u001b[0m\u001b[0;34m\"LO_PDF\"\u001b[0m\u001b[0;34m]\u001b[0m\u001b[0;34m!=\u001b[0m\u001b[0mnp\u001b[0m\u001b[0;34m.\u001b[0m\u001b[0marray\u001b[0m\u001b[0;34m(\u001b[0m\u001b[0;32mNone\u001b[0m\u001b[0;34m)\u001b[0m\u001b[0;34m,\u001b[0m \u001b[0;34m'axes'\u001b[0m\u001b[0;34m:\u001b[0m\u001b[0maxs\u001b[0m\u001b[0;34m[\u001b[0m\u001b[0mi\u001b[0m\u001b[0;34m]\u001b[0m\u001b[0;34m,\u001b[0m\u001b[0;34m'K'\u001b[0m\u001b[0;34m:\u001b[0m\u001b[0;34m[\u001b[0m\u001b[0;32mFalse\u001b[0m\u001b[0;34m,\u001b[0m\u001b[0;32mTrue\u001b[0m\u001b[0;34m]\u001b[0m\u001b[0;34m[\u001b[0m\u001b[0mi\u001b[0m\u001b[0;34m]\u001b[0m\u001b[0;34m,\u001b[0m\u001b[0;34m'tight'\u001b[0m\u001b[0;34m:\u001b[0m\u001b[0;32mFalse\u001b[0m\u001b[0;34m}\u001b[0m\u001b[0;34m\u001b[0m\u001b[0;34m\u001b[0m\u001b[0m\n\u001b[0;32m--> 480\u001b[0;31m             \u001b[0mmass_plot\u001b[0m\u001b[0;34m(\u001b[0m\u001b[0mdl\u001b[0m\u001b[0;34m,\u001b[0m  \u001b[0;34m\"LO_PDF\"\u001b[0m\u001b[0;34m,\u001b[0m\u001b[0mp\u001b[0m\u001b[0;34m,\u001b[0m           \u001b[0;34m**\u001b[0m\u001b[0mkargs\u001b[0m\u001b[0;34m,\u001b[0m\u001b[0;34m**\u001b[0m\u001b[0mkwargs\u001b[0m\u001b[0;34m,\u001b[0m\u001b[0mlabel\u001b[0m\u001b[0;34m=\u001b[0m\u001b[0;34m\"LO\"\u001b[0m\u001b[0;34m)\u001b[0m\u001b[0;34m\u001b[0m\u001b[0;34m\u001b[0m\u001b[0m\n\u001b[0m\u001b[1;32m    481\u001b[0m             \u001b[0mmass_plot\u001b[0m\u001b[0;34m(\u001b[0m\u001b[0mdl\u001b[0m\u001b[0;34m,\u001b[0m  \u001b[0;34m\"NLO_PDF\"\u001b[0m\u001b[0;34m,\u001b[0m\u001b[0mp\u001b[0m\u001b[0;34m,\u001b[0m          \u001b[0;34m**\u001b[0m\u001b[0mkargs\u001b[0m\u001b[0;34m,\u001b[0m\u001b[0;34m**\u001b[0m\u001b[0mkwargs\u001b[0m\u001b[0;34m,\u001b[0m\u001b[0mlabel\u001b[0m\u001b[0;34m=\u001b[0m\u001b[0;34m\"NLO\"\u001b[0m\u001b[0;34m)\u001b[0m\u001b[0;34m\u001b[0m\u001b[0;34m\u001b[0m\u001b[0m\n\u001b[1;32m    482\u001b[0m             \u001b[0mmass_plot\u001b[0m\u001b[0;34m(\u001b[0m\u001b[0mdl\u001b[0m\u001b[0;34m,\u001b[0m  \u001b[0;34m\"NLO_PLUS_NLL_PDF\"\u001b[0m\u001b[0;34m,\u001b[0m\u001b[0mp\u001b[0m\u001b[0;34m,\u001b[0m \u001b[0;34m**\u001b[0m\u001b[0mkargs\u001b[0m\u001b[0;34m,\u001b[0m\u001b[0;34m**\u001b[0m\u001b[0mkwargs\u001b[0m\u001b[0;34m,\u001b[0m\u001b[0mlabel\u001b[0m\u001b[0;34m=\u001b[0m\u001b[0;34m\"NLO+NLL\"\u001b[0m\u001b[0;34m)\u001b[0m\u001b[0;34m\u001b[0m\u001b[0;34m\u001b[0m\u001b[0m\n",
      "\u001b[0;32m~/.local/lib/python3.7/site-packages/hepi/plot.py\u001b[0m in \u001b[0;36mmass_plot\u001b[0;34m(dict_list, y, part, logy, yaxis, yscale, label, **kwargs)\u001b[0m\n\u001b[1;32m    111\u001b[0m     \u001b[0mdict_list\u001b[0m\u001b[0;34m[\u001b[0m\u001b[0;34m\"mass_\"\u001b[0m\u001b[0;34m+\u001b[0m \u001b[0mstr\u001b[0m\u001b[0;34m(\u001b[0m\u001b[0mpart\u001b[0m\u001b[0;34m)\u001b[0m\u001b[0;34m]\u001b[0m \u001b[0;34m=\u001b[0m \u001b[0mget_mass\u001b[0m\u001b[0;34m(\u001b[0m\u001b[0mdict_list\u001b[0m\u001b[0;34m,\u001b[0m \u001b[0mpart\u001b[0m\u001b[0;34m)\u001b[0m\u001b[0;34m\u001b[0m\u001b[0;34m\u001b[0m\u001b[0m\n\u001b[1;32m    112\u001b[0m     plot(dict_list, \"mass_\" + str(part), y, label=label,\n\u001b[0;32m--> 113\u001b[0;31m          xaxis=\"$m_{\"+get_name(part) + \"}$ [GeV]\", yaxis=yaxis, logy=logy, yscale=yscale,**kwargs)\n\u001b[0m\u001b[1;32m    114\u001b[0m \u001b[0;34m\u001b[0m\u001b[0m\n\u001b[1;32m    115\u001b[0m \u001b[0;34m\u001b[0m\u001b[0m\n",
      "\u001b[0;32m~/.local/lib/python3.7/site-packages/hepi/plot.py\u001b[0m in \u001b[0;36mplot\u001b[0;34m(dict_list, x, y, label, xaxis, yaxis, ratio, K, K_plus_1, logy, yscale, mask, **kwargs)\u001b[0m\n\u001b[1;32m    143\u001b[0m \u001b[0;34m\u001b[0m\u001b[0m\n\u001b[1;32m    144\u001b[0m \u001b[0;34m\u001b[0m\u001b[0m\n\u001b[0;32m--> 145\u001b[0;31m     \u001b[0mvplot\u001b[0m\u001b[0;34m(\u001b[0m\u001b[0mvx\u001b[0m\u001b[0;34m,\u001b[0m \u001b[0mvy\u001b[0m\u001b[0;34m,\u001b[0m \u001b[0mlabel\u001b[0m\u001b[0;34m,\u001b[0m \u001b[0mxaxis\u001b[0m\u001b[0;34m,\u001b[0m \u001b[0myaxis\u001b[0m\u001b[0;34m,\u001b[0m \u001b[0mlogy\u001b[0m\u001b[0;34m,\u001b[0m \u001b[0myscale\u001b[0m\u001b[0;34m,\u001b[0m\u001b[0mmask\u001b[0m\u001b[0;34m=\u001b[0m\u001b[0mmask\u001b[0m\u001b[0;34m,\u001b[0m\u001b[0;34m**\u001b[0m\u001b[0mkwargs\u001b[0m\u001b[0;34m)\u001b[0m\u001b[0;34m\u001b[0m\u001b[0;34m\u001b[0m\u001b[0m\n\u001b[0m\u001b[1;32m    146\u001b[0m \u001b[0;34m\u001b[0m\u001b[0m\n\u001b[1;32m    147\u001b[0m \u001b[0;32mdef\u001b[0m \u001b[0mindex_open\u001b[0m\u001b[0;34m(\u001b[0m\u001b[0mvar\u001b[0m\u001b[0;34m,\u001b[0m\u001b[0midx\u001b[0m\u001b[0;34m)\u001b[0m\u001b[0;34m:\u001b[0m\u001b[0;34m\u001b[0m\u001b[0;34m\u001b[0m\u001b[0m\n",
      "\u001b[0;32m~/.local/lib/python3.7/site-packages/hepi/plot.py\u001b[0m in \u001b[0;36mvplot\u001b[0;34m(x, y, label, xaxis, yaxis, logy, yscale, interpolate, plot_data, data_color, mask, fill, data_fmt, fmt, **kwargs)\u001b[0m\n\u001b[1;32m    178\u001b[0m         \u001b[0;31m#print(vx,vy)\u001b[0m\u001b[0;34m\u001b[0m\u001b[0;34m\u001b[0m\u001b[0;34m\u001b[0m\u001b[0m\n\u001b[1;32m    179\u001b[0m         spl = make_interp_spline(\n\u001b[0;32m--> 180\u001b[0;31m             vx, splot.unv(vy), k=3)  # type: BSpline\n\u001b[0m\u001b[1;32m    181\u001b[0m         \u001b[0mpower_smooth\u001b[0m \u001b[0;34m=\u001b[0m \u001b[0mspl\u001b[0m\u001b[0;34m(\u001b[0m\u001b[0mxnew\u001b[0m\u001b[0;34m)\u001b[0m\u001b[0;34m\u001b[0m\u001b[0;34m\u001b[0m\u001b[0m\n\u001b[1;32m    182\u001b[0m     \u001b[0;32mif\u001b[0m \u001b[0mfill\u001b[0m\u001b[0;34m:\u001b[0m\u001b[0;34m\u001b[0m\u001b[0;34m\u001b[0m\u001b[0m\n",
      "\u001b[0;32m/usr/lib/python3.7/site-packages/scipy/interpolate/_bsplines.py\u001b[0m in \u001b[0;36mmake_interp_spline\u001b[0;34m(x, y, k, t, bc_type, axis, check_finite)\u001b[0m\n\u001b[1;32m    815\u001b[0m     \u001b[0;32mif\u001b[0m \u001b[0mnt\u001b[0m \u001b[0;34m-\u001b[0m \u001b[0mn\u001b[0m \u001b[0;34m!=\u001b[0m \u001b[0mnleft\u001b[0m \u001b[0;34m+\u001b[0m \u001b[0mnright\u001b[0m\u001b[0;34m:\u001b[0m\u001b[0;34m\u001b[0m\u001b[0;34m\u001b[0m\u001b[0m\n\u001b[1;32m    816\u001b[0m         raise ValueError(\"The number of derivatives at boundaries does not \"\n\u001b[0;32m--> 817\u001b[0;31m                          \"match: expected %s, got %s+%s\" % (nt-n, nleft, nright))\n\u001b[0m\u001b[1;32m    818\u001b[0m \u001b[0;34m\u001b[0m\u001b[0m\n\u001b[1;32m    819\u001b[0m     \u001b[0;31m# set up the LHS: the collocation matrix + derivatives at boundaries\u001b[0m\u001b[0;34m\u001b[0m\u001b[0;34m\u001b[0m\u001b[0;34m\u001b[0m\u001b[0m\n",
      "\u001b[0;31mValueError\u001b[0m: The number of derivatives at boundaries does not match: expected 3, got 0+0"
     ]
    },
    {
     "data": {
      "image/png": "[encoded data removed]",
      "text/plain": [
       "<Figure size 432x576 with 2 Axes>"
      ]
     },
     "metadata": {
      "needs_background": "light"
     },
     "output_type": "display_data"
    }
   ],
   "source": [
    "for run_plot in [False ]:\n",
    "    for scenario in [\"scenarioB_mod.in\"]:\n",
    "        ppps = [2000002 ]\n",
    "        for p in ppps:\n",
    "            dp = {}\n",
    "            if p in [2000004,1000004]:\n",
    "                pdfs= [(\"CT18NLO\",\"CT18NLO\"),  ]\n",
    "            else:\n",
    "                pdfs= [(\"CT18NLO\",\"CT18NLO\"),]\n",
    "            for lo_pdf,nlo_pdf in pdfs:\n",
    "                i = hepi.Input(hepi.Order.LO, 13000, p, 1000022, scenario, lo_pdf, nlo_pdf, 1., 1.,precision=0.1,max_iters=10)\n",
    "\n",
    "                li = hepi.mass_scan([i], p, np.linspace(1000, 3000, 1), diff_L_R=100)\n",
    "                # li = hepi.seven_point_scan(li)\n",
    "                li = hepi.pdf_scan(li)\n",
    "                li = hepi.change_where(li, {\"max_iters\":20}, pdfset_nlo=0)\n",
    "\n",
    "                dl = rs.run(li, False, False, run_plot,True)\n",
    "\n",
    "                if not run_plot:\n",
    "                    dl = hepi.pdf_error(li,dl)\n",
    "                    #dl = hepi.scale_error(li,dl)\n",
    "                    #dl = hepi.combine_errors(dl)\n",
    "                    dp[nlo_pdf] = dl\n",
    "\n",
    "                    hepi.mass_and_K_plot(dl,li,p,pdf=True,plot_data=True,fill=True)\n",
    "                    plt.savefig(input.get_output_dir()+ get_job_name()+\"_mass_and_K_\" + nlo_pdf + \"_\" + str(p)+ \"_\" +str(scenario) + \".pdf\",bbox_inches = 'tight', pad_inches = 0)\n",
    "\n",
    "                    hepi.mass_and_ratio_plot(dl,li,p,pdf=True,plot_data=True,fill=True)\n",
    "                    plt.savefig(input.get_output_dir()+ get_job_name()+\"_mass_and_ratio_\" + nlo_pdf + \"_\" + str(p)+ \"_\" +str(scenario) + \".pdf\",bbox_inches = 'tight', pad_inches = 0)\n",
    "\n",
    "                    #hepi.tex_table(dl,\"mass_\"+str(p),input.get_output_dir() + get_job_name()+\"_mass\" + str(p)+  \"_\"+ str(nlo_pdf) + \"_\" +str(scenario) + \".tex\")\n",
    "            if not run_plot:\n",
    "                plot.data([],[],init=True,color='k')\n",
    "                cs = plt.rcParams['axes.prop_cycle'].by_key()['color']\n",
    "                ci = 0\n",
    "                for l,n in pdfs:\n",
    "                    mask = dp[n][\"NLO_PLUS_NLL_PDF\"] != np.array(None)\n",
    "                    nmask = dp[pdfs[0][1]][\"NLO_PLUS_NLL_PDF\"] != np.array(None)\n",
    "                    hepi.vplot(hepi.get_mass(dp[n],p)[mask],dp[n][\"NLO_PLUS_NLL\"][mask]/plot.unv(dp[pdfs[0][1]][\"NLO_PLUS_NLL\"][nmask]),yaxis=\"Ratio\",fill=False,interpolate=True,plot_data=False,label=n.replace('_','').replace('as','').upper(), xaxis=\"$m_{\"+hepi.get_name(p) + \"}$ [GeV]\",logy=False,data_color=cs[ci])\n",
    "                    hepi.vplot(hepi.get_mass(dp[n],p)[mask],dp[n][\"NLO_PLUS_NLL_PDF\"][mask]/plot.unv(dp[pdfs[0][1]][\"NLO_PLUS_NLL\"][nmask]),yaxis=\"Ratio\",fill=True,interpolate=False,plot_data=False,label=\"\", xaxis=\"$m_{\"+hepi.get_name(p) + \"}$ [GeV]\",logy=False,data_color=cs[ci])\n",
    "                    ci = ci +1\n",
    "                hepi.title(plt.gca(),li[0],scenario=scenario[0:8]+ \" \" + scenario[8])\n",
    "                plt.savefig(input.get_output_dir()+ get_job_name()+\"_pdfs_ratio_\" + \"_\" + str(p)+ \"_\" +str(scenario) + \".pdf\",bbox_inches = 'tight', pad_inches = 0)\n",
    "\n",
    "                    \n",
    "    wait()"
   ]
  },
  {
   "cell_type": "code",
   "execution_count": null,
   "metadata": {},
   "outputs": [],
   "source": []
  }
 ],
 "metadata": {
  "kernelspec": {
   "display_name": "Python 3",
   "language": "python",
   "name": "python3"
  },
  "language_info": {
   "codemirror_mode": {
    "name": "ipython",
    "version": 3
   },
   "file_extension": ".py",
   "mimetype": "text/x-python",
   "name": "python",
   "nbconvert_exporter": "python",
   "pygments_lexer": "ipython3",
   "version": "3.7.9"
  }
 },
 "nbformat": 4,
 "nbformat_minor": 4
}
