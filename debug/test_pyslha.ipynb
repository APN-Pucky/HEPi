{
 "cells": [
  {
   "cell_type": "markdown",
   "id": "fcca5058",
   "metadata": {},
   "source": [
    "# pyslha comparison"
   ]
  },
  {
   "cell_type": "code",
   "execution_count": 4,
   "id": "b583970e",
   "metadata": {},
   "outputs": [
    {
     "name": "stdout",
     "output_type": "stream",
     "text": [
      "0.1.8.9+dirty\n",
      "~/git/resummino_release\n"
     ]
    }
   ],
   "source": [
    "import hepi\n",
    "print(hepi.__version__)\n",
    "import smpl\n",
    "import numpy as np\n",
    "import hepi.resummino as rs\n",
    "import hepi.util as util\n",
    "import matplotlib.pyplot as plt\n",
    "rs.set_path(\"~/git/resummino_release\")\n",
    "print (rs.get_path())"
   ]
  },
  {
   "cell_type": "code",
   "execution_count": 5,
   "id": "7d048757",
   "metadata": {},
   "outputs": [],
   "source": [
    "params = [\n",
    "    \"mastercode_with_gm2.in\",\n",
    "]\n",
    "pss = [    \n",
    "      (1000022,1000022),\n",
    "     ]"
   ]
  },
  {
   "cell_type": "code",
   "execution_count": 6,
   "id": "ed7216a4",
   "metadata": {},
   "outputs": [
    {
     "name": "stdout",
     "output_type": "stream",
     "text": [
      "Running: 1 jobs\n"
     ]
    },
    {
     "data": {
      "text/plain": [
       "0    (9.721+/-0.008)e-06\n",
       "Name: NLO, dtype: object"
      ]
     },
     "execution_count": 6,
     "metadata": {},
     "output_type": "execute_result"
    }
   ],
   "source": [
    "for pa,pb in pss:\n",
    "    for param in params:\n",
    "        i = hepi.Input(hepi.Order.NLO,13000,pa,pb,param,\"cteq6l1\",\"cteq66\",1., 1.,id=\"5\")\n",
    "        #i = hepi.Input(hepi.Order.NLO,13000,pa,pb,param,\"CT14lo\",\"CT14lo\",1., 1.,model_path=model_path,id=\"5\")\n",
    "        li = [i]\n",
    "        li = hepi.mass_scan([i],pa, np.linspace(2.48758955E+02,2.48758955E+02,1))\n",
    "        rs_dl = rs.run(li,noskip=False)\n",
    "rs_dl[\"NLO\"]"
   ]
  },
  {
   "cell_type": "code",
   "execution_count": 7,
   "id": "a74a3e82",
   "metadata": {},
   "outputs": [
    {
     "name": "stdout",
     "output_type": "stream",
     "text": [
      "Running: 1 jobs\n"
     ]
    },
    {
     "data": {
      "text/plain": [
       "0    (9.721+/-0.008)e-06\n",
       "Name: NLO, dtype: object"
      ]
     },
     "execution_count": 7,
     "metadata": {},
     "output_type": "execute_result"
    }
   ],
   "source": [
    "for pa,pb in pss:\n",
    "    for param in params:\n",
    "        i = hepi.Input(hepi.Order.NLO,13000,pa,pb,param,\"cteq6l1\",\"cteq66\",1., 1.,id=\"5\")\n",
    "        #i = hepi.Input(hepi.Order.NLO,13000,pa,pb,param,\"CT14lo\",\"CT14lo\",1., 1.,model_path=model_path,id=\"5\")\n",
    "        li = [i]\n",
    "        #li = hepi.mass_scan([i],pa, np.linspace(2.4876e2,2.4876e2,1))\n",
    "        rs_dl = rs.run(li,noskip=False)\n",
    "rs_dl[\"NLO\"]"
   ]
  },
  {
   "cell_type": "code",
   "execution_count": null,
   "id": "949b48eb",
   "metadata": {},
   "outputs": [],
   "source": []
  },
  {
   "cell_type": "code",
   "execution_count": null,
   "id": "02b72a93",
   "metadata": {},
   "outputs": [],
   "source": []
  }
 ],
 "metadata": {
  "kernelspec": {
   "display_name": "Python 3 (ipykernel)",
   "language": "python",
   "name": "python3"
  },
  "language_info": {
   "codemirror_mode": {
    "name": "ipython",
    "version": 3
   },
   "file_extension": ".py",
   "mimetype": "text/x-python",
   "name": "python",
   "nbconvert_exporter": "python",
   "pygments_lexer": "ipython3",
   "version": "3.9.13"
  }
 },
 "nbformat": 4,
 "nbformat_minor": 5
}
