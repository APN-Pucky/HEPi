{
 "cells": [
  {
   "cell_type": "code",
   "execution_count": 1,
   "metadata": {},
   "outputs": [
    {
     "name": "stdout",
     "output_type": "stream",
     "text": [
      "~/git/resummino_ug_to_UX_vNLO/\n"
     ]
    }
   ],
   "source": [
    "import hepi\n",
    "import smpl\n",
    "import hepi.resummino as rs\n",
    "import numpy as np\n",
    "import matplotlib.pyplot as plt\n",
    "rs.set_path(\"~/git/resummino_ug_to_UX_vNLO/\")\n",
    "print (rs.get_path())"
   ]
  },
  {
   "cell_type": "code",
   "execution_count": 3,
   "metadata": {},
   "outputs": [
    {
     "name": "stdout",
     "output_type": "stream",
     "text": [
      "FAILED  0.054765+/-0.000023 None None ./output/e839d50362427b94c889619b30aaea3526344ff761814cbeb5b666a07d2e1eff.out\n",
      "FAILED  0.045386+/-0.000019 None None ./output/8c3f28b7f6fb5999ae01685d4d3a7b15667e96960062c234068e9857d767682d.out\n",
      "FAILED  0.038779+/-0.000016 None None ./output/92fbe3d2adebc804cdc783293d11481961bc42185ead74959ca5b3932fece4d8.out\n",
      "FAILED  0.033889+/-0.000014 None None ./output/3f37e7865cbbf62685f59d5a13b351427692b64da6250ae76bbbd6a755f5035b.out\n",
      "FAILED  0.030109+/-0.000012 None None ./output/10e3384e41e6792e4ef5c92bc52e3dc670770bc06d6378d20a0e79b88f8a120a.out\n",
      "FAILED  0.044365+/-0.000018 None None ./output/fe5dc715b6f1eca799ec4f8176033e24a553a09a9f394d1ffa7802d0a13483a4.out\n",
      "FAILED  0.036767+/-0.000015 None None ./output/354c70498395e3b25a666f1299b1ab5d4af0942b73d7aa7be2b0794657c15575.out\n",
      "FAILED  0.024391+/-0.000010 None None ./output/d844ef42c922ce8500e7b55269ad1921ed5e1c0f4949af0b3edcea4b823508d5.out\n",
      "FAILED  0.036794+/-0.000015 None None ./output/72115188120475815455535448560356f3effdbad5b14fe7e2505b0ac61fec33.out\n",
      "FAILED  0.026053+/-0.000011 None None ./output/e920ef1312287e84cbdcd9ee0b4afdc5d6d3b413cc9c1b3bbfa4e2a765b2396e.out\n",
      "FAILED  0.020229+/-0.000008 None None ./output/9ac6e59c7863d809e78ee56fdd5b7c4cf18de7d1cae5e73b44a4b14f53590643.out\n",
      "FAILED  0.031108+/-0.000013 None None ./output/8f662e027738fd839eb907ec64a2a52614be15922a1d096f56abb28aa9dbc3d5.out\n",
      "FAILED  0.019250+/-0.000008 None None ./output/c33b2b16a1e824d6a4fafd177c9f4f572e6a32e1fd6283ef728bfd66b5a44056.out\n",
      "FAILED  0.017102+/-0.000007 None None ./output/7478751362ede9f87e41baaedea9e58e9be26ca4097b9c72e3eb316db03cf718.out\n",
      "FAILED  0.026718+/-0.000011 None None ./output/a1b15d98ed99cd660d99a10e5f0ec53e9a1920212ed3cdda1eb9249b35065bcb.out\n",
      "FAILED  0.022142+/-0.000009 None None ./output/658390c434b54081ad924e02e97cce31ff17e5ddb45cd935084894b0eda648cc.out\n",
      "FAILED  0.018919+/-0.000008 None None ./output/60aa19dcafae158530c5796b4b3f93bccae8f94664a8f02f151118d1a52753be.out\n",
      "FAILED  0.016533+/-0.000007 None None ./output/a4bfb09a9dc4bead230ca7f4d333fa8b034078224658131151f09c288484843c.out\n",
      "FAILED  0.014689+/-0.000006 None None ./output/2fbb9a7e4d2d9c4a56c5a6a1fce1c12104c660e75566b77ef0b7c3bf0fbfcab1.out\n"
     ]
    }
   ],
   "source": [
    "for run_plot in [True]:\n",
    "    for scenario in [\"sps1a1000_mod.in\"]:\n",
    "        for lo_pdf,nlo_pdf in [(\"cteq66\",\"cteq66\")]:\n",
    "            for p in [2000002]:\n",
    "                li = [hepi.Input(hepi.Order.NLO_PLUS_NLL, 7000, p, 1000022, scenario, lo_pdf, nlo_pdf, 1., 1.,precision=0.001,max_iters=50)]\n",
    "\n",
    "                #li = hepi.scan(li,\"mu_f\",np.logspace(np.log10(1/10.), np.log10(10), 4))\n",
    "                #li = hepi.scan(li,\"mu_r\",np.logspace(np.log10(1/10.), np.log10(10), 4))\n",
    "                li = hepi.scale_scan(li,5,10.)\n",
    "                #li = hepi.pdf_scan(li)\n",
    "\n",
    "                dl = rs.run(li, False, False, run_plot,True)\n",
    "\n",
    "                if not run_plot:\n",
    "                    #dl = hepi.pdf_error(li,dl)\n",
    "                    hepi.scale_plot(dl,[\"lo\",\"nlo\",\"nlo_plus_nll\"],seven_point_band=True)\n",
    "                    plt.savefig(input.get_output_dir() +\"scale_variation2_\" + str(p) + \"_\" + str(nlo_pdf) + \"_\" + str(scenario) + \".pdf\")\n"
   ]
  },
  {
   "cell_type": "code",
   "execution_count": null,
   "metadata": {},
   "outputs": [],
   "source": [
    "for pdf in [\"CT14lo\",\"cteq6l1\"]:\n",
    "    for p in [2000002,1000002]:\n",
    "        i = hepi.Input(hepi.Order.NLO,7000,p,1000022,\"sps1a1000.in\",pdf,pdf,1., 1.)\n",
    "        li = hepi.mass_scan([i],p, np.linspace(300,950,16),diff_L_R=20)\n",
    "        dll = rs.run(li,True,False)\n",
    "        #hepi.mass_plot(dll,p,\"lo\",yscale=1000,yaxis=\"$\\sigma$ [fb]\")\n",
    "        #hepi.mass_plot(dll,p,\"vnlo\",yscale=1000,yaxis=\"$\\sigma$ [fb]\")\n",
    "        #hepi.mass_vplot(dll,p,(dll[\"vnlo\"]+dll[\"p_plus_k\"]),yscale=1000,logy=True,yaxis=\"$\\sigma$ [fb]\",label=\"vlno+P+K\")\n",
    "        \n",
    "        #hepi.mass_plot(dll,p,\"rnlo\",yscale=1000,yaxis=\"$\\sigma$ [fb]\")\n",
    "        #hepi.mass_plot(dll,p,\"p_plus_k\",yscale=1000,yaxis=\"$\\sigma$ [fb]\")\n",
    "        #hepi.mass_plot(dll,p,\"nlo\",yscale=1000,yaxis=\"$\\sigma$ [fb]\")\n",
    "        #hepi.mass_plot(dll,p,\"nlo_plus_nll\",yscale=1000,yaxis=\"$\\sigma$ [fb]\",label=\"nlo+nll\")\n",
    "        \n",
    "        #plt.savefig(\"comp_\" + pdf + \"_\" + str(p) + \".pdf\")\n",
    "        #smpl.plot.show()\n",
    "        hepi.mass_plot(dll,p,\"K_lo\",logy=False,label=\"lo\")\n",
    "        hepi.mass_vplot(dll,p,((dll[\"vnlo\"]+dll[\"p_plus_k\"]+dll[\"lo\"])/dll[\"lo\"]),logy=False,label=\"vnlo+P+K\")\n",
    "        #hepi.mass_vplot(dll,p,((dll[\"vnlo\"]+dll[\"lo\"])/dll[\"lo\"]),logy=False,label=\"$K_\\\\mathrm{vnlo}$\")\n",
    "        hepi.mass_vplot(dll,p,((dll[\"rnlo\"]+dll[\"lo\"])/dll[\"lo\"]),logy=False,label=\"rnlo\")\n",
    "\n",
    "        hepi.mass_plot(dll,p,\"K_nlo\",logy=False,yaxis=\"$K_\\\\mathrm{nlo}$\",label=\"nlo\")\n",
    "        hepi.mass_plot(dll,p,\"K_nlo_plus_nll\",logy=False,yaxis=\"$K$\",label=\"nlo+nll\")\n",
    "        \n",
    "        #plt.savefig(\"K_comp_\" + pdf + \"_\" + str(p) + \".pdf\")\n",
    "        #smpl.plot.show()\n",
    "\n",
    "        #print(pdf, p, \"done\" )\n",
    "    \n",
    " "
   ]
  },
  {
   "cell_type": "code",
   "execution_count": null,
   "metadata": {},
   "outputs": [],
   "source": []
  }
 ],
 "metadata": {
  "kernelspec": {
   "display_name": "Python 3",
   "language": "python",
   "name": "python3"
  },
  "language_info": {
   "codemirror_mode": {
    "name": "ipython",
    "version": 3
   },
   "file_extension": ".py",
   "mimetype": "text/x-python",
   "name": "python",
   "nbconvert_exporter": "python",
   "pygments_lexer": "ipython3",
   "version": "3.7.9"
  }
 },
 "nbformat": 4,
 "nbformat_minor": 4
}
