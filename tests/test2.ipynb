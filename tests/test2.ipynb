{
 "cells": [
  {
   "cell_type": "code",
   "execution_count": 1,
   "metadata": {
    "scrolled": true
   },
   "outputs": [
    {
     "name": "stdout",
     "output_type": "stream",
     "text": [
      "~/git/resummino_ug_to_UX_vNLO/\n",
      "skipskipok\n"
     ]
    }
   ],
   "source": [
    "import hepi\n",
    "import smpl\n",
    "import hepi.resummino as rs\n",
    "rs.set_path(\"~/git/resummino_ug_to_UX_vNLO/\")\n",
    "print (rs.get_path())\n",
    "rs.run([hepi.Input(hepi.Order.LO,13000,2000002,1000022,\"mastercode.in\",\"CT14lo\",\"CT14lo\",1., 1.),\n",
    "       hepi.Input(hepi.Order.LO,13000,2000002,1000022,\"mastercode.in\",\"cteq6l1\",\"cteq6l1\",1., 1.)])\n",
    "print(\"ok\")"
   ]
  },
  {
   "cell_type": "code",
   "execution_count": null,
   "metadata": {},
   "outputs": [],
   "source": [
    "i = hepi.Input(hepi.Order.NLO,7000,2000002,1000022,\"sps1a1000.in\",\"CT14lo\",\"CT14lo\",1., 1.)\n",
    "li = hepi.mass_scan([i],2000002, range(300,1000,50),diff_L_R=20)\n",
    "dl = rs.run(li,True)\n",
    "hepi.mass_plot(dl,2000002,\"lo\")\n",
    "hepi.mass_plot(dl,2000002,\"vnlo\")\n",
    "hepi.mass_plot(dl,2000002,\"rnlo\")"
   ]
  },
  {
   "cell_type": "code",
   "execution_count": null,
   "metadata": {},
   "outputs": [],
   "source": [
    "i = hepi.Input(hepi.Order.NLO,7000,1000002,1000022,\"sps1a1000.in\",\"CT14lo\",\"CT14lo\",1., 1.)\n",
    "li = hepi.mass_scan([i],1000002, range(300,1000,50),diff_L_R=20)\n",
    "dl = rs.run(li,True)\n",
    "hepi.mass_plot(dl,1000002,\"lo\")\n",
    "hepi.mass_plot(dl,1000002,\"nlo\")"
   ]
  },
  {
   "cell_type": "code",
   "execution_count": null,
   "metadata": {},
   "outputs": [],
   "source": []
  }
 ],
 "metadata": {
  "kernelspec": {
   "display_name": "Python 3",
   "language": "python",
   "name": "python3"
  },
  "language_info": {
   "codemirror_mode": {
    "name": "ipython",
    "version": 3
   },
   "file_extension": ".py",
   "mimetype": "text/x-python",
   "name": "python",
   "nbconvert_exporter": "python",
   "pygments_lexer": "ipython3",
   "version": "3.8.7"
  }
 },
 "nbformat": 4,
 "nbformat_minor": 4
}
