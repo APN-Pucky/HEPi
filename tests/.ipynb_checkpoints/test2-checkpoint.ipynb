{
 "cells": [
  {
   "cell_type": "code",
   "execution_count": 1,
   "metadata": {
    "scrolled": true
   },
   "outputs": [
    {
     "name": "stdout",
     "output_type": "stream",
     "text": [
      "~/git/resummino_ug_to_UX_vNLO/\n",
      "skipskipok\n"
     ]
    }
   ],
   "source": [
    "import hepi\n",
    "import smpl\n",
    "import hepi.resummino as rs\n",
    "rs.set_path(\"~/git/resummino_ug_to_UX_vNLO/\")\n",
    "print (rs.get_path())\n",
    "rs.run([hepi.Input(hepi.Order.LO,13000,2000002,1000022,\"mastercode.in\",\"CT14lo\",\"CT14lo\",1., 1.),\n",
    "       hepi.Input(hepi.Order.LO,13000,2000002,1000022,\"mastercode.in\",\"cteq6l1\",\"cteq6l1\",1., 1.)])\n",
    "print(\"ok\")"
   ]
  },
  {
   "cell_type": "code",
   "execution_count": 2,
   "metadata": {},
   "outputs": [
    {
     "ename": "KeyError",
     "evalue": "'rnlo'",
     "output_type": "error",
     "traceback": [
      "\u001b[0;31m---------------------------------------------------------------------------\u001b[0m",
      "\u001b[0;31mKeyError\u001b[0m                                  Traceback (most recent call last)",
      "\u001b[0;32m<ipython-input-2-f75f844bab97>\u001b[0m in \u001b[0;36m<module>\u001b[0;34m\u001b[0m\n\u001b[1;32m      4\u001b[0m \u001b[0mhepi\u001b[0m\u001b[0;34m.\u001b[0m\u001b[0mmass_plot\u001b[0m\u001b[0;34m(\u001b[0m\u001b[0mdl\u001b[0m\u001b[0;34m,\u001b[0m\u001b[0;36m2000002\u001b[0m\u001b[0;34m,\u001b[0m\u001b[0;34m\"lo\"\u001b[0m\u001b[0;34m)\u001b[0m\u001b[0;34m\u001b[0m\u001b[0;34m\u001b[0m\u001b[0m\n\u001b[1;32m      5\u001b[0m \u001b[0mhepi\u001b[0m\u001b[0;34m.\u001b[0m\u001b[0mmass_plot\u001b[0m\u001b[0;34m(\u001b[0m\u001b[0mdl\u001b[0m\u001b[0;34m,\u001b[0m\u001b[0;36m2000002\u001b[0m\u001b[0;34m,\u001b[0m\u001b[0;34m\"vnlo\"\u001b[0m\u001b[0;34m)\u001b[0m\u001b[0;34m\u001b[0m\u001b[0;34m\u001b[0m\u001b[0m\n\u001b[0;32m----> 6\u001b[0;31m \u001b[0mhepi\u001b[0m\u001b[0;34m.\u001b[0m\u001b[0mmass_plot\u001b[0m\u001b[0;34m(\u001b[0m\u001b[0mdl\u001b[0m\u001b[0;34m,\u001b[0m\u001b[0;36m2000002\u001b[0m\u001b[0;34m,\u001b[0m\u001b[0;34m\"rnlo\"\u001b[0m\u001b[0;34m)\u001b[0m\u001b[0;34m\u001b[0m\u001b[0;34m\u001b[0m\u001b[0m\n\u001b[0m",
      "\u001b[0;32m~/.local/lib/python3.8/site-packages/hepi/plot.py\u001b[0m in \u001b[0;36mmass_plot\u001b[0;34m(dict_list, part, y)\u001b[0m\n\u001b[1;32m     22\u001b[0m \u001b[0;34m\u001b[0m\u001b[0m\n\u001b[1;32m     23\u001b[0m \u001b[0;32mdef\u001b[0m \u001b[0mmass_plot\u001b[0m\u001b[0;34m(\u001b[0m\u001b[0mdict_list\u001b[0m\u001b[0;34m,\u001b[0m \u001b[0mpart\u001b[0m\u001b[0;34m,\u001b[0m \u001b[0my\u001b[0m\u001b[0;34m)\u001b[0m\u001b[0;34m:\u001b[0m\u001b[0;34m\u001b[0m\u001b[0;34m\u001b[0m\u001b[0m\n\u001b[0;32m---> 24\u001b[0;31m     plot(dict_list, \"mass_\" + str(part), y, label=None,\n\u001b[0m\u001b[1;32m     25\u001b[0m          xaxis=\"$M_{\"+get_name(part) + \"}$ [GeV]\", yaxis=\"$\\sigma$ [pb]\", logy=True)\n\u001b[1;32m     26\u001b[0m \u001b[0;34m\u001b[0m\u001b[0m\n",
      "\u001b[0;32m~/.local/lib/python3.8/site-packages/hepi/plot.py\u001b[0m in \u001b[0;36mplot\u001b[0;34m(dict_list, x, y, label, xaxis, yaxis, logy)\u001b[0m\n\u001b[1;32m     31\u001b[0m         \u001b[0mlabel\u001b[0m \u001b[0;34m=\u001b[0m \u001b[0my\u001b[0m\u001b[0;34m\u001b[0m\u001b[0;34m\u001b[0m\u001b[0m\n\u001b[1;32m     32\u001b[0m     \u001b[0mvx\u001b[0m \u001b[0;34m=\u001b[0m \u001b[0mdict_list\u001b[0m\u001b[0;34m[\u001b[0m\u001b[0mx\u001b[0m\u001b[0;34m]\u001b[0m\u001b[0;34m\u001b[0m\u001b[0;34m\u001b[0m\u001b[0m\n\u001b[0;32m---> 33\u001b[0;31m     \u001b[0mvy\u001b[0m \u001b[0;34m=\u001b[0m \u001b[0mdict_list\u001b[0m\u001b[0;34m[\u001b[0m\u001b[0my\u001b[0m\u001b[0;34m]\u001b[0m\u001b[0;34m\u001b[0m\u001b[0;34m\u001b[0m\u001b[0m\n\u001b[0m\u001b[1;32m     34\u001b[0m     \u001b[0mxnew\u001b[0m \u001b[0;34m=\u001b[0m \u001b[0mnp\u001b[0m\u001b[0;34m.\u001b[0m\u001b[0mlinspace\u001b[0m\u001b[0;34m(\u001b[0m\u001b[0mvx\u001b[0m\u001b[0;34m[\u001b[0m\u001b[0;36m0\u001b[0m\u001b[0;34m]\u001b[0m\u001b[0;34m,\u001b[0m \u001b[0mvx\u001b[0m\u001b[0;34m[\u001b[0m\u001b[0;34m-\u001b[0m\u001b[0;36m1\u001b[0m\u001b[0;34m]\u001b[0m\u001b[0;34m,\u001b[0m \u001b[0;36m300\u001b[0m\u001b[0;34m,\u001b[0m\u001b[0;34m)\u001b[0m\u001b[0;34m\u001b[0m\u001b[0;34m\u001b[0m\u001b[0m\n\u001b[1;32m     35\u001b[0m     spl = make_interp_spline(\n",
      "\u001b[0;31mKeyError\u001b[0m: 'rnlo'"
     ]
    },
    {
     "data": {
      "image/png": "[encoded data removed]",
      "text/plain": [
       "<Figure size 432x288 with 1 Axes>"
      ]
     },
     "metadata": {
      "needs_background": "light"
     },
     "output_type": "display_data"
    }
   ],
   "source": [
    "i = hepi.Input(hepi.Order.NLO,7000,2000002,1000022,\"sps1a1000.in\",\"CT14lo\",\"CT14lo\",1., 1.)\n",
    "li = hepi.mass_scan([i],2000002, range(300,1000,50),diff_L_R=20)\n",
    "dl = rs.run(li,True)\n",
    "hepi.mass_plot(dl,2000002,\"lo\")\n",
    "hepi.mass_plot(dl,2000002,\"vnlo\")\n",
    "hepi.mass_plot(dl,2000002,\"rnlo\")"
   ]
  },
  {
   "cell_type": "code",
   "execution_count": null,
   "metadata": {},
   "outputs": [],
   "source": [
    "i = hepi.Input(hepi.Order.NLO,7000,1000002,1000022,\"sps1a1000.in\",\"CT14lo\",\"CT14lo\",1., 1.)\n",
    "li = hepi.mass_scan([i],1000002, range(300,1000,50),diff_L_R=20)\n",
    "dl = rs.run(li,True)\n",
    "hepi.mass_plot(dl,1000002,\"lo\")\n",
    "hepi.mass_plot(dl,1000002,\"nlo\")"
   ]
  },
  {
   "cell_type": "code",
   "execution_count": null,
   "metadata": {},
   "outputs": [],
   "source": []
  }
 ],
 "metadata": {
  "kernelspec": {
   "display_name": "Python 3",
   "language": "python",
   "name": "python3"
  },
  "language_info": {
   "codemirror_mode": {
    "name": "ipython",
    "version": 3
   },
   "file_extension": ".py",
   "mimetype": "text/x-python",
   "name": "python",
   "nbconvert_exporter": "python",
   "pygments_lexer": "ipython3",
   "version": "3.8.7"
  }
 },
 "nbformat": 4,
 "nbformat_minor": 4
}
