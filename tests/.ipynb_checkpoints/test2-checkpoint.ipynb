{
 "cells": [
  {
   "cell_type": "code",
   "execution_count": 1,
   "metadata": {
    "scrolled": true
   },
   "outputs": [
    {
     "name": "stdout",
     "output_type": "stream",
     "text": [
      "~/git/resummino_ug_to_UX_vNLO/\n",
      "skipskipok\n"
     ]
    }
   ],
   "source": [
    "import hepi\n",
    "import smpl\n",
    "import hepi.resummino as rs\n",
    "rs.set_path(\"~/git/resummino_ug_to_UX_vNLO/\")\n",
    "print (rs.get_path())\n",
    "rs.run([hepi.Input(hepi.Order.LO,13000,2000002,1000022,\"mastercode.in\",\"CT14lo\",\"CT14lo\",1., 1.),\n",
    "       hepi.Input(hepi.Order.LO,13000,2000002,1000022,\"mastercode.in\",\"cteq6l1\",\"cteq6l1\",1., 1.)])\n",
    "print(\"ok\")"
   ]
  },
  {
   "cell_type": "code",
   "execution_count": null,
   "metadata": {},
   "outputs": [],
   "source": [
    "i = hepi.Input(hepi.Order.LO,13000,2000002,1000022,\"mastercode.in\",\"CT14lo\",\"CT14lo\",1., 1.)\n",
    "li = hepi.scan([i],\"energy\", range(7000,15000,500))\n",
    "dl = rs.run(li,True)\n",
    "hepi.plot(dl,\"energy\",\"lo\")"
   ]
  },
  {
   "cell_type": "code",
   "execution_count": null,
   "metadata": {},
   "outputs": [],
   "source": [
    "hepi.plot(dl,\"energy\",\"K_lo\",logy=False)"
   ]
  }
 ],
 "metadata": {
  "kernelspec": {
   "display_name": "Python 3",
   "language": "python",
   "name": "python3"
  },
  "language_info": {
   "codemirror_mode": {
    "name": "ipython",
    "version": 3
   },
   "file_extension": ".py",
   "mimetype": "text/x-python",
   "name": "python",
   "nbconvert_exporter": "python",
   "pygments_lexer": "ipython3",
   "version": "3.8.7"
  }
 },
 "nbformat": 4,
 "nbformat_minor": 4
}
