{
 "cells": [
  {
   "cell_type": "code",
   "execution_count": 1,
   "metadata": {},
   "outputs": [
    {
     "name": "stdout",
     "output_type": "stream",
     "text": [
      "/opt/MG5_aMC_v2_7_0/\n",
      "~/git/resummino_ug_to_UX_vNLO/\n"
     ]
    }
   ],
   "source": [
    "import hepi\n",
    "import smpl\n",
    "import numpy as np\n",
    "import hepi.madgraph as mg\n",
    "import matplotlib.pyplot as plt\n",
    "import hepi.resummino as rs\n",
    "import time\n",
    "print (mg.get_path())\n",
    "rs.set_path(\"~/git/resummino_ug_to_UX_vNLO/\")\n",
    "print (rs.get_path())"
   ]
  },
  {
   "cell_type": "code",
   "execution_count": null,
   "metadata": {},
   "outputs": [
    {
     "name": "stdout",
     "output_type": "stream",
     "text": [
      "2210.1591106666665\n",
      "Running: 15 jobs\n",
      "RESTART (2.5240+/-0.0009)e-10 None None ./output/5098d46a54d0701dc3d0eac385e9048ead701c6eeab7d54255eb7fad1fffd85c.out\n",
      "RESTART (1.4572+/-0.0005)e-10 None None ./output/18d4a52c4ea055e8a5546a3dc6c57b3839b58ad19e220ad89335825df029405d.out\n",
      "RESTART (7.7210+/-0.0027)e-11 None None ./output/7c6133684972041cd967e3d115235cb2814d16cac074c8d9b575043d1c7f7e7a.out\n",
      "RESTART (4.0337+/-0.0014)e-11 None None ./output/69d1e84545e328ca052de4f0abac34f3e00910fba4f7f34fd5184bd18e9cb6ae.out\n",
      "RESTART (2.1131+/-0.0007)e-11 None None ./output/7e92f9d8b2daf49412442de03353f129836f44faf07977101a13fb973896517e.out\n",
      "RESTART (1.1147+/-0.0004)e-11 None None ./output/401c309c6f7b055a9c4656689cfbffb2e5a70c2727b70371de85bdb116aa56c8.out\n",
      "RESTART (5.9231+/-0.0021)e-12 None None ./output/9b7cda9dea72fc0f0b3aedb152a4e6ee2800500f89e5292bb0b8a8d2a34d8525.out\n",
      "RESTART (3.1665+/-0.0011)e-12 None None ./output/d43ae156ad44aa78a5921dab0dbcebbc4e6df6d16fa6b78ef33ec6dd75fecf6c.out\n",
      "RESTART (1.7002+/-0.0006)e-12 None None ./output/718872fb59c12398485d81e71c7bb4e1330844864aa9d089be31c1357baf366e.out\n",
      "RESTART (9.1515+/-0.0033)e-13 None None ./output/5b02dc5c48586ffee9c060cc2e125594b76685ff64e7c4cbc6f4205e5a56fa98.out\n",
      "RESTART (4.9284+/-0.0018)e-13 None None ./output/bc6b60d03683cf4bb5e505718629be58b0c5978e6a95ae1500ef058fb3b2e91c.out\n",
      "RESTART (2.6505+/-0.0010)e-13 None None ./output/76557e43547c5445fa234d13e6c041b6daf023de94a39d51a4df76007de467af.out\n",
      "RESTART (1.4210+/-0.0005)e-13 None None ./output/2916c5b1794f8bb9665fa753d8fb0f224a513812cbb413f4a1869abd2e046a0a.out\n",
      "RESTART (7.5798+/-0.0028)e-14 None None ./output/107f1213ab6a440b63173033fb9f76c18724a64e9725cf6446344af6dc089119.out\n",
      "RESTART (4.0158+/-0.0015)e-14 None None ./output/b4ba00db1c28767d35dafa3284174bc1275d938b39a36aa25bc840566f333573.out\n"
     ]
    },
    {
     "data": {
      "text/html": [
       "<style>\n",
       "</style>\n",
       "<div class=\"enlighten\">\n",
       "  <div class=\"enlighten-bar\">\n",
       "    <pre>./output/5098d46a54d0701dc3d0eac385e9048ead701c6eeab7d54255eb7fad1fffd85c.out                       </pre>\n",
       "  </div>\n",
       "  <div class=\"enlighten-bar\">\n",
       "    <pre> ... ./output/5098d46a54d0701dc3d0eac385e9048ead701c6eeab7d54255eb7fad1fffd85c.out Stage: real light quark emission - dipole - (onshell) Status 48:   5.3869e-08      1.69e-09    6.70e-01</pre>\n",
       "  </div>\n",
       "  <div class=\"enlighten-bar\">\n",
       "    <pre> ... ./output/18d4a52c4ea055e8a5546a3dc6c57b3839b58ad19e220ad89335825df029405d.out Stage: real light quark emission - dipole - (onshell) Status 47:   3.1485e-08      1.37e-09    1.09e+00</pre>\n",
       "  </div>\n",
       "  <div class=\"enlighten-bar\">\n",
       "    <pre> ... ./output/7c6133684972041cd967e3d115235cb2814d16cac074c8d9b575043d1c7f7e7a.out Stage: real light quark emission - dipole - (onshell) Status 48:   1.1965e-08      8.54e-10    8.72e-01</pre>\n",
       "  </div>\n",
       "  <div class=\"enlighten-bar\">\n",
       "    <pre> ... ./output/69d1e84545e328ca052de4f0abac34f3e00910fba4f7f34fd5184bd18e9cb6ae.out Stage: real light quark emission - dipole - (onshell) Status 48:   4.0628e-09      5.34e-10    8.90e-01</pre>\n",
       "  </div>\n",
       "  <div class=\"enlighten-bar\">\n",
       "    <pre> ... ./output/7e92f9d8b2daf49412442de03353f129836f44faf07977101a13fb973896517e.out Stage: real light quark emission - dipole - (onshell) Status 49:   1.2177e-09      3.19e-10    7.41e-01</pre>\n",
       "  </div>\n",
       "  <div class=\"enlighten-bar\">\n",
       "    <pre> ... ./output/401c309c6f7b055a9c4656689cfbffb2e5a70c2727b70371de85bdb116aa56c8.out Stage: real light quark emission - dipole - (onshell) Status 50:   -5.7443e-10      1.66e-10    4.16e-01</pre>\n",
       "  </div>\n",
       "  <div class=\"enlighten-bar\">\n",
       "    <pre> ... ./output/9b7cda9dea72fc0f0b3aedb152a4e6ee2800500f89e5292bb0b8a8d2a34d8525.out Stage: real light quark emission - dipole - (onshell) Status 50:   -5.7723e-10      1.03e-10    1.00e+00</pre>\n",
       "  </div>\n",
       "  <div class=\"enlighten-bar\">\n",
       "    <pre> ... ./output/d43ae156ad44aa78a5921dab0dbcebbc4e6df6d16fa6b78ef33ec6dd75fecf6c.out Stage: real light quark emission - dipole - (onshell) Status 49:   -7.8201e-10      6.17e-11    6.56e-01</pre>\n",
       "  </div>\n",
       "  <div class=\"enlighten-bar\">\n",
       "    <pre> ... ./output/718872fb59c12398485d81e71c7bb4e1330844864aa9d089be31c1357baf366e.out Stage: real light quark emission - dipole - (onshell) Status 48:   -6.0950e-10      3.47e-11    7.86e-01</pre>\n",
       "  </div>\n",
       "  <div class=\"enlighten-bar\">\n",
       "    <pre> ... ./output/5b02dc5c48586ffee9c060cc2e125594b76685ff64e7c4cbc6f4205e5a56fa98.out Stage: real light quark emission - dipole - (onshell) Status 48:   -4.2306e-10      1.98e-11    1.42e+00</pre>\n",
       "  </div>\n",
       "  <div class=\"enlighten-bar\">\n",
       "    <pre> ... ./output/bc6b60d03683cf4bb5e505718629be58b0c5978e6a95ae1500ef058fb3b2e91c.out Stage: real light quark emission - dipole - (onshell) Status 48:   -2.9405e-10      1.11e-11    8.76e-01</pre>\n",
       "  </div>\n",
       "  <div class=\"enlighten-bar\">\n",
       "    <pre> ... ./output/76557e43547c5445fa234d13e6c041b6daf023de94a39d51a4df76007de467af.out Stage: real light quark emission - dipole - (onshell) Status 48:   -1.9760e-10      5.96e-12    1.12e+00</pre>\n",
       "  </div>\n",
       "  <div class=\"enlighten-bar\">\n",
       "    <pre> ... ./output/2916c5b1794f8bb9665fa753d8fb0f224a513812cbb413f4a1869abd2e046a0a.out Stage: real light quark emission - dipole - (onshell) Status 48:   -1.2495e-10      3.36e-12    9.48e-01</pre>\n",
       "  </div>\n",
       "  <div class=\"enlighten-bar\">\n",
       "    <pre> ... ./output/107f1213ab6a440b63173033fb9f76c18724a64e9725cf6446344af6dc089119.out Stage: real light quark emission - dipole - (onshell) Status 48:   -7.7569e-11      1.82e-12    1.22e+00</pre>\n",
       "  </div>\n",
       "  <div class=\"enlighten-bar\">\n",
       "    <pre> ... ./output/b4ba00db1c28767d35dafa3284174bc1275d938b39a36aa25bc840566f333573.out Stage: real light quark emission - dipole - (onshell) Status 48:   -4.8437e-11      1.06e-12    4.70e-01</pre>\n",
       "  </div>\n",
       "</div>\n"
      ],
      "text/plain": [
       "<IPython.core.display.HTML object>"
      ]
     },
     "metadata": {},
     "output_type": "display_data"
    }
   ],
   "source": [
    "for run_plot in [False ]:\n",
    "    for scenario in [\"scenarioB.in\"]:\n",
    "        for lo_pdf,nlo_pdf in [(\"CT18NLO\",\"CT18NLO\")]:\n",
    "            for p in [2000002, 1000002]:\n",
    "                li = [hepi.Input(hepi.Order.NLO, 13000, p, 1000022, scenario, lo_pdf, nlo_pdf, 1., 1.,precision=0.001,max_iters=50)]\n",
    "\n",
    "                li = hepi.scan_invariant_mass(li, 4000, 15)\n",
    "                print(li[0].invariant_mass)\n",
    "                #li = hepi.seven_point_scan(li)\n",
    "\n",
    "                dl = rs.run(li, False, True)\n",
    "\n",
    "                if not run_plot:\n",
    "                    \n",
    "                    plot.data([],[],init=True)\n",
    "                    hepi.plot(dl, \"invariant_mass\", \"lo\", logy=False, label=\"lo\",xaxis=\"$M$\",yaxis=\"$d\\\\sigma/dM$ [pb/GeV]\")\n",
    "                    plot.show()\n",
    "                    hepi.plot(dl, \"invariant_mass\", \"nlo\", logy=False, label=\"nlo\",xaxis=\"$M$\",yaxis=\"$d\\\\sigma/dM$ [pb/GeV]\")\n",
    "                    plot.show()\n",
    "                    #hepi.plot(dl, \"invariant_mass\", \"nlo_plus_nll\", logy=False, label=\"nlo+nll\",xaxis=\"$M$\",yaxis=\"$d\\\\sigma/dM$ [pb/GeV]\")\n",
    "                    #plot.show()\n",
    "                    plt.savefig(input.get_output_dir() + \"inv_mass_\" + str(p) + \"_\" + str(nlo_pdf) + \"_\" +str(scenario) + \".pdf\")\n",
    "                                                                                                                                                            "
   ]
  },
  {
   "cell_type": "code",
   "execution_count": null,
   "metadata": {},
   "outputs": [],
   "source": []
  }
 ],
 "metadata": {
  "kernelspec": {
   "display_name": "Python 3",
   "language": "python",
   "name": "python3"
  },
  "language_info": {
   "codemirror_mode": {
    "name": "ipython",
    "version": 3
   },
   "file_extension": ".py",
   "mimetype": "text/x-python",
   "name": "python",
   "nbconvert_exporter": "python",
   "pygments_lexer": "ipython3",
   "version": "3.7.9"
  }
 },
 "nbformat": 4,
 "nbformat_minor": 4
}
