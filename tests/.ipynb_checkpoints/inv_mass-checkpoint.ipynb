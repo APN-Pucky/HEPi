{
 "cells": [
  {
   "cell_type": "code",
   "execution_count": null,
   "metadata": {},
   "outputs": [],
   "source": [
    "for run_plot in [False ]:\n",
    "    for scenario in [\"scenarioB.in\",\"scenarioA.in\",]:\n",
    "        for lo_pdf,nlo_pdf in [(\"CT18NLO\",\"CT18NLO\"), (\"MSHT20nlo_as118\",\"MSHT20nlo_as118\"), (\"NNPDF40_lo_as_01180\",\"NNPDF40_nlo_as_01180\")]:\n",
    "            for p in [2000002, 1000002]:\n",
    "                li = [hepi.Input(hepi.Order.NLO_PLUS_NLL, 13000, p, 1000022, scenario, lo_pdf, nlo_pdf, 1., 1.,precision=0.001,max_iters=50)]\n",
    "\n",
    "                massmin = 2000 if scenario == \"scenarioB.in\" else 4500\n",
    "                li = hepi.scan_invariant_mass(li, np.linspace(massmin , massmin + 4000, 15))\n",
    "                li = hepi.seven_point_scan(li)\n",
    "\n",
    "                dl = rs.run(li, False, False)\n",
    "\n",
    "                if not run_plot:\n",
    "                    dl = hepi.scale_error(li,dl)\n",
    "                    mask = dl[\"lo_scale\"]!= np.array(None)\n",
    "                    print(dl[\"nlo_scale\"][mask])\n",
    "                    print(dl[\"nlo_plus_nll_scale\"][mask])\n",
    "                    plot.data([],[],init=True)\n",
    "                    hepi.plot(dl, \"invariant_mass\", \"lo_scale\", logy=False, label=\"lo\",mask= mask,xaxis=\"$M$\",yaxis=\"$d\\\\sigma/dM$ [pb/GeV]\")\n",
    "                    hepi.plot(dl, \"invariant_mass\", \"nlo_scale\", logy=False, label=\"nlo\",mask= mask,xaxis=\"$M$\",yaxis=\"$d\\\\sigma/dM$ [pb/GeV]\")\n",
    "                    hepi.plot(dl, \"invariant_mass\", \"nlo_plus_nll_scale\", logy=False, label=\"nlo+nll\",mask= mask,xaxis=\"$M$\",yaxis=\"$d\\\\sigma/dM$ [pb/GeV]\")\n",
    "\n",
    "                    plt.savefig(input.get_output_dir() + \"inv_mass_\" + str(p) + \"_\" + str(nlo_pdf) + \"_\" +str(scenario) + \".pdf\")\n",
    "    wait()\n",
    "\n",
    "~                                                                                                                                                              "
   ]
  }
 ],
 "metadata": {
  "kernelspec": {
   "display_name": "Python 3",
   "language": "python",
   "name": "python3"
  },
  "language_info": {
   "codemirror_mode": {
    "name": "ipython",
    "version": 3
   },
   "file_extension": ".py",
   "mimetype": "text/x-python",
   "name": "python",
   "nbconvert_exporter": "python",
   "pygments_lexer": "ipython3",
   "version": "3.7.9"
  }
 },
 "nbformat": 4,
 "nbformat_minor": 4
}
