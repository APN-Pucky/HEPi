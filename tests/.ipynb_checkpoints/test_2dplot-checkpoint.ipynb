{
 "cells": [
  {
   "cell_type": "code",
   "execution_count": 1,
   "metadata": {},
   "outputs": [],
   "source": [
    "import hepi\n",
    "import smpl\n",
    "import numpy as np\n",
    "import hepi.resummino as rs\n",
    "rs.set_path(\"~/git/resummino_ug_to_UX_vNLO/\")\n",
    "print (rs.get_path())"
   ]
  },
  {
   "cell_type": "code",
   "execution_count": 3,
   "metadata": {},
   "outputs": [
    {
     "data": {
      "image/png": "[encoded data removed]",
      "text/plain": [
       "<Figure size 432x288 with 2 Axes>"
      ]
     },
     "metadata": {
      "needs_background": "light"
     },
     "output_type": "display_data"
    }
   ],
   "source": [
    "dl  ={ \n",
    "    \"lo\" : np.array([0.1,1,2,3]),\n",
    "    \"mx\" : np.array([0,1,0,1]),\n",
    "    \"my\" : np.array([0,0,1,1]),\n",
    "}\n",
    "hepi.mapplot(dl,\"my\",\"mx\",\"lo\",zaxis=\"$\\\\sigma_{\\mathrm{lo}}$\")"
   ]
  },
  {
   "cell_type": "code",
   "execution_count": null,
   "metadata": {},
   "outputs": [],
   "source": [
    "i = hepi.Input(hepi.Order.LO,7000,2000002,1000022,\"sps1a1000.in\",\"CT14lo\",\"CT14lo\",1., 1.)\n",
    "li = hepi.mass_scan([i],2000002, range(300,1000,50),diff_L_R=20)\n",
    "li = hepi.mass_scan(li,1000022, range(300,1000,50))\n",
    "dll = rs.run(li,True)\n",
    "hepi.mass_mapplot(dll,2000002,1000022,\"lo\",zscale=1000,zaxis=\"$\\sigma$ [fb]\")"
   ]
  }
 ],
 "metadata": {
  "kernelspec": {
   "display_name": "Python 3",
   "language": "python",
   "name": "python3"
  },
  "language_info": {
   "codemirror_mode": {
    "name": "ipython",
    "version": 3
   },
   "file_extension": ".py",
   "mimetype": "text/x-python",
   "name": "python",
   "nbconvert_exporter": "python",
   "pygments_lexer": "ipython3",
   "version": "3.8.7"
  }
 },
 "nbformat": 4,
 "nbformat_minor": 4
}
