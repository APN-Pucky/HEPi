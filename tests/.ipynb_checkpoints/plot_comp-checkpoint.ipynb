{
 "cells": [
  {
   "cell_type": "code",
   "execution_count": 1,
   "metadata": {},
   "outputs": [
    {
     "name": "stdout",
     "output_type": "stream",
     "text": [
      "~/git/resummino_ug_to_UX_vNLO/\n"
     ]
    }
   ],
   "source": [
    "import hepi\n",
    "import smpl\n",
    "import hepi.resummino as rs\n",
    "import numpy as np\n",
    "import matplotlib.pyplot as plt\n",
    "rs.set_path(\"~/git/resummino_ug_to_UX_vNLO/\")\n",
    "print (rs.get_path())"
   ]
  },
  {
   "cell_type": "code",
   "execution_count": null,
   "metadata": {},
   "outputs": [
    {
     "name": "stdout",
     "output_type": "stream",
     "text": [
      "FAILED  0.054765+/-0.000023 None None ./output/e839d50362427b94c889619b30aaea3526344ff761814cbeb5b666a07d2e1eff.out\n",
      "FAILED  0.042931+/-0.000018 None None ./output/8351128d636e7f664721f433fff88363da77dd5af412e3ad1e9a38b30711f2b7.out\n",
      "FAILED  0.035373+/-0.000015 None None ./output/ef4c23ea220cda2102e275401ca2a25516edf7fa1336cb1a2a87855f1c40b900.out\n",
      "FAILED  0.030109+/-0.000012 None None ./output/10e3384e41e6792e4ef5c92bc52e3dc670770bc06d6378d20a0e79b88f8a120a.out\n",
      "FAILED  0.041584+/-0.000017 None None ./output/d1c4ac6f8a90b3608e150cd9df4d030b117ad60679b17e077b28e6b41c55ca01.out\n",
      "FAILED  0.032598+/-0.000014 None None ./output/e60e474ab2e467c7cf4ac27e67070ee9e56969c9da9048f4d425f0b02fa8bace.out\n",
      "FAILED  0.022862+/-0.000009 None None ./output/7f3d46112b8a9d66f386f8d0ec74b29ec84e2cfa1f9bbd0b35f50965a84dc78a.out\n",
      "FAILED  0.032835+/-0.000014 None None ./output/2f668c32e6f99ea51d415909b7b739a56578b97327fb0fb83b32c1314caf35c3.out\n",
      "FAILED  0.021208+/-0.000009 None None ./output/e4e1f1be40f85d2e3f3e16b18c92f5e21b8b47ad2277c95c4f0a44990d316f14.out\n",
      "FAILED  0.018052+/-0.000008 None None ./output/cf053bcbdc0a34d1256f5ce0c3e56bb62a2502d10000bd0c71f6b13e7fd8d993.out\n",
      "FAILED  0.026718+/-0.000011 None None ./output/a1b15d98ed99cd660d99a10e5f0ec53e9a1920212ed3cdda1eb9249b35065bcb.out\n",
      "FAILED  0.020945+/-0.000009 None None ./output/920ce4050fd9a3dd4003de73762fd01a52fb5cb0fe0ec7465fa90c1be13b3ae9.out\n",
      "FAILED  0.017257+/-0.000007 None None ./output/89c18d161ab2fb587cc5ca9a8de5afa5809b7c4cfdbd84d22a12c7932374e2d3.out\n",
      "FAILED  None None None ./output/2fbb9a7e4d2d9c4a56c5a6a1fce1c12104c660e75566b77ef0b7c3bf0fbfcab1.out\n"
     ]
    }
   ],
   "source": [
    "for run_plot in [True,False]:\n",
    "    for scenario in [\"sps1a1000_mod.in\"]:\n",
    "        for lo_pdf,nlo_pdf in [(\"cteq66\",\"cteq66\")]:\n",
    "            for p in [2000002]:\n",
    "                li = [hepi.Input(hepi.Order.NLO_PLUS_NLL, 7000, p, 1000022, scenario, lo_pdf, nlo_pdf, 1., 1.,precision=0.001,max_iters=50)]\n",
    "\n",
    "                #li = hepi.scan(li,\"mu_f\",np.logspace(np.log10(1/10.), np.log10(10), 4))\n",
    "                #li = hepi.scan(li,\"mu_r\",np.logspace(np.log10(1/10.), np.log10(10), 4))\n",
    "                li = hepi.scale_scan(li,5,10.)\n",
    "                #li = hepi.pdf_scan(li)\n",
    "\n",
    "                dl = rs.run(li, False, False, run_plot,True)\n",
    "\n",
    "                if not run_plot:\n",
    "                    #dl = hepi.pdf_error(li,dl)\n",
    "                    hepi.scale_plot(dl,[\"lo\",\"nlo\",\"nlo_plus_nll\"],seven_point_band=True)\n",
    "                    plt.savefig(input.get_output_dir() +\"scale_variation2_\" + str(p) + \"_\" + str(nlo_pdf) + \"_\" + str(scenario) + \".pdf\")\n"
   ]
  },
  {
   "cell_type": "code",
   "execution_count": null,
   "metadata": {},
   "outputs": [],
   "source": [
    "for pdf in [\"CT14lo\",\"cteq6l1\"]:\n",
    "    for p in [2000002,1000002]:\n",
    "        i = hepi.Input(hepi.Order.NLO,7000,p,1000022,\"sps1a1000.in\",pdf,pdf,1., 1.)\n",
    "        li = hepi.mass_scan([i],p, np.linspace(300,950,16),diff_L_R=20)\n",
    "        dll = rs.run(li,True,False)\n",
    "        #hepi.mass_plot(dll,p,\"lo\",yscale=1000,yaxis=\"$\\sigma$ [fb]\")\n",
    "        #hepi.mass_plot(dll,p,\"vnlo\",yscale=1000,yaxis=\"$\\sigma$ [fb]\")\n",
    "        #hepi.mass_vplot(dll,p,(dll[\"vnlo\"]+dll[\"p_plus_k\"]),yscale=1000,logy=True,yaxis=\"$\\sigma$ [fb]\",label=\"vlno+P+K\")\n",
    "        \n",
    "        #hepi.mass_plot(dll,p,\"rnlo\",yscale=1000,yaxis=\"$\\sigma$ [fb]\")\n",
    "        #hepi.mass_plot(dll,p,\"p_plus_k\",yscale=1000,yaxis=\"$\\sigma$ [fb]\")\n",
    "        #hepi.mass_plot(dll,p,\"nlo\",yscale=1000,yaxis=\"$\\sigma$ [fb]\")\n",
    "        #hepi.mass_plot(dll,p,\"nlo_plus_nll\",yscale=1000,yaxis=\"$\\sigma$ [fb]\",label=\"nlo+nll\")\n",
    "        \n",
    "        #plt.savefig(\"comp_\" + pdf + \"_\" + str(p) + \".pdf\")\n",
    "        #smpl.plot.show()\n",
    "        hepi.mass_plot(dll,p,\"K_lo\",logy=False,label=\"lo\")\n",
    "        hepi.mass_vplot(dll,p,((dll[\"vnlo\"]+dll[\"p_plus_k\"]+dll[\"lo\"])/dll[\"lo\"]),logy=False,label=\"vnlo+P+K\")\n",
    "        #hepi.mass_vplot(dll,p,((dll[\"vnlo\"]+dll[\"lo\"])/dll[\"lo\"]),logy=False,label=\"$K_\\\\mathrm{vnlo}$\")\n",
    "        hepi.mass_vplot(dll,p,((dll[\"rnlo\"]+dll[\"lo\"])/dll[\"lo\"]),logy=False,label=\"rnlo\")\n",
    "\n",
    "        hepi.mass_plot(dll,p,\"K_nlo\",logy=False,yaxis=\"$K_\\\\mathrm{nlo}$\",label=\"nlo\")\n",
    "        hepi.mass_plot(dll,p,\"K_nlo_plus_nll\",logy=False,yaxis=\"$K$\",label=\"nlo+nll\")\n",
    "        \n",
    "        #plt.savefig(\"K_comp_\" + pdf + \"_\" + str(p) + \".pdf\")\n",
    "        #smpl.plot.show()\n",
    "\n",
    "        #print(pdf, p, \"done\" )\n",
    "    \n",
    " "
   ]
  },
  {
   "cell_type": "code",
   "execution_count": null,
   "metadata": {},
   "outputs": [],
   "source": []
  }
 ],
 "metadata": {
  "kernelspec": {
   "display_name": "Python 3",
   "language": "python",
   "name": "python3"
  },
  "language_info": {
   "codemirror_mode": {
    "name": "ipython",
    "version": 3
   },
   "file_extension": ".py",
   "mimetype": "text/x-python",
   "name": "python",
   "nbconvert_exporter": "python",
   "pygments_lexer": "ipython3",
   "version": "3.7.9"
  }
 },
 "nbformat": 4,
 "nbformat_minor": 4
}
