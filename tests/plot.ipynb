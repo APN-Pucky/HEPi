{
 "cells": [
  {
   "cell_type": "code",
   "execution_count": 3,
   "metadata": {},
   "outputs": [
    {
     "name": "stdout",
     "output_type": "stream",
     "text": [
      "~/git/resummino_ug_to_UX_vNLO/\n"
     ]
    }
   ],
   "source": [
    "import hepi\n",
    "import smpl\n",
    "import hepi.resummino as rs\n",
    "import numpy as np\n",
    "rs.set_path(\"~/git/resummino_ug_to_UX_vNLO/\")\n",
    "print (rs.get_path())"
   ]
  },
  {
   "cell_type": "code",
   "execution_count": null,
   "metadata": {},
   "outputs": [
    {
     "data": {
      "text/html": [
       "<style>\n",
       "</style>\n",
       "<div class=\"enlighten\">\n",
       "  <div class=\"enlighten-bar\">\n",
       "    <pre>./output/order_Order.NLO_PLUS_NLL_energy_7000_particle1_2000002_particle2_1000022_slha_sps1a1000.in_2000002_300.0_pdf_lo_CT14lo_pdf_nlo_CT14lo_mu_f_1.0_mu_r_1.0_id__mass_2000002_300.0.out</pre>\n",
       "  </div>\n",
       "  <div class=\"enlighten-bar\">\n",
       "    <pre> ... 300.0 ... 300.0.outStage: threshold resummation (unimproved nll) - expansion Status 38:   4.3675e-03      5.18e-04    7.22e-01</pre>\n",
       "  </div>\n",
       "  <div class=\"enlighten-bar\">\n",
       "    <pre> ... 343.3333333333333 ... 343.3333333333333.outStage: threshold resummation (unimproved nll) - expansion Status 38:   2.1356e-03      1.23e-04    7.72e-01</pre>\n",
       "  </div>\n",
       "  <div class=\"enlighten-bar\">\n",
       "    <pre> ... 386.6666666666667 ... 386.6666666666667.out         Stage: DONE          Status DONE:          </pre>\n",
       "  </div>\n",
       "  <div class=\"enlighten-bar\">\n",
       "    <pre> ... 430.0 ... 430.0.out                 Stage: DONE                  Status DONE:                  </pre>\n",
       "  </div>\n",
       "  <div class=\"enlighten-bar\">\n",
       "    <pre> ... 473.33333333333337 ... 473.33333333333337.out        Stage: DONE          Status DONE:         </pre>\n",
       "  </div>\n",
       "  <div class=\"enlighten-bar\">\n",
       "    <pre> ... 516.6666666666667 ... 516.6666666666667.out         Stage: DONE          Status DONE:          </pre>\n",
       "  </div>\n",
       "  <div class=\"enlighten-bar\">\n",
       "    <pre> ... 560.0 ... 560.0.out                 Stage: DONE                  Status DONE:                  </pre>\n",
       "  </div>\n",
       "  <div class=\"enlighten-bar\">\n",
       "    <pre> ... 603.3333333333334 ... 603.3333333333334.out         Stage: DONE          Status DONE:          </pre>\n",
       "  </div>\n",
       "  <div class=\"enlighten-bar\">\n",
       "    <pre> ... 646.6666666666667 ... 646.6666666666667.outStage: threshold resummation (unimproved nll) - expansion Status 38:   1.0205e-04      2.55e-05    9.95e-01</pre>\n",
       "  </div>\n",
       "  <div class=\"enlighten-bar\">\n",
       "    <pre> ... 690.0 ... 690.0.out                 Stage: DONE                  Status DONE:                  </pre>\n",
       "  </div>\n",
       "  <div class=\"enlighten-bar\">\n",
       "    <pre> ... 733.3333333333334 ... 733.3333333333334.out         Stage: DONE          Status DONE:          </pre>\n",
       "  </div>\n",
       "  <div class=\"enlighten-bar\">\n",
       "    <pre> ... 776.6666666666667 ... 776.6666666666667.out         Stage: DONE          Status DONE:          </pre>\n",
       "  </div>\n",
       "  <div class=\"enlighten-bar\">\n",
       "    <pre> ... 820.0 ... 820.0.out                 Stage: DONE                  Status DONE:                  </pre>\n",
       "  </div>\n",
       "  <div class=\"enlighten-bar\">\n",
       "    <pre> ... 863.3333333333334 ... 863.3333333333334.out         Stage: DONE          Status DONE:          </pre>\n",
       "  </div>\n",
       "  <div class=\"enlighten-bar\">\n",
       "    <pre> ... 906.6666666666667 ... 906.6666666666667.out         Stage: DONE          Status DONE:          </pre>\n",
       "  </div>\n",
       "  <div class=\"enlighten-bar\">\n",
       "    <pre> ... 950.0 ... 950.0.out                 Stage: DONE                  Status DONE:                  </pre>\n",
       "  </div>\n",
       "</div>\n"
      ],
      "text/plain": [
       "<IPython.core.display.HTML object>"
      ]
     },
     "metadata": {},
     "output_type": "display_data"
    }
   ],
   "source": [
    "for pdf in [\"CT14lo\",\"cteq6l1\"]:\n",
    "    for p in [2000002,1000002]:\n",
    "        i = hepi.Input(hepi.Order.NLO_PLUS_NLL,7000,p,1000022,\"sps1a1000.in\",pdf,pdf,1., 1.)\n",
    "        li = hepi.mass_scan([i],p, np.linspace(300,950,16),diff_L_R=20)\n",
    "        dll = rs.run(li,True)\n",
    "        hepi.mass_plot(dll,p,\"lo\",yscale=1000,yaxis=\"$\\sigma$ [fb]\")\n",
    "        hepi.mass_plot(dll,p,\"vnlo\",yscale=1000,yaxis=\"$\\sigma$ [fb]\")\n",
    "        hepi.mass_plot(dll,p,\"rnlo\",yscale=1000,yaxis=\"$\\sigma$ [fb]\")\n",
    "        hepi.mass_plot(dll,p,\"p_plus_k\",yscale=1000,yaxis=\"$\\sigma$ [fb]\")\n",
    "        hepi.mass_plot(dll,p,\"nlo\",yscale=1000,yaxis=\"$\\sigma$ [fb]\")\n",
    "        hepi.mass_plot(dll,p,\"nlo_plus_nll\",yscale=1000,yaxis=\"$\\sigma$ [fb]\")\n",
    "        hepi.mass_vplot(dll,p,(dll[\"vnlo\"]+dll[\"p_plus_k\"]),yscale=1000,logy=True,label=\"vlno+p+k\")\n",
    "        smpl.plot.show()\n",
    "        hepi.mass_vplot(dll,p,((dll[\"vnlo\"]+dll[\"p_plus_k\"]+dll[\"lo\"])/dll[\"lo\"]),logy=False,label=\"$K_\\\\mathrm{vnlo}$\")\n",
    "        hepi.mass_vplot(dll,p,((dll[\"vnlo\"]+dll[\"lo\"])/dll[\"lo\"]),logy=False,label=\"$K_\\\\mathrm{vnlo}$\")\n",
    "        hepi.mass_vplot(dll,p,((dll[\"rnlo\"]+dll[\"lo\"])/dll[\"lo\"]),logy=False,label=\"$K_\\\\mathrm{rnlo}$\")\n",
    "        hepi.mass_plot(dll,p,\"K_lo\",logy=False,yaxis=\"$K_\\\\mathrm{lo}$\")\n",
    "        hepi.mass_plot(dll,p,\"K_nlo\",logy=False,yaxis=\"$K_\\\\mathrm{nlo}$\")\n",
    "        hepi.mass_plot(dll,p,\"K_nlo_plus_nll\",logy=False,yaxis=\"$K_\\\\mathrm{nlo+nll}$\")\n",
    "        smpl.plot.show()\n",
    "\n",
    "        print(pdf, p, \"done\" )\n",
    "    \n",
    " "
   ]
  },
  {
   "cell_type": "code",
   "execution_count": null,
   "metadata": {},
   "outputs": [],
   "source": []
  }
 ],
 "metadata": {
  "kernelspec": {
   "display_name": "Python 3",
   "language": "python",
   "name": "python3"
  },
  "language_info": {
   "codemirror_mode": {
    "name": "ipython",
    "version": 3
   },
   "file_extension": ".py",
   "mimetype": "text/x-python",
   "name": "python",
   "nbconvert_exporter": "python",
   "pygments_lexer": "ipython3",
   "version": "3.8.7"
  }
 },
 "nbformat": 4,
 "nbformat_minor": 4
}
