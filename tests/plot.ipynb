{
 "cells": [
  {
   "cell_type": "code",
   "execution_count": 1,
   "metadata": {},
   "outputs": [
    {
     "name": "stdout",
     "output_type": "stream",
     "text": [
      "~/git/resummino_ug_to_UX_vNLO/\n"
     ]
    }
   ],
   "source": [
    "import hepi\n",
    "import smpl\n",
    "import hepi.resummino as rs\n",
    "import numpy as np\n",
    "rs.set_path(\"~/git/resummino_ug_to_UX_vNLO/\")\n",
    "print (rs.get_path())"
   ]
  },
  {
   "cell_type": "code",
   "execution_count": null,
   "metadata": {},
   "outputs": [],
   "source": [
    "for pdf in [\"CT14lo\",\"cteq6l1\"]:\n",
    "    for p in [2000002,1000002]:\n",
    "    i = hepi.Input(hepi.Order.NLO,7000,2000002,1000022,\"sps1a1000.in\",pdf,pdf,1., 1.)\n",
    "    li = hepi.mass_scan([i],2000002, np.linspace(300,950,16),diff_L_R=20)\n",
    "    dll = rs.run(li,True)\n",
    "    hepi.mass_plot(dll,2000002,\"lo\",yscale=1000,yaxis=\"$\\sigma$ [fb]\")\n",
    "    hepi.mass_plot(dll,2000002,\"vnlo\",yscale=1000,yaxis=\"$\\sigma$ [fb]\")\n",
    "    hepi.mass_plot(dll,2000002,\"rnlo\",yscale=1000,yaxis=\"$\\sigma$ [fb]\")\n",
    "    hepi.mass_plot(dll,2000002,\"p_plus_k\",yscale=1000,yaxis=\"$\\sigma$ [fb]\")\n",
    "    hepi.mass_plot(dll,2000002,\"nlo\",yscale=1000,yaxis=\"$\\sigma$ [fb]\")\n",
    "    hepi.mass_vplot(dll,2000002,(dll[\"vnlo\"]+dll[\"p_plus_k\"]),yscale=1000,logy=True,label=\"vlno+p+k\")\n",
    "    smpl.plot.show()\n",
    "    hepi.mass_vplot(dll,2000002,((dll[\"vnlo\"]+dll[\"p_plus_k\"]+dll[\"lo\"])/dll[\"lo\"]),logy=False,label=\"$K_\\\\mathrm{vnlo}$\")\n",
    "    hepi.mass_vplot(dll,2000002,((dll[\"vnlo\"]+dll[\"lo\"])/dll[\"lo\"]),logy=False,label=\"$K_\\\\mathrm{vnlo}$\")\n",
    "    hepi.mass_vplot(dll,2000002,((dll[\"rnlo\"]+dll[\"lo\"])/dll[\"lo\"]),logy=False,label=\"$K_\\\\mathrm{rnlo}$\")\n",
    "    hepi.mass_plot(dll,2000002,\"K_lo\",logy=False,yaxis=\"$K_\\\\mathrm{lo}$\")\n",
    "    hepi.mass_plot(dll,2000002,\"K_nlo\",logy=False,yaxis=\"$K_\\\\mathrm{nlo}$\")\n",
    "    \n",
    "    print(pdf, p, \"\" )\n",
    "    \n",
    " "
   ]
  }
 ],
 "metadata": {
  "kernelspec": {
   "display_name": "Python 3",
   "language": "python",
   "name": "python3"
  },
  "language_info": {
   "codemirror_mode": {
    "name": "ipython",
    "version": 3
   },
   "file_extension": ".py",
   "mimetype": "text/x-python",
   "name": "python",
   "nbconvert_exporter": "python",
   "pygments_lexer": "ipython3",
   "version": "3.8.7"
  }
 },
 "nbformat": 4,
 "nbformat_minor": 4
}
