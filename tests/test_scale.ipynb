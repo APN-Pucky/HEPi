{
 "cells": [
  {
   "cell_type": "code",
   "execution_count": 1,
   "metadata": {},
   "outputs": [
    {
     "name": "stdout",
     "output_type": "stream",
     "text": [
      "~/git/resummino_ug_to_UX_vNLO/\n"
     ]
    }
   ],
   "source": [
    "import hepi\n",
    "import smpl\n",
    "import numpy as np\n",
    "import hepi.resummino as rs\n",
    "import matplotlib.pyplot as plt\n",
    "import time\n",
    "rs.set_path(\"~/git/resummino_ug_to_UX_vNLO/\")\n",
    "print (rs.get_path())"
   ]
  },
  {
   "cell_type": "code",
   "execution_count": null,
   "metadata": {
    "scrolled": false
   },
   "outputs": [
    {
     "name": "stdout",
     "output_type": "stream",
     "text": [
      "Running: 29 jobs\n",
      "skipskipskipskipskipskipskipskipskipskipskipskipskipskipskipskipskipskipskipskipskipskipskipskipskipskipskipskipskip"
     ]
    },
    {
     "data": {
      "text/html": [
       "<style>\n",
       "</style>\n",
       "<div class=\"enlighten\">\n",
       "  <div class=\"enlighten-bar\">\n",
       "    <pre>./output/f8e6c0cbf12b42c6cf91a144b1c0a2bfa5ce6de55487104279837924ff83b880.out                       </pre>\n",
       "  </div>\n",
       "</div>\n"
      ],
      "text/plain": [
       "<IPython.core.display.HTML object>"
      ]
     },
     "metadata": {},
     "output_type": "display_data"
    }
   ],
   "source": [
    "for p in [2000002]: \n",
    "    li = [hepi.Input(hepi.Order.LO,7000,p,1000022,\"sps1a1000_mod.in\",\"cteq6l1\",\"cteq66\",1., 1.)]\n",
    "    #li = hepi.scan(li,\"mu_f\",np.around(np.logspace(-1, 1, 4),2))\n",
    "    #li = hepi.scan(li,\"mu_r\",np.around(np.logspace(-1, 1, 4),2))\n",
    "    li = hepi.scale_scan(li,5,10.)\n",
    "    li = hepi.seven_point_scan(li)\n",
    "    dll = rs.run(li,False)\n",
    "    dll[\"NLO+NLL\"] = dll[\"LO\"]\n",
    "    #hepi.scale_plot(dll,[\"lo\",\"nlo\"])\n",
    "    hepi.scale_plot(dll,[\"LO\",\"NLO+NLL\"],seven_point_band=True,error=False,li=li)\n",
    "    hepi.scale_plot(dll,[\"LO\",\"LO\"],seven_point_band=True,error=False,li=li,cont=True)\n",
    "    plt.savefig(\"test.pdf\",bbox_inches = 'tight', pad_inches = 0)"
   ]
  },
  {
   "cell_type": "code",
   "execution_count": null,
   "metadata": {
    "scrolled": false
   },
   "outputs": [],
   "source": [
    "for p in [2000002]: \n",
    "    li = [hepi.Input(hepi.Order.LO,7000,p,1000022,\"sps1a1000_mod.in\",\"cteq6l1\",\"cteq66\",1., 1.)]\n",
    "    #li = hepi.scan(li,\"mu_f\",np.around(np.logspace(-1, 1, 4),2))\n",
    "    #li = hepi.scan(li,\"mu_r\",np.around(np.logspace(-1, 1, 4),2))\n",
    "    li = hepi.scale_scan(li,5,10.)\n",
    "    li = hepi.seven_point_scan(li)\n",
    "    dll = rs.run(li,False)\n",
    "    #hepi.scale_plot(dll,[\"lo\",\"nlo\"])\n",
    "    hepi.scale_plot(dll,[\"LO\",\"LO\"],seven_point_band=True,error=False,li=li)\n",
    "    hepi.scale_plot(dll,[\"LO\",\"LO\"],seven_point_band=True,error=False,li=li,cont=True)\n",
    "    plt.savefig(\"test.pdf\",bbox_inches = 'tight', pad_inches = 0)"
   ]
  },
  {
   "cell_type": "code",
   "execution_count": null,
   "metadata": {
    "scrolled": false
   },
   "outputs": [],
   "source": [
    "for p in [2000002]: \n",
    "    i = hepi.Input(hepi.Order.NLO_PLUS_NLL,13000,p,1000022,\"mastercode.in\",\"CT14lo\",\"CT14nlo\",1., 1.)\n",
    "    li = hepi.scan([i],\"mu_f\",np.around(np.logspace(-1, 1, 4),2))\n",
    "    li = hepi.scan(li,\"mu_r\",np.around(np.logspace(-1, 1, 4),2))\n",
    "    dll = rs.run(li,True)\n",
    "    #hepi.scale_plot(dll,[\"lo\",\"nlo\"])\n",
    "    hepi.scale_plot(dll,[\"lo\",\"nlo\",\"nlo_plus_nll\"])"
   ]
  },
  {
   "cell_type": "code",
   "execution_count": null,
   "metadata": {
    "scrolled": false
   },
   "outputs": [],
   "source": [
    "for p in [1000002,1000021]: \n",
    "    i = hepi.Input(hepi.Order.NLO_PLUS_NLL,13000,p,1000022,\"mastercode.in\",\"CT14lo\",\"CT14nlo\",1., 1.)\n",
    "    li = hepi.scan([i],\"mu_f\",np.around(np.logspace(-1, 1, 4),2))\n",
    "    li = hepi.scan(li,\"mu_r\",np.around(np.logspace(-1, 1, 4),2))\n",
    "    dll = rs.run(li,True)\n",
    "    #hepi.scale_plot(dll,[\"lo\",\"nlo\"])\n",
    "    hepi.scale_plot(dll,[\"lo\",\"nlo\",\"nlo_plus_nll\"])"
   ]
  },
  {
   "cell_type": "code",
   "execution_count": null,
   "metadata": {
    "scrolled": false
   },
   "outputs": [],
   "source": [
    "for p in [1000002]: \n",
    "    i = hepi.Input(hepi.Order.NLO_PLUS_NLL,13000,p,1000022,\"mastercode.in\",\"CT14lo\",\"CT14nlo\",1., 1.)\n",
    "    li = hepi.scan([i],\"mu_f\",np.around(np.logspace(-1, 1, 4),2))\n",
    "    li = hepi.scan(li,\"mu_r\",np.around(np.logspace(-1, 1, 4),2))\n",
    "    dll = rs.run(li,True)\n",
    "    #hepi.scale_plot(dll,[\"lo\",\"nlo\"])\n",
    "    hepi.scale_plot(dll,[\"lo\",\"nlo\",\"nlo_plus_nll\"])"
   ]
  },
  {
   "cell_type": "code",
   "execution_count": null,
   "metadata": {},
   "outputs": [],
   "source": [
    "for p in [1000021]: \n",
    "    i = hepi.Input(hepi.Order.NLO_PLUS_NLL,13000,p,1000022,\"mastercode.in\",\"CT14lo\",\"CT14nlo\",1., 1.)\n",
    "    li = hepi.scan([i],\"mu_f\",np.around(np.logspace(-1, 1, 4),2))\n",
    "    li = hepi.scan(li,\"mu_r\",np.around(np.logspace(-1, 1, 4),2))\n",
    "    dll = rs.run(li,False)\n",
    "    #hepi.scale_plot(dll,[\"lo\",\"nlo\"])\n",
    "    hepi.scale_plot(dll,[\"lo\",\"nlo\",\"nlo_plus_nll\"])"
   ]
  },
  {
   "cell_type": "code",
   "execution_count": null,
   "metadata": {
    "scrolled": false
   },
   "outputs": [],
   "source": [
    "# K disabled\n",
    "for p in [1000002,1000021]: \n",
    "    i = hepi.Input(hepi.Order.NLO_PLUS_NLL,13000,p,1000022,\"mastercode.in\",\"CT14lo\",\"CT14nlo\",1., 1.)\n",
    "    li = hepi.scan([i],\"mu_f\",np.around(np.logspace(-1, 1, 4),2))\n",
    "    li = hepi.scan(li,\"mu_r\",np.around(np.logspace(-1, 1, 4),2))\n",
    "    dll = rs.run(li,True)\n",
    "    #hepi.scale_plot(dll,[\"lo\",\"nlo\"])\n",
    "    hepi.scale_plot(dll,[\"lo\",\"nlo\",\"nlo_plus_nll\"])"
   ]
  },
  {
   "cell_type": "code",
   "execution_count": null,
   "metadata": {
    "scrolled": false
   },
   "outputs": [],
   "source": [
    "# P_gluon disabled\n",
    "for p in [1000002]: \n",
    "    i = hepi.Input(hepi.Order.NLO_PLUS_NLL,13000,p,1000022,\"mastercode.in\",\"CT14lo\",\"CT14nlo\",1., 1.)\n",
    "    li = hepi.scan([i],\"mu_f\",np.around(np.logspace(-1, 1, 4),2))\n",
    "    li = hepi.scan(li,\"mu_r\",np.around(np.logspace(-1, 1, 4),2))\n",
    "    dll = rs.run(li,True)\n",
    "    #hepi.scale_plot(dll,[\"lo\",\"nlo\"])\n",
    "    hepi.scale_plot(dll,[\"lo\",\"nlo\",\"nlo_plus_nll\"])"
   ]
  },
  {
   "cell_type": "code",
   "execution_count": null,
   "metadata": {},
   "outputs": [],
   "source": [
    "for p in [1000002]: \n",
    "    i = hepi.Input(hepi.Order.NLO_PLUS_NLL,13000,p,1000022,\"mastercode.in\",\"CT14lo\",\"CT14nlo\",1., 1.)\n",
    "    li = hepi.scan([i],\"mu_f\",np.around(np.logspace(-1, 1, 4),2))\n",
    "    li = hepi.scan(li,\"mu_r\",np.around(np.logspace(-1, 1, 4),2))\n",
    "    dll = rs.run(li,True)\n",
    "    #hepi.scale_plot(dll,[\"lo\",\"nlo\"])\n",
    "    hepi.scale_plot(dll,[\"lo\",\"nlo\",\"nlo_plus_nll\"])"
   ]
  },
  {
   "cell_type": "code",
   "execution_count": null,
   "metadata": {
    "scrolled": false
   },
   "outputs": [],
   "source": [
    "for p in [2000002,1000002,1000021]: \n",
    "    i = hepi.Input(hepi.Order.NLO_PLUS_NLL,13000,p,1000022,\"mastercode.in\",\"CT14lo\",\"CT14nlo\",1., 1.)\n",
    "    li = hepi.scan([i],\"mu_f\",np.around(np.logspace(-1, 1, 4),2))\n",
    "    li = hepi.scan(li,\"mu_r\",np.around(np.logspace(-1, 1, 4),2))\n",
    "    dll = rs.run(li,True)\n",
    "    #hepi.scale_plot(dll,[\"lo\",\"nlo\"])\n",
    "    hepi.scale_plot(dll,[\"lo\",\"nlo\",\"nlo_plus_nll\"])"
   ]
  },
  {
   "cell_type": "code",
   "execution_count": null,
   "metadata": {
    "scrolled": false
   },
   "outputs": [],
   "source": [
    "for p in [2000002,1000002,1000021]: \n",
    "    i = hepi.Input(hepi.Order.NLO_PLUS_NLL,7000,p,1000022,\"sps1a1000.in\",\"CT14lo\",\"CT14nlo\",1., 1.)\n",
    "    li = hepi.scan([i],\"mu_f\",np.around(np.logspace(-1, 1, 4),2))\n",
    "    li = hepi.scan(li,\"mu_r\",np.around(np.logspace(-1, 1, 4),2))\n",
    "    dll = rs.run(li,True)\n",
    "    #hepi.scale_plot(dll,[\"lo\",\"nlo\"])\n",
    "    hepi.scale_plot(dll,[\"lo\",\"nlo\",\"nlo_plus_nll\"])"
   ]
  },
  {
   "cell_type": "code",
   "execution_count": null,
   "metadata": {
    "scrolled": false
   },
   "outputs": [],
   "source": [
    "for p in [2000002,1000002,1000021]: \n",
    "    i = hepi.Input(hepi.Order.NLO_PLUS_NLL,13000,p,1000022,\"VANILLA_param_card.dat\",\"CT14lo\",\"CT14nlo\",1., 1.)\n",
    "    li = hepi.scan([i],\"mu_f\",np.around(np.logspace(-1, 1, 4),2))\n",
    "    li = hepi.scan(li,\"mu_r\",np.around(np.logspace(-1, 1, 4),2))\n",
    "    dll = rs.run(li,True)\n",
    "    #hepi.scale_plot(dll,[\"lo\",\"nlo\"])\n",
    "    hepi.scale_plot(dll,[\"lo\",\"nlo\",\"nlo_plus_nll\"])"
   ]
  },
  {
   "cell_type": "code",
   "execution_count": null,
   "metadata": {
    "scrolled": false
   },
   "outputs": [],
   "source": [
    "for p in [2000002,1000002]: \n",
    "    i = hepi.Input(hepi.Order.NLO_PLUS_NLL,13000,p,1000022,\"mastercode_swap.in\",\"CT14lo\",\"CT14nlo\",1., 1.)\n",
    "    li = hepi.scan([i],\"mu_f\",np.around(np.logspace(-1, 1, 4),2))\n",
    "    li = hepi.scan(li,\"mu_r\",np.around(np.logspace(-1, 1, 4),2))\n",
    "    dll = rs.run(li,True)\n",
    "    #hepi.scale_plot(dll,[\"lo\",\"nlo\"])\n",
    "    hepi.scale_plot(dll,[\"lo\",\"nlo\",\"nlo_plus_nll\"])"
   ]
  },
  {
   "cell_type": "code",
   "execution_count": null,
   "metadata": {
    "scrolled": false
   },
   "outputs": [],
   "source": [
    "for p in [2000002,1000002]: \n",
    "    i = hepi.Input(hepi.Order.NLO,13000,p,1000022,\"mastercode.in\",\"CT14lo\",\"CT14nlo\",1., 1.,id=\"UU\")\n",
    "    li = hepi.scan([i],\"mu_f\",np.around(np.logspace(-1, 1, 4),2))\n",
    "    li = hepi.scan(li,\"mu_r\",np.around(np.logspace(-1, 1, 4),2))\n",
    "    dll = rs.run(li,True)\n",
    "    #hepi.scale_plot(dll,[\"lo\",\"nlo\"])\n",
    "    hepi.scale_plot(dll,[\"lo\",\"nlo\"])"
   ]
  },
  {
   "cell_type": "code",
   "execution_count": null,
   "metadata": {
    "scrolled": false
   },
   "outputs": [],
   "source": [
    "for p in [2000002,1000002]: \n",
    "    i = hepi.Input(hepi.Order.NLO,13000,p,1000022,\"mastercode.in\",\"CT14lo\",\"CT14nlo\",1., 1.,id=\"UU_NOS\")\n",
    "    li = hepi.scan([i],\"mu_f\",np.around(np.logspace(-1, 1, 4),2))\n",
    "    li = hepi.scan(li,\"mu_r\",np.around(np.logspace(-1, 1, 4),2))\n",
    "    dll = rs.run(li,True)\n",
    "    #hepi.scale_plot(dll,[\"lo\",\"nlo\"])\n",
    "    hepi.scale_plot(dll,[\"lo\",\"nlo\"])"
   ]
  },
  {
   "cell_type": "code",
   "execution_count": null,
   "metadata": {
    "scrolled": false
   },
   "outputs": [],
   "source": [
    "for p in [2000002,1000002]: \n",
    "    i = hepi.Input(hepi.Order.NLO,13000,p,1000022,\"mastercode.in\",\"CT14lo\",\"CT14nlo\",1., 1.,id=\"PK\")\n",
    "    li = hepi.scan([i],\"mu_f\",np.around(np.logspace(-1, 1, 4),2))\n",
    "    li = hepi.scan(li,\"mu_r\",np.around(np.logspace(-1, 1, 4),2))\n",
    "    dll = rs.run(li,True)\n",
    "    #hepi.scale_plot(dll,[\"lo\",\"nlo\"])\n",
    "    hepi.scale_plot(dll,[\"lo\",\"nlo\"])"
   ]
  },
  {
   "cell_type": "code",
   "execution_count": null,
   "metadata": {
    "scrolled": false
   },
   "outputs": [],
   "source": [
    "for p in [2000002,1000002,1000021]: \n",
    "    i = hepi.Input(hepi.Order.NLO,13000,p,1000022,\"mastercode.in\",\"CT14lo\",\"CT14nlo\",1., 1.,id=\"VNLO\")\n",
    "    li = hepi.scan([i],\"mu_f\",np.around(np.logspace(-1, 1, 4),2))\n",
    "    li = hepi.scan(li,\"mu_r\",np.around(np.logspace(-1, 1, 4),2))\n",
    "    dll = rs.run(li,True)\n",
    "    #hepi.scale_plot(dll,[\"lo\",\"nlo\"])\n",
    "    hepi.scale_plot(dll,[\"lo\",\"nlo\"])"
   ]
  },
  {
   "cell_type": "code",
   "execution_count": null,
   "metadata": {
    "scrolled": false
   },
   "outputs": [],
   "source": [
    "for p in [2000002,1000002,]: \n",
    "    i = hepi.Input(hepi.Order.NLO,13000,p,1000022,\"mastercode.in\",\"CT14lo\",\"CT14nlo\",1., 1.,id=\"UUB\")\n",
    "    li = hepi.scan([i],\"mu_f\",np.around(np.logspace(-1, 1, 4),2))\n",
    "    li = hepi.scan(li,\"mu_r\",np.around(np.logspace(-1, 1, 4),2))\n",
    "    dll = rs.run(li,True)\n",
    "    #hepi.scale_plot(dll,[\"lo\",\"nlo\"])\n",
    "    hepi.scale_plot(dll,[\"lo\",\"nlo\"])"
   ]
  },
  {
   "cell_type": "code",
   "execution_count": null,
   "metadata": {
    "scrolled": false
   },
   "outputs": [],
   "source": [
    "for p in [2000002,1000002]: \n",
    "    i = hepi.Input(hepi.Order.NLO_PLUS_NLL,13000,p,1000022,\"mastercode.in\",\"CT14lo\",\"CT14nlo\",1., 1.,id=\"FULL_NOS\")\n",
    "    li = hepi.scan([i],\"mu_f\",np.around(np.logspace(-1, 1, 4),2))\n",
    "    li = hepi.scan(li,\"mu_r\",np.around(np.logspace(-1, 1, 4),2))\n",
    "    dll = rs.run(li,True)\n",
    "    #hepi.scale_plot(dll,[\"lo\",\"nlo\"])\n",
    "    hepi.scale_plot(dll,[\"lo\",\"nlo\",\"nlo_plus_nll\"])"
   ]
  },
  {
   "cell_type": "code",
   "execution_count": null,
   "metadata": {
    "scrolled": false
   },
   "outputs": [],
   "source": [
    "for p in [2000002,1000002]: \n",
    "    i = hepi.Input(hepi.Order.NLO_PLUS_NLL,13000,p,1000022,\"mastercode.in\",\"CT14lo\",\"CT14nlo\",1., 1.,id=\"FULL_NOSOFFDIAG\")\n",
    "    li = hepi.scan([i],\"mu_f\",np.around(np.logspace(-1, 1, 4),2))\n",
    "    li = hepi.scan(li,\"mu_r\",np.around(np.logspace(-1, 1, 4),2))\n",
    "    dll = rs.run(li,True)\n",
    "    #hepi.scale_plot(dll,[\"lo\",\"nlo\"])\n",
    "    hepi.scale_plot(dll,[\"lo\",\"nlo\",\"nlo_plus_nll\"])"
   ]
  },
  {
   "cell_type": "code",
   "execution_count": null,
   "metadata": {
    "scrolled": false
   },
   "outputs": [],
   "source": [
    "for p in [2000002,1000002]: \n",
    "    i = hepi.Input(hepi.Order.NLO_PLUS_NLL,13000,p,1000022,\"mastercode.in\",\"CT14lo\",\"CT14nlo\",1., 1.,id=\"FULL_NOSDIAG\")\n",
    "    li = hepi.scan([i],\"mu_f\",np.around(np.logspace(-1, 1, 4),2))\n",
    "    li = hepi.scan(li,\"mu_r\",np.around(np.logspace(-1, 1, 4),2))\n",
    "    dll = rs.run(li,True)\n",
    "    #hepi.scale_plot(dll,[\"lo\",\"nlo\"])\n",
    "    hepi.scale_plot(dll,[\"lo\",\"nlo\",\"nlo_plus_nll\"])"
   ]
  },
  {
   "cell_type": "code",
   "execution_count": null,
   "metadata": {
    "scrolled": false
   },
   "outputs": [],
   "source": [
    "for p in [2000002,1000002]: \n",
    "    i = hepi.Input(hepi.Order.NLO,13000,p,1000022,\"mastercode.in\",\"CT14lo\",\"CT14nlo\",1., 1.,id=\"FULL_OS\")\n",
    "    li = hepi.scan([i],\"mu_f\",np.around(np.logspace(-1, 1, 4),2))\n",
    "    li = hepi.scan(li,\"mu_r\",np.around(np.logspace(-1, 1, 4),2))\n",
    "    dll = rs.run(li,True)\n",
    "    #hepi.scale_plot(dll,[\"lo\",\"nlo\"])\n",
    "    hepi.scale_plot(dll,[\"lo\",\"nlo\"])"
   ]
  },
  {
   "cell_type": "code",
   "execution_count": null,
   "metadata": {
    "scrolled": false
   },
   "outputs": [],
   "source": [
    "for p in [2000002,1000002]: \n",
    "    i = hepi.Input(hepi.Order.NLO,13000,p,1000022,\"mastercode.in\",\"CT14lo\",\"CT14nlo\",1., 1.,id=\"FULL_OS\")\n",
    "    li = hepi.scan([i],\"mu_f\",np.around(np.logspace(-1, 1, 4),2))\n",
    "    li = hepi.scan(li,\"mu_r\",np.around(np.logspace(-1, 1, 4),2))\n",
    "    dll = rs.run(li,True)\n",
    "    #hepi.scale_plot(dll,[\"lo\",\"nlo\"])\n",
    "    hepi.scale_plot(dll,[\"lo\",\"nlo\"])"
   ]
  },
  {
   "cell_type": "code",
   "execution_count": null,
   "metadata": {
    "scrolled": false
   },
   "outputs": [],
   "source": [
    "for p in [2000002,1000002]: \n",
    "    i = hepi.Input(hepi.Order.NLO,13000,p,1000022,\"mastercode.in\",\"CT14lo\",\"CT14nlo\",1., 1.,id=\"OS_NOS\")\n",
    "    li = hepi.scan([i],\"mu_f\",np.around(np.logspace(-1, 1, 4),2))\n",
    "    li = hepi.scan(li,\"mu_r\",np.around(np.logspace(-1, 1, 4),2))\n",
    "    dll = rs.run(li,True)\n",
    "    #hepi.scale_plot(dll,[\"lo\",\"nlo\"])\n",
    "    hepi.scale_plot(dll,[\"lo\",\"nlo\"])"
   ]
  },
  {
   "cell_type": "code",
   "execution_count": null,
   "metadata": {
    "scrolled": false
   },
   "outputs": [],
   "source": [
    "for p in [2000002,1000002]: \n",
    "    i = hepi.Input(hepi.Order.NLO,13000,p,1000022,\"mastercode.in\",\"CT14lo\",\"CT14lo\",1., 1.,id=\"RES_OS\")\n",
    "    li = hepi.scan([i],\"mu_f\",np.around(np.logspace(-1, 1, 4),2))\n",
    "    li = hepi.scan(li,\"mu_r\",np.around(np.logspace(-1, 1, 4),2))\n",
    "    dll = rs.run(li,True)\n",
    "    #hepi.scale_plot(dll,[\"lo\",\"nlo\"])\n",
    "    hepi.scale_plot(dll,[\"lo\",\"nlo\"])"
   ]
  },
  {
   "cell_type": "code",
   "execution_count": null,
   "metadata": {
    "scrolled": false
   },
   "outputs": [],
   "source": [
    "for p in [2000002,1000002]: \n",
    "    i = hepi.Input(hepi.Order.NLO,13000,p,1000022,\"mastercode.in\",\"CT14lo\",\"CT14nlo\",1., 1.,id=\"OS_OS\")\n",
    "    li = hepi.scan([i],\"mu_f\",np.around(np.logspace(-1, 1, 4),2))\n",
    "    li = hepi.scan(li,\"mu_r\",np.around(np.logspace(-1, 1, 4),2))\n",
    "    dll = rs.run(li,True)\n",
    "    #hepi.scale_plot(dll,[\"lo\",\"nlo\"])\n",
    "    hepi.scale_plot(dll,[\"lo\",\"nlo\"])"
   ]
  },
  {
   "cell_type": "code",
   "execution_count": null,
   "metadata": {
    "scrolled": false
   },
   "outputs": [],
   "source": [
    "for p in [2000002,1000002]: \n",
    "    i = hepi.Input(hepi.Order.NLO,13000,p,1000022,\"mastercode.in\",\"CT14lo\",\"CT14nlo\",1., 1.,id=\"OTHER_GgX\")\n",
    "    li = hepi.scan([i],\"mu_f\",np.around(np.logspace(-1, 1, 4),2))\n",
    "    li = hepi.scan(li,\"mu_r\",np.around(np.logspace(-1, 1, 4),2))\n",
    "    dll = rs.run(li,True)\n",
    "    #hepi.scale_plot(dll,[\"lo\",\"nlo\"])\n",
    "    hepi.scale_plot(dll,[\"lo\",\"nlo\"])"
   ]
  },
  {
   "cell_type": "code",
   "execution_count": null,
   "metadata": {
    "scrolled": false
   },
   "outputs": [],
   "source": [
    "for p in [2000002,1000002,1000021]: \n",
    "    i = hepi.Input(hepi.Order.NLO_PLUS_NLL,13000,p,1000022,\"mastercode_swap.in\",\"CT14lo\",\"CT14nlo\",1., 1.,id=\"EXPAND\")\n",
    "    li = hepi.scan([i],\"mu_f\",np.around(np.logspace(-1, 1, 4),2))\n",
    "    li = hepi.scan(li,\"mu_r\",np.around(np.logspace(-1, 1, 4),2))\n",
    "    dll = rs.run(li,True)\n",
    "    #hepi.scale_plot(dll,[\"lo\",\"nlo\"])\n",
    "    hepi.scale_plot(dll,[\"lo\",\"nlo\",\"nlo_plus_nll\"])"
   ]
  },
  {
   "cell_type": "code",
   "execution_count": null,
   "metadata": {
    "scrolled": false
   },
   "outputs": [],
   "source": [
    "for p in [2000002,1000002,1000021]: \n",
    "    i = hepi.Input(hepi.Order.NLO_PLUS_NLL,13000,p,1000022,\"mastercode_swap.in\",\"CT14lo\",\"CT14nlo\",1., 1.,id=\"EXPAND_NOG_AT_RNLO\")\n",
    "    li = hepi.scan([i],\"mu_f\",np.around(np.logspace(-1, 1, 4),2))\n",
    "    li = hepi.scan(li,\"mu_r\",np.around(np.logspace(-1, 1, 4),2))\n",
    "    dll = rs.run(li,False)\n",
    "    #hepi.scale_plot(dll,[\"lo\",\"nlo\"])\n",
    "    hepi.scale_plot(dll,[\"lo\",\"nlo\",\"nlo_plus_nll\"])"
   ]
  },
  {
   "cell_type": "code",
   "execution_count": null,
   "metadata": {
    "scrolled": false
   },
   "outputs": [],
   "source": [
    "for p in [2000002,1000002]: \n",
    "    i = hepi.Input(hepi.Order.NLO_PLUS_NLL,13000,p,1000022,\"mastercode_swap.in\",\"CT14lo\",\"CT14nlo\",1., 1.,id=\"EXPAND_PQ\")\n",
    "    li = hepi.scan([i],\"mu_f\",np.around(np.logspace(-1, 1, 4),2))\n",
    "    li = hepi.scan(li,\"mu_r\",np.around(np.logspace(-1, 1, 4),2))\n",
    "    dll = rs.run(li,True)\n",
    "    hepi.scale_plot(dll,[\"lo\",\"nlo\",\"nlo_plus_nll\"])"
   ]
  },
  {
   "cell_type": "code",
   "execution_count": null,
   "metadata": {
    "scrolled": false
   },
   "outputs": [],
   "source": [
    "for p in [2000002,1000002]: \n",
    "    i = hepi.Input(hepi.Order.NLO_PLUS_NLL,13000,p,1000022,\"mastercode_swap.in\",\"CT14lo\",\"CT14nlo\",1., 1.,id=\"EXPAND_PG\")\n",
    "    li = hepi.scan([i],\"mu_f\",np.around(np.logspace(-1, 1, 4),2))\n",
    "    li = hepi.scan(li,\"mu_r\",np.around(np.logspace(-1, 1, 4),2))\n",
    "    dll = rs.run(li,True)\n",
    "    hepi.scale_plot(dll,[\"lo\",\"nlo\",\"nlo_plus_nll\"])"
   ]
  },
  {
   "cell_type": "code",
   "execution_count": null,
   "metadata": {},
   "outputs": [],
   "source": []
  }
 ],
 "metadata": {
  "kernelspec": {
   "display_name": "Python 3",
   "language": "python",
   "name": "python3"
  },
  "language_info": {
   "codemirror_mode": {
    "name": "ipython",
    "version": 3
   },
   "file_extension": ".py",
   "mimetype": "text/x-python",
   "name": "python",
   "nbconvert_exporter": "python",
   "pygments_lexer": "ipython3",
   "version": "3.7.9"
  }
 },
 "nbformat": 4,
 "nbformat_minor": 4
}
