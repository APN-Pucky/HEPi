{
 "cells": [
  {
   "cell_type": "code",
   "execution_count": 1,
   "id": "beee6dcf",
   "metadata": {},
   "outputs": [
    {
     "name": "stdout",
     "output_type": "stream",
     "text": [
      "/opt/MG5_aMC_v2_7_0/\n",
      "~/git/resummino_ug_to_UX_vNLO/\n"
     ]
    }
   ],
   "source": [
    "import hepi\n",
    "import smpl\n",
    "import numpy as np\n",
    "import hepi.madgraph as mg\n",
    "import matplotlib.pyplot as plt\n",
    "import hepi.resummino as rs\n",
    "import time\n",
    "mg.set_path(\"/opt/MG5_aMC_v2_7_0/\")\n",
    "print (mg.get_path())\n",
    "rs.set_path(\"~/git/resummino_ug_to_UX_vNLO/\")\n",
    "print (rs.get_path())\n",
    "ps = [(1000011,-1000011)]"
   ]
  },
  {
   "cell_type": "markdown",
   "id": "82024c4f",
   "metadata": {},
   "source": [
    "# LO comparison"
   ]
  },
  {
   "cell_type": "markdown",
   "id": "11e44bb7",
   "metadata": {},
   "source": [
    "## Scale"
   ]
  },
  {
   "cell_type": "code",
   "execution_count": 2,
   "id": "d5a3c2d9",
   "metadata": {
    "scrolled": true
   },
   "outputs": [
    {
     "name": "stdout",
     "output_type": "stream",
     "text": [
      "Running: 16 jobs\n",
      "skipskipskipskipskipskipskipskipskipskipskipskipskipskipskipskip"
     ]
    },
    {
     "ename": "TypeError",
     "evalue": "run() takes from 1 to 2 positional arguments but 3 were given",
     "output_type": "error",
     "traceback": [
      "\u001b[0;31m---------------------------------------------------------------------------\u001b[0m",
      "\u001b[0;31mTypeError\u001b[0m                                 Traceback (most recent call last)",
      "\u001b[0;32m/tmp/ipykernel_370/2922437554.py\u001b[0m in \u001b[0;36m<module>\u001b[0;34m\u001b[0m\n\u001b[1;32m      5\u001b[0m     \u001b[0mli\u001b[0m \u001b[0;34m=\u001b[0m \u001b[0mhepi\u001b[0m\u001b[0;34m.\u001b[0m\u001b[0mscan\u001b[0m\u001b[0;34m(\u001b[0m\u001b[0mli\u001b[0m\u001b[0;34m,\u001b[0m\u001b[0;34m\"mu_r\"\u001b[0m\u001b[0;34m,\u001b[0m\u001b[0mnp\u001b[0m\u001b[0;34m.\u001b[0m\u001b[0maround\u001b[0m\u001b[0;34m(\u001b[0m\u001b[0mnp\u001b[0m\u001b[0;34m.\u001b[0m\u001b[0mlogspace\u001b[0m\u001b[0;34m(\u001b[0m\u001b[0;34m-\u001b[0m\u001b[0;36m1\u001b[0m\u001b[0;34m,\u001b[0m \u001b[0;36m1\u001b[0m\u001b[0;34m,\u001b[0m \u001b[0;36m4\u001b[0m\u001b[0;34m)\u001b[0m\u001b[0;34m,\u001b[0m\u001b[0;36m2\u001b[0m\u001b[0;34m)\u001b[0m\u001b[0;34m)\u001b[0m\u001b[0;34m\u001b[0m\u001b[0;34m\u001b[0m\u001b[0m\n\u001b[1;32m      6\u001b[0m     \u001b[0mrs_dl\u001b[0m \u001b[0;34m=\u001b[0m \u001b[0mrs\u001b[0m\u001b[0;34m.\u001b[0m\u001b[0mrun\u001b[0m\u001b[0;34m(\u001b[0m\u001b[0mli\u001b[0m\u001b[0;34m,\u001b[0m\u001b[0;32mFalse\u001b[0m\u001b[0;34m,\u001b[0m\u001b[0;32mFalse\u001b[0m\u001b[0;34m)\u001b[0m\u001b[0;34m\u001b[0m\u001b[0;34m\u001b[0m\u001b[0m\n\u001b[0;32m----> 7\u001b[0;31m     \u001b[0mmg_dl\u001b[0m \u001b[0;34m=\u001b[0m \u001b[0mmg\u001b[0m\u001b[0;34m.\u001b[0m\u001b[0mrun\u001b[0m\u001b[0;34m(\u001b[0m\u001b[0mli\u001b[0m\u001b[0;34m,\u001b[0m\u001b[0;32mFalse\u001b[0m\u001b[0;34m,\u001b[0m\u001b[0;32mFalse\u001b[0m\u001b[0;34m)\u001b[0m\u001b[0;34m\u001b[0m\u001b[0;34m\u001b[0m\u001b[0m\n\u001b[0m\u001b[1;32m      8\u001b[0m     \u001b[0mrs_dl\u001b[0m\u001b[0;34m[\u001b[0m\u001b[0;34m'rel_diff_LO'\u001b[0m\u001b[0;34m]\u001b[0m \u001b[0;34m=\u001b[0m \u001b[0;34m(\u001b[0m\u001b[0mrs_dl\u001b[0m\u001b[0;34m[\u001b[0m\u001b[0;34m\"LO\"\u001b[0m\u001b[0;34m]\u001b[0m\u001b[0;34m-\u001b[0m\u001b[0mmg_dl\u001b[0m\u001b[0;34m[\u001b[0m\u001b[0;34m\"LO\"\u001b[0m\u001b[0;34m]\u001b[0m\u001b[0;34m)\u001b[0m\u001b[0;34m/\u001b[0m\u001b[0mrs_dl\u001b[0m\u001b[0;34m[\u001b[0m\u001b[0;34m\"LO\"\u001b[0m\u001b[0;34m]\u001b[0m\u001b[0;34m\u001b[0m\u001b[0;34m\u001b[0m\u001b[0m\n\u001b[1;32m      9\u001b[0m     \u001b[0mhepi\u001b[0m\u001b[0;34m.\u001b[0m\u001b[0mscale_plot\u001b[0m\u001b[0;34m(\u001b[0m\u001b[0mrs_dl\u001b[0m\u001b[0;34m,\u001b[0m\u001b[0;34m[\u001b[0m\u001b[0;34m\"LO\"\u001b[0m\u001b[0;34m]\u001b[0m\u001b[0;34m,\u001b[0m\u001b[0mcont\u001b[0m\u001b[0;34m=\u001b[0m\u001b[0;32mFalse\u001b[0m\u001b[0;34m)\u001b[0m\u001b[0;34m\u001b[0m\u001b[0;34m\u001b[0m\u001b[0m\n",
      "\u001b[0;31mTypeError\u001b[0m: run() takes from 1 to 2 positional arguments but 3 were given"
     ]
    }
   ],
   "source": [
    "for pa,pb in ps:\n",
    "    i = hepi.Input(hepi.Order.LO,13000,pa,pb,\"param_card_nlo.dat\",\"CT14lo\",\"CT14lo\",1., 1.,\"NLO_COMP\")\n",
    "    li = [i]\n",
    "    li = hepi.scan(li,\"mu_f\",np.around(np.logspace(-1, 1, 4),2))\n",
    "    li = hepi.scan(li,\"mu_r\",np.around(np.logspace(-1, 1, 4),2))\n",
    "    rs_dl = rs.run(li,False,False)\n",
    "    mg_dl = mg.run(li,False,False)\n",
    "    rs_dl['rel_diff_LO'] = (rs_dl[\"LO\"]-mg_dl[\"LO\"])/rs_dl[\"LO\"]\n",
    "    hepi.scale_plot(rs_dl,[\"LO\"],cont=False)\n",
    "    hepi.scale_plot(mg_dl,[\"LO\"],cont=True)\n",
    "    smpl.plot.show()\n",
    "    hepi.scale_plot(rs_dl,[\"rel_diff_LO\"],cont=False)\n",
    "    plt.ylim([-0.1,0.1])\n",
    "    smpl.plot.show()"
   ]
  },
  {
   "cell_type": "markdown",
   "id": "5a422a2c",
   "metadata": {},
   "source": [
    "## Mass"
   ]
  },
  {
   "cell_type": "code",
   "execution_count": null,
   "id": "fd5dc08b",
   "metadata": {
    "scrolled": false
   },
   "outputs": [],
   "source": [
    "for pa,pb in ps:\n",
    "    i = hepi.Input(hepi.Order.LO,13000,pa,pb,\"param_card_nlo.dat\",\"CT14lo\",\"CT14lo\",1., 1.,\"NLO_COMP_MASS\")\n",
    "    li = [i]\n",
    "    li = hepi.mass_scan([i],pa, np.linspace(1000,4000,16),diff_L_R=20)\n",
    "    rs_dl = rs.run(li,False,False)\n",
    "    mg_dl = mg.run(li,False,False)\n",
    "    rs_dl['rel_diff_LO'] = (rs_dl[\"LO\"]-mg_dl[\"LO\"])/rs_dl[\"LO\"]\n",
    "    \n",
    "    hepi.mass_plot(rs_dl,\"LO\",pa,logy=True)\n",
    "    #hepi.mass_plot(rs_dl,p,\"lo\",logy=True)\n",
    "    hepi.mass_plot(mg_dl,\"LO\",pa,logy=True)\n",
    "    smpl.plot.show()\n",
    "    hepi.mass_plot(rs_dl,\"rel_diff_LO\",pa,logy=False,label=\"rel_diff_LO\",yaxis=\"rel diff\")\n",
    "    plt.ylim([-0.1,0.1])\n",
    "    smpl.plot.show()"
   ]
  },
  {
   "cell_type": "markdown",
   "id": "7d17dd27",
   "metadata": {},
   "source": [
    "# NLO comparison"
   ]
  },
  {
   "cell_type": "markdown",
   "id": "e633ff72",
   "metadata": {},
   "source": [
    "## Scale"
   ]
  },
  {
   "cell_type": "code",
   "execution_count": null,
   "id": "449b6c6b",
   "metadata": {
    "scrolled": true
   },
   "outputs": [],
   "source": [
    "for pa,pb in ps:\n",
    "    i = hepi.Input(hepi.Order.NLO,13000,pa,pb,\"param_card_nlo.dat\",\"CT14lo\",\"CT14lo\",1., 1.,\"NLO_COMP\")\n",
    "    li = [i]\n",
    "    li = hepi.scan(li,\"mu_f\",np.around(np.logspace(-1, 1, 4),2))\n",
    "    li = hepi.scan(li,\"mu_r\",np.around(np.logspace(-1, 1, 4),2))\n",
    "    rs_dl = rs.run(li,False,False)\n",
    "    mg_dl = mg.run(li,True,False)\n",
    "    rs_dl['rel_diff_NLO'] = (rs_dl[\"NLO\"]-mg_dl[\"NLO\"])/rs_dl[\"NLO\"]\n",
    "    hepi.scale_plot(rs_dl,[\"LO\",\"NLO\"],cont=False)\n",
    "    hepi.scale_plot(mg_dl,[\"NLO\"],cont=True)\n",
    "    smpl.plot.show()\n",
    "    hepi.scale_plot(rs_dl,[\"rel_diff_NLO\"],cont=False)\n",
    "    plt.ylim([-0.1,0.1])\n",
    "    smpl.plot.show()"
   ]
  },
  {
   "cell_type": "markdown",
   "id": "fb4929a6",
   "metadata": {},
   "source": [
    "## Mass"
   ]
  },
  {
   "cell_type": "code",
   "execution_count": null,
   "id": "e1303297",
   "metadata": {},
   "outputs": [],
   "source": [
    "for pa,pb in ps:\n",
    "    i = hepi.Input(hepi.Order.NLO,13000,pa,pb,\"param_card_nlo.dat\",\"CT14lo\",\"CT14lo\",1., 1.,\"NLO_COMP_MASS\")\n",
    "    li = [i]\n",
    "    li = hepi.mass_scan([i],pa, np.linspace(1000,4000,16),diff_L_R=20)\n",
    "    rs_dl = rs.run(li,True,False)\n",
    "    mg_dl = mg.run(li,True,False)\n",
    "    rs_dl['rel_diff_NLO'] = (rs_dl[\"NLO\"]-mg_dl[\"NLO\"])/rs_dl[\"NLO\"]\n",
    "    \n",
    "    hepi.mass_plot(rs_dl,\"LO\",pa,logy=True)\n",
    "    hepi.mass_plot(rs_dl,\"NLO\",pa,logy=True)\n",
    "    hepi.mass_plot(mg_dl,\"NLO\",pa,logy=True)\n",
    "    smpl.plot.show()\n",
    "    hepi.mass_plot(rs_dl,\"rel_diff_NLO\",p,logy=False,label=\"rel_diff_NLO\",yaxis=\"rel diff\")\n",
    "    plt.ylim([-0.1,0.1])\n",
    "    smpl.plot.show()"
   ]
  },
  {
   "cell_type": "code",
   "execution_count": null,
   "id": "0bca7c70",
   "metadata": {},
   "outputs": [],
   "source": []
  }
 ],
 "metadata": {
  "kernelspec": {
   "display_name": "Python 3",
   "language": "python",
   "name": "python3"
  },
  "language_info": {
   "codemirror_mode": {
    "name": "ipython",
    "version": 3
   },
   "file_extension": ".py",
   "mimetype": "text/x-python",
   "name": "python",
   "nbconvert_exporter": "python",
   "pygments_lexer": "ipython3",
   "version": "3.8.13"
  }
 },
 "nbformat": 4,
 "nbformat_minor": 5
}
