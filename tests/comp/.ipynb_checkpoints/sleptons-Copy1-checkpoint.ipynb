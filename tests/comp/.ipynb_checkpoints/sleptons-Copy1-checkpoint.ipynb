{
 "cells": [
  {
   "cell_type": "code",
   "execution_count": 1,
   "id": "beee6dcf",
   "metadata": {},
   "outputs": [
    {
     "name": "stdout",
     "output_type": "stream",
     "text": [
      "/opt/MG5_aMC_v2_7_0/\n",
      "~/git/resummino_ug_to_UX_vNLO/\n"
     ]
    }
   ],
   "source": [
    "import hepi\n",
    "import smpl\n",
    "import numpy as np\n",
    "import hepi.madgraph as mg\n",
    "import matplotlib.pyplot as plt\n",
    "import hepi.resummino as rs\n",
    "import time\n",
    "# Working 100% all + EWKino\n",
    "params = [\"param_card_nlo.dat\",\n",
    "          \"sps1a1000_mod.in\",\n",
    "          \"mastercode_no_gm2_mod.in\",\n",
    "          \"mastercode_with_gm2.in\",\n",
    "          \"VANILLA_param_card.dat\",\n",
    "          \"mg.in\",\n",
    "          ]\n",
    "#model_path=\"/opt/MG5_aMC_v2_7_0/models/EWKino_NLO_UFO_py3\"\n",
    "model_path=\"/opt/MG5_aMC_v2_7_0/models/MSSMatNLO_UFO\"\n",
    "mg.set_path(\"/opt/MG5_aMC_v2_7_0/\")\n",
    "print (mg.get_path())\n",
    "rs.set_path(\"~/git/resummino_ug_to_UX_vNLO/\")\n",
    "print (rs.get_path())\n",
    "ps = [(1000011,-1000011)]"
   ]
  },
  {
   "cell_type": "markdown",
   "id": "82024c4f",
   "metadata": {},
   "source": [
    "# LO comparison"
   ]
  },
  {
   "cell_type": "markdown",
   "id": "11e44bb7",
   "metadata": {},
   "source": [
    "## Scale"
   ]
  },
  {
   "cell_type": "code",
   "execution_count": null,
   "id": "d5a3c2d9",
   "metadata": {
    "scrolled": false
   },
   "outputs": [
    {
     "name": "stdout",
     "output_type": "stream",
     "text": [
      "Running: 16 jobs\n",
      "05e4f116f986d3f3efd0e9c7db232cc236d3399365a5a446fc3ffa93bbdbed1e\n",
      "9182e09108b301adf92cfb5e533453e82c665dba140bd5581dea4719aaa49503\n",
      "0472ff6eacd5a43463d132e8ece931af56a3674eef2c92d4c9ae02495bf2dc8d\n",
      "f57098986cea838e12c4651e01908f7c56ab011379ad5fdd7c0df097c0fd1c87\n",
      "2addd11a280479ea2e9be721624b0cc97fb9fb511823fd8da89edbcf2e4a89af\n",
      "0fe2d5177c2cc7e4eaddef153d0e363ad2c1a106c0a79339ac9258d341f8ed36\n",
      "2ec2b18e435c5f963e3a0eab5196b6c102264fc4769690cfeb696a9384cab97c\n",
      "86fc62f7b5769c08eee37b7338a72933e91b0db7bb684611fce35a239407ac82\n",
      "779517b78f9817f7f42b3afde354cc2e6ff4d3a9b86f152ac3ddd560986b779b\n",
      "df00bcddac9116d7ca489b6d6ac101f9349a570d40fd6bbcb29c6ac71eea54d4\n",
      "e257b03ec675d4285a9055d7a1929d54770848862ef7d26292c9a263995ac24c\n",
      "b7aba69bc1e135128fd26daac163be779c8534c7451952b977216ae35a6414b9\n",
      "86b562e6ec781e6ee6af12540d95fa37233f750eac511f16985589fc652e8e24\n",
      "496e58d264a6875a0233e637d3690a1153cf7d85058d0d5b3dfad02fe5714241\n",
      "d22c75fb0e98c5e8f5e5afb10da947fed513c009490db851d14c0a217069feb6\n",
      "c84edd88a81e62ee41ba5b8e3f0fdb67da2797779935873930c9998c9bb0e16e\n",
      "./output/6a8a409c099de52e455ffb45ca7e43cf3c11649a574bb5bc6487af83356d3dd1.out\n"
     ]
    }
   ],
   "source": [
    "for pa,pb in ps:\n",
    "    for param in params:\n",
    "        i = hepi.Input(hepi.Order.LO,13000,pa,pb,param,\"CT14lo\",\"CT14lo\",1., 1.,model_path=model_path)\n",
    "        li = [i]\n",
    "        li = hepi.scan(li,\"mu_f\",np.around(np.logspace(-1, 1, 4),2))\n",
    "        li = hepi.scan(li,\"mu_r\",np.around(np.logspace(-1, 1, 4),2))\n",
    "        rs_dl = rs.run(li,True,False)\n",
    "        mg_dl = mg.run(li,True,False)\n",
    "        #mg_dl['LO'] = mg_dl[\"LO\"]*2.\n",
    "        rs_dl['rel_diff_LO'] = (rs_dl[\"LO\"]-mg_dl[\"LO\"])/rs_dl[\"LO\"]\n",
    "        hepi.scale_plot(rs_dl,[\"LO\"],cont=False)\n",
    "        hepi.scale_plot(mg_dl,[\"LO\"],cont=True)\n",
    "        smpl.plot.show()\n",
    "        hepi.scale_plot(rs_dl,[\"rel_diff_LO\"],cont=False)\n",
    "        #plt.ylim([-0.1,0.1])\n",
    "        smpl.plot.show()"
   ]
  },
  {
   "cell_type": "markdown",
   "id": "5a422a2c",
   "metadata": {},
   "source": [
    "## Mass"
   ]
  },
  {
   "cell_type": "code",
   "execution_count": null,
   "id": "fd5dc08b",
   "metadata": {
    "scrolled": true
   },
   "outputs": [],
   "source": [
    "for pa,pb in ps:\n",
    "    for param in params:\n",
    "        i = hepi.Input(hepi.Order.LO,13000,pa,pb,param,\"CT14lo\",\"CT14lo\",1., 1.,model_path=model_path)\n",
    "        li = [i]\n",
    "        li = hepi.mass_scan([i],pa, np.linspace(1000,4000,16),diff_L_R=20)\n",
    "        rs_dl = rs.run(li,False,False)\n",
    "        mg_dl = mg.run(li,False,False)\n",
    "        rs_dl['rel_diff_LO'] = (rs_dl[\"LO\"]-mg_dl[\"LO\"])/rs_dl[\"LO\"]\n",
    "\n",
    "        hepi.mass_plot(rs_dl,\"LO\",pa,logy=True)\n",
    "        #hepi.mass_plot(rs_dl,p,\"lo\",logy=True)\n",
    "        hepi.mass_plot(mg_dl,\"LO\",pa,logy=True)\n",
    "        smpl.plot.show()\n",
    "        hepi.mass_plot(rs_dl,\"rel_diff_LO\",pa,logy=False,label=\"rel_diff_LO\",yaxis=\"rel diff\")\n",
    "        plt.ylim([-0.1,0.1])\n",
    "        smpl.plot.show()"
   ]
  },
  {
   "cell_type": "markdown",
   "id": "7d17dd27",
   "metadata": {},
   "source": [
    "# NLO comparison"
   ]
  },
  {
   "cell_type": "markdown",
   "id": "e633ff72",
   "metadata": {},
   "source": [
    "## Scale"
   ]
  },
  {
   "cell_type": "code",
   "execution_count": null,
   "id": "449b6c6b",
   "metadata": {
    "scrolled": true
   },
   "outputs": [],
   "source": [
    "for pa,pb in ps:\n",
    "    for param in params:\n",
    "        i = hepi.Input(hepi.Order.NLO,13000,pa,pb,param,\"CT14lo\",\"CT14lo\",1., 1.,model_path=model_path)\n",
    "        li = [i]\n",
    "        li = hepi.scan(li,\"mu_f\",np.around(np.logspace(-1, 1, 4),2))\n",
    "        li = hepi.scan(li,\"mu_r\",np.around(np.logspace(-1, 1, 4),2))\n",
    "        rs_dl = rs.run(li,False,False)\n",
    "        mg_dl = mg.run(li,False,False)\n",
    "        rs_dl['rel_diff_NLO'] = (rs_dl[\"NLO\"]-mg_dl[\"NLO\"])/rs_dl[\"NLO\"]\n",
    "        hepi.scale_plot(rs_dl,[\"LO\",\"NLO\"],cont=False)\n",
    "        hepi.scale_plot(mg_dl,[\"NLO\"],cont=True)\n",
    "        smpl.plot.show()\n",
    "        hepi.scale_plot(rs_dl,[\"rel_diff_NLO\"],cont=False)\n",
    "        plt.ylim([-0.1,0.1])\n",
    "        smpl.plot.show()"
   ]
  },
  {
   "cell_type": "markdown",
   "id": "fb4929a6",
   "metadata": {},
   "source": [
    "## Mass"
   ]
  },
  {
   "cell_type": "code",
   "execution_count": null,
   "id": "e1303297",
   "metadata": {
    "scrolled": true
   },
   "outputs": [],
   "source": [
    "for pa,pb in ps:\n",
    "    for param in params:\n",
    "        i = hepi.Input(hepi.Order.NLO,13000,pa,pb,param,\"CT14lo\",\"CT14lo\",1., 1.,model_path=model_path)\n",
    "        li = [i]\n",
    "        li = hepi.mass_scan([i],pa, np.linspace(1000,4000,16),diff_L_R=20)\n",
    "        rs_dl = rs.run(li,False,False)\n",
    "        mg_dl = mg.run(li,False,False)\n",
    "        rs_dl['rel_diff_NLO'] = (rs_dl[\"NLO\"]-mg_dl[\"NLO\"])/rs_dl[\"NLO\"]\n",
    "\n",
    "        hepi.mass_plot(rs_dl,\"LO\",pa,logy=True)\n",
    "        hepi.mass_plot(rs_dl,\"NLO\",pa,logy=True)\n",
    "        hepi.mass_plot(mg_dl,\"NLO\",pa,logy=True)\n",
    "        smpl.plot.show()\n",
    "        hepi.mass_plot(rs_dl,\"rel_diff_NLO\",pa,logy=False,label=\"rel_diff_NLO\",yaxis=\"rel diff\")\n",
    "        plt.ylim([-0.1,0.1])\n",
    "        smpl.plot.show()"
   ]
  },
  {
   "cell_type": "code",
   "execution_count": null,
   "id": "0bca7c70",
   "metadata": {},
   "outputs": [],
   "source": []
  }
 ],
 "metadata": {
  "kernelspec": {
   "display_name": "Python 3",
   "language": "python",
   "name": "python3"
  },
  "language_info": {
   "codemirror_mode": {
    "name": "ipython",
    "version": 3
   },
   "file_extension": ".py",
   "mimetype": "text/x-python",
   "name": "python",
   "nbconvert_exporter": "python",
   "pygments_lexer": "ipython3",
   "version": "3.8.13"
  }
 },
 "nbformat": 4,
 "nbformat_minor": 5
}
