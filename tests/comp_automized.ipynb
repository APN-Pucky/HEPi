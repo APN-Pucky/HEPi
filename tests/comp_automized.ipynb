{
 "cells": [
  {
   "cell_type": "code",
   "execution_count": 2,
   "metadata": {},
   "outputs": [
    {
     "name": "stdout",
     "output_type": "stream",
     "text": [
      "~/git/resummino_ug_to_UX_vNLO/\n"
     ]
    }
   ],
   "source": [
    "import hepi\n",
    "import smpl\n",
    "import numpy as np\n",
    "import hepi.resummino as rs\n",
    "import hepi.madgraph as mg\n",
    "import matplotlib.pyplot as plt\n",
    "rs.set_path(\"~/git/resummino_ug_to_UX_vNLO/\")\n",
    "print (rs.get_path())"
   ]
  },
  {
   "cell_type": "code",
   "execution_count": 4,
   "metadata": {
    "scrolled": false
   },
   "outputs": [
    {
     "data": {
      "text/html": [
       "<style>\n",
       "</style>\n",
       "<div class=\"enlighten\">\n",
       "  <div class=\"enlighten-bar\">\n",
       "    <pre>./output/order_Order.NLO_energy_7000_particle1_2000002_particle2_1000022_slha_sps1a1000.in_2000002_300_pdf_lo_CT14lo_pdf_nlo_CT14lo_mu_f_1.0_mu_r_1.0_id_rnlo_UU_mass_2000002_300_code_RS.out</pre>\n",
       "  </div>\n",
       "  <div class=\"enlighten-bar\">\n",
       "    <pre> ... 300 ... 300                    Stage: DONE                     Status DONE:                    </pre>\n",
       "  </div>\n",
       "  <div class=\"enlighten-bar\">\n",
       "    <pre> ... 350 ... 350                    Stage: DONE                     Status DONE:                    </pre>\n",
       "  </div>\n",
       "  <div class=\"enlighten-bar\">\n",
       "    <pre> ... 400 ... 400                    Stage: DONE                     Status DONE:                    </pre>\n",
       "  </div>\n",
       "  <div class=\"enlighten-bar\">\n",
       "    <pre> ... 450 ... 450                    Stage: DONE                     Status DONE:                    </pre>\n",
       "  </div>\n",
       "  <div class=\"enlighten-bar\">\n",
       "    <pre> ... 500 ... 500                    Stage: DONE                     Status DONE:                    </pre>\n",
       "  </div>\n",
       "  <div class=\"enlighten-bar\">\n",
       "    <pre> ... 550 ... 550                    Stage: DONE                     Status DONE:                    </pre>\n",
       "  </div>\n",
       "  <div class=\"enlighten-bar\">\n",
       "    <pre> ... 600 ... 600                    Stage: DONE                     Status DONE:                    </pre>\n",
       "  </div>\n",
       "  <div class=\"enlighten-bar\">\n",
       "    <pre> ... 650 ... 650                    Stage: DONE                     Status DONE:                    </pre>\n",
       "  </div>\n",
       "  <div class=\"enlighten-bar\">\n",
       "    <pre> ... 700 ... 700                    Stage: DONE                     Status DONE:                    </pre>\n",
       "  </div>\n",
       "  <div class=\"enlighten-bar\">\n",
       "    <pre> ... 750 ... 750                    Stage: DONE                     Status DONE:                    </pre>\n",
       "  </div>\n",
       "  <div class=\"enlighten-bar\">\n",
       "    <pre> ... 800 ... 800                    Stage: DONE                     Status DONE:                    </pre>\n",
       "  </div>\n",
       "  <div class=\"enlighten-bar\">\n",
       "    <pre> ... 850 ... 850                    Stage: DONE                     Status DONE:                    </pre>\n",
       "  </div>\n",
       "  <div class=\"enlighten-bar\">\n",
       "    <pre> ... 900 ... 900                    Stage: DONE                     Status DONE:                    </pre>\n",
       "  </div>\n",
       "  <div class=\"enlighten-bar\">\n",
       "    <pre> ... 950 ... 950                    Stage: DONE                     Status DONE:                    </pre>\n",
       "  </div>\n",
       "</div>\n"
      ],
      "text/plain": [
       "<IPython.core.display.HTML object>"
      ]
     },
     "metadata": {},
     "output_type": "display_data"
    },
    {
     "data": {
      "text/html": [
       "<style>\n",
       "</style>\n",
       "<div class=\"enlighten\">\n",
       "  <div class=\"enlighten-bar\">\n",
       "    <pre>./output/order_Order.NLO_energy_7000_particle1_2000002_particle2_1000022_slha_sps1a1000.in_2000002_300_pdf_lo_CT14lo_pdf_nlo_CT14nlo_mu_f_1.0_mu_r_1.0_id_rnlo_UU_mass_2000002_300_code_RS.out</pre>\n",
       "  </div>\n",
       "  <div class=\"enlighten-bar\">\n",
       "    <pre> ... 300 ... 300 Stage: real light quark emission - dipole - (onshell) Status 51:   3.9723e-04      3.76e-05    1.59e+00</pre>\n",
       "  </div>\n",
       "  <div class=\"enlighten-bar\">\n",
       "    <pre> ... 350 ... 350 Stage: real light quark emission - dipole - (onshell) Status 51:   2.6821e-04      2.60e-05    9.89e-01</pre>\n",
       "  </div>\n",
       "  <div class=\"enlighten-bar\">\n",
       "    <pre> ... 400 ... 400 Stage: real light quark emission - dipole - (onshell) Status 50:   1.3517e-04      2.36e-05    3.46e-01</pre>\n",
       "  </div>\n",
       "  <div class=\"enlighten-bar\">\n",
       "    <pre> ... 450 ... 450 Stage: real light quark emission - dipole - (onshell) Status 60:   8.5741e-05      1.38e-05    0.00e+00</pre>\n",
       "  </div>\n",
       "  <div class=\"enlighten-bar\">\n",
       "    <pre> ... 500 ... 500       Stage: real light quark emission - dipole - (onshell)       Status 59:       </pre>\n",
       "  </div>\n",
       "  <div class=\"enlighten-bar\">\n",
       "    <pre> ... 550 ... 550 Stage: real light quark emission - dipole - (onshell) Status 51:   5.8144e-05      6.58e-06    6.50e-02</pre>\n",
       "  </div>\n",
       "  <div class=\"enlighten-bar\">\n",
       "    <pre> ... 600 ... 600 Stage: real light quark emission - dipole - (onshell) Status 51:   3.9362e-05      4.60e-06    9.13e-01</pre>\n",
       "  </div>\n",
       "  <div class=\"enlighten-bar\">\n",
       "    <pre> ... 650 ... 650 Stage: real light quark emission - dipole - (onshell) Status 62:   3.1929e-05      1.93e-06    3.90e-01</pre>\n",
       "  </div>\n",
       "  <div class=\"enlighten-bar\">\n",
       "    <pre> ... 700 ... 700 Stage: real light quark emission - dipole - (onshell) Status 51:   2.3605e-05      2.56e-06    2.98e+00</pre>\n",
       "  </div>\n",
       "  <div class=\"enlighten-bar\">\n",
       "    <pre> ... 750 ... 750 Stage: real light quark emission - dipole - (onshell) Status 49:   2.2184e-05      3.84e-06    1.03e+00</pre>\n",
       "  </div>\n",
       "  <div class=\"enlighten-bar\">\n",
       "    <pre> ... 800 ... 800 Stage: real light quark emission - dipole - (onshell) Status 51:   1.7483e-05      1.23e-06    3.35e-01</pre>\n",
       "  </div>\n",
       "  <div class=\"enlighten-bar\">\n",
       "    <pre> ... 850 ... 850 Stage: real light quark emission - dipole - (onshell) Status 51:   1.3953e-05      9.23e-07    5.80e-01</pre>\n",
       "  </div>\n",
       "  <div class=\"enlighten-bar\">\n",
       "    <pre> ... 900 ... 900 Stage: real light quark emission - dipole - (onshell) Status 50:   1.1877e-05      8.64e-07    2.19e-01</pre>\n",
       "  </div>\n",
       "  <div class=\"enlighten-bar\">\n",
       "    <pre> ... 950 ... 950       Stage: real light quark emission - dipole - (onshell)       Status 59:       </pre>\n",
       "  </div>\n",
       "</div>\n"
      ],
      "text/plain": [
       "<IPython.core.display.HTML object>"
      ]
     },
     "metadata": {},
     "output_type": "display_data"
    },
    {
     "ename": "KeyboardInterrupt",
     "evalue": "",
     "output_type": "error",
     "traceback": [
      "\u001b[0;31m---------------------------------------------------------------------------\u001b[0m",
      "\u001b[0;31mKeyboardInterrupt\u001b[0m                         Traceback (most recent call last)",
      "\u001b[0;32m<ipython-input-4-572771af92a0>\u001b[0m in \u001b[0;36m<module>\u001b[0;34m\u001b[0m\n\u001b[1;32m      4\u001b[0m         \u001b[0mi\u001b[0m \u001b[0;34m=\u001b[0m \u001b[0mhepi\u001b[0m\u001b[0;34m.\u001b[0m\u001b[0mInput\u001b[0m\u001b[0;34m(\u001b[0m\u001b[0mhepi\u001b[0m\u001b[0;34m.\u001b[0m\u001b[0mOrder\u001b[0m\u001b[0;34m.\u001b[0m\u001b[0mNLO\u001b[0m\u001b[0;34m,\u001b[0m\u001b[0;36m7000\u001b[0m\u001b[0;34m,\u001b[0m\u001b[0msq\u001b[0m\u001b[0;34m,\u001b[0m\u001b[0;36m1000022\u001b[0m\u001b[0;34m,\u001b[0m\u001b[0;34m\"sps1a1000.in\"\u001b[0m\u001b[0;34m,\u001b[0m\u001b[0mpdf\u001b[0m\u001b[0;34m,\u001b[0m\u001b[0mnlopdf\u001b[0m\u001b[0;34m,\u001b[0m\u001b[0;36m1.\u001b[0m\u001b[0;34m,\u001b[0m \u001b[0;36m1.\u001b[0m\u001b[0;34m,\u001b[0m\u001b[0;34m\"rnlo_UU\"\u001b[0m\u001b[0;34m)\u001b[0m\u001b[0;34m\u001b[0m\u001b[0;34m\u001b[0m\u001b[0m\n\u001b[1;32m      5\u001b[0m         \u001b[0mli\u001b[0m \u001b[0;34m=\u001b[0m \u001b[0mhepi\u001b[0m\u001b[0;34m.\u001b[0m\u001b[0mmass_scan\u001b[0m\u001b[0;34m(\u001b[0m\u001b[0;34m[\u001b[0m\u001b[0mi\u001b[0m\u001b[0;34m]\u001b[0m\u001b[0;34m,\u001b[0m\u001b[0msq\u001b[0m\u001b[0;34m,\u001b[0m \u001b[0mrange\u001b[0m\u001b[0;34m(\u001b[0m\u001b[0;36m300\u001b[0m\u001b[0;34m,\u001b[0m\u001b[0;36m1000\u001b[0m\u001b[0;34m,\u001b[0m\u001b[0;36m50\u001b[0m\u001b[0;34m)\u001b[0m\u001b[0;34m,\u001b[0m\u001b[0mdiff_L_R\u001b[0m\u001b[0;34m=\u001b[0m\u001b[0;36m20\u001b[0m\u001b[0;34m)\u001b[0m\u001b[0;34m\u001b[0m\u001b[0;34m\u001b[0m\u001b[0m\n\u001b[0;32m----> 6\u001b[0;31m         \u001b[0mdll\u001b[0m \u001b[0;34m=\u001b[0m \u001b[0mrs\u001b[0m\u001b[0;34m.\u001b[0m\u001b[0mrun\u001b[0m\u001b[0;34m(\u001b[0m\u001b[0mli\u001b[0m\u001b[0;34m,\u001b[0m\u001b[0;32mTrue\u001b[0m\u001b[0;34m)\u001b[0m\u001b[0;34m\u001b[0m\u001b[0;34m\u001b[0m\u001b[0m\n\u001b[0m\u001b[1;32m      7\u001b[0m         \u001b[0mhepi\u001b[0m\u001b[0;34m.\u001b[0m\u001b[0mmass_vplot\u001b[0m\u001b[0;34m(\u001b[0m\u001b[0mdll\u001b[0m\u001b[0;34m,\u001b[0m\u001b[0msq\u001b[0m\u001b[0;34m,\u001b[0m\u001b[0;34m(\u001b[0m\u001b[0;34m(\u001b[0m\u001b[0mdll\u001b[0m\u001b[0;34m[\u001b[0m\u001b[0;34m\"rnlo\"\u001b[0m\u001b[0;34m]\u001b[0m\u001b[0;34m+\u001b[0m\u001b[0mdll\u001b[0m\u001b[0;34m[\u001b[0m\u001b[0;34m\"lo\"\u001b[0m\u001b[0;34m]\u001b[0m\u001b[0;34m)\u001b[0m\u001b[0;34m/\u001b[0m\u001b[0mdll\u001b[0m\u001b[0;34m[\u001b[0m\u001b[0;34m\"lo\"\u001b[0m\u001b[0;34m]\u001b[0m\u001b[0;34m)\u001b[0m\u001b[0;34m,\u001b[0m\u001b[0mlogy\u001b[0m\u001b[0;34m=\u001b[0m\u001b[0;32mFalse\u001b[0m\u001b[0;34m,\u001b[0m\u001b[0mlabel\u001b[0m\u001b[0;34m=\u001b[0m\u001b[0;34m\"$K_\\\\mathrm{p+k}$ \"\u001b[0m \u001b[0;34m+\u001b[0m \u001b[0mnlopdf\u001b[0m\u001b[0;34m)\u001b[0m\u001b[0;34m\u001b[0m\u001b[0;34m\u001b[0m\u001b[0m\n\u001b[1;32m      8\u001b[0m     \u001b[0mhepi\u001b[0m\u001b[0;34m.\u001b[0m\u001b[0mmass_vplot\u001b[0m\u001b[0;34m(\u001b[0m\u001b[0mdll\u001b[0m\u001b[0;34m,\u001b[0m\u001b[0msq\u001b[0m\u001b[0;34m,\u001b[0m\u001b[0;34m(\u001b[0m\u001b[0;34m(\u001b[0m\u001b[0mdll\u001b[0m\u001b[0;34m[\u001b[0m\u001b[0;34m\"lo\"\u001b[0m\u001b[0;34m]\u001b[0m\u001b[0;34m)\u001b[0m\u001b[0;34m/\u001b[0m\u001b[0mdll\u001b[0m\u001b[0;34m[\u001b[0m\u001b[0;34m\"lo\"\u001b[0m\u001b[0;34m]\u001b[0m\u001b[0;34m)\u001b[0m\u001b[0;34m,\u001b[0m\u001b[0mlogy\u001b[0m\u001b[0;34m=\u001b[0m\u001b[0;32mFalse\u001b[0m\u001b[0;34m,\u001b[0m\u001b[0mlabel\u001b[0m\u001b[0;34m=\u001b[0m\u001b[0;34m\"$K_\\\\mathrm{lo}$\"\u001b[0m\u001b[0;34m)\u001b[0m\u001b[0;34m\u001b[0m\u001b[0;34m\u001b[0m\u001b[0m\n",
      "\u001b[0;32m~/.local/lib/python3.8/site-packages/hepi/resummino/run.py\u001b[0m in \u001b[0;36mrun\u001b[0;34m(params, noskip)\u001b[0m\n\u001b[1;32m     38\u001b[0m \u001b[0;32mdef\u001b[0m \u001b[0mrun\u001b[0m\u001b[0;34m(\u001b[0m\u001b[0mparams\u001b[0m\u001b[0;34m:\u001b[0m \u001b[0mList\u001b[0m\u001b[0;34m[\u001b[0m\u001b[0mInput\u001b[0m\u001b[0;34m]\u001b[0m\u001b[0;34m,\u001b[0m \u001b[0mnoskip\u001b[0m\u001b[0;34m=\u001b[0m\u001b[0;32mFalse\u001b[0m\u001b[0;34m)\u001b[0m\u001b[0;34m:\u001b[0m\u001b[0;34m\u001b[0m\u001b[0;34m\u001b[0m\u001b[0m\n\u001b[1;32m     39\u001b[0m     \u001b[0mrps\u001b[0m \u001b[0;34m=\u001b[0m \u001b[0m_queue\u001b[0m\u001b[0;34m(\u001b[0m\u001b[0mparams\u001b[0m\u001b[0;34m,\u001b[0m \u001b[0mnoskip\u001b[0m\u001b[0;34m)\u001b[0m\u001b[0;34m\u001b[0m\u001b[0;34m\u001b[0m\u001b[0m\n\u001b[0;32m---> 40\u001b[0;31m     \u001b[0m_run\u001b[0m\u001b[0;34m(\u001b[0m\u001b[0mrps\u001b[0m\u001b[0;34m)\u001b[0m\u001b[0;34m\u001b[0m\u001b[0;34m\u001b[0m\u001b[0m\n\u001b[0m\u001b[1;32m     41\u001b[0m     \u001b[0mouts\u001b[0m \u001b[0;34m=\u001b[0m \u001b[0mLD2DL\u001b[0m\u001b[0;34m(\u001b[0m\u001b[0mrps\u001b[0m\u001b[0;34m)\u001b[0m\u001b[0;34m[\u001b[0m\u001b[0;34m\"out_path\"\u001b[0m\u001b[0;34m]\u001b[0m\u001b[0;34m\u001b[0m\u001b[0;34m\u001b[0m\u001b[0m\n\u001b[1;32m     42\u001b[0m     \u001b[0mresults\u001b[0m \u001b[0;34m=\u001b[0m \u001b[0m_parse\u001b[0m\u001b[0;34m(\u001b[0m\u001b[0mouts\u001b[0m\u001b[0;34m)\u001b[0m\u001b[0;34m\u001b[0m\u001b[0;34m\u001b[0m\u001b[0m\n",
      "\u001b[0;32m~/.local/lib/python3.8/site-packages/hepi/resummino/run.py\u001b[0m in \u001b[0;36m_run\u001b[0;34m(rps, bar)\u001b[0m\n\u001b[1;32m    140\u001b[0m         \u001b[0;32mwhile\u001b[0m \u001b[0mc\u001b[0m\u001b[0;34m:\u001b[0m\u001b[0;34m\u001b[0m\u001b[0;34m\u001b[0m\u001b[0m\n\u001b[1;32m    141\u001b[0m             \u001b[0;32mif\u001b[0m \u001b[0mlen\u001b[0m\u001b[0;34m(\u001b[0m\u001b[0mprocesses\u001b[0m\u001b[0;34m)\u001b[0m \u001b[0;34m>\u001b[0m\u001b[0;36m0\u001b[0m\u001b[0;34m:\u001b[0m\u001b[0;34m\u001b[0m\u001b[0;34m\u001b[0m\u001b[0m\n\u001b[0;32m--> 142\u001b[0;31m                 \u001b[0mtime\u001b[0m\u001b[0;34m.\u001b[0m\u001b[0msleep\u001b[0m\u001b[0;34m(\u001b[0m\u001b[0;36m10\u001b[0m\u001b[0;34m)\u001b[0m\u001b[0;34m\u001b[0m\u001b[0;34m\u001b[0m\u001b[0m\n\u001b[0m\u001b[1;32m    143\u001b[0m             \u001b[0mc\u001b[0m \u001b[0;34m=\u001b[0m \u001b[0;32mFalse\u001b[0m\u001b[0;34m\u001b[0m\u001b[0;34m\u001b[0m\u001b[0m\n\u001b[1;32m    144\u001b[0m             \u001b[0;32mfor\u001b[0m \u001b[0mp\u001b[0m \u001b[0;32min\u001b[0m \u001b[0mprocesses\u001b[0m\u001b[0;34m:\u001b[0m\u001b[0;34m\u001b[0m\u001b[0;34m\u001b[0m\u001b[0m\n",
      "\u001b[0;31mKeyboardInterrupt\u001b[0m: "
     ]
    },
    {
     "data": {
      "image/png": "[encoded data removed]",
      "text/plain": [
       "<Figure size 432x288 with 1 Axes>"
      ]
     },
     "metadata": {
      "needs_background": "light"
     },
     "output_type": "display_data"
    }
   ],
   "source": [
    "# pdfs CT14lo CT14nlo CTEQ6L1 (CTEQ6M)\n",
    "for sq in [2000002,1000002]:\n",
    "    for pdf,nlopdf in [(\"CT14lo\",\"CT14lo\"),(\"CT14lo\",\"CT14nlo\"),(\"cteq6l1\",\"cteq6l1\"),(\"cteq6l1\",\"cteq61\")]:\n",
    "        i = hepi.Input(hepi.Order.NLO,7000,sq,1000022,\"sps1a1000.in\",pdf,nlopdf,1., 1.,\"rnlo_UU\")\n",
    "        li = hepi.mass_scan([i],sq, range(300,1000,50),diff_L_R=20)\n",
    "        dll = rs.run(li,True)\n",
    "        hepi.mass_vplot(dll,sq,((dll[\"rnlo\"]+dll[\"lo\"])/dll[\"lo\"]),logy=False,label=\"$K_\\\\mathrm{p+k}$ \" + nlopdf)\n",
    "    hepi.mass_vplot(dll,sq,((dll[\"lo\"])/dll[\"lo\"]),logy=False,label=\"$K_\\\\mathrm{lo}$\")\n",
    "    plt.show()\n"
   ]
  },
  {
   "cell_type": "code",
   "execution_count": 29,
   "metadata": {
    "scrolled": true
   },
   "outputs": [
    {
     "data": {
      "text/html": [
       "<style>\n",
       "</style>\n",
       "<div class=\"enlighten\">\n",
       "  <div class=\"enlighten-bar\">\n",
       "    <pre>./output/order_Order.NLO_energy_7000_particle1_2000002_particle2_1000022_slha_sps1a1000.in_2000002_300_pdf_lo_CT14lo_pdf_nlo_CT14lo_mu_f_1.0_mu_r_1.0_id_ppk_mass_2000002_300_code_RS.out</pre>\n",
       "  </div>\n",
       "  <div class=\"enlighten-bar\">\n",
       "    <pre> ... 300 ... 300                    Stage: DONE                     Status DONE:                    </pre>\n",
       "  </div>\n",
       "  <div class=\"enlighten-bar\">\n",
       "    <pre> ... 350 ... 350                    Stage: DONE                     Status DONE:                    </pre>\n",
       "  </div>\n",
       "  <div class=\"enlighten-bar\">\n",
       "    <pre> ... 400 ... 400                    Stage: DONE                     Status DONE:                    </pre>\n",
       "  </div>\n",
       "  <div class=\"enlighten-bar\">\n",
       "    <pre> ... 450 ... 450                    Stage: DONE                     Status DONE:                    </pre>\n",
       "  </div>\n",
       "  <div class=\"enlighten-bar\">\n",
       "    <pre> ... 500 ... 500                    Stage: DONE                     Status DONE:                    </pre>\n",
       "  </div>\n",
       "  <div class=\"enlighten-bar\">\n",
       "    <pre> ... 550 ... 550                    Stage: DONE                     Status DONE:                    </pre>\n",
       "  </div>\n",
       "  <div class=\"enlighten-bar\">\n",
       "    <pre> ... 600 ... 600                    Stage: DONE                     Status DONE:                    </pre>\n",
       "  </div>\n",
       "  <div class=\"enlighten-bar\">\n",
       "    <pre> ... 650 ... 650                    Stage: DONE                     Status DONE:                    </pre>\n",
       "  </div>\n",
       "  <div class=\"enlighten-bar\">\n",
       "    <pre> ... 700 ... 700                    Stage: DONE                     Status DONE:                    </pre>\n",
       "  </div>\n",
       "  <div class=\"enlighten-bar\">\n",
       "    <pre> ... 750 ... 750                    Stage: DONE                     Status DONE:                    </pre>\n",
       "  </div>\n",
       "  <div class=\"enlighten-bar\">\n",
       "    <pre> ... 800 ... 800                    Stage: DONE                     Status DONE:                    </pre>\n",
       "  </div>\n",
       "  <div class=\"enlighten-bar\">\n",
       "    <pre> ... 850 ... 850                    Stage: DONE                     Status DONE:                    </pre>\n",
       "  </div>\n",
       "  <div class=\"enlighten-bar\">\n",
       "    <pre> ... 900 ... 900                    Stage: DONE                     Status DONE:                    </pre>\n",
       "  </div>\n",
       "  <div class=\"enlighten-bar\">\n",
       "    <pre> ... 950 ... 950                    Stage: DONE                     Status DONE:                    </pre>\n",
       "  </div>\n",
       "</div>\n"
      ],
      "text/plain": [
       "<IPython.core.display.HTML object>"
      ]
     },
     "metadata": {},
     "output_type": "display_data"
    },
    {
     "data": {
      "text/html": [
       "<style>\n",
       "</style>\n",
       "<div class=\"enlighten\">\n",
       "  <div class=\"enlighten-bar\">\n",
       "    <pre>./output/order_Order.NLO_energy_7000_particle1_2000002_particle2_1000022_slha_sps1a1000.in_2000002_300_pdf_lo_CT14lo_pdf_nlo_CT14nlo_mu_f_1.0_mu_r_1.0_id_ppk_mass_2000002_300_code_RS.out</pre>\n",
       "  </div>\n",
       "  <div class=\"enlighten-bar\">\n",
       "    <pre> ... 300 ... 300                    Stage: DONE                     Status DONE:                    </pre>\n",
       "  </div>\n",
       "  <div class=\"enlighten-bar\">\n",
       "    <pre> ... 350 ... 350                    Stage: DONE                     Status DONE:                    </pre>\n",
       "  </div>\n",
       "  <div class=\"enlighten-bar\">\n",
       "    <pre> ... 400 ... 400                    Stage: DONE                     Status DONE:                    </pre>\n",
       "  </div>\n",
       "  <div class=\"enlighten-bar\">\n",
       "    <pre> ... 450 ... 450                    Stage: DONE                     Status DONE:                    </pre>\n",
       "  </div>\n",
       "  <div class=\"enlighten-bar\">\n",
       "    <pre> ... 500 ... 500                    Stage: DONE                     Status DONE:                    </pre>\n",
       "  </div>\n",
       "  <div class=\"enlighten-bar\">\n",
       "    <pre> ... 550 ... 550                    Stage: DONE                     Status DONE:                    </pre>\n",
       "  </div>\n",
       "  <div class=\"enlighten-bar\">\n",
       "    <pre> ... 600 ... 600                    Stage: DONE                     Status DONE:                    </pre>\n",
       "  </div>\n",
       "  <div class=\"enlighten-bar\">\n",
       "    <pre> ... 650 ... 650                    Stage: DONE                     Status DONE:                    </pre>\n",
       "  </div>\n",
       "  <div class=\"enlighten-bar\">\n",
       "    <pre> ... 700 ... 700                    Stage: DONE                     Status DONE:                    </pre>\n",
       "  </div>\n",
       "  <div class=\"enlighten-bar\">\n",
       "    <pre> ... 750 ... 750                    Stage: DONE                     Status DONE:                    </pre>\n",
       "  </div>\n",
       "  <div class=\"enlighten-bar\">\n",
       "    <pre> ... 800 ... 800                    Stage: DONE                     Status DONE:                    </pre>\n",
       "  </div>\n",
       "  <div class=\"enlighten-bar\">\n",
       "    <pre> ... 850 ... 850                    Stage: DONE                     Status DONE:                    </pre>\n",
       "  </div>\n",
       "  <div class=\"enlighten-bar\">\n",
       "    <pre> ... 900 ... 900                    Stage: DONE                     Status DONE:                    </pre>\n",
       "  </div>\n",
       "  <div class=\"enlighten-bar\">\n",
       "    <pre> ... 950 ... 950                    Stage: DONE                     Status DONE:                    </pre>\n",
       "  </div>\n",
       "</div>\n"
      ],
      "text/plain": [
       "<IPython.core.display.HTML object>"
      ]
     },
     "metadata": {},
     "output_type": "display_data"
    },
    {
     "data": {
      "text/html": [
       "<style>\n",
       "</style>\n",
       "<div class=\"enlighten\">\n",
       "  <div class=\"enlighten-bar\">\n",
       "    <pre>./output/order_Order.NLO_energy_7000_particle1_2000002_particle2_1000022_slha_sps1a1000.in_2000002_300_pdf_lo_cteq6l1_pdf_nlo_cteq6l1_mu_f_1.0_mu_r_1.0_id_ppk_mass_2000002_300_code_RS.out</pre>\n",
       "  </div>\n",
       "  <div class=\"enlighten-bar\">\n",
       "    <pre> ... 300 ... 300                    Stage: DONE                     Status DONE:                    </pre>\n",
       "  </div>\n",
       "  <div class=\"enlighten-bar\">\n",
       "    <pre> ... 350 ... 350                    Stage: DONE                     Status DONE:                    </pre>\n",
       "  </div>\n",
       "  <div class=\"enlighten-bar\">\n",
       "    <pre> ... 400 ... 400                    Stage: DONE                     Status DONE:                    </pre>\n",
       "  </div>\n",
       "  <div class=\"enlighten-bar\">\n",
       "    <pre> ... 450 ... 450                    Stage: DONE                     Status DONE:                    </pre>\n",
       "  </div>\n",
       "  <div class=\"enlighten-bar\">\n",
       "    <pre> ... 500 ... 500                    Stage: DONE                     Status DONE:                    </pre>\n",
       "  </div>\n",
       "  <div class=\"enlighten-bar\">\n",
       "    <pre> ... 550 ... 550                    Stage: DONE                     Status DONE:                    </pre>\n",
       "  </div>\n",
       "  <div class=\"enlighten-bar\">\n",
       "    <pre> ... 600 ... 600                    Stage: DONE                     Status DONE:                    </pre>\n",
       "  </div>\n",
       "  <div class=\"enlighten-bar\">\n",
       "    <pre> ... 650 ... 650                    Stage: DONE                     Status DONE:                    </pre>\n",
       "  </div>\n",
       "  <div class=\"enlighten-bar\">\n",
       "    <pre> ... 700 ... 700                    Stage: DONE                     Status DONE:                    </pre>\n",
       "  </div>\n",
       "  <div class=\"enlighten-bar\">\n",
       "    <pre> ... 750 ... 750                    Stage: DONE                     Status DONE:                    </pre>\n",
       "  </div>\n",
       "  <div class=\"enlighten-bar\">\n",
       "    <pre> ... 800 ... 800                    Stage: DONE                     Status DONE:                    </pre>\n",
       "  </div>\n",
       "  <div class=\"enlighten-bar\">\n",
       "    <pre> ... 850 ... 850                    Stage: DONE                     Status DONE:                    </pre>\n",
       "  </div>\n",
       "  <div class=\"enlighten-bar\">\n",
       "    <pre> ... 900 ... 900                    Stage: DONE                     Status DONE:                    </pre>\n",
       "  </div>\n",
       "  <div class=\"enlighten-bar\">\n",
       "    <pre> ... 950 ... 950                    Stage: DONE                     Status DONE:                    </pre>\n",
       "  </div>\n",
       "</div>\n"
      ],
      "text/plain": [
       "<IPython.core.display.HTML object>"
      ]
     },
     "metadata": {},
     "output_type": "display_data"
    },
    {
     "data": {
      "text/html": [
       "<style>\n",
       "</style>\n",
       "<div class=\"enlighten\">\n",
       "  <div class=\"enlighten-bar\">\n",
       "    <pre>./output/order_Order.NLO_energy_7000_particle1_2000002_particle2_1000022_slha_sps1a1000.in_2000002_300_pdf_lo_cteq6l1_pdf_nlo_cteq61_mu_f_1.0_mu_r_1.0_id_ppk_mass_2000002_300_code_RS.out</pre>\n",
       "  </div>\n",
       "  <div class=\"enlighten-bar\">\n",
       "    <pre> ... 300 ... 300                    Stage: DONE                     Status DONE:                    </pre>\n",
       "  </div>\n",
       "  <div class=\"enlighten-bar\">\n",
       "    <pre> ... 350 ... 350                    Stage: DONE                     Status DONE:                    </pre>\n",
       "  </div>\n",
       "  <div class=\"enlighten-bar\">\n",
       "    <pre> ... 400 ... 400                    Stage: DONE                     Status DONE:                    </pre>\n",
       "  </div>\n",
       "  <div class=\"enlighten-bar\">\n",
       "    <pre> ... 450 ... 450                    Stage: DONE                     Status DONE:                    </pre>\n",
       "  </div>\n",
       "  <div class=\"enlighten-bar\">\n",
       "    <pre> ... 500 ... 500                    Stage: DONE                     Status DONE:                    </pre>\n",
       "  </div>\n",
       "  <div class=\"enlighten-bar\">\n",
       "    <pre> ... 550 ... 550                    Stage: DONE                     Status DONE:                    </pre>\n",
       "  </div>\n",
       "  <div class=\"enlighten-bar\">\n",
       "    <pre> ... 600 ... 600                    Stage: DONE                     Status DONE:                    </pre>\n",
       "  </div>\n",
       "  <div class=\"enlighten-bar\">\n",
       "    <pre> ... 650 ... 650                    Stage: DONE                     Status DONE:                    </pre>\n",
       "  </div>\n",
       "  <div class=\"enlighten-bar\">\n",
       "    <pre> ... 700 ... 700                    Stage: DONE                     Status DONE:                    </pre>\n",
       "  </div>\n",
       "  <div class=\"enlighten-bar\">\n",
       "    <pre> ... 750 ... 750                    Stage: DONE                     Status DONE:                    </pre>\n",
       "  </div>\n",
       "  <div class=\"enlighten-bar\">\n",
       "    <pre> ... 800 ... 800                    Stage: DONE                     Status DONE:                    </pre>\n",
       "  </div>\n",
       "  <div class=\"enlighten-bar\">\n",
       "    <pre> ... 850 ... 850                    Stage: DONE                     Status DONE:                    </pre>\n",
       "  </div>\n",
       "  <div class=\"enlighten-bar\">\n",
       "    <pre> ... 900 ... 900                    Stage: DONE                     Status DONE:                    </pre>\n",
       "  </div>\n",
       "  <div class=\"enlighten-bar\">\n",
       "    <pre> ... 950 ... 950                    Stage: DONE                     Status DONE:                    </pre>\n",
       "  </div>\n",
       "</div>\n"
      ],
      "text/plain": [
       "<IPython.core.display.HTML object>"
      ]
     },
     "metadata": {},
     "output_type": "display_data"
    },
    {
     "data": {
      "image/png": "[encoded data removed]",
      "text/plain": [
       "<Figure size 432x288 with 1 Axes>"
      ]
     },
     "metadata": {
      "needs_background": "light"
     },
     "output_type": "display_data"
    },
    {
     "data": {
      "text/html": [
       "<style>\n",
       "</style>\n",
       "<div class=\"enlighten\">\n",
       "  <div class=\"enlighten-bar\">\n",
       "    <pre>./output/order_Order.NLO_energy_7000_particle1_1000002_particle2_1000022_slha_sps1a1000.in_1000002_300_pdf_lo_CT14lo_pdf_nlo_CT14lo_mu_f_1.0_mu_r_1.0_id_ppk_mass_1000002_300_code_RS.out</pre>\n",
       "  </div>\n",
       "  <div class=\"enlighten-bar\">\n",
       "    <pre> ... 300 ... 300                    Stage: DONE                     Status DONE:                    </pre>\n",
       "  </div>\n",
       "  <div class=\"enlighten-bar\">\n",
       "    <pre> ... 350 ... 350                    Stage: DONE                     Status DONE:                    </pre>\n",
       "  </div>\n",
       "  <div class=\"enlighten-bar\">\n",
       "    <pre> ... 400 ... 400                    Stage: DONE                     Status DONE:                    </pre>\n",
       "  </div>\n",
       "  <div class=\"enlighten-bar\">\n",
       "    <pre> ... 450 ... 450                    Stage: DONE                     Status DONE:                    </pre>\n",
       "  </div>\n",
       "  <div class=\"enlighten-bar\">\n",
       "    <pre> ... 500 ... 500                    Stage: DONE                     Status DONE:                    </pre>\n",
       "  </div>\n",
       "  <div class=\"enlighten-bar\">\n",
       "    <pre> ... 550 ... 550                    Stage: DONE                     Status DONE:                    </pre>\n",
       "  </div>\n",
       "  <div class=\"enlighten-bar\">\n",
       "    <pre> ... 600 ... 600                    Stage: DONE                     Status DONE:                    </pre>\n",
       "  </div>\n",
       "  <div class=\"enlighten-bar\">\n",
       "    <pre> ... 650 ... 650                    Stage: DONE                     Status DONE:                    </pre>\n",
       "  </div>\n",
       "  <div class=\"enlighten-bar\">\n",
       "    <pre> ... 700 ... 700                    Stage: DONE                     Status DONE:                    </pre>\n",
       "  </div>\n",
       "  <div class=\"enlighten-bar\">\n",
       "    <pre> ... 750 ... 750                    Stage: DONE                     Status DONE:                    </pre>\n",
       "  </div>\n",
       "  <div class=\"enlighten-bar\">\n",
       "    <pre> ... 800 ... 800                    Stage: DONE                     Status DONE:                    </pre>\n",
       "  </div>\n",
       "  <div class=\"enlighten-bar\">\n",
       "    <pre> ... 850 ... 850                    Stage: DONE                     Status DONE:                    </pre>\n",
       "  </div>\n",
       "  <div class=\"enlighten-bar\">\n",
       "    <pre> ... 900 ... 900                    Stage: DONE                     Status DONE:                    </pre>\n",
       "  </div>\n",
       "  <div class=\"enlighten-bar\">\n",
       "    <pre> ... 950 ... 950                    Stage: DONE                     Status DONE:                    </pre>\n",
       "  </div>\n",
       "</div>\n"
      ],
      "text/plain": [
       "<IPython.core.display.HTML object>"
      ]
     },
     "metadata": {},
     "output_type": "display_data"
    },
    {
     "data": {
      "text/html": [
       "<style>\n",
       "</style>\n",
       "<div class=\"enlighten\">\n",
       "  <div class=\"enlighten-bar\">\n",
       "    <pre>./output/order_Order.NLO_energy_7000_particle1_1000002_particle2_1000022_slha_sps1a1000.in_1000002_300_pdf_lo_CT14lo_pdf_nlo_CT14nlo_mu_f_1.0_mu_r_1.0_id_ppk_mass_1000002_300_code_RS.out</pre>\n",
       "  </div>\n",
       "  <div class=\"enlighten-bar\">\n",
       "    <pre> ... 300 ... 300                    Stage: DONE                     Status DONE:                    </pre>\n",
       "  </div>\n",
       "  <div class=\"enlighten-bar\">\n",
       "    <pre> ... 350 ... 350                    Stage: DONE                     Status DONE:                    </pre>\n",
       "  </div>\n",
       "  <div class=\"enlighten-bar\">\n",
       "    <pre> ... 400 ... 400                    Stage: DONE                     Status DONE:                    </pre>\n",
       "  </div>\n",
       "  <div class=\"enlighten-bar\">\n",
       "    <pre> ... 450 ... 450                    Stage: DONE                     Status DONE:                    </pre>\n",
       "  </div>\n",
       "  <div class=\"enlighten-bar\">\n",
       "    <pre> ... 500 ... 500                    Stage: DONE                     Status DONE:                    </pre>\n",
       "  </div>\n",
       "  <div class=\"enlighten-bar\">\n",
       "    <pre> ... 550 ... 550                    Stage: DONE                     Status DONE:                    </pre>\n",
       "  </div>\n",
       "  <div class=\"enlighten-bar\">\n",
       "    <pre> ... 600 ... 600                    Stage: DONE                     Status DONE:                    </pre>\n",
       "  </div>\n",
       "  <div class=\"enlighten-bar\">\n",
       "    <pre> ... 650 ... 650                    Stage: DONE                     Status DONE:                    </pre>\n",
       "  </div>\n",
       "  <div class=\"enlighten-bar\">\n",
       "    <pre> ... 700 ... 700                    Stage: DONE                     Status DONE:                    </pre>\n",
       "  </div>\n",
       "  <div class=\"enlighten-bar\">\n",
       "    <pre> ... 750 ... 750                    Stage: DONE                     Status DONE:                    </pre>\n",
       "  </div>\n",
       "  <div class=\"enlighten-bar\">\n",
       "    <pre> ... 800 ... 800                    Stage: DONE                     Status DONE:                    </pre>\n",
       "  </div>\n",
       "  <div class=\"enlighten-bar\">\n",
       "    <pre> ... 850 ... 850                    Stage: DONE                     Status DONE:                    </pre>\n",
       "  </div>\n",
       "  <div class=\"enlighten-bar\">\n",
       "    <pre> ... 900 ... 900                    Stage: DONE                     Status DONE:                    </pre>\n",
       "  </div>\n",
       "  <div class=\"enlighten-bar\">\n",
       "    <pre> ... 950 ... 950                    Stage: DONE                     Status DONE:                    </pre>\n",
       "  </div>\n",
       "</div>\n"
      ],
      "text/plain": [
       "<IPython.core.display.HTML object>"
      ]
     },
     "metadata": {},
     "output_type": "display_data"
    },
    {
     "data": {
      "text/html": [
       "<style>\n",
       "</style>\n",
       "<div class=\"enlighten\">\n",
       "  <div class=\"enlighten-bar\">\n",
       "    <pre>./output/order_Order.NLO_energy_7000_particle1_1000002_particle2_1000022_slha_sps1a1000.in_1000002_300_pdf_lo_cteq6l1_pdf_nlo_cteq6l1_mu_f_1.0_mu_r_1.0_id_ppk_mass_1000002_300_code_RS.out</pre>\n",
       "  </div>\n",
       "  <div class=\"enlighten-bar\">\n",
       "    <pre> ... 300 ... 300                    Stage: DONE                     Status DONE:                    </pre>\n",
       "  </div>\n",
       "  <div class=\"enlighten-bar\">\n",
       "    <pre> ... 350 ... 350                    Stage: DONE                     Status DONE:                    </pre>\n",
       "  </div>\n",
       "  <div class=\"enlighten-bar\">\n",
       "    <pre> ... 400 ... 400                    Stage: DONE                     Status DONE:                    </pre>\n",
       "  </div>\n",
       "  <div class=\"enlighten-bar\">\n",
       "    <pre> ... 450 ... 450                    Stage: DONE                     Status DONE:                    </pre>\n",
       "  </div>\n",
       "  <div class=\"enlighten-bar\">\n",
       "    <pre> ... 500 ... 500                    Stage: DONE                     Status DONE:                    </pre>\n",
       "  </div>\n",
       "  <div class=\"enlighten-bar\">\n",
       "    <pre> ... 550 ... 550                    Stage: DONE                     Status DONE:                    </pre>\n",
       "  </div>\n",
       "  <div class=\"enlighten-bar\">\n",
       "    <pre> ... 600 ... 600                    Stage: DONE                     Status DONE:                    </pre>\n",
       "  </div>\n",
       "  <div class=\"enlighten-bar\">\n",
       "    <pre> ... 650 ... 650                    Stage: DONE                     Status DONE:                    </pre>\n",
       "  </div>\n",
       "  <div class=\"enlighten-bar\">\n",
       "    <pre> ... 700 ... 700                    Stage: DONE                     Status DONE:                    </pre>\n",
       "  </div>\n",
       "  <div class=\"enlighten-bar\">\n",
       "    <pre> ... 750 ... 750                    Stage: DONE                     Status DONE:                    </pre>\n",
       "  </div>\n",
       "  <div class=\"enlighten-bar\">\n",
       "    <pre> ... 800 ... 800                    Stage: DONE                     Status DONE:                    </pre>\n",
       "  </div>\n",
       "  <div class=\"enlighten-bar\">\n",
       "    <pre> ... 850 ... 850                    Stage: DONE                     Status DONE:                    </pre>\n",
       "  </div>\n",
       "  <div class=\"enlighten-bar\">\n",
       "    <pre> ... 900 ... 900                    Stage: DONE                     Status DONE:                    </pre>\n",
       "  </div>\n",
       "  <div class=\"enlighten-bar\">\n",
       "    <pre> ... 950 ... 950                    Stage: DONE                     Status DONE:                    </pre>\n",
       "  </div>\n",
       "</div>\n"
      ],
      "text/plain": [
       "<IPython.core.display.HTML object>"
      ]
     },
     "metadata": {},
     "output_type": "display_data"
    },
    {
     "data": {
      "text/html": [
       "<style>\n",
       "</style>\n",
       "<div class=\"enlighten\">\n",
       "  <div class=\"enlighten-bar\">\n",
       "    <pre>./output/order_Order.NLO_energy_7000_particle1_1000002_particle2_1000022_slha_sps1a1000.in_1000002_300_pdf_lo_cteq6l1_pdf_nlo_cteq61_mu_f_1.0_mu_r_1.0_id_ppk_mass_1000002_300_code_RS.out</pre>\n",
       "  </div>\n",
       "  <div class=\"enlighten-bar\">\n",
       "    <pre> ... 300 ... 300                    Stage: DONE                     Status DONE:                    </pre>\n",
       "  </div>\n",
       "  <div class=\"enlighten-bar\">\n",
       "    <pre> ... 350 ... 350                    Stage: DONE                     Status DONE:                    </pre>\n",
       "  </div>\n",
       "  <div class=\"enlighten-bar\">\n",
       "    <pre> ... 400 ... 400                    Stage: DONE                     Status DONE:                    </pre>\n",
       "  </div>\n",
       "  <div class=\"enlighten-bar\">\n",
       "    <pre> ... 450 ... 450                    Stage: DONE                     Status DONE:                    </pre>\n",
       "  </div>\n",
       "  <div class=\"enlighten-bar\">\n",
       "    <pre> ... 500 ... 500                    Stage: DONE                     Status DONE:                    </pre>\n",
       "  </div>\n",
       "  <div class=\"enlighten-bar\">\n",
       "    <pre> ... 550 ... 550                    Stage: DONE                     Status DONE:                    </pre>\n",
       "  </div>\n",
       "  <div class=\"enlighten-bar\">\n",
       "    <pre> ... 600 ... 600                    Stage: DONE                     Status DONE:                    </pre>\n",
       "  </div>\n",
       "  <div class=\"enlighten-bar\">\n",
       "    <pre> ... 650 ... 650                    Stage: DONE                     Status DONE:                    </pre>\n",
       "  </div>\n",
       "  <div class=\"enlighten-bar\">\n",
       "    <pre> ... 700 ... 700                    Stage: DONE                     Status DONE:                    </pre>\n",
       "  </div>\n",
       "  <div class=\"enlighten-bar\">\n",
       "    <pre> ... 750 ... 750                    Stage: DONE                     Status DONE:                    </pre>\n",
       "  </div>\n",
       "  <div class=\"enlighten-bar\">\n",
       "    <pre> ... 800 ... 800                    Stage: DONE                     Status DONE:                    </pre>\n",
       "  </div>\n",
       "  <div class=\"enlighten-bar\">\n",
       "    <pre> ... 850 ... 850                    Stage: DONE                     Status DONE:                    </pre>\n",
       "  </div>\n",
       "  <div class=\"enlighten-bar\">\n",
       "    <pre> ... 900 ... 900                    Stage: DONE                     Status DONE:                    </pre>\n",
       "  </div>\n",
       "  <div class=\"enlighten-bar\">\n",
       "    <pre> ... 950 ... 950                    Stage: DONE                     Status DONE:                    </pre>\n",
       "  </div>\n",
       "</div>\n"
      ],
      "text/plain": [
       "<IPython.core.display.HTML object>"
      ]
     },
     "metadata": {},
     "output_type": "display_data"
    },
    {
     "data": {
      "image/png": "[encoded data removed]",
      "text/plain": [
       "<Figure size 432x288 with 1 Axes>"
      ]
     },
     "metadata": {
      "needs_background": "light"
     },
     "output_type": "display_data"
    }
   ],
   "source": [
    "# pdfs CT14lo CT14nlo CTEQ6L1 (CTEQ6M)\n",
    "for sq in [2000002,1000002]:\n",
    "    for pdf,nlopdf in [(\"CT14lo\",\"CT14lo\"),(\"CT14lo\",\"CT14nlo\"),(\"cteq6l1\",\"cteq6l1\"),(\"cteq6l1\",\"cteq61\")]:\n",
    "        i = hepi.Input(hepi.Order.NLO,7000,sq,1000022,\"sps1a1000.in\",pdf,nlopdf,1., 1.,\"ppk\")\n",
    "        li = hepi.mass_scan([i],sq, range(300,1000,50),diff_L_R=20)\n",
    "        dll = rs.run(li,True)\n",
    "        hepi.mass_vplot(dll,sq,((dll[\"vnlo\"]+dll[\"p_plus_k\"]+dll[\"lo\"])/dll[\"lo\"]),logy=False,label=\"$K_\\\\mathrm{p+k}$ \" + nlopdf)\n",
    "    hepi.mass_vplot(dll,sq,((dll[\"lo\"])/dll[\"lo\"]),logy=False,label=\"$K_\\\\mathrm{lo}$\")\n",
    "    plt.show()\n"
   ]
  },
  {
   "cell_type": "code",
   "execution_count": 5,
   "metadata": {
    "scrolled": true
   },
   "outputs": [
    {
     "data": {
      "text/html": [
       "<style>\n",
       "</style>\n",
       "<div class=\"enlighten\">\n",
       "  <div class=\"enlighten-bar\">\n",
       "    <pre>./output/order_Order.NLO_energy_7000_particle1_2000002_particle2_1000022_slha_sps1a1000.in_2000002_300_pdf_lo_CT14lo_pdf_nlo_CT14lo_mu_f_1.0_mu_r_1.0_id_uug_mass_2000002_300_code_RS.out</pre>\n",
       "  </div>\n",
       "  <div class=\"enlighten-bar\">\n",
       "    <pre> ... 300 ... 300                    Stage: DONE                     Status DONE:                    </pre>\n",
       "  </div>\n",
       "  <div class=\"enlighten-bar\">\n",
       "    <pre> ... 350 ... 350                    Stage: DONE                     Status DONE:                    </pre>\n",
       "  </div>\n",
       "  <div class=\"enlighten-bar\">\n",
       "    <pre> ... 400 ... 400                    Stage: DONE                     Status DONE:                    </pre>\n",
       "  </div>\n",
       "  <div class=\"enlighten-bar\">\n",
       "    <pre> ... 450 ... 450                    Stage: DONE                     Status DONE:                    </pre>\n",
       "  </div>\n",
       "  <div class=\"enlighten-bar\">\n",
       "    <pre> ... 500 ... 500                    Stage: DONE                     Status DONE:                    </pre>\n",
       "  </div>\n",
       "  <div class=\"enlighten-bar\">\n",
       "    <pre> ... 550 ... 550                    Stage: DONE                     Status DONE:                    </pre>\n",
       "  </div>\n",
       "  <div class=\"enlighten-bar\">\n",
       "    <pre> ... 600 ... 600                    Stage: DONE                     Status DONE:                    </pre>\n",
       "  </div>\n",
       "  <div class=\"enlighten-bar\">\n",
       "    <pre> ... 650 ... 650                    Stage: DONE                     Status DONE:                    </pre>\n",
       "  </div>\n",
       "  <div class=\"enlighten-bar\">\n",
       "    <pre> ... 700 ... 700                    Stage: DONE                     Status DONE:                    </pre>\n",
       "  </div>\n",
       "  <div class=\"enlighten-bar\">\n",
       "    <pre> ... 750 ... 750                    Stage: DONE                     Status DONE:                    </pre>\n",
       "  </div>\n",
       "  <div class=\"enlighten-bar\">\n",
       "    <pre> ... 800 ... 800                    Stage: DONE                     Status DONE:                    </pre>\n",
       "  </div>\n",
       "  <div class=\"enlighten-bar\">\n",
       "    <pre> ... 850 ... 850                    Stage: DONE                     Status DONE:                    </pre>\n",
       "  </div>\n",
       "  <div class=\"enlighten-bar\">\n",
       "    <pre> ... 900 ... 900                    Stage: DONE                     Status DONE:                    </pre>\n",
       "  </div>\n",
       "  <div class=\"enlighten-bar\">\n",
       "    <pre> ... 950 ... 950                    Stage: DONE                     Status DONE:                    </pre>\n",
       "  </div>\n",
       "</div>\n"
      ],
      "text/plain": [
       "<IPython.core.display.HTML object>"
      ]
     },
     "metadata": {},
     "output_type": "display_data"
    },
    {
     "data": {
      "text/html": [
       "<style>\n",
       "</style>\n",
       "<div class=\"enlighten\">\n",
       "  <div class=\"enlighten-bar\">\n",
       "    <pre>./output/order_Order.NLO_energy_7000_particle1_2000002_particle2_1000022_slha_sps1a1000.in_2000002_300_pdf_lo_CT14lo_pdf_nlo_CT14nlo_mu_f_1.0_mu_r_1.0_id_uug_mass_2000002_300_code_RS.out</pre>\n",
       "  </div>\n",
       "  <div class=\"enlighten-bar\">\n",
       "    <pre> ... 300 ... 300                    Stage: DONE                     Status DONE:                    </pre>\n",
       "  </div>\n",
       "  <div class=\"enlighten-bar\">\n",
       "    <pre> ... 350 ... 350                    Stage: DONE                     Status DONE:                    </pre>\n",
       "  </div>\n",
       "  <div class=\"enlighten-bar\">\n",
       "    <pre> ... 400 ... 400                    Stage: DONE                     Status DONE:                    </pre>\n",
       "  </div>\n",
       "  <div class=\"enlighten-bar\">\n",
       "    <pre> ... 450 ... 450                    Stage: DONE                     Status DONE:                    </pre>\n",
       "  </div>\n",
       "  <div class=\"enlighten-bar\">\n",
       "    <pre> ... 500 ... 500                    Stage: DONE                     Status DONE:                    </pre>\n",
       "  </div>\n",
       "  <div class=\"enlighten-bar\">\n",
       "    <pre> ... 550 ... 550                    Stage: DONE                     Status DONE:                    </pre>\n",
       "  </div>\n",
       "  <div class=\"enlighten-bar\">\n",
       "    <pre> ... 600 ... 600                    Stage: DONE                     Status DONE:                    </pre>\n",
       "  </div>\n",
       "  <div class=\"enlighten-bar\">\n",
       "    <pre> ... 650 ... 650                    Stage: DONE                     Status DONE:                    </pre>\n",
       "  </div>\n",
       "  <div class=\"enlighten-bar\">\n",
       "    <pre> ... 700 ... 700                    Stage: DONE                     Status DONE:                    </pre>\n",
       "  </div>\n",
       "  <div class=\"enlighten-bar\">\n",
       "    <pre> ... 750 ... 750                    Stage: DONE                     Status DONE:                    </pre>\n",
       "  </div>\n",
       "  <div class=\"enlighten-bar\">\n",
       "    <pre> ... 800 ... 800                    Stage: DONE                     Status DONE:                    </pre>\n",
       "  </div>\n",
       "  <div class=\"enlighten-bar\">\n",
       "    <pre> ... 850 ... 850                    Stage: DONE                     Status DONE:                    </pre>\n",
       "  </div>\n",
       "  <div class=\"enlighten-bar\">\n",
       "    <pre> ... 900 ... 900                    Stage: DONE                     Status DONE:                    </pre>\n",
       "  </div>\n",
       "  <div class=\"enlighten-bar\">\n",
       "    <pre> ... 950 ... 950                    Stage: DONE                     Status DONE:                    </pre>\n",
       "  </div>\n",
       "</div>\n"
      ],
      "text/plain": [
       "<IPython.core.display.HTML object>"
      ]
     },
     "metadata": {},
     "output_type": "display_data"
    },
    {
     "data": {
      "text/html": [
       "<style>\n",
       "</style>\n",
       "<div class=\"enlighten\">\n",
       "  <div class=\"enlighten-bar\">\n",
       "    <pre>./output/order_Order.NLO_energy_7000_particle1_2000002_particle2_1000022_slha_sps1a1000.in_2000002_300_pdf_lo_cteq6l1_pdf_nlo_cteq6l1_mu_f_1.0_mu_r_1.0_id_uug_mass_2000002_300_code_RS.out</pre>\n",
       "  </div>\n",
       "  <div class=\"enlighten-bar\">\n",
       "    <pre> ... 300 ... 300                    Stage: DONE                     Status DONE:                    </pre>\n",
       "  </div>\n",
       "  <div class=\"enlighten-bar\">\n",
       "    <pre> ... 350 ... 350                    Stage: DONE                     Status DONE:                    </pre>\n",
       "  </div>\n",
       "  <div class=\"enlighten-bar\">\n",
       "    <pre> ... 400 ... 400                    Stage: DONE                     Status DONE:                    </pre>\n",
       "  </div>\n",
       "  <div class=\"enlighten-bar\">\n",
       "    <pre> ... 450 ... 450                    Stage: DONE                     Status DONE:                    </pre>\n",
       "  </div>\n",
       "  <div class=\"enlighten-bar\">\n",
       "    <pre> ... 500 ... 500                    Stage: DONE                     Status DONE:                    </pre>\n",
       "  </div>\n",
       "  <div class=\"enlighten-bar\">\n",
       "    <pre> ... 550 ... 550                    Stage: DONE                     Status DONE:                    </pre>\n",
       "  </div>\n",
       "  <div class=\"enlighten-bar\">\n",
       "    <pre> ... 600 ... 600                    Stage: DONE                     Status DONE:                    </pre>\n",
       "  </div>\n",
       "  <div class=\"enlighten-bar\">\n",
       "    <pre> ... 650 ... 650                    Stage: DONE                     Status DONE:                    </pre>\n",
       "  </div>\n",
       "  <div class=\"enlighten-bar\">\n",
       "    <pre> ... 700 ... 700                    Stage: DONE                     Status DONE:                    </pre>\n",
       "  </div>\n",
       "  <div class=\"enlighten-bar\">\n",
       "    <pre> ... 750 ... 750                    Stage: DONE                     Status DONE:                    </pre>\n",
       "  </div>\n",
       "  <div class=\"enlighten-bar\">\n",
       "    <pre> ... 800 ... 800                    Stage: DONE                     Status DONE:                    </pre>\n",
       "  </div>\n",
       "  <div class=\"enlighten-bar\">\n",
       "    <pre> ... 850 ... 850                    Stage: DONE                     Status DONE:                    </pre>\n",
       "  </div>\n",
       "  <div class=\"enlighten-bar\">\n",
       "    <pre> ... 900 ... 900                    Stage: DONE                     Status DONE:                    </pre>\n",
       "  </div>\n",
       "  <div class=\"enlighten-bar\">\n",
       "    <pre> ... 950 ... 950                    Stage: DONE                     Status DONE:                    </pre>\n",
       "  </div>\n",
       "</div>\n"
      ],
      "text/plain": [
       "<IPython.core.display.HTML object>"
      ]
     },
     "metadata": {},
     "output_type": "display_data"
    },
    {
     "data": {
      "text/html": [
       "<style>\n",
       "</style>\n",
       "<div class=\"enlighten\">\n",
       "  <div class=\"enlighten-bar\">\n",
       "    <pre>./output/order_Order.NLO_energy_7000_particle1_2000002_particle2_1000022_slha_sps1a1000.in_2000002_300_pdf_lo_cteq6l1_pdf_nlo_cteq61_mu_f_1.0_mu_r_1.0_id_uug_mass_2000002_300_code_RS.out</pre>\n",
       "  </div>\n",
       "  <div class=\"enlighten-bar\">\n",
       "    <pre> ... 300 ... 300                    Stage: DONE                     Status DONE:                    </pre>\n",
       "  </div>\n",
       "  <div class=\"enlighten-bar\">\n",
       "    <pre> ... 350 ... 350                    Stage: DONE                     Status DONE:                    </pre>\n",
       "  </div>\n",
       "  <div class=\"enlighten-bar\">\n",
       "    <pre> ... 400 ... 400                    Stage: DONE                     Status DONE:                    </pre>\n",
       "  </div>\n",
       "  <div class=\"enlighten-bar\">\n",
       "    <pre> ... 450 ... 450                    Stage: DONE                     Status DONE:                    </pre>\n",
       "  </div>\n",
       "  <div class=\"enlighten-bar\">\n",
       "    <pre> ... 500 ... 500                    Stage: DONE                     Status DONE:                    </pre>\n",
       "  </div>\n",
       "  <div class=\"enlighten-bar\">\n",
       "    <pre> ... 550 ... 550                    Stage: DONE                     Status DONE:                    </pre>\n",
       "  </div>\n",
       "  <div class=\"enlighten-bar\">\n",
       "    <pre> ... 600 ... 600                    Stage: DONE                     Status DONE:                    </pre>\n",
       "  </div>\n",
       "  <div class=\"enlighten-bar\">\n",
       "    <pre> ... 650 ... 650                    Stage: DONE                     Status DONE:                    </pre>\n",
       "  </div>\n",
       "  <div class=\"enlighten-bar\">\n",
       "    <pre> ... 700 ... 700                    Stage: DONE                     Status DONE:                    </pre>\n",
       "  </div>\n",
       "  <div class=\"enlighten-bar\">\n",
       "    <pre> ... 750 ... 750                    Stage: DONE                     Status DONE:                    </pre>\n",
       "  </div>\n",
       "  <div class=\"enlighten-bar\">\n",
       "    <pre> ... 800 ... 800                    Stage: DONE                     Status DONE:                    </pre>\n",
       "  </div>\n",
       "  <div class=\"enlighten-bar\">\n",
       "    <pre> ... 850 ... 850                    Stage: DONE                     Status DONE:                    </pre>\n",
       "  </div>\n",
       "  <div class=\"enlighten-bar\">\n",
       "    <pre> ... 900 ... 900                    Stage: DONE                     Status DONE:                    </pre>\n",
       "  </div>\n",
       "  <div class=\"enlighten-bar\">\n",
       "    <pre> ... 950 ... 950                    Stage: DONE                     Status DONE:                    </pre>\n",
       "  </div>\n",
       "</div>\n"
      ],
      "text/plain": [
       "<IPython.core.display.HTML object>"
      ]
     },
     "metadata": {},
     "output_type": "display_data"
    },
    {
     "data": {
      "image/png": "[encoded data removed]",
      "text/plain": [
       "<Figure size 432x288 with 1 Axes>"
      ]
     },
     "metadata": {
      "needs_background": "light"
     },
     "output_type": "display_data"
    },
    {
     "data": {
      "text/html": [
       "<style>\n",
       "</style>\n",
       "<div class=\"enlighten\">\n",
       "  <div class=\"enlighten-bar\">\n",
       "    <pre>./output/order_Order.NLO_energy_7000_particle1_1000002_particle2_1000022_slha_sps1a1000.in_1000002_300_pdf_lo_CT14lo_pdf_nlo_CT14lo_mu_f_1.0_mu_r_1.0_id_uug_mass_1000002_300_code_RS.out</pre>\n",
       "  </div>\n",
       "  <div class=\"enlighten-bar\">\n",
       "    <pre> ... 300 ... 300                    Stage: DONE                     Status DONE:                    </pre>\n",
       "  </div>\n",
       "  <div class=\"enlighten-bar\">\n",
       "    <pre> ... 350 ... 350                    Stage: DONE                     Status DONE:                    </pre>\n",
       "  </div>\n",
       "  <div class=\"enlighten-bar\">\n",
       "    <pre> ... 400 ... 400                    Stage: DONE                     Status DONE:                    </pre>\n",
       "  </div>\n",
       "  <div class=\"enlighten-bar\">\n",
       "    <pre> ... 450 ... 450                    Stage: DONE                     Status DONE:                    </pre>\n",
       "  </div>\n",
       "  <div class=\"enlighten-bar\">\n",
       "    <pre> ... 500 ... 500                    Stage: DONE                     Status DONE:                    </pre>\n",
       "  </div>\n",
       "  <div class=\"enlighten-bar\">\n",
       "    <pre> ... 550 ... 550                    Stage: DONE                     Status DONE:                    </pre>\n",
       "  </div>\n",
       "  <div class=\"enlighten-bar\">\n",
       "    <pre> ... 600 ... 600                    Stage: DONE                     Status DONE:                    </pre>\n",
       "  </div>\n",
       "  <div class=\"enlighten-bar\">\n",
       "    <pre> ... 650 ... 650                    Stage: DONE                     Status DONE:                    </pre>\n",
       "  </div>\n",
       "  <div class=\"enlighten-bar\">\n",
       "    <pre> ... 700 ... 700                    Stage: DONE                     Status DONE:                    </pre>\n",
       "  </div>\n",
       "  <div class=\"enlighten-bar\">\n",
       "    <pre> ... 750 ... 750                    Stage: DONE                     Status DONE:                    </pre>\n",
       "  </div>\n",
       "  <div class=\"enlighten-bar\">\n",
       "    <pre> ... 800 ... 800                    Stage: DONE                     Status DONE:                    </pre>\n",
       "  </div>\n",
       "  <div class=\"enlighten-bar\">\n",
       "    <pre> ... 850 ... 850                    Stage: DONE                     Status DONE:                    </pre>\n",
       "  </div>\n",
       "  <div class=\"enlighten-bar\">\n",
       "    <pre> ... 900 ... 900                    Stage: DONE                     Status DONE:                    </pre>\n",
       "  </div>\n",
       "  <div class=\"enlighten-bar\">\n",
       "    <pre> ... 950 ... 950                    Stage: DONE                     Status DONE:                    </pre>\n",
       "  </div>\n",
       "</div>\n"
      ],
      "text/plain": [
       "<IPython.core.display.HTML object>"
      ]
     },
     "metadata": {},
     "output_type": "display_data"
    },
    {
     "data": {
      "text/html": [
       "<style>\n",
       "</style>\n",
       "<div class=\"enlighten\">\n",
       "  <div class=\"enlighten-bar\">\n",
       "    <pre>./output/order_Order.NLO_energy_7000_particle1_1000002_particle2_1000022_slha_sps1a1000.in_1000002_300_pdf_lo_CT14lo_pdf_nlo_CT14nlo_mu_f_1.0_mu_r_1.0_id_uug_mass_1000002_300_code_RS.out</pre>\n",
       "  </div>\n",
       "  <div class=\"enlighten-bar\">\n",
       "    <pre> ... 300 ... 300                    Stage: DONE                     Status DONE:                    </pre>\n",
       "  </div>\n",
       "  <div class=\"enlighten-bar\">\n",
       "    <pre> ... 350 ... 350                    Stage: DONE                     Status DONE:                    </pre>\n",
       "  </div>\n",
       "  <div class=\"enlighten-bar\">\n",
       "    <pre> ... 400 ... 400                    Stage: DONE                     Status DONE:                    </pre>\n",
       "  </div>\n",
       "  <div class=\"enlighten-bar\">\n",
       "    <pre> ... 450 ... 450                    Stage: DONE                     Status DONE:                    </pre>\n",
       "  </div>\n",
       "  <div class=\"enlighten-bar\">\n",
       "    <pre> ... 500 ... 500                    Stage: DONE                     Status DONE:                    </pre>\n",
       "  </div>\n",
       "  <div class=\"enlighten-bar\">\n",
       "    <pre> ... 550 ... 550                    Stage: DONE                     Status DONE:                    </pre>\n",
       "  </div>\n",
       "  <div class=\"enlighten-bar\">\n",
       "    <pre> ... 600 ... 600                    Stage: DONE                     Status DONE:                    </pre>\n",
       "  </div>\n",
       "  <div class=\"enlighten-bar\">\n",
       "    <pre> ... 650 ... 650                    Stage: DONE                     Status DONE:                    </pre>\n",
       "  </div>\n",
       "  <div class=\"enlighten-bar\">\n",
       "    <pre> ... 700 ... 700                    Stage: DONE                     Status DONE:                    </pre>\n",
       "  </div>\n",
       "  <div class=\"enlighten-bar\">\n",
       "    <pre> ... 750 ... 750                    Stage: DONE                     Status DONE:                    </pre>\n",
       "  </div>\n",
       "  <div class=\"enlighten-bar\">\n",
       "    <pre> ... 800 ... 800                    Stage: DONE                     Status DONE:                    </pre>\n",
       "  </div>\n",
       "  <div class=\"enlighten-bar\">\n",
       "    <pre> ... 850 ... 850                    Stage: DONE                     Status DONE:                    </pre>\n",
       "  </div>\n",
       "  <div class=\"enlighten-bar\">\n",
       "    <pre> ... 900 ... 900                    Stage: DONE                     Status DONE:                    </pre>\n",
       "  </div>\n",
       "  <div class=\"enlighten-bar\">\n",
       "    <pre> ... 950 ... 950                    Stage: DONE                     Status DONE:                    </pre>\n",
       "  </div>\n",
       "</div>\n"
      ],
      "text/plain": [
       "<IPython.core.display.HTML object>"
      ]
     },
     "metadata": {},
     "output_type": "display_data"
    },
    {
     "data": {
      "text/html": [
       "<style>\n",
       "</style>\n",
       "<div class=\"enlighten\">\n",
       "  <div class=\"enlighten-bar\">\n",
       "    <pre>./output/order_Order.NLO_energy_7000_particle1_1000002_particle2_1000022_slha_sps1a1000.in_1000002_300_pdf_lo_cteq6l1_pdf_nlo_cteq6l1_mu_f_1.0_mu_r_1.0_id_uug_mass_1000002_300_code_RS.out</pre>\n",
       "  </div>\n",
       "  <div class=\"enlighten-bar\">\n",
       "    <pre> ... 300 ... 300                    Stage: DONE                     Status DONE:                    </pre>\n",
       "  </div>\n",
       "  <div class=\"enlighten-bar\">\n",
       "    <pre> ... 350 ... 350                    Stage: DONE                     Status DONE:                    </pre>\n",
       "  </div>\n",
       "  <div class=\"enlighten-bar\">\n",
       "    <pre> ... 400 ... 400                    Stage: DONE                     Status DONE:                    </pre>\n",
       "  </div>\n",
       "  <div class=\"enlighten-bar\">\n",
       "    <pre> ... 450 ... 450                    Stage: DONE                     Status DONE:                    </pre>\n",
       "  </div>\n",
       "  <div class=\"enlighten-bar\">\n",
       "    <pre> ... 500 ... 500                    Stage: DONE                     Status DONE:                    </pre>\n",
       "  </div>\n",
       "  <div class=\"enlighten-bar\">\n",
       "    <pre> ... 550 ... 550                    Stage: DONE                     Status DONE:                    </pre>\n",
       "  </div>\n",
       "  <div class=\"enlighten-bar\">\n",
       "    <pre> ... 600 ... 600                    Stage: DONE                     Status DONE:                    </pre>\n",
       "  </div>\n",
       "  <div class=\"enlighten-bar\">\n",
       "    <pre> ... 650 ... 650                    Stage: DONE                     Status DONE:                    </pre>\n",
       "  </div>\n",
       "  <div class=\"enlighten-bar\">\n",
       "    <pre> ... 700 ... 700                    Stage: DONE                     Status DONE:                    </pre>\n",
       "  </div>\n",
       "  <div class=\"enlighten-bar\">\n",
       "    <pre> ... 750 ... 750                    Stage: DONE                     Status DONE:                    </pre>\n",
       "  </div>\n",
       "  <div class=\"enlighten-bar\">\n",
       "    <pre> ... 800 ... 800                    Stage: DONE                     Status DONE:                    </pre>\n",
       "  </div>\n",
       "  <div class=\"enlighten-bar\">\n",
       "    <pre> ... 850 ... 850                    Stage: DONE                     Status DONE:                    </pre>\n",
       "  </div>\n",
       "  <div class=\"enlighten-bar\">\n",
       "    <pre> ... 900 ... 900                    Stage: DONE                     Status DONE:                    </pre>\n",
       "  </div>\n",
       "  <div class=\"enlighten-bar\">\n",
       "    <pre> ... 950 ... 950                    Stage: DONE                     Status DONE:                    </pre>\n",
       "  </div>\n",
       "</div>\n"
      ],
      "text/plain": [
       "<IPython.core.display.HTML object>"
      ]
     },
     "metadata": {},
     "output_type": "display_data"
    },
    {
     "data": {
      "text/html": [
       "<style>\n",
       "</style>\n",
       "<div class=\"enlighten\">\n",
       "  <div class=\"enlighten-bar\">\n",
       "    <pre>./output/order_Order.NLO_energy_7000_particle1_1000002_particle2_1000022_slha_sps1a1000.in_1000002_300_pdf_lo_cteq6l1_pdf_nlo_cteq61_mu_f_1.0_mu_r_1.0_id_uug_mass_1000002_300_code_RS.out</pre>\n",
       "  </div>\n",
       "  <div class=\"enlighten-bar\">\n",
       "    <pre> ... 300 ... 300                    Stage: DONE                     Status DONE:                    </pre>\n",
       "  </div>\n",
       "  <div class=\"enlighten-bar\">\n",
       "    <pre> ... 350 ... 350                    Stage: DONE                     Status DONE:                    </pre>\n",
       "  </div>\n",
       "  <div class=\"enlighten-bar\">\n",
       "    <pre> ... 400 ... 400                    Stage: DONE                     Status DONE:                    </pre>\n",
       "  </div>\n",
       "  <div class=\"enlighten-bar\">\n",
       "    <pre> ... 450 ... 450                    Stage: DONE                     Status DONE:                    </pre>\n",
       "  </div>\n",
       "  <div class=\"enlighten-bar\">\n",
       "    <pre> ... 500 ... 500                    Stage: DONE                     Status DONE:                    </pre>\n",
       "  </div>\n",
       "  <div class=\"enlighten-bar\">\n",
       "    <pre> ... 550 ... 550                    Stage: DONE                     Status DONE:                    </pre>\n",
       "  </div>\n",
       "  <div class=\"enlighten-bar\">\n",
       "    <pre> ... 600 ... 600                    Stage: DONE                     Status DONE:                    </pre>\n",
       "  </div>\n",
       "  <div class=\"enlighten-bar\">\n",
       "    <pre> ... 650 ... 650                    Stage: DONE                     Status DONE:                    </pre>\n",
       "  </div>\n",
       "  <div class=\"enlighten-bar\">\n",
       "    <pre> ... 700 ... 700                    Stage: DONE                     Status DONE:                    </pre>\n",
       "  </div>\n",
       "  <div class=\"enlighten-bar\">\n",
       "    <pre> ... 750 ... 750                    Stage: DONE                     Status DONE:                    </pre>\n",
       "  </div>\n",
       "  <div class=\"enlighten-bar\">\n",
       "    <pre> ... 800 ... 800                    Stage: DONE                     Status DONE:                    </pre>\n",
       "  </div>\n",
       "  <div class=\"enlighten-bar\">\n",
       "    <pre> ... 850 ... 850                    Stage: DONE                     Status DONE:                    </pre>\n",
       "  </div>\n",
       "  <div class=\"enlighten-bar\">\n",
       "    <pre> ... 900 ... 900                    Stage: DONE                     Status DONE:                    </pre>\n",
       "  </div>\n",
       "  <div class=\"enlighten-bar\">\n",
       "    <pre> ... 950 ... 950                    Stage: DONE                     Status DONE:                    </pre>\n",
       "  </div>\n",
       "</div>\n"
      ],
      "text/plain": [
       "<IPython.core.display.HTML object>"
      ]
     },
     "metadata": {},
     "output_type": "display_data"
    },
    {
     "data": {
      "image/png": "[encoded data removed]",
      "text/plain": [
       "<Figure size 432x288 with 1 Axes>"
      ]
     },
     "metadata": {
      "needs_background": "light"
     },
     "output_type": "display_data"
    }
   ],
   "source": [
    "# pdfs CT14lo CT14nlo CTEQ6L1 (CTEQ6M)\n",
    "for sq in [2000002,1000002]:\n",
    "    for pdf,nlopdf in [(\"CT14lo\",\"CT14lo\"),(\"CT14lo\",\"CT14nlo\"),(\"cteq6l1\",\"cteq6l1\"),(\"cteq6l1\",\"cteq61\")]:\n",
    "        i = hepi.Input(hepi.Order.NLO,7000,sq,1000022,\"sps1a1000.in\",pdf,nlopdf,1., 1.,\"uug\")\n",
    "        li = hepi.mass_scan([i],sq, range(300,1000,50),diff_L_R=20)\n",
    "        dll = rs.run(li,True)\n",
    "        hepi.mass_vplot(dll,sq,((dll[\"vnlo\"]+dll[\"lo\"])/dll[\"lo\"]),logy=False,label=\"$K_\\\\mathrm{uug}$ \" + nlopdf)\n",
    "    hepi.mass_vplot(dll,sq,((dll[\"lo\"])/dll[\"lo\"]),logy=False,label=\"$K_\\\\mathrm{lo}$\")\n",
    "    plt.show()"
   ]
  },
  {
   "cell_type": "code",
   "execution_count": 21,
   "metadata": {
    "scrolled": true
   },
   "outputs": [
    {
     "data": {
      "text/html": [
       "<style>\n",
       "</style>\n",
       "<div class=\"enlighten\">\n",
       "  <div class=\"enlighten-bar\">\n",
       "    <pre>./output/order_Order.NLO_energy_7000_particle1_2000002_particle2_1000022_slha_sps1a1000.in_2000002_300_pdf_lo_CT14lo_pdf_nlo_CT14lo_mu_f_1.0_mu_r_1.0_id_boxes_mass_2000002_300_code_RS.out</pre>\n",
       "  </div>\n",
       "  <div class=\"enlighten-bar\">\n",
       "    <pre> ... 300 ... 300                    Stage: DONE                     Status DONE:                    </pre>\n",
       "  </div>\n",
       "  <div class=\"enlighten-bar\">\n",
       "    <pre> ... 350 ... 350                    Stage: DONE                     Status DONE:                    </pre>\n",
       "  </div>\n",
       "  <div class=\"enlighten-bar\">\n",
       "    <pre> ... 400 ... 400                    Stage: DONE                     Status DONE:                    </pre>\n",
       "  </div>\n",
       "  <div class=\"enlighten-bar\">\n",
       "    <pre> ... 450 ... 450                    Stage: DONE                     Status DONE:                    </pre>\n",
       "  </div>\n",
       "  <div class=\"enlighten-bar\">\n",
       "    <pre> ... 500 ... 500                    Stage: DONE                     Status DONE:                    </pre>\n",
       "  </div>\n",
       "  <div class=\"enlighten-bar\">\n",
       "    <pre> ... 550 ... 550                    Stage: DONE                     Status DONE:                    </pre>\n",
       "  </div>\n",
       "  <div class=\"enlighten-bar\">\n",
       "    <pre> ... 600 ... 600                    Stage: DONE                     Status DONE:                    </pre>\n",
       "  </div>\n",
       "  <div class=\"enlighten-bar\">\n",
       "    <pre> ... 650 ... 650                    Stage: DONE                     Status DONE:                    </pre>\n",
       "  </div>\n",
       "  <div class=\"enlighten-bar\">\n",
       "    <pre> ... 700 ... 700                    Stage: DONE                     Status DONE:                    </pre>\n",
       "  </div>\n",
       "  <div class=\"enlighten-bar\">\n",
       "    <pre> ... 750 ... 750                    Stage: DONE                     Status DONE:                    </pre>\n",
       "  </div>\n",
       "  <div class=\"enlighten-bar\">\n",
       "    <pre> ... 800 ... 800                    Stage: DONE                     Status DONE:                    </pre>\n",
       "  </div>\n",
       "  <div class=\"enlighten-bar\">\n",
       "    <pre> ... 850 ... 850                    Stage: DONE                     Status DONE:                    </pre>\n",
       "  </div>\n",
       "  <div class=\"enlighten-bar\">\n",
       "    <pre> ... 900 ... 900                    Stage: DONE                     Status DONE:                    </pre>\n",
       "  </div>\n",
       "  <div class=\"enlighten-bar\">\n",
       "    <pre> ... 950 ... 950                    Stage: DONE                     Status DONE:                    </pre>\n",
       "  </div>\n",
       "</div>\n"
      ],
      "text/plain": [
       "<IPython.core.display.HTML object>"
      ]
     },
     "metadata": {},
     "output_type": "display_data"
    },
    {
     "data": {
      "text/html": [
       "<style>\n",
       "</style>\n",
       "<div class=\"enlighten\">\n",
       "  <div class=\"enlighten-bar\">\n",
       "    <pre>./output/order_Order.NLO_energy_7000_particle1_2000002_particle2_1000022_slha_sps1a1000.in_2000002_300_pdf_lo_CT14lo_pdf_nlo_CT14nlo_mu_f_1.0_mu_r_1.0_id_boxes_mass_2000002_300_code_RS.out</pre>\n",
       "  </div>\n",
       "  <div class=\"enlighten-bar\">\n",
       "    <pre> ... 300 ... 300                    Stage: DONE                     Status DONE:                    </pre>\n",
       "  </div>\n",
       "  <div class=\"enlighten-bar\">\n",
       "    <pre> ... 350 ... 350                    Stage: DONE                     Status DONE:                    </pre>\n",
       "  </div>\n",
       "  <div class=\"enlighten-bar\">\n",
       "    <pre> ... 400 ... 400                    Stage: DONE                     Status DONE:                    </pre>\n",
       "  </div>\n",
       "  <div class=\"enlighten-bar\">\n",
       "    <pre> ... 450 ... 450                    Stage: DONE                     Status DONE:                    </pre>\n",
       "  </div>\n",
       "  <div class=\"enlighten-bar\">\n",
       "    <pre> ... 500 ... 500                    Stage: DONE                     Status DONE:                    </pre>\n",
       "  </div>\n",
       "  <div class=\"enlighten-bar\">\n",
       "    <pre> ... 550 ... 550                    Stage: DONE                     Status DONE:                    </pre>\n",
       "  </div>\n",
       "  <div class=\"enlighten-bar\">\n",
       "    <pre> ... 600 ... 600                    Stage: DONE                     Status DONE:                    </pre>\n",
       "  </div>\n",
       "  <div class=\"enlighten-bar\">\n",
       "    <pre> ... 650 ... 650                    Stage: DONE                     Status DONE:                    </pre>\n",
       "  </div>\n",
       "  <div class=\"enlighten-bar\">\n",
       "    <pre> ... 700 ... 700                    Stage: DONE                     Status DONE:                    </pre>\n",
       "  </div>\n",
       "  <div class=\"enlighten-bar\">\n",
       "    <pre> ... 750 ... 750                    Stage: DONE                     Status DONE:                    </pre>\n",
       "  </div>\n",
       "  <div class=\"enlighten-bar\">\n",
       "    <pre> ... 800 ... 800                    Stage: DONE                     Status DONE:                    </pre>\n",
       "  </div>\n",
       "  <div class=\"enlighten-bar\">\n",
       "    <pre> ... 850 ... 850                    Stage: DONE                     Status DONE:                    </pre>\n",
       "  </div>\n",
       "  <div class=\"enlighten-bar\">\n",
       "    <pre> ... 900 ... 900                    Stage: DONE                     Status DONE:                    </pre>\n",
       "  </div>\n",
       "  <div class=\"enlighten-bar\">\n",
       "    <pre> ... 950 ... 950                    Stage: DONE                     Status DONE:                    </pre>\n",
       "  </div>\n",
       "</div>\n"
      ],
      "text/plain": [
       "<IPython.core.display.HTML object>"
      ]
     },
     "metadata": {},
     "output_type": "display_data"
    },
    {
     "data": {
      "text/html": [
       "<style>\n",
       "</style>\n",
       "<div class=\"enlighten\">\n",
       "  <div class=\"enlighten-bar\">\n",
       "    <pre>./output/order_Order.NLO_energy_7000_particle1_2000002_particle2_1000022_slha_sps1a1000.in_2000002_300_pdf_lo_cteq6l1_pdf_nlo_cteq6l1_mu_f_1.0_mu_r_1.0_id_boxes_mass_2000002_300_code_RS.out</pre>\n",
       "  </div>\n",
       "  <div class=\"enlighten-bar\">\n",
       "    <pre> ... 300 ... 300                    Stage: DONE                     Status DONE:                    </pre>\n",
       "  </div>\n",
       "  <div class=\"enlighten-bar\">\n",
       "    <pre> ... 350 ... 350                    Stage: DONE                     Status DONE:                    </pre>\n",
       "  </div>\n",
       "  <div class=\"enlighten-bar\">\n",
       "    <pre> ... 400 ... 400                    Stage: DONE                     Status DONE:                    </pre>\n",
       "  </div>\n",
       "  <div class=\"enlighten-bar\">\n",
       "    <pre> ... 450 ... 450                    Stage: DONE                     Status DONE:                    </pre>\n",
       "  </div>\n",
       "  <div class=\"enlighten-bar\">\n",
       "    <pre> ... 500 ... 500                    Stage: DONE                     Status DONE:                    </pre>\n",
       "  </div>\n",
       "  <div class=\"enlighten-bar\">\n",
       "    <pre> ... 550 ... 550                    Stage: DONE                     Status DONE:                    </pre>\n",
       "  </div>\n",
       "  <div class=\"enlighten-bar\">\n",
       "    <pre> ... 600 ... 600                    Stage: DONE                     Status DONE:                    </pre>\n",
       "  </div>\n",
       "  <div class=\"enlighten-bar\">\n",
       "    <pre> ... 650 ... 650                    Stage: DONE                     Status DONE:                    </pre>\n",
       "  </div>\n",
       "  <div class=\"enlighten-bar\">\n",
       "    <pre> ... 700 ... 700                    Stage: DONE                     Status DONE:                    </pre>\n",
       "  </div>\n",
       "  <div class=\"enlighten-bar\">\n",
       "    <pre> ... 750 ... 750                    Stage: DONE                     Status DONE:                    </pre>\n",
       "  </div>\n",
       "  <div class=\"enlighten-bar\">\n",
       "    <pre> ... 800 ... 800                    Stage: DONE                     Status DONE:                    </pre>\n",
       "  </div>\n",
       "  <div class=\"enlighten-bar\">\n",
       "    <pre> ... 850 ... 850                    Stage: DONE                     Status DONE:                    </pre>\n",
       "  </div>\n",
       "  <div class=\"enlighten-bar\">\n",
       "    <pre> ... 900 ... 900                    Stage: DONE                     Status DONE:                    </pre>\n",
       "  </div>\n",
       "  <div class=\"enlighten-bar\">\n",
       "    <pre> ... 950 ... 950                    Stage: DONE                     Status DONE:                    </pre>\n",
       "  </div>\n",
       "</div>\n"
      ],
      "text/plain": [
       "<IPython.core.display.HTML object>"
      ]
     },
     "metadata": {},
     "output_type": "display_data"
    },
    {
     "data": {
      "text/html": [
       "<style>\n",
       "</style>\n",
       "<div class=\"enlighten\">\n",
       "  <div class=\"enlighten-bar\">\n",
       "    <pre>./output/order_Order.NLO_energy_7000_particle1_2000002_particle2_1000022_slha_sps1a1000.in_2000002_300_pdf_lo_cteq6l1_pdf_nlo_cteq61_mu_f_1.0_mu_r_1.0_id_boxes_mass_2000002_300_code_RS.out</pre>\n",
       "  </div>\n",
       "  <div class=\"enlighten-bar\">\n",
       "    <pre> ... 300 ... 300                    Stage: DONE                     Status DONE:                    </pre>\n",
       "  </div>\n",
       "  <div class=\"enlighten-bar\">\n",
       "    <pre> ... 350 ... 350                    Stage: DONE                     Status DONE:                    </pre>\n",
       "  </div>\n",
       "  <div class=\"enlighten-bar\">\n",
       "    <pre> ... 400 ... 400                    Stage: DONE                     Status DONE:                    </pre>\n",
       "  </div>\n",
       "  <div class=\"enlighten-bar\">\n",
       "    <pre> ... 450 ... 450                    Stage: DONE                     Status DONE:                    </pre>\n",
       "  </div>\n",
       "  <div class=\"enlighten-bar\">\n",
       "    <pre> ... 500 ... 500                    Stage: DONE                     Status DONE:                    </pre>\n",
       "  </div>\n",
       "  <div class=\"enlighten-bar\">\n",
       "    <pre> ... 550 ... 550                    Stage: DONE                     Status DONE:                    </pre>\n",
       "  </div>\n",
       "  <div class=\"enlighten-bar\">\n",
       "    <pre> ... 600 ... 600                    Stage: DONE                     Status DONE:                    </pre>\n",
       "  </div>\n",
       "  <div class=\"enlighten-bar\">\n",
       "    <pre> ... 650 ... 650                    Stage: DONE                     Status DONE:                    </pre>\n",
       "  </div>\n",
       "  <div class=\"enlighten-bar\">\n",
       "    <pre> ... 700 ... 700                    Stage: DONE                     Status DONE:                    </pre>\n",
       "  </div>\n",
       "  <div class=\"enlighten-bar\">\n",
       "    <pre> ... 750 ... 750                    Stage: DONE                     Status DONE:                    </pre>\n",
       "  </div>\n",
       "  <div class=\"enlighten-bar\">\n",
       "    <pre> ... 800 ... 800                    Stage: DONE                     Status DONE:                    </pre>\n",
       "  </div>\n",
       "  <div class=\"enlighten-bar\">\n",
       "    <pre> ... 850 ... 850                    Stage: DONE                     Status DONE:                    </pre>\n",
       "  </div>\n",
       "  <div class=\"enlighten-bar\">\n",
       "    <pre> ... 900 ... 900                    Stage: DONE                     Status DONE:                    </pre>\n",
       "  </div>\n",
       "  <div class=\"enlighten-bar\">\n",
       "    <pre> ... 950 ... 950                    Stage: DONE                     Status DONE:                    </pre>\n",
       "  </div>\n",
       "</div>\n"
      ],
      "text/plain": [
       "<IPython.core.display.HTML object>"
      ]
     },
     "metadata": {},
     "output_type": "display_data"
    },
    {
     "data": {
      "image/png": "[encoded data removed]",
      "text/plain": [
       "<Figure size 432x288 with 1 Axes>"
      ]
     },
     "metadata": {
      "needs_background": "light"
     },
     "output_type": "display_data"
    },
    {
     "data": {
      "text/html": [
       "<style>\n",
       "</style>\n",
       "<div class=\"enlighten\">\n",
       "  <div class=\"enlighten-bar\">\n",
       "    <pre>./output/order_Order.NLO_energy_7000_particle1_1000002_particle2_1000022_slha_sps1a1000.in_1000002_300_pdf_lo_CT14lo_pdf_nlo_CT14lo_mu_f_1.0_mu_r_1.0_id_boxes_mass_1000002_300_code_RS.out</pre>\n",
       "  </div>\n",
       "  <div class=\"enlighten-bar\">\n",
       "    <pre> ... 300 ... 300                    Stage: DONE                     Status DONE:                    </pre>\n",
       "  </div>\n",
       "  <div class=\"enlighten-bar\">\n",
       "    <pre> ... 350 ... 350                    Stage: DONE                     Status DONE:                    </pre>\n",
       "  </div>\n",
       "  <div class=\"enlighten-bar\">\n",
       "    <pre> ... 400 ... 400                    Stage: DONE                     Status DONE:                    </pre>\n",
       "  </div>\n",
       "  <div class=\"enlighten-bar\">\n",
       "    <pre> ... 450 ... 450                    Stage: DONE                     Status DONE:                    </pre>\n",
       "  </div>\n",
       "  <div class=\"enlighten-bar\">\n",
       "    <pre> ... 500 ... 500                    Stage: DONE                     Status DONE:                    </pre>\n",
       "  </div>\n",
       "  <div class=\"enlighten-bar\">\n",
       "    <pre> ... 550 ... 550                    Stage: DONE                     Status DONE:                    </pre>\n",
       "  </div>\n",
       "  <div class=\"enlighten-bar\">\n",
       "    <pre> ... 600 ... 600                    Stage: DONE                     Status DONE:                    </pre>\n",
       "  </div>\n",
       "  <div class=\"enlighten-bar\">\n",
       "    <pre> ... 650 ... 650                    Stage: DONE                     Status DONE:                    </pre>\n",
       "  </div>\n",
       "  <div class=\"enlighten-bar\">\n",
       "    <pre> ... 700 ... 700                    Stage: DONE                     Status DONE:                    </pre>\n",
       "  </div>\n",
       "  <div class=\"enlighten-bar\">\n",
       "    <pre> ... 750 ... 750                    Stage: DONE                     Status DONE:                    </pre>\n",
       "  </div>\n",
       "  <div class=\"enlighten-bar\">\n",
       "    <pre> ... 800 ... 800                    Stage: DONE                     Status DONE:                    </pre>\n",
       "  </div>\n",
       "  <div class=\"enlighten-bar\">\n",
       "    <pre> ... 850 ... 850                    Stage: DONE                     Status DONE:                    </pre>\n",
       "  </div>\n",
       "  <div class=\"enlighten-bar\">\n",
       "    <pre> ... 900 ... 900                    Stage: DONE                     Status DONE:                    </pre>\n",
       "  </div>\n",
       "  <div class=\"enlighten-bar\">\n",
       "    <pre> ... 950 ... 950                    Stage: DONE                     Status DONE:                    </pre>\n",
       "  </div>\n",
       "</div>\n"
      ],
      "text/plain": [
       "<IPython.core.display.HTML object>"
      ]
     },
     "metadata": {},
     "output_type": "display_data"
    },
    {
     "data": {
      "text/html": [
       "<style>\n",
       "</style>\n",
       "<div class=\"enlighten\">\n",
       "  <div class=\"enlighten-bar\">\n",
       "    <pre>./output/order_Order.NLO_energy_7000_particle1_1000002_particle2_1000022_slha_sps1a1000.in_1000002_300_pdf_lo_CT14lo_pdf_nlo_CT14nlo_mu_f_1.0_mu_r_1.0_id_boxes_mass_1000002_300_code_RS.out</pre>\n",
       "  </div>\n",
       "  <div class=\"enlighten-bar\">\n",
       "    <pre> ... 300 ... 300                    Stage: DONE                     Status DONE:                    </pre>\n",
       "  </div>\n",
       "  <div class=\"enlighten-bar\">\n",
       "    <pre> ... 350 ... 350                    Stage: DONE                     Status DONE:                    </pre>\n",
       "  </div>\n",
       "  <div class=\"enlighten-bar\">\n",
       "    <pre> ... 400 ... 400                    Stage: DONE                     Status DONE:                    </pre>\n",
       "  </div>\n",
       "  <div class=\"enlighten-bar\">\n",
       "    <pre> ... 450 ... 450                    Stage: DONE                     Status DONE:                    </pre>\n",
       "  </div>\n",
       "  <div class=\"enlighten-bar\">\n",
       "    <pre> ... 500 ... 500                    Stage: DONE                     Status DONE:                    </pre>\n",
       "  </div>\n",
       "  <div class=\"enlighten-bar\">\n",
       "    <pre> ... 550 ... 550                    Stage: DONE                     Status DONE:                    </pre>\n",
       "  </div>\n",
       "  <div class=\"enlighten-bar\">\n",
       "    <pre> ... 600 ... 600                    Stage: DONE                     Status DONE:                    </pre>\n",
       "  </div>\n",
       "  <div class=\"enlighten-bar\">\n",
       "    <pre> ... 650 ... 650                    Stage: DONE                     Status DONE:                    </pre>\n",
       "  </div>\n",
       "  <div class=\"enlighten-bar\">\n",
       "    <pre> ... 700 ... 700                    Stage: DONE                     Status DONE:                    </pre>\n",
       "  </div>\n",
       "  <div class=\"enlighten-bar\">\n",
       "    <pre> ... 750 ... 750                    Stage: DONE                     Status DONE:                    </pre>\n",
       "  </div>\n",
       "  <div class=\"enlighten-bar\">\n",
       "    <pre> ... 800 ... 800                    Stage: DONE                     Status DONE:                    </pre>\n",
       "  </div>\n",
       "  <div class=\"enlighten-bar\">\n",
       "    <pre> ... 850 ... 850                    Stage: DONE                     Status DONE:                    </pre>\n",
       "  </div>\n",
       "  <div class=\"enlighten-bar\">\n",
       "    <pre> ... 900 ... 900                    Stage: DONE                     Status DONE:                    </pre>\n",
       "  </div>\n",
       "  <div class=\"enlighten-bar\">\n",
       "    <pre> ... 950 ... 950                    Stage: DONE                     Status DONE:                    </pre>\n",
       "  </div>\n",
       "</div>\n"
      ],
      "text/plain": [
       "<IPython.core.display.HTML object>"
      ]
     },
     "metadata": {},
     "output_type": "display_data"
    },
    {
     "data": {
      "text/html": [
       "<style>\n",
       "</style>\n",
       "<div class=\"enlighten\">\n",
       "  <div class=\"enlighten-bar\">\n",
       "    <pre>./output/order_Order.NLO_energy_7000_particle1_1000002_particle2_1000022_slha_sps1a1000.in_1000002_300_pdf_lo_cteq6l1_pdf_nlo_cteq6l1_mu_f_1.0_mu_r_1.0_id_boxes_mass_1000002_300_code_RS.out</pre>\n",
       "  </div>\n",
       "  <div class=\"enlighten-bar\">\n",
       "    <pre> ... 300 ... 300                    Stage: DONE                     Status DONE:                    </pre>\n",
       "  </div>\n",
       "  <div class=\"enlighten-bar\">\n",
       "    <pre> ... 350 ... 350                    Stage: DONE                     Status DONE:                    </pre>\n",
       "  </div>\n",
       "  <div class=\"enlighten-bar\">\n",
       "    <pre> ... 400 ... 400                    Stage: DONE                     Status DONE:                    </pre>\n",
       "  </div>\n",
       "  <div class=\"enlighten-bar\">\n",
       "    <pre> ... 450 ... 450                    Stage: DONE                     Status DONE:                    </pre>\n",
       "  </div>\n",
       "  <div class=\"enlighten-bar\">\n",
       "    <pre> ... 500 ... 500                    Stage: DONE                     Status DONE:                    </pre>\n",
       "  </div>\n",
       "  <div class=\"enlighten-bar\">\n",
       "    <pre> ... 550 ... 550                    Stage: DONE                     Status DONE:                    </pre>\n",
       "  </div>\n",
       "  <div class=\"enlighten-bar\">\n",
       "    <pre> ... 600 ... 600                    Stage: DONE                     Status DONE:                    </pre>\n",
       "  </div>\n",
       "  <div class=\"enlighten-bar\">\n",
       "    <pre> ... 650 ... 650                    Stage: DONE                     Status DONE:                    </pre>\n",
       "  </div>\n",
       "  <div class=\"enlighten-bar\">\n",
       "    <pre> ... 700 ... 700                    Stage: DONE                     Status DONE:                    </pre>\n",
       "  </div>\n",
       "  <div class=\"enlighten-bar\">\n",
       "    <pre> ... 750 ... 750                    Stage: DONE                     Status DONE:                    </pre>\n",
       "  </div>\n",
       "  <div class=\"enlighten-bar\">\n",
       "    <pre> ... 800 ... 800                    Stage: DONE                     Status DONE:                    </pre>\n",
       "  </div>\n",
       "  <div class=\"enlighten-bar\">\n",
       "    <pre> ... 850 ... 850                    Stage: DONE                     Status DONE:                    </pre>\n",
       "  </div>\n",
       "  <div class=\"enlighten-bar\">\n",
       "    <pre> ... 900 ... 900                    Stage: DONE                     Status DONE:                    </pre>\n",
       "  </div>\n",
       "  <div class=\"enlighten-bar\">\n",
       "    <pre> ... 950 ... 950                    Stage: DONE                     Status DONE:                    </pre>\n",
       "  </div>\n",
       "</div>\n"
      ],
      "text/plain": [
       "<IPython.core.display.HTML object>"
      ]
     },
     "metadata": {},
     "output_type": "display_data"
    },
    {
     "data": {
      "text/html": [
       "<style>\n",
       "</style>\n",
       "<div class=\"enlighten\">\n",
       "  <div class=\"enlighten-bar\">\n",
       "    <pre>./output/order_Order.NLO_energy_7000_particle1_1000002_particle2_1000022_slha_sps1a1000.in_1000002_300_pdf_lo_cteq6l1_pdf_nlo_cteq61_mu_f_1.0_mu_r_1.0_id_boxes_mass_1000002_300_code_RS.out</pre>\n",
       "  </div>\n",
       "  <div class=\"enlighten-bar\">\n",
       "    <pre> ... 300 ... 300                    Stage: DONE                     Status DONE:                    </pre>\n",
       "  </div>\n",
       "  <div class=\"enlighten-bar\">\n",
       "    <pre> ... 350 ... 350                    Stage: DONE                     Status DONE:                    </pre>\n",
       "  </div>\n",
       "  <div class=\"enlighten-bar\">\n",
       "    <pre> ... 400 ... 400                    Stage: DONE                     Status DONE:                    </pre>\n",
       "  </div>\n",
       "  <div class=\"enlighten-bar\">\n",
       "    <pre> ... 450 ... 450                    Stage: DONE                     Status DONE:                    </pre>\n",
       "  </div>\n",
       "  <div class=\"enlighten-bar\">\n",
       "    <pre> ... 500 ... 500                    Stage: DONE                     Status DONE:                    </pre>\n",
       "  </div>\n",
       "  <div class=\"enlighten-bar\">\n",
       "    <pre> ... 550 ... 550                    Stage: DONE                     Status DONE:                    </pre>\n",
       "  </div>\n",
       "  <div class=\"enlighten-bar\">\n",
       "    <pre> ... 600 ... 600                    Stage: DONE                     Status DONE:                    </pre>\n",
       "  </div>\n",
       "  <div class=\"enlighten-bar\">\n",
       "    <pre> ... 650 ... 650                    Stage: DONE                     Status DONE:                    </pre>\n",
       "  </div>\n",
       "  <div class=\"enlighten-bar\">\n",
       "    <pre> ... 700 ... 700                    Stage: DONE                     Status DONE:                    </pre>\n",
       "  </div>\n",
       "  <div class=\"enlighten-bar\">\n",
       "    <pre> ... 750 ... 750                    Stage: DONE                     Status DONE:                    </pre>\n",
       "  </div>\n",
       "  <div class=\"enlighten-bar\">\n",
       "    <pre> ... 800 ... 800                    Stage: DONE                     Status DONE:                    </pre>\n",
       "  </div>\n",
       "  <div class=\"enlighten-bar\">\n",
       "    <pre> ... 850 ... 850                    Stage: DONE                     Status DONE:                    </pre>\n",
       "  </div>\n",
       "  <div class=\"enlighten-bar\">\n",
       "    <pre> ... 900 ... 900                    Stage: DONE                     Status DONE:                    </pre>\n",
       "  </div>\n",
       "  <div class=\"enlighten-bar\">\n",
       "    <pre> ... 950 ... 950                    Stage: DONE                     Status DONE:                    </pre>\n",
       "  </div>\n",
       "</div>\n"
      ],
      "text/plain": [
       "<IPython.core.display.HTML object>"
      ]
     },
     "metadata": {},
     "output_type": "display_data"
    },
    {
     "data": {
      "image/png": "[encoded data removed]",
      "text/plain": [
       "<Figure size 432x288 with 1 Axes>"
      ]
     },
     "metadata": {
      "needs_background": "light"
     },
     "output_type": "display_data"
    }
   ],
   "source": [
    "# pdfs CT14lo CT14nlo CTEQ6L1 (CTEQ6M)\n",
    "for sq in [2000002,1000002]:\n",
    "    for pdf,nlopdf in [(\"CT14lo\",\"CT14lo\"),(\"CT14lo\",\"CT14nlo\"),(\"cteq6l1\",\"cteq6l1\"),(\"cteq6l1\",\"cteq61\")]:\n",
    "        i = hepi.Input(hepi.Order.NLO,7000,sq,1000022,\"sps1a1000.in\",pdf,nlopdf,1., 1.,\"boxes\")\n",
    "        li = hepi.mass_scan([i],sq, range(300,1000,50),diff_L_R=20)\n",
    "        dll = rs.run(li,True)\n",
    "        hepi.mass_vplot(dll,sq,((dll[\"vnlo\"]+dll[\"lo\"])/dll[\"lo\"]),logy=False,label=\"$K_\\\\mathrm{boxes}$ \" + nlopdf)\n",
    "    hepi.mass_vplot(dll,sq,((dll[\"lo\"])/dll[\"lo\"]),logy=False,label=\"$K_\\\\mathrm{lo}$\")\n",
    "    plt.show()"
   ]
  },
  {
   "cell_type": "code",
   "execution_count": 23,
   "metadata": {
    "scrolled": true
   },
   "outputs": [
    {
     "data": {
      "text/html": [
       "<style>\n",
       "</style>\n",
       "<div class=\"enlighten\">\n",
       "  <div class=\"enlighten-bar\">\n",
       "    <pre>./output/order_Order.NLO_energy_7000_particle1_2000002_particle2_1000022_slha_sps1a1000.in_2000002_300_pdf_lo_CT14lo_pdf_nlo_CT14lo_mu_f_1.0_mu_r_1.0_id_UXu_mass_2000002_300_code_RS.out</pre>\n",
       "  </div>\n",
       "  <div class=\"enlighten-bar\">\n",
       "    <pre> ... 300 ... 300                    Stage: DONE                     Status DONE:                    </pre>\n",
       "  </div>\n",
       "  <div class=\"enlighten-bar\">\n",
       "    <pre> ... 350 ... 350                    Stage: DONE                     Status DONE:                    </pre>\n",
       "  </div>\n",
       "  <div class=\"enlighten-bar\">\n",
       "    <pre> ... 400 ... 400                    Stage: DONE                     Status DONE:                    </pre>\n",
       "  </div>\n",
       "  <div class=\"enlighten-bar\">\n",
       "    <pre> ... 450 ... 450                    Stage: DONE                     Status DONE:                    </pre>\n",
       "  </div>\n",
       "  <div class=\"enlighten-bar\">\n",
       "    <pre> ... 500 ... 500                    Stage: DONE                     Status DONE:                    </pre>\n",
       "  </div>\n",
       "  <div class=\"enlighten-bar\">\n",
       "    <pre> ... 550 ... 550                    Stage: DONE                     Status DONE:                    </pre>\n",
       "  </div>\n",
       "  <div class=\"enlighten-bar\">\n",
       "    <pre> ... 600 ... 600                    Stage: DONE                     Status DONE:                    </pre>\n",
       "  </div>\n",
       "  <div class=\"enlighten-bar\">\n",
       "    <pre> ... 650 ... 650                    Stage: DONE                     Status DONE:                    </pre>\n",
       "  </div>\n",
       "  <div class=\"enlighten-bar\">\n",
       "    <pre> ... 700 ... 700                    Stage: DONE                     Status DONE:                    </pre>\n",
       "  </div>\n",
       "  <div class=\"enlighten-bar\">\n",
       "    <pre> ... 750 ... 750                    Stage: DONE                     Status DONE:                    </pre>\n",
       "  </div>\n",
       "  <div class=\"enlighten-bar\">\n",
       "    <pre> ... 800 ... 800                    Stage: DONE                     Status DONE:                    </pre>\n",
       "  </div>\n",
       "  <div class=\"enlighten-bar\">\n",
       "    <pre> ... 850 ... 850                    Stage: DONE                     Status DONE:                    </pre>\n",
       "  </div>\n",
       "  <div class=\"enlighten-bar\">\n",
       "    <pre> ... 900 ... 900                    Stage: DONE                     Status DONE:                    </pre>\n",
       "  </div>\n",
       "  <div class=\"enlighten-bar\">\n",
       "    <pre> ... 950 ... 950                    Stage: DONE                     Status DONE:                    </pre>\n",
       "  </div>\n",
       "</div>\n"
      ],
      "text/plain": [
       "<IPython.core.display.HTML object>"
      ]
     },
     "metadata": {},
     "output_type": "display_data"
    },
    {
     "data": {
      "text/html": [
       "<style>\n",
       "</style>\n",
       "<div class=\"enlighten\">\n",
       "  <div class=\"enlighten-bar\">\n",
       "    <pre>./output/order_Order.NLO_energy_7000_particle1_2000002_particle2_1000022_slha_sps1a1000.in_2000002_300_pdf_lo_CT14lo_pdf_nlo_CT14nlo_mu_f_1.0_mu_r_1.0_id_UXu_mass_2000002_300_code_RS.out</pre>\n",
       "  </div>\n",
       "  <div class=\"enlighten-bar\">\n",
       "    <pre> ... 300 ... 300                    Stage: DONE                     Status DONE:                    </pre>\n",
       "  </div>\n",
       "  <div class=\"enlighten-bar\">\n",
       "    <pre> ... 350 ... 350                    Stage: DONE                     Status DONE:                    </pre>\n",
       "  </div>\n",
       "  <div class=\"enlighten-bar\">\n",
       "    <pre> ... 400 ... 400                    Stage: DONE                     Status DONE:                    </pre>\n",
       "  </div>\n",
       "  <div class=\"enlighten-bar\">\n",
       "    <pre> ... 450 ... 450                    Stage: DONE                     Status DONE:                    </pre>\n",
       "  </div>\n",
       "  <div class=\"enlighten-bar\">\n",
       "    <pre> ... 500 ... 500                    Stage: DONE                     Status DONE:                    </pre>\n",
       "  </div>\n",
       "  <div class=\"enlighten-bar\">\n",
       "    <pre> ... 550 ... 550                    Stage: DONE                     Status DONE:                    </pre>\n",
       "  </div>\n",
       "  <div class=\"enlighten-bar\">\n",
       "    <pre> ... 600 ... 600                    Stage: DONE                     Status DONE:                    </pre>\n",
       "  </div>\n",
       "  <div class=\"enlighten-bar\">\n",
       "    <pre> ... 650 ... 650                    Stage: DONE                     Status DONE:                    </pre>\n",
       "  </div>\n",
       "  <div class=\"enlighten-bar\">\n",
       "    <pre> ... 700 ... 700                    Stage: DONE                     Status DONE:                    </pre>\n",
       "  </div>\n",
       "  <div class=\"enlighten-bar\">\n",
       "    <pre> ... 750 ... 750                    Stage: DONE                     Status DONE:                    </pre>\n",
       "  </div>\n",
       "  <div class=\"enlighten-bar\">\n",
       "    <pre> ... 800 ... 800                    Stage: DONE                     Status DONE:                    </pre>\n",
       "  </div>\n",
       "  <div class=\"enlighten-bar\">\n",
       "    <pre> ... 850 ... 850                    Stage: DONE                     Status DONE:                    </pre>\n",
       "  </div>\n",
       "  <div class=\"enlighten-bar\">\n",
       "    <pre> ... 900 ... 900                    Stage: DONE                     Status DONE:                    </pre>\n",
       "  </div>\n",
       "  <div class=\"enlighten-bar\">\n",
       "    <pre> ... 950 ... 950                    Stage: DONE                     Status DONE:                    </pre>\n",
       "  </div>\n",
       "</div>\n"
      ],
      "text/plain": [
       "<IPython.core.display.HTML object>"
      ]
     },
     "metadata": {},
     "output_type": "display_data"
    },
    {
     "data": {
      "text/html": [
       "<style>\n",
       "</style>\n",
       "<div class=\"enlighten\">\n",
       "  <div class=\"enlighten-bar\">\n",
       "    <pre>./output/order_Order.NLO_energy_7000_particle1_2000002_particle2_1000022_slha_sps1a1000.in_2000002_300_pdf_lo_cteq6l1_pdf_nlo_cteq6l1_mu_f_1.0_mu_r_1.0_id_UXu_mass_2000002_300_code_RS.out</pre>\n",
       "  </div>\n",
       "  <div class=\"enlighten-bar\">\n",
       "    <pre> ... 300 ... 300                    Stage: DONE                     Status DONE:                    </pre>\n",
       "  </div>\n",
       "  <div class=\"enlighten-bar\">\n",
       "    <pre> ... 350 ... 350                    Stage: DONE                     Status DONE:                    </pre>\n",
       "  </div>\n",
       "  <div class=\"enlighten-bar\">\n",
       "    <pre> ... 400 ... 400                    Stage: DONE                     Status DONE:                    </pre>\n",
       "  </div>\n",
       "  <div class=\"enlighten-bar\">\n",
       "    <pre> ... 450 ... 450                    Stage: DONE                     Status DONE:                    </pre>\n",
       "  </div>\n",
       "  <div class=\"enlighten-bar\">\n",
       "    <pre> ... 500 ... 500                    Stage: DONE                     Status DONE:                    </pre>\n",
       "  </div>\n",
       "  <div class=\"enlighten-bar\">\n",
       "    <pre> ... 550 ... 550                    Stage: DONE                     Status DONE:                    </pre>\n",
       "  </div>\n",
       "  <div class=\"enlighten-bar\">\n",
       "    <pre> ... 600 ... 600                    Stage: DONE                     Status DONE:                    </pre>\n",
       "  </div>\n",
       "  <div class=\"enlighten-bar\">\n",
       "    <pre> ... 650 ... 650                    Stage: DONE                     Status DONE:                    </pre>\n",
       "  </div>\n",
       "  <div class=\"enlighten-bar\">\n",
       "    <pre> ... 700 ... 700                    Stage: DONE                     Status DONE:                    </pre>\n",
       "  </div>\n",
       "  <div class=\"enlighten-bar\">\n",
       "    <pre> ... 750 ... 750                    Stage: DONE                     Status DONE:                    </pre>\n",
       "  </div>\n",
       "  <div class=\"enlighten-bar\">\n",
       "    <pre> ... 800 ... 800                    Stage: DONE                     Status DONE:                    </pre>\n",
       "  </div>\n",
       "  <div class=\"enlighten-bar\">\n",
       "    <pre> ... 850 ... 850                    Stage: DONE                     Status DONE:                    </pre>\n",
       "  </div>\n",
       "  <div class=\"enlighten-bar\">\n",
       "    <pre> ... 900 ... 900                    Stage: DONE                     Status DONE:                    </pre>\n",
       "  </div>\n",
       "  <div class=\"enlighten-bar\">\n",
       "    <pre> ... 950 ... 950                    Stage: DONE                     Status DONE:                    </pre>\n",
       "  </div>\n",
       "</div>\n"
      ],
      "text/plain": [
       "<IPython.core.display.HTML object>"
      ]
     },
     "metadata": {},
     "output_type": "display_data"
    },
    {
     "data": {
      "text/html": [
       "<style>\n",
       "</style>\n",
       "<div class=\"enlighten\">\n",
       "  <div class=\"enlighten-bar\">\n",
       "    <pre>./output/order_Order.NLO_energy_7000_particle1_2000002_particle2_1000022_slha_sps1a1000.in_2000002_300_pdf_lo_cteq6l1_pdf_nlo_cteq61_mu_f_1.0_mu_r_1.0_id_UXu_mass_2000002_300_code_RS.out</pre>\n",
       "  </div>\n",
       "  <div class=\"enlighten-bar\">\n",
       "    <pre> ... 300 ... 300                    Stage: DONE                     Status DONE:                    </pre>\n",
       "  </div>\n",
       "  <div class=\"enlighten-bar\">\n",
       "    <pre> ... 350 ... 350                    Stage: DONE                     Status DONE:                    </pre>\n",
       "  </div>\n",
       "  <div class=\"enlighten-bar\">\n",
       "    <pre> ... 400 ... 400                    Stage: DONE                     Status DONE:                    </pre>\n",
       "  </div>\n",
       "  <div class=\"enlighten-bar\">\n",
       "    <pre> ... 450 ... 450                    Stage: DONE                     Status DONE:                    </pre>\n",
       "  </div>\n",
       "  <div class=\"enlighten-bar\">\n",
       "    <pre> ... 500 ... 500                    Stage: DONE                     Status DONE:                    </pre>\n",
       "  </div>\n",
       "  <div class=\"enlighten-bar\">\n",
       "    <pre> ... 550 ... 550                    Stage: DONE                     Status DONE:                    </pre>\n",
       "  </div>\n",
       "  <div class=\"enlighten-bar\">\n",
       "    <pre> ... 600 ... 600                    Stage: DONE                     Status DONE:                    </pre>\n",
       "  </div>\n",
       "  <div class=\"enlighten-bar\">\n",
       "    <pre> ... 650 ... 650                    Stage: DONE                     Status DONE:                    </pre>\n",
       "  </div>\n",
       "  <div class=\"enlighten-bar\">\n",
       "    <pre> ... 700 ... 700                    Stage: DONE                     Status DONE:                    </pre>\n",
       "  </div>\n",
       "  <div class=\"enlighten-bar\">\n",
       "    <pre> ... 750 ... 750                    Stage: DONE                     Status DONE:                    </pre>\n",
       "  </div>\n",
       "  <div class=\"enlighten-bar\">\n",
       "    <pre> ... 800 ... 800                    Stage: DONE                     Status DONE:                    </pre>\n",
       "  </div>\n",
       "  <div class=\"enlighten-bar\">\n",
       "    <pre> ... 850 ... 850                    Stage: DONE                     Status DONE:                    </pre>\n",
       "  </div>\n",
       "  <div class=\"enlighten-bar\">\n",
       "    <pre> ... 900 ... 900                    Stage: DONE                     Status DONE:                    </pre>\n",
       "  </div>\n",
       "  <div class=\"enlighten-bar\">\n",
       "    <pre> ... 950 ... 950                    Stage: DONE                     Status DONE:                    </pre>\n",
       "  </div>\n",
       "</div>\n"
      ],
      "text/plain": [
       "<IPython.core.display.HTML object>"
      ]
     },
     "metadata": {},
     "output_type": "display_data"
    },
    {
     "data": {
      "image/png": "[encoded data removed]",
      "text/plain": [
       "<Figure size 432x288 with 1 Axes>"
      ]
     },
     "metadata": {
      "needs_background": "light"
     },
     "output_type": "display_data"
    },
    {
     "data": {
      "text/html": [
       "<style>\n",
       "</style>\n",
       "<div class=\"enlighten\">\n",
       "  <div class=\"enlighten-bar\">\n",
       "    <pre>./output/order_Order.NLO_energy_7000_particle1_1000002_particle2_1000022_slha_sps1a1000.in_1000002_300_pdf_lo_CT14lo_pdf_nlo_CT14lo_mu_f_1.0_mu_r_1.0_id_UXu_mass_1000002_300_code_RS.out</pre>\n",
       "  </div>\n",
       "  <div class=\"enlighten-bar\">\n",
       "    <pre> ... 300 ... 300                    Stage: DONE                     Status DONE:                    </pre>\n",
       "  </div>\n",
       "  <div class=\"enlighten-bar\">\n",
       "    <pre> ... 350 ... 350                    Stage: DONE                     Status DONE:                    </pre>\n",
       "  </div>\n",
       "  <div class=\"enlighten-bar\">\n",
       "    <pre> ... 400 ... 400                    Stage: DONE                     Status DONE:                    </pre>\n",
       "  </div>\n",
       "  <div class=\"enlighten-bar\">\n",
       "    <pre> ... 450 ... 450                    Stage: DONE                     Status DONE:                    </pre>\n",
       "  </div>\n",
       "  <div class=\"enlighten-bar\">\n",
       "    <pre> ... 500 ... 500                    Stage: DONE                     Status DONE:                    </pre>\n",
       "  </div>\n",
       "  <div class=\"enlighten-bar\">\n",
       "    <pre> ... 550 ... 550                    Stage: DONE                     Status DONE:                    </pre>\n",
       "  </div>\n",
       "  <div class=\"enlighten-bar\">\n",
       "    <pre> ... 600 ... 600                    Stage: DONE                     Status DONE:                    </pre>\n",
       "  </div>\n",
       "  <div class=\"enlighten-bar\">\n",
       "    <pre> ... 650 ... 650                    Stage: DONE                     Status DONE:                    </pre>\n",
       "  </div>\n",
       "  <div class=\"enlighten-bar\">\n",
       "    <pre> ... 700 ... 700                    Stage: DONE                     Status DONE:                    </pre>\n",
       "  </div>\n",
       "  <div class=\"enlighten-bar\">\n",
       "    <pre> ... 750 ... 750                    Stage: DONE                     Status DONE:                    </pre>\n",
       "  </div>\n",
       "  <div class=\"enlighten-bar\">\n",
       "    <pre> ... 800 ... 800                    Stage: DONE                     Status DONE:                    </pre>\n",
       "  </div>\n",
       "  <div class=\"enlighten-bar\">\n",
       "    <pre> ... 850 ... 850                    Stage: DONE                     Status DONE:                    </pre>\n",
       "  </div>\n",
       "  <div class=\"enlighten-bar\">\n",
       "    <pre> ... 900 ... 900                    Stage: DONE                     Status DONE:                    </pre>\n",
       "  </div>\n",
       "  <div class=\"enlighten-bar\">\n",
       "    <pre> ... 950 ... 950                    Stage: DONE                     Status DONE:                    </pre>\n",
       "  </div>\n",
       "</div>\n"
      ],
      "text/plain": [
       "<IPython.core.display.HTML object>"
      ]
     },
     "metadata": {},
     "output_type": "display_data"
    },
    {
     "data": {
      "text/html": [
       "<style>\n",
       "</style>\n",
       "<div class=\"enlighten\">\n",
       "  <div class=\"enlighten-bar\">\n",
       "    <pre>./output/order_Order.NLO_energy_7000_particle1_1000002_particle2_1000022_slha_sps1a1000.in_1000002_300_pdf_lo_CT14lo_pdf_nlo_CT14nlo_mu_f_1.0_mu_r_1.0_id_UXu_mass_1000002_300_code_RS.out</pre>\n",
       "  </div>\n",
       "  <div class=\"enlighten-bar\">\n",
       "    <pre> ... 300 ... 300                    Stage: DONE                     Status DONE:                    </pre>\n",
       "  </div>\n",
       "  <div class=\"enlighten-bar\">\n",
       "    <pre> ... 350 ... 350                    Stage: DONE                     Status DONE:                    </pre>\n",
       "  </div>\n",
       "  <div class=\"enlighten-bar\">\n",
       "    <pre> ... 400 ... 400                    Stage: DONE                     Status DONE:                    </pre>\n",
       "  </div>\n",
       "  <div class=\"enlighten-bar\">\n",
       "    <pre> ... 450 ... 450                    Stage: DONE                     Status DONE:                    </pre>\n",
       "  </div>\n",
       "  <div class=\"enlighten-bar\">\n",
       "    <pre> ... 500 ... 500                    Stage: DONE                     Status DONE:                    </pre>\n",
       "  </div>\n",
       "  <div class=\"enlighten-bar\">\n",
       "    <pre> ... 550 ... 550                    Stage: DONE                     Status DONE:                    </pre>\n",
       "  </div>\n",
       "  <div class=\"enlighten-bar\">\n",
       "    <pre> ... 600 ... 600                    Stage: DONE                     Status DONE:                    </pre>\n",
       "  </div>\n",
       "  <div class=\"enlighten-bar\">\n",
       "    <pre> ... 650 ... 650                    Stage: DONE                     Status DONE:                    </pre>\n",
       "  </div>\n",
       "  <div class=\"enlighten-bar\">\n",
       "    <pre> ... 700 ... 700                    Stage: DONE                     Status DONE:                    </pre>\n",
       "  </div>\n",
       "  <div class=\"enlighten-bar\">\n",
       "    <pre> ... 750 ... 750                    Stage: DONE                     Status DONE:                    </pre>\n",
       "  </div>\n",
       "  <div class=\"enlighten-bar\">\n",
       "    <pre> ... 800 ... 800                    Stage: DONE                     Status DONE:                    </pre>\n",
       "  </div>\n",
       "  <div class=\"enlighten-bar\">\n",
       "    <pre> ... 850 ... 850                    Stage: DONE                     Status DONE:                    </pre>\n",
       "  </div>\n",
       "  <div class=\"enlighten-bar\">\n",
       "    <pre> ... 900 ... 900                    Stage: DONE                     Status DONE:                    </pre>\n",
       "  </div>\n",
       "  <div class=\"enlighten-bar\">\n",
       "    <pre> ... 950 ... 950                    Stage: DONE                     Status DONE:                    </pre>\n",
       "  </div>\n",
       "</div>\n"
      ],
      "text/plain": [
       "<IPython.core.display.HTML object>"
      ]
     },
     "metadata": {},
     "output_type": "display_data"
    },
    {
     "data": {
      "text/html": [
       "<style>\n",
       "</style>\n",
       "<div class=\"enlighten\">\n",
       "  <div class=\"enlighten-bar\">\n",
       "    <pre>./output/order_Order.NLO_energy_7000_particle1_1000002_particle2_1000022_slha_sps1a1000.in_1000002_300_pdf_lo_cteq6l1_pdf_nlo_cteq6l1_mu_f_1.0_mu_r_1.0_id_UXu_mass_1000002_300_code_RS.out</pre>\n",
       "  </div>\n",
       "  <div class=\"enlighten-bar\">\n",
       "    <pre> ... 300 ... 300                    Stage: DONE                     Status DONE:                    </pre>\n",
       "  </div>\n",
       "  <div class=\"enlighten-bar\">\n",
       "    <pre> ... 350 ... 350                    Stage: DONE                     Status DONE:                    </pre>\n",
       "  </div>\n",
       "  <div class=\"enlighten-bar\">\n",
       "    <pre> ... 400 ... 400                    Stage: DONE                     Status DONE:                    </pre>\n",
       "  </div>\n",
       "  <div class=\"enlighten-bar\">\n",
       "    <pre> ... 450 ... 450                    Stage: DONE                     Status DONE:                    </pre>\n",
       "  </div>\n",
       "  <div class=\"enlighten-bar\">\n",
       "    <pre> ... 500 ... 500                    Stage: DONE                     Status DONE:                    </pre>\n",
       "  </div>\n",
       "  <div class=\"enlighten-bar\">\n",
       "    <pre> ... 550 ... 550                    Stage: DONE                     Status DONE:                    </pre>\n",
       "  </div>\n",
       "  <div class=\"enlighten-bar\">\n",
       "    <pre> ... 600 ... 600                    Stage: DONE                     Status DONE:                    </pre>\n",
       "  </div>\n",
       "  <div class=\"enlighten-bar\">\n",
       "    <pre> ... 650 ... 650                    Stage: DONE                     Status DONE:                    </pre>\n",
       "  </div>\n",
       "  <div class=\"enlighten-bar\">\n",
       "    <pre> ... 700 ... 700                    Stage: DONE                     Status DONE:                    </pre>\n",
       "  </div>\n",
       "  <div class=\"enlighten-bar\">\n",
       "    <pre> ... 750 ... 750                    Stage: DONE                     Status DONE:                    </pre>\n",
       "  </div>\n",
       "  <div class=\"enlighten-bar\">\n",
       "    <pre> ... 800 ... 800                    Stage: DONE                     Status DONE:                    </pre>\n",
       "  </div>\n",
       "  <div class=\"enlighten-bar\">\n",
       "    <pre> ... 850 ... 850                    Stage: DONE                     Status DONE:                    </pre>\n",
       "  </div>\n",
       "  <div class=\"enlighten-bar\">\n",
       "    <pre> ... 900 ... 900                    Stage: DONE                     Status DONE:                    </pre>\n",
       "  </div>\n",
       "  <div class=\"enlighten-bar\">\n",
       "    <pre> ... 950 ... 950                    Stage: DONE                     Status DONE:                    </pre>\n",
       "  </div>\n",
       "</div>\n"
      ],
      "text/plain": [
       "<IPython.core.display.HTML object>"
      ]
     },
     "metadata": {},
     "output_type": "display_data"
    },
    {
     "data": {
      "text/html": [
       "<style>\n",
       "</style>\n",
       "<div class=\"enlighten\">\n",
       "  <div class=\"enlighten-bar\">\n",
       "    <pre>./output/order_Order.NLO_energy_7000_particle1_1000002_particle2_1000022_slha_sps1a1000.in_1000002_300_pdf_lo_cteq6l1_pdf_nlo_cteq61_mu_f_1.0_mu_r_1.0_id_UXu_mass_1000002_300_code_RS.out</pre>\n",
       "  </div>\n",
       "  <div class=\"enlighten-bar\">\n",
       "    <pre> ... 300 ... 300                    Stage: DONE                     Status DONE:                    </pre>\n",
       "  </div>\n",
       "  <div class=\"enlighten-bar\">\n",
       "    <pre> ... 350 ... 350                    Stage: DONE                     Status DONE:                    </pre>\n",
       "  </div>\n",
       "  <div class=\"enlighten-bar\">\n",
       "    <pre> ... 400 ... 400                    Stage: DONE                     Status DONE:                    </pre>\n",
       "  </div>\n",
       "  <div class=\"enlighten-bar\">\n",
       "    <pre> ... 450 ... 450                    Stage: DONE                     Status DONE:                    </pre>\n",
       "  </div>\n",
       "  <div class=\"enlighten-bar\">\n",
       "    <pre> ... 500 ... 500                    Stage: DONE                     Status DONE:                    </pre>\n",
       "  </div>\n",
       "  <div class=\"enlighten-bar\">\n",
       "    <pre> ... 550 ... 550                    Stage: DONE                     Status DONE:                    </pre>\n",
       "  </div>\n",
       "  <div class=\"enlighten-bar\">\n",
       "    <pre> ... 600 ... 600                    Stage: DONE                     Status DONE:                    </pre>\n",
       "  </div>\n",
       "  <div class=\"enlighten-bar\">\n",
       "    <pre> ... 650 ... 650                    Stage: DONE                     Status DONE:                    </pre>\n",
       "  </div>\n",
       "  <div class=\"enlighten-bar\">\n",
       "    <pre> ... 700 ... 700                    Stage: DONE                     Status DONE:                    </pre>\n",
       "  </div>\n",
       "  <div class=\"enlighten-bar\">\n",
       "    <pre> ... 750 ... 750                    Stage: DONE                     Status DONE:                    </pre>\n",
       "  </div>\n",
       "  <div class=\"enlighten-bar\">\n",
       "    <pre> ... 800 ... 800                    Stage: DONE                     Status DONE:                    </pre>\n",
       "  </div>\n",
       "  <div class=\"enlighten-bar\">\n",
       "    <pre> ... 850 ... 850                    Stage: DONE                     Status DONE:                    </pre>\n",
       "  </div>\n",
       "  <div class=\"enlighten-bar\">\n",
       "    <pre> ... 900 ... 900                    Stage: DONE                     Status DONE:                    </pre>\n",
       "  </div>\n",
       "  <div class=\"enlighten-bar\">\n",
       "    <pre> ... 950 ... 950                    Stage: DONE                     Status DONE:                    </pre>\n",
       "  </div>\n",
       "</div>\n"
      ],
      "text/plain": [
       "<IPython.core.display.HTML object>"
      ]
     },
     "metadata": {},
     "output_type": "display_data"
    },
    {
     "data": {
      "image/png": "[encoded data removed]",
      "text/plain": [
       "<Figure size 432x288 with 1 Axes>"
      ]
     },
     "metadata": {
      "needs_background": "light"
     },
     "output_type": "display_data"
    }
   ],
   "source": [
    "# pdfs CT14lo CT14nlo CTEQ6L1 (CTEQ6M)\n",
    "for sq in [2000002,1000002]:\n",
    "    for pdf,nlopdf in [(\"CT14lo\",\"CT14lo\"),(\"CT14lo\",\"CT14nlo\"),(\"cteq6l1\",\"cteq6l1\"),(\"cteq6l1\",\"cteq61\")]:\n",
    "        i = hepi.Input(hepi.Order.NLO,7000,sq,1000022,\"sps1a1000.in\",pdf,nlopdf,1., 1.,\"UXu\")\n",
    "        li = hepi.mass_scan([i],sq, range(300,1000,50),diff_L_R=20)\n",
    "        dll = rs.run(li,True)\n",
    "        hepi.mass_vplot(dll,sq,((dll[\"vnlo\"]+dll[\"lo\"])/dll[\"lo\"]),logy=False,label=\"$K_\\\\mathrm{UXu}$ \" + nlopdf)\n",
    "    hepi.mass_vplot(dll,sq,((dll[\"lo\"])/dll[\"lo\"]),logy=False,label=\"$K_\\\\mathrm{lo}$\")\n",
    "    plt.show()"
   ]
  },
  {
   "cell_type": "code",
   "execution_count": 4,
   "metadata": {
    "scrolled": true
   },
   "outputs": [
    {
     "data": {
      "text/html": [
       "<style>\n",
       "</style>\n",
       "<div class=\"enlighten\">\n",
       "  <div class=\"enlighten-bar\">\n",
       "    <pre>./output/order_Order.NLO_energy_7000_particle1_2000002_particle2_1000022_slha_sps1a1000.in_2000002_300_pdf_lo_CT14lo_pdf_nlo_CT14lo_mu_f_1.0_mu_r_1.0_id_gGX_mass_2000002_300_code_RS.out</pre>\n",
       "  </div>\n",
       "  <div class=\"enlighten-bar\">\n",
       "    <pre> ... 300 ... 300                    Stage: DONE                     Status DONE:                    </pre>\n",
       "  </div>\n",
       "  <div class=\"enlighten-bar\">\n",
       "    <pre> ... 350 ... 350                    Stage: DONE                     Status DONE:                    </pre>\n",
       "  </div>\n",
       "  <div class=\"enlighten-bar\">\n",
       "    <pre> ... 400 ... 400                    Stage: DONE                     Status DONE:                    </pre>\n",
       "  </div>\n",
       "  <div class=\"enlighten-bar\">\n",
       "    <pre> ... 450 ... 450                    Stage: DONE                     Status DONE:                    </pre>\n",
       "  </div>\n",
       "  <div class=\"enlighten-bar\">\n",
       "    <pre> ... 500 ... 500                    Stage: DONE                     Status DONE:                    </pre>\n",
       "  </div>\n",
       "  <div class=\"enlighten-bar\">\n",
       "    <pre> ... 550 ... 550                    Stage: DONE                     Status DONE:                    </pre>\n",
       "  </div>\n",
       "  <div class=\"enlighten-bar\">\n",
       "    <pre> ... 600 ... 600                    Stage: DONE                     Status DONE:                    </pre>\n",
       "  </div>\n",
       "  <div class=\"enlighten-bar\">\n",
       "    <pre> ... 650 ... 650                    Stage: DONE                     Status DONE:                    </pre>\n",
       "  </div>\n",
       "  <div class=\"enlighten-bar\">\n",
       "    <pre> ... 700 ... 700                    Stage: DONE                     Status DONE:                    </pre>\n",
       "  </div>\n",
       "  <div class=\"enlighten-bar\">\n",
       "    <pre> ... 750 ... 750                    Stage: DONE                     Status DONE:                    </pre>\n",
       "  </div>\n",
       "  <div class=\"enlighten-bar\">\n",
       "    <pre> ... 800 ... 800                    Stage: DONE                     Status DONE:                    </pre>\n",
       "  </div>\n",
       "  <div class=\"enlighten-bar\">\n",
       "    <pre> ... 850 ... 850                    Stage: DONE                     Status DONE:                    </pre>\n",
       "  </div>\n",
       "  <div class=\"enlighten-bar\">\n",
       "    <pre> ... 900 ... 900                    Stage: DONE                     Status DONE:                    </pre>\n",
       "  </div>\n",
       "  <div class=\"enlighten-bar\">\n",
       "    <pre> ... 950 ... 950                    Stage: DONE                     Status DONE:                    </pre>\n",
       "  </div>\n",
       "</div>\n"
      ],
      "text/plain": [
       "<IPython.core.display.HTML object>"
      ]
     },
     "metadata": {},
     "output_type": "display_data"
    },
    {
     "data": {
      "text/html": [
       "<style>\n",
       "</style>\n",
       "<div class=\"enlighten\">\n",
       "  <div class=\"enlighten-bar\">\n",
       "    <pre>./output/order_Order.NLO_energy_7000_particle1_2000002_particle2_1000022_slha_sps1a1000.in_2000002_300_pdf_lo_CT14lo_pdf_nlo_CT14nlo_mu_f_1.0_mu_r_1.0_id_gGX_mass_2000002_300_code_RS.out</pre>\n",
       "  </div>\n",
       "  <div class=\"enlighten-bar\">\n",
       "    <pre> ... 300 ... 300                    Stage: DONE                     Status DONE:                    </pre>\n",
       "  </div>\n",
       "  <div class=\"enlighten-bar\">\n",
       "    <pre> ... 350 ... 350                    Stage: DONE                     Status DONE:                    </pre>\n",
       "  </div>\n",
       "  <div class=\"enlighten-bar\">\n",
       "    <pre> ... 400 ... 400                    Stage: DONE                     Status DONE:                    </pre>\n",
       "  </div>\n",
       "  <div class=\"enlighten-bar\">\n",
       "    <pre> ... 450 ... 450                    Stage: DONE                     Status DONE:                    </pre>\n",
       "  </div>\n",
       "  <div class=\"enlighten-bar\">\n",
       "    <pre> ... 500 ... 500                    Stage: DONE                     Status DONE:                    </pre>\n",
       "  </div>\n",
       "  <div class=\"enlighten-bar\">\n",
       "    <pre> ... 550 ... 550                    Stage: DONE                     Status DONE:                    </pre>\n",
       "  </div>\n",
       "  <div class=\"enlighten-bar\">\n",
       "    <pre> ... 600 ... 600                    Stage: DONE                     Status DONE:                    </pre>\n",
       "  </div>\n",
       "  <div class=\"enlighten-bar\">\n",
       "    <pre> ... 650 ... 650                    Stage: DONE                     Status DONE:                    </pre>\n",
       "  </div>\n",
       "  <div class=\"enlighten-bar\">\n",
       "    <pre> ... 700 ... 700                    Stage: DONE                     Status DONE:                    </pre>\n",
       "  </div>\n",
       "  <div class=\"enlighten-bar\">\n",
       "    <pre> ... 750 ... 750                    Stage: DONE                     Status DONE:                    </pre>\n",
       "  </div>\n",
       "  <div class=\"enlighten-bar\">\n",
       "    <pre> ... 800 ... 800                    Stage: DONE                     Status DONE:                    </pre>\n",
       "  </div>\n",
       "  <div class=\"enlighten-bar\">\n",
       "    <pre> ... 850 ... 850                    Stage: DONE                     Status DONE:                    </pre>\n",
       "  </div>\n",
       "  <div class=\"enlighten-bar\">\n",
       "    <pre> ... 900 ... 900                    Stage: DONE                     Status DONE:                    </pre>\n",
       "  </div>\n",
       "  <div class=\"enlighten-bar\">\n",
       "    <pre> ... 950 ... 950                    Stage: DONE                     Status DONE:                    </pre>\n",
       "  </div>\n",
       "</div>\n"
      ],
      "text/plain": [
       "<IPython.core.display.HTML object>"
      ]
     },
     "metadata": {},
     "output_type": "display_data"
    },
    {
     "data": {
      "text/html": [
       "<style>\n",
       "</style>\n",
       "<div class=\"enlighten\">\n",
       "  <div class=\"enlighten-bar\">\n",
       "    <pre>./output/order_Order.NLO_energy_7000_particle1_2000002_particle2_1000022_slha_sps1a1000.in_2000002_300_pdf_lo_cteq6l1_pdf_nlo_cteq6l1_mu_f_1.0_mu_r_1.0_id_gGX_mass_2000002_300_code_RS.out</pre>\n",
       "  </div>\n",
       "  <div class=\"enlighten-bar\">\n",
       "    <pre> ... 300 ... 300                    Stage: DONE                     Status DONE:                    </pre>\n",
       "  </div>\n",
       "  <div class=\"enlighten-bar\">\n",
       "    <pre> ... 350 ... 350                    Stage: DONE                     Status DONE:                    </pre>\n",
       "  </div>\n",
       "  <div class=\"enlighten-bar\">\n",
       "    <pre> ... 400 ... 400                    Stage: DONE                     Status DONE:                    </pre>\n",
       "  </div>\n",
       "  <div class=\"enlighten-bar\">\n",
       "    <pre> ... 450 ... 450                    Stage: DONE                     Status DONE:                    </pre>\n",
       "  </div>\n",
       "  <div class=\"enlighten-bar\">\n",
       "    <pre> ... 500 ... 500                    Stage: DONE                     Status DONE:                    </pre>\n",
       "  </div>\n",
       "  <div class=\"enlighten-bar\">\n",
       "    <pre> ... 550 ... 550                    Stage: DONE                     Status DONE:                    </pre>\n",
       "  </div>\n",
       "  <div class=\"enlighten-bar\">\n",
       "    <pre> ... 600 ... 600                    Stage: DONE                     Status DONE:                    </pre>\n",
       "  </div>\n",
       "  <div class=\"enlighten-bar\">\n",
       "    <pre> ... 650 ... 650                    Stage: DONE                     Status DONE:                    </pre>\n",
       "  </div>\n",
       "  <div class=\"enlighten-bar\">\n",
       "    <pre> ... 700 ... 700                    Stage: DONE                     Status DONE:                    </pre>\n",
       "  </div>\n",
       "  <div class=\"enlighten-bar\">\n",
       "    <pre> ... 750 ... 750                    Stage: DONE                     Status DONE:                    </pre>\n",
       "  </div>\n",
       "  <div class=\"enlighten-bar\">\n",
       "    <pre> ... 800 ... 800                    Stage: DONE                     Status DONE:                    </pre>\n",
       "  </div>\n",
       "  <div class=\"enlighten-bar\">\n",
       "    <pre> ... 850 ... 850                    Stage: DONE                     Status DONE:                    </pre>\n",
       "  </div>\n",
       "  <div class=\"enlighten-bar\">\n",
       "    <pre> ... 900 ... 900                    Stage: DONE                     Status DONE:                    </pre>\n",
       "  </div>\n",
       "  <div class=\"enlighten-bar\">\n",
       "    <pre> ... 950 ... 950                    Stage: DONE                     Status DONE:                    </pre>\n",
       "  </div>\n",
       "</div>\n"
      ],
      "text/plain": [
       "<IPython.core.display.HTML object>"
      ]
     },
     "metadata": {},
     "output_type": "display_data"
    },
    {
     "data": {
      "text/html": [
       "<style>\n",
       "</style>\n",
       "<div class=\"enlighten\">\n",
       "  <div class=\"enlighten-bar\">\n",
       "    <pre>./output/order_Order.NLO_energy_7000_particle1_2000002_particle2_1000022_slha_sps1a1000.in_2000002_300_pdf_lo_cteq6l1_pdf_nlo_cteq61_mu_f_1.0_mu_r_1.0_id_gGX_mass_2000002_300_code_RS.out</pre>\n",
       "  </div>\n",
       "  <div class=\"enlighten-bar\">\n",
       "    <pre> ... 300 ... 300                    Stage: DONE                     Status DONE:                    </pre>\n",
       "  </div>\n",
       "  <div class=\"enlighten-bar\">\n",
       "    <pre> ... 350 ... 350                    Stage: DONE                     Status DONE:                    </pre>\n",
       "  </div>\n",
       "  <div class=\"enlighten-bar\">\n",
       "    <pre> ... 400 ... 400                    Stage: DONE                     Status DONE:                    </pre>\n",
       "  </div>\n",
       "  <div class=\"enlighten-bar\">\n",
       "    <pre> ... 450 ... 450                    Stage: DONE                     Status DONE:                    </pre>\n",
       "  </div>\n",
       "  <div class=\"enlighten-bar\">\n",
       "    <pre> ... 500 ... 500                    Stage: DONE                     Status DONE:                    </pre>\n",
       "  </div>\n",
       "  <div class=\"enlighten-bar\">\n",
       "    <pre> ... 550 ... 550                    Stage: DONE                     Status DONE:                    </pre>\n",
       "  </div>\n",
       "  <div class=\"enlighten-bar\">\n",
       "    <pre> ... 600 ... 600                    Stage: DONE                     Status DONE:                    </pre>\n",
       "  </div>\n",
       "  <div class=\"enlighten-bar\">\n",
       "    <pre> ... 650 ... 650                    Stage: DONE                     Status DONE:                    </pre>\n",
       "  </div>\n",
       "  <div class=\"enlighten-bar\">\n",
       "    <pre> ... 700 ... 700                    Stage: DONE                     Status DONE:                    </pre>\n",
       "  </div>\n",
       "  <div class=\"enlighten-bar\">\n",
       "    <pre> ... 750 ... 750                    Stage: DONE                     Status DONE:                    </pre>\n",
       "  </div>\n",
       "  <div class=\"enlighten-bar\">\n",
       "    <pre> ... 800 ... 800                    Stage: DONE                     Status DONE:                    </pre>\n",
       "  </div>\n",
       "  <div class=\"enlighten-bar\">\n",
       "    <pre> ... 850 ... 850                    Stage: DONE                     Status DONE:                    </pre>\n",
       "  </div>\n",
       "  <div class=\"enlighten-bar\">\n",
       "    <pre> ... 900 ... 900                    Stage: DONE                     Status DONE:                    </pre>\n",
       "  </div>\n",
       "  <div class=\"enlighten-bar\">\n",
       "    <pre> ... 950 ... 950                    Stage: DONE                     Status DONE:                    </pre>\n",
       "  </div>\n",
       "</div>\n"
      ],
      "text/plain": [
       "<IPython.core.display.HTML object>"
      ]
     },
     "metadata": {},
     "output_type": "display_data"
    },
    {
     "data": {
      "image/png": "[encoded data removed]",
      "text/plain": [
       "<Figure size 432x288 with 1 Axes>"
      ]
     },
     "metadata": {
      "needs_background": "light"
     },
     "output_type": "display_data"
    },
    {
     "data": {
      "text/html": [
       "<style>\n",
       "</style>\n",
       "<div class=\"enlighten\">\n",
       "  <div class=\"enlighten-bar\">\n",
       "    <pre>./output/order_Order.NLO_energy_7000_particle1_1000002_particle2_1000022_slha_sps1a1000.in_1000002_300_pdf_lo_CT14lo_pdf_nlo_CT14lo_mu_f_1.0_mu_r_1.0_id_gGX_mass_1000002_300_code_RS.out</pre>\n",
       "  </div>\n",
       "  <div class=\"enlighten-bar\">\n",
       "    <pre> ... 300 ... 300                    Stage: DONE                     Status DONE:                    </pre>\n",
       "  </div>\n",
       "  <div class=\"enlighten-bar\">\n",
       "    <pre> ... 350 ... 350                    Stage: DONE                     Status DONE:                    </pre>\n",
       "  </div>\n",
       "  <div class=\"enlighten-bar\">\n",
       "    <pre> ... 400 ... 400                    Stage: DONE                     Status DONE:                    </pre>\n",
       "  </div>\n",
       "  <div class=\"enlighten-bar\">\n",
       "    <pre> ... 450 ... 450                    Stage: DONE                     Status DONE:                    </pre>\n",
       "  </div>\n",
       "  <div class=\"enlighten-bar\">\n",
       "    <pre> ... 500 ... 500                    Stage: DONE                     Status DONE:                    </pre>\n",
       "  </div>\n",
       "  <div class=\"enlighten-bar\">\n",
       "    <pre> ... 550 ... 550                    Stage: DONE                     Status DONE:                    </pre>\n",
       "  </div>\n",
       "  <div class=\"enlighten-bar\">\n",
       "    <pre> ... 600 ... 600                    Stage: DONE                     Status DONE:                    </pre>\n",
       "  </div>\n",
       "  <div class=\"enlighten-bar\">\n",
       "    <pre> ... 650 ... 650                    Stage: DONE                     Status DONE:                    </pre>\n",
       "  </div>\n",
       "  <div class=\"enlighten-bar\">\n",
       "    <pre> ... 700 ... 700                    Stage: DONE                     Status DONE:                    </pre>\n",
       "  </div>\n",
       "  <div class=\"enlighten-bar\">\n",
       "    <pre> ... 750 ... 750                    Stage: DONE                     Status DONE:                    </pre>\n",
       "  </div>\n",
       "  <div class=\"enlighten-bar\">\n",
       "    <pre> ... 800 ... 800                    Stage: DONE                     Status DONE:                    </pre>\n",
       "  </div>\n",
       "  <div class=\"enlighten-bar\">\n",
       "    <pre> ... 850 ... 850                    Stage: DONE                     Status DONE:                    </pre>\n",
       "  </div>\n",
       "  <div class=\"enlighten-bar\">\n",
       "    <pre> ... 900 ... 900                    Stage: DONE                     Status DONE:                    </pre>\n",
       "  </div>\n",
       "  <div class=\"enlighten-bar\">\n",
       "    <pre> ... 950 ... 950                    Stage: DONE                     Status DONE:                    </pre>\n",
       "  </div>\n",
       "</div>\n"
      ],
      "text/plain": [
       "<IPython.core.display.HTML object>"
      ]
     },
     "metadata": {},
     "output_type": "display_data"
    },
    {
     "data": {
      "text/html": [
       "<style>\n",
       "</style>\n",
       "<div class=\"enlighten\">\n",
       "  <div class=\"enlighten-bar\">\n",
       "    <pre>./output/order_Order.NLO_energy_7000_particle1_1000002_particle2_1000022_slha_sps1a1000.in_1000002_300_pdf_lo_CT14lo_pdf_nlo_CT14nlo_mu_f_1.0_mu_r_1.0_id_gGX_mass_1000002_300_code_RS.out</pre>\n",
       "  </div>\n",
       "  <div class=\"enlighten-bar\">\n",
       "    <pre> ... 300 ... 300                    Stage: DONE                     Status DONE:                    </pre>\n",
       "  </div>\n",
       "  <div class=\"enlighten-bar\">\n",
       "    <pre> ... 350 ... 350                    Stage: DONE                     Status DONE:                    </pre>\n",
       "  </div>\n",
       "  <div class=\"enlighten-bar\">\n",
       "    <pre> ... 400 ... 400                    Stage: DONE                     Status DONE:                    </pre>\n",
       "  </div>\n",
       "  <div class=\"enlighten-bar\">\n",
       "    <pre> ... 450 ... 450                    Stage: DONE                     Status DONE:                    </pre>\n",
       "  </div>\n",
       "  <div class=\"enlighten-bar\">\n",
       "    <pre> ... 500 ... 500                    Stage: DONE                     Status DONE:                    </pre>\n",
       "  </div>\n",
       "  <div class=\"enlighten-bar\">\n",
       "    <pre> ... 550 ... 550                    Stage: DONE                     Status DONE:                    </pre>\n",
       "  </div>\n",
       "  <div class=\"enlighten-bar\">\n",
       "    <pre> ... 600 ... 600                    Stage: DONE                     Status DONE:                    </pre>\n",
       "  </div>\n",
       "  <div class=\"enlighten-bar\">\n",
       "    <pre> ... 650 ... 650                    Stage: DONE                     Status DONE:                    </pre>\n",
       "  </div>\n",
       "  <div class=\"enlighten-bar\">\n",
       "    <pre> ... 700 ... 700                    Stage: DONE                     Status DONE:                    </pre>\n",
       "  </div>\n",
       "  <div class=\"enlighten-bar\">\n",
       "    <pre> ... 750 ... 750                    Stage: DONE                     Status DONE:                    </pre>\n",
       "  </div>\n",
       "  <div class=\"enlighten-bar\">\n",
       "    <pre> ... 800 ... 800                    Stage: DONE                     Status DONE:                    </pre>\n",
       "  </div>\n",
       "  <div class=\"enlighten-bar\">\n",
       "    <pre> ... 850 ... 850                    Stage: DONE                     Status DONE:                    </pre>\n",
       "  </div>\n",
       "  <div class=\"enlighten-bar\">\n",
       "    <pre> ... 900 ... 900                    Stage: DONE                     Status DONE:                    </pre>\n",
       "  </div>\n",
       "  <div class=\"enlighten-bar\">\n",
       "    <pre> ... 950 ... 950                    Stage: DONE                     Status DONE:                    </pre>\n",
       "  </div>\n",
       "</div>\n"
      ],
      "text/plain": [
       "<IPython.core.display.HTML object>"
      ]
     },
     "metadata": {},
     "output_type": "display_data"
    },
    {
     "data": {
      "text/html": [
       "<style>\n",
       "</style>\n",
       "<div class=\"enlighten\">\n",
       "  <div class=\"enlighten-bar\">\n",
       "    <pre>./output/order_Order.NLO_energy_7000_particle1_1000002_particle2_1000022_slha_sps1a1000.in_1000002_300_pdf_lo_cteq6l1_pdf_nlo_cteq6l1_mu_f_1.0_mu_r_1.0_id_gGX_mass_1000002_300_code_RS.out</pre>\n",
       "  </div>\n",
       "  <div class=\"enlighten-bar\">\n",
       "    <pre> ... 300 ... 300                    Stage: DONE                     Status DONE:                    </pre>\n",
       "  </div>\n",
       "  <div class=\"enlighten-bar\">\n",
       "    <pre> ... 350 ... 350                    Stage: DONE                     Status DONE:                    </pre>\n",
       "  </div>\n",
       "  <div class=\"enlighten-bar\">\n",
       "    <pre> ... 400 ... 400                    Stage: DONE                     Status DONE:                    </pre>\n",
       "  </div>\n",
       "  <div class=\"enlighten-bar\">\n",
       "    <pre> ... 450 ... 450                    Stage: DONE                     Status DONE:                    </pre>\n",
       "  </div>\n",
       "  <div class=\"enlighten-bar\">\n",
       "    <pre> ... 500 ... 500                    Stage: DONE                     Status DONE:                    </pre>\n",
       "  </div>\n",
       "  <div class=\"enlighten-bar\">\n",
       "    <pre> ... 550 ... 550                    Stage: DONE                     Status DONE:                    </pre>\n",
       "  </div>\n",
       "  <div class=\"enlighten-bar\">\n",
       "    <pre> ... 600 ... 600                    Stage: DONE                     Status DONE:                    </pre>\n",
       "  </div>\n",
       "  <div class=\"enlighten-bar\">\n",
       "    <pre> ... 650 ... 650                    Stage: DONE                     Status DONE:                    </pre>\n",
       "  </div>\n",
       "  <div class=\"enlighten-bar\">\n",
       "    <pre> ... 700 ... 700                    Stage: DONE                     Status DONE:                    </pre>\n",
       "  </div>\n",
       "  <div class=\"enlighten-bar\">\n",
       "    <pre> ... 750 ... 750                    Stage: DONE                     Status DONE:                    </pre>\n",
       "  </div>\n",
       "  <div class=\"enlighten-bar\">\n",
       "    <pre> ... 800 ... 800                    Stage: DONE                     Status DONE:                    </pre>\n",
       "  </div>\n",
       "  <div class=\"enlighten-bar\">\n",
       "    <pre> ... 850 ... 850                    Stage: DONE                     Status DONE:                    </pre>\n",
       "  </div>\n",
       "  <div class=\"enlighten-bar\">\n",
       "    <pre> ... 900 ... 900                    Stage: DONE                     Status DONE:                    </pre>\n",
       "  </div>\n",
       "  <div class=\"enlighten-bar\">\n",
       "    <pre> ... 950 ... 950                    Stage: DONE                     Status DONE:                    </pre>\n",
       "  </div>\n",
       "</div>\n"
      ],
      "text/plain": [
       "<IPython.core.display.HTML object>"
      ]
     },
     "metadata": {},
     "output_type": "display_data"
    },
    {
     "data": {
      "text/html": [
       "<style>\n",
       "</style>\n",
       "<div class=\"enlighten\">\n",
       "  <div class=\"enlighten-bar\">\n",
       "    <pre>./output/order_Order.NLO_energy_7000_particle1_1000002_particle2_1000022_slha_sps1a1000.in_1000002_300_pdf_lo_cteq6l1_pdf_nlo_cteq61_mu_f_1.0_mu_r_1.0_id_gGX_mass_1000002_300_code_RS.out</pre>\n",
       "  </div>\n",
       "  <div class=\"enlighten-bar\">\n",
       "    <pre> ... 300 ... 300                    Stage: DONE                     Status DONE:                    </pre>\n",
       "  </div>\n",
       "  <div class=\"enlighten-bar\">\n",
       "    <pre> ... 350 ... 350                    Stage: DONE                     Status DONE:                    </pre>\n",
       "  </div>\n",
       "  <div class=\"enlighten-bar\">\n",
       "    <pre> ... 400 ... 400                    Stage: DONE                     Status DONE:                    </pre>\n",
       "  </div>\n",
       "  <div class=\"enlighten-bar\">\n",
       "    <pre> ... 450 ... 450                    Stage: DONE                     Status DONE:                    </pre>\n",
       "  </div>\n",
       "  <div class=\"enlighten-bar\">\n",
       "    <pre> ... 500 ... 500                    Stage: DONE                     Status DONE:                    </pre>\n",
       "  </div>\n",
       "  <div class=\"enlighten-bar\">\n",
       "    <pre> ... 550 ... 550                    Stage: DONE                     Status DONE:                    </pre>\n",
       "  </div>\n",
       "  <div class=\"enlighten-bar\">\n",
       "    <pre> ... 600 ... 600                    Stage: DONE                     Status DONE:                    </pre>\n",
       "  </div>\n",
       "  <div class=\"enlighten-bar\">\n",
       "    <pre> ... 650 ... 650                    Stage: DONE                     Status DONE:                    </pre>\n",
       "  </div>\n",
       "  <div class=\"enlighten-bar\">\n",
       "    <pre> ... 700 ... 700                    Stage: DONE                     Status DONE:                    </pre>\n",
       "  </div>\n",
       "  <div class=\"enlighten-bar\">\n",
       "    <pre> ... 750 ... 750                    Stage: DONE                     Status DONE:                    </pre>\n",
       "  </div>\n",
       "  <div class=\"enlighten-bar\">\n",
       "    <pre> ... 800 ... 800                    Stage: DONE                     Status DONE:                    </pre>\n",
       "  </div>\n",
       "  <div class=\"enlighten-bar\">\n",
       "    <pre> ... 850 ... 850                    Stage: DONE                     Status DONE:                    </pre>\n",
       "  </div>\n",
       "  <div class=\"enlighten-bar\">\n",
       "    <pre> ... 900 ... 900                    Stage: DONE                     Status DONE:                    </pre>\n",
       "  </div>\n",
       "  <div class=\"enlighten-bar\">\n",
       "    <pre> ... 950 ... 950                    Stage: DONE                     Status DONE:                    </pre>\n",
       "  </div>\n",
       "</div>\n"
      ],
      "text/plain": [
       "<IPython.core.display.HTML object>"
      ]
     },
     "metadata": {},
     "output_type": "display_data"
    },
    {
     "data": {
      "image/png": "[encoded data removed]",
      "text/plain": [
       "<Figure size 432x288 with 1 Axes>"
      ]
     },
     "metadata": {
      "needs_background": "light"
     },
     "output_type": "display_data"
    }
   ],
   "source": [
    "# pdfs CT14lo CT14nlo CTEQ6L1 (CTEQ6M)\n",
    "for sq in [2000002,1000002]:\n",
    "    for pdf,nlopdf in [(\"CT14lo\",\"CT14lo\"),(\"CT14lo\",\"CT14nlo\"),(\"cteq6l1\",\"cteq6l1\"),(\"cteq6l1\",\"cteq61\")]:\n",
    "        i = hepi.Input(hepi.Order.NLO,7000,sq,1000022,\"sps1a1000.in\",pdf,nlopdf,1., 1.,\"gGX\")\n",
    "        li = hepi.mass_scan([i],sq, range(300,1000,50),diff_L_R=20)\n",
    "        dll = rs.run(li,True)\n",
    "        hepi.mass_vplot(dll,sq,((dll[\"vnlo\"]+dll[\"lo\"])/dll[\"lo\"]),logy=False,label=\"$K_\\\\mathrm{gGX}$ \" + nlopdf)\n",
    "    hepi.mass_vplot(dll,sq,((dll[\"lo\"])/dll[\"lo\"]),logy=False,label=\"$K_\\\\mathrm{lo}$\")\n",
    "    plt.show()"
   ]
  },
  {
   "cell_type": "code",
   "execution_count": 24,
   "metadata": {
    "scrolled": true
   },
   "outputs": [
    {
     "data": {
      "text/html": [
       "<style>\n",
       "</style>\n",
       "<div class=\"enlighten\">\n",
       "  <div class=\"enlighten-bar\">\n",
       "    <pre>./output/order_Order.NLO_energy_7000_particle1_2000002_particle2_1000022_slha_sps1a1000.in_2000002_300_pdf_lo_CT14lo_pdf_nlo_CT14lo_mu_f_1.0_mu_r_1.0_id_UUg_mass_2000002_300_code_RS.out</pre>\n",
       "  </div>\n",
       "  <div class=\"enlighten-bar\">\n",
       "    <pre> ... 300 ... 300                    Stage: DONE                     Status DONE:                    </pre>\n",
       "  </div>\n",
       "  <div class=\"enlighten-bar\">\n",
       "    <pre> ... 350 ... 350                    Stage: DONE                     Status DONE:                    </pre>\n",
       "  </div>\n",
       "  <div class=\"enlighten-bar\">\n",
       "    <pre> ... 400 ... 400                    Stage: DONE                     Status DONE:                    </pre>\n",
       "  </div>\n",
       "  <div class=\"enlighten-bar\">\n",
       "    <pre> ... 450 ... 450                    Stage: DONE                     Status DONE:                    </pre>\n",
       "  </div>\n",
       "  <div class=\"enlighten-bar\">\n",
       "    <pre> ... 500 ... 500                    Stage: DONE                     Status DONE:                    </pre>\n",
       "  </div>\n",
       "  <div class=\"enlighten-bar\">\n",
       "    <pre> ... 550 ... 550                    Stage: DONE                     Status DONE:                    </pre>\n",
       "  </div>\n",
       "  <div class=\"enlighten-bar\">\n",
       "    <pre> ... 600 ... 600                    Stage: DONE                     Status DONE:                    </pre>\n",
       "  </div>\n",
       "  <div class=\"enlighten-bar\">\n",
       "    <pre> ... 650 ... 650                    Stage: DONE                     Status DONE:                    </pre>\n",
       "  </div>\n",
       "  <div class=\"enlighten-bar\">\n",
       "    <pre> ... 700 ... 700                    Stage: DONE                     Status DONE:                    </pre>\n",
       "  </div>\n",
       "  <div class=\"enlighten-bar\">\n",
       "    <pre> ... 750 ... 750                    Stage: DONE                     Status DONE:                    </pre>\n",
       "  </div>\n",
       "  <div class=\"enlighten-bar\">\n",
       "    <pre> ... 800 ... 800                    Stage: DONE                     Status DONE:                    </pre>\n",
       "  </div>\n",
       "  <div class=\"enlighten-bar\">\n",
       "    <pre> ... 850 ... 850                    Stage: DONE                     Status DONE:                    </pre>\n",
       "  </div>\n",
       "  <div class=\"enlighten-bar\">\n",
       "    <pre> ... 900 ... 900                    Stage: DONE                     Status DONE:                    </pre>\n",
       "  </div>\n",
       "  <div class=\"enlighten-bar\">\n",
       "    <pre> ... 950 ... 950                    Stage: DONE                     Status DONE:                    </pre>\n",
       "  </div>\n",
       "</div>\n"
      ],
      "text/plain": [
       "<IPython.core.display.HTML object>"
      ]
     },
     "metadata": {},
     "output_type": "display_data"
    },
    {
     "data": {
      "text/html": [
       "<style>\n",
       "</style>\n",
       "<div class=\"enlighten\">\n",
       "  <div class=\"enlighten-bar\">\n",
       "    <pre>./output/order_Order.NLO_energy_7000_particle1_2000002_particle2_1000022_slha_sps1a1000.in_2000002_300_pdf_lo_CT14lo_pdf_nlo_CT14nlo_mu_f_1.0_mu_r_1.0_id_UUg_mass_2000002_300_code_RS.out</pre>\n",
       "  </div>\n",
       "  <div class=\"enlighten-bar\">\n",
       "    <pre> ... 300 ... 300                    Stage: DONE                     Status DONE:                    </pre>\n",
       "  </div>\n",
       "  <div class=\"enlighten-bar\">\n",
       "    <pre> ... 350 ... 350                    Stage: DONE                     Status DONE:                    </pre>\n",
       "  </div>\n",
       "  <div class=\"enlighten-bar\">\n",
       "    <pre> ... 400 ... 400                    Stage: DONE                     Status DONE:                    </pre>\n",
       "  </div>\n",
       "  <div class=\"enlighten-bar\">\n",
       "    <pre> ... 450 ... 450                    Stage: DONE                     Status DONE:                    </pre>\n",
       "  </div>\n",
       "  <div class=\"enlighten-bar\">\n",
       "    <pre> ... 500 ... 500                    Stage: DONE                     Status DONE:                    </pre>\n",
       "  </div>\n",
       "  <div class=\"enlighten-bar\">\n",
       "    <pre> ... 550 ... 550                    Stage: DONE                     Status DONE:                    </pre>\n",
       "  </div>\n",
       "  <div class=\"enlighten-bar\">\n",
       "    <pre> ... 600 ... 600                    Stage: DONE                     Status DONE:                    </pre>\n",
       "  </div>\n",
       "  <div class=\"enlighten-bar\">\n",
       "    <pre> ... 650 ... 650                    Stage: DONE                     Status DONE:                    </pre>\n",
       "  </div>\n",
       "  <div class=\"enlighten-bar\">\n",
       "    <pre> ... 700 ... 700                    Stage: DONE                     Status DONE:                    </pre>\n",
       "  </div>\n",
       "  <div class=\"enlighten-bar\">\n",
       "    <pre> ... 750 ... 750                    Stage: DONE                     Status DONE:                    </pre>\n",
       "  </div>\n",
       "  <div class=\"enlighten-bar\">\n",
       "    <pre> ... 800 ... 800                    Stage: DONE                     Status DONE:                    </pre>\n",
       "  </div>\n",
       "  <div class=\"enlighten-bar\">\n",
       "    <pre> ... 850 ... 850                    Stage: DONE                     Status DONE:                    </pre>\n",
       "  </div>\n",
       "  <div class=\"enlighten-bar\">\n",
       "    <pre> ... 900 ... 900                    Stage: DONE                     Status DONE:                    </pre>\n",
       "  </div>\n",
       "  <div class=\"enlighten-bar\">\n",
       "    <pre> ... 950 ... 950                    Stage: DONE                     Status DONE:                    </pre>\n",
       "  </div>\n",
       "</div>\n"
      ],
      "text/plain": [
       "<IPython.core.display.HTML object>"
      ]
     },
     "metadata": {},
     "output_type": "display_data"
    },
    {
     "data": {
      "text/html": [
       "<style>\n",
       "</style>\n",
       "<div class=\"enlighten\">\n",
       "  <div class=\"enlighten-bar\">\n",
       "    <pre>./output/order_Order.NLO_energy_7000_particle1_2000002_particle2_1000022_slha_sps1a1000.in_2000002_300_pdf_lo_cteq6l1_pdf_nlo_cteq6l1_mu_f_1.0_mu_r_1.0_id_UUg_mass_2000002_300_code_RS.out</pre>\n",
       "  </div>\n",
       "  <div class=\"enlighten-bar\">\n",
       "    <pre> ... 300 ... 300                    Stage: DONE                     Status DONE:                    </pre>\n",
       "  </div>\n",
       "  <div class=\"enlighten-bar\">\n",
       "    <pre> ... 350 ... 350                    Stage: DONE                     Status DONE:                    </pre>\n",
       "  </div>\n",
       "  <div class=\"enlighten-bar\">\n",
       "    <pre> ... 400 ... 400                    Stage: DONE                     Status DONE:                    </pre>\n",
       "  </div>\n",
       "  <div class=\"enlighten-bar\">\n",
       "    <pre> ... 450 ... 450                    Stage: DONE                     Status DONE:                    </pre>\n",
       "  </div>\n",
       "  <div class=\"enlighten-bar\">\n",
       "    <pre> ... 500 ... 500                    Stage: DONE                     Status DONE:                    </pre>\n",
       "  </div>\n",
       "  <div class=\"enlighten-bar\">\n",
       "    <pre> ... 550 ... 550                    Stage: DONE                     Status DONE:                    </pre>\n",
       "  </div>\n",
       "  <div class=\"enlighten-bar\">\n",
       "    <pre> ... 600 ... 600                    Stage: DONE                     Status DONE:                    </pre>\n",
       "  </div>\n",
       "  <div class=\"enlighten-bar\">\n",
       "    <pre> ... 650 ... 650                    Stage: DONE                     Status DONE:                    </pre>\n",
       "  </div>\n",
       "  <div class=\"enlighten-bar\">\n",
       "    <pre> ... 700 ... 700                    Stage: DONE                     Status DONE:                    </pre>\n",
       "  </div>\n",
       "  <div class=\"enlighten-bar\">\n",
       "    <pre> ... 750 ... 750                    Stage: DONE                     Status DONE:                    </pre>\n",
       "  </div>\n",
       "  <div class=\"enlighten-bar\">\n",
       "    <pre> ... 800 ... 800                    Stage: DONE                     Status DONE:                    </pre>\n",
       "  </div>\n",
       "  <div class=\"enlighten-bar\">\n",
       "    <pre> ... 850 ... 850                    Stage: DONE                     Status DONE:                    </pre>\n",
       "  </div>\n",
       "  <div class=\"enlighten-bar\">\n",
       "    <pre> ... 900 ... 900                    Stage: DONE                     Status DONE:                    </pre>\n",
       "  </div>\n",
       "  <div class=\"enlighten-bar\">\n",
       "    <pre> ... 950 ... 950                    Stage: DONE                     Status DONE:                    </pre>\n",
       "  </div>\n",
       "</div>\n"
      ],
      "text/plain": [
       "<IPython.core.display.HTML object>"
      ]
     },
     "metadata": {},
     "output_type": "display_data"
    },
    {
     "data": {
      "text/html": [
       "<style>\n",
       "</style>\n",
       "<div class=\"enlighten\">\n",
       "  <div class=\"enlighten-bar\">\n",
       "    <pre>./output/order_Order.NLO_energy_7000_particle1_2000002_particle2_1000022_slha_sps1a1000.in_2000002_300_pdf_lo_cteq6l1_pdf_nlo_cteq61_mu_f_1.0_mu_r_1.0_id_UUg_mass_2000002_300_code_RS.out</pre>\n",
       "  </div>\n",
       "  <div class=\"enlighten-bar\">\n",
       "    <pre> ... 300 ... 300                    Stage: DONE                     Status DONE:                    </pre>\n",
       "  </div>\n",
       "  <div class=\"enlighten-bar\">\n",
       "    <pre> ... 350 ... 350                    Stage: DONE                     Status DONE:                    </pre>\n",
       "  </div>\n",
       "  <div class=\"enlighten-bar\">\n",
       "    <pre> ... 400 ... 400                    Stage: DONE                     Status DONE:                    </pre>\n",
       "  </div>\n",
       "  <div class=\"enlighten-bar\">\n",
       "    <pre> ... 450 ... 450                    Stage: DONE                     Status DONE:                    </pre>\n",
       "  </div>\n",
       "  <div class=\"enlighten-bar\">\n",
       "    <pre> ... 500 ... 500                    Stage: DONE                     Status DONE:                    </pre>\n",
       "  </div>\n",
       "  <div class=\"enlighten-bar\">\n",
       "    <pre> ... 550 ... 550                    Stage: DONE                     Status DONE:                    </pre>\n",
       "  </div>\n",
       "  <div class=\"enlighten-bar\">\n",
       "    <pre> ... 600 ... 600                    Stage: DONE                     Status DONE:                    </pre>\n",
       "  </div>\n",
       "  <div class=\"enlighten-bar\">\n",
       "    <pre> ... 650 ... 650                    Stage: DONE                     Status DONE:                    </pre>\n",
       "  </div>\n",
       "  <div class=\"enlighten-bar\">\n",
       "    <pre> ... 700 ... 700                    Stage: DONE                     Status DONE:                    </pre>\n",
       "  </div>\n",
       "  <div class=\"enlighten-bar\">\n",
       "    <pre> ... 750 ... 750                    Stage: DONE                     Status DONE:                    </pre>\n",
       "  </div>\n",
       "  <div class=\"enlighten-bar\">\n",
       "    <pre> ... 800 ... 800                    Stage: DONE                     Status DONE:                    </pre>\n",
       "  </div>\n",
       "  <div class=\"enlighten-bar\">\n",
       "    <pre> ... 850 ... 850                    Stage: DONE                     Status DONE:                    </pre>\n",
       "  </div>\n",
       "  <div class=\"enlighten-bar\">\n",
       "    <pre> ... 900 ... 900                    Stage: DONE                     Status DONE:                    </pre>\n",
       "  </div>\n",
       "  <div class=\"enlighten-bar\">\n",
       "    <pre> ... 950 ... 950                    Stage: DONE                     Status DONE:                    </pre>\n",
       "  </div>\n",
       "</div>\n"
      ],
      "text/plain": [
       "<IPython.core.display.HTML object>"
      ]
     },
     "metadata": {},
     "output_type": "display_data"
    },
    {
     "data": {
      "image/png": "[encoded data removed]",
      "text/plain": [
       "<Figure size 432x288 with 1 Axes>"
      ]
     },
     "metadata": {
      "needs_background": "light"
     },
     "output_type": "display_data"
    },
    {
     "data": {
      "text/html": [
       "<style>\n",
       "</style>\n",
       "<div class=\"enlighten\">\n",
       "  <div class=\"enlighten-bar\">\n",
       "    <pre>./output/order_Order.NLO_energy_7000_particle1_1000002_particle2_1000022_slha_sps1a1000.in_1000002_300_pdf_lo_CT14lo_pdf_nlo_CT14lo_mu_f_1.0_mu_r_1.0_id_UUg_mass_1000002_300_code_RS.out</pre>\n",
       "  </div>\n",
       "  <div class=\"enlighten-bar\">\n",
       "    <pre> ... 300 ... 300                    Stage: DONE                     Status DONE:                    </pre>\n",
       "  </div>\n",
       "  <div class=\"enlighten-bar\">\n",
       "    <pre> ... 350 ... 350                    Stage: DONE                     Status DONE:                    </pre>\n",
       "  </div>\n",
       "  <div class=\"enlighten-bar\">\n",
       "    <pre> ... 400 ... 400                    Stage: DONE                     Status DONE:                    </pre>\n",
       "  </div>\n",
       "  <div class=\"enlighten-bar\">\n",
       "    <pre> ... 450 ... 450                    Stage: DONE                     Status DONE:                    </pre>\n",
       "  </div>\n",
       "  <div class=\"enlighten-bar\">\n",
       "    <pre> ... 500 ... 500                    Stage: DONE                     Status DONE:                    </pre>\n",
       "  </div>\n",
       "  <div class=\"enlighten-bar\">\n",
       "    <pre> ... 550 ... 550                    Stage: DONE                     Status DONE:                    </pre>\n",
       "  </div>\n",
       "  <div class=\"enlighten-bar\">\n",
       "    <pre> ... 600 ... 600                    Stage: DONE                     Status DONE:                    </pre>\n",
       "  </div>\n",
       "  <div class=\"enlighten-bar\">\n",
       "    <pre> ... 650 ... 650                    Stage: DONE                     Status DONE:                    </pre>\n",
       "  </div>\n",
       "  <div class=\"enlighten-bar\">\n",
       "    <pre> ... 700 ... 700                    Stage: DONE                     Status DONE:                    </pre>\n",
       "  </div>\n",
       "  <div class=\"enlighten-bar\">\n",
       "    <pre> ... 750 ... 750                    Stage: DONE                     Status DONE:                    </pre>\n",
       "  </div>\n",
       "  <div class=\"enlighten-bar\">\n",
       "    <pre> ... 800 ... 800                    Stage: DONE                     Status DONE:                    </pre>\n",
       "  </div>\n",
       "  <div class=\"enlighten-bar\">\n",
       "    <pre> ... 850 ... 850                    Stage: DONE                     Status DONE:                    </pre>\n",
       "  </div>\n",
       "  <div class=\"enlighten-bar\">\n",
       "    <pre> ... 900 ... 900                    Stage: DONE                     Status DONE:                    </pre>\n",
       "  </div>\n",
       "  <div class=\"enlighten-bar\">\n",
       "    <pre> ... 950 ... 950                    Stage: DONE                     Status DONE:                    </pre>\n",
       "  </div>\n",
       "</div>\n"
      ],
      "text/plain": [
       "<IPython.core.display.HTML object>"
      ]
     },
     "metadata": {},
     "output_type": "display_data"
    },
    {
     "data": {
      "text/html": [
       "<style>\n",
       "</style>\n",
       "<div class=\"enlighten\">\n",
       "  <div class=\"enlighten-bar\">\n",
       "    <pre>./output/order_Order.NLO_energy_7000_particle1_1000002_particle2_1000022_slha_sps1a1000.in_1000002_300_pdf_lo_CT14lo_pdf_nlo_CT14nlo_mu_f_1.0_mu_r_1.0_id_UUg_mass_1000002_300_code_RS.out</pre>\n",
       "  </div>\n",
       "  <div class=\"enlighten-bar\">\n",
       "    <pre> ... 300 ... 300                    Stage: DONE                     Status DONE:                    </pre>\n",
       "  </div>\n",
       "  <div class=\"enlighten-bar\">\n",
       "    <pre> ... 350 ... 350                    Stage: DONE                     Status DONE:                    </pre>\n",
       "  </div>\n",
       "  <div class=\"enlighten-bar\">\n",
       "    <pre> ... 400 ... 400                    Stage: DONE                     Status DONE:                    </pre>\n",
       "  </div>\n",
       "  <div class=\"enlighten-bar\">\n",
       "    <pre> ... 450 ... 450                    Stage: DONE                     Status DONE:                    </pre>\n",
       "  </div>\n",
       "  <div class=\"enlighten-bar\">\n",
       "    <pre> ... 500 ... 500                    Stage: DONE                     Status DONE:                    </pre>\n",
       "  </div>\n",
       "  <div class=\"enlighten-bar\">\n",
       "    <pre> ... 550 ... 550                    Stage: DONE                     Status DONE:                    </pre>\n",
       "  </div>\n",
       "  <div class=\"enlighten-bar\">\n",
       "    <pre> ... 600 ... 600                    Stage: DONE                     Status DONE:                    </pre>\n",
       "  </div>\n",
       "  <div class=\"enlighten-bar\">\n",
       "    <pre> ... 650 ... 650                    Stage: DONE                     Status DONE:                    </pre>\n",
       "  </div>\n",
       "  <div class=\"enlighten-bar\">\n",
       "    <pre> ... 700 ... 700                    Stage: DONE                     Status DONE:                    </pre>\n",
       "  </div>\n",
       "  <div class=\"enlighten-bar\">\n",
       "    <pre> ... 750 ... 750                    Stage: DONE                     Status DONE:                    </pre>\n",
       "  </div>\n",
       "  <div class=\"enlighten-bar\">\n",
       "    <pre> ... 800 ... 800                    Stage: DONE                     Status DONE:                    </pre>\n",
       "  </div>\n",
       "  <div class=\"enlighten-bar\">\n",
       "    <pre> ... 850 ... 850                    Stage: DONE                     Status DONE:                    </pre>\n",
       "  </div>\n",
       "  <div class=\"enlighten-bar\">\n",
       "    <pre> ... 900 ... 900                    Stage: DONE                     Status DONE:                    </pre>\n",
       "  </div>\n",
       "  <div class=\"enlighten-bar\">\n",
       "    <pre> ... 950 ... 950                    Stage: DONE                     Status DONE:                    </pre>\n",
       "  </div>\n",
       "</div>\n"
      ],
      "text/plain": [
       "<IPython.core.display.HTML object>"
      ]
     },
     "metadata": {},
     "output_type": "display_data"
    },
    {
     "data": {
      "text/html": [
       "<style>\n",
       "</style>\n",
       "<div class=\"enlighten\">\n",
       "  <div class=\"enlighten-bar\">\n",
       "    <pre>./output/order_Order.NLO_energy_7000_particle1_1000002_particle2_1000022_slha_sps1a1000.in_1000002_300_pdf_lo_cteq6l1_pdf_nlo_cteq6l1_mu_f_1.0_mu_r_1.0_id_UUg_mass_1000002_300_code_RS.out</pre>\n",
       "  </div>\n",
       "  <div class=\"enlighten-bar\">\n",
       "    <pre> ... 300 ... 300                    Stage: DONE                     Status DONE:                    </pre>\n",
       "  </div>\n",
       "  <div class=\"enlighten-bar\">\n",
       "    <pre> ... 350 ... 350                    Stage: DONE                     Status DONE:                    </pre>\n",
       "  </div>\n",
       "  <div class=\"enlighten-bar\">\n",
       "    <pre> ... 400 ... 400                    Stage: DONE                     Status DONE:                    </pre>\n",
       "  </div>\n",
       "  <div class=\"enlighten-bar\">\n",
       "    <pre> ... 450 ... 450                    Stage: DONE                     Status DONE:                    </pre>\n",
       "  </div>\n",
       "  <div class=\"enlighten-bar\">\n",
       "    <pre> ... 500 ... 500                    Stage: DONE                     Status DONE:                    </pre>\n",
       "  </div>\n",
       "  <div class=\"enlighten-bar\">\n",
       "    <pre> ... 550 ... 550                    Stage: DONE                     Status DONE:                    </pre>\n",
       "  </div>\n",
       "  <div class=\"enlighten-bar\">\n",
       "    <pre> ... 600 ... 600                    Stage: DONE                     Status DONE:                    </pre>\n",
       "  </div>\n",
       "  <div class=\"enlighten-bar\">\n",
       "    <pre> ... 650 ... 650                    Stage: DONE                     Status DONE:                    </pre>\n",
       "  </div>\n",
       "  <div class=\"enlighten-bar\">\n",
       "    <pre> ... 700 ... 700                    Stage: DONE                     Status DONE:                    </pre>\n",
       "  </div>\n",
       "  <div class=\"enlighten-bar\">\n",
       "    <pre> ... 750 ... 750                    Stage: DONE                     Status DONE:                    </pre>\n",
       "  </div>\n",
       "  <div class=\"enlighten-bar\">\n",
       "    <pre> ... 800 ... 800                    Stage: DONE                     Status DONE:                    </pre>\n",
       "  </div>\n",
       "  <div class=\"enlighten-bar\">\n",
       "    <pre> ... 850 ... 850                    Stage: DONE                     Status DONE:                    </pre>\n",
       "  </div>\n",
       "  <div class=\"enlighten-bar\">\n",
       "    <pre> ... 900 ... 900                    Stage: DONE                     Status DONE:                    </pre>\n",
       "  </div>\n",
       "  <div class=\"enlighten-bar\">\n",
       "    <pre> ... 950 ... 950                    Stage: DONE                     Status DONE:                    </pre>\n",
       "  </div>\n",
       "</div>\n"
      ],
      "text/plain": [
       "<IPython.core.display.HTML object>"
      ]
     },
     "metadata": {},
     "output_type": "display_data"
    },
    {
     "data": {
      "text/html": [
       "<style>\n",
       "</style>\n",
       "<div class=\"enlighten\">\n",
       "  <div class=\"enlighten-bar\">\n",
       "    <pre>./output/order_Order.NLO_energy_7000_particle1_1000002_particle2_1000022_slha_sps1a1000.in_1000002_300_pdf_lo_cteq6l1_pdf_nlo_cteq61_mu_f_1.0_mu_r_1.0_id_UUg_mass_1000002_300_code_RS.out</pre>\n",
       "  </div>\n",
       "  <div class=\"enlighten-bar\">\n",
       "    <pre> ... 300 ... 300                    Stage: DONE                     Status DONE:                    </pre>\n",
       "  </div>\n",
       "  <div class=\"enlighten-bar\">\n",
       "    <pre> ... 350 ... 350                    Stage: DONE                     Status DONE:                    </pre>\n",
       "  </div>\n",
       "  <div class=\"enlighten-bar\">\n",
       "    <pre> ... 400 ... 400                    Stage: DONE                     Status DONE:                    </pre>\n",
       "  </div>\n",
       "  <div class=\"enlighten-bar\">\n",
       "    <pre> ... 450 ... 450                    Stage: DONE                     Status DONE:                    </pre>\n",
       "  </div>\n",
       "  <div class=\"enlighten-bar\">\n",
       "    <pre> ... 500 ... 500                    Stage: DONE                     Status DONE:                    </pre>\n",
       "  </div>\n",
       "  <div class=\"enlighten-bar\">\n",
       "    <pre> ... 550 ... 550                    Stage: DONE                     Status DONE:                    </pre>\n",
       "  </div>\n",
       "  <div class=\"enlighten-bar\">\n",
       "    <pre> ... 600 ... 600                    Stage: DONE                     Status DONE:                    </pre>\n",
       "  </div>\n",
       "  <div class=\"enlighten-bar\">\n",
       "    <pre> ... 650 ... 650                    Stage: DONE                     Status DONE:                    </pre>\n",
       "  </div>\n",
       "  <div class=\"enlighten-bar\">\n",
       "    <pre> ... 700 ... 700                    Stage: DONE                     Status DONE:                    </pre>\n",
       "  </div>\n",
       "  <div class=\"enlighten-bar\">\n",
       "    <pre> ... 750 ... 750                    Stage: DONE                     Status DONE:                    </pre>\n",
       "  </div>\n",
       "  <div class=\"enlighten-bar\">\n",
       "    <pre> ... 800 ... 800                    Stage: DONE                     Status DONE:                    </pre>\n",
       "  </div>\n",
       "  <div class=\"enlighten-bar\">\n",
       "    <pre> ... 850 ... 850                    Stage: DONE                     Status DONE:                    </pre>\n",
       "  </div>\n",
       "  <div class=\"enlighten-bar\">\n",
       "    <pre> ... 900 ... 900                    Stage: DONE                     Status DONE:                    </pre>\n",
       "  </div>\n",
       "  <div class=\"enlighten-bar\">\n",
       "    <pre> ... 950 ... 950                    Stage: DONE                     Status DONE:                    </pre>\n",
       "  </div>\n",
       "</div>\n"
      ],
      "text/plain": [
       "<IPython.core.display.HTML object>"
      ]
     },
     "metadata": {},
     "output_type": "display_data"
    },
    {
     "data": {
      "image/png": "[encoded data removed]",
      "text/plain": [
       "<Figure size 432x288 with 1 Axes>"
      ]
     },
     "metadata": {
      "needs_background": "light"
     },
     "output_type": "display_data"
    }
   ],
   "source": [
    "# pdfs CT14lo CT14nlo CTEQ6L1 (CTEQ6M)\n",
    "for sq in [2000002,1000002]:\n",
    "    for pdf,nlopdf in [(\"CT14lo\",\"CT14lo\"),(\"CT14lo\",\"CT14nlo\"),(\"cteq6l1\",\"cteq6l1\"),(\"cteq6l1\",\"cteq61\")]:\n",
    "        i = hepi.Input(hepi.Order.NLO,7000,sq,1000022,\"sps1a1000.in\",pdf,nlopdf,1., 1.,\"UUg\")\n",
    "        li = hepi.mass_scan([i],sq, range(300,1000,50),diff_L_R=20)\n",
    "        dll = rs.run(li,True)\n",
    "        hepi.mass_vplot(dll,sq,((dll[\"vnlo\"]+dll[\"lo\"])/dll[\"lo\"]),logy=False,label=\"$K_\\\\mathrm{UUg}$ \" + nlopdf)\n",
    "    hepi.mass_vplot(dll,sq,((dll[\"lo\"])/dll[\"lo\"]),logy=False,label=\"$K_\\\\mathrm{lo}$\")\n",
    "    plt.show()"
   ]
  },
  {
   "cell_type": "code",
   "execution_count": 2,
   "metadata": {
    "scrolled": true
   },
   "outputs": [
    {
     "name": "stdout",
     "output_type": "stream",
     "text": [
      "skipskipskipskipskipskipskipskipskipskipskipskipskipskip"
     ]
    },
    {
     "data": {
      "text/html": [
       "<style>\n",
       "</style>\n",
       "<div class=\"enlighten\">\n",
       "  <div class=\"enlighten-bar\">\n",
       "    <pre>./output/order_Order.NLO_energy_7000_particle1_2000002_particle2_1000022_slha_sps1a1000.in_2000002_300_pdf_lo_CT14lo_pdf_nlo_CT14lo_mu_f_1.0_mu_r_1.0_id_ppk_mass_2000002_300_code_RS.out</pre>\n",
       "  </div>\n",
       "</div>\n"
      ],
      "text/plain": [
       "<IPython.core.display.HTML object>"
      ]
     },
     "metadata": {},
     "output_type": "display_data"
    },
    {
     "name": "stdout",
     "output_type": "stream",
     "text": [
      "skipskipskipskipskipskipskipskipskipskipskipskipskipskip"
     ]
    },
    {
     "data": {
      "text/html": [
       "<style>\n",
       "</style>\n",
       "<div class=\"enlighten\">\n",
       "  <div class=\"enlighten-bar\">\n",
       "    <pre>./output/order_Order.NLO_energy_7000_particle1_2000002_particle2_1000022_slha_sps1a1000.in_2000002_300_pdf_lo_CT14lo_pdf_nlo_CT14nlo_mu_f_1.0_mu_r_1.0_id_ppk_mass_2000002_300_code_RS.out</pre>\n",
       "  </div>\n",
       "</div>\n"
      ],
      "text/plain": [
       "<IPython.core.display.HTML object>"
      ]
     },
     "metadata": {},
     "output_type": "display_data"
    },
    {
     "name": "stdout",
     "output_type": "stream",
     "text": [
      "skipskipskipskipskipskipskipskipskipskipskipskipskipskip"
     ]
    },
    {
     "data": {
      "text/html": [
       "<style>\n",
       "</style>\n",
       "<div class=\"enlighten\">\n",
       "  <div class=\"enlighten-bar\">\n",
       "    <pre>./output/order_Order.NLO_energy_7000_particle1_2000002_particle2_1000022_slha_sps1a1000.in_2000002_300_pdf_lo_cteq6l1_pdf_nlo_cteq6l1_mu_f_1.0_mu_r_1.0_id_ppk_mass_2000002_300_code_RS.out</pre>\n",
       "  </div>\n",
       "</div>\n"
      ],
      "text/plain": [
       "<IPython.core.display.HTML object>"
      ]
     },
     "metadata": {},
     "output_type": "display_data"
    },
    {
     "name": "stdout",
     "output_type": "stream",
     "text": [
      "skipskipskipskipskipskipskipskipskipskipskipskipskipskip"
     ]
    },
    {
     "data": {
      "text/html": [
       "<style>\n",
       "</style>\n",
       "<div class=\"enlighten\">\n",
       "  <div class=\"enlighten-bar\">\n",
       "    <pre>./output/order_Order.NLO_energy_7000_particle1_2000002_particle2_1000022_slha_sps1a1000.in_2000002_300_pdf_lo_cteq6l1_pdf_nlo_cteq61_mu_f_1.0_mu_r_1.0_id_ppk_mass_2000002_300_code_RS.out</pre>\n",
       "  </div>\n",
       "</div>\n"
      ],
      "text/plain": [
       "<IPython.core.display.HTML object>"
      ]
     },
     "metadata": {},
     "output_type": "display_data"
    },
    {
     "name": "stdout",
     "output_type": "stream",
     "text": [
      "skipskipskipskipskipskipskipskipskipskipskipskipskipskip"
     ]
    },
    {
     "data": {
      "text/html": [
       "<style>\n",
       "</style>\n",
       "<div class=\"enlighten\">\n",
       "  <div class=\"enlighten-bar\">\n",
       "    <pre>./output/order_Order.NLO_energy_7000_particle1_2000002_particle2_1000022_slha_sps1a1000.in_2000002_300_pdf_lo_CT14lo_pdf_nlo_CT14lo_mu_f_1.0_mu_r_1.0_id_uug_mass_2000002_300_code_RS.out</pre>\n",
       "  </div>\n",
       "</div>\n"
      ],
      "text/plain": [
       "<IPython.core.display.HTML object>"
      ]
     },
     "metadata": {},
     "output_type": "display_data"
    },
    {
     "name": "stdout",
     "output_type": "stream",
     "text": [
      "skipskipskipskipskipskipskipskipskipskipskipskipskipskip"
     ]
    },
    {
     "data": {
      "text/html": [
       "<style>\n",
       "</style>\n",
       "<div class=\"enlighten\">\n",
       "  <div class=\"enlighten-bar\">\n",
       "    <pre>./output/order_Order.NLO_energy_7000_particle1_2000002_particle2_1000022_slha_sps1a1000.in_2000002_300_pdf_lo_CT14lo_pdf_nlo_CT14nlo_mu_f_1.0_mu_r_1.0_id_uug_mass_2000002_300_code_RS.out</pre>\n",
       "  </div>\n",
       "</div>\n"
      ],
      "text/plain": [
       "<IPython.core.display.HTML object>"
      ]
     },
     "metadata": {},
     "output_type": "display_data"
    },
    {
     "name": "stdout",
     "output_type": "stream",
     "text": [
      "skipskipskipskipskipskipskipskipskipskipskipskipskipskip"
     ]
    },
    {
     "data": {
      "text/html": [
       "<style>\n",
       "</style>\n",
       "<div class=\"enlighten\">\n",
       "  <div class=\"enlighten-bar\">\n",
       "    <pre>./output/order_Order.NLO_energy_7000_particle1_2000002_particle2_1000022_slha_sps1a1000.in_2000002_300_pdf_lo_cteq6l1_pdf_nlo_cteq6l1_mu_f_1.0_mu_r_1.0_id_uug_mass_2000002_300_code_RS.out</pre>\n",
       "  </div>\n",
       "</div>\n"
      ],
      "text/plain": [
       "<IPython.core.display.HTML object>"
      ]
     },
     "metadata": {},
     "output_type": "display_data"
    },
    {
     "name": "stdout",
     "output_type": "stream",
     "text": [
      "skipskipskipskipskipskipskipskipskipskipskipskipskipskip"
     ]
    },
    {
     "data": {
      "text/html": [
       "<style>\n",
       "</style>\n",
       "<div class=\"enlighten\">\n",
       "  <div class=\"enlighten-bar\">\n",
       "    <pre>./output/order_Order.NLO_energy_7000_particle1_2000002_particle2_1000022_slha_sps1a1000.in_2000002_300_pdf_lo_cteq6l1_pdf_nlo_cteq61_mu_f_1.0_mu_r_1.0_id_uug_mass_2000002_300_code_RS.out</pre>\n",
       "  </div>\n",
       "</div>\n"
      ],
      "text/plain": [
       "<IPython.core.display.HTML object>"
      ]
     },
     "metadata": {},
     "output_type": "display_data"
    },
    {
     "name": "stdout",
     "output_type": "stream",
     "text": [
      "skipskipskipskipskipskipskipskipskipskipskipskipskipskip"
     ]
    },
    {
     "data": {
      "text/html": [
       "<style>\n",
       "</style>\n",
       "<div class=\"enlighten\">\n",
       "  <div class=\"enlighten-bar\">\n",
       "    <pre>./output/order_Order.NLO_energy_7000_particle1_2000002_particle2_1000022_slha_sps1a1000.in_2000002_300_pdf_lo_CT14lo_pdf_nlo_CT14lo_mu_f_1.0_mu_r_1.0_id_UXu_mass_2000002_300_code_RS.out</pre>\n",
       "  </div>\n",
       "</div>\n"
      ],
      "text/plain": [
       "<IPython.core.display.HTML object>"
      ]
     },
     "metadata": {},
     "output_type": "display_data"
    },
    {
     "name": "stdout",
     "output_type": "stream",
     "text": [
      "skipskipskipskipskipskipskipskipskipskipskipskipskipskip"
     ]
    },
    {
     "data": {
      "text/html": [
       "<style>\n",
       "</style>\n",
       "<div class=\"enlighten\">\n",
       "  <div class=\"enlighten-bar\">\n",
       "    <pre>./output/order_Order.NLO_energy_7000_particle1_2000002_particle2_1000022_slha_sps1a1000.in_2000002_300_pdf_lo_CT14lo_pdf_nlo_CT14nlo_mu_f_1.0_mu_r_1.0_id_UXu_mass_2000002_300_code_RS.out</pre>\n",
       "  </div>\n",
       "</div>\n"
      ],
      "text/plain": [
       "<IPython.core.display.HTML object>"
      ]
     },
     "metadata": {},
     "output_type": "display_data"
    },
    {
     "name": "stdout",
     "output_type": "stream",
     "text": [
      "skipskipskipskipskipskipskipskipskipskipskipskipskipskip"
     ]
    },
    {
     "data": {
      "text/html": [
       "<style>\n",
       "</style>\n",
       "<div class=\"enlighten\">\n",
       "  <div class=\"enlighten-bar\">\n",
       "    <pre>./output/order_Order.NLO_energy_7000_particle1_2000002_particle2_1000022_slha_sps1a1000.in_2000002_300_pdf_lo_cteq6l1_pdf_nlo_cteq6l1_mu_f_1.0_mu_r_1.0_id_UXu_mass_2000002_300_code_RS.out</pre>\n",
       "  </div>\n",
       "</div>\n"
      ],
      "text/plain": [
       "<IPython.core.display.HTML object>"
      ]
     },
     "metadata": {},
     "output_type": "display_data"
    },
    {
     "name": "stdout",
     "output_type": "stream",
     "text": [
      "skipskipskipskipskipskipskipskipskipskipskipskipskipskip"
     ]
    },
    {
     "data": {
      "text/html": [
       "<style>\n",
       "</style>\n",
       "<div class=\"enlighten\">\n",
       "  <div class=\"enlighten-bar\">\n",
       "    <pre>./output/order_Order.NLO_energy_7000_particle1_2000002_particle2_1000022_slha_sps1a1000.in_2000002_300_pdf_lo_cteq6l1_pdf_nlo_cteq61_mu_f_1.0_mu_r_1.0_id_UXu_mass_2000002_300_code_RS.out</pre>\n",
       "  </div>\n",
       "</div>\n"
      ],
      "text/plain": [
       "<IPython.core.display.HTML object>"
      ]
     },
     "metadata": {},
     "output_type": "display_data"
    },
    {
     "name": "stdout",
     "output_type": "stream",
     "text": [
      "skipskipskipskipskipskipskipskipskipskipskipskipskipskip"
     ]
    },
    {
     "data": {
      "text/html": [
       "<style>\n",
       "</style>\n",
       "<div class=\"enlighten\">\n",
       "  <div class=\"enlighten-bar\">\n",
       "    <pre>./output/order_Order.NLO_energy_7000_particle1_2000002_particle2_1000022_slha_sps1a1000.in_2000002_300_pdf_lo_CT14lo_pdf_nlo_CT14lo_mu_f_1.0_mu_r_1.0_id_gGX_mass_2000002_300_code_RS.out</pre>\n",
       "  </div>\n",
       "</div>\n"
      ],
      "text/plain": [
       "<IPython.core.display.HTML object>"
      ]
     },
     "metadata": {},
     "output_type": "display_data"
    },
    {
     "name": "stdout",
     "output_type": "stream",
     "text": [
      "skipskipskipskipskipskipskipskipskipskipskipskipskipskip"
     ]
    },
    {
     "data": {
      "text/html": [
       "<style>\n",
       "</style>\n",
       "<div class=\"enlighten\">\n",
       "  <div class=\"enlighten-bar\">\n",
       "    <pre>./output/order_Order.NLO_energy_7000_particle1_2000002_particle2_1000022_slha_sps1a1000.in_2000002_300_pdf_lo_CT14lo_pdf_nlo_CT14nlo_mu_f_1.0_mu_r_1.0_id_gGX_mass_2000002_300_code_RS.out</pre>\n",
       "  </div>\n",
       "</div>\n"
      ],
      "text/plain": [
       "<IPython.core.display.HTML object>"
      ]
     },
     "metadata": {},
     "output_type": "display_data"
    },
    {
     "name": "stdout",
     "output_type": "stream",
     "text": [
      "skipskipskipskipskipskipskipskipskipskipskipskipskipskip"
     ]
    },
    {
     "data": {
      "text/html": [
       "<style>\n",
       "</style>\n",
       "<div class=\"enlighten\">\n",
       "  <div class=\"enlighten-bar\">\n",
       "    <pre>./output/order_Order.NLO_energy_7000_particle1_2000002_particle2_1000022_slha_sps1a1000.in_2000002_300_pdf_lo_cteq6l1_pdf_nlo_cteq6l1_mu_f_1.0_mu_r_1.0_id_gGX_mass_2000002_300_code_RS.out</pre>\n",
       "  </div>\n",
       "</div>\n"
      ],
      "text/plain": [
       "<IPython.core.display.HTML object>"
      ]
     },
     "metadata": {},
     "output_type": "display_data"
    },
    {
     "name": "stdout",
     "output_type": "stream",
     "text": [
      "skipskipskipskipskipskipskipskipskipskipskipskipskipskip"
     ]
    },
    {
     "data": {
      "text/html": [
       "<style>\n",
       "</style>\n",
       "<div class=\"enlighten\">\n",
       "  <div class=\"enlighten-bar\">\n",
       "    <pre>./output/order_Order.NLO_energy_7000_particle1_2000002_particle2_1000022_slha_sps1a1000.in_2000002_300_pdf_lo_cteq6l1_pdf_nlo_cteq61_mu_f_1.0_mu_r_1.0_id_gGX_mass_2000002_300_code_RS.out</pre>\n",
       "  </div>\n",
       "</div>\n"
      ],
      "text/plain": [
       "<IPython.core.display.HTML object>"
      ]
     },
     "metadata": {},
     "output_type": "display_data"
    },
    {
     "name": "stdout",
     "output_type": "stream",
     "text": [
      "skipskipskipskipskipskipskipskipskipskipskipskipskipskip"
     ]
    },
    {
     "data": {
      "text/html": [
       "<style>\n",
       "</style>\n",
       "<div class=\"enlighten\">\n",
       "  <div class=\"enlighten-bar\">\n",
       "    <pre>./output/order_Order.NLO_energy_7000_particle1_2000002_particle2_1000022_slha_sps1a1000.in_2000002_300_pdf_lo_CT14lo_pdf_nlo_CT14lo_mu_f_1.0_mu_r_1.0_id_UUg_mass_2000002_300_code_RS.out</pre>\n",
       "  </div>\n",
       "</div>\n"
      ],
      "text/plain": [
       "<IPython.core.display.HTML object>"
      ]
     },
     "metadata": {},
     "output_type": "display_data"
    },
    {
     "name": "stdout",
     "output_type": "stream",
     "text": [
      "skipskipskipskipskipskipskipskipskipskipskipskipskipskip"
     ]
    },
    {
     "data": {
      "text/html": [
       "<style>\n",
       "</style>\n",
       "<div class=\"enlighten\">\n",
       "  <div class=\"enlighten-bar\">\n",
       "    <pre>./output/order_Order.NLO_energy_7000_particle1_2000002_particle2_1000022_slha_sps1a1000.in_2000002_300_pdf_lo_CT14lo_pdf_nlo_CT14nlo_mu_f_1.0_mu_r_1.0_id_UUg_mass_2000002_300_code_RS.out</pre>\n",
       "  </div>\n",
       "</div>\n"
      ],
      "text/plain": [
       "<IPython.core.display.HTML object>"
      ]
     },
     "metadata": {},
     "output_type": "display_data"
    },
    {
     "name": "stdout",
     "output_type": "stream",
     "text": [
      "skipskipskipskipskipskipskipskipskipskipskipskipskipskip"
     ]
    },
    {
     "data": {
      "text/html": [
       "<style>\n",
       "</style>\n",
       "<div class=\"enlighten\">\n",
       "  <div class=\"enlighten-bar\">\n",
       "    <pre>./output/order_Order.NLO_energy_7000_particle1_2000002_particle2_1000022_slha_sps1a1000.in_2000002_300_pdf_lo_cteq6l1_pdf_nlo_cteq6l1_mu_f_1.0_mu_r_1.0_id_UUg_mass_2000002_300_code_RS.out</pre>\n",
       "  </div>\n",
       "</div>\n"
      ],
      "text/plain": [
       "<IPython.core.display.HTML object>"
      ]
     },
     "metadata": {},
     "output_type": "display_data"
    },
    {
     "name": "stdout",
     "output_type": "stream",
     "text": [
      "skipskipskipskipskipskipskipskipskipskipskipskipskipskip"
     ]
    },
    {
     "data": {
      "text/html": [
       "<style>\n",
       "</style>\n",
       "<div class=\"enlighten\">\n",
       "  <div class=\"enlighten-bar\">\n",
       "    <pre>./output/order_Order.NLO_energy_7000_particle1_2000002_particle2_1000022_slha_sps1a1000.in_2000002_300_pdf_lo_cteq6l1_pdf_nlo_cteq61_mu_f_1.0_mu_r_1.0_id_UUg_mass_2000002_300_code_RS.out</pre>\n",
       "  </div>\n",
       "</div>\n"
      ],
      "text/plain": [
       "<IPython.core.display.HTML object>"
      ]
     },
     "metadata": {},
     "output_type": "display_data"
    },
    {
     "name": "stdout",
     "output_type": "stream",
     "text": [
      "skipskipskipskipskipskipskipskipskipskipskipskipskipskip"
     ]
    },
    {
     "data": {
      "text/html": [
       "<style>\n",
       "</style>\n",
       "<div class=\"enlighten\">\n",
       "  <div class=\"enlighten-bar\">\n",
       "    <pre>./output/order_Order.NLO_energy_7000_particle1_2000002_particle2_1000022_slha_sps1a1000.in_2000002_300_pdf_lo_CT14lo_pdf_nlo_CT14lo_mu_f_1.0_mu_r_1.0_id_boxes_mass_2000002_300_code_RS.out</pre>\n",
       "  </div>\n",
       "</div>\n"
      ],
      "text/plain": [
       "<IPython.core.display.HTML object>"
      ]
     },
     "metadata": {},
     "output_type": "display_data"
    },
    {
     "name": "stdout",
     "output_type": "stream",
     "text": [
      "skipskipskipskipskipskipskipskipskipskipskipskipskipskip"
     ]
    },
    {
     "data": {
      "text/html": [
       "<style>\n",
       "</style>\n",
       "<div class=\"enlighten\">\n",
       "  <div class=\"enlighten-bar\">\n",
       "    <pre>./output/order_Order.NLO_energy_7000_particle1_2000002_particle2_1000022_slha_sps1a1000.in_2000002_300_pdf_lo_CT14lo_pdf_nlo_CT14nlo_mu_f_1.0_mu_r_1.0_id_boxes_mass_2000002_300_code_RS.out</pre>\n",
       "  </div>\n",
       "</div>\n"
      ],
      "text/plain": [
       "<IPython.core.display.HTML object>"
      ]
     },
     "metadata": {},
     "output_type": "display_data"
    },
    {
     "name": "stdout",
     "output_type": "stream",
     "text": [
      "skipskipskipskipskipskipskipskipskipskipskipskipskipskip"
     ]
    },
    {
     "data": {
      "text/html": [
       "<style>\n",
       "</style>\n",
       "<div class=\"enlighten\">\n",
       "  <div class=\"enlighten-bar\">\n",
       "    <pre>./output/order_Order.NLO_energy_7000_particle1_2000002_particle2_1000022_slha_sps1a1000.in_2000002_300_pdf_lo_cteq6l1_pdf_nlo_cteq6l1_mu_f_1.0_mu_r_1.0_id_boxes_mass_2000002_300_code_RS.out</pre>\n",
       "  </div>\n",
       "</div>\n"
      ],
      "text/plain": [
       "<IPython.core.display.HTML object>"
      ]
     },
     "metadata": {},
     "output_type": "display_data"
    },
    {
     "name": "stdout",
     "output_type": "stream",
     "text": [
      "skipskipskipskipskipskipskipskipskipskipskipskipskipskip"
     ]
    },
    {
     "data": {
      "text/html": [
       "<style>\n",
       "</style>\n",
       "<div class=\"enlighten\">\n",
       "  <div class=\"enlighten-bar\">\n",
       "    <pre>./output/order_Order.NLO_energy_7000_particle1_2000002_particle2_1000022_slha_sps1a1000.in_2000002_300_pdf_lo_cteq6l1_pdf_nlo_cteq61_mu_f_1.0_mu_r_1.0_id_boxes_mass_2000002_300_code_RS.out</pre>\n",
       "  </div>\n",
       "</div>\n"
      ],
      "text/plain": [
       "<IPython.core.display.HTML object>"
      ]
     },
     "metadata": {},
     "output_type": "display_data"
    },
    {
     "data": {
      "image/png": "[encoded data removed]",
      "text/plain": [
       "<Figure size 720x504 with 1 Axes>"
      ]
     },
     "metadata": {
      "needs_background": "light"
     },
     "output_type": "display_data"
    },
    {
     "name": "stdout",
     "output_type": "stream",
     "text": [
      "skipskipskipskipskipskipskipskipskipskipskipskipskipskip"
     ]
    },
    {
     "data": {
      "text/html": [
       "<style>\n",
       "</style>\n",
       "<div class=\"enlighten\">\n",
       "  <div class=\"enlighten-bar\">\n",
       "    <pre>./output/order_Order.NLO_energy_7000_particle1_1000002_particle2_1000022_slha_sps1a1000.in_1000002_300_pdf_lo_CT14lo_pdf_nlo_CT14lo_mu_f_1.0_mu_r_1.0_id_ppk_mass_1000002_300_code_RS.out</pre>\n",
       "  </div>\n",
       "</div>\n"
      ],
      "text/plain": [
       "<IPython.core.display.HTML object>"
      ]
     },
     "metadata": {},
     "output_type": "display_data"
    },
    {
     "name": "stdout",
     "output_type": "stream",
     "text": [
      "skipskipskipskipskipskipskipskipskipskipskipskipskipskip"
     ]
    },
    {
     "data": {
      "text/html": [
       "<style>\n",
       "</style>\n",
       "<div class=\"enlighten\">\n",
       "  <div class=\"enlighten-bar\">\n",
       "    <pre>./output/order_Order.NLO_energy_7000_particle1_1000002_particle2_1000022_slha_sps1a1000.in_1000002_300_pdf_lo_CT14lo_pdf_nlo_CT14nlo_mu_f_1.0_mu_r_1.0_id_ppk_mass_1000002_300_code_RS.out</pre>\n",
       "  </div>\n",
       "</div>\n"
      ],
      "text/plain": [
       "<IPython.core.display.HTML object>"
      ]
     },
     "metadata": {},
     "output_type": "display_data"
    },
    {
     "name": "stdout",
     "output_type": "stream",
     "text": [
      "skipskipskipskipskipskipskipskipskipskipskipskipskipskip"
     ]
    },
    {
     "data": {
      "text/html": [
       "<style>\n",
       "</style>\n",
       "<div class=\"enlighten\">\n",
       "  <div class=\"enlighten-bar\">\n",
       "    <pre>./output/order_Order.NLO_energy_7000_particle1_1000002_particle2_1000022_slha_sps1a1000.in_1000002_300_pdf_lo_cteq6l1_pdf_nlo_cteq6l1_mu_f_1.0_mu_r_1.0_id_ppk_mass_1000002_300_code_RS.out</pre>\n",
       "  </div>\n",
       "</div>\n"
      ],
      "text/plain": [
       "<IPython.core.display.HTML object>"
      ]
     },
     "metadata": {},
     "output_type": "display_data"
    },
    {
     "name": "stdout",
     "output_type": "stream",
     "text": [
      "skipskipskipskipskipskipskipskipskipskipskipskipskipskip"
     ]
    },
    {
     "data": {
      "text/html": [
       "<style>\n",
       "</style>\n",
       "<div class=\"enlighten\">\n",
       "  <div class=\"enlighten-bar\">\n",
       "    <pre>./output/order_Order.NLO_energy_7000_particle1_1000002_particle2_1000022_slha_sps1a1000.in_1000002_300_pdf_lo_cteq6l1_pdf_nlo_cteq61_mu_f_1.0_mu_r_1.0_id_ppk_mass_1000002_300_code_RS.out</pre>\n",
       "  </div>\n",
       "</div>\n"
      ],
      "text/plain": [
       "<IPython.core.display.HTML object>"
      ]
     },
     "metadata": {},
     "output_type": "display_data"
    },
    {
     "name": "stdout",
     "output_type": "stream",
     "text": [
      "skipskipskipskipskipskipskipskipskipskipskipskipskipskip"
     ]
    },
    {
     "data": {
      "text/html": [
       "<style>\n",
       "</style>\n",
       "<div class=\"enlighten\">\n",
       "  <div class=\"enlighten-bar\">\n",
       "    <pre>./output/order_Order.NLO_energy_7000_particle1_1000002_particle2_1000022_slha_sps1a1000.in_1000002_300_pdf_lo_CT14lo_pdf_nlo_CT14lo_mu_f_1.0_mu_r_1.0_id_uug_mass_1000002_300_code_RS.out</pre>\n",
       "  </div>\n",
       "</div>\n"
      ],
      "text/plain": [
       "<IPython.core.display.HTML object>"
      ]
     },
     "metadata": {},
     "output_type": "display_data"
    },
    {
     "name": "stdout",
     "output_type": "stream",
     "text": [
      "skipskipskipskipskipskipskipskipskipskipskipskipskipskip"
     ]
    },
    {
     "data": {
      "text/html": [
       "<style>\n",
       "</style>\n",
       "<div class=\"enlighten\">\n",
       "  <div class=\"enlighten-bar\">\n",
       "    <pre>./output/order_Order.NLO_energy_7000_particle1_1000002_particle2_1000022_slha_sps1a1000.in_1000002_300_pdf_lo_CT14lo_pdf_nlo_CT14nlo_mu_f_1.0_mu_r_1.0_id_uug_mass_1000002_300_code_RS.out</pre>\n",
       "  </div>\n",
       "</div>\n"
      ],
      "text/plain": [
       "<IPython.core.display.HTML object>"
      ]
     },
     "metadata": {},
     "output_type": "display_data"
    },
    {
     "name": "stdout",
     "output_type": "stream",
     "text": [
      "skipskipskipskipskipskipskipskipskipskipskipskipskipskip"
     ]
    },
    {
     "data": {
      "text/html": [
       "<style>\n",
       "</style>\n",
       "<div class=\"enlighten\">\n",
       "  <div class=\"enlighten-bar\">\n",
       "    <pre>./output/order_Order.NLO_energy_7000_particle1_1000002_particle2_1000022_slha_sps1a1000.in_1000002_300_pdf_lo_cteq6l1_pdf_nlo_cteq6l1_mu_f_1.0_mu_r_1.0_id_uug_mass_1000002_300_code_RS.out</pre>\n",
       "  </div>\n",
       "</div>\n"
      ],
      "text/plain": [
       "<IPython.core.display.HTML object>"
      ]
     },
     "metadata": {},
     "output_type": "display_data"
    },
    {
     "name": "stdout",
     "output_type": "stream",
     "text": [
      "skipskipskipskipskipskipskipskipskipskipskipskipskipskip"
     ]
    },
    {
     "data": {
      "text/html": [
       "<style>\n",
       "</style>\n",
       "<div class=\"enlighten\">\n",
       "  <div class=\"enlighten-bar\">\n",
       "    <pre>./output/order_Order.NLO_energy_7000_particle1_1000002_particle2_1000022_slha_sps1a1000.in_1000002_300_pdf_lo_cteq6l1_pdf_nlo_cteq61_mu_f_1.0_mu_r_1.0_id_uug_mass_1000002_300_code_RS.out</pre>\n",
       "  </div>\n",
       "</div>\n"
      ],
      "text/plain": [
       "<IPython.core.display.HTML object>"
      ]
     },
     "metadata": {},
     "output_type": "display_data"
    },
    {
     "name": "stdout",
     "output_type": "stream",
     "text": [
      "skipskipskipskipskipskipskipskipskipskipskipskipskipskip"
     ]
    },
    {
     "data": {
      "text/html": [
       "<style>\n",
       "</style>\n",
       "<div class=\"enlighten\">\n",
       "  <div class=\"enlighten-bar\">\n",
       "    <pre>./output/order_Order.NLO_energy_7000_particle1_1000002_particle2_1000022_slha_sps1a1000.in_1000002_300_pdf_lo_CT14lo_pdf_nlo_CT14lo_mu_f_1.0_mu_r_1.0_id_UXu_mass_1000002_300_code_RS.out</pre>\n",
       "  </div>\n",
       "</div>\n"
      ],
      "text/plain": [
       "<IPython.core.display.HTML object>"
      ]
     },
     "metadata": {},
     "output_type": "display_data"
    },
    {
     "name": "stdout",
     "output_type": "stream",
     "text": [
      "skipskipskipskipskipskipskipskipskipskipskipskipskipskip"
     ]
    },
    {
     "data": {
      "text/html": [
       "<style>\n",
       "</style>\n",
       "<div class=\"enlighten\">\n",
       "  <div class=\"enlighten-bar\">\n",
       "    <pre>./output/order_Order.NLO_energy_7000_particle1_1000002_particle2_1000022_slha_sps1a1000.in_1000002_300_pdf_lo_CT14lo_pdf_nlo_CT14nlo_mu_f_1.0_mu_r_1.0_id_UXu_mass_1000002_300_code_RS.out</pre>\n",
       "  </div>\n",
       "</div>\n"
      ],
      "text/plain": [
       "<IPython.core.display.HTML object>"
      ]
     },
     "metadata": {},
     "output_type": "display_data"
    },
    {
     "name": "stdout",
     "output_type": "stream",
     "text": [
      "skipskipskipskipskipskipskipskipskipskipskipskipskipskip"
     ]
    },
    {
     "data": {
      "text/html": [
       "<style>\n",
       "</style>\n",
       "<div class=\"enlighten\">\n",
       "  <div class=\"enlighten-bar\">\n",
       "    <pre>./output/order_Order.NLO_energy_7000_particle1_1000002_particle2_1000022_slha_sps1a1000.in_1000002_300_pdf_lo_cteq6l1_pdf_nlo_cteq6l1_mu_f_1.0_mu_r_1.0_id_UXu_mass_1000002_300_code_RS.out</pre>\n",
       "  </div>\n",
       "</div>\n"
      ],
      "text/plain": [
       "<IPython.core.display.HTML object>"
      ]
     },
     "metadata": {},
     "output_type": "display_data"
    },
    {
     "name": "stdout",
     "output_type": "stream",
     "text": [
      "skipskipskipskipskipskipskipskipskipskipskipskipskipskip"
     ]
    },
    {
     "data": {
      "text/html": [
       "<style>\n",
       "</style>\n",
       "<div class=\"enlighten\">\n",
       "  <div class=\"enlighten-bar\">\n",
       "    <pre>./output/order_Order.NLO_energy_7000_particle1_1000002_particle2_1000022_slha_sps1a1000.in_1000002_300_pdf_lo_cteq6l1_pdf_nlo_cteq61_mu_f_1.0_mu_r_1.0_id_UXu_mass_1000002_300_code_RS.out</pre>\n",
       "  </div>\n",
       "</div>\n"
      ],
      "text/plain": [
       "<IPython.core.display.HTML object>"
      ]
     },
     "metadata": {},
     "output_type": "display_data"
    },
    {
     "name": "stdout",
     "output_type": "stream",
     "text": [
      "skipskipskipskipskipskipskipskipskipskipskipskipskipskip"
     ]
    },
    {
     "data": {
      "text/html": [
       "<style>\n",
       "</style>\n",
       "<div class=\"enlighten\">\n",
       "  <div class=\"enlighten-bar\">\n",
       "    <pre>./output/order_Order.NLO_energy_7000_particle1_1000002_particle2_1000022_slha_sps1a1000.in_1000002_300_pdf_lo_CT14lo_pdf_nlo_CT14lo_mu_f_1.0_mu_r_1.0_id_gGX_mass_1000002_300_code_RS.out</pre>\n",
       "  </div>\n",
       "</div>\n"
      ],
      "text/plain": [
       "<IPython.core.display.HTML object>"
      ]
     },
     "metadata": {},
     "output_type": "display_data"
    },
    {
     "name": "stdout",
     "output_type": "stream",
     "text": [
      "skipskipskipskipskipskipskipskipskipskipskipskipskipskip"
     ]
    },
    {
     "data": {
      "text/html": [
       "<style>\n",
       "</style>\n",
       "<div class=\"enlighten\">\n",
       "  <div class=\"enlighten-bar\">\n",
       "    <pre>./output/order_Order.NLO_energy_7000_particle1_1000002_particle2_1000022_slha_sps1a1000.in_1000002_300_pdf_lo_CT14lo_pdf_nlo_CT14nlo_mu_f_1.0_mu_r_1.0_id_gGX_mass_1000002_300_code_RS.out</pre>\n",
       "  </div>\n",
       "</div>\n"
      ],
      "text/plain": [
       "<IPython.core.display.HTML object>"
      ]
     },
     "metadata": {},
     "output_type": "display_data"
    },
    {
     "name": "stdout",
     "output_type": "stream",
     "text": [
      "skipskipskipskipskipskipskipskipskipskipskipskipskipskip"
     ]
    },
    {
     "data": {
      "text/html": [
       "<style>\n",
       "</style>\n",
       "<div class=\"enlighten\">\n",
       "  <div class=\"enlighten-bar\">\n",
       "    <pre>./output/order_Order.NLO_energy_7000_particle1_1000002_particle2_1000022_slha_sps1a1000.in_1000002_300_pdf_lo_cteq6l1_pdf_nlo_cteq6l1_mu_f_1.0_mu_r_1.0_id_gGX_mass_1000002_300_code_RS.out</pre>\n",
       "  </div>\n",
       "</div>\n"
      ],
      "text/plain": [
       "<IPython.core.display.HTML object>"
      ]
     },
     "metadata": {},
     "output_type": "display_data"
    },
    {
     "name": "stdout",
     "output_type": "stream",
     "text": [
      "skipskipskipskipskipskipskipskipskipskipskipskipskipskip"
     ]
    },
    {
     "data": {
      "text/html": [
       "<style>\n",
       "</style>\n",
       "<div class=\"enlighten\">\n",
       "  <div class=\"enlighten-bar\">\n",
       "    <pre>./output/order_Order.NLO_energy_7000_particle1_1000002_particle2_1000022_slha_sps1a1000.in_1000002_300_pdf_lo_cteq6l1_pdf_nlo_cteq61_mu_f_1.0_mu_r_1.0_id_gGX_mass_1000002_300_code_RS.out</pre>\n",
       "  </div>\n",
       "</div>\n"
      ],
      "text/plain": [
       "<IPython.core.display.HTML object>"
      ]
     },
     "metadata": {},
     "output_type": "display_data"
    },
    {
     "name": "stdout",
     "output_type": "stream",
     "text": [
      "skipskipskipskipskipskipskipskipskipskipskipskipskipskip"
     ]
    },
    {
     "data": {
      "text/html": [
       "<style>\n",
       "</style>\n",
       "<div class=\"enlighten\">\n",
       "  <div class=\"enlighten-bar\">\n",
       "    <pre>./output/order_Order.NLO_energy_7000_particle1_1000002_particle2_1000022_slha_sps1a1000.in_1000002_300_pdf_lo_CT14lo_pdf_nlo_CT14lo_mu_f_1.0_mu_r_1.0_id_UUg_mass_1000002_300_code_RS.out</pre>\n",
       "  </div>\n",
       "</div>\n"
      ],
      "text/plain": [
       "<IPython.core.display.HTML object>"
      ]
     },
     "metadata": {},
     "output_type": "display_data"
    },
    {
     "name": "stdout",
     "output_type": "stream",
     "text": [
      "skipskipskipskipskipskipskipskipskipskipskipskipskipskip"
     ]
    },
    {
     "data": {
      "text/html": [
       "<style>\n",
       "</style>\n",
       "<div class=\"enlighten\">\n",
       "  <div class=\"enlighten-bar\">\n",
       "    <pre>./output/order_Order.NLO_energy_7000_particle1_1000002_particle2_1000022_slha_sps1a1000.in_1000002_300_pdf_lo_CT14lo_pdf_nlo_CT14nlo_mu_f_1.0_mu_r_1.0_id_UUg_mass_1000002_300_code_RS.out</pre>\n",
       "  </div>\n",
       "</div>\n"
      ],
      "text/plain": [
       "<IPython.core.display.HTML object>"
      ]
     },
     "metadata": {},
     "output_type": "display_data"
    },
    {
     "name": "stdout",
     "output_type": "stream",
     "text": [
      "skipskipskipskipskipskipskipskipskipskipskipskipskipskip"
     ]
    },
    {
     "data": {
      "text/html": [
       "<style>\n",
       "</style>\n",
       "<div class=\"enlighten\">\n",
       "  <div class=\"enlighten-bar\">\n",
       "    <pre>./output/order_Order.NLO_energy_7000_particle1_1000002_particle2_1000022_slha_sps1a1000.in_1000002_300_pdf_lo_cteq6l1_pdf_nlo_cteq6l1_mu_f_1.0_mu_r_1.0_id_UUg_mass_1000002_300_code_RS.out</pre>\n",
       "  </div>\n",
       "</div>\n"
      ],
      "text/plain": [
       "<IPython.core.display.HTML object>"
      ]
     },
     "metadata": {},
     "output_type": "display_data"
    },
    {
     "name": "stdout",
     "output_type": "stream",
     "text": [
      "skipskipskipskipskipskipskipskipskipskipskipskipskipskip"
     ]
    },
    {
     "data": {
      "text/html": [
       "<style>\n",
       "</style>\n",
       "<div class=\"enlighten\">\n",
       "  <div class=\"enlighten-bar\">\n",
       "    <pre>./output/order_Order.NLO_energy_7000_particle1_1000002_particle2_1000022_slha_sps1a1000.in_1000002_300_pdf_lo_cteq6l1_pdf_nlo_cteq61_mu_f_1.0_mu_r_1.0_id_UUg_mass_1000002_300_code_RS.out</pre>\n",
       "  </div>\n",
       "</div>\n"
      ],
      "text/plain": [
       "<IPython.core.display.HTML object>"
      ]
     },
     "metadata": {},
     "output_type": "display_data"
    },
    {
     "name": "stdout",
     "output_type": "stream",
     "text": [
      "skipskipskipskipskipskipskipskipskipskipskipskipskipskip"
     ]
    },
    {
     "data": {
      "text/html": [
       "<style>\n",
       "</style>\n",
       "<div class=\"enlighten\">\n",
       "  <div class=\"enlighten-bar\">\n",
       "    <pre>./output/order_Order.NLO_energy_7000_particle1_1000002_particle2_1000022_slha_sps1a1000.in_1000002_300_pdf_lo_CT14lo_pdf_nlo_CT14lo_mu_f_1.0_mu_r_1.0_id_boxes_mass_1000002_300_code_RS.out</pre>\n",
       "  </div>\n",
       "</div>\n"
      ],
      "text/plain": [
       "<IPython.core.display.HTML object>"
      ]
     },
     "metadata": {},
     "output_type": "display_data"
    },
    {
     "name": "stdout",
     "output_type": "stream",
     "text": [
      "skipskipskipskipskipskipskipskipskipskipskipskipskipskip"
     ]
    },
    {
     "data": {
      "text/html": [
       "<style>\n",
       "</style>\n",
       "<div class=\"enlighten\">\n",
       "  <div class=\"enlighten-bar\">\n",
       "    <pre>./output/order_Order.NLO_energy_7000_particle1_1000002_particle2_1000022_slha_sps1a1000.in_1000002_300_pdf_lo_CT14lo_pdf_nlo_CT14nlo_mu_f_1.0_mu_r_1.0_id_boxes_mass_1000002_300_code_RS.out</pre>\n",
       "  </div>\n",
       "</div>\n"
      ],
      "text/plain": [
       "<IPython.core.display.HTML object>"
      ]
     },
     "metadata": {},
     "output_type": "display_data"
    },
    {
     "name": "stdout",
     "output_type": "stream",
     "text": [
      "skipskipskipskipskipskipskipskipskipskipskipskipskipskip"
     ]
    },
    {
     "data": {
      "text/html": [
       "<style>\n",
       "</style>\n",
       "<div class=\"enlighten\">\n",
       "  <div class=\"enlighten-bar\">\n",
       "    <pre>./output/order_Order.NLO_energy_7000_particle1_1000002_particle2_1000022_slha_sps1a1000.in_1000002_300_pdf_lo_cteq6l1_pdf_nlo_cteq6l1_mu_f_1.0_mu_r_1.0_id_boxes_mass_1000002_300_code_RS.out</pre>\n",
       "  </div>\n",
       "</div>\n"
      ],
      "text/plain": [
       "<IPython.core.display.HTML object>"
      ]
     },
     "metadata": {},
     "output_type": "display_data"
    },
    {
     "name": "stdout",
     "output_type": "stream",
     "text": [
      "skipskipskipskipskipskipskipskipskipskipskipskipskipskip"
     ]
    },
    {
     "data": {
      "text/html": [
       "<style>\n",
       "</style>\n",
       "<div class=\"enlighten\">\n",
       "  <div class=\"enlighten-bar\">\n",
       "    <pre>./output/order_Order.NLO_energy_7000_particle1_1000002_particle2_1000022_slha_sps1a1000.in_1000002_300_pdf_lo_cteq6l1_pdf_nlo_cteq61_mu_f_1.0_mu_r_1.0_id_boxes_mass_1000002_300_code_RS.out</pre>\n",
       "  </div>\n",
       "</div>\n"
      ],
      "text/plain": [
       "<IPython.core.display.HTML object>"
      ]
     },
     "metadata": {},
     "output_type": "display_data"
    },
    {
     "data": {
      "image/png": "[encoded data removed]",
      "text/plain": [
       "<Figure size 720x504 with 1 Axes>"
      ]
     },
     "metadata": {
      "needs_background": "light"
     },
     "output_type": "display_data"
    }
   ],
   "source": [
    "# pdfs CT14lo CT14nlo CTEQ6L1 (CTEQ6M)\n",
    "for sq in [2000002,1000002]:\n",
    "    plt.figure(figsize=(10,7))\n",
    "    for idd in [\"ppk\",\"uug\",\"UXu\", \"gGX\",\"UUg\",\"boxes\"]:\n",
    "        for pdf,nlopdf in [(\"CT14lo\",\"CT14lo\"),(\"CT14lo\",\"CT14nlo\"),(\"cteq6l1\",\"cteq6l1\"),(\"cteq6l1\",\"cteq61\")]:\n",
    "            i = hepi.Input(hepi.Order.NLO,7000,sq,1000022,\"sps1a1000.in\",pdf,nlopdf,1., 1.,idd)\n",
    "            li = hepi.mass_scan([i],sq, range(300,1000,50),diff_L_R=20)\n",
    "            dll = rs.run(li,False)\n",
    "            hepi.mass_vplot(dll,sq,((dll[\"p_plus_k\"]+dll[\"vnlo\"]+dll[\"lo\"])/dll[\"lo\"]),logy=False,label=\"$K_\\\\mathrm{\"+idd+\"}$ \" + nlopdf)\n",
    "        #hepi.mass_vplot(dll,sq,((dll[\"lo\"])/dll[\"lo\"]),logy=False,label=\"$K_\\\\mathrm{lo}$\")\n",
    "        plt.gca().get_legend().remove()\n",
    "    plt.show()"
   ]
  },
  {
   "cell_type": "code",
   "execution_count": 14,
   "metadata": {
    "scrolled": false
   },
   "outputs": [
    {
     "data": {
      "text/html": [
       "<style>\n",
       "</style>\n",
       "<div class=\"enlighten\">\n",
       "  <div class=\"enlighten-bar\">\n",
       "    <pre>./output/order_Order.NLO_energy_7000_particle1_2000002_particle2_1000022_slha_sps1a1000.in_2000002_300.0_pdf_lo_cteq6l1_pdf_nlo_cteq61_mu_f_1.0_mu_r_1.0_id__mass_2000002_300.0_code_RS.out</pre>\n",
       "  </div>\n",
       "  <div class=\"enlighten-bar\">\n",
       "    <pre> ... 300.0 ... 300.0                   Stage: DONE                   Status DONE:                   </pre>\n",
       "  </div>\n",
       "  <div class=\"enlighten-bar\">\n",
       "    <pre> ... 343.3333333333333 ... 343.3333333333333           Stage: DONE           Status DONE:           </pre>\n",
       "  </div>\n",
       "  <div class=\"enlighten-bar\">\n",
       "    <pre> ... 386.6666666666667 ... 386.6666666666667           Stage: DONE           Status DONE:           </pre>\n",
       "  </div>\n",
       "  <div class=\"enlighten-bar\">\n",
       "    <pre> ... 430.0 ... 430.0                   Stage: DONE                   Status DONE:                   </pre>\n",
       "  </div>\n",
       "  <div class=\"enlighten-bar\">\n",
       "    <pre> ... 473.33333333333337 ... 473.33333333333337          Stage: DONE           Status DONE:          </pre>\n",
       "  </div>\n",
       "  <div class=\"enlighten-bar\">\n",
       "    <pre> ... 516.6666666666667 ... 516.6666666666667           Stage: DONE           Status DONE:           </pre>\n",
       "  </div>\n",
       "  <div class=\"enlighten-bar\">\n",
       "    <pre> ... 560.0 ... 560.0                   Stage: DONE                   Status DONE:                   </pre>\n",
       "  </div>\n",
       "  <div class=\"enlighten-bar\">\n",
       "    <pre> ... 603.3333333333334 ... 603.3333333333334           Stage: DONE           Status DONE:           </pre>\n",
       "  </div>\n",
       "  <div class=\"enlighten-bar\">\n",
       "    <pre> ... 646.6666666666667 ... 646.6666666666667           Stage: DONE           Status DONE:           </pre>\n",
       "  </div>\n",
       "  <div class=\"enlighten-bar\">\n",
       "    <pre> ... 690.0 ... 690.0                   Stage: DONE                   Status DONE:                   </pre>\n",
       "  </div>\n",
       "  <div class=\"enlighten-bar\">\n",
       "    <pre> ... 733.3333333333334 ... 733.3333333333334           Stage: DONE           Status DONE:           </pre>\n",
       "  </div>\n",
       "  <div class=\"enlighten-bar\">\n",
       "    <pre> ... 776.6666666666667 ... 776.6666666666667           Stage: DONE           Status DONE:           </pre>\n",
       "  </div>\n",
       "  <div class=\"enlighten-bar\">\n",
       "    <pre> ... 820.0 ... 820.0                   Stage: DONE                   Status DONE:                   </pre>\n",
       "  </div>\n",
       "  <div class=\"enlighten-bar\">\n",
       "    <pre> ... 863.3333333333334 ... 863.3333333333334           Stage: DONE           Status DONE:           </pre>\n",
       "  </div>\n",
       "  <div class=\"enlighten-bar\">\n",
       "    <pre> ... 906.6666666666667 ... 906.6666666666667           Stage: DONE           Status DONE:           </pre>\n",
       "  </div>\n",
       "  <div class=\"enlighten-bar\">\n",
       "    <pre> ... 950.0 ... 950.0                   Stage: DONE                   Status DONE:                   </pre>\n",
       "  </div>\n",
       "</div>\n"
      ],
      "text/plain": [
       "<IPython.core.display.HTML object>"
      ]
     },
     "metadata": {},
     "output_type": "display_data"
    },
    {
     "data": {
      "image/png": "[encoded data removed]",
      "text/plain": [
       "<Figure size 432x288 with 1 Axes>"
      ]
     },
     "metadata": {
      "needs_background": "light"
     },
     "output_type": "display_data"
    },
    {
     "data": {
      "image/png": "[encoded data removed]",
      "text/plain": [
       "<Figure size 432x288 with 1 Axes>"
      ]
     },
     "metadata": {
      "needs_background": "light"
     },
     "output_type": "display_data"
    },
    {
     "name": "stdout",
     "output_type": "stream",
     "text": [
      "cteq6l1 2000002 done\n"
     ]
    },
    {
     "data": {
      "text/html": [
       "<style>\n",
       "</style>\n",
       "<div class=\"enlighten\">\n",
       "  <div class=\"enlighten-bar\">\n",
       "    <pre>./output/order_Order.NLO_energy_7000_particle1_1000002_particle2_1000022_slha_sps1a1000.in_1000002_300.0_pdf_lo_cteq6l1_pdf_nlo_cteq61_mu_f_1.0_mu_r_1.0_id__mass_1000002_300.0_code_RS.out</pre>\n",
       "  </div>\n",
       "  <div class=\"enlighten-bar\">\n",
       "    <pre> ... 300.0 ... 300.0                   Stage: DONE                   Status DONE:                   </pre>\n",
       "  </div>\n",
       "  <div class=\"enlighten-bar\">\n",
       "    <pre> ... 343.3333333333333 ... 343.3333333333333           Stage: DONE           Status DONE:           </pre>\n",
       "  </div>\n",
       "  <div class=\"enlighten-bar\">\n",
       "    <pre> ... 386.6666666666667 ... 386.6666666666667           Stage: DONE           Status DONE:           </pre>\n",
       "  </div>\n",
       "  <div class=\"enlighten-bar\">\n",
       "    <pre> ... 430.0 ... 430.0                   Stage: DONE                   Status DONE:                   </pre>\n",
       "  </div>\n",
       "  <div class=\"enlighten-bar\">\n",
       "    <pre> ... 473.33333333333337 ... 473.33333333333337          Stage: DONE           Status DONE:          </pre>\n",
       "  </div>\n",
       "  <div class=\"enlighten-bar\">\n",
       "    <pre> ... 516.6666666666667 ... 516.6666666666667           Stage: DONE           Status DONE:           </pre>\n",
       "  </div>\n",
       "  <div class=\"enlighten-bar\">\n",
       "    <pre> ... 560.0 ... 560.0                   Stage: DONE                   Status DONE:                   </pre>\n",
       "  </div>\n",
       "  <div class=\"enlighten-bar\">\n",
       "    <pre> ... 603.3333333333334 ... 603.3333333333334           Stage: DONE           Status DONE:           </pre>\n",
       "  </div>\n",
       "  <div class=\"enlighten-bar\">\n",
       "    <pre> ... 646.6666666666667 ... 646.6666666666667           Stage: DONE           Status DONE:           </pre>\n",
       "  </div>\n",
       "  <div class=\"enlighten-bar\">\n",
       "    <pre> ... 690.0 ... 690.0                   Stage: DONE                   Status DONE:                   </pre>\n",
       "  </div>\n",
       "  <div class=\"enlighten-bar\">\n",
       "    <pre> ... 733.3333333333334 ... 733.3333333333334           Stage: DONE           Status DONE:           </pre>\n",
       "  </div>\n",
       "  <div class=\"enlighten-bar\">\n",
       "    <pre> ... 776.6666666666667 ... 776.6666666666667           Stage: DONE           Status DONE:           </pre>\n",
       "  </div>\n",
       "  <div class=\"enlighten-bar\">\n",
       "    <pre> ... 820.0 ... 820.0                   Stage: DONE                   Status DONE:                   </pre>\n",
       "  </div>\n",
       "  <div class=\"enlighten-bar\">\n",
       "    <pre> ... 863.3333333333334 ... 863.3333333333334           Stage: DONE           Status DONE:           </pre>\n",
       "  </div>\n",
       "  <div class=\"enlighten-bar\">\n",
       "    <pre> ... 906.6666666666667 ... 906.6666666666667           Stage: DONE           Status DONE:           </pre>\n",
       "  </div>\n",
       "  <div class=\"enlighten-bar\">\n",
       "    <pre> ... 950.0 ... 950.0                   Stage: DONE                   Status DONE:                   </pre>\n",
       "  </div>\n",
       "</div>\n"
      ],
      "text/plain": [
       "<IPython.core.display.HTML object>"
      ]
     },
     "metadata": {},
     "output_type": "display_data"
    },
    {
     "data": {
      "image/png": "[encoded data removed]",
      "text/plain": [
       "<Figure size 432x288 with 1 Axes>"
      ]
     },
     "metadata": {
      "needs_background": "light"
     },
     "output_type": "display_data"
    },
    {
     "data": {
      "image/png": "[encoded data removed]",
      "text/plain": [
       "<Figure size 432x288 with 1 Axes>"
      ]
     },
     "metadata": {
      "needs_background": "light"
     },
     "output_type": "display_data"
    },
    {
     "name": "stdout",
     "output_type": "stream",
     "text": [
      "cteq6l1 1000002 done\n"
     ]
    }
   ],
   "source": [
    "for pdf,nlopdf in [(\"cteq6l1\",\"cteq61\")]:\n",
    "    for p in [2000002,1000002]:\n",
    "        i = hepi.Input(hepi.Order.NLO,7000,p,1000022,\"sps1a1000.in\",pdf,nlopdf,1., 1.)\n",
    "        li = hepi.mass_scan([i],p, np.linspace(300,950,16),diff_L_R=20)\n",
    "        dll = rs.run(li,True)\n",
    "        hepi.mass_plot(dll,p,\"lo\",yscale=1000,yaxis=\"$\\sigma$ [fb]\")\n",
    "        #hepi.mass_plot(dll,p,\"vnlo\",yscale=1000,yaxis=\"$\\sigma$ [fb]\")\n",
    "        hepi.mass_vplot(dll,p,(dll[\"vnlo\"]+dll[\"p_plus_k\"]),yscale=1000,logy=True,yaxis=\"$\\sigma$ [fb]\",label=\"vlno+P+K\")\n",
    "        \n",
    "        hepi.mass_plot(dll,p,\"rnlo\",yscale=1000,yaxis=\"$\\sigma$ [fb]\")\n",
    "        #hepi.mass_plot(dll,p,\"p_plus_k\",yscale=1000,yaxis=\"$\\sigma$ [fb]\")\n",
    "        hepi.mass_plot(dll,p,\"nlo\",yscale=1000,yaxis=\"$\\sigma$ [fb]\")\n",
    "        #hepi.mass_plot(dll,p,\"nlo_plus_nll\",yscale=1000,yaxis=\"$\\sigma$ [fb]\",label=\"nlo+nll\")\n",
    "        \n",
    "        plt.savefig(\"comp_\" + pdf + \"_\" + str(p) + \".pdf\")\n",
    "        smpl.plot.show()\n",
    "        hepi.mass_plot(dll,p,\"K_lo\",logy=False,label=\"lo\")\n",
    "        hepi.mass_vplot(dll,p,((dll[\"vnlo\"]+dll[\"p_plus_k\"]+dll[\"lo\"])/dll[\"lo\"]),logy=False,label=\"vnlo+P+K\")\n",
    "        #hepi.mass_vplot(dll,p,((dll[\"vnlo\"]+dll[\"lo\"])/dll[\"lo\"]),logy=False,label=\"$K_\\\\mathrm{vnlo}$\")\n",
    "        hepi.mass_vplot(dll,p,((dll[\"rnlo\"]+dll[\"lo\"])/dll[\"lo\"]),logy=False,label=\"rnlo\")\n",
    "\n",
    "        hepi.mass_plot(dll,p,\"K_nlo\",logy=False,yaxis=\"$K_\\\\mathrm{nlo}$\",label=\"nlo\")\n",
    "        #hepi.mass_plot(dll,p,\"K_nlo_plus_nll\",logy=False,yaxis=\"$K$\",label=\"nlo+nll\")\n",
    "        \n",
    "        plt.savefig(\"K_comp_\" + pdf + \"_\" + str(p) + \".pdf\")\n",
    "        smpl.plot.show()\n",
    "\n",
    "        print(pdf, p, \"done\" )\n",
    "    \n",
    " "
   ]
  },
  {
   "cell_type": "code",
   "execution_count": 2,
   "metadata": {},
   "outputs": [
    {
     "data": {
      "text/html": [
       "<style>\n",
       "</style>\n",
       "<div class=\"enlighten\">\n",
       "  <div class=\"enlighten-bar\">\n",
       "    <pre>./output/order_Order.NLO_energy_7000_particle1_2000002_particle2_1000022_slha_sps1a1000.in_2000002_300.0_pdf_lo_CT14lo_pdf_nlo_CT14lo_mu_f_1.0_mu_r_1.0_id__mass_2000002_300.0_code_RS.out</pre>\n",
       "  </div>\n",
       "  <div class=\"enlighten-bar\">\n",
       "    <pre> ... 300.0 ... 300.0 Stage: real light quark emission - dipole - (onshell) Status 61:   4.3052e-03      9.36e-05    2.61e-01</pre>\n",
       "  </div>\n",
       "  <div class=\"enlighten-bar\">\n",
       "    <pre> ... 343.3333333333333 ... 343.3333333333333 Stage: real light quark emission - dipole - (onshell) Status 61:   2.7165e-03      5.93e-05    1.18e-03</pre>\n",
       "  </div>\n",
       "  <div class=\"enlighten-bar\">\n",
       "    <pre> ... 386.6666666666667 ... 386.6666666666667 Stage: real light quark emission - dipole - (onshell) Status 61:   1.6157e-03      3.95e-05    7.29e-02</pre>\n",
       "  </div>\n",
       "  <div class=\"enlighten-bar\">\n",
       "    <pre> ... 430.0 ... 430.0      Stage: real light quark emission - dipole - (onshell)      Status 59:     </pre>\n",
       "  </div>\n",
       "  <div class=\"enlighten-bar\">\n",
       "    <pre> ... 473.33333333333337 ... 473.33333333333337 Stage: real light quark emission - dipole - (onshell) Status 49:   7.0486e-04      5.14e-05    1.34e+00</pre>\n",
       "  </div>\n",
       "  <div class=\"enlighten-bar\">\n",
       "    <pre> ... 516.6666666666667 ... 516.6666666666667 Stage: real light quark emission - dipole - (onshell) Status 59:</pre>\n",
       "  </div>\n",
       "  <div class=\"enlighten-bar\">\n",
       "    <pre> ... 560.0 ... 560.0 Stage: real light quark emission - dipole - (onshell) Status 60:   2.8820e-04      1.54e-05    0.00e+00</pre>\n",
       "  </div>\n",
       "  <div class=\"enlighten-bar\">\n",
       "    <pre> ... 603.3333333333334 ... 603.3333333333334 Stage: real light quark emission - dipole - (onshell) Status 60:   2.1704e-04      1.09e-05    0.00e+00</pre>\n",
       "  </div>\n",
       "  <div class=\"enlighten-bar\">\n",
       "    <pre> ... 646.6666666666667 ... 646.6666666666667 Stage: real light quark emission - dipole - (onshell) Status 61:   1.6538e-04      5.83e-06    2.66e+00</pre>\n",
       "  </div>\n",
       "  <div class=\"enlighten-bar\">\n",
       "    <pre> ... 690.0 ... 690.0 Stage: real light quark emission - dipole - (onshell) Status 61:   1.2740e-04      4.74e-06    6.56e-01</pre>\n",
       "  </div>\n",
       "  <div class=\"enlighten-bar\">\n",
       "    <pre> ... 733.3333333333334 ... 733.3333333333334 Stage: real light quark emission - dipole - (onshell) Status 60:   9.8787e-05      4.70e-06    0.00e+00</pre>\n",
       "  </div>\n",
       "  <div class=\"enlighten-bar\">\n",
       "    <pre> ... 776.6666666666667 ... 776.6666666666667 Stage: real light quark emission - dipole - (onshell) Status 61:   7.3096e-05      2.52e-06    5.25e-01</pre>\n",
       "  </div>\n",
       "  <div class=\"enlighten-bar\">\n",
       "    <pre> ... 820.0 ... 820.0 Stage: real light quark emission - dipole - (onshell) Status 60:   5.9122e-05      2.83e-06    0.00e+00</pre>\n",
       "  </div>\n",
       "  <div class=\"enlighten-bar\">\n",
       "    <pre> ... 863.3333333333334 ... 863.3333333333334 Stage: real light quark emission - dipole - (onshell) Status 61:   4.4042e-05      1.50e-06    2.14e+00</pre>\n",
       "  </div>\n",
       "  <div class=\"enlighten-bar\">\n",
       "    <pre> ... 906.6666666666667 ... 906.6666666666667 Stage: real light quark emission - dipole - (onshell) Status 61:   3.5512e-05      1.16e-06    9.17e-02</pre>\n",
       "  </div>\n",
       "  <div class=\"enlighten-bar\">\n",
       "    <pre> ... 950.0 ... 950.0 Stage: real light quark emission - dipole - (onshell) Status 60:   2.9614e-05      1.30e-06    0.00e+00</pre>\n",
       "  </div>\n",
       "</div>\n"
      ],
      "text/plain": [
       "<IPython.core.display.HTML object>"
      ]
     },
     "metadata": {},
     "output_type": "display_data"
    },
    {
     "ename": "KeyboardInterrupt",
     "evalue": "",
     "output_type": "error",
     "traceback": [
      "\u001b[0;31m---------------------------------------------------------------------------\u001b[0m",
      "\u001b[0;31mKeyboardInterrupt\u001b[0m                         Traceback (most recent call last)",
      "\u001b[0;32m<ipython-input-2-aa5f44f04e63>\u001b[0m in \u001b[0;36m<module>\u001b[0;34m\u001b[0m\n\u001b[1;32m      3\u001b[0m         \u001b[0mi\u001b[0m \u001b[0;34m=\u001b[0m \u001b[0mhepi\u001b[0m\u001b[0;34m.\u001b[0m\u001b[0mInput\u001b[0m\u001b[0;34m(\u001b[0m\u001b[0mhepi\u001b[0m\u001b[0;34m.\u001b[0m\u001b[0mOrder\u001b[0m\u001b[0;34m.\u001b[0m\u001b[0mNLO\u001b[0m\u001b[0;34m,\u001b[0m\u001b[0;36m7000\u001b[0m\u001b[0;34m,\u001b[0m\u001b[0mp\u001b[0m\u001b[0;34m,\u001b[0m\u001b[0;36m1000022\u001b[0m\u001b[0;34m,\u001b[0m\u001b[0;34m\"sps1a1000.in\"\u001b[0m\u001b[0;34m,\u001b[0m\u001b[0mpdf\u001b[0m\u001b[0;34m,\u001b[0m\u001b[0mnlopdf\u001b[0m\u001b[0;34m,\u001b[0m\u001b[0;36m1.\u001b[0m\u001b[0;34m,\u001b[0m \u001b[0;36m1.\u001b[0m\u001b[0;34m)\u001b[0m\u001b[0;34m\u001b[0m\u001b[0;34m\u001b[0m\u001b[0m\n\u001b[1;32m      4\u001b[0m         \u001b[0mli\u001b[0m \u001b[0;34m=\u001b[0m \u001b[0mhepi\u001b[0m\u001b[0;34m.\u001b[0m\u001b[0mmass_scan\u001b[0m\u001b[0;34m(\u001b[0m\u001b[0;34m[\u001b[0m\u001b[0mi\u001b[0m\u001b[0;34m]\u001b[0m\u001b[0;34m,\u001b[0m\u001b[0mp\u001b[0m\u001b[0;34m,\u001b[0m \u001b[0mnp\u001b[0m\u001b[0;34m.\u001b[0m\u001b[0mlinspace\u001b[0m\u001b[0;34m(\u001b[0m\u001b[0;36m300\u001b[0m\u001b[0;34m,\u001b[0m\u001b[0;36m950\u001b[0m\u001b[0;34m,\u001b[0m\u001b[0;36m16\u001b[0m\u001b[0;34m)\u001b[0m\u001b[0;34m,\u001b[0m\u001b[0mdiff_L_R\u001b[0m\u001b[0;34m=\u001b[0m\u001b[0;36m20\u001b[0m\u001b[0;34m)\u001b[0m\u001b[0;34m\u001b[0m\u001b[0;34m\u001b[0m\u001b[0m\n\u001b[0;32m----> 5\u001b[0;31m         \u001b[0mrs_dl\u001b[0m \u001b[0;34m=\u001b[0m \u001b[0mrs\u001b[0m\u001b[0;34m.\u001b[0m\u001b[0mrun\u001b[0m\u001b[0;34m(\u001b[0m\u001b[0mli\u001b[0m\u001b[0;34m,\u001b[0m\u001b[0;32mTrue\u001b[0m\u001b[0;34m)\u001b[0m\u001b[0;34m\u001b[0m\u001b[0;34m\u001b[0m\u001b[0m\n\u001b[0m\u001b[1;32m      6\u001b[0m         \u001b[0mmg_dl\u001b[0m \u001b[0;34m=\u001b[0m \u001b[0mmg\u001b[0m\u001b[0;34m.\u001b[0m\u001b[0mrun\u001b[0m\u001b[0;34m(\u001b[0m\u001b[0mli\u001b[0m\u001b[0;34m,\u001b[0m\u001b[0;32mTrue\u001b[0m\u001b[0;34m)\u001b[0m\u001b[0;34m\u001b[0m\u001b[0;34m\u001b[0m\u001b[0m\n\u001b[1;32m      7\u001b[0m         \u001b[0mhepi\u001b[0m\u001b[0;34m.\u001b[0m\u001b[0mmass_plot\u001b[0m\u001b[0;34m(\u001b[0m\u001b[0mrs_dl\u001b[0m\u001b[0;34m,\u001b[0m\u001b[0mp\u001b[0m\u001b[0;34m,\u001b[0m\u001b[0;34m\"lo\"\u001b[0m\u001b[0;34m,\u001b[0m\u001b[0myscale\u001b[0m\u001b[0;34m=\u001b[0m\u001b[0;36m1000\u001b[0m\u001b[0;34m,\u001b[0m\u001b[0myaxis\u001b[0m\u001b[0;34m=\u001b[0m\u001b[0;34m\"$\\sigma$ [fb]\"\u001b[0m\u001b[0;34m)\u001b[0m\u001b[0;34m\u001b[0m\u001b[0;34m\u001b[0m\u001b[0m\n",
      "\u001b[0;32m~/.local/lib/python3.8/site-packages/hepi/resummino/run.py\u001b[0m in \u001b[0;36mrun\u001b[0;34m(params, noskip)\u001b[0m\n\u001b[1;32m     37\u001b[0m \u001b[0;32mdef\u001b[0m \u001b[0mrun\u001b[0m\u001b[0;34m(\u001b[0m\u001b[0mparams\u001b[0m\u001b[0;34m:\u001b[0m \u001b[0mList\u001b[0m\u001b[0;34m[\u001b[0m\u001b[0mInput\u001b[0m\u001b[0;34m]\u001b[0m\u001b[0;34m,\u001b[0m \u001b[0mnoskip\u001b[0m\u001b[0;34m=\u001b[0m\u001b[0;32mFalse\u001b[0m\u001b[0;34m)\u001b[0m\u001b[0;34m:\u001b[0m\u001b[0;34m\u001b[0m\u001b[0;34m\u001b[0m\u001b[0m\n\u001b[1;32m     38\u001b[0m     \u001b[0mrps\u001b[0m \u001b[0;34m=\u001b[0m \u001b[0m_queue\u001b[0m\u001b[0;34m(\u001b[0m\u001b[0mparams\u001b[0m\u001b[0;34m,\u001b[0m \u001b[0mnoskip\u001b[0m\u001b[0;34m)\u001b[0m\u001b[0;34m\u001b[0m\u001b[0;34m\u001b[0m\u001b[0m\n\u001b[0;32m---> 39\u001b[0;31m     \u001b[0m_run\u001b[0m\u001b[0;34m(\u001b[0m\u001b[0mrps\u001b[0m\u001b[0;34m)\u001b[0m\u001b[0;34m\u001b[0m\u001b[0;34m\u001b[0m\u001b[0m\n\u001b[0m\u001b[1;32m     40\u001b[0m     \u001b[0mouts\u001b[0m \u001b[0;34m=\u001b[0m \u001b[0mLD2DL\u001b[0m\u001b[0;34m(\u001b[0m\u001b[0mrps\u001b[0m\u001b[0;34m)\u001b[0m\u001b[0;34m[\u001b[0m\u001b[0;34m\"out_path\"\u001b[0m\u001b[0;34m]\u001b[0m\u001b[0;34m\u001b[0m\u001b[0;34m\u001b[0m\u001b[0m\n\u001b[1;32m     41\u001b[0m     \u001b[0mresults\u001b[0m \u001b[0;34m=\u001b[0m \u001b[0m_parse\u001b[0m\u001b[0;34m(\u001b[0m\u001b[0mouts\u001b[0m\u001b[0;34m)\u001b[0m\u001b[0;34m\u001b[0m\u001b[0;34m\u001b[0m\u001b[0m\n",
      "\u001b[0;32m~/.local/lib/python3.8/site-packages/hepi/resummino/run.py\u001b[0m in \u001b[0;36m_run\u001b[0;34m(rps, bar)\u001b[0m\n\u001b[1;32m    140\u001b[0m         \u001b[0mc\u001b[0m \u001b[0;34m=\u001b[0m \u001b[0;32mTrue\u001b[0m\u001b[0;34m\u001b[0m\u001b[0;34m\u001b[0m\u001b[0m\n\u001b[1;32m    141\u001b[0m         \u001b[0;32mwhile\u001b[0m \u001b[0mc\u001b[0m\u001b[0;34m:\u001b[0m\u001b[0;34m\u001b[0m\u001b[0;34m\u001b[0m\u001b[0m\n\u001b[0;32m--> 142\u001b[0;31m             \u001b[0mtime\u001b[0m\u001b[0;34m.\u001b[0m\u001b[0msleep\u001b[0m\u001b[0;34m(\u001b[0m\u001b[0;36m10\u001b[0m\u001b[0;34m)\u001b[0m\u001b[0;34m\u001b[0m\u001b[0;34m\u001b[0m\u001b[0m\n\u001b[0m\u001b[1;32m    143\u001b[0m             \u001b[0mc\u001b[0m \u001b[0;34m=\u001b[0m \u001b[0;32mFalse\u001b[0m\u001b[0;34m\u001b[0m\u001b[0;34m\u001b[0m\u001b[0m\n\u001b[1;32m    144\u001b[0m             \u001b[0;32mfor\u001b[0m \u001b[0mp\u001b[0m \u001b[0;32min\u001b[0m \u001b[0mprocesses\u001b[0m\u001b[0;34m:\u001b[0m\u001b[0;34m\u001b[0m\u001b[0;34m\u001b[0m\u001b[0m\n",
      "\u001b[0;31mKeyboardInterrupt\u001b[0m: "
     ]
    }
   ],
   "source": [
    "for pdf,nlopdf in [(\"CT14lo\",\"CT14lo\")]:\n",
    "    for p in [2000002,1000002]:\n",
    "        i = hepi.Input(hepi.Order.NLO,7000,p,1000022,\"sps1a1000.in\",pdf,nlopdf,1., 1.)\n",
    "        li = hepi.mass_scan([i],p, np.linspace(300,950,16),diff_L_R=20)\n",
    "        rs_dl = rs.run(li)\n",
    "        mg_dl = mg.run(li)\n",
    "        hepi.mass_plot(rs_dl,p,\"lo\",yscale=1000,yaxis=\"$\\sigma$ [fb]\")\n",
    "        #hepi.mass_plot(mg_dl,p,\"lo\",yscale=1000,yaxis=\"$\\sigma$ [fb]\")\n",
    "       \n",
    "        hepi.mass_plot(rs_dl,p,\"nlo\",yscale=1000,yaxis=\"$\\sigma$ [fb]\")\n",
    "        hepi.mass_plot(mg_dl,p,\"nlo\",yscale=1000,yaxis=\"$\\sigma$ [fb]\")\n",
    "        \n",
    "        plt.savefig(\"comp_\" + pdf + \"_\" + str(p) + \".pdf\")\n",
    "        smpl.plot.show()\n",
    "        \n",
    "        hepi.mass_plot(rs_dl,p,\"K_lo\",logy=False,label=\"lo\")\n",
    "        #hepi.mass_plot(mg_dl,p,\"K_lo\",logy=False,label=\"lo\")\n",
    "        \n",
    "        mg_dl[\"K_nlo\"] = mg_dl[\"nlo\"]/rs_dl[\"lo\"]\n",
    "        hepi.mass_plot(rs_dl,p,\"K_nlo\",logy=False,yaxis=\"$K_\\\\mathrm{nlo}$\",label=\"nlo\")\n",
    "        hepi.mass_plot(mg_dl,p,\"K_nlo\",logy=False,yaxis=\"$K_\\\\mathrm{nlo}$\",label=\"nlo\")\n",
    "        \n",
    "        plt.savefig(\"K_comp_\" + pdf + \"_\" + str(p) + \".pdf\")\n",
    "        smpl.plot.show()\n",
    "\n",
    "        print(pdf, p, \"done\" )\n",
    "    \n",
    " "
   ]
  },
  {
   "cell_type": "code",
   "execution_count": null,
   "metadata": {},
   "outputs": [],
   "source": []
  }
 ],
 "metadata": {
  "kernelspec": {
   "display_name": "Python 3",
   "language": "python",
   "name": "python3"
  },
  "language_info": {
   "codemirror_mode": {
    "name": "ipython",
    "version": 3
   },
   "file_extension": ".py",
   "mimetype": "text/x-python",
   "name": "python",
   "nbconvert_exporter": "python",
   "pygments_lexer": "ipython3",
   "version": "3.8.7"
  }
 },
 "nbformat": 4,
 "nbformat_minor": 4
}
