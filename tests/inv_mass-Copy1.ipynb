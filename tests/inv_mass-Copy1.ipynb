{
 "cells": [
  {
   "cell_type": "code",
   "execution_count": 1,
   "metadata": {},
   "outputs": [
    {
     "name": "stdout",
     "output_type": "stream",
     "text": [
      "/opt/MG5_aMC_v2_7_0/\n",
      "~/git/resummino_ug_to_UX_vNLO/\n"
     ]
    }
   ],
   "source": [
    "import hepi\n",
    "import smpl\n",
    "import numpy as np\n",
    "import hepi.madgraph as mg\n",
    "import matplotlib.pyplot as plt\n",
    "import hepi.resummino as rs\n",
    "import time\n",
    "from smpl import plot\n",
    "print (mg.get_path())\n",
    "rs.set_path(\"~/git/resummino_ug_to_UX_vNLO/\")\n",
    "print (rs.get_path())"
   ]
  },
  {
   "cell_type": "code",
   "execution_count": 2,
   "metadata": {},
   "outputs": [
    {
     "name": "stdout",
     "output_type": "stream",
     "text": [
      "1943.493444\n",
      "Running: 41 jobs\n"
     ]
    },
    {
     "data": {
      "text/html": [
       "<style>\n",
       "</style>\n",
       "<div class=\"enlighten\">\n",
       "  <div class=\"enlighten-bar\">\n",
       "    <pre>./output/83f33bd1f4aa9eb84a83d35ca2fe527c8b8c3a8507b59b1af302b7fafbfdd1ec.out                       </pre>\n",
       "  </div>\n",
       "  <div class=\"enlighten-bar\">\n",
       "    <pre> ... ./output/83f33bd1f4aa9eb84a83d35ca2fe527c8b8c3a8507b59b1af302b7fafbfdd1ec.out Stage: DONE Status DONE:</pre>\n",
       "  </div>\n",
       "  <div class=\"enlighten-bar\">\n",
       "    <pre> ... ./output/ff46af964f155d71eb9356a5bf6238ca56072578558a19d7c0cf72f892dbea41.out Stage: DONE Status DONE:</pre>\n",
       "  </div>\n",
       "  <div class=\"enlighten-bar\">\n",
       "    <pre> ... ./output/41b156463ee6f9f9aef2b37aef1cb7df63e575f1abacd27dbd89361dd63ea957.out Stage: DONE Status DONE:</pre>\n",
       "  </div>\n",
       "  <div class=\"enlighten-bar\">\n",
       "    <pre> ... ./output/b6bee8c062fe612c3af5b9bbd41c1a55c503947b54eb12c52b7b4ee28f26370a.out Stage: DONE Status DONE:</pre>\n",
       "  </div>\n",
       "  <div class=\"enlighten-bar\">\n",
       "    <pre> ... ./output/b4b6f07b344f54354facf94cfbb315ee589fa5dd1fac9aecb704fbd4679d0f0e.out Stage: DONE Status DONE:</pre>\n",
       "  </div>\n",
       "  <div class=\"enlighten-bar\">\n",
       "    <pre> ... ./output/3d1b40b942a9d2d37d8186234532deade016cbad58b5ed961e1aacb23153c851.out Stage: DONE Status DONE:</pre>\n",
       "  </div>\n",
       "  <div class=\"enlighten-bar\">\n",
       "    <pre> ... ./output/507a107ca7aacb7623ec010d004308be46c0443349c2e9aafec2d96beb378564.out Stage: DONE Status DONE:</pre>\n",
       "  </div>\n",
       "  <div class=\"enlighten-bar\">\n",
       "    <pre> ... ./output/ccd2098bb49c946a9fc275c3b8d5af97c1c20f74fe5b99f61e9d1b5242e2f4a3.out Stage: DONE Status DONE:</pre>\n",
       "  </div>\n",
       "  <div class=\"enlighten-bar\">\n",
       "    <pre> ... ./output/0961eae4714fa805be184ca638831f7dd602f00beb08684c22af7573b0667a66.out Stage: DONE Status DONE:</pre>\n",
       "  </div>\n",
       "  <div class=\"enlighten-bar\">\n",
       "    <pre> ... ./output/6f5b017e99fc3ffcfffcc00b9a685334368fc9c2c6a59c14890e447516bf9d1c.out Stage: DONE Status DONE:</pre>\n",
       "  </div>\n",
       "  <div class=\"enlighten-bar\">\n",
       "    <pre> ... ./output/66b15990f3a7ae1c02de305ebd3031be6b596ed8f6b8b469cc6388cd396967ff.out Stage: DONE Status DONE:</pre>\n",
       "  </div>\n",
       "  <div class=\"enlighten-bar\">\n",
       "    <pre> ... ./output/29e43ca1a70c3cfffcd58f4642b819f33f35413d64fd7b1bca3acc9b5645d742.out Stage: DONE Status DONE:</pre>\n",
       "  </div>\n",
       "  <div class=\"enlighten-bar\">\n",
       "    <pre> ... ./output/f798f6c96b9212c86317f018ab371f8502638e82be34c897a65ff6e8acdfe826.out Stage: DONE Status DONE:</pre>\n",
       "  </div>\n",
       "  <div class=\"enlighten-bar\">\n",
       "    <pre> ... ./output/89a499f5668cfa9fff9b7eb7cee9f8ed7c59470557a503d842cbb2b7b06e7cd8.out Stage: DONE Status DONE:</pre>\n",
       "  </div>\n",
       "  <div class=\"enlighten-bar\">\n",
       "    <pre> ... ./output/3658d8df9b20030e78fb72ba6200209acd0e828caae241ef49e3adacd9957ca6.out Stage: DONE Status DONE:</pre>\n",
       "  </div>\n",
       "  <div class=\"enlighten-bar\">\n",
       "    <pre> ... ./output/e3803347fd06c0cb481a1741a0e7f8dced174c88652fb23537454409518fc1aa.out Stage: DONE Status DONE:</pre>\n",
       "  </div>\n",
       "  <div class=\"enlighten-bar\">\n",
       "    <pre> ... ./output/68bb0da6be40f1590ddf767383d7c1d7efb870f775a2df7bcd3ad0a17e5b4dde.out Stage: DONE Status DONE:</pre>\n",
       "  </div>\n",
       "  <div class=\"enlighten-bar\">\n",
       "    <pre> ... ./output/0170a5a38b8ed0d5d3e602dd2c3ed4f2ebb8752701583b6c66228ad15989f23b.out Stage: DONE Status DONE:</pre>\n",
       "  </div>\n",
       "  <div class=\"enlighten-bar\">\n",
       "    <pre> ... ./output/c4c65dffa62a1ac250e472fc1703a9dec3fa2f128c797b81b61934dea19cb1d0.out Stage: DONE Status DONE:</pre>\n",
       "  </div>\n",
       "  <div class=\"enlighten-bar\">\n",
       "    <pre> ... ./output/f199cc2186475741b2f67dee3c986303661fa0faa71afdc53f440188aff0627b.out Stage: DONE Status DONE:</pre>\n",
       "  </div>\n",
       "  <div class=\"enlighten-bar\">\n",
       "    <pre> ... ./output/93eb4cfa8d4fdc1e7f5e84af10607bf4b6976755c4bb4081449e3902f3145321.out Stage: DONE Status DONE:</pre>\n",
       "  </div>\n",
       "  <div class=\"enlighten-bar\">\n",
       "    <pre> ... ./output/a6cc2045e2de67695d1c4e875fbd6b7a5b1ed11d4f36eaec685269bf54117311.out Stage: DONE Status DONE:</pre>\n",
       "  </div>\n",
       "  <div class=\"enlighten-bar\">\n",
       "    <pre> ... ./output/0ee8034ca34a99caa63ca539428d098254979eee42ba79b2bd767d35c03557c2.out Stage: DONE Status DONE:</pre>\n",
       "  </div>\n",
       "  <div class=\"enlighten-bar\">\n",
       "    <pre> ... ./output/805a22039f0cce832067a822fce46e153b1faa4d43929e924f284a6638cdb5e2.out Stage: DONE Status DONE:</pre>\n",
       "  </div>\n",
       "  <div class=\"enlighten-bar\">\n",
       "    <pre> ... ./output/bd3ea7312c92afe649bc1be27eb35af33b1f7f5f32dbfa5f66b312d048a75f07.out Stage: DONE Status DONE:</pre>\n",
       "  </div>\n",
       "  <div class=\"enlighten-bar\">\n",
       "    <pre> ... ./output/f65f0d5b6a5b67e6b1b806ee488ef59cfa2f53b012cce72ca12a87a91a5442ca.out Stage: DONE Status DONE:</pre>\n",
       "  </div>\n",
       "  <div class=\"enlighten-bar\">\n",
       "    <pre> ... ./output/fd5cdfa240eb3e8cd6a52679855442fbcf0e0c3e3acb5b8907f19428d54ff67a.out Stage: DONE Status DONE:</pre>\n",
       "  </div>\n",
       "  <div class=\"enlighten-bar\">\n",
       "    <pre> ... ./output/14f16422e3d42f58bad50e44d46d0108e4398248fb62f55879551639422a4491.out Stage: DONE Status DONE:</pre>\n",
       "  </div>\n",
       "  <div class=\"enlighten-bar\">\n",
       "    <pre> ... ./output/e1f9e493fe90ef82bacafd8dbbbac3a4a728b9ea15399bc8f0d18f37fdc8309f.out Stage: DONE Status DONE:</pre>\n",
       "  </div>\n",
       "  <div class=\"enlighten-bar\">\n",
       "    <pre> ... ./output/947c0ecec897ac917bf20acfa59b41c60ee5643c71c8ed392319b49fbab7ad3b.out Stage: DONE Status DONE:</pre>\n",
       "  </div>\n",
       "  <div class=\"enlighten-bar\">\n",
       "    <pre> ... ./output/a63a144bf31c0de8b43eb519b6fe53ce87948354110f7b2313be63721f4735a7.out Stage: DONE Status DONE:</pre>\n",
       "  </div>\n",
       "  <div class=\"enlighten-bar\">\n",
       "    <pre> ... ./output/5cdf6078274abdebb5620d2e9b6543d6e1367d32cea8e4f01456302897310306.out Stage: DONE Status DONE:</pre>\n",
       "  </div>\n",
       "  <div class=\"enlighten-bar\">\n",
       "    <pre> ... ./output/5f5dedc106b9459c854418ba1f668fd7f3726945f0282591c0b165f2e2ef7875.out Stage: DONE Status DONE:</pre>\n",
       "  </div>\n",
       "  <div class=\"enlighten-bar\">\n",
       "    <pre> ... ./output/b0d609bc5de12ab96b6ababce050d330bd9bfb6db018a335914b0b8a3f574d8c.out Stage: DONE Status DONE:</pre>\n",
       "  </div>\n",
       "  <div class=\"enlighten-bar\">\n",
       "    <pre> ... ./output/b3672a2ac5a5984f2ca7079f64aa11ae5fc205818e03c774add15d139a9f49e3.out Stage: DONE Status DONE:</pre>\n",
       "  </div>\n",
       "  <div class=\"enlighten-bar\">\n",
       "    <pre> ... ./output/0ccdad116a0ff8066963fd59d94a24f49e49031e39f65556e24206e0cd9dacaa.out Stage: DONE Status DONE:</pre>\n",
       "  </div>\n",
       "  <div class=\"enlighten-bar\">\n",
       "    <pre> ... ./output/63b4d897af74fa233457cd827171c2fa548a2ae64dce6dc2251a982b8bb63828.out Stage: DONE Status DONE:</pre>\n",
       "  </div>\n",
       "  <div class=\"enlighten-bar\">\n",
       "    <pre> ... ./output/160c207bf6718ed372c94851487076b4a5b1ea64012712d423f12e509f41f78f.out Stage: DONE Status DONE:</pre>\n",
       "  </div>\n",
       "  <div class=\"enlighten-bar\">\n",
       "    <pre> ... ./output/1a40a985d18dc473394657e9e8082b9074e9cfe2fb83bdcb9f0fdf4ca7b3a43d.out Stage: DONE Status DONE:</pre>\n",
       "  </div>\n",
       "  <div class=\"enlighten-bar\">\n",
       "    <pre> ... ./output/8164a3077653a0e608bd21c1ab8693ba1933aade186732ddfb524c634fd9abe7.out Stage: DONE Status DONE:</pre>\n",
       "  </div>\n",
       "  <div class=\"enlighten-bar\">\n",
       "    <pre> ... ./output/4a848ea228c01ef6b284a5e4a6ef4aead1abea5d7c6631cf3ee5c3a2d9e704cc.out Stage: DONE Status DONE:</pre>\n",
       "  </div>\n",
       "</div>\n"
      ],
      "text/plain": [
       "<IPython.core.display.HTML object>"
      ]
     },
     "metadata": {},
     "output_type": "display_data"
    },
    {
     "data": {
      "image/png": "[encoded data removed]",
      "text/plain": [
       "<Figure size 432x288 with 1 Axes>"
      ]
     },
     "metadata": {
      "needs_background": "light"
     },
     "output_type": "display_data"
    },
    {
     "ename": "AttributeError",
     "evalue": "'function' object has no attribute 'get_output_dir'",
     "output_type": "error",
     "traceback": [
      "\u001b[0;31m---------------------------------------------------------------------------\u001b[0m",
      "\u001b[0;31mAttributeError\u001b[0m                            Traceback (most recent call last)",
      "\u001b[0;32m<ipython-input-2-848131b5ac6a>\u001b[0m in \u001b[0;36m<module>\u001b[0;34m\u001b[0m\n\u001b[1;32m     20\u001b[0m                     \u001b[0;31m#hepi.plot(dl, \"invariant_mass\", \"nlo_plus_nll\", logy=False, label=\"nlo+nll\",xaxis=\"$M$\",yaxis=\"$d\\\\sigma/dM$ [pb/GeV]\")\u001b[0m\u001b[0;34m\u001b[0m\u001b[0;34m\u001b[0m\u001b[0;34m\u001b[0m\u001b[0m\n\u001b[1;32m     21\u001b[0m                     \u001b[0;31m#plot.show()\u001b[0m\u001b[0;34m\u001b[0m\u001b[0;34m\u001b[0m\u001b[0;34m\u001b[0m\u001b[0m\n\u001b[0;32m---> 22\u001b[0;31m                     \u001b[0mplt\u001b[0m\u001b[0;34m.\u001b[0m\u001b[0msavefig\u001b[0m\u001b[0;34m(\u001b[0m\u001b[0minput\u001b[0m\u001b[0;34m.\u001b[0m\u001b[0mget_output_dir\u001b[0m\u001b[0;34m(\u001b[0m\u001b[0;34m)\u001b[0m \u001b[0;34m+\u001b[0m \u001b[0;34m\"inv_mass_\"\u001b[0m \u001b[0;34m+\u001b[0m \u001b[0mstr\u001b[0m\u001b[0;34m(\u001b[0m\u001b[0mp\u001b[0m\u001b[0;34m)\u001b[0m \u001b[0;34m+\u001b[0m \u001b[0;34m\"_\"\u001b[0m \u001b[0;34m+\u001b[0m \u001b[0mstr\u001b[0m\u001b[0;34m(\u001b[0m\u001b[0mnlo_pdf\u001b[0m\u001b[0;34m)\u001b[0m \u001b[0;34m+\u001b[0m \u001b[0;34m\"_\"\u001b[0m \u001b[0;34m+\u001b[0m\u001b[0mstr\u001b[0m\u001b[0;34m(\u001b[0m\u001b[0mscenario\u001b[0m\u001b[0;34m)\u001b[0m \u001b[0;34m+\u001b[0m \u001b[0;34m\".pdf\"\u001b[0m\u001b[0;34m)\u001b[0m\u001b[0;34m\u001b[0m\u001b[0;34m\u001b[0m\u001b[0m\n\u001b[0m\u001b[1;32m     23\u001b[0m \u001b[0;34m\u001b[0m\u001b[0m\n",
      "\u001b[0;31mAttributeError\u001b[0m: 'function' object has no attribute 'get_output_dir'"
     ]
    }
   ],
   "source": [
    "for run_plot in [False ]:\n",
    "    for scenario in [\"scenarioB.in\"]:\n",
    "        for lo_pdf,nlo_pdf in [(\"CT18NLO\",\"CT18NLO\")]:\n",
    "            for p in [2000002, 1000002]:\n",
    "                li = [hepi.Input(hepi.Order.LO, 13000, p, 1000022, scenario, lo_pdf, nlo_pdf, 1., 1.,precision=0.001,max_iters=50)]\n",
    "\n",
    "                li = hepi.scan_invariant_mass(li, 4000, 40+1)\n",
    "                print(li[0].invariant_mass)\n",
    "                #li = hepi.seven_point_scan(li)\n",
    "\n",
    "                dl = rs.run(li, False, True)\n",
    "\n",
    "                if not run_plot:\n",
    "                    \n",
    "                    plot.data([],[],init=True)\n",
    "                    hepi.plot(dl, \"invariant_mass\", \"lo\", logy=False, label=\"lo\",xaxis=\"$M$ [GeV]\",yaxis=\"$d\\\\sigma/dM$ [pb/GeV]\")\n",
    "                    plot.show()\n",
    "                    #hepi.plot(dl, \"invariant_mass\", \"nlo\", logy=False, label=\"nlo\",xaxis=\"$M$\",yaxis=\"$d\\\\sigma/dM$ [pb/GeV]\")\n",
    "                    #plot.show()\n",
    "                    #hepi.plot(dl, \"invariant_mass\", \"nlo_plus_nll\", logy=False, label=\"nlo+nll\",xaxis=\"$M$\",yaxis=\"$d\\\\sigma/dM$ [pb/GeV]\")\n",
    "                    #plot.show()\n",
    "                    plt.savefig(input.get_output_dir() + \"inv_mass_\" + str(p) + \"_\" + str(nlo_pdf) + \"_\" +str(scenario) + \".pdf\")\n",
    "                                                                                                                                                            "
   ]
  },
  {
   "cell_type": "code",
   "execution_count": null,
   "metadata": {},
   "outputs": [],
   "source": []
  }
 ],
 "metadata": {
  "kernelspec": {
   "display_name": "Python 3",
   "language": "python",
   "name": "python3"
  },
  "language_info": {
   "codemirror_mode": {
    "name": "ipython",
    "version": 3
   },
   "file_extension": ".py",
   "mimetype": "text/x-python",
   "name": "python",
   "nbconvert_exporter": "python",
   "pygments_lexer": "ipython3",
   "version": "3.7.9"
  }
 },
 "nbformat": 4,
 "nbformat_minor": 4
}
