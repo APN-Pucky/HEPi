{
 "cells": [
  {
   "cell_type": "code",
   "execution_count": 1,
   "metadata": {},
   "outputs": [
    {
     "name": "stdout",
     "output_type": "stream",
     "text": [
      "/opt/MG5_aMC_v2_7_0/\n",
      "~/git/resummino_ug_to_UX_vNLO/\n"
     ]
    }
   ],
   "source": [
    "import hepi\n",
    "import smpl\n",
    "import numpy as np\n",
    "import hepi.madgraph as mg\n",
    "import matplotlib.pyplot as plt\n",
    "import hepi.resummino as rs\n",
    "import time\n",
    "print (mg.get_path())\n",
    "rs.set_path(\"~/git/resummino_ug_to_UX_vNLO/\")\n",
    "print (rs.get_path())"
   ]
  },
  {
   "cell_type": "code",
   "execution_count": 2,
   "metadata": {},
   "outputs": [
    {
     "name": "stdout",
     "output_type": "stream",
     "text": [
      "1943.492444\n",
      "Running: 15 jobs\n",
      "skipFAILED  (2.4451+/-0.0008)e-10 None None ./output/f2ac351ec6bbcd5dcfd325110e82f8ab89a6d7bcddf4cc44427958af7a75c6ef.out\n",
      "FAILED  (1.3339+/-0.0005)e-10 None None ./output/6e8e022c28f7ad8abf592c571e6f874921e447999bdc959b103303d41f504415.out\n",
      "FAILED  (6.7200+/-0.0023)e-11 None None ./output/395dd7616fc374f8914f04e41e215304bf9cec6d9472f7bffc3534b9567f801a.out\n",
      "FAILED  (3.3514+/-0.0012)e-11 None None ./output/d1d0154cc0e89a0a158f8ea3800bc1a3efc7dbd6fc1b694557887df7a45870e8.out\n",
      "FAILED  (1.6801+/-0.0006)e-11 None None ./output/160b5696570a9a0d6473df811038a5d5d869dd4dbe7bdf6808153b47c30821f8.out\n",
      "FAILED  (8.4939+/-0.0030)e-12 None None ./output/c2eb6c6f3672bcf14707b5f3ed956ef2cdb497b67d281184407f2051b414c73d.out\n",
      "FAILED  (4.3279+/-0.0015)e-12 None None ./output/c490c050f07d37ab1e389ef6e638f1c62126f53d43239b94d7c2ce7b263b22f1.out\n",
      "FAILED  (2.2186+/-0.0008)e-12 None None ./output/d5ee6f6cbe76aa0fd69e16e061d82b9b33b45a2a4e863b8a2d38ed9ba28b9b2a.out\n",
      "FAILED  (1.1416+/-0.0004)e-12 None None ./output/92a85866fb285a8cea543cf4a3133a3284f9ade21f5e9001425d0b832ed94ade.out\n",
      "FAILED  (5.8820+/-0.0021)e-13 None None ./output/cc8aeeff57b3f51b563d107788fdc411af6c266d84c8175abef9c3b6668f94ae.out\n",
      "FAILED  (3.0279+/-0.0011)e-13 None None ./output/b8f5e2d230c4b5b151b46ad30f3fa1203006000d1ea0c5180c37145679d2d362.out\n",
      "FAILED  (1.5537+/-0.0006)e-13 None None ./output/2d583357ad1efab6dff81c38b4ee2eece51327f2f8a38432dbf2fea5952eef4f.out\n",
      "FAILED  (7.9294+/-0.0029)e-14 None None ./output/96038a6d026e20548c324bf645edb37f102f879d3497abe0638800ab65cae54e.out\n",
      "FAILED  (4.0158+/-0.0015)e-14 None None ./output/b4ba00db1c28767d35dafa3284174bc1275d938b39a36aa25bc840566f333573.out\n"
     ]
    },
    {
     "data": {
      "text/html": [
       "<style>\n",
       "</style>\n",
       "<div class=\"enlighten\">\n",
       "  <div class=\"enlighten-bar\">\n",
       "    <pre>./output/c8c26d5a977ac3a6f0340b681e91fbdd850c4ca271eefae1d3fa3b30062ded99.out                       </pre>\n",
       "  </div>\n",
       "  <div class=\"enlighten-bar\">\n",
       "    <pre> ... ./output/f2ac351ec6bbcd5dcfd325110e82f8ab89a6d7bcddf4cc44427958af7a75c6ef.out Stage: virtual corrections + integrated dipole Status 38:   -2.0169e-07      3.72e-10    1.26e+00</pre>\n",
       "  </div>\n",
       "  <div class=\"enlighten-bar\">\n",
       "    <pre> ... ./output/6e8e022c28f7ad8abf592c571e6f874921e447999bdc959b103303d41f504415.out Stage: virtual corrections + integrated dipole Status 38:   -1.0225e-07      1.90e-10    1.26e+00</pre>\n",
       "  </div>\n",
       "  <div class=\"enlighten-bar\">\n",
       "    <pre> ... ./output/395dd7616fc374f8914f04e41e215304bf9cec6d9472f7bffc3534b9567f801a.out Stage: virtual corrections + integrated dipole Status 38:   -4.5688e-08      8.53e-11    1.27e+00</pre>\n",
       "  </div>\n",
       "  <div class=\"enlighten-bar\">\n",
       "    <pre> ... ./output/d1d0154cc0e89a0a158f8ea3800bc1a3efc7dbd6fc1b694557887df7a45870e8.out Stage: virtual corrections + integrated dipole Status 38:   -1.9344e-08      3.63e-11    1.39e+00</pre>\n",
       "  </div>\n",
       "  <div class=\"enlighten-bar\">\n",
       "    <pre> ... ./output/160b5696570a9a0d6473df811038a5d5d869dd4dbe7bdf6808153b47c30821f8.out Stage: virtual corrections + integrated dipole Status 38:   -8.2558e-09      1.56e-11    1.37e+00</pre>\n",
       "  </div>\n",
       "  <div class=\"enlighten-bar\">\n",
       "    <pre> ... ./output/c2eb6c6f3672bcf14707b5f3ed956ef2cdb497b67d281184407f2051b414c73d.out Stage: virtual corrections + integrated dipole Status 39:   -3.4683e-09      6.44e-12    1.37e+00</pre>\n",
       "  </div>\n",
       "  <div class=\"enlighten-bar\">\n",
       "    <pre> ... ./output/c490c050f07d37ab1e389ef6e638f1c62126f53d43239b94d7c2ce7b263b22f1.out Stage: virtual corrections + integrated dipole Status 39:   -1.4181e-09      3.14e-12    8.66e-01</pre>\n",
       "  </div>\n",
       "  <div class=\"enlighten-bar\">\n",
       "    <pre> ... ./output/d5ee6f6cbe76aa0fd69e16e061d82b9b33b45a2a4e863b8a2d38ed9ba28b9b2a.out Stage: virtual corrections + integrated dipole Status 38:   -5.5771e-10      3.52e-12    7.76e-01</pre>\n",
       "  </div>\n",
       "  <div class=\"enlighten-bar\">\n",
       "    <pre> ... ./output/92a85866fb285a8cea543cf4a3133a3284f9ade21f5e9001425d0b832ed94ade.out Stage: virtual corrections + integrated dipole Status 39:   -2.0503e-10      2.57e-12    4.52e-01</pre>\n",
       "  </div>\n",
       "  <div class=\"enlighten-bar\">\n",
       "    <pre> ... ./output/cc8aeeff57b3f51b563d107788fdc411af6c266d84c8175abef9c3b6668f94ae.out Stage: virtual corrections + integrated dipole Status 38:   -6.5810e-11      1.69e-12    5.22e-01</pre>\n",
       "  </div>\n",
       "  <div class=\"enlighten-bar\">\n",
       "    <pre> ... ./output/b8f5e2d230c4b5b151b46ad30f3fa1203006000d1ea0c5180c37145679d2d362.out Stage: virtual corrections + integrated dipole Status 38:   -1.3696e-11      9.91e-13    1.14e+00</pre>\n",
       "  </div>\n",
       "  <div class=\"enlighten-bar\">\n",
       "    <pre> ... ./output/2d583357ad1efab6dff81c38b4ee2eece51327f2f8a38432dbf2fea5952eef4f.out Stage: virtual corrections + integrated dipole Status 38:   2.7079e-12      5.56e-13    1.19e+00</pre>\n",
       "  </div>\n",
       "  <div class=\"enlighten-bar\">\n",
       "    <pre> ... ./output/96038a6d026e20548c324bf645edb37f102f879d3497abe0638800ab65cae54e.out Stage: virtual corrections + integrated dipole Status 38:   5.8720e-12      3.00e-13    7.92e-01</pre>\n",
       "  </div>\n",
       "  <div class=\"enlighten-bar\">\n",
       "    <pre> ... ./output/b4ba00db1c28767d35dafa3284174bc1275d938b39a36aa25bc840566f333573.out Stage: virtual corrections + integrated dipole Status 38:   5.1352e-12      1.58e-13    6.98e-01</pre>\n",
       "  </div>\n",
       "</div>\n"
      ],
      "text/plain": [
       "<IPython.core.display.HTML object>"
      ]
     },
     "metadata": {},
     "output_type": "display_data"
    },
    {
     "ename": "KeyboardInterrupt",
     "evalue": "",
     "output_type": "error",
     "traceback": [
      "\u001b[0;31m---------------------------------------------------------------------------\u001b[0m",
      "\u001b[0;31mKeyboardInterrupt\u001b[0m                         Traceback (most recent call last)",
      "\u001b[0;32m<ipython-input-2-be146eac3ac3>\u001b[0m in \u001b[0;36m<module>\u001b[0;34m\u001b[0m\n\u001b[1;32m      9\u001b[0m                 \u001b[0;31m#li = hepi.seven_point_scan(li)\u001b[0m\u001b[0;34m\u001b[0m\u001b[0;34m\u001b[0m\u001b[0;34m\u001b[0m\u001b[0m\n\u001b[1;32m     10\u001b[0m \u001b[0;34m\u001b[0m\u001b[0m\n\u001b[0;32m---> 11\u001b[0;31m                 \u001b[0mdl\u001b[0m \u001b[0;34m=\u001b[0m \u001b[0mrs\u001b[0m\u001b[0;34m.\u001b[0m\u001b[0mrun\u001b[0m\u001b[0;34m(\u001b[0m\u001b[0mli\u001b[0m\u001b[0;34m,\u001b[0m \u001b[0;32mFalse\u001b[0m\u001b[0;34m,\u001b[0m \u001b[0;32mTrue\u001b[0m\u001b[0;34m)\u001b[0m\u001b[0;34m\u001b[0m\u001b[0;34m\u001b[0m\u001b[0m\n\u001b[0m\u001b[1;32m     12\u001b[0m \u001b[0;34m\u001b[0m\u001b[0m\n\u001b[1;32m     13\u001b[0m                 \u001b[0;32mif\u001b[0m \u001b[0;32mnot\u001b[0m \u001b[0mrun_plot\u001b[0m\u001b[0;34m:\u001b[0m\u001b[0;34m\u001b[0m\u001b[0;34m\u001b[0m\u001b[0m\n",
      "\u001b[0;32m~/.local/lib/python3.7/site-packages/hepi/resummino/run.py\u001b[0m in \u001b[0;36mrun\u001b[0;34m(params, noskip, bar, no_parse, para)\u001b[0m\n\u001b[1;32m     42\u001b[0m     \u001b[0mprint\u001b[0m\u001b[0;34m(\u001b[0m\u001b[0;34m\"Running: \"\u001b[0m \u001b[0;34m+\u001b[0m \u001b[0mstr\u001b[0m\u001b[0;34m(\u001b[0m\u001b[0mlen\u001b[0m\u001b[0;34m(\u001b[0m\u001b[0mparams\u001b[0m\u001b[0;34m)\u001b[0m\u001b[0;34m)\u001b[0m  \u001b[0;34m+\u001b[0m\u001b[0;34m\" jobs\"\u001b[0m \u001b[0;34m)\u001b[0m\u001b[0;34m\u001b[0m\u001b[0;34m\u001b[0m\u001b[0m\n\u001b[1;32m     43\u001b[0m     \u001b[0mrps\u001b[0m \u001b[0;34m=\u001b[0m \u001b[0m_queue\u001b[0m\u001b[0;34m(\u001b[0m\u001b[0mparams\u001b[0m\u001b[0;34m,\u001b[0m \u001b[0mnoskip\u001b[0m\u001b[0;34m)\u001b[0m\u001b[0;34m\u001b[0m\u001b[0;34m\u001b[0m\u001b[0m\n\u001b[0;32m---> 44\u001b[0;31m     \u001b[0m_run\u001b[0m\u001b[0;34m(\u001b[0m\u001b[0mrps\u001b[0m\u001b[0;34m,\u001b[0m \u001b[0mbar\u001b[0m\u001b[0;34m,\u001b[0m \u001b[0mno_parse\u001b[0m\u001b[0;34m,\u001b[0m\u001b[0mpara\u001b[0m\u001b[0;34m)\u001b[0m\u001b[0;34m\u001b[0m\u001b[0;34m\u001b[0m\u001b[0m\n\u001b[0m\u001b[1;32m     45\u001b[0m     \u001b[0;32mif\u001b[0m \u001b[0;32mnot\u001b[0m \u001b[0mno_parse\u001b[0m\u001b[0;34m:\u001b[0m\u001b[0;34m\u001b[0m\u001b[0;34m\u001b[0m\u001b[0m\n\u001b[1;32m     46\u001b[0m         \u001b[0mouts\u001b[0m \u001b[0;34m=\u001b[0m \u001b[0mLD2DL\u001b[0m\u001b[0;34m(\u001b[0m\u001b[0mrps\u001b[0m\u001b[0;34m)\u001b[0m\u001b[0;34m[\u001b[0m\u001b[0;34m\"out_path\"\u001b[0m\u001b[0;34m]\u001b[0m\u001b[0;34m\u001b[0m\u001b[0;34m\u001b[0m\u001b[0m\n",
      "\u001b[0;32m~/.local/lib/python3.7/site-packages/hepi/resummino/run.py\u001b[0m in \u001b[0;36m_run\u001b[0;34m(rps, bar, no_parse, para)\u001b[0m\n\u001b[1;32m    163\u001b[0m         \u001b[0;32mwhile\u001b[0m \u001b[0mc\u001b[0m\u001b[0;34m:\u001b[0m\u001b[0;34m\u001b[0m\u001b[0;34m\u001b[0m\u001b[0m\n\u001b[1;32m    164\u001b[0m             \u001b[0;32mif\u001b[0m \u001b[0mlen\u001b[0m\u001b[0;34m(\u001b[0m\u001b[0mprocesses\u001b[0m\u001b[0;34m)\u001b[0m \u001b[0;34m>\u001b[0m \u001b[0;36m0\u001b[0m\u001b[0;34m:\u001b[0m\u001b[0;34m\u001b[0m\u001b[0;34m\u001b[0m\u001b[0m\n\u001b[0;32m--> 165\u001b[0;31m                 \u001b[0mtime\u001b[0m\u001b[0;34m.\u001b[0m\u001b[0msleep\u001b[0m\u001b[0;34m(\u001b[0m\u001b[0;36m10\u001b[0m\u001b[0;34m)\u001b[0m\u001b[0;34m\u001b[0m\u001b[0;34m\u001b[0m\u001b[0m\n\u001b[0m\u001b[1;32m    166\u001b[0m             \u001b[0mc\u001b[0m \u001b[0;34m=\u001b[0m \u001b[0;32mFalse\u001b[0m\u001b[0;34m\u001b[0m\u001b[0;34m\u001b[0m\u001b[0m\n\u001b[1;32m    167\u001b[0m             \u001b[0;32mfor\u001b[0m \u001b[0mp\u001b[0m \u001b[0;32min\u001b[0m \u001b[0mprocesses\u001b[0m\u001b[0;34m:\u001b[0m\u001b[0;34m\u001b[0m\u001b[0;34m\u001b[0m\u001b[0m\n",
      "\u001b[0;31mKeyboardInterrupt\u001b[0m: "
     ]
    }
   ],
   "source": [
    "for run_plot in [False ]:\n",
    "    for scenario in [\"scenarioB.in\"]:\n",
    "        for lo_pdf,nlo_pdf in [(\"CT18NLO\",\"CT18NLO\")]:\n",
    "            for p in [2000002, 1000002]:\n",
    "                li = [hepi.Input(hepi.Order.NLO, 13000, p, 1000022, scenario, lo_pdf, nlo_pdf, 1., 1.,precision=0.001,max_iters=50)]\n",
    "\n",
    "                li = hepi.scan_invariant_mass(li, 4000, 15)\n",
    "                print(li[0].invariant_mass)\n",
    "                #li = hepi.seven_point_scan(li)\n",
    "\n",
    "                dl = rs.run(li, False, True)\n",
    "\n",
    "                if not run_plot:\n",
    "                    \n",
    "                    plot.data([],[],init=True)\n",
    "                    hepi.plot(dl, \"invariant_mass\", \"lo\", logy=False, label=\"lo\",xaxis=\"$M$\",yaxis=\"$d\\\\sigma/dM$ [pb/GeV]\")\n",
    "                    plot.show()\n",
    "                    hepi.plot(dl, \"invariant_mass\", \"nlo\", logy=False, label=\"nlo\",xaxis=\"$M$\",yaxis=\"$d\\\\sigma/dM$ [pb/GeV]\")\n",
    "                    plot.show()\n",
    "                    #hepi.plot(dl, \"invariant_mass\", \"nlo_plus_nll\", logy=False, label=\"nlo+nll\",xaxis=\"$M$\",yaxis=\"$d\\\\sigma/dM$ [pb/GeV]\")\n",
    "                    #plot.show()\n",
    "                    plt.savefig(input.get_output_dir() + \"inv_mass_\" + str(p) + \"_\" + str(nlo_pdf) + \"_\" +str(scenario) + \".pdf\")\n",
    "                                                                                                                                                            "
   ]
  },
  {
   "cell_type": "code",
   "execution_count": null,
   "metadata": {},
   "outputs": [],
   "source": []
  }
 ],
 "metadata": {
  "kernelspec": {
   "display_name": "Python 3",
   "language": "python",
   "name": "python3"
  },
  "language_info": {
   "codemirror_mode": {
    "name": "ipython",
    "version": 3
   },
   "file_extension": ".py",
   "mimetype": "text/x-python",
   "name": "python",
   "nbconvert_exporter": "python",
   "pygments_lexer": "ipython3",
   "version": "3.7.9"
  }
 },
 "nbformat": 4,
 "nbformat_minor": 4
}
