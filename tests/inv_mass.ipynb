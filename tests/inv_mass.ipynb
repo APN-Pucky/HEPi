{
 "cells": [
  {
   "cell_type": "code",
   "execution_count": 1,
   "metadata": {},
   "outputs": [
    {
     "name": "stdout",
     "output_type": "stream",
     "text": [
      "/opt/MG5_aMC_v2_7_0/\n",
      "~/git/resummino_ug_to_UX_vNLO/\n"
     ]
    }
   ],
   "source": [
    "import hepi\n",
    "import smpl\n",
    "import numpy as np\n",
    "import hepi.madgraph as mg\n",
    "import matplotlib.pyplot as plt\n",
    "import hepi.resummino as rs\n",
    "import time\n",
    "print (mg.get_path())\n",
    "rs.set_path(\"~/git/resummino_ug_to_UX_vNLO/\")\n",
    "print (rs.get_path())"
   ]
  },
  {
   "cell_type": "code",
   "execution_count": null,
   "metadata": {},
   "outputs": [
    {
     "name": "stdout",
     "output_type": "stream",
     "text": [
      "Running: 15 jobs\n",
      "skipFAILED  (2.4451+/-0.0008)e-10 None None ./output/f2ac351ec6bbcd5dcfd325110e82f8ab89a6d7bcddf4cc44427958af7a75c6ef.out\n",
      "FAILED  (1.3339+/-0.0005)e-10 None None ./output/6e8e022c28f7ad8abf592c571e6f874921e447999bdc959b103303d41f504415.out\n",
      "FAILED  (6.7200+/-0.0023)e-11 None None ./output/395dd7616fc374f8914f04e41e215304bf9cec6d9472f7bffc3534b9567f801a.out\n",
      "FAILED  (3.3514+/-0.0012)e-11 None None ./output/d1d0154cc0e89a0a158f8ea3800bc1a3efc7dbd6fc1b694557887df7a45870e8.out\n",
      "FAILED  (1.6801+/-0.0006)e-11 None None ./output/160b5696570a9a0d6473df811038a5d5d869dd4dbe7bdf6808153b47c30821f8.out\n",
      "FAILED  (8.4939+/-0.0030)e-12 None None ./output/c2eb6c6f3672bcf14707b5f3ed956ef2cdb497b67d281184407f2051b414c73d.out\n",
      "FAILED  (4.3279+/-0.0015)e-12 None None ./output/c490c050f07d37ab1e389ef6e638f1c62126f53d43239b94d7c2ce7b263b22f1.out\n",
      "FAILED  (2.2186+/-0.0008)e-12 None None ./output/d5ee6f6cbe76aa0fd69e16e061d82b9b33b45a2a4e863b8a2d38ed9ba28b9b2a.out\n",
      "FAILED  (1.1416+/-0.0004)e-12 None None ./output/92a85866fb285a8cea543cf4a3133a3284f9ade21f5e9001425d0b832ed94ade.out\n",
      "FAILED  (5.8820+/-0.0021)e-13 None None ./output/cc8aeeff57b3f51b563d107788fdc411af6c266d84c8175abef9c3b6668f94ae.out\n",
      "FAILED  (3.0279+/-0.0011)e-13 None None ./output/b8f5e2d230c4b5b151b46ad30f3fa1203006000d1ea0c5180c37145679d2d362.out\n",
      "FAILED  (1.5537+/-0.0006)e-13 None None ./output/2d583357ad1efab6dff81c38b4ee2eece51327f2f8a38432dbf2fea5952eef4f.out\n",
      "FAILED  (7.9294+/-0.0029)e-14 None None ./output/96038a6d026e20548c324bf645edb37f102f879d3497abe0638800ab65cae54e.out\n",
      "FAILED  (4.0158+/-0.0015)e-14 None None ./output/b4ba00db1c28767d35dafa3284174bc1275d938b39a36aa25bc840566f333573.out\n"
     ]
    },
    {
     "data": {
      "text/html": [
       "<style>\n",
       "</style>\n",
       "<div class=\"enlighten\">\n",
       "  <div class=\"enlighten-bar\">\n",
       "    <pre>./output/c8c26d5a977ac3a6f0340b681e91fbdd850c4ca271eefae1d3fa3b30062ded99.out                       </pre>\n",
       "  </div>\n",
       "  <div class=\"enlighten-bar\">\n",
       "    <pre> ... ./output/f2ac351ec6bbcd5dcfd325110e82f8ab89a6d7bcddf4cc44427958af7a75c6ef.out Stage: virtual corrections + integrated dipole Status 16:   -1.9983e-07      2.61e-09    1.69e+00</pre>\n",
       "  </div>\n",
       "  <div class=\"enlighten-bar\">\n",
       "    <pre> ... ./output/6e8e022c28f7ad8abf592c571e6f874921e447999bdc959b103303d41f504415.out Stage: virtual corrections + integrated dipole Status 16:   -1.0146e-07      1.32e-09    1.72e+00</pre>\n",
       "  </div>\n",
       "  <div class=\"enlighten-bar\">\n",
       "    <pre> ... ./output/395dd7616fc374f8914f04e41e215304bf9cec6d9472f7bffc3534b9567f801a.out Stage: virtual corrections + integrated dipole Status 16:   -4.5278e-08      5.83e-10    1.95e+00</pre>\n",
       "  </div>\n",
       "  <div class=\"enlighten-bar\">\n",
       "    <pre> ... ./output/d1d0154cc0e89a0a158f8ea3800bc1a3efc7dbd6fc1b694557887df7a45870e8.out Stage: virtual corrections + integrated dipole Status 16:   -1.9333e-08      2.64e-10    1.65e+00</pre>\n",
       "  </div>\n",
       "  <div class=\"enlighten-bar\">\n",
       "    <pre> ... ./output/160b5696570a9a0d6473df811038a5d5d869dd4dbe7bdf6808153b47c30821f8.out Stage: virtual corrections + integrated dipole Status 16:   -8.3430e-09      1.20e-10    1.10e+00</pre>\n",
       "  </div>\n",
       "  <div class=\"enlighten-bar\">\n",
       "    <pre> ... ./output/c2eb6c6f3672bcf14707b5f3ed956ef2cdb497b67d281184407f2051b414c73d.out Stage: virtual corrections + integrated dipole Status 16:   -3.5288e-09      5.86e-11    8.23e-01</pre>\n",
       "  </div>\n",
       "  <div class=\"enlighten-bar\">\n",
       "    <pre> ... ./output/c490c050f07d37ab1e389ef6e638f1c62126f53d43239b94d7c2ce7b263b22f1.out Stage: virtual corrections + integrated dipole Status 16:   -1.4412e-09      2.99e-11    7.78e-01</pre>\n",
       "  </div>\n",
       "  <div class=\"enlighten-bar\">\n",
       "    <pre> ... ./output/d5ee6f6cbe76aa0fd69e16e061d82b9b33b45a2a4e863b8a2d38ed9ba28b9b2a.out Stage: virtual corrections + integrated dipole Status 16:   -5.6223e-10      2.55e-11    5.71e-01</pre>\n",
       "  </div>\n",
       "  <div class=\"enlighten-bar\">\n",
       "    <pre> ... ./output/92a85866fb285a8cea543cf4a3133a3284f9ade21f5e9001425d0b832ed94ade.out Stage: virtual corrections + integrated dipole Status 15:   -2.1020e-10      2.31e-11    5.94e-01</pre>\n",
       "  </div>\n",
       "  <div class=\"enlighten-bar\">\n",
       "    <pre> ... ./output/cc8aeeff57b3f51b563d107788fdc411af6c266d84c8175abef9c3b6668f94ae.out Stage: virtual corrections + integrated dipole Status 16:   -7.6110e-11      9.61e-12    5.77e-01</pre>\n",
       "  </div>\n",
       "  <div class=\"enlighten-bar\">\n",
       "    <pre> ... ./output/b8f5e2d230c4b5b151b46ad30f3fa1203006000d1ea0c5180c37145679d2d362.out Stage: virtual corrections + integrated dipole Status 16:   -1.7541e-11      5.52e-12    5.65e-01</pre>\n",
       "  </div>\n",
       "  <div class=\"enlighten-bar\">\n",
       "    <pre> ... ./output/2d583357ad1efab6dff81c38b4ee2eece51327f2f8a38432dbf2fea5952eef4f.out Stage: virtual corrections + integrated dipole Status 16:   2.3506e-12      3.05e-12    2.06e-01</pre>\n",
       "  </div>\n",
       "  <div class=\"enlighten-bar\">\n",
       "    <pre> ... ./output/96038a6d026e20548c324bf645edb37f102f879d3497abe0638800ab65cae54e.out Stage: virtual corrections + integrated dipole Status 15:   6.3968e-12      2.24e-12    1.81e-02</pre>\n",
       "  </div>\n",
       "  <div class=\"enlighten-bar\">\n",
       "    <pre> ... ./output/b4ba00db1c28767d35dafa3284174bc1275d938b39a36aa25bc840566f333573.out Stage: virtual corrections + integrated dipole Status 15:   5.4005e-12      1.20e-12    3.75e-03</pre>\n",
       "  </div>\n",
       "</div>\n"
      ],
      "text/plain": [
       "<IPython.core.display.HTML object>"
      ]
     },
     "metadata": {},
     "output_type": "display_data"
    }
   ],
   "source": [
    "for run_plot in [False ]:\n",
    "    for scenario in [\"scenarioB.in\"]:\n",
    "        for lo_pdf,nlo_pdf in [(\"CT18NLO\",\"CT18NLO\")]:\n",
    "            for p in [2000002, 1000002]:\n",
    "                li = [hepi.Input(hepi.Order.NLO, 13000, p, 1000022, scenario, lo_pdf, nlo_pdf, 1., 1.,precision=0.001,max_iters=50)]\n",
    "\n",
    "                li = hepi.scan_invariant_mass(li, 4000, 15)\n",
    "                #li = hepi.seven_point_scan(li)\n",
    "\n",
    "                dl = rs.run(li, False, True)\n",
    "\n",
    "                if not run_plot:\n",
    "                    \n",
    "                    plot.data([],[],init=True)\n",
    "                    hepi.plot(dl, \"invariant_mass\", \"lo\", logy=False, label=\"lo\",xaxis=\"$M$\",yaxis=\"$d\\\\sigma/dM$ [pb/GeV]\")\n",
    "                    plot.show()\n",
    "                    hepi.plot(dl, \"invariant_mass\", \"nlo\", logy=False, label=\"nlo\",xaxis=\"$M$\",yaxis=\"$d\\\\sigma/dM$ [pb/GeV]\")\n",
    "                    plot.show()\n",
    "                    #hepi.plot(dl, \"invariant_mass\", \"nlo_plus_nll\", logy=False, label=\"nlo+nll\",xaxis=\"$M$\",yaxis=\"$d\\\\sigma/dM$ [pb/GeV]\")\n",
    "                    #plot.show()\n",
    "                    plt.savefig(input.get_output_dir() + \"inv_mass_\" + str(p) + \"_\" + str(nlo_pdf) + \"_\" +str(scenario) + \".pdf\")\n",
    "                                                                                                                                                            "
   ]
  },
  {
   "cell_type": "code",
   "execution_count": null,
   "metadata": {},
   "outputs": [],
   "source": []
  }
 ],
 "metadata": {
  "kernelspec": {
   "display_name": "Python 3",
   "language": "python",
   "name": "python3"
  },
  "language_info": {
   "codemirror_mode": {
    "name": "ipython",
    "version": 3
   },
   "file_extension": ".py",
   "mimetype": "text/x-python",
   "name": "python",
   "nbconvert_exporter": "python",
   "pygments_lexer": "ipython3",
   "version": "3.7.9"
  }
 },
 "nbformat": 4,
 "nbformat_minor": 4
}
