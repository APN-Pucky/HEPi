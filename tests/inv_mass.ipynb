{
 "cells": [
  {
   "cell_type": "code",
   "execution_count": 1,
   "metadata": {},
   "outputs": [
    {
     "name": "stdout",
     "output_type": "stream",
     "text": [
      "/opt/MG5_aMC_v2_7_0/\n",
      "~/git/resummino_ug_to_UX_vNLO/\n"
     ]
    }
   ],
   "source": [
    "import hepi\n",
    "import smpl\n",
    "import numpy as np\n",
    "import hepi.madgraph as mg\n",
    "import matplotlib.pyplot as plt\n",
    "import hepi.resummino as rs\n",
    "import time\n",
    "from smpl import plot\n",
    "print (mg.get_path())\n",
    "rs.set_path(\"~/git/resummino_ug_to_UX_vNLO/\")\n",
    "print (rs.get_path())"
   ]
  },
  {
   "cell_type": "code",
   "execution_count": 4,
   "metadata": {
    "scrolled": false
   },
   "outputs": [
    {
     "name": "stdout",
     "output_type": "stream",
     "text": [
      "3455.9592650009095\n",
      "Running: 147 jobs\n",
      "[4.002251e-08+/-3.2842209e-11 3.7351523e-08+/-3.0650414e-11\n",
      " 3.4601457e-08+/-2.8466513e-11 3.2292255e-08+/-2.6566739e-11\n",
      " 3.0276268e-08+/-2.4908194e-11 2.8175508e-08+/-2.3234736e-11\n",
      " 2.6416527e-08+/-2.1784205e-11 2.5059869e-08+/-2.0690091e-11\n",
      " 2.3396915e-08+/-1.9317112e-11 2.1562173e-08+/-1.7847173e-11\n",
      " 2.0131323e-08+/-1.6662848e-11 1.8881059e-08+/-1.5627995e-11\n",
      " 1.7487372e-08+/-1.4508012e-11 1.6401311e-08+/-1.3606985e-11\n",
      " 1.5774053e-08+/-1.3093637e-11 1.4732878e-08+/-1.2229384e-11\n",
      " 1.3508307e-08+/-1.1240827e-11 1.2616684e-08+/-1.049887e-11\n",
      " 1.1836921e-08+/-9.8499969e-12 1.0911704e-08+/-9.1010498e-12\n",
      " 1.0237315e-08+/-8.5385674e-12 9.9692735e-09+/-8.3130013e-12\n",
      " 9.3145322e-09+/-7.7670372e-12 8.4972619e-09+/-7.102039e-12\n",
      " 7.9391963e-09+/-6.6356059e-12 7.4507544e-09+/-6.2273646e-12\n",
      " 6.8364768e-09+/-5.7260667e-12 6.4158773e-09+/-5.3737828e-12\n",
      " 6.3188683e-09+/-5.2927319e-12 5.9058183e-09+/-4.9467581e-12\n",
      " 5.3607499e-09+/-4.5003575e-12 5.0103299e-09+/-4.2061794e-12\n",
      " 4.7034002e-09+/-3.9485114e-12 4.2957915e-09+/-3.6138726e-12\n",
      " 4.032634e-09+/-3.392489e-12 4.0125353e-09+/-3.3741184e-12\n",
      " 3.7514049e-09+/-3.1545353e-12 3.3883371e-09+/-2.8555536e-12\n",
      " 3.1678287e-09+/-2.6697181e-12 2.9745603e-09+/-2.5068393e-12\n",
      " 2.7044176e-09+/-2.2838654e-12 2.5394218e-09+/-2.1445274e-12\n",
      " 2.5502074e-09+/-2.1519621e-12 2.3849366e-09+/-2.0125003e-12\n",
      " 2.1435509e-09+/-1.8127498e-12 2.0046342e-09+/-1.6952713e-12\n",
      " 1.882813e-09+/-1.59225e-12 1.7041241e-09+/-1.4440644e-12\n",
      " 1.6005648e-09+/-1.3563089e-12 1.6207421e-09+/-1.3722437e-12\n",
      " 1.5161225e-09+/-1.2836648e-12 1.3560369e-09+/-1.1505904e-12\n",
      " 1.2685041e-09+/-1.0763192e-12 1.1917107e-09+/-1.0111604e-12\n",
      " 1.0738187e-09+/-9.1294756e-13 1.0088113e-09+/-8.5767905e-13\n",
      " 1.0291093e-09+/-8.7389797e-13 9.6292964e-10+/-8.176996e-13\n",
      " 8.5709074e-10+/-7.2936293e-13 8.019732e-10+/-6.8245928e-13\n",
      " 7.5360171e-10+/-6.4129634e-13 6.7606899e-10+/-5.7644936e-13\n",
      " 6.3529149e-10+/-5.4168047e-13 6.5231841e-10+/-5.5551766e-13\n",
      " 6.1052156e-10+/-5.1992326e-13 5.4081364e-10+/-4.6151729e-13\n",
      " 5.0616138e-10+/-4.3194589e-13 4.7573946e-10+/-4.0598456e-13\n",
      " 4.2493721e-10+/-3.6333197e-13 3.9939712e-10+/-3.4149455e-13\n",
      " 4.1244607e-10+/-3.5214387e-13 3.8611185e-10+/-3.2965988e-13\n",
      " 3.404042e-10+/-2.9123317e-13 3.1866977e-10+/-2.7263826e-13\n",
      " 2.9958115e-10+/-2.5630696e-13 2.6643544e-10+/-2.2838929e-13\n",
      " 2.504757e-10+/-2.1470855e-13 2.5992064e-10+/-2.2245039e-13\n",
      " 2.433817e-10+/-2.0829571e-13 2.1356291e-10+/-1.8314916e-13\n",
      " 1.9997375e-10+/-1.7149524e-13 1.880337e-10+/-1.6125559e-13\n",
      " 1.665138e-10+/-1.430706e-13 1.5657158e-10+/-1.3452813e-13\n",
      " 1.6313615e-10+/-1.3992906e-13 1.5279019e-10+/-1.3105487e-13\n",
      " 1.3344781e-10+/-1.146932e-13 1.2498466e-10+/-1.0741945e-13\n",
      " 1.1754511e-10+/-1.0102544e-13 1.0365023e-10+/-8.9249747e-14\n",
      " 9.7480579e-11+/-8.3937268e-14 1.0189816e-10+/-8.7575198e-14\n",
      " 9.5456705e-11+/-8.2039167e-14 8.2989004e-11+/-7.1465534e-14\n",
      " 7.7742887e-11+/-6.6947869e-14 7.3129053e-11+/-6.2974691e-14\n",
      " 6.421245e-11+/-5.5398872e-14 6.0401612e-11+/-5.2111096e-14\n",
      " 6.3292861e-11+/-5.4495728e-14 5.9304235e-11+/-5.1061485e-14\n",
      " 5.1322951e-11+/-4.4276601e-14 4.8088652e-11+/-4.1486353e-14\n",
      " 4.5242848e-11+/-3.9031261e-14 3.9559878e-11+/-3.4191534e-14\n",
      " 3.7218792e-11+/-3.2168137e-14 3.9064019e-11+/-3.3688366e-14\n",
      " 3.6609602e-11+/-3.1571704e-14 3.1538772e-11+/-2.7251898e-14\n",
      " 2.9557171e-11+/-2.5539644e-14 2.7812824e-11+/-2.4032395e-14\n",
      " 2.4217896e-11+/-2.0964805e-14 2.2788651e-11+/-1.9727546e-14\n",
      " 2.3937508e-11+/-2.0673733e-14 2.2437818e-11+/-1.9378519e-14\n",
      " 1.9242669e-11+/-1.6651422e-14 1.8037111e-11+/-1.5608207e-14\n",
      " 1.6975445e-11+/-1.4689506e-14 1.4720008e-11+/-1.2761163e-14\n",
      " 1.3853587e-11+/-1.201004e-14 1.4550921e-11+/-1.2583977e-14\n",
      " 1.3641826e-11+/-1.179777e-14 1.1646672e-11+/-1.0092307e-14\n",
      " 1.0919025e-11+/-9.4617716e-15 1.0277968e-11+/-8.9062702e-15\n",
      " 8.8756044e-12+/-7.705343e-15 8.3545169e-12+/-7.2529616e-15\n",
      " 8.7664171e-12+/-7.5872322e-15 8.2201816e-12+/-7.1144718e-15\n",
      " 6.9865527e-12+/-6.058759e-15 6.5512206e-12+/-5.6812378e-15\n",
      " 6.1675446e-12+/-5.3485129e-15 5.3041147e-12+/-4.6082919e-15\n",
      " 4.9934762e-12+/-4.3384046e-15 5.229546e-12+/-4.5297434e-15\n",
      " 4.9045334e-12+/-4.248223e-15 4.1499007e-12+/-3.6015446e-15\n",
      " 3.8919873e-12+/-3.3777111e-15 3.6645933e-12+/-3.1803643e-15\n",
      " 3.1386388e-12+/-2.7288812e-15 2.95526e-12+/-2.569443e-15\n",
      " 3.0858322e-12+/-2.6754564e-15 2.894528e-12+/-2.5095931e-15\n",
      " 2.4382669e-12+/-2.118122e-15 2.287108e-12+/-1.9868103e-15\n",
      " 2.1537887e-12+/-1.8709958e-15 1.8371174e-12+/-1.5988307e-15\n",
      " 1.7300287e-12+/-1.5056322e-15]\n",
      "[None None None 3.32195185e-08+/-6.802991500000002e-09 None None None None\n",
      " None None 2.0730589999999997e-08+/-4.329279e-09 None None None None None\n",
      " None 1.3005684e-08+/-2.7683689999999997e-09 None None None None None None\n",
      " 8.1925754e-09+/-1.7766980999999997e-09 None None None None None None\n",
      " 5.17575115e-09+/-1.14311715e-09 None None None None None None\n",
      " 3.27597855e-09+/-7.3655675e-10 None None None None None None\n",
      " 2.0753861000000002e-09+/-4.748213e-10 None None None None None None\n",
      " 1.3147767e-09+/-3.059654e-10 None None None None None None\n",
      " 8.322003949999999e-10+/-1.9690890499999998e-10 None None None None None\n",
      " None 5.25857765e-10+/-1.2646064500000003e-10 None None None None None\n",
      " None 3.3146088499999997e-10+/-8.098518499999998e-11 None None None None\n",
      " None None 2.0824610999999997e-10+/-5.167452999999999e-11 None None None\n",
      " None None None 1.3030836450000002e-10+/-3.28277855e-11 None None None\n",
      " None None None 8.1149886e-11+/-2.0748273999999998e-11 None None None None\n",
      " None None 5.0255826499999994e-11+/-1.3037034499999998e-11 None None None\n",
      " None None None 3.0926334999999994e-11+/-8.137684e-12 None None None None\n",
      " None None 1.88955475e-11+/-5.0419604999999995e-12 None None None None\n",
      " None None 1.1452718949999999e-11+/-3.0982020499999994e-12 None None None\n",
      " None None None 6.8799466500000005e-12+/-1.8864704500000004e-12 None None\n",
      " None None None None 4.092403e-12+/-1.1371429999999999e-12 None None None\n",
      " None None None 2.40793045e-12+/-6.779017500000001e-13 None None None]\n"
     ]
    },
    {
     "ename": "ValueError",
     "evalue": "Array must not contain infs or nans.",
     "output_type": "error",
     "traceback": [
      "\u001b[0;31m---------------------------------------------------------------------------\u001b[0m",
      "\u001b[0;31mValueError\u001b[0m                                Traceback (most recent call last)",
      "\u001b[0;32m<ipython-input-4-047aaee2da9c>\u001b[0m in \u001b[0;36m<module>\u001b[0;34m\u001b[0m\n\u001b[1;32m     15\u001b[0m                     \u001b[0mprint\u001b[0m\u001b[0;34m(\u001b[0m\u001b[0mdl\u001b[0m\u001b[0;34m[\u001b[0m\u001b[0;34m\"lo_scale\"\u001b[0m\u001b[0;34m]\u001b[0m\u001b[0;34m)\u001b[0m\u001b[0;34m\u001b[0m\u001b[0;34m\u001b[0m\u001b[0m\n\u001b[1;32m     16\u001b[0m                     \u001b[0mplot\u001b[0m\u001b[0;34m.\u001b[0m\u001b[0mdata\u001b[0m\u001b[0;34m(\u001b[0m\u001b[0;34m[\u001b[0m\u001b[0;34m]\u001b[0m\u001b[0;34m,\u001b[0m\u001b[0;34m[\u001b[0m\u001b[0;34m]\u001b[0m\u001b[0;34m,\u001b[0m\u001b[0minit\u001b[0m\u001b[0;34m=\u001b[0m\u001b[0;32mTrue\u001b[0m\u001b[0;34m)\u001b[0m\u001b[0;34m\u001b[0m\u001b[0;34m\u001b[0m\u001b[0m\n\u001b[0;32m---> 17\u001b[0;31m                     \u001b[0mhepi\u001b[0m\u001b[0;34m.\u001b[0m\u001b[0mplot\u001b[0m\u001b[0;34m(\u001b[0m\u001b[0mdl\u001b[0m\u001b[0;34m,\u001b[0m \u001b[0;34m\"invariant_mass\"\u001b[0m\u001b[0;34m,\u001b[0m \u001b[0;34m\"lo_scale\"\u001b[0m\u001b[0;34m,\u001b[0m \u001b[0mlogy\u001b[0m\u001b[0;34m=\u001b[0m\u001b[0;32mFalse\u001b[0m\u001b[0;34m,\u001b[0m \u001b[0mlabel\u001b[0m\u001b[0;34m=\u001b[0m\u001b[0;34m\"lo\"\u001b[0m\u001b[0;34m,\u001b[0m\u001b[0mxaxis\u001b[0m\u001b[0;34m=\u001b[0m\u001b[0;34m\"$M$\"\u001b[0m\u001b[0;34m,\u001b[0m\u001b[0myaxis\u001b[0m\u001b[0;34m=\u001b[0m\u001b[0;34m\"$d\\\\sigma/dM$ [pb/GeV]\"\u001b[0m\u001b[0;34m)\u001b[0m\u001b[0;34m\u001b[0m\u001b[0;34m\u001b[0m\u001b[0m\n\u001b[0m\u001b[1;32m     18\u001b[0m                     \u001b[0;31m#plot.show()\u001b[0m\u001b[0;34m\u001b[0m\u001b[0;34m\u001b[0m\u001b[0;34m\u001b[0m\u001b[0m\n\u001b[1;32m     19\u001b[0m                     \u001b[0;31m#hepi.plot(dl, \"invariant_mass\", \"nlo\", logy=False, label=\"nlo\",xaxis=\"$M$\",yaxis=\"$d\\\\sigma/dM$ [pb/GeV]\")\u001b[0m\u001b[0;34m\u001b[0m\u001b[0;34m\u001b[0m\u001b[0;34m\u001b[0m\u001b[0m\n",
      "\u001b[0;32m~/.local/lib/python3.7/site-packages/hepi/plot.py\u001b[0m in \u001b[0;36mplot\u001b[0;34m(dict_list, x, y, label, xaxis, yaxis, ratio, K, K_plus_1, logy, yscale, mask, **kwargs)\u001b[0m\n\u001b[1;32m    138\u001b[0m \u001b[0;34m\u001b[0m\u001b[0m\n\u001b[1;32m    139\u001b[0m \u001b[0;34m\u001b[0m\u001b[0m\n\u001b[0;32m--> 140\u001b[0;31m     \u001b[0mvplot\u001b[0m\u001b[0;34m(\u001b[0m\u001b[0mvx\u001b[0m\u001b[0;34m,\u001b[0m \u001b[0mvy\u001b[0m\u001b[0;34m,\u001b[0m \u001b[0mlabel\u001b[0m\u001b[0;34m,\u001b[0m \u001b[0mxaxis\u001b[0m\u001b[0;34m,\u001b[0m \u001b[0myaxis\u001b[0m\u001b[0;34m,\u001b[0m \u001b[0mlogy\u001b[0m\u001b[0;34m,\u001b[0m \u001b[0myscale\u001b[0m\u001b[0;34m,\u001b[0m\u001b[0mmask\u001b[0m\u001b[0;34m=\u001b[0m\u001b[0mmask\u001b[0m\u001b[0;34m,\u001b[0m\u001b[0;34m**\u001b[0m\u001b[0mkwargs\u001b[0m\u001b[0;34m)\u001b[0m\u001b[0;34m\u001b[0m\u001b[0;34m\u001b[0m\u001b[0m\n\u001b[0m\u001b[1;32m    141\u001b[0m \u001b[0;34m\u001b[0m\u001b[0m\n\u001b[1;32m    142\u001b[0m \u001b[0;32mdef\u001b[0m \u001b[0mindex_open\u001b[0m\u001b[0;34m(\u001b[0m\u001b[0mvar\u001b[0m\u001b[0;34m,\u001b[0m\u001b[0midx\u001b[0m\u001b[0;34m)\u001b[0m\u001b[0;34m:\u001b[0m\u001b[0;34m\u001b[0m\u001b[0;34m\u001b[0m\u001b[0m\n",
      "\u001b[0;32m~/.local/lib/python3.7/site-packages/hepi/plot.py\u001b[0m in \u001b[0;36mvplot\u001b[0;34m(x, y, label, xaxis, yaxis, logy, yscale, interpolate, plot_data, data_color, mask, fill, data_fmt, fmt, **kwargs)\u001b[0m\n\u001b[1;32m    172\u001b[0m         \u001b[0;31m#print(vx,vy)\u001b[0m\u001b[0;34m\u001b[0m\u001b[0;34m\u001b[0m\u001b[0;34m\u001b[0m\u001b[0m\n\u001b[1;32m    173\u001b[0m         spl = make_interp_spline(\n\u001b[0;32m--> 174\u001b[0;31m             vx, splot.unv(vy), k=3)  # type: BSpline\n\u001b[0m\u001b[1;32m    175\u001b[0m         \u001b[0mpower_smooth\u001b[0m \u001b[0;34m=\u001b[0m \u001b[0mspl\u001b[0m\u001b[0;34m(\u001b[0m\u001b[0mxnew\u001b[0m\u001b[0;34m)\u001b[0m\u001b[0;34m\u001b[0m\u001b[0;34m\u001b[0m\u001b[0m\n\u001b[1;32m    176\u001b[0m     \u001b[0;32mif\u001b[0m \u001b[0mfill\u001b[0m\u001b[0;34m:\u001b[0m\u001b[0;34m\u001b[0m\u001b[0;34m\u001b[0m\u001b[0m\n",
      "\u001b[0;32m/usr/lib/python3.7/site-packages/scipy/interpolate/_bsplines.py\u001b[0m in \u001b[0;36mmake_interp_spline\u001b[0;34m(x, y, k, t, bc_type, axis, check_finite)\u001b[0m\n\u001b[1;32m    762\u001b[0m \u001b[0;34m\u001b[0m\u001b[0m\n\u001b[1;32m    763\u001b[0m     \u001b[0mx\u001b[0m \u001b[0;34m=\u001b[0m \u001b[0m_as_float_array\u001b[0m\u001b[0;34m(\u001b[0m\u001b[0mx\u001b[0m\u001b[0;34m,\u001b[0m \u001b[0mcheck_finite\u001b[0m\u001b[0;34m)\u001b[0m\u001b[0;34m\u001b[0m\u001b[0;34m\u001b[0m\u001b[0m\n\u001b[0;32m--> 764\u001b[0;31m     \u001b[0my\u001b[0m \u001b[0;34m=\u001b[0m \u001b[0m_as_float_array\u001b[0m\u001b[0;34m(\u001b[0m\u001b[0my\u001b[0m\u001b[0;34m,\u001b[0m \u001b[0mcheck_finite\u001b[0m\u001b[0;34m)\u001b[0m\u001b[0;34m\u001b[0m\u001b[0;34m\u001b[0m\u001b[0m\n\u001b[0m\u001b[1;32m    765\u001b[0m     \u001b[0mk\u001b[0m \u001b[0;34m=\u001b[0m \u001b[0moperator\u001b[0m\u001b[0;34m.\u001b[0m\u001b[0mindex\u001b[0m\u001b[0;34m(\u001b[0m\u001b[0mk\u001b[0m\u001b[0;34m)\u001b[0m\u001b[0;34m\u001b[0m\u001b[0;34m\u001b[0m\u001b[0m\n\u001b[1;32m    766\u001b[0m \u001b[0;34m\u001b[0m\u001b[0m\n",
      "\u001b[0;32m/usr/lib/python3.7/site-packages/scipy/interpolate/_bsplines.py\u001b[0m in \u001b[0;36m_as_float_array\u001b[0;34m(x, check_finite)\u001b[0m\n\u001b[1;32m     31\u001b[0m     \u001b[0mx\u001b[0m \u001b[0;34m=\u001b[0m \u001b[0mx\u001b[0m\u001b[0;34m.\u001b[0m\u001b[0mastype\u001b[0m\u001b[0;34m(\u001b[0m\u001b[0mdtyp\u001b[0m\u001b[0;34m,\u001b[0m \u001b[0mcopy\u001b[0m\u001b[0;34m=\u001b[0m\u001b[0;32mFalse\u001b[0m\u001b[0;34m)\u001b[0m\u001b[0;34m\u001b[0m\u001b[0;34m\u001b[0m\u001b[0m\n\u001b[1;32m     32\u001b[0m     \u001b[0;32mif\u001b[0m \u001b[0mcheck_finite\u001b[0m \u001b[0;32mand\u001b[0m \u001b[0;32mnot\u001b[0m \u001b[0mnp\u001b[0m\u001b[0;34m.\u001b[0m\u001b[0misfinite\u001b[0m\u001b[0;34m(\u001b[0m\u001b[0mx\u001b[0m\u001b[0;34m)\u001b[0m\u001b[0;34m.\u001b[0m\u001b[0mall\u001b[0m\u001b[0;34m(\u001b[0m\u001b[0;34m)\u001b[0m\u001b[0;34m:\u001b[0m\u001b[0;34m\u001b[0m\u001b[0;34m\u001b[0m\u001b[0m\n\u001b[0;32m---> 33\u001b[0;31m         \u001b[0;32mraise\u001b[0m \u001b[0mValueError\u001b[0m\u001b[0;34m(\u001b[0m\u001b[0;34m\"Array must not contain infs or nans.\"\u001b[0m\u001b[0;34m)\u001b[0m\u001b[0;34m\u001b[0m\u001b[0;34m\u001b[0m\u001b[0m\n\u001b[0m\u001b[1;32m     34\u001b[0m     \u001b[0;32mreturn\u001b[0m \u001b[0mx\u001b[0m\u001b[0;34m\u001b[0m\u001b[0;34m\u001b[0m\u001b[0m\n\u001b[1;32m     35\u001b[0m \u001b[0;34m\u001b[0m\u001b[0m\n",
      "\u001b[0;31mValueError\u001b[0m: Array must not contain infs or nans."
     ]
    },
    {
     "data": {
      "image/png": "[encoded data removed]",
      "text/plain": [
       "<Figure size 432x288 with 1 Axes>"
      ]
     },
     "metadata": {
      "needs_background": "light"
     },
     "output_type": "display_data"
    }
   ],
   "source": [
    "for run_plot in [False ]:\n",
    "    for scenario in [\"scenarioB_mod.in\",\"scenarioA.in\"]:\n",
    "        for lo_pdf,nlo_pdf in [(\"CT18NLO\",\"CT18NLO\")]:\n",
    "            for p in [2000002, 1000002]:\n",
    "                li = [hepi.Input(hepi.Order.LO, 13000, p, 1000022, scenario, lo_pdf, nlo_pdf, 1., 1.,precision=0.1,id=\"_\")]\n",
    "\n",
    "                li = hepi.scan_invariant_mass(li, 4000, 20+1,low=2000)\n",
    "                print(li[0].invariant_mass)\n",
    "                li = hepi.seven_point_scan(li)\n",
    "\n",
    "                dl = rs.run(li, True, False)\n",
    "                print(dl[\"lo\"])\n",
    "                if not run_plot:\n",
    "                    dl = hepi.scale_error(li,dl)\n",
    "                    print(dl[\"lo_scale\"])\n",
    "                    plot.data([],[],init=True)\n",
    "                    hepi.plot(dl, \"invariant_mass\", \"lo_scale\", logy=False, label=\"lo\",xaxis=\"$M$\",yaxis=\"$d\\\\sigma/dM$ [pb/GeV]\")\n",
    "                    #plot.show()\n",
    "                    #hepi.plot(dl, \"invariant_mass\", \"nlo\", logy=False, label=\"nlo\",xaxis=\"$M$\",yaxis=\"$d\\\\sigma/dM$ [pb/GeV]\")\n",
    "                    plot.show()\n",
    "                    #hepi.plot(dl, \"invariant_mass\", \"nlo_plus_nll\", logy=False, label=\"nlo+nll\",xaxis=\"$M$\",yaxis=\"$d\\\\sigma/dM$ [pb/GeV]\")\n",
    "                    #plot.show()\n",
    "                    #plt.savefig(input.get_output_dir() + \"inv_mass_\" + str(p) + \"_\" + str(nlo_pdf) + \"_\" +str(scenario) + \".pdf\")\n",
    "                                                                                                                                                            "
   ]
  },
  {
   "cell_type": "code",
   "execution_count": 5,
   "metadata": {},
   "outputs": [
    {
     "name": "stdout",
     "output_type": "stream",
     "text": [
      "2862.3316600000003\n",
      "Running: 15 jobs\n"
     ]
    },
    {
     "data": {
      "text/html": [
       "<style>\n",
       "</style>\n",
       "<div class=\"enlighten\">\n",
       "  <div class=\"enlighten-bar\">\n",
       "    <pre>./output/a02fa755223f429982111761c9adeeb1f90f77d2b18e4f3301bcf1a580a690f9.out                       </pre>\n",
       "  </div>\n",
       "  <div class=\"enlighten-bar\">\n",
       "    <pre> ... ./output/a02fa755223f429982111761c9adeeb1f90f77d2b18e4f3301bcf1a580a690f9.out Stage: DONE Status DONE:</pre>\n",
       "  </div>\n",
       "  <div class=\"enlighten-bar\">\n",
       "    <pre> ... ./output/bf00d7744142829bdc2baf7ff867b222e45fedb46a9aa59a63f40d896fc5fcf9.out Stage: DONE Status DONE:</pre>\n",
       "  </div>\n",
       "  <div class=\"enlighten-bar\">\n",
       "    <pre> ... ./output/5579572c45c21f82a785e30d53591d2365b448c4dc6dccf082331465a0ca5155.out Stage: DONE Status DONE:</pre>\n",
       "  </div>\n",
       "  <div class=\"enlighten-bar\">\n",
       "    <pre> ... ./output/2bac51fd71ede7ad5f8346643cae1ca60dddc23bae59f9495c9dfa30a1709274.out Stage: DONE Status DONE:</pre>\n",
       "  </div>\n",
       "  <div class=\"enlighten-bar\">\n",
       "    <pre> ... ./output/13f9736059083749ca11a3e000965f23d27d33284f97374030c2a48a7e9e300b.out Stage: DONE Status DONE:</pre>\n",
       "  </div>\n",
       "  <div class=\"enlighten-bar\">\n",
       "    <pre> ... ./output/664e45de9014ab3e266f2f104f9a73a0534e964d43fdcf7e93156a8a5f78e9a0.out Stage: DONE Status DONE:</pre>\n",
       "  </div>\n",
       "  <div class=\"enlighten-bar\">\n",
       "    <pre> ... ./output/5d0841c0572970cb8b597bef650783c47006272a5d72a8eae150f75770feaa09.out Stage: DONE Status DONE:</pre>\n",
       "  </div>\n",
       "  <div class=\"enlighten-bar\">\n",
       "    <pre> ... ./output/85431559499210625cbc7298fbe634016c404b71a3513e813e6810cefeb75805.out Stage: DONE Status DONE:</pre>\n",
       "  </div>\n",
       "  <div class=\"enlighten-bar\">\n",
       "    <pre> ... ./output/4c7fcada90ebbcff0249e441927ef9639c5ee76526fa4613a0ef973ba9bb34b8.out Stage: DONE Status DONE:</pre>\n",
       "  </div>\n",
       "  <div class=\"enlighten-bar\">\n",
       "    <pre> ... ./output/080c5676f2620d24dc362c5e6afb64b544ceabc509b2eef210ed418df0c5c6a4.out Stage: DONE Status DONE:</pre>\n",
       "  </div>\n",
       "  <div class=\"enlighten-bar\">\n",
       "    <pre> ... ./output/023fc2f0e147593645255063cf77bc3cc4635fb688eb63da87fbe3758e1cd748.out Stage: DONE Status DONE:</pre>\n",
       "  </div>\n",
       "  <div class=\"enlighten-bar\">\n",
       "    <pre> ... ./output/deeaae8337a1ff3bc0550097b4eac4683b507afbd0743e226097d39a1ed9b1e9.out Stage: DONE Status DONE:</pre>\n",
       "  </div>\n",
       "  <div class=\"enlighten-bar\">\n",
       "    <pre> ... ./output/9ae6a9b052d5ccb261cb4861bf69adfe61fe8d280d495309565f6632fe4d74c9.out Stage: DONE Status DONE:</pre>\n",
       "  </div>\n",
       "  <div class=\"enlighten-bar\">\n",
       "    <pre> ... ./output/965866fba4ff80030b75c6fc380658bc72ec74f54f85634922955d2cde085c4d.out Stage: DONE Status DONE:</pre>\n",
       "  </div>\n",
       "  <div class=\"enlighten-bar\">\n",
       "    <pre> ... ./output/084614f1ddb4e84d1a3fdd88f77356fa08e6829eee3187535237949efaa34d3d.out Stage: DONE Status DONE:</pre>\n",
       "  </div>\n",
       "</div>\n"
      ],
      "text/plain": [
       "<IPython.core.display.HTML object>"
      ]
     },
     "metadata": {},
     "output_type": "display_data"
    },
    {
     "data": {
      "image/png": "[encoded data removed]",
      "text/plain": [
       "<Figure size 432x288 with 1 Axes>"
      ]
     },
     "metadata": {
      "needs_background": "light"
     },
     "output_type": "display_data"
    },
    {
     "ename": "AttributeError",
     "evalue": "'function' object has no attribute 'get_output_dir'",
     "output_type": "error",
     "traceback": [
      "\u001b[0;31m--------------------------\u001b[0m",
      "\u001b[0;31mAttributeError\u001b[0mTraceback (most recent call last)",
      "\u001b[0;32m<ipython-input-5-0113faddab44>\u001b[0m in \u001b[0;36m<module>\u001b[0;34m\u001b[0m\n\u001b[1;32m     20\u001b[0m                     \u001b[0;31m#hepi.plot(dl, \"invariant_mass\", \"nlo_plus_nll\", logy=False, label=\"nlo+nll\",xaxis=\"$M$\",yaxis=\"$d\\\\sigma/dM$ [pb/GeV]\")\u001b[0m\u001b[0;34m\u001b[0m\u001b[0;34m\u001b[0m\u001b[0;34m\u001b[0m\u001b[0m\n\u001b[1;32m     21\u001b[0m                     \u001b[0;31m#plot.show()\u001b[0m\u001b[0;34m\u001b[0m\u001b[0;34m\u001b[0m\u001b[0;34m\u001b[0m\u001b[0m\n\u001b[0;32m---> 22\u001b[0;31m                     \u001b[0mplt\u001b[0m\u001b[0;34m.\u001b[0m\u001b[0msavefig\u001b[0m\u001b[0;34m(\u001b[0m\u001b[0minput\u001b[0m\u001b[0;34m.\u001b[0m\u001b[0mget_output_dir\u001b[0m\u001b[0;34m(\u001b[0m\u001b[0;34m)\u001b[0m \u001b[0;34m+\u001b[0m \u001b[0;34m\"inv_mass_\"\u001b[0m \u001b[0;34m+\u001b[0m \u001b[0mstr\u001b[0m\u001b[0;34m(\u001b[0m\u001b[0mp\u001b[0m\u001b[0;34m)\u001b[0m \u001b[0;34m+\u001b[0m \u001b[0;34m\"_\"\u001b[0m \u001b[0;34m+\u001b[0m \u001b[0mstr\u001b[0m\u001b[0;34m(\u001b[0m\u001b[0mnlo_pdf\u001b[0m\u001b[0;34m)\u001b[0m \u001b[0;34m+\u001b[0m \u001b[0;34m\"_\"\u001b[0m \u001b[0;34m+\u001b[0m\u001b[0mstr\u001b[0m\u001b[0;34m(\u001b[0m\u001b[0mscenario\u001b[0m\u001b[0;34m)\u001b[0m \u001b[0;34m+\u001b[0m \u001b[0;34m\".pdf\"\u001b[0m\u001b[0;34m)\u001b[0m\u001b[0;34m\u001b[0m\u001b[0;34m\u001b[0m\u001b[0m\n\u001b[0m\u001b[1;32m     23\u001b[0m \u001b[0;34m\u001b[0m\u001b[0m\n",
      "\u001b[0;31mAttributeError\u001b[0m: 'function' object has no attribute 'get_output_dir'"
     ]
    }
   ],
   "source": [
    "for run_plot in [False ]:\n",
    "    for scenario in [\"scenarioB.in\"]:\n",
    "        for lo_pdf,nlo_pdf in [(\"CT18NLO\",\"CT18NLO\")]:\n",
    "            for p in [1000021]:\n",
    "                li = [hepi.Input(hepi.Order.NLO, 13000, p, 1000022, scenario, lo_pdf, nlo_pdf, 1., 1.,precision=0.1)]\n",
    "\n",
    "                li = hepi.scan_invariant_mass(li, 3000, 15)\n",
    "                print(li[0].invariant_mass)\n",
    "                #li = hepi.seven_point_scan(li)\n",
    "\n",
    "                dl = rs.run(li, False, True)\n",
    "\n",
    "                if not run_plot:\n",
    "                    \n",
    "                    plot.data([],[],init=True)\n",
    "                    hepi.plot(dl, \"invariant_mass\", \"lo\", logy=False, label=\"lo\",xaxis=\"$M$\",yaxis=\"$d\\\\sigma/dM$ [pb/GeV]\")\n",
    "                    #plot.show()\n",
    "                    hepi.plot(dl, \"invariant_mass\", \"nlo\", logy=False, label=\"nlo\",xaxis=\"$M$\",yaxis=\"$d\\\\sigma/dM$ [pb/GeV]\")\n",
    "                    plot.show()\n",
    "                    #hepi.plot(dl, \"invariant_mass\", \"nlo_plus_nll\", logy=False, label=\"nlo+nll\",xaxis=\"$M$\",yaxis=\"$d\\\\sigma/dM$ [pb/GeV]\")\n",
    "                    #plot.show()\n",
    "                    #plt.savefig(input.get_output_dir() + \"inv_mass_\" + str(p) + \"_\" + str(nlo_pdf) + \"_\" +str(scenario) + \".pdf\")\n",
    "                                                                                                                                                            "
   ]
  },
  {
   "cell_type": "code",
   "execution_count": null,
   "metadata": {},
   "outputs": [],
   "source": []
  }
 ],
 "metadata": {
  "kernelspec": {
   "display_name": "Python 3",
   "language": "python",
   "name": "python3"
  },
  "language_info": {
   "codemirror_mode": {
    "name": "ipython",
    "version": 3
   },
   "file_extension": ".py",
   "mimetype": "text/x-python",
   "name": "python",
   "nbconvert_exporter": "python",
   "pygments_lexer": "ipython3",
   "version": "3.7.9"
  }
 },
 "nbformat": 4,
 "nbformat_minor": 4
}
