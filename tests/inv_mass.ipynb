{
 "cells": [
  {
   "cell_type": "code",
   "execution_count": 1,
   "metadata": {},
   "outputs": [
    {
     "name": "stdout",
     "output_type": "stream",
     "text": [
      "/opt/MG5_aMC_v2_7_0/\n",
      "~/git/resummino_ug_to_UX_vNLO/\n"
     ]
    }
   ],
   "source": [
    "import hepi\n",
    "import smpl\n",
    "import numpy as np\n",
    "import hepi.madgraph as mg\n",
    "import matplotlib.pyplot as plt\n",
    "import hepi.resummino as rs\n",
    "import time\n",
    "print (mg.get_path())\n",
    "rs.set_path(\"~/git/resummino_ug_to_UX_vNLO/\")\n",
    "print (rs.get_path())"
   ]
  },
  {
   "cell_type": "code",
   "execution_count": 2,
   "metadata": {},
   "outputs": [
    {
     "name": "stdout",
     "output_type": "stream",
     "text": [
      "2210.1591106666665\n",
      "Running: 15 jobs\n",
      "RESTART (2.5240+/-0.0009)e-10 None None ./output/5098d46a54d0701dc3d0eac385e9048ead701c6eeab7d54255eb7fad1fffd85c.out\n",
      "RESTART (1.4572+/-0.0005)e-10 None None ./output/18d4a52c4ea055e8a5546a3dc6c57b3839b58ad19e220ad89335825df029405d.out\n",
      "RESTART (7.7210+/-0.0027)e-11 None None ./output/7c6133684972041cd967e3d115235cb2814d16cac074c8d9b575043d1c7f7e7a.out\n",
      "RESTART (4.0337+/-0.0014)e-11 None None ./output/69d1e84545e328ca052de4f0abac34f3e00910fba4f7f34fd5184bd18e9cb6ae.out\n",
      "RESTART (2.1131+/-0.0007)e-11 None None ./output/7e92f9d8b2daf49412442de03353f129836f44faf07977101a13fb973896517e.out\n",
      "RESTART (1.1147+/-0.0004)e-11 None None ./output/401c309c6f7b055a9c4656689cfbffb2e5a70c2727b70371de85bdb116aa56c8.out\n",
      "RESTART (5.9231+/-0.0021)e-12 None None ./output/9b7cda9dea72fc0f0b3aedb152a4e6ee2800500f89e5292bb0b8a8d2a34d8525.out\n",
      "RESTART (3.1665+/-0.0011)e-12 None None ./output/d43ae156ad44aa78a5921dab0dbcebbc4e6df6d16fa6b78ef33ec6dd75fecf6c.out\n",
      "RESTART (1.7002+/-0.0006)e-12 None None ./output/718872fb59c12398485d81e71c7bb4e1330844864aa9d089be31c1357baf366e.out\n",
      "RESTART (9.1515+/-0.0033)e-13 None None ./output/5b02dc5c48586ffee9c060cc2e125594b76685ff64e7c4cbc6f4205e5a56fa98.out\n",
      "RESTART (4.9284+/-0.0018)e-13 None None ./output/bc6b60d03683cf4bb5e505718629be58b0c5978e6a95ae1500ef058fb3b2e91c.out\n",
      "RESTART (2.6505+/-0.0010)e-13 None None ./output/76557e43547c5445fa234d13e6c041b6daf023de94a39d51a4df76007de467af.out\n",
      "RESTART (1.4210+/-0.0005)e-13 None None ./output/2916c5b1794f8bb9665fa753d8fb0f224a513812cbb413f4a1869abd2e046a0a.out\n",
      "RESTART (7.5798+/-0.0028)e-14 None None ./output/107f1213ab6a440b63173033fb9f76c18724a64e9725cf6446344af6dc089119.out\n",
      "RESTART (4.0158+/-0.0015)e-14 None None ./output/b4ba00db1c28767d35dafa3284174bc1275d938b39a36aa25bc840566f333573.out\n"
     ]
    },
    {
     "data": {
      "text/html": [
       "<style>\n",
       "</style>\n",
       "<div class=\"enlighten\">\n",
       "  <div class=\"enlighten-bar\">\n",
       "    <pre>./output/5098d46a54d0701dc3d0eac385e9048ead701c6eeab7d54255eb7fad1fffd85c.out                       </pre>\n",
       "  </div>\n",
       "  <div class=\"enlighten-bar\">\n",
       "    <pre> ... ./output/5098d46a54d0701dc3d0eac385e9048ead701c6eeab7d54255eb7fad1fffd85c.out Stage: real light quark emission - dipole - (onshell) Status 58:   5.4148e-08      1.31e-09    9.50e-01</pre>\n",
       "  </div>\n",
       "  <div class=\"enlighten-bar\">\n",
       "    <pre> ... ./output/18d4a52c4ea055e8a5546a3dc6c57b3839b58ad19e220ad89335825df029405d.out Stage: real light quark emission - dipole - (onshell) Status 57:   3.1509e-08      1.04e-09    9.55e-01</pre>\n",
       "  </div>\n",
       "  <div class=\"enlighten-bar\">\n",
       "    <pre> ... ./output/7c6133684972041cd967e3d115235cb2814d16cac074c8d9b575043d1c7f7e7a.out Stage: real light quark emission - dipole - (onshell) Status 57:   1.2335e-08      7.20e-10    8.29e-01</pre>\n",
       "  </div>\n",
       "  <div class=\"enlighten-bar\">\n",
       "    <pre> ... ./output/69d1e84545e328ca052de4f0abac34f3e00910fba4f7f34fd5184bd18e9cb6ae.out Stage: real light quark emission - dipole - (onshell) Status 57:   3.8870e-09      4.28e-10    7.58e-01</pre>\n",
       "  </div>\n",
       "  <div class=\"enlighten-bar\">\n",
       "    <pre> ... ./output/7e92f9d8b2daf49412442de03353f129836f44faf07977101a13fb973896517e.out Stage: real light quark emission - dipole - (onshell) Status 58:   1.3898e-09      2.51e-10    1.01e+00</pre>\n",
       "  </div>\n",
       "  <div class=\"enlighten-bar\">\n",
       "    <pre> ... ./output/401c309c6f7b055a9c4656689cfbffb2e5a70c2727b70371de85bdb116aa56c8.out Stage: real light quark emission - dipole - (onshell) Status 59:   -3.9413e-10      1.37e-10    8.40e-01</pre>\n",
       "  </div>\n",
       "  <div class=\"enlighten-bar\">\n",
       "    <pre> ... ./output/9b7cda9dea72fc0f0b3aedb152a4e6ee2800500f89e5292bb0b8a8d2a34d8525.out Stage: real light quark emission - dipole - (onshell) Status 60:   -6.2318e-10      8.50e-11    1.14e+00</pre>\n",
       "  </div>\n",
       "  <div class=\"enlighten-bar\">\n",
       "    <pre> ... ./output/d43ae156ad44aa78a5921dab0dbcebbc4e6df6d16fa6b78ef33ec6dd75fecf6c.out Stage: real light quark emission - dipole - (onshell) Status 59:   -7.8965e-10      4.86e-11    7.49e-01</pre>\n",
       "  </div>\n",
       "  <div class=\"enlighten-bar\">\n",
       "    <pre> ... ./output/718872fb59c12398485d81e71c7bb4e1330844864aa9d089be31c1357baf366e.out Stage: real light quark emission - dipole - (onshell) Status 58:   -6.0209e-10      2.72e-11    7.20e-01</pre>\n",
       "  </div>\n",
       "  <div class=\"enlighten-bar\">\n",
       "    <pre> ... ./output/5b02dc5c48586ffee9c060cc2e125594b76685ff64e7c4cbc6f4205e5a56fa98.out Stage: real light quark emission - dipole - (onshell) Status 57:   -4.1550e-10      1.57e-11    1.15e+00</pre>\n",
       "  </div>\n",
       "  <div class=\"enlighten-bar\">\n",
       "    <pre> ... ./output/bc6b60d03683cf4bb5e505718629be58b0c5978e6a95ae1500ef058fb3b2e91c.out Stage: real light quark emission - dipole - (onshell) Status 58:   -2.8476e-10      8.67e-12    1.19e+00</pre>\n",
       "  </div>\n",
       "  <div class=\"enlighten-bar\">\n",
       "    <pre> ... ./output/76557e43547c5445fa234d13e6c041b6daf023de94a39d51a4df76007de467af.out Stage: real light quark emission - dipole - (onshell) Status 58:   -1.9533e-10      4.75e-12    1.05e+00</pre>\n",
       "  </div>\n",
       "  <div class=\"enlighten-bar\">\n",
       "    <pre> ... ./output/2916c5b1794f8bb9665fa753d8fb0f224a513812cbb413f4a1869abd2e046a0a.out Stage: real light quark emission - dipole - (onshell) Status 57:   -1.2610e-10      2.67e-12    9.21e-01</pre>\n",
       "  </div>\n",
       "  <div class=\"enlighten-bar\">\n",
       "    <pre> ... ./output/107f1213ab6a440b63173033fb9f76c18724a64e9725cf6446344af6dc089119.out Stage: real light quark emission - dipole - (onshell) Status 58:   -7.7767e-11      1.49e-12    1.31e+00</pre>\n",
       "  </div>\n",
       "  <div class=\"enlighten-bar\">\n",
       "    <pre> ... ./output/b4ba00db1c28767d35dafa3284174bc1275d938b39a36aa25bc840566f333573.out Stage: real light quark emission - dipole - (onshell) Status 57:   -4.8136e-11      8.57e-13    6.76e-01</pre>\n",
       "  </div>\n",
       "</div>\n"
      ],
      "text/plain": [
       "<IPython.core.display.HTML object>"
      ]
     },
     "metadata": {},
     "output_type": "display_data"
    },
    {
     "ename": "KeyboardInterrupt",
     "evalue": "",
     "output_type": "error",
     "traceback": [
      "\u001b[0;31m---------------------------------------------------------------------------\u001b[0m",
      "\u001b[0;31mKeyboardInterrupt\u001b[0m                         Traceback (most recent call last)",
      "\u001b[0;32m<ipython-input-2-be146eac3ac3>\u001b[0m in \u001b[0;36m<module>\u001b[0;34m\u001b[0m\n\u001b[1;32m      9\u001b[0m                 \u001b[0;31m#li = hepi.seven_point_scan(li)\u001b[0m\u001b[0;34m\u001b[0m\u001b[0;34m\u001b[0m\u001b[0;34m\u001b[0m\u001b[0m\n\u001b[1;32m     10\u001b[0m \u001b[0;34m\u001b[0m\u001b[0m\n\u001b[0;32m---> 11\u001b[0;31m                 \u001b[0mdl\u001b[0m \u001b[0;34m=\u001b[0m \u001b[0mrs\u001b[0m\u001b[0;34m.\u001b[0m\u001b[0mrun\u001b[0m\u001b[0;34m(\u001b[0m\u001b[0mli\u001b[0m\u001b[0;34m,\u001b[0m \u001b[0;32mFalse\u001b[0m\u001b[0;34m,\u001b[0m \u001b[0;32mTrue\u001b[0m\u001b[0;34m)\u001b[0m\u001b[0;34m\u001b[0m\u001b[0;34m\u001b[0m\u001b[0m\n\u001b[0m\u001b[1;32m     12\u001b[0m \u001b[0;34m\u001b[0m\u001b[0m\n\u001b[1;32m     13\u001b[0m                 \u001b[0;32mif\u001b[0m \u001b[0;32mnot\u001b[0m \u001b[0mrun_plot\u001b[0m\u001b[0;34m:\u001b[0m\u001b[0;34m\u001b[0m\u001b[0;34m\u001b[0m\u001b[0m\n",
      "\u001b[0;32m~/.local/lib/python3.7/site-packages/hepi/resummino/run.py\u001b[0m in \u001b[0;36mrun\u001b[0;34m(params, noskip, bar, no_parse, para)\u001b[0m\n\u001b[1;32m     42\u001b[0m     \u001b[0mprint\u001b[0m\u001b[0;34m(\u001b[0m\u001b[0;34m\"Running: \"\u001b[0m \u001b[0;34m+\u001b[0m \u001b[0mstr\u001b[0m\u001b[0;34m(\u001b[0m\u001b[0mlen\u001b[0m\u001b[0;34m(\u001b[0m\u001b[0mparams\u001b[0m\u001b[0;34m)\u001b[0m\u001b[0;34m)\u001b[0m  \u001b[0;34m+\u001b[0m\u001b[0;34m\" jobs\"\u001b[0m \u001b[0;34m)\u001b[0m\u001b[0;34m\u001b[0m\u001b[0;34m\u001b[0m\u001b[0m\n\u001b[1;32m     43\u001b[0m     \u001b[0mrps\u001b[0m \u001b[0;34m=\u001b[0m \u001b[0m_queue\u001b[0m\u001b[0;34m(\u001b[0m\u001b[0mparams\u001b[0m\u001b[0;34m,\u001b[0m \u001b[0mnoskip\u001b[0m\u001b[0;34m)\u001b[0m\u001b[0;34m\u001b[0m\u001b[0;34m\u001b[0m\u001b[0m\n\u001b[0;32m---> 44\u001b[0;31m     \u001b[0m_run\u001b[0m\u001b[0;34m(\u001b[0m\u001b[0mrps\u001b[0m\u001b[0;34m,\u001b[0m \u001b[0mbar\u001b[0m\u001b[0;34m,\u001b[0m \u001b[0mno_parse\u001b[0m\u001b[0;34m,\u001b[0m\u001b[0mpara\u001b[0m\u001b[0;34m)\u001b[0m\u001b[0;34m\u001b[0m\u001b[0;34m\u001b[0m\u001b[0m\n\u001b[0m\u001b[1;32m     45\u001b[0m     \u001b[0;32mif\u001b[0m \u001b[0;32mnot\u001b[0m \u001b[0mno_parse\u001b[0m\u001b[0;34m:\u001b[0m\u001b[0;34m\u001b[0m\u001b[0;34m\u001b[0m\u001b[0m\n\u001b[1;32m     46\u001b[0m         \u001b[0mouts\u001b[0m \u001b[0;34m=\u001b[0m \u001b[0mLD2DL\u001b[0m\u001b[0;34m(\u001b[0m\u001b[0mrps\u001b[0m\u001b[0;34m)\u001b[0m\u001b[0;34m[\u001b[0m\u001b[0;34m\"out_path\"\u001b[0m\u001b[0;34m]\u001b[0m\u001b[0;34m\u001b[0m\u001b[0;34m\u001b[0m\u001b[0m\n",
      "\u001b[0;32m~/.local/lib/python3.7/site-packages/hepi/resummino/run.py\u001b[0m in \u001b[0;36m_run\u001b[0;34m(rps, bar, no_parse, para)\u001b[0m\n\u001b[1;32m    163\u001b[0m         \u001b[0;32mwhile\u001b[0m \u001b[0mc\u001b[0m\u001b[0;34m:\u001b[0m\u001b[0;34m\u001b[0m\u001b[0;34m\u001b[0m\u001b[0m\n\u001b[1;32m    164\u001b[0m             \u001b[0;32mif\u001b[0m \u001b[0mlen\u001b[0m\u001b[0;34m(\u001b[0m\u001b[0mprocesses\u001b[0m\u001b[0;34m)\u001b[0m \u001b[0;34m>\u001b[0m \u001b[0;36m0\u001b[0m\u001b[0;34m:\u001b[0m\u001b[0;34m\u001b[0m\u001b[0;34m\u001b[0m\u001b[0m\n\u001b[0;32m--> 165\u001b[0;31m                 \u001b[0mtime\u001b[0m\u001b[0;34m.\u001b[0m\u001b[0msleep\u001b[0m\u001b[0;34m(\u001b[0m\u001b[0;36m10\u001b[0m\u001b[0;34m)\u001b[0m\u001b[0;34m\u001b[0m\u001b[0;34m\u001b[0m\u001b[0m\n\u001b[0m\u001b[1;32m    166\u001b[0m             \u001b[0mc\u001b[0m \u001b[0;34m=\u001b[0m \u001b[0;32mFalse\u001b[0m\u001b[0;34m\u001b[0m\u001b[0;34m\u001b[0m\u001b[0m\n\u001b[1;32m    167\u001b[0m             \u001b[0;32mfor\u001b[0m \u001b[0mp\u001b[0m \u001b[0;32min\u001b[0m \u001b[0mprocesses\u001b[0m\u001b[0;34m:\u001b[0m\u001b[0;34m\u001b[0m\u001b[0;34m\u001b[0m\u001b[0m\n",
      "\u001b[0;31mKeyboardInterrupt\u001b[0m: "
     ]
    }
   ],
   "source": [
    "for run_plot in [False ]:\n",
    "    for scenario in [\"scenarioB.in\"]:\n",
    "        for lo_pdf,nlo_pdf in [(\"CT18NLO\",\"CT18NLO\")]:\n",
    "            for p in [2000002, 1000002]:\n",
    "                li = [hepi.Input(hepi.Order.NLO, 13000, p, 1000022, scenario, lo_pdf, nlo_pdf, 1., 1.,precision=0.001,max_iters=50)]\n",
    "\n",
    "                li = hepi.scan_invariant_mass(li, 4000, 15)\n",
    "                print(li[0].invariant_mass)\n",
    "                #li = hepi.seven_point_scan(li)\n",
    "\n",
    "                dl = rs.run(li, False, True)\n",
    "\n",
    "                if not run_plot:\n",
    "                    \n",
    "                    plot.data([],[],init=True)\n",
    "                    hepi.plot(dl, \"invariant_mass\", \"lo\", logy=False, label=\"lo\",xaxis=\"$M$\",yaxis=\"$d\\\\sigma/dM$ [pb/GeV]\")\n",
    "                    plot.show()\n",
    "                    hepi.plot(dl, \"invariant_mass\", \"nlo\", logy=False, label=\"nlo\",xaxis=\"$M$\",yaxis=\"$d\\\\sigma/dM$ [pb/GeV]\")\n",
    "                    plot.show()\n",
    "                    #hepi.plot(dl, \"invariant_mass\", \"nlo_plus_nll\", logy=False, label=\"nlo+nll\",xaxis=\"$M$\",yaxis=\"$d\\\\sigma/dM$ [pb/GeV]\")\n",
    "                    #plot.show()\n",
    "                    plt.savefig(input.get_output_dir() + \"inv_mass_\" + str(p) + \"_\" + str(nlo_pdf) + \"_\" +str(scenario) + \".pdf\")\n",
    "                                                                                                                                                            "
   ]
  },
  {
   "cell_type": "code",
   "execution_count": null,
   "metadata": {},
   "outputs": [],
   "source": []
  }
 ],
 "metadata": {
  "kernelspec": {
   "display_name": "Python 3",
   "language": "python",
   "name": "python3"
  },
  "language_info": {
   "codemirror_mode": {
    "name": "ipython",
    "version": 3
   },
   "file_extension": ".py",
   "mimetype": "text/x-python",
   "name": "python",
   "nbconvert_exporter": "python",
   "pygments_lexer": "ipython3",
   "version": "3.7.9"
  }
 },
 "nbformat": 4,
 "nbformat_minor": 4
}
