{
 "cells": [
  {
   "cell_type": "markdown",
   "id": "92353069",
   "metadata": {},
   "source": [
    "# Scenarios\n",
    "\n",
    "The scenarios are taken from https://twiki.cern.ch/twiki/bin/view/LHCPhysics/SUSYCrossSections.\n",
    "\n",
    "Modifications:\n",
    "-   we set the STAUMIX values to maximally mixed for sleptons\n",
    "-   we manually set the massses of all particles tagged with an @a or {M...} "
   ]
  },
  {
   "cell_type": "code",
   "execution_count": 1,
   "id": "6c1a697f",
   "metadata": {},
   "outputs": [
    {
     "name": "stdout",
     "output_type": "stream",
     "text": [
      "0.2.3.0+dirty\n",
      "resummino 3.1.1-dev\n",
      "~/git/resummino/build/bin/resummino\n"
     ]
    }
   ],
   "source": [
    "#%load_ext nb_black\n",
    "import hepi\n",
    "\n",
    "\n",
    "print(hepi.__version__)\n",
    "import smpl\n",
    "from smpl import data\n",
    "import numpy as np\n",
    "import hepi.resummino as rs\n",
    "import hepi.util as util\n",
    "import matplotlib.pyplot as plt\n",
    "\n",
    "rs.set_path(\"~/git/resummino/build/bin/resummino\")\n",
    "print(rs.default_resummino_runner.get_version())\n",
    "print(rs.get_path())\n",
    "\n",
    "test_lo = True\n",
    "analyse  = True # else generation"
   ]
  },
  {
   "cell_type": "markdown",
   "id": "9c261ba6",
   "metadata": {},
   "source": [
    "# aNNLO+NNLL wino\n"
   ]
  },
  {
   "cell_type": "code",
   "execution_count": 3,
   "id": "e050dbc9",
   "metadata": {
    "scrolled": false
   },
   "outputs": [
    {
     "data": {
      "application/vnd.jupyter.widget-view+json": {
       "model_id": "335200ff84be43e9a4f06597b18c503c",
       "version_major": 2,
       "version_minor": 0
      },
      "text/plain": [
       "QUEUEING TASKS | Checking input:   0%|          | 0/7 [00:00<?, ?it/s]"
      ]
     },
     "metadata": {},
     "output_type": "display_data"
    },
    {
     "data": {
      "application/vnd.jupyter.widget-view+json": {
       "model_id": "870872b326d64e32b6262c860c0f6e47",
       "version_major": 2,
       "version_minor": 0
      },
      "text/plain": [
       "PROCESSING TASKS | Checking input:   0%|          | 0/7 [00:00<?, ?it/s]"
      ]
     },
     "metadata": {},
     "output_type": "display_data"
    },
    {
     "data": {
      "application/vnd.jupyter.widget-view+json": {
       "model_id": "33b8ec91a97542f195623c4bbb360a0b",
       "version_major": 2,
       "version_minor": 0
      },
      "text/plain": [
       "COLLECTING RESULTS | Checking input:   0%|          | 0/7 [00:00<?, ?it/s]"
      ]
     },
     "metadata": {},
     "output_type": "display_data"
    },
    {
     "data": {
      "application/vnd.jupyter.widget-view+json": {
       "model_id": "9a716211fe7144ecb0085d457afdda7f",
       "version_major": 2,
       "version_minor": 0
      },
      "text/plain": [
       "QUEUEING TASKS | Preparing:   0%|          | 0/7 [00:00<?, ?it/s]"
      ]
     },
     "metadata": {},
     "output_type": "display_data"
    },
    {
     "data": {
      "application/vnd.jupyter.widget-view+json": {
       "model_id": "a8eeba5de7a44eabab20354d33c58cce",
       "version_major": 2,
       "version_minor": 0
      },
      "text/plain": [
       "PROCESSING TASKS | Preparing:   0%|          | 0/7 [00:00<?, ?it/s]"
      ]
     },
     "metadata": {},
     "output_type": "display_data"
    },
    {
     "data": {
      "application/vnd.jupyter.widget-view+json": {
       "model_id": "3a3e590b63cc42d8a8eda347fc6faa29",
       "version_major": 2,
       "version_minor": 0
      },
      "text/plain": [
       "COLLECTING RESULTS | Preparing:   0%|          | 0/7 [00:00<?, ?it/s]"
      ]
     },
     "metadata": {},
     "output_type": "display_data"
    },
    {
     "name": "stdout",
     "output_type": "stream",
     "text": [
      "Skipped: 0 Not skipped: 7\n"
     ]
    },
    {
     "data": {
      "application/vnd.jupyter.widget-view+json": {
       "model_id": "a31d858de9a34e4f938b6a95e3e973af",
       "version_major": 2,
       "version_minor": 0
      },
      "text/plain": [
       "QUEUEING TASKS | Running:   0%|          | 0/7 [00:00<?, ?it/s]"
      ]
     },
     "metadata": {},
     "output_type": "display_data"
    },
    {
     "name": "stderr",
     "output_type": "stream",
     "text": [
      "warning: No slepton masses defined.\n",
      "warning: No slepton masses defined.\n",
      "warning: No slepton masses defined.\n",
      "warning: No slepton masses defined.\n",
      "warning: No slepton masses defined.\n",
      "warning: No slepton masses defined.\n",
      "warning: No slepton masses defined.\n"
     ]
    },
    {
     "data": {
      "application/vnd.jupyter.widget-view+json": {
       "model_id": "6fa6d71a6c0743bdaef1f70020ba1b34",
       "version_major": 2,
       "version_minor": 0
      },
      "text/plain": [
       "PROCESSING TASKS | Running:   0%|          | 0/7 [00:00<?, ?it/s]"
      ]
     },
     "metadata": {},
     "output_type": "display_data"
    },
    {
     "ename": "KeyboardInterrupt",
     "evalue": "",
     "output_type": "error",
     "traceback": [
      "\u001b[0;31m---------------------------------------------------------------------------\u001b[0m",
      "\u001b[0;31mKeyboardInterrupt\u001b[0m                         Traceback (most recent call last)",
      "Cell \u001b[0;32mIn [3], line 67\u001b[0m\n\u001b[1;32m     64\u001b[0m         hepi\u001b[38;5;241m.\u001b[39mmass_plot(rs_dl,\u001b[38;5;124m\"\u001b[39m\u001b[38;5;124maNNLO_PLUS_NNLL_SCALE\u001b[39m\u001b[38;5;124m\"\u001b[39m,\u001b[38;5;241m1000011\u001b[39m,mask \u001b[38;5;241m=\u001b[39m rs_dl[\u001b[38;5;124m\"\u001b[39m\u001b[38;5;124maNNLO_PLUS_NNLL_COMBINED\u001b[39m\u001b[38;5;124m\"\u001b[39m]\u001b[38;5;241m.\u001b[39mnotnull(),ratio\u001b[38;5;241m=\u001b[39m\u001b[38;5;28;01mTrue\u001b[39;00m,show\u001b[38;5;241m=\u001b[39m\u001b[38;5;28;01mTrue\u001b[39;00m,logy\u001b[38;5;241m=\u001b[39m\u001b[38;5;28;01mFalse\u001b[39;00m,interpolate\u001b[38;5;241m=\u001b[39m\u001b[38;5;28;01mFalse\u001b[39;00m,fill\u001b[38;5;241m=\u001b[39m\u001b[38;5;28;01mTrue\u001b[39;00m,interpolator\u001b[38;5;241m=\u001b[39m\u001b[38;5;124m'\u001b[39m\u001b[38;5;124mcubic\u001b[39m\u001b[38;5;124m'\u001b[39m,pre\u001b[38;5;241m=\u001b[39mnp\u001b[38;5;241m.\u001b[39mlog,post\u001b[38;5;241m=\u001b[39mnp\u001b[38;5;241m.\u001b[39mexp,init\u001b[38;5;241m=\u001b[39m\u001b[38;5;28;01mFalse\u001b[39;00m)\n\u001b[1;32m     66\u001b[0m \u001b[38;5;28;01melse\u001b[39;00m:\n\u001b[0;32m---> 67\u001b[0m     rs_dl \u001b[38;5;241m=\u001b[39m \u001b[43mrs\u001b[49m\u001b[38;5;241;43m.\u001b[39;49m\u001b[43mrun\u001b[49m\u001b[43m(\u001b[49m\u001b[43mli\u001b[49m\u001b[43m,\u001b[49m\u001b[43m \u001b[49m\u001b[43mskip\u001b[49m\u001b[38;5;241;43m=\u001b[39;49m\u001b[38;5;28;43;01mTrue\u001b[39;49;00m\u001b[43m,\u001b[49m\u001b[43m \u001b[49m\u001b[43mrun\u001b[49m\u001b[38;5;241;43m=\u001b[39;49m\u001b[38;5;28;43;01mTrue\u001b[39;49;00m\u001b[43m,\u001b[49m\u001b[43m \u001b[49m\u001b[43mparse\u001b[49m\u001b[38;5;241;43m=\u001b[39;49m\u001b[38;5;28;43;01mTrue\u001b[39;49;00m\u001b[43m)\u001b[49m\n\u001b[1;32m     68\u001b[0m     hepi\u001b[38;5;241m.\u001b[39mmass_plot(rs_dl,\u001b[38;5;124m\"\u001b[39m\u001b[38;5;124mLO\u001b[39m\u001b[38;5;124m\"\u001b[39m,\u001b[38;5;241m1000011\u001b[39m,show\u001b[38;5;241m=\u001b[39m\u001b[38;5;28;01mTrue\u001b[39;00m,interpolator\u001b[38;5;241m=\u001b[39m\u001b[38;5;124m'\u001b[39m\u001b[38;5;124mcubic\u001b[39m\u001b[38;5;124m'\u001b[39m,pre\u001b[38;5;241m=\u001b[39mnp\u001b[38;5;241m.\u001b[39mlog,post\u001b[38;5;241m=\u001b[39mnp\u001b[38;5;241m.\u001b[39mexp)\n",
      "File \u001b[0;32m~/.local/lib/python3.9/site-packages/hepi/run.py:227\u001b[0m, in \u001b[0;36mRunner.run\u001b[0;34m(self, params, skip, parse, parallel, sleep, run, ignore_error, n_jobs, **kwargs)\u001b[0m\n\u001b[1;32m    225\u001b[0m     sleep \u001b[38;5;241m=\u001b[39m \u001b[38;5;241m0\u001b[39m \u001b[38;5;28;01mif\u001b[39;00m parse \u001b[38;5;28;01melse\u001b[39;00m \u001b[38;5;241m5\u001b[39m\n\u001b[1;32m    226\u001b[0m \u001b[38;5;28;01mif\u001b[39;00m run:\n\u001b[0;32m--> 227\u001b[0m     \u001b[38;5;28;43mself\u001b[39;49m\u001b[38;5;241;43m.\u001b[39;49m\u001b[43m_run\u001b[49m\u001b[43m(\u001b[49m\u001b[43mrps\u001b[49m\u001b[43m,\u001b[49m\n\u001b[1;32m    228\u001b[0m \u001b[43m              \u001b[49m\u001b[43mwait\u001b[49m\u001b[38;5;241;43m=\u001b[39;49m\u001b[43mparse\u001b[49m\u001b[43m,\u001b[49m\n\u001b[1;32m    229\u001b[0m \u001b[43m              \u001b[49m\u001b[43mparallel\u001b[49m\u001b[38;5;241;43m=\u001b[39;49m\u001b[43mparallel\u001b[49m\u001b[43m,\u001b[49m\n\u001b[1;32m    230\u001b[0m \u001b[43m              \u001b[49m\u001b[43msleep\u001b[49m\u001b[38;5;241;43m=\u001b[39;49m\u001b[43msleep\u001b[49m\u001b[43m,\u001b[49m\n\u001b[1;32m    231\u001b[0m \u001b[43m              \u001b[49m\u001b[43mn_jobs\u001b[49m\u001b[43m \u001b[49m\u001b[38;5;241;43m=\u001b[39;49m\u001b[43m \u001b[49m\u001b[43mn_jobs\u001b[49m\u001b[43m,\u001b[49m\n\u001b[1;32m    232\u001b[0m \u001b[43m              \u001b[49m\u001b[38;5;241;43m*\u001b[39;49m\u001b[38;5;241;43m*\u001b[39;49m\u001b[43mkwargs\u001b[49m\u001b[43m)\u001b[49m\n\u001b[1;32m    233\u001b[0m \u001b[38;5;28;01mif\u001b[39;00m parse:\n\u001b[1;32m    234\u001b[0m     outs \u001b[38;5;241m=\u001b[39m LD2DL(rps)[\u001b[38;5;124m\"\u001b[39m\u001b[38;5;124mout_file\u001b[39m\u001b[38;5;124m\"\u001b[39m]\n",
      "File \u001b[0;32m~/.local/lib/python3.9/site-packages/hepi/run.py:275\u001b[0m, in \u001b[0;36mRunner._run\u001b[0;34m(self, rps, wait, parallel, sleep, n_jobs, **kwargs)\u001b[0m\n\u001b[1;32m    272\u001b[0m         cmds\u001b[38;5;241m.\u001b[39mappend(command)\n\u001b[1;32m    274\u001b[0m \u001b[38;5;28;01mif\u001b[39;00m wait \u001b[38;5;129;01mand\u001b[39;00m parallel:\n\u001b[0;32m--> 275\u001b[0m     \u001b[38;5;28;01mreturn\u001b[39;00m \u001b[43mtpqdm\u001b[49m\u001b[43m(\u001b[49m\u001b[43mcmds\u001b[49m\u001b[43m,\u001b[49m\n\u001b[1;32m    276\u001b[0m \u001b[43m          \u001b[49m\u001b[38;5;28;43;01mlambda\u001b[39;49;00m\u001b[43m \u001b[49m\u001b[43mc\u001b[49m\u001b[43m:\u001b[49m\u001b[43m \u001b[49m\u001b[43msubprocess\u001b[49m\u001b[38;5;241;43m.\u001b[39;49m\u001b[43mcall\u001b[49m\u001b[43m(\u001b[49m\u001b[43mc\u001b[49m\u001b[43m,\u001b[49m\u001b[43mshell\u001b[49m\u001b[38;5;241;43m=\u001b[39;49m\u001b[38;5;28;43;01mTrue\u001b[39;49;00m\u001b[43m)\u001b[49m\u001b[43m,\u001b[49m\n\u001b[1;32m    277\u001b[0m \u001b[43m          \u001b[49m\u001b[43mn_jobs\u001b[49m\u001b[38;5;241;43m=\u001b[39;49m\u001b[43mn_jobs\u001b[49m\u001b[43m \u001b[49m\u001b[38;5;28;43;01mif\u001b[39;49;00m\u001b[43m \u001b[49m\u001b[43mn_jobs\u001b[49m\u001b[43m \u001b[49m\u001b[38;5;129;43;01mis\u001b[39;49;00m\u001b[43m \u001b[49m\u001b[38;5;129;43;01mnot\u001b[39;49;00m\u001b[43m \u001b[49m\u001b[38;5;28;43;01mNone\u001b[39;49;00m\u001b[43m \u001b[49m\u001b[38;5;28;43;01melse\u001b[39;49;00m\u001b[43m \u001b[49m\u001b[43mmp\u001b[49m\u001b[38;5;241;43m.\u001b[39;49m\u001b[43mcpu_count\u001b[49m\u001b[43m(\u001b[49m\u001b[43m)\u001b[49m\u001b[43m,\u001b[49m\n\u001b[1;32m    278\u001b[0m \u001b[43m          \u001b[49m\u001b[43mdesc\u001b[49m\u001b[38;5;241;43m=\u001b[39;49m\u001b[38;5;124;43m\"\u001b[39;49m\u001b[38;5;124;43mRunning\u001b[39;49m\u001b[38;5;124;43m\"\u001b[39;49m\u001b[43m)\u001b[49m\n\u001b[1;32m    279\u001b[0m     \u001b[38;5;66;03m#with ThreadPoolExecutor(max_workers=n_jobs if n_jobs is not None else mp.cpu_count()) as executor:\u001b[39;00m\n\u001b[1;32m    280\u001b[0m     \u001b[38;5;66;03m#    for cmd in cmds:\u001b[39;00m\n\u001b[1;32m    281\u001b[0m     \u001b[38;5;66;03m#        processes.append(executor.submit(subprocess.call, cmd, shell=True))\u001b[39;00m\n\u001b[1;32m    282\u001b[0m     \u001b[38;5;66;03m#        time.sleep(sleep)\u001b[39;00m\n\u001b[1;32m    283\u001b[0m     \u001b[38;5;66;03m#    return [p.result() for p in processes]\u001b[39;00m\n\u001b[1;32m    285\u001b[0m \u001b[38;5;28;01mfor\u001b[39;00m command \u001b[38;5;129;01min\u001b[39;00m cmds:\n",
      "File \u001b[0;32m~/.local/lib/python3.9/site-packages/pqdm/threads.py:22\u001b[0m, in \u001b[0;36mpqdm\u001b[0;34m(array, function, n_jobs, argument_type, bounded, exception_behaviour, tqdm_class, **kwargs)\u001b[0m\n\u001b[1;32m     12\u001b[0m \u001b[38;5;28;01mdef\u001b[39;00m \u001b[38;5;21mpqdm\u001b[39m(\n\u001b[1;32m     13\u001b[0m     array: Iterable[Any],\n\u001b[1;32m     14\u001b[0m     function: Callable[[Any], Any],\n\u001b[0;32m   (...)\u001b[0m\n\u001b[1;32m     20\u001b[0m     \u001b[38;5;241m*\u001b[39m\u001b[38;5;241m*\u001b[39mkwargs\n\u001b[1;32m     21\u001b[0m ):\n\u001b[0;32m---> 22\u001b[0m     \u001b[38;5;28;01mreturn\u001b[39;00m \u001b[43m_parallel_process\u001b[49m\u001b[43m(\u001b[49m\n\u001b[1;32m     23\u001b[0m \u001b[43m        \u001b[49m\u001b[43miterable\u001b[49m\u001b[38;5;241;43m=\u001b[39;49m\u001b[43marray\u001b[49m\u001b[43m,\u001b[49m\n\u001b[1;32m     24\u001b[0m \u001b[43m        \u001b[49m\u001b[43mfunction\u001b[49m\u001b[38;5;241;43m=\u001b[39;49m\u001b[43mfunction\u001b[49m\u001b[43m,\u001b[49m\n\u001b[1;32m     25\u001b[0m \u001b[43m        \u001b[49m\u001b[43margument_type\u001b[49m\u001b[38;5;241;43m=\u001b[39;49m\u001b[43margument_type\u001b[49m\u001b[43m,\u001b[49m\n\u001b[1;32m     26\u001b[0m \u001b[43m        \u001b[49m\u001b[43mn_jobs\u001b[49m\u001b[38;5;241;43m=\u001b[39;49m\u001b[43mn_jobs\u001b[49m\u001b[43m,\u001b[49m\n\u001b[1;32m     27\u001b[0m \u001b[43m        \u001b[49m\u001b[43mexecutor\u001b[49m\u001b[38;5;241;43m=\u001b[39;49m\u001b[43mBoundedThreadPoolExecutor\u001b[49m\u001b[43m \u001b[49m\u001b[38;5;28;43;01mif\u001b[39;49;00m\u001b[43m \u001b[49m\u001b[43mbounded\u001b[49m\u001b[43m \u001b[49m\u001b[38;5;28;43;01melse\u001b[39;49;00m\u001b[43m \u001b[49m\u001b[43mThreadPoolExecutor\u001b[49m\u001b[43m,\u001b[49m\n\u001b[1;32m     28\u001b[0m \u001b[43m        \u001b[49m\u001b[43mexception_behaviour\u001b[49m\u001b[38;5;241;43m=\u001b[39;49m\u001b[43mexception_behaviour\u001b[49m\u001b[43m,\u001b[49m\n\u001b[1;32m     29\u001b[0m \u001b[43m        \u001b[49m\u001b[43mtqdm_class\u001b[49m\u001b[38;5;241;43m=\u001b[39;49m\u001b[43mtqdm_class\u001b[49m\u001b[43m,\u001b[49m\n\u001b[1;32m     30\u001b[0m \u001b[43m        \u001b[49m\u001b[38;5;241;43m*\u001b[39;49m\u001b[38;5;241;43m*\u001b[39;49m\u001b[43mkwargs\u001b[49m\n\u001b[1;32m     31\u001b[0m \u001b[43m    \u001b[49m\u001b[43m)\u001b[49m\n",
      "File \u001b[0;32m~/.local/lib/python3.9/site-packages/pqdm/_base.py:65\u001b[0m, in \u001b[0;36m_parallel_process\u001b[0;34m(iterable, function, n_jobs, executor, argument_type, exception_behaviour, tqdm_class, **kwargs)\u001b[0m\n\u001b[1;32m     62\u001b[0m     processing_opts[\u001b[38;5;124m'\u001b[39m\u001b[38;5;124mdesc\u001b[39m\u001b[38;5;124m'\u001b[39m] \u001b[38;5;241m=\u001b[39m \u001b[38;5;124m'\u001b[39m\u001b[38;5;124mPROCESSING TASKS | \u001b[39m\u001b[38;5;124m'\u001b[39m \u001b[38;5;241m+\u001b[39m processing_opts\u001b[38;5;241m.\u001b[39mget(\u001b[38;5;124m'\u001b[39m\u001b[38;5;124mdesc\u001b[39m\u001b[38;5;124m'\u001b[39m, \u001b[38;5;124m'\u001b[39m\u001b[38;5;124m'\u001b[39m)\n\u001b[1;32m     63\u001b[0m     processing_opts[\u001b[38;5;124m'\u001b[39m\u001b[38;5;124mtotal\u001b[39m\u001b[38;5;124m'\u001b[39m] \u001b[38;5;241m=\u001b[39m \u001b[38;5;28mlen\u001b[39m(futures)\n\u001b[0;32m---> 65\u001b[0m     \u001b[38;5;28;01mfor\u001b[39;00m _ \u001b[38;5;129;01min\u001b[39;00m tqdm_class(as_completed(futures), \u001b[38;5;241m*\u001b[39m\u001b[38;5;241m*\u001b[39mprocessing_opts):\n\u001b[1;32m     66\u001b[0m         \u001b[38;5;28;01mpass\u001b[39;00m\n\u001b[1;32m     68\u001b[0m collecting_opts \u001b[38;5;241m=\u001b[39m copy\u001b[38;5;241m.\u001b[39mcopy(tqdm_opts)\n",
      "File \u001b[0;32m/usr/lib/python3.9/site-packages/tqdm/notebook.py:259\u001b[0m, in \u001b[0;36mtqdm_notebook.__iter__\u001b[0;34m(self)\u001b[0m\n\u001b[1;32m    257\u001b[0m \u001b[38;5;28;01mtry\u001b[39;00m:\n\u001b[1;32m    258\u001b[0m     it \u001b[38;5;241m=\u001b[39m \u001b[38;5;28msuper\u001b[39m(tqdm_notebook, \u001b[38;5;28mself\u001b[39m)\u001b[38;5;241m.\u001b[39m\u001b[38;5;21m__iter__\u001b[39m()\n\u001b[0;32m--> 259\u001b[0m     \u001b[38;5;28;01mfor\u001b[39;00m obj \u001b[38;5;129;01min\u001b[39;00m it:\n\u001b[1;32m    260\u001b[0m         \u001b[38;5;66;03m# return super(tqdm...) will not catch exception\u001b[39;00m\n\u001b[1;32m    261\u001b[0m         \u001b[38;5;28;01myield\u001b[39;00m obj\n\u001b[1;32m    262\u001b[0m \u001b[38;5;66;03m# NB: except ... [ as ...] breaks IPython async KeyboardInterrupt\u001b[39;00m\n",
      "File \u001b[0;32m/usr/lib/python3.9/site-packages/tqdm/std.py:1195\u001b[0m, in \u001b[0;36mtqdm.__iter__\u001b[0;34m(self)\u001b[0m\n\u001b[1;32m   1192\u001b[0m time \u001b[38;5;241m=\u001b[39m \u001b[38;5;28mself\u001b[39m\u001b[38;5;241m.\u001b[39m_time\n\u001b[1;32m   1194\u001b[0m \u001b[38;5;28;01mtry\u001b[39;00m:\n\u001b[0;32m-> 1195\u001b[0m     \u001b[38;5;28;01mfor\u001b[39;00m obj \u001b[38;5;129;01min\u001b[39;00m iterable:\n\u001b[1;32m   1196\u001b[0m         \u001b[38;5;28;01myield\u001b[39;00m obj\n\u001b[1;32m   1197\u001b[0m         \u001b[38;5;66;03m# Update and possibly print the progressbar.\u001b[39;00m\n\u001b[1;32m   1198\u001b[0m         \u001b[38;5;66;03m# Note: does not call self.update(1) for speed optimisation.\u001b[39;00m\n",
      "File \u001b[0;32m/usr/lib/python3.9/concurrent/futures/_base.py:245\u001b[0m, in \u001b[0;36mas_completed\u001b[0;34m(fs, timeout)\u001b[0m\n\u001b[1;32m    240\u001b[0m     \u001b[38;5;28;01mif\u001b[39;00m wait_timeout \u001b[38;5;241m<\u001b[39m \u001b[38;5;241m0\u001b[39m:\n\u001b[1;32m    241\u001b[0m         \u001b[38;5;28;01mraise\u001b[39;00m \u001b[38;5;167;01mTimeoutError\u001b[39;00m(\n\u001b[1;32m    242\u001b[0m                 \u001b[38;5;124m'\u001b[39m\u001b[38;5;132;01m%d\u001b[39;00m\u001b[38;5;124m (of \u001b[39m\u001b[38;5;132;01m%d\u001b[39;00m\u001b[38;5;124m) futures unfinished\u001b[39m\u001b[38;5;124m'\u001b[39m \u001b[38;5;241m%\u001b[39m (\n\u001b[1;32m    243\u001b[0m                 \u001b[38;5;28mlen\u001b[39m(pending), total_futures))\n\u001b[0;32m--> 245\u001b[0m \u001b[43mwaiter\u001b[49m\u001b[38;5;241;43m.\u001b[39;49m\u001b[43mevent\u001b[49m\u001b[38;5;241;43m.\u001b[39;49m\u001b[43mwait\u001b[49m\u001b[43m(\u001b[49m\u001b[43mwait_timeout\u001b[49m\u001b[43m)\u001b[49m\n\u001b[1;32m    247\u001b[0m \u001b[38;5;28;01mwith\u001b[39;00m waiter\u001b[38;5;241m.\u001b[39mlock:\n\u001b[1;32m    248\u001b[0m     finished \u001b[38;5;241m=\u001b[39m waiter\u001b[38;5;241m.\u001b[39mfinished_futures\n",
      "File \u001b[0;32m/usr/lib/python3.9/threading.py:581\u001b[0m, in \u001b[0;36mEvent.wait\u001b[0;34m(self, timeout)\u001b[0m\n\u001b[1;32m    579\u001b[0m signaled \u001b[38;5;241m=\u001b[39m \u001b[38;5;28mself\u001b[39m\u001b[38;5;241m.\u001b[39m_flag\n\u001b[1;32m    580\u001b[0m \u001b[38;5;28;01mif\u001b[39;00m \u001b[38;5;129;01mnot\u001b[39;00m signaled:\n\u001b[0;32m--> 581\u001b[0m     signaled \u001b[38;5;241m=\u001b[39m \u001b[38;5;28;43mself\u001b[39;49m\u001b[38;5;241;43m.\u001b[39;49m\u001b[43m_cond\u001b[49m\u001b[38;5;241;43m.\u001b[39;49m\u001b[43mwait\u001b[49m\u001b[43m(\u001b[49m\u001b[43mtimeout\u001b[49m\u001b[43m)\u001b[49m\n\u001b[1;32m    582\u001b[0m \u001b[38;5;28;01mreturn\u001b[39;00m signaled\n",
      "File \u001b[0;32m/usr/lib/python3.9/threading.py:312\u001b[0m, in \u001b[0;36mCondition.wait\u001b[0;34m(self, timeout)\u001b[0m\n\u001b[1;32m    310\u001b[0m \u001b[38;5;28;01mtry\u001b[39;00m:    \u001b[38;5;66;03m# restore state no matter what (e.g., KeyboardInterrupt)\u001b[39;00m\n\u001b[1;32m    311\u001b[0m     \u001b[38;5;28;01mif\u001b[39;00m timeout \u001b[38;5;129;01mis\u001b[39;00m \u001b[38;5;28;01mNone\u001b[39;00m:\n\u001b[0;32m--> 312\u001b[0m         \u001b[43mwaiter\u001b[49m\u001b[38;5;241;43m.\u001b[39;49m\u001b[43macquire\u001b[49m\u001b[43m(\u001b[49m\u001b[43m)\u001b[49m\n\u001b[1;32m    313\u001b[0m         gotit \u001b[38;5;241m=\u001b[39m \u001b[38;5;28;01mTrue\u001b[39;00m\n\u001b[1;32m    314\u001b[0m     \u001b[38;5;28;01melse\u001b[39;00m:\n",
      "\u001b[0;31mKeyboardInterrupt\u001b[0m: "
     ]
    }
   ],
   "source": [
    "energies = [13000,\n",
    "            #13600\n",
    "           ]\n",
    "params = [\n",
    "    \"sleptons.slha\",\n",
    "]\n",
    "pss = [\n",
    "    ( 1000023, +1000024),  # N1C1p\n",
    "    #( 1000022, -1000024),  # N1C1m\n",
    "    #(+1000024, -1000024),  # C1pC1m\n",
    "]\n",
    "pdfs = [\"PDF4LHC21_40\"]\n",
    "for energy in energies:\n",
    "    for pa, pb in pss:\n",
    "        for pdf in pdfs:\n",
    "            hepi.set_output_dir(\n",
    "                \"demo_output_\" + str(energy) + \"_wino_\" + str(pa) + \"_\" + str(pb) + \"_\" + pdf+ \"/\"\n",
    "            )\n",
    "            rs.default_resummino_runner.set_output_dir(hepi.get_output_dir())\n",
    "            for param in params:\n",
    "                i = hepi.Input(\n",
    "                    hepi.Order.LO if test_lo else hepi.Order.aNNLO_PLUS_NNLL,\n",
    "                    energy,\n",
    "                    pa,\n",
    "                    pb,\n",
    "                    param,\n",
    "                    pdf,\n",
    "                    pdf,\n",
    "                    1.0,\n",
    "                    1.0,\n",
    "                    id=\"0.0.0\",\n",
    "                    precision=0.001,\n",
    "                    max_iters=50,\n",
    "                )\n",
    "                li = [i]\n",
    "                li = hepi.masses_scan(\n",
    "                    li,\n",
    "                    [\n",
    "                        1000022,\n",
    "                        1000023,\n",
    "                        1000024,\n",
    "                    ],\n",
    "                    np.linspace(1000,2010,7),\n",
    "                )\n",
    "                if not test_lo:\n",
    "\n",
    "                    li = hepi.seven_point_scan(li)\n",
    "                    li = hepi.pdf_scan(li)\n",
    "                    # li = hepi.change_where(li, {\"precision\": 0.0001, \"max_iters\": 200}, pdfset_nlo=0)\n",
    "                    if not analyse:\n",
    "                        rs_dl = rs.run(li, skip=False, run=False, parse=False)\n",
    "                    else:\n",
    "                        rs_dl = rs.run(li, skip=True, run=True, parse=True,ignore_error=True)\n",
    "                        rs_dl = hepi.pdf_errors(li,rs_dl,confidence_level=68)\n",
    "                        rs_dl = hepi.scale_errors(li,rs_dl)\n",
    "                        rs_dl = hepi.combine_errors(rs_dl)\n",
    "                        hepi.title(li[0])\n",
    "                        #hepi.mass_plot(rs_dl,\"LO_COMBINED\",1000022,mask = rs_dl[\"aNNLO_PLUS_NNLL_COMBINED\"].notnull(),show=True,logy=True,interpolate=True,fill=True,interpolator='cubic',pre=np.log,post=np.exp)\n",
    "                        #hepi.mass_plot(rs_dl,\"NLO_COMBINED\",1000022,mask = rs_dl[\"aNNLO_PLUS_NNLL_COMBINED\"].notnull(),show=True,logy=True,interpolate=True,fill=True,interpolator='cubic',pre=np.log,post=np.exp,init=False)\n",
    "                        hepi.mass_plot(rs_dl,\"aNNLO_PLUS_NNLL_COMBINED\",1000011,mask = rs_dl[\"aNNLO_PLUS_NNLL_COMBINED\"].notnull(),show=True,logy=True,interpolate=False,fill=True,interpolator='cubic',pre=np.log,post=np.exp,init=False)\n",
    "                        hepi.mass_plot(rs_dl,\"aNNLO_PLUS_NNLL_SCALE\",1000011,mask = rs_dl[\"aNNLO_PLUS_NNLL_COMBINED\"].notnull(),show=True,logy=True,interpolate=False,fill=True,interpolator='cubic',pre=np.log,post=np.exp,init=False)\n",
    "                        hepi.mass_plot(rs_dl,\"aNNLO_PLUS_NNLL_PDF\",1000011,mask = rs_dl[\"aNNLO_PLUS_NNLL_COMBINED\"].notnull(),ratio=True,show=True,logy=False,interpolate=False,fill=True,interpolator='cubic',pre=np.log,post=np.exp,init=False)\n",
    "                        hepi.mass_plot(rs_dl,\"aNNLO_PLUS_NNLL_COMBINED\",1000011,mask = rs_dl[\"aNNLO_PLUS_NNLL_COMBINED\"].notnull(),ratio=True,show=True,logy=False,interpolate=False,fill=True,interpolator='cubic',pre=np.log,post=np.exp,init=False)\n",
    "                        hepi.mass_plot(rs_dl,\"aNNLO_PLUS_NNLL_SCALE\",1000011,mask = rs_dl[\"aNNLO_PLUS_NNLL_COMBINED\"].notnull(),ratio=True,show=True,logy=False,interpolate=False,fill=True,interpolator='cubic',pre=np.log,post=np.exp,init=False)\n",
    "                        \n",
    "                else:\n",
    "                    rs_dl = rs.run(li, skip=True, run=True, parse=True)\n",
    "                    hepi.mass_plot(rs_dl,\"LO\",1000011,show=True,interpolator='cubic',pre=np.log,post=np.exp)"
   ]
  },
  {
   "cell_type": "code",
   "execution_count": 6,
   "id": "5847af06",
   "metadata": {},
   "outputs": [
    {
     "data": {
      "text/html": [
       "<div>\n",
       "<style scoped>\n",
       "    .dataframe tbody tr th:only-of-type {\n",
       "        vertical-align: middle;\n",
       "    }\n",
       "\n",
       "    .dataframe tbody tr th {\n",
       "        vertical-align: top;\n",
       "    }\n",
       "\n",
       "    .dataframe thead th {\n",
       "        text-align: right;\n",
       "    }\n",
       "</style>\n",
       "<table border=\"1\" class=\"dataframe\">\n",
       "  <thead>\n",
       "    <tr style=\"text-align: right;\">\n",
       "      <th></th>\n",
       "      <th>LO</th>\n",
       "      <th>NLO</th>\n",
       "      <th>NLO_PLUS_NLL</th>\n",
       "      <th>aNNLO_PLUS_NNLL</th>\n",
       "      <th>K_LO</th>\n",
       "      <th>K_NLO</th>\n",
       "      <th>K_NLO_PLUS_NLL</th>\n",
       "      <th>NLO_PLUS_NLL_OVER_NLO</th>\n",
       "      <th>K_aNNLO_PLUS_NNLL</th>\n",
       "      <th>aNNLO_PLUS_NNLL_OVER_NLO</th>\n",
       "      <th>...</th>\n",
       "      <th>max_iters</th>\n",
       "      <th>invariant_mass</th>\n",
       "      <th>pt</th>\n",
       "      <th>result</th>\n",
       "      <th>id</th>\n",
       "      <th>model</th>\n",
       "      <th>mu</th>\n",
       "      <th>mass_1000022_1000023_1000024</th>\n",
       "      <th>runner</th>\n",
       "      <th>mass_1000022</th>\n",
       "    </tr>\n",
       "  </thead>\n",
       "  <tbody>\n",
       "    <tr>\n",
       "      <th>0</th>\n",
       "      <td>0.00084881+/-0.00000032</td>\n",
       "      <td>0.0+/-0</td>\n",
       "      <td>0.0+/-0</td>\n",
       "      <td>None</td>\n",
       "      <td>1.0+/-0</td>\n",
       "      <td>0.0+/-0</td>\n",
       "      <td>0.0+/-0</td>\n",
       "      <td>None</td>\n",
       "      <td>None</td>\n",
       "      <td>None</td>\n",
       "      <td>...</td>\n",
       "      <td>50</td>\n",
       "      <td>auto</td>\n",
       "      <td>auto</td>\n",
       "      <td>total</td>\n",
       "      <td>0.0.0</td>\n",
       "      <td></td>\n",
       "      <td>1000.000000</td>\n",
       "      <td>1000.000000</td>\n",
       "      <td>ResumminoRunner-resummino 3.1.1-dev</td>\n",
       "      <td>1000.000000</td>\n",
       "    </tr>\n",
       "    <tr>\n",
       "      <th>1</th>\n",
       "      <td>0.00031883+/-0.00000012</td>\n",
       "      <td>0.0+/-0</td>\n",
       "      <td>0.0+/-0</td>\n",
       "      <td>None</td>\n",
       "      <td>1.0+/-0</td>\n",
       "      <td>0.0+/-0</td>\n",
       "      <td>0.0+/-0</td>\n",
       "      <td>None</td>\n",
       "      <td>None</td>\n",
       "      <td>None</td>\n",
       "      <td>...</td>\n",
       "      <td>50</td>\n",
       "      <td>auto</td>\n",
       "      <td>auto</td>\n",
       "      <td>total</td>\n",
       "      <td>0.0.0</td>\n",
       "      <td></td>\n",
       "      <td>1168.333333</td>\n",
       "      <td>1168.333333</td>\n",
       "      <td>ResumminoRunner-resummino 3.1.1-dev</td>\n",
       "      <td>1168.333333</td>\n",
       "    </tr>\n",
       "    <tr>\n",
       "      <th>2</th>\n",
       "      <td>0.00012577+/-0.00000005</td>\n",
       "      <td>0.0+/-0</td>\n",
       "      <td>0.0+/-0</td>\n",
       "      <td>None</td>\n",
       "      <td>1.0+/-0</td>\n",
       "      <td>0.0+/-0</td>\n",
       "      <td>0.0+/-0</td>\n",
       "      <td>None</td>\n",
       "      <td>None</td>\n",
       "      <td>None</td>\n",
       "      <td>...</td>\n",
       "      <td>50</td>\n",
       "      <td>auto</td>\n",
       "      <td>auto</td>\n",
       "      <td>total</td>\n",
       "      <td>0.0.0</td>\n",
       "      <td></td>\n",
       "      <td>1336.666667</td>\n",
       "      <td>1336.666667</td>\n",
       "      <td>ResumminoRunner-resummino 3.1.1-dev</td>\n",
       "      <td>1336.666667</td>\n",
       "    </tr>\n",
       "    <tr>\n",
       "      <th>3</th>\n",
       "      <td>(5.1490+/-0.0019)e-05</td>\n",
       "      <td>0.0+/-0</td>\n",
       "      <td>0.0+/-0</td>\n",
       "      <td>None</td>\n",
       "      <td>1.0+/-0</td>\n",
       "      <td>0.0+/-0</td>\n",
       "      <td>0.0+/-0</td>\n",
       "      <td>None</td>\n",
       "      <td>None</td>\n",
       "      <td>None</td>\n",
       "      <td>...</td>\n",
       "      <td>50</td>\n",
       "      <td>auto</td>\n",
       "      <td>auto</td>\n",
       "      <td>total</td>\n",
       "      <td>0.0.0</td>\n",
       "      <td></td>\n",
       "      <td>1505.000000</td>\n",
       "      <td>1505.000000</td>\n",
       "      <td>ResumminoRunner-resummino 3.1.1-dev</td>\n",
       "      <td>1505.000000</td>\n",
       "    </tr>\n",
       "    <tr>\n",
       "      <th>4</th>\n",
       "      <td>(2.1751+/-0.0008)e-05</td>\n",
       "      <td>0.0+/-0</td>\n",
       "      <td>0.0+/-0</td>\n",
       "      <td>None</td>\n",
       "      <td>1.0+/-0</td>\n",
       "      <td>0.0+/-0</td>\n",
       "      <td>0.0+/-0</td>\n",
       "      <td>None</td>\n",
       "      <td>None</td>\n",
       "      <td>None</td>\n",
       "      <td>...</td>\n",
       "      <td>50</td>\n",
       "      <td>auto</td>\n",
       "      <td>auto</td>\n",
       "      <td>total</td>\n",
       "      <td>0.0.0</td>\n",
       "      <td></td>\n",
       "      <td>1673.333333</td>\n",
       "      <td>1673.333333</td>\n",
       "      <td>ResumminoRunner-resummino 3.1.1-dev</td>\n",
       "      <td>1673.333333</td>\n",
       "    </tr>\n",
       "    <tr>\n",
       "      <th>5</th>\n",
       "      <td>(9.4624+/-0.0035)e-06</td>\n",
       "      <td>0.0+/-0</td>\n",
       "      <td>0.0+/-0</td>\n",
       "      <td>None</td>\n",
       "      <td>1.0+/-0</td>\n",
       "      <td>0.0+/-0</td>\n",
       "      <td>0.0+/-0</td>\n",
       "      <td>None</td>\n",
       "      <td>None</td>\n",
       "      <td>None</td>\n",
       "      <td>...</td>\n",
       "      <td>50</td>\n",
       "      <td>auto</td>\n",
       "      <td>auto</td>\n",
       "      <td>total</td>\n",
       "      <td>0.0.0</td>\n",
       "      <td></td>\n",
       "      <td>1841.666667</td>\n",
       "      <td>1841.666667</td>\n",
       "      <td>ResumminoRunner-resummino 3.1.1-dev</td>\n",
       "      <td>1841.666667</td>\n",
       "    </tr>\n",
       "    <tr>\n",
       "      <th>6</th>\n",
       "      <td>(4.2408+/-0.0015)e-06</td>\n",
       "      <td>0.0+/-0</td>\n",
       "      <td>0.0+/-0</td>\n",
       "      <td>None</td>\n",
       "      <td>1.00000000000000000000+/-0.00000000000000000004</td>\n",
       "      <td>0.0+/-0</td>\n",
       "      <td>0.0+/-0</td>\n",
       "      <td>None</td>\n",
       "      <td>None</td>\n",
       "      <td>None</td>\n",
       "      <td>...</td>\n",
       "      <td>50</td>\n",
       "      <td>auto</td>\n",
       "      <td>auto</td>\n",
       "      <td>total</td>\n",
       "      <td>0.0.0</td>\n",
       "      <td></td>\n",
       "      <td>2010.000000</td>\n",
       "      <td>2010.000000</td>\n",
       "      <td>ResumminoRunner-resummino 3.1.1-dev</td>\n",
       "      <td>2010.000000</td>\n",
       "    </tr>\n",
       "  </tbody>\n",
       "</table>\n",
       "<p>7 rows × 42 columns</p>\n",
       "</div>"
      ],
      "text/plain": [
       "                        LO      NLO NLO_PLUS_NLL aNNLO_PLUS_NNLL  \\\n",
       "0  0.00084881+/-0.00000032  0.0+/-0      0.0+/-0            None   \n",
       "1  0.00031883+/-0.00000012  0.0+/-0      0.0+/-0            None   \n",
       "2  0.00012577+/-0.00000005  0.0+/-0      0.0+/-0            None   \n",
       "3    (5.1490+/-0.0019)e-05  0.0+/-0      0.0+/-0            None   \n",
       "4    (2.1751+/-0.0008)e-05  0.0+/-0      0.0+/-0            None   \n",
       "5    (9.4624+/-0.0035)e-06  0.0+/-0      0.0+/-0            None   \n",
       "6    (4.2408+/-0.0015)e-06  0.0+/-0      0.0+/-0            None   \n",
       "\n",
       "                                              K_LO    K_NLO K_NLO_PLUS_NLL  \\\n",
       "0                                          1.0+/-0  0.0+/-0        0.0+/-0   \n",
       "1                                          1.0+/-0  0.0+/-0        0.0+/-0   \n",
       "2                                          1.0+/-0  0.0+/-0        0.0+/-0   \n",
       "3                                          1.0+/-0  0.0+/-0        0.0+/-0   \n",
       "4                                          1.0+/-0  0.0+/-0        0.0+/-0   \n",
       "5                                          1.0+/-0  0.0+/-0        0.0+/-0   \n",
       "6  1.00000000000000000000+/-0.00000000000000000004  0.0+/-0        0.0+/-0   \n",
       "\n",
       "  NLO_PLUS_NLL_OVER_NLO K_aNNLO_PLUS_NNLL aNNLO_PLUS_NNLL_OVER_NLO  ...  \\\n",
       "0                  None              None                     None  ...   \n",
       "1                  None              None                     None  ...   \n",
       "2                  None              None                     None  ...   \n",
       "3                  None              None                     None  ...   \n",
       "4                  None              None                     None  ...   \n",
       "5                  None              None                     None  ...   \n",
       "6                  None              None                     None  ...   \n",
       "\n",
       "  max_iters invariant_mass    pt result     id model           mu  \\\n",
       "0        50           auto  auto  total  0.0.0        1000.000000   \n",
       "1        50           auto  auto  total  0.0.0        1168.333333   \n",
       "2        50           auto  auto  total  0.0.0        1336.666667   \n",
       "3        50           auto  auto  total  0.0.0        1505.000000   \n",
       "4        50           auto  auto  total  0.0.0        1673.333333   \n",
       "5        50           auto  auto  total  0.0.0        1841.666667   \n",
       "6        50           auto  auto  total  0.0.0        2010.000000   \n",
       "\n",
       "   mass_1000022_1000023_1000024                               runner  \\\n",
       "0                   1000.000000  ResumminoRunner-resummino 3.1.1-dev   \n",
       "1                   1168.333333  ResumminoRunner-resummino 3.1.1-dev   \n",
       "2                   1336.666667  ResumminoRunner-resummino 3.1.1-dev   \n",
       "3                   1505.000000  ResumminoRunner-resummino 3.1.1-dev   \n",
       "4                   1673.333333  ResumminoRunner-resummino 3.1.1-dev   \n",
       "5                   1841.666667  ResumminoRunner-resummino 3.1.1-dev   \n",
       "6                   2010.000000  ResumminoRunner-resummino 3.1.1-dev   \n",
       "\n",
       "   mass_1000022  \n",
       "0   1000.000000  \n",
       "1   1168.333333  \n",
       "2   1336.666667  \n",
       "3   1505.000000  \n",
       "4   1673.333333  \n",
       "5   1841.666667  \n",
       "6   2010.000000  \n",
       "\n",
       "[7 rows x 42 columns]"
      ]
     },
     "execution_count": 6,
     "metadata": {},
     "output_type": "execute_result"
    }
   ],
   "source": [
    "rs_dl"
   ]
  },
  {
   "cell_type": "markdown",
   "id": "1c6580de",
   "metadata": {},
   "source": [
    "# NLO+NLL wino\n"
   ]
  },
  {
   "cell_type": "code",
   "execution_count": null,
   "id": "475e4359",
   "metadata": {
    "scrolled": false
   },
   "outputs": [],
   "source": [
    "params = [\n",
    "    \"wino.slha\",\n",
    "]\n",
    "pss = [\n",
    "    ( 1000023, +1000024),  # N1C1p\n",
    "    #( 1000022, -1000024),  # N1C1m\n",
    "    #(+1000024, -1000024),  # C1pC1m\n",
    "]\n",
    "energies = [13000,\n",
    "            #13600\n",
    "           ]\n",
    "pdfs = [\"PDF4LHC15_nlo_30\",\n",
    "    \"CT18NLO\",\"MSHT20nlo_as118\"]\n",
    "\n",
    "for energy in energies:\n",
    "    for pa, pb in pss:\n",
    "        for pdf in pdfs:\n",
    "            hepi.set_output_dir(\n",
    "                \"output_\" + str(energy) + \"_wino_\" + str(pa) + \"_\" + str(pb) + \"_\" + pdf+ \"/\"\n",
    "            )\n",
    "            rs.default_resummino_runner.set_output_dir(hepi.get_output_dir())\n",
    "            for param in params:\n",
    "                i = hepi.Input(\n",
    "                    hepi.Order.LO if test_lo else hepi.Order.NLO_PLUS_NLL,\n",
    "                    energy,\n",
    "                    pa,\n",
    "                    pb,\n",
    "                    param,\n",
    "                    pdf,\n",
    "                    pdf,\n",
    "                    1.0,\n",
    "                    1.0,\n",
    "                    id=\"0.0.0\",\n",
    "                    precision=0.001,\n",
    "                    max_iters=50,\n",
    "                )\n",
    "                li = [i]\n",
    "                li = hepi.masses_scan(\n",
    "                    li,\n",
    "                    [\n",
    "                        1000022,\n",
    "                        1000023,\n",
    "                        1000024,\n",
    "                    ],\n",
    "                    np.linspace(1000,2010,3),\n",
    "                )\n",
    "                if not test_lo:\n",
    "\n",
    "                    li = hepi.seven_point_scan(li)\n",
    "                    li = hepi.pdf_scan(li)\n",
    "                    # li = hepi.change_where(li, {\"precision\": 0.0001, \"max_iters\": 200}, pdfset_nlo=0)\n",
    "                    if not analyse:\n",
    "                        rs_dl = rs.run(li, skip=False, run=False, parse=False)\n",
    "                    else:\n",
    "                        rs_dl = rs.run(li, skip=True, run=True, parse=True,ignore_error=True)\n",
    "                        rs_dl = hepi.pdf_errors(li,rs_dl,[\"LO\",\"NLO\",\"NLO_PLUS_NLL\"])\n",
    "                        rs_dl = hepi.scale_errors(li,rs_dl,[\"LO\",\"NLO\",\"NLO_PLUS_NLL\"])\n",
    "                        rs_dl = hepi.combine_errors(rs_dl,[\"LO\",\"NLO\",\"NLO_PLUS_NLL\"])\n",
    "                        hepi.title(li[0])\n",
    "                        #hepi.mass_plot(rs_dl,\"LO_COMBINED\",1000022,mask = rs_dl[\"aNNLO_PLUS_NNLL_COMBINED\"].notnull(),show=True,logy=True,interpolate=True,fill=True,interpolator='cubic',pre=np.log,post=np.exp)\n",
    "                        #hepi.mass_plot(rs_dl,\"NLO_COMBINED\",1000022,mask = rs_dl[\"aNNLO_PLUS_NNLL_COMBINED\"].notnull(),show=True,logy=True,interpolate=True,fill=True,interpolator='cubic',pre=np.log,post=np.exp,init=False)\n",
    "                        hepi.mass_plot(rs_dl,\"NLO_PLUS_NLL_COMBINED\",1000022,mask = rs_dl[\"NLO_PLUS_NLL_COMBINED\"].notnull(),show=True,logy=True,interpolate=False,fill=True,interpolator='cubic',pre=np.log,post=np.exp,init=False)\n",
    "                        hepi.mass_plot(rs_dl,\"NLO_PLUS_NLL_SCALE\",1000022,mask = rs_dl[\"NLO_PLUS_NLL_COMBINED\"].notnull(),show=True,logy=True,interpolate=False,fill=True,interpolator='cubic',pre=np.log,post=np.exp,init=False)\n",
    "                        hepi.mass_plot(rs_dl,\"NLO_PLUS_NLL_PDF\",1000022,mask = rs_dl[\"NLO_PLUS_NLL_COMBINED\"].notnull(),ratio=True,show=True,logy=False,interpolate=False,fill=True,interpolator='cubic',pre=np.log,post=np.exp,init=False)\n",
    "\n",
    "                else:\n",
    "                    rs_dl = rs.run(li, skip=True, run=True, parse=True)\n",
    "                    hepi.mass_plot(rs_dl,\"LO\",1000022,show=True,interpolator='cubic',pre=np.log,post=np.exp)"
   ]
  },
  {
   "cell_type": "code",
   "execution_count": null,
   "id": "69daf927",
   "metadata": {},
   "outputs": [],
   "source": []
  },
  {
   "cell_type": "code",
   "execution_count": null,
   "id": "ee75e35b",
   "metadata": {},
   "outputs": [],
   "source": []
  }
 ],
 "metadata": {
  "kernelspec": {
   "display_name": "Python 3",
   "language": "python",
   "name": "python3"
  },
  "language_info": {
   "codemirror_mode": {
    "name": "ipython",
    "version": 3
   },
   "file_extension": ".py",
   "mimetype": "text/x-python",
   "name": "python",
   "nbconvert_exporter": "python",
   "pygments_lexer": "ipython3",
   "version": "3.9.15"
  }
 },
 "nbformat": 4,
 "nbformat_minor": 5
}
