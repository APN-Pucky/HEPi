{
 "cells": [
  {
   "cell_type": "markdown",
   "id": "92353069",
   "metadata": {},
   "source": [
    "# Scenarios\n",
    "\n",
    "The scenarios are taken from https://twiki.cern.ch/twiki/bin/view/LHCPhysics/SUSYCrossSections.\n",
    "\n",
    "Modifications:\n",
    "-   we set the STAUMIX values to maximally mixed for sleptons\n",
    "-   we manually set the massses of all particles tagged with an @a or {M...} "
   ]
  },
  {
   "cell_type": "code",
   "execution_count": 2,
   "id": "6c1a697f",
   "metadata": {},
   "outputs": [
    {
     "name": "stdout",
     "output_type": "stream",
     "text": [
      "dirty\n",
      "resummino 3.1.1-dev\n",
      "~/git/resummino/build/bin/resummino\n"
     ]
    }
   ],
   "source": [
    "#%load_ext nb_black\n",
    "import hepi\n",
    "\n",
    "\n",
    "print(hepi.__version__)\n",
    "import smpl\n",
    "from smpl import data\n",
    "import numpy as np\n",
    "import hepi.resummino as rs\n",
    "import hepi.util as util\n",
    "import matplotlib.pyplot as plt\n",
    "\n",
    "rs.set_path(\"~/git/resummino/build/bin/resummino\")\n",
    "print(rs.default_resummino_runner.get_version())\n",
    "print(rs.get_path())\n",
    "\n",
    "test_lo = True\n",
    "analyse  = True # else generation"
   ]
  },
  {
   "cell_type": "markdown",
   "id": "9c261ba6",
   "metadata": {},
   "source": [
    "# aNNLO+NNLL wino\n"
   ]
  },
  {
   "cell_type": "code",
   "execution_count": 7,
   "id": "e050dbc9",
   "metadata": {
    "scrolled": false
   },
   "outputs": [
    {
     "name": "stderr",
     "output_type": "stream",
     "text": [
      "/home/apn/.local/lib/python3.9/site-packages/hepi/input.py:283: RuntimeWarning: Could not set new central scale to average of masses.\n",
      "  warnings.warn(\"Could not set new central scale to average of masses.\",\n"
     ]
    },
    {
     "name": "stdout",
     "output_type": "stream",
     "text": [
      ".......= 7 jobs\n"
     ]
    },
    {
     "name": "stderr",
     "output_type": "stream",
     "text": [
      "100%|███████████████████████████████████████████████████████████████████████████████████████████████████████████████████████████| 7/7 [00:00<00:00, 269.71it/s]\n"
     ]
    },
    {
     "data": {
      "image/png": "[encoded data removed]",
      "text/plain": [
       "<Figure size 432x288 with 1 Axes>"
      ]
     },
     "metadata": {
      "needs_background": "light"
     },
     "output_type": "display_data"
    }
   ],
   "source": [
    "params = [\n",
    "    \"wino.slha\",\n",
    "]\n",
    "energies = [13000,\n",
    "            #13600\n",
    "           ]\n",
    "pss = [\n",
    "    ( 1000023, +1000024),  # N1C1p\n",
    "    #( 1000023, -1000024),  # N1C1m\n",
    "    #(+1000024, -1000024),  # C1pC1m\n",
    "]\n",
    "pdfs = [\"PDF4LHC21_40\"]\n",
    "for energy in energies:\n",
    "    for pa, pb in pss:\n",
    "        for pdf in pdfs:\n",
    "            hepi.set_output_dir(\n",
    "                \"demo_output_\" + str(energy) + \"_wino_\" + str(pa) + \"_\" + str(pb) + \"_\" + pdf+ \"/\"\n",
    "            )\n",
    "            rs.default_resummino_runner.set_output_dir(hepi.get_output_dir())\n",
    "            for param in params:\n",
    "                i = hepi.Input(\n",
    "                    hepi.Order.LO if test_lo else hepi.Order.aNNLO_PLUS_NNLL,\n",
    "                    energy,\n",
    "                    pa,\n",
    "                    pb,\n",
    "                    param,\n",
    "                    pdf,\n",
    "                    pdf,\n",
    "                    1.0,\n",
    "                    1.0,\n",
    "                    id=\"0.0.0\",\n",
    "                    precision=0.001,\n",
    "                    max_iters=50,\n",
    "                )\n",
    "                li = [i]\n",
    "                li = hepi.masses_scan(\n",
    "                    li,\n",
    "                    [\n",
    "                        1000022,\n",
    "                        1000023,\n",
    "                        1000024,\n",
    "                    ],\n",
    "                    np.linspace(1000,2010,7),\n",
    "                )\n",
    "                if not test_lo:\n",
    "\n",
    "                    li = hepi.seven_point_scan(li)\n",
    "                    li = hepi.pdf_scan(li)\n",
    "                    # li = hepi.change_where(li, {\"precision\": 0.0001, \"max_iters\": 200}, pdfset_nlo=0)\n",
    "                    if not analyse:\n",
    "                        rs_dl = rs.run(li, skip=False, run=False, parse=False)\n",
    "                    else:\n",
    "                        rs_dl = rs.run(li, skip=True, run=True, parse=True,ignore_error=True)\n",
    "                        rs_dl = hepi.pdf_errors(li,rs_dl)\n",
    "                        rs_dl = hepi.scale_errors(li,rs_dl)\n",
    "                        rs_dl = hepi.combine_errors(rs_dl)\n",
    "                        hepi.title(li[0])\n",
    "                        #hepi.mass_plot(rs_dl,\"LO_COMBINED\",1000022,mask = rs_dl[\"aNNLO_PLUS_NNLL_COMBINED\"].notnull(),show=True,logy=True,interpolate=True,fill=True,interpolator='cubic',pre=np.log,post=np.exp)\n",
    "                        #hepi.mass_plot(rs_dl,\"NLO_COMBINED\",1000022,mask = rs_dl[\"aNNLO_PLUS_NNLL_COMBINED\"].notnull(),show=True,logy=True,interpolate=True,fill=True,interpolator='cubic',pre=np.log,post=np.exp,init=False)\n",
    "                        hepi.mass_plot(rs_dl,\"aNNLO_PLUS_NNLL_COMBINED\",1000022,mask = rs_dl[\"aNNLO_PLUS_NNLL_COMBINED\"].notnull(),show=True,logy=True,interpolate=False,fill=True,interpolator='cubic',pre=np.log,post=np.exp,init=False)\n",
    "                        hepi.mass_plot(rs_dl,\"aNNLO_PLUS_NNLL_SCALE\",1000022,mask = rs_dl[\"aNNLO_PLUS_NNLL_COMBINED\"].notnull(),show=True,logy=True,interpolate=False,fill=True,interpolator='cubic',pre=np.log,post=np.exp,init=False)\n",
    "                        hepi.mass_plot(rs_dl,\"aNNLO_PLUS_NNLL_PDF\",1000022,mask = rs_dl[\"aNNLO_PLUS_NNLL_COMBINED\"].notnull(),ratio=True,show=True,logy=False,interpolate=False,fill=True,interpolator='cubic',pre=np.log,post=np.exp,init=False)\n",
    "                        \n",
    "                else:\n",
    "                    rs_dl = rs.run(li, skip=True, run=True, parse=True)\n",
    "                    hepi.mass_plot(rs_dl,\"LO\",1000022,show=True,interpolator='cubic',pre=np.log,post=np.exp)"
   ]
  },
  {
   "cell_type": "code",
   "execution_count": 6,
   "id": "5847af06",
   "metadata": {},
   "outputs": [
    {
     "data": {
      "text/html": [
       "<div>\n",
       "<style scoped>\n",
       "    .dataframe tbody tr th:only-of-type {\n",
       "        vertical-align: middle;\n",
       "    }\n",
       "\n",
       "    .dataframe tbody tr th {\n",
       "        vertical-align: top;\n",
       "    }\n",
       "\n",
       "    .dataframe thead th {\n",
       "        text-align: right;\n",
       "    }\n",
       "</style>\n",
       "<table border=\"1\" class=\"dataframe\">\n",
       "  <thead>\n",
       "    <tr style=\"text-align: right;\">\n",
       "      <th></th>\n",
       "      <th>LO</th>\n",
       "      <th>NLO</th>\n",
       "      <th>NLO_PLUS_NLL</th>\n",
       "      <th>aNNLO_PLUS_NNLL</th>\n",
       "      <th>K_LO</th>\n",
       "      <th>K_NLO</th>\n",
       "      <th>K_NLO_PLUS_NLL</th>\n",
       "      <th>NLO_PLUS_NLL_OVER_NLO</th>\n",
       "      <th>K_aNNLO_PLUS_NNLL</th>\n",
       "      <th>aNNLO_PLUS_NNLL_OVER_NLO</th>\n",
       "      <th>...</th>\n",
       "      <th>max_iters</th>\n",
       "      <th>invariant_mass</th>\n",
       "      <th>pt</th>\n",
       "      <th>result</th>\n",
       "      <th>id</th>\n",
       "      <th>model</th>\n",
       "      <th>mu</th>\n",
       "      <th>mass_1000022_1000023_1000024</th>\n",
       "      <th>runner</th>\n",
       "      <th>mass_1000022</th>\n",
       "    </tr>\n",
       "  </thead>\n",
       "  <tbody>\n",
       "    <tr>\n",
       "      <th>0</th>\n",
       "      <td>0.00084881+/-0.00000032</td>\n",
       "      <td>0.0+/-0</td>\n",
       "      <td>0.0+/-0</td>\n",
       "      <td>None</td>\n",
       "      <td>1.0+/-0</td>\n",
       "      <td>0.0+/-0</td>\n",
       "      <td>0.0+/-0</td>\n",
       "      <td>None</td>\n",
       "      <td>None</td>\n",
       "      <td>None</td>\n",
       "      <td>...</td>\n",
       "      <td>50</td>\n",
       "      <td>auto</td>\n",
       "      <td>auto</td>\n",
       "      <td>total</td>\n",
       "      <td>0.0.0</td>\n",
       "      <td></td>\n",
       "      <td>1000.000000</td>\n",
       "      <td>1000.000000</td>\n",
       "      <td>ResumminoRunner-resummino 3.1.1-dev</td>\n",
       "      <td>1000.000000</td>\n",
       "    </tr>\n",
       "    <tr>\n",
       "      <th>1</th>\n",
       "      <td>0.00031883+/-0.00000012</td>\n",
       "      <td>0.0+/-0</td>\n",
       "      <td>0.0+/-0</td>\n",
       "      <td>None</td>\n",
       "      <td>1.0+/-0</td>\n",
       "      <td>0.0+/-0</td>\n",
       "      <td>0.0+/-0</td>\n",
       "      <td>None</td>\n",
       "      <td>None</td>\n",
       "      <td>None</td>\n",
       "      <td>...</td>\n",
       "      <td>50</td>\n",
       "      <td>auto</td>\n",
       "      <td>auto</td>\n",
       "      <td>total</td>\n",
       "      <td>0.0.0</td>\n",
       "      <td></td>\n",
       "      <td>1168.333333</td>\n",
       "      <td>1168.333333</td>\n",
       "      <td>ResumminoRunner-resummino 3.1.1-dev</td>\n",
       "      <td>1168.333333</td>\n",
       "    </tr>\n",
       "    <tr>\n",
       "      <th>2</th>\n",
       "      <td>0.00012577+/-0.00000005</td>\n",
       "      <td>0.0+/-0</td>\n",
       "      <td>0.0+/-0</td>\n",
       "      <td>None</td>\n",
       "      <td>1.0+/-0</td>\n",
       "      <td>0.0+/-0</td>\n",
       "      <td>0.0+/-0</td>\n",
       "      <td>None</td>\n",
       "      <td>None</td>\n",
       "      <td>None</td>\n",
       "      <td>...</td>\n",
       "      <td>50</td>\n",
       "      <td>auto</td>\n",
       "      <td>auto</td>\n",
       "      <td>total</td>\n",
       "      <td>0.0.0</td>\n",
       "      <td></td>\n",
       "      <td>1336.666667</td>\n",
       "      <td>1336.666667</td>\n",
       "      <td>ResumminoRunner-resummino 3.1.1-dev</td>\n",
       "      <td>1336.666667</td>\n",
       "    </tr>\n",
       "    <tr>\n",
       "      <th>3</th>\n",
       "      <td>(5.1490+/-0.0019)e-05</td>\n",
       "      <td>0.0+/-0</td>\n",
       "      <td>0.0+/-0</td>\n",
       "      <td>None</td>\n",
       "      <td>1.0+/-0</td>\n",
       "      <td>0.0+/-0</td>\n",
       "      <td>0.0+/-0</td>\n",
       "      <td>None</td>\n",
       "      <td>None</td>\n",
       "      <td>None</td>\n",
       "      <td>...</td>\n",
       "      <td>50</td>\n",
       "      <td>auto</td>\n",
       "      <td>auto</td>\n",
       "      <td>total</td>\n",
       "      <td>0.0.0</td>\n",
       "      <td></td>\n",
       "      <td>1505.000000</td>\n",
       "      <td>1505.000000</td>\n",
       "      <td>ResumminoRunner-resummino 3.1.1-dev</td>\n",
       "      <td>1505.000000</td>\n",
       "    </tr>\n",
       "    <tr>\n",
       "      <th>4</th>\n",
       "      <td>(2.1751+/-0.0008)e-05</td>\n",
       "      <td>0.0+/-0</td>\n",
       "      <td>0.0+/-0</td>\n",
       "      <td>None</td>\n",
       "      <td>1.0+/-0</td>\n",
       "      <td>0.0+/-0</td>\n",
       "      <td>0.0+/-0</td>\n",
       "      <td>None</td>\n",
       "      <td>None</td>\n",
       "      <td>None</td>\n",
       "      <td>...</td>\n",
       "      <td>50</td>\n",
       "      <td>auto</td>\n",
       "      <td>auto</td>\n",
       "      <td>total</td>\n",
       "      <td>0.0.0</td>\n",
       "      <td></td>\n",
       "      <td>1673.333333</td>\n",
       "      <td>1673.333333</td>\n",
       "      <td>ResumminoRunner-resummino 3.1.1-dev</td>\n",
       "      <td>1673.333333</td>\n",
       "    </tr>\n",
       "    <tr>\n",
       "      <th>5</th>\n",
       "      <td>(9.4624+/-0.0035)e-06</td>\n",
       "      <td>0.0+/-0</td>\n",
       "      <td>0.0+/-0</td>\n",
       "      <td>None</td>\n",
       "      <td>1.0+/-0</td>\n",
       "      <td>0.0+/-0</td>\n",
       "      <td>0.0+/-0</td>\n",
       "      <td>None</td>\n",
       "      <td>None</td>\n",
       "      <td>None</td>\n",
       "      <td>...</td>\n",
       "      <td>50</td>\n",
       "      <td>auto</td>\n",
       "      <td>auto</td>\n",
       "      <td>total</td>\n",
       "      <td>0.0.0</td>\n",
       "      <td></td>\n",
       "      <td>1841.666667</td>\n",
       "      <td>1841.666667</td>\n",
       "      <td>ResumminoRunner-resummino 3.1.1-dev</td>\n",
       "      <td>1841.666667</td>\n",
       "    </tr>\n",
       "    <tr>\n",
       "      <th>6</th>\n",
       "      <td>(4.2408+/-0.0015)e-06</td>\n",
       "      <td>0.0+/-0</td>\n",
       "      <td>0.0+/-0</td>\n",
       "      <td>None</td>\n",
       "      <td>1.00000000000000000000+/-0.00000000000000000004</td>\n",
       "      <td>0.0+/-0</td>\n",
       "      <td>0.0+/-0</td>\n",
       "      <td>None</td>\n",
       "      <td>None</td>\n",
       "      <td>None</td>\n",
       "      <td>...</td>\n",
       "      <td>50</td>\n",
       "      <td>auto</td>\n",
       "      <td>auto</td>\n",
       "      <td>total</td>\n",
       "      <td>0.0.0</td>\n",
       "      <td></td>\n",
       "      <td>2010.000000</td>\n",
       "      <td>2010.000000</td>\n",
       "      <td>ResumminoRunner-resummino 3.1.1-dev</td>\n",
       "      <td>2010.000000</td>\n",
       "    </tr>\n",
       "  </tbody>\n",
       "</table>\n",
       "<p>7 rows × 42 columns</p>\n",
       "</div>"
      ],
      "text/plain": [
       "                        LO      NLO NLO_PLUS_NLL aNNLO_PLUS_NNLL  \\\n",
       "0  0.00084881+/-0.00000032  0.0+/-0      0.0+/-0            None   \n",
       "1  0.00031883+/-0.00000012  0.0+/-0      0.0+/-0            None   \n",
       "2  0.00012577+/-0.00000005  0.0+/-0      0.0+/-0            None   \n",
       "3    (5.1490+/-0.0019)e-05  0.0+/-0      0.0+/-0            None   \n",
       "4    (2.1751+/-0.0008)e-05  0.0+/-0      0.0+/-0            None   \n",
       "5    (9.4624+/-0.0035)e-06  0.0+/-0      0.0+/-0            None   \n",
       "6    (4.2408+/-0.0015)e-06  0.0+/-0      0.0+/-0            None   \n",
       "\n",
       "                                              K_LO    K_NLO K_NLO_PLUS_NLL  \\\n",
       "0                                          1.0+/-0  0.0+/-0        0.0+/-0   \n",
       "1                                          1.0+/-0  0.0+/-0        0.0+/-0   \n",
       "2                                          1.0+/-0  0.0+/-0        0.0+/-0   \n",
       "3                                          1.0+/-0  0.0+/-0        0.0+/-0   \n",
       "4                                          1.0+/-0  0.0+/-0        0.0+/-0   \n",
       "5                                          1.0+/-0  0.0+/-0        0.0+/-0   \n",
       "6  1.00000000000000000000+/-0.00000000000000000004  0.0+/-0        0.0+/-0   \n",
       "\n",
       "  NLO_PLUS_NLL_OVER_NLO K_aNNLO_PLUS_NNLL aNNLO_PLUS_NNLL_OVER_NLO  ...  \\\n",
       "0                  None              None                     None  ...   \n",
       "1                  None              None                     None  ...   \n",
       "2                  None              None                     None  ...   \n",
       "3                  None              None                     None  ...   \n",
       "4                  None              None                     None  ...   \n",
       "5                  None              None                     None  ...   \n",
       "6                  None              None                     None  ...   \n",
       "\n",
       "  max_iters invariant_mass    pt result     id model           mu  \\\n",
       "0        50           auto  auto  total  0.0.0        1000.000000   \n",
       "1        50           auto  auto  total  0.0.0        1168.333333   \n",
       "2        50           auto  auto  total  0.0.0        1336.666667   \n",
       "3        50           auto  auto  total  0.0.0        1505.000000   \n",
       "4        50           auto  auto  total  0.0.0        1673.333333   \n",
       "5        50           auto  auto  total  0.0.0        1841.666667   \n",
       "6        50           auto  auto  total  0.0.0        2010.000000   \n",
       "\n",
       "   mass_1000022_1000023_1000024                               runner  \\\n",
       "0                   1000.000000  ResumminoRunner-resummino 3.1.1-dev   \n",
       "1                   1168.333333  ResumminoRunner-resummino 3.1.1-dev   \n",
       "2                   1336.666667  ResumminoRunner-resummino 3.1.1-dev   \n",
       "3                   1505.000000  ResumminoRunner-resummino 3.1.1-dev   \n",
       "4                   1673.333333  ResumminoRunner-resummino 3.1.1-dev   \n",
       "5                   1841.666667  ResumminoRunner-resummino 3.1.1-dev   \n",
       "6                   2010.000000  ResumminoRunner-resummino 3.1.1-dev   \n",
       "\n",
       "   mass_1000022  \n",
       "0   1000.000000  \n",
       "1   1168.333333  \n",
       "2   1336.666667  \n",
       "3   1505.000000  \n",
       "4   1673.333333  \n",
       "5   1841.666667  \n",
       "6   2010.000000  \n",
       "\n",
       "[7 rows x 42 columns]"
      ]
     },
     "execution_count": 6,
     "metadata": {},
     "output_type": "execute_result"
    }
   ],
   "source": [
    "rs_dl"
   ]
  },
  {
   "cell_type": "markdown",
   "id": "1c6580de",
   "metadata": {},
   "source": [
    "# NLO+NLL wino\n"
   ]
  },
  {
   "cell_type": "code",
   "execution_count": 3,
   "id": "475e4359",
   "metadata": {
    "scrolled": false
   },
   "outputs": [
    {
     "name": "stderr",
     "output_type": "stream",
     "text": [
      "/home/apn/.local/lib/python3.9/site-packages/hepi/input.py:283: RuntimeWarning: Could not set new central scale to average of masses.\n",
      "  warnings.warn(\"Could not set new central scale to average of masses.\",\n"
     ]
    },
    {
     "name": "stdout",
     "output_type": "stream",
     "text": [
      "...............................................................................................................= 111 jobs\n"
     ]
    },
    {
     "name": "stderr",
     "output_type": "stream",
     "text": [
      "100%|███████████████████████████████████████████████████████████████████████████████████████████████████████████████████████| 111/111 [00:00<00:00, 212.76it/s]\n",
      "/home/apn/.local/lib/python3.9/site-packages/hepi/results.py:156: RuntimeWarning: too bad numerical precision vs pdf @ LO num: 0.038222858640920225% vs 0.0% to pdf: -0.0%\n",
      "  warnings.warn(\n",
      "/home/apn/.local/lib/python3.9/site-packages/hepi/results.py:156: RuntimeWarning: too bad numerical precision vs pdf @ LO num: 0.03935899883790293% vs 0.0% to pdf: -0.0%\n",
      "  warnings.warn(\n",
      "/home/apn/.local/lib/python3.9/site-packages/hepi/results.py:156: RuntimeWarning: too bad numerical precision vs pdf @ LO num: 0.04302339315572162% vs 0.0% to pdf: -0.0%\n",
      "  warnings.warn(\n",
      "/home/apn/.local/lib/python3.9/site-packages/hepi/results.py:239: RuntimeWarning: too bad numerical precision vs scale @ num:NLO_PLUS_NLL 0.13891286389768187% vs scale:0.8694896505925649% to -2.6375819204339237%\n",
      "  warnings.warn(\n"
     ]
    },
    {
     "data": {
      "image/png": "[encoded data removed]",
      "text/plain": [
       "<Figure size 432x288 with 1 Axes>"
      ]
     },
     "metadata": {
      "needs_background": "light"
     },
     "output_type": "display_data"
    },
    {
     "data": {
      "image/png": "[encoded data removed]",
      "text/plain": [
       "<Figure size 432x288 with 1 Axes>"
      ]
     },
     "metadata": {
      "needs_background": "light"
     },
     "output_type": "display_data"
    },
    {
     "data": {
      "image/png": "[encoded data removed]",
      "text/plain": [
       "<Figure size 432x288 with 1 Axes>"
      ]
     },
     "metadata": {
      "needs_background": "light"
     },
     "output_type": "display_data"
    },
    {
     "name": "stderr",
     "output_type": "stream",
     "text": [
      "/home/apn/.local/lib/python3.9/site-packages/hepi/input.py:283: RuntimeWarning: Could not set new central scale to average of masses.\n",
      "  warnings.warn(\"Could not set new central scale to average of masses.\",\n"
     ]
    },
    {
     "name": "stdout",
     "output_type": "stream",
     "text": [
      "...................................................................................................................................................................................................= 195 jobs\n"
     ]
    },
    {
     "name": "stderr",
     "output_type": "stream",
     "text": [
      "100%|███████████████████████████████████████████████████████████████████████████████████████████████████████████████████████| 195/195 [00:00<00:00, 334.41it/s]\n",
      "/home/apn/.local/lib/python3.9/site-packages/hepi/results.py:156: RuntimeWarning: too bad numerical precision vs pdf @ LO num: 0.038002646619275195% vs 0.0% to pdf: -0.0%\n",
      "  warnings.warn(\n",
      "/home/apn/.local/lib/python3.9/site-packages/hepi/results.py:156: RuntimeWarning: too bad numerical precision vs pdf @ LO num: 0.037457542113956487% vs 0.0% to pdf: -0.0%\n",
      "  warnings.warn(\n",
      "/home/apn/.local/lib/python3.9/site-packages/hepi/results.py:156: RuntimeWarning: too bad numerical precision vs pdf @ LO num: 0.03705890070026622% vs 0.0% to pdf: -0.0%\n",
      "  warnings.warn(\n"
     ]
    },
    {
     "data": {
      "image/png": "[encoded data removed]",
      "text/plain": [
       "<Figure size 432x288 with 1 Axes>"
      ]
     },
     "metadata": {
      "needs_background": "light"
     },
     "output_type": "display_data"
    },
    {
     "data": {
      "image/png": "[encoded data removed]",
      "text/plain": [
       "<Figure size 432x288 with 1 Axes>"
      ]
     },
     "metadata": {
      "needs_background": "light"
     },
     "output_type": "display_data"
    },
    {
     "data": {
      "image/png": "[encoded data removed]",
      "text/plain": [
       "<Figure size 432x288 with 1 Axes>"
      ]
     },
     "metadata": {
      "needs_background": "light"
     },
     "output_type": "display_data"
    },
    {
     "name": "stderr",
     "output_type": "stream",
     "text": [
      "/home/apn/.local/lib/python3.9/site-packages/hepi/input.py:283: RuntimeWarning: Could not set new central scale to average of masses.\n",
      "  warnings.warn(\"Could not set new central scale to average of masses.\",\n"
     ]
    },
    {
     "name": "stdout",
     "output_type": "stream",
     "text": [
      ".....................................................................................................................................................................................................................= 213 jobs\n"
     ]
    },
    {
     "name": "stderr",
     "output_type": "stream",
     "text": [
      "100%|███████████████████████████████████████████████████████████████████████████████████████████████████████████████████████| 213/213 [00:00<00:00, 301.39it/s]\n",
      "/home/apn/.local/lib/python3.9/site-packages/hepi/results.py:156: RuntimeWarning: too bad numerical precision vs pdf @ LO num: 0.038135141614718725% vs 0.0% to pdf: -0.0%\n",
      "  warnings.warn(\n",
      "/home/apn/.local/lib/python3.9/site-packages/hepi/results.py:156: RuntimeWarning: too bad numerical precision vs pdf @ LO num: 0.03945767968092352% vs 0.0% to pdf: -0.0%\n",
      "  warnings.warn(\n",
      "/home/apn/.local/lib/python3.9/site-packages/hepi/results.py:156: RuntimeWarning: too bad numerical precision vs pdf @ LO num: 0.04097140776755224% vs 0.0% to pdf: -0.0%\n",
      "  warnings.warn(\n"
     ]
    },
    {
     "data": {
      "image/png": "[encoded data removed]",
      "text/plain": [
       "<Figure size 432x288 with 1 Axes>"
      ]
     },
     "metadata": {
      "needs_background": "light"
     },
     "output_type": "display_data"
    },
    {
     "data": {
      "image/png": "[encoded data removed]",
      "text/plain": [
       "<Figure size 432x288 with 1 Axes>"
      ]
     },
     "metadata": {
      "needs_background": "light"
     },
     "output_type": "display_data"
    },
    {
     "data": {
      "image/png": "[encoded data removed]",
      "text/plain": [
       "<Figure size 432x288 with 1 Axes>"
      ]
     },
     "metadata": {
      "needs_background": "light"
     },
     "output_type": "display_data"
    }
   ],
   "source": [
    "params = [\n",
    "    \"wino.slha\",\n",
    "]\n",
    "pss = [\n",
    "    ( 1000023, +1000024),  # N1C1p\n",
    "    #( 1000022, -1000024),  # N1C1m\n",
    "    #(+1000024, -1000024),  # C1pC1m\n",
    "]\n",
    "energies = [13000,\n",
    "            #13600\n",
    "           ]\n",
    "pdfs = [\"PDF4LHC15_nlo_30\",\n",
    "    \"CT18NLO\",\"MSHT20nlo_as118\"]\n",
    "\n",
    "for energy in energies:\n",
    "    for pa, pb in pss:\n",
    "        for pdf in pdfs:\n",
    "            hepi.set_output_dir(\n",
    "                \"output_\" + str(energy) + \"_wino_\" + str(pa) + \"_\" + str(pb) + \"_\" + pdf+ \"/\"\n",
    "            )\n",
    "            rs.default_resummino_runner.set_output_dir(hepi.get_output_dir())\n",
    "            for param in params:\n",
    "                i = hepi.Input(\n",
    "                    hepi.Order.LO if test_lo else hepi.Order.NLO_PLUS_NLL,\n",
    "                    energy,\n",
    "                    pa,\n",
    "                    pb,\n",
    "                    param,\n",
    "                    pdf,\n",
    "                    pdf,\n",
    "                    1.0,\n",
    "                    1.0,\n",
    "                    id=\"0.0.0\",\n",
    "                    precision=0.001,\n",
    "                    max_iters=50,\n",
    "                )\n",
    "                li = [i]\n",
    "                li = hepi.masses_scan(\n",
    "                    li,\n",
    "                    [\n",
    "                        1000022,\n",
    "                        1000023,\n",
    "                        1000024,\n",
    "                    ],\n",
    "                    np.linspace(1000,2010,3),\n",
    "                )\n",
    "                if not test_lo:\n",
    "\n",
    "                    li = hepi.seven_point_scan(li)\n",
    "                    li = hepi.pdf_scan(li)\n",
    "                    # li = hepi.change_where(li, {\"precision\": 0.0001, \"max_iters\": 200}, pdfset_nlo=0)\n",
    "                    if not analyse:\n",
    "                        rs_dl = rs.run(li, skip=False, run=False, parse=False)\n",
    "                    else:\n",
    "                        rs_dl = rs.run(li, skip=True, run=True, parse=True,ignore_error=True)\n",
    "                        rs_dl = hepi.pdf_errors(li,rs_dl,[\"LO\",\"NLO\",\"NLO_PLUS_NLL\"])\n",
    "                        rs_dl = hepi.scale_errors(li,rs_dl,[\"LO\",\"NLO\",\"NLO_PLUS_NLL\"])\n",
    "                        rs_dl = hepi.combine_errors(rs_dl,[\"LO\",\"NLO\",\"NLO_PLUS_NLL\"])\n",
    "                        hepi.title(li[0])\n",
    "                        #hepi.mass_plot(rs_dl,\"LO_COMBINED\",1000022,mask = rs_dl[\"aNNLO_PLUS_NNLL_COMBINED\"].notnull(),show=True,logy=True,interpolate=True,fill=True,interpolator='cubic',pre=np.log,post=np.exp)\n",
    "                        #hepi.mass_plot(rs_dl,\"NLO_COMBINED\",1000022,mask = rs_dl[\"aNNLO_PLUS_NNLL_COMBINED\"].notnull(),show=True,logy=True,interpolate=True,fill=True,interpolator='cubic',pre=np.log,post=np.exp,init=False)\n",
    "                        hepi.mass_plot(rs_dl,\"NLO_PLUS_NLL_COMBINED\",1000022,mask = rs_dl[\"NLO_PLUS_NLL_COMBINED\"].notnull(),show=True,logy=True,interpolate=False,fill=True,interpolator='cubic',pre=np.log,post=np.exp,init=False)\n",
    "                        hepi.mass_plot(rs_dl,\"NLO_PLUS_NLL_SCALE\",1000022,mask = rs_dl[\"NLO_PLUS_NLL_COMBINED\"].notnull(),show=True,logy=True,interpolate=False,fill=True,interpolator='cubic',pre=np.log,post=np.exp,init=False)\n",
    "                        hepi.mass_plot(rs_dl,\"NLO_PLUS_NLL_PDF\",1000022,mask = rs_dl[\"NLO_PLUS_NLL_COMBINED\"].notnull(),ratio=True,show=True,logy=False,interpolate=False,fill=True,interpolator='cubic',pre=np.log,post=np.exp,init=False)\n",
    "\n",
    "                else:\n",
    "                    rs_dl = rs.run(li, skip=True, run=True, parse=True)\n",
    "                    hepi.mass_plot(rs_dl,\"LO\",1000022,show=True,interpolator='cubic',pre=np.log,post=np.exp)"
   ]
  },
  {
   "cell_type": "code",
   "execution_count": null,
   "id": "69daf927",
   "metadata": {},
   "outputs": [],
   "source": []
  },
  {
   "cell_type": "code",
   "execution_count": null,
   "id": "ee75e35b",
   "metadata": {},
   "outputs": [],
   "source": []
  }
 ],
 "metadata": {
  "kernelspec": {
   "display_name": "Python 3 (ipykernel)",
   "language": "python",
   "name": "python3"
  },
  "language_info": {
   "codemirror_mode": {
    "name": "ipython",
    "version": 3
   },
   "file_extension": ".py",
   "mimetype": "text/x-python",
   "name": "python",
   "nbconvert_exporter": "python",
   "pygments_lexer": "ipython3",
   "version": "3.9.13"
  }
 },
 "nbformat": 4,
 "nbformat_minor": 5
}
