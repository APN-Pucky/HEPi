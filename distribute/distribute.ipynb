{
 "cells": [
  {
   "cell_type": "markdown",
   "id": "92353069",
   "metadata": {},
   "source": [
    "# Scenarios\n",
    "\n",
    "The scenarios are taken from https://twiki.cern.ch/twiki/bin/view/LHCPhysics/SUSYCrossSections.\n",
    "\n",
    "Modifications:\n",
    "-   we set the STAUMIX values to maximally mixed for sleptons\n",
    "-   we manually set the massses of all particles tagged with an @a or {M...} "
   ]
  },
  {
   "cell_type": "code",
   "execution_count": 3,
   "id": "6c1a697f",
   "metadata": {},
   "outputs": [
    {
     "name": "stdout",
     "output_type": "stream",
     "text": [
      "0.2.0.0+dirty\n",
      "~/git/resummino/build\n"
     ]
    }
   ],
   "source": [
    "#%load_ext nb_black\n",
    "import hepi\n",
    "\n",
    "\n",
    "print(hepi.__version__)\n",
    "import smpl\n",
    "from smpl import data\n",
    "import numpy as np\n",
    "import hepi.resummino as rs\n",
    "import hepi.util as util\n",
    "import matplotlib.pyplot as plt\n",
    "\n",
    "rs.set_path(\"~/git/resummino/build\")\n",
    "print(rs.get_path())\n",
    "\n",
    "test_lo = False\n",
    "analyse  = True # else generation\n",
    "\n",
    "plt.rcParams.update({'font.size': 15})\n",
    "plt.rc('legend', fontsize=12)\n",
    "#rm tex files\n",
    "from smpl import io\n",
    "import os\n",
    "for _,_,f in io.files(\".tex\"):\n",
    "    os.remove(f)"
   ]
  },
  {
   "cell_type": "markdown",
   "id": "c10932c6",
   "metadata": {},
   "source": [
    "# aNNLO+NNLL sleptons"
   ]
  },
  {
   "cell_type": "code",
   "execution_count": 3,
   "id": "a67dfa0b",
   "metadata": {
    "scrolled": false
   },
   "outputs": [
    {
     "name": "stderr",
     "output_type": "stream",
     "text": [
      "/home/apn/.local/lib/python3.9/site-packages/hepi/input.py:283: RuntimeWarning: Could not set new central scale to average of masses.\n",
      "  warnings.warn(\"Could not set new central scale to average of masses.\",\n"
     ]
    },
    {
     "data": {
      "application/json": {
       "ascii": false,
       "bar_format": null,
       "colour": null,
       "elapsed": 0.0313563346862793,
       "initial": 0,
       "n": 0,
       "ncols": null,
       "nrows": 81,
       "postfix": null,
       "prefix": "QUEUEING TASKS | Checking input",
       "rate": null,
       "total": 470,
       "unit": "it",
       "unit_divisor": 1000,
       "unit_scale": false
      },
      "application/vnd.jupyter.widget-view+json": {
       "model_id": "94c1e1a3b6b94376a8bbfa503bfe6add",
       "version_major": 2,
       "version_minor": 0
      },
      "text/plain": [
       "QUEUEING TASKS | Checking input:   0%|          | 0/470 [00:00<?, ?it/s]"
      ]
     },
     "metadata": {},
     "output_type": "display_data"
    },
    {
     "data": {
      "application/json": {
       "ascii": false,
       "bar_format": null,
       "colour": null,
       "elapsed": 0.0365750789642334,
       "initial": 0,
       "n": 0,
       "ncols": null,
       "nrows": 81,
       "postfix": null,
       "prefix": "PROCESSING TASKS | Checking input",
       "rate": null,
       "total": 470,
       "unit": "it",
       "unit_divisor": 1000,
       "unit_scale": false
      },
      "application/vnd.jupyter.widget-view+json": {
       "model_id": "c960026c9b0f4ff4a691eda7d37717bd",
       "version_major": 2,
       "version_minor": 0
      },
      "text/plain": [
       "PROCESSING TASKS | Checking input:   0%|          | 0/470 [00:00<?, ?it/s]"
      ]
     },
     "metadata": {},
     "output_type": "display_data"
    },
    {
     "data": {
      "application/json": {
       "ascii": false,
       "bar_format": null,
       "colour": null,
       "elapsed": 0.05458688735961914,
       "initial": 0,
       "n": 0,
       "ncols": null,
       "nrows": 81,
       "postfix": null,
       "prefix": "COLLECTING RESULTS | Checking input",
       "rate": null,
       "total": 470,
       "unit": "it",
       "unit_divisor": 1000,
       "unit_scale": false
      },
      "application/vnd.jupyter.widget-view+json": {
       "model_id": "9d968e2f99e840cdb3b04c20f811ad1c",
       "version_major": 2,
       "version_minor": 0
      },
      "text/plain": [
       "COLLECTING RESULTS | Checking input:   0%|          | 0/470 [00:00<?, ?it/s]"
      ]
     },
     "metadata": {},
     "output_type": "display_data"
    },
    {
     "name": "stdout",
     "output_type": "stream",
     "text": [
      "|||||||||||||||||||||||||||||||||||||||||||||||||||||||||||||||||||||||||||||||||||||||||||||||||||||||||||||||||||||||||||||||||||||||||||||||||||||||||||||= 470 jobs\n"
     ]
    },
    {
     "ename": "KeyboardInterrupt",
     "evalue": "",
     "output_type": "error",
     "traceback": [
      "\u001b[0;31m---------------------------------------------------------------------------\u001b[0m",
      "\u001b[0;31mKeyboardInterrupt\u001b[0m                         Traceback (most recent call last)",
      "Input \u001b[0;32mIn [3]\u001b[0m, in \u001b[0;36m<cell line: 9>\u001b[0;34m()\u001b[0m\n\u001b[1;32m     50\u001b[0m     rs_dl \u001b[38;5;241m=\u001b[39m rs\u001b[38;5;241m.\u001b[39mrun(li, skip\u001b[38;5;241m=\u001b[39m\u001b[38;5;28;01mFalse\u001b[39;00m, run\u001b[38;5;241m=\u001b[39m\u001b[38;5;28;01mFalse\u001b[39;00m, parse\u001b[38;5;241m=\u001b[39m\u001b[38;5;28;01mFalse\u001b[39;00m)\n\u001b[1;32m     51\u001b[0m \u001b[38;5;28;01melse\u001b[39;00m:\n\u001b[0;32m---> 52\u001b[0m     rs_dl \u001b[38;5;241m=\u001b[39m \u001b[43mrs\u001b[49m\u001b[38;5;241;43m.\u001b[39;49m\u001b[43mrun\u001b[49m\u001b[43m(\u001b[49m\u001b[43mli\u001b[49m\u001b[43m,\u001b[49m\u001b[43m \u001b[49m\u001b[43mskip\u001b[49m\u001b[38;5;241;43m=\u001b[39;49m\u001b[38;5;28;43;01mTrue\u001b[39;49;00m\u001b[43m,\u001b[49m\u001b[43m \u001b[49m\u001b[43mrun\u001b[49m\u001b[38;5;241;43m=\u001b[39;49m\u001b[38;5;28;43;01mTrue\u001b[39;49;00m\u001b[43m,\u001b[49m\u001b[43m \u001b[49m\u001b[43mparse\u001b[49m\u001b[38;5;241;43m=\u001b[39;49m\u001b[38;5;28;43;01mTrue\u001b[39;49;00m\u001b[43m,\u001b[49m\u001b[43mignore_error\u001b[49m\u001b[38;5;241;43m=\u001b[39;49m\u001b[38;5;28;43;01mTrue\u001b[39;49;00m\u001b[43m)\u001b[49m\n\u001b[1;32m     53\u001b[0m     rs_dl \u001b[38;5;241m=\u001b[39m hepi\u001b[38;5;241m.\u001b[39mpdf_errors(li,rs_dl)\n\u001b[1;32m     54\u001b[0m     rs_dl \u001b[38;5;241m=\u001b[39m hepi\u001b[38;5;241m.\u001b[39mscale_errors(li,rs_dl)\n",
      "File \u001b[0;32m~/.local/lib/python3.9/site-packages/hepi/run.py:178\u001b[0m, in \u001b[0;36mRunner.run\u001b[0;34m(self, params, skip, parse, parallel, sleep, run, ignore_error, **kwargs)\u001b[0m\n\u001b[1;32m    176\u001b[0m     sleep \u001b[38;5;241m=\u001b[39m \u001b[38;5;241m0\u001b[39m \u001b[38;5;28;01mif\u001b[39;00m parse \u001b[38;5;28;01melse\u001b[39;00m \u001b[38;5;241m5\u001b[39m\n\u001b[1;32m    177\u001b[0m \u001b[38;5;28;01mif\u001b[39;00m run:\n\u001b[0;32m--> 178\u001b[0m     \u001b[38;5;28;43mself\u001b[39;49m\u001b[38;5;241;43m.\u001b[39;49m\u001b[43m_run\u001b[49m\u001b[43m(\u001b[49m\u001b[43mrps\u001b[49m\u001b[43m,\u001b[49m\n\u001b[1;32m    179\u001b[0m \u001b[43m              \u001b[49m\u001b[43mwait\u001b[49m\u001b[38;5;241;43m=\u001b[39;49m\u001b[43mparse\u001b[49m\u001b[43m,\u001b[49m\n\u001b[1;32m    180\u001b[0m \u001b[43m              \u001b[49m\u001b[43mparallel\u001b[49m\u001b[38;5;241;43m=\u001b[39;49m\u001b[43mparallel\u001b[49m\u001b[43m,\u001b[49m\n\u001b[1;32m    181\u001b[0m \u001b[43m              \u001b[49m\u001b[43msleep\u001b[49m\u001b[38;5;241;43m=\u001b[39;49m\u001b[43msleep\u001b[49m\u001b[43m,\u001b[49m\n\u001b[1;32m    182\u001b[0m \u001b[43m              \u001b[49m\u001b[38;5;241;43m*\u001b[39;49m\u001b[38;5;241;43m*\u001b[39;49m\u001b[43mkwargs\u001b[49m\u001b[43m)\u001b[49m\n\u001b[1;32m    183\u001b[0m \u001b[38;5;28;01mif\u001b[39;00m parse:\n\u001b[1;32m    184\u001b[0m     outs \u001b[38;5;241m=\u001b[39m LD2DL(rps)[\u001b[38;5;124m\"\u001b[39m\u001b[38;5;124mout_file\u001b[39m\u001b[38;5;124m\"\u001b[39m]\n",
      "File \u001b[0;32m~/.local/lib/python3.9/site-packages/hepi/run.py:219\u001b[0m, in \u001b[0;36mRunner._run\u001b[0;34m(self, rps, wait, parallel, sleep, **kwargs)\u001b[0m\n\u001b[1;32m    217\u001b[0m \u001b[38;5;28;01mif\u001b[39;00m \u001b[38;5;129;01mnot\u001b[39;00m rp\u001b[38;5;241m.\u001b[39mskip:\n\u001b[1;32m    218\u001b[0m     command \u001b[38;5;241m=\u001b[39m template\u001b[38;5;241m.\u001b[39mformat(rp\u001b[38;5;241m.\u001b[39mexecute)\n\u001b[0;32m--> 219\u001b[0m     process \u001b[38;5;241m=\u001b[39m \u001b[43msubprocess\u001b[49m\u001b[38;5;241;43m.\u001b[39;49m\u001b[43mPopen\u001b[49m\u001b[43m(\u001b[49m\u001b[43mcommand\u001b[49m\u001b[43m,\u001b[49m\u001b[43m \u001b[49m\u001b[43mshell\u001b[49m\u001b[38;5;241;43m=\u001b[39;49m\u001b[38;5;28;43;01mTrue\u001b[39;49;00m\u001b[43m)\u001b[49m\n\u001b[1;32m    220\u001b[0m     processes\u001b[38;5;241m.\u001b[39mappend(process)\n\u001b[1;32m    221\u001b[0m     \u001b[38;5;28;01mif\u001b[39;00m \u001b[38;5;129;01mnot\u001b[39;00m parallel:\n",
      "File \u001b[0;32m/usr/lib/python3.9/subprocess.py:951\u001b[0m, in \u001b[0;36mPopen.__init__\u001b[0;34m(self, args, bufsize, executable, stdin, stdout, stderr, preexec_fn, close_fds, shell, cwd, env, universal_newlines, startupinfo, creationflags, restore_signals, start_new_session, pass_fds, user, group, extra_groups, encoding, errors, text, umask)\u001b[0m\n\u001b[1;32m    947\u001b[0m         \u001b[38;5;28;01mif\u001b[39;00m \u001b[38;5;28mself\u001b[39m\u001b[38;5;241m.\u001b[39mtext_mode:\n\u001b[1;32m    948\u001b[0m             \u001b[38;5;28mself\u001b[39m\u001b[38;5;241m.\u001b[39mstderr \u001b[38;5;241m=\u001b[39m io\u001b[38;5;241m.\u001b[39mTextIOWrapper(\u001b[38;5;28mself\u001b[39m\u001b[38;5;241m.\u001b[39mstderr,\n\u001b[1;32m    949\u001b[0m                     encoding\u001b[38;5;241m=\u001b[39mencoding, errors\u001b[38;5;241m=\u001b[39merrors)\n\u001b[0;32m--> 951\u001b[0m     \u001b[38;5;28;43mself\u001b[39;49m\u001b[38;5;241;43m.\u001b[39;49m\u001b[43m_execute_child\u001b[49m\u001b[43m(\u001b[49m\u001b[43margs\u001b[49m\u001b[43m,\u001b[49m\u001b[43m \u001b[49m\u001b[43mexecutable\u001b[49m\u001b[43m,\u001b[49m\u001b[43m \u001b[49m\u001b[43mpreexec_fn\u001b[49m\u001b[43m,\u001b[49m\u001b[43m \u001b[49m\u001b[43mclose_fds\u001b[49m\u001b[43m,\u001b[49m\n\u001b[1;32m    952\u001b[0m \u001b[43m                        \u001b[49m\u001b[43mpass_fds\u001b[49m\u001b[43m,\u001b[49m\u001b[43m \u001b[49m\u001b[43mcwd\u001b[49m\u001b[43m,\u001b[49m\u001b[43m \u001b[49m\u001b[43menv\u001b[49m\u001b[43m,\u001b[49m\n\u001b[1;32m    953\u001b[0m \u001b[43m                        \u001b[49m\u001b[43mstartupinfo\u001b[49m\u001b[43m,\u001b[49m\u001b[43m \u001b[49m\u001b[43mcreationflags\u001b[49m\u001b[43m,\u001b[49m\u001b[43m \u001b[49m\u001b[43mshell\u001b[49m\u001b[43m,\u001b[49m\n\u001b[1;32m    954\u001b[0m \u001b[43m                        \u001b[49m\u001b[43mp2cread\u001b[49m\u001b[43m,\u001b[49m\u001b[43m \u001b[49m\u001b[43mp2cwrite\u001b[49m\u001b[43m,\u001b[49m\n\u001b[1;32m    955\u001b[0m \u001b[43m                        \u001b[49m\u001b[43mc2pread\u001b[49m\u001b[43m,\u001b[49m\u001b[43m \u001b[49m\u001b[43mc2pwrite\u001b[49m\u001b[43m,\u001b[49m\n\u001b[1;32m    956\u001b[0m \u001b[43m                        \u001b[49m\u001b[43merrread\u001b[49m\u001b[43m,\u001b[49m\u001b[43m \u001b[49m\u001b[43merrwrite\u001b[49m\u001b[43m,\u001b[49m\n\u001b[1;32m    957\u001b[0m \u001b[43m                        \u001b[49m\u001b[43mrestore_signals\u001b[49m\u001b[43m,\u001b[49m\n\u001b[1;32m    958\u001b[0m \u001b[43m                        \u001b[49m\u001b[43mgid\u001b[49m\u001b[43m,\u001b[49m\u001b[43m \u001b[49m\u001b[43mgids\u001b[49m\u001b[43m,\u001b[49m\u001b[43m \u001b[49m\u001b[43muid\u001b[49m\u001b[43m,\u001b[49m\u001b[43m \u001b[49m\u001b[43mumask\u001b[49m\u001b[43m,\u001b[49m\n\u001b[1;32m    959\u001b[0m \u001b[43m                        \u001b[49m\u001b[43mstart_new_session\u001b[49m\u001b[43m)\u001b[49m\n\u001b[1;32m    960\u001b[0m \u001b[38;5;28;01mexcept\u001b[39;00m:\n\u001b[1;32m    961\u001b[0m     \u001b[38;5;66;03m# Cleanup if the child failed starting.\u001b[39;00m\n\u001b[1;32m    962\u001b[0m     \u001b[38;5;28;01mfor\u001b[39;00m f \u001b[38;5;129;01min\u001b[39;00m \u001b[38;5;28mfilter\u001b[39m(\u001b[38;5;28;01mNone\u001b[39;00m, (\u001b[38;5;28mself\u001b[39m\u001b[38;5;241m.\u001b[39mstdin, \u001b[38;5;28mself\u001b[39m\u001b[38;5;241m.\u001b[39mstdout, \u001b[38;5;28mself\u001b[39m\u001b[38;5;241m.\u001b[39mstderr)):\n",
      "File \u001b[0;32m/usr/lib/python3.9/subprocess.py:1777\u001b[0m, in \u001b[0;36mPopen._execute_child\u001b[0;34m(self, args, executable, preexec_fn, close_fds, pass_fds, cwd, env, startupinfo, creationflags, shell, p2cread, p2cwrite, c2pread, c2pwrite, errread, errwrite, restore_signals, gid, gids, uid, umask, start_new_session)\u001b[0m\n\u001b[1;32m   1775\u001b[0m errpipe_data \u001b[38;5;241m=\u001b[39m \u001b[38;5;28mbytearray\u001b[39m()\n\u001b[1;32m   1776\u001b[0m \u001b[38;5;28;01mwhile\u001b[39;00m \u001b[38;5;28;01mTrue\u001b[39;00m:\n\u001b[0;32m-> 1777\u001b[0m     part \u001b[38;5;241m=\u001b[39m \u001b[43mos\u001b[49m\u001b[38;5;241;43m.\u001b[39;49m\u001b[43mread\u001b[49m\u001b[43m(\u001b[49m\u001b[43merrpipe_read\u001b[49m\u001b[43m,\u001b[49m\u001b[43m \u001b[49m\u001b[38;5;241;43m50000\u001b[39;49m\u001b[43m)\u001b[49m\n\u001b[1;32m   1778\u001b[0m     errpipe_data \u001b[38;5;241m+\u001b[39m\u001b[38;5;241m=\u001b[39m part\n\u001b[1;32m   1779\u001b[0m     \u001b[38;5;28;01mif\u001b[39;00m \u001b[38;5;129;01mnot\u001b[39;00m part \u001b[38;5;129;01mor\u001b[39;00m \u001b[38;5;28mlen\u001b[39m(errpipe_data) \u001b[38;5;241m>\u001b[39m \u001b[38;5;241m50000\u001b[39m:\n",
      "\u001b[0;31mKeyboardInterrupt\u001b[0m: "
     ]
    }
   ],
   "source": [
    "params = [\n",
    "    \"sleptons.slha\",\n",
    "]\n",
    "pss = [\n",
    "    (+1000011, -1000011),  # l_L^+ l_L^-\n",
    "    (+2000011, -2000011),  # l_R^+ l_R^-\n",
    "    (+1000015, -1000015),  # l_1^+ l_1^-\n",
    "]\n",
    "for pa, pb in pss:\n",
    "    for energy in [13000, 13600]:\n",
    "        name = str(energy) + \"_sleptons_\" + str(pa) + \"_\" + str(pb)\n",
    "        hepi.set_output_dir(\"output_\" + name +\"/\")\n",
    "        rs.default_resummino_runner.set_output_dir(hepi.get_output_dir())\n",
    "        for param in params:\n",
    "            i = hepi.Input(\n",
    "                hepi.Order.LO if test_lo else hepi.Order.aNNLO_PLUS_NNLL,\n",
    "                energy,\n",
    "                pa,\n",
    "                pb,\n",
    "                param,\n",
    "                \"PDF4LHC21_40\",\n",
    "                \"PDF4LHC21_40\",\n",
    "                1.0,\n",
    "                1.0,\n",
    "                id=\"0.0.0\",\n",
    "                precision=0.001,\n",
    "                max_iters=50,\n",
    "            )\n",
    "            li = [i]\n",
    "            li = hepi.masses_scan(\n",
    "                li,\n",
    "                [\n",
    "                    1000011,\n",
    "                    2000011,\n",
    "                    1000012,\n",
    "                    1000013,\n",
    "                    2000013,\n",
    "                    1000014,\n",
    "                    1000015,\n",
    "                    2000015,\n",
    "                    1000016,\n",
    "                ],\n",
    "                range(100, 1010, 100),\n",
    "            )\n",
    "            if not test_lo:\n",
    "                li = hepi.seven_point_scan(li)\n",
    "                li = hepi.pdf_scan(li)\n",
    "                # li = hepi.change_where(li, {\"precision\": 0.0001, \"max_iters\": 200}, pdfset_nlo=0)\n",
    "                if not analyse:\n",
    "                    rs_dl = rs.run(li, skip=False, run=False, parse=False)\n",
    "                else:\n",
    "                    rs_dl = rs.run(li, skip=True, run=True, parse=True,ignore_error=True)\n",
    "                    rs_dl = hepi.pdf_errors(li,rs_dl)\n",
    "                    rs_dl = hepi.scale_errors(li,rs_dl)\n",
    "                    rs_dl = hepi.combine_errors(rs_dl)\n",
    "                    if energy == 13000:\n",
    "                        fig, axs = plt.subplots(2, 1, figsize=(6,4), sharex=True, gridspec_kw={'height_ratios': [2, 1]})         # Remove horizontal space between axes         \n",
    "                        fig.subplots_adjust(hspace=0)\n",
    "                        hepi.title(li[0],axe=axs[0],cms_energy=False,pdf_info=False,scenario=\"\")\n",
    "                        frac = rs_dl[\"aNNLO_PLUS_NNLL_NOERR\"][rs_dl[\"aNNLO_PLUS_NNLL_COMBINED\"].notnull()]\n",
    "                    hepi.mass_plot(rs_dl,\"aNNLO_PLUS_NNLL_NOERR\",1000011,axes=axs[0],mask = rs_dl[\"aNNLO_PLUS_NNLL_COMBINED\"].notnull(),tight=False,fmt=\" \",next_color=False,show=False,plot_data=False,logy=True,interpolate=True,fill=False,interpolator='cubic',pre=lambda a :np.log(a.clip(min=1e-22)),post=np.exp,init=False,interpolate_label=\"13.0 TeV\" if energy == 13000 else \"13.6 TeV\" )\n",
    "                    hepi.mass_plot(rs_dl,\"aNNLO_PLUS_NNLL_COMBINED\",1000011,axes=axs[0],mask = rs_dl[\"aNNLO_PLUS_NNLL_COMBINED\"].notnull(),tight=False,fit_fmt=\" \",next_color=True,show=False,plot_data=False,logy=True,interpolate=True,fill=True,interpolator='cubic',pre=lambda a  :np.log(a.clip(min=1e-22)),post=np.exp,init=False,label=\"\",interpolate_lower_uncertainty=False)\n",
    "                    hepi.mass_plot(rs_dl,\"aNNLO_PLUS_NNLL_NOERR\",1000011,axes=axs[1],yscale=1./frac,mask = rs_dl[\"aNNLO_PLUS_NNLL_COMBINED\"].notnull(),tight=False,yaxis=\"Ratio\",fmt=\" \",next_color=False,show=False,plot_data=False,logy=False,interpolate=True,fill=False,interpolator='cubic',pre=lambda a :np.log(a.clip(min=1e-22)),post=np.exp,init=False,label=\"\")\n",
    "                    hepi.mass_plot(rs_dl,\"aNNLO_PLUS_NNLL_COMBINED\",1000011,axes=axs[1],yscale=1./frac,mask = rs_dl[\"aNNLO_PLUS_NNLL_COMBINED\"].notnull(),tight=False,yaxis=\"Ratio\",fit_fmt=\" \",next_color=True,show=False,plot_data=False,logy=False,interpolate=True,fill=True,interpolator='cubic',pre=lambda a  :np.log(a.clip(min=1e-22)),post=np.exp,init=False,label=\"\",interpolate_lower_uncertainty=False)\n",
    "                    axs[0].set_ylim(5e-7,1)\n",
    "                    axs[1].set_ylim(0.25,1.75)\n",
    "                    axs[0].set_xlabel(None)\n",
    "                    axs[1].set_xlabel('$m_{\\\\tilde{l}}$ [GeV]')\n",
    "                    if energy == 13600:\n",
    "                        plt.savefig(name + \".pdf\",bbox_inches ='tight',pad_inches=0)\n",
    "                        plt.show()\n",
    "                    hepi.write_latex_table_transposed_header(rs_dl,\"aNNLO_PLUS_NNLL\",param+str(energy)+\".tex\",\"mass_1000011\")\n",
    "                    hepi.write_latex_table_transposed(rs_dl,\"aNNLO_PLUS_NNLL\",param+str(energy)+\".tex\",yscale=1000.)\n",
    "            else:\n",
    "                rs_dl = rs.run(li, skip=False, run=True, parse=True)\n",
    "                hepi.mass_plot(rs_dl,\"LO\",1000011,show=True,interpolator='exp')"
   ]
  },
  {
   "cell_type": "markdown",
   "id": "9c261ba6",
   "metadata": {},
   "source": [
    "# aNNLO+NNLL wino\n"
   ]
  },
  {
   "cell_type": "code",
   "execution_count": 2,
   "id": "e050dbc9",
   "metadata": {
    "scrolled": false
   },
   "outputs": [
    {
     "name": "stderr",
     "output_type": "stream",
     "text": [
      "/home/apn/.local/lib/python3.9/site-packages/hepi/input.py:283: RuntimeWarning: Could not set new central scale to average of masses.\n",
      "  warnings.warn(\"Could not set new central scale to average of masses.\",\n"
     ]
    },
    {
     "data": {
      "application/json": {
       "ascii": false,
       "bar_format": null,
       "colour": null,
       "elapsed": 0.02956843376159668,
       "initial": 0,
       "n": 0,
       "ncols": null,
       "nrows": 81,
       "postfix": null,
       "prefix": "QUEUEING TASKS | Checking input",
       "rate": null,
       "total": 940,
       "unit": "it",
       "unit_divisor": 1000,
       "unit_scale": false
      },
      "application/vnd.jupyter.widget-view+json": {
       "model_id": "7689c23d83e849fcbcf53cd68e57ea96",
       "version_major": 2,
       "version_minor": 0
      },
      "text/plain": [
       "QUEUEING TASKS | Checking input:   0%|          | 0/940 [00:00<?, ?it/s]"
      ]
     },
     "metadata": {},
     "output_type": "display_data"
    },
    {
     "data": {
      "application/json": {
       "ascii": false,
       "bar_format": null,
       "colour": null,
       "elapsed": 0.03097248077392578,
       "initial": 0,
       "n": 0,
       "ncols": null,
       "nrows": 81,
       "postfix": null,
       "prefix": "PROCESSING TASKS | Checking input",
       "rate": null,
       "total": 940,
       "unit": "it",
       "unit_divisor": 1000,
       "unit_scale": false
      },
      "application/vnd.jupyter.widget-view+json": {
       "model_id": "0a6f9e50e83c4649a3f3275a1d52c866",
       "version_major": 2,
       "version_minor": 0
      },
      "text/plain": [
       "PROCESSING TASKS | Checking input:   0%|          | 0/940 [00:00<?, ?it/s]"
      ]
     },
     "metadata": {},
     "output_type": "display_data"
    },
    {
     "data": {
      "application/json": {
       "ascii": false,
       "bar_format": null,
       "colour": null,
       "elapsed": 0.0342557430267334,
       "initial": 0,
       "n": 0,
       "ncols": null,
       "nrows": 81,
       "postfix": null,
       "prefix": "COLLECTING RESULTS | Checking input",
       "rate": null,
       "total": 940,
       "unit": "it",
       "unit_divisor": 1000,
       "unit_scale": false
      },
      "application/vnd.jupyter.widget-view+json": {
       "model_id": "331e9725f74a4856b35fefd9846ccba8",
       "version_major": 2,
       "version_minor": 0
      },
      "text/plain": [
       "COLLECTING RESULTS | Checking input:   0%|          | 0/940 [00:00<?, ?it/s]"
      ]
     },
     "metadata": {},
     "output_type": "display_data"
    },
    {
     "data": {
      "application/json": {
       "ascii": false,
       "bar_format": null,
       "colour": null,
       "elapsed": 0.02672266960144043,
       "initial": 0,
       "n": 0,
       "ncols": null,
       "nrows": 81,
       "postfix": null,
       "prefix": "QUEUEING TASKS | Preparing",
       "rate": null,
       "total": 940,
       "unit": "it",
       "unit_divisor": 1000,
       "unit_scale": false
      },
      "application/vnd.jupyter.widget-view+json": {
       "model_id": "9ddc54c8347a4d4d9246ed42e259617b",
       "version_major": 2,
       "version_minor": 0
      },
      "text/plain": [
       "QUEUEING TASKS | Preparing:   0%|          | 0/940 [00:00<?, ?it/s]"
      ]
     },
     "metadata": {},
     "output_type": "display_data"
    },
    {
     "data": {
      "application/json": {
       "ascii": false,
       "bar_format": null,
       "colour": null,
       "elapsed": 0.10001039505004883,
       "initial": 0,
       "n": 0,
       "ncols": null,
       "nrows": 81,
       "postfix": null,
       "prefix": "PROCESSING TASKS | Preparing",
       "rate": null,
       "total": 940,
       "unit": "it",
       "unit_divisor": 1000,
       "unit_scale": false
      },
      "application/vnd.jupyter.widget-view+json": {
       "model_id": "6b1bba2216ca4adcae8ae0690a6af7cd",
       "version_major": 2,
       "version_minor": 0
      },
      "text/plain": [
       "PROCESSING TASKS | Preparing:   0%|          | 0/940 [00:00<?, ?it/s]"
      ]
     },
     "metadata": {},
     "output_type": "display_data"
    },
    {
     "data": {
      "application/json": {
       "ascii": false,
       "bar_format": null,
       "colour": null,
       "elapsed": 0.030335187911987305,
       "initial": 0,
       "n": 0,
       "ncols": null,
       "nrows": 81,
       "postfix": null,
       "prefix": "COLLECTING RESULTS | Preparing",
       "rate": null,
       "total": 940,
       "unit": "it",
       "unit_divisor": 1000,
       "unit_scale": false
      },
      "application/vnd.jupyter.widget-view+json": {
       "model_id": "0151453d1f8e48789d3f47e951159e10",
       "version_major": 2,
       "version_minor": 0
      },
      "text/plain": [
       "COLLECTING RESULTS | Preparing:   0%|          | 0/940 [00:00<?, ?it/s]"
      ]
     },
     "metadata": {},
     "output_type": "display_data"
    },
    {
     "name": "stdout",
     "output_type": "stream",
     "text": [
      "Skipped: 940 Not skipped: 0\n"
     ]
    },
    {
     "data": {
      "application/json": {
       "ascii": false,
       "bar_format": null,
       "colour": null,
       "elapsed": 0.03189396858215332,
       "initial": 0,
       "n": 0,
       "ncols": null,
       "nrows": 81,
       "postfix": null,
       "prefix": "QUEUEING TASKS | Parsing",
       "rate": null,
       "total": 940,
       "unit": "it",
       "unit_divisor": 1000,
       "unit_scale": false
      },
      "application/vnd.jupyter.widget-view+json": {
       "model_id": "99f53334598a4b18b4cf4893d3912a1b",
       "version_major": 2,
       "version_minor": 0
      },
      "text/plain": [
       "QUEUEING TASKS | Parsing:   0%|          | 0/940 [00:00<?, ?it/s]"
      ]
     },
     "metadata": {},
     "output_type": "display_data"
    },
    {
     "data": {
      "application/json": {
       "ascii": false,
       "bar_format": null,
       "colour": null,
       "elapsed": 0.20112276077270508,
       "initial": 0,
       "n": 0,
       "ncols": null,
       "nrows": 81,
       "postfix": null,
       "prefix": "PROCESSING TASKS | Parsing",
       "rate": null,
       "total": 940,
       "unit": "it",
       "unit_divisor": 1000,
       "unit_scale": false
      },
      "application/vnd.jupyter.widget-view+json": {
       "model_id": "88f86f041785442d91d18214b7388632",
       "version_major": 2,
       "version_minor": 0
      },
      "text/plain": [
       "PROCESSING TASKS | Parsing:   0%|          | 0/940 [00:00<?, ?it/s]"
      ]
     },
     "metadata": {},
     "output_type": "display_data"
    },
    {
     "data": {
      "application/json": {
       "ascii": false,
       "bar_format": null,
       "colour": null,
       "elapsed": 0.04362010955810547,
       "initial": 0,
       "n": 0,
       "ncols": null,
       "nrows": 81,
       "postfix": null,
       "prefix": "COLLECTING RESULTS | Parsing",
       "rate": null,
       "total": 940,
       "unit": "it",
       "unit_divisor": 1000,
       "unit_scale": false
      },
      "application/vnd.jupyter.widget-view+json": {
       "model_id": "a822b664e54540ceabd668a91a04e689",
       "version_major": 2,
       "version_minor": 0
      },
      "text/plain": [
       "COLLECTING RESULTS | Parsing:   0%|          | 0/940 [00:00<?, ?it/s]"
      ]
     },
     "metadata": {},
     "output_type": "display_data"
    },
    {
     "data": {
      "application/json": {
       "ascii": false,
       "bar_format": null,
       "colour": null,
       "elapsed": 0.029334068298339844,
       "initial": 0,
       "n": 0,
       "ncols": null,
       "nrows": 81,
       "postfix": null,
       "prefix": "QUEUEING TASKS | PDF uncertainty @ LO",
       "rate": null,
       "total": 20,
       "unit": "it",
       "unit_divisor": 1000,
       "unit_scale": false
      },
      "application/vnd.jupyter.widget-view+json": {
       "model_id": "a369acbf365f4f528ec67c33b1b80eee",
       "version_major": 2,
       "version_minor": 0
      },
      "text/plain": [
       "QUEUEING TASKS | PDF uncertainty @ LO:   0%|          | 0/20 [00:00<?, ?it/s]"
      ]
     },
     "metadata": {},
     "output_type": "display_data"
    },
    {
     "data": {
      "application/json": {
       "ascii": false,
       "bar_format": null,
       "colour": null,
       "elapsed": 0.21091485023498535,
       "initial": 0,
       "n": 0,
       "ncols": null,
       "nrows": 81,
       "postfix": null,
       "prefix": "PROCESSING TASKS | PDF uncertainty @ LO",
       "rate": null,
       "total": 20,
       "unit": "it",
       "unit_divisor": 1000,
       "unit_scale": false
      },
      "application/vnd.jupyter.widget-view+json": {
       "model_id": "ba9b4eedb38d478780477f88ca61a9d8",
       "version_major": 2,
       "version_minor": 0
      },
      "text/plain": [
       "PROCESSING TASKS | PDF uncertainty @ LO:   0%|          | 0/20 [00:00<?, ?it/s]"
      ]
     },
     "metadata": {},
     "output_type": "display_data"
    },
    {
     "data": {
      "application/json": {
       "ascii": false,
       "bar_format": null,
       "colour": null,
       "elapsed": 0.03504180908203125,
       "initial": 0,
       "n": 0,
       "ncols": null,
       "nrows": 81,
       "postfix": null,
       "prefix": "COLLECTING RESULTS | PDF uncertainty @ LO",
       "rate": null,
       "total": 20,
       "unit": "it",
       "unit_divisor": 1000,
       "unit_scale": false
      },
      "application/vnd.jupyter.widget-view+json": {
       "model_id": "19b845c5fcb24f79879974e773de57d4",
       "version_major": 2,
       "version_minor": 0
      },
      "text/plain": [
       "COLLECTING RESULTS | PDF uncertainty @ LO:   0%|          | 0/20 [00:00<?, ?it/s]"
      ]
     },
     "metadata": {},
     "output_type": "display_data"
    },
    {
     "data": {
      "application/json": {
       "ascii": false,
       "bar_format": null,
       "colour": null,
       "elapsed": 0.029155969619750977,
       "initial": 0,
       "n": 0,
       "ncols": null,
       "nrows": 81,
       "postfix": null,
       "prefix": "QUEUEING TASKS | PDF uncertainty @ NLO",
       "rate": null,
       "total": 20,
       "unit": "it",
       "unit_divisor": 1000,
       "unit_scale": false
      },
      "application/vnd.jupyter.widget-view+json": {
       "model_id": "43e7e6e9e2b44f30a363b79105cc01cd",
       "version_major": 2,
       "version_minor": 0
      },
      "text/plain": [
       "QUEUEING TASKS | PDF uncertainty @ NLO:   0%|          | 0/20 [00:00<?, ?it/s]"
      ]
     },
     "metadata": {},
     "output_type": "display_data"
    },
    {
     "data": {
      "application/json": {
       "ascii": false,
       "bar_format": null,
       "colour": null,
       "elapsed": 0.2763805389404297,
       "initial": 0,
       "n": 0,
       "ncols": null,
       "nrows": 81,
       "postfix": null,
       "prefix": "PROCESSING TASKS | PDF uncertainty @ NLO",
       "rate": null,
       "total": 20,
       "unit": "it",
       "unit_divisor": 1000,
       "unit_scale": false
      },
      "application/vnd.jupyter.widget-view+json": {
       "model_id": "7f282ab3fd2f4b8a9c13513008f511f9",
       "version_major": 2,
       "version_minor": 0
      },
      "text/plain": [
       "PROCESSING TASKS | PDF uncertainty @ NLO:   0%|          | 0/20 [00:00<?, ?it/s]"
      ]
     },
     "metadata": {},
     "output_type": "display_data"
    },
    {
     "data": {
      "application/json": {
       "ascii": false,
       "bar_format": null,
       "colour": null,
       "elapsed": 0.035398006439208984,
       "initial": 0,
       "n": 0,
       "ncols": null,
       "nrows": 81,
       "postfix": null,
       "prefix": "COLLECTING RESULTS | PDF uncertainty @ NLO",
       "rate": null,
       "total": 20,
       "unit": "it",
       "unit_divisor": 1000,
       "unit_scale": false
      },
      "application/vnd.jupyter.widget-view+json": {
       "model_id": "2f0cc0d98d2745ca80547dad64966d49",
       "version_major": 2,
       "version_minor": 0
      },
      "text/plain": [
       "COLLECTING RESULTS | PDF uncertainty @ NLO:   0%|          | 0/20 [00:00<?, ?it/s]"
      ]
     },
     "metadata": {},
     "output_type": "display_data"
    },
    {
     "data": {
      "application/json": {
       "ascii": false,
       "bar_format": null,
       "colour": null,
       "elapsed": 0.034738779067993164,
       "initial": 0,
       "n": 0,
       "ncols": null,
       "nrows": 81,
       "postfix": null,
       "prefix": "QUEUEING TASKS | PDF uncertainty @ aNNLO_PLUS_NNLL",
       "rate": null,
       "total": 20,
       "unit": "it",
       "unit_divisor": 1000,
       "unit_scale": false
      },
      "application/vnd.jupyter.widget-view+json": {
       "model_id": "519461b10a8e4f9ba315ad7e8345fffd",
       "version_major": 2,
       "version_minor": 0
      },
      "text/plain": [
       "QUEUEING TASKS | PDF uncertainty @ aNNLO_PLUS_NNLL:   0%|          | 0/20 [00:00<?, ?it/s]"
      ]
     },
     "metadata": {},
     "output_type": "display_data"
    },
    {
     "data": {
      "application/json": {
       "ascii": false,
       "bar_format": null,
       "colour": null,
       "elapsed": 0.23319268226623535,
       "initial": 0,
       "n": 0,
       "ncols": null,
       "nrows": 81,
       "postfix": null,
       "prefix": "PROCESSING TASKS | PDF uncertainty @ aNNLO_PLUS_NNLL",
       "rate": null,
       "total": 20,
       "unit": "it",
       "unit_divisor": 1000,
       "unit_scale": false
      },
      "application/vnd.jupyter.widget-view+json": {
       "model_id": "34ce8d010f7541cd884a31117428edb1",
       "version_major": 2,
       "version_minor": 0
      },
      "text/plain": [
       "PROCESSING TASKS | PDF uncertainty @ aNNLO_PLUS_NNLL:   0%|          | 0/20 [00:00<?, ?it/s]"
      ]
     },
     "metadata": {},
     "output_type": "display_data"
    },
    {
     "data": {
      "application/json": {
       "ascii": false,
       "bar_format": null,
       "colour": null,
       "elapsed": 0.026607275009155273,
       "initial": 0,
       "n": 0,
       "ncols": null,
       "nrows": 81,
       "postfix": null,
       "prefix": "COLLECTING RESULTS | PDF uncertainty @ aNNLO_PLUS_NNLL",
       "rate": null,
       "total": 20,
       "unit": "it",
       "unit_divisor": 1000,
       "unit_scale": false
      },
      "application/vnd.jupyter.widget-view+json": {
       "model_id": "b5808d99b3764815ab2e8ed449ed0fde",
       "version_major": 2,
       "version_minor": 0
      },
      "text/plain": [
       "COLLECTING RESULTS | PDF uncertainty @ aNNLO_PLUS_NNLL:   0%|          | 0/20 [00:00<?, ?it/s]"
      ]
     },
     "metadata": {},
     "output_type": "display_data"
    },
    {
     "data": {
      "application/json": {
       "ascii": false,
       "bar_format": null,
       "colour": null,
       "elapsed": 0.03947782516479492,
       "initial": 0,
       "n": 0,
       "ncols": null,
       "nrows": 81,
       "postfix": null,
       "prefix": "QUEUEING TASKS | Scale uncertainty @ LO",
       "rate": null,
       "total": 20,
       "unit": "it",
       "unit_divisor": 1000,
       "unit_scale": false
      },
      "application/vnd.jupyter.widget-view+json": {
       "model_id": "bcdf1fd73b204f1dad97312f7851d78e",
       "version_major": 2,
       "version_minor": 0
      },
      "text/plain": [
       "QUEUEING TASKS | Scale uncertainty @ LO:   0%|          | 0/20 [00:00<?, ?it/s]"
      ]
     },
     "metadata": {},
     "output_type": "display_data"
    },
    {
     "data": {
      "application/json": {
       "ascii": false,
       "bar_format": null,
       "colour": null,
       "elapsed": 0.22489023208618164,
       "initial": 0,
       "n": 0,
       "ncols": null,
       "nrows": 81,
       "postfix": null,
       "prefix": "PROCESSING TASKS | Scale uncertainty @ LO",
       "rate": null,
       "total": 20,
       "unit": "it",
       "unit_divisor": 1000,
       "unit_scale": false
      },
      "application/vnd.jupyter.widget-view+json": {
       "model_id": "3022cecceb334ef79c82859561f973c0",
       "version_major": 2,
       "version_minor": 0
      },
      "text/plain": [
       "PROCESSING TASKS | Scale uncertainty @ LO:   0%|          | 0/20 [00:00<?, ?it/s]"
      ]
     },
     "metadata": {},
     "output_type": "display_data"
    },
    {
     "data": {
      "application/json": {
       "ascii": false,
       "bar_format": null,
       "colour": null,
       "elapsed": 0.0316462516784668,
       "initial": 0,
       "n": 0,
       "ncols": null,
       "nrows": 81,
       "postfix": null,
       "prefix": "COLLECTING RESULTS | Scale uncertainty @ LO",
       "rate": null,
       "total": 20,
       "unit": "it",
       "unit_divisor": 1000,
       "unit_scale": false
      },
      "application/vnd.jupyter.widget-view+json": {
       "model_id": "97d23235a0b8450dab169025050a7bf4",
       "version_major": 2,
       "version_minor": 0
      },
      "text/plain": [
       "COLLECTING RESULTS | Scale uncertainty @ LO:   0%|          | 0/20 [00:00<?, ?it/s]"
      ]
     },
     "metadata": {},
     "output_type": "display_data"
    },
    {
     "data": {
      "application/json": {
       "ascii": false,
       "bar_format": null,
       "colour": null,
       "elapsed": 0.03048419952392578,
       "initial": 0,
       "n": 0,
       "ncols": null,
       "nrows": 81,
       "postfix": null,
       "prefix": "QUEUEING TASKS | Scale uncertainty @ NLO",
       "rate": null,
       "total": 20,
       "unit": "it",
       "unit_divisor": 1000,
       "unit_scale": false
      },
      "application/vnd.jupyter.widget-view+json": {
       "model_id": "f6643d43c6904047a3e09e8dd516f7ae",
       "version_major": 2,
       "version_minor": 0
      },
      "text/plain": [
       "QUEUEING TASKS | Scale uncertainty @ NLO:   0%|          | 0/20 [00:00<?, ?it/s]"
      ]
     },
     "metadata": {},
     "output_type": "display_data"
    },
    {
     "data": {
      "application/json": {
       "ascii": false,
       "bar_format": null,
       "colour": null,
       "elapsed": 0.2083737850189209,
       "initial": 0,
       "n": 0,
       "ncols": null,
       "nrows": 81,
       "postfix": null,
       "prefix": "PROCESSING TASKS | Scale uncertainty @ NLO",
       "rate": null,
       "total": 20,
       "unit": "it",
       "unit_divisor": 1000,
       "unit_scale": false
      },
      "application/vnd.jupyter.widget-view+json": {
       "model_id": "83cb8f78ed3149d0a67ef08fbd60b25f",
       "version_major": 2,
       "version_minor": 0
      },
      "text/plain": [
       "PROCESSING TASKS | Scale uncertainty @ NLO:   0%|          | 0/20 [00:00<?, ?it/s]"
      ]
     },
     "metadata": {},
     "output_type": "display_data"
    },
    {
     "data": {
      "application/json": {
       "ascii": false,
       "bar_format": null,
       "colour": null,
       "elapsed": 0.03926277160644531,
       "initial": 0,
       "n": 0,
       "ncols": null,
       "nrows": 81,
       "postfix": null,
       "prefix": "COLLECTING RESULTS | Scale uncertainty @ NLO",
       "rate": null,
       "total": 20,
       "unit": "it",
       "unit_divisor": 1000,
       "unit_scale": false
      },
      "application/vnd.jupyter.widget-view+json": {
       "model_id": "c440e631d102477ba5d91a1f207a9057",
       "version_major": 2,
       "version_minor": 0
      },
      "text/plain": [
       "COLLECTING RESULTS | Scale uncertainty @ NLO:   0%|          | 0/20 [00:00<?, ?it/s]"
      ]
     },
     "metadata": {},
     "output_type": "display_data"
    },
    {
     "data": {
      "application/json": {
       "ascii": false,
       "bar_format": null,
       "colour": null,
       "elapsed": 0.031398773193359375,
       "initial": 0,
       "n": 0,
       "ncols": null,
       "nrows": 81,
       "postfix": null,
       "prefix": "QUEUEING TASKS | Scale uncertainty @ aNNLO_PLUS_NNLL",
       "rate": null,
       "total": 20,
       "unit": "it",
       "unit_divisor": 1000,
       "unit_scale": false
      },
      "application/vnd.jupyter.widget-view+json": {
       "model_id": "4e616b8cef9b434aa114a7de7c92b579",
       "version_major": 2,
       "version_minor": 0
      },
      "text/plain": [
       "QUEUEING TASKS | Scale uncertainty @ aNNLO_PLUS_NNLL:   0%|          | 0/20 [00:00<?, ?it/s]"
      ]
     },
     "metadata": {},
     "output_type": "display_data"
    },
    {
     "data": {
      "application/json": {
       "ascii": false,
       "bar_format": null,
       "colour": null,
       "elapsed": 0.19650912284851074,
       "initial": 0,
       "n": 0,
       "ncols": null,
       "nrows": 81,
       "postfix": null,
       "prefix": "PROCESSING TASKS | Scale uncertainty @ aNNLO_PLUS_NNLL",
       "rate": null,
       "total": 20,
       "unit": "it",
       "unit_divisor": 1000,
       "unit_scale": false
      },
      "application/vnd.jupyter.widget-view+json": {
       "model_id": "67a3063781ff48cb94f6c5d4c241ba3d",
       "version_major": 2,
       "version_minor": 0
      },
      "text/plain": [
       "PROCESSING TASKS | Scale uncertainty @ aNNLO_PLUS_NNLL:   0%|          | 0/20 [00:00<?, ?it/s]"
      ]
     },
     "metadata": {},
     "output_type": "display_data"
    },
    {
     "data": {
      "application/json": {
       "ascii": false,
       "bar_format": null,
       "colour": null,
       "elapsed": 0.043226003646850586,
       "initial": 0,
       "n": 0,
       "ncols": null,
       "nrows": 81,
       "postfix": null,
       "prefix": "COLLECTING RESULTS | Scale uncertainty @ aNNLO_PLUS_NNLL",
       "rate": null,
       "total": 20,
       "unit": "it",
       "unit_divisor": 1000,
       "unit_scale": false
      },
      "application/vnd.jupyter.widget-view+json": {
       "model_id": "c8737e28677747e6bef68108c5ea7452",
       "version_major": 2,
       "version_minor": 0
      },
      "text/plain": [
       "COLLECTING RESULTS | Scale uncertainty @ aNNLO_PLUS_NNLL:   0%|          | 0/20 [00:00<?, ?it/s]"
      ]
     },
     "metadata": {},
     "output_type": "display_data"
    },
    {
     "name": "stderr",
     "output_type": "stream",
     "text": [
      "/home/apn/.local/lib/python3.9/site-packages/hepi/results.py:276: RuntimeWarning: too bad numerical precision vs scale @ num:aNNLO_PLUS_NNLL 0.04045435475783379% vs scale:0.40541037224950827% to -0.18847517775507%\n",
      "  warnings.warn(\n",
      "/home/apn/.local/lib/python3.9/site-packages/hepi/results.py:276: RuntimeWarning: too bad numerical precision vs scale @ num:aNNLO_PLUS_NNLL 0.04230219169884242% vs scale:0.3571007674122106% to -0.19407321069839029%\n",
      "  warnings.warn(\n",
      "/home/apn/.local/lib/python3.9/site-packages/hepi/results.py:276: RuntimeWarning: too bad numerical precision vs scale @ num:aNNLO_PLUS_NNLL 0.04180527233142186% vs scale:0.3368956659138532% to -0.17152811497472129%\n",
      "  warnings.warn(\n",
      "/home/apn/.local/lib/python3.9/site-packages/hepi/results.py:276: RuntimeWarning: too bad numerical precision vs scale @ num:aNNLO_PLUS_NNLL 0.03931620674353476% vs scale:0.3180219752501102% to -0.14653354007815456%\n",
      "  warnings.warn(\n",
      "/home/apn/.local/lib/python3.9/site-packages/hepi/results.py:276: RuntimeWarning: too bad numerical precision vs scale @ num:aNNLO_PLUS_NNLL 0.04016020084875354% vs scale:0.3415231743661271% to -0.14611465553074063%\n",
      "  warnings.warn(\n",
      "/home/apn/.local/lib/python3.9/site-packages/hepi/results.py:276: RuntimeWarning: too bad numerical precision vs scale @ num:aNNLO_PLUS_NNLL 0.038146208614764976% vs scale:0.3483606908019055% to -0.09251524113670131%\n",
      "  warnings.warn(\n",
      "/home/apn/.local/lib/python3.9/site-packages/hepi/results.py:276: RuntimeWarning: too bad numerical precision vs scale @ num:aNNLO_PLUS_NNLL 0.04110071496586107% vs scale:0.291035009963225% to -0.10903776422996518%\n",
      "  warnings.warn(\n",
      "/home/apn/.local/lib/python3.9/site-packages/hepi/results.py:276: RuntimeWarning: too bad numerical precision vs scale @ num:aNNLO_PLUS_NNLL 0.041607136902026755% vs scale:0.2740421987912296% to -0.07662472004089768%\n",
      "  warnings.warn(\n",
      "/home/apn/.local/lib/python3.9/site-packages/hepi/results.py:276: RuntimeWarning: too bad numerical precision vs scale @ num:aNNLO_PLUS_NNLL 0.04186449449799023% vs scale:0.2609495567983933% to -0.07481806773610694%\n",
      "  warnings.warn(\n",
      "/home/apn/.local/lib/python3.9/site-packages/hepi/results.py:276: RuntimeWarning: too bad numerical precision vs scale @ num:aNNLO_PLUS_NNLL 0.03826552636215202% vs scale:0.2461239595054223% to -0.05456178280880036%\n",
      "  warnings.warn(\n",
      "/home/apn/.local/lib/python3.9/site-packages/hepi/results.py:276: RuntimeWarning: too bad numerical precision vs scale @ num:aNNLO_PLUS_NNLL 0.03981644227933535% vs scale:0.213373465480252% to -0.029517779817011057%\n",
      "  warnings.warn(\n",
      "/home/apn/.local/lib/python3.9/site-packages/hepi/results.py:276: RuntimeWarning: too bad numerical precision vs scale @ num:aNNLO_PLUS_NNLL 0.03917554077601054% vs scale:0.18788808224549283% to -0.027344881753317493%\n",
      "  warnings.warn(\n",
      "/home/apn/.local/lib/python3.9/site-packages/hepi/results.py:276: RuntimeWarning: too bad numerical precision vs scale @ num:aNNLO_PLUS_NNLL 0.04252037471388404% vs scale:0.20398841693712272% to -0.013849277044244657%\n",
      "  warnings.warn(\n",
      "/home/apn/.local/lib/python3.9/site-packages/hepi/input.py:283: RuntimeWarning: Could not set new central scale to average of masses.\n",
      "  warnings.warn(\"Could not set new central scale to average of masses.\",\n"
     ]
    },
    {
     "data": {
      "application/json": {
       "ascii": false,
       "bar_format": null,
       "colour": null,
       "elapsed": 0.028682231903076172,
       "initial": 0,
       "n": 0,
       "ncols": null,
       "nrows": 81,
       "postfix": null,
       "prefix": "QUEUEING TASKS | Checking input",
       "rate": null,
       "total": 940,
       "unit": "it",
       "unit_divisor": 1000,
       "unit_scale": false
      },
      "application/vnd.jupyter.widget-view+json": {
       "model_id": "0ba24e0c18034a82862f3dc3c450bc71",
       "version_major": 2,
       "version_minor": 0
      },
      "text/plain": [
       "QUEUEING TASKS | Checking input:   0%|          | 0/940 [00:00<?, ?it/s]"
      ]
     },
     "metadata": {},
     "output_type": "display_data"
    },
    {
     "data": {
      "application/json": {
       "ascii": false,
       "bar_format": null,
       "colour": null,
       "elapsed": 0.03394126892089844,
       "initial": 0,
       "n": 0,
       "ncols": null,
       "nrows": 81,
       "postfix": null,
       "prefix": "PROCESSING TASKS | Checking input",
       "rate": null,
       "total": 940,
       "unit": "it",
       "unit_divisor": 1000,
       "unit_scale": false
      },
      "application/vnd.jupyter.widget-view+json": {
       "model_id": "bffe15d42d064cb39c77ad9024cbe8f0",
       "version_major": 2,
       "version_minor": 0
      },
      "text/plain": [
       "PROCESSING TASKS | Checking input:   0%|          | 0/940 [00:00<?, ?it/s]"
      ]
     },
     "metadata": {},
     "output_type": "display_data"
    },
    {
     "data": {
      "application/json": {
       "ascii": false,
       "bar_format": null,
       "colour": null,
       "elapsed": 0.032257795333862305,
       "initial": 0,
       "n": 0,
       "ncols": null,
       "nrows": 81,
       "postfix": null,
       "prefix": "COLLECTING RESULTS | Checking input",
       "rate": null,
       "total": 940,
       "unit": "it",
       "unit_divisor": 1000,
       "unit_scale": false
      },
      "application/vnd.jupyter.widget-view+json": {
       "model_id": "c703db1980d7475f83c237a09a0904be",
       "version_major": 2,
       "version_minor": 0
      },
      "text/plain": [
       "COLLECTING RESULTS | Checking input:   0%|          | 0/940 [00:00<?, ?it/s]"
      ]
     },
     "metadata": {},
     "output_type": "display_data"
    },
    {
     "data": {
      "application/json": {
       "ascii": false,
       "bar_format": null,
       "colour": null,
       "elapsed": 0.027848482131958008,
       "initial": 0,
       "n": 0,
       "ncols": null,
       "nrows": 81,
       "postfix": null,
       "prefix": "QUEUEING TASKS | Preparing",
       "rate": null,
       "total": 940,
       "unit": "it",
       "unit_divisor": 1000,
       "unit_scale": false
      },
      "application/vnd.jupyter.widget-view+json": {
       "model_id": "4f82ddfbcab842f0af91913dcc6a3b42",
       "version_major": 2,
       "version_minor": 0
      },
      "text/plain": [
       "QUEUEING TASKS | Preparing:   0%|          | 0/940 [00:00<?, ?it/s]"
      ]
     },
     "metadata": {},
     "output_type": "display_data"
    },
    {
     "data": {
      "application/json": {
       "ascii": false,
       "bar_format": null,
       "colour": null,
       "elapsed": 0.06364083290100098,
       "initial": 0,
       "n": 0,
       "ncols": null,
       "nrows": 81,
       "postfix": null,
       "prefix": "PROCESSING TASKS | Preparing",
       "rate": null,
       "total": 940,
       "unit": "it",
       "unit_divisor": 1000,
       "unit_scale": false
      },
      "application/vnd.jupyter.widget-view+json": {
       "model_id": "0add35351bed4beab5498e25be14a89d",
       "version_major": 2,
       "version_minor": 0
      },
      "text/plain": [
       "PROCESSING TASKS | Preparing:   0%|          | 0/940 [00:00<?, ?it/s]"
      ]
     },
     "metadata": {},
     "output_type": "display_data"
    },
    {
     "data": {
      "application/json": {
       "ascii": false,
       "bar_format": null,
       "colour": null,
       "elapsed": 0.03162050247192383,
       "initial": 0,
       "n": 0,
       "ncols": null,
       "nrows": 81,
       "postfix": null,
       "prefix": "COLLECTING RESULTS | Preparing",
       "rate": null,
       "total": 940,
       "unit": "it",
       "unit_divisor": 1000,
       "unit_scale": false
      },
      "application/vnd.jupyter.widget-view+json": {
       "model_id": "bc730e28c01944d6adf868d16e16563a",
       "version_major": 2,
       "version_minor": 0
      },
      "text/plain": [
       "COLLECTING RESULTS | Preparing:   0%|          | 0/940 [00:00<?, ?it/s]"
      ]
     },
     "metadata": {},
     "output_type": "display_data"
    },
    {
     "name": "stdout",
     "output_type": "stream",
     "text": [
      "Skipped: 940 Not skipped: 0\n"
     ]
    },
    {
     "data": {
      "application/json": {
       "ascii": false,
       "bar_format": null,
       "colour": null,
       "elapsed": 0.03254079818725586,
       "initial": 0,
       "n": 0,
       "ncols": null,
       "nrows": 81,
       "postfix": null,
       "prefix": "QUEUEING TASKS | Parsing",
       "rate": null,
       "total": 940,
       "unit": "it",
       "unit_divisor": 1000,
       "unit_scale": false
      },
      "application/vnd.jupyter.widget-view+json": {
       "model_id": "0bf33f41c32e4e748a91a2b92ccce905",
       "version_major": 2,
       "version_minor": 0
      },
      "text/plain": [
       "QUEUEING TASKS | Parsing:   0%|          | 0/940 [00:00<?, ?it/s]"
      ]
     },
     "metadata": {},
     "output_type": "display_data"
    },
    {
     "data": {
      "application/json": {
       "ascii": false,
       "bar_format": null,
       "colour": null,
       "elapsed": 0.4476003646850586,
       "initial": 0,
       "n": 0,
       "ncols": null,
       "nrows": 81,
       "postfix": null,
       "prefix": "PROCESSING TASKS | Parsing",
       "rate": null,
       "total": 940,
       "unit": "it",
       "unit_divisor": 1000,
       "unit_scale": false
      },
      "application/vnd.jupyter.widget-view+json": {
       "model_id": "31a76465f82940d5b181db9580ebde5b",
       "version_major": 2,
       "version_minor": 0
      },
      "text/plain": [
       "PROCESSING TASKS | Parsing:   0%|          | 0/940 [00:00<?, ?it/s]"
      ]
     },
     "metadata": {},
     "output_type": "display_data"
    },
    {
     "data": {
      "application/json": {
       "ascii": false,
       "bar_format": null,
       "colour": null,
       "elapsed": 0.035135746002197266,
       "initial": 0,
       "n": 0,
       "ncols": null,
       "nrows": 81,
       "postfix": null,
       "prefix": "COLLECTING RESULTS | Parsing",
       "rate": null,
       "total": 940,
       "unit": "it",
       "unit_divisor": 1000,
       "unit_scale": false
      },
      "application/vnd.jupyter.widget-view+json": {
       "model_id": "24f923e2ef2346b39def86cb90e5e467",
       "version_major": 2,
       "version_minor": 0
      },
      "text/plain": [
       "COLLECTING RESULTS | Parsing:   0%|          | 0/940 [00:00<?, ?it/s]"
      ]
     },
     "metadata": {},
     "output_type": "display_data"
    },
    {
     "data": {
      "application/json": {
       "ascii": false,
       "bar_format": null,
       "colour": null,
       "elapsed": 0.027663230895996094,
       "initial": 0,
       "n": 0,
       "ncols": null,
       "nrows": 81,
       "postfix": null,
       "prefix": "QUEUEING TASKS | PDF uncertainty @ LO",
       "rate": null,
       "total": 20,
       "unit": "it",
       "unit_divisor": 1000,
       "unit_scale": false
      },
      "application/vnd.jupyter.widget-view+json": {
       "model_id": "e0ce7e7444274d4a834ff7723d100e14",
       "version_major": 2,
       "version_minor": 0
      },
      "text/plain": [
       "QUEUEING TASKS | PDF uncertainty @ LO:   0%|          | 0/20 [00:00<?, ?it/s]"
      ]
     },
     "metadata": {},
     "output_type": "display_data"
    },
    {
     "data": {
      "application/json": {
       "ascii": false,
       "bar_format": null,
       "colour": null,
       "elapsed": 0.25144028663635254,
       "initial": 0,
       "n": 0,
       "ncols": null,
       "nrows": 81,
       "postfix": null,
       "prefix": "PROCESSING TASKS | PDF uncertainty @ LO",
       "rate": null,
       "total": 20,
       "unit": "it",
       "unit_divisor": 1000,
       "unit_scale": false
      },
      "application/vnd.jupyter.widget-view+json": {
       "model_id": "c9f076ffcf7e4fd9a0fe349f20dbf17b",
       "version_major": 2,
       "version_minor": 0
      },
      "text/plain": [
       "PROCESSING TASKS | PDF uncertainty @ LO:   0%|          | 0/20 [00:00<?, ?it/s]"
      ]
     },
     "metadata": {},
     "output_type": "display_data"
    },
    {
     "data": {
      "application/json": {
       "ascii": false,
       "bar_format": null,
       "colour": null,
       "elapsed": 0.035456180572509766,
       "initial": 0,
       "n": 0,
       "ncols": null,
       "nrows": 81,
       "postfix": null,
       "prefix": "COLLECTING RESULTS | PDF uncertainty @ LO",
       "rate": null,
       "total": 20,
       "unit": "it",
       "unit_divisor": 1000,
       "unit_scale": false
      },
      "application/vnd.jupyter.widget-view+json": {
       "model_id": "61b2cf94103942ac95a571a5441676a6",
       "version_major": 2,
       "version_minor": 0
      },
      "text/plain": [
       "COLLECTING RESULTS | PDF uncertainty @ LO:   0%|          | 0/20 [00:00<?, ?it/s]"
      ]
     },
     "metadata": {},
     "output_type": "display_data"
    },
    {
     "data": {
      "application/json": {
       "ascii": false,
       "bar_format": null,
       "colour": null,
       "elapsed": 0.03202056884765625,
       "initial": 0,
       "n": 0,
       "ncols": null,
       "nrows": 81,
       "postfix": null,
       "prefix": "QUEUEING TASKS | PDF uncertainty @ NLO",
       "rate": null,
       "total": 20,
       "unit": "it",
       "unit_divisor": 1000,
       "unit_scale": false
      },
      "application/vnd.jupyter.widget-view+json": {
       "model_id": "5a134f4c96c84403b71ea90521bc358c",
       "version_major": 2,
       "version_minor": 0
      },
      "text/plain": [
       "QUEUEING TASKS | PDF uncertainty @ NLO:   0%|          | 0/20 [00:00<?, ?it/s]"
      ]
     },
     "metadata": {},
     "output_type": "display_data"
    },
    {
     "data": {
      "application/json": {
       "ascii": false,
       "bar_format": null,
       "colour": null,
       "elapsed": 0.203460693359375,
       "initial": 0,
       "n": 0,
       "ncols": null,
       "nrows": 81,
       "postfix": null,
       "prefix": "PROCESSING TASKS | PDF uncertainty @ NLO",
       "rate": null,
       "total": 20,
       "unit": "it",
       "unit_divisor": 1000,
       "unit_scale": false
      },
      "application/vnd.jupyter.widget-view+json": {
       "model_id": "df2fd5d1be8b4d028b3e76654cbf901a",
       "version_major": 2,
       "version_minor": 0
      },
      "text/plain": [
       "PROCESSING TASKS | PDF uncertainty @ NLO:   0%|          | 0/20 [00:00<?, ?it/s]"
      ]
     },
     "metadata": {},
     "output_type": "display_data"
    },
    {
     "data": {
      "application/json": {
       "ascii": false,
       "bar_format": null,
       "colour": null,
       "elapsed": 0.03252553939819336,
       "initial": 0,
       "n": 0,
       "ncols": null,
       "nrows": 81,
       "postfix": null,
       "prefix": "COLLECTING RESULTS | PDF uncertainty @ NLO",
       "rate": null,
       "total": 20,
       "unit": "it",
       "unit_divisor": 1000,
       "unit_scale": false
      },
      "application/vnd.jupyter.widget-view+json": {
       "model_id": "ae76a2dda98d4a2eaacbf0f57a27e2b7",
       "version_major": 2,
       "version_minor": 0
      },
      "text/plain": [
       "COLLECTING RESULTS | PDF uncertainty @ NLO:   0%|          | 0/20 [00:00<?, ?it/s]"
      ]
     },
     "metadata": {},
     "output_type": "display_data"
    },
    {
     "data": {
      "application/json": {
       "ascii": false,
       "bar_format": null,
       "colour": null,
       "elapsed": 0.027258872985839844,
       "initial": 0,
       "n": 0,
       "ncols": null,
       "nrows": 81,
       "postfix": null,
       "prefix": "QUEUEING TASKS | PDF uncertainty @ aNNLO_PLUS_NNLL",
       "rate": null,
       "total": 20,
       "unit": "it",
       "unit_divisor": 1000,
       "unit_scale": false
      },
      "application/vnd.jupyter.widget-view+json": {
       "model_id": "dbb1dfa224544a02b97209e6413097c6",
       "version_major": 2,
       "version_minor": 0
      },
      "text/plain": [
       "QUEUEING TASKS | PDF uncertainty @ aNNLO_PLUS_NNLL:   0%|          | 0/20 [00:00<?, ?it/s]"
      ]
     },
     "metadata": {},
     "output_type": "display_data"
    },
    {
     "data": {
      "application/json": {
       "ascii": false,
       "bar_format": null,
       "colour": null,
       "elapsed": 0.30139589309692383,
       "initial": 0,
       "n": 0,
       "ncols": null,
       "nrows": 81,
       "postfix": null,
       "prefix": "PROCESSING TASKS | PDF uncertainty @ aNNLO_PLUS_NNLL",
       "rate": null,
       "total": 20,
       "unit": "it",
       "unit_divisor": 1000,
       "unit_scale": false
      },
      "application/vnd.jupyter.widget-view+json": {
       "model_id": "b65e63ddaac34bdf8a3921e1401ecddf",
       "version_major": 2,
       "version_minor": 0
      },
      "text/plain": [
       "PROCESSING TASKS | PDF uncertainty @ aNNLO_PLUS_NNLL:   0%|          | 0/20 [00:00<?, ?it/s]"
      ]
     },
     "metadata": {},
     "output_type": "display_data"
    },
    {
     "data": {
      "application/json": {
       "ascii": false,
       "bar_format": null,
       "colour": null,
       "elapsed": 0.04095172882080078,
       "initial": 0,
       "n": 0,
       "ncols": null,
       "nrows": 81,
       "postfix": null,
       "prefix": "COLLECTING RESULTS | PDF uncertainty @ aNNLO_PLUS_NNLL",
       "rate": null,
       "total": 20,
       "unit": "it",
       "unit_divisor": 1000,
       "unit_scale": false
      },
      "application/vnd.jupyter.widget-view+json": {
       "model_id": "f9d6108949534264bf7f99edd816b107",
       "version_major": 2,
       "version_minor": 0
      },
      "text/plain": [
       "COLLECTING RESULTS | PDF uncertainty @ aNNLO_PLUS_NNLL:   0%|          | 0/20 [00:00<?, ?it/s]"
      ]
     },
     "metadata": {},
     "output_type": "display_data"
    },
    {
     "data": {
      "application/json": {
       "ascii": false,
       "bar_format": null,
       "colour": null,
       "elapsed": 0.033539772033691406,
       "initial": 0,
       "n": 0,
       "ncols": null,
       "nrows": 81,
       "postfix": null,
       "prefix": "QUEUEING TASKS | Scale uncertainty @ LO",
       "rate": null,
       "total": 20,
       "unit": "it",
       "unit_divisor": 1000,
       "unit_scale": false
      },
      "application/vnd.jupyter.widget-view+json": {
       "model_id": "c52df115d11f41959b73b4d54e32ac83",
       "version_major": 2,
       "version_minor": 0
      },
      "text/plain": [
       "QUEUEING TASKS | Scale uncertainty @ LO:   0%|          | 0/20 [00:00<?, ?it/s]"
      ]
     },
     "metadata": {},
     "output_type": "display_data"
    },
    {
     "data": {
      "application/json": {
       "ascii": false,
       "bar_format": null,
       "colour": null,
       "elapsed": 0.23710966110229492,
       "initial": 0,
       "n": 0,
       "ncols": null,
       "nrows": 81,
       "postfix": null,
       "prefix": "PROCESSING TASKS | Scale uncertainty @ LO",
       "rate": null,
       "total": 20,
       "unit": "it",
       "unit_divisor": 1000,
       "unit_scale": false
      },
      "application/vnd.jupyter.widget-view+json": {
       "model_id": "2f1f321bca5f42d9be8c18fac5eaee7b",
       "version_major": 2,
       "version_minor": 0
      },
      "text/plain": [
       "PROCESSING TASKS | Scale uncertainty @ LO:   0%|          | 0/20 [00:00<?, ?it/s]"
      ]
     },
     "metadata": {},
     "output_type": "display_data"
    },
    {
     "data": {
      "application/json": {
       "ascii": false,
       "bar_format": null,
       "colour": null,
       "elapsed": 0.03510785102844238,
       "initial": 0,
       "n": 0,
       "ncols": null,
       "nrows": 81,
       "postfix": null,
       "prefix": "COLLECTING RESULTS | Scale uncertainty @ LO",
       "rate": null,
       "total": 20,
       "unit": "it",
       "unit_divisor": 1000,
       "unit_scale": false
      },
      "application/vnd.jupyter.widget-view+json": {
       "model_id": "9ed11e0ef36746848ada937e02ca52d7",
       "version_major": 2,
       "version_minor": 0
      },
      "text/plain": [
       "COLLECTING RESULTS | Scale uncertainty @ LO:   0%|          | 0/20 [00:00<?, ?it/s]"
      ]
     },
     "metadata": {},
     "output_type": "display_data"
    },
    {
     "name": "stderr",
     "output_type": "stream",
     "text": [
      "/home/apn/.local/lib/python3.9/site-packages/hepi/results.py:276: RuntimeWarning: too bad numerical precision vs scale @ num:LO 0.04309664509704866% vs scale:0.2120437718733099% to -0.6469057675028789%\n",
      "  warnings.warn(\n"
     ]
    },
    {
     "data": {
      "application/json": {
       "ascii": false,
       "bar_format": null,
       "colour": null,
       "elapsed": 0.03429055213928223,
       "initial": 0,
       "n": 0,
       "ncols": null,
       "nrows": 81,
       "postfix": null,
       "prefix": "QUEUEING TASKS | Scale uncertainty @ NLO",
       "rate": null,
       "total": 20,
       "unit": "it",
       "unit_divisor": 1000,
       "unit_scale": false
      },
      "application/vnd.jupyter.widget-view+json": {
       "model_id": "f4b593648c4c4bb8babaecf7b76dbce2",
       "version_major": 2,
       "version_minor": 0
      },
      "text/plain": [
       "QUEUEING TASKS | Scale uncertainty @ NLO:   0%|          | 0/20 [00:00<?, ?it/s]"
      ]
     },
     "metadata": {},
     "output_type": "display_data"
    },
    {
     "data": {
      "application/json": {
       "ascii": false,
       "bar_format": null,
       "colour": null,
       "elapsed": 0.18462538719177246,
       "initial": 0,
       "n": 0,
       "ncols": null,
       "nrows": 81,
       "postfix": null,
       "prefix": "PROCESSING TASKS | Scale uncertainty @ NLO",
       "rate": null,
       "total": 20,
       "unit": "it",
       "unit_divisor": 1000,
       "unit_scale": false
      },
      "application/vnd.jupyter.widget-view+json": {
       "model_id": "0db8ef67d2a14e8d86f3d51c30199cbc",
       "version_major": 2,
       "version_minor": 0
      },
      "text/plain": [
       "PROCESSING TASKS | Scale uncertainty @ NLO:   0%|          | 0/20 [00:00<?, ?it/s]"
      ]
     },
     "metadata": {},
     "output_type": "display_data"
    },
    {
     "data": {
      "application/json": {
       "ascii": false,
       "bar_format": null,
       "colour": null,
       "elapsed": 0.04265928268432617,
       "initial": 0,
       "n": 0,
       "ncols": null,
       "nrows": 81,
       "postfix": null,
       "prefix": "COLLECTING RESULTS | Scale uncertainty @ NLO",
       "rate": null,
       "total": 20,
       "unit": "it",
       "unit_divisor": 1000,
       "unit_scale": false
      },
      "application/vnd.jupyter.widget-view+json": {
       "model_id": "10e158f2cf5346b9b7acb2bf5fe4f4c4",
       "version_major": 2,
       "version_minor": 0
      },
      "text/plain": [
       "COLLECTING RESULTS | Scale uncertainty @ NLO:   0%|          | 0/20 [00:00<?, ?it/s]"
      ]
     },
     "metadata": {},
     "output_type": "display_data"
    },
    {
     "data": {
      "application/json": {
       "ascii": false,
       "bar_format": null,
       "colour": null,
       "elapsed": 0.032955169677734375,
       "initial": 0,
       "n": 0,
       "ncols": null,
       "nrows": 81,
       "postfix": null,
       "prefix": "QUEUEING TASKS | Scale uncertainty @ aNNLO_PLUS_NNLL",
       "rate": null,
       "total": 20,
       "unit": "it",
       "unit_divisor": 1000,
       "unit_scale": false
      },
      "application/vnd.jupyter.widget-view+json": {
       "model_id": "7c01d090b7394b108c191ef31b2c9b35",
       "version_major": 2,
       "version_minor": 0
      },
      "text/plain": [
       "QUEUEING TASKS | Scale uncertainty @ aNNLO_PLUS_NNLL:   0%|          | 0/20 [00:00<?, ?it/s]"
      ]
     },
     "metadata": {},
     "output_type": "display_data"
    },
    {
     "data": {
      "application/json": {
       "ascii": false,
       "bar_format": null,
       "colour": null,
       "elapsed": 0.22201895713806152,
       "initial": 0,
       "n": 0,
       "ncols": null,
       "nrows": 81,
       "postfix": null,
       "prefix": "PROCESSING TASKS | Scale uncertainty @ aNNLO_PLUS_NNLL",
       "rate": null,
       "total": 20,
       "unit": "it",
       "unit_divisor": 1000,
       "unit_scale": false
      },
      "application/vnd.jupyter.widget-view+json": {
       "model_id": "5320e4d0657e460994bbd58888fcdaea",
       "version_major": 2,
       "version_minor": 0
      },
      "text/plain": [
       "PROCESSING TASKS | Scale uncertainty @ aNNLO_PLUS_NNLL:   0%|          | 0/20 [00:00<?, ?it/s]"
      ]
     },
     "metadata": {},
     "output_type": "display_data"
    },
    {
     "data": {
      "application/json": {
       "ascii": false,
       "bar_format": null,
       "colour": null,
       "elapsed": 0.03392386436462402,
       "initial": 0,
       "n": 0,
       "ncols": null,
       "nrows": 81,
       "postfix": null,
       "prefix": "COLLECTING RESULTS | Scale uncertainty @ aNNLO_PLUS_NNLL",
       "rate": null,
       "total": 20,
       "unit": "it",
       "unit_divisor": 1000,
       "unit_scale": false
      },
      "application/vnd.jupyter.widget-view+json": {
       "model_id": "62844e3647e24469a913bf9bdad306fe",
       "version_major": 2,
       "version_minor": 0
      },
      "text/plain": [
       "COLLECTING RESULTS | Scale uncertainty @ aNNLO_PLUS_NNLL:   0%|          | 0/20 [00:00<?, ?it/s]"
      ]
     },
     "metadata": {},
     "output_type": "display_data"
    },
    {
     "name": "stderr",
     "output_type": "stream",
     "text": [
      "/home/apn/.local/lib/python3.9/site-packages/hepi/results.py:276: RuntimeWarning: too bad numerical precision vs scale @ num:aNNLO_PLUS_NNLL 0.042504779518476164% vs scale:0.3680169775711219% to -0.19312803752200894%\n",
      "  warnings.warn(\n",
      "/home/apn/.local/lib/python3.9/site-packages/hepi/results.py:276: RuntimeWarning: too bad numerical precision vs scale @ num:aNNLO_PLUS_NNLL 0.04241434348898593% vs scale:0.35194078791296% to -0.17283168618762182%\n",
      "  warnings.warn(\n",
      "/home/apn/.local/lib/python3.9/site-packages/hepi/results.py:276: RuntimeWarning: too bad numerical precision vs scale @ num:aNNLO_PLUS_NNLL 0.03910128610715482% vs scale:0.3182469601325751% to -0.16916657091272358%\n",
      "  warnings.warn(\n",
      "/home/apn/.local/lib/python3.9/site-packages/hepi/results.py:276: RuntimeWarning: too bad numerical precision vs scale @ num:aNNLO_PLUS_NNLL 0.039759457550221214% vs scale:0.33496563543567603% to -0.1339546680761239%\n",
      "  warnings.warn(\n",
      "/home/apn/.local/lib/python3.9/site-packages/hepi/results.py:276: RuntimeWarning: too bad numerical precision vs scale @ num:aNNLO_PLUS_NNLL 0.03824215449558389% vs scale:0.36543307013331394% to -0.09758381026860175%\n",
      "  warnings.warn(\n",
      "/home/apn/.local/lib/python3.9/site-packages/hepi/results.py:276: RuntimeWarning: too bad numerical precision vs scale @ num:aNNLO_PLUS_NNLL 0.040885506545121054% vs scale:0.3221304677912059% to -0.11516148420087435%\n",
      "  warnings.warn(\n",
      "/home/apn/.local/lib/python3.9/site-packages/hepi/results.py:276: RuntimeWarning: too bad numerical precision vs scale @ num:aNNLO_PLUS_NNLL 0.04107600651540869% vs scale:0.29373602063143384% to -0.09571598375988528%\n",
      "  warnings.warn(\n",
      "/home/apn/.local/lib/python3.9/site-packages/hepi/results.py:276: RuntimeWarning: too bad numerical precision vs scale @ num:aNNLO_PLUS_NNLL 0.0418665989487847% vs scale:0.25449282101514803% to -0.0858829179419384%\n",
      "  warnings.warn(\n",
      "/home/apn/.local/lib/python3.9/site-packages/hepi/results.py:276: RuntimeWarning: too bad numerical precision vs scale @ num:aNNLO_PLUS_NNLL 0.04064723177610515% vs scale:0.246134393294915% to -0.075762213432096%\n",
      "  warnings.warn(\n",
      "/home/apn/.local/lib/python3.9/site-packages/hepi/results.py:276: RuntimeWarning: too bad numerical precision vs scale @ num:aNNLO_PLUS_NNLL 0.03808440317315336% vs scale:0.21720161145090053% to -0.05235523955356897%\n",
      "  warnings.warn(\n",
      "/home/apn/.local/lib/python3.9/site-packages/hepi/results.py:276: RuntimeWarning: too bad numerical precision vs scale @ num:aNNLO_PLUS_NNLL 0.03965280501628812% vs scale:0.20845688140067628% to -0.026741101882480463%\n",
      "  warnings.warn(\n",
      "/home/apn/.local/lib/python3.9/site-packages/hepi/results.py:276: RuntimeWarning: too bad numerical precision vs scale @ num:aNNLO_PLUS_NNLL 0.03923155484102422% vs scale:0.19606617235197188% to -0.019759694109796118%\n",
      "  warnings.warn(\n"
     ]
    },
    {
     "data": {
      "image/png": "[encoded data removed]",
      "text/plain": [
       "<Figure size 600x400 with 2 Axes>"
      ]
     },
     "metadata": {},
     "output_type": "display_data"
    },
    {
     "name": "stderr",
     "output_type": "stream",
     "text": [
      "/home/apn/.local/lib/python3.9/site-packages/hepi/input.py:283: RuntimeWarning: Could not set new central scale to average of masses.\n",
      "  warnings.warn(\"Could not set new central scale to average of masses.\",\n"
     ]
    },
    {
     "data": {
      "application/json": {
       "ascii": false,
       "bar_format": null,
       "colour": null,
       "elapsed": 0.02869415283203125,
       "initial": 0,
       "n": 0,
       "ncols": null,
       "nrows": 81,
       "postfix": null,
       "prefix": "QUEUEING TASKS | Checking input",
       "rate": null,
       "total": 940,
       "unit": "it",
       "unit_divisor": 1000,
       "unit_scale": false
      },
      "application/vnd.jupyter.widget-view+json": {
       "model_id": "fd37dabdedde4d97a019955614cf30be",
       "version_major": 2,
       "version_minor": 0
      },
      "text/plain": [
       "QUEUEING TASKS | Checking input:   0%|          | 0/940 [00:00<?, ?it/s]"
      ]
     },
     "metadata": {},
     "output_type": "display_data"
    },
    {
     "data": {
      "application/json": {
       "ascii": false,
       "bar_format": null,
       "colour": null,
       "elapsed": 0.03195929527282715,
       "initial": 0,
       "n": 0,
       "ncols": null,
       "nrows": 81,
       "postfix": null,
       "prefix": "PROCESSING TASKS | Checking input",
       "rate": null,
       "total": 940,
       "unit": "it",
       "unit_divisor": 1000,
       "unit_scale": false
      },
      "application/vnd.jupyter.widget-view+json": {
       "model_id": "9f2631d8c11c4a96852c3d1e7daac620",
       "version_major": 2,
       "version_minor": 0
      },
      "text/plain": [
       "PROCESSING TASKS | Checking input:   0%|          | 0/940 [00:00<?, ?it/s]"
      ]
     },
     "metadata": {},
     "output_type": "display_data"
    },
    {
     "data": {
      "application/json": {
       "ascii": false,
       "bar_format": null,
       "colour": null,
       "elapsed": 0.03594183921813965,
       "initial": 0,
       "n": 0,
       "ncols": null,
       "nrows": 81,
       "postfix": null,
       "prefix": "COLLECTING RESULTS | Checking input",
       "rate": null,
       "total": 940,
       "unit": "it",
       "unit_divisor": 1000,
       "unit_scale": false
      },
      "application/vnd.jupyter.widget-view+json": {
       "model_id": "678cfeb573d14359a22acf1b84d50b8e",
       "version_major": 2,
       "version_minor": 0
      },
      "text/plain": [
       "COLLECTING RESULTS | Checking input:   0%|          | 0/940 [00:00<?, ?it/s]"
      ]
     },
     "metadata": {},
     "output_type": "display_data"
    },
    {
     "data": {
      "application/json": {
       "ascii": false,
       "bar_format": null,
       "colour": null,
       "elapsed": 0.029193401336669922,
       "initial": 0,
       "n": 0,
       "ncols": null,
       "nrows": 81,
       "postfix": null,
       "prefix": "QUEUEING TASKS | Preparing",
       "rate": null,
       "total": 940,
       "unit": "it",
       "unit_divisor": 1000,
       "unit_scale": false
      },
      "application/vnd.jupyter.widget-view+json": {
       "model_id": "25eaff9adaba4bffb05ee6a4d3c138e8",
       "version_major": 2,
       "version_minor": 0
      },
      "text/plain": [
       "QUEUEING TASKS | Preparing:   0%|          | 0/940 [00:00<?, ?it/s]"
      ]
     },
     "metadata": {},
     "output_type": "display_data"
    },
    {
     "data": {
      "application/json": {
       "ascii": false,
       "bar_format": null,
       "colour": null,
       "elapsed": 0.04787611961364746,
       "initial": 0,
       "n": 0,
       "ncols": null,
       "nrows": 81,
       "postfix": null,
       "prefix": "PROCESSING TASKS | Preparing",
       "rate": null,
       "total": 940,
       "unit": "it",
       "unit_divisor": 1000,
       "unit_scale": false
      },
      "application/vnd.jupyter.widget-view+json": {
       "model_id": "9164109d53714f429ea5c075fee6155a",
       "version_major": 2,
       "version_minor": 0
      },
      "text/plain": [
       "PROCESSING TASKS | Preparing:   0%|          | 0/940 [00:00<?, ?it/s]"
      ]
     },
     "metadata": {},
     "output_type": "display_data"
    },
    {
     "data": {
      "application/json": {
       "ascii": false,
       "bar_format": null,
       "colour": null,
       "elapsed": 0.03052973747253418,
       "initial": 0,
       "n": 0,
       "ncols": null,
       "nrows": 81,
       "postfix": null,
       "prefix": "COLLECTING RESULTS | Preparing",
       "rate": null,
       "total": 940,
       "unit": "it",
       "unit_divisor": 1000,
       "unit_scale": false
      },
      "application/vnd.jupyter.widget-view+json": {
       "model_id": "a9f184f565cf4bb2aeb3b6c1537af6e2",
       "version_major": 2,
       "version_minor": 0
      },
      "text/plain": [
       "COLLECTING RESULTS | Preparing:   0%|          | 0/940 [00:00<?, ?it/s]"
      ]
     },
     "metadata": {},
     "output_type": "display_data"
    },
    {
     "name": "stdout",
     "output_type": "stream",
     "text": [
      "Skipped: 940 Not skipped: 0\n"
     ]
    },
    {
     "data": {
      "application/json": {
       "ascii": false,
       "bar_format": null,
       "colour": null,
       "elapsed": 0.030027389526367188,
       "initial": 0,
       "n": 0,
       "ncols": null,
       "nrows": 81,
       "postfix": null,
       "prefix": "QUEUEING TASKS | Parsing",
       "rate": null,
       "total": 940,
       "unit": "it",
       "unit_divisor": 1000,
       "unit_scale": false
      },
      "application/vnd.jupyter.widget-view+json": {
       "model_id": "4e76a11af9db4e82b4b721ac75367ee4",
       "version_major": 2,
       "version_minor": 0
      },
      "text/plain": [
       "QUEUEING TASKS | Parsing:   0%|          | 0/940 [00:00<?, ?it/s]"
      ]
     },
     "metadata": {},
     "output_type": "display_data"
    },
    {
     "data": {
      "application/json": {
       "ascii": false,
       "bar_format": null,
       "colour": null,
       "elapsed": 0.330078125,
       "initial": 0,
       "n": 0,
       "ncols": null,
       "nrows": 81,
       "postfix": null,
       "prefix": "PROCESSING TASKS | Parsing",
       "rate": null,
       "total": 940,
       "unit": "it",
       "unit_divisor": 1000,
       "unit_scale": false
      },
      "application/vnd.jupyter.widget-view+json": {
       "model_id": "dce5dc9438e64b59a88fdb3cf9a750cd",
       "version_major": 2,
       "version_minor": 0
      },
      "text/plain": [
       "PROCESSING TASKS | Parsing:   0%|          | 0/940 [00:00<?, ?it/s]"
      ]
     },
     "metadata": {},
     "output_type": "display_data"
    },
    {
     "data": {
      "application/json": {
       "ascii": false,
       "bar_format": null,
       "colour": null,
       "elapsed": 0.03610062599182129,
       "initial": 0,
       "n": 0,
       "ncols": null,
       "nrows": 81,
       "postfix": null,
       "prefix": "COLLECTING RESULTS | Parsing",
       "rate": null,
       "total": 940,
       "unit": "it",
       "unit_divisor": 1000,
       "unit_scale": false
      },
      "application/vnd.jupyter.widget-view+json": {
       "model_id": "97fdfac6172149e6b92a6c142789c562",
       "version_major": 2,
       "version_minor": 0
      },
      "text/plain": [
       "COLLECTING RESULTS | Parsing:   0%|          | 0/940 [00:00<?, ?it/s]"
      ]
     },
     "metadata": {},
     "output_type": "display_data"
    },
    {
     "data": {
      "application/json": {
       "ascii": false,
       "bar_format": null,
       "colour": null,
       "elapsed": 0.06852340698242188,
       "initial": 0,
       "n": 0,
       "ncols": null,
       "nrows": 81,
       "postfix": null,
       "prefix": "QUEUEING TASKS | PDF uncertainty @ LO",
       "rate": null,
       "total": 20,
       "unit": "it",
       "unit_divisor": 1000,
       "unit_scale": false
      },
      "application/vnd.jupyter.widget-view+json": {
       "model_id": "94087a8201db49da9636a8f8af94793d",
       "version_major": 2,
       "version_minor": 0
      },
      "text/plain": [
       "QUEUEING TASKS | PDF uncertainty @ LO:   0%|          | 0/20 [00:00<?, ?it/s]"
      ]
     },
     "metadata": {},
     "output_type": "display_data"
    },
    {
     "data": {
      "application/json": {
       "ascii": false,
       "bar_format": null,
       "colour": null,
       "elapsed": 0.23158955574035645,
       "initial": 0,
       "n": 0,
       "ncols": null,
       "nrows": 81,
       "postfix": null,
       "prefix": "PROCESSING TASKS | PDF uncertainty @ LO",
       "rate": null,
       "total": 20,
       "unit": "it",
       "unit_divisor": 1000,
       "unit_scale": false
      },
      "application/vnd.jupyter.widget-view+json": {
       "model_id": "6a089faa317d4ed19e60898b07523d12",
       "version_major": 2,
       "version_minor": 0
      },
      "text/plain": [
       "PROCESSING TASKS | PDF uncertainty @ LO:   0%|          | 0/20 [00:00<?, ?it/s]"
      ]
     },
     "metadata": {},
     "output_type": "display_data"
    },
    {
     "data": {
      "application/json": {
       "ascii": false,
       "bar_format": null,
       "colour": null,
       "elapsed": 0.030491113662719727,
       "initial": 0,
       "n": 0,
       "ncols": null,
       "nrows": 81,
       "postfix": null,
       "prefix": "COLLECTING RESULTS | PDF uncertainty @ LO",
       "rate": null,
       "total": 20,
       "unit": "it",
       "unit_divisor": 1000,
       "unit_scale": false
      },
      "application/vnd.jupyter.widget-view+json": {
       "model_id": "150e88f9d92940e7b2bd9072ec6bf8b3",
       "version_major": 2,
       "version_minor": 0
      },
      "text/plain": [
       "COLLECTING RESULTS | PDF uncertainty @ LO:   0%|          | 0/20 [00:00<?, ?it/s]"
      ]
     },
     "metadata": {},
     "output_type": "display_data"
    },
    {
     "data": {
      "application/json": {
       "ascii": false,
       "bar_format": null,
       "colour": null,
       "elapsed": 0.029675722122192383,
       "initial": 0,
       "n": 0,
       "ncols": null,
       "nrows": 81,
       "postfix": null,
       "prefix": "QUEUEING TASKS | PDF uncertainty @ NLO",
       "rate": null,
       "total": 20,
       "unit": "it",
       "unit_divisor": 1000,
       "unit_scale": false
      },
      "application/vnd.jupyter.widget-view+json": {
       "model_id": "c1e0bae88d5a4d26a3b0facd1afa8632",
       "version_major": 2,
       "version_minor": 0
      },
      "text/plain": [
       "QUEUEING TASKS | PDF uncertainty @ NLO:   0%|          | 0/20 [00:00<?, ?it/s]"
      ]
     },
     "metadata": {},
     "output_type": "display_data"
    },
    {
     "data": {
      "application/json": {
       "ascii": false,
       "bar_format": null,
       "colour": null,
       "elapsed": 0.224623441696167,
       "initial": 0,
       "n": 0,
       "ncols": null,
       "nrows": 81,
       "postfix": null,
       "prefix": "PROCESSING TASKS | PDF uncertainty @ NLO",
       "rate": null,
       "total": 20,
       "unit": "it",
       "unit_divisor": 1000,
       "unit_scale": false
      },
      "application/vnd.jupyter.widget-view+json": {
       "model_id": "2308c5f0c1c54a5dbc5804226b34dc6b",
       "version_major": 2,
       "version_minor": 0
      },
      "text/plain": [
       "PROCESSING TASKS | PDF uncertainty @ NLO:   0%|          | 0/20 [00:00<?, ?it/s]"
      ]
     },
     "metadata": {},
     "output_type": "display_data"
    },
    {
     "data": {
      "application/json": {
       "ascii": false,
       "bar_format": null,
       "colour": null,
       "elapsed": 0.04585456848144531,
       "initial": 0,
       "n": 0,
       "ncols": null,
       "nrows": 81,
       "postfix": null,
       "prefix": "COLLECTING RESULTS | PDF uncertainty @ NLO",
       "rate": null,
       "total": 20,
       "unit": "it",
       "unit_divisor": 1000,
       "unit_scale": false
      },
      "application/vnd.jupyter.widget-view+json": {
       "model_id": "0a2527cfc6c14bb0b2ee35599061562c",
       "version_major": 2,
       "version_minor": 0
      },
      "text/plain": [
       "COLLECTING RESULTS | PDF uncertainty @ NLO:   0%|          | 0/20 [00:00<?, ?it/s]"
      ]
     },
     "metadata": {},
     "output_type": "display_data"
    },
    {
     "data": {
      "application/json": {
       "ascii": false,
       "bar_format": null,
       "colour": null,
       "elapsed": 0.03882122039794922,
       "initial": 0,
       "n": 0,
       "ncols": null,
       "nrows": 81,
       "postfix": null,
       "prefix": "QUEUEING TASKS | PDF uncertainty @ aNNLO_PLUS_NNLL",
       "rate": null,
       "total": 20,
       "unit": "it",
       "unit_divisor": 1000,
       "unit_scale": false
      },
      "application/vnd.jupyter.widget-view+json": {
       "model_id": "8fe9dbd7e1b940eb8c2917ce6df11f7b",
       "version_major": 2,
       "version_minor": 0
      },
      "text/plain": [
       "QUEUEING TASKS | PDF uncertainty @ aNNLO_PLUS_NNLL:   0%|          | 0/20 [00:00<?, ?it/s]"
      ]
     },
     "metadata": {},
     "output_type": "display_data"
    },
    {
     "data": {
      "application/json": {
       "ascii": false,
       "bar_format": null,
       "colour": null,
       "elapsed": 0.20659756660461426,
       "initial": 0,
       "n": 0,
       "ncols": null,
       "nrows": 81,
       "postfix": null,
       "prefix": "PROCESSING TASKS | PDF uncertainty @ aNNLO_PLUS_NNLL",
       "rate": null,
       "total": 20,
       "unit": "it",
       "unit_divisor": 1000,
       "unit_scale": false
      },
      "application/vnd.jupyter.widget-view+json": {
       "model_id": "46b37a393a2d496caa4c8f1597ad31ea",
       "version_major": 2,
       "version_minor": 0
      },
      "text/plain": [
       "PROCESSING TASKS | PDF uncertainty @ aNNLO_PLUS_NNLL:   0%|          | 0/20 [00:00<?, ?it/s]"
      ]
     },
     "metadata": {},
     "output_type": "display_data"
    },
    {
     "data": {
      "application/json": {
       "ascii": false,
       "bar_format": null,
       "colour": null,
       "elapsed": 0.03368782997131348,
       "initial": 0,
       "n": 0,
       "ncols": null,
       "nrows": 81,
       "postfix": null,
       "prefix": "COLLECTING RESULTS | PDF uncertainty @ aNNLO_PLUS_NNLL",
       "rate": null,
       "total": 20,
       "unit": "it",
       "unit_divisor": 1000,
       "unit_scale": false
      },
      "application/vnd.jupyter.widget-view+json": {
       "model_id": "95470684ac8c4a969c5810722c5f41c3",
       "version_major": 2,
       "version_minor": 0
      },
      "text/plain": [
       "COLLECTING RESULTS | PDF uncertainty @ aNNLO_PLUS_NNLL:   0%|          | 0/20 [00:00<?, ?it/s]"
      ]
     },
     "metadata": {},
     "output_type": "display_data"
    },
    {
     "data": {
      "application/json": {
       "ascii": false,
       "bar_format": null,
       "colour": null,
       "elapsed": 0.028667688369750977,
       "initial": 0,
       "n": 0,
       "ncols": null,
       "nrows": 81,
       "postfix": null,
       "prefix": "QUEUEING TASKS | Scale uncertainty @ LO",
       "rate": null,
       "total": 20,
       "unit": "it",
       "unit_divisor": 1000,
       "unit_scale": false
      },
      "application/vnd.jupyter.widget-view+json": {
       "model_id": "255d55d44e984ab8b385f5c522342572",
       "version_major": 2,
       "version_minor": 0
      },
      "text/plain": [
       "QUEUEING TASKS | Scale uncertainty @ LO:   0%|          | 0/20 [00:00<?, ?it/s]"
      ]
     },
     "metadata": {},
     "output_type": "display_data"
    },
    {
     "data": {
      "application/json": {
       "ascii": false,
       "bar_format": null,
       "colour": null,
       "elapsed": 0.2690103054046631,
       "initial": 0,
       "n": 0,
       "ncols": null,
       "nrows": 81,
       "postfix": null,
       "prefix": "PROCESSING TASKS | Scale uncertainty @ LO",
       "rate": null,
       "total": 20,
       "unit": "it",
       "unit_divisor": 1000,
       "unit_scale": false
      },
      "application/vnd.jupyter.widget-view+json": {
       "model_id": "c68f728b61084fa48fd626b6899c2ccf",
       "version_major": 2,
       "version_minor": 0
      },
      "text/plain": [
       "PROCESSING TASKS | Scale uncertainty @ LO:   0%|          | 0/20 [00:00<?, ?it/s]"
      ]
     },
     "metadata": {},
     "output_type": "display_data"
    },
    {
     "data": {
      "application/json": {
       "ascii": false,
       "bar_format": null,
       "colour": null,
       "elapsed": 0.043576955795288086,
       "initial": 0,
       "n": 0,
       "ncols": null,
       "nrows": 81,
       "postfix": null,
       "prefix": "COLLECTING RESULTS | Scale uncertainty @ LO",
       "rate": null,
       "total": 20,
       "unit": "it",
       "unit_divisor": 1000,
       "unit_scale": false
      },
      "application/vnd.jupyter.widget-view+json": {
       "model_id": "2c4f90b549eb4e3dba79d2292bf7c200",
       "version_major": 2,
       "version_minor": 0
      },
      "text/plain": [
       "COLLECTING RESULTS | Scale uncertainty @ LO:   0%|          | 0/20 [00:00<?, ?it/s]"
      ]
     },
     "metadata": {},
     "output_type": "display_data"
    },
    {
     "data": {
      "application/json": {
       "ascii": false,
       "bar_format": null,
       "colour": null,
       "elapsed": 0.040152549743652344,
       "initial": 0,
       "n": 0,
       "ncols": null,
       "nrows": 81,
       "postfix": null,
       "prefix": "QUEUEING TASKS | Scale uncertainty @ NLO",
       "rate": null,
       "total": 20,
       "unit": "it",
       "unit_divisor": 1000,
       "unit_scale": false
      },
      "application/vnd.jupyter.widget-view+json": {
       "model_id": "0ffece024afa4f099ad2d411d6f8668b",
       "version_major": 2,
       "version_minor": 0
      },
      "text/plain": [
       "QUEUEING TASKS | Scale uncertainty @ NLO:   0%|          | 0/20 [00:00<?, ?it/s]"
      ]
     },
     "metadata": {},
     "output_type": "display_data"
    },
    {
     "data": {
      "application/json": {
       "ascii": false,
       "bar_format": null,
       "colour": null,
       "elapsed": 0.2392585277557373,
       "initial": 0,
       "n": 0,
       "ncols": null,
       "nrows": 81,
       "postfix": null,
       "prefix": "PROCESSING TASKS | Scale uncertainty @ NLO",
       "rate": null,
       "total": 20,
       "unit": "it",
       "unit_divisor": 1000,
       "unit_scale": false
      },
      "application/vnd.jupyter.widget-view+json": {
       "model_id": "a92bb038081d4cd2849008d1aeefa1eb",
       "version_major": 2,
       "version_minor": 0
      },
      "text/plain": [
       "PROCESSING TASKS | Scale uncertainty @ NLO:   0%|          | 0/20 [00:00<?, ?it/s]"
      ]
     },
     "metadata": {},
     "output_type": "display_data"
    },
    {
     "data": {
      "application/json": {
       "ascii": false,
       "bar_format": null,
       "colour": null,
       "elapsed": 0.0314786434173584,
       "initial": 0,
       "n": 0,
       "ncols": null,
       "nrows": 81,
       "postfix": null,
       "prefix": "COLLECTING RESULTS | Scale uncertainty @ NLO",
       "rate": null,
       "total": 20,
       "unit": "it",
       "unit_divisor": 1000,
       "unit_scale": false
      },
      "application/vnd.jupyter.widget-view+json": {
       "model_id": "ca0395f54c7c46a09d40d4dd98b7e9c4",
       "version_major": 2,
       "version_minor": 0
      },
      "text/plain": [
       "COLLECTING RESULTS | Scale uncertainty @ NLO:   0%|          | 0/20 [00:00<?, ?it/s]"
      ]
     },
     "metadata": {},
     "output_type": "display_data"
    },
    {
     "data": {
      "application/json": {
       "ascii": false,
       "bar_format": null,
       "colour": null,
       "elapsed": 0.031252145767211914,
       "initial": 0,
       "n": 0,
       "ncols": null,
       "nrows": 81,
       "postfix": null,
       "prefix": "QUEUEING TASKS | Scale uncertainty @ aNNLO_PLUS_NNLL",
       "rate": null,
       "total": 20,
       "unit": "it",
       "unit_divisor": 1000,
       "unit_scale": false
      },
      "application/vnd.jupyter.widget-view+json": {
       "model_id": "58ddac3871664aa4b74aa8f548b99245",
       "version_major": 2,
       "version_minor": 0
      },
      "text/plain": [
       "QUEUEING TASKS | Scale uncertainty @ aNNLO_PLUS_NNLL:   0%|          | 0/20 [00:00<?, ?it/s]"
      ]
     },
     "metadata": {},
     "output_type": "display_data"
    },
    {
     "data": {
      "application/json": {
       "ascii": false,
       "bar_format": null,
       "colour": null,
       "elapsed": 0.21669960021972656,
       "initial": 0,
       "n": 0,
       "ncols": null,
       "nrows": 81,
       "postfix": null,
       "prefix": "PROCESSING TASKS | Scale uncertainty @ aNNLO_PLUS_NNLL",
       "rate": null,
       "total": 20,
       "unit": "it",
       "unit_divisor": 1000,
       "unit_scale": false
      },
      "application/vnd.jupyter.widget-view+json": {
       "model_id": "d1aee6e4af214f13bb6238bab953865f",
       "version_major": 2,
       "version_minor": 0
      },
      "text/plain": [
       "PROCESSING TASKS | Scale uncertainty @ aNNLO_PLUS_NNLL:   0%|          | 0/20 [00:00<?, ?it/s]"
      ]
     },
     "metadata": {},
     "output_type": "display_data"
    },
    {
     "data": {
      "application/json": {
       "ascii": false,
       "bar_format": null,
       "colour": null,
       "elapsed": 0.03610801696777344,
       "initial": 0,
       "n": 0,
       "ncols": null,
       "nrows": 81,
       "postfix": null,
       "prefix": "COLLECTING RESULTS | Scale uncertainty @ aNNLO_PLUS_NNLL",
       "rate": null,
       "total": 20,
       "unit": "it",
       "unit_divisor": 1000,
       "unit_scale": false
      },
      "application/vnd.jupyter.widget-view+json": {
       "model_id": "b6daa8e11ff0425da3190b59b63a8dbf",
       "version_major": 2,
       "version_minor": 0
      },
      "text/plain": [
       "COLLECTING RESULTS | Scale uncertainty @ aNNLO_PLUS_NNLL:   0%|          | 0/20 [00:00<?, ?it/s]"
      ]
     },
     "metadata": {},
     "output_type": "display_data"
    },
    {
     "name": "stderr",
     "output_type": "stream",
     "text": [
      "/home/apn/.local/lib/python3.9/site-packages/hepi/results.py:276: RuntimeWarning: too bad numerical precision vs scale @ num:aNNLO_PLUS_NNLL 0.04134919369924972% vs scale:0.2863499316017135% to -0.180590470929161%\n",
      "  warnings.warn(\n",
      "/home/apn/.local/lib/python3.9/site-packages/hepi/results.py:276: RuntimeWarning: too bad numerical precision vs scale @ num:aNNLO_PLUS_NNLL 0.04362717909632595% vs scale:0.26139926787058876% to -0.14218526430809397%\n",
      "  warnings.warn(\n",
      "/home/apn/.local/lib/python3.9/site-packages/hepi/results.py:276: RuntimeWarning: too bad numerical precision vs scale @ num:aNNLO_PLUS_NNLL 0.043057843638519014% vs scale:0.2660054788139857% to -0.12732570955876013%\n",
      "  warnings.warn(\n",
      "/home/apn/.local/lib/python3.9/site-packages/hepi/results.py:276: RuntimeWarning: too bad numerical precision vs scale @ num:aNNLO_PLUS_NNLL 0.04595181643037749% vs scale:0.22174233526896073% to -0.13230112143708558%\n",
      "  warnings.warn(\n",
      "/home/apn/.local/lib/python3.9/site-packages/hepi/results.py:276: RuntimeWarning: too bad numerical precision vs scale @ num:aNNLO_PLUS_NNLL 0.0378576570767319% vs scale:0.19875884262691873% to -0.12300208165297705%\n",
      "  warnings.warn(\n",
      "/home/apn/.local/lib/python3.9/site-packages/hepi/results.py:276: RuntimeWarning: too bad numerical precision vs scale @ num:aNNLO_PLUS_NNLL 0.041780464687719676% vs scale:0.17941040198034675% to -0.1437383480656242%\n",
      "  warnings.warn(\n",
      "/home/apn/.local/lib/python3.9/site-packages/hepi/results.py:276: RuntimeWarning: too bad numerical precision vs scale @ num:aNNLO_PLUS_NNLL 0.04167165066169682% vs scale:0.1680342517910624% to -0.1156639502250062%\n",
      "  warnings.warn(\n",
      "/home/apn/.local/lib/python3.9/site-packages/hepi/results.py:276: RuntimeWarning: too bad numerical precision vs scale @ num:aNNLO_PLUS_NNLL 0.03944631608764976% vs scale:0.1728941403373098% to -0.09290304444353892%\n",
      "  warnings.warn(\n",
      "/home/apn/.local/lib/python3.9/site-packages/hepi/results.py:276: RuntimeWarning: too bad numerical precision vs scale @ num:aNNLO_PLUS_NNLL 0.03658926516545498% vs scale:0.20258979418468492% to -0.05423120622166934%\n",
      "  warnings.warn(\n",
      "/home/apn/.local/lib/python3.9/site-packages/hepi/results.py:276: RuntimeWarning: too bad numerical precision vs scale @ num:aNNLO_PLUS_NNLL 0.03579816689007259% vs scale:0.19231769915570032% to -0.03998885846539224%\n",
      "  warnings.warn(\n",
      "/home/apn/.local/lib/python3.9/site-packages/hepi/results.py:276: RuntimeWarning: too bad numerical precision vs scale @ num:aNNLO_PLUS_NNLL 0.03542187316119017% vs scale:0.193813654241516% to -0.0394191262138455%\n",
      "  warnings.warn(\n",
      "/home/apn/.local/lib/python3.9/site-packages/hepi/results.py:276: RuntimeWarning: too bad numerical precision vs scale @ num:aNNLO_PLUS_NNLL 0.037737661279831206% vs scale:0.23601796195511845% to -0.039742223367597945%\n",
      "  warnings.warn(\n",
      "/home/apn/.local/lib/python3.9/site-packages/hepi/input.py:283: RuntimeWarning: Could not set new central scale to average of masses.\n",
      "  warnings.warn(\"Could not set new central scale to average of masses.\",\n"
     ]
    },
    {
     "data": {
      "application/json": {
       "ascii": false,
       "bar_format": null,
       "colour": null,
       "elapsed": 0.02518630027770996,
       "initial": 0,
       "n": 0,
       "ncols": null,
       "nrows": 81,
       "postfix": null,
       "prefix": "QUEUEING TASKS | Checking input",
       "rate": null,
       "total": 940,
       "unit": "it",
       "unit_divisor": 1000,
       "unit_scale": false
      },
      "application/vnd.jupyter.widget-view+json": {
       "model_id": "688d6d32d23a40aab6fdf11746f2539c",
       "version_major": 2,
       "version_minor": 0
      },
      "text/plain": [
       "QUEUEING TASKS | Checking input:   0%|          | 0/940 [00:00<?, ?it/s]"
      ]
     },
     "metadata": {},
     "output_type": "display_data"
    },
    {
     "data": {
      "application/json": {
       "ascii": false,
       "bar_format": null,
       "colour": null,
       "elapsed": 0.03535604476928711,
       "initial": 0,
       "n": 0,
       "ncols": null,
       "nrows": 81,
       "postfix": null,
       "prefix": "PROCESSING TASKS | Checking input",
       "rate": null,
       "total": 940,
       "unit": "it",
       "unit_divisor": 1000,
       "unit_scale": false
      },
      "application/vnd.jupyter.widget-view+json": {
       "model_id": "4df4eb1f5b0147bba34305f9adf38367",
       "version_major": 2,
       "version_minor": 0
      },
      "text/plain": [
       "PROCESSING TASKS | Checking input:   0%|          | 0/940 [00:00<?, ?it/s]"
      ]
     },
     "metadata": {},
     "output_type": "display_data"
    },
    {
     "data": {
      "application/json": {
       "ascii": false,
       "bar_format": null,
       "colour": null,
       "elapsed": 0.04227733612060547,
       "initial": 0,
       "n": 0,
       "ncols": null,
       "nrows": 81,
       "postfix": null,
       "prefix": "COLLECTING RESULTS | Checking input",
       "rate": null,
       "total": 940,
       "unit": "it",
       "unit_divisor": 1000,
       "unit_scale": false
      },
      "application/vnd.jupyter.widget-view+json": {
       "model_id": "0886e0a2f3084c91949814e6c86d2fb9",
       "version_major": 2,
       "version_minor": 0
      },
      "text/plain": [
       "COLLECTING RESULTS | Checking input:   0%|          | 0/940 [00:00<?, ?it/s]"
      ]
     },
     "metadata": {},
     "output_type": "display_data"
    },
    {
     "data": {
      "application/json": {
       "ascii": false,
       "bar_format": null,
       "colour": null,
       "elapsed": 0.035431623458862305,
       "initial": 0,
       "n": 0,
       "ncols": null,
       "nrows": 81,
       "postfix": null,
       "prefix": "QUEUEING TASKS | Preparing",
       "rate": null,
       "total": 940,
       "unit": "it",
       "unit_divisor": 1000,
       "unit_scale": false
      },
      "application/vnd.jupyter.widget-view+json": {
       "model_id": "d38f727b36de43d39aefcd477b82eb0d",
       "version_major": 2,
       "version_minor": 0
      },
      "text/plain": [
       "QUEUEING TASKS | Preparing:   0%|          | 0/940 [00:00<?, ?it/s]"
      ]
     },
     "metadata": {},
     "output_type": "display_data"
    },
    {
     "data": {
      "application/json": {
       "ascii": false,
       "bar_format": null,
       "colour": null,
       "elapsed": 0.0812535285949707,
       "initial": 0,
       "n": 0,
       "ncols": null,
       "nrows": 81,
       "postfix": null,
       "prefix": "PROCESSING TASKS | Preparing",
       "rate": null,
       "total": 940,
       "unit": "it",
       "unit_divisor": 1000,
       "unit_scale": false
      },
      "application/vnd.jupyter.widget-view+json": {
       "model_id": "4dbd8a673a6e4902985cdfab3ff7b740",
       "version_major": 2,
       "version_minor": 0
      },
      "text/plain": [
       "PROCESSING TASKS | Preparing:   0%|          | 0/940 [00:00<?, ?it/s]"
      ]
     },
     "metadata": {},
     "output_type": "display_data"
    },
    {
     "data": {
      "application/json": {
       "ascii": false,
       "bar_format": null,
       "colour": null,
       "elapsed": 0.029283761978149414,
       "initial": 0,
       "n": 0,
       "ncols": null,
       "nrows": 81,
       "postfix": null,
       "prefix": "COLLECTING RESULTS | Preparing",
       "rate": null,
       "total": 940,
       "unit": "it",
       "unit_divisor": 1000,
       "unit_scale": false
      },
      "application/vnd.jupyter.widget-view+json": {
       "model_id": "129602c562d2405c8f6ea762463caf30",
       "version_major": 2,
       "version_minor": 0
      },
      "text/plain": [
       "COLLECTING RESULTS | Preparing:   0%|          | 0/940 [00:00<?, ?it/s]"
      ]
     },
     "metadata": {},
     "output_type": "display_data"
    },
    {
     "name": "stdout",
     "output_type": "stream",
     "text": [
      "Skipped: 940 Not skipped: 0\n"
     ]
    },
    {
     "data": {
      "application/json": {
       "ascii": false,
       "bar_format": null,
       "colour": null,
       "elapsed": 0.034845590591430664,
       "initial": 0,
       "n": 0,
       "ncols": null,
       "nrows": 81,
       "postfix": null,
       "prefix": "QUEUEING TASKS | Parsing",
       "rate": null,
       "total": 940,
       "unit": "it",
       "unit_divisor": 1000,
       "unit_scale": false
      },
      "application/vnd.jupyter.widget-view+json": {
       "model_id": "d0510178ee9147bcab847b11ff398f10",
       "version_major": 2,
       "version_minor": 0
      },
      "text/plain": [
       "QUEUEING TASKS | Parsing:   0%|          | 0/940 [00:00<?, ?it/s]"
      ]
     },
     "metadata": {},
     "output_type": "display_data"
    },
    {
     "data": {
      "application/json": {
       "ascii": false,
       "bar_format": null,
       "colour": null,
       "elapsed": 0.5494837760925293,
       "initial": 0,
       "n": 0,
       "ncols": null,
       "nrows": 81,
       "postfix": null,
       "prefix": "PROCESSING TASKS | Parsing",
       "rate": null,
       "total": 940,
       "unit": "it",
       "unit_divisor": 1000,
       "unit_scale": false
      },
      "application/vnd.jupyter.widget-view+json": {
       "model_id": "4973a556c3cb47c69b15de21d491b0ee",
       "version_major": 2,
       "version_minor": 0
      },
      "text/plain": [
       "PROCESSING TASKS | Parsing:   0%|          | 0/940 [00:00<?, ?it/s]"
      ]
     },
     "metadata": {},
     "output_type": "display_data"
    },
    {
     "data": {
      "application/json": {
       "ascii": false,
       "bar_format": null,
       "colour": null,
       "elapsed": 0.03521442413330078,
       "initial": 0,
       "n": 0,
       "ncols": null,
       "nrows": 81,
       "postfix": null,
       "prefix": "COLLECTING RESULTS | Parsing",
       "rate": null,
       "total": 940,
       "unit": "it",
       "unit_divisor": 1000,
       "unit_scale": false
      },
      "application/vnd.jupyter.widget-view+json": {
       "model_id": "875799d318ab4ab6b62978d2b0dd41a0",
       "version_major": 2,
       "version_minor": 0
      },
      "text/plain": [
       "COLLECTING RESULTS | Parsing:   0%|          | 0/940 [00:00<?, ?it/s]"
      ]
     },
     "metadata": {},
     "output_type": "display_data"
    },
    {
     "data": {
      "application/json": {
       "ascii": false,
       "bar_format": null,
       "colour": null,
       "elapsed": 0.031200647354125977,
       "initial": 0,
       "n": 0,
       "ncols": null,
       "nrows": 81,
       "postfix": null,
       "prefix": "QUEUEING TASKS | PDF uncertainty @ LO",
       "rate": null,
       "total": 20,
       "unit": "it",
       "unit_divisor": 1000,
       "unit_scale": false
      },
      "application/vnd.jupyter.widget-view+json": {
       "model_id": "252c52c1d5874bcf86ad9f08a4d3dada",
       "version_major": 2,
       "version_minor": 0
      },
      "text/plain": [
       "QUEUEING TASKS | PDF uncertainty @ LO:   0%|          | 0/20 [00:00<?, ?it/s]"
      ]
     },
     "metadata": {},
     "output_type": "display_data"
    },
    {
     "data": {
      "application/json": {
       "ascii": false,
       "bar_format": null,
       "colour": null,
       "elapsed": 0.24901127815246582,
       "initial": 0,
       "n": 0,
       "ncols": null,
       "nrows": 81,
       "postfix": null,
       "prefix": "PROCESSING TASKS | PDF uncertainty @ LO",
       "rate": null,
       "total": 20,
       "unit": "it",
       "unit_divisor": 1000,
       "unit_scale": false
      },
      "application/vnd.jupyter.widget-view+json": {
       "model_id": "589935b133a34302a3cb72755ea6d53e",
       "version_major": 2,
       "version_minor": 0
      },
      "text/plain": [
       "PROCESSING TASKS | PDF uncertainty @ LO:   0%|          | 0/20 [00:00<?, ?it/s]"
      ]
     },
     "metadata": {},
     "output_type": "display_data"
    },
    {
     "data": {
      "application/json": {
       "ascii": false,
       "bar_format": null,
       "colour": null,
       "elapsed": 0.036220550537109375,
       "initial": 0,
       "n": 0,
       "ncols": null,
       "nrows": 81,
       "postfix": null,
       "prefix": "COLLECTING RESULTS | PDF uncertainty @ LO",
       "rate": null,
       "total": 20,
       "unit": "it",
       "unit_divisor": 1000,
       "unit_scale": false
      },
      "application/vnd.jupyter.widget-view+json": {
       "model_id": "f6cddfa0f9484963aa04cca1c9dfb7c2",
       "version_major": 2,
       "version_minor": 0
      },
      "text/plain": [
       "COLLECTING RESULTS | PDF uncertainty @ LO:   0%|          | 0/20 [00:00<?, ?it/s]"
      ]
     },
     "metadata": {},
     "output_type": "display_data"
    },
    {
     "data": {
      "application/json": {
       "ascii": false,
       "bar_format": null,
       "colour": null,
       "elapsed": 0.0534207820892334,
       "initial": 0,
       "n": 0,
       "ncols": null,
       "nrows": 81,
       "postfix": null,
       "prefix": "QUEUEING TASKS | PDF uncertainty @ NLO",
       "rate": null,
       "total": 20,
       "unit": "it",
       "unit_divisor": 1000,
       "unit_scale": false
      },
      "application/vnd.jupyter.widget-view+json": {
       "model_id": "93a91fecc65643eb81cd82c8872f1d53",
       "version_major": 2,
       "version_minor": 0
      },
      "text/plain": [
       "QUEUEING TASKS | PDF uncertainty @ NLO:   0%|          | 0/20 [00:00<?, ?it/s]"
      ]
     },
     "metadata": {},
     "output_type": "display_data"
    },
    {
     "data": {
      "application/json": {
       "ascii": false,
       "bar_format": null,
       "colour": null,
       "elapsed": 0.21910905838012695,
       "initial": 0,
       "n": 0,
       "ncols": null,
       "nrows": 81,
       "postfix": null,
       "prefix": "PROCESSING TASKS | PDF uncertainty @ NLO",
       "rate": null,
       "total": 20,
       "unit": "it",
       "unit_divisor": 1000,
       "unit_scale": false
      },
      "application/vnd.jupyter.widget-view+json": {
       "model_id": "79f159dff78a423cabb44e07ac79d31a",
       "version_major": 2,
       "version_minor": 0
      },
      "text/plain": [
       "PROCESSING TASKS | PDF uncertainty @ NLO:   0%|          | 0/20 [00:00<?, ?it/s]"
      ]
     },
     "metadata": {},
     "output_type": "display_data"
    },
    {
     "data": {
      "application/json": {
       "ascii": false,
       "bar_format": null,
       "colour": null,
       "elapsed": 0.03594851493835449,
       "initial": 0,
       "n": 0,
       "ncols": null,
       "nrows": 81,
       "postfix": null,
       "prefix": "COLLECTING RESULTS | PDF uncertainty @ NLO",
       "rate": null,
       "total": 20,
       "unit": "it",
       "unit_divisor": 1000,
       "unit_scale": false
      },
      "application/vnd.jupyter.widget-view+json": {
       "model_id": "ef849a3d3d6f4436ad589c99631c0504",
       "version_major": 2,
       "version_minor": 0
      },
      "text/plain": [
       "COLLECTING RESULTS | PDF uncertainty @ NLO:   0%|          | 0/20 [00:00<?, ?it/s]"
      ]
     },
     "metadata": {},
     "output_type": "display_data"
    },
    {
     "data": {
      "application/json": {
       "ascii": false,
       "bar_format": null,
       "colour": null,
       "elapsed": 0.02945113182067871,
       "initial": 0,
       "n": 0,
       "ncols": null,
       "nrows": 81,
       "postfix": null,
       "prefix": "QUEUEING TASKS | PDF uncertainty @ aNNLO_PLUS_NNLL",
       "rate": null,
       "total": 20,
       "unit": "it",
       "unit_divisor": 1000,
       "unit_scale": false
      },
      "application/vnd.jupyter.widget-view+json": {
       "model_id": "73dc48d8e8e64ac68926e8d8c10332f3",
       "version_major": 2,
       "version_minor": 0
      },
      "text/plain": [
       "QUEUEING TASKS | PDF uncertainty @ aNNLO_PLUS_NNLL:   0%|          | 0/20 [00:00<?, ?it/s]"
      ]
     },
     "metadata": {},
     "output_type": "display_data"
    },
    {
     "data": {
      "application/json": {
       "ascii": false,
       "bar_format": null,
       "colour": null,
       "elapsed": 0.2510077953338623,
       "initial": 0,
       "n": 0,
       "ncols": null,
       "nrows": 81,
       "postfix": null,
       "prefix": "PROCESSING TASKS | PDF uncertainty @ aNNLO_PLUS_NNLL",
       "rate": null,
       "total": 20,
       "unit": "it",
       "unit_divisor": 1000,
       "unit_scale": false
      },
      "application/vnd.jupyter.widget-view+json": {
       "model_id": "ed49caef37564f03bf25c392b44a4d8a",
       "version_major": 2,
       "version_minor": 0
      },
      "text/plain": [
       "PROCESSING TASKS | PDF uncertainty @ aNNLO_PLUS_NNLL:   0%|          | 0/20 [00:00<?, ?it/s]"
      ]
     },
     "metadata": {},
     "output_type": "display_data"
    },
    {
     "data": {
      "application/json": {
       "ascii": false,
       "bar_format": null,
       "colour": null,
       "elapsed": 0.03617262840270996,
       "initial": 0,
       "n": 0,
       "ncols": null,
       "nrows": 81,
       "postfix": null,
       "prefix": "COLLECTING RESULTS | PDF uncertainty @ aNNLO_PLUS_NNLL",
       "rate": null,
       "total": 20,
       "unit": "it",
       "unit_divisor": 1000,
       "unit_scale": false
      },
      "application/vnd.jupyter.widget-view+json": {
       "model_id": "ef87d4f4219947dbb0204c60109eb742",
       "version_major": 2,
       "version_minor": 0
      },
      "text/plain": [
       "COLLECTING RESULTS | PDF uncertainty @ aNNLO_PLUS_NNLL:   0%|          | 0/20 [00:00<?, ?it/s]"
      ]
     },
     "metadata": {},
     "output_type": "display_data"
    },
    {
     "data": {
      "application/json": {
       "ascii": false,
       "bar_format": null,
       "colour": null,
       "elapsed": 0.04031872749328613,
       "initial": 0,
       "n": 0,
       "ncols": null,
       "nrows": 81,
       "postfix": null,
       "prefix": "QUEUEING TASKS | Scale uncertainty @ LO",
       "rate": null,
       "total": 20,
       "unit": "it",
       "unit_divisor": 1000,
       "unit_scale": false
      },
      "application/vnd.jupyter.widget-view+json": {
       "model_id": "0ca1dd7d3af940e99884254e28828871",
       "version_major": 2,
       "version_minor": 0
      },
      "text/plain": [
       "QUEUEING TASKS | Scale uncertainty @ LO:   0%|          | 0/20 [00:00<?, ?it/s]"
      ]
     },
     "metadata": {},
     "output_type": "display_data"
    },
    {
     "data": {
      "application/json": {
       "ascii": false,
       "bar_format": null,
       "colour": null,
       "elapsed": 0.2775847911834717,
       "initial": 0,
       "n": 0,
       "ncols": null,
       "nrows": 81,
       "postfix": null,
       "prefix": "PROCESSING TASKS | Scale uncertainty @ LO",
       "rate": null,
       "total": 20,
       "unit": "it",
       "unit_divisor": 1000,
       "unit_scale": false
      },
      "application/vnd.jupyter.widget-view+json": {
       "model_id": "52d406a2a93944cda4388ebf1b6238d0",
       "version_major": 2,
       "version_minor": 0
      },
      "text/plain": [
       "PROCESSING TASKS | Scale uncertainty @ LO:   0%|          | 0/20 [00:00<?, ?it/s]"
      ]
     },
     "metadata": {},
     "output_type": "display_data"
    },
    {
     "data": {
      "application/json": {
       "ascii": false,
       "bar_format": null,
       "colour": null,
       "elapsed": 0.04230642318725586,
       "initial": 0,
       "n": 0,
       "ncols": null,
       "nrows": 81,
       "postfix": null,
       "prefix": "COLLECTING RESULTS | Scale uncertainty @ LO",
       "rate": null,
       "total": 20,
       "unit": "it",
       "unit_divisor": 1000,
       "unit_scale": false
      },
      "application/vnd.jupyter.widget-view+json": {
       "model_id": "62d56def1835484ab5d1778b6be56750",
       "version_major": 2,
       "version_minor": 0
      },
      "text/plain": [
       "COLLECTING RESULTS | Scale uncertainty @ LO:   0%|          | 0/20 [00:00<?, ?it/s]"
      ]
     },
     "metadata": {},
     "output_type": "display_data"
    },
    {
     "name": "stderr",
     "output_type": "stream",
     "text": [
      "/home/apn/.local/lib/python3.9/site-packages/hepi/results.py:276: RuntimeWarning: too bad numerical precision vs scale @ num:LO 0.04019589582312767% vs scale:0.19060031369651903% to -0.6646996844352451%\n",
      "  warnings.warn(\n"
     ]
    },
    {
     "data": {
      "application/json": {
       "ascii": false,
       "bar_format": null,
       "colour": null,
       "elapsed": 0.03554415702819824,
       "initial": 0,
       "n": 0,
       "ncols": null,
       "nrows": 81,
       "postfix": null,
       "prefix": "QUEUEING TASKS | Scale uncertainty @ NLO",
       "rate": null,
       "total": 20,
       "unit": "it",
       "unit_divisor": 1000,
       "unit_scale": false
      },
      "application/vnd.jupyter.widget-view+json": {
       "model_id": "97e92b298a514a7683a197bf890be476",
       "version_major": 2,
       "version_minor": 0
      },
      "text/plain": [
       "QUEUEING TASKS | Scale uncertainty @ NLO:   0%|          | 0/20 [00:00<?, ?it/s]"
      ]
     },
     "metadata": {},
     "output_type": "display_data"
    },
    {
     "data": {
      "application/json": {
       "ascii": false,
       "bar_format": null,
       "colour": null,
       "elapsed": 0.22310614585876465,
       "initial": 0,
       "n": 0,
       "ncols": null,
       "nrows": 81,
       "postfix": null,
       "prefix": "PROCESSING TASKS | Scale uncertainty @ NLO",
       "rate": null,
       "total": 20,
       "unit": "it",
       "unit_divisor": 1000,
       "unit_scale": false
      },
      "application/vnd.jupyter.widget-view+json": {
       "model_id": "d407ebc395994c798228c12d8653d09e",
       "version_major": 2,
       "version_minor": 0
      },
      "text/plain": [
       "PROCESSING TASKS | Scale uncertainty @ NLO:   0%|          | 0/20 [00:00<?, ?it/s]"
      ]
     },
     "metadata": {},
     "output_type": "display_data"
    },
    {
     "data": {
      "application/json": {
       "ascii": false,
       "bar_format": null,
       "colour": null,
       "elapsed": 0.03374958038330078,
       "initial": 0,
       "n": 0,
       "ncols": null,
       "nrows": 81,
       "postfix": null,
       "prefix": "COLLECTING RESULTS | Scale uncertainty @ NLO",
       "rate": null,
       "total": 20,
       "unit": "it",
       "unit_divisor": 1000,
       "unit_scale": false
      },
      "application/vnd.jupyter.widget-view+json": {
       "model_id": "55ae599c83dc46408c24f0124ae0d09c",
       "version_major": 2,
       "version_minor": 0
      },
      "text/plain": [
       "COLLECTING RESULTS | Scale uncertainty @ NLO:   0%|          | 0/20 [00:00<?, ?it/s]"
      ]
     },
     "metadata": {},
     "output_type": "display_data"
    },
    {
     "data": {
      "application/json": {
       "ascii": false,
       "bar_format": null,
       "colour": null,
       "elapsed": 0.03226423263549805,
       "initial": 0,
       "n": 0,
       "ncols": null,
       "nrows": 81,
       "postfix": null,
       "prefix": "QUEUEING TASKS | Scale uncertainty @ aNNLO_PLUS_NNLL",
       "rate": null,
       "total": 20,
       "unit": "it",
       "unit_divisor": 1000,
       "unit_scale": false
      },
      "application/vnd.jupyter.widget-view+json": {
       "model_id": "da34ee54d5df46488b74df69ef32989a",
       "version_major": 2,
       "version_minor": 0
      },
      "text/plain": [
       "QUEUEING TASKS | Scale uncertainty @ aNNLO_PLUS_NNLL:   0%|          | 0/20 [00:00<?, ?it/s]"
      ]
     },
     "metadata": {},
     "output_type": "display_data"
    },
    {
     "data": {
      "application/json": {
       "ascii": false,
       "bar_format": null,
       "colour": null,
       "elapsed": 0.1683340072631836,
       "initial": 0,
       "n": 0,
       "ncols": null,
       "nrows": 81,
       "postfix": null,
       "prefix": "PROCESSING TASKS | Scale uncertainty @ aNNLO_PLUS_NNLL",
       "rate": null,
       "total": 20,
       "unit": "it",
       "unit_divisor": 1000,
       "unit_scale": false
      },
      "application/vnd.jupyter.widget-view+json": {
       "model_id": "0ca4e9cc190943efad6a7521a70ba1fd",
       "version_major": 2,
       "version_minor": 0
      },
      "text/plain": [
       "PROCESSING TASKS | Scale uncertainty @ aNNLO_PLUS_NNLL:   0%|          | 0/20 [00:00<?, ?it/s]"
      ]
     },
     "metadata": {},
     "output_type": "display_data"
    },
    {
     "data": {
      "application/json": {
       "ascii": false,
       "bar_format": null,
       "colour": null,
       "elapsed": 0.03545856475830078,
       "initial": 0,
       "n": 0,
       "ncols": null,
       "nrows": 81,
       "postfix": null,
       "prefix": "COLLECTING RESULTS | Scale uncertainty @ aNNLO_PLUS_NNLL",
       "rate": null,
       "total": 20,
       "unit": "it",
       "unit_divisor": 1000,
       "unit_scale": false
      },
      "application/vnd.jupyter.widget-view+json": {
       "model_id": "36f37774146347a48d5ef9808069e8e1",
       "version_major": 2,
       "version_minor": 0
      },
      "text/plain": [
       "COLLECTING RESULTS | Scale uncertainty @ aNNLO_PLUS_NNLL:   0%|          | 0/20 [00:00<?, ?it/s]"
      ]
     },
     "metadata": {},
     "output_type": "display_data"
    },
    {
     "name": "stderr",
     "output_type": "stream",
     "text": [
      "/home/apn/.local/lib/python3.9/site-packages/hepi/results.py:276: RuntimeWarning: too bad numerical precision vs scale @ num:aNNLO_PLUS_NNLL 0.03890398681110522% vs scale:0.2638187738855267% to -0.1722466747660393%\n",
      "  warnings.warn(\n",
      "/home/apn/.local/lib/python3.9/site-packages/hepi/results.py:276: RuntimeWarning: too bad numerical precision vs scale @ num:aNNLO_PLUS_NNLL 0.04378058105893512% vs scale:0.2492803266843277% to -0.1305525929371378%\n",
      "  warnings.warn(\n",
      "/home/apn/.local/lib/python3.9/site-packages/hepi/results.py:276: RuntimeWarning: too bad numerical precision vs scale @ num:aNNLO_PLUS_NNLL 0.044226545984885006% vs scale:0.23890024627582804% to -0.13326337704482513%\n",
      "  warnings.warn(\n",
      "/home/apn/.local/lib/python3.9/site-packages/hepi/results.py:276: RuntimeWarning: too bad numerical precision vs scale @ num:aNNLO_PLUS_NNLL 0.038283612637996456% vs scale:0.20666390311529464% to -0.1229026266958958%\n",
      "  warnings.warn(\n",
      "/home/apn/.local/lib/python3.9/site-packages/hepi/results.py:276: RuntimeWarning: too bad numerical precision vs scale @ num:aNNLO_PLUS_NNLL 0.0449479978629966% vs scale:0.18397508657949938% to -0.1547731739862335%\n",
      "  warnings.warn(\n",
      "/home/apn/.local/lib/python3.9/site-packages/hepi/results.py:276: RuntimeWarning: too bad numerical precision vs scale @ num:aNNLO_PLUS_NNLL 0.041488612353974386% vs scale:0.16743216728840213% to -0.13454155012551255%\n",
      "  warnings.warn(\n",
      "/home/apn/.local/lib/python3.9/site-packages/hepi/results.py:276: RuntimeWarning: too bad numerical precision vs scale @ num:aNNLO_PLUS_NNLL 0.04151297232524979% vs scale:0.16512203683479182% to -0.11133310631265085%\n",
      "  warnings.warn(\n",
      "/home/apn/.local/lib/python3.9/site-packages/hepi/results.py:276: RuntimeWarning: too bad numerical precision vs scale @ num:aNNLO_PLUS_NNLL 0.03796962384117513% vs scale:0.19302631005129797% to -0.07119204755296%\n",
      "  warnings.warn(\n",
      "/home/apn/.local/lib/python3.9/site-packages/hepi/results.py:276: RuntimeWarning: too bad numerical precision vs scale @ num:aNNLO_PLUS_NNLL 0.03644762314133051% vs scale:0.19644758026372094% to -0.04735648914694264%\n",
      "  warnings.warn(\n",
      "/home/apn/.local/lib/python3.9/site-packages/hepi/results.py:276: RuntimeWarning: too bad numerical precision vs scale @ num:aNNLO_PLUS_NNLL 0.035600454554757355% vs scale:0.1935173925564199% to -0.04085334982849433%\n",
      "  warnings.warn(\n",
      "/home/apn/.local/lib/python3.9/site-packages/hepi/results.py:276: RuntimeWarning: too bad numerical precision vs scale @ num:aNNLO_PLUS_NNLL 0.035619290609901585% vs scale:0.20654065100424993% to -0.04444503790851179%\n",
      "  warnings.warn(\n"
     ]
    },
    {
     "data": {
      "image/png": "[encoded data removed]",
      "text/plain": [
       "<Figure size 600x400 with 2 Axes>"
      ]
     },
     "metadata": {},
     "output_type": "display_data"
    },
    {
     "name": "stderr",
     "output_type": "stream",
     "text": [
      "/home/apn/.local/lib/python3.9/site-packages/hepi/input.py:283: RuntimeWarning: Could not set new central scale to average of masses.\n",
      "  warnings.warn(\"Could not set new central scale to average of masses.\",\n"
     ]
    },
    {
     "data": {
      "application/json": {
       "ascii": false,
       "bar_format": null,
       "colour": null,
       "elapsed": 0.02908039093017578,
       "initial": 0,
       "n": 0,
       "ncols": null,
       "nrows": 81,
       "postfix": null,
       "prefix": "QUEUEING TASKS | Checking input",
       "rate": null,
       "total": 940,
       "unit": "it",
       "unit_divisor": 1000,
       "unit_scale": false
      },
      "application/vnd.jupyter.widget-view+json": {
       "model_id": "9674e3d6de0045c0a0a9129886c94ffa",
       "version_major": 2,
       "version_minor": 0
      },
      "text/plain": [
       "QUEUEING TASKS | Checking input:   0%|          | 0/940 [00:00<?, ?it/s]"
      ]
     },
     "metadata": {},
     "output_type": "display_data"
    },
    {
     "data": {
      "application/json": {
       "ascii": false,
       "bar_format": null,
       "colour": null,
       "elapsed": 0.03951907157897949,
       "initial": 0,
       "n": 0,
       "ncols": null,
       "nrows": 81,
       "postfix": null,
       "prefix": "PROCESSING TASKS | Checking input",
       "rate": null,
       "total": 940,
       "unit": "it",
       "unit_divisor": 1000,
       "unit_scale": false
      },
      "application/vnd.jupyter.widget-view+json": {
       "model_id": "09eae49a4d8e4cc2979ab1c13e7f3777",
       "version_major": 2,
       "version_minor": 0
      },
      "text/plain": [
       "PROCESSING TASKS | Checking input:   0%|          | 0/940 [00:00<?, ?it/s]"
      ]
     },
     "metadata": {},
     "output_type": "display_data"
    },
    {
     "data": {
      "application/json": {
       "ascii": false,
       "bar_format": null,
       "colour": null,
       "elapsed": 0.032381534576416016,
       "initial": 0,
       "n": 0,
       "ncols": null,
       "nrows": 81,
       "postfix": null,
       "prefix": "COLLECTING RESULTS | Checking input",
       "rate": null,
       "total": 940,
       "unit": "it",
       "unit_divisor": 1000,
       "unit_scale": false
      },
      "application/vnd.jupyter.widget-view+json": {
       "model_id": "ad36a1a80aff4f69bfa2532df5b39922",
       "version_major": 2,
       "version_minor": 0
      },
      "text/plain": [
       "COLLECTING RESULTS | Checking input:   0%|          | 0/940 [00:00<?, ?it/s]"
      ]
     },
     "metadata": {},
     "output_type": "display_data"
    },
    {
     "data": {
      "application/json": {
       "ascii": false,
       "bar_format": null,
       "colour": null,
       "elapsed": 0.029311418533325195,
       "initial": 0,
       "n": 0,
       "ncols": null,
       "nrows": 81,
       "postfix": null,
       "prefix": "QUEUEING TASKS | Preparing",
       "rate": null,
       "total": 940,
       "unit": "it",
       "unit_divisor": 1000,
       "unit_scale": false
      },
      "application/vnd.jupyter.widget-view+json": {
       "model_id": "42dd4a73082a402abb37e030e7505900",
       "version_major": 2,
       "version_minor": 0
      },
      "text/plain": [
       "QUEUEING TASKS | Preparing:   0%|          | 0/940 [00:00<?, ?it/s]"
      ]
     },
     "metadata": {},
     "output_type": "display_data"
    },
    {
     "data": {
      "application/json": {
       "ascii": false,
       "bar_format": null,
       "colour": null,
       "elapsed": 0.07493376731872559,
       "initial": 0,
       "n": 0,
       "ncols": null,
       "nrows": 81,
       "postfix": null,
       "prefix": "PROCESSING TASKS | Preparing",
       "rate": null,
       "total": 940,
       "unit": "it",
       "unit_divisor": 1000,
       "unit_scale": false
      },
      "application/vnd.jupyter.widget-view+json": {
       "model_id": "22b04b6dc015435a93a0260811b951a4",
       "version_major": 2,
       "version_minor": 0
      },
      "text/plain": [
       "PROCESSING TASKS | Preparing:   0%|          | 0/940 [00:00<?, ?it/s]"
      ]
     },
     "metadata": {},
     "output_type": "display_data"
    },
    {
     "data": {
      "application/json": {
       "ascii": false,
       "bar_format": null,
       "colour": null,
       "elapsed": 0.034494876861572266,
       "initial": 0,
       "n": 0,
       "ncols": null,
       "nrows": 81,
       "postfix": null,
       "prefix": "COLLECTING RESULTS | Preparing",
       "rate": null,
       "total": 940,
       "unit": "it",
       "unit_divisor": 1000,
       "unit_scale": false
      },
      "application/vnd.jupyter.widget-view+json": {
       "model_id": "d872cc6e4beb45d2bfbb2571fd94f0d1",
       "version_major": 2,
       "version_minor": 0
      },
      "text/plain": [
       "COLLECTING RESULTS | Preparing:   0%|          | 0/940 [00:00<?, ?it/s]"
      ]
     },
     "metadata": {},
     "output_type": "display_data"
    },
    {
     "name": "stdout",
     "output_type": "stream",
     "text": [
      "Skipped: 940 Not skipped: 0\n"
     ]
    },
    {
     "data": {
      "application/json": {
       "ascii": false,
       "bar_format": null,
       "colour": null,
       "elapsed": 0.02754378318786621,
       "initial": 0,
       "n": 0,
       "ncols": null,
       "nrows": 81,
       "postfix": null,
       "prefix": "QUEUEING TASKS | Parsing",
       "rate": null,
       "total": 940,
       "unit": "it",
       "unit_divisor": 1000,
       "unit_scale": false
      },
      "application/vnd.jupyter.widget-view+json": {
       "model_id": "9eb24d9fb16a4955b01a6866b1aa3447",
       "version_major": 2,
       "version_minor": 0
      },
      "text/plain": [
       "QUEUEING TASKS | Parsing:   0%|          | 0/940 [00:00<?, ?it/s]"
      ]
     },
     "metadata": {},
     "output_type": "display_data"
    },
    {
     "data": {
      "application/json": {
       "ascii": false,
       "bar_format": null,
       "colour": null,
       "elapsed": 0.3599214553833008,
       "initial": 0,
       "n": 0,
       "ncols": null,
       "nrows": 81,
       "postfix": null,
       "prefix": "PROCESSING TASKS | Parsing",
       "rate": null,
       "total": 940,
       "unit": "it",
       "unit_divisor": 1000,
       "unit_scale": false
      },
      "application/vnd.jupyter.widget-view+json": {
       "model_id": "1dec53cf09ed466e9afb9f1c315b317b",
       "version_major": 2,
       "version_minor": 0
      },
      "text/plain": [
       "PROCESSING TASKS | Parsing:   0%|          | 0/940 [00:00<?, ?it/s]"
      ]
     },
     "metadata": {},
     "output_type": "display_data"
    },
    {
     "data": {
      "application/json": {
       "ascii": false,
       "bar_format": null,
       "colour": null,
       "elapsed": 0.03159379959106445,
       "initial": 0,
       "n": 0,
       "ncols": null,
       "nrows": 81,
       "postfix": null,
       "prefix": "COLLECTING RESULTS | Parsing",
       "rate": null,
       "total": 940,
       "unit": "it",
       "unit_divisor": 1000,
       "unit_scale": false
      },
      "application/vnd.jupyter.widget-view+json": {
       "model_id": "e2f1ff228dbe4ed095c15b77c0c79cc4",
       "version_major": 2,
       "version_minor": 0
      },
      "text/plain": [
       "COLLECTING RESULTS | Parsing:   0%|          | 0/940 [00:00<?, ?it/s]"
      ]
     },
     "metadata": {},
     "output_type": "display_data"
    },
    {
     "data": {
      "application/json": {
       "ascii": false,
       "bar_format": null,
       "colour": null,
       "elapsed": 0.025735855102539062,
       "initial": 0,
       "n": 0,
       "ncols": null,
       "nrows": 81,
       "postfix": null,
       "prefix": "QUEUEING TASKS | PDF uncertainty @ LO",
       "rate": null,
       "total": 20,
       "unit": "it",
       "unit_divisor": 1000,
       "unit_scale": false
      },
      "application/vnd.jupyter.widget-view+json": {
       "model_id": "3721cf8494b642cfbd7ef37235207f6f",
       "version_major": 2,
       "version_minor": 0
      },
      "text/plain": [
       "QUEUEING TASKS | PDF uncertainty @ LO:   0%|          | 0/20 [00:00<?, ?it/s]"
      ]
     },
     "metadata": {},
     "output_type": "display_data"
    },
    {
     "data": {
      "application/json": {
       "ascii": false,
       "bar_format": null,
       "colour": null,
       "elapsed": 0.2372274398803711,
       "initial": 0,
       "n": 0,
       "ncols": null,
       "nrows": 81,
       "postfix": null,
       "prefix": "PROCESSING TASKS | PDF uncertainty @ LO",
       "rate": null,
       "total": 20,
       "unit": "it",
       "unit_divisor": 1000,
       "unit_scale": false
      },
      "application/vnd.jupyter.widget-view+json": {
       "model_id": "e7828949021348e492788029158cfa40",
       "version_major": 2,
       "version_minor": 0
      },
      "text/plain": [
       "PROCESSING TASKS | PDF uncertainty @ LO:   0%|          | 0/20 [00:00<?, ?it/s]"
      ]
     },
     "metadata": {},
     "output_type": "display_data"
    },
    {
     "data": {
      "application/json": {
       "ascii": false,
       "bar_format": null,
       "colour": null,
       "elapsed": 0.04084444046020508,
       "initial": 0,
       "n": 0,
       "ncols": null,
       "nrows": 81,
       "postfix": null,
       "prefix": "COLLECTING RESULTS | PDF uncertainty @ LO",
       "rate": null,
       "total": 20,
       "unit": "it",
       "unit_divisor": 1000,
       "unit_scale": false
      },
      "application/vnd.jupyter.widget-view+json": {
       "model_id": "e24e951e079b4d10b1e53335b8fd89ba",
       "version_major": 2,
       "version_minor": 0
      },
      "text/plain": [
       "COLLECTING RESULTS | PDF uncertainty @ LO:   0%|          | 0/20 [00:00<?, ?it/s]"
      ]
     },
     "metadata": {},
     "output_type": "display_data"
    },
    {
     "data": {
      "application/json": {
       "ascii": false,
       "bar_format": null,
       "colour": null,
       "elapsed": 0.026284456253051758,
       "initial": 0,
       "n": 0,
       "ncols": null,
       "nrows": 81,
       "postfix": null,
       "prefix": "QUEUEING TASKS | PDF uncertainty @ NLO",
       "rate": null,
       "total": 20,
       "unit": "it",
       "unit_divisor": 1000,
       "unit_scale": false
      },
      "application/vnd.jupyter.widget-view+json": {
       "model_id": "27a78725d869408282642031c953d03f",
       "version_major": 2,
       "version_minor": 0
      },
      "text/plain": [
       "QUEUEING TASKS | PDF uncertainty @ NLO:   0%|          | 0/20 [00:00<?, ?it/s]"
      ]
     },
     "metadata": {},
     "output_type": "display_data"
    },
    {
     "data": {
      "application/json": {
       "ascii": false,
       "bar_format": null,
       "colour": null,
       "elapsed": 0.18293023109436035,
       "initial": 0,
       "n": 0,
       "ncols": null,
       "nrows": 81,
       "postfix": null,
       "prefix": "PROCESSING TASKS | PDF uncertainty @ NLO",
       "rate": null,
       "total": 20,
       "unit": "it",
       "unit_divisor": 1000,
       "unit_scale": false
      },
      "application/vnd.jupyter.widget-view+json": {
       "model_id": "df19392c4c834569ada38ac1e57ae6f9",
       "version_major": 2,
       "version_minor": 0
      },
      "text/plain": [
       "PROCESSING TASKS | PDF uncertainty @ NLO:   0%|          | 0/20 [00:00<?, ?it/s]"
      ]
     },
     "metadata": {},
     "output_type": "display_data"
    },
    {
     "data": {
      "application/json": {
       "ascii": false,
       "bar_format": null,
       "colour": null,
       "elapsed": 0.029361724853515625,
       "initial": 0,
       "n": 0,
       "ncols": null,
       "nrows": 81,
       "postfix": null,
       "prefix": "COLLECTING RESULTS | PDF uncertainty @ NLO",
       "rate": null,
       "total": 20,
       "unit": "it",
       "unit_divisor": 1000,
       "unit_scale": false
      },
      "application/vnd.jupyter.widget-view+json": {
       "model_id": "a5df4fd7a01845adb6f058301464774e",
       "version_major": 2,
       "version_minor": 0
      },
      "text/plain": [
       "COLLECTING RESULTS | PDF uncertainty @ NLO:   0%|          | 0/20 [00:00<?, ?it/s]"
      ]
     },
     "metadata": {},
     "output_type": "display_data"
    },
    {
     "data": {
      "application/json": {
       "ascii": false,
       "bar_format": null,
       "colour": null,
       "elapsed": 0.02626800537109375,
       "initial": 0,
       "n": 0,
       "ncols": null,
       "nrows": 81,
       "postfix": null,
       "prefix": "QUEUEING TASKS | PDF uncertainty @ aNNLO_PLUS_NNLL",
       "rate": null,
       "total": 20,
       "unit": "it",
       "unit_divisor": 1000,
       "unit_scale": false
      },
      "application/vnd.jupyter.widget-view+json": {
       "model_id": "563b131419e84a2e824db10109e0cbce",
       "version_major": 2,
       "version_minor": 0
      },
      "text/plain": [
       "QUEUEING TASKS | PDF uncertainty @ aNNLO_PLUS_NNLL:   0%|          | 0/20 [00:00<?, ?it/s]"
      ]
     },
     "metadata": {},
     "output_type": "display_data"
    },
    {
     "data": {
      "application/json": {
       "ascii": false,
       "bar_format": null,
       "colour": null,
       "elapsed": 0.2625701427459717,
       "initial": 0,
       "n": 0,
       "ncols": null,
       "nrows": 81,
       "postfix": null,
       "prefix": "PROCESSING TASKS | PDF uncertainty @ aNNLO_PLUS_NNLL",
       "rate": null,
       "total": 20,
       "unit": "it",
       "unit_divisor": 1000,
       "unit_scale": false
      },
      "application/vnd.jupyter.widget-view+json": {
       "model_id": "6b408332c0ec494fb77dedca604947e8",
       "version_major": 2,
       "version_minor": 0
      },
      "text/plain": [
       "PROCESSING TASKS | PDF uncertainty @ aNNLO_PLUS_NNLL:   0%|          | 0/20 [00:00<?, ?it/s]"
      ]
     },
     "metadata": {},
     "output_type": "display_data"
    },
    {
     "data": {
      "application/json": {
       "ascii": false,
       "bar_format": null,
       "colour": null,
       "elapsed": 0.03562164306640625,
       "initial": 0,
       "n": 0,
       "ncols": null,
       "nrows": 81,
       "postfix": null,
       "prefix": "COLLECTING RESULTS | PDF uncertainty @ aNNLO_PLUS_NNLL",
       "rate": null,
       "total": 20,
       "unit": "it",
       "unit_divisor": 1000,
       "unit_scale": false
      },
      "application/vnd.jupyter.widget-view+json": {
       "model_id": "d5bfd89836b94d57987b5a184f80974a",
       "version_major": 2,
       "version_minor": 0
      },
      "text/plain": [
       "COLLECTING RESULTS | PDF uncertainty @ aNNLO_PLUS_NNLL:   0%|          | 0/20 [00:00<?, ?it/s]"
      ]
     },
     "metadata": {},
     "output_type": "display_data"
    },
    {
     "data": {
      "application/json": {
       "ascii": false,
       "bar_format": null,
       "colour": null,
       "elapsed": 0.02625894546508789,
       "initial": 0,
       "n": 0,
       "ncols": null,
       "nrows": 81,
       "postfix": null,
       "prefix": "QUEUEING TASKS | Scale uncertainty @ LO",
       "rate": null,
       "total": 20,
       "unit": "it",
       "unit_divisor": 1000,
       "unit_scale": false
      },
      "application/vnd.jupyter.widget-view+json": {
       "model_id": "072ba99cf9144127944d25d18446b5c5",
       "version_major": 2,
       "version_minor": 0
      },
      "text/plain": [
       "QUEUEING TASKS | Scale uncertainty @ LO:   0%|          | 0/20 [00:00<?, ?it/s]"
      ]
     },
     "metadata": {},
     "output_type": "display_data"
    },
    {
     "data": {
      "application/json": {
       "ascii": false,
       "bar_format": null,
       "colour": null,
       "elapsed": 0.23712801933288574,
       "initial": 0,
       "n": 0,
       "ncols": null,
       "nrows": 81,
       "postfix": null,
       "prefix": "PROCESSING TASKS | Scale uncertainty @ LO",
       "rate": null,
       "total": 20,
       "unit": "it",
       "unit_divisor": 1000,
       "unit_scale": false
      },
      "application/vnd.jupyter.widget-view+json": {
       "model_id": "d208fb4d150b47939e87924e3f3ba328",
       "version_major": 2,
       "version_minor": 0
      },
      "text/plain": [
       "PROCESSING TASKS | Scale uncertainty @ LO:   0%|          | 0/20 [00:00<?, ?it/s]"
      ]
     },
     "metadata": {},
     "output_type": "display_data"
    },
    {
     "data": {
      "application/json": {
       "ascii": false,
       "bar_format": null,
       "colour": null,
       "elapsed": 0.03138899803161621,
       "initial": 0,
       "n": 0,
       "ncols": null,
       "nrows": 81,
       "postfix": null,
       "prefix": "COLLECTING RESULTS | Scale uncertainty @ LO",
       "rate": null,
       "total": 20,
       "unit": "it",
       "unit_divisor": 1000,
       "unit_scale": false
      },
      "application/vnd.jupyter.widget-view+json": {
       "model_id": "204c92a7d4124c05a5a08d48a0323633",
       "version_major": 2,
       "version_minor": 0
      },
      "text/plain": [
       "COLLECTING RESULTS | Scale uncertainty @ LO:   0%|          | 0/20 [00:00<?, ?it/s]"
      ]
     },
     "metadata": {},
     "output_type": "display_data"
    },
    {
     "data": {
      "application/json": {
       "ascii": false,
       "bar_format": null,
       "colour": null,
       "elapsed": 0.0343019962310791,
       "initial": 0,
       "n": 0,
       "ncols": null,
       "nrows": 81,
       "postfix": null,
       "prefix": "QUEUEING TASKS | Scale uncertainty @ NLO",
       "rate": null,
       "total": 20,
       "unit": "it",
       "unit_divisor": 1000,
       "unit_scale": false
      },
      "application/vnd.jupyter.widget-view+json": {
       "model_id": "f15f343b44504085a5e26fb57305cf35",
       "version_major": 2,
       "version_minor": 0
      },
      "text/plain": [
       "QUEUEING TASKS | Scale uncertainty @ NLO:   0%|          | 0/20 [00:00<?, ?it/s]"
      ]
     },
     "metadata": {},
     "output_type": "display_data"
    },
    {
     "data": {
      "application/json": {
       "ascii": false,
       "bar_format": null,
       "colour": null,
       "elapsed": 0.15655875205993652,
       "initial": 0,
       "n": 0,
       "ncols": null,
       "nrows": 81,
       "postfix": null,
       "prefix": "PROCESSING TASKS | Scale uncertainty @ NLO",
       "rate": null,
       "total": 20,
       "unit": "it",
       "unit_divisor": 1000,
       "unit_scale": false
      },
      "application/vnd.jupyter.widget-view+json": {
       "model_id": "4c36aa8afd204367ac8fabe3a95658e1",
       "version_major": 2,
       "version_minor": 0
      },
      "text/plain": [
       "PROCESSING TASKS | Scale uncertainty @ NLO:   0%|          | 0/20 [00:00<?, ?it/s]"
      ]
     },
     "metadata": {},
     "output_type": "display_data"
    },
    {
     "data": {
      "application/json": {
       "ascii": false,
       "bar_format": null,
       "colour": null,
       "elapsed": 0.029788494110107422,
       "initial": 0,
       "n": 0,
       "ncols": null,
       "nrows": 81,
       "postfix": null,
       "prefix": "COLLECTING RESULTS | Scale uncertainty @ NLO",
       "rate": null,
       "total": 20,
       "unit": "it",
       "unit_divisor": 1000,
       "unit_scale": false
      },
      "application/vnd.jupyter.widget-view+json": {
       "model_id": "99f8a2f9419743c2848912c969241da7",
       "version_major": 2,
       "version_minor": 0
      },
      "text/plain": [
       "COLLECTING RESULTS | Scale uncertainty @ NLO:   0%|          | 0/20 [00:00<?, ?it/s]"
      ]
     },
     "metadata": {},
     "output_type": "display_data"
    },
    {
     "data": {
      "application/json": {
       "ascii": false,
       "bar_format": null,
       "colour": null,
       "elapsed": 0.025187253952026367,
       "initial": 0,
       "n": 0,
       "ncols": null,
       "nrows": 81,
       "postfix": null,
       "prefix": "QUEUEING TASKS | Scale uncertainty @ aNNLO_PLUS_NNLL",
       "rate": null,
       "total": 20,
       "unit": "it",
       "unit_divisor": 1000,
       "unit_scale": false
      },
      "application/vnd.jupyter.widget-view+json": {
       "model_id": "9302bd2e6ff3434b883c40e0413e9174",
       "version_major": 2,
       "version_minor": 0
      },
      "text/plain": [
       "QUEUEING TASKS | Scale uncertainty @ aNNLO_PLUS_NNLL:   0%|          | 0/20 [00:00<?, ?it/s]"
      ]
     },
     "metadata": {},
     "output_type": "display_data"
    },
    {
     "data": {
      "application/json": {
       "ascii": false,
       "bar_format": null,
       "colour": null,
       "elapsed": 0.15804123878479004,
       "initial": 0,
       "n": 0,
       "ncols": null,
       "nrows": 81,
       "postfix": null,
       "prefix": "PROCESSING TASKS | Scale uncertainty @ aNNLO_PLUS_NNLL",
       "rate": null,
       "total": 20,
       "unit": "it",
       "unit_divisor": 1000,
       "unit_scale": false
      },
      "application/vnd.jupyter.widget-view+json": {
       "model_id": "61b8bbfb2ecc4f00a2d0f9d798a6ed1a",
       "version_major": 2,
       "version_minor": 0
      },
      "text/plain": [
       "PROCESSING TASKS | Scale uncertainty @ aNNLO_PLUS_NNLL:   0%|          | 0/20 [00:00<?, ?it/s]"
      ]
     },
     "metadata": {},
     "output_type": "display_data"
    },
    {
     "data": {
      "application/json": {
       "ascii": false,
       "bar_format": null,
       "colour": null,
       "elapsed": 0.027329444885253906,
       "initial": 0,
       "n": 0,
       "ncols": null,
       "nrows": 81,
       "postfix": null,
       "prefix": "COLLECTING RESULTS | Scale uncertainty @ aNNLO_PLUS_NNLL",
       "rate": null,
       "total": 20,
       "unit": "it",
       "unit_divisor": 1000,
       "unit_scale": false
      },
      "application/vnd.jupyter.widget-view+json": {
       "model_id": "fa7278ab373f4b368317506e36d61edd",
       "version_major": 2,
       "version_minor": 0
      },
      "text/plain": [
       "COLLECTING RESULTS | Scale uncertainty @ aNNLO_PLUS_NNLL:   0%|          | 0/20 [00:00<?, ?it/s]"
      ]
     },
     "metadata": {},
     "output_type": "display_data"
    },
    {
     "name": "stderr",
     "output_type": "stream",
     "text": [
      "/home/apn/.local/lib/python3.9/site-packages/hepi/results.py:276: RuntimeWarning: too bad numerical precision vs scale @ num:aNNLO_PLUS_NNLL 0.04158041783058077% vs scale:0.34935582628844475% to -0.20344146580165332%\n",
      "  warnings.warn(\n",
      "/home/apn/.local/lib/python3.9/site-packages/hepi/results.py:276: RuntimeWarning: too bad numerical precision vs scale @ num:aNNLO_PLUS_NNLL 0.040357461591111074% vs scale:0.35141254086713164% to -0.16827730006482142%\n",
      "  warnings.warn(\n",
      "/home/apn/.local/lib/python3.9/site-packages/hepi/results.py:276: RuntimeWarning: too bad numerical precision vs scale @ num:aNNLO_PLUS_NNLL 0.03952253667702437% vs scale:0.30887901101090237% to -0.15600876866522861%\n",
      "  warnings.warn(\n",
      "/home/apn/.local/lib/python3.9/site-packages/hepi/results.py:276: RuntimeWarning: too bad numerical precision vs scale @ num:aNNLO_PLUS_NNLL 0.040030946304389345% vs scale:0.3124144262549292% to -0.142238771648373%\n",
      "  warnings.warn(\n",
      "/home/apn/.local/lib/python3.9/site-packages/hepi/results.py:276: RuntimeWarning: too bad numerical precision vs scale @ num:aNNLO_PLUS_NNLL 0.0401015990951031% vs scale:0.3182201183987949% to -0.12960205097066047%\n",
      "  warnings.warn(\n",
      "/home/apn/.local/lib/python3.9/site-packages/hepi/results.py:276: RuntimeWarning: too bad numerical precision vs scale @ num:aNNLO_PLUS_NNLL 0.04082640586424844% vs scale:0.29859153500103586% to -0.09244970402189095%\n",
      "  warnings.warn(\n",
      "/home/apn/.local/lib/python3.9/site-packages/hepi/results.py:276: RuntimeWarning: too bad numerical precision vs scale @ num:aNNLO_PLUS_NNLL 0.037178743666710305% vs scale:0.25177176128766693% to -0.08164552225530483%\n",
      "  warnings.warn(\n",
      "/home/apn/.local/lib/python3.9/site-packages/hepi/results.py:276: RuntimeWarning: too bad numerical precision vs scale @ num:aNNLO_PLUS_NNLL 0.038976688729595796% vs scale:0.2632483239985533% to -0.09698591153744741%\n",
      "  warnings.warn(\n",
      "/home/apn/.local/lib/python3.9/site-packages/hepi/results.py:276: RuntimeWarning: too bad numerical precision vs scale @ num:aNNLO_PLUS_NNLL 0.039820778263111076% vs scale:0.2283200836324714% to -0.08635021782850567%\n",
      "  warnings.warn(\n",
      "/home/apn/.local/lib/python3.9/site-packages/hepi/results.py:276: RuntimeWarning: too bad numerical precision vs scale @ num:aNNLO_PLUS_NNLL 0.03907174517101188% vs scale:0.21080844159100595% to -0.08240392129005238%\n",
      "  warnings.warn(\n",
      "/home/apn/.local/lib/python3.9/site-packages/hepi/results.py:276: RuntimeWarning: too bad numerical precision vs scale @ num:aNNLO_PLUS_NNLL 0.03657020742678626% vs scale:0.21654192125938176% to -0.052254954876380315%\n",
      "  warnings.warn(\n",
      "/home/apn/.local/lib/python3.9/site-packages/hepi/results.py:276: RuntimeWarning: too bad numerical precision vs scale @ num:aNNLO_PLUS_NNLL 0.03604683799849949% vs scale:0.20140146499993994% to -0.034677432963543454%\n",
      "  warnings.warn(\n",
      "/home/apn/.local/lib/python3.9/site-packages/hepi/results.py:276: RuntimeWarning: too bad numerical precision vs scale @ num:aNNLO_PLUS_NNLL 0.03531108515499395% vs scale:0.1871819639936246% to -0.03314620249984222%\n",
      "  warnings.warn(\n",
      "/home/apn/.local/lib/python3.9/site-packages/hepi/results.py:276: RuntimeWarning: too bad numerical precision vs scale @ num:aNNLO_PLUS_NNLL 0.04060279464020109% vs scale:0.19029092575119852% to -0.043371250552302704%\n",
      "  warnings.warn(\n",
      "/home/apn/.local/lib/python3.9/site-packages/hepi/input.py:283: RuntimeWarning: Could not set new central scale to average of masses.\n",
      "  warnings.warn(\"Could not set new central scale to average of masses.\",\n"
     ]
    },
    {
     "data": {
      "application/json": {
       "ascii": false,
       "bar_format": null,
       "colour": null,
       "elapsed": 0.027355432510375977,
       "initial": 0,
       "n": 0,
       "ncols": null,
       "nrows": 81,
       "postfix": null,
       "prefix": "QUEUEING TASKS | Checking input",
       "rate": null,
       "total": 940,
       "unit": "it",
       "unit_divisor": 1000,
       "unit_scale": false
      },
      "application/vnd.jupyter.widget-view+json": {
       "model_id": "1ab27572f25a4c2d905f046f5224279e",
       "version_major": 2,
       "version_minor": 0
      },
      "text/plain": [
       "QUEUEING TASKS | Checking input:   0%|          | 0/940 [00:00<?, ?it/s]"
      ]
     },
     "metadata": {},
     "output_type": "display_data"
    },
    {
     "data": {
      "application/json": {
       "ascii": false,
       "bar_format": null,
       "colour": null,
       "elapsed": 0.03795313835144043,
       "initial": 0,
       "n": 0,
       "ncols": null,
       "nrows": 81,
       "postfix": null,
       "prefix": "PROCESSING TASKS | Checking input",
       "rate": null,
       "total": 940,
       "unit": "it",
       "unit_divisor": 1000,
       "unit_scale": false
      },
      "application/vnd.jupyter.widget-view+json": {
       "model_id": "93af06b6050e47ea837ef332ef70f834",
       "version_major": 2,
       "version_minor": 0
      },
      "text/plain": [
       "PROCESSING TASKS | Checking input:   0%|          | 0/940 [00:00<?, ?it/s]"
      ]
     },
     "metadata": {},
     "output_type": "display_data"
    },
    {
     "data": {
      "application/json": {
       "ascii": false,
       "bar_format": null,
       "colour": null,
       "elapsed": 0.03164052963256836,
       "initial": 0,
       "n": 0,
       "ncols": null,
       "nrows": 81,
       "postfix": null,
       "prefix": "COLLECTING RESULTS | Checking input",
       "rate": null,
       "total": 940,
       "unit": "it",
       "unit_divisor": 1000,
       "unit_scale": false
      },
      "application/vnd.jupyter.widget-view+json": {
       "model_id": "6eda52219ce2463ba61c1ff1e7fff6c7",
       "version_major": 2,
       "version_minor": 0
      },
      "text/plain": [
       "COLLECTING RESULTS | Checking input:   0%|          | 0/940 [00:00<?, ?it/s]"
      ]
     },
     "metadata": {},
     "output_type": "display_data"
    },
    {
     "data": {
      "application/json": {
       "ascii": false,
       "bar_format": null,
       "colour": null,
       "elapsed": 0.024425506591796875,
       "initial": 0,
       "n": 0,
       "ncols": null,
       "nrows": 81,
       "postfix": null,
       "prefix": "QUEUEING TASKS | Preparing",
       "rate": null,
       "total": 940,
       "unit": "it",
       "unit_divisor": 1000,
       "unit_scale": false
      },
      "application/vnd.jupyter.widget-view+json": {
       "model_id": "e1b81e8bb0784c64bbe18c14928a4152",
       "version_major": 2,
       "version_minor": 0
      },
      "text/plain": [
       "QUEUEING TASKS | Preparing:   0%|          | 0/940 [00:00<?, ?it/s]"
      ]
     },
     "metadata": {},
     "output_type": "display_data"
    },
    {
     "data": {
      "application/json": {
       "ascii": false,
       "bar_format": null,
       "colour": null,
       "elapsed": 0.06901121139526367,
       "initial": 0,
       "n": 0,
       "ncols": null,
       "nrows": 81,
       "postfix": null,
       "prefix": "PROCESSING TASKS | Preparing",
       "rate": null,
       "total": 940,
       "unit": "it",
       "unit_divisor": 1000,
       "unit_scale": false
      },
      "application/vnd.jupyter.widget-view+json": {
       "model_id": "764a7da557b04246b11f60e9d4a6ecec",
       "version_major": 2,
       "version_minor": 0
      },
      "text/plain": [
       "PROCESSING TASKS | Preparing:   0%|          | 0/940 [00:00<?, ?it/s]"
      ]
     },
     "metadata": {},
     "output_type": "display_data"
    },
    {
     "data": {
      "application/json": {
       "ascii": false,
       "bar_format": null,
       "colour": null,
       "elapsed": 0.032274484634399414,
       "initial": 0,
       "n": 0,
       "ncols": null,
       "nrows": 81,
       "postfix": null,
       "prefix": "COLLECTING RESULTS | Preparing",
       "rate": null,
       "total": 940,
       "unit": "it",
       "unit_divisor": 1000,
       "unit_scale": false
      },
      "application/vnd.jupyter.widget-view+json": {
       "model_id": "b84ad3bf1a6748bebb5944cff0f85db0",
       "version_major": 2,
       "version_minor": 0
      },
      "text/plain": [
       "COLLECTING RESULTS | Preparing:   0%|          | 0/940 [00:00<?, ?it/s]"
      ]
     },
     "metadata": {},
     "output_type": "display_data"
    },
    {
     "name": "stdout",
     "output_type": "stream",
     "text": [
      "Skipped: 940 Not skipped: 0\n"
     ]
    },
    {
     "data": {
      "application/json": {
       "ascii": false,
       "bar_format": null,
       "colour": null,
       "elapsed": 0.03057408332824707,
       "initial": 0,
       "n": 0,
       "ncols": null,
       "nrows": 81,
       "postfix": null,
       "prefix": "QUEUEING TASKS | Parsing",
       "rate": null,
       "total": 940,
       "unit": "it",
       "unit_divisor": 1000,
       "unit_scale": false
      },
      "application/vnd.jupyter.widget-view+json": {
       "model_id": "fb5dc57c3b4442208c6955d4eec8791f",
       "version_major": 2,
       "version_minor": 0
      },
      "text/plain": [
       "QUEUEING TASKS | Parsing:   0%|          | 0/940 [00:00<?, ?it/s]"
      ]
     },
     "metadata": {},
     "output_type": "display_data"
    },
    {
     "data": {
      "application/json": {
       "ascii": false,
       "bar_format": null,
       "colour": null,
       "elapsed": 0.059062957763671875,
       "initial": 0,
       "n": 0,
       "ncols": null,
       "nrows": 81,
       "postfix": null,
       "prefix": "PROCESSING TASKS | Parsing",
       "rate": null,
       "total": 940,
       "unit": "it",
       "unit_divisor": 1000,
       "unit_scale": false
      },
      "application/vnd.jupyter.widget-view+json": {
       "model_id": "8445301943a54471bfd3867f07fe5600",
       "version_major": 2,
       "version_minor": 0
      },
      "text/plain": [
       "PROCESSING TASKS | Parsing:   0%|          | 0/940 [00:00<?, ?it/s]"
      ]
     },
     "metadata": {},
     "output_type": "display_data"
    },
    {
     "data": {
      "application/json": {
       "ascii": false,
       "bar_format": null,
       "colour": null,
       "elapsed": 0.02661752700805664,
       "initial": 0,
       "n": 0,
       "ncols": null,
       "nrows": 81,
       "postfix": null,
       "prefix": "COLLECTING RESULTS | Parsing",
       "rate": null,
       "total": 940,
       "unit": "it",
       "unit_divisor": 1000,
       "unit_scale": false
      },
      "application/vnd.jupyter.widget-view+json": {
       "model_id": "222650141ae441668f65a4040cba0fb4",
       "version_major": 2,
       "version_minor": 0
      },
      "text/plain": [
       "COLLECTING RESULTS | Parsing:   0%|          | 0/940 [00:00<?, ?it/s]"
      ]
     },
     "metadata": {},
     "output_type": "display_data"
    },
    {
     "data": {
      "application/json": {
       "ascii": false,
       "bar_format": null,
       "colour": null,
       "elapsed": 0.026258230209350586,
       "initial": 0,
       "n": 0,
       "ncols": null,
       "nrows": 81,
       "postfix": null,
       "prefix": "QUEUEING TASKS | PDF uncertainty @ LO",
       "rate": null,
       "total": 20,
       "unit": "it",
       "unit_divisor": 1000,
       "unit_scale": false
      },
      "application/vnd.jupyter.widget-view+json": {
       "model_id": "0a2bac5deb0843ed8a0ff157a312449c",
       "version_major": 2,
       "version_minor": 0
      },
      "text/plain": [
       "QUEUEING TASKS | PDF uncertainty @ LO:   0%|          | 0/20 [00:00<?, ?it/s]"
      ]
     },
     "metadata": {},
     "output_type": "display_data"
    },
    {
     "data": {
      "application/json": {
       "ascii": false,
       "bar_format": null,
       "colour": null,
       "elapsed": 0.20316028594970703,
       "initial": 0,
       "n": 0,
       "ncols": null,
       "nrows": 81,
       "postfix": null,
       "prefix": "PROCESSING TASKS | PDF uncertainty @ LO",
       "rate": null,
       "total": 20,
       "unit": "it",
       "unit_divisor": 1000,
       "unit_scale": false
      },
      "application/vnd.jupyter.widget-view+json": {
       "model_id": "8c20698acbda482f9f36de42326baca9",
       "version_major": 2,
       "version_minor": 0
      },
      "text/plain": [
       "PROCESSING TASKS | PDF uncertainty @ LO:   0%|          | 0/20 [00:00<?, ?it/s]"
      ]
     },
     "metadata": {},
     "output_type": "display_data"
    },
    {
     "data": {
      "application/json": {
       "ascii": false,
       "bar_format": null,
       "colour": null,
       "elapsed": 0.039139747619628906,
       "initial": 0,
       "n": 0,
       "ncols": null,
       "nrows": 81,
       "postfix": null,
       "prefix": "COLLECTING RESULTS | PDF uncertainty @ LO",
       "rate": null,
       "total": 20,
       "unit": "it",
       "unit_divisor": 1000,
       "unit_scale": false
      },
      "application/vnd.jupyter.widget-view+json": {
       "model_id": "82509c144e25498fa82f5a9c1da63f1e",
       "version_major": 2,
       "version_minor": 0
      },
      "text/plain": [
       "COLLECTING RESULTS | PDF uncertainty @ LO:   0%|          | 0/20 [00:00<?, ?it/s]"
      ]
     },
     "metadata": {},
     "output_type": "display_data"
    },
    {
     "data": {
      "application/json": {
       "ascii": false,
       "bar_format": null,
       "colour": null,
       "elapsed": 0.02465653419494629,
       "initial": 0,
       "n": 0,
       "ncols": null,
       "nrows": 81,
       "postfix": null,
       "prefix": "QUEUEING TASKS | PDF uncertainty @ NLO",
       "rate": null,
       "total": 20,
       "unit": "it",
       "unit_divisor": 1000,
       "unit_scale": false
      },
      "application/vnd.jupyter.widget-view+json": {
       "model_id": "9028db32a8954012919a9a8334301706",
       "version_major": 2,
       "version_minor": 0
      },
      "text/plain": [
       "QUEUEING TASKS | PDF uncertainty @ NLO:   0%|          | 0/20 [00:00<?, ?it/s]"
      ]
     },
     "metadata": {},
     "output_type": "display_data"
    },
    {
     "data": {
      "application/json": {
       "ascii": false,
       "bar_format": null,
       "colour": null,
       "elapsed": 0.17380285263061523,
       "initial": 0,
       "n": 0,
       "ncols": null,
       "nrows": 81,
       "postfix": null,
       "prefix": "PROCESSING TASKS | PDF uncertainty @ NLO",
       "rate": null,
       "total": 20,
       "unit": "it",
       "unit_divisor": 1000,
       "unit_scale": false
      },
      "application/vnd.jupyter.widget-view+json": {
       "model_id": "11b7352b5435489ea0756c1e98bb172d",
       "version_major": 2,
       "version_minor": 0
      },
      "text/plain": [
       "PROCESSING TASKS | PDF uncertainty @ NLO:   0%|          | 0/20 [00:00<?, ?it/s]"
      ]
     },
     "metadata": {},
     "output_type": "display_data"
    },
    {
     "data": {
      "application/json": {
       "ascii": false,
       "bar_format": null,
       "colour": null,
       "elapsed": 0.03500008583068848,
       "initial": 0,
       "n": 0,
       "ncols": null,
       "nrows": 81,
       "postfix": null,
       "prefix": "COLLECTING RESULTS | PDF uncertainty @ NLO",
       "rate": null,
       "total": 20,
       "unit": "it",
       "unit_divisor": 1000,
       "unit_scale": false
      },
      "application/vnd.jupyter.widget-view+json": {
       "model_id": "a3219ab0369e4d1a887969f4c839d8a7",
       "version_major": 2,
       "version_minor": 0
      },
      "text/plain": [
       "COLLECTING RESULTS | PDF uncertainty @ NLO:   0%|          | 0/20 [00:00<?, ?it/s]"
      ]
     },
     "metadata": {},
     "output_type": "display_data"
    },
    {
     "data": {
      "application/json": {
       "ascii": false,
       "bar_format": null,
       "colour": null,
       "elapsed": 0.026619434356689453,
       "initial": 0,
       "n": 0,
       "ncols": null,
       "nrows": 81,
       "postfix": null,
       "prefix": "QUEUEING TASKS | PDF uncertainty @ aNNLO_PLUS_NNLL",
       "rate": null,
       "total": 20,
       "unit": "it",
       "unit_divisor": 1000,
       "unit_scale": false
      },
      "application/vnd.jupyter.widget-view+json": {
       "model_id": "bb829b70caca499790b5f613a9017658",
       "version_major": 2,
       "version_minor": 0
      },
      "text/plain": [
       "QUEUEING TASKS | PDF uncertainty @ aNNLO_PLUS_NNLL:   0%|          | 0/20 [00:00<?, ?it/s]"
      ]
     },
     "metadata": {},
     "output_type": "display_data"
    },
    {
     "data": {
      "application/json": {
       "ascii": false,
       "bar_format": null,
       "colour": null,
       "elapsed": 0.16874432563781738,
       "initial": 0,
       "n": 0,
       "ncols": null,
       "nrows": 81,
       "postfix": null,
       "prefix": "PROCESSING TASKS | PDF uncertainty @ aNNLO_PLUS_NNLL",
       "rate": null,
       "total": 20,
       "unit": "it",
       "unit_divisor": 1000,
       "unit_scale": false
      },
      "application/vnd.jupyter.widget-view+json": {
       "model_id": "47b91a50dd144fc8890b0f2e998f284d",
       "version_major": 2,
       "version_minor": 0
      },
      "text/plain": [
       "PROCESSING TASKS | PDF uncertainty @ aNNLO_PLUS_NNLL:   0%|          | 0/20 [00:00<?, ?it/s]"
      ]
     },
     "metadata": {},
     "output_type": "display_data"
    },
    {
     "data": {
      "application/json": {
       "ascii": false,
       "bar_format": null,
       "colour": null,
       "elapsed": 0.0409543514251709,
       "initial": 0,
       "n": 0,
       "ncols": null,
       "nrows": 81,
       "postfix": null,
       "prefix": "COLLECTING RESULTS | PDF uncertainty @ aNNLO_PLUS_NNLL",
       "rate": null,
       "total": 20,
       "unit": "it",
       "unit_divisor": 1000,
       "unit_scale": false
      },
      "application/vnd.jupyter.widget-view+json": {
       "model_id": "7a15e55965fc4580a476077b4cdbc35c",
       "version_major": 2,
       "version_minor": 0
      },
      "text/plain": [
       "COLLECTING RESULTS | PDF uncertainty @ aNNLO_PLUS_NNLL:   0%|          | 0/20 [00:00<?, ?it/s]"
      ]
     },
     "metadata": {},
     "output_type": "display_data"
    },
    {
     "data": {
      "application/json": {
       "ascii": false,
       "bar_format": null,
       "colour": null,
       "elapsed": 0.0349278450012207,
       "initial": 0,
       "n": 0,
       "ncols": null,
       "nrows": 81,
       "postfix": null,
       "prefix": "QUEUEING TASKS | Scale uncertainty @ LO",
       "rate": null,
       "total": 20,
       "unit": "it",
       "unit_divisor": 1000,
       "unit_scale": false
      },
      "application/vnd.jupyter.widget-view+json": {
       "model_id": "539696cdb2034be69ad87f2442d8260c",
       "version_major": 2,
       "version_minor": 0
      },
      "text/plain": [
       "QUEUEING TASKS | Scale uncertainty @ LO:   0%|          | 0/20 [00:00<?, ?it/s]"
      ]
     },
     "metadata": {},
     "output_type": "display_data"
    },
    {
     "data": {
      "application/json": {
       "ascii": false,
       "bar_format": null,
       "colour": null,
       "elapsed": 0.2956397533416748,
       "initial": 0,
       "n": 0,
       "ncols": null,
       "nrows": 81,
       "postfix": null,
       "prefix": "PROCESSING TASKS | Scale uncertainty @ LO",
       "rate": null,
       "total": 20,
       "unit": "it",
       "unit_divisor": 1000,
       "unit_scale": false
      },
      "application/vnd.jupyter.widget-view+json": {
       "model_id": "5e4ab85b6a354f7f8bbc7ccd0f9f1b52",
       "version_major": 2,
       "version_minor": 0
      },
      "text/plain": [
       "PROCESSING TASKS | Scale uncertainty @ LO:   0%|          | 0/20 [00:00<?, ?it/s]"
      ]
     },
     "metadata": {},
     "output_type": "display_data"
    },
    {
     "data": {
      "application/json": {
       "ascii": false,
       "bar_format": null,
       "colour": null,
       "elapsed": 0.035279273986816406,
       "initial": 0,
       "n": 0,
       "ncols": null,
       "nrows": 81,
       "postfix": null,
       "prefix": "COLLECTING RESULTS | Scale uncertainty @ LO",
       "rate": null,
       "total": 20,
       "unit": "it",
       "unit_divisor": 1000,
       "unit_scale": false
      },
      "application/vnd.jupyter.widget-view+json": {
       "model_id": "525e0b9162b34b0a86b978f44a65e6e7",
       "version_major": 2,
       "version_minor": 0
      },
      "text/plain": [
       "COLLECTING RESULTS | Scale uncertainty @ LO:   0%|          | 0/20 [00:00<?, ?it/s]"
      ]
     },
     "metadata": {},
     "output_type": "display_data"
    },
    {
     "name": "stderr",
     "output_type": "stream",
     "text": [
      "/home/apn/.local/lib/python3.9/site-packages/hepi/results.py:276: RuntimeWarning: too bad numerical precision vs scale @ num:LO 0.04200231668635053% vs scale:0.10601719446194516% to -0.5614510769642985%\n",
      "  warnings.warn(\n"
     ]
    },
    {
     "data": {
      "application/json": {
       "ascii": false,
       "bar_format": null,
       "colour": null,
       "elapsed": 0.029112815856933594,
       "initial": 0,
       "n": 0,
       "ncols": null,
       "nrows": 81,
       "postfix": null,
       "prefix": "QUEUEING TASKS | Scale uncertainty @ NLO",
       "rate": null,
       "total": 20,
       "unit": "it",
       "unit_divisor": 1000,
       "unit_scale": false
      },
      "application/vnd.jupyter.widget-view+json": {
       "model_id": "29c73fd2e1624892841aded73ffa2d77",
       "version_major": 2,
       "version_minor": 0
      },
      "text/plain": [
       "QUEUEING TASKS | Scale uncertainty @ NLO:   0%|          | 0/20 [00:00<?, ?it/s]"
      ]
     },
     "metadata": {},
     "output_type": "display_data"
    },
    {
     "data": {
      "application/json": {
       "ascii": false,
       "bar_format": null,
       "colour": null,
       "elapsed": 0.216949462890625,
       "initial": 0,
       "n": 0,
       "ncols": null,
       "nrows": 81,
       "postfix": null,
       "prefix": "PROCESSING TASKS | Scale uncertainty @ NLO",
       "rate": null,
       "total": 20,
       "unit": "it",
       "unit_divisor": 1000,
       "unit_scale": false
      },
      "application/vnd.jupyter.widget-view+json": {
       "model_id": "6dbddc18956a40059b7effed93c287ea",
       "version_major": 2,
       "version_minor": 0
      },
      "text/plain": [
       "PROCESSING TASKS | Scale uncertainty @ NLO:   0%|          | 0/20 [00:00<?, ?it/s]"
      ]
     },
     "metadata": {},
     "output_type": "display_data"
    },
    {
     "data": {
      "application/json": {
       "ascii": false,
       "bar_format": null,
       "colour": null,
       "elapsed": 0.02781367301940918,
       "initial": 0,
       "n": 0,
       "ncols": null,
       "nrows": 81,
       "postfix": null,
       "prefix": "COLLECTING RESULTS | Scale uncertainty @ NLO",
       "rate": null,
       "total": 20,
       "unit": "it",
       "unit_divisor": 1000,
       "unit_scale": false
      },
      "application/vnd.jupyter.widget-view+json": {
       "model_id": "0fbcc59b04424c90a5a2b8fa4eaea129",
       "version_major": 2,
       "version_minor": 0
      },
      "text/plain": [
       "COLLECTING RESULTS | Scale uncertainty @ NLO:   0%|          | 0/20 [00:00<?, ?it/s]"
      ]
     },
     "metadata": {},
     "output_type": "display_data"
    },
    {
     "data": {
      "application/json": {
       "ascii": false,
       "bar_format": null,
       "colour": null,
       "elapsed": 0.026073455810546875,
       "initial": 0,
       "n": 0,
       "ncols": null,
       "nrows": 81,
       "postfix": null,
       "prefix": "QUEUEING TASKS | Scale uncertainty @ aNNLO_PLUS_NNLL",
       "rate": null,
       "total": 20,
       "unit": "it",
       "unit_divisor": 1000,
       "unit_scale": false
      },
      "application/vnd.jupyter.widget-view+json": {
       "model_id": "a3b0e3eefd62481f87c8164c5c3bf9fe",
       "version_major": 2,
       "version_minor": 0
      },
      "text/plain": [
       "QUEUEING TASKS | Scale uncertainty @ aNNLO_PLUS_NNLL:   0%|          | 0/20 [00:00<?, ?it/s]"
      ]
     },
     "metadata": {},
     "output_type": "display_data"
    },
    {
     "data": {
      "application/json": {
       "ascii": false,
       "bar_format": null,
       "colour": null,
       "elapsed": 0.2608349323272705,
       "initial": 0,
       "n": 0,
       "ncols": null,
       "nrows": 81,
       "postfix": null,
       "prefix": "PROCESSING TASKS | Scale uncertainty @ aNNLO_PLUS_NNLL",
       "rate": null,
       "total": 20,
       "unit": "it",
       "unit_divisor": 1000,
       "unit_scale": false
      },
      "application/vnd.jupyter.widget-view+json": {
       "model_id": "e037d1d2fb784faab499527a9e9e211c",
       "version_major": 2,
       "version_minor": 0
      },
      "text/plain": [
       "PROCESSING TASKS | Scale uncertainty @ aNNLO_PLUS_NNLL:   0%|          | 0/20 [00:00<?, ?it/s]"
      ]
     },
     "metadata": {},
     "output_type": "display_data"
    },
    {
     "data": {
      "application/json": {
       "ascii": false,
       "bar_format": null,
       "colour": null,
       "elapsed": 0.026764392852783203,
       "initial": 0,
       "n": 0,
       "ncols": null,
       "nrows": 81,
       "postfix": null,
       "prefix": "COLLECTING RESULTS | Scale uncertainty @ aNNLO_PLUS_NNLL",
       "rate": null,
       "total": 20,
       "unit": "it",
       "unit_divisor": 1000,
       "unit_scale": false
      },
      "application/vnd.jupyter.widget-view+json": {
       "model_id": "7dd63530f6aa460f892de11d1e1c2109",
       "version_major": 2,
       "version_minor": 0
      },
      "text/plain": [
       "COLLECTING RESULTS | Scale uncertainty @ aNNLO_PLUS_NNLL:   0%|          | 0/20 [00:00<?, ?it/s]"
      ]
     },
     "metadata": {},
     "output_type": "display_data"
    },
    {
     "name": "stderr",
     "output_type": "stream",
     "text": [
      "/home/apn/.local/lib/python3.9/site-packages/hepi/results.py:276: RuntimeWarning: too bad numerical precision vs scale @ num:aNNLO_PLUS_NNLL 0.04081819266183245% vs scale:0.3528031721292706% to -0.18267706047241655%\n",
      "  warnings.warn(\n",
      "/home/apn/.local/lib/python3.9/site-packages/hepi/results.py:276: RuntimeWarning: too bad numerical precision vs scale @ num:aNNLO_PLUS_NNLL 0.03948894972762649% vs scale:0.30723993250114257% to -0.1617394921082837%\n",
      "  warnings.warn(\n",
      "/home/apn/.local/lib/python3.9/site-packages/hepi/results.py:276: RuntimeWarning: too bad numerical precision vs scale @ num:aNNLO_PLUS_NNLL 0.03969118836956526% vs scale:0.3031950922326803% to -0.14618835681564987%\n",
      "  warnings.warn(\n",
      "/home/apn/.local/lib/python3.9/site-packages/hepi/results.py:276: RuntimeWarning: too bad numerical precision vs scale @ num:aNNLO_PLUS_NNLL 0.039791905929072745% vs scale:0.3148491442186817% to -0.12945601862782902%\n",
      "  warnings.warn(\n",
      "/home/apn/.local/lib/python3.9/site-packages/hepi/results.py:276: RuntimeWarning: too bad numerical precision vs scale @ num:aNNLO_PLUS_NNLL 0.039960041457149285% vs scale:0.30871292695006697% to -0.11431810580137375%\n",
      "  warnings.warn(\n",
      "/home/apn/.local/lib/python3.9/site-packages/hepi/results.py:276: RuntimeWarning: too bad numerical precision vs scale @ num:aNNLO_PLUS_NNLL 0.03746564118023635% vs scale:0.26260246022111455% to -0.09055867869468116%\n",
      "  warnings.warn(\n",
      "/home/apn/.local/lib/python3.9/site-packages/hepi/results.py:276: RuntimeWarning: too bad numerical precision vs scale @ num:aNNLO_PLUS_NNLL 0.040939500038264% vs scale:0.273180760320143% to -0.09025962728634028%\n",
      "  warnings.warn(\n",
      "/home/apn/.local/lib/python3.9/site-packages/hepi/results.py:276: RuntimeWarning: too bad numerical precision vs scale @ num:aNNLO_PLUS_NNLL 0.03949757708299487% vs scale:0.2398010057087297% to -0.09695814289101154%\n",
      "  warnings.warn(\n",
      "/home/apn/.local/lib/python3.9/site-packages/hepi/results.py:276: RuntimeWarning: too bad numerical precision vs scale @ num:aNNLO_PLUS_NNLL 0.03950666715917166% vs scale:0.21306249885264134% to -0.08989807023624204%\n",
      "  warnings.warn(\n",
      "/home/apn/.local/lib/python3.9/site-packages/hepi/results.py:276: RuntimeWarning: too bad numerical precision vs scale @ num:aNNLO_PLUS_NNLL 0.03748208475733988% vs scale:0.20766153144015012% to -0.07557092221117437%\n",
      "  warnings.warn(\n",
      "/home/apn/.local/lib/python3.9/site-packages/hepi/results.py:276: RuntimeWarning: too bad numerical precision vs scale @ num:aNNLO_PLUS_NNLL 0.03634574559944919% vs scale:0.20894970504324015% to -0.04620401672766925%\n",
      "  warnings.warn(\n",
      "/home/apn/.local/lib/python3.9/site-packages/hepi/results.py:276: RuntimeWarning: too bad numerical precision vs scale @ num:aNNLO_PLUS_NNLL 0.03582394931078929% vs scale:0.19405395622169916% to -0.03828955479180451%\n",
      "  warnings.warn(\n",
      "/home/apn/.local/lib/python3.9/site-packages/hepi/results.py:276: RuntimeWarning: too bad numerical precision vs scale @ num:aNNLO_PLUS_NNLL 0.03602590050662502% vs scale:0.19174038395347567% to -0.03972882542161599%\n",
      "  warnings.warn(\n"
     ]
    },
    {
     "data": {
      "image/png": "[encoded data removed]",
      "text/plain": [
       "<Figure size 600x400 with 2 Axes>"
      ]
     },
     "metadata": {},
     "output_type": "display_data"
    }
   ],
   "source": [
    "params = [\n",
    "    \"wino.slha\",\n",
    "]\n",
    "pss = [\n",
    "    ( 1000023, +1000024),  # N1C1p\n",
    "    ( 1000023, -1000024),  # N1C1m\n",
    "    (+1000024, -1000024),  # C1pC1m\n",
    "]\n",
    "for pa, pb in pss:\n",
    "    for energy in [13000, 13600]:\n",
    "        name = str(energy) + \"_wino_\" + str(pa) + \"_\" + str(pb)\n",
    "        hepi.set_output_dir(\n",
    "               \"output_\" + name + \"/\"\n",
    "        )\n",
    "        rs.default_resummino_runner.set_output_dir(hepi.get_output_dir())\n",
    "        for param in params:\n",
    "            i = hepi.Input(\n",
    "                hepi.Order.LO if test_lo else hepi.Order.aNNLO_PLUS_NNLL,\n",
    "                    energy,\n",
    "                    pa,\n",
    "                    pb,\n",
    "                    param,\n",
    "                    \"PDF4LHC21_40\",\n",
    "                    \"PDF4LHC21_40\",\n",
    "                    1.0,\n",
    "                    1.0,\n",
    "                    id=\"0.0.0\",\n",
    "                    precision=0.001,\n",
    "                    max_iters=50,\n",
    "                )\n",
    "            li = [i]\n",
    "            li = hepi.masses_scan(\n",
    "                    li,\n",
    "                    [\n",
    "                        1000022,\n",
    "                        1000023,\n",
    "                        1000024,\n",
    "                    ],\n",
    "                    range(100,2010,100),\n",
    "                )\n",
    "            if not test_lo:\n",
    "\n",
    "                li = hepi.seven_point_scan(li)\n",
    "                li = hepi.pdf_scan(li)\n",
    "                    # li = hepi.change_where(li, {\"precision\": 0.0001, \"max_iters\": 200}, pdfset_nlo=0)\n",
    "                if not analyse:\n",
    "                    rs_dl = rs.run(li, skip=False, run=False, parse=False)\n",
    "                else:\n",
    "                    rs_dl = rs.run(li, skip=True, run=True, parse=True,ignore_error=True)\n",
    "                    rs_dl = hepi.pdf_errors(li,rs_dl)\n",
    "                    rs_dl = hepi.scale_errors(li,rs_dl)\n",
    "                    rs_dl = hepi.combine_errors(rs_dl)\n",
    "                    if energy == 13000:\n",
    "                        fig, axs = plt.subplots(2, 1, figsize=(6,4), sharex=True, gridspec_kw={'height_ratios': [2, 1]})         # Remove horizontal space between axes         \n",
    "                        fig.subplots_adjust(hspace=0)\n",
    "                        hepi.title(li[0],axe=axs[0],cms_energy=False,pdf_info=False,scenario=\"\")\n",
    "                        frac = rs_dl[\"aNNLO_PLUS_NNLL_NOERR\"][rs_dl[\"aNNLO_PLUS_NNLL_COMBINED\"].notnull()]\n",
    "                    #hepi.mass_plot(rs_dl,\"LO_COMBINED\",1000022,mask = rs_dl[\"aNNLO_PLUS_NNLL_COMBINED\"].notnull(),show=True,logy=True,interpolate=True,fill=True,interpolator='cubic',pre=np.log,post=np.exp)\n",
    "                    #hepi.mass_plot(rs_dl,\"NLO_COMBINED\",1000022,mask = rs_dl[\"aNNLO_PLUS_NNLL_COMBINED\"].notnull(),show=True,logy=True,interpolate=True,fill=True,interpolator='cubic',pre=np.log,post=np.exp,init=False)\n",
    "                    \n",
    "                    hepi.mass_plot(rs_dl,\"aNNLO_PLUS_NNLL_NOERR\",1000022,axes=axs[0],mask = rs_dl[\"aNNLO_PLUS_NNLL_COMBINED\"].notnull(),tight=False,fmt=\" \",next_color=False,show=False,plot_data=False,logy=True,interpolate=True,fill=False,interpolator='cubic',pre=lambda a :np.log(a.clip(min=1e-22)),post=np.exp,init=False,interpolate_label=\"13.0 TeV\" if energy == 13000 else \"13.6 TeV\" )\n",
    "                    hepi.mass_plot(rs_dl,\"aNNLO_PLUS_NNLL_COMBINED\",1000022,axes=axs[0],mask = rs_dl[\"aNNLO_PLUS_NNLL_COMBINED\"].notnull(),tight=False,fit_fmt=\" \",next_color=True,show=False,plot_data=False,logy=True,interpolate=True,fill=True,interpolator='cubic',pre=lambda a  :np.log(a.clip(min=1e-22)),post=np.exp,init=False,label=\"\",interpolate_lower_uncertainty=False)\n",
    "                    hepi.mass_plot(rs_dl,\"aNNLO_PLUS_NNLL_NOERR\",1000022,axes=axs[1],yscale=1./frac,mask = rs_dl[\"aNNLO_PLUS_NNLL_COMBINED\"].notnull(),tight=False,yaxis=\"Ratio\",fmt=\" \",next_color=False,show=False,plot_data=False,logy=False,interpolate=True,fill=False,interpolator='cubic',pre=lambda a :np.log(a.clip(min=1e-22)),post=np.exp,init=False,label=\"\")\n",
    "                    hepi.mass_plot(rs_dl,\"aNNLO_PLUS_NNLL_COMBINED\",1000022,axes=axs[1],yscale=1./frac,mask = rs_dl[\"aNNLO_PLUS_NNLL_COMBINED\"].notnull(),tight=False,yaxis=\"Ratio\",fit_fmt=\" \",next_color=True,show=False,plot_data=False,logy=False,interpolate=True,fill=True,interpolator='cubic',pre=lambda a  :np.log(a.clip(min=1e-22)),post=np.exp,init=False,label=\"\",interpolate_lower_uncertainty=False)\n",
    "                    axs[0].set_ylim(5e-7,25)\n",
    "                    axs[1].set_ylim(-2.5,5.0)\n",
    "                    axs[0].set_xlabel(None)\n",
    "                    axs[1].set_xlabel('$m_{\\\\tilde{\\\\chi}}$ [GeV]')\n",
    "                    if energy == 13600:\n",
    "                        plt.savefig(name + \".pdf\",bbox_inches ='tight',pad_inches=0)\n",
    "                        plt.show()\n",
    "                    hepi.write_latex_table_transposed_header(rs_dl,\"aNNLO_PLUS_NNLL\",param+str(energy)+\".tex\",\"mass_1000022\")\n",
    "                    hepi.write_latex_table_transposed(rs_dl,\"aNNLO_PLUS_NNLL\",param+str(energy)+\".tex\",yscale=1000.)\n",
    "            else:\n",
    "                rs_dl = rs.run(li, skip=True, run=True, parse=True)\n",
    "                hepi.mass_plot(rs_dl,\"LO\",1000022,show=True,interpolator='cubic',pre=np.log,post=np.exp)"
   ]
  },
  {
   "cell_type": "markdown",
   "id": "da027400",
   "metadata": {},
   "source": [
    "# aNNLO+NNLL hino degenerate\n"
   ]
  },
  {
   "cell_type": "code",
   "execution_count": null,
   "id": "b344fabd",
   "metadata": {
    "scrolled": true
   },
   "outputs": [],
   "source": [
    "params = [\n",
    "    \"hino.slha\",\n",
    "]\n",
    "pss = [\n",
    "    (1000022, +1000024),  # N2C1p\n",
    "    (1000022, -1000024),  # N2C1m\n",
    "    (+1000024, -1000024),  # C1pC2m\n",
    "    (1000022, 1000023),  # N2N1\n",
    "]\n",
    "for pa, pb in pss:\n",
    "    for energy in [13000, 13600]:\n",
    "        # save to different folders to have some substructure\n",
    "        name = str(energy) + \"_hino_deg_\" + str(pa) + \"_\" + str(pb)\n",
    "        hepi.set_output_dir(\n",
    "            \"output_\" + name + \"/\"\n",
    "        )\n",
    "        rs.default_resummino_runner.set_output_dir(hepi.get_output_dir())\n",
    "        for param in params:\n",
    "            i = hepi.Input(\n",
    "                hepi.Order.LO if test_lo else hepi.Order.aNNLO_PLUS_NNLL,\n",
    "                energy,\n",
    "                pa,\n",
    "                pb,\n",
    "                param,\n",
    "                \"PDF4LHC21_40\",\n",
    "                \"PDF4LHC21_40\",\n",
    "                1.0,\n",
    "                1.0,\n",
    "                id=\"0.0.0\",\n",
    "                precision=0.001,\n",
    "                max_iters=50,\n",
    "            )\n",
    "            li = [i]\n",
    "            li = hepi.masses_scan(\n",
    "                li,\n",
    "                [\n",
    "                    1000022,\n",
    "                    1000023,\n",
    "                    1000024,\n",
    "                ],\n",
    "                range(100, 1510, 100),\n",
    "                negate=[1000022],\n",
    "            )\n",
    "            if not test_lo:\n",
    "                li = hepi.seven_point_scan(li)\n",
    "                li = hepi.pdf_scan(li)\n",
    "                # li = hepi.change_where(li, {\"precision\": 0.0001, \"max_iters\": 200}, pdfset_nlo=0)\n",
    "                if not analyse:\n",
    "                    rs_dl = rs.run(li, skip=False, run=False, parse=False)\n",
    "                else:\n",
    "                    rs_dl = rs.run(li, skip=True, run=True, parse=True,ignore_error=True)\n",
    "                    rs_dl = hepi.pdf_errors(li,rs_dl)\n",
    "                    rs_dl = hepi.scale_errors(li,rs_dl)\n",
    "                    rs_dl = hepi.combine_errors(rs_dl)\n",
    "                    if energy == 13000:\n",
    "                        fig, axs = plt.subplots(2, 1, figsize=(6,4), sharex=True, gridspec_kw={'height_ratios': [2, 1]})         # Remove horizontal space between axes         \n",
    "                        fig.subplots_adjust(hspace=0)\n",
    "                        hepi.title(li[0],axe=axs[0],cms_energy=False,pdf_info=False,scenario=\"\")\n",
    "                        frac = rs_dl[\"aNNLO_PLUS_NNLL_NOERR\"][rs_dl[\"aNNLO_PLUS_NNLL_COMBINED\"].notnull()]\n",
    "                    #hepi.mass_plot(rs_dl,\"LO_COMBINED\",1000022,mask = rs_dl[\"aNNLO_PLUS_NNLL_COMBINED\"].notnull(),show=True,logy=True,interpolate=True,fill=True,interpolator='cubic',pre=np.log,post=np.exp)\n",
    "                    #hepi.mass_plot(rs_dl,\"NLO_COMBINED\",1000022,mask = rs_dl[\"aNNLO_PLUS_NNLL_COMBINED\"].notnull(),show=True,logy=True,plot_data=False,interpolate=True,fill=True,interpolator='cubic',pre=np.log,post=np.exp,init=False)\n",
    "                    hepi.mass_plot(rs_dl,\"aNNLO_PLUS_NNLL_NOERR\",1000023,axes=axs[0],mask = rs_dl[\"aNNLO_PLUS_NNLL_COMBINED\"].notnull(),tight=False,fmt=\" \",next_color=False,show=False,plot_data=False,logy=True,interpolate=True,fill=False,interpolator='cubic',pre=lambda a :np.log(a.clip(min=1e-22)),post=np.exp,init=False,interpolate_label=\"13.0 TeV\" if energy == 13000 else \"13.6 TeV\" )\n",
    "                    hepi.mass_plot(rs_dl,\"aNNLO_PLUS_NNLL_COMBINED\",1000023,axes=axs[0],mask = rs_dl[\"aNNLO_PLUS_NNLL_COMBINED\"].notnull(),tight=False,fit_fmt=\" \",next_color=True,show=False,plot_data=False,logy=True,interpolate=True,fill=True,interpolator='cubic',pre=lambda a  :np.log(a.clip(min=1e-22)),post=np.exp,init=False,label=\"\",interpolate_lower_uncertainty=False)\n",
    "                    hepi.mass_plot(rs_dl,\"aNNLO_PLUS_NNLL_NOERR\",1000023,axes=axs[1],yscale=1./frac,mask = rs_dl[\"aNNLO_PLUS_NNLL_COMBINED\"].notnull(),tight=False,yaxis=\"Ratio\",fmt=\" \",next_color=False,show=False,plot_data=False,logy=False,interpolate=True,fill=False,interpolator='cubic',pre=lambda a :np.log(a.clip(min=1e-22)),post=np.exp,init=False,label=\"\")\n",
    "                    hepi.mass_plot(rs_dl,\"aNNLO_PLUS_NNLL_COMBINED\",1000023,axes=axs[1],yscale=1./frac,mask = rs_dl[\"aNNLO_PLUS_NNLL_COMBINED\"].notnull(),tight=False,yaxis=\"Ratio\",fit_fmt=\" \",next_color=True,show=False,plot_data=False,logy=False,interpolate=True,fill=True,interpolator='cubic',pre=lambda a  :np.log(a.clip(min=1e-22)),post=np.exp,init=False,label=\"\",interpolate_lower_uncertainty=False)\n",
    "                    axs[0].set_ylim(5e-7,10)\n",
    "                    axs[1].set_ylim(0,2.5)\n",
    "                    axs[0].set_xlabel(None)\n",
    "                    axs[1].set_xlabel('$m_{\\\\tilde{\\\\chi}}$ [GeV]')\n",
    "                    if energy == 13600:\n",
    "                        plt.savefig(name + \".pdf\",bbox_inches ='tight',pad_inches=0)\n",
    "                        plt.show()\n",
    "                    hepi.write_latex_table_transposed_header(rs_dl,\"aNNLO_PLUS_NNLL\",param+str(energy)+\".tex\",\"mass_1000023\")\n",
    "                    hepi.write_latex_table_transposed(rs_dl,\"aNNLO_PLUS_NNLL\",param+str(energy)+\".tex\",yscale=1000.)\n",
    "            else:\n",
    "                rs_dl = rs.run(li, skip=False, run=True, parse=True)\n",
    "                hepi.mass_plot(rs_dl,\"LO\",1000023,show=True,interpolator='exp')"
   ]
  },
  {
   "cell_type": "markdown",
   "id": "439fcbaa",
   "metadata": {},
   "source": [
    "# aNNLO+NNLL hino non-degenerate"
   ]
  },
  {
   "cell_type": "code",
   "execution_count": null,
   "id": "30e9708b",
   "metadata": {
    "scrolled": false
   },
   "outputs": [],
   "source": [
    "params = [\n",
    "    \"higgsino_slha_C1C1.slha\",\n",
    "]\n",
    "pss = [\n",
    "    ( 1000023, +1000024),  # N2C1p\n",
    "    ( 1000023, -1000024),  # N2C1m\n",
    "    (+1000024, -1000024),  # C1pC1m\n",
    "    ( 1000022,  1000023),  # N2N1\n",
    "]\n",
    "import urllib\n",
    "\n",
    "dl = hepi.load(\n",
    "    urllib.request.urlopen(\n",
    "        \"https://raw.githubusercontent.com/APN-Pucky/xsec/master/json/pp13_hinosplit_N2N1_NLO%2BNLL.json\"\n",
    "    ),\n",
    "    dimensions=2,\n",
    ")\n",
    "N1 = dl[\"N1\"]\n",
    "N2 = dl[\"N2\"]\n",
    "NX = dl[\"N1\"] / 2 + dl[\"N2\"] / 2\n",
    "for pa, pb in pss:\n",
    "    for energy in [13000, 13600]:\n",
    "        # save to different folders to have some substructure\n",
    "        name= str(energy) + \"_hino_nondeg_\" + str(pa) + \"_\" + str(pb)\n",
    "        hepi.set_output_dir(\n",
    "            \"output_\" + name + \"/\"\n",
    "        )\n",
    "        rs.default_resummino_runner.set_output_dir(hepi.get_output_dir())\n",
    "        for param in params:\n",
    "            i = hepi.Input(\n",
    "                hepi.Order.LO if test_lo else hepi.Order.aNNLO_PLUS_NNLL,\n",
    "                energy,\n",
    "                pa,\n",
    "                pb,\n",
    "                param,\n",
    "                \"PDF4LHC21_40\",\n",
    "                \"PDF4LHC21_40\",\n",
    "                1.0,\n",
    "                1.0,\n",
    "                id=\"0.0.0\",\n",
    "                precision=0.001,\n",
    "                max_iters=50,\n",
    "            )\n",
    "            li = [i]\n",
    "            li = hepi.slha_scan_rel(\n",
    "                li,\n",
    "                lambda r: [\n",
    "                    [\"MASS\", 1000022, N1[r]],\n",
    "                    [\"MASS\", 1000023, -N2[r]],\n",
    "                    [\"MASS\", 1000024, NX[r]],\n",
    "                ],\n",
    "                range(len(N1)),\n",
    "            )\n",
    "            if not test_lo:\n",
    "                li = hepi.seven_point_scan(li)\n",
    "                li = hepi.pdf_scan(li)\n",
    "                # li = hepi.change_where(li, {\"precision\": 0.0001, \"max_iters\": 200}, pdfset_nlo=0)\n",
    "                if not analyse:\n",
    "                    rs_dl = rs.run(li, skip=True, run=False, parse=False)\n",
    "                else:\n",
    "                    rs_dl = rs.run(li, skip=True, run=True, parse=True)\n",
    "                    \n",
    "                    \n",
    "                    rs_dl = hepi.pdf_errors(li,rs_dl)\n",
    "                    rs_dl = hepi.scale_errors(li,rs_dl)\n",
    "                    rs_dl = hepi.combine_errors(rs_dl)\n",
    "                    mask = rs_dl[\"aNNLO_PLUS_NNLL_COMBINED\"].notnull()\n",
    "                    #\"\"\"\n",
    "                    hepi.mapplot(rs_dl[mask],\"MASS_1000022\",\"MASS_1000024\",\"aNNLO_PLUS_NNLL_COMBINED\",xaxis=\"$m_{\\\\tilde{\\\\chi}_1^0}$ [GeV]\",yaxis=\"$m_{\\\\tilde{\\\\chi}_1^-}$ [GeV]\" , zaxis=\"$\\\\sigma_{\\\\mathrm{aNNLO+NNLL}}$ [pb]\")\n",
    "\n",
    "                    hepi.title(li[0],pdf_info=False,scenario=\"\")\n",
    "\n",
    "                    xx,yy = data.flatmesh(np.linspace(50,320,100),np.linspace(80,320,100))\n",
    "                    dll = hepi.interpolate_2d(rs_dl[mask],\"MASS_1000022\",\"MASS_1000024\",\"aNNLO_PLUS_NNLL_COMBINED\",xx,yy,interpolator=\"linearnd\",pre=np.log,post=np.exp)             \n",
    "                    hepi.mapplot(dll,\"MASS_1000022\",\"MASS_1000024\",\"aNNLO_PLUS_NNLL_COMBINED\",xaxis=\"$m_{\\\\tilde{\\\\chi}_1^0}$ [GeV]\",yaxis=\"$m_{\\\\tilde{\\\\chi}_1^-}$ [GeV]\" , zaxis=\"$\\\\sigma_{\\\\mathrm{aNNLO+NNLL}}$ [pb]\",fill_missing=False)\n",
    "                    \n",
    "                    hepi.title(li[0],pdf_info=False,scenario=\"\")\n",
    "                    plt.savefig(name + \".pdf\",bbox_inches ='tight',pad_inches=0)\n",
    "                    plt.show()\n",
    "                    #\"\"\"\n",
    "                    hepi.write_latex_table_transposed_header(rs_dl,\"aNNLO_PLUS_NNLL\",param+str(energy)+\".tex\",\"MASS_1000022\")\n",
    "                    hepi.write_latex_table_transposed_header(rs_dl,\"aNNLO_PLUS_NNLL\",param+str(energy)+\".tex\",\"MASS_1000023\")\n",
    "                    hepi.write_latex_table_transposed_header(rs_dl,\"aNNLO_PLUS_NNLL\",param+str(energy)+\".tex\",\"MASS_1000024\")\n",
    "                    hepi.write_latex_table_transposed(rs_dl,\"aNNLO_PLUS_NNLL\",param+str(energy)+\".tex\",yscale=1000.)\n",
    "                \n",
    "            else:\n",
    "                rs_dl = rs.run(li, skip=True, run=True, parse=True)\n",
    "                hepi.mapplot(rs_dl,\"MASS_1000022\",\"MASS_1000024\",\"LO\",xaxis=\"$m_{\\\\tilde{\\\\chi}_1^0}$ [GeV]\",yaxis=\"$m_{\\\\tilde{\\\\chi}_1^-}$ [GeV]\" , zaxis=\"$\\\\sigma_{\\\\mathrm{NLO+NLL}}$ [pb]\")"
   ]
  },
  {
   "cell_type": "markdown",
   "id": "e1cfe6b3",
   "metadata": {},
   "source": [
    "## Squark mass dependence in wino-charginos"
   ]
  },
  {
   "cell_type": "code",
   "execution_count": null,
   "id": "03bef720",
   "metadata": {
    "scrolled": false
   },
   "outputs": [
    {
     "name": "stderr",
     "output_type": "stream",
     "text": [
      "/home/apn/.local/lib/python3.9/site-packages/hepi/input.py:283: RuntimeWarning: Could not set new central scale to average of masses.\n",
      "  warnings.warn(\"Could not set new central scale to average of masses.\",\n"
     ]
    },
    {
     "data": {
      "application/vnd.jupyter.widget-view+json": {
       "model_id": "b7d3156f1ac543b3a178f2637660ea1c",
       "version_major": 2,
       "version_minor": 0
      },
      "text/plain": [
       "QUEUEING TASKS | Checking input:   0%|          | 0/18095 [00:00<?, ?it/s]"
      ]
     },
     "metadata": {},
     "output_type": "display_data"
    },
    {
     "data": {
      "application/vnd.jupyter.widget-view+json": {
       "model_id": "94e9eb981ca84e14b16a48448a238cc9",
       "version_major": 2,
       "version_minor": 0
      },
      "text/plain": [
       "PROCESSING TASKS | Checking input:   0%|          | 0/18095 [00:00<?, ?it/s]"
      ]
     },
     "metadata": {},
     "output_type": "display_data"
    },
    {
     "data": {
      "application/vnd.jupyter.widget-view+json": {
       "model_id": "35da283c45e24d8db1d9a4ceb7c71ea0",
       "version_major": 2,
       "version_minor": 0
      },
      "text/plain": [
       "COLLECTING RESULTS | Checking input:   0%|          | 0/18095 [00:00<?, ?it/s]"
      ]
     },
     "metadata": {},
     "output_type": "display_data"
    },
    {
     "data": {
      "application/vnd.jupyter.widget-view+json": {
       "model_id": "873c712eea844c448e8856913160756c",
       "version_major": 2,
       "version_minor": 0
      },
      "text/plain": [
       "QUEUEING TASKS | Preparing:   0%|          | 0/18095 [00:00<?, ?it/s]"
      ]
     },
     "metadata": {},
     "output_type": "display_data"
    },
    {
     "data": {
      "application/vnd.jupyter.widget-view+json": {
       "model_id": "a651238e1b2045758ccde70219aadae2",
       "version_major": 2,
       "version_minor": 0
      },
      "text/plain": [
       "PROCESSING TASKS | Preparing:   0%|          | 0/18095 [00:00<?, ?it/s]"
      ]
     },
     "metadata": {},
     "output_type": "display_data"
    },
    {
     "data": {
      "application/vnd.jupyter.widget-view+json": {
       "model_id": "a76577e3b664418780053f38a335a06e",
       "version_major": 2,
       "version_minor": 0
      },
      "text/plain": [
       "COLLECTING RESULTS | Preparing:   0%|          | 0/18095 [00:00<?, ?it/s]"
      ]
     },
     "metadata": {},
     "output_type": "display_data"
    },
    {
     "name": "stdout",
     "output_type": "stream",
     "text": [
      "Skipped: 18095 Not skipped: 0\n"
     ]
    },
    {
     "data": {
      "application/vnd.jupyter.widget-view+json": {
       "model_id": "2442aa1ef05e48f7a15eef08bc4658ce",
       "version_major": 2,
       "version_minor": 0
      },
      "text/plain": [
       "QUEUEING TASKS | Parsing:   0%|          | 0/18095 [00:00<?, ?it/s]"
      ]
     },
     "metadata": {},
     "output_type": "display_data"
    },
    {
     "data": {
      "application/vnd.jupyter.widget-view+json": {
       "model_id": "49943ab723864664b01517a5c6d897cc",
       "version_major": 2,
       "version_minor": 0
      },
      "text/plain": [
       "PROCESSING TASKS | Parsing:   0%|          | 0/18095 [00:00<?, ?it/s]"
      ]
     },
     "metadata": {},
     "output_type": "display_data"
    },
    {
     "data": {
      "application/vnd.jupyter.widget-view+json": {
       "model_id": "1b75ab3f5512435c851ddeadbc103ff3",
       "version_major": 2,
       "version_minor": 0
      },
      "text/plain": [
       "COLLECTING RESULTS | Parsing:   0%|          | 0/18095 [00:00<?, ?it/s]"
      ]
     },
     "metadata": {},
     "output_type": "display_data"
    },
    {
     "data": {
      "application/vnd.jupyter.widget-view+json": {
       "model_id": "552c51b0ef1440f2bec730fce0e8d05b",
       "version_major": 2,
       "version_minor": 0
      },
      "text/plain": [
       "QUEUEING TASKS | PDF uncertainty @ LO:   0%|          | 0/385 [00:00<?, ?it/s]"
      ]
     },
     "metadata": {},
     "output_type": "display_data"
    },
    {
     "data": {
      "application/vnd.jupyter.widget-view+json": {
       "model_id": "bd3c7b2b235e4596b4d22bff6840657b",
       "version_major": 2,
       "version_minor": 0
      },
      "text/plain": [
       "PROCESSING TASKS | PDF uncertainty @ LO:   0%|          | 0/385 [00:00<?, ?it/s]"
      ]
     },
     "metadata": {},
     "output_type": "display_data"
    },
    {
     "data": {
      "application/vnd.jupyter.widget-view+json": {
       "model_id": "31deeb47ca964102985d9428efd2625f",
       "version_major": 2,
       "version_minor": 0
      },
      "text/plain": [
       "COLLECTING RESULTS | PDF uncertainty @ LO:   0%|          | 0/385 [00:00<?, ?it/s]"
      ]
     },
     "metadata": {},
     "output_type": "display_data"
    },
    {
     "data": {
      "application/vnd.jupyter.widget-view+json": {
       "model_id": "c6db375e35bf4bd5abf9a3dccd8125ed",
       "version_major": 2,
       "version_minor": 0
      },
      "text/plain": [
       "QUEUEING TASKS | PDF uncertainty @ NLO:   0%|          | 0/385 [00:00<?, ?it/s]"
      ]
     },
     "metadata": {},
     "output_type": "display_data"
    },
    {
     "data": {
      "application/vnd.jupyter.widget-view+json": {
       "model_id": "652e531a6d8a42389f055e4a31cc3145",
       "version_major": 2,
       "version_minor": 0
      },
      "text/plain": [
       "PROCESSING TASKS | PDF uncertainty @ NLO:   0%|          | 0/385 [00:00<?, ?it/s]"
      ]
     },
     "metadata": {},
     "output_type": "display_data"
    },
    {
     "data": {
      "application/vnd.jupyter.widget-view+json": {
       "model_id": "a752cc52e523404aa59cb3b0a46fc49d",
       "version_major": 2,
       "version_minor": 0
      },
      "text/plain": [
       "COLLECTING RESULTS | PDF uncertainty @ NLO:   0%|          | 0/385 [00:00<?, ?it/s]"
      ]
     },
     "metadata": {},
     "output_type": "display_data"
    },
    {
     "data": {
      "application/vnd.jupyter.widget-view+json": {
       "model_id": "8a66ae9eef634a5caebf455f91ef0835",
       "version_major": 2,
       "version_minor": 0
      },
      "text/plain": [
       "QUEUEING TASKS | PDF uncertainty @ aNNLO_PLUS_NNLL:   0%|          | 0/385 [00:00<?, ?it/s]"
      ]
     },
     "metadata": {},
     "output_type": "display_data"
    },
    {
     "data": {
      "application/vnd.jupyter.widget-view+json": {
       "model_id": "853783d915ba42549502f707ac24c769",
       "version_major": 2,
       "version_minor": 0
      },
      "text/plain": [
       "PROCESSING TASKS | PDF uncertainty @ aNNLO_PLUS_NNLL:   0%|          | 0/385 [00:00<?, ?it/s]"
      ]
     },
     "metadata": {},
     "output_type": "display_data"
    },
    {
     "data": {
      "application/vnd.jupyter.widget-view+json": {
       "model_id": "a568ef12d92d4e9baae303f7900de15a",
       "version_major": 2,
       "version_minor": 0
      },
      "text/plain": [
       "COLLECTING RESULTS | PDF uncertainty @ aNNLO_PLUS_NNLL:   0%|          | 0/385 [00:00<?, ?it/s]"
      ]
     },
     "metadata": {},
     "output_type": "display_data"
    },
    {
     "data": {
      "application/vnd.jupyter.widget-view+json": {
       "model_id": "691cec66d3b94c55a62bb395b661bac9",
       "version_major": 2,
       "version_minor": 0
      },
      "text/plain": [
       "QUEUEING TASKS | Scale uncertainty @ LO:   0%|          | 0/385 [00:00<?, ?it/s]"
      ]
     },
     "metadata": {},
     "output_type": "display_data"
    },
    {
     "data": {
      "application/vnd.jupyter.widget-view+json": {
       "model_id": "65fb6fe23f534529b7340eff244e2459",
       "version_major": 2,
       "version_minor": 0
      },
      "text/plain": [
       "PROCESSING TASKS | Scale uncertainty @ LO:   0%|          | 0/385 [00:00<?, ?it/s]"
      ]
     },
     "metadata": {},
     "output_type": "display_data"
    },
    {
     "data": {
      "application/vnd.jupyter.widget-view+json": {
       "model_id": "047fae913fba449b8c48f1cb60650615",
       "version_major": 2,
       "version_minor": 0
      },
      "text/plain": [
       "COLLECTING RESULTS | Scale uncertainty @ LO:   0%|          | 0/385 [00:00<?, ?it/s]"
      ]
     },
     "metadata": {},
     "output_type": "display_data"
    },
    {
     "data": {
      "application/vnd.jupyter.widget-view+json": {
       "model_id": "c9cd433e178c490f9f5d78942f9026b8",
       "version_major": 2,
       "version_minor": 0
      },
      "text/plain": [
       "QUEUEING TASKS | Scale uncertainty @ NLO:   0%|          | 0/385 [00:00<?, ?it/s]"
      ]
     },
     "metadata": {},
     "output_type": "display_data"
    },
    {
     "data": {
      "application/vnd.jupyter.widget-view+json": {
       "model_id": "e76d83371de5495ba3bbb2c5fb0c01f3",
       "version_major": 2,
       "version_minor": 0
      },
      "text/plain": [
       "PROCESSING TASKS | Scale uncertainty @ NLO:   0%|          | 0/385 [00:00<?, ?it/s]"
      ]
     },
     "metadata": {},
     "output_type": "display_data"
    },
    {
     "data": {
      "application/vnd.jupyter.widget-view+json": {
       "model_id": "e59069c3d52e46bfbf6313a00d62b089",
       "version_major": 2,
       "version_minor": 0
      },
      "text/plain": [
       "COLLECTING RESULTS | Scale uncertainty @ NLO:   0%|          | 0/385 [00:00<?, ?it/s]"
      ]
     },
     "metadata": {},
     "output_type": "display_data"
    },
    {
     "name": "stderr",
     "output_type": "stream",
     "text": [
      "/home/apn/.local/lib/python3.9/site-packages/hepi/results.py:285: RuntimeWarning: too bad numerical precision vs scale @ num:NLO 0.07126700880797032% vs scale:0.31367103356200815% to -0.8516633378408041%\n",
      "  warnings.warn(\n",
      "/home/apn/.local/lib/python3.9/site-packages/hepi/results.py:285: RuntimeWarning: too bad numerical precision vs scale @ num:NLO 0.07113330338307308% vs scale:0.2896911170566776% to -0.8327764614502055%\n",
      "  warnings.warn(\n",
      "/home/apn/.local/lib/python3.9/site-packages/hepi/results.py:285: RuntimeWarning: too bad numerical precision vs scale @ num:NLO 0.07112162517244278% vs scale:0.26383749600778117% to -0.9108321301808472%\n",
      "  warnings.warn(\n",
      "/home/apn/.local/lib/python3.9/site-packages/hepi/results.py:285: RuntimeWarning: too bad numerical precision vs scale @ num:NLO 0.07189260330925948% vs scale:0.24764951805614677% to -1.1028141903437312%\n",
      "  warnings.warn(\n",
      "/home/apn/.local/lib/python3.9/site-packages/hepi/results.py:285: RuntimeWarning: too bad numerical precision vs scale @ num:NLO 0.07171294553660865% vs scale:0.3128383898788165% to -1.0858279661553858%\n",
      "  warnings.warn(\n",
      "/home/apn/.local/lib/python3.9/site-packages/hepi/results.py:285: RuntimeWarning: too bad numerical precision vs scale @ num:NLO 0.07717980245566906% vs scale:0.3588767346355533% to -1.5887427630682869%\n",
      "  warnings.warn(\n",
      "/home/apn/.local/lib/python3.9/site-packages/hepi/results.py:285: RuntimeWarning: too bad numerical precision vs scale @ num:NLO 0.0715424519265308% vs scale:0.3165283030102541% to -1.0826683744497898%\n",
      "  warnings.warn(\n",
      "/home/apn/.local/lib/python3.9/site-packages/hepi/results.py:285: RuntimeWarning: too bad numerical precision vs scale @ num:NLO 0.07805247001846358% vs scale:0.3306005669010755% to -1.4814191142111366%\n",
      "  warnings.warn(\n",
      "/home/apn/.local/lib/python3.9/site-packages/hepi/results.py:285: RuntimeWarning: too bad numerical precision vs scale @ num:NLO 0.07151904023012048% vs scale:0.2925010453692757% to -1.0271456660572018%\n",
      "  warnings.warn(\n",
      "/home/apn/.local/lib/python3.9/site-packages/hepi/results.py:285: RuntimeWarning: too bad numerical precision vs scale @ num:NLO 0.11325574200913638% vs scale:0.47743744241440694% to -1.2633155019808753%\n",
      "  warnings.warn(\n",
      "/home/apn/.local/lib/python3.9/site-packages/hepi/results.py:285: RuntimeWarning: too bad numerical precision vs scale @ num:NLO 0.09685277407297824% vs scale:0.4483634772442897% to -1.6573432552712282%\n",
      "  warnings.warn(\n",
      "/home/apn/.local/lib/python3.9/site-packages/hepi/results.py:285: RuntimeWarning: too bad numerical precision vs scale @ num:NLO 0.08152531934789471% vs scale:0.36572705291038604% to -1.3782947105261931%\n",
      "  warnings.warn(\n",
      "/home/apn/.local/lib/python3.9/site-packages/hepi/results.py:285: RuntimeWarning: too bad numerical precision vs scale @ num:NLO 0.07169617607388082% vs scale:0.22627329405358665% to -1.2268844266035566%\n",
      "  warnings.warn(\n",
      "/home/apn/.local/lib/python3.9/site-packages/hepi/results.py:285: RuntimeWarning: too bad numerical precision vs scale @ num:NLO 0.09651878961062527% vs scale:0.42479067005561705% to -1.2128291514614833%\n",
      "  warnings.warn(\n",
      "/home/apn/.local/lib/python3.9/site-packages/hepi/results.py:285: RuntimeWarning: too bad numerical precision vs scale @ num:NLO 0.08120163995563841% vs scale:0.29788094369934176% to -1.251052291829577%\n",
      "  warnings.warn(\n",
      "/home/apn/.local/lib/python3.9/site-packages/hepi/results.py:285: RuntimeWarning: too bad numerical precision vs scale @ num:NLO 0.071774143929211% vs scale:0.29629424809403443% to -1.3302943023169096%\n",
      "  warnings.warn(\n"
     ]
    },
    {
     "data": {
      "application/vnd.jupyter.widget-view+json": {
       "model_id": "2fbe99d10f144883ab13b6ed715803c6",
       "version_major": 2,
       "version_minor": 0
      },
      "text/plain": [
       "QUEUEING TASKS | Scale uncertainty @ aNNLO_PLUS_NNLL:   0%|          | 0/385 [00:00<?, ?it/s]"
      ]
     },
     "metadata": {},
     "output_type": "display_data"
    },
    {
     "data": {
      "application/vnd.jupyter.widget-view+json": {
       "model_id": "b27e1d4ff669415db148a06dbbfc0c24",
       "version_major": 2,
       "version_minor": 0
      },
      "text/plain": [
       "PROCESSING TASKS | Scale uncertainty @ aNNLO_PLUS_NNLL:   0%|          | 0/385 [00:00<?, ?it/s]"
      ]
     },
     "metadata": {},
     "output_type": "display_data"
    },
    {
     "data": {
      "application/vnd.jupyter.widget-view+json": {
       "model_id": "f7775f3d5ac84c6fb72fd357bdcce4d7",
       "version_major": 2,
       "version_minor": 0
      },
      "text/plain": [
       "COLLECTING RESULTS | Scale uncertainty @ aNNLO_PLUS_NNLL:   0%|          | 0/385 [00:00<?, ?it/s]"
      ]
     },
     "metadata": {},
     "output_type": "display_data"
    },
    {
     "name": "stderr",
     "output_type": "stream",
     "text": [
      "/home/apn/.local/lib/python3.9/site-packages/hepi/results.py:285: RuntimeWarning: too bad numerical precision vs scale @ num:aNNLO_PLUS_NNLL 0.1529541048067923% vs scale:1.0442500618927553% to -0.7169835345123156%\n",
      "  warnings.warn(\n"
     ]
    },
    {
     "data": {
      "image/png": "[encoded data removed]",
      "text/plain": [
       "<Figure size 640x480 with 2 Axes>"
      ]
     },
     "metadata": {},
     "output_type": "display_data"
    },
    {
     "data": {
      "image/png": "[encoded data removed]",
      "text/plain": [
       "<Figure size 640x480 with 1 Axes>"
      ]
     },
     "metadata": {},
     "output_type": "display_data"
    },
    {
     "name": "stderr",
     "output_type": "stream",
     "text": [
      "/home/apn/.local/lib/python3.9/site-packages/hepi/input.py:283: RuntimeWarning: Could not set new central scale to average of masses.\n",
      "  warnings.warn(\"Could not set new central scale to average of masses.\",\n"
     ]
    },
    {
     "data": {
      "application/vnd.jupyter.widget-view+json": {
       "model_id": "d0f60e9ec5404a73af44c194e17457c3",
       "version_major": 2,
       "version_minor": 0
      },
      "text/plain": [
       "QUEUEING TASKS | Checking input:   0%|          | 0/18095 [00:00<?, ?it/s]"
      ]
     },
     "metadata": {},
     "output_type": "display_data"
    },
    {
     "data": {
      "application/vnd.jupyter.widget-view+json": {
       "model_id": "c1539af8d48444e2a4a36e0fe92d5895",
       "version_major": 2,
       "version_minor": 0
      },
      "text/plain": [
       "PROCESSING TASKS | Checking input:   0%|          | 0/18095 [00:00<?, ?it/s]"
      ]
     },
     "metadata": {},
     "output_type": "display_data"
    },
    {
     "data": {
      "application/vnd.jupyter.widget-view+json": {
       "model_id": "e0099149988c4ceb8b7599706da63ab8",
       "version_major": 2,
       "version_minor": 0
      },
      "text/plain": [
       "COLLECTING RESULTS | Checking input:   0%|          | 0/18095 [00:00<?, ?it/s]"
      ]
     },
     "metadata": {},
     "output_type": "display_data"
    },
    {
     "data": {
      "application/vnd.jupyter.widget-view+json": {
       "model_id": "ebee5cd2ddc14a98b41ed12026e7df78",
       "version_major": 2,
       "version_minor": 0
      },
      "text/plain": [
       "QUEUEING TASKS | Preparing:   0%|          | 0/18095 [00:00<?, ?it/s]"
      ]
     },
     "metadata": {},
     "output_type": "display_data"
    },
    {
     "data": {
      "application/vnd.jupyter.widget-view+json": {
       "model_id": "de1c6f5ff52e46beac1a07c610e4b420",
       "version_major": 2,
       "version_minor": 0
      },
      "text/plain": [
       "PROCESSING TASKS | Preparing:   0%|          | 0/18095 [00:00<?, ?it/s]"
      ]
     },
     "metadata": {},
     "output_type": "display_data"
    },
    {
     "data": {
      "application/vnd.jupyter.widget-view+json": {
       "model_id": "a7c1afe2753741bdb1eba4850f2973b2",
       "version_major": 2,
       "version_minor": 0
      },
      "text/plain": [
       "COLLECTING RESULTS | Preparing:   0%|          | 0/18095 [00:00<?, ?it/s]"
      ]
     },
     "metadata": {},
     "output_type": "display_data"
    },
    {
     "name": "stdout",
     "output_type": "stream",
     "text": [
      "Skipped: 18095 Not skipped: 0\n"
     ]
    },
    {
     "data": {
      "application/vnd.jupyter.widget-view+json": {
       "model_id": "6e8129ab51434f7aac7904d271b62e77",
       "version_major": 2,
       "version_minor": 0
      },
      "text/plain": [
       "QUEUEING TASKS | Parsing:   0%|          | 0/18095 [00:00<?, ?it/s]"
      ]
     },
     "metadata": {},
     "output_type": "display_data"
    },
    {
     "data": {
      "application/vnd.jupyter.widget-view+json": {
       "model_id": "dcad9fd5042d471f8f7abbb1bdba832b",
       "version_major": 2,
       "version_minor": 0
      },
      "text/plain": [
       "PROCESSING TASKS | Parsing:   0%|          | 0/18095 [00:00<?, ?it/s]"
      ]
     },
     "metadata": {},
     "output_type": "display_data"
    },
    {
     "data": {
      "application/vnd.jupyter.widget-view+json": {
       "model_id": "bda21166cd4a49759bdca87b5b7b29e1",
       "version_major": 2,
       "version_minor": 0
      },
      "text/plain": [
       "COLLECTING RESULTS | Parsing:   0%|          | 0/18095 [00:00<?, ?it/s]"
      ]
     },
     "metadata": {},
     "output_type": "display_data"
    },
    {
     "data": {
      "application/vnd.jupyter.widget-view+json": {
       "model_id": "157bf39ea45c47e9abc0ea84740d0ffe",
       "version_major": 2,
       "version_minor": 0
      },
      "text/plain": [
       "QUEUEING TASKS | PDF uncertainty @ LO:   0%|          | 0/385 [00:00<?, ?it/s]"
      ]
     },
     "metadata": {},
     "output_type": "display_data"
    },
    {
     "data": {
      "application/vnd.jupyter.widget-view+json": {
       "model_id": "dc968a34151341c2a23a4087b0460d34",
       "version_major": 2,
       "version_minor": 0
      },
      "text/plain": [
       "PROCESSING TASKS | PDF uncertainty @ LO:   0%|          | 0/385 [00:00<?, ?it/s]"
      ]
     },
     "metadata": {},
     "output_type": "display_data"
    },
    {
     "data": {
      "application/vnd.jupyter.widget-view+json": {
       "model_id": "ef7da533ac0c40b090451a1fb8a6f285",
       "version_major": 2,
       "version_minor": 0
      },
      "text/plain": [
       "COLLECTING RESULTS | PDF uncertainty @ LO:   0%|          | 0/385 [00:00<?, ?it/s]"
      ]
     },
     "metadata": {},
     "output_type": "display_data"
    },
    {
     "data": {
      "application/vnd.jupyter.widget-view+json": {
       "model_id": "59b060f92f114ccfba63a7cd8874dc84",
       "version_major": 2,
       "version_minor": 0
      },
      "text/plain": [
       "QUEUEING TASKS | PDF uncertainty @ NLO:   0%|          | 0/385 [00:00<?, ?it/s]"
      ]
     },
     "metadata": {},
     "output_type": "display_data"
    },
    {
     "data": {
      "application/vnd.jupyter.widget-view+json": {
       "model_id": "9c3dd2ed278248a28043611674c21f1e",
       "version_major": 2,
       "version_minor": 0
      },
      "text/plain": [
       "PROCESSING TASKS | PDF uncertainty @ NLO:   0%|          | 0/385 [00:00<?, ?it/s]"
      ]
     },
     "metadata": {},
     "output_type": "display_data"
    },
    {
     "data": {
      "application/vnd.jupyter.widget-view+json": {
       "model_id": "3a36a69ac7b04992858d8ef7a4a7c5a8",
       "version_major": 2,
       "version_minor": 0
      },
      "text/plain": [
       "COLLECTING RESULTS | PDF uncertainty @ NLO:   0%|          | 0/385 [00:00<?, ?it/s]"
      ]
     },
     "metadata": {},
     "output_type": "display_data"
    },
    {
     "data": {
      "application/vnd.jupyter.widget-view+json": {
       "model_id": "470379beb3924f7e8a52f707eb93c95a",
       "version_major": 2,
       "version_minor": 0
      },
      "text/plain": [
       "QUEUEING TASKS | PDF uncertainty @ aNNLO_PLUS_NNLL:   0%|          | 0/385 [00:00<?, ?it/s]"
      ]
     },
     "metadata": {},
     "output_type": "display_data"
    },
    {
     "data": {
      "application/vnd.jupyter.widget-view+json": {
       "model_id": "6768ff0f7c6c4d7e85dbd5832da03499",
       "version_major": 2,
       "version_minor": 0
      },
      "text/plain": [
       "PROCESSING TASKS | PDF uncertainty @ aNNLO_PLUS_NNLL:   0%|          | 0/385 [00:00<?, ?it/s]"
      ]
     },
     "metadata": {},
     "output_type": "display_data"
    },
    {
     "data": {
      "application/vnd.jupyter.widget-view+json": {
       "model_id": "3607ab11ce134e87a7a9e588ad3de692",
       "version_major": 2,
       "version_minor": 0
      },
      "text/plain": [
       "COLLECTING RESULTS | PDF uncertainty @ aNNLO_PLUS_NNLL:   0%|          | 0/385 [00:00<?, ?it/s]"
      ]
     },
     "metadata": {},
     "output_type": "display_data"
    },
    {
     "data": {
      "application/vnd.jupyter.widget-view+json": {
       "model_id": "42d76d8b748c47e48157bf05daa07de6",
       "version_major": 2,
       "version_minor": 0
      },
      "text/plain": [
       "QUEUEING TASKS | Scale uncertainty @ LO:   0%|          | 0/385 [00:00<?, ?it/s]"
      ]
     },
     "metadata": {},
     "output_type": "display_data"
    },
    {
     "data": {
      "application/vnd.jupyter.widget-view+json": {
       "model_id": "670ace624fe04ef690e43f46e2782436",
       "version_major": 2,
       "version_minor": 0
      },
      "text/plain": [
       "PROCESSING TASKS | Scale uncertainty @ LO:   0%|          | 0/385 [00:00<?, ?it/s]"
      ]
     },
     "metadata": {},
     "output_type": "display_data"
    },
    {
     "data": {
      "application/vnd.jupyter.widget-view+json": {
       "model_id": "3e0c47e3b0b140f9b2df60c8c5f357c2",
       "version_major": 2,
       "version_minor": 0
      },
      "text/plain": [
       "COLLECTING RESULTS | Scale uncertainty @ LO:   0%|          | 0/385 [00:00<?, ?it/s]"
      ]
     },
     "metadata": {},
     "output_type": "display_data"
    },
    {
     "data": {
      "application/vnd.jupyter.widget-view+json": {
       "model_id": "7e6c1311d31e4799a5ac6cbbb84929ce",
       "version_major": 2,
       "version_minor": 0
      },
      "text/plain": [
       "QUEUEING TASKS | Scale uncertainty @ NLO:   0%|          | 0/385 [00:00<?, ?it/s]"
      ]
     },
     "metadata": {},
     "output_type": "display_data"
    },
    {
     "data": {
      "application/vnd.jupyter.widget-view+json": {
       "model_id": "ce7de5087694454abdef72dd0e9357ff",
       "version_major": 2,
       "version_minor": 0
      },
      "text/plain": [
       "PROCESSING TASKS | Scale uncertainty @ NLO:   0%|          | 0/385 [00:00<?, ?it/s]"
      ]
     },
     "metadata": {},
     "output_type": "display_data"
    }
   ],
   "source": [
    "test_lo=False\n",
    "params = [\n",
    "    \"wino_sq.slha\",\n",
    "]\n",
    "pss = [\n",
    "    ( 1000023, +1000024),  # N1C1p\n",
    "    ( 1000023, -1000024),  # N1C1m\n",
    "    (+1000024, -1000024),  # C1pC1m\n",
    "]\n",
    "m_xs=range(700,2010,100)\n",
    "for pa, pb in pss:\n",
    "    for energy in [13000,13600]:\n",
    "        name = \"sqsq_\" + str(energy) + \"_wino_\" + str(pa) + \"_\" + str(pb)\n",
    "        hepi.set_output_dir(\n",
    "            \"output_\" + name + \"/\"\n",
    "        )\n",
    "        rs.default_resummino_runner.set_output_dir(hepi.get_output_dir())\n",
    "        for param in params:\n",
    "            i = hepi.Input(\n",
    "                hepi.Order.LO if test_lo else hepi.Order.aNNLO_PLUS_NNLL,\n",
    "                    energy,\n",
    "                    pa,\n",
    "                    pb,\n",
    "                    param,\n",
    "                    \"PDF4LHC21_40\",\n",
    "                    \"PDF4LHC21_40\",\n",
    "                    1.0,\n",
    "                    1.0,\n",
    "                    id=\"0.0.0\",\n",
    "                    precision=0.001,\n",
    "                    max_iters=50,\n",
    "                )\n",
    "            li = [i]\n",
    "            li = hepi.masses_scan(\n",
    "                   li,\n",
    "                    [\n",
    "                        1000022,\n",
    "                        1000023,\n",
    "                        1000024,\n",
    "                     ],\n",
    "                     m_xs,\n",
    "                 )\n",
    "            li = hepi.masses_scan(\n",
    "                     li,\n",
    "                    [\n",
    "                       1000001,\n",
    "                       1000002,\n",
    "                       1000003,\n",
    "                       1000004,\n",
    "                       2000001,\n",
    "                       2000002,\n",
    "                       2000003,\n",
    "                       2000004,\n",
    "                   ],\n",
    "                   range(700,4010,100), # decoupling else 1e5\n",
    "               )\n",
    "            li = hepi.remove_where(li,lambda d : d[\"mass_1000001_1000002_1000003_1000004_2000001_2000002_2000003_2000004\"] < d[\"mass_1000022_1000023_1000024\"])\n",
    "            if not test_lo:\n",
    "\n",
    "                li = hepi.seven_point_scan(li)\n",
    "                li = hepi.pdf_scan(li)\n",
    "                    # li = hepi.change_where(li, {\"precision\": 0.0001, \"max_iters\": 200}, pdfset_nlo=0)\n",
    "                if not analyse:\n",
    "                    rs_dl = rs.run(li, skip=False, run=False, parse=False)\n",
    "                else:\n",
    "                    rs_dl = rs.run(li, skip=True, run=True, parse=True,ignore_error=True)\n",
    "                    rs_dl = hepi.pdf_errors(li,rs_dl)\n",
    "                    rs_dl = hepi.scale_errors(li,rs_dl)\n",
    "                    rs_dl = hepi.combine_errors(rs_dl)\n",
    "                    \n",
    "                    mask = rs_dl[\"aNNLO_PLUS_NNLL_COMBINED\"].notnull()\n",
    "                    hepi.mapplot(rs_dl[mask],\"mass_1000001_1000002_1000003_1000004_2000001_2000002_2000003_2000004\",\"mass_1000022_1000023_1000024\",\"aNNLO_PLUS_NNLL\",yaxis=\"$m_{\\\\tilde{\\\\chi}_1^0}$ [GeV]\",xaxis=\"$m_{\\\\tilde{q}}$ [GeV]\" , zaxis=\"$\\\\sigma_{\\\\mathrm{NLO+NLL}}$ [pb]\")\n",
    "                    plt.show()\n",
    "                    for m_x in m_xs:\n",
    "                        hepi.mass_plot(rs_dl[mask][rs_dl[mask][\"mass_1000022_1000023_1000024\"]==m_x],\"aNNLO_PLUS_NNLL\",1000002,data_fmt=\".\",lpos=6,bbox_to_anchor=(1.04,0.5),interpolate_label=\"$m_{\\\\tilde{\\\\chi}_1^0}$ = \" + str(m_x) + \"GeV\",xaxis=\"$m_{\\\\tilde{q}}$ [GeV]\",cont=True,plot_data=False,interpolate=True)\n",
    "                    plt.show()\n",
    "                    for m_x in m_xs:\n",
    "                        hepi.mass_plot(rs_dl[mask][rs_dl[mask][\"mass_1000022_1000023_1000024\"]==m_x],\"aNNLO_PLUS_NNLL\",1000002,K=True,data_fmt=\".\",lpos=6,bbox_to_anchor=(1.04,0.5),interpolate_label=\"$m_{\\\\tilde{\\\\chi}_1^0}$ = \" + str(m_x) + \"GeV\",xaxis=\"$m_{\\\\tilde{q}}$ [GeV]\",cont=True,plot_data=False,interpolate=True)\n",
    "                    plt.show()\n",
    "                    #hepi.write_latex_table_transposed_header(rs_dl,\"aNNLO_PLUS_NNLL\",param+str(energy)+\".tex\",\"mass_1000022\")\n",
    "                    #hepi.write_latex_table_transposed(rs_dl,\"aNNLO_PLUS_NNLL\",param+str(energy)+\".tex\",yscale=1000.)\n",
    "            else:\n",
    "                rs_dl = rs.run(li, skip=True, run=True, parse=True)\n",
    "                hepi.mapplot(rs_dl,\"mass_1000001_1000002_1000003_1000004_2000001_2000002_2000003_2000004\",\"mass_1000022_1000023_1000024\",\"LO\",yaxis=\"$m_{\\\\tilde{\\\\chi}_1^0}$ [GeV]\",xaxis=\"$m_{\\\\tilde{q}}$ [GeV]\" , zaxis=\"$\\\\sigma_{\\\\mathrm{NLO+NLL}}$ [pb]\")\n",
    "                plt.show()\n",
    "                for m_x in m_xs:\n",
    "                    hepi.mass_plot(rs_dl[rs_dl[\"mass_1000022_1000023_1000024\"]==m_x],\"LO\",1000002,data_fmt=\".\",lpos=6,bbox_to_anchor=(1.04,0.5),interpolate_label=\"$m_{\\\\tilde{\\\\chi}_1^0}$ = \" + str(m_x) + \"GeV\",xaxis=\"$m_{\\\\tilde{q}}$ [GeV]\",cont=True,plot_data=False,interpolate=True)\n",
    "                plt.show()"
   ]
  },
  {
   "cell_type": "code",
   "execution_count": null,
   "id": "40cad746",
   "metadata": {},
   "outputs": [],
   "source": [
    "test_lo=True\n",
    "params = [\n",
    "    \"hino.slha\",\n",
    "]\n",
    "pss = [\n",
    "    (1000022, +1000024),  # N2C1p\n",
    "    (1000022, -1000024),  # N2C1m\n",
    "    (+1000024, -1000024),  # C1pC2m\n",
    "    (1000022, 1000023),  # N2N1\n",
    "]\n",
    "for pa, pb in pss:\n",
    "    for energy in [13600]:\n",
    "        # save to different folders to have some substructure\n",
    "        name = str(energy) + \"_hino_deg_\" + str(pa) + \"_\" + str(pb)\n",
    "        hepi.set_output_dir(\n",
    "            \"output_\" + name + \"/\"\n",
    "        )\n",
    "        rs.default_resummino_runner.set_output_dir(hepi.get_output_dir())\n",
    "        for param in params:\n",
    "            i = hepi.Input(\n",
    "                hepi.Order.LO if test_lo else hepi.Order.aNNLO_PLUS_NNLL,\n",
    "                energy,\n",
    "                pa,\n",
    "                pb,\n",
    "                param,\n",
    "                \"PDF4LHC21_40\",\n",
    "                \"PDF4LHC21_40\",\n",
    "                1.0,\n",
    "                1.0,\n",
    "                id=\"0.0.0\",\n",
    "                precision=0.001,\n",
    "                max_iters=50,\n",
    "            )\n",
    "            li = [i]\n",
    "            li = hepi.masses_scan(\n",
    "                li,\n",
    "                [\n",
    "                    1000022,\n",
    "                    1000023,\n",
    "                    1000024,\n",
    "                ],\n",
    "                range(700, 2010, 100),\n",
    "                negate=[1000022],\n",
    "            )\n",
    "            li = hepi.masses_scan(\n",
    "                     li,\n",
    "                    [\n",
    "                       1000001,\n",
    "                       1000002,\n",
    "                       1000003,\n",
    "                       1000004,\n",
    "                       2000001,\n",
    "                       2000002,\n",
    "                       2000003,\n",
    "                       2000004,\n",
    "                   ],\n",
    "                   range(700,4100,100), # decoupling else 1e5\n",
    "            )\n",
    "            \n",
    "            if not test_lo:\n",
    "                li = hepi.seven_point_scan(li)\n",
    "                li = hepi.pdf_scan(li)\n",
    "                # li = hepi.change_where(li, {\"precision\": 0.0001, \"max_iters\": 200}, pdfset_nlo=0)\n",
    "                if not analyse:\n",
    "                    rs_dl = rs.run(li, skip=False, run=False, parse=False)\n",
    "                else:\n",
    "                    rs_dl = rs.run(li, skip=True, run=True, parse=True,ignore_error=True)\n",
    "                    rs_dl = hepi.pdf_errors(li,rs_dl)\n",
    "                    rs_dl = hepi.scale_errors(li,rs_dl)\n",
    "                    rs_dl = hepi.combine_errors(rs_dl)\n",
    "                    if energy == 13000:\n",
    "                        fig, axs = plt.subplots(2, 1, figsize=(6,4), sharex=True, gridspec_kw={'height_ratios': [2, 1]})         # Remove horizontal space between axes         \n",
    "                        fig.subplots_adjust(hspace=0)\n",
    "                        hepi.title(li[0],axe=axs[0],cms_energy=False,pdf_info=False,scenario=\"\")\n",
    "                        frac = rs_dl[\"aNNLO_PLUS_NNLL_NOERR\"][rs_dl[\"aNNLO_PLUS_NNLL_COMBINED\"].notnull()]\n",
    "                    #hepi.mass_plot(rs_dl,\"LO_COMBINED\",1000022,mask = rs_dl[\"aNNLO_PLUS_NNLL_COMBINED\"].notnull(),show=True,logy=True,interpolate=True,fill=True,interpolator='cubic',pre=np.log,post=np.exp)\n",
    "                    #hepi.mass_plot(rs_dl,\"NLO_COMBINED\",1000022,mask = rs_dl[\"aNNLO_PLUS_NNLL_COMBINED\"].notnull(),show=True,logy=True,plot_data=False,interpolate=True,fill=True,interpolator='cubic',pre=np.log,post=np.exp,init=False)\n",
    "                    hepi.mass_plot(rs_dl,\"aNNLO_PLUS_NNLL_NOERR\",1000023,axes=axs[0],mask = rs_dl[\"aNNLO_PLUS_NNLL_COMBINED\"].notnull(),tight=False,fmt=\" \",next_color=False,show=False,plot_data=False,logy=True,interpolate=True,fill=False,interpolator='cubic',pre=lambda a :np.log(a.clip(min=1e-22)),post=np.exp,init=False,interpolate_label=\"13.0 TeV\" if energy == 13000 else \"13.6 TeV\" )\n",
    "                    hepi.mass_plot(rs_dl,\"aNNLO_PLUS_NNLL_COMBINED\",1000023,axes=axs[0],mask = rs_dl[\"aNNLO_PLUS_NNLL_COMBINED\"].notnull(),tight=False,fit_fmt=\" \",next_color=True,show=False,plot_data=False,logy=True,interpolate=True,fill=True,interpolator='cubic',pre=lambda a  :np.log(a.clip(min=1e-22)),post=np.exp,init=False,label=\"\",interpolate_lower_uncertainty=False)\n",
    "                    hepi.mass_plot(rs_dl,\"aNNLO_PLUS_NNLL_NOERR\",1000023,axes=axs[1],yscale=1./frac,mask = rs_dl[\"aNNLO_PLUS_NNLL_COMBINED\"].notnull(),tight=False,yaxis=\"Ratio\",fmt=\" \",next_color=False,show=False,plot_data=False,logy=False,interpolate=True,fill=False,interpolator='cubic',pre=lambda a :np.log(a.clip(min=1e-22)),post=np.exp,init=False,label=\"\")\n",
    "                    hepi.mass_plot(rs_dl,\"aNNLO_PLUS_NNLL_COMBINED\",1000023,axes=axs[1],yscale=1./frac,mask = rs_dl[\"aNNLO_PLUS_NNLL_COMBINED\"].notnull(),tight=False,yaxis=\"Ratio\",fit_fmt=\" \",next_color=True,show=False,plot_data=False,logy=False,interpolate=True,fill=True,interpolator='cubic',pre=lambda a  :np.log(a.clip(min=1e-22)),post=np.exp,init=False,label=\"\",interpolate_lower_uncertainty=False)\n",
    "                    axs[0].set_ylim(5e-7,10)\n",
    "                    axs[1].set_ylim(0,2.5)\n",
    "                    axs[0].set_xlabel(None)\n",
    "                    axs[1].set_xlabel('$m_{\\\\tilde{\\\\chi}}$ [GeV]')\n",
    "                    if energy == 13600:\n",
    "                        plt.savefig(name + \".pdf\",bbox_inches ='tight',pad_inches=0)\n",
    "                        plt.show()\n",
    "                    hepi.write_latex_table_transposed_header(rs_dl,\"aNNLO_PLUS_NNLL\",param+str(energy)+\".tex\",\"mass_1000023\")\n",
    "                    hepi.write_latex_table_transposed(rs_dl,\"aNNLO_PLUS_NNLL\",param+str(energy)+\".tex\",yscale=1000.)\n",
    "            else:\n",
    "                rs_dl = rs.run(li, skip=True, run=True, parse=True)\n",
    "                hepi.mapplot(rs_dl,\"mass_1000022_1000023_1000024\",\"mass_1000001_1000002_1000003_1000004_2000001_2000002_2000003_2000004\",\"LO\",xaxis=\"$m_{\\\\tilde{\\\\chi}_1^0}$ [GeV]\",yaxis=\"$m_{\\\\tilde{q}}$ [GeV]\" , zaxis=\"$\\\\sigma_{\\\\mathrm{NLO+NLL}}$ [pb]\")\n",
    "                plt.show()\n",
    "                hepi.mass_plot(rs_dl,\"LO\",1000002,data_fmt=\".\",show=True,interpolate=False)\n",
    "                hepi.mass_plot(rs_dl[rs_dl[\"mass_1000022_1000023_1000024\"]==100],\"LO\",1000002,data_fmt=\".\",show=True,interpolate=False)\n",
    "                "
   ]
  },
  {
   "cell_type": "code",
   "execution_count": null,
   "id": "038801ce",
   "metadata": {},
   "outputs": [],
   "source": []
  },
  {
   "cell_type": "code",
   "execution_count": null,
   "id": "efc4f707",
   "metadata": {
    "scrolled": false
   },
   "outputs": [],
   "source": [
    "test_lo=True\n",
    "params = [\n",
    "    \"wino_ch.slha\",\n",
    "]\n",
    "pss = [\n",
    "    (+1000024, -1000024),  # C1pC1m\n",
    "]\n",
    "for pa, pb in pss:\n",
    "    for energy in [13600]:\n",
    "        name = str(energy) + \"_wino_\" + str(pa) + \"_\" + str(pb)\n",
    "        hepi.set_output_dir(\n",
    "               \"output_\" + name + \"/\"\n",
    "        )\n",
    "        rs.default_resummino_runner.set_output_dir(hepi.get_output_dir())\n",
    "        for param in params:\n",
    "            i = hepi.Input(\n",
    "                hepi.Order.LO if test_lo else hepi.Order.aNNLO_PLUS_NNLL,\n",
    "                    energy,\n",
    "                    pa,\n",
    "                    pb,\n",
    "                    param,\n",
    "                    \"PDF4LHC21_40\",\n",
    "                    \"PDF4LHC21_40\",\n",
    "                    1.0,\n",
    "                    1.0,\n",
    "                    id=\"0.0.0\",\n",
    "                    precision=0.001,\n",
    "                    max_iters=50,\n",
    "                )\n",
    "            li = [i]\n",
    "            li = hepi.masses_scan(\n",
    "                    li,\n",
    "                    [\n",
    "                        1000022,\n",
    "                        1000023,\n",
    "                        1000024,\n",
    "                    ],\n",
    "                    range(100,2010,100),\n",
    "                )\n",
    "            li = hepi.masses_scan(\n",
    "                    li,\n",
    "                    [\n",
    "                        1000006,\n",
    "                        2000006,\n",
    "                    ],\n",
    "                    range(0,4010,100),\n",
    "                )\n",
    "            if not test_lo:\n",
    "\n",
    "                li = hepi.seven_point_scan(li)\n",
    "                li = hepi.pdf_scan(li)\n",
    "                    # li = hepi.change_where(li, {\"precision\": 0.0001, \"max_iters\": 200}, pdfset_nlo=0)\n",
    "                if not analyse:\n",
    "                    rs_dl = rs.run(li, skip=False, run=False, parse=False)\n",
    "                else:\n",
    "                    rs_dl = rs.run(li, skip=True, run=True, parse=True,ignore_error=True)\n",
    "                    rs_dl = hepi.pdf_errors(li,rs_dl)\n",
    "                    rs_dl = hepi.scale_errors(li,rs_dl)\n",
    "                    rs_dl = hepi.combine_errors(rs_dl)\n",
    "                    if energy == 13000:\n",
    "                        fig, axs = plt.subplots(2, 1, figsize=(6,4), sharex=True, gridspec_kw={'height_ratios': [2, 1]})         # Remove horizontal space between axes         \n",
    "                        fig.subplots_adjust(hspace=0)\n",
    "                        hepi.title(li[0],axe=axs[0],cms_energy=False,pdf_info=False,scenario=\"\")\n",
    "                        frac = rs_dl[\"aNNLO_PLUS_NNLL_NOERR\"][rs_dl[\"aNNLO_PLUS_NNLL_COMBINED\"].notnull()]\n",
    "                    #hepi.mass_plot(rs_dl,\"LO_COMBINED\",1000022,mask = rs_dl[\"aNNLO_PLUS_NNLL_COMBINED\"].notnull(),show=True,logy=True,interpolate=True,fill=True,interpolator='cubic',pre=np.log,post=np.exp)\n",
    "                    #hepi.mass_plot(rs_dl,\"NLO_COMBINED\",1000022,mask = rs_dl[\"aNNLO_PLUS_NNLL_COMBINED\"].notnull(),show=True,logy=True,interpolate=True,fill=True,interpolator='cubic',pre=np.log,post=np.exp,init=False)\n",
    "                    hepi.mass_plot(rs_dl,\"aNNLO_PLUS_NNLL_NOERR\",1000022,axes=axs[0],mask = rs_dl[\"aNNLO_PLUS_NNLL_COMBINED\"].notnull(),tight=False,fmt=\" \",next_color=False,show=False,plot_data=False,logy=True,interpolate=True,fill=False,interpolator='cubic',pre=lambda a :np.log(a.clip(min=1e-22)),post=np.exp,init=False,interpolate_label=\"13.0 TeV\" if energy == 13000 else \"13.6 TeV\" )\n",
    "                    hepi.mass_plot(rs_dl,\"aNNLO_PLUS_NNLL_COMBINED\",1000022,axes=axs[0],mask = rs_dl[\"aNNLO_PLUS_NNLL_COMBINED\"].notnull(),tight=False,fit_fmt=\" \",next_color=True,show=False,plot_data=False,logy=True,interpolate=True,fill=True,interpolator='cubic',pre=lambda a  :np.log(a.clip(min=1e-22)),post=np.exp,init=False,label=\"\",interpolate_lower_uncertainty=False)\n",
    "                    hepi.mass_plot(rs_dl,\"aNNLO_PLUS_NNLL_NOERR\",1000022,axes=axs[1],yscale=1./frac,mask = rs_dl[\"aNNLO_PLUS_NNLL_COMBINED\"].notnull(),tight=False,yaxis=\"Ratio\",fmt=\" \",next_color=False,show=False,plot_data=False,logy=False,interpolate=True,fill=False,interpolator='cubic',pre=lambda a :np.log(a.clip(min=1e-22)),post=np.exp,init=False,label=\"\")\n",
    "                    hepi.mass_plot(rs_dl,\"aNNLO_PLUS_NNLL_COMBINED\",1000022,axes=axs[1],yscale=1./frac,mask = rs_dl[\"aNNLO_PLUS_NNLL_COMBINED\"].notnull(),tight=False,yaxis=\"Ratio\",fit_fmt=\" \",next_color=True,show=False,plot_data=False,logy=False,interpolate=True,fill=True,interpolator='cubic',pre=lambda a  :np.log(a.clip(min=1e-22)),post=np.exp,init=False,label=\"\",interpolate_lower_uncertainty=False)\n",
    "                    axs[0].set_ylim(5e-7,25)\n",
    "                    axs[1].set_ylim(-2.5,5.0)\n",
    "                    axs[0].set_xlabel(None)\n",
    "                    axs[1].set_xlabel('$m_{\\\\tilde{\\\\chi}}$ [GeV]')\n",
    "                    if energy == 13600:\n",
    "                        plt.savefig(name + \".pdf\",bbox_inches ='tight',pad_inches=0)\n",
    "                        plt.show()\n",
    "                    hepi.write_latex_table_transposed_header(rs_dl,\"aNNLO_PLUS_NNLL\",param+str(energy)+\".tex\",\"mass_1000022\")\n",
    "                    hepi.write_latex_table_transposed(rs_dl,\"aNNLO_PLUS_NNLL\",param+str(energy)+\".tex\",yscale=1000.)\n",
    "            else:\n",
    "                rs_dl = rs.run(li, skip=True, run=True, parse=True)\n",
    "                hepi.mapplot(rs_dl,\"mass_1000022_1000023_1000024\",\"mass_1000006_2000006\",\"LO\",xaxis=\"$m_{\\\\tilde{\\\\chi}_1^0}$ [GeV]\",yaxis=\"$m_{\\\\tilde{t}}$ [GeV]\" , zaxis=\"$\\\\sigma_{\\\\mathrm{NLO+NLL}}$ [pb]\")\n",
    "                plt.show()\n",
    "                hepi.mass_plot(rs_dl,\"LO\",1000006,data_fmt=\".\",show=True,interpolate=False)"
   ]
  },
  {
   "cell_type": "code",
   "execution_count": null,
   "id": "15e9ed6a",
   "metadata": {},
   "outputs": [],
   "source": [
    "hepi.mass_plot(rs_dl[rs_dl[\"mass_1000022_1000023_1000024\"]==100],\"LO\",1000006,data_fmt=\".\",show=True,interpolate=False)"
   ]
  }
 ],
 "metadata": {
  "kernelspec": {
   "display_name": "Python 3 (ipykernel)",
   "language": "python",
   "name": "python3"
  },
  "language_info": {
   "codemirror_mode": {
    "name": "ipython",
    "version": 3
   },
   "file_extension": ".py",
   "mimetype": "text/x-python",
   "name": "python",
   "nbconvert_exporter": "python",
   "pygments_lexer": "ipython3",
   "version": "3.9.13"
  }
 },
 "nbformat": 4,
 "nbformat_minor": 5
}
