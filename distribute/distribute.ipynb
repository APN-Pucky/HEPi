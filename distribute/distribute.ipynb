{
 "cells": [
  {
   "cell_type": "markdown",
   "id": "92353069",
   "metadata": {},
   "source": [
    "# Scenarios\n",
    "\n",
    "The scenarios are taken from https://twiki.cern.ch/twiki/bin/view/LHCPhysics/SUSYCrossSections.\n",
    "\n",
    "Modifications:\n",
    "-   we set the STAUMIX value CT to 1.0 and ST to 0.0\n",
    "-   we manually set the massses of all particles tagged with an @a"
   ]
  },
  {
   "cell_type": "code",
   "execution_count": 10,
   "id": "6c1a697f",
   "metadata": {},
   "outputs": [
    {
     "name": "stdout",
     "output_type": "stream",
     "text": [
      "The nb_black extension is already loaded. To reload it, use:\n",
      "  %reload_ext nb_black\n",
      "0.1.6.21+dirty\n",
      "~/git/resummino/\n"
     ]
    },
    {
     "data": {
      "application/javascript": [
       "\n",
       "            setTimeout(function() {\n",
       "                var nbb_cell_id = 10;\n",
       "                var nbb_unformatted_code = \"%load_ext nb_black\\nimport hepi\\n\\n\\nprint(hepi.__version__)\\nimport smpl\\nimport numpy as np\\nimport hepi.resummino as rs\\nimport hepi.util as util\\nimport matplotlib.pyplot as plt\\n\\nrs.set_path(\\\"~/git/resummino\\\")\\nprint(rs.get_path())\";\n",
       "                var nbb_formatted_code = \"%load_ext nb_black\\nimport hepi\\n\\n\\nprint(hepi.__version__)\\nimport smpl\\nimport numpy as np\\nimport hepi.resummino as rs\\nimport hepi.util as util\\nimport matplotlib.pyplot as plt\\n\\nrs.set_path(\\\"~/git/resummino\\\")\\nprint(rs.get_path())\";\n",
       "                var nbb_cells = Jupyter.notebook.get_cells();\n",
       "                for (var i = 0; i < nbb_cells.length; ++i) {\n",
       "                    if (nbb_cells[i].input_prompt_number == nbb_cell_id) {\n",
       "                        if (nbb_cells[i].get_text() == nbb_unformatted_code) {\n",
       "                             nbb_cells[i].set_text(nbb_formatted_code);\n",
       "                        }\n",
       "                        break;\n",
       "                    }\n",
       "                }\n",
       "            }, 500);\n",
       "            "
      ],
      "text/plain": [
       "<IPython.core.display.Javascript object>"
      ]
     },
     "metadata": {},
     "output_type": "display_data"
    }
   ],
   "source": [
    "%load_ext nb_black\n",
    "import hepi\n",
    "\n",
    "\n",
    "print(hepi.__version__)\n",
    "import smpl\n",
    "import numpy as np\n",
    "import hepi.resummino as rs\n",
    "import hepi.util as util\n",
    "import matplotlib.pyplot as plt\n",
    "\n",
    "rs.set_path(\"~/git/resummino\")\n",
    "print(rs.get_path())"
   ]
  },
  {
   "cell_type": "markdown",
   "id": "35928a1a",
   "metadata": {},
   "source": [
    "# aNNLO+NNLL wino N2C1"
   ]
  },
  {
   "cell_type": "code",
   "execution_count": 11,
   "id": "f8611906",
   "metadata": {},
   "outputs": [
    {
     "name": "stdout",
     "output_type": "stream",
     "text": [
      "Running: 8132 jobs\n",
      "Running: 8132 jobs\n",
      "Running: 8132 jobs\n",
      "Running: 8132 jobs\n"
     ]
    },
    {
     "data": {
      "application/javascript": [
       "\n",
       "            setTimeout(function() {\n",
       "                var nbb_cell_id = 11;\n",
       "                var nbb_unformatted_code = \"params = [\\n    \\\"wino.in\\\",\\n]\\npss = [\\n    (1000022, +1000024),\\n    (1000022, -1000024),\\n]\\nfor energy in [13000, 13600]:\\n    hepi.set_output_dir(\\\"output_\\\" + str(energy) + \\\"_wino_N2C1/\\\")\\n    for pa, pb in pss:\\n        for param in params:\\n            i = hepi.Input(\\n                hepi.Order.aNNLO_PLUS_NNLL,\\n                energy,\\n                pa,\\n                pb,\\n                param,\\n                \\\"PDF4LHC21_mc\\\",\\n                \\\"PDF4LHC21_mc\\\",\\n                1.0,\\n                1.0,\\n                id=\\\"0.0.0\\\",\\n                precision=0.001,\\n                max_iters=100,\\n            )\\n            li = [i]\\n            li = hepi.masses_scan(\\n                li,\\n                [\\n                    1000011,\\n                    2000011,\\n                    1000012,\\n                    1000013,\\n                    2000013,\\n                    1000014,\\n                    1000015,\\n                    2000015,\\n                    1000016,\\n                    1000022,\\n                    1000023,\\n                    1000024,\\n                ],\\n                range(100, 2000, 25),\\n            )\\n            li = hepi.seven_point_scan(li)\\n            li = hepi.pdf_scan(li)\\n            # li = hepi.change_where(li, {\\\"precision\\\": 0.0001, \\\"max_iters\\\": 200}, pdfset_nlo=0)\\n            rs_dl = rs.run(li, skip=True, run=False, parse=False)\";\n",
       "                var nbb_formatted_code = \"params = [\\n    \\\"wino.in\\\",\\n]\\npss = [\\n    (1000022, +1000024),\\n    (1000022, -1000024),\\n]\\nfor energy in [13000, 13600]:\\n    hepi.set_output_dir(\\\"output_\\\" + str(energy) + \\\"_wino_N2C1/\\\")\\n    for pa, pb in pss:\\n        for param in params:\\n            i = hepi.Input(\\n                hepi.Order.aNNLO_PLUS_NNLL,\\n                energy,\\n                pa,\\n                pb,\\n                param,\\n                \\\"PDF4LHC21_mc\\\",\\n                \\\"PDF4LHC21_mc\\\",\\n                1.0,\\n                1.0,\\n                id=\\\"0.0.0\\\",\\n                precision=0.001,\\n                max_iters=100,\\n            )\\n            li = [i]\\n            li = hepi.masses_scan(\\n                li,\\n                [\\n                    1000011,\\n                    2000011,\\n                    1000012,\\n                    1000013,\\n                    2000013,\\n                    1000014,\\n                    1000015,\\n                    2000015,\\n                    1000016,\\n                    1000022,\\n                    1000023,\\n                    1000024,\\n                ],\\n                range(100, 2000, 25),\\n            )\\n            li = hepi.seven_point_scan(li)\\n            li = hepi.pdf_scan(li)\\n            # li = hepi.change_where(li, {\\\"precision\\\": 0.0001, \\\"max_iters\\\": 200}, pdfset_nlo=0)\\n            rs_dl = rs.run(li, skip=True, run=False, parse=False)\";\n",
       "                var nbb_cells = Jupyter.notebook.get_cells();\n",
       "                for (var i = 0; i < nbb_cells.length; ++i) {\n",
       "                    if (nbb_cells[i].input_prompt_number == nbb_cell_id) {\n",
       "                        if (nbb_cells[i].get_text() == nbb_unformatted_code) {\n",
       "                             nbb_cells[i].set_text(nbb_formatted_code);\n",
       "                        }\n",
       "                        break;\n",
       "                    }\n",
       "                }\n",
       "            }, 500);\n",
       "            "
      ],
      "text/plain": [
       "<IPython.core.display.Javascript object>"
      ]
     },
     "metadata": {},
     "output_type": "display_data"
    }
   ],
   "source": [
    "params = [\n",
    "    \"wino.slha\",\n",
    "]\n",
    "pss = [\n",
    "    (1000022, +1000024),\n",
    "    (1000022, -1000024),\n",
    "]\n",
    "for energy in [13000, 13600]:\n",
    "    hepi.set_output_dir(\"output_\" + str(energy) + \"_wino_N2C1/\")\n",
    "    for pa, pb in pss:\n",
    "        for param in params:\n",
    "            i = hepi.Input(\n",
    "                hepi.Order.aNNLO_PLUS_NNLL,\n",
    "                energy,\n",
    "                pa,\n",
    "                pb,\n",
    "                param,\n",
    "                \"PDF4LHC21_mc\",\n",
    "                \"PDF4LHC21_mc\",\n",
    "                1.0,\n",
    "                1.0,\n",
    "                id=\"0.0.0\",\n",
    "                precision=0.001,\n",
    "                max_iters=100,\n",
    "            )\n",
    "            li = [i]\n",
    "            li = hepi.masses_scan(\n",
    "                li,\n",
    "                [\n",
    "                    1000022,\n",
    "                    1000023,\n",
    "                    1000024,\n",
    "                ],\n",
    "                range(100, 2000, 10),\n",
    "            )\n",
    "            li = hepi.seven_point_scan(li)\n",
    "            li = hepi.pdf_scan(li)\n",
    "            # li = hepi.change_where(li, {\"precision\": 0.0001, \"max_iters\": 200}, pdfset_nlo=0)\n",
    "            rs_dl = rs.run(li, skip=True, run=False, parse=False)"
   ]
  },
  {
   "cell_type": "markdown",
   "id": "9c261ba6",
   "metadata": {},
   "source": [
    "# aNNLO+NNLL wino C1C1"
   ]
  },
  {
   "cell_type": "code",
   "execution_count": 3,
   "id": "e050dbc9",
   "metadata": {},
   "outputs": [
    {
     "name": "stdout",
     "output_type": "stream",
     "text": [
      "Running: 20330 jobs\n",
      "Running: 20330 jobs\n"
     ]
    },
    {
     "data": {
      "application/javascript": [
       "\n",
       "            setTimeout(function() {\n",
       "                var nbb_cell_id = 3;\n",
       "                var nbb_unformatted_code = \"params = [\\n    \\\"wino.in\\\",\\n]\\npss = [\\n    (-1000024, +1000024),\\n]\\nfor energy in [13000, 13600]:\\n    hepi.set_output_dir(\\\"output_\\\" + str(energy) + \\\"_wino_C1C1/\\\")\\n    for pa, pb in pss:\\n        for param in params:\\n            i = hepi.Input(\\n                hepi.Order.aNNLO_PLUS_NNLL,\\n                energy,\\n                pa,\\n                pb,\\n                param,\\n                \\\"PDF4LHC21_mc\\\",\\n                \\\"PDF4LHC21_mc\\\",\\n                1.0,\\n                1.0,\\n                id=\\\"0.0.0\\\",\\n                precision=0.001,\\n                max_iters=100,\\n            )\\n            li = [i]\\n            li = hepi.masses_scan(\\n                li,\\n                [\\n                    1000011,\\n                    2000011,\\n                    1000012,\\n                    1000013,\\n                    2000013,\\n                    1000014,\\n                    1000015,\\n                    2000015,\\n                    1000016,\\n                    1000022,\\n                    1000023,\\n                    1000024,\\n                ],\\n                range(100, 2000, 10),\\n            )\\n            li = hepi.seven_point_scan(li)\\n            li = hepi.pdf_scan(li)\\n            #li = hepi.change_where(li, {\\\"precision\\\": 0.0001, \\\"max_iters\\\": 200}, pdfset_nlo=0)\\n            rs_dl = rs.run(li, skip=True, run=False, parse=False)\";\n",
       "                var nbb_formatted_code = \"params = [\\n    \\\"wino.in\\\",\\n]\\npss = [\\n    (-1000024, +1000024),\\n]\\nfor energy in [13000, 13600]:\\n    hepi.set_output_dir(\\\"output_\\\" + str(energy) + \\\"_wino_C1C1/\\\")\\n    for pa, pb in pss:\\n        for param in params:\\n            i = hepi.Input(\\n                hepi.Order.aNNLO_PLUS_NNLL,\\n                energy,\\n                pa,\\n                pb,\\n                param,\\n                \\\"PDF4LHC21_mc\\\",\\n                \\\"PDF4LHC21_mc\\\",\\n                1.0,\\n                1.0,\\n                id=\\\"0.0.0\\\",\\n                precision=0.001,\\n                max_iters=100,\\n            )\\n            li = [i]\\n            li = hepi.masses_scan(\\n                li,\\n                [\\n                    1000011,\\n                    2000011,\\n                    1000012,\\n                    1000013,\\n                    2000013,\\n                    1000014,\\n                    1000015,\\n                    2000015,\\n                    1000016,\\n                    1000022,\\n                    1000023,\\n                    1000024,\\n                ],\\n                range(100, 2000, 10),\\n            )\\n            li = hepi.seven_point_scan(li)\\n            li = hepi.pdf_scan(li)\\n            # li = hepi.change_where(li, {\\\"precision\\\": 0.0001, \\\"max_iters\\\": 200}, pdfset_nlo=0)\\n            rs_dl = rs.run(li, skip=True, run=False, parse=False)\";\n",
       "                var nbb_cells = Jupyter.notebook.get_cells();\n",
       "                for (var i = 0; i < nbb_cells.length; ++i) {\n",
       "                    if (nbb_cells[i].input_prompt_number == nbb_cell_id) {\n",
       "                        if (nbb_cells[i].get_text() == nbb_unformatted_code) {\n",
       "                             nbb_cells[i].set_text(nbb_formatted_code);\n",
       "                        }\n",
       "                        break;\n",
       "                    }\n",
       "                }\n",
       "            }, 500);\n",
       "            "
      ],
      "text/plain": [
       "<IPython.core.display.Javascript object>"
      ]
     },
     "metadata": {},
     "output_type": "display_data"
    }
   ],
   "source": [
    "params = [\n",
    "    \"wino.slha\",\n",
    "]\n",
    "pss = [\n",
    "    (+1000024, -1000024),\n",
    "]\n",
    "for energy in [13000, 13600]:\n",
    "    hepi.set_output_dir(\"output_\" + str(energy) + \"_wino_C1C1/\")\n",
    "    for pa, pb in pss:\n",
    "        for param in params:\n",
    "            i = hepi.Input(\n",
    "                hepi.Order.aNNLO_PLUS_NNLL,\n",
    "                energy,\n",
    "                pa,\n",
    "                pb,\n",
    "                param,\n",
    "                \"PDF4LHC21_mc\",\n",
    "                \"PDF4LHC21_mc\",\n",
    "                1.0,\n",
    "                1.0,\n",
    "                id=\"0.0.0\",\n",
    "                precision=0.001,\n",
    "                max_iters=100,\n",
    "            )\n",
    "            li = [i]\n",
    "            li = hepi.masses_scan(\n",
    "                li,\n",
    "                [\n",
    "                    1000011,\n",
    "                    2000011,\n",
    "                    1000012,\n",
    "                    1000013,\n",
    "                    2000013,\n",
    "                    1000014,\n",
    "                    1000015,\n",
    "                    2000015,\n",
    "                    1000016,\n",
    "                    1000022,\n",
    "                    1000023,\n",
    "                    1000024,\n",
    "                ],\n",
    "                range(100, 2000, 10),\n",
    "            )\n",
    "            li = hepi.seven_point_scan(li)\n",
    "            li = hepi.pdf_scan(li)\n",
    "            #li = hepi.change_where(li, {\"precision\": 0.0001, \"max_iters\": 200}, pdfset_nlo=0)\n",
    "            rs_dl = rs.run(li, skip=True, run=False, parse=False)"
   ]
  },
  {
   "cell_type": "markdown",
   "id": "17da8db4",
   "metadata": {},
   "source": [
    "# aNNLO+NNLL hino N2N1"
   ]
  },
  {
   "cell_type": "code",
   "execution_count": 4,
   "id": "ca8392f2",
   "metadata": {},
   "outputs": [
    {
     "name": "stdout",
     "output_type": "stream",
     "text": [
      "Running: 14980 jobs\n",
      "Running: 14980 jobs\n"
     ]
    },
    {
     "data": {
      "application/javascript": [
       "\n",
       "            setTimeout(function() {\n",
       "                var nbb_cell_id = 4;\n",
       "                var nbb_unformatted_code = \"params = [\\n    \\\"hino.in\\\",\\n]\\npss = [\\n    (1000022, 1000023),\\n]\\nfor energy in [13000, 13600]:\\n    hepi.set_output_dir(\\\"output_\\\" + str(energy) + \\\"_hino_N2N1/\\\")\\n    for pa, pb in pss:\\n        for param in params:\\n            i = hepi.Input(\\n                hepi.Order.aNNLO_PLUS_NNLL,\\n                energy,\\n                pa,\\n                pb,\\n                param,\\n                \\\"PDF4LHC21_mc\\\",\\n                \\\"PDF4LHC21_mc\\\",\\n                1.0,\\n                1.0,\\n                id=\\\"0.0.0\\\",\\n                precision=0.001,\\n                max_iters=100,\\n            )\\n            li = [i]\\n            li = hepi.masses_scan(\\n                li,\\n                [\\n                    1000011,\\n                    2000011,\\n                    1000012,\\n                    1000013,\\n                    2000013,\\n                    1000014,\\n                    1000015,\\n                    2000015,\\n                    1000016,\\n                    1000022,\\n                    1000023,\\n                    1000024,\\n                ],\\n                range(100, 1500, 10),\\n                negate=[1000022]\\n            )\\n            li = hepi.seven_point_scan(li)\\n            li = hepi.pdf_scan(li)\\n            # li = hepi.change_where(li, {\\\"precision\\\": 0.0001, \\\"max_iters\\\": 200}, pdfset_nlo=0)\\n            rs_dl = rs.run(li, skip=True, run=False, parse=False)\";\n",
       "                var nbb_formatted_code = \"params = [\\n    \\\"hino.in\\\",\\n]\\npss = [\\n    (1000022, 1000023),\\n]\\nfor energy in [13000, 13600]:\\n    hepi.set_output_dir(\\\"output_\\\" + str(energy) + \\\"_hino_N2N1/\\\")\\n    for pa, pb in pss:\\n        for param in params:\\n            i = hepi.Input(\\n                hepi.Order.aNNLO_PLUS_NNLL,\\n                energy,\\n                pa,\\n                pb,\\n                param,\\n                \\\"PDF4LHC21_mc\\\",\\n                \\\"PDF4LHC21_mc\\\",\\n                1.0,\\n                1.0,\\n                id=\\\"0.0.0\\\",\\n                precision=0.001,\\n                max_iters=100,\\n            )\\n            li = [i]\\n            li = hepi.masses_scan(\\n                li,\\n                [\\n                    1000011,\\n                    2000011,\\n                    1000012,\\n                    1000013,\\n                    2000013,\\n                    1000014,\\n                    1000015,\\n                    2000015,\\n                    1000016,\\n                    1000022,\\n                    1000023,\\n                    1000024,\\n                ],\\n                range(100, 1500, 10),\\n                negate=[1000022],\\n            )\\n            li = hepi.seven_point_scan(li)\\n            li = hepi.pdf_scan(li)\\n            # li = hepi.change_where(li, {\\\"precision\\\": 0.0001, \\\"max_iters\\\": 200}, pdfset_nlo=0)\\n            rs_dl = rs.run(li, skip=True, run=False, parse=False)\";\n",
       "                var nbb_cells = Jupyter.notebook.get_cells();\n",
       "                for (var i = 0; i < nbb_cells.length; ++i) {\n",
       "                    if (nbb_cells[i].input_prompt_number == nbb_cell_id) {\n",
       "                        if (nbb_cells[i].get_text() == nbb_unformatted_code) {\n",
       "                             nbb_cells[i].set_text(nbb_formatted_code);\n",
       "                        }\n",
       "                        break;\n",
       "                    }\n",
       "                }\n",
       "            }, 500);\n",
       "            "
      ],
      "text/plain": [
       "<IPython.core.display.Javascript object>"
      ]
     },
     "metadata": {},
     "output_type": "display_data"
    }
   ],
   "source": [
    "params = [\n",
    "    \"hino.slha\",\n",
    "]\n",
    "pss = [\n",
    "    (1000022, 1000023),\n",
    "]\n",
    "for energy in [13000, 13600]:\n",
    "    hepi.set_output_dir(\"output_\" + str(energy) + \"_hino_N2N1/\")\n",
    "    for pa, pb in pss:\n",
    "        for param in params:\n",
    "            i = hepi.Input(\n",
    "                hepi.Order.aNNLO_PLUS_NNLL,\n",
    "                energy,\n",
    "                pa,\n",
    "                pb,\n",
    "                param,\n",
    "                \"PDF4LHC21_mc\",\n",
    "                \"PDF4LHC21_mc\",\n",
    "                1.0,\n",
    "                1.0,\n",
    "                id=\"0.0.0\",\n",
    "                precision=0.001,\n",
    "                max_iters=100,\n",
    "            )\n",
    "            li = [i]\n",
    "            li = hepi.masses_scan(\n",
    "                li,\n",
    "                [\n",
    "                    1000011,\n",
    "                    2000011,\n",
    "                    1000012,\n",
    "                    1000013,\n",
    "                    2000013,\n",
    "                    1000014,\n",
    "                    1000015,\n",
    "                    2000015,\n",
    "                    1000016,\n",
    "                    1000022,\n",
    "                    1000023,\n",
    "                    1000024,\n",
    "                ],\n",
    "                range(100, 1500, 10),\n",
    "                negate=[1000022],\n",
    "            )\n",
    "            li = hepi.seven_point_scan(li)\n",
    "            li = hepi.pdf_scan(li)\n",
    "            # li = hepi.change_where(li, {\"precision\": 0.0001, \"max_iters\": 200}, pdfset_nlo=0)\n",
    "            rs_dl = rs.run(li, skip=True, run=False, parse=False)"
   ]
  },
  {
   "cell_type": "markdown",
   "id": "b1bcf0f9",
   "metadata": {},
   "source": [
    "# aNNLO+NNLL hino N2C1"
   ]
  },
  {
   "cell_type": "code",
   "execution_count": 5,
   "id": "f9ecf153",
   "metadata": {},
   "outputs": [
    {
     "name": "stdout",
     "output_type": "stream",
     "text": [
      "Running: 14980 jobs\n",
      "Running: 14980 jobs\n",
      "Running: 14980 jobs\n",
      "Running: 14980 jobs\n"
     ]
    },
    {
     "data": {
      "application/javascript": [
       "\n",
       "            setTimeout(function() {\n",
       "                var nbb_cell_id = 5;\n",
       "                var nbb_unformatted_code = \"params = [\\n    \\\"hino.in\\\",\\n]\\npss = [\\n    (1000022, +1000024),\\n    (1000022, -1000024),\\n]\\nfor energy in [13000, 13600]:\\n    hepi.set_output_dir(\\\"output_\\\" + str(energy) + \\\"_hino_N2C1/\\\")\\n    for pa, pb in pss:\\n        for param in params:\\n            i = hepi.Input(\\n                hepi.Order.aNNLO_PLUS_NNLL,\\n                energy,\\n                pa,\\n                pb,\\n                param,\\n                \\\"PDF4LHC21_mc\\\",\\n                \\\"PDF4LHC21_mc\\\",\\n                1.0,\\n                1.0,\\n                id=\\\"0.0.0\\\",\\n                precision=0.001,\\n                max_iters=100,\\n            )\\n            li = [i]\\n            li = hepi.masses_scan(\\n                li,\\n                [\\n                    1000011,\\n                    2000011,\\n                    1000012,\\n                    1000013,\\n                    2000013,\\n                    1000014,\\n                    1000015,\\n                    2000015,\\n                    1000016,\\n                    1000022,\\n                    1000023,\\n                    1000024,\\n                ],\\n                range(100, 1500, 10),\\n                negate=[1000022],\\n            )\\n            li = hepi.seven_point_scan(li)\\n            li = hepi.pdf_scan(li)\\n            # li = hepi.change_where(li, {\\\"precision\\\": 0.0001, \\\"max_iters\\\": 200}, pdfset_nlo=0)\\n            rs_dl = rs.run(li, skip=True, run=False, parse=False)\";\n",
       "                var nbb_formatted_code = \"params = [\\n    \\\"hino.in\\\",\\n]\\npss = [\\n    (1000022, +1000024),\\n    (1000022, -1000024),\\n]\\nfor energy in [13000, 13600]:\\n    hepi.set_output_dir(\\\"output_\\\" + str(energy) + \\\"_hino_N2C1/\\\")\\n    for pa, pb in pss:\\n        for param in params:\\n            i = hepi.Input(\\n                hepi.Order.aNNLO_PLUS_NNLL,\\n                energy,\\n                pa,\\n                pb,\\n                param,\\n                \\\"PDF4LHC21_mc\\\",\\n                \\\"PDF4LHC21_mc\\\",\\n                1.0,\\n                1.0,\\n                id=\\\"0.0.0\\\",\\n                precision=0.001,\\n                max_iters=100,\\n            )\\n            li = [i]\\n            li = hepi.masses_scan(\\n                li,\\n                [\\n                    1000011,\\n                    2000011,\\n                    1000012,\\n                    1000013,\\n                    2000013,\\n                    1000014,\\n                    1000015,\\n                    2000015,\\n                    1000016,\\n                    1000022,\\n                    1000023,\\n                    1000024,\\n                ],\\n                range(100, 1500, 10),\\n                negate=[1000022],\\n            )\\n            li = hepi.seven_point_scan(li)\\n            li = hepi.pdf_scan(li)\\n            # li = hepi.change_where(li, {\\\"precision\\\": 0.0001, \\\"max_iters\\\": 200}, pdfset_nlo=0)\\n            rs_dl = rs.run(li, skip=True, run=False, parse=False)\";\n",
       "                var nbb_cells = Jupyter.notebook.get_cells();\n",
       "                for (var i = 0; i < nbb_cells.length; ++i) {\n",
       "                    if (nbb_cells[i].input_prompt_number == nbb_cell_id) {\n",
       "                        if (nbb_cells[i].get_text() == nbb_unformatted_code) {\n",
       "                             nbb_cells[i].set_text(nbb_formatted_code);\n",
       "                        }\n",
       "                        break;\n",
       "                    }\n",
       "                }\n",
       "            }, 500);\n",
       "            "
      ],
      "text/plain": [
       "<IPython.core.display.Javascript object>"
      ]
     },
     "metadata": {},
     "output_type": "display_data"
    }
   ],
   "source": [
    "params = [\n",
    "    \"hino.slha\",\n",
    "]\n",
    "pss = [\n",
    "    (1000022, +1000024),\n",
    "    (1000022, -1000024),\n",
    "]\n",
    "for energy in [13000, 13600]:\n",
    "    hepi.set_output_dir(\"output_\" + str(energy) + \"_hino_N2C1/\")\n",
    "    for pa, pb in pss:\n",
    "        for param in params:\n",
    "            i = hepi.Input(\n",
    "                hepi.Order.aNNLO_PLUS_NNLL,\n",
    "                energy,\n",
    "                pa,\n",
    "                pb,\n",
    "                param,\n",
    "                \"PDF4LHC21_mc\",\n",
    "                \"PDF4LHC21_mc\",\n",
    "                1.0,\n",
    "                1.0,\n",
    "                id=\"0.0.0\",\n",
    "                precision=0.001,\n",
    "                max_iters=100,\n",
    "            )\n",
    "            li = [i]\n",
    "            li = hepi.masses_scan(\n",
    "                li,\n",
    "                [\n",
    "                    1000022,\n",
    "                    1000023,\n",
    "                    1000024,\n",
    "                ],\n",
    "                range(100, 1500, 10),\n",
    "                negate=[1000022],\n",
    "            )\n",
    "            li = hepi.seven_point_scan(li)\n",
    "            li = hepi.pdf_scan(li)\n",
    "            # li = hepi.change_where(li, {\"precision\": 0.0001, \"max_iters\": 200}, pdfset_nlo=0)\n",
    "            rs_dl = rs.run(li, skip=True, run=False, parse=False)"
   ]
  },
  {
   "cell_type": "markdown",
   "id": "da027400",
   "metadata": {},
   "source": [
    "# aNNLO+NNLL hino C1C1"
   ]
  },
  {
   "cell_type": "code",
   "execution_count": 6,
   "id": "b344fabd",
   "metadata": {},
   "outputs": [
    {
     "name": "stdout",
     "output_type": "stream",
     "text": [
      "Running: 14980 jobs\n",
      "Running: 14980 jobs\n"
     ]
    },
    {
     "data": {
      "application/javascript": [
       "\n",
       "            setTimeout(function() {\n",
       "                var nbb_cell_id = 6;\n",
       "                var nbb_unformatted_code = \"params = [\\n    \\\"hino.in\\\",\\n]\\npss = [\\n    (+1000024, -1000024),\\n]\\nfor energy in [13000, 13600]:\\n    hepi.set_output_dir(\\\"output_\\\" + str(energy) + \\\"_hino_N2C1/\\\")\\n    for pa, pb in pss:\\n        for param in params:\\n            i = hepi.Input(\\n                hepi.Order.aNNLO_PLUS_NNLL,\\n                energy,\\n                pa,\\n                pb,\\n                param,\\n                \\\"PDF4LHC21_mc\\\",\\n                \\\"PDF4LHC21_mc\\\",\\n                1.0,\\n                1.0,\\n                id=\\\"0.0.0\\\",\\n                precision=0.001,\\n                max_iters=100,\\n            )\\n            li = [i]\\n            li = hepi.masses_scan(\\n                li,\\n                [\\n                    1000011,\\n                    2000011,\\n                    1000012,\\n                    1000013,\\n                    2000013,\\n                    1000014,\\n                    1000015,\\n                    2000015,\\n                    1000016,\\n                    1000022,\\n                    1000023,\\n                    1000024,\\n                ],\\n                range(100, 1500, 10),\\n                negate=[1000022]\\n            )\\n            li = hepi.seven_point_scan(li)\\n            li = hepi.pdf_scan(li)\\n            # li = hepi.change_where(li, {\\\"precision\\\": 0.0001, \\\"max_iters\\\": 200}, pdfset_nlo=0)\\n            rs_dl = rs.run(li, skip=True, run=False, parse=False)\";\n",
       "                var nbb_formatted_code = \"params = [\\n    \\\"hino.in\\\",\\n]\\npss = [\\n    (+1000024, -1000024),\\n]\\nfor energy in [13000, 13600]:\\n    hepi.set_output_dir(\\\"output_\\\" + str(energy) + \\\"_hino_N2C1/\\\")\\n    for pa, pb in pss:\\n        for param in params:\\n            i = hepi.Input(\\n                hepi.Order.aNNLO_PLUS_NNLL,\\n                energy,\\n                pa,\\n                pb,\\n                param,\\n                \\\"PDF4LHC21_mc\\\",\\n                \\\"PDF4LHC21_mc\\\",\\n                1.0,\\n                1.0,\\n                id=\\\"0.0.0\\\",\\n                precision=0.001,\\n                max_iters=100,\\n            )\\n            li = [i]\\n            li = hepi.masses_scan(\\n                li,\\n                [\\n                    1000011,\\n                    2000011,\\n                    1000012,\\n                    1000013,\\n                    2000013,\\n                    1000014,\\n                    1000015,\\n                    2000015,\\n                    1000016,\\n                    1000022,\\n                    1000023,\\n                    1000024,\\n                ],\\n                range(100, 1500, 10),\\n                negate=[1000022],\\n            )\\n            li = hepi.seven_point_scan(li)\\n            li = hepi.pdf_scan(li)\\n            # li = hepi.change_where(li, {\\\"precision\\\": 0.0001, \\\"max_iters\\\": 200}, pdfset_nlo=0)\\n            rs_dl = rs.run(li, skip=True, run=False, parse=False)\";\n",
       "                var nbb_cells = Jupyter.notebook.get_cells();\n",
       "                for (var i = 0; i < nbb_cells.length; ++i) {\n",
       "                    if (nbb_cells[i].input_prompt_number == nbb_cell_id) {\n",
       "                        if (nbb_cells[i].get_text() == nbb_unformatted_code) {\n",
       "                             nbb_cells[i].set_text(nbb_formatted_code);\n",
       "                        }\n",
       "                        break;\n",
       "                    }\n",
       "                }\n",
       "            }, 500);\n",
       "            "
      ],
      "text/plain": [
       "<IPython.core.display.Javascript object>"
      ]
     },
     "metadata": {},
     "output_type": "display_data"
    }
   ],
   "source": [
    "params = [\n",
    "    \"hino.slha\",\n",
    "]\n",
    "pss = [\n",
    "    (+1000024, -1000024),\n",
    "]\n",
    "for energy in [13000, 13600]:\n",
    "    hepi.set_output_dir(\"output_\" + str(energy) + \"_hino_N2C1/\")\n",
    "    for pa, pb in pss:\n",
    "        for param in params:\n",
    "            i = hepi.Input(\n",
    "                hepi.Order.aNNLO_PLUS_NNLL,\n",
    "                energy,\n",
    "                pa,\n",
    "                pb,\n",
    "                param,\n",
    "                \"PDF4LHC21_mc\",\n",
    "                \"PDF4LHC21_mc\",\n",
    "                1.0,\n",
    "                1.0,\n",
    "                id=\"0.0.0\",\n",
    "                precision=0.001,\n",
    "                max_iters=100,\n",
    "            )\n",
    "            li = [i]\n",
    "            li = hepi.masses_scan(\n",
    "                li,\n",
    "                [\n",
    "                    1000022,\n",
    "                    1000023,\n",
    "                    1000024,\n",
    "                ],\n",
    "                range(100, 1500, 10),\n",
    "                negate=[1000022],\n",
    "            )\n",
    "            li = hepi.seven_point_scan(li)\n",
    "            li = hepi.pdf_scan(li)\n",
    "            # li = hepi.change_where(li, {\"precision\": 0.0001, \"max_iters\": 200}, pdfset_nlo=0)\n",
    "            rs_dl = rs.run(li, skip=True, run=False, parse=False)"
   ]
  },
  {
   "cell_type": "markdown",
   "id": "c10932c6",
   "metadata": {},
   "source": [
    "# aNNLO+NNLL sleptons"
   ]
  },
  {
   "cell_type": "code",
   "execution_count": 12,
   "id": "a67dfa0b",
   "metadata": {},
   "outputs": [
    {
     "name": "stdout",
     "output_type": "stream",
     "text": [
      "Running: 9630 jobs\n",
      "Running: 9630 jobs\n",
      "Running: 9630 jobs\n",
      "Running: 9630 jobs\n"
     ]
    },
    {
     "data": {
      "application/javascript": [
       "\n",
       "            setTimeout(function() {\n",
       "                var nbb_cell_id = 12;\n",
       "                var nbb_unformatted_code = \"params = [\\n    \\\"wino.in\\\",\\n]\\npss = [\\n    (+1000011, -1000011),\\n    (+2000011, -2000011),\\n]\\nfor energy in [13000, 13600]:\\n    hepi.set_output_dir(\\\"output_\\\" + str(energy) + \\\"_sleptons/\\\")\\n    for pa, pb in pss:\\n        for param in params:\\n            i = hepi.Input(\\n                hepi.Order.aNNLO_PLUS_NNLL,\\n                energy,\\n                pa,\\n                pb,\\n                param,\\n                \\\"PDF4LHC21_mc\\\",\\n                \\\"PDF4LHC21_mc\\\",\\n                1.0,\\n                1.0,\\n                id=\\\"0.0.0\\\",\\n                precision=0.001,\\n                max_iters=100,\\n            )\\n            li = [i]\\n            li = hepi.masses_scan(\\n                li,\\n                [\\n                    1000011,\\n                    2000011,\\n                    1000012,\\n                    1000013,\\n                    2000013,\\n                    1000014,\\n                    1000015,\\n                    2000015,\\n                    1000016,\\n                    1000022,\\n                    1000023,\\n                    1000024,\\n                ],\\n                range(100, 1000, 10),\\n            )\\n            li = hepi.seven_point_scan(li)\\n            li = hepi.pdf_scan(li)\\n            # li = hepi.change_where(li, {\\\"precision\\\": 0.0001, \\\"max_iters\\\": 200}, pdfset_nlo=0)\\n            rs_dl = rs.run(li, skip=True, run=False, parse=False)\";\n",
       "                var nbb_formatted_code = \"params = [\\n    \\\"wino.in\\\",\\n]\\npss = [\\n    (+1000011, -1000011),\\n    (+2000011, -2000011),\\n]\\nfor energy in [13000, 13600]:\\n    hepi.set_output_dir(\\\"output_\\\" + str(energy) + \\\"_sleptons/\\\")\\n    for pa, pb in pss:\\n        for param in params:\\n            i = hepi.Input(\\n                hepi.Order.aNNLO_PLUS_NNLL,\\n                energy,\\n                pa,\\n                pb,\\n                param,\\n                \\\"PDF4LHC21_mc\\\",\\n                \\\"PDF4LHC21_mc\\\",\\n                1.0,\\n                1.0,\\n                id=\\\"0.0.0\\\",\\n                precision=0.001,\\n                max_iters=100,\\n            )\\n            li = [i]\\n            li = hepi.masses_scan(\\n                li,\\n                [\\n                    1000011,\\n                    2000011,\\n                    1000012,\\n                    1000013,\\n                    2000013,\\n                    1000014,\\n                    1000015,\\n                    2000015,\\n                    1000016,\\n                    1000022,\\n                    1000023,\\n                    1000024,\\n                ],\\n                range(100, 1000, 10),\\n            )\\n            li = hepi.seven_point_scan(li)\\n            li = hepi.pdf_scan(li)\\n            # li = hepi.change_where(li, {\\\"precision\\\": 0.0001, \\\"max_iters\\\": 200}, pdfset_nlo=0)\\n            rs_dl = rs.run(li, skip=True, run=False, parse=False)\";\n",
       "                var nbb_cells = Jupyter.notebook.get_cells();\n",
       "                for (var i = 0; i < nbb_cells.length; ++i) {\n",
       "                    if (nbb_cells[i].input_prompt_number == nbb_cell_id) {\n",
       "                        if (nbb_cells[i].get_text() == nbb_unformatted_code) {\n",
       "                             nbb_cells[i].set_text(nbb_formatted_code);\n",
       "                        }\n",
       "                        break;\n",
       "                    }\n",
       "                }\n",
       "            }, 500);\n",
       "            "
      ],
      "text/plain": [
       "<IPython.core.display.Javascript object>"
      ]
     },
     "metadata": {},
     "output_type": "display_data"
    }
   ],
   "source": [
    "params = [\n",
    "    \"sleptons.slha\",\n",
    "]\n",
    "pss = [\n",
    "    (+1000011, -1000011),\n",
    "    (+2000011, -2000011),\n",
    "]\n",
    "for energy in [13000, 13600]:\n",
    "    hepi.set_output_dir(\"output_\" + str(energy) + \"_sleptons/\")\n",
    "    for pa, pb in pss:\n",
    "        for param in params:\n",
    "            i = hepi.Input(\n",
    "                hepi.Order.aNNLO_PLUS_NNLL,\n",
    "                energy,\n",
    "                pa,\n",
    "                pb,\n",
    "                param,\n",
    "                \"PDF4LHC21_mc\",\n",
    "                \"PDF4LHC21_mc\",\n",
    "                1.0,\n",
    "                1.0,\n",
    "                id=\"0.0.0\",\n",
    "                precision=0.001,\n",
    "                max_iters=100,\n",
    "            )\n",
    "            li = [i]\n",
    "            li = hepi.masses_scan(\n",
    "                li,\n",
    "                [\n",
    "                    1000011,\n",
    "                    2000011,\n",
    "                    1000012,\n",
    "                    1000013,\n",
    "                    2000013,\n",
    "                    1000014,\n",
    "                    1000015,\n",
    "                    2000015,\n",
    "                    1000016,\n",
    "                ],\n",
    "                range(100, 1000, 10),\n",
    "            )\n",
    "            li = hepi.seven_point_scan(li)\n",
    "            li = hepi.pdf_scan(li)\n",
    "            # li = hepi.change_where(li, {\"precision\": 0.0001, \"max_iters\": 200}, pdfset_nlo=0)\n",
    "            rs_dl = rs.run(li, skip=True, run=False, parse=False)"
   ]
  },
  {
   "cell_type": "code",
   "execution_count": null,
   "id": "5a466209",
   "metadata": {},
   "outputs": [],
   "source": []
  }
 ],
 "metadata": {
  "kernelspec": {
   "display_name": "Python 3 (ipykernel)",
   "language": "python",
   "name": "python3"
  },
  "language_info": {
   "codemirror_mode": {
    "name": "ipython",
    "version": 3
   },
   "file_extension": ".py",
   "mimetype": "text/x-python",
   "name": "python",
   "nbconvert_exporter": "python",
   "pygments_lexer": "ipython3",
   "version": "3.8.13"
  }
 },
 "nbformat": 4,
 "nbformat_minor": 5
}
