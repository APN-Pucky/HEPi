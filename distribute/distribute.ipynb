{
 "cells": [
  {
   "cell_type": "markdown",
   "id": "92353069",
   "metadata": {},
   "source": [
    "# Scenarios\n",
    "\n",
    "The scenarios are taken from https://twiki.cern.ch/twiki/bin/view/LHCPhysics/SUSYCrossSections.\n",
    "\n",
    "Modifications:\n",
    "-   we set the STAUMIX values to maximally mixed for sleptons\n",
    "-   we manually set the massses of all particles tagged with an @a or {M...} "
   ]
  },
  {
   "cell_type": "code",
   "execution_count": 1,
   "id": "6c1a697f",
   "metadata": {},
   "outputs": [
    {
     "name": "stdout",
     "output_type": "stream",
     "text": [
      "0.1.13.84+dirty\n",
      "~/git/resummino/build\n"
     ]
    }
   ],
   "source": [
    "#%load_ext nb_black\n",
    "import hepi\n",
    "\n",
    "\n",
    "print(hepi.__version__)\n",
    "import smpl\n",
    "from smpl import data\n",
    "import numpy as np\n",
    "import hepi.resummino as rs\n",
    "import hepi.util as util\n",
    "import matplotlib.pyplot as plt\n",
    "\n",
    "rs.set_path(\"~/git/resummino/build\")\n",
    "print(rs.get_path())\n",
    "rs.default_resummino_runner._check_path()\n",
    "print(rs.get_version())\n",
    "\n",
    "test_lo = False\n",
    "analyse  = True # else generation\n",
    "\n",
    "plt.rcParams.update({'font.size': 15})\n",
    "plt.rc('legend', fontsize=12)\n",
    "#rm tex files\n",
    "from smpl import io\n",
    "import os\n",
    "for _,_,f in io.files(\".tex\"):\n",
    "    os.remove(f)"
   ]
  },
  {
   "cell_type": "markdown",
   "id": "c10932c6",
   "metadata": {},
   "source": [
    "# aNNLO+NNLL sleptons"
   ]
  },
  {
   "cell_type": "code",
   "execution_count": 3,
   "id": "a67dfa0b",
   "metadata": {
    "scrolled": false
   },
   "outputs": [
    {
     "name": "stderr",
     "output_type": "stream",
     "text": [
      "/home/apn/.local/lib/python3.9/site-packages/hepi/input.py:283: RuntimeWarning: Could not set new central scale to average of masses.\n",
      "  warnings.warn(\"Could not set new central scale to average of masses.\",\n"
     ]
    },
    {
     "data": {
      "application/json": {
       "ascii": false,
       "bar_format": null,
       "colour": null,
       "elapsed": 0.0313563346862793,
       "initial": 0,
       "n": 0,
       "ncols": null,
       "nrows": 81,
       "postfix": null,
       "prefix": "QUEUEING TASKS | Checking input",
       "rate": null,
       "total": 470,
       "unit": "it",
       "unit_divisor": 1000,
       "unit_scale": false
      },
      "application/vnd.jupyter.widget-view+json": {
       "model_id": "94c1e1a3b6b94376a8bbfa503bfe6add",
       "version_major": 2,
       "version_minor": 0
      },
      "text/plain": [
       "QUEUEING TASKS | Checking input:   0%|          | 0/470 [00:00<?, ?it/s]"
      ]
     },
     "metadata": {},
     "output_type": "display_data"
    },
    {
     "data": {
      "application/json": {
       "ascii": false,
       "bar_format": null,
       "colour": null,
       "elapsed": 0.0365750789642334,
       "initial": 0,
       "n": 0,
       "ncols": null,
       "nrows": 81,
       "postfix": null,
       "prefix": "PROCESSING TASKS | Checking input",
       "rate": null,
       "total": 470,
       "unit": "it",
       "unit_divisor": 1000,
       "unit_scale": false
      },
      "application/vnd.jupyter.widget-view+json": {
       "model_id": "c960026c9b0f4ff4a691eda7d37717bd",
       "version_major": 2,
       "version_minor": 0
      },
      "text/plain": [
       "PROCESSING TASKS | Checking input:   0%|          | 0/470 [00:00<?, ?it/s]"
      ]
     },
     "metadata": {},
     "output_type": "display_data"
    },
    {
     "data": {
      "application/json": {
       "ascii": false,
       "bar_format": null,
       "colour": null,
       "elapsed": 0.05458688735961914,
       "initial": 0,
       "n": 0,
       "ncols": null,
       "nrows": 81,
       "postfix": null,
       "prefix": "COLLECTING RESULTS | Checking input",
       "rate": null,
       "total": 470,
       "unit": "it",
       "unit_divisor": 1000,
       "unit_scale": false
      },
      "application/vnd.jupyter.widget-view+json": {
       "model_id": "9d968e2f99e840cdb3b04c20f811ad1c",
       "version_major": 2,
       "version_minor": 0
      },
      "text/plain": [
       "COLLECTING RESULTS | Checking input:   0%|          | 0/470 [00:00<?, ?it/s]"
      ]
     },
     "metadata": {},
     "output_type": "display_data"
    },
    {
     "name": "stdout",
     "output_type": "stream",
     "text": [
      "|||||||||||||||||||||||||||||||||||||||||||||||||||||||||||||||||||||||||||||||||||||||||||||||||||||||||||||||||||||||||||||||||||||||||||||||||||||||||||||= 470 jobs\n"
     ]
    },
    {
     "ename": "KeyboardInterrupt",
     "evalue": "",
     "output_type": "error",
     "traceback": [
      "\u001b[0;31m---------------------------------------------------------------------------\u001b[0m",
      "\u001b[0;31mKeyboardInterrupt\u001b[0m                         Traceback (most recent call last)",
      "Input \u001b[0;32mIn [3]\u001b[0m, in \u001b[0;36m<cell line: 9>\u001b[0;34m()\u001b[0m\n\u001b[1;32m     50\u001b[0m     rs_dl \u001b[38;5;241m=\u001b[39m rs\u001b[38;5;241m.\u001b[39mrun(li, skip\u001b[38;5;241m=\u001b[39m\u001b[38;5;28;01mFalse\u001b[39;00m, run\u001b[38;5;241m=\u001b[39m\u001b[38;5;28;01mFalse\u001b[39;00m, parse\u001b[38;5;241m=\u001b[39m\u001b[38;5;28;01mFalse\u001b[39;00m)\n\u001b[1;32m     51\u001b[0m \u001b[38;5;28;01melse\u001b[39;00m:\n\u001b[0;32m---> 52\u001b[0m     rs_dl \u001b[38;5;241m=\u001b[39m \u001b[43mrs\u001b[49m\u001b[38;5;241;43m.\u001b[39;49m\u001b[43mrun\u001b[49m\u001b[43m(\u001b[49m\u001b[43mli\u001b[49m\u001b[43m,\u001b[49m\u001b[43m \u001b[49m\u001b[43mskip\u001b[49m\u001b[38;5;241;43m=\u001b[39;49m\u001b[38;5;28;43;01mTrue\u001b[39;49;00m\u001b[43m,\u001b[49m\u001b[43m \u001b[49m\u001b[43mrun\u001b[49m\u001b[38;5;241;43m=\u001b[39;49m\u001b[38;5;28;43;01mTrue\u001b[39;49;00m\u001b[43m,\u001b[49m\u001b[43m \u001b[49m\u001b[43mparse\u001b[49m\u001b[38;5;241;43m=\u001b[39;49m\u001b[38;5;28;43;01mTrue\u001b[39;49;00m\u001b[43m,\u001b[49m\u001b[43mignore_error\u001b[49m\u001b[38;5;241;43m=\u001b[39;49m\u001b[38;5;28;43;01mTrue\u001b[39;49;00m\u001b[43m)\u001b[49m\n\u001b[1;32m     53\u001b[0m     rs_dl \u001b[38;5;241m=\u001b[39m hepi\u001b[38;5;241m.\u001b[39mpdf_errors(li,rs_dl)\n\u001b[1;32m     54\u001b[0m     rs_dl \u001b[38;5;241m=\u001b[39m hepi\u001b[38;5;241m.\u001b[39mscale_errors(li,rs_dl)\n",
      "File \u001b[0;32m~/.local/lib/python3.9/site-packages/hepi/run.py:178\u001b[0m, in \u001b[0;36mRunner.run\u001b[0;34m(self, params, skip, parse, parallel, sleep, run, ignore_error, **kwargs)\u001b[0m\n\u001b[1;32m    176\u001b[0m     sleep \u001b[38;5;241m=\u001b[39m \u001b[38;5;241m0\u001b[39m \u001b[38;5;28;01mif\u001b[39;00m parse \u001b[38;5;28;01melse\u001b[39;00m \u001b[38;5;241m5\u001b[39m\n\u001b[1;32m    177\u001b[0m \u001b[38;5;28;01mif\u001b[39;00m run:\n\u001b[0;32m--> 178\u001b[0m     \u001b[38;5;28;43mself\u001b[39;49m\u001b[38;5;241;43m.\u001b[39;49m\u001b[43m_run\u001b[49m\u001b[43m(\u001b[49m\u001b[43mrps\u001b[49m\u001b[43m,\u001b[49m\n\u001b[1;32m    179\u001b[0m \u001b[43m              \u001b[49m\u001b[43mwait\u001b[49m\u001b[38;5;241;43m=\u001b[39;49m\u001b[43mparse\u001b[49m\u001b[43m,\u001b[49m\n\u001b[1;32m    180\u001b[0m \u001b[43m              \u001b[49m\u001b[43mparallel\u001b[49m\u001b[38;5;241;43m=\u001b[39;49m\u001b[43mparallel\u001b[49m\u001b[43m,\u001b[49m\n\u001b[1;32m    181\u001b[0m \u001b[43m              \u001b[49m\u001b[43msleep\u001b[49m\u001b[38;5;241;43m=\u001b[39;49m\u001b[43msleep\u001b[49m\u001b[43m,\u001b[49m\n\u001b[1;32m    182\u001b[0m \u001b[43m              \u001b[49m\u001b[38;5;241;43m*\u001b[39;49m\u001b[38;5;241;43m*\u001b[39;49m\u001b[43mkwargs\u001b[49m\u001b[43m)\u001b[49m\n\u001b[1;32m    183\u001b[0m \u001b[38;5;28;01mif\u001b[39;00m parse:\n\u001b[1;32m    184\u001b[0m     outs \u001b[38;5;241m=\u001b[39m LD2DL(rps)[\u001b[38;5;124m\"\u001b[39m\u001b[38;5;124mout_file\u001b[39m\u001b[38;5;124m\"\u001b[39m]\n",
      "File \u001b[0;32m~/.local/lib/python3.9/site-packages/hepi/run.py:219\u001b[0m, in \u001b[0;36mRunner._run\u001b[0;34m(self, rps, wait, parallel, sleep, **kwargs)\u001b[0m\n\u001b[1;32m    217\u001b[0m \u001b[38;5;28;01mif\u001b[39;00m \u001b[38;5;129;01mnot\u001b[39;00m rp\u001b[38;5;241m.\u001b[39mskip:\n\u001b[1;32m    218\u001b[0m     command \u001b[38;5;241m=\u001b[39m template\u001b[38;5;241m.\u001b[39mformat(rp\u001b[38;5;241m.\u001b[39mexecute)\n\u001b[0;32m--> 219\u001b[0m     process \u001b[38;5;241m=\u001b[39m \u001b[43msubprocess\u001b[49m\u001b[38;5;241;43m.\u001b[39;49m\u001b[43mPopen\u001b[49m\u001b[43m(\u001b[49m\u001b[43mcommand\u001b[49m\u001b[43m,\u001b[49m\u001b[43m \u001b[49m\u001b[43mshell\u001b[49m\u001b[38;5;241;43m=\u001b[39;49m\u001b[38;5;28;43;01mTrue\u001b[39;49;00m\u001b[43m)\u001b[49m\n\u001b[1;32m    220\u001b[0m     processes\u001b[38;5;241m.\u001b[39mappend(process)\n\u001b[1;32m    221\u001b[0m     \u001b[38;5;28;01mif\u001b[39;00m \u001b[38;5;129;01mnot\u001b[39;00m parallel:\n",
      "File \u001b[0;32m/usr/lib/python3.9/subprocess.py:951\u001b[0m, in \u001b[0;36mPopen.__init__\u001b[0;34m(self, args, bufsize, executable, stdin, stdout, stderr, preexec_fn, close_fds, shell, cwd, env, universal_newlines, startupinfo, creationflags, restore_signals, start_new_session, pass_fds, user, group, extra_groups, encoding, errors, text, umask)\u001b[0m\n\u001b[1;32m    947\u001b[0m         \u001b[38;5;28;01mif\u001b[39;00m \u001b[38;5;28mself\u001b[39m\u001b[38;5;241m.\u001b[39mtext_mode:\n\u001b[1;32m    948\u001b[0m             \u001b[38;5;28mself\u001b[39m\u001b[38;5;241m.\u001b[39mstderr \u001b[38;5;241m=\u001b[39m io\u001b[38;5;241m.\u001b[39mTextIOWrapper(\u001b[38;5;28mself\u001b[39m\u001b[38;5;241m.\u001b[39mstderr,\n\u001b[1;32m    949\u001b[0m                     encoding\u001b[38;5;241m=\u001b[39mencoding, errors\u001b[38;5;241m=\u001b[39merrors)\n\u001b[0;32m--> 951\u001b[0m     \u001b[38;5;28;43mself\u001b[39;49m\u001b[38;5;241;43m.\u001b[39;49m\u001b[43m_execute_child\u001b[49m\u001b[43m(\u001b[49m\u001b[43margs\u001b[49m\u001b[43m,\u001b[49m\u001b[43m \u001b[49m\u001b[43mexecutable\u001b[49m\u001b[43m,\u001b[49m\u001b[43m \u001b[49m\u001b[43mpreexec_fn\u001b[49m\u001b[43m,\u001b[49m\u001b[43m \u001b[49m\u001b[43mclose_fds\u001b[49m\u001b[43m,\u001b[49m\n\u001b[1;32m    952\u001b[0m \u001b[43m                        \u001b[49m\u001b[43mpass_fds\u001b[49m\u001b[43m,\u001b[49m\u001b[43m \u001b[49m\u001b[43mcwd\u001b[49m\u001b[43m,\u001b[49m\u001b[43m \u001b[49m\u001b[43menv\u001b[49m\u001b[43m,\u001b[49m\n\u001b[1;32m    953\u001b[0m \u001b[43m                        \u001b[49m\u001b[43mstartupinfo\u001b[49m\u001b[43m,\u001b[49m\u001b[43m \u001b[49m\u001b[43mcreationflags\u001b[49m\u001b[43m,\u001b[49m\u001b[43m \u001b[49m\u001b[43mshell\u001b[49m\u001b[43m,\u001b[49m\n\u001b[1;32m    954\u001b[0m \u001b[43m                        \u001b[49m\u001b[43mp2cread\u001b[49m\u001b[43m,\u001b[49m\u001b[43m \u001b[49m\u001b[43mp2cwrite\u001b[49m\u001b[43m,\u001b[49m\n\u001b[1;32m    955\u001b[0m \u001b[43m                        \u001b[49m\u001b[43mc2pread\u001b[49m\u001b[43m,\u001b[49m\u001b[43m \u001b[49m\u001b[43mc2pwrite\u001b[49m\u001b[43m,\u001b[49m\n\u001b[1;32m    956\u001b[0m \u001b[43m                        \u001b[49m\u001b[43merrread\u001b[49m\u001b[43m,\u001b[49m\u001b[43m \u001b[49m\u001b[43merrwrite\u001b[49m\u001b[43m,\u001b[49m\n\u001b[1;32m    957\u001b[0m \u001b[43m                        \u001b[49m\u001b[43mrestore_signals\u001b[49m\u001b[43m,\u001b[49m\n\u001b[1;32m    958\u001b[0m \u001b[43m                        \u001b[49m\u001b[43mgid\u001b[49m\u001b[43m,\u001b[49m\u001b[43m \u001b[49m\u001b[43mgids\u001b[49m\u001b[43m,\u001b[49m\u001b[43m \u001b[49m\u001b[43muid\u001b[49m\u001b[43m,\u001b[49m\u001b[43m \u001b[49m\u001b[43mumask\u001b[49m\u001b[43m,\u001b[49m\n\u001b[1;32m    959\u001b[0m \u001b[43m                        \u001b[49m\u001b[43mstart_new_session\u001b[49m\u001b[43m)\u001b[49m\n\u001b[1;32m    960\u001b[0m \u001b[38;5;28;01mexcept\u001b[39;00m:\n\u001b[1;32m    961\u001b[0m     \u001b[38;5;66;03m# Cleanup if the child failed starting.\u001b[39;00m\n\u001b[1;32m    962\u001b[0m     \u001b[38;5;28;01mfor\u001b[39;00m f \u001b[38;5;129;01min\u001b[39;00m \u001b[38;5;28mfilter\u001b[39m(\u001b[38;5;28;01mNone\u001b[39;00m, (\u001b[38;5;28mself\u001b[39m\u001b[38;5;241m.\u001b[39mstdin, \u001b[38;5;28mself\u001b[39m\u001b[38;5;241m.\u001b[39mstdout, \u001b[38;5;28mself\u001b[39m\u001b[38;5;241m.\u001b[39mstderr)):\n",
      "File \u001b[0;32m/usr/lib/python3.9/subprocess.py:1777\u001b[0m, in \u001b[0;36mPopen._execute_child\u001b[0;34m(self, args, executable, preexec_fn, close_fds, pass_fds, cwd, env, startupinfo, creationflags, shell, p2cread, p2cwrite, c2pread, c2pwrite, errread, errwrite, restore_signals, gid, gids, uid, umask, start_new_session)\u001b[0m\n\u001b[1;32m   1775\u001b[0m errpipe_data \u001b[38;5;241m=\u001b[39m \u001b[38;5;28mbytearray\u001b[39m()\n\u001b[1;32m   1776\u001b[0m \u001b[38;5;28;01mwhile\u001b[39;00m \u001b[38;5;28;01mTrue\u001b[39;00m:\n\u001b[0;32m-> 1777\u001b[0m     part \u001b[38;5;241m=\u001b[39m \u001b[43mos\u001b[49m\u001b[38;5;241;43m.\u001b[39;49m\u001b[43mread\u001b[49m\u001b[43m(\u001b[49m\u001b[43merrpipe_read\u001b[49m\u001b[43m,\u001b[49m\u001b[43m \u001b[49m\u001b[38;5;241;43m50000\u001b[39;49m\u001b[43m)\u001b[49m\n\u001b[1;32m   1778\u001b[0m     errpipe_data \u001b[38;5;241m+\u001b[39m\u001b[38;5;241m=\u001b[39m part\n\u001b[1;32m   1779\u001b[0m     \u001b[38;5;28;01mif\u001b[39;00m \u001b[38;5;129;01mnot\u001b[39;00m part \u001b[38;5;129;01mor\u001b[39;00m \u001b[38;5;28mlen\u001b[39m(errpipe_data) \u001b[38;5;241m>\u001b[39m \u001b[38;5;241m50000\u001b[39m:\n",
      "\u001b[0;31mKeyboardInterrupt\u001b[0m: "
     ]
    }
   ],
   "source": [
    "params = [\n",
    "    \"sleptons.slha\",\n",
    "]\n",
    "pss = [\n",
    "    (+1000011, -1000011),  # l_L^+ l_L^-\n",
    "    (+2000011, -2000011),  # l_R^+ l_R^-\n",
    "    (+1000015, -1000015),  # l_1^+ l_1^-\n",
    "]\n",
    "for pa, pb in pss:\n",
    "    for energy in [13000, 13600]:\n",
    "        name = str(energy) + \"_sleptons_\" + str(pa) + \"_\" + str(pb)\n",
    "        hepi.set_output_dir(\"output_\" + name +\"/\")\n",
    "        rs.default_resummino_runner.set_output_dir(hepi.get_output_dir())\n",
    "        for param in params:\n",
    "            i = hepi.Input(\n",
    "                hepi.Order.LO if test_lo else hepi.Order.aNNLO_PLUS_NNLL,\n",
    "                energy,\n",
    "                pa,\n",
    "                pb,\n",
    "                param,\n",
    "                \"PDF4LHC21_40\",\n",
    "                \"PDF4LHC21_40\",\n",
    "                1.0,\n",
    "                1.0,\n",
    "                id=\"0.0.0\",\n",
    "                precision=0.001,\n",
    "                max_iters=50,\n",
    "            )\n",
    "            li = [i]\n",
    "            li = hepi.masses_scan(\n",
    "                li,\n",
    "                [\n",
    "                    1000011,\n",
    "                    2000011,\n",
    "                    1000012,\n",
    "                    1000013,\n",
    "                    2000013,\n",
    "                    1000014,\n",
    "                    1000015,\n",
    "                    2000015,\n",
    "                    1000016,\n",
    "                ],\n",
    "                range(100, 1010, 100),\n",
    "            )\n",
    "            if not test_lo:\n",
    "                li = hepi.seven_point_scan(li)\n",
    "                li = hepi.pdf_scan(li)\n",
    "                # li = hepi.change_where(li, {\"precision\": 0.0001, \"max_iters\": 200}, pdfset_nlo=0)\n",
    "                if not analyse:\n",
    "                    rs_dl = rs.run(li, skip=False, run=False, parse=False)\n",
    "                else:\n",
    "                    rs_dl = rs.run(li, skip=True, run=True, parse=True,ignore_error=True)\n",
    "                    rs_dl = hepi.pdf_errors(li,rs_dl)\n",
    "                    rs_dl = hepi.scale_errors(li,rs_dl)\n",
    "                    rs_dl = hepi.combine_errors(rs_dl)\n",
    "                    if energy == 13000:\n",
    "                        fig, axs = plt.subplots(2, 1, figsize=(6,4), sharex=True, gridspec_kw={'height_ratios': [2, 1]})         # Remove horizontal space between axes         \n",
    "                        fig.subplots_adjust(hspace=0)\n",
    "                        hepi.title(li[0],axe=axs[0],cms_energy=False,pdf_info=False,scenario=\"\")\n",
    "                        frac = rs_dl[\"aNNLO_PLUS_NNLL_NOERR\"][rs_dl[\"aNNLO_PLUS_NNLL_COMBINED\"].notnull()]\n",
    "                    hepi.mass_plot(rs_dl,\"aNNLO_PLUS_NNLL_NOERR\",1000011,axes=axs[0],mask = rs_dl[\"aNNLO_PLUS_NNLL_COMBINED\"].notnull(),tight=False,fmt=\" \",next_color=False,show=False,plot_data=False,logy=True,interpolate=True,fill=False,interpolator='cubic',pre=lambda a :np.log(a.clip(min=1e-22)),post=np.exp,init=False,interpolate_label=\"13.0 TeV\" if energy == 13000 else \"13.6 TeV\" )\n",
    "                    hepi.mass_plot(rs_dl,\"aNNLO_PLUS_NNLL_COMBINED\",1000011,axes=axs[0],mask = rs_dl[\"aNNLO_PLUS_NNLL_COMBINED\"].notnull(),tight=False,fit_fmt=\" \",next_color=True,show=False,plot_data=False,logy=True,interpolate=True,fill=True,interpolator='cubic',pre=lambda a  :np.log(a.clip(min=1e-22)),post=np.exp,init=False,label=\"\",interpolate_lower_uncertainty=False)\n",
    "                    hepi.mass_plot(rs_dl,\"aNNLO_PLUS_NNLL_NOERR\",1000011,axes=axs[1],yscale=1./frac,mask = rs_dl[\"aNNLO_PLUS_NNLL_COMBINED\"].notnull(),tight=False,yaxis=\"Ratio\",fmt=\" \",next_color=False,show=False,plot_data=False,logy=False,interpolate=True,fill=False,interpolator='cubic',pre=lambda a :np.log(a.clip(min=1e-22)),post=np.exp,init=False,label=\"\")\n",
    "                    hepi.mass_plot(rs_dl,\"aNNLO_PLUS_NNLL_COMBINED\",1000011,axes=axs[1],yscale=1./frac,mask = rs_dl[\"aNNLO_PLUS_NNLL_COMBINED\"].notnull(),tight=False,yaxis=\"Ratio\",fit_fmt=\" \",next_color=True,show=False,plot_data=False,logy=False,interpolate=True,fill=True,interpolator='cubic',pre=lambda a  :np.log(a.clip(min=1e-22)),post=np.exp,init=False,label=\"\",interpolate_lower_uncertainty=False)\n",
    "                    axs[0].set_ylim(5e-7,1)\n",
    "                    axs[1].set_ylim(0.25,1.75)\n",
    "                    axs[0].set_xlabel(None)\n",
    "                    axs[1].set_xlabel('$m_{\\\\tilde{l}}$ [GeV]')\n",
    "                    if energy == 13600:\n",
    "                        plt.savefig(name + \".pdf\",bbox_inches ='tight',pad_inches=0)\n",
    "                        plt.show()\n",
    "                    hepi.write_latex_table_transposed_header(rs_dl,\"aNNLO_PLUS_NNLL\",param+str(energy)+\".tex\",\"mass_1000011\")\n",
    "                    hepi.write_latex_table_transposed(rs_dl,\"aNNLO_PLUS_NNLL\",param+str(energy)+\".tex\",yscale=1000.)\n",
    "            else:\n",
    "                rs_dl = rs.run(li, skip=False, run=True, parse=True)\n",
    "                hepi.mass_plot(rs_dl,\"LO\",1000011,show=True,interpolator='exp')"
   ]
  },
  {
   "cell_type": "markdown",
   "id": "9c261ba6",
   "metadata": {},
   "source": [
    "# aNNLO+NNLL wino\n"
   ]
  },
  {
   "cell_type": "code",
   "execution_count": null,
   "id": "e050dbc9",
   "metadata": {
    "scrolled": false
   },
   "outputs": [
    {
     "name": "stderr",
     "output_type": "stream",
     "text": [
      "/home/apn/.local/lib/python3.9/site-packages/hepi/input.py:283: RuntimeWarning: Could not set new central scale to average of masses.\n",
      "  warnings.warn(\"Could not set new central scale to average of masses.\",\n"
     ]
    },
    {
     "data": {
      "application/json": {
       "ascii": false,
       "bar_format": null,
       "colour": null,
       "elapsed": 0.027578353881835938,
       "initial": 0,
       "n": 0,
       "ncols": null,
       "nrows": 81,
       "postfix": null,
       "prefix": "QUEUEING TASKS | Checking input",
       "rate": null,
       "total": 940,
       "unit": "it",
       "unit_divisor": 1000,
       "unit_scale": false
      },
      "application/vnd.jupyter.widget-view+json": {
       "model_id": "e45cee6e9c7d4c00a5003aa998c46105",
       "version_major": 2,
       "version_minor": 0
      },
      "text/plain": [
       "QUEUEING TASKS | Checking input:   0%|          | 0/940 [00:00<?, ?it/s]"
      ]
     },
     "metadata": {},
     "output_type": "display_data"
    },
    {
     "data": {
      "application/json": {
       "ascii": false,
       "bar_format": null,
       "colour": null,
       "elapsed": 0.033117055892944336,
       "initial": 0,
       "n": 0,
       "ncols": null,
       "nrows": 81,
       "postfix": null,
       "prefix": "PROCESSING TASKS | Checking input",
       "rate": null,
       "total": 940,
       "unit": "it",
       "unit_divisor": 1000,
       "unit_scale": false
      },
      "application/vnd.jupyter.widget-view+json": {
       "model_id": "4136e5dd4c254a5caf9d0860f75be3c7",
       "version_major": 2,
       "version_minor": 0
      },
      "text/plain": [
       "PROCESSING TASKS | Checking input:   0%|          | 0/940 [00:00<?, ?it/s]"
      ]
     },
     "metadata": {},
     "output_type": "display_data"
    },
    {
     "data": {
      "application/json": {
       "ascii": false,
       "bar_format": null,
       "colour": null,
       "elapsed": 0.031475067138671875,
       "initial": 0,
       "n": 0,
       "ncols": null,
       "nrows": 81,
       "postfix": null,
       "prefix": "COLLECTING RESULTS | Checking input",
       "rate": null,
       "total": 940,
       "unit": "it",
       "unit_divisor": 1000,
       "unit_scale": false
      },
      "application/vnd.jupyter.widget-view+json": {
       "model_id": "9ebfde9282074c6ea185490dfcb924c1",
       "version_major": 2,
       "version_minor": 0
      },
      "text/plain": [
       "COLLECTING RESULTS | Checking input:   0%|          | 0/940 [00:00<?, ?it/s]"
      ]
     },
     "metadata": {},
     "output_type": "display_data"
    },
    {
     "data": {
      "application/json": {
       "ascii": false,
       "bar_format": null,
       "colour": null,
       "elapsed": 0.030304908752441406,
       "initial": 0,
       "n": 0,
       "ncols": null,
       "nrows": 81,
       "postfix": null,
       "prefix": "QUEUEING TASKS | Preparing",
       "rate": null,
       "total": 940,
       "unit": "it",
       "unit_divisor": 1000,
       "unit_scale": false
      },
      "application/vnd.jupyter.widget-view+json": {
       "model_id": "a80eeedd617c46d1bc59ab180d19f66b",
       "version_major": 2,
       "version_minor": 0
      },
      "text/plain": [
       "QUEUEING TASKS | Preparing:   0%|          | 0/940 [00:00<?, ?it/s]"
      ]
     },
     "metadata": {},
     "output_type": "display_data"
    },
    {
     "data": {
      "application/json": {
       "ascii": false,
       "bar_format": null,
       "colour": null,
       "elapsed": 0.06872677803039551,
       "initial": 0,
       "n": 0,
       "ncols": null,
       "nrows": 81,
       "postfix": null,
       "prefix": "PROCESSING TASKS | Preparing",
       "rate": null,
       "total": 940,
       "unit": "it",
       "unit_divisor": 1000,
       "unit_scale": false
      },
      "application/vnd.jupyter.widget-view+json": {
       "model_id": "2d8e7d242dbe407b80bd315ab9a2c460",
       "version_major": 2,
       "version_minor": 0
      },
      "text/plain": [
       "PROCESSING TASKS | Preparing:   0%|          | 0/940 [00:00<?, ?it/s]"
      ]
     },
     "metadata": {},
     "output_type": "display_data"
    },
    {
     "data": {
      "application/json": {
       "ascii": false,
       "bar_format": null,
       "colour": null,
       "elapsed": 0.031419992446899414,
       "initial": 0,
       "n": 0,
       "ncols": null,
       "nrows": 81,
       "postfix": null,
       "prefix": "COLLECTING RESULTS | Preparing",
       "rate": null,
       "total": 940,
       "unit": "it",
       "unit_divisor": 1000,
       "unit_scale": false
      },
      "application/vnd.jupyter.widget-view+json": {
       "model_id": "e584b93ee2f84a84b95b4dfb960746b5",
       "version_major": 2,
       "version_minor": 0
      },
      "text/plain": [
       "COLLECTING RESULTS | Preparing:   0%|          | 0/940 [00:00<?, ?it/s]"
      ]
     },
     "metadata": {},
     "output_type": "display_data"
    },
    {
     "name": "stdout",
     "output_type": "stream",
     "text": [
      "Skipped: 940 Not skipped: 0\n"
     ]
    },
    {
     "data": {
      "application/json": {
       "ascii": false,
       "bar_format": null,
       "colour": null,
       "elapsed": 0.032245635986328125,
       "initial": 0,
       "n": 0,
       "ncols": null,
       "nrows": 81,
       "postfix": null,
       "prefix": "QUEUEING TASKS | Parsing",
       "rate": null,
       "total": 940,
       "unit": "it",
       "unit_divisor": 1000,
       "unit_scale": false
      },
      "application/vnd.jupyter.widget-view+json": {
       "model_id": "cb2d9c363d07417aa241214e71e94670",
       "version_major": 2,
       "version_minor": 0
      },
      "text/plain": [
       "QUEUEING TASKS | Parsing:   0%|          | 0/940 [00:00<?, ?it/s]"
      ]
     },
     "metadata": {},
     "output_type": "display_data"
    },
    {
     "data": {
      "application/json": {
       "ascii": false,
       "bar_format": null,
       "colour": null,
       "elapsed": 0.27437758445739746,
       "initial": 0,
       "n": 0,
       "ncols": null,
       "nrows": 81,
       "postfix": null,
       "prefix": "PROCESSING TASKS | Parsing",
       "rate": null,
       "total": 940,
       "unit": "it",
       "unit_divisor": 1000,
       "unit_scale": false
      },
      "application/vnd.jupyter.widget-view+json": {
       "model_id": "548320572e8546c9b97a1f7eac5184d7",
       "version_major": 2,
       "version_minor": 0
      },
      "text/plain": [
       "PROCESSING TASKS | Parsing:   0%|          | 0/940 [00:00<?, ?it/s]"
      ]
     },
     "metadata": {},
     "output_type": "display_data"
    },
    {
     "data": {
      "application/json": {
       "ascii": false,
       "bar_format": null,
       "colour": null,
       "elapsed": 0.027652502059936523,
       "initial": 0,
       "n": 0,
       "ncols": null,
       "nrows": 81,
       "postfix": null,
       "prefix": "COLLECTING RESULTS | Parsing",
       "rate": null,
       "total": 940,
       "unit": "it",
       "unit_divisor": 1000,
       "unit_scale": false
      },
      "application/vnd.jupyter.widget-view+json": {
       "model_id": "bad9641d2db74b02b1f6c1136f291d67",
       "version_major": 2,
       "version_minor": 0
      },
      "text/plain": [
       "COLLECTING RESULTS | Parsing:   0%|          | 0/940 [00:00<?, ?it/s]"
      ]
     },
     "metadata": {},
     "output_type": "display_data"
    },
    {
     "data": {
      "application/json": {
       "ascii": false,
       "bar_format": null,
       "colour": null,
       "elapsed": 0.02509593963623047,
       "initial": 0,
       "n": 0,
       "ncols": null,
       "nrows": 81,
       "postfix": null,
       "prefix": "QUEUEING TASKS | PDF uncertainty @ LO",
       "rate": null,
       "total": 20,
       "unit": "it",
       "unit_divisor": 1000,
       "unit_scale": false
      },
      "application/vnd.jupyter.widget-view+json": {
       "model_id": "051cd3cd559f4217ac08e9a07a61349c",
       "version_major": 2,
       "version_minor": 0
      },
      "text/plain": [
       "QUEUEING TASKS | PDF uncertainty @ LO:   0%|          | 0/20 [00:00<?, ?it/s]"
      ]
     },
     "metadata": {},
     "output_type": "display_data"
    },
    {
     "data": {
      "application/json": {
       "ascii": false,
       "bar_format": null,
       "colour": null,
       "elapsed": 0.11990165710449219,
       "initial": 0,
       "n": 0,
       "ncols": null,
       "nrows": 81,
       "postfix": null,
       "prefix": "PROCESSING TASKS | PDF uncertainty @ LO",
       "rate": null,
       "total": 20,
       "unit": "it",
       "unit_divisor": 1000,
       "unit_scale": false
      },
      "application/vnd.jupyter.widget-view+json": {
       "model_id": "45aa44131a454babb26ea8af27020b52",
       "version_major": 2,
       "version_minor": 0
      },
      "text/plain": [
       "PROCESSING TASKS | PDF uncertainty @ LO:   0%|          | 0/20 [00:00<?, ?it/s]"
      ]
     },
     "metadata": {},
     "output_type": "display_data"
    },
    {
     "data": {
      "application/json": {
       "ascii": false,
       "bar_format": null,
       "colour": null,
       "elapsed": 0.026762962341308594,
       "initial": 0,
       "n": 0,
       "ncols": null,
       "nrows": 81,
       "postfix": null,
       "prefix": "COLLECTING RESULTS | PDF uncertainty @ LO",
       "rate": null,
       "total": 20,
       "unit": "it",
       "unit_divisor": 1000,
       "unit_scale": false
      },
      "application/vnd.jupyter.widget-view+json": {
       "model_id": "b6ccf484e71c4102bca686311320cf1d",
       "version_major": 2,
       "version_minor": 0
      },
      "text/plain": [
       "COLLECTING RESULTS | PDF uncertainty @ LO:   0%|          | 0/20 [00:00<?, ?it/s]"
      ]
     },
     "metadata": {},
     "output_type": "display_data"
    },
    {
     "data": {
      "application/json": {
       "ascii": false,
       "bar_format": null,
       "colour": null,
       "elapsed": 0.02986431121826172,
       "initial": 0,
       "n": 0,
       "ncols": null,
       "nrows": 81,
       "postfix": null,
       "prefix": "QUEUEING TASKS | PDF uncertainty @ NLO",
       "rate": null,
       "total": 20,
       "unit": "it",
       "unit_divisor": 1000,
       "unit_scale": false
      },
      "application/vnd.jupyter.widget-view+json": {
       "model_id": "2aefa93a49ca4ebfade7d7506dfcf15b",
       "version_major": 2,
       "version_minor": 0
      },
      "text/plain": [
       "QUEUEING TASKS | PDF uncertainty @ NLO:   0%|          | 0/20 [00:00<?, ?it/s]"
      ]
     },
     "metadata": {},
     "output_type": "display_data"
    },
    {
     "data": {
      "application/json": {
       "ascii": false,
       "bar_format": null,
       "colour": null,
       "elapsed": 0.10956931114196777,
       "initial": 0,
       "n": 0,
       "ncols": null,
       "nrows": 81,
       "postfix": null,
       "prefix": "PROCESSING TASKS | PDF uncertainty @ NLO",
       "rate": null,
       "total": 20,
       "unit": "it",
       "unit_divisor": 1000,
       "unit_scale": false
      },
      "application/vnd.jupyter.widget-view+json": {
       "model_id": "71442a2844e5475fb15e9a637f2af1c3",
       "version_major": 2,
       "version_minor": 0
      },
      "text/plain": [
       "PROCESSING TASKS | PDF uncertainty @ NLO:   0%|          | 0/20 [00:00<?, ?it/s]"
      ]
     },
     "metadata": {},
     "output_type": "display_data"
    },
    {
     "data": {
      "application/json": {
       "ascii": false,
       "bar_format": null,
       "colour": null,
       "elapsed": 0.03948473930358887,
       "initial": 0,
       "n": 0,
       "ncols": null,
       "nrows": 81,
       "postfix": null,
       "prefix": "COLLECTING RESULTS | PDF uncertainty @ NLO",
       "rate": null,
       "total": 20,
       "unit": "it",
       "unit_divisor": 1000,
       "unit_scale": false
      },
      "application/vnd.jupyter.widget-view+json": {
       "model_id": "7492f29334ff4aaeba686a4308b9fa27",
       "version_major": 2,
       "version_minor": 0
      },
      "text/plain": [
       "COLLECTING RESULTS | PDF uncertainty @ NLO:   0%|          | 0/20 [00:00<?, ?it/s]"
      ]
     },
     "metadata": {},
     "output_type": "display_data"
    },
    {
     "data": {
      "application/json": {
       "ascii": false,
       "bar_format": null,
       "colour": null,
       "elapsed": 0.03154897689819336,
       "initial": 0,
       "n": 0,
       "ncols": null,
       "nrows": 81,
       "postfix": null,
       "prefix": "QUEUEING TASKS | PDF uncertainty @ aNNLO_PLUS_NNLL",
       "rate": null,
       "total": 20,
       "unit": "it",
       "unit_divisor": 1000,
       "unit_scale": false
      },
      "application/vnd.jupyter.widget-view+json": {
       "model_id": "e55ad7b222674cab87efcbc8d4f49997",
       "version_major": 2,
       "version_minor": 0
      },
      "text/plain": [
       "QUEUEING TASKS | PDF uncertainty @ aNNLO_PLUS_NNLL:   0%|          | 0/20 [00:00<?, ?it/s]"
      ]
     },
     "metadata": {},
     "output_type": "display_data"
    },
    {
     "data": {
      "application/json": {
       "ascii": false,
       "bar_format": null,
       "colour": null,
       "elapsed": 0.08622169494628906,
       "initial": 0,
       "n": 0,
       "ncols": null,
       "nrows": 81,
       "postfix": null,
       "prefix": "PROCESSING TASKS | PDF uncertainty @ aNNLO_PLUS_NNLL",
       "rate": null,
       "total": 20,
       "unit": "it",
       "unit_divisor": 1000,
       "unit_scale": false
      },
      "application/vnd.jupyter.widget-view+json": {
       "model_id": "9dbb0a94e5b242a198255b15e6149297",
       "version_major": 2,
       "version_minor": 0
      },
      "text/plain": [
       "PROCESSING TASKS | PDF uncertainty @ aNNLO_PLUS_NNLL:   0%|          | 0/20 [00:00<?, ?it/s]"
      ]
     },
     "metadata": {},
     "output_type": "display_data"
    },
    {
     "data": {
      "application/json": {
       "ascii": false,
       "bar_format": null,
       "colour": null,
       "elapsed": 0.029496431350708008,
       "initial": 0,
       "n": 0,
       "ncols": null,
       "nrows": 81,
       "postfix": null,
       "prefix": "COLLECTING RESULTS | PDF uncertainty @ aNNLO_PLUS_NNLL",
       "rate": null,
       "total": 20,
       "unit": "it",
       "unit_divisor": 1000,
       "unit_scale": false
      },
      "application/vnd.jupyter.widget-view+json": {
       "model_id": "3784ee879aa5451d8572b25124a5c49a",
       "version_major": 2,
       "version_minor": 0
      },
      "text/plain": [
       "COLLECTING RESULTS | PDF uncertainty @ aNNLO_PLUS_NNLL:   0%|          | 0/20 [00:00<?, ?it/s]"
      ]
     },
     "metadata": {},
     "output_type": "display_data"
    },
    {
     "data": {
      "application/json": {
       "ascii": false,
       "bar_format": null,
       "colour": null,
       "elapsed": 0.035538434982299805,
       "initial": 0,
       "n": 0,
       "ncols": null,
       "nrows": 81,
       "postfix": null,
       "prefix": "QUEUEING TASKS | Scale uncertainty @ LO",
       "rate": null,
       "total": 20,
       "unit": "it",
       "unit_divisor": 1000,
       "unit_scale": false
      },
      "application/vnd.jupyter.widget-view+json": {
       "model_id": "399489f1420748258d792200e2985360",
       "version_major": 2,
       "version_minor": 0
      },
      "text/plain": [
       "QUEUEING TASKS | Scale uncertainty @ LO:   0%|          | 0/20 [00:00<?, ?it/s]"
      ]
     },
     "metadata": {},
     "output_type": "display_data"
    },
    {
     "data": {
      "application/json": {
       "ascii": false,
       "bar_format": null,
       "colour": null,
       "elapsed": 0.06639695167541504,
       "initial": 0,
       "n": 0,
       "ncols": null,
       "nrows": 81,
       "postfix": null,
       "prefix": "PROCESSING TASKS | Scale uncertainty @ LO",
       "rate": null,
       "total": 20,
       "unit": "it",
       "unit_divisor": 1000,
       "unit_scale": false
      },
      "application/vnd.jupyter.widget-view+json": {
       "model_id": "6dfb88cc801e4793a049ce0e50016b2d",
       "version_major": 2,
       "version_minor": 0
      },
      "text/plain": [
       "PROCESSING TASKS | Scale uncertainty @ LO:   0%|          | 0/20 [00:00<?, ?it/s]"
      ]
     },
     "metadata": {},
     "output_type": "display_data"
    },
    {
     "data": {
      "application/json": {
       "ascii": false,
       "bar_format": null,
       "colour": null,
       "elapsed": 0.028713703155517578,
       "initial": 0,
       "n": 0,
       "ncols": null,
       "nrows": 81,
       "postfix": null,
       "prefix": "COLLECTING RESULTS | Scale uncertainty @ LO",
       "rate": null,
       "total": 20,
       "unit": "it",
       "unit_divisor": 1000,
       "unit_scale": false
      },
      "application/vnd.jupyter.widget-view+json": {
       "model_id": "2c96586911ca4729b3085d19badaa855",
       "version_major": 2,
       "version_minor": 0
      },
      "text/plain": [
       "COLLECTING RESULTS | Scale uncertainty @ LO:   0%|          | 0/20 [00:00<?, ?it/s]"
      ]
     },
     "metadata": {},
     "output_type": "display_data"
    },
    {
     "data": {
      "application/json": {
       "ascii": false,
       "bar_format": null,
       "colour": null,
       "elapsed": 0.030010223388671875,
       "initial": 0,
       "n": 0,
       "ncols": null,
       "nrows": 81,
       "postfix": null,
       "prefix": "QUEUEING TASKS | Scale uncertainty @ NLO",
       "rate": null,
       "total": 20,
       "unit": "it",
       "unit_divisor": 1000,
       "unit_scale": false
      },
      "application/vnd.jupyter.widget-view+json": {
       "model_id": "e42a173d3bf542a886f8bbb340d7ee7b",
       "version_major": 2,
       "version_minor": 0
      },
      "text/plain": [
       "QUEUEING TASKS | Scale uncertainty @ NLO:   0%|          | 0/20 [00:00<?, ?it/s]"
      ]
     },
     "metadata": {},
     "output_type": "display_data"
    },
    {
     "data": {
      "application/json": {
       "ascii": false,
       "bar_format": null,
       "colour": null,
       "elapsed": 0.2734987735748291,
       "initial": 0,
       "n": 0,
       "ncols": null,
       "nrows": 81,
       "postfix": null,
       "prefix": "PROCESSING TASKS | Scale uncertainty @ NLO",
       "rate": null,
       "total": 20,
       "unit": "it",
       "unit_divisor": 1000,
       "unit_scale": false
      },
      "application/vnd.jupyter.widget-view+json": {
       "model_id": "3d74139e15f74483a2c286f92a2a9977",
       "version_major": 2,
       "version_minor": 0
      },
      "text/plain": [
       "PROCESSING TASKS | Scale uncertainty @ NLO:   0%|          | 0/20 [00:00<?, ?it/s]"
      ]
     },
     "metadata": {},
     "output_type": "display_data"
    },
    {
     "data": {
      "application/json": {
       "ascii": false,
       "bar_format": null,
       "colour": null,
       "elapsed": 0.026469945907592773,
       "initial": 0,
       "n": 0,
       "ncols": null,
       "nrows": 81,
       "postfix": null,
       "prefix": "COLLECTING RESULTS | Scale uncertainty @ NLO",
       "rate": null,
       "total": 20,
       "unit": "it",
       "unit_divisor": 1000,
       "unit_scale": false
      },
      "application/vnd.jupyter.widget-view+json": {
       "model_id": "72024adec2004b63bcf1b5f9e8d27a86",
       "version_major": 2,
       "version_minor": 0
      },
      "text/plain": [
       "COLLECTING RESULTS | Scale uncertainty @ NLO:   0%|          | 0/20 [00:00<?, ?it/s]"
      ]
     },
     "metadata": {},
     "output_type": "display_data"
    },
    {
     "data": {
      "application/json": {
       "ascii": false,
       "bar_format": null,
       "colour": null,
       "elapsed": 0.03207588195800781,
       "initial": 0,
       "n": 0,
       "ncols": null,
       "nrows": 81,
       "postfix": null,
       "prefix": "QUEUEING TASKS | Scale uncertainty @ aNNLO_PLUS_NNLL",
       "rate": null,
       "total": 20,
       "unit": "it",
       "unit_divisor": 1000,
       "unit_scale": false
      },
      "application/vnd.jupyter.widget-view+json": {
       "model_id": "6c627e5081244f4787ce3a1abc17ab2c",
       "version_major": 2,
       "version_minor": 0
      },
      "text/plain": [
       "QUEUEING TASKS | Scale uncertainty @ aNNLO_PLUS_NNLL:   0%|          | 0/20 [00:00<?, ?it/s]"
      ]
     },
     "metadata": {},
     "output_type": "display_data"
    },
    {
     "data": {
      "application/json": {
       "ascii": false,
       "bar_format": null,
       "colour": null,
       "elapsed": 0.09871649742126465,
       "initial": 0,
       "n": 0,
       "ncols": null,
       "nrows": 81,
       "postfix": null,
       "prefix": "PROCESSING TASKS | Scale uncertainty @ aNNLO_PLUS_NNLL",
       "rate": null,
       "total": 20,
       "unit": "it",
       "unit_divisor": 1000,
       "unit_scale": false
      },
      "application/vnd.jupyter.widget-view+json": {
       "model_id": "8472607586804f0f8fd7e2370641a1c4",
       "version_major": 2,
       "version_minor": 0
      },
      "text/plain": [
       "PROCESSING TASKS | Scale uncertainty @ aNNLO_PLUS_NNLL:   0%|          | 0/20 [00:00<?, ?it/s]"
      ]
     },
     "metadata": {},
     "output_type": "display_data"
    },
    {
     "data": {
      "application/json": {
       "ascii": false,
       "bar_format": null,
       "colour": null,
       "elapsed": 0.02909374237060547,
       "initial": 0,
       "n": 0,
       "ncols": null,
       "nrows": 81,
       "postfix": null,
       "prefix": "COLLECTING RESULTS | Scale uncertainty @ aNNLO_PLUS_NNLL",
       "rate": null,
       "total": 20,
       "unit": "it",
       "unit_divisor": 1000,
       "unit_scale": false
      },
      "application/vnd.jupyter.widget-view+json": {
       "model_id": "4ab7c5131323452ab935c50a4b528580",
       "version_major": 2,
       "version_minor": 0
      },
      "text/plain": [
       "COLLECTING RESULTS | Scale uncertainty @ aNNLO_PLUS_NNLL:   0%|          | 0/20 [00:00<?, ?it/s]"
      ]
     },
     "metadata": {},
     "output_type": "display_data"
    },
    {
     "name": "stderr",
     "output_type": "stream",
     "text": [
      "/home/apn/.local/lib/python3.9/site-packages/hepi/results.py:286: RuntimeWarning: too bad numerical precision vs scale @ num:aNNLO_PLUS_NNLL 0.04045435475783379% vs scale:0.40541037224950827% to -0.18847517775507%\n",
      "  warnings.warn(\n",
      "/home/apn/.local/lib/python3.9/site-packages/hepi/results.py:286: RuntimeWarning: too bad numerical precision vs scale @ num:aNNLO_PLUS_NNLL 0.04230219169884242% vs scale:0.3571007674122106% to -0.19407321069839029%\n",
      "  warnings.warn(\n",
      "/home/apn/.local/lib/python3.9/site-packages/hepi/results.py:286: RuntimeWarning: too bad numerical precision vs scale @ num:aNNLO_PLUS_NNLL 0.04180527233142186% vs scale:0.3368956659138532% to -0.17152811497472129%\n",
      "  warnings.warn(\n",
      "/home/apn/.local/lib/python3.9/site-packages/hepi/results.py:286: RuntimeWarning: too bad numerical precision vs scale @ num:aNNLO_PLUS_NNLL 0.03931620674353476% vs scale:0.3180219752501102% to -0.14653354007815456%\n",
      "  warnings.warn(\n",
      "/home/apn/.local/lib/python3.9/site-packages/hepi/results.py:286: RuntimeWarning: too bad numerical precision vs scale @ num:aNNLO_PLUS_NNLL 0.04016020084875354% vs scale:0.3415231743661271% to -0.14611465553074063%\n",
      "  warnings.warn(\n",
      "/home/apn/.local/lib/python3.9/site-packages/hepi/results.py:286: RuntimeWarning: too bad numerical precision vs scale @ num:aNNLO_PLUS_NNLL 0.038146208614764976% vs scale:0.3483606908019055% to -0.09251524113670131%\n",
      "  warnings.warn(\n",
      "/home/apn/.local/lib/python3.9/site-packages/hepi/results.py:286: RuntimeWarning: too bad numerical precision vs scale @ num:aNNLO_PLUS_NNLL 0.04110071496586107% vs scale:0.291035009963225% to -0.10903776422996518%\n",
      "  warnings.warn(\n",
      "/home/apn/.local/lib/python3.9/site-packages/hepi/results.py:286: RuntimeWarning: too bad numerical precision vs scale @ num:aNNLO_PLUS_NNLL 0.041607136902026755% vs scale:0.2740421987912296% to -0.07662472004089768%\n",
      "  warnings.warn(\n",
      "/home/apn/.local/lib/python3.9/site-packages/hepi/results.py:286: RuntimeWarning: too bad numerical precision vs scale @ num:aNNLO_PLUS_NNLL 0.04186449449799023% vs scale:0.2609495567983933% to -0.07481806773610694%\n",
      "  warnings.warn(\n",
      "/home/apn/.local/lib/python3.9/site-packages/hepi/results.py:286: RuntimeWarning: too bad numerical precision vs scale @ num:aNNLO_PLUS_NNLL 0.03826552636215202% vs scale:0.2461239595054223% to -0.05456178280880036%\n",
      "  warnings.warn(\n",
      "/home/apn/.local/lib/python3.9/site-packages/hepi/results.py:286: RuntimeWarning: too bad numerical precision vs scale @ num:aNNLO_PLUS_NNLL 0.03981644227933535% vs scale:0.213373465480252% to -0.029517779817011057%\n",
      "  warnings.warn(\n",
      "/home/apn/.local/lib/python3.9/site-packages/hepi/results.py:286: RuntimeWarning: too bad numerical precision vs scale @ num:aNNLO_PLUS_NNLL 0.03917554077601054% vs scale:0.18788808224549283% to -0.027344881753317493%\n",
      "  warnings.warn(\n",
      "/home/apn/.local/lib/python3.9/site-packages/hepi/results.py:286: RuntimeWarning: too bad numerical precision vs scale @ num:aNNLO_PLUS_NNLL 0.04252037471388404% vs scale:0.20398841693712272% to -0.013849277044244657%\n",
      "  warnings.warn(\n",
      "/home/apn/.local/lib/python3.9/site-packages/hepi/input.py:283: RuntimeWarning: Could not set new central scale to average of masses.\n",
      "  warnings.warn(\"Could not set new central scale to average of masses.\",\n"
     ]
    },
    {
     "data": {
      "application/json": {
       "ascii": false,
       "bar_format": null,
       "colour": null,
       "elapsed": 0.020336389541625977,
       "initial": 0,
       "n": 0,
       "ncols": null,
       "nrows": 81,
       "postfix": null,
       "prefix": "QUEUEING TASKS | Checking input",
       "rate": null,
       "total": 940,
       "unit": "it",
       "unit_divisor": 1000,
       "unit_scale": false
      },
      "application/vnd.jupyter.widget-view+json": {
       "model_id": "157733b676524e31916c4ff877387880",
       "version_major": 2,
       "version_minor": 0
      },
      "text/plain": [
       "QUEUEING TASKS | Checking input:   0%|          | 0/940 [00:00<?, ?it/s]"
      ]
     },
     "metadata": {},
     "output_type": "display_data"
    },
    {
     "data": {
      "application/json": {
       "ascii": false,
       "bar_format": null,
       "colour": null,
       "elapsed": 0.02709794044494629,
       "initial": 0,
       "n": 0,
       "ncols": null,
       "nrows": 81,
       "postfix": null,
       "prefix": "PROCESSING TASKS | Checking input",
       "rate": null,
       "total": 940,
       "unit": "it",
       "unit_divisor": 1000,
       "unit_scale": false
      },
      "application/vnd.jupyter.widget-view+json": {
       "model_id": "b3c773a87a8e4821b26354e53791e99a",
       "version_major": 2,
       "version_minor": 0
      },
      "text/plain": [
       "PROCESSING TASKS | Checking input:   0%|          | 0/940 [00:00<?, ?it/s]"
      ]
     },
     "metadata": {},
     "output_type": "display_data"
    },
    {
     "data": {
      "application/json": {
       "ascii": false,
       "bar_format": null,
       "colour": null,
       "elapsed": 0.03299117088317871,
       "initial": 0,
       "n": 0,
       "ncols": null,
       "nrows": 81,
       "postfix": null,
       "prefix": "COLLECTING RESULTS | Checking input",
       "rate": null,
       "total": 940,
       "unit": "it",
       "unit_divisor": 1000,
       "unit_scale": false
      },
      "application/vnd.jupyter.widget-view+json": {
       "model_id": "935e677ec1ea407d996d27b85cf47226",
       "version_major": 2,
       "version_minor": 0
      },
      "text/plain": [
       "COLLECTING RESULTS | Checking input:   0%|          | 0/940 [00:00<?, ?it/s]"
      ]
     },
     "metadata": {},
     "output_type": "display_data"
    },
    {
     "data": {
      "application/json": {
       "ascii": false,
       "bar_format": null,
       "colour": null,
       "elapsed": 0.027196168899536133,
       "initial": 0,
       "n": 0,
       "ncols": null,
       "nrows": 81,
       "postfix": null,
       "prefix": "QUEUEING TASKS | Preparing",
       "rate": null,
       "total": 940,
       "unit": "it",
       "unit_divisor": 1000,
       "unit_scale": false
      },
      "application/vnd.jupyter.widget-view+json": {
       "model_id": "30dfbc23f97c4663b19693dc94fb7889",
       "version_major": 2,
       "version_minor": 0
      },
      "text/plain": [
       "QUEUEING TASKS | Preparing:   0%|          | 0/940 [00:00<?, ?it/s]"
      ]
     },
     "metadata": {},
     "output_type": "display_data"
    },
    {
     "data": {
      "application/json": {
       "ascii": false,
       "bar_format": null,
       "colour": null,
       "elapsed": 0.04608964920043945,
       "initial": 0,
       "n": 0,
       "ncols": null,
       "nrows": 81,
       "postfix": null,
       "prefix": "PROCESSING TASKS | Preparing",
       "rate": null,
       "total": 940,
       "unit": "it",
       "unit_divisor": 1000,
       "unit_scale": false
      },
      "application/vnd.jupyter.widget-view+json": {
       "model_id": "81af45bf2fc84c29bd58b3b3eaf329b4",
       "version_major": 2,
       "version_minor": 0
      },
      "text/plain": [
       "PROCESSING TASKS | Preparing:   0%|          | 0/940 [00:00<?, ?it/s]"
      ]
     },
     "metadata": {},
     "output_type": "display_data"
    },
    {
     "data": {
      "application/json": {
       "ascii": false,
       "bar_format": null,
       "colour": null,
       "elapsed": 0.02955460548400879,
       "initial": 0,
       "n": 0,
       "ncols": null,
       "nrows": 81,
       "postfix": null,
       "prefix": "COLLECTING RESULTS | Preparing",
       "rate": null,
       "total": 940,
       "unit": "it",
       "unit_divisor": 1000,
       "unit_scale": false
      },
      "application/vnd.jupyter.widget-view+json": {
       "model_id": "1fbe00a8458d4049a4d66101c2e13670",
       "version_major": 2,
       "version_minor": 0
      },
      "text/plain": [
       "COLLECTING RESULTS | Preparing:   0%|          | 0/940 [00:00<?, ?it/s]"
      ]
     },
     "metadata": {},
     "output_type": "display_data"
    },
    {
     "name": "stdout",
     "output_type": "stream",
     "text": [
      "Skipped: 940 Not skipped: 0\n"
     ]
    },
    {
     "data": {
      "application/json": {
       "ascii": false,
       "bar_format": null,
       "colour": null,
       "elapsed": 0.027013063430786133,
       "initial": 0,
       "n": 0,
       "ncols": null,
       "nrows": 81,
       "postfix": null,
       "prefix": "QUEUEING TASKS | Parsing",
       "rate": null,
       "total": 940,
       "unit": "it",
       "unit_divisor": 1000,
       "unit_scale": false
      },
      "application/vnd.jupyter.widget-view+json": {
       "model_id": "bb51bc8347444c11a2c453621330f3a1",
       "version_major": 2,
       "version_minor": 0
      },
      "text/plain": [
       "QUEUEING TASKS | Parsing:   0%|          | 0/940 [00:00<?, ?it/s]"
      ]
     },
     "metadata": {},
     "output_type": "display_data"
    },
    {
     "data": {
      "application/json": {
       "ascii": false,
       "bar_format": null,
       "colour": null,
       "elapsed": 0.09125351905822754,
       "initial": 0,
       "n": 0,
       "ncols": null,
       "nrows": 81,
       "postfix": null,
       "prefix": "PROCESSING TASKS | Parsing",
       "rate": null,
       "total": 940,
       "unit": "it",
       "unit_divisor": 1000,
       "unit_scale": false
      },
      "application/vnd.jupyter.widget-view+json": {
       "model_id": "8e808e733d53493ba019e8ded74719e5",
       "version_major": 2,
       "version_minor": 0
      },
      "text/plain": [
       "PROCESSING TASKS | Parsing:   0%|          | 0/940 [00:00<?, ?it/s]"
      ]
     },
     "metadata": {},
     "output_type": "display_data"
    },
    {
     "data": {
      "application/json": {
       "ascii": false,
       "bar_format": null,
       "colour": null,
       "elapsed": 0.029232501983642578,
       "initial": 0,
       "n": 0,
       "ncols": null,
       "nrows": 81,
       "postfix": null,
       "prefix": "COLLECTING RESULTS | Parsing",
       "rate": null,
       "total": 940,
       "unit": "it",
       "unit_divisor": 1000,
       "unit_scale": false
      },
      "application/vnd.jupyter.widget-view+json": {
       "model_id": "6baf183877bb4eb8a4fc53058b21174b",
       "version_major": 2,
       "version_minor": 0
      },
      "text/plain": [
       "COLLECTING RESULTS | Parsing:   0%|          | 0/940 [00:00<?, ?it/s]"
      ]
     },
     "metadata": {},
     "output_type": "display_data"
    },
    {
     "data": {
      "application/json": {
       "ascii": false,
       "bar_format": null,
       "colour": null,
       "elapsed": 0.026610612869262695,
       "initial": 0,
       "n": 0,
       "ncols": null,
       "nrows": 81,
       "postfix": null,
       "prefix": "QUEUEING TASKS | PDF uncertainty @ LO",
       "rate": null,
       "total": 20,
       "unit": "it",
       "unit_divisor": 1000,
       "unit_scale": false
      },
      "application/vnd.jupyter.widget-view+json": {
       "model_id": "6deb5fbbfbc14d8e9ccac544686d4525",
       "version_major": 2,
       "version_minor": 0
      },
      "text/plain": [
       "QUEUEING TASKS | PDF uncertainty @ LO:   0%|          | 0/20 [00:00<?, ?it/s]"
      ]
     },
     "metadata": {},
     "output_type": "display_data"
    },
    {
     "data": {
      "application/json": {
       "ascii": false,
       "bar_format": null,
       "colour": null,
       "elapsed": 0.08867526054382324,
       "initial": 0,
       "n": 0,
       "ncols": null,
       "nrows": 81,
       "postfix": null,
       "prefix": "PROCESSING TASKS | PDF uncertainty @ LO",
       "rate": null,
       "total": 20,
       "unit": "it",
       "unit_divisor": 1000,
       "unit_scale": false
      },
      "application/vnd.jupyter.widget-view+json": {
       "model_id": "7865d87bd2ba49d09b323adb7e8c30d1",
       "version_major": 2,
       "version_minor": 0
      },
      "text/plain": [
       "PROCESSING TASKS | PDF uncertainty @ LO:   0%|          | 0/20 [00:00<?, ?it/s]"
      ]
     },
     "metadata": {},
     "output_type": "display_data"
    },
    {
     "data": {
      "application/json": {
       "ascii": false,
       "bar_format": null,
       "colour": null,
       "elapsed": 0.02819228172302246,
       "initial": 0,
       "n": 0,
       "ncols": null,
       "nrows": 81,
       "postfix": null,
       "prefix": "COLLECTING RESULTS | PDF uncertainty @ LO",
       "rate": null,
       "total": 20,
       "unit": "it",
       "unit_divisor": 1000,
       "unit_scale": false
      },
      "application/vnd.jupyter.widget-view+json": {
       "model_id": "28343fee9b7f4a3086862f95cff732c2",
       "version_major": 2,
       "version_minor": 0
      },
      "text/plain": [
       "COLLECTING RESULTS | PDF uncertainty @ LO:   0%|          | 0/20 [00:00<?, ?it/s]"
      ]
     },
     "metadata": {},
     "output_type": "display_data"
    },
    {
     "data": {
      "application/json": {
       "ascii": false,
       "bar_format": null,
       "colour": null,
       "elapsed": 0.030049800872802734,
       "initial": 0,
       "n": 0,
       "ncols": null,
       "nrows": 81,
       "postfix": null,
       "prefix": "QUEUEING TASKS | PDF uncertainty @ NLO",
       "rate": null,
       "total": 20,
       "unit": "it",
       "unit_divisor": 1000,
       "unit_scale": false
      },
      "application/vnd.jupyter.widget-view+json": {
       "model_id": "bb762235ece346b79aa125c5ca1eaf97",
       "version_major": 2,
       "version_minor": 0
      },
      "text/plain": [
       "QUEUEING TASKS | PDF uncertainty @ NLO:   0%|          | 0/20 [00:00<?, ?it/s]"
      ]
     },
     "metadata": {},
     "output_type": "display_data"
    },
    {
     "data": {
      "application/json": {
       "ascii": false,
       "bar_format": null,
       "colour": null,
       "elapsed": 0.054073333740234375,
       "initial": 0,
       "n": 0,
       "ncols": null,
       "nrows": 81,
       "postfix": null,
       "prefix": "PROCESSING TASKS | PDF uncertainty @ NLO",
       "rate": null,
       "total": 20,
       "unit": "it",
       "unit_divisor": 1000,
       "unit_scale": false
      },
      "application/vnd.jupyter.widget-view+json": {
       "model_id": "dba40bb920654fd08f685c82477b891b",
       "version_major": 2,
       "version_minor": 0
      },
      "text/plain": [
       "PROCESSING TASKS | PDF uncertainty @ NLO:   0%|          | 0/20 [00:00<?, ?it/s]"
      ]
     },
     "metadata": {},
     "output_type": "display_data"
    },
    {
     "data": {
      "application/json": {
       "ascii": false,
       "bar_format": null,
       "colour": null,
       "elapsed": 0.028171777725219727,
       "initial": 0,
       "n": 0,
       "ncols": null,
       "nrows": 81,
       "postfix": null,
       "prefix": "COLLECTING RESULTS | PDF uncertainty @ NLO",
       "rate": null,
       "total": 20,
       "unit": "it",
       "unit_divisor": 1000,
       "unit_scale": false
      },
      "application/vnd.jupyter.widget-view+json": {
       "model_id": "4fbfce53bc19487891418ba0be29ae11",
       "version_major": 2,
       "version_minor": 0
      },
      "text/plain": [
       "COLLECTING RESULTS | PDF uncertainty @ NLO:   0%|          | 0/20 [00:00<?, ?it/s]"
      ]
     },
     "metadata": {},
     "output_type": "display_data"
    },
    {
     "data": {
      "application/json": {
       "ascii": false,
       "bar_format": null,
       "colour": null,
       "elapsed": 0.030512094497680664,
       "initial": 0,
       "n": 0,
       "ncols": null,
       "nrows": 81,
       "postfix": null,
       "prefix": "QUEUEING TASKS | PDF uncertainty @ aNNLO_PLUS_NNLL",
       "rate": null,
       "total": 20,
       "unit": "it",
       "unit_divisor": 1000,
       "unit_scale": false
      },
      "application/vnd.jupyter.widget-view+json": {
       "model_id": "bf863087b4f74ca49b8a52dbee7d51a5",
       "version_major": 2,
       "version_minor": 0
      },
      "text/plain": [
       "QUEUEING TASKS | PDF uncertainty @ aNNLO_PLUS_NNLL:   0%|          | 0/20 [00:00<?, ?it/s]"
      ]
     },
     "metadata": {},
     "output_type": "display_data"
    },
    {
     "data": {
      "application/json": {
       "ascii": false,
       "bar_format": null,
       "colour": null,
       "elapsed": 0.11574411392211914,
       "initial": 0,
       "n": 0,
       "ncols": null,
       "nrows": 81,
       "postfix": null,
       "prefix": "PROCESSING TASKS | PDF uncertainty @ aNNLO_PLUS_NNLL",
       "rate": null,
       "total": 20,
       "unit": "it",
       "unit_divisor": 1000,
       "unit_scale": false
      },
      "application/vnd.jupyter.widget-view+json": {
       "model_id": "eee6597f31b6408ba6143ad45553044d",
       "version_major": 2,
       "version_minor": 0
      },
      "text/plain": [
       "PROCESSING TASKS | PDF uncertainty @ aNNLO_PLUS_NNLL:   0%|          | 0/20 [00:00<?, ?it/s]"
      ]
     },
     "metadata": {},
     "output_type": "display_data"
    },
    {
     "data": {
      "application/json": {
       "ascii": false,
       "bar_format": null,
       "colour": null,
       "elapsed": 0.02545952796936035,
       "initial": 0,
       "n": 0,
       "ncols": null,
       "nrows": 81,
       "postfix": null,
       "prefix": "COLLECTING RESULTS | PDF uncertainty @ aNNLO_PLUS_NNLL",
       "rate": null,
       "total": 20,
       "unit": "it",
       "unit_divisor": 1000,
       "unit_scale": false
      },
      "application/vnd.jupyter.widget-view+json": {
       "model_id": "7ace64486a1847caaa2a44147844f6c8",
       "version_major": 2,
       "version_minor": 0
      },
      "text/plain": [
       "COLLECTING RESULTS | PDF uncertainty @ aNNLO_PLUS_NNLL:   0%|          | 0/20 [00:00<?, ?it/s]"
      ]
     },
     "metadata": {},
     "output_type": "display_data"
    },
    {
     "data": {
      "application/json": {
       "ascii": false,
       "bar_format": null,
       "colour": null,
       "elapsed": 0.029578447341918945,
       "initial": 0,
       "n": 0,
       "ncols": null,
       "nrows": 81,
       "postfix": null,
       "prefix": "QUEUEING TASKS | Scale uncertainty @ LO",
       "rate": null,
       "total": 20,
       "unit": "it",
       "unit_divisor": 1000,
       "unit_scale": false
      },
      "application/vnd.jupyter.widget-view+json": {
       "model_id": "eb90fb4b8ce848aa998e7337bcf48306",
       "version_major": 2,
       "version_minor": 0
      },
      "text/plain": [
       "QUEUEING TASKS | Scale uncertainty @ LO:   0%|          | 0/20 [00:00<?, ?it/s]"
      ]
     },
     "metadata": {},
     "output_type": "display_data"
    },
    {
     "data": {
      "application/json": {
       "ascii": false,
       "bar_format": null,
       "colour": null,
       "elapsed": 0.10042119026184082,
       "initial": 0,
       "n": 0,
       "ncols": null,
       "nrows": 81,
       "postfix": null,
       "prefix": "PROCESSING TASKS | Scale uncertainty @ LO",
       "rate": null,
       "total": 20,
       "unit": "it",
       "unit_divisor": 1000,
       "unit_scale": false
      },
      "application/vnd.jupyter.widget-view+json": {
       "model_id": "6840520d70a2439f86f18cd621574923",
       "version_major": 2,
       "version_minor": 0
      },
      "text/plain": [
       "PROCESSING TASKS | Scale uncertainty @ LO:   0%|          | 0/20 [00:00<?, ?it/s]"
      ]
     },
     "metadata": {},
     "output_type": "display_data"
    },
    {
     "data": {
      "application/json": {
       "ascii": false,
       "bar_format": null,
       "colour": null,
       "elapsed": 0.026491165161132812,
       "initial": 0,
       "n": 0,
       "ncols": null,
       "nrows": 81,
       "postfix": null,
       "prefix": "COLLECTING RESULTS | Scale uncertainty @ LO",
       "rate": null,
       "total": 20,
       "unit": "it",
       "unit_divisor": 1000,
       "unit_scale": false
      },
      "application/vnd.jupyter.widget-view+json": {
       "model_id": "b9ac179f901e4b6d82ac077431dd5603",
       "version_major": 2,
       "version_minor": 0
      },
      "text/plain": [
       "COLLECTING RESULTS | Scale uncertainty @ LO:   0%|          | 0/20 [00:00<?, ?it/s]"
      ]
     },
     "metadata": {},
     "output_type": "display_data"
    },
    {
     "name": "stderr",
     "output_type": "stream",
     "text": [
      "/home/apn/.local/lib/python3.9/site-packages/hepi/results.py:286: RuntimeWarning: too bad numerical precision vs scale @ num:LO 0.04309664509704866% vs scale:0.2120437718733099% to -0.6469057675028789%\n",
      "  warnings.warn(\n"
     ]
    },
    {
     "data": {
      "application/json": {
       "ascii": false,
       "bar_format": null,
       "colour": null,
       "elapsed": 0.025516271591186523,
       "initial": 0,
       "n": 0,
       "ncols": null,
       "nrows": 81,
       "postfix": null,
       "prefix": "QUEUEING TASKS | Scale uncertainty @ NLO",
       "rate": null,
       "total": 20,
       "unit": "it",
       "unit_divisor": 1000,
       "unit_scale": false
      },
      "application/vnd.jupyter.widget-view+json": {
       "model_id": "01962c1b75fc4bc8b3e80801daf3bbb2",
       "version_major": 2,
       "version_minor": 0
      },
      "text/plain": [
       "QUEUEING TASKS | Scale uncertainty @ NLO:   0%|          | 0/20 [00:00<?, ?it/s]"
      ]
     },
     "metadata": {},
     "output_type": "display_data"
    },
    {
     "data": {
      "application/json": {
       "ascii": false,
       "bar_format": null,
       "colour": null,
       "elapsed": 0.09108233451843262,
       "initial": 0,
       "n": 0,
       "ncols": null,
       "nrows": 81,
       "postfix": null,
       "prefix": "PROCESSING TASKS | Scale uncertainty @ NLO",
       "rate": null,
       "total": 20,
       "unit": "it",
       "unit_divisor": 1000,
       "unit_scale": false
      },
      "application/vnd.jupyter.widget-view+json": {
       "model_id": "639e2c3a6f2e484d8b44e7de8ae8e7b0",
       "version_major": 2,
       "version_minor": 0
      },
      "text/plain": [
       "PROCESSING TASKS | Scale uncertainty @ NLO:   0%|          | 0/20 [00:00<?, ?it/s]"
      ]
     },
     "metadata": {},
     "output_type": "display_data"
    },
    {
     "data": {
      "application/json": {
       "ascii": false,
       "bar_format": null,
       "colour": null,
       "elapsed": 0.03088521957397461,
       "initial": 0,
       "n": 0,
       "ncols": null,
       "nrows": 81,
       "postfix": null,
       "prefix": "COLLECTING RESULTS | Scale uncertainty @ NLO",
       "rate": null,
       "total": 20,
       "unit": "it",
       "unit_divisor": 1000,
       "unit_scale": false
      },
      "application/vnd.jupyter.widget-view+json": {
       "model_id": "b84b85b5fc2742b3befaa8ae7a3dd58b",
       "version_major": 2,
       "version_minor": 0
      },
      "text/plain": [
       "COLLECTING RESULTS | Scale uncertainty @ NLO:   0%|          | 0/20 [00:00<?, ?it/s]"
      ]
     },
     "metadata": {},
     "output_type": "display_data"
    },
    {
     "data": {
      "application/json": {
       "ascii": false,
       "bar_format": null,
       "colour": null,
       "elapsed": 0.02797412872314453,
       "initial": 0,
       "n": 0,
       "ncols": null,
       "nrows": 81,
       "postfix": null,
       "prefix": "QUEUEING TASKS | Scale uncertainty @ aNNLO_PLUS_NNLL",
       "rate": null,
       "total": 20,
       "unit": "it",
       "unit_divisor": 1000,
       "unit_scale": false
      },
      "application/vnd.jupyter.widget-view+json": {
       "model_id": "28f2c4986f99403587adb8bb91d66160",
       "version_major": 2,
       "version_minor": 0
      },
      "text/plain": [
       "QUEUEING TASKS | Scale uncertainty @ aNNLO_PLUS_NNLL:   0%|          | 0/20 [00:00<?, ?it/s]"
      ]
     },
     "metadata": {},
     "output_type": "display_data"
    },
    {
     "data": {
      "application/json": {
       "ascii": false,
       "bar_format": null,
       "colour": null,
       "elapsed": 0.07150650024414062,
       "initial": 0,
       "n": 0,
       "ncols": null,
       "nrows": 81,
       "postfix": null,
       "prefix": "PROCESSING TASKS | Scale uncertainty @ aNNLO_PLUS_NNLL",
       "rate": null,
       "total": 20,
       "unit": "it",
       "unit_divisor": 1000,
       "unit_scale": false
      },
      "application/vnd.jupyter.widget-view+json": {
       "model_id": "64bb35eeee7f42949db1cfcbf52ff351",
       "version_major": 2,
       "version_minor": 0
      },
      "text/plain": [
       "PROCESSING TASKS | Scale uncertainty @ aNNLO_PLUS_NNLL:   0%|          | 0/20 [00:00<?, ?it/s]"
      ]
     },
     "metadata": {},
     "output_type": "display_data"
    },
    {
     "data": {
      "application/json": {
       "ascii": false,
       "bar_format": null,
       "colour": null,
       "elapsed": 0.02842998504638672,
       "initial": 0,
       "n": 0,
       "ncols": null,
       "nrows": 81,
       "postfix": null,
       "prefix": "COLLECTING RESULTS | Scale uncertainty @ aNNLO_PLUS_NNLL",
       "rate": null,
       "total": 20,
       "unit": "it",
       "unit_divisor": 1000,
       "unit_scale": false
      },
      "application/vnd.jupyter.widget-view+json": {
       "model_id": "c783989395d54cb1bf41e502fb72b80d",
       "version_major": 2,
       "version_minor": 0
      },
      "text/plain": [
       "COLLECTING RESULTS | Scale uncertainty @ aNNLO_PLUS_NNLL:   0%|          | 0/20 [00:00<?, ?it/s]"
      ]
     },
     "metadata": {},
     "output_type": "display_data"
    },
    {
     "name": "stderr",
     "output_type": "stream",
     "text": [
      "/home/apn/.local/lib/python3.9/site-packages/hepi/results.py:286: RuntimeWarning: too bad numerical precision vs scale @ num:aNNLO_PLUS_NNLL 0.042504779518476164% vs scale:0.3680169775711219% to -0.19312803752200894%\n",
      "  warnings.warn(\n",
      "/home/apn/.local/lib/python3.9/site-packages/hepi/results.py:286: RuntimeWarning: too bad numerical precision vs scale @ num:aNNLO_PLUS_NNLL 0.04241434348898593% vs scale:0.35194078791296% to -0.17283168618762182%\n",
      "  warnings.warn(\n",
      "/home/apn/.local/lib/python3.9/site-packages/hepi/results.py:286: RuntimeWarning: too bad numerical precision vs scale @ num:aNNLO_PLUS_NNLL 0.03910128610715482% vs scale:0.3182469601325751% to -0.16916657091272358%\n",
      "  warnings.warn(\n",
      "/home/apn/.local/lib/python3.9/site-packages/hepi/results.py:286: RuntimeWarning: too bad numerical precision vs scale @ num:aNNLO_PLUS_NNLL 0.039759457550221214% vs scale:0.33496563543567603% to -0.1339546680761239%\n",
      "  warnings.warn(\n",
      "/home/apn/.local/lib/python3.9/site-packages/hepi/results.py:286: RuntimeWarning: too bad numerical precision vs scale @ num:aNNLO_PLUS_NNLL 0.03824215449558389% vs scale:0.36543307013331394% to -0.09758381026860175%\n",
      "  warnings.warn(\n",
      "/home/apn/.local/lib/python3.9/site-packages/hepi/results.py:286: RuntimeWarning: too bad numerical precision vs scale @ num:aNNLO_PLUS_NNLL 0.040885506545121054% vs scale:0.3221304677912059% to -0.11516148420087435%\n",
      "  warnings.warn(\n",
      "/home/apn/.local/lib/python3.9/site-packages/hepi/results.py:286: RuntimeWarning: too bad numerical precision vs scale @ num:aNNLO_PLUS_NNLL 0.04107600651540869% vs scale:0.29373602063143384% to -0.09571598375988528%\n",
      "  warnings.warn(\n",
      "/home/apn/.local/lib/python3.9/site-packages/hepi/results.py:286: RuntimeWarning: too bad numerical precision vs scale @ num:aNNLO_PLUS_NNLL 0.0418665989487847% vs scale:0.25449282101514803% to -0.0858829179419384%\n",
      "  warnings.warn(\n",
      "/home/apn/.local/lib/python3.9/site-packages/hepi/results.py:286: RuntimeWarning: too bad numerical precision vs scale @ num:aNNLO_PLUS_NNLL 0.04064723177610515% vs scale:0.246134393294915% to -0.075762213432096%\n",
      "  warnings.warn(\n",
      "/home/apn/.local/lib/python3.9/site-packages/hepi/results.py:286: RuntimeWarning: too bad numerical precision vs scale @ num:aNNLO_PLUS_NNLL 0.03808440317315336% vs scale:0.21720161145090053% to -0.05235523955356897%\n",
      "  warnings.warn(\n",
      "/home/apn/.local/lib/python3.9/site-packages/hepi/results.py:286: RuntimeWarning: too bad numerical precision vs scale @ num:aNNLO_PLUS_NNLL 0.03965280501628812% vs scale:0.20845688140067628% to -0.026741101882480463%\n",
      "  warnings.warn(\n",
      "/home/apn/.local/lib/python3.9/site-packages/hepi/results.py:286: RuntimeWarning: too bad numerical precision vs scale @ num:aNNLO_PLUS_NNLL 0.03923155484102422% vs scale:0.19606617235197188% to -0.019759694109796118%\n",
      "  warnings.warn(\n"
     ]
    }
   ],
   "source": [
    "params = [\n",
    "    \"wino.slha\",\n",
    "]\n",
    "pss = [\n",
    "    ( 1000023, +1000024),  # N1C1p\n",
    "    ( 1000023, -1000024),  # N1C1m\n",
    "    (+1000024, -1000024),  # C1pC1m\n",
    "]\n",
    "for pa, pb in pss:\n",
    "    for energy in [13000, 13600]:\n",
    "        name = str(energy) + \"_wino_\" + str(pa) + \"_\" + str(pb)\n",
    "        hepi.set_output_dir(\n",
    "               \"output_\" + name + \"/\"\n",
    "        )\n",
    "        rs.default_resummino_runner.set_output_dir(hepi.get_output_dir())\n",
    "        for param in params:\n",
    "            i = hepi.Input(\n",
    "                hepi.Order.LO if test_lo else hepi.Order.aNNLO_PLUS_NNLL,\n",
    "                    energy,\n",
    "                    pa,\n",
    "                    pb,\n",
    "                    param,\n",
    "                    \"PDF4LHC21_40\",\n",
    "                    \"PDF4LHC21_40\",\n",
    "                    1.0,\n",
    "                    1.0,\n",
    "                    id=\"0.0.0\",\n",
    "                    precision=0.001,\n",
    "                    max_iters=50,\n",
    "                )\n",
    "            li = [i]\n",
    "            li = hepi.masses_scan(\n",
    "                    li,\n",
    "                    [\n",
    "                        1000022,\n",
    "                        1000023,\n",
    "                        1000024,\n",
    "                    ],\n",
    "                    range(100,2010,100),\n",
    "                )\n",
    "            if not test_lo:\n",
    "\n",
    "                li = hepi.seven_point_scan(li)\n",
    "                li = hepi.pdf_scan(li)\n",
    "                    # li = hepi.change_where(li, {\"precision\": 0.0001, \"max_iters\": 200}, pdfset_nlo=0)\n",
    "                if not analyse:\n",
    "                    rs_dl = rs.run(li, skip=False, run=False, parse=False)\n",
    "                else:\n",
    "                    rs_dl = rs.run(li, skip=True, run=True, parse=True,ignore_error=True)\n",
    "                    rs_dl = hepi.pdf_errors(li,rs_dl)\n",
    "                    rs_dl = hepi.scale_errors(li,rs_dl)\n",
    "                    rs_dl = hepi.combine_errors(rs_dl)\n",
    "                    if energy == 13000:\n",
    "                        fig, axs = plt.subplots(2, 1, figsize=(6,4), sharex=True, gridspec_kw={'height_ratios': [2, 1]})         # Remove horizontal space between axes         \n",
    "                        fig.subplots_adjust(hspace=0)\n",
    "                        hepi.title(li[0],axe=axs[0],cms_energy=False,pdf_info=False,scenario=\"\")\n",
    "                        frac = rs_dl[\"aNNLO_PLUS_NNLL_NOERR\"][rs_dl[\"aNNLO_PLUS_NNLL_COMBINED\"].notnull()]\n",
    "                    #hepi.mass_plot(rs_dl,\"LO_COMBINED\",1000022,mask = rs_dl[\"aNNLO_PLUS_NNLL_COMBINED\"].notnull(),show=True,logy=True,interpolate=True,fill=True,interpolator='cubic',pre=np.log,post=np.exp)\n",
    "                    #hepi.mass_plot(rs_dl,\"NLO_COMBINED\",1000022,mask = rs_dl[\"aNNLO_PLUS_NNLL_COMBINED\"].notnull(),show=True,logy=True,interpolate=True,fill=True,interpolator='cubic',pre=np.log,post=np.exp,init=False)\n",
    "                    \n",
    "                    hepi.mass_plot(rs_dl,\"aNNLO_PLUS_NNLL_NOERR\",1000022,axes=axs[0],mask = rs_dl[\"aNNLO_PLUS_NNLL_COMBINED\"].notnull(),tight=False,fmt=\" \",next_color=False,show=False,plot_data=False,logy=True,interpolate=True,fill=False,interpolator='cubic',pre=lambda a :np.log(a.clip(min=1e-22)),post=np.exp,init=False,interpolate_label=\"13.0 TeV\" if energy == 13000 else \"13.6 TeV\" )\n",
    "                    hepi.mass_plot(rs_dl,\"aNNLO_PLUS_NNLL_COMBINED\",1000022,axes=axs[0],mask = rs_dl[\"aNNLO_PLUS_NNLL_COMBINED\"].notnull(),tight=False,fit_fmt=\" \",next_color=True,show=False,plot_data=False,logy=True,interpolate=True,fill=True,interpolator='cubic',pre=lambda a  :np.log(a.clip(min=1e-22)),post=np.exp,init=False,label=\"\",interpolate_lower_uncertainty=False)\n",
    "                    hepi.mass_plot(rs_dl,\"aNNLO_PLUS_NNLL_NOERR\",1000022,axes=axs[1],yscale=1./frac,mask = rs_dl[\"aNNLO_PLUS_NNLL_COMBINED\"].notnull(),tight=False,yaxis=\"Ratio\",fmt=\" \",next_color=False,show=False,plot_data=False,logy=False,interpolate=True,fill=False,interpolator='cubic',pre=lambda a :np.log(a.clip(min=1e-22)),post=np.exp,init=False,label=\"\")\n",
    "                    hepi.mass_plot(rs_dl,\"aNNLO_PLUS_NNLL_COMBINED\",1000022,axes=axs[1],yscale=1./frac,mask = rs_dl[\"aNNLO_PLUS_NNLL_COMBINED\"].notnull(),tight=False,yaxis=\"Ratio\",fit_fmt=\" \",next_color=True,show=False,plot_data=False,logy=False,interpolate=True,fill=True,interpolator='cubic',pre=lambda a  :np.log(a.clip(min=1e-22)),post=np.exp,init=False,label=\"\",interpolate_lower_uncertainty=False)\n",
    "                    axs[0].set_ylim(5e-7,25)\n",
    "                    axs[1].set_ylim(-2.5,5.0)\n",
    "                    axs[0].set_xlabel(None)\n",
    "                    axs[1].set_xlabel('$m_{\\\\tilde{\\\\chi}}$ [GeV]')\n",
    "                    if energy == 13600:\n",
    "                        plt.savefig(name + \".pdf\",bbox_inches ='tight',pad_inches=0)\n",
    "                        plt.show()\n",
    "                    hepi.write_latex_table_transposed_header(rs_dl,\"aNNLO_PLUS_NNLL\",param+str(energy)+\".tex\",\"mass_1000022\")\n",
    "                    hepi.write_latex_table_transposed(rs_dl,\"aNNLO_PLUS_NNLL\",param+str(energy)+\".tex\",yscale=1000.)\n",
    "            else:\n",
    "                rs_dl = rs.run(li, skip=True, run=True, parse=True)\n",
    "                hepi.mass_plot(rs_dl,\"LO\",1000022,show=True,interpolator='cubic',pre=np.log,post=np.exp)"
   ]
  },
  {
   "cell_type": "markdown",
   "id": "da027400",
   "metadata": {},
   "source": [
    "# aNNLO+NNLL hino degenerate\n"
   ]
  },
  {
   "cell_type": "code",
   "execution_count": null,
   "id": "b344fabd",
   "metadata": {
    "scrolled": true
   },
   "outputs": [],
   "source": [
    "params = [\n",
    "    \"hino.slha\",\n",
    "]\n",
    "pss = [\n",
    "    (1000022, +1000024),  # N2C1p\n",
    "    (1000022, -1000024),  # N2C1m\n",
    "    (+1000024, -1000024),  # C1pC2m\n",
    "    (1000022, 1000023),  # N2N1\n",
    "]\n",
    "for pa, pb in pss:\n",
    "    for energy in [13000, 13600]:\n",
    "        # save to different folders to have some substructure\n",
    "        name = str(energy) + \"_hino_deg_\" + str(pa) + \"_\" + str(pb)\n",
    "        hepi.set_output_dir(\n",
    "            \"output_\" + name + \"/\"\n",
    "        )\n",
    "        rs.default_resummino_runner.set_output_dir(hepi.get_output_dir())\n",
    "        for param in params:\n",
    "            i = hepi.Input(\n",
    "                hepi.Order.LO if test_lo else hepi.Order.aNNLO_PLUS_NNLL,\n",
    "                energy,\n",
    "                pa,\n",
    "                pb,\n",
    "                param,\n",
    "                \"PDF4LHC21_40\",\n",
    "                \"PDF4LHC21_40\",\n",
    "                1.0,\n",
    "                1.0,\n",
    "                id=\"0.0.0\",\n",
    "                precision=0.001,\n",
    "                max_iters=50,\n",
    "            )\n",
    "            li = [i]\n",
    "            li = hepi.masses_scan(\n",
    "                li,\n",
    "                [\n",
    "                    1000022,\n",
    "                    1000023,\n",
    "                    1000024,\n",
    "                ],\n",
    "                range(100, 1510, 100),\n",
    "                negate=[1000022],\n",
    "            )\n",
    "            if not test_lo:\n",
    "                li = hepi.seven_point_scan(li)\n",
    "                li = hepi.pdf_scan(li)\n",
    "                # li = hepi.change_where(li, {\"precision\": 0.0001, \"max_iters\": 200}, pdfset_nlo=0)\n",
    "                if not analyse:\n",
    "                    rs_dl = rs.run(li, skip=False, run=False, parse=False)\n",
    "                else:\n",
    "                    rs_dl = rs.run(li, skip=True, run=True, parse=True,ignore_error=True)\n",
    "                    rs_dl = hepi.pdf_errors(li,rs_dl)\n",
    "                    rs_dl = hepi.scale_errors(li,rs_dl)\n",
    "                    rs_dl = hepi.combine_errors(rs_dl)\n",
    "                    if energy == 13000:\n",
    "                        fig, axs = plt.subplots(2, 1, figsize=(6,4), sharex=True, gridspec_kw={'height_ratios': [2, 1]})         # Remove horizontal space between axes         \n",
    "                        fig.subplots_adjust(hspace=0)\n",
    "                        hepi.title(li[0],axe=axs[0],cms_energy=False,pdf_info=False,scenario=\"\")\n",
    "                        frac = rs_dl[\"aNNLO_PLUS_NNLL_NOERR\"][rs_dl[\"aNNLO_PLUS_NNLL_COMBINED\"].notnull()]\n",
    "                    #hepi.mass_plot(rs_dl,\"LO_COMBINED\",1000022,mask = rs_dl[\"aNNLO_PLUS_NNLL_COMBINED\"].notnull(),show=True,logy=True,interpolate=True,fill=True,interpolator='cubic',pre=np.log,post=np.exp)\n",
    "                    #hepi.mass_plot(rs_dl,\"NLO_COMBINED\",1000022,mask = rs_dl[\"aNNLO_PLUS_NNLL_COMBINED\"].notnull(),show=True,logy=True,plot_data=False,interpolate=True,fill=True,interpolator='cubic',pre=np.log,post=np.exp,init=False)\n",
    "                    hepi.mass_plot(rs_dl,\"aNNLO_PLUS_NNLL_NOERR\",1000023,axes=axs[0],mask = rs_dl[\"aNNLO_PLUS_NNLL_COMBINED\"].notnull(),tight=False,fmt=\" \",next_color=False,show=False,plot_data=False,logy=True,interpolate=True,fill=False,interpolator='cubic',pre=lambda a :np.log(a.clip(min=1e-22)),post=np.exp,init=False,interpolate_label=\"13.0 TeV\" if energy == 13000 else \"13.6 TeV\" )\n",
    "                    hepi.mass_plot(rs_dl,\"aNNLO_PLUS_NNLL_COMBINED\",1000023,axes=axs[0],mask = rs_dl[\"aNNLO_PLUS_NNLL_COMBINED\"].notnull(),tight=False,fit_fmt=\" \",next_color=True,show=False,plot_data=False,logy=True,interpolate=True,fill=True,interpolator='cubic',pre=lambda a  :np.log(a.clip(min=1e-22)),post=np.exp,init=False,label=\"\",interpolate_lower_uncertainty=False)\n",
    "                    hepi.mass_plot(rs_dl,\"aNNLO_PLUS_NNLL_NOERR\",1000023,axes=axs[1],yscale=1./frac,mask = rs_dl[\"aNNLO_PLUS_NNLL_COMBINED\"].notnull(),tight=False,yaxis=\"Ratio\",fmt=\" \",next_color=False,show=False,plot_data=False,logy=False,interpolate=True,fill=False,interpolator='cubic',pre=lambda a :np.log(a.clip(min=1e-22)),post=np.exp,init=False,label=\"\")\n",
    "                    hepi.mass_plot(rs_dl,\"aNNLO_PLUS_NNLL_COMBINED\",1000023,axes=axs[1],yscale=1./frac,mask = rs_dl[\"aNNLO_PLUS_NNLL_COMBINED\"].notnull(),tight=False,yaxis=\"Ratio\",fit_fmt=\" \",next_color=True,show=False,plot_data=False,logy=False,interpolate=True,fill=True,interpolator='cubic',pre=lambda a  :np.log(a.clip(min=1e-22)),post=np.exp,init=False,label=\"\",interpolate_lower_uncertainty=False)\n",
    "                    axs[0].set_ylim(5e-7,10)\n",
    "                    axs[1].set_ylim(0,2.5)\n",
    "                    axs[0].set_xlabel(None)\n",
    "                    axs[1].set_xlabel('$m_{\\\\tilde{\\\\chi}}$ [GeV]')\n",
    "                    if energy == 13600:\n",
    "                        plt.savefig(name + \".pdf\",bbox_inches ='tight',pad_inches=0)\n",
    "                        plt.show()\n",
    "                    hepi.write_latex_table_transposed_header(rs_dl,\"aNNLO_PLUS_NNLL\",param+str(energy)+\".tex\",\"mass_1000023\")\n",
    "                    hepi.write_latex_table_transposed(rs_dl,\"aNNLO_PLUS_NNLL\",param+str(energy)+\".tex\",yscale=1000.)\n",
    "            else:\n",
    "                rs_dl = rs.run(li, skip=False, run=True, parse=True)\n",
    "                hepi.mass_plot(rs_dl,\"LO\",1000023,show=True,interpolator='exp')"
   ]
  },
  {
   "cell_type": "markdown",
   "id": "439fcbaa",
   "metadata": {},
   "source": [
    "# aNNLO+NNLL hino non-degenerate"
   ]
  },
  {
   "cell_type": "code",
   "execution_count": null,
   "id": "30e9708b",
   "metadata": {
    "scrolled": false
   },
   "outputs": [],
   "source": [
    "params = [\n",
    "    \"higgsino_slha_C1C1.slha\",\n",
    "]\n",
    "pss = [\n",
    "    ( 1000023, +1000024),  # N2C1p\n",
    "    ( 1000023, -1000024),  # N2C1m\n",
    "    (+1000024, -1000024),  # C1pC1m\n",
    "    ( 1000022,  1000023),  # N2N1\n",
    "]\n",
    "import urllib\n",
    "\n",
    "dl = hepi.load(\n",
    "    urllib.request.urlopen(\n",
    "        \"https://raw.githubusercontent.com/APN-Pucky/xsec/master/json/pp13_hinosplit_N2N1_NLO%2BNLL.json\"\n",
    "    ),\n",
    "    dimensions=2,\n",
    ")\n",
    "N1 = dl[\"N1\"]\n",
    "N2 = dl[\"N2\"]\n",
    "NX = dl[\"N1\"] / 2 + dl[\"N2\"] / 2\n",
    "for pa, pb in pss:\n",
    "    for energy in [13000, 13600]:\n",
    "        # save to different folders to have some substructure\n",
    "        name= str(energy) + \"_hino_nondeg_\" + str(pa) + \"_\" + str(pb)\n",
    "        hepi.set_output_dir(\n",
    "            \"output_\" + name + \"/\"\n",
    "        )\n",
    "        rs.default_resummino_runner.set_output_dir(hepi.get_output_dir())\n",
    "        for param in params:\n",
    "            i = hepi.Input(\n",
    "                hepi.Order.LO if test_lo else hepi.Order.aNNLO_PLUS_NNLL,\n",
    "                energy,\n",
    "                pa,\n",
    "                pb,\n",
    "                param,\n",
    "                \"PDF4LHC21_40\",\n",
    "                \"PDF4LHC21_40\",\n",
    "                1.0,\n",
    "                1.0,\n",
    "                id=\"0.0.0\",\n",
    "                precision=0.001,\n",
    "                max_iters=50,\n",
    "            )\n",
    "            li = [i]\n",
    "            li = hepi.slha_scan_rel(\n",
    "                li,\n",
    "                lambda r: [\n",
    "                    [\"MASS\", 1000022, N1[r]],\n",
    "                    [\"MASS\", 1000023, -N2[r]],\n",
    "                    [\"MASS\", 1000024, NX[r]],\n",
    "                ],\n",
    "                range(len(N1)),\n",
    "            )\n",
    "            if not test_lo:\n",
    "                li = hepi.seven_point_scan(li)\n",
    "                li = hepi.pdf_scan(li)\n",
    "                # li = hepi.change_where(li, {\"precision\": 0.0001, \"max_iters\": 200}, pdfset_nlo=0)\n",
    "                if not analyse:\n",
    "                    rs_dl = rs.run(li, skip=True, run=False, parse=False)\n",
    "                else:\n",
    "                    rs_dl = rs.run(li, skip=True, run=True, parse=True)\n",
    "                    \n",
    "                    \n",
    "                    rs_dl = hepi.pdf_errors(li,rs_dl)\n",
    "                    rs_dl = hepi.scale_errors(li,rs_dl)\n",
    "                    rs_dl = hepi.combine_errors(rs_dl)\n",
    "                    mask = rs_dl[\"aNNLO_PLUS_NNLL_COMBINED\"].notnull()\n",
    "                    #\"\"\"\n",
    "                    hepi.mapplot(rs_dl[mask],\"MASS_1000022\",\"MASS_1000024\",\"aNNLO_PLUS_NNLL_COMBINED\",xaxis=\"$m_{\\\\tilde{\\\\chi}_1^0}$ [GeV]\",yaxis=\"$m_{\\\\tilde{\\\\chi}_1^-}$ [GeV]\" , zaxis=\"$\\\\sigma_{\\\\mathrm{aNNLO+NNLL}}$ [pb]\")\n",
    "\n",
    "                    hepi.title(li[0],pdf_info=False,scenario=\"\")\n",
    "\n",
    "                    xx,yy = data.flatmesh(np.linspace(50,320,100),np.linspace(80,320,100))\n",
    "                    dll = hepi.interpolate_2d(rs_dl[mask],\"MASS_1000022\",\"MASS_1000024\",\"aNNLO_PLUS_NNLL_COMBINED\",xx,yy,interpolator=\"linearnd\",pre=np.log,post=np.exp)             \n",
    "                    hepi.mapplot(dll,\"MASS_1000022\",\"MASS_1000024\",\"aNNLO_PLUS_NNLL_COMBINED\",xaxis=\"$m_{\\\\tilde{\\\\chi}_1^0}$ [GeV]\",yaxis=\"$m_{\\\\tilde{\\\\chi}_1^-}$ [GeV]\" , zaxis=\"$\\\\sigma_{\\\\mathrm{aNNLO+NNLL}}$ [pb]\",fill_missing=False)\n",
    "                    \n",
    "                    hepi.title(li[0],pdf_info=False,scenario=\"\")\n",
    "                    plt.savefig(name + \".pdf\",bbox_inches ='tight',pad_inches=0)\n",
    "                    plt.show()\n",
    "                    #\"\"\"\n",
    "                    hepi.write_latex_table_transposed_header(rs_dl,\"aNNLO_PLUS_NNLL\",param+str(energy)+\".tex\",\"MASS_1000022\")\n",
    "                    hepi.write_latex_table_transposed_header(rs_dl,\"aNNLO_PLUS_NNLL\",param+str(energy)+\".tex\",\"MASS_1000023\")\n",
    "                    hepi.write_latex_table_transposed_header(rs_dl,\"aNNLO_PLUS_NNLL\",param+str(energy)+\".tex\",\"MASS_1000024\")\n",
    "                    hepi.write_latex_table_transposed(rs_dl,\"aNNLO_PLUS_NNLL\",param+str(energy)+\".tex\",yscale=1000.)\n",
    "                \n",
    "            else:\n",
    "                rs_dl = rs.run(li, skip=True, run=True, parse=True)\n",
    "                hepi.mapplot(rs_dl,\"MASS_1000022\",\"MASS_1000024\",\"LO\",xaxis=\"$m_{\\\\tilde{\\\\chi}_1^0}$ [GeV]\",yaxis=\"$m_{\\\\tilde{\\\\chi}_1^-}$ [GeV]\" , zaxis=\"$\\\\sigma_{\\\\mathrm{NLO+NLL}}$ [pb]\")"
   ]
  },
  {
   "cell_type": "markdown",
   "id": "e1cfe6b3",
   "metadata": {},
   "source": [
    "## Squark mass dependence in wino-charginos"
   ]
  },
  {
   "cell_type": "code",
   "execution_count": 4,
   "id": "03bef720",
   "metadata": {
    "scrolled": false
   },
   "outputs": [
    {
     "data": {
      "application/json": {
       "ascii": false,
       "bar_format": null,
       "colour": null,
       "elapsed": 0.027562379837036133,
       "initial": 0,
       "n": 0,
       "ncols": null,
       "nrows": 81,
       "postfix": null,
       "prefix": "QUEUEING TASKS | Checking input",
       "rate": null,
       "total": 18095,
       "unit": "it",
       "unit_divisor": 1000,
       "unit_scale": false
      },
      "application/vnd.jupyter.widget-view+json": {
       "model_id": "4344a1777fd04b1a9c6ecacafca4590d",
       "version_major": 2,
       "version_minor": 0
      },
      "text/plain": [
       "QUEUEING TASKS | Checking input:   0%|          | 0/18095 [00:00<?, ?it/s]"
      ]
     },
     "metadata": {},
     "output_type": "display_data"
    },
    {
     "data": {
      "application/json": {
       "ascii": false,
       "bar_format": null,
       "colour": null,
       "elapsed": 0.0328516960144043,
       "initial": 0,
       "n": 0,
       "ncols": null,
       "nrows": 81,
       "postfix": null,
       "prefix": "PROCESSING TASKS | Checking input",
       "rate": null,
       "total": 18095,
       "unit": "it",
       "unit_divisor": 1000,
       "unit_scale": false
      },
      "application/vnd.jupyter.widget-view+json": {
       "model_id": "2c6802ef6969492abe99c7f7b5ad64d8",
       "version_major": 2,
       "version_minor": 0
      },
      "text/plain": [
       "PROCESSING TASKS | Checking input:   0%|          | 0/18095 [00:00<?, ?it/s]"
      ]
     },
     "metadata": {},
     "output_type": "display_data"
    },
    {
     "data": {
      "application/json": {
       "ascii": false,
       "bar_format": null,
       "colour": null,
       "elapsed": 0.029303312301635742,
       "initial": 0,
       "n": 0,
       "ncols": null,
       "nrows": 81,
       "postfix": null,
       "prefix": "COLLECTING RESULTS | Checking input",
       "rate": null,
       "total": 18095,
       "unit": "it",
       "unit_divisor": 1000,
       "unit_scale": false
      },
      "application/vnd.jupyter.widget-view+json": {
       "model_id": "51f05b78ce9a456dbc1b3cb0e1236cb4",
       "version_major": 2,
       "version_minor": 0
      },
      "text/plain": [
       "COLLECTING RESULTS | Checking input:   0%|          | 0/18095 [00:00<?, ?it/s]"
      ]
     },
     "metadata": {},
     "output_type": "display_data"
    },
    {
     "data": {
      "application/json": {
       "ascii": false,
       "bar_format": null,
       "colour": null,
       "elapsed": 0.030570030212402344,
       "initial": 0,
       "n": 0,
       "ncols": null,
       "nrows": 81,
       "postfix": null,
       "prefix": "QUEUEING TASKS | Preparing",
       "rate": null,
       "total": 18095,
       "unit": "it",
       "unit_divisor": 1000,
       "unit_scale": false
      },
      "application/vnd.jupyter.widget-view+json": {
       "model_id": "e1e2015fc07c4866bb6f2b84e6eb2612",
       "version_major": 2,
       "version_minor": 0
      },
      "text/plain": [
       "QUEUEING TASKS | Preparing:   0%|          | 0/18095 [00:00<?, ?it/s]"
      ]
     },
     "metadata": {},
     "output_type": "display_data"
    },
    {
     "data": {
      "application/json": {
       "ascii": false,
       "bar_format": null,
       "colour": null,
       "elapsed": 0.08030986785888672,
       "initial": 0,
       "n": 0,
       "ncols": null,
       "nrows": 81,
       "postfix": null,
       "prefix": "PROCESSING TASKS | Preparing",
       "rate": null,
       "total": 18095,
       "unit": "it",
       "unit_divisor": 1000,
       "unit_scale": false
      },
      "application/vnd.jupyter.widget-view+json": {
       "model_id": "b9f35f00ea504aaa913f5c1e460cb728",
       "version_major": 2,
       "version_minor": 0
      },
      "text/plain": [
       "PROCESSING TASKS | Preparing:   0%|          | 0/18095 [00:00<?, ?it/s]"
      ]
     },
     "metadata": {},
     "output_type": "display_data"
    },
    {
     "data": {
      "application/json": {
       "ascii": false,
       "bar_format": null,
       "colour": null,
       "elapsed": 0.030557632446289062,
       "initial": 0,
       "n": 0,
       "ncols": null,
       "nrows": 81,
       "postfix": null,
       "prefix": "COLLECTING RESULTS | Preparing",
       "rate": null,
       "total": 18095,
       "unit": "it",
       "unit_divisor": 1000,
       "unit_scale": false
      },
      "application/vnd.jupyter.widget-view+json": {
       "model_id": "75ba9650348a4adebdffa26e6bf4a7f3",
       "version_major": 2,
       "version_minor": 0
      },
      "text/plain": [
       "COLLECTING RESULTS | Preparing:   0%|          | 0/18095 [00:00<?, ?it/s]"
      ]
     },
     "metadata": {},
     "output_type": "display_data"
    },
    {
     "name": "stdout",
     "output_type": "stream",
     "text": [
      "Skipped: 18095 Not skipped: 0\n"
     ]
    },
    {
     "name": "stderr",
     "output_type": "stream",
     "text": [
      "\n",
      "Parsing:   0%|                                                                                                                        | 0/2261 [00:00<?, ?it/s]\u001b[A\n",
      "Parsing:   0%|                                                                                                                | 1/2261 [00:00<05:34,  6.76it/s]\u001b[A\n",
      "Parsing:   0%|                                                                                                                | 2/2261 [00:00<05:29,  6.86it/s]\u001b[A\n",
      "Parsing:   0%|▏                                                                                                               | 3/2261 [00:00<05:14,  7.19it/s]\u001b[A\n",
      "Parsing:   0%|▏                                                                                                               | 4/2261 [00:00<05:01,  7.48it/s]\u001b[A\n",
      "Parsing:   0%|▏                                                                                                               | 5/2261 [00:00<05:00,  7.52it/s]\u001b[A\n",
      "Parsing:   0%|▎                                                                                                               | 6/2261 [00:00<04:55,  7.64it/s]\u001b[A\n",
      "Parsing:   0%|▎                                                                                                               | 7/2261 [00:00<04:53,  7.68it/s]\u001b[A\n",
      "Parsing:   0%|▍                                                                                                               | 8/2261 [00:01<04:47,  7.84it/s]\u001b[A\n",
      "Parsing:   0%|▍                                                                                                               | 9/2261 [00:01<04:39,  8.06it/s]\u001b[A\n",
      "Parsing:   0%|▍                                                                                                              | 10/2261 [00:01<04:42,  7.97it/s]\u001b[A\n",
      "Parsing:   0%|▌                                                                                                              | 11/2261 [00:01<04:43,  7.95it/s]\u001b[A\n",
      "Parsing:   1%|▌                                                                                                              | 12/2261 [00:01<04:48,  7.79it/s]\u001b[A\n",
      "Parsing:   1%|▋                                                                                                              | 13/2261 [00:01<04:50,  7.73it/s]\u001b[A\n",
      "Parsing:   1%|▋                                                                                                              | 14/2261 [00:01<04:52,  7.69it/s]\u001b[A\n",
      "Parsing:   1%|▋                                                                                                              | 15/2261 [00:01<05:02,  7.43it/s]\u001b[A\n",
      "Parsing:   1%|▊                                                                                                              | 16/2261 [00:02<04:59,  7.49it/s]\u001b[A\n",
      "Parsing:   1%|▊                                                                                                              | 17/2261 [00:02<04:52,  7.68it/s]\u001b[A\n",
      "Parsing:   1%|▉                                                                                                              | 18/2261 [00:02<04:45,  7.86it/s]\u001b[A\n",
      "Parsing:   1%|▉                                                                                                              | 19/2261 [00:02<04:42,  7.94it/s]\u001b[A\n",
      "Parsing:   1%|▉                                                                                                              | 20/2261 [00:02<04:51,  7.69it/s]\u001b[A\n",
      "Parsing:   1%|█                                                                                                              | 21/2261 [00:02<05:00,  7.45it/s]\u001b[A\n",
      "Parsing:   1%|█                                                                                                              | 22/2261 [00:02<05:01,  7.43it/s]\u001b[A\n",
      "Parsing:   1%|█▏                                                                                                             | 23/2261 [00:03<04:54,  7.59it/s]\u001b[A\n",
      "Parsing:   1%|█▏                                                                                                             | 24/2261 [00:03<04:51,  7.68it/s]\u001b[A\n",
      "Parsing:   1%|█▏                                                                                                             | 25/2261 [00:03<04:48,  7.76it/s]\u001b[A\n",
      "Parsing:   1%|█▎                                                                                                             | 26/2261 [00:03<04:39,  7.99it/s]\u001b[A\n",
      "Parsing:   1%|█▎                                                                                                             | 27/2261 [00:03<04:39,  7.99it/s]\u001b[A\n",
      "Parsing:   1%|█▎                                                                                                             | 28/2261 [00:03<04:37,  8.05it/s]\u001b[A\n",
      "Parsing:   1%|█▍                                                                                                             | 29/2261 [00:03<04:28,  8.30it/s]\u001b[A\n",
      "Parsing:   1%|█▍                                                                                                             | 30/2261 [00:03<04:30,  8.26it/s]\u001b[A\n",
      "Parsing:   1%|█▌                                                                                                             | 31/2261 [00:03<04:32,  8.18it/s]\u001b[A\n",
      "Parsing:   1%|█▌                                                                                                             | 32/2261 [00:04<04:30,  8.25it/s]\u001b[A\n",
      "Parsing:   1%|█▌                                                                                                             | 33/2261 [00:04<04:29,  8.26it/s]\u001b[A\n",
      "Parsing:   2%|█▋                                                                                                             | 34/2261 [00:04<04:37,  8.02it/s]\u001b[A\n",
      "Parsing:   2%|█▋                                                                                                             | 35/2261 [00:04<04:43,  7.85it/s]\u001b[A\n",
      "Parsing:   2%|█▊                                                                                                             | 36/2261 [00:04<04:47,  7.73it/s]\u001b[A\n",
      "Parsing:   2%|█▊                                                                                                             | 37/2261 [00:04<04:49,  7.69it/s]\u001b[A\n",
      "Parsing:   2%|█▊                                                                                                             | 38/2261 [00:04<04:53,  7.59it/s]\u001b[A\n",
      "Parsing:   2%|█▉                                                                                                             | 39/2261 [00:05<04:48,  7.69it/s]\u001b[A\n",
      "Parsing:   2%|█▉                                                                                                             | 40/2261 [00:05<04:39,  7.96it/s]\u001b[A\n",
      "Parsing:   2%|██                                                                                                             | 41/2261 [00:05<04:36,  8.02it/s]\u001b[A\n",
      "Parsing:   2%|██                                                                                                             | 42/2261 [00:05<04:35,  8.04it/s]\u001b[A\n",
      "Parsing:   2%|██                                                                                                             | 43/2261 [00:05<04:33,  8.11it/s]\u001b[A\n",
      "Parsing:   2%|██▏                                                                                                            | 44/2261 [00:05<04:37,  7.98it/s]\u001b[A\n",
      "Parsing:   2%|██▏                                                                                                            | 45/2261 [00:05<04:46,  7.73it/s]\u001b[A\n",
      "Parsing:   2%|██▎                                                                                                            | 46/2261 [00:05<04:50,  7.62it/s]\u001b[A\n",
      "Parsing:   2%|██▎                                                                                                            | 47/2261 [00:06<04:51,  7.61it/s]\u001b[A\n",
      "Parsing:   2%|██▎                                                                                                            | 48/2261 [00:06<04:41,  7.86it/s]\u001b[A\n",
      "Parsing:   2%|██▍                                                                                                            | 49/2261 [00:06<04:35,  8.02it/s]\u001b[A\n"
     ]
    },
    {
     "name": "stderr",
     "output_type": "stream",
     "text": [
      "Parsing:   2%|██▍                                                                                                            | 50/2261 [00:06<04:36,  8.00it/s]\u001b[A\n",
      "Parsing:   2%|██▌                                                                                                            | 51/2261 [00:06<04:32,  8.12it/s]\u001b[A\n",
      "Parsing:   2%|██▌                                                                                                            | 52/2261 [00:06<04:25,  8.33it/s]\u001b[A\n",
      "Parsing:   2%|██▌                                                                                                            | 53/2261 [00:06<04:22,  8.40it/s]\u001b[A\n",
      "Parsing:   2%|██▋                                                                                                            | 54/2261 [00:06<04:21,  8.43it/s]\u001b[A\n",
      "Parsing:   2%|██▋                                                                                                            | 55/2261 [00:06<04:25,  8.32it/s]\u001b[A\n",
      "Parsing:   2%|██▋                                                                                                            | 56/2261 [00:07<04:21,  8.45it/s]\u001b[A\n",
      "Parsing:   3%|██▊                                                                                                            | 57/2261 [00:07<04:21,  8.42it/s]\u001b[A\n",
      "Parsing:   3%|██▊                                                                                                            | 58/2261 [00:07<04:20,  8.47it/s]\u001b[A\n",
      "Parsing:   3%|██▉                                                                                                            | 59/2261 [00:07<04:23,  8.34it/s]\u001b[A\n",
      "Parsing:   3%|██▉                                                                                                            | 60/2261 [00:07<04:19,  8.47it/s]\u001b[A\n",
      "Parsing:   3%|██▉                                                                                                            | 61/2261 [00:07<04:16,  8.59it/s]\u001b[A\n",
      "Parsing:   3%|███                                                                                                            | 62/2261 [00:07<04:18,  8.52it/s]\u001b[A\n",
      "Parsing:   3%|███                                                                                                            | 63/2261 [00:07<04:27,  8.21it/s]\u001b[A\n",
      "Parsing:   3%|███▏                                                                                                           | 64/2261 [00:08<04:32,  8.05it/s]\u001b[A\n",
      "Parsing:   3%|███▏                                                                                                           | 65/2261 [00:08<04:34,  8.01it/s]\u001b[A\n",
      "Parsing:   3%|███▏                                                                                                           | 66/2261 [00:08<04:31,  8.08it/s]\u001b[A\n",
      "Parsing:   3%|███▎                                                                                                           | 67/2261 [00:08<04:34,  8.00it/s]\u001b[A\n",
      "Parsing:   3%|███▎                                                                                                           | 68/2261 [00:08<04:26,  8.22it/s]\u001b[A\n",
      "Parsing:   3%|███▍                                                                                                           | 69/2261 [00:08<04:24,  8.30it/s]\u001b[A\n",
      "Parsing:   3%|███▍                                                                                                           | 70/2261 [00:08<04:23,  8.32it/s]\u001b[A\n",
      "Parsing:   3%|███▍                                                                                                           | 71/2261 [00:08<04:23,  8.31it/s]\u001b[A\n",
      "Parsing:   3%|███▌                                                                                                           | 72/2261 [00:09<04:31,  8.05it/s]\u001b[A\n",
      "Parsing:   3%|███▌                                                                                                           | 73/2261 [00:09<04:40,  7.79it/s]\u001b[A\n",
      "Parsing:   3%|███▋                                                                                                           | 74/2261 [00:09<04:39,  7.83it/s]\u001b[A\n",
      "Parsing:   3%|███▋                                                                                                           | 75/2261 [00:09<04:45,  7.67it/s]\u001b[A\n",
      "Parsing:   3%|███▋                                                                                                           | 76/2261 [00:09<04:35,  7.92it/s]\u001b[A\n",
      "Parsing:   3%|███▊                                                                                                           | 77/2261 [00:09<04:36,  7.89it/s]\u001b[A\n",
      "Parsing:   3%|███▊                                                                                                           | 78/2261 [00:09<04:44,  7.68it/s]\u001b[A\n",
      "Parsing:   3%|███▉                                                                                                           | 79/2261 [00:09<04:37,  7.85it/s]\u001b[A\n",
      "Parsing:   4%|███▉                                                                                                           | 80/2261 [00:10<04:36,  7.88it/s]\u001b[A\n",
      "Parsing:   4%|███▉                                                                                                           | 81/2261 [00:10<04:34,  7.94it/s]\u001b[A\n",
      "Parsing:   4%|████                                                                                                           | 82/2261 [00:10<04:33,  7.97it/s]\u001b[A\n",
      "Parsing:   4%|████                                                                                                           | 83/2261 [00:10<04:43,  7.69it/s]\u001b[A\n",
      "Parsing:   4%|████                                                                                                           | 84/2261 [00:10<04:45,  7.64it/s]\u001b[A\n",
      "Parsing:   4%|████▏                                                                                                          | 85/2261 [00:10<04:46,  7.61it/s]\u001b[A\n",
      "Parsing:   4%|████▏                                                                                                          | 86/2261 [00:10<04:36,  7.87it/s]\u001b[A\n",
      "Parsing:   4%|████▎                                                                                                          | 87/2261 [00:10<04:35,  7.89it/s]\u001b[A\n",
      "Parsing:   4%|████▎                                                                                                          | 88/2261 [00:11<04:31,  8.00it/s]\u001b[A\n",
      "Parsing:   4%|████▎                                                                                                          | 89/2261 [00:11<04:26,  8.15it/s]\u001b[A\n",
      "Parsing:   4%|████▍                                                                                                          | 90/2261 [00:11<04:25,  8.17it/s]\u001b[A\n",
      "Parsing:   4%|████▍                                                                                                          | 91/2261 [00:11<04:20,  8.32it/s]\u001b[A\n",
      "Parsing:   4%|████▌                                                                                                          | 92/2261 [00:11<04:24,  8.21it/s]\u001b[A\n",
      "Parsing:   4%|████▌                                                                                                          | 93/2261 [00:11<04:29,  8.04it/s]\u001b[A\n",
      "Parsing:   4%|████▌                                                                                                          | 94/2261 [00:11<04:24,  8.20it/s]\u001b[A\n",
      "Parsing:   4%|████▋                                                                                                          | 95/2261 [00:11<04:25,  8.15it/s]\u001b[A\n",
      "Parsing:   4%|████▋                                                                                                          | 96/2261 [00:12<04:26,  8.12it/s]\u001b[A\n",
      "Parsing:   4%|████▊                                                                                                          | 97/2261 [00:12<04:19,  8.35it/s]\u001b[A\n",
      "Parsing:   4%|████▊                                                                                                          | 98/2261 [00:12<04:13,  8.53it/s]\u001b[A\n",
      "Parsing:   4%|████▊                                                                                                          | 99/2261 [00:12<04:25,  8.14it/s]\u001b[A\n"
     ]
    },
    {
     "name": "stderr",
     "output_type": "stream",
     "text": [
      "Parsing:   4%|████▊                                                                                                         | 100/2261 [00:12<04:35,  7.84it/s]\u001b[A\n",
      "Parsing:   4%|████▉                                                                                                         | 101/2261 [00:12<04:34,  7.87it/s]\u001b[A\n",
      "Parsing:   5%|████▉                                                                                                         | 102/2261 [00:12<04:29,  8.00it/s]\u001b[A\n",
      "Parsing:   5%|█████                                                                                                         | 103/2261 [00:12<04:26,  8.11it/s]\u001b[A\n",
      "Parsing:   5%|█████                                                                                                         | 104/2261 [00:13<04:28,  8.03it/s]\u001b[A\n",
      "Parsing:   5%|█████                                                                                                         | 105/2261 [00:13<04:24,  8.15it/s]\u001b[A\n",
      "Parsing:   5%|█████▏                                                                                                        | 106/2261 [00:13<04:20,  8.26it/s]\u001b[A\n",
      "Parsing:   5%|█████▏                                                                                                        | 107/2261 [00:13<04:20,  8.28it/s]\u001b[A\n",
      "Parsing:   5%|█████▎                                                                                                        | 108/2261 [00:13<04:25,  8.12it/s]\u001b[A\n",
      "Parsing:   5%|█████▎                                                                                                        | 109/2261 [00:13<04:23,  8.15it/s]\u001b[A\n",
      "Parsing:   5%|█████▎                                                                                                        | 110/2261 [00:13<04:30,  7.97it/s]\u001b[A\n"
     ]
    },
    {
     "ename": "KeyboardInterrupt",
     "evalue": "",
     "output_type": "error",
     "traceback": [
      "\u001b[0;31m---------------------------------------------------------------------------\u001b[0m",
      "\u001b[0;31mKeyboardInterrupt\u001b[0m                         Traceback (most recent call last)",
      "Input \u001b[0;32mIn [4]\u001b[0m, in \u001b[0;36m<cell line: 11>\u001b[0;34m()\u001b[0m\n\u001b[1;32m     64\u001b[0m     rs_dl \u001b[38;5;241m=\u001b[39m rs\u001b[38;5;241m.\u001b[39mrun(li, skip\u001b[38;5;241m=\u001b[39m\u001b[38;5;28;01mFalse\u001b[39;00m, run\u001b[38;5;241m=\u001b[39m\u001b[38;5;28;01mFalse\u001b[39;00m, parse\u001b[38;5;241m=\u001b[39m\u001b[38;5;28;01mFalse\u001b[39;00m)\n\u001b[1;32m     65\u001b[0m \u001b[38;5;28;01melse\u001b[39;00m:\n\u001b[0;32m---> 66\u001b[0m     rs_dl \u001b[38;5;241m=\u001b[39m \u001b[43mrs\u001b[49m\u001b[38;5;241;43m.\u001b[39;49m\u001b[43mrun\u001b[49m\u001b[43m(\u001b[49m\u001b[43mli\u001b[49m\u001b[43m,\u001b[49m\u001b[43m \u001b[49m\u001b[43mskip\u001b[49m\u001b[38;5;241;43m=\u001b[39;49m\u001b[38;5;28;43;01mTrue\u001b[39;49;00m\u001b[43m,\u001b[49m\u001b[43m \u001b[49m\u001b[43mrun\u001b[49m\u001b[38;5;241;43m=\u001b[39;49m\u001b[38;5;28;43;01mTrue\u001b[39;49;00m\u001b[43m,\u001b[49m\u001b[43m \u001b[49m\u001b[43mparse\u001b[49m\u001b[38;5;241;43m=\u001b[39;49m\u001b[38;5;28;43;01mTrue\u001b[39;49;00m\u001b[43m,\u001b[49m\u001b[43mignore_error\u001b[49m\u001b[38;5;241;43m=\u001b[39;49m\u001b[38;5;28;43;01mTrue\u001b[39;49;00m\u001b[43m)\u001b[49m\n\u001b[1;32m     67\u001b[0m     rs_dl \u001b[38;5;241m=\u001b[39m hepi\u001b[38;5;241m.\u001b[39mpdf_errors(li,rs_dl)\n\u001b[1;32m     68\u001b[0m     rs_dl \u001b[38;5;241m=\u001b[39m hepi\u001b[38;5;241m.\u001b[39mscale_errors(li,rs_dl)\n",
      "File \u001b[0;32m~/.local/lib/python3.9/site-packages/hepi/run.py:223\u001b[0m, in \u001b[0;36mRunner.run\u001b[0;34m(self, params, skip, parse, parallel, sleep, run, ignore_error, **kwargs)\u001b[0m\n\u001b[1;32m    221\u001b[0m \u001b[38;5;28;01mif\u001b[39;00m parse:\n\u001b[1;32m    222\u001b[0m     outs \u001b[38;5;241m=\u001b[39m LD2DL(rps)[\u001b[38;5;124m\"\u001b[39m\u001b[38;5;124mout_file\u001b[39m\u001b[38;5;124m\"\u001b[39m]\n\u001b[0;32m--> 223\u001b[0m     results \u001b[38;5;241m=\u001b[39m \u001b[38;5;28;43mself\u001b[39;49m\u001b[38;5;241;43m.\u001b[39;49m\u001b[43mparse\u001b[49m\u001b[43m(\u001b[49m\u001b[43mouts\u001b[49m\u001b[43m)\u001b[49m\n\u001b[1;32m    224\u001b[0m     rdl \u001b[38;5;241m=\u001b[39m LD2DL(results)\n\u001b[1;32m    225\u001b[0m     pdl \u001b[38;5;241m=\u001b[39m LD2DL(params)\n",
      "File \u001b[0;32m~/.local/lib/python3.9/site-packages/hepi/run.py:309\u001b[0m, in \u001b[0;36mRunner.parse\u001b[0;34m(self, outputs)\u001b[0m\n\u001b[1;32m    304\u001b[0m rsl \u001b[38;5;241m=\u001b[39m []\n\u001b[1;32m    305\u001b[0m \u001b[38;5;66;03m#for r in parallel(self._parse_file, outputs):\u001b[39;00m\n\u001b[1;32m    306\u001b[0m \u001b[38;5;66;03m#    rsl.append(r)\u001b[39;00m\n\u001b[1;32m    307\u001b[0m \n\u001b[1;32m    308\u001b[0m \u001b[38;5;66;03m# parallelized opens to many files at times\u001b[39;00m\n\u001b[0;32m--> 309\u001b[0m rsl \u001b[38;5;241m=\u001b[39m \u001b[43mmy_parallel\u001b[49m\u001b[43m(\u001b[49m\u001b[38;5;28;43mself\u001b[39;49m\u001b[38;5;241;43m.\u001b[39;49m\u001b[43m_parse_file\u001b[49m\u001b[43m,\u001b[49m\u001b[43m \u001b[49m\u001b[43moutputs\u001b[49m\u001b[43m,\u001b[49m\u001b[43m \u001b[49m\u001b[43mdesc\u001b[49m\u001b[38;5;241;43m=\u001b[39;49m\u001b[38;5;124;43m\"\u001b[39;49m\u001b[38;5;124;43mParsing\u001b[39;49m\u001b[38;5;124;43m\"\u001b[39;49m\u001b[43m)\u001b[49m\n\u001b[1;32m    310\u001b[0m \u001b[38;5;66;03m#rsl = pqdm(outputs,\u001b[39;00m\n\u001b[1;32m    311\u001b[0m \u001b[38;5;66;03m#           self._parse_file,\u001b[39;00m\n\u001b[1;32m    312\u001b[0m \u001b[38;5;66;03m#           n_jobs=multiprocessing.cpu_count(),\u001b[39;00m\n\u001b[1;32m    313\u001b[0m \u001b[38;5;66;03m#           desc=\"Parsing\")\u001b[39;00m\n\u001b[1;32m    314\u001b[0m \u001b[38;5;28;01mreturn\u001b[39;00m rsl\n",
      "File \u001b[0;32m~/.local/lib/python3.9/site-packages/hepi/run.py:37\u001b[0m, in \u001b[0;36mmy_parallel\u001b[0;34m(f, arr, n_jobs, desc)\u001b[0m\n\u001b[1;32m     35\u001b[0m res \u001b[38;5;241m=\u001b[39m []\n\u001b[1;32m     36\u001b[0m \u001b[38;5;28;01mfor\u001b[39;00m i \u001b[38;5;129;01min\u001b[39;00m tqdm\u001b[38;5;241m.\u001b[39mtqdm(\u001b[38;5;28mrange\u001b[39m(\u001b[38;5;28mlen\u001b[39m(sa)), desc\u001b[38;5;241m=\u001b[39mdesc):\n\u001b[0;32m---> 37\u001b[0m     res \u001b[38;5;241m+\u001b[39m\u001b[38;5;241m=\u001b[39m \u001b[43mpar\u001b[49m\u001b[43m(\u001b[49m\u001b[43mf\u001b[49m\u001b[43m,\u001b[49m\u001b[43m \u001b[49m\u001b[43msa\u001b[49m\u001b[43m[\u001b[49m\u001b[43mi\u001b[49m\u001b[43m]\u001b[49m\u001b[43m)\u001b[49m\n\u001b[1;32m     38\u001b[0m \u001b[38;5;28;01mreturn\u001b[39;00m res\n",
      "File \u001b[0;32m~/.local/lib/python3.9/site-packages/smpl/parallel/parallel.py:63\u001b[0m, in \u001b[0;36mpar\u001b[0;34m(f, *args, **kwargs)\u001b[0m\n\u001b[1;32m     53\u001b[0m \u001b[38;5;28;01mdef\u001b[39;00m \u001b[38;5;21mpar\u001b[39m(f, \u001b[38;5;241m*\u001b[39margs, \u001b[38;5;241m*\u001b[39m\u001b[38;5;241m*\u001b[39mkwargs):\n\u001b[1;32m     54\u001b[0m     \u001b[38;5;124;03m\"\"\"\u001b[39;00m\n\u001b[1;32m     55\u001b[0m \u001b[38;5;124;03m    Parallel execution of f on each element of args and kwargs\u001b[39;00m\n\u001b[1;32m     56\u001b[0m \n\u001b[0;32m   (...)\u001b[0m\n\u001b[1;32m     61\u001b[0m \n\u001b[1;32m     62\u001b[0m \u001b[38;5;124;03m    \"\"\"\u001b[39;00m\n\u001b[0;32m---> 63\u001b[0m     \u001b[38;5;28;01mreturn\u001b[39;00m res([calc(f, \u001b[38;5;241m*\u001b[39m[args[k][i] \u001b[38;5;28;01mfor\u001b[39;00m k \u001b[38;5;129;01min\u001b[39;00m \u001b[38;5;28mrange\u001b[39m(\u001b[38;5;28mlen\u001b[39m(args))], \u001b[38;5;241m*\u001b[39m\u001b[38;5;241m*\u001b[39m{k: v[i] \u001b[38;5;28;01mfor\u001b[39;00m k, v \u001b[38;5;129;01min\u001b[39;00m kwargs\u001b[38;5;241m.\u001b[39mitems()}) \u001b[38;5;28;01mfor\u001b[39;00m i \u001b[38;5;129;01min\u001b[39;00m \u001b[38;5;28mrange\u001b[39m(\u001b[38;5;28mlen\u001b[39m(args[\u001b[38;5;241m0\u001b[39m]) \u001b[38;5;28;01mif\u001b[39;00m \u001b[38;5;28mlen\u001b[39m(args) \u001b[38;5;241m>\u001b[39m \u001b[38;5;241m0\u001b[39m \u001b[38;5;28;01melse\u001b[39;00m \u001b[38;5;28mlen\u001b[39m(\u001b[38;5;28mnext\u001b[39m(\u001b[38;5;28miter\u001b[39m(kwargs\u001b[38;5;241m.\u001b[39mvalues()))))])\n",
      "File \u001b[0;32m~/.local/lib/python3.9/site-packages/smpl/parallel/parallel.py:63\u001b[0m, in \u001b[0;36m<listcomp>\u001b[0;34m(.0)\u001b[0m\n\u001b[1;32m     53\u001b[0m \u001b[38;5;28;01mdef\u001b[39;00m \u001b[38;5;21mpar\u001b[39m(f, \u001b[38;5;241m*\u001b[39margs, \u001b[38;5;241m*\u001b[39m\u001b[38;5;241m*\u001b[39mkwargs):\n\u001b[1;32m     54\u001b[0m     \u001b[38;5;124;03m\"\"\"\u001b[39;00m\n\u001b[1;32m     55\u001b[0m \u001b[38;5;124;03m    Parallel execution of f on each element of args and kwargs\u001b[39;00m\n\u001b[1;32m     56\u001b[0m \n\u001b[0;32m   (...)\u001b[0m\n\u001b[1;32m     61\u001b[0m \n\u001b[1;32m     62\u001b[0m \u001b[38;5;124;03m    \"\"\"\u001b[39;00m\n\u001b[0;32m---> 63\u001b[0m     \u001b[38;5;28;01mreturn\u001b[39;00m res([\u001b[43mcalc\u001b[49m\u001b[43m(\u001b[49m\u001b[43mf\u001b[49m\u001b[43m,\u001b[49m\u001b[43m \u001b[49m\u001b[38;5;241;43m*\u001b[39;49m\u001b[43m[\u001b[49m\u001b[43margs\u001b[49m\u001b[43m[\u001b[49m\u001b[43mk\u001b[49m\u001b[43m]\u001b[49m\u001b[43m[\u001b[49m\u001b[43mi\u001b[49m\u001b[43m]\u001b[49m\u001b[43m \u001b[49m\u001b[38;5;28;43;01mfor\u001b[39;49;00m\u001b[43m \u001b[49m\u001b[43mk\u001b[49m\u001b[43m \u001b[49m\u001b[38;5;129;43;01min\u001b[39;49;00m\u001b[43m \u001b[49m\u001b[38;5;28;43mrange\u001b[39;49m\u001b[43m(\u001b[49m\u001b[38;5;28;43mlen\u001b[39;49m\u001b[43m(\u001b[49m\u001b[43margs\u001b[49m\u001b[43m)\u001b[49m\u001b[43m)\u001b[49m\u001b[43m]\u001b[49m\u001b[43m,\u001b[49m\u001b[43m \u001b[49m\u001b[38;5;241;43m*\u001b[39;49m\u001b[38;5;241;43m*\u001b[39;49m\u001b[43m{\u001b[49m\u001b[43mk\u001b[49m\u001b[43m:\u001b[49m\u001b[43m \u001b[49m\u001b[43mv\u001b[49m\u001b[43m[\u001b[49m\u001b[43mi\u001b[49m\u001b[43m]\u001b[49m\u001b[43m \u001b[49m\u001b[38;5;28;43;01mfor\u001b[39;49;00m\u001b[43m \u001b[49m\u001b[43mk\u001b[49m\u001b[43m,\u001b[49m\u001b[43m \u001b[49m\u001b[43mv\u001b[49m\u001b[43m \u001b[49m\u001b[38;5;129;43;01min\u001b[39;49;00m\u001b[43m \u001b[49m\u001b[43mkwargs\u001b[49m\u001b[38;5;241;43m.\u001b[39;49m\u001b[43mitems\u001b[49m\u001b[43m(\u001b[49m\u001b[43m)\u001b[49m\u001b[43m}\u001b[49m\u001b[43m)\u001b[49m \u001b[38;5;28;01mfor\u001b[39;00m i \u001b[38;5;129;01min\u001b[39;00m \u001b[38;5;28mrange\u001b[39m(\u001b[38;5;28mlen\u001b[39m(args[\u001b[38;5;241m0\u001b[39m]) \u001b[38;5;28;01mif\u001b[39;00m \u001b[38;5;28mlen\u001b[39m(args) \u001b[38;5;241m>\u001b[39m \u001b[38;5;241m0\u001b[39m \u001b[38;5;28;01melse\u001b[39;00m \u001b[38;5;28mlen\u001b[39m(\u001b[38;5;28mnext\u001b[39m(\u001b[38;5;28miter\u001b[39m(kwargs\u001b[38;5;241m.\u001b[39mvalues()))))])\n",
      "File \u001b[0;32m~/.local/lib/python3.9/site-packages/smpl/parallel/parallel.py:49\u001b[0m, in \u001b[0;36mcalc\u001b[0;34m(f, *args, **kwargs)\u001b[0m\n\u001b[1;32m     46\u001b[0m \u001b[38;5;129m@append_doc\u001b[39m(res)\n\u001b[1;32m     47\u001b[0m \u001b[38;5;28;01mdef\u001b[39;00m \u001b[38;5;21mcalc\u001b[39m(f, \u001b[38;5;241m*\u001b[39margs, \u001b[38;5;241m*\u001b[39m\u001b[38;5;241m*\u001b[39mkwargs):\n\u001b[1;32m     48\u001b[0m     g \u001b[38;5;241m=\u001b[39m gen(f, \u001b[38;5;241m*\u001b[39margs, \u001b[38;5;241m*\u001b[39m\u001b[38;5;241m*\u001b[39mkwargs)\n\u001b[0;32m---> 49\u001b[0m     \u001b[38;5;28;43mnext\u001b[39;49m\u001b[43m(\u001b[49m\u001b[43mg\u001b[49m\u001b[43m)\u001b[49m\n\u001b[1;32m     50\u001b[0m     \u001b[38;5;28;01mreturn\u001b[39;00m g\n",
      "File \u001b[0;32m~/.local/lib/python3.9/site-packages/smpl/parallel/parallel.py:40\u001b[0m, in \u001b[0;36mgen\u001b[0;34m(f, *args, **kwargs)\u001b[0m\n\u001b[1;32m     38\u001b[0m \u001b[38;5;28;01mdef\u001b[39;00m \u001b[38;5;21mgen\u001b[39m(f, \u001b[38;5;241m*\u001b[39margs, \u001b[38;5;241m*\u001b[39m\u001b[38;5;241m*\u001b[39mkwargs):\n\u001b[1;32m     39\u001b[0m     \u001b[38;5;124;03m\"\"\"Generates parallel execution list generator.\"\"\"\u001b[39;00m\n\u001b[0;32m---> 40\u001b[0m     q \u001b[38;5;241m=\u001b[39m \u001b[43mQueue\u001b[49m\u001b[43m(\u001b[49m\u001b[43m)\u001b[49m\n\u001b[1;32m     41\u001b[0m     p \u001b[38;5;241m=\u001b[39m Process(target\u001b[38;5;241m=\u001b[39mqueued, args\u001b[38;5;241m=\u001b[39m(q, f, \u001b[38;5;241m*\u001b[39margs), kwargs\u001b[38;5;241m=\u001b[39mkwargs)\n\u001b[1;32m     42\u001b[0m     \u001b[38;5;28;01myield\u001b[39;00m p\u001b[38;5;241m.\u001b[39mstart()\n",
      "File \u001b[0;32m/usr/lib/python3.9/multiprocessing/context.py:103\u001b[0m, in \u001b[0;36mBaseContext.Queue\u001b[0;34m(self, maxsize)\u001b[0m\n\u001b[1;32m    101\u001b[0m \u001b[38;5;124;03m'''Returns a queue object'''\u001b[39;00m\n\u001b[1;32m    102\u001b[0m \u001b[38;5;28;01mfrom\u001b[39;00m \u001b[38;5;21;01m.\u001b[39;00m\u001b[38;5;21;01mqueues\u001b[39;00m \u001b[38;5;28;01mimport\u001b[39;00m Queue\n\u001b[0;32m--> 103\u001b[0m \u001b[38;5;28;01mreturn\u001b[39;00m \u001b[43mQueue\u001b[49m\u001b[43m(\u001b[49m\u001b[43mmaxsize\u001b[49m\u001b[43m,\u001b[49m\u001b[43m \u001b[49m\u001b[43mctx\u001b[49m\u001b[38;5;241;43m=\u001b[39;49m\u001b[38;5;28;43mself\u001b[39;49m\u001b[38;5;241;43m.\u001b[39;49m\u001b[43mget_context\u001b[49m\u001b[43m(\u001b[49m\u001b[43m)\u001b[49m\u001b[43m)\u001b[49m\n",
      "File \u001b[0;32m/usr/lib/python3.9/multiprocessing/queues.py:40\u001b[0m, in \u001b[0;36mQueue.__init__\u001b[0;34m(self, maxsize, ctx)\u001b[0m\n\u001b[1;32m     37\u001b[0m \u001b[38;5;28;01mdef\u001b[39;00m \u001b[38;5;21m__init__\u001b[39m(\u001b[38;5;28mself\u001b[39m, maxsize\u001b[38;5;241m=\u001b[39m\u001b[38;5;241m0\u001b[39m, \u001b[38;5;241m*\u001b[39m, ctx):\n\u001b[1;32m     38\u001b[0m     \u001b[38;5;28;01mif\u001b[39;00m maxsize \u001b[38;5;241m<\u001b[39m\u001b[38;5;241m=\u001b[39m \u001b[38;5;241m0\u001b[39m:\n\u001b[1;32m     39\u001b[0m         \u001b[38;5;66;03m# Can raise ImportError (see issues #3770 and #23400)\u001b[39;00m\n\u001b[0;32m---> 40\u001b[0m         \u001b[38;5;28;01mfrom\u001b[39;00m \u001b[38;5;21;01m.\u001b[39;00m\u001b[38;5;21;01msynchronize\u001b[39;00m \u001b[38;5;28;01mimport\u001b[39;00m SEM_VALUE_MAX \u001b[38;5;28;01mas\u001b[39;00m maxsize\n\u001b[1;32m     41\u001b[0m     \u001b[38;5;28mself\u001b[39m\u001b[38;5;241m.\u001b[39m_maxsize \u001b[38;5;241m=\u001b[39m maxsize\n\u001b[1;32m     42\u001b[0m     \u001b[38;5;28mself\u001b[39m\u001b[38;5;241m.\u001b[39m_reader, \u001b[38;5;28mself\u001b[39m\u001b[38;5;241m.\u001b[39m_writer \u001b[38;5;241m=\u001b[39m connection\u001b[38;5;241m.\u001b[39mPipe(duplex\u001b[38;5;241m=\u001b[39m\u001b[38;5;28;01mFalse\u001b[39;00m)\n",
      "\u001b[0;31mKeyboardInterrupt\u001b[0m: "
     ]
    },
    {
     "name": "stderr",
     "output_type": "stream",
     "text": [
      "Exception ignored in: <function Socket.__del__ at 0x7fa6d6d65280>\n",
      "Traceback (most recent call last):\n",
      "  File \"/usr/lib/python3.9/site-packages/zmq/sugar/socket.py\", line 113, in __del__\n",
      "    warn(\n",
      "KeyboardInterrupt: \n"
     ]
    }
   ],
   "source": [
    "test_lo=False\n",
    "params = [\n",
    "    \"wino.slha\",\n",
    "]\n",
    "pss = [\n",
    "    ( 1000023, +1000024),  # N1C1p\n",
    "    ( 1000023, -1000024),  # N1C1m\n",
    "    (+1000024, -1000024),  # C1pC1m\n",
    "]\n",
    "m_xs=range(700,2010,100)\n",
    "for pa, pb in pss:\n",
    "    for energy in [13000,13600]:\n",
    "        name = \"sq_\" + str(energy) + \"_wino_\" + str(pa) + \"_\" + str(pb)\n",
    "        hepi.set_output_dir(\n",
    "            \"output_\" + name + \"/\"\n",
    "        )\n",
    "        rs.default_resummino_runner.set_output_dir(hepi.get_output_dir())\n",
    "        for param in params:\n",
    "            i = hepi.Input(\n",
    "                hepi.Order.LO if test_lo else hepi.Order.aNNLO_PLUS_NNLL,\n",
    "                    energy,\n",
    "                    pa,\n",
    "                    pb,\n",
    "                    param,\n",
    "                    \"PDF4LHC21_40\",\n",
    "                    \"PDF4LHC21_40\",\n",
    "                    1.0,\n",
    "                    1.0,\n",
    "                    id=\"0.0.0\",\n",
    "                    precision=0.001,\n",
    "                    max_iters=50,\n",
    "                )\n",
    "            li = [i]\n",
    "            li = hepi.masses_scan(\n",
    "                   li,\n",
    "                    [\n",
    "                        1000022,\n",
    "                        1000023,\n",
    "                        1000024,\n",
    "                     ],\n",
    "                     m_xs,\n",
    "                 )\n",
    "            li = hepi.masses_scan(\n",
    "                     li,\n",
    "                    [\n",
    "                       1000001,\n",
    "                       1000002,\n",
    "                       1000003,\n",
    "                       1000004,\n",
    "                       2000001,\n",
    "                       2000002,\n",
    "                       2000003,\n",
    "                       2000004,\n",
    "                   ],\n",
    "                   range(700,4010,100), # decoupling else 1e5\n",
    "               )\n",
    "            li = hepi.remove_where(li,lambda d : d[\"mass_1000001_1000002_1000003_1000004_2000001_2000002_2000003_2000004\"] < d[\"mass_1000022_1000023_1000024\"])\n",
    "            if not test_lo:\n",
    "\n",
    "                li = hepi.seven_point_scan(li)\n",
    "                li = hepi.pdf_scan(li)\n",
    "                    # li = hepi.change_where(li, {\"precision\": 0.0001, \"max_iters\": 200}, pdfset_nlo=0)\n",
    "                if not analyse:\n",
    "                    rs_dl = rs.run(li, skip=False, run=False, parse=False)\n",
    "                else:\n",
    "                    rs_dl = rs.run(li, skip=True, run=True, parse=True,ignore_error=True)\n",
    "                    rs_dl = hepi.pdf_errors(li,rs_dl)\n",
    "                    rs_dl = hepi.scale_errors(li,rs_dl)\n",
    "                    rs_dl = hepi.combine_errors(rs_dl)\n",
    "                    hepi.mapplot(rs_dl,\"mass_1000001_1000002_1000003_1000004_2000001_2000002_2000003_2000004\",\"mass_1000022_1000023_1000024\",\"aNNLO_PLUS_NNLL\",yaxis=\"$m_{\\\\tilde{\\\\chi}_1^0}$ [GeV]\",xaxis=\"$m_{\\\\tilde{q}}$ [GeV]\" , zaxis=\"$\\\\sigma_{\\\\mathrm{NLO+NLL}}$ [pb]\")\n",
    "                    plt.show()\n",
    "                    for m_x in m_xs:\n",
    "                        hepi.mass_plot(rs_dl[rs_dl[\"mass_1000022_1000023_1000024\"]==m_x],\"aNNLO_PLUS_NNLL\",1000002,data_fmt=\".\",lpos=6,bbox_to_anchor=(1.04,0.5),interpolate_label=\"$m_{\\\\tilde{\\\\chi}_1^0}$ = \" + str(m_x) + \"GeV\",xaxis=\"$m_{\\\\tilde{q}}$ [GeV]\",cont=True,plot_data=False,interpolate=True)\n",
    "                    plt.show()\n",
    "                    #hepi.write_latex_table_transposed_header(rs_dl,\"aNNLO_PLUS_NNLL\",param+str(energy)+\".tex\",\"mass_1000022\")\n",
    "                    #hepi.write_latex_table_transposed(rs_dl,\"aNNLO_PLUS_NNLL\",param+str(energy)+\".tex\",yscale=1000.)\n",
    "            else:\n",
    "                rs_dl = rs.run(li, skip=True, run=True, parse=True)\n",
    "                hepi.mapplot(rs_dl,\"mass_1000001_1000002_1000003_1000004_2000001_2000002_2000003_2000004\",\"mass_1000022_1000023_1000024\",\"LO\",yaxis=\"$m_{\\\\tilde{\\\\chi}_1^0}$ [GeV]\",xaxis=\"$m_{\\\\tilde{q}}$ [GeV]\" , zaxis=\"$\\\\sigma_{\\\\mathrm{NLO+NLL}}$ [pb]\")\n",
    "                plt.show()\n",
    "                for m_x in m_xs:\n",
    "                    hepi.mass_plot(rs_dl[rs_dl[\"mass_1000022_1000023_1000024\"]==m_x],\"LO\",1000002,data_fmt=\".\",lpos=6,bbox_to_anchor=(1.04,0.5),interpolate_label=\"$m_{\\\\tilde{\\\\chi}_1^0}$ = \" + str(m_x) + \"GeV\",xaxis=\"$m_{\\\\tilde{q}}$ [GeV]\",cont=True,plot_data=False,interpolate=True)\n",
    "                plt.show()"
   ]
  },
  {
   "cell_type": "code",
   "execution_count": null,
   "id": "40cad746",
   "metadata": {},
   "outputs": [],
   "source": [
    "test_lo=True\n",
    "params = [\n",
    "    \"hino.slha\",\n",
    "]\n",
    "pss = [\n",
    "    (1000022, +1000024),  # N2C1p\n",
    "    (1000022, -1000024),  # N2C1m\n",
    "    (+1000024, -1000024),  # C1pC2m\n",
    "    (1000022, 1000023),  # N2N1\n",
    "]\n",
    "for pa, pb in pss:\n",
    "    for energy in [13600]:\n",
    "        # save to different folders to have some substructure\n",
    "        name = str(energy) + \"_hino_deg_\" + str(pa) + \"_\" + str(pb)\n",
    "        hepi.set_output_dir(\n",
    "            \"output_\" + name + \"/\"\n",
    "        )\n",
    "        rs.default_resummino_runner.set_output_dir(hepi.get_output_dir())\n",
    "        for param in params:\n",
    "            i = hepi.Input(\n",
    "                hepi.Order.LO if test_lo else hepi.Order.aNNLO_PLUS_NNLL,\n",
    "                energy,\n",
    "                pa,\n",
    "                pb,\n",
    "                param,\n",
    "                \"PDF4LHC21_40\",\n",
    "                \"PDF4LHC21_40\",\n",
    "                1.0,\n",
    "                1.0,\n",
    "                id=\"0.0.0\",\n",
    "                precision=0.001,\n",
    "                max_iters=50,\n",
    "            )\n",
    "            li = [i]\n",
    "            li = hepi.masses_scan(\n",
    "                li,\n",
    "                [\n",
    "                    1000022,\n",
    "                    1000023,\n",
    "                    1000024,\n",
    "                ],\n",
    "                range(700, 2010, 100),\n",
    "                negate=[1000022],\n",
    "            )\n",
    "            li = hepi.masses_scan(\n",
    "                     li,\n",
    "                    [\n",
    "                       1000001,\n",
    "                       1000002,\n",
    "                       1000003,\n",
    "                       1000004,\n",
    "                       2000001,\n",
    "                       2000002,\n",
    "                       2000003,\n",
    "                       2000004,\n",
    "                   ],\n",
    "                   range(700,4100,100), # decoupling else 1e5\n",
    "            )\n",
    "            \n",
    "            if not test_lo:\n",
    "                li = hepi.seven_point_scan(li)\n",
    "                li = hepi.pdf_scan(li)\n",
    "                # li = hepi.change_where(li, {\"precision\": 0.0001, \"max_iters\": 200}, pdfset_nlo=0)\n",
    "                if not analyse:\n",
    "                    rs_dl = rs.run(li, skip=False, run=False, parse=False)\n",
    "                else:\n",
    "                    rs_dl = rs.run(li, skip=True, run=True, parse=True,ignore_error=True)\n",
    "                    rs_dl = hepi.pdf_errors(li,rs_dl)\n",
    "                    rs_dl = hepi.scale_errors(li,rs_dl)\n",
    "                    rs_dl = hepi.combine_errors(rs_dl)\n",
    "                    if energy == 13000:\n",
    "                        fig, axs = plt.subplots(2, 1, figsize=(6,4), sharex=True, gridspec_kw={'height_ratios': [2, 1]})         # Remove horizontal space between axes         \n",
    "                        fig.subplots_adjust(hspace=0)\n",
    "                        hepi.title(li[0],axe=axs[0],cms_energy=False,pdf_info=False,scenario=\"\")\n",
    "                        frac = rs_dl[\"aNNLO_PLUS_NNLL_NOERR\"][rs_dl[\"aNNLO_PLUS_NNLL_COMBINED\"].notnull()]\n",
    "                    #hepi.mass_plot(rs_dl,\"LO_COMBINED\",1000022,mask = rs_dl[\"aNNLO_PLUS_NNLL_COMBINED\"].notnull(),show=True,logy=True,interpolate=True,fill=True,interpolator='cubic',pre=np.log,post=np.exp)\n",
    "                    #hepi.mass_plot(rs_dl,\"NLO_COMBINED\",1000022,mask = rs_dl[\"aNNLO_PLUS_NNLL_COMBINED\"].notnull(),show=True,logy=True,plot_data=False,interpolate=True,fill=True,interpolator='cubic',pre=np.log,post=np.exp,init=False)\n",
    "                    hepi.mass_plot(rs_dl,\"aNNLO_PLUS_NNLL_NOERR\",1000023,axes=axs[0],mask = rs_dl[\"aNNLO_PLUS_NNLL_COMBINED\"].notnull(),tight=False,fmt=\" \",next_color=False,show=False,plot_data=False,logy=True,interpolate=True,fill=False,interpolator='cubic',pre=lambda a :np.log(a.clip(min=1e-22)),post=np.exp,init=False,interpolate_label=\"13.0 TeV\" if energy == 13000 else \"13.6 TeV\" )\n",
    "                    hepi.mass_plot(rs_dl,\"aNNLO_PLUS_NNLL_COMBINED\",1000023,axes=axs[0],mask = rs_dl[\"aNNLO_PLUS_NNLL_COMBINED\"].notnull(),tight=False,fit_fmt=\" \",next_color=True,show=False,plot_data=False,logy=True,interpolate=True,fill=True,interpolator='cubic',pre=lambda a  :np.log(a.clip(min=1e-22)),post=np.exp,init=False,label=\"\",interpolate_lower_uncertainty=False)\n",
    "                    hepi.mass_plot(rs_dl,\"aNNLO_PLUS_NNLL_NOERR\",1000023,axes=axs[1],yscale=1./frac,mask = rs_dl[\"aNNLO_PLUS_NNLL_COMBINED\"].notnull(),tight=False,yaxis=\"Ratio\",fmt=\" \",next_color=False,show=False,plot_data=False,logy=False,interpolate=True,fill=False,interpolator='cubic',pre=lambda a :np.log(a.clip(min=1e-22)),post=np.exp,init=False,label=\"\")\n",
    "                    hepi.mass_plot(rs_dl,\"aNNLO_PLUS_NNLL_COMBINED\",1000023,axes=axs[1],yscale=1./frac,mask = rs_dl[\"aNNLO_PLUS_NNLL_COMBINED\"].notnull(),tight=False,yaxis=\"Ratio\",fit_fmt=\" \",next_color=True,show=False,plot_data=False,logy=False,interpolate=True,fill=True,interpolator='cubic',pre=lambda a  :np.log(a.clip(min=1e-22)),post=np.exp,init=False,label=\"\",interpolate_lower_uncertainty=False)\n",
    "                    axs[0].set_ylim(5e-7,10)\n",
    "                    axs[1].set_ylim(0,2.5)\n",
    "                    axs[0].set_xlabel(None)\n",
    "                    axs[1].set_xlabel('$m_{\\\\tilde{\\\\chi}}$ [GeV]')\n",
    "                    if energy == 13600:\n",
    "                        plt.savefig(name + \".pdf\",bbox_inches ='tight',pad_inches=0)\n",
    "                        plt.show()\n",
    "                    hepi.write_latex_table_transposed_header(rs_dl,\"aNNLO_PLUS_NNLL\",param+str(energy)+\".tex\",\"mass_1000023\")\n",
    "                    hepi.write_latex_table_transposed(rs_dl,\"aNNLO_PLUS_NNLL\",param+str(energy)+\".tex\",yscale=1000.)\n",
    "            else:\n",
    "                rs_dl = rs.run(li, skip=True, run=True, parse=True)\n",
    "                hepi.mapplot(rs_dl,\"mass_1000022_1000023_1000024\",\"mass_1000001_1000002_1000003_1000004_2000001_2000002_2000003_2000004\",\"LO\",xaxis=\"$m_{\\\\tilde{\\\\chi}_1^0}$ [GeV]\",yaxis=\"$m_{\\\\tilde{q}}$ [GeV]\" , zaxis=\"$\\\\sigma_{\\\\mathrm{NLO+NLL}}$ [pb]\")\n",
    "                plt.show()\n",
    "                hepi.mass_plot(rs_dl,\"LO\",1000002,data_fmt=\".\",show=True,interpolate=False)\n",
    "                hepi.mass_plot(rs_dl[rs_dl[\"mass_1000022_1000023_1000024\"]==100],\"LO\",1000002,data_fmt=\".\",show=True,interpolate=False)\n",
    "                "
   ]
  },
  {
   "cell_type": "code",
   "execution_count": null,
   "id": "038801ce",
   "metadata": {},
   "outputs": [],
   "source": []
  },
  {
   "cell_type": "code",
   "execution_count": null,
   "id": "efc4f707",
   "metadata": {
    "scrolled": false
   },
   "outputs": [],
   "source": [
    "test_lo=True\n",
    "params = [\n",
    "    \"wino_ch.slha\",\n",
    "]\n",
    "pss = [\n",
    "    (+1000024, -1000024),  # C1pC1m\n",
    "]\n",
    "for pa, pb in pss:\n",
    "    for energy in [13600]:\n",
    "        name = str(energy) + \"_wino_\" + str(pa) + \"_\" + str(pb)\n",
    "        hepi.set_output_dir(\n",
    "               \"output_\" + name + \"/\"\n",
    "        )\n",
    "        rs.default_resummino_runner.set_output_dir(hepi.get_output_dir())\n",
    "        for param in params:\n",
    "            i = hepi.Input(\n",
    "                hepi.Order.LO if test_lo else hepi.Order.aNNLO_PLUS_NNLL,\n",
    "                    energy,\n",
    "                    pa,\n",
    "                    pb,\n",
    "                    param,\n",
    "                    \"PDF4LHC21_40\",\n",
    "                    \"PDF4LHC21_40\",\n",
    "                    1.0,\n",
    "                    1.0,\n",
    "                    id=\"0.0.0\",\n",
    "                    precision=0.001,\n",
    "                    max_iters=50,\n",
    "                )\n",
    "            li = [i]\n",
    "            li = hepi.masses_scan(\n",
    "                    li,\n",
    "                    [\n",
    "                        1000022,\n",
    "                        1000023,\n",
    "                        1000024,\n",
    "                    ],\n",
    "                    range(100,2010,100),\n",
    "                )\n",
    "            li = hepi.masses_scan(\n",
    "                    li,\n",
    "                    [\n",
    "                        1000006,\n",
    "                        2000006,\n",
    "                    ],\n",
    "                    range(0,4010,100),\n",
    "                )\n",
    "            if not test_lo:\n",
    "\n",
    "                li = hepi.seven_point_scan(li)\n",
    "                li = hepi.pdf_scan(li)\n",
    "                    # li = hepi.change_where(li, {\"precision\": 0.0001, \"max_iters\": 200}, pdfset_nlo=0)\n",
    "                if not analyse:\n",
    "                    rs_dl = rs.run(li, skip=False, run=False, parse=False)\n",
    "                else:\n",
    "                    rs_dl = rs.run(li, skip=True, run=True, parse=True,ignore_error=True)\n",
    "                    rs_dl = hepi.pdf_errors(li,rs_dl)\n",
    "                    rs_dl = hepi.scale_errors(li,rs_dl)\n",
    "                    rs_dl = hepi.combine_errors(rs_dl)\n",
    "                    if energy == 13000:\n",
    "                        fig, axs = plt.subplots(2, 1, figsize=(6,4), sharex=True, gridspec_kw={'height_ratios': [2, 1]})         # Remove horizontal space between axes         \n",
    "                        fig.subplots_adjust(hspace=0)\n",
    "                        hepi.title(li[0],axe=axs[0],cms_energy=False,pdf_info=False,scenario=\"\")\n",
    "                        frac = rs_dl[\"aNNLO_PLUS_NNLL_NOERR\"][rs_dl[\"aNNLO_PLUS_NNLL_COMBINED\"].notnull()]\n",
    "                    #hepi.mass_plot(rs_dl,\"LO_COMBINED\",1000022,mask = rs_dl[\"aNNLO_PLUS_NNLL_COMBINED\"].notnull(),show=True,logy=True,interpolate=True,fill=True,interpolator='cubic',pre=np.log,post=np.exp)\n",
    "                    #hepi.mass_plot(rs_dl,\"NLO_COMBINED\",1000022,mask = rs_dl[\"aNNLO_PLUS_NNLL_COMBINED\"].notnull(),show=True,logy=True,interpolate=True,fill=True,interpolator='cubic',pre=np.log,post=np.exp,init=False)\n",
    "                    hepi.mass_plot(rs_dl,\"aNNLO_PLUS_NNLL_NOERR\",1000022,axes=axs[0],mask = rs_dl[\"aNNLO_PLUS_NNLL_COMBINED\"].notnull(),tight=False,fmt=\" \",next_color=False,show=False,plot_data=False,logy=True,interpolate=True,fill=False,interpolator='cubic',pre=lambda a :np.log(a.clip(min=1e-22)),post=np.exp,init=False,interpolate_label=\"13.0 TeV\" if energy == 13000 else \"13.6 TeV\" )\n",
    "                    hepi.mass_plot(rs_dl,\"aNNLO_PLUS_NNLL_COMBINED\",1000022,axes=axs[0],mask = rs_dl[\"aNNLO_PLUS_NNLL_COMBINED\"].notnull(),tight=False,fit_fmt=\" \",next_color=True,show=False,plot_data=False,logy=True,interpolate=True,fill=True,interpolator='cubic',pre=lambda a  :np.log(a.clip(min=1e-22)),post=np.exp,init=False,label=\"\",interpolate_lower_uncertainty=False)\n",
    "                    hepi.mass_plot(rs_dl,\"aNNLO_PLUS_NNLL_NOERR\",1000022,axes=axs[1],yscale=1./frac,mask = rs_dl[\"aNNLO_PLUS_NNLL_COMBINED\"].notnull(),tight=False,yaxis=\"Ratio\",fmt=\" \",next_color=False,show=False,plot_data=False,logy=False,interpolate=True,fill=False,interpolator='cubic',pre=lambda a :np.log(a.clip(min=1e-22)),post=np.exp,init=False,label=\"\")\n",
    "                    hepi.mass_plot(rs_dl,\"aNNLO_PLUS_NNLL_COMBINED\",1000022,axes=axs[1],yscale=1./frac,mask = rs_dl[\"aNNLO_PLUS_NNLL_COMBINED\"].notnull(),tight=False,yaxis=\"Ratio\",fit_fmt=\" \",next_color=True,show=False,plot_data=False,logy=False,interpolate=True,fill=True,interpolator='cubic',pre=lambda a  :np.log(a.clip(min=1e-22)),post=np.exp,init=False,label=\"\",interpolate_lower_uncertainty=False)\n",
    "                    axs[0].set_ylim(5e-7,25)\n",
    "                    axs[1].set_ylim(-2.5,5.0)\n",
    "                    axs[0].set_xlabel(None)\n",
    "                    axs[1].set_xlabel('$m_{\\\\tilde{\\\\chi}}$ [GeV]')\n",
    "                    if energy == 13600:\n",
    "                        plt.savefig(name + \".pdf\",bbox_inches ='tight',pad_inches=0)\n",
    "                        plt.show()\n",
    "                    hepi.write_latex_table_transposed_header(rs_dl,\"aNNLO_PLUS_NNLL\",param+str(energy)+\".tex\",\"mass_1000022\")\n",
    "                    hepi.write_latex_table_transposed(rs_dl,\"aNNLO_PLUS_NNLL\",param+str(energy)+\".tex\",yscale=1000.)\n",
    "            else:\n",
    "                rs_dl = rs.run(li, skip=True, run=True, parse=True)\n",
    "                hepi.mapplot(rs_dl,\"mass_1000022_1000023_1000024\",\"mass_1000006_2000006\",\"LO\",xaxis=\"$m_{\\\\tilde{\\\\chi}_1^0}$ [GeV]\",yaxis=\"$m_{\\\\tilde{t}}$ [GeV]\" , zaxis=\"$\\\\sigma_{\\\\mathrm{NLO+NLL}}$ [pb]\")\n",
    "                plt.show()\n",
    "                hepi.mass_plot(rs_dl,\"LO\",1000006,data_fmt=\".\",show=True,interpolate=False)"
   ]
  },
  {
   "cell_type": "code",
   "execution_count": null,
   "id": "15e9ed6a",
   "metadata": {},
   "outputs": [],
   "source": [
    "hepi.mass_plot(rs_dl[rs_dl[\"mass_1000022_1000023_1000024\"]==100],\"LO\",1000006,data_fmt=\".\",show=True,interpolate=False)"
   ]
  }
 ],
 "metadata": {
  "kernelspec": {
   "display_name": "Python 3 (ipykernel)",
   "language": "python",
   "name": "python3"
  },
  "language_info": {
   "codemirror_mode": {
    "name": "ipython",
    "version": 3
   },
   "file_extension": ".py",
   "mimetype": "text/x-python",
   "name": "python",
   "nbconvert_exporter": "python",
   "pygments_lexer": "ipython3",
   "version": "3.9.13"
  }
 },
 "nbformat": 4,
 "nbformat_minor": 5
}
