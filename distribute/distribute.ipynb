{
 "cells": [
  {
   "cell_type": "markdown",
   "id": "92353069",
   "metadata": {},
   "source": [
    "# Scenarios\n",
    "\n",
    "The scenarios are taken from https://twiki.cern.ch/twiki/bin/view/LHCPhysics/SUSYCrossSections.\n",
    "\n",
    "Modifications:\n",
    "-   we set the STAUMIX values to maximally mixed for sleptons\n",
    "-   we manually set the massses of all particles tagged with an @a or {M...} "
   ]
  },
  {
   "cell_type": "code",
   "execution_count": 1,
   "id": "6c1a697f",
   "metadata": {},
   "outputs": [
    {
     "name": "stdout",
     "output_type": "stream",
     "text": [
      "0.1.13.85+dirty\n",
      "~/git/resummino/build\n"
     ]
    }
   ],
   "source": [
    "#%load_ext nb_black\n",
    "import hepi\n",
    "\n",
    "\n",
    "print(hepi.__version__)\n",
    "import smpl\n",
    "from smpl import data\n",
    "import numpy as np\n",
    "import hepi.resummino as rs\n",
    "import hepi.util as util\n",
    "import matplotlib.pyplot as plt\n",
    "\n",
    "rs.set_path(\"~/git/resummino/build\")\n",
    "print(rs.get_path())\n",
    "\n",
    "test_lo = False\n",
    "analyse  = True # else generation\n",
    "\n",
    "plt.rcParams.update({'font.size': 15})\n",
    "plt.rc('legend', fontsize=12)\n",
    "#rm tex files\n",
    "from smpl import io\n",
    "import os\n",
    "for _,_,f in io.files(\".tex\"):\n",
    "    os.remove(f)"
   ]
  },
  {
   "cell_type": "markdown",
   "id": "c10932c6",
   "metadata": {},
   "source": [
    "# aNNLO+NNLL sleptons"
   ]
  },
  {
   "cell_type": "code",
   "execution_count": 3,
   "id": "a67dfa0b",
   "metadata": {
    "scrolled": false
   },
   "outputs": [
    {
     "name": "stderr",
     "output_type": "stream",
     "text": [
      "/home/apn/.local/lib/python3.9/site-packages/hepi/input.py:283: RuntimeWarning: Could not set new central scale to average of masses.\n",
      "  warnings.warn(\"Could not set new central scale to average of masses.\",\n"
     ]
    },
    {
     "data": {
      "application/json": {
       "ascii": false,
       "bar_format": null,
       "colour": null,
       "elapsed": 0.0313563346862793,
       "initial": 0,
       "n": 0,
       "ncols": null,
       "nrows": 81,
       "postfix": null,
       "prefix": "QUEUEING TASKS | Checking input",
       "rate": null,
       "total": 470,
       "unit": "it",
       "unit_divisor": 1000,
       "unit_scale": false
      },
      "application/vnd.jupyter.widget-view+json": {
       "model_id": "94c1e1a3b6b94376a8bbfa503bfe6add",
       "version_major": 2,
       "version_minor": 0
      },
      "text/plain": [
       "QUEUEING TASKS | Checking input:   0%|          | 0/470 [00:00<?, ?it/s]"
      ]
     },
     "metadata": {},
     "output_type": "display_data"
    },
    {
     "data": {
      "application/json": {
       "ascii": false,
       "bar_format": null,
       "colour": null,
       "elapsed": 0.0365750789642334,
       "initial": 0,
       "n": 0,
       "ncols": null,
       "nrows": 81,
       "postfix": null,
       "prefix": "PROCESSING TASKS | Checking input",
       "rate": null,
       "total": 470,
       "unit": "it",
       "unit_divisor": 1000,
       "unit_scale": false
      },
      "application/vnd.jupyter.widget-view+json": {
       "model_id": "c960026c9b0f4ff4a691eda7d37717bd",
       "version_major": 2,
       "version_minor": 0
      },
      "text/plain": [
       "PROCESSING TASKS | Checking input:   0%|          | 0/470 [00:00<?, ?it/s]"
      ]
     },
     "metadata": {},
     "output_type": "display_data"
    },
    {
     "data": {
      "application/json": {
       "ascii": false,
       "bar_format": null,
       "colour": null,
       "elapsed": 0.05458688735961914,
       "initial": 0,
       "n": 0,
       "ncols": null,
       "nrows": 81,
       "postfix": null,
       "prefix": "COLLECTING RESULTS | Checking input",
       "rate": null,
       "total": 470,
       "unit": "it",
       "unit_divisor": 1000,
       "unit_scale": false
      },
      "application/vnd.jupyter.widget-view+json": {
       "model_id": "9d968e2f99e840cdb3b04c20f811ad1c",
       "version_major": 2,
       "version_minor": 0
      },
      "text/plain": [
       "COLLECTING RESULTS | Checking input:   0%|          | 0/470 [00:00<?, ?it/s]"
      ]
     },
     "metadata": {},
     "output_type": "display_data"
    },
    {
     "name": "stdout",
     "output_type": "stream",
     "text": [
      "|||||||||||||||||||||||||||||||||||||||||||||||||||||||||||||||||||||||||||||||||||||||||||||||||||||||||||||||||||||||||||||||||||||||||||||||||||||||||||||= 470 jobs\n"
     ]
    },
    {
     "ename": "KeyboardInterrupt",
     "evalue": "",
     "output_type": "error",
     "traceback": [
      "\u001b[0;31m---------------------------------------------------------------------------\u001b[0m",
      "\u001b[0;31mKeyboardInterrupt\u001b[0m                         Traceback (most recent call last)",
      "Input \u001b[0;32mIn [3]\u001b[0m, in \u001b[0;36m<cell line: 9>\u001b[0;34m()\u001b[0m\n\u001b[1;32m     50\u001b[0m     rs_dl \u001b[38;5;241m=\u001b[39m rs\u001b[38;5;241m.\u001b[39mrun(li, skip\u001b[38;5;241m=\u001b[39m\u001b[38;5;28;01mFalse\u001b[39;00m, run\u001b[38;5;241m=\u001b[39m\u001b[38;5;28;01mFalse\u001b[39;00m, parse\u001b[38;5;241m=\u001b[39m\u001b[38;5;28;01mFalse\u001b[39;00m)\n\u001b[1;32m     51\u001b[0m \u001b[38;5;28;01melse\u001b[39;00m:\n\u001b[0;32m---> 52\u001b[0m     rs_dl \u001b[38;5;241m=\u001b[39m \u001b[43mrs\u001b[49m\u001b[38;5;241;43m.\u001b[39;49m\u001b[43mrun\u001b[49m\u001b[43m(\u001b[49m\u001b[43mli\u001b[49m\u001b[43m,\u001b[49m\u001b[43m \u001b[49m\u001b[43mskip\u001b[49m\u001b[38;5;241;43m=\u001b[39;49m\u001b[38;5;28;43;01mTrue\u001b[39;49;00m\u001b[43m,\u001b[49m\u001b[43m \u001b[49m\u001b[43mrun\u001b[49m\u001b[38;5;241;43m=\u001b[39;49m\u001b[38;5;28;43;01mTrue\u001b[39;49;00m\u001b[43m,\u001b[49m\u001b[43m \u001b[49m\u001b[43mparse\u001b[49m\u001b[38;5;241;43m=\u001b[39;49m\u001b[38;5;28;43;01mTrue\u001b[39;49;00m\u001b[43m,\u001b[49m\u001b[43mignore_error\u001b[49m\u001b[38;5;241;43m=\u001b[39;49m\u001b[38;5;28;43;01mTrue\u001b[39;49;00m\u001b[43m)\u001b[49m\n\u001b[1;32m     53\u001b[0m     rs_dl \u001b[38;5;241m=\u001b[39m hepi\u001b[38;5;241m.\u001b[39mpdf_errors(li,rs_dl)\n\u001b[1;32m     54\u001b[0m     rs_dl \u001b[38;5;241m=\u001b[39m hepi\u001b[38;5;241m.\u001b[39mscale_errors(li,rs_dl)\n",
      "File \u001b[0;32m~/.local/lib/python3.9/site-packages/hepi/run.py:178\u001b[0m, in \u001b[0;36mRunner.run\u001b[0;34m(self, params, skip, parse, parallel, sleep, run, ignore_error, **kwargs)\u001b[0m\n\u001b[1;32m    176\u001b[0m     sleep \u001b[38;5;241m=\u001b[39m \u001b[38;5;241m0\u001b[39m \u001b[38;5;28;01mif\u001b[39;00m parse \u001b[38;5;28;01melse\u001b[39;00m \u001b[38;5;241m5\u001b[39m\n\u001b[1;32m    177\u001b[0m \u001b[38;5;28;01mif\u001b[39;00m run:\n\u001b[0;32m--> 178\u001b[0m     \u001b[38;5;28;43mself\u001b[39;49m\u001b[38;5;241;43m.\u001b[39;49m\u001b[43m_run\u001b[49m\u001b[43m(\u001b[49m\u001b[43mrps\u001b[49m\u001b[43m,\u001b[49m\n\u001b[1;32m    179\u001b[0m \u001b[43m              \u001b[49m\u001b[43mwait\u001b[49m\u001b[38;5;241;43m=\u001b[39;49m\u001b[43mparse\u001b[49m\u001b[43m,\u001b[49m\n\u001b[1;32m    180\u001b[0m \u001b[43m              \u001b[49m\u001b[43mparallel\u001b[49m\u001b[38;5;241;43m=\u001b[39;49m\u001b[43mparallel\u001b[49m\u001b[43m,\u001b[49m\n\u001b[1;32m    181\u001b[0m \u001b[43m              \u001b[49m\u001b[43msleep\u001b[49m\u001b[38;5;241;43m=\u001b[39;49m\u001b[43msleep\u001b[49m\u001b[43m,\u001b[49m\n\u001b[1;32m    182\u001b[0m \u001b[43m              \u001b[49m\u001b[38;5;241;43m*\u001b[39;49m\u001b[38;5;241;43m*\u001b[39;49m\u001b[43mkwargs\u001b[49m\u001b[43m)\u001b[49m\n\u001b[1;32m    183\u001b[0m \u001b[38;5;28;01mif\u001b[39;00m parse:\n\u001b[1;32m    184\u001b[0m     outs \u001b[38;5;241m=\u001b[39m LD2DL(rps)[\u001b[38;5;124m\"\u001b[39m\u001b[38;5;124mout_file\u001b[39m\u001b[38;5;124m\"\u001b[39m]\n",
      "File \u001b[0;32m~/.local/lib/python3.9/site-packages/hepi/run.py:219\u001b[0m, in \u001b[0;36mRunner._run\u001b[0;34m(self, rps, wait, parallel, sleep, **kwargs)\u001b[0m\n\u001b[1;32m    217\u001b[0m \u001b[38;5;28;01mif\u001b[39;00m \u001b[38;5;129;01mnot\u001b[39;00m rp\u001b[38;5;241m.\u001b[39mskip:\n\u001b[1;32m    218\u001b[0m     command \u001b[38;5;241m=\u001b[39m template\u001b[38;5;241m.\u001b[39mformat(rp\u001b[38;5;241m.\u001b[39mexecute)\n\u001b[0;32m--> 219\u001b[0m     process \u001b[38;5;241m=\u001b[39m \u001b[43msubprocess\u001b[49m\u001b[38;5;241;43m.\u001b[39;49m\u001b[43mPopen\u001b[49m\u001b[43m(\u001b[49m\u001b[43mcommand\u001b[49m\u001b[43m,\u001b[49m\u001b[43m \u001b[49m\u001b[43mshell\u001b[49m\u001b[38;5;241;43m=\u001b[39;49m\u001b[38;5;28;43;01mTrue\u001b[39;49;00m\u001b[43m)\u001b[49m\n\u001b[1;32m    220\u001b[0m     processes\u001b[38;5;241m.\u001b[39mappend(process)\n\u001b[1;32m    221\u001b[0m     \u001b[38;5;28;01mif\u001b[39;00m \u001b[38;5;129;01mnot\u001b[39;00m parallel:\n",
      "File \u001b[0;32m/usr/lib/python3.9/subprocess.py:951\u001b[0m, in \u001b[0;36mPopen.__init__\u001b[0;34m(self, args, bufsize, executable, stdin, stdout, stderr, preexec_fn, close_fds, shell, cwd, env, universal_newlines, startupinfo, creationflags, restore_signals, start_new_session, pass_fds, user, group, extra_groups, encoding, errors, text, umask)\u001b[0m\n\u001b[1;32m    947\u001b[0m         \u001b[38;5;28;01mif\u001b[39;00m \u001b[38;5;28mself\u001b[39m\u001b[38;5;241m.\u001b[39mtext_mode:\n\u001b[1;32m    948\u001b[0m             \u001b[38;5;28mself\u001b[39m\u001b[38;5;241m.\u001b[39mstderr \u001b[38;5;241m=\u001b[39m io\u001b[38;5;241m.\u001b[39mTextIOWrapper(\u001b[38;5;28mself\u001b[39m\u001b[38;5;241m.\u001b[39mstderr,\n\u001b[1;32m    949\u001b[0m                     encoding\u001b[38;5;241m=\u001b[39mencoding, errors\u001b[38;5;241m=\u001b[39merrors)\n\u001b[0;32m--> 951\u001b[0m     \u001b[38;5;28;43mself\u001b[39;49m\u001b[38;5;241;43m.\u001b[39;49m\u001b[43m_execute_child\u001b[49m\u001b[43m(\u001b[49m\u001b[43margs\u001b[49m\u001b[43m,\u001b[49m\u001b[43m \u001b[49m\u001b[43mexecutable\u001b[49m\u001b[43m,\u001b[49m\u001b[43m \u001b[49m\u001b[43mpreexec_fn\u001b[49m\u001b[43m,\u001b[49m\u001b[43m \u001b[49m\u001b[43mclose_fds\u001b[49m\u001b[43m,\u001b[49m\n\u001b[1;32m    952\u001b[0m \u001b[43m                        \u001b[49m\u001b[43mpass_fds\u001b[49m\u001b[43m,\u001b[49m\u001b[43m \u001b[49m\u001b[43mcwd\u001b[49m\u001b[43m,\u001b[49m\u001b[43m \u001b[49m\u001b[43menv\u001b[49m\u001b[43m,\u001b[49m\n\u001b[1;32m    953\u001b[0m \u001b[43m                        \u001b[49m\u001b[43mstartupinfo\u001b[49m\u001b[43m,\u001b[49m\u001b[43m \u001b[49m\u001b[43mcreationflags\u001b[49m\u001b[43m,\u001b[49m\u001b[43m \u001b[49m\u001b[43mshell\u001b[49m\u001b[43m,\u001b[49m\n\u001b[1;32m    954\u001b[0m \u001b[43m                        \u001b[49m\u001b[43mp2cread\u001b[49m\u001b[43m,\u001b[49m\u001b[43m \u001b[49m\u001b[43mp2cwrite\u001b[49m\u001b[43m,\u001b[49m\n\u001b[1;32m    955\u001b[0m \u001b[43m                        \u001b[49m\u001b[43mc2pread\u001b[49m\u001b[43m,\u001b[49m\u001b[43m \u001b[49m\u001b[43mc2pwrite\u001b[49m\u001b[43m,\u001b[49m\n\u001b[1;32m    956\u001b[0m \u001b[43m                        \u001b[49m\u001b[43merrread\u001b[49m\u001b[43m,\u001b[49m\u001b[43m \u001b[49m\u001b[43merrwrite\u001b[49m\u001b[43m,\u001b[49m\n\u001b[1;32m    957\u001b[0m \u001b[43m                        \u001b[49m\u001b[43mrestore_signals\u001b[49m\u001b[43m,\u001b[49m\n\u001b[1;32m    958\u001b[0m \u001b[43m                        \u001b[49m\u001b[43mgid\u001b[49m\u001b[43m,\u001b[49m\u001b[43m \u001b[49m\u001b[43mgids\u001b[49m\u001b[43m,\u001b[49m\u001b[43m \u001b[49m\u001b[43muid\u001b[49m\u001b[43m,\u001b[49m\u001b[43m \u001b[49m\u001b[43mumask\u001b[49m\u001b[43m,\u001b[49m\n\u001b[1;32m    959\u001b[0m \u001b[43m                        \u001b[49m\u001b[43mstart_new_session\u001b[49m\u001b[43m)\u001b[49m\n\u001b[1;32m    960\u001b[0m \u001b[38;5;28;01mexcept\u001b[39;00m:\n\u001b[1;32m    961\u001b[0m     \u001b[38;5;66;03m# Cleanup if the child failed starting.\u001b[39;00m\n\u001b[1;32m    962\u001b[0m     \u001b[38;5;28;01mfor\u001b[39;00m f \u001b[38;5;129;01min\u001b[39;00m \u001b[38;5;28mfilter\u001b[39m(\u001b[38;5;28;01mNone\u001b[39;00m, (\u001b[38;5;28mself\u001b[39m\u001b[38;5;241m.\u001b[39mstdin, \u001b[38;5;28mself\u001b[39m\u001b[38;5;241m.\u001b[39mstdout, \u001b[38;5;28mself\u001b[39m\u001b[38;5;241m.\u001b[39mstderr)):\n",
      "File \u001b[0;32m/usr/lib/python3.9/subprocess.py:1777\u001b[0m, in \u001b[0;36mPopen._execute_child\u001b[0;34m(self, args, executable, preexec_fn, close_fds, pass_fds, cwd, env, startupinfo, creationflags, shell, p2cread, p2cwrite, c2pread, c2pwrite, errread, errwrite, restore_signals, gid, gids, uid, umask, start_new_session)\u001b[0m\n\u001b[1;32m   1775\u001b[0m errpipe_data \u001b[38;5;241m=\u001b[39m \u001b[38;5;28mbytearray\u001b[39m()\n\u001b[1;32m   1776\u001b[0m \u001b[38;5;28;01mwhile\u001b[39;00m \u001b[38;5;28;01mTrue\u001b[39;00m:\n\u001b[0;32m-> 1777\u001b[0m     part \u001b[38;5;241m=\u001b[39m \u001b[43mos\u001b[49m\u001b[38;5;241;43m.\u001b[39;49m\u001b[43mread\u001b[49m\u001b[43m(\u001b[49m\u001b[43merrpipe_read\u001b[49m\u001b[43m,\u001b[49m\u001b[43m \u001b[49m\u001b[38;5;241;43m50000\u001b[39;49m\u001b[43m)\u001b[49m\n\u001b[1;32m   1778\u001b[0m     errpipe_data \u001b[38;5;241m+\u001b[39m\u001b[38;5;241m=\u001b[39m part\n\u001b[1;32m   1779\u001b[0m     \u001b[38;5;28;01mif\u001b[39;00m \u001b[38;5;129;01mnot\u001b[39;00m part \u001b[38;5;129;01mor\u001b[39;00m \u001b[38;5;28mlen\u001b[39m(errpipe_data) \u001b[38;5;241m>\u001b[39m \u001b[38;5;241m50000\u001b[39m:\n",
      "\u001b[0;31mKeyboardInterrupt\u001b[0m: "
     ]
    }
   ],
   "source": [
    "params = [\n",
    "    \"sleptons.slha\",\n",
    "]\n",
    "pss = [\n",
    "    (+1000011, -1000011),  # l_L^+ l_L^-\n",
    "    (+2000011, -2000011),  # l_R^+ l_R^-\n",
    "    (+1000015, -1000015),  # l_1^+ l_1^-\n",
    "]\n",
    "for pa, pb in pss:\n",
    "    for energy in [13000, 13600]:\n",
    "        name = str(energy) + \"_sleptons_\" + str(pa) + \"_\" + str(pb)\n",
    "        hepi.set_output_dir(\"output_\" + name +\"/\")\n",
    "        rs.default_resummino_runner.set_output_dir(hepi.get_output_dir())\n",
    "        for param in params:\n",
    "            i = hepi.Input(\n",
    "                hepi.Order.LO if test_lo else hepi.Order.aNNLO_PLUS_NNLL,\n",
    "                energy,\n",
    "                pa,\n",
    "                pb,\n",
    "                param,\n",
    "                \"PDF4LHC21_40\",\n",
    "                \"PDF4LHC21_40\",\n",
    "                1.0,\n",
    "                1.0,\n",
    "                id=\"0.0.0\",\n",
    "                precision=0.001,\n",
    "                max_iters=50,\n",
    "            )\n",
    "            li = [i]\n",
    "            li = hepi.masses_scan(\n",
    "                li,\n",
    "                [\n",
    "                    1000011,\n",
    "                    2000011,\n",
    "                    1000012,\n",
    "                    1000013,\n",
    "                    2000013,\n",
    "                    1000014,\n",
    "                    1000015,\n",
    "                    2000015,\n",
    "                    1000016,\n",
    "                ],\n",
    "                range(100, 1010, 100),\n",
    "            )\n",
    "            if not test_lo:\n",
    "                li = hepi.seven_point_scan(li)\n",
    "                li = hepi.pdf_scan(li)\n",
    "                # li = hepi.change_where(li, {\"precision\": 0.0001, \"max_iters\": 200}, pdfset_nlo=0)\n",
    "                if not analyse:\n",
    "                    rs_dl = rs.run(li, skip=False, run=False, parse=False)\n",
    "                else:\n",
    "                    rs_dl = rs.run(li, skip=True, run=True, parse=True,ignore_error=True)\n",
    "                    rs_dl = hepi.pdf_errors(li,rs_dl)\n",
    "                    rs_dl = hepi.scale_errors(li,rs_dl)\n",
    "                    rs_dl = hepi.combine_errors(rs_dl)\n",
    "                    if energy == 13000:\n",
    "                        fig, axs = plt.subplots(2, 1, figsize=(6,4), sharex=True, gridspec_kw={'height_ratios': [2, 1]})         # Remove horizontal space between axes         \n",
    "                        fig.subplots_adjust(hspace=0)\n",
    "                        hepi.title(li[0],axe=axs[0],cms_energy=False,pdf_info=False,scenario=\"\")\n",
    "                        frac = rs_dl[\"aNNLO_PLUS_NNLL_NOERR\"][rs_dl[\"aNNLO_PLUS_NNLL_COMBINED\"].notnull()]\n",
    "                    hepi.mass_plot(rs_dl,\"aNNLO_PLUS_NNLL_NOERR\",1000011,axes=axs[0],mask = rs_dl[\"aNNLO_PLUS_NNLL_COMBINED\"].notnull(),tight=False,fmt=\" \",next_color=False,show=False,plot_data=False,logy=True,interpolate=True,fill=False,interpolator='cubic',pre=lambda a :np.log(a.clip(min=1e-22)),post=np.exp,init=False,interpolate_label=\"13.0 TeV\" if energy == 13000 else \"13.6 TeV\" )\n",
    "                    hepi.mass_plot(rs_dl,\"aNNLO_PLUS_NNLL_COMBINED\",1000011,axes=axs[0],mask = rs_dl[\"aNNLO_PLUS_NNLL_COMBINED\"].notnull(),tight=False,fit_fmt=\" \",next_color=True,show=False,plot_data=False,logy=True,interpolate=True,fill=True,interpolator='cubic',pre=lambda a  :np.log(a.clip(min=1e-22)),post=np.exp,init=False,label=\"\",interpolate_lower_uncertainty=False)\n",
    "                    hepi.mass_plot(rs_dl,\"aNNLO_PLUS_NNLL_NOERR\",1000011,axes=axs[1],yscale=1./frac,mask = rs_dl[\"aNNLO_PLUS_NNLL_COMBINED\"].notnull(),tight=False,yaxis=\"Ratio\",fmt=\" \",next_color=False,show=False,plot_data=False,logy=False,interpolate=True,fill=False,interpolator='cubic',pre=lambda a :np.log(a.clip(min=1e-22)),post=np.exp,init=False,label=\"\")\n",
    "                    hepi.mass_plot(rs_dl,\"aNNLO_PLUS_NNLL_COMBINED\",1000011,axes=axs[1],yscale=1./frac,mask = rs_dl[\"aNNLO_PLUS_NNLL_COMBINED\"].notnull(),tight=False,yaxis=\"Ratio\",fit_fmt=\" \",next_color=True,show=False,plot_data=False,logy=False,interpolate=True,fill=True,interpolator='cubic',pre=lambda a  :np.log(a.clip(min=1e-22)),post=np.exp,init=False,label=\"\",interpolate_lower_uncertainty=False)\n",
    "                    axs[0].set_ylim(5e-7,1)\n",
    "                    axs[1].set_ylim(0.25,1.75)\n",
    "                    axs[0].set_xlabel(None)\n",
    "                    axs[1].set_xlabel('$m_{\\\\tilde{l}}$ [GeV]')\n",
    "                    if energy == 13600:\n",
    "                        plt.savefig(name + \".pdf\",bbox_inches ='tight',pad_inches=0)\n",
    "                        plt.show()\n",
    "                    hepi.write_latex_table_transposed_header(rs_dl,\"aNNLO_PLUS_NNLL\",param+str(energy)+\".tex\",\"mass_1000011\")\n",
    "                    hepi.write_latex_table_transposed(rs_dl,\"aNNLO_PLUS_NNLL\",param+str(energy)+\".tex\",yscale=1000.)\n",
    "            else:\n",
    "                rs_dl = rs.run(li, skip=False, run=True, parse=True)\n",
    "                hepi.mass_plot(rs_dl,\"LO\",1000011,show=True,interpolator='exp')"
   ]
  },
  {
   "cell_type": "markdown",
   "id": "9c261ba6",
   "metadata": {},
   "source": [
    "# aNNLO+NNLL wino\n"
   ]
  },
  {
   "cell_type": "code",
   "execution_count": 2,
   "id": "e050dbc9",
   "metadata": {
    "scrolled": false
   },
   "outputs": [
    {
     "name": "stderr",
     "output_type": "stream",
     "text": [
      "/home/apn/.local/lib/python3.9/site-packages/hepi/input.py:283: RuntimeWarning: Could not set new central scale to average of masses.\n",
      "  warnings.warn(\"Could not set new central scale to average of masses.\",\n"
     ]
    },
    {
     "data": {
      "application/json": {
       "ascii": false,
       "bar_format": null,
       "colour": null,
       "elapsed": 0.03095102310180664,
       "initial": 0,
       "n": 0,
       "ncols": null,
       "nrows": 81,
       "postfix": null,
       "prefix": "QUEUEING TASKS | Checking input",
       "rate": null,
       "total": 940,
       "unit": "it",
       "unit_divisor": 1000,
       "unit_scale": false
      },
      "application/vnd.jupyter.widget-view+json": {
       "model_id": "0ea165b8407444b7bcee194960893f11",
       "version_major": 2,
       "version_minor": 0
      },
      "text/plain": [
       "QUEUEING TASKS | Checking input:   0%|          | 0/940 [00:00<?, ?it/s]"
      ]
     },
     "metadata": {},
     "output_type": "display_data"
    },
    {
     "data": {
      "application/json": {
       "ascii": false,
       "bar_format": null,
       "colour": null,
       "elapsed": 0.02809286117553711,
       "initial": 0,
       "n": 0,
       "ncols": null,
       "nrows": 81,
       "postfix": null,
       "prefix": "PROCESSING TASKS | Checking input",
       "rate": null,
       "total": 940,
       "unit": "it",
       "unit_divisor": 1000,
       "unit_scale": false
      },
      "application/vnd.jupyter.widget-view+json": {
       "model_id": "9dd43139ebea4c63bd25ea6e1ec25330",
       "version_major": 2,
       "version_minor": 0
      },
      "text/plain": [
       "PROCESSING TASKS | Checking input:   0%|          | 0/940 [00:00<?, ?it/s]"
      ]
     },
     "metadata": {},
     "output_type": "display_data"
    },
    {
     "data": {
      "application/json": {
       "ascii": false,
       "bar_format": null,
       "colour": null,
       "elapsed": 0.03301882743835449,
       "initial": 0,
       "n": 0,
       "ncols": null,
       "nrows": 81,
       "postfix": null,
       "prefix": "COLLECTING RESULTS | Checking input",
       "rate": null,
       "total": 940,
       "unit": "it",
       "unit_divisor": 1000,
       "unit_scale": false
      },
      "application/vnd.jupyter.widget-view+json": {
       "model_id": "d00d9ba63c3c40eaaeb27551480dd885",
       "version_major": 2,
       "version_minor": 0
      },
      "text/plain": [
       "COLLECTING RESULTS | Checking input:   0%|          | 0/940 [00:00<?, ?it/s]"
      ]
     },
     "metadata": {},
     "output_type": "display_data"
    },
    {
     "data": {
      "application/json": {
       "ascii": false,
       "bar_format": null,
       "colour": null,
       "elapsed": 0.028222084045410156,
       "initial": 0,
       "n": 0,
       "ncols": null,
       "nrows": 81,
       "postfix": null,
       "prefix": "QUEUEING TASKS | Preparing",
       "rate": null,
       "total": 940,
       "unit": "it",
       "unit_divisor": 1000,
       "unit_scale": false
      },
      "application/vnd.jupyter.widget-view+json": {
       "model_id": "43351f086c3e46eeaf3861016d894aba",
       "version_major": 2,
       "version_minor": 0
      },
      "text/plain": [
       "QUEUEING TASKS | Preparing:   0%|          | 0/940 [00:00<?, ?it/s]"
      ]
     },
     "metadata": {},
     "output_type": "display_data"
    },
    {
     "data": {
      "application/json": {
       "ascii": false,
       "bar_format": null,
       "colour": null,
       "elapsed": 0.10715985298156738,
       "initial": 0,
       "n": 0,
       "ncols": null,
       "nrows": 81,
       "postfix": null,
       "prefix": "PROCESSING TASKS | Preparing",
       "rate": null,
       "total": 940,
       "unit": "it",
       "unit_divisor": 1000,
       "unit_scale": false
      },
      "application/vnd.jupyter.widget-view+json": {
       "model_id": "31c418eb48bb43868b36d5c67f01ff51",
       "version_major": 2,
       "version_minor": 0
      },
      "text/plain": [
       "PROCESSING TASKS | Preparing:   0%|          | 0/940 [00:00<?, ?it/s]"
      ]
     },
     "metadata": {},
     "output_type": "display_data"
    },
    {
     "data": {
      "application/json": {
       "ascii": false,
       "bar_format": null,
       "colour": null,
       "elapsed": 0.0314478874206543,
       "initial": 0,
       "n": 0,
       "ncols": null,
       "nrows": 81,
       "postfix": null,
       "prefix": "COLLECTING RESULTS | Preparing",
       "rate": null,
       "total": 940,
       "unit": "it",
       "unit_divisor": 1000,
       "unit_scale": false
      },
      "application/vnd.jupyter.widget-view+json": {
       "model_id": "dda914d19e24431e81da4b06ac3e55c3",
       "version_major": 2,
       "version_minor": 0
      },
      "text/plain": [
       "COLLECTING RESULTS | Preparing:   0%|          | 0/940 [00:00<?, ?it/s]"
      ]
     },
     "metadata": {},
     "output_type": "display_data"
    },
    {
     "name": "stdout",
     "output_type": "stream",
     "text": [
      "Skipped: 940 Not skipped: 0\n"
     ]
    },
    {
     "data": {
      "application/json": {
       "ascii": false,
       "bar_format": null,
       "colour": null,
       "elapsed": 0.03106689453125,
       "initial": 0,
       "n": 0,
       "ncols": null,
       "nrows": 81,
       "postfix": null,
       "prefix": "QUEUEING TASKS | Parsing",
       "rate": null,
       "total": 940,
       "unit": "it",
       "unit_divisor": 1000,
       "unit_scale": false
      },
      "application/vnd.jupyter.widget-view+json": {
       "model_id": "e599999a10154719a077987ed7199f11",
       "version_major": 2,
       "version_minor": 0
      },
      "text/plain": [
       "QUEUEING TASKS | Parsing:   0%|          | 0/940 [00:00<?, ?it/s]"
      ]
     },
     "metadata": {},
     "output_type": "display_data"
    },
    {
     "data": {
      "application/json": {
       "ascii": false,
       "bar_format": null,
       "colour": null,
       "elapsed": 0.4727168083190918,
       "initial": 0,
       "n": 0,
       "ncols": null,
       "nrows": 81,
       "postfix": null,
       "prefix": "PROCESSING TASKS | Parsing",
       "rate": null,
       "total": 940,
       "unit": "it",
       "unit_divisor": 1000,
       "unit_scale": false
      },
      "application/vnd.jupyter.widget-view+json": {
       "model_id": "38aa2fe208c049feb1cfee679a3843a4",
       "version_major": 2,
       "version_minor": 0
      },
      "text/plain": [
       "PROCESSING TASKS | Parsing:   0%|          | 0/940 [00:00<?, ?it/s]"
      ]
     },
     "metadata": {},
     "output_type": "display_data"
    },
    {
     "data": {
      "application/json": {
       "ascii": false,
       "bar_format": null,
       "colour": null,
       "elapsed": 0.03147482872009277,
       "initial": 0,
       "n": 0,
       "ncols": null,
       "nrows": 81,
       "postfix": null,
       "prefix": "COLLECTING RESULTS | Parsing",
       "rate": null,
       "total": 940,
       "unit": "it",
       "unit_divisor": 1000,
       "unit_scale": false
      },
      "application/vnd.jupyter.widget-view+json": {
       "model_id": "ddb5f57c7c5b4c748581eea406c0b551",
       "version_major": 2,
       "version_minor": 0
      },
      "text/plain": [
       "COLLECTING RESULTS | Parsing:   0%|          | 0/940 [00:00<?, ?it/s]"
      ]
     },
     "metadata": {},
     "output_type": "display_data"
    },
    {
     "data": {
      "application/json": {
       "ascii": false,
       "bar_format": null,
       "colour": null,
       "elapsed": 0.03444099426269531,
       "initial": 0,
       "n": 0,
       "ncols": null,
       "nrows": 81,
       "postfix": null,
       "prefix": "QUEUEING TASKS | PDF uncertainty @ LO",
       "rate": null,
       "total": 20,
       "unit": "it",
       "unit_divisor": 1000,
       "unit_scale": false
      },
      "application/vnd.jupyter.widget-view+json": {
       "model_id": "70d61d7fe50d4370a5e72ca361d50fb1",
       "version_major": 2,
       "version_minor": 0
      },
      "text/plain": [
       "QUEUEING TASKS | PDF uncertainty @ LO:   0%|          | 0/20 [00:00<?, ?it/s]"
      ]
     },
     "metadata": {},
     "output_type": "display_data"
    },
    {
     "data": {
      "application/json": {
       "ascii": false,
       "bar_format": null,
       "colour": null,
       "elapsed": 0.15342068672180176,
       "initial": 0,
       "n": 0,
       "ncols": null,
       "nrows": 81,
       "postfix": null,
       "prefix": "PROCESSING TASKS | PDF uncertainty @ LO",
       "rate": null,
       "total": 20,
       "unit": "it",
       "unit_divisor": 1000,
       "unit_scale": false
      },
      "application/vnd.jupyter.widget-view+json": {
       "model_id": "27a43d754d6a46449c3c9a87c5ea549f",
       "version_major": 2,
       "version_minor": 0
      },
      "text/plain": [
       "PROCESSING TASKS | PDF uncertainty @ LO:   0%|          | 0/20 [00:00<?, ?it/s]"
      ]
     },
     "metadata": {},
     "output_type": "display_data"
    },
    {
     "data": {
      "application/json": {
       "ascii": false,
       "bar_format": null,
       "colour": null,
       "elapsed": 0.0368804931640625,
       "initial": 0,
       "n": 0,
       "ncols": null,
       "nrows": 81,
       "postfix": null,
       "prefix": "COLLECTING RESULTS | PDF uncertainty @ LO",
       "rate": null,
       "total": 20,
       "unit": "it",
       "unit_divisor": 1000,
       "unit_scale": false
      },
      "application/vnd.jupyter.widget-view+json": {
       "model_id": "99b8013cdf404bb583e4d43d31045e6d",
       "version_major": 2,
       "version_minor": 0
      },
      "text/plain": [
       "COLLECTING RESULTS | PDF uncertainty @ LO:   0%|          | 0/20 [00:00<?, ?it/s]"
      ]
     },
     "metadata": {},
     "output_type": "display_data"
    },
    {
     "data": {
      "application/json": {
       "ascii": false,
       "bar_format": null,
       "colour": null,
       "elapsed": 0.025970935821533203,
       "initial": 0,
       "n": 0,
       "ncols": null,
       "nrows": 81,
       "postfix": null,
       "prefix": "QUEUEING TASKS | PDF uncertainty @ NLO",
       "rate": null,
       "total": 20,
       "unit": "it",
       "unit_divisor": 1000,
       "unit_scale": false
      },
      "application/vnd.jupyter.widget-view+json": {
       "model_id": "e09c326b8da1426fad937a8ac18d5908",
       "version_major": 2,
       "version_minor": 0
      },
      "text/plain": [
       "QUEUEING TASKS | PDF uncertainty @ NLO:   0%|          | 0/20 [00:00<?, ?it/s]"
      ]
     },
     "metadata": {},
     "output_type": "display_data"
    },
    {
     "data": {
      "application/json": {
       "ascii": false,
       "bar_format": null,
       "colour": null,
       "elapsed": 0.16062068939208984,
       "initial": 0,
       "n": 0,
       "ncols": null,
       "nrows": 81,
       "postfix": null,
       "prefix": "PROCESSING TASKS | PDF uncertainty @ NLO",
       "rate": null,
       "total": 20,
       "unit": "it",
       "unit_divisor": 1000,
       "unit_scale": false
      },
      "application/vnd.jupyter.widget-view+json": {
       "model_id": "c078b81fe73e4278a44626dc2cc92133",
       "version_major": 2,
       "version_minor": 0
      },
      "text/plain": [
       "PROCESSING TASKS | PDF uncertainty @ NLO:   0%|          | 0/20 [00:00<?, ?it/s]"
      ]
     },
     "metadata": {},
     "output_type": "display_data"
    },
    {
     "data": {
      "application/json": {
       "ascii": false,
       "bar_format": null,
       "colour": null,
       "elapsed": 0.02756047248840332,
       "initial": 0,
       "n": 0,
       "ncols": null,
       "nrows": 81,
       "postfix": null,
       "prefix": "COLLECTING RESULTS | PDF uncertainty @ NLO",
       "rate": null,
       "total": 20,
       "unit": "it",
       "unit_divisor": 1000,
       "unit_scale": false
      },
      "application/vnd.jupyter.widget-view+json": {
       "model_id": "c3f19e026cb1456dbf1fa6b0ac53168d",
       "version_major": 2,
       "version_minor": 0
      },
      "text/plain": [
       "COLLECTING RESULTS | PDF uncertainty @ NLO:   0%|          | 0/20 [00:00<?, ?it/s]"
      ]
     },
     "metadata": {},
     "output_type": "display_data"
    },
    {
     "data": {
      "application/json": {
       "ascii": false,
       "bar_format": null,
       "colour": null,
       "elapsed": 0.033623456954956055,
       "initial": 0,
       "n": 0,
       "ncols": null,
       "nrows": 81,
       "postfix": null,
       "prefix": "QUEUEING TASKS | PDF uncertainty @ aNNLO_PLUS_NNLL",
       "rate": null,
       "total": 20,
       "unit": "it",
       "unit_divisor": 1000,
       "unit_scale": false
      },
      "application/vnd.jupyter.widget-view+json": {
       "model_id": "5686ae651c0a4f9593c2c23029b53627",
       "version_major": 2,
       "version_minor": 0
      },
      "text/plain": [
       "QUEUEING TASKS | PDF uncertainty @ aNNLO_PLUS_NNLL:   0%|          | 0/20 [00:00<?, ?it/s]"
      ]
     },
     "metadata": {},
     "output_type": "display_data"
    },
    {
     "data": {
      "application/json": {
       "ascii": false,
       "bar_format": null,
       "colour": null,
       "elapsed": 0.22777390480041504,
       "initial": 0,
       "n": 0,
       "ncols": null,
       "nrows": 81,
       "postfix": null,
       "prefix": "PROCESSING TASKS | PDF uncertainty @ aNNLO_PLUS_NNLL",
       "rate": null,
       "total": 20,
       "unit": "it",
       "unit_divisor": 1000,
       "unit_scale": false
      },
      "application/vnd.jupyter.widget-view+json": {
       "model_id": "d81141d521c24e1e80ebf6b49a40c2c4",
       "version_major": 2,
       "version_minor": 0
      },
      "text/plain": [
       "PROCESSING TASKS | PDF uncertainty @ aNNLO_PLUS_NNLL:   0%|          | 0/20 [00:00<?, ?it/s]"
      ]
     },
     "metadata": {},
     "output_type": "display_data"
    },
    {
     "data": {
      "application/json": {
       "ascii": false,
       "bar_format": null,
       "colour": null,
       "elapsed": 0.03206825256347656,
       "initial": 0,
       "n": 0,
       "ncols": null,
       "nrows": 81,
       "postfix": null,
       "prefix": "COLLECTING RESULTS | PDF uncertainty @ aNNLO_PLUS_NNLL",
       "rate": null,
       "total": 20,
       "unit": "it",
       "unit_divisor": 1000,
       "unit_scale": false
      },
      "application/vnd.jupyter.widget-view+json": {
       "model_id": "2459c059a2234f5ca15854cc2a921196",
       "version_major": 2,
       "version_minor": 0
      },
      "text/plain": [
       "COLLECTING RESULTS | PDF uncertainty @ aNNLO_PLUS_NNLL:   0%|          | 0/20 [00:00<?, ?it/s]"
      ]
     },
     "metadata": {},
     "output_type": "display_data"
    },
    {
     "data": {
      "application/json": {
       "ascii": false,
       "bar_format": null,
       "colour": null,
       "elapsed": 0.028349637985229492,
       "initial": 0,
       "n": 0,
       "ncols": null,
       "nrows": 81,
       "postfix": null,
       "prefix": "QUEUEING TASKS | Scale uncertainty @ LO",
       "rate": null,
       "total": 20,
       "unit": "it",
       "unit_divisor": 1000,
       "unit_scale": false
      },
      "application/vnd.jupyter.widget-view+json": {
       "model_id": "fc4e9631e5124c9cb1e5d5773512332a",
       "version_major": 2,
       "version_minor": 0
      },
      "text/plain": [
       "QUEUEING TASKS | Scale uncertainty @ LO:   0%|          | 0/20 [00:00<?, ?it/s]"
      ]
     },
     "metadata": {},
     "output_type": "display_data"
    },
    {
     "data": {
      "application/json": {
       "ascii": false,
       "bar_format": null,
       "colour": null,
       "elapsed": 0.20725274085998535,
       "initial": 0,
       "n": 0,
       "ncols": null,
       "nrows": 81,
       "postfix": null,
       "prefix": "PROCESSING TASKS | Scale uncertainty @ LO",
       "rate": null,
       "total": 20,
       "unit": "it",
       "unit_divisor": 1000,
       "unit_scale": false
      },
      "application/vnd.jupyter.widget-view+json": {
       "model_id": "5c3aebe4fc7442639a1f138c0320d1a9",
       "version_major": 2,
       "version_minor": 0
      },
      "text/plain": [
       "PROCESSING TASKS | Scale uncertainty @ LO:   0%|          | 0/20 [00:00<?, ?it/s]"
      ]
     },
     "metadata": {},
     "output_type": "display_data"
    },
    {
     "data": {
      "application/json": {
       "ascii": false,
       "bar_format": null,
       "colour": null,
       "elapsed": 0.029053926467895508,
       "initial": 0,
       "n": 0,
       "ncols": null,
       "nrows": 81,
       "postfix": null,
       "prefix": "COLLECTING RESULTS | Scale uncertainty @ LO",
       "rate": null,
       "total": 20,
       "unit": "it",
       "unit_divisor": 1000,
       "unit_scale": false
      },
      "application/vnd.jupyter.widget-view+json": {
       "model_id": "9edb2015e12041d4b43f2a5a9246d501",
       "version_major": 2,
       "version_minor": 0
      },
      "text/plain": [
       "COLLECTING RESULTS | Scale uncertainty @ LO:   0%|          | 0/20 [00:00<?, ?it/s]"
      ]
     },
     "metadata": {},
     "output_type": "display_data"
    },
    {
     "data": {
      "application/json": {
       "ascii": false,
       "bar_format": null,
       "colour": null,
       "elapsed": 0.041904449462890625,
       "initial": 0,
       "n": 0,
       "ncols": null,
       "nrows": 81,
       "postfix": null,
       "prefix": "QUEUEING TASKS | Scale uncertainty @ NLO",
       "rate": null,
       "total": 20,
       "unit": "it",
       "unit_divisor": 1000,
       "unit_scale": false
      },
      "application/vnd.jupyter.widget-view+json": {
       "model_id": "37cff5fcb15d4f5990f04380a1170cfd",
       "version_major": 2,
       "version_minor": 0
      },
      "text/plain": [
       "QUEUEING TASKS | Scale uncertainty @ NLO:   0%|          | 0/20 [00:00<?, ?it/s]"
      ]
     },
     "metadata": {},
     "output_type": "display_data"
    },
    {
     "data": {
      "application/json": {
       "ascii": false,
       "bar_format": null,
       "colour": null,
       "elapsed": 0.24397754669189453,
       "initial": 0,
       "n": 0,
       "ncols": null,
       "nrows": 81,
       "postfix": null,
       "prefix": "PROCESSING TASKS | Scale uncertainty @ NLO",
       "rate": null,
       "total": 20,
       "unit": "it",
       "unit_divisor": 1000,
       "unit_scale": false
      },
      "application/vnd.jupyter.widget-view+json": {
       "model_id": "42ef79acc2bc4408ad6cb1fd42622940",
       "version_major": 2,
       "version_minor": 0
      },
      "text/plain": [
       "PROCESSING TASKS | Scale uncertainty @ NLO:   0%|          | 0/20 [00:00<?, ?it/s]"
      ]
     },
     "metadata": {},
     "output_type": "display_data"
    },
    {
     "data": {
      "application/json": {
       "ascii": false,
       "bar_format": null,
       "colour": null,
       "elapsed": 0.03557753562927246,
       "initial": 0,
       "n": 0,
       "ncols": null,
       "nrows": 81,
       "postfix": null,
       "prefix": "COLLECTING RESULTS | Scale uncertainty @ NLO",
       "rate": null,
       "total": 20,
       "unit": "it",
       "unit_divisor": 1000,
       "unit_scale": false
      },
      "application/vnd.jupyter.widget-view+json": {
       "model_id": "d2f2c7ff47ed4831b32436a18931db09",
       "version_major": 2,
       "version_minor": 0
      },
      "text/plain": [
       "COLLECTING RESULTS | Scale uncertainty @ NLO:   0%|          | 0/20 [00:00<?, ?it/s]"
      ]
     },
     "metadata": {},
     "output_type": "display_data"
    },
    {
     "data": {
      "application/json": {
       "ascii": false,
       "bar_format": null,
       "colour": null,
       "elapsed": 0.02944636344909668,
       "initial": 0,
       "n": 0,
       "ncols": null,
       "nrows": 81,
       "postfix": null,
       "prefix": "QUEUEING TASKS | Scale uncertainty @ aNNLO_PLUS_NNLL",
       "rate": null,
       "total": 20,
       "unit": "it",
       "unit_divisor": 1000,
       "unit_scale": false
      },
      "application/vnd.jupyter.widget-view+json": {
       "model_id": "1f9de3733d664f28930760ea3496dbb5",
       "version_major": 2,
       "version_minor": 0
      },
      "text/plain": [
       "QUEUEING TASKS | Scale uncertainty @ aNNLO_PLUS_NNLL:   0%|          | 0/20 [00:00<?, ?it/s]"
      ]
     },
     "metadata": {},
     "output_type": "display_data"
    },
    {
     "data": {
      "application/json": {
       "ascii": false,
       "bar_format": null,
       "colour": null,
       "elapsed": 0.19878625869750977,
       "initial": 0,
       "n": 0,
       "ncols": null,
       "nrows": 81,
       "postfix": null,
       "prefix": "PROCESSING TASKS | Scale uncertainty @ aNNLO_PLUS_NNLL",
       "rate": null,
       "total": 20,
       "unit": "it",
       "unit_divisor": 1000,
       "unit_scale": false
      },
      "application/vnd.jupyter.widget-view+json": {
       "model_id": "3e8bb3ca6dac44f38273247f9b513056",
       "version_major": 2,
       "version_minor": 0
      },
      "text/plain": [
       "PROCESSING TASKS | Scale uncertainty @ aNNLO_PLUS_NNLL:   0%|          | 0/20 [00:00<?, ?it/s]"
      ]
     },
     "metadata": {},
     "output_type": "display_data"
    },
    {
     "data": {
      "application/json": {
       "ascii": false,
       "bar_format": null,
       "colour": null,
       "elapsed": 0.031813859939575195,
       "initial": 0,
       "n": 0,
       "ncols": null,
       "nrows": 81,
       "postfix": null,
       "prefix": "COLLECTING RESULTS | Scale uncertainty @ aNNLO_PLUS_NNLL",
       "rate": null,
       "total": 20,
       "unit": "it",
       "unit_divisor": 1000,
       "unit_scale": false
      },
      "application/vnd.jupyter.widget-view+json": {
       "model_id": "a5cb7cc7e05c4fbc8515f27cd7cb84c1",
       "version_major": 2,
       "version_minor": 0
      },
      "text/plain": [
       "COLLECTING RESULTS | Scale uncertainty @ aNNLO_PLUS_NNLL:   0%|          | 0/20 [00:00<?, ?it/s]"
      ]
     },
     "metadata": {},
     "output_type": "display_data"
    },
    {
     "name": "stderr",
     "output_type": "stream",
     "text": [
      "/home/apn/.local/lib/python3.9/site-packages/hepi/results.py:276: RuntimeWarning: too bad numerical precision vs scale @ num:aNNLO_PLUS_NNLL 0.04045435475783379% vs scale:0.40541037224950827% to -0.18847517775507%\n",
      "  warnings.warn(\n",
      "/home/apn/.local/lib/python3.9/site-packages/hepi/results.py:276: RuntimeWarning: too bad numerical precision vs scale @ num:aNNLO_PLUS_NNLL 0.04230219169884242% vs scale:0.3571007674122106% to -0.19407321069839029%\n",
      "  warnings.warn(\n",
      "/home/apn/.local/lib/python3.9/site-packages/hepi/results.py:276: RuntimeWarning: too bad numerical precision vs scale @ num:aNNLO_PLUS_NNLL 0.04180527233142186% vs scale:0.3368956659138532% to -0.17152811497472129%\n",
      "  warnings.warn(\n",
      "/home/apn/.local/lib/python3.9/site-packages/hepi/results.py:276: RuntimeWarning: too bad numerical precision vs scale @ num:aNNLO_PLUS_NNLL 0.03931620674353476% vs scale:0.3180219752501102% to -0.14653354007815456%\n",
      "  warnings.warn(\n",
      "/home/apn/.local/lib/python3.9/site-packages/hepi/results.py:276: RuntimeWarning: too bad numerical precision vs scale @ num:aNNLO_PLUS_NNLL 0.04016020084875354% vs scale:0.3415231743661271% to -0.14611465553074063%\n",
      "  warnings.warn(\n",
      "/home/apn/.local/lib/python3.9/site-packages/hepi/results.py:276: RuntimeWarning: too bad numerical precision vs scale @ num:aNNLO_PLUS_NNLL 0.038146208614764976% vs scale:0.3483606908019055% to -0.09251524113670131%\n",
      "  warnings.warn(\n",
      "/home/apn/.local/lib/python3.9/site-packages/hepi/results.py:276: RuntimeWarning: too bad numerical precision vs scale @ num:aNNLO_PLUS_NNLL 0.04110071496586107% vs scale:0.291035009963225% to -0.10903776422996518%\n",
      "  warnings.warn(\n",
      "/home/apn/.local/lib/python3.9/site-packages/hepi/results.py:276: RuntimeWarning: too bad numerical precision vs scale @ num:aNNLO_PLUS_NNLL 0.041607136902026755% vs scale:0.2740421987912296% to -0.07662472004089768%\n",
      "  warnings.warn(\n",
      "/home/apn/.local/lib/python3.9/site-packages/hepi/results.py:276: RuntimeWarning: too bad numerical precision vs scale @ num:aNNLO_PLUS_NNLL 0.04186449449799023% vs scale:0.2609495567983933% to -0.07481806773610694%\n",
      "  warnings.warn(\n",
      "/home/apn/.local/lib/python3.9/site-packages/hepi/results.py:276: RuntimeWarning: too bad numerical precision vs scale @ num:aNNLO_PLUS_NNLL 0.03826552636215202% vs scale:0.2461239595054223% to -0.05456178280880036%\n",
      "  warnings.warn(\n",
      "/home/apn/.local/lib/python3.9/site-packages/hepi/results.py:276: RuntimeWarning: too bad numerical precision vs scale @ num:aNNLO_PLUS_NNLL 0.03981644227933535% vs scale:0.213373465480252% to -0.029517779817011057%\n",
      "  warnings.warn(\n",
      "/home/apn/.local/lib/python3.9/site-packages/hepi/results.py:276: RuntimeWarning: too bad numerical precision vs scale @ num:aNNLO_PLUS_NNLL 0.03917554077601054% vs scale:0.18788808224549283% to -0.027344881753317493%\n",
      "  warnings.warn(\n",
      "/home/apn/.local/lib/python3.9/site-packages/hepi/results.py:276: RuntimeWarning: too bad numerical precision vs scale @ num:aNNLO_PLUS_NNLL 0.04252037471388404% vs scale:0.20398841693712272% to -0.013849277044244657%\n",
      "  warnings.warn(\n",
      "/home/apn/.local/lib/python3.9/site-packages/hepi/input.py:283: RuntimeWarning: Could not set new central scale to average of masses.\n",
      "  warnings.warn(\"Could not set new central scale to average of masses.\",\n"
     ]
    },
    {
     "data": {
      "application/json": {
       "ascii": false,
       "bar_format": null,
       "colour": null,
       "elapsed": 0.024096012115478516,
       "initial": 0,
       "n": 0,
       "ncols": null,
       "nrows": 81,
       "postfix": null,
       "prefix": "QUEUEING TASKS | Checking input",
       "rate": null,
       "total": 940,
       "unit": "it",
       "unit_divisor": 1000,
       "unit_scale": false
      },
      "application/vnd.jupyter.widget-view+json": {
       "model_id": "999ea675d0a045eb838033270dba24c9",
       "version_major": 2,
       "version_minor": 0
      },
      "text/plain": [
       "QUEUEING TASKS | Checking input:   0%|          | 0/940 [00:00<?, ?it/s]"
      ]
     },
     "metadata": {},
     "output_type": "display_data"
    },
    {
     "data": {
      "application/json": {
       "ascii": false,
       "bar_format": null,
       "colour": null,
       "elapsed": 0.03126215934753418,
       "initial": 0,
       "n": 0,
       "ncols": null,
       "nrows": 81,
       "postfix": null,
       "prefix": "PROCESSING TASKS | Checking input",
       "rate": null,
       "total": 940,
       "unit": "it",
       "unit_divisor": 1000,
       "unit_scale": false
      },
      "application/vnd.jupyter.widget-view+json": {
       "model_id": "f6d2898ab5aa4a9795a0b0600a777314",
       "version_major": 2,
       "version_minor": 0
      },
      "text/plain": [
       "PROCESSING TASKS | Checking input:   0%|          | 0/940 [00:00<?, ?it/s]"
      ]
     },
     "metadata": {},
     "output_type": "display_data"
    },
    {
     "data": {
      "application/json": {
       "ascii": false,
       "bar_format": null,
       "colour": null,
       "elapsed": 0.0289766788482666,
       "initial": 0,
       "n": 0,
       "ncols": null,
       "nrows": 81,
       "postfix": null,
       "prefix": "COLLECTING RESULTS | Checking input",
       "rate": null,
       "total": 940,
       "unit": "it",
       "unit_divisor": 1000,
       "unit_scale": false
      },
      "application/vnd.jupyter.widget-view+json": {
       "model_id": "9d5b59251c584e07bb57409032978c3a",
       "version_major": 2,
       "version_minor": 0
      },
      "text/plain": [
       "COLLECTING RESULTS | Checking input:   0%|          | 0/940 [00:00<?, ?it/s]"
      ]
     },
     "metadata": {},
     "output_type": "display_data"
    },
    {
     "data": {
      "application/json": {
       "ascii": false,
       "bar_format": null,
       "colour": null,
       "elapsed": 0.02817535400390625,
       "initial": 0,
       "n": 0,
       "ncols": null,
       "nrows": 81,
       "postfix": null,
       "prefix": "QUEUEING TASKS | Preparing",
       "rate": null,
       "total": 940,
       "unit": "it",
       "unit_divisor": 1000,
       "unit_scale": false
      },
      "application/vnd.jupyter.widget-view+json": {
       "model_id": "4e0f3360497740888c9d269cf1ead81d",
       "version_major": 2,
       "version_minor": 0
      },
      "text/plain": [
       "QUEUEING TASKS | Preparing:   0%|          | 0/940 [00:00<?, ?it/s]"
      ]
     },
     "metadata": {},
     "output_type": "display_data"
    },
    {
     "data": {
      "application/json": {
       "ascii": false,
       "bar_format": null,
       "colour": null,
       "elapsed": 0.08506608009338379,
       "initial": 0,
       "n": 0,
       "ncols": null,
       "nrows": 81,
       "postfix": null,
       "prefix": "PROCESSING TASKS | Preparing",
       "rate": null,
       "total": 940,
       "unit": "it",
       "unit_divisor": 1000,
       "unit_scale": false
      },
      "application/vnd.jupyter.widget-view+json": {
       "model_id": "de49b01e1750494e8e04697f1ed40a51",
       "version_major": 2,
       "version_minor": 0
      },
      "text/plain": [
       "PROCESSING TASKS | Preparing:   0%|          | 0/940 [00:00<?, ?it/s]"
      ]
     },
     "metadata": {},
     "output_type": "display_data"
    },
    {
     "data": {
      "application/json": {
       "ascii": false,
       "bar_format": null,
       "colour": null,
       "elapsed": 0.030669450759887695,
       "initial": 0,
       "n": 0,
       "ncols": null,
       "nrows": 81,
       "postfix": null,
       "prefix": "COLLECTING RESULTS | Preparing",
       "rate": null,
       "total": 940,
       "unit": "it",
       "unit_divisor": 1000,
       "unit_scale": false
      },
      "application/vnd.jupyter.widget-view+json": {
       "model_id": "49c3463c843c485bb8fe0561d2b180da",
       "version_major": 2,
       "version_minor": 0
      },
      "text/plain": [
       "COLLECTING RESULTS | Preparing:   0%|          | 0/940 [00:00<?, ?it/s]"
      ]
     },
     "metadata": {},
     "output_type": "display_data"
    },
    {
     "name": "stdout",
     "output_type": "stream",
     "text": [
      "Skipped: 940 Not skipped: 0\n"
     ]
    },
    {
     "data": {
      "application/json": {
       "ascii": false,
       "bar_format": null,
       "colour": null,
       "elapsed": 0.036486148834228516,
       "initial": 0,
       "n": 0,
       "ncols": null,
       "nrows": 81,
       "postfix": null,
       "prefix": "QUEUEING TASKS | Parsing",
       "rate": null,
       "total": 940,
       "unit": "it",
       "unit_divisor": 1000,
       "unit_scale": false
      },
      "application/vnd.jupyter.widget-view+json": {
       "model_id": "2fd84a96c1074f9eae95284944d5ff47",
       "version_major": 2,
       "version_minor": 0
      },
      "text/plain": [
       "QUEUEING TASKS | Parsing:   0%|          | 0/940 [00:00<?, ?it/s]"
      ]
     },
     "metadata": {},
     "output_type": "display_data"
    },
    {
     "data": {
      "application/json": {
       "ascii": false,
       "bar_format": null,
       "colour": null,
       "elapsed": 0.17545533180236816,
       "initial": 0,
       "n": 0,
       "ncols": null,
       "nrows": 81,
       "postfix": null,
       "prefix": "PROCESSING TASKS | Parsing",
       "rate": null,
       "total": 940,
       "unit": "it",
       "unit_divisor": 1000,
       "unit_scale": false
      },
      "application/vnd.jupyter.widget-view+json": {
       "model_id": "feb092e0ba744ff1ab29a676d78299b9",
       "version_major": 2,
       "version_minor": 0
      },
      "text/plain": [
       "PROCESSING TASKS | Parsing:   0%|          | 0/940 [00:00<?, ?it/s]"
      ]
     },
     "metadata": {},
     "output_type": "display_data"
    },
    {
     "data": {
      "application/json": {
       "ascii": false,
       "bar_format": null,
       "colour": null,
       "elapsed": 0.030671119689941406,
       "initial": 0,
       "n": 0,
       "ncols": null,
       "nrows": 81,
       "postfix": null,
       "prefix": "COLLECTING RESULTS | Parsing",
       "rate": null,
       "total": 940,
       "unit": "it",
       "unit_divisor": 1000,
       "unit_scale": false
      },
      "application/vnd.jupyter.widget-view+json": {
       "model_id": "e0adc41e9fcc4080947915a0cbeb6fe4",
       "version_major": 2,
       "version_minor": 0
      },
      "text/plain": [
       "COLLECTING RESULTS | Parsing:   0%|          | 0/940 [00:00<?, ?it/s]"
      ]
     },
     "metadata": {},
     "output_type": "display_data"
    },
    {
     "data": {
      "application/json": {
       "ascii": false,
       "bar_format": null,
       "colour": null,
       "elapsed": 0.026517152786254883,
       "initial": 0,
       "n": 0,
       "ncols": null,
       "nrows": 81,
       "postfix": null,
       "prefix": "QUEUEING TASKS | PDF uncertainty @ LO",
       "rate": null,
       "total": 20,
       "unit": "it",
       "unit_divisor": 1000,
       "unit_scale": false
      },
      "application/vnd.jupyter.widget-view+json": {
       "model_id": "55fc250d37164ee0879251f614cc0d03",
       "version_major": 2,
       "version_minor": 0
      },
      "text/plain": [
       "QUEUEING TASKS | PDF uncertainty @ LO:   0%|          | 0/20 [00:00<?, ?it/s]"
      ]
     },
     "metadata": {},
     "output_type": "display_data"
    },
    {
     "data": {
      "application/json": {
       "ascii": false,
       "bar_format": null,
       "colour": null,
       "elapsed": 0.20586895942687988,
       "initial": 0,
       "n": 0,
       "ncols": null,
       "nrows": 81,
       "postfix": null,
       "prefix": "PROCESSING TASKS | PDF uncertainty @ LO",
       "rate": null,
       "total": 20,
       "unit": "it",
       "unit_divisor": 1000,
       "unit_scale": false
      },
      "application/vnd.jupyter.widget-view+json": {
       "model_id": "35f9cc3849a24877b031a93cf28ebc71",
       "version_major": 2,
       "version_minor": 0
      },
      "text/plain": [
       "PROCESSING TASKS | PDF uncertainty @ LO:   0%|          | 0/20 [00:00<?, ?it/s]"
      ]
     },
     "metadata": {},
     "output_type": "display_data"
    },
    {
     "data": {
      "application/json": {
       "ascii": false,
       "bar_format": null,
       "colour": null,
       "elapsed": 0.03322744369506836,
       "initial": 0,
       "n": 0,
       "ncols": null,
       "nrows": 81,
       "postfix": null,
       "prefix": "COLLECTING RESULTS | PDF uncertainty @ LO",
       "rate": null,
       "total": 20,
       "unit": "it",
       "unit_divisor": 1000,
       "unit_scale": false
      },
      "application/vnd.jupyter.widget-view+json": {
       "model_id": "9ccbd1619cd44c68808b5d6e6d0e1aba",
       "version_major": 2,
       "version_minor": 0
      },
      "text/plain": [
       "COLLECTING RESULTS | PDF uncertainty @ LO:   0%|          | 0/20 [00:00<?, ?it/s]"
      ]
     },
     "metadata": {},
     "output_type": "display_data"
    },
    {
     "data": {
      "application/json": {
       "ascii": false,
       "bar_format": null,
       "colour": null,
       "elapsed": 0.029744625091552734,
       "initial": 0,
       "n": 0,
       "ncols": null,
       "nrows": 81,
       "postfix": null,
       "prefix": "QUEUEING TASKS | PDF uncertainty @ NLO",
       "rate": null,
       "total": 20,
       "unit": "it",
       "unit_divisor": 1000,
       "unit_scale": false
      },
      "application/vnd.jupyter.widget-view+json": {
       "model_id": "3570cb452e5645069d331a4dae05aeb3",
       "version_major": 2,
       "version_minor": 0
      },
      "text/plain": [
       "QUEUEING TASKS | PDF uncertainty @ NLO:   0%|          | 0/20 [00:00<?, ?it/s]"
      ]
     },
     "metadata": {},
     "output_type": "display_data"
    },
    {
     "data": {
      "application/json": {
       "ascii": false,
       "bar_format": null,
       "colour": null,
       "elapsed": 0.2109982967376709,
       "initial": 0,
       "n": 0,
       "ncols": null,
       "nrows": 81,
       "postfix": null,
       "prefix": "PROCESSING TASKS | PDF uncertainty @ NLO",
       "rate": null,
       "total": 20,
       "unit": "it",
       "unit_divisor": 1000,
       "unit_scale": false
      },
      "application/vnd.jupyter.widget-view+json": {
       "model_id": "673431a8156643deb022977aad84499e",
       "version_major": 2,
       "version_minor": 0
      },
      "text/plain": [
       "PROCESSING TASKS | PDF uncertainty @ NLO:   0%|          | 0/20 [00:00<?, ?it/s]"
      ]
     },
     "metadata": {},
     "output_type": "display_data"
    },
    {
     "data": {
      "application/json": {
       "ascii": false,
       "bar_format": null,
       "colour": null,
       "elapsed": 0.031665802001953125,
       "initial": 0,
       "n": 0,
       "ncols": null,
       "nrows": 81,
       "postfix": null,
       "prefix": "COLLECTING RESULTS | PDF uncertainty @ NLO",
       "rate": null,
       "total": 20,
       "unit": "it",
       "unit_divisor": 1000,
       "unit_scale": false
      },
      "application/vnd.jupyter.widget-view+json": {
       "model_id": "7455e2b121d74c4883753ad575ffb4ba",
       "version_major": 2,
       "version_minor": 0
      },
      "text/plain": [
       "COLLECTING RESULTS | PDF uncertainty @ NLO:   0%|          | 0/20 [00:00<?, ?it/s]"
      ]
     },
     "metadata": {},
     "output_type": "display_data"
    },
    {
     "data": {
      "application/json": {
       "ascii": false,
       "bar_format": null,
       "colour": null,
       "elapsed": 0.0302579402923584,
       "initial": 0,
       "n": 0,
       "ncols": null,
       "nrows": 81,
       "postfix": null,
       "prefix": "QUEUEING TASKS | PDF uncertainty @ aNNLO_PLUS_NNLL",
       "rate": null,
       "total": 20,
       "unit": "it",
       "unit_divisor": 1000,
       "unit_scale": false
      },
      "application/vnd.jupyter.widget-view+json": {
       "model_id": "bf2f08634e0f4db19ed9ebb75336b6ed",
       "version_major": 2,
       "version_minor": 0
      },
      "text/plain": [
       "QUEUEING TASKS | PDF uncertainty @ aNNLO_PLUS_NNLL:   0%|          | 0/20 [00:00<?, ?it/s]"
      ]
     },
     "metadata": {},
     "output_type": "display_data"
    },
    {
     "data": {
      "application/json": {
       "ascii": false,
       "bar_format": null,
       "colour": null,
       "elapsed": 0.14378714561462402,
       "initial": 0,
       "n": 0,
       "ncols": null,
       "nrows": 81,
       "postfix": null,
       "prefix": "PROCESSING TASKS | PDF uncertainty @ aNNLO_PLUS_NNLL",
       "rate": null,
       "total": 20,
       "unit": "it",
       "unit_divisor": 1000,
       "unit_scale": false
      },
      "application/vnd.jupyter.widget-view+json": {
       "model_id": "a1d77221bbd646629b110a4351d730a4",
       "version_major": 2,
       "version_minor": 0
      },
      "text/plain": [
       "PROCESSING TASKS | PDF uncertainty @ aNNLO_PLUS_NNLL:   0%|          | 0/20 [00:00<?, ?it/s]"
      ]
     },
     "metadata": {},
     "output_type": "display_data"
    },
    {
     "data": {
      "application/json": {
       "ascii": false,
       "bar_format": null,
       "colour": null,
       "elapsed": 0.03877067565917969,
       "initial": 0,
       "n": 0,
       "ncols": null,
       "nrows": 81,
       "postfix": null,
       "prefix": "COLLECTING RESULTS | PDF uncertainty @ aNNLO_PLUS_NNLL",
       "rate": null,
       "total": 20,
       "unit": "it",
       "unit_divisor": 1000,
       "unit_scale": false
      },
      "application/vnd.jupyter.widget-view+json": {
       "model_id": "c7ed87cab4f54f3780e6672bda3f8ca0",
       "version_major": 2,
       "version_minor": 0
      },
      "text/plain": [
       "COLLECTING RESULTS | PDF uncertainty @ aNNLO_PLUS_NNLL:   0%|          | 0/20 [00:00<?, ?it/s]"
      ]
     },
     "metadata": {},
     "output_type": "display_data"
    },
    {
     "data": {
      "application/json": {
       "ascii": false,
       "bar_format": null,
       "colour": null,
       "elapsed": 0.0256345272064209,
       "initial": 0,
       "n": 0,
       "ncols": null,
       "nrows": 81,
       "postfix": null,
       "prefix": "QUEUEING TASKS | Scale uncertainty @ LO",
       "rate": null,
       "total": 20,
       "unit": "it",
       "unit_divisor": 1000,
       "unit_scale": false
      },
      "application/vnd.jupyter.widget-view+json": {
       "model_id": "33bb4a3621564c8b9d30d8c4a0fd0552",
       "version_major": 2,
       "version_minor": 0
      },
      "text/plain": [
       "QUEUEING TASKS | Scale uncertainty @ LO:   0%|          | 0/20 [00:00<?, ?it/s]"
      ]
     },
     "metadata": {},
     "output_type": "display_data"
    },
    {
     "data": {
      "application/json": {
       "ascii": false,
       "bar_format": null,
       "colour": null,
       "elapsed": 0.19277572631835938,
       "initial": 0,
       "n": 0,
       "ncols": null,
       "nrows": 81,
       "postfix": null,
       "prefix": "PROCESSING TASKS | Scale uncertainty @ LO",
       "rate": null,
       "total": 20,
       "unit": "it",
       "unit_divisor": 1000,
       "unit_scale": false
      },
      "application/vnd.jupyter.widget-view+json": {
       "model_id": "a09234d9c6964ce09f8ea6e79295ac9d",
       "version_major": 2,
       "version_minor": 0
      },
      "text/plain": [
       "PROCESSING TASKS | Scale uncertainty @ LO:   0%|          | 0/20 [00:00<?, ?it/s]"
      ]
     },
     "metadata": {},
     "output_type": "display_data"
    },
    {
     "data": {
      "application/json": {
       "ascii": false,
       "bar_format": null,
       "colour": null,
       "elapsed": 0.028076887130737305,
       "initial": 0,
       "n": 0,
       "ncols": null,
       "nrows": 81,
       "postfix": null,
       "prefix": "COLLECTING RESULTS | Scale uncertainty @ LO",
       "rate": null,
       "total": 20,
       "unit": "it",
       "unit_divisor": 1000,
       "unit_scale": false
      },
      "application/vnd.jupyter.widget-view+json": {
       "model_id": "b595a679a1c546c5a7bf6dfe8df8a9ad",
       "version_major": 2,
       "version_minor": 0
      },
      "text/plain": [
       "COLLECTING RESULTS | Scale uncertainty @ LO:   0%|          | 0/20 [00:00<?, ?it/s]"
      ]
     },
     "metadata": {},
     "output_type": "display_data"
    },
    {
     "name": "stderr",
     "output_type": "stream",
     "text": [
      "/home/apn/.local/lib/python3.9/site-packages/hepi/results.py:276: RuntimeWarning: too bad numerical precision vs scale @ num:LO 0.04309664509704866% vs scale:0.2120437718733099% to -0.6469057675028789%\n",
      "  warnings.warn(\n"
     ]
    },
    {
     "data": {
      "application/json": {
       "ascii": false,
       "bar_format": null,
       "colour": null,
       "elapsed": 0.031801700592041016,
       "initial": 0,
       "n": 0,
       "ncols": null,
       "nrows": 81,
       "postfix": null,
       "prefix": "QUEUEING TASKS | Scale uncertainty @ NLO",
       "rate": null,
       "total": 20,
       "unit": "it",
       "unit_divisor": 1000,
       "unit_scale": false
      },
      "application/vnd.jupyter.widget-view+json": {
       "model_id": "7aa8aa6f93bf46bb8fbeb27f7256820c",
       "version_major": 2,
       "version_minor": 0
      },
      "text/plain": [
       "QUEUEING TASKS | Scale uncertainty @ NLO:   0%|          | 0/20 [00:00<?, ?it/s]"
      ]
     },
     "metadata": {},
     "output_type": "display_data"
    },
    {
     "data": {
      "application/json": {
       "ascii": false,
       "bar_format": null,
       "colour": null,
       "elapsed": 0.04985690116882324,
       "initial": 0,
       "n": 0,
       "ncols": null,
       "nrows": 81,
       "postfix": null,
       "prefix": "PROCESSING TASKS | Scale uncertainty @ NLO",
       "rate": null,
       "total": 20,
       "unit": "it",
       "unit_divisor": 1000,
       "unit_scale": false
      },
      "application/vnd.jupyter.widget-view+json": {
       "model_id": "1cb95be22ad04afa8ea2cfc6f5081277",
       "version_major": 2,
       "version_minor": 0
      },
      "text/plain": [
       "PROCESSING TASKS | Scale uncertainty @ NLO:   0%|          | 0/20 [00:00<?, ?it/s]"
      ]
     },
     "metadata": {},
     "output_type": "display_data"
    },
    {
     "data": {
      "application/json": {
       "ascii": false,
       "bar_format": null,
       "colour": null,
       "elapsed": 0.029723405838012695,
       "initial": 0,
       "n": 0,
       "ncols": null,
       "nrows": 81,
       "postfix": null,
       "prefix": "COLLECTING RESULTS | Scale uncertainty @ NLO",
       "rate": null,
       "total": 20,
       "unit": "it",
       "unit_divisor": 1000,
       "unit_scale": false
      },
      "application/vnd.jupyter.widget-view+json": {
       "model_id": "77d180cd393f4804b17cc2de35c7e55b",
       "version_major": 2,
       "version_minor": 0
      },
      "text/plain": [
       "COLLECTING RESULTS | Scale uncertainty @ NLO:   0%|          | 0/20 [00:00<?, ?it/s]"
      ]
     },
     "metadata": {},
     "output_type": "display_data"
    },
    {
     "data": {
      "application/json": {
       "ascii": false,
       "bar_format": null,
       "colour": null,
       "elapsed": 0.027571678161621094,
       "initial": 0,
       "n": 0,
       "ncols": null,
       "nrows": 81,
       "postfix": null,
       "prefix": "QUEUEING TASKS | Scale uncertainty @ aNNLO_PLUS_NNLL",
       "rate": null,
       "total": 20,
       "unit": "it",
       "unit_divisor": 1000,
       "unit_scale": false
      },
      "application/vnd.jupyter.widget-view+json": {
       "model_id": "b07a4766a0a4416b95ca84b5a61bd108",
       "version_major": 2,
       "version_minor": 0
      },
      "text/plain": [
       "QUEUEING TASKS | Scale uncertainty @ aNNLO_PLUS_NNLL:   0%|          | 0/20 [00:00<?, ?it/s]"
      ]
     },
     "metadata": {},
     "output_type": "display_data"
    },
    {
     "data": {
      "application/json": {
       "ascii": false,
       "bar_format": null,
       "colour": null,
       "elapsed": 0.17059683799743652,
       "initial": 0,
       "n": 0,
       "ncols": null,
       "nrows": 81,
       "postfix": null,
       "prefix": "PROCESSING TASKS | Scale uncertainty @ aNNLO_PLUS_NNLL",
       "rate": null,
       "total": 20,
       "unit": "it",
       "unit_divisor": 1000,
       "unit_scale": false
      },
      "application/vnd.jupyter.widget-view+json": {
       "model_id": "a798bee2873544939180c60395389955",
       "version_major": 2,
       "version_minor": 0
      },
      "text/plain": [
       "PROCESSING TASKS | Scale uncertainty @ aNNLO_PLUS_NNLL:   0%|          | 0/20 [00:00<?, ?it/s]"
      ]
     },
     "metadata": {},
     "output_type": "display_data"
    },
    {
     "data": {
      "application/json": {
       "ascii": false,
       "bar_format": null,
       "colour": null,
       "elapsed": 0.044854164123535156,
       "initial": 0,
       "n": 0,
       "ncols": null,
       "nrows": 81,
       "postfix": null,
       "prefix": "COLLECTING RESULTS | Scale uncertainty @ aNNLO_PLUS_NNLL",
       "rate": null,
       "total": 20,
       "unit": "it",
       "unit_divisor": 1000,
       "unit_scale": false
      },
      "application/vnd.jupyter.widget-view+json": {
       "model_id": "20ab24b538d6440b95707166cb196648",
       "version_major": 2,
       "version_minor": 0
      },
      "text/plain": [
       "COLLECTING RESULTS | Scale uncertainty @ aNNLO_PLUS_NNLL:   0%|          | 0/20 [00:00<?, ?it/s]"
      ]
     },
     "metadata": {},
     "output_type": "display_data"
    },
    {
     "name": "stderr",
     "output_type": "stream",
     "text": [
      "/home/apn/.local/lib/python3.9/site-packages/hepi/results.py:276: RuntimeWarning: too bad numerical precision vs scale @ num:aNNLO_PLUS_NNLL 0.042504779518476164% vs scale:0.3680169775711219% to -0.19312803752200894%\n",
      "  warnings.warn(\n",
      "/home/apn/.local/lib/python3.9/site-packages/hepi/results.py:276: RuntimeWarning: too bad numerical precision vs scale @ num:aNNLO_PLUS_NNLL 0.04241434348898593% vs scale:0.35194078791296% to -0.17283168618762182%\n",
      "  warnings.warn(\n",
      "/home/apn/.local/lib/python3.9/site-packages/hepi/results.py:276: RuntimeWarning: too bad numerical precision vs scale @ num:aNNLO_PLUS_NNLL 0.03910128610715482% vs scale:0.3182469601325751% to -0.16916657091272358%\n",
      "  warnings.warn(\n",
      "/home/apn/.local/lib/python3.9/site-packages/hepi/results.py:276: RuntimeWarning: too bad numerical precision vs scale @ num:aNNLO_PLUS_NNLL 0.039759457550221214% vs scale:0.33496563543567603% to -0.1339546680761239%\n",
      "  warnings.warn(\n",
      "/home/apn/.local/lib/python3.9/site-packages/hepi/results.py:276: RuntimeWarning: too bad numerical precision vs scale @ num:aNNLO_PLUS_NNLL 0.03824215449558389% vs scale:0.36543307013331394% to -0.09758381026860175%\n",
      "  warnings.warn(\n",
      "/home/apn/.local/lib/python3.9/site-packages/hepi/results.py:276: RuntimeWarning: too bad numerical precision vs scale @ num:aNNLO_PLUS_NNLL 0.040885506545121054% vs scale:0.3221304677912059% to -0.11516148420087435%\n",
      "  warnings.warn(\n",
      "/home/apn/.local/lib/python3.9/site-packages/hepi/results.py:276: RuntimeWarning: too bad numerical precision vs scale @ num:aNNLO_PLUS_NNLL 0.04107600651540869% vs scale:0.29373602063143384% to -0.09571598375988528%\n",
      "  warnings.warn(\n",
      "/home/apn/.local/lib/python3.9/site-packages/hepi/results.py:276: RuntimeWarning: too bad numerical precision vs scale @ num:aNNLO_PLUS_NNLL 0.0418665989487847% vs scale:0.25449282101514803% to -0.0858829179419384%\n",
      "  warnings.warn(\n",
      "/home/apn/.local/lib/python3.9/site-packages/hepi/results.py:276: RuntimeWarning: too bad numerical precision vs scale @ num:aNNLO_PLUS_NNLL 0.04064723177610515% vs scale:0.246134393294915% to -0.075762213432096%\n",
      "  warnings.warn(\n",
      "/home/apn/.local/lib/python3.9/site-packages/hepi/results.py:276: RuntimeWarning: too bad numerical precision vs scale @ num:aNNLO_PLUS_NNLL 0.03808440317315336% vs scale:0.21720161145090053% to -0.05235523955356897%\n",
      "  warnings.warn(\n",
      "/home/apn/.local/lib/python3.9/site-packages/hepi/results.py:276: RuntimeWarning: too bad numerical precision vs scale @ num:aNNLO_PLUS_NNLL 0.03965280501628812% vs scale:0.20845688140067628% to -0.026741101882480463%\n",
      "  warnings.warn(\n",
      "/home/apn/.local/lib/python3.9/site-packages/hepi/results.py:276: RuntimeWarning: too bad numerical precision vs scale @ num:aNNLO_PLUS_NNLL 0.03923155484102422% vs scale:0.19606617235197188% to -0.019759694109796118%\n",
      "  warnings.warn(\n"
     ]
    },
    {
     "data": {
      "image/png": "[encoded data removed]",
      "text/plain": [
       "<Figure size 600x400 with 2 Axes>"
      ]
     },
     "metadata": {},
     "output_type": "display_data"
    },
    {
     "name": "stderr",
     "output_type": "stream",
     "text": [
      "/home/apn/.local/lib/python3.9/site-packages/hepi/input.py:283: RuntimeWarning: Could not set new central scale to average of masses.\n",
      "  warnings.warn(\"Could not set new central scale to average of masses.\",\n"
     ]
    },
    {
     "data": {
      "application/json": {
       "ascii": false,
       "bar_format": null,
       "colour": null,
       "elapsed": 0.024783611297607422,
       "initial": 0,
       "n": 0,
       "ncols": null,
       "nrows": 81,
       "postfix": null,
       "prefix": "QUEUEING TASKS | Checking input",
       "rate": null,
       "total": 940,
       "unit": "it",
       "unit_divisor": 1000,
       "unit_scale": false
      },
      "application/vnd.jupyter.widget-view+json": {
       "model_id": "1bbff3d6efd8445881b4651687880b35",
       "version_major": 2,
       "version_minor": 0
      },
      "text/plain": [
       "QUEUEING TASKS | Checking input:   0%|          | 0/940 [00:00<?, ?it/s]"
      ]
     },
     "metadata": {},
     "output_type": "display_data"
    },
    {
     "data": {
      "application/json": {
       "ascii": false,
       "bar_format": null,
       "colour": null,
       "elapsed": 0.034576416015625,
       "initial": 0,
       "n": 0,
       "ncols": null,
       "nrows": 81,
       "postfix": null,
       "prefix": "PROCESSING TASKS | Checking input",
       "rate": null,
       "total": 940,
       "unit": "it",
       "unit_divisor": 1000,
       "unit_scale": false
      },
      "application/vnd.jupyter.widget-view+json": {
       "model_id": "d8f034c736fa475399187609ede48089",
       "version_major": 2,
       "version_minor": 0
      },
      "text/plain": [
       "PROCESSING TASKS | Checking input:   0%|          | 0/940 [00:00<?, ?it/s]"
      ]
     },
     "metadata": {},
     "output_type": "display_data"
    },
    {
     "data": {
      "application/json": {
       "ascii": false,
       "bar_format": null,
       "colour": null,
       "elapsed": 0.03227400779724121,
       "initial": 0,
       "n": 0,
       "ncols": null,
       "nrows": 81,
       "postfix": null,
       "prefix": "COLLECTING RESULTS | Checking input",
       "rate": null,
       "total": 940,
       "unit": "it",
       "unit_divisor": 1000,
       "unit_scale": false
      },
      "application/vnd.jupyter.widget-view+json": {
       "model_id": "fdaefb151f62473eb1979c0d1b6a8e20",
       "version_major": 2,
       "version_minor": 0
      },
      "text/plain": [
       "COLLECTING RESULTS | Checking input:   0%|          | 0/940 [00:00<?, ?it/s]"
      ]
     },
     "metadata": {},
     "output_type": "display_data"
    },
    {
     "data": {
      "application/json": {
       "ascii": false,
       "bar_format": null,
       "colour": null,
       "elapsed": 0.03037118911743164,
       "initial": 0,
       "n": 0,
       "ncols": null,
       "nrows": 81,
       "postfix": null,
       "prefix": "QUEUEING TASKS | Preparing",
       "rate": null,
       "total": 940,
       "unit": "it",
       "unit_divisor": 1000,
       "unit_scale": false
      },
      "application/vnd.jupyter.widget-view+json": {
       "model_id": "6b3bed5824734d548948dad0cb87727b",
       "version_major": 2,
       "version_minor": 0
      },
      "text/plain": [
       "QUEUEING TASKS | Preparing:   0%|          | 0/940 [00:00<?, ?it/s]"
      ]
     },
     "metadata": {},
     "output_type": "display_data"
    },
    {
     "data": {
      "application/json": {
       "ascii": false,
       "bar_format": null,
       "colour": null,
       "elapsed": 0.049315690994262695,
       "initial": 0,
       "n": 0,
       "ncols": null,
       "nrows": 81,
       "postfix": null,
       "prefix": "PROCESSING TASKS | Preparing",
       "rate": null,
       "total": 940,
       "unit": "it",
       "unit_divisor": 1000,
       "unit_scale": false
      },
      "application/vnd.jupyter.widget-view+json": {
       "model_id": "93bee96e938e42f8be150769d9b3675a",
       "version_major": 2,
       "version_minor": 0
      },
      "text/plain": [
       "PROCESSING TASKS | Preparing:   0%|          | 0/940 [00:00<?, ?it/s]"
      ]
     },
     "metadata": {},
     "output_type": "display_data"
    },
    {
     "ename": "KeyboardInterrupt",
     "evalue": "",
     "output_type": "error",
     "traceback": [
      "\u001b[0;31m---------------------------------------------------------------------------\u001b[0m",
      "\u001b[0;31mKeyboardInterrupt\u001b[0m                         Traceback (most recent call last)",
      "Input \u001b[0;32mIn [2]\u001b[0m, in \u001b[0;36m<cell line: 9>\u001b[0;34m()\u001b[0m\n\u001b[1;32m     47\u001b[0m     rs_dl \u001b[38;5;241m=\u001b[39m rs\u001b[38;5;241m.\u001b[39mrun(li, skip\u001b[38;5;241m=\u001b[39m\u001b[38;5;28;01mFalse\u001b[39;00m, run\u001b[38;5;241m=\u001b[39m\u001b[38;5;28;01mFalse\u001b[39;00m, parse\u001b[38;5;241m=\u001b[39m\u001b[38;5;28;01mFalse\u001b[39;00m)\n\u001b[1;32m     48\u001b[0m \u001b[38;5;28;01melse\u001b[39;00m:\n\u001b[0;32m---> 49\u001b[0m     rs_dl \u001b[38;5;241m=\u001b[39m \u001b[43mrs\u001b[49m\u001b[38;5;241;43m.\u001b[39;49m\u001b[43mrun\u001b[49m\u001b[43m(\u001b[49m\u001b[43mli\u001b[49m\u001b[43m,\u001b[49m\u001b[43m \u001b[49m\u001b[43mskip\u001b[49m\u001b[38;5;241;43m=\u001b[39;49m\u001b[38;5;28;43;01mTrue\u001b[39;49;00m\u001b[43m,\u001b[49m\u001b[43m \u001b[49m\u001b[43mrun\u001b[49m\u001b[38;5;241;43m=\u001b[39;49m\u001b[38;5;28;43;01mTrue\u001b[39;49;00m\u001b[43m,\u001b[49m\u001b[43m \u001b[49m\u001b[43mparse\u001b[49m\u001b[38;5;241;43m=\u001b[39;49m\u001b[38;5;28;43;01mTrue\u001b[39;49;00m\u001b[43m,\u001b[49m\u001b[43mignore_error\u001b[49m\u001b[38;5;241;43m=\u001b[39;49m\u001b[38;5;28;43;01mTrue\u001b[39;49;00m\u001b[43m)\u001b[49m\n\u001b[1;32m     50\u001b[0m     rs_dl \u001b[38;5;241m=\u001b[39m hepi\u001b[38;5;241m.\u001b[39mpdf_errors(li,rs_dl)\n\u001b[1;32m     51\u001b[0m     rs_dl \u001b[38;5;241m=\u001b[39m hepi\u001b[38;5;241m.\u001b[39mscale_errors(li,rs_dl)\n",
      "File \u001b[0;32m~/.local/lib/python3.9/site-packages/hepi/run.py:207\u001b[0m, in \u001b[0;36mRunner.run\u001b[0;34m(self, params, skip, parse, parallel, sleep, run, ignore_error, **kwargs)\u001b[0m\n\u001b[1;32m    204\u001b[0m     \u001b[38;5;28;01mif\u001b[39;00m \u001b[38;5;129;01mnot\u001b[39;00m ignore_error:\n\u001b[1;32m    205\u001b[0m         \u001b[38;5;28;01mraise\u001b[39;00m \u001b[38;5;167;01mRuntimeError\u001b[39;00m(\u001b[38;5;124m\"\u001b[39m\u001b[38;5;124mThe path is not valid for \u001b[39m\u001b[38;5;124m\"\u001b[39m \u001b[38;5;241m+\u001b[39m\n\u001b[1;32m    206\u001b[0m                            \u001b[38;5;28mself\u001b[39m\u001b[38;5;241m.\u001b[39mget_name())\n\u001b[0;32m--> 207\u001b[0m rps \u001b[38;5;241m=\u001b[39m \u001b[38;5;28;43mself\u001b[39;49m\u001b[38;5;241;43m.\u001b[39;49m\u001b[43m_prepare_all\u001b[49m\u001b[43m(\u001b[49m\u001b[43mparams\u001b[49m\u001b[43m,\u001b[49m\n\u001b[1;32m    208\u001b[0m \u001b[43m                        \u001b[49m\u001b[43mparse\u001b[49m\u001b[38;5;241;43m=\u001b[39;49m\u001b[43mparse\u001b[49m\u001b[43m,\u001b[49m\n\u001b[1;32m    209\u001b[0m \u001b[43m                        \u001b[49m\u001b[43mskip\u001b[49m\u001b[38;5;241;43m=\u001b[39;49m\u001b[43mskip\u001b[49m\u001b[43m,\u001b[49m\n\u001b[1;32m    210\u001b[0m \u001b[43m                        \u001b[49m\u001b[43mignore_error\u001b[49m\u001b[38;5;241;43m=\u001b[39;49m\u001b[43mignore_error\u001b[49m\u001b[43m,\u001b[49m\n\u001b[1;32m    211\u001b[0m \u001b[43m                        \u001b[49m\u001b[38;5;241;43m*\u001b[39;49m\u001b[38;5;241;43m*\u001b[39;49m\u001b[43mkwargs\u001b[49m\u001b[43m)\u001b[49m\n\u001b[1;32m    212\u001b[0m \u001b[38;5;66;03m#print(\"= \" + str(len(params)) + \" jobs\")\u001b[39;00m\n\u001b[1;32m    213\u001b[0m \u001b[38;5;28;01mif\u001b[39;00m sleep \u001b[38;5;129;01mis\u001b[39;00m \u001b[38;5;28;01mNone\u001b[39;00m:\n",
      "File \u001b[0;32m~/.local/lib/python3.9/site-packages/hepi/run.py:156\u001b[0m, in \u001b[0;36mRunner._prepare_all\u001b[0;34m(self, params, skip, **kwargs)\u001b[0m\n\u001b[1;32m    150\u001b[0m \u001b[38;5;66;03m#ret = my_parallel(\u001b[39;00m\n\u001b[1;32m    151\u001b[0m \u001b[38;5;66;03m#    lambda p: self._prepare(p, skip=skip, **kwargs),\u001b[39;00m\n\u001b[1;32m    152\u001b[0m \u001b[38;5;66;03m#    params,\u001b[39;00m\n\u001b[1;32m    153\u001b[0m \u001b[38;5;66;03m#    #n_jobs=multiprocessing.cpu_count(),\u001b[39;00m\n\u001b[1;32m    154\u001b[0m \u001b[38;5;66;03m#    desc=\"Preparing\")\u001b[39;00m\n\u001b[1;32m    155\u001b[0m args \u001b[38;5;241m=\u001b[39m [{\u001b[38;5;124m'\u001b[39m\u001b[38;5;124mp\u001b[39m\u001b[38;5;124m'\u001b[39m: p, \u001b[38;5;124m'\u001b[39m\u001b[38;5;124mskip\u001b[39m\u001b[38;5;124m'\u001b[39m: skip, \u001b[38;5;241m*\u001b[39m\u001b[38;5;241m*\u001b[39mkwargs} \u001b[38;5;28;01mfor\u001b[39;00m p \u001b[38;5;129;01min\u001b[39;00m params]\n\u001b[0;32m--> 156\u001b[0m ret \u001b[38;5;241m=\u001b[39m \u001b[43mppqdm\u001b[49m\u001b[43m(\u001b[49m\u001b[43margs\u001b[49m\u001b[43m,\u001b[49m\n\u001b[1;32m    157\u001b[0m \u001b[43m            \u001b[49m\u001b[38;5;28;43mself\u001b[39;49m\u001b[38;5;241;43m.\u001b[39;49m\u001b[43m_prepare\u001b[49m\u001b[43m,\u001b[49m\n\u001b[1;32m    158\u001b[0m \u001b[43m            \u001b[49m\u001b[43mn_jobs\u001b[49m\u001b[38;5;241;43m=\u001b[39;49m\u001b[43mmultiprocessing\u001b[49m\u001b[38;5;241;43m.\u001b[39;49m\u001b[43mcpu_count\u001b[49m\u001b[43m(\u001b[49m\u001b[43m)\u001b[49m\u001b[43m,\u001b[49m\n\u001b[1;32m    159\u001b[0m \u001b[43m            \u001b[49m\u001b[43margument_type\u001b[49m\u001b[38;5;241;43m=\u001b[39;49m\u001b[38;5;124;43m'\u001b[39;49m\u001b[38;5;124;43mkwargs\u001b[39;49m\u001b[38;5;124;43m'\u001b[39;49m\u001b[43m,\u001b[49m\n\u001b[1;32m    160\u001b[0m \u001b[43m            \u001b[49m\u001b[43mdesc\u001b[49m\u001b[38;5;241;43m=\u001b[39;49m\u001b[38;5;124;43m\"\u001b[39;49m\u001b[38;5;124;43mPreparing\u001b[39;49m\u001b[38;5;124;43m\"\u001b[39;49m\u001b[43m)\u001b[49m\n\u001b[1;32m    161\u001b[0m skipped \u001b[38;5;241m=\u001b[39m \u001b[38;5;241m0\u001b[39m\n\u001b[1;32m    162\u001b[0m not_skipped \u001b[38;5;241m=\u001b[39m \u001b[38;5;241m0\u001b[39m\n",
      "File \u001b[0;32m~/.local/lib/python3.9/site-packages/pqdm/processes.py:22\u001b[0m, in \u001b[0;36mpqdm\u001b[0;34m(array, function, n_jobs, argument_type, bounded, exception_behaviour, tqdm_class, **kwargs)\u001b[0m\n\u001b[1;32m     12\u001b[0m \u001b[38;5;28;01mdef\u001b[39;00m \u001b[38;5;21mpqdm\u001b[39m(\n\u001b[1;32m     13\u001b[0m     array: Iterable[Any],\n\u001b[1;32m     14\u001b[0m     function: Callable[[Any], Any],\n\u001b[0;32m   (...)\u001b[0m\n\u001b[1;32m     20\u001b[0m     \u001b[38;5;241m*\u001b[39m\u001b[38;5;241m*\u001b[39mkwargs\n\u001b[1;32m     21\u001b[0m ):\n\u001b[0;32m---> 22\u001b[0m     \u001b[38;5;28;01mreturn\u001b[39;00m \u001b[43m_parallel_process\u001b[49m\u001b[43m(\u001b[49m\n\u001b[1;32m     23\u001b[0m \u001b[43m        \u001b[49m\u001b[43miterable\u001b[49m\u001b[38;5;241;43m=\u001b[39;49m\u001b[43marray\u001b[49m\u001b[43m,\u001b[49m\n\u001b[1;32m     24\u001b[0m \u001b[43m        \u001b[49m\u001b[43mfunction\u001b[49m\u001b[38;5;241;43m=\u001b[39;49m\u001b[43mfunction\u001b[49m\u001b[43m,\u001b[49m\n\u001b[1;32m     25\u001b[0m \u001b[43m        \u001b[49m\u001b[43margument_type\u001b[49m\u001b[38;5;241;43m=\u001b[39;49m\u001b[43margument_type\u001b[49m\u001b[43m,\u001b[49m\n\u001b[1;32m     26\u001b[0m \u001b[43m        \u001b[49m\u001b[43mn_jobs\u001b[49m\u001b[38;5;241;43m=\u001b[39;49m\u001b[43mn_jobs\u001b[49m\u001b[43m,\u001b[49m\n\u001b[1;32m     27\u001b[0m \u001b[43m        \u001b[49m\u001b[43mexecutor\u001b[49m\u001b[38;5;241;43m=\u001b[39;49m\u001b[43mBoundedProcessPoolExecutor\u001b[49m\u001b[43m \u001b[49m\u001b[38;5;28;43;01mif\u001b[39;49;00m\u001b[43m \u001b[49m\u001b[43mbounded\u001b[49m\u001b[43m \u001b[49m\u001b[38;5;28;43;01melse\u001b[39;49;00m\u001b[43m \u001b[49m\u001b[43mProcessPoolExecutor\u001b[49m\u001b[43m,\u001b[49m\n\u001b[1;32m     28\u001b[0m \u001b[43m        \u001b[49m\u001b[43mexception_behaviour\u001b[49m\u001b[38;5;241;43m=\u001b[39;49m\u001b[43mexception_behaviour\u001b[49m\u001b[43m,\u001b[49m\n\u001b[1;32m     29\u001b[0m \u001b[43m        \u001b[49m\u001b[43mtqdm_class\u001b[49m\u001b[38;5;241;43m=\u001b[39;49m\u001b[43mtqdm_class\u001b[49m\u001b[43m,\u001b[49m\n\u001b[1;32m     30\u001b[0m \u001b[43m        \u001b[49m\u001b[38;5;241;43m*\u001b[39;49m\u001b[38;5;241;43m*\u001b[39;49m\u001b[43mkwargs\u001b[49m\n\u001b[1;32m     31\u001b[0m \u001b[43m    \u001b[49m\u001b[43m)\u001b[49m\n",
      "File \u001b[0;32m~/.local/lib/python3.9/site-packages/pqdm/_base.py:65\u001b[0m, in \u001b[0;36m_parallel_process\u001b[0;34m(iterable, function, n_jobs, executor, argument_type, exception_behaviour, tqdm_class, **kwargs)\u001b[0m\n\u001b[1;32m     62\u001b[0m     processing_opts[\u001b[38;5;124m'\u001b[39m\u001b[38;5;124mdesc\u001b[39m\u001b[38;5;124m'\u001b[39m] \u001b[38;5;241m=\u001b[39m \u001b[38;5;124m'\u001b[39m\u001b[38;5;124mPROCESSING TASKS | \u001b[39m\u001b[38;5;124m'\u001b[39m \u001b[38;5;241m+\u001b[39m processing_opts\u001b[38;5;241m.\u001b[39mget(\u001b[38;5;124m'\u001b[39m\u001b[38;5;124mdesc\u001b[39m\u001b[38;5;124m'\u001b[39m, \u001b[38;5;124m'\u001b[39m\u001b[38;5;124m'\u001b[39m)\n\u001b[1;32m     63\u001b[0m     processing_opts[\u001b[38;5;124m'\u001b[39m\u001b[38;5;124mtotal\u001b[39m\u001b[38;5;124m'\u001b[39m] \u001b[38;5;241m=\u001b[39m \u001b[38;5;28mlen\u001b[39m(futures)\n\u001b[0;32m---> 65\u001b[0m     \u001b[38;5;28;01mfor\u001b[39;00m _ \u001b[38;5;129;01min\u001b[39;00m tqdm_class(as_completed(futures), \u001b[38;5;241m*\u001b[39m\u001b[38;5;241m*\u001b[39mprocessing_opts):\n\u001b[1;32m     66\u001b[0m         \u001b[38;5;28;01mpass\u001b[39;00m\n\u001b[1;32m     68\u001b[0m collecting_opts \u001b[38;5;241m=\u001b[39m copy\u001b[38;5;241m.\u001b[39mcopy(tqdm_opts)\n",
      "File \u001b[0;32m/usr/lib/python3.9/site-packages/tqdm/notebook.py:258\u001b[0m, in \u001b[0;36mtqdm_notebook.__iter__\u001b[0;34m(self)\u001b[0m\n\u001b[1;32m    256\u001b[0m \u001b[38;5;28;01mtry\u001b[39;00m:\n\u001b[1;32m    257\u001b[0m     it \u001b[38;5;241m=\u001b[39m \u001b[38;5;28msuper\u001b[39m(tqdm_notebook, \u001b[38;5;28mself\u001b[39m)\u001b[38;5;241m.\u001b[39m\u001b[38;5;21m__iter__\u001b[39m()\n\u001b[0;32m--> 258\u001b[0m     \u001b[38;5;28;01mfor\u001b[39;00m obj \u001b[38;5;129;01min\u001b[39;00m it:\n\u001b[1;32m    259\u001b[0m         \u001b[38;5;66;03m# return super(tqdm...) will not catch exception\u001b[39;00m\n\u001b[1;32m    260\u001b[0m         \u001b[38;5;28;01myield\u001b[39;00m obj\n\u001b[1;32m    261\u001b[0m \u001b[38;5;66;03m# NB: except ... [ as ...] breaks IPython async KeyboardInterrupt\u001b[39;00m\n",
      "File \u001b[0;32m/usr/lib/python3.9/site-packages/tqdm/std.py:1195\u001b[0m, in \u001b[0;36mtqdm.__iter__\u001b[0;34m(self)\u001b[0m\n\u001b[1;32m   1192\u001b[0m time \u001b[38;5;241m=\u001b[39m \u001b[38;5;28mself\u001b[39m\u001b[38;5;241m.\u001b[39m_time\n\u001b[1;32m   1194\u001b[0m \u001b[38;5;28;01mtry\u001b[39;00m:\n\u001b[0;32m-> 1195\u001b[0m     \u001b[38;5;28;01mfor\u001b[39;00m obj \u001b[38;5;129;01min\u001b[39;00m iterable:\n\u001b[1;32m   1196\u001b[0m         \u001b[38;5;28;01myield\u001b[39;00m obj\n\u001b[1;32m   1197\u001b[0m         \u001b[38;5;66;03m# Update and possibly print the progressbar.\u001b[39;00m\n\u001b[1;32m   1198\u001b[0m         \u001b[38;5;66;03m# Note: does not call self.update(1) for speed optimisation.\u001b[39;00m\n",
      "File \u001b[0;32m/usr/lib/python3.9/concurrent/futures/_base.py:245\u001b[0m, in \u001b[0;36mas_completed\u001b[0;34m(fs, timeout)\u001b[0m\n\u001b[1;32m    240\u001b[0m     \u001b[38;5;28;01mif\u001b[39;00m wait_timeout \u001b[38;5;241m<\u001b[39m \u001b[38;5;241m0\u001b[39m:\n\u001b[1;32m    241\u001b[0m         \u001b[38;5;28;01mraise\u001b[39;00m \u001b[38;5;167;01mTimeoutError\u001b[39;00m(\n\u001b[1;32m    242\u001b[0m                 \u001b[38;5;124m'\u001b[39m\u001b[38;5;132;01m%d\u001b[39;00m\u001b[38;5;124m (of \u001b[39m\u001b[38;5;132;01m%d\u001b[39;00m\u001b[38;5;124m) futures unfinished\u001b[39m\u001b[38;5;124m'\u001b[39m \u001b[38;5;241m%\u001b[39m (\n\u001b[1;32m    243\u001b[0m                 \u001b[38;5;28mlen\u001b[39m(pending), total_futures))\n\u001b[0;32m--> 245\u001b[0m \u001b[43mwaiter\u001b[49m\u001b[38;5;241;43m.\u001b[39;49m\u001b[43mevent\u001b[49m\u001b[38;5;241;43m.\u001b[39;49m\u001b[43mwait\u001b[49m\u001b[43m(\u001b[49m\u001b[43mwait_timeout\u001b[49m\u001b[43m)\u001b[49m\n\u001b[1;32m    247\u001b[0m \u001b[38;5;28;01mwith\u001b[39;00m waiter\u001b[38;5;241m.\u001b[39mlock:\n\u001b[1;32m    248\u001b[0m     finished \u001b[38;5;241m=\u001b[39m waiter\u001b[38;5;241m.\u001b[39mfinished_futures\n",
      "File \u001b[0;32m/usr/lib/python3.9/threading.py:581\u001b[0m, in \u001b[0;36mEvent.wait\u001b[0;34m(self, timeout)\u001b[0m\n\u001b[1;32m    579\u001b[0m signaled \u001b[38;5;241m=\u001b[39m \u001b[38;5;28mself\u001b[39m\u001b[38;5;241m.\u001b[39m_flag\n\u001b[1;32m    580\u001b[0m \u001b[38;5;28;01mif\u001b[39;00m \u001b[38;5;129;01mnot\u001b[39;00m signaled:\n\u001b[0;32m--> 581\u001b[0m     signaled \u001b[38;5;241m=\u001b[39m \u001b[38;5;28;43mself\u001b[39;49m\u001b[38;5;241;43m.\u001b[39;49m\u001b[43m_cond\u001b[49m\u001b[38;5;241;43m.\u001b[39;49m\u001b[43mwait\u001b[49m\u001b[43m(\u001b[49m\u001b[43mtimeout\u001b[49m\u001b[43m)\u001b[49m\n\u001b[1;32m    582\u001b[0m \u001b[38;5;28;01mreturn\u001b[39;00m signaled\n",
      "File \u001b[0;32m/usr/lib/python3.9/threading.py:312\u001b[0m, in \u001b[0;36mCondition.wait\u001b[0;34m(self, timeout)\u001b[0m\n\u001b[1;32m    310\u001b[0m \u001b[38;5;28;01mtry\u001b[39;00m:    \u001b[38;5;66;03m# restore state no matter what (e.g., KeyboardInterrupt)\u001b[39;00m\n\u001b[1;32m    311\u001b[0m     \u001b[38;5;28;01mif\u001b[39;00m timeout \u001b[38;5;129;01mis\u001b[39;00m \u001b[38;5;28;01mNone\u001b[39;00m:\n\u001b[0;32m--> 312\u001b[0m         \u001b[43mwaiter\u001b[49m\u001b[38;5;241;43m.\u001b[39;49m\u001b[43macquire\u001b[49m\u001b[43m(\u001b[49m\u001b[43m)\u001b[49m\n\u001b[1;32m    313\u001b[0m         gotit \u001b[38;5;241m=\u001b[39m \u001b[38;5;28;01mTrue\u001b[39;00m\n\u001b[1;32m    314\u001b[0m     \u001b[38;5;28;01melse\u001b[39;00m:\n",
      "\u001b[0;31mKeyboardInterrupt\u001b[0m: "
     ]
    }
   ],
   "source": [
    "params = [\n",
    "    \"wino.slha\",\n",
    "]\n",
    "pss = [\n",
    "    ( 1000023, +1000024),  # N1C1p\n",
    "    ( 1000023, -1000024),  # N1C1m\n",
    "    (+1000024, -1000024),  # C1pC1m\n",
    "]\n",
    "for pa, pb in pss:\n",
    "    for energy in [13000, 13600]:\n",
    "        name = str(energy) + \"_wino_\" + str(pa) + \"_\" + str(pb)\n",
    "        hepi.set_output_dir(\n",
    "               \"output_\" + name + \"/\"\n",
    "        )\n",
    "        rs.default_resummino_runner.set_output_dir(hepi.get_output_dir())\n",
    "        for param in params:\n",
    "            i = hepi.Input(\n",
    "                hepi.Order.LO if test_lo else hepi.Order.aNNLO_PLUS_NNLL,\n",
    "                    energy,\n",
    "                    pa,\n",
    "                    pb,\n",
    "                    param,\n",
    "                    \"PDF4LHC21_40\",\n",
    "                    \"PDF4LHC21_40\",\n",
    "                    1.0,\n",
    "                    1.0,\n",
    "                    id=\"0.0.0\",\n",
    "                    precision=0.001,\n",
    "                    max_iters=50,\n",
    "                )\n",
    "            li = [i]\n",
    "            li = hepi.masses_scan(\n",
    "                    li,\n",
    "                    [\n",
    "                        1000022,\n",
    "                        1000023,\n",
    "                        1000024,\n",
    "                    ],\n",
    "                    range(100,2010,100),\n",
    "                )\n",
    "            if not test_lo:\n",
    "\n",
    "                li = hepi.seven_point_scan(li)\n",
    "                li = hepi.pdf_scan(li)\n",
    "                    # li = hepi.change_where(li, {\"precision\": 0.0001, \"max_iters\": 200}, pdfset_nlo=0)\n",
    "                if not analyse:\n",
    "                    rs_dl = rs.run(li, skip=False, run=False, parse=False)\n",
    "                else:\n",
    "                    rs_dl = rs.run(li, skip=True, run=True, parse=True,ignore_error=True)\n",
    "                    rs_dl = hepi.pdf_errors(li,rs_dl)\n",
    "                    rs_dl = hepi.scale_errors(li,rs_dl)\n",
    "                    rs_dl = hepi.combine_errors(rs_dl)\n",
    "                    if energy == 13000:\n",
    "                        fig, axs = plt.subplots(2, 1, figsize=(6,4), sharex=True, gridspec_kw={'height_ratios': [2, 1]})         # Remove horizontal space between axes         \n",
    "                        fig.subplots_adjust(hspace=0)\n",
    "                        hepi.title(li[0],axe=axs[0],cms_energy=False,pdf_info=False,scenario=\"\")\n",
    "                        frac = rs_dl[\"aNNLO_PLUS_NNLL_NOERR\"][rs_dl[\"aNNLO_PLUS_NNLL_COMBINED\"].notnull()]\n",
    "                    #hepi.mass_plot(rs_dl,\"LO_COMBINED\",1000022,mask = rs_dl[\"aNNLO_PLUS_NNLL_COMBINED\"].notnull(),show=True,logy=True,interpolate=True,fill=True,interpolator='cubic',pre=np.log,post=np.exp)\n",
    "                    #hepi.mass_plot(rs_dl,\"NLO_COMBINED\",1000022,mask = rs_dl[\"aNNLO_PLUS_NNLL_COMBINED\"].notnull(),show=True,logy=True,interpolate=True,fill=True,interpolator='cubic',pre=np.log,post=np.exp,init=False)\n",
    "                    \n",
    "                    hepi.mass_plot(rs_dl,\"aNNLO_PLUS_NNLL_NOERR\",1000022,axes=axs[0],mask = rs_dl[\"aNNLO_PLUS_NNLL_COMBINED\"].notnull(),tight=False,fmt=\" \",next_color=False,show=False,plot_data=False,logy=True,interpolate=True,fill=False,interpolator='cubic',pre=lambda a :np.log(a.clip(min=1e-22)),post=np.exp,init=False,interpolate_label=\"13.0 TeV\" if energy == 13000 else \"13.6 TeV\" )\n",
    "                    hepi.mass_plot(rs_dl,\"aNNLO_PLUS_NNLL_COMBINED\",1000022,axes=axs[0],mask = rs_dl[\"aNNLO_PLUS_NNLL_COMBINED\"].notnull(),tight=False,fit_fmt=\" \",next_color=True,show=False,plot_data=False,logy=True,interpolate=True,fill=True,interpolator='cubic',pre=lambda a  :np.log(a.clip(min=1e-22)),post=np.exp,init=False,label=\"\",interpolate_lower_uncertainty=False)\n",
    "                    hepi.mass_plot(rs_dl,\"aNNLO_PLUS_NNLL_NOERR\",1000022,axes=axs[1],yscale=1./frac,mask = rs_dl[\"aNNLO_PLUS_NNLL_COMBINED\"].notnull(),tight=False,yaxis=\"Ratio\",fmt=\" \",next_color=False,show=False,plot_data=False,logy=False,interpolate=True,fill=False,interpolator='cubic',pre=lambda a :np.log(a.clip(min=1e-22)),post=np.exp,init=False,label=\"\")\n",
    "                    hepi.mass_plot(rs_dl,\"aNNLO_PLUS_NNLL_COMBINED\",1000022,axes=axs[1],yscale=1./frac,mask = rs_dl[\"aNNLO_PLUS_NNLL_COMBINED\"].notnull(),tight=False,yaxis=\"Ratio\",fit_fmt=\" \",next_color=True,show=False,plot_data=False,logy=False,interpolate=True,fill=True,interpolator='cubic',pre=lambda a  :np.log(a.clip(min=1e-22)),post=np.exp,init=False,label=\"\",interpolate_lower_uncertainty=False)\n",
    "                    axs[0].set_ylim(5e-7,25)\n",
    "                    axs[1].set_ylim(-2.5,5.0)\n",
    "                    axs[0].set_xlabel(None)\n",
    "                    axs[1].set_xlabel('$m_{\\\\tilde{\\\\chi}}$ [GeV]')\n",
    "                    if energy == 13600:\n",
    "                        plt.savefig(name + \".pdf\",bbox_inches ='tight',pad_inches=0)\n",
    "                        plt.show()\n",
    "                    hepi.write_latex_table_transposed_header(rs_dl,\"aNNLO_PLUS_NNLL\",param+str(energy)+\".tex\",\"mass_1000022\")\n",
    "                    hepi.write_latex_table_transposed(rs_dl,\"aNNLO_PLUS_NNLL\",param+str(energy)+\".tex\",yscale=1000.)\n",
    "            else:\n",
    "                rs_dl = rs.run(li, skip=True, run=True, parse=True)\n",
    "                hepi.mass_plot(rs_dl,\"LO\",1000022,show=True,interpolator='cubic',pre=np.log,post=np.exp)"
   ]
  },
  {
   "cell_type": "markdown",
   "id": "da027400",
   "metadata": {},
   "source": [
    "# aNNLO+NNLL hino degenerate\n"
   ]
  },
  {
   "cell_type": "code",
   "execution_count": null,
   "id": "b344fabd",
   "metadata": {
    "scrolled": true
   },
   "outputs": [],
   "source": [
    "params = [\n",
    "    \"hino.slha\",\n",
    "]\n",
    "pss = [\n",
    "    (1000022, +1000024),  # N2C1p\n",
    "    (1000022, -1000024),  # N2C1m\n",
    "    (+1000024, -1000024),  # C1pC2m\n",
    "    (1000022, 1000023),  # N2N1\n",
    "]\n",
    "for pa, pb in pss:\n",
    "    for energy in [13000, 13600]:\n",
    "        # save to different folders to have some substructure\n",
    "        name = str(energy) + \"_hino_deg_\" + str(pa) + \"_\" + str(pb)\n",
    "        hepi.set_output_dir(\n",
    "            \"output_\" + name + \"/\"\n",
    "        )\n",
    "        rs.default_resummino_runner.set_output_dir(hepi.get_output_dir())\n",
    "        for param in params:\n",
    "            i = hepi.Input(\n",
    "                hepi.Order.LO if test_lo else hepi.Order.aNNLO_PLUS_NNLL,\n",
    "                energy,\n",
    "                pa,\n",
    "                pb,\n",
    "                param,\n",
    "                \"PDF4LHC21_40\",\n",
    "                \"PDF4LHC21_40\",\n",
    "                1.0,\n",
    "                1.0,\n",
    "                id=\"0.0.0\",\n",
    "                precision=0.001,\n",
    "                max_iters=50,\n",
    "            )\n",
    "            li = [i]\n",
    "            li = hepi.masses_scan(\n",
    "                li,\n",
    "                [\n",
    "                    1000022,\n",
    "                    1000023,\n",
    "                    1000024,\n",
    "                ],\n",
    "                range(100, 1510, 100),\n",
    "                negate=[1000022],\n",
    "            )\n",
    "            if not test_lo:\n",
    "                li = hepi.seven_point_scan(li)\n",
    "                li = hepi.pdf_scan(li)\n",
    "                # li = hepi.change_where(li, {\"precision\": 0.0001, \"max_iters\": 200}, pdfset_nlo=0)\n",
    "                if not analyse:\n",
    "                    rs_dl = rs.run(li, skip=False, run=False, parse=False)\n",
    "                else:\n",
    "                    rs_dl = rs.run(li, skip=True, run=True, parse=True,ignore_error=True)\n",
    "                    rs_dl = hepi.pdf_errors(li,rs_dl)\n",
    "                    rs_dl = hepi.scale_errors(li,rs_dl)\n",
    "                    rs_dl = hepi.combine_errors(rs_dl)\n",
    "                    if energy == 13000:\n",
    "                        fig, axs = plt.subplots(2, 1, figsize=(6,4), sharex=True, gridspec_kw={'height_ratios': [2, 1]})         # Remove horizontal space between axes         \n",
    "                        fig.subplots_adjust(hspace=0)\n",
    "                        hepi.title(li[0],axe=axs[0],cms_energy=False,pdf_info=False,scenario=\"\")\n",
    "                        frac = rs_dl[\"aNNLO_PLUS_NNLL_NOERR\"][rs_dl[\"aNNLO_PLUS_NNLL_COMBINED\"].notnull()]\n",
    "                    #hepi.mass_plot(rs_dl,\"LO_COMBINED\",1000022,mask = rs_dl[\"aNNLO_PLUS_NNLL_COMBINED\"].notnull(),show=True,logy=True,interpolate=True,fill=True,interpolator='cubic',pre=np.log,post=np.exp)\n",
    "                    #hepi.mass_plot(rs_dl,\"NLO_COMBINED\",1000022,mask = rs_dl[\"aNNLO_PLUS_NNLL_COMBINED\"].notnull(),show=True,logy=True,plot_data=False,interpolate=True,fill=True,interpolator='cubic',pre=np.log,post=np.exp,init=False)\n",
    "                    hepi.mass_plot(rs_dl,\"aNNLO_PLUS_NNLL_NOERR\",1000023,axes=axs[0],mask = rs_dl[\"aNNLO_PLUS_NNLL_COMBINED\"].notnull(),tight=False,fmt=\" \",next_color=False,show=False,plot_data=False,logy=True,interpolate=True,fill=False,interpolator='cubic',pre=lambda a :np.log(a.clip(min=1e-22)),post=np.exp,init=False,interpolate_label=\"13.0 TeV\" if energy == 13000 else \"13.6 TeV\" )\n",
    "                    hepi.mass_plot(rs_dl,\"aNNLO_PLUS_NNLL_COMBINED\",1000023,axes=axs[0],mask = rs_dl[\"aNNLO_PLUS_NNLL_COMBINED\"].notnull(),tight=False,fit_fmt=\" \",next_color=True,show=False,plot_data=False,logy=True,interpolate=True,fill=True,interpolator='cubic',pre=lambda a  :np.log(a.clip(min=1e-22)),post=np.exp,init=False,label=\"\",interpolate_lower_uncertainty=False)\n",
    "                    hepi.mass_plot(rs_dl,\"aNNLO_PLUS_NNLL_NOERR\",1000023,axes=axs[1],yscale=1./frac,mask = rs_dl[\"aNNLO_PLUS_NNLL_COMBINED\"].notnull(),tight=False,yaxis=\"Ratio\",fmt=\" \",next_color=False,show=False,plot_data=False,logy=False,interpolate=True,fill=False,interpolator='cubic',pre=lambda a :np.log(a.clip(min=1e-22)),post=np.exp,init=False,label=\"\")\n",
    "                    hepi.mass_plot(rs_dl,\"aNNLO_PLUS_NNLL_COMBINED\",1000023,axes=axs[1],yscale=1./frac,mask = rs_dl[\"aNNLO_PLUS_NNLL_COMBINED\"].notnull(),tight=False,yaxis=\"Ratio\",fit_fmt=\" \",next_color=True,show=False,plot_data=False,logy=False,interpolate=True,fill=True,interpolator='cubic',pre=lambda a  :np.log(a.clip(min=1e-22)),post=np.exp,init=False,label=\"\",interpolate_lower_uncertainty=False)\n",
    "                    axs[0].set_ylim(5e-7,10)\n",
    "                    axs[1].set_ylim(0,2.5)\n",
    "                    axs[0].set_xlabel(None)\n",
    "                    axs[1].set_xlabel('$m_{\\\\tilde{\\\\chi}}$ [GeV]')\n",
    "                    if energy == 13600:\n",
    "                        plt.savefig(name + \".pdf\",bbox_inches ='tight',pad_inches=0)\n",
    "                        plt.show()\n",
    "                    hepi.write_latex_table_transposed_header(rs_dl,\"aNNLO_PLUS_NNLL\",param+str(energy)+\".tex\",\"mass_1000023\")\n",
    "                    hepi.write_latex_table_transposed(rs_dl,\"aNNLO_PLUS_NNLL\",param+str(energy)+\".tex\",yscale=1000.)\n",
    "            else:\n",
    "                rs_dl = rs.run(li, skip=False, run=True, parse=True)\n",
    "                hepi.mass_plot(rs_dl,\"LO\",1000023,show=True,interpolator='exp')"
   ]
  },
  {
   "cell_type": "markdown",
   "id": "439fcbaa",
   "metadata": {},
   "source": [
    "# aNNLO+NNLL hino non-degenerate"
   ]
  },
  {
   "cell_type": "code",
   "execution_count": null,
   "id": "30e9708b",
   "metadata": {
    "scrolled": false
   },
   "outputs": [],
   "source": [
    "params = [\n",
    "    \"higgsino_slha_C1C1.slha\",\n",
    "]\n",
    "pss = [\n",
    "    ( 1000023, +1000024),  # N2C1p\n",
    "    ( 1000023, -1000024),  # N2C1m\n",
    "    (+1000024, -1000024),  # C1pC1m\n",
    "    ( 1000022,  1000023),  # N2N1\n",
    "]\n",
    "import urllib\n",
    "\n",
    "dl = hepi.load(\n",
    "    urllib.request.urlopen(\n",
    "        \"https://raw.githubusercontent.com/APN-Pucky/xsec/master/json/pp13_hinosplit_N2N1_NLO%2BNLL.json\"\n",
    "    ),\n",
    "    dimensions=2,\n",
    ")\n",
    "N1 = dl[\"N1\"]\n",
    "N2 = dl[\"N2\"]\n",
    "NX = dl[\"N1\"] / 2 + dl[\"N2\"] / 2\n",
    "for pa, pb in pss:\n",
    "    for energy in [13000, 13600]:\n",
    "        # save to different folders to have some substructure\n",
    "        name= str(energy) + \"_hino_nondeg_\" + str(pa) + \"_\" + str(pb)\n",
    "        hepi.set_output_dir(\n",
    "            \"output_\" + name + \"/\"\n",
    "        )\n",
    "        rs.default_resummino_runner.set_output_dir(hepi.get_output_dir())\n",
    "        for param in params:\n",
    "            i = hepi.Input(\n",
    "                hepi.Order.LO if test_lo else hepi.Order.aNNLO_PLUS_NNLL,\n",
    "                energy,\n",
    "                pa,\n",
    "                pb,\n",
    "                param,\n",
    "                \"PDF4LHC21_40\",\n",
    "                \"PDF4LHC21_40\",\n",
    "                1.0,\n",
    "                1.0,\n",
    "                id=\"0.0.0\",\n",
    "                precision=0.001,\n",
    "                max_iters=50,\n",
    "            )\n",
    "            li = [i]\n",
    "            li = hepi.slha_scan_rel(\n",
    "                li,\n",
    "                lambda r: [\n",
    "                    [\"MASS\", 1000022, N1[r]],\n",
    "                    [\"MASS\", 1000023, -N2[r]],\n",
    "                    [\"MASS\", 1000024, NX[r]],\n",
    "                ],\n",
    "                range(len(N1)),\n",
    "            )\n",
    "            if not test_lo:\n",
    "                li = hepi.seven_point_scan(li)\n",
    "                li = hepi.pdf_scan(li)\n",
    "                # li = hepi.change_where(li, {\"precision\": 0.0001, \"max_iters\": 200}, pdfset_nlo=0)\n",
    "                if not analyse:\n",
    "                    rs_dl = rs.run(li, skip=True, run=False, parse=False)\n",
    "                else:\n",
    "                    rs_dl = rs.run(li, skip=True, run=True, parse=True)\n",
    "                    \n",
    "                    \n",
    "                    rs_dl = hepi.pdf_errors(li,rs_dl)\n",
    "                    rs_dl = hepi.scale_errors(li,rs_dl)\n",
    "                    rs_dl = hepi.combine_errors(rs_dl)\n",
    "                    mask = rs_dl[\"aNNLO_PLUS_NNLL_COMBINED\"].notnull()\n",
    "                    #\"\"\"\n",
    "                    hepi.mapplot(rs_dl[mask],\"MASS_1000022\",\"MASS_1000024\",\"aNNLO_PLUS_NNLL_COMBINED\",xaxis=\"$m_{\\\\tilde{\\\\chi}_1^0}$ [GeV]\",yaxis=\"$m_{\\\\tilde{\\\\chi}_1^-}$ [GeV]\" , zaxis=\"$\\\\sigma_{\\\\mathrm{aNNLO+NNLL}}$ [pb]\")\n",
    "\n",
    "                    hepi.title(li[0],pdf_info=False,scenario=\"\")\n",
    "\n",
    "                    xx,yy = data.flatmesh(np.linspace(50,320,100),np.linspace(80,320,100))\n",
    "                    dll = hepi.interpolate_2d(rs_dl[mask],\"MASS_1000022\",\"MASS_1000024\",\"aNNLO_PLUS_NNLL_COMBINED\",xx,yy,interpolator=\"linearnd\",pre=np.log,post=np.exp)             \n",
    "                    hepi.mapplot(dll,\"MASS_1000022\",\"MASS_1000024\",\"aNNLO_PLUS_NNLL_COMBINED\",xaxis=\"$m_{\\\\tilde{\\\\chi}_1^0}$ [GeV]\",yaxis=\"$m_{\\\\tilde{\\\\chi}_1^-}$ [GeV]\" , zaxis=\"$\\\\sigma_{\\\\mathrm{aNNLO+NNLL}}$ [pb]\",fill_missing=False)\n",
    "                    \n",
    "                    hepi.title(li[0],pdf_info=False,scenario=\"\")\n",
    "                    plt.savefig(name + \".pdf\",bbox_inches ='tight',pad_inches=0)\n",
    "                    plt.show()\n",
    "                    #\"\"\"\n",
    "                    hepi.write_latex_table_transposed_header(rs_dl,\"aNNLO_PLUS_NNLL\",param+str(energy)+\".tex\",\"MASS_1000022\")\n",
    "                    hepi.write_latex_table_transposed_header(rs_dl,\"aNNLO_PLUS_NNLL\",param+str(energy)+\".tex\",\"MASS_1000023\")\n",
    "                    hepi.write_latex_table_transposed_header(rs_dl,\"aNNLO_PLUS_NNLL\",param+str(energy)+\".tex\",\"MASS_1000024\")\n",
    "                    hepi.write_latex_table_transposed(rs_dl,\"aNNLO_PLUS_NNLL\",param+str(energy)+\".tex\",yscale=1000.)\n",
    "                \n",
    "            else:\n",
    "                rs_dl = rs.run(li, skip=True, run=True, parse=True)\n",
    "                hepi.mapplot(rs_dl,\"MASS_1000022\",\"MASS_1000024\",\"LO\",xaxis=\"$m_{\\\\tilde{\\\\chi}_1^0}$ [GeV]\",yaxis=\"$m_{\\\\tilde{\\\\chi}_1^-}$ [GeV]\" , zaxis=\"$\\\\sigma_{\\\\mathrm{NLO+NLL}}$ [pb]\")"
   ]
  },
  {
   "cell_type": "markdown",
   "id": "e1cfe6b3",
   "metadata": {},
   "source": [
    "## Squark mass dependence in wino-charginos"
   ]
  },
  {
   "cell_type": "code",
   "execution_count": null,
   "id": "03bef720",
   "metadata": {
    "scrolled": false
   },
   "outputs": [
    {
     "name": "stderr",
     "output_type": "stream",
     "text": [
      "/home/apn/.local/lib/python3.9/site-packages/hepi/input.py:283: RuntimeWarning: Could not set new central scale to average of masses.\n",
      "  warnings.warn(\"Could not set new central scale to average of masses.\",\n"
     ]
    },
    {
     "data": {
      "application/json": {
       "ascii": false,
       "bar_format": null,
       "colour": null,
       "elapsed": 0.025859594345092773,
       "initial": 0,
       "n": 0,
       "ncols": null,
       "nrows": 81,
       "postfix": null,
       "prefix": "QUEUEING TASKS | Checking input",
       "rate": null,
       "total": 18095,
       "unit": "it",
       "unit_divisor": 1000,
       "unit_scale": false
      },
      "application/vnd.jupyter.widget-view+json": {
       "model_id": "c16ae0a4c0ff4e9d83ed8fe03d64a330",
       "version_major": 2,
       "version_minor": 0
      },
      "text/plain": [
       "QUEUEING TASKS | Checking input:   0%|          | 0/18095 [00:00<?, ?it/s]"
      ]
     },
     "metadata": {},
     "output_type": "display_data"
    },
    {
     "data": {
      "application/json": {
       "ascii": false,
       "bar_format": null,
       "colour": null,
       "elapsed": 0.03291463851928711,
       "initial": 0,
       "n": 0,
       "ncols": null,
       "nrows": 81,
       "postfix": null,
       "prefix": "PROCESSING TASKS | Checking input",
       "rate": null,
       "total": 18095,
       "unit": "it",
       "unit_divisor": 1000,
       "unit_scale": false
      },
      "application/vnd.jupyter.widget-view+json": {
       "model_id": "9c6bdbbc49104693a1fd8c3056dc6048",
       "version_major": 2,
       "version_minor": 0
      },
      "text/plain": [
       "PROCESSING TASKS | Checking input:   0%|          | 0/18095 [00:00<?, ?it/s]"
      ]
     },
     "metadata": {},
     "output_type": "display_data"
    },
    {
     "data": {
      "application/json": {
       "ascii": false,
       "bar_format": null,
       "colour": null,
       "elapsed": 0.0305023193359375,
       "initial": 0,
       "n": 0,
       "ncols": null,
       "nrows": 81,
       "postfix": null,
       "prefix": "COLLECTING RESULTS | Checking input",
       "rate": null,
       "total": 18095,
       "unit": "it",
       "unit_divisor": 1000,
       "unit_scale": false
      },
      "application/vnd.jupyter.widget-view+json": {
       "model_id": "e6129f2a17c9475aac92857e5bb65f3f",
       "version_major": 2,
       "version_minor": 0
      },
      "text/plain": [
       "COLLECTING RESULTS | Checking input:   0%|          | 0/18095 [00:00<?, ?it/s]"
      ]
     },
     "metadata": {},
     "output_type": "display_data"
    },
    {
     "data": {
      "application/json": {
       "ascii": false,
       "bar_format": null,
       "colour": null,
       "elapsed": 0.025995492935180664,
       "initial": 0,
       "n": 0,
       "ncols": null,
       "nrows": 81,
       "postfix": null,
       "prefix": "QUEUEING TASKS | Preparing",
       "rate": null,
       "total": 18095,
       "unit": "it",
       "unit_divisor": 1000,
       "unit_scale": false
      },
      "application/vnd.jupyter.widget-view+json": {
       "model_id": "e3b63512f197482a984eab34efa5ad88",
       "version_major": 2,
       "version_minor": 0
      },
      "text/plain": [
       "QUEUEING TASKS | Preparing:   0%|          | 0/18095 [00:00<?, ?it/s]"
      ]
     },
     "metadata": {},
     "output_type": "display_data"
    },
    {
     "data": {
      "application/json": {
       "ascii": false,
       "bar_format": null,
       "colour": null,
       "elapsed": 0.1015310287475586,
       "initial": 0,
       "n": 0,
       "ncols": null,
       "nrows": 81,
       "postfix": null,
       "prefix": "PROCESSING TASKS | Preparing",
       "rate": null,
       "total": 18095,
       "unit": "it",
       "unit_divisor": 1000,
       "unit_scale": false
      },
      "application/vnd.jupyter.widget-view+json": {
       "model_id": "c982b7c0c7464828ad98091bf3bf3d17",
       "version_major": 2,
       "version_minor": 0
      },
      "text/plain": [
       "PROCESSING TASKS | Preparing:   0%|          | 0/18095 [00:00<?, ?it/s]"
      ]
     },
     "metadata": {},
     "output_type": "display_data"
    },
    {
     "data": {
      "application/json": {
       "ascii": false,
       "bar_format": null,
       "colour": null,
       "elapsed": 0.030855894088745117,
       "initial": 0,
       "n": 0,
       "ncols": null,
       "nrows": 81,
       "postfix": null,
       "prefix": "COLLECTING RESULTS | Preparing",
       "rate": null,
       "total": 18095,
       "unit": "it",
       "unit_divisor": 1000,
       "unit_scale": false
      },
      "application/vnd.jupyter.widget-view+json": {
       "model_id": "da3791fb65da44e3beeb2ff21cf29e1e",
       "version_major": 2,
       "version_minor": 0
      },
      "text/plain": [
       "COLLECTING RESULTS | Preparing:   0%|          | 0/18095 [00:00<?, ?it/s]"
      ]
     },
     "metadata": {},
     "output_type": "display_data"
    },
    {
     "name": "stdout",
     "output_type": "stream",
     "text": [
      "Skipped: 18095 Not skipped: 0\n"
     ]
    },
    {
     "data": {
      "application/json": {
       "ascii": false,
       "bar_format": null,
       "colour": null,
       "elapsed": 0.0277402400970459,
       "initial": 0,
       "n": 0,
       "ncols": null,
       "nrows": 81,
       "postfix": null,
       "prefix": "QUEUEING TASKS | Parsing",
       "rate": null,
       "total": 18095,
       "unit": "it",
       "unit_divisor": 1000,
       "unit_scale": false
      },
      "application/vnd.jupyter.widget-view+json": {
       "model_id": "b3d23b6caa7d4d38b0f196a845c1de11",
       "version_major": 2,
       "version_minor": 0
      },
      "text/plain": [
       "QUEUEING TASKS | Parsing:   0%|          | 0/18095 [00:00<?, ?it/s]"
      ]
     },
     "metadata": {},
     "output_type": "display_data"
    },
    {
     "data": {
      "application/json": {
       "ascii": false,
       "bar_format": null,
       "colour": null,
       "elapsed": 0.08375072479248047,
       "initial": 0,
       "n": 0,
       "ncols": null,
       "nrows": 81,
       "postfix": null,
       "prefix": "PROCESSING TASKS | Parsing",
       "rate": null,
       "total": 18095,
       "unit": "it",
       "unit_divisor": 1000,
       "unit_scale": false
      },
      "application/vnd.jupyter.widget-view+json": {
       "model_id": "ce105753895d46cd993dddd603dda59f",
       "version_major": 2,
       "version_minor": 0
      },
      "text/plain": [
       "PROCESSING TASKS | Parsing:   0%|          | 0/18095 [00:00<?, ?it/s]"
      ]
     },
     "metadata": {},
     "output_type": "display_data"
    },
    {
     "data": {
      "application/json": {
       "ascii": false,
       "bar_format": null,
       "colour": null,
       "elapsed": 0.028055906295776367,
       "initial": 0,
       "n": 0,
       "ncols": null,
       "nrows": 81,
       "postfix": null,
       "prefix": "COLLECTING RESULTS | Parsing",
       "rate": null,
       "total": 18095,
       "unit": "it",
       "unit_divisor": 1000,
       "unit_scale": false
      },
      "application/vnd.jupyter.widget-view+json": {
       "model_id": "908bed015ca34f2cb74b03e011b3a6f9",
       "version_major": 2,
       "version_minor": 0
      },
      "text/plain": [
       "COLLECTING RESULTS | Parsing:   0%|          | 0/18095 [00:00<?, ?it/s]"
      ]
     },
     "metadata": {},
     "output_type": "display_data"
    },
    {
     "data": {
      "application/json": {
       "ascii": false,
       "bar_format": null,
       "colour": null,
       "elapsed": 0.021960735321044922,
       "initial": 0,
       "n": 0,
       "ncols": null,
       "nrows": 81,
       "postfix": null,
       "prefix": "QUEUEING TASKS | PDF uncertainty @ LO",
       "rate": null,
       "total": 385,
       "unit": "it",
       "unit_divisor": 1000,
       "unit_scale": false
      },
      "application/vnd.jupyter.widget-view+json": {
       "model_id": "b61abaafb6c44171833c9d4edefaa1f5",
       "version_major": 2,
       "version_minor": 0
      },
      "text/plain": [
       "QUEUEING TASKS | PDF uncertainty @ LO:   0%|          | 0/385 [00:00<?, ?it/s]"
      ]
     },
     "metadata": {},
     "output_type": "display_data"
    },
    {
     "data": {
      "application/json": {
       "ascii": false,
       "bar_format": null,
       "colour": null,
       "elapsed": 0.28589844703674316,
       "initial": 0,
       "n": 0,
       "ncols": null,
       "nrows": 81,
       "postfix": null,
       "prefix": "PROCESSING TASKS | PDF uncertainty @ LO",
       "rate": null,
       "total": 385,
       "unit": "it",
       "unit_divisor": 1000,
       "unit_scale": false
      },
      "application/vnd.jupyter.widget-view+json": {
       "model_id": "520c050ee70a4f42b53f8ffab20db25f",
       "version_major": 2,
       "version_minor": 0
      },
      "text/plain": [
       "PROCESSING TASKS | PDF uncertainty @ LO:   0%|          | 0/385 [00:00<?, ?it/s]"
      ]
     },
     "metadata": {},
     "output_type": "display_data"
    },
    {
     "data": {
      "application/json": {
       "ascii": false,
       "bar_format": null,
       "colour": null,
       "elapsed": 0.031139850616455078,
       "initial": 0,
       "n": 0,
       "ncols": null,
       "nrows": 81,
       "postfix": null,
       "prefix": "COLLECTING RESULTS | PDF uncertainty @ LO",
       "rate": null,
       "total": 385,
       "unit": "it",
       "unit_divisor": 1000,
       "unit_scale": false
      },
      "application/vnd.jupyter.widget-view+json": {
       "model_id": "43d0cace835443c0b7930eb4359c207a",
       "version_major": 2,
       "version_minor": 0
      },
      "text/plain": [
       "COLLECTING RESULTS | PDF uncertainty @ LO:   0%|          | 0/385 [00:00<?, ?it/s]"
      ]
     },
     "metadata": {},
     "output_type": "display_data"
    },
    {
     "data": {
      "application/json": {
       "ascii": false,
       "bar_format": null,
       "colour": null,
       "elapsed": 0.024968624114990234,
       "initial": 0,
       "n": 0,
       "ncols": null,
       "nrows": 81,
       "postfix": null,
       "prefix": "QUEUEING TASKS | PDF uncertainty @ NLO",
       "rate": null,
       "total": 385,
       "unit": "it",
       "unit_divisor": 1000,
       "unit_scale": false
      },
      "application/vnd.jupyter.widget-view+json": {
       "model_id": "d8f373a259ca46eead1943da8b8bb022",
       "version_major": 2,
       "version_minor": 0
      },
      "text/plain": [
       "QUEUEING TASKS | PDF uncertainty @ NLO:   0%|          | 0/385 [00:00<?, ?it/s]"
      ]
     },
     "metadata": {},
     "output_type": "display_data"
    },
    {
     "data": {
      "application/json": {
       "ascii": false,
       "bar_format": null,
       "colour": null,
       "elapsed": 0.3829350471496582,
       "initial": 0,
       "n": 0,
       "ncols": null,
       "nrows": 81,
       "postfix": null,
       "prefix": "PROCESSING TASKS | PDF uncertainty @ NLO",
       "rate": null,
       "total": 385,
       "unit": "it",
       "unit_divisor": 1000,
       "unit_scale": false
      },
      "application/vnd.jupyter.widget-view+json": {
       "model_id": "c243962a0e3148fe9b48f8d6fa8bea62",
       "version_major": 2,
       "version_minor": 0
      },
      "text/plain": [
       "PROCESSING TASKS | PDF uncertainty @ NLO:   0%|          | 0/385 [00:00<?, ?it/s]"
      ]
     },
     "metadata": {},
     "output_type": "display_data"
    },
    {
     "data": {
      "application/json": {
       "ascii": false,
       "bar_format": null,
       "colour": null,
       "elapsed": 0.023938655853271484,
       "initial": 0,
       "n": 0,
       "ncols": null,
       "nrows": 81,
       "postfix": null,
       "prefix": "COLLECTING RESULTS | PDF uncertainty @ NLO",
       "rate": null,
       "total": 385,
       "unit": "it",
       "unit_divisor": 1000,
       "unit_scale": false
      },
      "application/vnd.jupyter.widget-view+json": {
       "model_id": "c8effeba63da403abdd8ceceeaa18f1b",
       "version_major": 2,
       "version_minor": 0
      },
      "text/plain": [
       "COLLECTING RESULTS | PDF uncertainty @ NLO:   0%|          | 0/385 [00:00<?, ?it/s]"
      ]
     },
     "metadata": {},
     "output_type": "display_data"
    },
    {
     "data": {
      "application/json": {
       "ascii": false,
       "bar_format": null,
       "colour": null,
       "elapsed": 0.0262603759765625,
       "initial": 0,
       "n": 0,
       "ncols": null,
       "nrows": 81,
       "postfix": null,
       "prefix": "QUEUEING TASKS | PDF uncertainty @ aNNLO_PLUS_NNLL",
       "rate": null,
       "total": 385,
       "unit": "it",
       "unit_divisor": 1000,
       "unit_scale": false
      },
      "application/vnd.jupyter.widget-view+json": {
       "model_id": "40fece8a4e794576b77ef4d346e7437b",
       "version_major": 2,
       "version_minor": 0
      },
      "text/plain": [
       "QUEUEING TASKS | PDF uncertainty @ aNNLO_PLUS_NNLL:   0%|          | 0/385 [00:00<?, ?it/s]"
      ]
     },
     "metadata": {},
     "output_type": "display_data"
    },
    {
     "data": {
      "application/json": {
       "ascii": false,
       "bar_format": null,
       "colour": null,
       "elapsed": 0.465578556060791,
       "initial": 0,
       "n": 0,
       "ncols": null,
       "nrows": 81,
       "postfix": null,
       "prefix": "PROCESSING TASKS | PDF uncertainty @ aNNLO_PLUS_NNLL",
       "rate": null,
       "total": 385,
       "unit": "it",
       "unit_divisor": 1000,
       "unit_scale": false
      },
      "application/vnd.jupyter.widget-view+json": {
       "model_id": "bc12af0ccf8b4452854cd0df1bbb375d",
       "version_major": 2,
       "version_minor": 0
      },
      "text/plain": [
       "PROCESSING TASKS | PDF uncertainty @ aNNLO_PLUS_NNLL:   0%|          | 0/385 [00:00<?, ?it/s]"
      ]
     },
     "metadata": {},
     "output_type": "display_data"
    },
    {
     "data": {
      "application/json": {
       "ascii": false,
       "bar_format": null,
       "colour": null,
       "elapsed": 0.030503511428833008,
       "initial": 0,
       "n": 0,
       "ncols": null,
       "nrows": 81,
       "postfix": null,
       "prefix": "COLLECTING RESULTS | PDF uncertainty @ aNNLO_PLUS_NNLL",
       "rate": null,
       "total": 385,
       "unit": "it",
       "unit_divisor": 1000,
       "unit_scale": false
      },
      "application/vnd.jupyter.widget-view+json": {
       "model_id": "bc8cb117501f42a5985262b4ebd20e10",
       "version_major": 2,
       "version_minor": 0
      },
      "text/plain": [
       "COLLECTING RESULTS | PDF uncertainty @ aNNLO_PLUS_NNLL:   0%|          | 0/385 [00:00<?, ?it/s]"
      ]
     },
     "metadata": {},
     "output_type": "display_data"
    },
    {
     "data": {
      "application/json": {
       "ascii": false,
       "bar_format": null,
       "colour": null,
       "elapsed": 0.019502639770507812,
       "initial": 0,
       "n": 0,
       "ncols": null,
       "nrows": 81,
       "postfix": null,
       "prefix": "QUEUEING TASKS | Scale uncertainty @ LO",
       "rate": null,
       "total": 385,
       "unit": "it",
       "unit_divisor": 1000,
       "unit_scale": false
      },
      "application/vnd.jupyter.widget-view+json": {
       "model_id": "2dda66807a44479e871beb8a3dc64ddb",
       "version_major": 2,
       "version_minor": 0
      },
      "text/plain": [
       "QUEUEING TASKS | Scale uncertainty @ LO:   0%|          | 0/385 [00:00<?, ?it/s]"
      ]
     },
     "metadata": {},
     "output_type": "display_data"
    },
    {
     "data": {
      "application/json": {
       "ascii": false,
       "bar_format": null,
       "colour": null,
       "elapsed": 0.18345141410827637,
       "initial": 0,
       "n": 0,
       "ncols": null,
       "nrows": 81,
       "postfix": null,
       "prefix": "PROCESSING TASKS | Scale uncertainty @ LO",
       "rate": null,
       "total": 385,
       "unit": "it",
       "unit_divisor": 1000,
       "unit_scale": false
      },
      "application/vnd.jupyter.widget-view+json": {
       "model_id": "d66ff593998d4c439ac32c8892271b66",
       "version_major": 2,
       "version_minor": 0
      },
      "text/plain": [
       "PROCESSING TASKS | Scale uncertainty @ LO:   0%|          | 0/385 [00:00<?, ?it/s]"
      ]
     },
     "metadata": {},
     "output_type": "display_data"
    },
    {
     "data": {
      "application/json": {
       "ascii": false,
       "bar_format": null,
       "colour": null,
       "elapsed": 0.027388334274291992,
       "initial": 0,
       "n": 0,
       "ncols": null,
       "nrows": 81,
       "postfix": null,
       "prefix": "COLLECTING RESULTS | Scale uncertainty @ LO",
       "rate": null,
       "total": 385,
       "unit": "it",
       "unit_divisor": 1000,
       "unit_scale": false
      },
      "application/vnd.jupyter.widget-view+json": {
       "model_id": "5b7e2307afe8449dba9e35c9584e6d64",
       "version_major": 2,
       "version_minor": 0
      },
      "text/plain": [
       "COLLECTING RESULTS | Scale uncertainty @ LO:   0%|          | 0/385 [00:00<?, ?it/s]"
      ]
     },
     "metadata": {},
     "output_type": "display_data"
    },
    {
     "data": {
      "application/json": {
       "ascii": false,
       "bar_format": null,
       "colour": null,
       "elapsed": 0.02649998664855957,
       "initial": 0,
       "n": 0,
       "ncols": null,
       "nrows": 81,
       "postfix": null,
       "prefix": "QUEUEING TASKS | Scale uncertainty @ NLO",
       "rate": null,
       "total": 385,
       "unit": "it",
       "unit_divisor": 1000,
       "unit_scale": false
      },
      "application/vnd.jupyter.widget-view+json": {
       "model_id": "856a2f37f6404b2bb2c16786d0061e85",
       "version_major": 2,
       "version_minor": 0
      },
      "text/plain": [
       "QUEUEING TASKS | Scale uncertainty @ NLO:   0%|          | 0/385 [00:00<?, ?it/s]"
      ]
     },
     "metadata": {},
     "output_type": "display_data"
    },
    {
     "data": {
      "application/json": {
       "ascii": false,
       "bar_format": null,
       "colour": null,
       "elapsed": 0.23571133613586426,
       "initial": 0,
       "n": 0,
       "ncols": null,
       "nrows": 81,
       "postfix": null,
       "prefix": "PROCESSING TASKS | Scale uncertainty @ NLO",
       "rate": null,
       "total": 385,
       "unit": "it",
       "unit_divisor": 1000,
       "unit_scale": false
      },
      "application/vnd.jupyter.widget-view+json": {
       "model_id": "feca01f071774d06b8e6156569da55a0",
       "version_major": 2,
       "version_minor": 0
      },
      "text/plain": [
       "PROCESSING TASKS | Scale uncertainty @ NLO:   0%|          | 0/385 [00:00<?, ?it/s]"
      ]
     },
     "metadata": {},
     "output_type": "display_data"
    },
    {
     "data": {
      "application/json": {
       "ascii": false,
       "bar_format": null,
       "colour": null,
       "elapsed": 0.027816057205200195,
       "initial": 0,
       "n": 0,
       "ncols": null,
       "nrows": 81,
       "postfix": null,
       "prefix": "COLLECTING RESULTS | Scale uncertainty @ NLO",
       "rate": null,
       "total": 385,
       "unit": "it",
       "unit_divisor": 1000,
       "unit_scale": false
      },
      "application/vnd.jupyter.widget-view+json": {
       "model_id": "ce23865750d443278f4fa336c5e945d1",
       "version_major": 2,
       "version_minor": 0
      },
      "text/plain": [
       "COLLECTING RESULTS | Scale uncertainty @ NLO:   0%|          | 0/385 [00:00<?, ?it/s]"
      ]
     },
     "metadata": {},
     "output_type": "display_data"
    },
    {
     "name": "stderr",
     "output_type": "stream",
     "text": [
      "/home/apn/.local/lib/python3.9/site-packages/hepi/results.py:276: RuntimeWarning: too bad numerical precision vs scale @ num:NLO 0.06160525643863107% vs scale:0.2791484844615665% to -0.9535007326855207%\n",
      "  warnings.warn(\n",
      "/home/apn/.local/lib/python3.9/site-packages/hepi/results.py:276: RuntimeWarning: too bad numerical precision vs scale @ num:NLO 0.06027081476813489% vs scale:0.2728132805081222% to -0.5771052492452697%\n",
      "  warnings.warn(\n",
      "/home/apn/.local/lib/python3.9/site-packages/hepi/results.py:276: RuntimeWarning: too bad numerical precision vs scale @ num:NLO 0.0596322946402988% vs scale:0.2262055612785792% to -0.7118659795688935%\n",
      "  warnings.warn(\n",
      "/home/apn/.local/lib/python3.9/site-packages/hepi/results.py:276: RuntimeWarning: too bad numerical precision vs scale @ num:NLO 0.0605953295168578% vs scale:0.30152099184930387% to -1.1555004015802572%\n",
      "  warnings.warn(\n",
      "/home/apn/.local/lib/python3.9/site-packages/hepi/results.py:276: RuntimeWarning: too bad numerical precision vs scale @ num:NLO 0.0593720323965218% vs scale:0.2049657425322099% to -0.8082248796219075%\n",
      "  warnings.warn(\n",
      "/home/apn/.local/lib/python3.9/site-packages/hepi/results.py:276: RuntimeWarning: too bad numerical precision vs scale @ num:NLO 0.0627058151124384% vs scale:0.2708430514230613% to -1.221343148288408%\n",
      "  warnings.warn(\n",
      "/home/apn/.local/lib/python3.9/site-packages/hepi/results.py:276: RuntimeWarning: too bad numerical precision vs scale @ num:NLO 0.062365046907840664% vs scale:0.15488423610679025% to -0.8846787468228383%\n",
      "  warnings.warn(\n",
      "/home/apn/.local/lib/python3.9/site-packages/hepi/results.py:276: RuntimeWarning: too bad numerical precision vs scale @ num:NLO 0.06314259630163568% vs scale:0.2240358831577997% to -1.2237625959714966%\n",
      "  warnings.warn(\n",
      "/home/apn/.local/lib/python3.9/site-packages/hepi/results.py:276: RuntimeWarning: too bad numerical precision vs scale @ num:NLO 0.06173756155772596% vs scale:0.17097055234603983% to -0.8819255736511976%\n",
      "  warnings.warn(\n",
      "/home/apn/.local/lib/python3.9/site-packages/hepi/results.py:276: RuntimeWarning: too bad numerical precision vs scale @ num:NLO 0.06427842958162912% vs scale:0.30994960649188563% to -1.5704289178720114%\n",
      "  warnings.warn(\n",
      "/home/apn/.local/lib/python3.9/site-packages/hepi/results.py:276: RuntimeWarning: too bad numerical precision vs scale @ num:NLO 0.0627956295333482% vs scale:0.16428849411195295% to -1.1760959542736273%\n",
      "  warnings.warn(\n",
      "/home/apn/.local/lib/python3.9/site-packages/hepi/results.py:276: RuntimeWarning: too bad numerical precision vs scale @ num:NLO 0.06163324410448971% vs scale:0.17768487550235534% to -0.9768572250401478%\n",
      "  warnings.warn(\n",
      "/home/apn/.local/lib/python3.9/site-packages/hepi/results.py:276: RuntimeWarning: too bad numerical precision vs scale @ num:NLO 0.06363536533334992% vs scale:0.25851034834685177% to -1.4936322901287764%\n",
      "  warnings.warn(\n",
      "/home/apn/.local/lib/python3.9/site-packages/hepi/results.py:276: RuntimeWarning: too bad numerical precision vs scale @ num:NLO 0.06205663451882942% vs scale:0.11820913649141589% to -1.1232784642988702%\n",
      "  warnings.warn(\n",
      "/home/apn/.local/lib/python3.9/site-packages/hepi/results.py:276: RuntimeWarning: too bad numerical precision vs scale @ num:NLO 0.06089453878217842% vs scale:0.22563118954156422% to -1.1051369696592486%\n",
      "  warnings.warn(\n",
      "/home/apn/.local/lib/python3.9/site-packages/hepi/results.py:276: RuntimeWarning: too bad numerical precision vs scale @ num:NLO 0.06301565372357357% vs scale:0.21448396371062647% to -1.4082991707854677%\n",
      "  warnings.warn(\n",
      "/home/apn/.local/lib/python3.9/site-packages/hepi/results.py:276: RuntimeWarning: too bad numerical precision vs scale @ num:NLO 0.061972222111915005% vs scale:0.08719598196680362% to -1.0532349539478087%\n",
      "  warnings.warn(\n",
      "/home/apn/.local/lib/python3.9/site-packages/hepi/results.py:276: RuntimeWarning: too bad numerical precision vs scale @ num:NLO 0.060595795432281746% vs scale:0.2669957924867535% to -1.2560135949676854%\n",
      "  warnings.warn(\n",
      "/home/apn/.local/lib/python3.9/site-packages/hepi/results.py:276: RuntimeWarning: too bad numerical precision vs scale @ num:NLO 0.06385369490908455% vs scale:0.266514409481719% to -1.7527831561194875%\n",
      "  warnings.warn(\n",
      "/home/apn/.local/lib/python3.9/site-packages/hepi/results.py:276: RuntimeWarning: too bad numerical precision vs scale @ num:NLO 0.062266377317143864% vs scale:0.16285180815565856% to -1.307820350665216%\n",
      "  warnings.warn(\n",
      "/home/apn/.local/lib/python3.9/site-packages/hepi/results.py:276: RuntimeWarning: too bad numerical precision vs scale @ num:NLO 0.061411687371106825% vs scale:0.1359306822127354% to -1.2088792534640338%\n",
      "  warnings.warn(\n",
      "/home/apn/.local/lib/python3.9/site-packages/hepi/results.py:276: RuntimeWarning: too bad numerical precision vs scale @ num:NLO 0.062063634021561155% vs scale:0.21369229539347856% to -1.6261247367482399%\n",
      "  warnings.warn(\n",
      "/home/apn/.local/lib/python3.9/site-packages/hepi/results.py:276: RuntimeWarning: too bad numerical precision vs scale @ num:NLO 0.06190634467760575% vs scale:0.10999816809134925% to -1.2043297529873846%\n",
      "  warnings.warn(\n",
      "/home/apn/.local/lib/python3.9/site-packages/hepi/results.py:276: RuntimeWarning: too bad numerical precision vs scale @ num:NLO 0.060787244069342966% vs scale:0.19722348578469687% to -1.3646690121163303%\n",
      "  warnings.warn(\n",
      "/home/apn/.local/lib/python3.9/site-packages/hepi/results.py:276: RuntimeWarning: too bad numerical precision vs scale @ num:NLO 0.062466969907457745% vs scale:0.3096758710510271% to -1.8944414286123967%\n",
      "  warnings.warn(\n",
      "/home/apn/.local/lib/python3.9/site-packages/hepi/results.py:276: RuntimeWarning: too bad numerical precision vs scale @ num:NLO 0.06262909738325237% vs scale:0.15034575833716274% to -1.4943059857273213%\n",
      "  warnings.warn(\n",
      "/home/apn/.local/lib/python3.9/site-packages/hepi/results.py:276: RuntimeWarning: too bad numerical precision vs scale @ num:NLO 0.06143320833135866% vs scale:0.06779862442556278% to -1.2884369435923817%\n",
      "  warnings.warn(\n",
      "/home/apn/.local/lib/python3.9/site-packages/hepi/results.py:276: RuntimeWarning: too bad numerical precision vs scale @ num:NLO 0.061794783559682986% vs scale:0.24896335796153501% to -1.7385024096646526%\n",
      "  warnings.warn(\n"
     ]
    },
    {
     "data": {
      "application/json": {
       "ascii": false,
       "bar_format": null,
       "colour": null,
       "elapsed": 0.025710582733154297,
       "initial": 0,
       "n": 0,
       "ncols": null,
       "nrows": 81,
       "postfix": null,
       "prefix": "QUEUEING TASKS | Scale uncertainty @ aNNLO_PLUS_NNLL",
       "rate": null,
       "total": 385,
       "unit": "it",
       "unit_divisor": 1000,
       "unit_scale": false
      },
      "application/vnd.jupyter.widget-view+json": {
       "model_id": "dc5c2232131b4ea497e48fcd1bdaf529",
       "version_major": 2,
       "version_minor": 0
      },
      "text/plain": [
       "QUEUEING TASKS | Scale uncertainty @ aNNLO_PLUS_NNLL:   0%|          | 0/385 [00:00<?, ?it/s]"
      ]
     },
     "metadata": {},
     "output_type": "display_data"
    },
    {
     "data": {
      "application/json": {
       "ascii": false,
       "bar_format": null,
       "colour": null,
       "elapsed": 0.27214908599853516,
       "initial": 0,
       "n": 0,
       "ncols": null,
       "nrows": 81,
       "postfix": null,
       "prefix": "PROCESSING TASKS | Scale uncertainty @ aNNLO_PLUS_NNLL",
       "rate": null,
       "total": 385,
       "unit": "it",
       "unit_divisor": 1000,
       "unit_scale": false
      },
      "application/vnd.jupyter.widget-view+json": {
       "model_id": "5053b72275654957b1f53948283436a8",
       "version_major": 2,
       "version_minor": 0
      },
      "text/plain": [
       "PROCESSING TASKS | Scale uncertainty @ aNNLO_PLUS_NNLL:   0%|          | 0/385 [00:00<?, ?it/s]"
      ]
     },
     "metadata": {},
     "output_type": "display_data"
    },
    {
     "data": {
      "application/json": {
       "ascii": false,
       "bar_format": null,
       "colour": null,
       "elapsed": 0.03544044494628906,
       "initial": 0,
       "n": 0,
       "ncols": null,
       "nrows": 81,
       "postfix": null,
       "prefix": "COLLECTING RESULTS | Scale uncertainty @ aNNLO_PLUS_NNLL",
       "rate": null,
       "total": 385,
       "unit": "it",
       "unit_divisor": 1000,
       "unit_scale": false
      },
      "application/vnd.jupyter.widget-view+json": {
       "model_id": "ef58275431ae41f5850ec5299a0675a2",
       "version_major": 2,
       "version_minor": 0
      },
      "text/plain": [
       "COLLECTING RESULTS | Scale uncertainty @ aNNLO_PLUS_NNLL:   0%|          | 0/385 [00:00<?, ?it/s]"
      ]
     },
     "metadata": {},
     "output_type": "display_data"
    }
   ],
   "source": [
    "test_lo=False\n",
    "params = [\n",
    "    \"wino.slha\",\n",
    "]\n",
    "pss = [\n",
    "    ( 1000023, +1000024),  # N1C1p\n",
    "    ( 1000023, -1000024),  # N1C1m\n",
    "    (+1000024, -1000024),  # C1pC1m\n",
    "]\n",
    "m_xs=range(700,2010,100)\n",
    "for pa, pb in pss:\n",
    "    for energy in [13000,13600]:\n",
    "        name = \"sq_\" + str(energy) + \"_wino_\" + str(pa) + \"_\" + str(pb)\n",
    "        hepi.set_output_dir(\n",
    "            \"output_\" + name + \"/\"\n",
    "        )\n",
    "        rs.default_resummino_runner.set_output_dir(hepi.get_output_dir())\n",
    "        for param in params:\n",
    "            i = hepi.Input(\n",
    "                hepi.Order.LO if test_lo else hepi.Order.aNNLO_PLUS_NNLL,\n",
    "                    energy,\n",
    "                    pa,\n",
    "                    pb,\n",
    "                    param,\n",
    "                    \"PDF4LHC21_40\",\n",
    "                    \"PDF4LHC21_40\",\n",
    "                    1.0,\n",
    "                    1.0,\n",
    "                    id=\"0.0.0\",\n",
    "                    precision=0.001,\n",
    "                    max_iters=50,\n",
    "                )\n",
    "            li = [i]\n",
    "            li = hepi.masses_scan(\n",
    "                   li,\n",
    "                    [\n",
    "                        1000022,\n",
    "                        1000023,\n",
    "                        1000024,\n",
    "                     ],\n",
    "                     m_xs,\n",
    "                 )\n",
    "            li = hepi.masses_scan(\n",
    "                     li,\n",
    "                    [\n",
    "                       1000001,\n",
    "                       1000002,\n",
    "                       1000003,\n",
    "                       1000004,\n",
    "                       2000001,\n",
    "                       2000002,\n",
    "                       2000003,\n",
    "                       2000004,\n",
    "                   ],\n",
    "                   range(700,4010,100), # decoupling else 1e5\n",
    "               )\n",
    "            li = hepi.remove_where(li,lambda d : d[\"mass_1000001_1000002_1000003_1000004_2000001_2000002_2000003_2000004\"] < d[\"mass_1000022_1000023_1000024\"])\n",
    "            if not test_lo:\n",
    "\n",
    "                li = hepi.seven_point_scan(li)\n",
    "                li = hepi.pdf_scan(li)\n",
    "                    # li = hepi.change_where(li, {\"precision\": 0.0001, \"max_iters\": 200}, pdfset_nlo=0)\n",
    "                if not analyse:\n",
    "                    rs_dl = rs.run(li, skip=False, run=False, parse=False)\n",
    "                else:\n",
    "                    rs_dl = rs.run(li, skip=True, run=True, parse=True,ignore_error=True)\n",
    "                    rs_dl = hepi.pdf_errors(li,rs_dl)\n",
    "                    rs_dl = hepi.scale_errors(li,rs_dl)\n",
    "                    rs_dl = hepi.combine_errors(rs_dl)\n",
    "                    hepi.mapplot(rs_dl,\"mass_1000001_1000002_1000003_1000004_2000001_2000002_2000003_2000004\",\"mass_1000022_1000023_1000024\",\"aNNLO_PLUS_NNLL\",yaxis=\"$m_{\\\\tilde{\\\\chi}_1^0}$ [GeV]\",xaxis=\"$m_{\\\\tilde{q}}$ [GeV]\" , zaxis=\"$\\\\sigma_{\\\\mathrm{NLO+NLL}}$ [pb]\")\n",
    "                    plt.show()\n",
    "                    for m_x in m_xs:\n",
    "                        hepi.mass_plot(rs_dl[rs_dl[\"mass_1000022_1000023_1000024\"]==m_x],\"aNNLO_PLUS_NNLL\",1000002,data_fmt=\".\",lpos=6,bbox_to_anchor=(1.04,0.5),interpolate_label=\"$m_{\\\\tilde{\\\\chi}_1^0}$ = \" + str(m_x) + \"GeV\",xaxis=\"$m_{\\\\tilde{q}}$ [GeV]\",cont=True,plot_data=False,interpolate=True)\n",
    "                    plt.show()\n",
    "                    #hepi.write_latex_table_transposed_header(rs_dl,\"aNNLO_PLUS_NNLL\",param+str(energy)+\".tex\",\"mass_1000022\")\n",
    "                    #hepi.write_latex_table_transposed(rs_dl,\"aNNLO_PLUS_NNLL\",param+str(energy)+\".tex\",yscale=1000.)\n",
    "            else:\n",
    "                rs_dl = rs.run(li, skip=True, run=True, parse=True)\n",
    "                hepi.mapplot(rs_dl,\"mass_1000001_1000002_1000003_1000004_2000001_2000002_2000003_2000004\",\"mass_1000022_1000023_1000024\",\"LO\",yaxis=\"$m_{\\\\tilde{\\\\chi}_1^0}$ [GeV]\",xaxis=\"$m_{\\\\tilde{q}}$ [GeV]\" , zaxis=\"$\\\\sigma_{\\\\mathrm{NLO+NLL}}$ [pb]\")\n",
    "                plt.show()\n",
    "                for m_x in m_xs:\n",
    "                    hepi.mass_plot(rs_dl[rs_dl[\"mass_1000022_1000023_1000024\"]==m_x],\"LO\",1000002,data_fmt=\".\",lpos=6,bbox_to_anchor=(1.04,0.5),interpolate_label=\"$m_{\\\\tilde{\\\\chi}_1^0}$ = \" + str(m_x) + \"GeV\",xaxis=\"$m_{\\\\tilde{q}}$ [GeV]\",cont=True,plot_data=False,interpolate=True)\n",
    "                plt.show()"
   ]
  },
  {
   "cell_type": "code",
   "execution_count": null,
   "id": "40cad746",
   "metadata": {},
   "outputs": [],
   "source": [
    "test_lo=True\n",
    "params = [\n",
    "    \"hino.slha\",\n",
    "]\n",
    "pss = [\n",
    "    (1000022, +1000024),  # N2C1p\n",
    "    (1000022, -1000024),  # N2C1m\n",
    "    (+1000024, -1000024),  # C1pC2m\n",
    "    (1000022, 1000023),  # N2N1\n",
    "]\n",
    "for pa, pb in pss:\n",
    "    for energy in [13600]:\n",
    "        # save to different folders to have some substructure\n",
    "        name = str(energy) + \"_hino_deg_\" + str(pa) + \"_\" + str(pb)\n",
    "        hepi.set_output_dir(\n",
    "            \"output_\" + name + \"/\"\n",
    "        )\n",
    "        rs.default_resummino_runner.set_output_dir(hepi.get_output_dir())\n",
    "        for param in params:\n",
    "            i = hepi.Input(\n",
    "                hepi.Order.LO if test_lo else hepi.Order.aNNLO_PLUS_NNLL,\n",
    "                energy,\n",
    "                pa,\n",
    "                pb,\n",
    "                param,\n",
    "                \"PDF4LHC21_40\",\n",
    "                \"PDF4LHC21_40\",\n",
    "                1.0,\n",
    "                1.0,\n",
    "                id=\"0.0.0\",\n",
    "                precision=0.001,\n",
    "                max_iters=50,\n",
    "            )\n",
    "            li = [i]\n",
    "            li = hepi.masses_scan(\n",
    "                li,\n",
    "                [\n",
    "                    1000022,\n",
    "                    1000023,\n",
    "                    1000024,\n",
    "                ],\n",
    "                range(700, 2010, 100),\n",
    "                negate=[1000022],\n",
    "            )\n",
    "            li = hepi.masses_scan(\n",
    "                     li,\n",
    "                    [\n",
    "                       1000001,\n",
    "                       1000002,\n",
    "                       1000003,\n",
    "                       1000004,\n",
    "                       2000001,\n",
    "                       2000002,\n",
    "                       2000003,\n",
    "                       2000004,\n",
    "                   ],\n",
    "                   range(700,4100,100), # decoupling else 1e5\n",
    "            )\n",
    "            \n",
    "            if not test_lo:\n",
    "                li = hepi.seven_point_scan(li)\n",
    "                li = hepi.pdf_scan(li)\n",
    "                # li = hepi.change_where(li, {\"precision\": 0.0001, \"max_iters\": 200}, pdfset_nlo=0)\n",
    "                if not analyse:\n",
    "                    rs_dl = rs.run(li, skip=False, run=False, parse=False)\n",
    "                else:\n",
    "                    rs_dl = rs.run(li, skip=True, run=True, parse=True,ignore_error=True)\n",
    "                    rs_dl = hepi.pdf_errors(li,rs_dl)\n",
    "                    rs_dl = hepi.scale_errors(li,rs_dl)\n",
    "                    rs_dl = hepi.combine_errors(rs_dl)\n",
    "                    if energy == 13000:\n",
    "                        fig, axs = plt.subplots(2, 1, figsize=(6,4), sharex=True, gridspec_kw={'height_ratios': [2, 1]})         # Remove horizontal space between axes         \n",
    "                        fig.subplots_adjust(hspace=0)\n",
    "                        hepi.title(li[0],axe=axs[0],cms_energy=False,pdf_info=False,scenario=\"\")\n",
    "                        frac = rs_dl[\"aNNLO_PLUS_NNLL_NOERR\"][rs_dl[\"aNNLO_PLUS_NNLL_COMBINED\"].notnull()]\n",
    "                    #hepi.mass_plot(rs_dl,\"LO_COMBINED\",1000022,mask = rs_dl[\"aNNLO_PLUS_NNLL_COMBINED\"].notnull(),show=True,logy=True,interpolate=True,fill=True,interpolator='cubic',pre=np.log,post=np.exp)\n",
    "                    #hepi.mass_plot(rs_dl,\"NLO_COMBINED\",1000022,mask = rs_dl[\"aNNLO_PLUS_NNLL_COMBINED\"].notnull(),show=True,logy=True,plot_data=False,interpolate=True,fill=True,interpolator='cubic',pre=np.log,post=np.exp,init=False)\n",
    "                    hepi.mass_plot(rs_dl,\"aNNLO_PLUS_NNLL_NOERR\",1000023,axes=axs[0],mask = rs_dl[\"aNNLO_PLUS_NNLL_COMBINED\"].notnull(),tight=False,fmt=\" \",next_color=False,show=False,plot_data=False,logy=True,interpolate=True,fill=False,interpolator='cubic',pre=lambda a :np.log(a.clip(min=1e-22)),post=np.exp,init=False,interpolate_label=\"13.0 TeV\" if energy == 13000 else \"13.6 TeV\" )\n",
    "                    hepi.mass_plot(rs_dl,\"aNNLO_PLUS_NNLL_COMBINED\",1000023,axes=axs[0],mask = rs_dl[\"aNNLO_PLUS_NNLL_COMBINED\"].notnull(),tight=False,fit_fmt=\" \",next_color=True,show=False,plot_data=False,logy=True,interpolate=True,fill=True,interpolator='cubic',pre=lambda a  :np.log(a.clip(min=1e-22)),post=np.exp,init=False,label=\"\",interpolate_lower_uncertainty=False)\n",
    "                    hepi.mass_plot(rs_dl,\"aNNLO_PLUS_NNLL_NOERR\",1000023,axes=axs[1],yscale=1./frac,mask = rs_dl[\"aNNLO_PLUS_NNLL_COMBINED\"].notnull(),tight=False,yaxis=\"Ratio\",fmt=\" \",next_color=False,show=False,plot_data=False,logy=False,interpolate=True,fill=False,interpolator='cubic',pre=lambda a :np.log(a.clip(min=1e-22)),post=np.exp,init=False,label=\"\")\n",
    "                    hepi.mass_plot(rs_dl,\"aNNLO_PLUS_NNLL_COMBINED\",1000023,axes=axs[1],yscale=1./frac,mask = rs_dl[\"aNNLO_PLUS_NNLL_COMBINED\"].notnull(),tight=False,yaxis=\"Ratio\",fit_fmt=\" \",next_color=True,show=False,plot_data=False,logy=False,interpolate=True,fill=True,interpolator='cubic',pre=lambda a  :np.log(a.clip(min=1e-22)),post=np.exp,init=False,label=\"\",interpolate_lower_uncertainty=False)\n",
    "                    axs[0].set_ylim(5e-7,10)\n",
    "                    axs[1].set_ylim(0,2.5)\n",
    "                    axs[0].set_xlabel(None)\n",
    "                    axs[1].set_xlabel('$m_{\\\\tilde{\\\\chi}}$ [GeV]')\n",
    "                    if energy == 13600:\n",
    "                        plt.savefig(name + \".pdf\",bbox_inches ='tight',pad_inches=0)\n",
    "                        plt.show()\n",
    "                    hepi.write_latex_table_transposed_header(rs_dl,\"aNNLO_PLUS_NNLL\",param+str(energy)+\".tex\",\"mass_1000023\")\n",
    "                    hepi.write_latex_table_transposed(rs_dl,\"aNNLO_PLUS_NNLL\",param+str(energy)+\".tex\",yscale=1000.)\n",
    "            else:\n",
    "                rs_dl = rs.run(li, skip=True, run=True, parse=True)\n",
    "                hepi.mapplot(rs_dl,\"mass_1000022_1000023_1000024\",\"mass_1000001_1000002_1000003_1000004_2000001_2000002_2000003_2000004\",\"LO\",xaxis=\"$m_{\\\\tilde{\\\\chi}_1^0}$ [GeV]\",yaxis=\"$m_{\\\\tilde{q}}$ [GeV]\" , zaxis=\"$\\\\sigma_{\\\\mathrm{NLO+NLL}}$ [pb]\")\n",
    "                plt.show()\n",
    "                hepi.mass_plot(rs_dl,\"LO\",1000002,data_fmt=\".\",show=True,interpolate=False)\n",
    "                hepi.mass_plot(rs_dl[rs_dl[\"mass_1000022_1000023_1000024\"]==100],\"LO\",1000002,data_fmt=\".\",show=True,interpolate=False)\n",
    "                "
   ]
  },
  {
   "cell_type": "code",
   "execution_count": null,
   "id": "038801ce",
   "metadata": {},
   "outputs": [],
   "source": []
  },
  {
   "cell_type": "code",
   "execution_count": null,
   "id": "efc4f707",
   "metadata": {
    "scrolled": false
   },
   "outputs": [],
   "source": [
    "test_lo=True\n",
    "params = [\n",
    "    \"wino_ch.slha\",\n",
    "]\n",
    "pss = [\n",
    "    (+1000024, -1000024),  # C1pC1m\n",
    "]\n",
    "for pa, pb in pss:\n",
    "    for energy in [13600]:\n",
    "        name = str(energy) + \"_wino_\" + str(pa) + \"_\" + str(pb)\n",
    "        hepi.set_output_dir(\n",
    "               \"output_\" + name + \"/\"\n",
    "        )\n",
    "        rs.default_resummino_runner.set_output_dir(hepi.get_output_dir())\n",
    "        for param in params:\n",
    "            i = hepi.Input(\n",
    "                hepi.Order.LO if test_lo else hepi.Order.aNNLO_PLUS_NNLL,\n",
    "                    energy,\n",
    "                    pa,\n",
    "                    pb,\n",
    "                    param,\n",
    "                    \"PDF4LHC21_40\",\n",
    "                    \"PDF4LHC21_40\",\n",
    "                    1.0,\n",
    "                    1.0,\n",
    "                    id=\"0.0.0\",\n",
    "                    precision=0.001,\n",
    "                    max_iters=50,\n",
    "                )\n",
    "            li = [i]\n",
    "            li = hepi.masses_scan(\n",
    "                    li,\n",
    "                    [\n",
    "                        1000022,\n",
    "                        1000023,\n",
    "                        1000024,\n",
    "                    ],\n",
    "                    range(100,2010,100),\n",
    "                )\n",
    "            li = hepi.masses_scan(\n",
    "                    li,\n",
    "                    [\n",
    "                        1000006,\n",
    "                        2000006,\n",
    "                    ],\n",
    "                    range(0,4010,100),\n",
    "                )\n",
    "            if not test_lo:\n",
    "\n",
    "                li = hepi.seven_point_scan(li)\n",
    "                li = hepi.pdf_scan(li)\n",
    "                    # li = hepi.change_where(li, {\"precision\": 0.0001, \"max_iters\": 200}, pdfset_nlo=0)\n",
    "                if not analyse:\n",
    "                    rs_dl = rs.run(li, skip=False, run=False, parse=False)\n",
    "                else:\n",
    "                    rs_dl = rs.run(li, skip=True, run=True, parse=True,ignore_error=True)\n",
    "                    rs_dl = hepi.pdf_errors(li,rs_dl)\n",
    "                    rs_dl = hepi.scale_errors(li,rs_dl)\n",
    "                    rs_dl = hepi.combine_errors(rs_dl)\n",
    "                    if energy == 13000:\n",
    "                        fig, axs = plt.subplots(2, 1, figsize=(6,4), sharex=True, gridspec_kw={'height_ratios': [2, 1]})         # Remove horizontal space between axes         \n",
    "                        fig.subplots_adjust(hspace=0)\n",
    "                        hepi.title(li[0],axe=axs[0],cms_energy=False,pdf_info=False,scenario=\"\")\n",
    "                        frac = rs_dl[\"aNNLO_PLUS_NNLL_NOERR\"][rs_dl[\"aNNLO_PLUS_NNLL_COMBINED\"].notnull()]\n",
    "                    #hepi.mass_plot(rs_dl,\"LO_COMBINED\",1000022,mask = rs_dl[\"aNNLO_PLUS_NNLL_COMBINED\"].notnull(),show=True,logy=True,interpolate=True,fill=True,interpolator='cubic',pre=np.log,post=np.exp)\n",
    "                    #hepi.mass_plot(rs_dl,\"NLO_COMBINED\",1000022,mask = rs_dl[\"aNNLO_PLUS_NNLL_COMBINED\"].notnull(),show=True,logy=True,interpolate=True,fill=True,interpolator='cubic',pre=np.log,post=np.exp,init=False)\n",
    "                    hepi.mass_plot(rs_dl,\"aNNLO_PLUS_NNLL_NOERR\",1000022,axes=axs[0],mask = rs_dl[\"aNNLO_PLUS_NNLL_COMBINED\"].notnull(),tight=False,fmt=\" \",next_color=False,show=False,plot_data=False,logy=True,interpolate=True,fill=False,interpolator='cubic',pre=lambda a :np.log(a.clip(min=1e-22)),post=np.exp,init=False,interpolate_label=\"13.0 TeV\" if energy == 13000 else \"13.6 TeV\" )\n",
    "                    hepi.mass_plot(rs_dl,\"aNNLO_PLUS_NNLL_COMBINED\",1000022,axes=axs[0],mask = rs_dl[\"aNNLO_PLUS_NNLL_COMBINED\"].notnull(),tight=False,fit_fmt=\" \",next_color=True,show=False,plot_data=False,logy=True,interpolate=True,fill=True,interpolator='cubic',pre=lambda a  :np.log(a.clip(min=1e-22)),post=np.exp,init=False,label=\"\",interpolate_lower_uncertainty=False)\n",
    "                    hepi.mass_plot(rs_dl,\"aNNLO_PLUS_NNLL_NOERR\",1000022,axes=axs[1],yscale=1./frac,mask = rs_dl[\"aNNLO_PLUS_NNLL_COMBINED\"].notnull(),tight=False,yaxis=\"Ratio\",fmt=\" \",next_color=False,show=False,plot_data=False,logy=False,interpolate=True,fill=False,interpolator='cubic',pre=lambda a :np.log(a.clip(min=1e-22)),post=np.exp,init=False,label=\"\")\n",
    "                    hepi.mass_plot(rs_dl,\"aNNLO_PLUS_NNLL_COMBINED\",1000022,axes=axs[1],yscale=1./frac,mask = rs_dl[\"aNNLO_PLUS_NNLL_COMBINED\"].notnull(),tight=False,yaxis=\"Ratio\",fit_fmt=\" \",next_color=True,show=False,plot_data=False,logy=False,interpolate=True,fill=True,interpolator='cubic',pre=lambda a  :np.log(a.clip(min=1e-22)),post=np.exp,init=False,label=\"\",interpolate_lower_uncertainty=False)\n",
    "                    axs[0].set_ylim(5e-7,25)\n",
    "                    axs[1].set_ylim(-2.5,5.0)\n",
    "                    axs[0].set_xlabel(None)\n",
    "                    axs[1].set_xlabel('$m_{\\\\tilde{\\\\chi}}$ [GeV]')\n",
    "                    if energy == 13600:\n",
    "                        plt.savefig(name + \".pdf\",bbox_inches ='tight',pad_inches=0)\n",
    "                        plt.show()\n",
    "                    hepi.write_latex_table_transposed_header(rs_dl,\"aNNLO_PLUS_NNLL\",param+str(energy)+\".tex\",\"mass_1000022\")\n",
    "                    hepi.write_latex_table_transposed(rs_dl,\"aNNLO_PLUS_NNLL\",param+str(energy)+\".tex\",yscale=1000.)\n",
    "            else:\n",
    "                rs_dl = rs.run(li, skip=True, run=True, parse=True)\n",
    "                hepi.mapplot(rs_dl,\"mass_1000022_1000023_1000024\",\"mass_1000006_2000006\",\"LO\",xaxis=\"$m_{\\\\tilde{\\\\chi}_1^0}$ [GeV]\",yaxis=\"$m_{\\\\tilde{t}}$ [GeV]\" , zaxis=\"$\\\\sigma_{\\\\mathrm{NLO+NLL}}$ [pb]\")\n",
    "                plt.show()\n",
    "                hepi.mass_plot(rs_dl,\"LO\",1000006,data_fmt=\".\",show=True,interpolate=False)"
   ]
  },
  {
   "cell_type": "code",
   "execution_count": null,
   "id": "15e9ed6a",
   "metadata": {},
   "outputs": [],
   "source": [
    "hepi.mass_plot(rs_dl[rs_dl[\"mass_1000022_1000023_1000024\"]==100],\"LO\",1000006,data_fmt=\".\",show=True,interpolate=False)"
   ]
  }
 ],
 "metadata": {
  "kernelspec": {
   "display_name": "Python 3 (ipykernel)",
   "language": "python",
   "name": "python3"
  },
  "language_info": {
   "codemirror_mode": {
    "name": "ipython",
    "version": 3
   },
   "file_extension": ".py",
   "mimetype": "text/x-python",
   "name": "python",
   "nbconvert_exporter": "python",
   "pygments_lexer": "ipython3",
   "version": "3.9.13"
  }
 },
 "nbformat": 4,
 "nbformat_minor": 5
}
