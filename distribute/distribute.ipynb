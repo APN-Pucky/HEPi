{
 "cells": [
  {
   "cell_type": "markdown",
   "id": "92353069",
   "metadata": {},
   "source": [
    "# Scenarios\n",
    "\n",
    "The scenarios are taken from https://twiki.cern.ch/twiki/bin/view/LHCPhysics/SUSYCrossSections.\n",
    "\n",
    "Modifications:\n",
    "-   we set the STAUMIX values to maximally mixed for sleptons\n",
    "-   we manually set the massses of all particles tagged with an @a or {M...} "
   ]
  },
  {
   "cell_type": "code",
   "execution_count": 1,
   "id": "6c1a697f",
   "metadata": {},
   "outputs": [
    {
     "name": "stdout",
     "output_type": "stream",
     "text": [
      "0.1.11.2\n",
      "~/git/resummino/build\n"
     ]
    }
   ],
   "source": [
    "#%load_ext nb_black\n",
    "import hepi\n",
    "\n",
    "\n",
    "print(hepi.__version__)\n",
    "import smpl\n",
    "import numpy as np\n",
    "import hepi.resummino as rs\n",
    "import hepi.util as util\n",
    "import matplotlib.pyplot as plt\n",
    "\n",
    "rs.set_path(\"~/git/resummino/build\")\n",
    "print(rs.get_path())\n",
    "\n",
    "test_lo = False\n",
    "analyse  = True # else generation"
   ]
  },
  {
   "cell_type": "markdown",
   "id": "9c261ba6",
   "metadata": {},
   "source": [
    "# aNNLO+NNLL wino\n"
   ]
  },
  {
   "cell_type": "code",
   "execution_count": 2,
   "id": "e050dbc9",
   "metadata": {
    "scrolled": false
   },
   "outputs": [
    {
     "name": "stdout",
     "output_type": "stream",
     "text": [
      "skipskipskipskipskipskipskip"
     ]
    },
    {
     "name": "stderr",
     "output_type": "stream",
     "text": [
      "/home/apn/.local/lib/python3.8/site-packages/hepi/input.py:283: RuntimeWarning: Could not set new central scale to average of masses.\n",
      "  warnings.warn(\"Could not set new central scale to average of masses.\",\n"
     ]
    },
    {
     "name": "stdout",
     "output_type": "stream",
     "text": [
      "skipskipskipskipskipskipskipskipskipskipskipskipskipskipskipskipskipskipskipskipskipskipskipskipskipskipskipskipskipskipskipskipskipskipskipskipskipskipskipskipskipskipskipskipskipskipskipskipskipskipskipskipskipskipskipskipskipskipskipskipskipskipskipskipskipskipskipskipskipskipskipskipskipskipskipskipskipskipskipskipskipskipskipskipskipskipskipskipskipskipskipskipskipskipskipskipskipskipskipskipskipskipskipskipskipskipskipskipskipskipskipskipskipskipskipskipskipskipskipskipskipskipskipskipskipskipskipskipskipskipskipskipskipskipskipskipskipskipskipskipskipskipskipskipskipskipskipskipskipskipskipskipskipskipskipskipskipskipskipskipskipskipskipskipskipskipskipskipskipskipskipskipskipskipskipskipskipskipskipskipskipskipskipskipskipskipskipskipskipskipskipskipskipskipskipskipskipskipskipskipskipskipskipskipskipskipskipskipskipskipskipskipskipskipskipskipskipskipskipskipskipskipskipskipskipskipskipskipskipskipskipskipskipskipskipskipskipskipskipskipskipskipskipskipskipskipskipskipskipskipskipskipskipskipskipskipskipskipskipskipskipskipskipskipskipskipskipskipskipskipskipskipskipskipskipskipskipskipskipskipskipskipskipskipskipskipskipskipskipskipskipskipskipskipskipskipskipskipskipskipskipskipskipskipskipskipskipskipskipskipskipskipskipskipskipskipskipskipskipskipskipskipskipskipskipskipskipskipskipskipskipskipskipskipskipskipskipskipskipskipskipskipskipskipskipskipskipskipskipskipskipskipskipskipskipskipskipskipskipskipskipskipskipskipskipskipskipskipskipskipskipskipskipskipskipskipskipskipskipskipskipskipskipskipskipskipskipskipskipskipskipskipskipskipskipskipskipskipskipskipskipskipskipskipskipskipskipskipskipskipskipskipskipskipskipskipskipskipskipskipskipskipskipskipskipskipskipskipskipskipskipskipskipskipskipskipskipskipskipskipskipskipskipskipskipskipskipskipskipskipskipskipskipskipskipskipskipskipskipskipskipskipskipskipskipskipskipskipskipskipskipskipskipskipskipskipskipskipskipskipskipskipskipskipskipskipskipskipskipskipskipskipskipskipskipskipskipskipskipskipskipskipskipskipskipskipskipskipskipskipskipskipskipskipskipskipskipskipskipskipskipskipskipskipskipskipskipskipskipskipskipskipskipskipskipskipskipskipskipskipskipskipskipskipskipskipskipskipskipskipskipskipskipskipskipskipskipskipskipskipskipskipskipskipskipskipskipskipskipskipskipskipskipskipskipskipskipskipskipskipskipskipskipskipskipskipskipskipskipskipskipskipskipskipskipskipskipskipskipskipskipskipskipskipskipskipskipskipskipskipskipskipskipskipskipskipskipskipskipskipskipskipskipskipskipskipskipskipskipskipskipskipskipskipskipskipskipskipskipskipskipskipskipskipskipskipskipskipskipskipskipskipskipskipskipskipskipskipskipskipskipskipskipskipskipskipskipskipskipskipskipskipskipskipskipskipskipskipskipskipskipskipskipskipskipskipskipskipskipskipskipskipskipskipskipskipskipskipskipskipskipskipskipskipskipskipskipskipskipskipskipskipskipskipskipskipskipskipskipskipskipskipskipskipskipskipskipskipskipskipskipskipskipskipskipskipskipskipskipskipskipskipskipskipskipskipskipskipskipskipskipskipskipskipskipskipskipskipskipskipskipskipskipskipskipskipskipskipskipskipskipskipskipskipskipskipskipskipskipskipskipskipskipskipskipskipskipskipskipskipskipskipskipskipskipskipskipskipskipskipskipskipskipskipskipskipskipskipskipskipskipskipskipskipskipskipskipskipskipskipskipskipskipskipskipskipskipskipskipskipskipskipskipskipskipskipskipskipskipskipskipskipskipskipskipskipskipskipskipskipskipskipskipskipskipskipskipskipskipskipskipskipskipskipskipskipskipskipskipskipskipskipskipskipskipskipskipskipskipskipskipskipskipskipskipskipskipskipskipskipskipskipskipskipskipskipskipskipskipskipskipskipskipskipskipskipskipskipskipskipskipskipskipskipskipskipskipskipskipskipskipskipskipskipskipskipskipskipskipskipskipskipskipRunning: 940 jobs\n"
     ]
    },
    {
     "name": "stderr",
     "output_type": "stream",
     "text": [
      "/usr/lib/python3.8/site-packages/numpy/lib/function_base.py:2387: RuntimeWarning: invalid value encountered in <lambda> (vectorized)\n",
      "  outputs = ufunc(*inputs)\n",
      "/usr/lib/python3.8/site-packages/numpy/lib/function_base.py:2387: RuntimeWarning: invalid value encountered in <lambda> (vectorized)\n",
      "  outputs = ufunc(*inputs)\n",
      "/usr/lib/python3.8/site-packages/numpy/lib/function_base.py:2387: RuntimeWarning: invalid value encountered in <lambda> (vectorized)\n",
      "  outputs = ufunc(*inputs)\n",
      "/usr/lib/python3.8/site-packages/numpy/lib/function_base.py:2387: RuntimeWarning: invalid value encountered in <lambda> (vectorized)\n",
      "  outputs = ufunc(*inputs)\n",
      "/usr/lib/python3.8/site-packages/numpy/lib/function_base.py:2387: RuntimeWarning: invalid value encountered in <lambda> (vectorized)\n",
      "  outputs = ufunc(*inputs)\n",
      "/home/apn/.local/lib/python3.8/site-packages/hepi/results.py:327: RuntimeWarning: too bad numerical precision vs scale @ aNNLO_PLUS_NNLL 0.0033238943107701435 vs 0.06142548895103066 and 0.030586714776946775\n",
      "  warnings.warn(\"too bad numerical precision vs scale @ \"+ordername + \" \" + str(plot.usd(dl[ordername][i])/rel) + \" vs \" +str(dl[ordername+\"_SCALE_ERRPLUS\"][i]/rel) + \" and \" + str(-dl[ordername+\"_SCALE_ERRMINUS\"][i]/rel)  ,  # TODO print values?\n",
      "/home/apn/.local/lib/python3.8/site-packages/hepi/results.py:327: RuntimeWarning: too bad numerical precision vs scale @ aNNLO_PLUS_NNLL 0.0018227790534878128 vs 0.03181672346420261 and 0.01769077016960849\n",
      "  warnings.warn(\"too bad numerical precision vs scale @ \"+ordername + \" \" + str(plot.usd(dl[ordername][i])/rel) + \" vs \" +str(dl[ordername+\"_SCALE_ERRPLUS\"][i]/rel) + \" and \" + str(-dl[ordername+\"_SCALE_ERRMINUS\"][i]/rel)  ,  # TODO print values?\n",
      "/home/apn/.local/lib/python3.8/site-packages/hepi/results.py:327: RuntimeWarning: too bad numerical precision vs scale @ aNNLO_PLUS_NNLL 0.0015590955635503643 vs 0.03987764306712545 and 0.011814605451018409\n",
      "  warnings.warn(\"too bad numerical precision vs scale @ \"+ordername + \" \" + str(plot.usd(dl[ordername][i])/rel) + \" vs \" +str(dl[ordername+\"_SCALE_ERRPLUS\"][i]/rel) + \" and \" + str(-dl[ordername+\"_SCALE_ERRMINUS\"][i]/rel)  ,  # TODO print values?\n",
      "/home/apn/.local/lib/python3.8/site-packages/hepi/results.py:327: RuntimeWarning: too bad numerical precision vs scale @ aNNLO_PLUS_NNLL 0.0022318767222351274 vs 0.02708466275999225 and 0.01450636442064366\n",
      "  warnings.warn(\"too bad numerical precision vs scale @ \"+ordername + \" \" + str(plot.usd(dl[ordername][i])/rel) + \" vs \" +str(dl[ordername+\"_SCALE_ERRPLUS\"][i]/rel) + \" and \" + str(-dl[ordername+\"_SCALE_ERRMINUS\"][i]/rel)  ,  # TODO print values?\n",
      "/home/apn/.local/lib/python3.8/site-packages/hepi/results.py:327: RuntimeWarning: too bad numerical precision vs scale @ aNNLO_PLUS_NNLL 0.0031617003130294434 vs 0.03837723032105202 and 0.013546194453201788\n",
      "  warnings.warn(\"too bad numerical precision vs scale @ \"+ordername + \" \" + str(plot.usd(dl[ordername][i])/rel) + \" vs \" +str(dl[ordername+\"_SCALE_ERRPLUS\"][i]/rel) + \" and \" + str(-dl[ordername+\"_SCALE_ERRMINUS\"][i]/rel)  ,  # TODO print values?\n",
      "/home/apn/.local/lib/python3.8/site-packages/hepi/results.py:327: RuntimeWarning: too bad numerical precision vs scale @ aNNLO_PLUS_NNLL 0.005837841670043342 vs 0.033805135690606586 and 0.009332900829573427\n",
      "  warnings.warn(\"too bad numerical precision vs scale @ \"+ordername + \" \" + str(plot.usd(dl[ordername][i])/rel) + \" vs \" +str(dl[ordername+\"_SCALE_ERRPLUS\"][i]/rel) + \" and \" + str(-dl[ordername+\"_SCALE_ERRMINUS\"][i]/rel)  ,  # TODO print values?\n",
      "/home/apn/.local/lib/python3.8/site-packages/hepi/results.py:327: RuntimeWarning: too bad numerical precision vs scale @ aNNLO_PLUS_NNLL 0.003308358706558176 vs 0.041561239882212296 and 0.007037446578642111\n",
      "  warnings.warn(\"too bad numerical precision vs scale @ \"+ordername + \" \" + str(plot.usd(dl[ordername][i])/rel) + \" vs \" +str(dl[ordername+\"_SCALE_ERRPLUS\"][i]/rel) + \" and \" + str(-dl[ordername+\"_SCALE_ERRMINUS\"][i]/rel)  ,  # TODO print values?\n",
      "/home/apn/.local/lib/python3.8/site-packages/hepi/results.py:327: RuntimeWarning: too bad numerical precision vs scale @ aNNLO_PLUS_NNLL 0.005938419528335779 vs 0.039987604289934114 and 0.0067312804439354\n",
      "  warnings.warn(\"too bad numerical precision vs scale @ \"+ordername + \" \" + str(plot.usd(dl[ordername][i])/rel) + \" vs \" +str(dl[ordername+\"_SCALE_ERRPLUS\"][i]/rel) + \" and \" + str(-dl[ordername+\"_SCALE_ERRMINUS\"][i]/rel)  ,  # TODO print values?\n",
      "/usr/lib/python3.8/site-packages/numpy/lib/function_base.py:2387: RuntimeWarning: invalid value encountered in <lambda> (vectorized)\n",
      "  outputs = ufunc(*inputs)\n",
      "/usr/lib/python3.8/site-packages/numpy/lib/function_base.py:2387: RuntimeWarning: invalid value encountered in <lambda> (vectorized)\n",
      "  outputs = ufunc(*inputs)\n",
      "/usr/lib/python3.8/site-packages/numpy/lib/function_base.py:2387: RuntimeWarning: invalid value encountered in <lambda> (vectorized)\n",
      "  outputs = ufunc(*inputs)\n",
      "/usr/lib/python3.8/site-packages/numpy/lib/function_base.py:2387: RuntimeWarning: invalid value encountered in <lambda> (vectorized)\n",
      "  outputs = ufunc(*inputs)\n"
     ]
    },
    {
     "data": {
      "image/png": "[encoded data removed]",
      "text/plain": [
       "<Figure size 432x288 with 1 Axes>"
      ]
     },
     "metadata": {
      "needs_background": "light"
     },
     "output_type": "display_data"
    },
    {
     "name": "stderr",
     "output_type": "stream",
     "text": [
      "/home/apn/.local/lib/python3.8/site-packages/hepi/input.py:283: RuntimeWarning: Could not set new central scale to average of masses.\n",
      "  warnings.warn(\"Could not set new central scale to average of masses.\",\n"
     ]
    },
    {
     "name": "stdout",
     "output_type": "stream",
     "text": [
      "skipskipskipskipskipskipskipskipskipskipskipskipskipskipskipskipskipskipskipskipskipskipskipskipskipskipskipskipskipskipskipskipskipskipskipskipskipskipskipskipskipskipskipskipskipskipskipskipskipskipskipskipskipskipskipskipskipskipskipskipskipskipskipskipskipskipskipskipskipskipskipskipskipskipskipskipskipskipskipskipskipskipskipskipskipskipskipskipskipskipskipskipskipskipskipskipskipskipskipskipskipskipskipskipskipskipskipskipskipskipskipskipskipskipskipskipskipskipskipskipskipskipskipskipskipskipskipskipskipskipskipskipskipskipskipskipskipskipskipskipskipskipskipskipskipskipskipskipskipskipskipskipskipskipskipskipskipskipskipskipskipskipskipskipskipskipskipskipskipskipskipskipskipskipskipskipskipskipskipskipskipskipskipskipskipskipskipskipskipskipskipskipskipskipskipskipskipskipskipskipskipskipskipskipskipskipskipskipskipskipskipskipskipskipskipskipskipskipskipskipskipskipskipskipskipskipskipskipskipskipskipskipskipskipskipskipskipskipskipskipskipskipskipskipskipskipskipskipskipskipskipskipskipskipskipskipskipskipskipskipskipskipskipskipskipskipskipskipskipskipskipskipskipskipskipskipskipskipskipskipskipskipskipskipskipskipskipskipskipskipskipskipskipskipskipskipskipskipskipskipskipskipskipskipskipskipskipskipskipskipskipskipskipskipskipskipskipskipskipskipskipskipskipskipskipskipskipskipskipskipskipskipskipskipskipskipskipskipskipskipskipskipskipskipskipskipskipskipskipskipskipskipskipskipskipskipskipskipskipskipskipskipskipskipskipskipskipskipskipskipskipskipskipskipskipskipskipskipskipskipskipskipskipskipskipskipskipskipskipskipskipskipskipskipskipskipskipskipskipskipskipskipskipskipskipskipskipskipskipskipskipskipskipskipskipskipskipskipskipskipskipskipskipskipskipskipskipskipskipskipskipskipskipskipskipskipskipskipskipskipskipskipskipskipskipskipskipskipskipskipskipskipskipskipskipskipskipskipskipskipskipskipskipskipskipskipskipskipskipskipskipskipskipskipskipskipskipskipskipskipskipskipskipskipskipskipskipskipskipskipskipskipskipskipskipskipskipskipskipskipskipskipskipskipskipskipskipskipskipskipskipskipskipskipskipskipskipskipskipskipskipskipskipskipskipskipskipskipskipskipskipskipskipskipskipskipskipskipskipskipskipskipskipskipskipskipskipskipskipskipskipskipskipskipskipskipskipskipskipskipskipskipskipskipskipskipskipskipskipskipskipskipskipskipskipskipskipskipskipskipskipskipskipskipskipskipskipskipskipskipskipskipskipskipskipskipskipskipskipskipskipskipskipskipskipskipskipskipskipskipskipskipskipskipskipskipskipskipskipskipskipskipskipskipskipskipskipskipskipskipskipskipskipskipskipskipskipskipskipskipskipskipskipskipskipskipskipskipskipskipskipskipskipskipskipskipskipskipskipskipskipskipskipskipskipskipskipskipskipskipskipskipskipskipskipskipskipskipskipskipskipskipskipskipskipskipskipskipskipskipskipskipskipskipskipskipskipskipskipskipskipskipskipskipskipskipskipskipskipskipskipskipskipskipskipskipskipskipskipskipskipskipskipskipskipskipskipskipskipskipskipskipskipskipskipskipskipskipskipskipskipskipskipskipskipskipskipskipskipskipskipskipskipskipskipskipskipskipskipskipskipskipskipskipskipskipskipskipskipskipskipskipskipskipskipskipskipskipskipskipskipskipskipskipskipskipskipskipskipskipskipskipskipskipskipskipskipskipskipskipskipskipskipskipskipskipskipskipskipskipskipskipskipskipskipskipskipskipskipskipskipskipskipskipskipskipskipskipskipskipskipskipskipskipskipskipskipskipskipskipskipskipskipskipskipskipskipskipskipskipskipskipskipskipskipskipskipskipskipskipskipskipskipskipskipskipskipskipskipskipskipskipskipskipskipskipskipskipskipskipskipskipskipskipskipskipskipskipskipskipskipskipskipskipskipskipskipskipskipskipskipskipskipskipskipskipskipskipskipskipskipskipskipskipskipskipskipskipskipskipskipskipskipskipskipskipskipskipskipskipskipskipskipskipskipskipskipskipskipskipRunning: 940 jobs\n"
     ]
    },
    {
     "name": "stderr",
     "output_type": "stream",
     "text": [
      "/usr/lib/python3.8/site-packages/numpy/lib/function_base.py:2387: RuntimeWarning: invalid value encountered in <lambda> (vectorized)\n",
      "  outputs = ufunc(*inputs)\n",
      "/usr/lib/python3.8/site-packages/numpy/lib/function_base.py:2387: RuntimeWarning: invalid value encountered in <lambda> (vectorized)\n",
      "  outputs = ufunc(*inputs)\n",
      "/usr/lib/python3.8/site-packages/numpy/lib/function_base.py:2387: RuntimeWarning: invalid value encountered in <lambda> (vectorized)\n",
      "  outputs = ufunc(*inputs)\n",
      "/usr/lib/python3.8/site-packages/numpy/lib/function_base.py:2387: RuntimeWarning: invalid value encountered in <lambda> (vectorized)\n",
      "  outputs = ufunc(*inputs)\n",
      "/usr/lib/python3.8/site-packages/numpy/lib/function_base.py:2387: RuntimeWarning: invalid value encountered in <lambda> (vectorized)\n",
      "  outputs = ufunc(*inputs)\n",
      "/home/apn/.local/lib/python3.8/site-packages/hepi/results.py:327: RuntimeWarning: too bad numerical precision vs scale @ aNNLO_PLUS_NNLL 0.003449658219958824 vs 0.07905328795325842 and 0.02676825722282143\n",
      "  warnings.warn(\"too bad numerical precision vs scale @ \"+ordername + \" \" + str(plot.usd(dl[ordername][i])/rel) + \" vs \" +str(dl[ordername+\"_SCALE_ERRPLUS\"][i]/rel) + \" and \" + str(-dl[ordername+\"_SCALE_ERRMINUS\"][i]/rel)  ,  # TODO print values?\n",
      "/home/apn/.local/lib/python3.8/site-packages/hepi/results.py:327: RuntimeWarning: too bad numerical precision vs scale @ aNNLO_PLUS_NNLL 0.002197002793849959 vs 0.0399933235789974 and 0.016811249079552504\n",
      "  warnings.warn(\"too bad numerical precision vs scale @ \"+ordername + \" \" + str(plot.usd(dl[ordername][i])/rel) + \" vs \" +str(dl[ordername+\"_SCALE_ERRPLUS\"][i]/rel) + \" and \" + str(-dl[ordername+\"_SCALE_ERRMINUS\"][i]/rel)  ,  # TODO print values?\n",
      "/home/apn/.local/lib/python3.8/site-packages/hepi/results.py:327: RuntimeWarning: too bad numerical precision vs scale @ aNNLO_PLUS_NNLL 0.0020838664624407066 vs 0.026402150252876355 and 0.01456009927892765\n",
      "  warnings.warn(\"too bad numerical precision vs scale @ \"+ordername + \" \" + str(plot.usd(dl[ordername][i])/rel) + \" vs \" +str(dl[ordername+\"_SCALE_ERRPLUS\"][i]/rel) + \" and \" + str(-dl[ordername+\"_SCALE_ERRMINUS\"][i]/rel)  ,  # TODO print values?\n",
      "/home/apn/.local/lib/python3.8/site-packages/hepi/results.py:327: RuntimeWarning: too bad numerical precision vs scale @ aNNLO_PLUS_NNLL 0.0013420320441725512 vs 0.030749649350954592 and 0.010728790004374605\n",
      "  warnings.warn(\"too bad numerical precision vs scale @ \"+ordername + \" \" + str(plot.usd(dl[ordername][i])/rel) + \" vs \" +str(dl[ordername+\"_SCALE_ERRPLUS\"][i]/rel) + \" and \" + str(-dl[ordername+\"_SCALE_ERRMINUS\"][i]/rel)  ,  # TODO print values?\n",
      "/home/apn/.local/lib/python3.8/site-packages/hepi/results.py:327: RuntimeWarning: too bad numerical precision vs scale @ aNNLO_PLUS_NNLL 0.0013715337002516332 vs 0.027572604498489573 and 0.010103780763173266\n",
      "  warnings.warn(\"too bad numerical precision vs scale @ \"+ordername + \" \" + str(plot.usd(dl[ordername][i])/rel) + \" vs \" +str(dl[ordername+\"_SCALE_ERRPLUS\"][i]/rel) + \" and \" + str(-dl[ordername+\"_SCALE_ERRMINUS\"][i]/rel)  ,  # TODO print values?\n",
      "/home/apn/.local/lib/python3.8/site-packages/hepi/results.py:327: RuntimeWarning: too bad numerical precision vs scale @ aNNLO_PLUS_NNLL 0.0011775400332275775 vs 0.023199627847857927 and 0.011415389566986612\n",
      "  warnings.warn(\"too bad numerical precision vs scale @ \"+ordername + \" \" + str(plot.usd(dl[ordername][i])/rel) + \" vs \" +str(dl[ordername+\"_SCALE_ERRPLUS\"][i]/rel) + \" and \" + str(-dl[ordername+\"_SCALE_ERRMINUS\"][i]/rel)  ,  # TODO print values?\n",
      "/home/apn/.local/lib/python3.8/site-packages/hepi/results.py:327: RuntimeWarning: too bad numerical precision vs scale @ aNNLO_PLUS_NNLL 0.0037599088503187886 vs 0.01590103966142901 and 0.013586838510096946\n",
      "  warnings.warn(\"too bad numerical precision vs scale @ \"+ordername + \" \" + str(plot.usd(dl[ordername][i])/rel) + \" vs \" +str(dl[ordername+\"_SCALE_ERRPLUS\"][i]/rel) + \" and \" + str(-dl[ordername+\"_SCALE_ERRMINUS\"][i]/rel)  ,  # TODO print values?\n",
      "/home/apn/.local/lib/python3.8/site-packages/hepi/results.py:327: RuntimeWarning: too bad numerical precision vs scale @ aNNLO_PLUS_NNLL 0.0015323291505359715 vs 0.01874571761263878 and 0.013103033914057488\n",
      "  warnings.warn(\"too bad numerical precision vs scale @ \"+ordername + \" \" + str(plot.usd(dl[ordername][i])/rel) + \" vs \" +str(dl[ordername+\"_SCALE_ERRPLUS\"][i]/rel) + \" and \" + str(-dl[ordername+\"_SCALE_ERRMINUS\"][i]/rel)  ,  # TODO print values?\n",
      "/home/apn/.local/lib/python3.8/site-packages/hepi/results.py:327: RuntimeWarning: too bad numerical precision vs scale @ aNNLO_PLUS_NNLL 0.002111416368640602 vs 0.023846892201379123 and 0.014888098576383306\n",
      "  warnings.warn(\"too bad numerical precision vs scale @ \"+ordername + \" \" + str(plot.usd(dl[ordername][i])/rel) + \" vs \" +str(dl[ordername+\"_SCALE_ERRPLUS\"][i]/rel) + \" and \" + str(-dl[ordername+\"_SCALE_ERRMINUS\"][i]/rel)  ,  # TODO print values?\n",
      "/home/apn/.local/lib/python3.8/site-packages/hepi/results.py:327: RuntimeWarning: too bad numerical precision vs scale @ aNNLO_PLUS_NNLL 0.0021986436448502033 vs 0.02186302809011977 and 0.017373299662980336\n",
      "  warnings.warn(\"too bad numerical precision vs scale @ \"+ordername + \" \" + str(plot.usd(dl[ordername][i])/rel) + \" vs \" +str(dl[ordername+\"_SCALE_ERRPLUS\"][i]/rel) + \" and \" + str(-dl[ordername+\"_SCALE_ERRMINUS\"][i]/rel)  ,  # TODO print values?\n",
      "/home/apn/.local/lib/python3.8/site-packages/hepi/results.py:327: RuntimeWarning: too bad numerical precision vs scale @ aNNLO_PLUS_NNLL 0.0021501846965083656 vs 0.018971701059653862 and 0.016635779418682033\n",
      "  warnings.warn(\"too bad numerical precision vs scale @ \"+ordername + \" \" + str(plot.usd(dl[ordername][i])/rel) + \" vs \" +str(dl[ordername+\"_SCALE_ERRPLUS\"][i]/rel) + \" and \" + str(-dl[ordername+\"_SCALE_ERRMINUS\"][i]/rel)  ,  # TODO print values?\n",
      "/home/apn/.local/lib/python3.8/site-packages/hepi/results.py:327: RuntimeWarning: too bad numerical precision vs scale @ aNNLO_PLUS_NNLL 0.00234427736224661 vs 0.02176866381729861 and 0.016887351629770946\n",
      "  warnings.warn(\"too bad numerical precision vs scale @ \"+ordername + \" \" + str(plot.usd(dl[ordername][i])/rel) + \" vs \" +str(dl[ordername+\"_SCALE_ERRPLUS\"][i]/rel) + \" and \" + str(-dl[ordername+\"_SCALE_ERRMINUS\"][i]/rel)  ,  # TODO print values?\n",
      "/home/apn/.local/lib/python3.8/site-packages/hepi/results.py:327: RuntimeWarning: too bad numerical precision vs scale @ aNNLO_PLUS_NNLL 0.002556351169993123 vs 0.028531630110092465 and 0.013701311899005216\n",
      "  warnings.warn(\"too bad numerical precision vs scale @ \"+ordername + \" \" + str(plot.usd(dl[ordername][i])/rel) + \" vs \" +str(dl[ordername+\"_SCALE_ERRPLUS\"][i]/rel) + \" and \" + str(-dl[ordername+\"_SCALE_ERRMINUS\"][i]/rel)  ,  # TODO print values?\n",
      "/usr/lib/python3.8/site-packages/numpy/lib/function_base.py:2387: RuntimeWarning: invalid value encountered in <lambda> (vectorized)\n",
      "  outputs = ufunc(*inputs)\n",
      "/usr/lib/python3.8/site-packages/numpy/lib/function_base.py:2387: RuntimeWarning: invalid value encountered in <lambda> (vectorized)\n",
      "  outputs = ufunc(*inputs)\n",
      "/usr/lib/python3.8/site-packages/numpy/lib/function_base.py:2387: RuntimeWarning: invalid value encountered in <lambda> (vectorized)\n",
      "  outputs = ufunc(*inputs)\n",
      "/usr/lib/python3.8/site-packages/numpy/lib/function_base.py:2387: RuntimeWarning: invalid value encountered in <lambda> (vectorized)\n",
      "  outputs = ufunc(*inputs)\n"
     ]
    },
    {
     "data": {
      "image/png": "[encoded data removed]",
      "text/plain": [
       "<Figure size 432x288 with 1 Axes>"
      ]
     },
     "metadata": {
      "needs_background": "light"
     },
     "output_type": "display_data"
    },
    {
     "name": "stderr",
     "output_type": "stream",
     "text": [
      "/home/apn/.local/lib/python3.8/site-packages/hepi/input.py:283: RuntimeWarning: Could not set new central scale to average of masses.\n",
      "  warnings.warn(\"Could not set new central scale to average of masses.\",\n"
     ]
    },
    {
     "name": "stdout",
     "output_type": "stream",
     "text": [
      "skipskipskipskipskipskipskipskipskipskipskipskipskipskipskipskipskipskipskipskipskipskipskipskipskipskipskipskipskipskipskipskipskipskipskipskipskipskipskipskipskipskipskipskipskipskipskipskipskipskipskipskipskipskipskipskipskipskipskipskipskipskipskipskipskipskipskipskipskipskipskipskipskipskipskipskipskipskipskipskipskipskipskipskipskipskipskipskipskipskipskipskipskipskipskipskipskipskipskipskipskipskipskipskipskipskipskipskipskipskipskipskipskipskipskipskipskipskipskipskipskipskipskipskipskipskipskipskipskipskipskipskipskipskipskipskipskipskipskipskipskipskipskipskipskipskipskipskipskipskipskipskipskipskipskipskipskipskipskipskipskipskipskipskipskipskipskipskipskipskipskipskipskipskipskipskipskipskipskipskipskipskipskipskipskipskipskipskipskipskipskipskipskipskipskipskipskipskipskipskipskipskipskipskipskipskipskipskipskipskipskipskipskipskipskipskipskipskipskipskipskipskipskipskipskipskipskipskipskipskipskipskipskipskipskipskipskipskipskipskipskipskipskipskipskipskipskipskipskipskipskipskipskipskipskipskipskipskipskipskipskipskipskipskipskipskipskipskipskipskipskipskipskipskipskipskipskipskipskipskipskipskipskipskipskipskipskipskipskipskipskipskipskipskipskipskipskipskipskipskipskipskipskipskipskipskipskipskipskipskipskipskipskipskipskipskipskipskipskipskipskipskipskipskipskipskipskipskipskipskipskipskipskipskipskipskipskipskipskipskipskipskipskipskipskipskipskipskipskipskipskipskipskipskipskipskipskipskipskipskipskipskipskipskipskipskipskipskipskipskipskipskipskipskipskipskipskipskipskipskipskipskipskipskipskipskipskipskipskipskipskipskipskipskipskipskipskipskipskipskipskipskipskipskipskipskipskipskipskipskipskipskipskipskipskipskipskipskipskipskipskipskipskipskipskipskipskipskipskipskipskipskipskipskipskipskipskipskipskipskipskipskipskipskipskipskipskipskipskipskipskipskipskipskipskipskipskipskipskipskipskipskipskipskipskipskipskipskipskipskipskipskipskipskipskipskipskipskipskipskipskipskipskipskipskipskipskipskipskipskipskipskipskipskipskipskipskipskipskipskipskipskipskipskipskipskipskipskipskipskipskipskipskipskipskipskipskipskipskipskipskipskipskipskipskipskipskipskipskipskipskipskipskipskipskipskipskipskipskipskipskipskipskipskipskipskipskipskipskipskipskipskipskipskipskipskipskipskipskipskipskipskipskipskipskipskipskipskipskipskipskipskipskipskipskipskipskipskipskipskipskipskipskipskipskipskipskipskipskipskipskipskipskipskipskipskipskipskipskipskipskipskipskipskipskipskipskipskipskipskipskipskipskipskipskipskipskipskipskipskipskipskipskipskipskipskipskipskipskipskipskipskipskipskipskipskipskipskipskipskipskipskipskipskipskipskipskipskipskipskipskipskipskipskipskipskipskipskipskipskipskipskipskipskipskipskipskipskipskipskipskipskipskipskipskipskipskipskipskipskipskipskipskipskipskipskipskipskipskipskipskipskipskipskipskipskipskipskipskipskipskipskipskipskipskipskipskipskipskipskipskipskipskipskipskipskipskipskipskipskipskipskipskipskipskipskipskipskipskipskipskipskipskipskipskipskipskipskipskipskipskipskipskipskipskipskipskipskipskipskipskipskipskipskipskipskipskipskipskipskipskipskipskipskipskipskipskipskipskipskipskipskipskipskipskipskipskipskipskipskipskipskipskipskipskipskipskipskipskipskipskipskipskipskipskipskipskipskipskipskipskipskipskipskipskipskipskipskipskipskipskipskipskipskipskipskipskipskipskipskipskipskipskipskipskipskipskipskipskipskipskipskipskipskipskipskipskipskipskipskipskipskipskipskipskipskipskipskipskipskipskipskipskipskipskipskipskipskipskipskipskipskipskipskipskipskipskipskipskipskipskipskipskipskipskipskipskipskipskipskipskipskipskipskipskipskipskipskipskipskipskipskipskipskipskipskipskipskipskipskipskipskipskipskipskipskipskipskipskipskipskipskipskipskipskipskipskipskipskipskipskipskipskipskipskipskipskipskipskipskipskipskipskipskipskipskipskipskipskipskipRunning: 940 jobs\n"
     ]
    },
    {
     "name": "stderr",
     "output_type": "stream",
     "text": [
      "/usr/lib/python3.8/site-packages/numpy/lib/function_base.py:2387: RuntimeWarning: invalid value encountered in <lambda> (vectorized)\n",
      "  outputs = ufunc(*inputs)\n",
      "/usr/lib/python3.8/site-packages/numpy/lib/function_base.py:2387: RuntimeWarning: invalid value encountered in <lambda> (vectorized)\n",
      "  outputs = ufunc(*inputs)\n",
      "/usr/lib/python3.8/site-packages/numpy/lib/function_base.py:2387: RuntimeWarning: invalid value encountered in <lambda> (vectorized)\n",
      "  outputs = ufunc(*inputs)\n",
      "/home/apn/.local/lib/python3.8/site-packages/hepi/results.py:327: RuntimeWarning: too bad numerical precision vs scale @ LO 0.00041849972816351914 vs 0.0038331831995904913 and 0.008041366211983288\n",
      "  warnings.warn(\"too bad numerical precision vs scale @ \"+ordername + \" \" + str(plot.usd(dl[ordername][i])/rel) + \" vs \" +str(dl[ordername+\"_SCALE_ERRPLUS\"][i]/rel) + \" and \" + str(-dl[ordername+\"_SCALE_ERRMINUS\"][i]/rel)  ,  # TODO print values?\n",
      "/usr/lib/python3.8/site-packages/numpy/lib/function_base.py:2387: RuntimeWarning: invalid value encountered in <lambda> (vectorized)\n",
      "  outputs = ufunc(*inputs)\n",
      "/usr/lib/python3.8/site-packages/numpy/lib/function_base.py:2387: RuntimeWarning: invalid value encountered in <lambda> (vectorized)\n",
      "  outputs = ufunc(*inputs)\n",
      "/home/apn/.local/lib/python3.8/site-packages/hepi/results.py:327: RuntimeWarning: too bad numerical precision vs scale @ aNNLO_PLUS_NNLL 0.0004688319301375356 vs 0.004195609309054579 and 0.003977725922968499\n",
      "  warnings.warn(\"too bad numerical precision vs scale @ \"+ordername + \" \" + str(plot.usd(dl[ordername][i])/rel) + \" vs \" +str(dl[ordername+\"_SCALE_ERRPLUS\"][i]/rel) + \" and \" + str(-dl[ordername+\"_SCALE_ERRMINUS\"][i]/rel)  ,  # TODO print values?\n",
      "/home/apn/.local/lib/python3.8/site-packages/hepi/results.py:327: RuntimeWarning: too bad numerical precision vs scale @ aNNLO_PLUS_NNLL 0.0004251279476106843 vs 0.0037916768589749683 and 0.0028842752363691993\n",
      "  warnings.warn(\"too bad numerical precision vs scale @ \"+ordername + \" \" + str(plot.usd(dl[ordername][i])/rel) + \" vs \" +str(dl[ordername+\"_SCALE_ERRPLUS\"][i]/rel) + \" and \" + str(-dl[ordername+\"_SCALE_ERRMINUS\"][i]/rel)  ,  # TODO print values?\n",
      "/home/apn/.local/lib/python3.8/site-packages/hepi/results.py:327: RuntimeWarning: too bad numerical precision vs scale @ aNNLO_PLUS_NNLL 0.0004158042003173269 vs 0.0034935582628844476 and 0.002034414658016533\n",
      "  warnings.warn(\"too bad numerical precision vs scale @ \"+ordername + \" \" + str(plot.usd(dl[ordername][i])/rel) + \" vs \" +str(dl[ordername+\"_SCALE_ERRPLUS\"][i]/rel) + \" and \" + str(-dl[ordername+\"_SCALE_ERRMINUS\"][i]/rel)  ,  # TODO print values?\n",
      "/home/apn/.local/lib/python3.8/site-packages/hepi/results.py:327: RuntimeWarning: too bad numerical precision vs scale @ aNNLO_PLUS_NNLL 0.00040357461591111076 vs 0.0035141254086713163 and 0.0016827730006482142\n",
      "  warnings.warn(\"too bad numerical precision vs scale @ \"+ordername + \" \" + str(plot.usd(dl[ordername][i])/rel) + \" vs \" +str(dl[ordername+\"_SCALE_ERRPLUS\"][i]/rel) + \" and \" + str(-dl[ordername+\"_SCALE_ERRMINUS\"][i]/rel)  ,  # TODO print values?\n",
      "/home/apn/.local/lib/python3.8/site-packages/hepi/results.py:327: RuntimeWarning: too bad numerical precision vs scale @ aNNLO_PLUS_NNLL 0.0003952253667702437 vs 0.0030887901101090236 and 0.0015600876866522862\n",
      "  warnings.warn(\"too bad numerical precision vs scale @ \"+ordername + \" \" + str(plot.usd(dl[ordername][i])/rel) + \" vs \" +str(dl[ordername+\"_SCALE_ERRPLUS\"][i]/rel) + \" and \" + str(-dl[ordername+\"_SCALE_ERRMINUS\"][i]/rel)  ,  # TODO print values?\n",
      "/home/apn/.local/lib/python3.8/site-packages/hepi/results.py:327: RuntimeWarning: too bad numerical precision vs scale @ aNNLO_PLUS_NNLL 0.00040030946304389344 vs 0.0031241442625492923 and 0.00142238771648373\n",
      "  warnings.warn(\"too bad numerical precision vs scale @ \"+ordername + \" \" + str(plot.usd(dl[ordername][i])/rel) + \" vs \" +str(dl[ordername+\"_SCALE_ERRPLUS\"][i]/rel) + \" and \" + str(-dl[ordername+\"_SCALE_ERRMINUS\"][i]/rel)  ,  # TODO print values?\n",
      "/home/apn/.local/lib/python3.8/site-packages/hepi/results.py:327: RuntimeWarning: too bad numerical precision vs scale @ aNNLO_PLUS_NNLL 0.000401015990951031 vs 0.003182201183987949 and 0.0012960205097066048\n",
      "  warnings.warn(\"too bad numerical precision vs scale @ \"+ordername + \" \" + str(plot.usd(dl[ordername][i])/rel) + \" vs \" +str(dl[ordername+\"_SCALE_ERRPLUS\"][i]/rel) + \" and \" + str(-dl[ordername+\"_SCALE_ERRMINUS\"][i]/rel)  ,  # TODO print values?\n",
      "/home/apn/.local/lib/python3.8/site-packages/hepi/results.py:327: RuntimeWarning: too bad numerical precision vs scale @ aNNLO_PLUS_NNLL 0.0004082640586424844 vs 0.002985915350010359 and 0.0009244970402189096\n",
      "  warnings.warn(\"too bad numerical precision vs scale @ \"+ordername + \" \" + str(plot.usd(dl[ordername][i])/rel) + \" vs \" +str(dl[ordername+\"_SCALE_ERRPLUS\"][i]/rel) + \" and \" + str(-dl[ordername+\"_SCALE_ERRMINUS\"][i]/rel)  ,  # TODO print values?\n",
      "/home/apn/.local/lib/python3.8/site-packages/hepi/results.py:327: RuntimeWarning: too bad numerical precision vs scale @ aNNLO_PLUS_NNLL 0.000371787436667103 vs 0.002517717612876669 and 0.0008164552225530483\n",
      "  warnings.warn(\"too bad numerical precision vs scale @ \"+ordername + \" \" + str(plot.usd(dl[ordername][i])/rel) + \" vs \" +str(dl[ordername+\"_SCALE_ERRPLUS\"][i]/rel) + \" and \" + str(-dl[ordername+\"_SCALE_ERRMINUS\"][i]/rel)  ,  # TODO print values?\n",
      "/home/apn/.local/lib/python3.8/site-packages/hepi/results.py:327: RuntimeWarning: too bad numerical precision vs scale @ aNNLO_PLUS_NNLL 0.00038976687242401155 vs 0.002632483239985533 and 0.0009698591153744741\n",
      "  warnings.warn(\"too bad numerical precision vs scale @ \"+ordername + \" \" + str(plot.usd(dl[ordername][i])/rel) + \" vs \" +str(dl[ordername+\"_SCALE_ERRPLUS\"][i]/rel) + \" and \" + str(-dl[ordername+\"_SCALE_ERRMINUS\"][i]/rel)  ,  # TODO print values?\n",
      "/home/apn/.local/lib/python3.8/site-packages/hepi/results.py:327: RuntimeWarning: too bad numerical precision vs scale @ aNNLO_PLUS_NNLL 0.00039820768324375674 vs 0.0022831759894863164 and 0.0008635270251234544\n",
      "  warnings.warn(\"too bad numerical precision vs scale @ \"+ordername + \" \" + str(plot.usd(dl[ordername][i])/rel) + \" vs \" +str(dl[ordername+\"_SCALE_ERRPLUS\"][i]/rel) + \" and \" + str(-dl[ordername+\"_SCALE_ERRMINUS\"][i]/rel)  ,  # TODO print values?\n",
      "/home/apn/.local/lib/python3.8/site-packages/hepi/results.py:327: RuntimeWarning: too bad numerical precision vs scale @ aNNLO_PLUS_NNLL 0.00039071166222662956 vs 0.0021081253599233955 and 0.0008240392129005238\n",
      "  warnings.warn(\"too bad numerical precision vs scale @ \"+ordername + \" \" + str(plot.usd(dl[ordername][i])/rel) + \" vs \" +str(dl[ordername+\"_SCALE_ERRPLUS\"][i]/rel) + \" and \" + str(-dl[ordername+\"_SCALE_ERRMINUS\"][i]/rel)  ,  # TODO print values?\n",
      "/home/apn/.local/lib/python3.8/site-packages/hepi/results.py:327: RuntimeWarning: too bad numerical precision vs scale @ aNNLO_PLUS_NNLL 0.0003657016878357088 vs 0.0021654192125938176 and 0.0005224829225304171\n",
      "  warnings.warn(\"too bad numerical precision vs scale @ \"+ordername + \" \" + str(plot.usd(dl[ordername][i])/rel) + \" vs \" +str(dl[ordername+\"_SCALE_ERRPLUS\"][i]/rel) + \" and \" + str(-dl[ordername+\"_SCALE_ERRMINUS\"][i]/rel)  ,  # TODO print values?\n",
      "/home/apn/.local/lib/python3.8/site-packages/hepi/results.py:327: RuntimeWarning: too bad numerical precision vs scale @ aNNLO_PLUS_NNLL 0.00036046840141330415 vs 0.0020140146499993995 and 0.00034677432963543456\n",
      "  warnings.warn(\"too bad numerical precision vs scale @ \"+ordername + \" \" + str(plot.usd(dl[ordername][i])/rel) + \" vs \" +str(dl[ordername+\"_SCALE_ERRPLUS\"][i]/rel) + \" and \" + str(-dl[ordername+\"_SCALE_ERRMINUS\"][i]/rel)  ,  # TODO print values?\n",
      "/home/apn/.local/lib/python3.8/site-packages/hepi/results.py:327: RuntimeWarning: too bad numerical precision vs scale @ aNNLO_PLUS_NNLL 0.00035311085154993946 vs 0.001871819639936246 and 0.0003314620249984222\n",
      "  warnings.warn(\"too bad numerical precision vs scale @ \"+ordername + \" \" + str(plot.usd(dl[ordername][i])/rel) + \" vs \" +str(dl[ordername+\"_SCALE_ERRPLUS\"][i]/rel) + \" and \" + str(-dl[ordername+\"_SCALE_ERRMINUS\"][i]/rel)  ,  # TODO print values?\n",
      "/home/apn/.local/lib/python3.8/site-packages/hepi/results.py:327: RuntimeWarning: too bad numerical precision vs scale @ aNNLO_PLUS_NNLL 0.00040602757073071984 vs 0.0019029092575119852 and 0.00043371250552302703\n",
      "  warnings.warn(\"too bad numerical precision vs scale @ \"+ordername + \" \" + str(plot.usd(dl[ordername][i])/rel) + \" vs \" +str(dl[ordername+\"_SCALE_ERRPLUS\"][i]/rel) + \" and \" + str(-dl[ordername+\"_SCALE_ERRMINUS\"][i]/rel)  ,  # TODO print values?\n",
      "/usr/lib/python3.8/site-packages/numpy/lib/function_base.py:2387: RuntimeWarning: invalid value encountered in <lambda> (vectorized)\n",
      "  outputs = ufunc(*inputs)\n",
      "/usr/lib/python3.8/site-packages/numpy/lib/function_base.py:2387: RuntimeWarning: invalid value encountered in <lambda> (vectorized)\n",
      "  outputs = ufunc(*inputs)\n",
      "/usr/lib/python3.8/site-packages/numpy/lib/function_base.py:2387: RuntimeWarning: invalid value encountered in <lambda> (vectorized)\n",
      "  outputs = ufunc(*inputs)\n",
      "/usr/lib/python3.8/site-packages/numpy/lib/function_base.py:2387: RuntimeWarning: invalid value encountered in <lambda> (vectorized)\n",
      "  outputs = ufunc(*inputs)\n"
     ]
    },
    {
     "data": {
      "image/png": "[encoded data removed]",
      "text/plain": [
       "<Figure size 432x288 with 1 Axes>"
      ]
     },
     "metadata": {
      "needs_background": "light"
     },
     "output_type": "display_data"
    },
    {
     "name": "stderr",
     "output_type": "stream",
     "text": [
      "/home/apn/.local/lib/python3.8/site-packages/hepi/input.py:283: RuntimeWarning: Could not set new central scale to average of masses.\n",
      "  warnings.warn(\"Could not set new central scale to average of masses.\",\n"
     ]
    },
    {
     "name": "stdout",
     "output_type": "stream",
     "text": [
      "skipskipskipskipskipskipskipskipskipskipskipskipskipskipskipskipskipskipskipskipskipskipskipskipskipskipskipskipskipskipskipskipskipskipskipskipskipskipskipskipskipskipskipskipskipskipskipskipskipskipskipskipskipskipskipskipskipskipskipskipskipskipskipskipskipskipskipskipskipskipskipskipskipskipskipskipskipskipskipskipskipskipskipskipskipskipskipskipskipskipskipskipskipskipskipskipskipskipskipskipskipskipskipskipskipskipskipskipskipskipskipskipskipskipskipskipskipskipskipskipskipskipskipskipskipskipskipskipskipskipskipskipskipskipskipskipskipskipskipskipskipskipskipskipskipskipskipskipskipskipskipskipskipskipskipskipskipskipskipskipskipskipskipskipskipskipskipskipskipskipskipskipskipskipskipskipskipskipskipskipskipskipskipskipskipskipskipskipskipskipskipskipskipskipskipskipskipskipskipskipskipskipskipskipskipskipskipskipskipskipskipskipskipskipskipskipskipskipskipskipskipskipskipskipskipskipskipskipskipskipskipskipskipskipskipskipskipskipskipskipskipskipskipskipskipskipskipskipskipskipskipskipskipskipskipskipskipskipskipskipskipskipskipskipskipskipskipskipskipskipskipskipskipskipskipskipskipskipskipskipskipskipskipskipskipskipskipskipskipskipskipskipskipskipskipskipskipskipskipskipskipskipskipskipskipskipskipskipskipskipskipskipskipskipskipskipskipskipskipskipskipskipskipskipskipskipskipskipskipskipskipskipskipskipskipskipskipskipskipskipskipskipskipskipskipskipskipskipskipskipskipskipskipskipskipskipskipskipskipskipskipskipskipskipskipskipskipskipskipskipskipskipskipskipskipskipskipskipskipskipskipskipskipskipskipskipskipskipskipskipskipskipskipskipskipskipskipskipskipskipskipskipskipskipskipskipskipskipskipskipskipskipskipskipskipskipskipskipskipskipskipskipskipskipskipskipskipskipskipskipskipskipskipskipskipskipskipskipskipskipskipskipskipskipskipskipskipskipskipskipskipskipskipskipskipskipskipskipskipskipskipskipskipskipskipskipskipskipskipskipskipskipskipskipskipskipskipskipskipskipskipskipskipskipskipskipskipskipskipskipskipskipskipskipskipskipskipskipskipskipskipskipskipskipskipskipskipskipskipskipskipskipskipskipskipskipskipskipskipskipskipskipskipskipskipskipskipskipskipskipskipskipskipskipskipskipskipskipskipskipskipskipskipskipskipskipskipskipskipskipskipskipskipskipskipskipskipskipskipskipskipskipskipskipskipskipskipskipskipskipskipskipskipskipskipskipskipskipskipskipskipskipskipskipskipskipskipskipskipskipskipskipskipskipskipskipskipskipskipskipskipskipskipskipskipskipskipskipskipskipskipskipskipskipskipskipskipskipskipskipskipskipskipskipskipskipskipskipskipskipskipskipskipskipskipskipskipskipskipskipskipskipskipskipskipskipskipskipskipskipskipskipskipskipskipskipskipskipskipskipskipskipskipskipskipskipskipskipskipskipskipskipskipskipskipskipskipskipskipskipskipskipskipskipskipskipskipskipskipskipskipskipskipskipskipskipskipskipskipskipskipskipskipskipskipskipskipskipskipskipskipskipskipskipskipskipskipskipskipskipskipskipskipskipskipskipskipskipskipskipskipskipskipskipskipskipskipskipskipskipskipskipskipskipskipskipskipskipskipskipskipskipskipskipskipskipskipskipskipskipskipskipskipskipskipskipskipskipskipskipskipskipskipskipskipskipskipskipskipskipskipskipskipskipskipskipskipskipskipskipskipskipskipskipskipskipskipskipskipskipskipskipskipskipskipskipskipskipskipskipskipskipskipskipskipskipskipskipskipskipskipskipskipskipskipskipskipskipskipskipskipskipskipskipskipskipskipskipskipskipskipskipskipskipskipskipskipskipskipskipskipskipskipskipskipskipskipskipskipskipskipskipskipskipskipskipskipskipskipskipskipskipskipskipskipskipskipskipskipskipskipskipskipskipskipskipskipskipskipskipskipskipskipskipskipskipskipskipskipskipskipskipskipskipskipskipskipskipskipskipskipskipskipskipskipskipskipskipskipskipskipskipskipskipskipskipskipskipskipskipskipskipskipskipskipskipskipskipskipskipRunning: 940 jobs\n"
     ]
    },
    {
     "name": "stderr",
     "output_type": "stream",
     "text": [
      "/usr/lib/python3.8/site-packages/numpy/lib/function_base.py:2387: RuntimeWarning: invalid value encountered in <lambda> (vectorized)\n",
      "  outputs = ufunc(*inputs)\n",
      "/usr/lib/python3.8/site-packages/numpy/lib/function_base.py:2387: RuntimeWarning: invalid value encountered in <lambda> (vectorized)\n",
      "  outputs = ufunc(*inputs)\n",
      "/usr/lib/python3.8/site-packages/numpy/lib/function_base.py:2387: RuntimeWarning: invalid value encountered in <lambda> (vectorized)\n",
      "  outputs = ufunc(*inputs)\n",
      "/usr/lib/python3.8/site-packages/numpy/lib/function_base.py:2387: RuntimeWarning: invalid value encountered in <lambda> (vectorized)\n",
      "  outputs = ufunc(*inputs)\n",
      "/usr/lib/python3.8/site-packages/numpy/lib/function_base.py:2387: RuntimeWarning: invalid value encountered in <lambda> (vectorized)\n",
      "  outputs = ufunc(*inputs)\n",
      "/home/apn/.local/lib/python3.8/site-packages/hepi/results.py:327: RuntimeWarning: too bad numerical precision vs scale @ aNNLO_PLUS_NNLL 0.0033965476051909045 vs 0.06454827572534788 and 0.03035636539177099\n",
      "  warnings.warn(\"too bad numerical precision vs scale @ \"+ordername + \" \" + str(plot.usd(dl[ordername][i])/rel) + \" vs \" +str(dl[ordername+\"_SCALE_ERRPLUS\"][i]/rel) + \" and \" + str(-dl[ordername+\"_SCALE_ERRMINUS\"][i]/rel)  ,  # TODO print values?\n",
      "/home/apn/.local/lib/python3.8/site-packages/hepi/results.py:327: RuntimeWarning: too bad numerical precision vs scale @ aNNLO_PLUS_NNLL 0.0043710392012590886 vs 0.03386737969861625 and 0.017508057483551498\n",
      "  warnings.warn(\"too bad numerical precision vs scale @ \"+ordername + \" \" + str(plot.usd(dl[ordername][i])/rel) + \" vs \" +str(dl[ordername+\"_SCALE_ERRPLUS\"][i]/rel) + \" and \" + str(-dl[ordername+\"_SCALE_ERRMINUS\"][i]/rel)  ,  # TODO print values?\n",
      "/home/apn/.local/lib/python3.8/site-packages/hepi/results.py:327: RuntimeWarning: too bad numerical precision vs scale @ aNNLO_PLUS_NNLL 0.001551827674316276 vs 0.030086093527835183 and 0.011425963900887666\n",
      "  warnings.warn(\"too bad numerical precision vs scale @ \"+ordername + \" \" + str(plot.usd(dl[ordername][i])/rel) + \" vs \" +str(dl[ordername+\"_SCALE_ERRPLUS\"][i]/rel) + \" and \" + str(-dl[ordername+\"_SCALE_ERRMINUS\"][i]/rel)  ,  # TODO print values?\n",
      "/home/apn/.local/lib/python3.8/site-packages/hepi/results.py:327: RuntimeWarning: too bad numerical precision vs scale @ aNNLO_PLUS_NNLL 0.004192701515951192 vs 0.02954186305345283 and 0.013647934934249054\n",
      "  warnings.warn(\"too bad numerical precision vs scale @ \"+ordername + \" \" + str(plot.usd(dl[ordername][i])/rel) + \" vs \" +str(dl[ordername+\"_SCALE_ERRPLUS\"][i]/rel) + \" and \" + str(-dl[ordername+\"_SCALE_ERRMINUS\"][i]/rel)  ,  # TODO print values?\n",
      "/home/apn/.local/lib/python3.8/site-packages/hepi/results.py:327: RuntimeWarning: too bad numerical precision vs scale @ aNNLO_PLUS_NNLL 0.002835325612853336 vs 0.03877860047001132 and 0.010130240874322708\n",
      "  warnings.warn(\"too bad numerical precision vs scale @ \"+ordername + \" \" + str(plot.usd(dl[ordername][i])/rel) + \" vs \" +str(dl[ordername+\"_SCALE_ERRPLUS\"][i]/rel) + \" and \" + str(-dl[ordername+\"_SCALE_ERRMINUS\"][i]/rel)  ,  # TODO print values?\n",
      "/home/apn/.local/lib/python3.8/site-packages/hepi/results.py:327: RuntimeWarning: too bad numerical precision vs scale @ aNNLO_PLUS_NNLL 0.0033288880874403344 vs 0.03997767087348011 and 0.007991120310076783\n",
      "  warnings.warn(\"too bad numerical precision vs scale @ \"+ordername + \" \" + str(plot.usd(dl[ordername][i])/rel) + \" vs \" +str(dl[ordername+\"_SCALE_ERRPLUS\"][i]/rel) + \" and \" + str(-dl[ordername+\"_SCALE_ERRMINUS\"][i]/rel)  ,  # TODO print values?\n",
      "/home/apn/.local/lib/python3.8/site-packages/hepi/results.py:327: RuntimeWarning: too bad numerical precision vs scale @ aNNLO_PLUS_NNLL 0.005475079788197293 vs 0.03548032538002009 and 0.006505064164399729\n",
      "  warnings.warn(\"too bad numerical precision vs scale @ \"+ordername + \" \" + str(plot.usd(dl[ordername][i])/rel) + \" vs \" +str(dl[ordername+\"_SCALE_ERRPLUS\"][i]/rel) + \" and \" + str(-dl[ordername+\"_SCALE_ERRMINUS\"][i]/rel)  ,  # TODO print values?\n",
      "/home/apn/.local/lib/python3.8/site-packages/hepi/results.py:327: RuntimeWarning: too bad numerical precision vs scale @ aNNLO_PLUS_NNLL 0.00153552197076925 vs 0.03443949080822666 and 0.012586475798122419\n",
      "  warnings.warn(\"too bad numerical precision vs scale @ \"+ordername + \" \" + str(plot.usd(dl[ordername][i])/rel) + \" vs \" +str(dl[ordername+\"_SCALE_ERRPLUS\"][i]/rel) + \" and \" + str(-dl[ordername+\"_SCALE_ERRMINUS\"][i]/rel)  ,  # TODO print values?\n",
      "/usr/lib/python3.8/site-packages/numpy/lib/function_base.py:2387: RuntimeWarning: invalid value encountered in <lambda> (vectorized)\n",
      "  outputs = ufunc(*inputs)\n",
      "/usr/lib/python3.8/site-packages/numpy/lib/function_base.py:2387: RuntimeWarning: invalid value encountered in <lambda> (vectorized)\n",
      "  outputs = ufunc(*inputs)\n",
      "/usr/lib/python3.8/site-packages/numpy/lib/function_base.py:2387: RuntimeWarning: invalid value encountered in <lambda> (vectorized)\n",
      "  outputs = ufunc(*inputs)\n",
      "/usr/lib/python3.8/site-packages/numpy/lib/function_base.py:2387: RuntimeWarning: invalid value encountered in <lambda> (vectorized)\n",
      "  outputs = ufunc(*inputs)\n"
     ]
    },
    {
     "data": {
      "image/png": "[encoded data removed]",
      "text/plain": [
       "<Figure size 432x288 with 1 Axes>"
      ]
     },
     "metadata": {
      "needs_background": "light"
     },
     "output_type": "display_data"
    },
    {
     "name": "stderr",
     "output_type": "stream",
     "text": [
      "/home/apn/.local/lib/python3.8/site-packages/hepi/input.py:283: RuntimeWarning: Could not set new central scale to average of masses.\n",
      "  warnings.warn(\"Could not set new central scale to average of masses.\",\n"
     ]
    },
    {
     "name": "stdout",
     "output_type": "stream",
     "text": [
      "skipskipskipskipskipskipskipskipskipskipskipskipskipskipskipskipskipskipskipskipskipskipskipskipskipskipskipskipskipskipskipskipskipskipskipskipskipskipskipskipskipskipskipskipskipskipskipskipskipskipskipskipskipskipskipskipskipskipskipskipskipskipskipskipskipskipskipskipskipskipskipskipskipskipskipskipskipskipskipskipskipskipskipskipskipskipskipskipskipskipskipskipskipskipskipskipskipskipskipskipskipskipskipskipskipskipskipskipskipskipskipskipskipskipskipskipskipskipskipskipskipskipskipskipskipskipskipskipskipskipskipskipskipskipskipskipskipskipskipskipskipskipskipskipskipskipskipskipskipskipskipskipskipskipskipskipskipskipskipskipskipskipskipskipskipskipskipskipskipskipskipskipskipskipskipskipskipskipskipskipskipskipskipskipskipskipskipskipskipskipskipskipskipskipskipskipskipskipskipskipskipskipskipskipskipskipskipskipskipskipskipskipskipskipskipskipskipskipskipskipskipskipskipskipskipskipskipskipskipskipskipskipskipskipskipskipskipskipskipskipskipskipskipskipskipskipskipskipskipskipskipskipskipskipskipskipskipskipskipskipskipskipskipskipskipskipskipskipskipskipskipskipskipskipskipskipskipskipskipskipskipskipskipskipskipskipskipskipskipskipskipskipskipskipskipskipskipskipskipskipskipskipskipskipskipskipskipskipskipskipskipskipskipskipskipskipskipskipskipskipskipskipskipskipskipskipskipskipskipskipskipskipskipskipskipskipskipskipskipskipskipskipskipskipskipskipskipskipskipskipskipskipskipskipskipskipskipskipskipskipskipskipskipskipskipskipskipskipskipskipskipskipskipskipskipskipskipskipskipskipskipskipskipskipskipskipskipskipskipskipskipskipskipskipskipskipskipskipskipskipskipskipskipskipskipskipskipskipskipskipskipskipskipskipskipskipskipskipskipskipskipskipskipskipskipskipskipskipskipskipskipskipskipskipskipskipskipskipskipskipskipskipskipskipskipskipskipskipskipskipskipskipskipskipskipskipskipskipskipskipskipskipskipskipskipskipskipskipskipskipskipskipskipskipskipskipskipskipskipskipskipskipskipskipskipskipskipskipskipskipskipskipskipskipskipskipskipskipskipskipskipskipskipskipskipskipskipskipskipskipskipskipskipskipskipskipskipskipskipskipskipskipskipskipskipskipskipskipskipskipskipskipskipskipskipskipskipskipskipskipskipskipskipskipskipskipskipskipskipskipskipskipskipskipskipskipskipskipskipskipskipskipskipskipskipskipskipskipskipskipskipskipskipskipskipskipskipskipskipskipskipskipskipskipskipskipskipskipskipskipskipskipskipskipskipskipskipskipskipskipskipskipskipskipskipskipskipskipskipskipskipskipskipskipskipskipskipskipskipskipskipskipskipskipskipskipskipskipskipskipskipskipskipskipskipskipskipskipskipskipskipskipskipskipskipskipskipskipskipskipskipskipskipskipskipskipskipskipskipskipskipskipskipskipskipskipskipskipskipskipskipskipskipskipskipskipskipskipskipskipskipskipskipskipskipskipskipskipskipskipskipskipskipskipskipskipskipskipskipskipskipskipskipskipskipskipskipskipskipskipskipskipskipskipskipskipskipskipskipskipskipskipskipskipskipskipskipskipskipskipskipskipskipskipskipskipskipskipskipskipskipskipskipskipskipskipskipskipskipskipskipskipskipskipskipskipskipskipskipskipskipskipskipskipskipskipskipskipskipskipskipskipskipskipskipskipskipskipskipskipskipskipskipskipskipskipskipskipskipskipskipskipskipskipskipskipskipskipskipskipskipskipskipskipskipskipskipskipskipskipskipskipskipskipskipskipskipskipskipskipskipskipskipskipskipskipskipskipskipskipskipskipskipskipskipskipskipskipskipskipskipskipskipskipskipskipskipskipskipskipskipskipskipskipskipskipskipskipskipskipskipskipskipskipskipskipskipskipskipskipskipskipskipskipskipskipskipskipskipskipskipskipskipskipskipskipskipskipskipskipskipskipskipskipskipskipskipskipskipskipskipskipskipskipskipskipskipskipskipskipskipskipskipskipskipskipskipskipskipskipskipskipskipskipskipskipskipskipskipskipskipskipskipskipskipskipskipskipskipskipRunning: 940 jobs\n"
     ]
    },
    {
     "name": "stderr",
     "output_type": "stream",
     "text": [
      "/usr/lib/python3.8/site-packages/numpy/lib/function_base.py:2387: RuntimeWarning: invalid value encountered in <lambda> (vectorized)\n",
      "  outputs = ufunc(*inputs)\n",
      "/usr/lib/python3.8/site-packages/numpy/lib/function_base.py:2387: RuntimeWarning: invalid value encountered in <lambda> (vectorized)\n",
      "  outputs = ufunc(*inputs)\n",
      "/usr/lib/python3.8/site-packages/numpy/lib/function_base.py:2387: RuntimeWarning: invalid value encountered in <lambda> (vectorized)\n",
      "  outputs = ufunc(*inputs)\n",
      "/usr/lib/python3.8/site-packages/numpy/lib/function_base.py:2387: RuntimeWarning: invalid value encountered in <lambda> (vectorized)\n",
      "  outputs = ufunc(*inputs)\n",
      "/usr/lib/python3.8/site-packages/numpy/lib/function_base.py:2387: RuntimeWarning: invalid value encountered in <lambda> (vectorized)\n",
      "  outputs = ufunc(*inputs)\n",
      "/home/apn/.local/lib/python3.8/site-packages/hepi/results.py:327: RuntimeWarning: too bad numerical precision vs scale @ aNNLO_PLUS_NNLL 0.003556783235000177 vs 0.08208265424877505 and 0.025562430095718125\n",
      "  warnings.warn(\"too bad numerical precision vs scale @ \"+ordername + \" \" + str(plot.usd(dl[ordername][i])/rel) + \" vs \" +str(dl[ordername+\"_SCALE_ERRPLUS\"][i]/rel) + \" and \" + str(-dl[ordername+\"_SCALE_ERRMINUS\"][i]/rel)  ,  # TODO print values?\n",
      "/home/apn/.local/lib/python3.8/site-packages/hepi/results.py:327: RuntimeWarning: too bad numerical precision vs scale @ aNNLO_PLUS_NNLL 0.0021851876599165913 vs 0.040876088568533975 and 0.017000574007990564\n",
      "  warnings.warn(\"too bad numerical precision vs scale @ \"+ordername + \" \" + str(plot.usd(dl[ordername][i])/rel) + \" vs \" +str(dl[ordername+\"_SCALE_ERRPLUS\"][i]/rel) + \" and \" + str(-dl[ordername+\"_SCALE_ERRMINUS\"][i]/rel)  ,  # TODO print values?\n",
      "/home/apn/.local/lib/python3.8/site-packages/hepi/results.py:327: RuntimeWarning: too bad numerical precision vs scale @ aNNLO_PLUS_NNLL 0.0020515493582810096 vs 0.027059233631485137 and 0.013814000680659898\n",
      "  warnings.warn(\"too bad numerical precision vs scale @ \"+ordername + \" \" + str(plot.usd(dl[ordername][i])/rel) + \" vs \" +str(dl[ordername+\"_SCALE_ERRPLUS\"][i]/rel) + \" and \" + str(-dl[ordername+\"_SCALE_ERRMINUS\"][i]/rel)  ,  # TODO print values?\n",
      "/home/apn/.local/lib/python3.8/site-packages/hepi/results.py:327: RuntimeWarning: too bad numerical precision vs scale @ aNNLO_PLUS_NNLL 0.0013237004052336246 vs 0.030768632019690784 and 0.011000212772328462\n",
      "  warnings.warn(\"too bad numerical precision vs scale @ \"+ordername + \" \" + str(plot.usd(dl[ordername][i])/rel) + \" vs \" +str(dl[ordername+\"_SCALE_ERRPLUS\"][i]/rel) + \" and \" + str(-dl[ordername+\"_SCALE_ERRMINUS\"][i]/rel)  ,  # TODO print values?\n",
      "/home/apn/.local/lib/python3.8/site-packages/hepi/results.py:327: RuntimeWarning: too bad numerical precision vs scale @ aNNLO_PLUS_NNLL 0.0013426003457922605 vs 0.027932630542581764 and 0.010222903934587533\n",
      "  warnings.warn(\"too bad numerical precision vs scale @ \"+ordername + \" \" + str(plot.usd(dl[ordername][i])/rel) + \" vs \" +str(dl[ordername+\"_SCALE_ERRPLUS\"][i]/rel) + \" and \" + str(-dl[ordername+\"_SCALE_ERRMINUS\"][i]/rel)  ,  # TODO print values?\n",
      "/home/apn/.local/lib/python3.8/site-packages/hepi/results.py:327: RuntimeWarning: too bad numerical precision vs scale @ aNNLO_PLUS_NNLL 0.0012320647409254446 vs 0.023999280755186623 and 0.010774307826263261\n",
      "  warnings.warn(\"too bad numerical precision vs scale @ \"+ordername + \" \" + str(plot.usd(dl[ordername][i])/rel) + \" vs \" +str(dl[ordername+\"_SCALE_ERRPLUS\"][i]/rel) + \" and \" + str(-dl[ordername+\"_SCALE_ERRMINUS\"][i]/rel)  ,  # TODO print values?\n",
      "/home/apn/.local/lib/python3.8/site-packages/hepi/results.py:327: RuntimeWarning: too bad numerical precision vs scale @ aNNLO_PLUS_NNLL 0.0051344388121703855 vs 0.015058071608460035 and 0.01421347141820685\n",
      "  warnings.warn(\"too bad numerical precision vs scale @ \"+ordername + \" \" + str(plot.usd(dl[ordername][i])/rel) + \" vs \" +str(dl[ordername+\"_SCALE_ERRPLUS\"][i]/rel) + \" and \" + str(-dl[ordername+\"_SCALE_ERRMINUS\"][i]/rel)  ,  # TODO print values?\n",
      "/home/apn/.local/lib/python3.8/site-packages/hepi/results.py:327: RuntimeWarning: too bad numerical precision vs scale @ aNNLO_PLUS_NNLL 0.0026923858067770556 vs 0.018607331087963072 and 0.012165164127607209\n",
      "  warnings.warn(\"too bad numerical precision vs scale @ \"+ordername + \" \" + str(plot.usd(dl[ordername][i])/rel) + \" vs \" +str(dl[ordername+\"_SCALE_ERRPLUS\"][i]/rel) + \" and \" + str(-dl[ordername+\"_SCALE_ERRMINUS\"][i]/rel)  ,  # TODO print values?\n",
      "/home/apn/.local/lib/python3.8/site-packages/hepi/results.py:327: RuntimeWarning: too bad numerical precision vs scale @ aNNLO_PLUS_NNLL 0.0016430270059550349 vs 0.015600872204919958 and 0.012883582491220432\n",
      "  warnings.warn(\"too bad numerical precision vs scale @ \"+ordername + \" \" + str(plot.usd(dl[ordername][i])/rel) + \" vs \" +str(dl[ordername+\"_SCALE_ERRPLUS\"][i]/rel) + \" and \" + str(-dl[ordername+\"_SCALE_ERRMINUS\"][i]/rel)  ,  # TODO print values?\n",
      "/home/apn/.local/lib/python3.8/site-packages/hepi/results.py:327: RuntimeWarning: too bad numerical precision vs scale @ aNNLO_PLUS_NNLL 0.0015343105096563444 vs 0.02277819052128699 and 0.014826352896277054\n",
      "  warnings.warn(\"too bad numerical precision vs scale @ \"+ordername + \" \" + str(plot.usd(dl[ordername][i])/rel) + \" vs \" +str(dl[ordername+\"_SCALE_ERRPLUS\"][i]/rel) + \" and \" + str(-dl[ordername+\"_SCALE_ERRMINUS\"][i]/rel)  ,  # TODO print values?\n",
      "/home/apn/.local/lib/python3.8/site-packages/hepi/results.py:327: RuntimeWarning: too bad numerical precision vs scale @ aNNLO_PLUS_NNLL 0.0021546827950477926 vs 0.021830630616337467 and 0.017156259511983855\n",
      "  warnings.warn(\"too bad numerical precision vs scale @ \"+ordername + \" \" + str(plot.usd(dl[ordername][i])/rel) + \" vs \" +str(dl[ordername+\"_SCALE_ERRPLUS\"][i]/rel) + \" and \" + str(-dl[ordername+\"_SCALE_ERRMINUS\"][i]/rel)  ,  # TODO print values?\n",
      "/home/apn/.local/lib/python3.8/site-packages/hepi/results.py:327: RuntimeWarning: too bad numerical precision vs scale @ aNNLO_PLUS_NNLL 0.0021099509176509216 vs 0.021549354006080264 and 0.016206209414576195\n",
      "  warnings.warn(\"too bad numerical precision vs scale @ \"+ordername + \" \" + str(plot.usd(dl[ordername][i])/rel) + \" vs \" +str(dl[ordername+\"_SCALE_ERRPLUS\"][i]/rel) + \" and \" + str(-dl[ordername+\"_SCALE_ERRMINUS\"][i]/rel)  ,  # TODO print values?\n",
      "/home/apn/.local/lib/python3.8/site-packages/hepi/results.py:327: RuntimeWarning: too bad numerical precision vs scale @ aNNLO_PLUS_NNLL 0.0017962006911224743 vs 0.023453972364424563 and 0.01553692762124323\n",
      "  warnings.warn(\"too bad numerical precision vs scale @ \"+ordername + \" \" + str(plot.usd(dl[ordername][i])/rel) + \" vs \" +str(dl[ordername+\"_SCALE_ERRPLUS\"][i]/rel) + \" and \" + str(-dl[ordername+\"_SCALE_ERRMINUS\"][i]/rel)  ,  # TODO print values?\n",
      "/home/apn/.local/lib/python3.8/site-packages/hepi/results.py:327: RuntimeWarning: too bad numerical precision vs scale @ aNNLO_PLUS_NNLL 0.0019284212992182912 vs 0.018156844773552425 and 0.01333817481573103\n",
      "  warnings.warn(\"too bad numerical precision vs scale @ \"+ordername + \" \" + str(plot.usd(dl[ordername][i])/rel) + \" vs \" +str(dl[ordername+\"_SCALE_ERRPLUS\"][i]/rel) + \" and \" + str(-dl[ordername+\"_SCALE_ERRMINUS\"][i]/rel)  ,  # TODO print values?\n",
      "/usr/lib/python3.8/site-packages/numpy/lib/function_base.py:2387: RuntimeWarning: invalid value encountered in <lambda> (vectorized)\n",
      "  outputs = ufunc(*inputs)\n",
      "/usr/lib/python3.8/site-packages/numpy/lib/function_base.py:2387: RuntimeWarning: invalid value encountered in <lambda> (vectorized)\n",
      "  outputs = ufunc(*inputs)\n",
      "/usr/lib/python3.8/site-packages/numpy/lib/function_base.py:2387: RuntimeWarning: invalid value encountered in <lambda> (vectorized)\n",
      "  outputs = ufunc(*inputs)\n",
      "/usr/lib/python3.8/site-packages/numpy/lib/function_base.py:2387: RuntimeWarning: invalid value encountered in <lambda> (vectorized)\n",
      "  outputs = ufunc(*inputs)\n"
     ]
    },
    {
     "data": {
      "image/png": "[encoded data removed]",
      "text/plain": [
       "<Figure size 432x288 with 1 Axes>"
      ]
     },
     "metadata": {
      "needs_background": "light"
     },
     "output_type": "display_data"
    },
    {
     "name": "stderr",
     "output_type": "stream",
     "text": [
      "/home/apn/.local/lib/python3.8/site-packages/hepi/input.py:283: RuntimeWarning: Could not set new central scale to average of masses.\n",
      "  warnings.warn(\"Could not set new central scale to average of masses.\",\n"
     ]
    },
    {
     "name": "stdout",
     "output_type": "stream",
     "text": [
      "skipskipskipskipskipskipskipskipskipskipskipskipskipskipskipskipskipskipskipskipskipskipskipskipskipskipskipskipskipskipskipskipskipskipskipskipskipskipskipskipskipskipskipskipskipskipskipskipskipskipskipskipskipskipskipskipskipskipskipskipskipskipskipskipskipskipskipskipskipskipskipskipskipskipskipskipskipskipskipskipskipskipskipskipskipskipskipskipskipskipskipskipskipskipskipskipskipskipskipskipskipskipskipskipskipskipskipskipskipskipskipskipskipskipskipskipskipskipskipskipskipskipskipskipskipskipskipskipskipskipskipskipskipskipskipskipskipskipskipskipskipskipskipskipskipskipskipskipskipskipskipskipskipskipskipskipskipskipskipskipskipskipskipskipskipskipskipskipskipskipskipskipskipskipskipskipskipskipskipskipskipskipskipskipskipskipskipskipskipskipskipskipskipskipskipskipskipskipskipskipskipskipskipskipskipskipskipskipskipskipskipskipskipskipskipskipskipskipskipskipskipskipskipskipskipskipskipskipskipRunning: 940 jobs\n"
     ]
    },
    {
     "ename": "KeyboardInterrupt",
     "evalue": "",
     "output_type": "error",
     "traceback": [
      "\u001b[0;31m---------------------------------------------------------------------------\u001b[0m",
      "\u001b[0;31mKeyboardInterrupt\u001b[0m                         Traceback (most recent call last)",
      "Input \u001b[0;32mIn [2]\u001b[0m, in \u001b[0;36m<cell line: 9>\u001b[0;34m()\u001b[0m\n\u001b[1;32m     46\u001b[0m     rs_dl \u001b[38;5;241m=\u001b[39m rs\u001b[38;5;241m.\u001b[39mrun(li, skip\u001b[38;5;241m=\u001b[39m\u001b[38;5;28;01mFalse\u001b[39;00m, run\u001b[38;5;241m=\u001b[39m\u001b[38;5;28;01mFalse\u001b[39;00m, parse\u001b[38;5;241m=\u001b[39m\u001b[38;5;28;01mFalse\u001b[39;00m)\n\u001b[1;32m     47\u001b[0m \u001b[38;5;28;01melse\u001b[39;00m:\n\u001b[0;32m---> 48\u001b[0m     rs_dl \u001b[38;5;241m=\u001b[39m \u001b[43mrs\u001b[49m\u001b[38;5;241;43m.\u001b[39;49m\u001b[43mrun\u001b[49m\u001b[43m(\u001b[49m\u001b[43mli\u001b[49m\u001b[43m,\u001b[49m\u001b[43m \u001b[49m\u001b[43mskip\u001b[49m\u001b[38;5;241;43m=\u001b[39;49m\u001b[38;5;28;43;01mTrue\u001b[39;49;00m\u001b[43m,\u001b[49m\u001b[43m \u001b[49m\u001b[43mrun\u001b[49m\u001b[38;5;241;43m=\u001b[39;49m\u001b[38;5;28;43;01mTrue\u001b[39;49;00m\u001b[43m,\u001b[49m\u001b[43m \u001b[49m\u001b[43mparse\u001b[49m\u001b[38;5;241;43m=\u001b[39;49m\u001b[38;5;28;43;01mTrue\u001b[39;49;00m\u001b[43m,\u001b[49m\u001b[43mignore_error\u001b[49m\u001b[38;5;241;43m=\u001b[39;49m\u001b[38;5;28;43;01mTrue\u001b[39;49;00m\u001b[43m)\u001b[49m\n\u001b[1;32m     49\u001b[0m     rs_dl \u001b[38;5;241m=\u001b[39m hepi\u001b[38;5;241m.\u001b[39mpdf_errors(li,rs_dl)\n\u001b[1;32m     50\u001b[0m     rs_dl \u001b[38;5;241m=\u001b[39m hepi\u001b[38;5;241m.\u001b[39mscale_errors(li,rs_dl)\n",
      "File \u001b[0;32m~/.local/lib/python3.8/site-packages/hepi/run.py:149\u001b[0m, in \u001b[0;36mRunner.run\u001b[0;34m(self, params, skip, parse, parallel, sleep, run, ignore_error, **kwargs)\u001b[0m\n\u001b[1;32m    147\u001b[0m     sleep \u001b[38;5;241m=\u001b[39m \u001b[38;5;241m0\u001b[39m \u001b[38;5;28;01mif\u001b[39;00m parse \u001b[38;5;28;01melse\u001b[39;00m \u001b[38;5;241m5\u001b[39m\n\u001b[1;32m    148\u001b[0m \u001b[38;5;28;01mif\u001b[39;00m run:\n\u001b[0;32m--> 149\u001b[0m     \u001b[38;5;28;43mself\u001b[39;49m\u001b[38;5;241;43m.\u001b[39;49m\u001b[43m_run\u001b[49m\u001b[43m(\u001b[49m\u001b[43mrps\u001b[49m\u001b[43m,\u001b[49m\n\u001b[1;32m    150\u001b[0m \u001b[43m              \u001b[49m\u001b[43mwait\u001b[49m\u001b[38;5;241;43m=\u001b[39;49m\u001b[43mparse\u001b[49m\u001b[43m,\u001b[49m\n\u001b[1;32m    151\u001b[0m \u001b[43m              \u001b[49m\u001b[43mparallel\u001b[49m\u001b[38;5;241;43m=\u001b[39;49m\u001b[43mparallel\u001b[49m\u001b[43m,\u001b[49m\n\u001b[1;32m    152\u001b[0m \u001b[43m              \u001b[49m\u001b[43msleep\u001b[49m\u001b[38;5;241;43m=\u001b[39;49m\u001b[43msleep\u001b[49m\u001b[43m,\u001b[49m\n\u001b[1;32m    153\u001b[0m \u001b[43m              \u001b[49m\u001b[38;5;241;43m*\u001b[39;49m\u001b[38;5;241;43m*\u001b[39;49m\u001b[43mkwargs\u001b[49m\u001b[43m)\u001b[49m\n\u001b[1;32m    154\u001b[0m \u001b[38;5;28;01mif\u001b[39;00m parse:\n\u001b[1;32m    155\u001b[0m     outs \u001b[38;5;241m=\u001b[39m LD2DL(rps)[\u001b[38;5;124m\"\u001b[39m\u001b[38;5;124mout_file\u001b[39m\u001b[38;5;124m\"\u001b[39m]\n",
      "File \u001b[0;32m~/.local/lib/python3.8/site-packages/hepi/run.py:190\u001b[0m, in \u001b[0;36mRunner._run\u001b[0;34m(self, rps, wait, parallel, sleep, **kwargs)\u001b[0m\n\u001b[1;32m    188\u001b[0m \u001b[38;5;28;01mif\u001b[39;00m \u001b[38;5;129;01mnot\u001b[39;00m rp\u001b[38;5;241m.\u001b[39mskip:\n\u001b[1;32m    189\u001b[0m     command \u001b[38;5;241m=\u001b[39m template\u001b[38;5;241m.\u001b[39mformat(rp\u001b[38;5;241m.\u001b[39mexecute)\n\u001b[0;32m--> 190\u001b[0m     process \u001b[38;5;241m=\u001b[39m \u001b[43msubprocess\u001b[49m\u001b[38;5;241;43m.\u001b[39;49m\u001b[43mPopen\u001b[49m\u001b[43m(\u001b[49m\u001b[43mcommand\u001b[49m\u001b[43m,\u001b[49m\u001b[43m \u001b[49m\u001b[43mshell\u001b[49m\u001b[38;5;241;43m=\u001b[39;49m\u001b[38;5;28;43;01mTrue\u001b[39;49;00m\u001b[43m)\u001b[49m\n\u001b[1;32m    191\u001b[0m     processes\u001b[38;5;241m.\u001b[39mappend(process)\n\u001b[1;32m    192\u001b[0m     \u001b[38;5;28;01mif\u001b[39;00m \u001b[38;5;129;01mnot\u001b[39;00m parallel:\n",
      "File \u001b[0;32m/usr/lib/python3.8/subprocess.py:858\u001b[0m, in \u001b[0;36mPopen.__init__\u001b[0;34m(self, args, bufsize, executable, stdin, stdout, stderr, preexec_fn, close_fds, shell, cwd, env, universal_newlines, startupinfo, creationflags, restore_signals, start_new_session, pass_fds, encoding, errors, text)\u001b[0m\n\u001b[1;32m    854\u001b[0m         \u001b[38;5;28;01mif\u001b[39;00m \u001b[38;5;28mself\u001b[39m\u001b[38;5;241m.\u001b[39mtext_mode:\n\u001b[1;32m    855\u001b[0m             \u001b[38;5;28mself\u001b[39m\u001b[38;5;241m.\u001b[39mstderr \u001b[38;5;241m=\u001b[39m io\u001b[38;5;241m.\u001b[39mTextIOWrapper(\u001b[38;5;28mself\u001b[39m\u001b[38;5;241m.\u001b[39mstderr,\n\u001b[1;32m    856\u001b[0m                     encoding\u001b[38;5;241m=\u001b[39mencoding, errors\u001b[38;5;241m=\u001b[39merrors)\n\u001b[0;32m--> 858\u001b[0m     \u001b[38;5;28;43mself\u001b[39;49m\u001b[38;5;241;43m.\u001b[39;49m\u001b[43m_execute_child\u001b[49m\u001b[43m(\u001b[49m\u001b[43margs\u001b[49m\u001b[43m,\u001b[49m\u001b[43m \u001b[49m\u001b[43mexecutable\u001b[49m\u001b[43m,\u001b[49m\u001b[43m \u001b[49m\u001b[43mpreexec_fn\u001b[49m\u001b[43m,\u001b[49m\u001b[43m \u001b[49m\u001b[43mclose_fds\u001b[49m\u001b[43m,\u001b[49m\n\u001b[1;32m    859\u001b[0m \u001b[43m                        \u001b[49m\u001b[43mpass_fds\u001b[49m\u001b[43m,\u001b[49m\u001b[43m \u001b[49m\u001b[43mcwd\u001b[49m\u001b[43m,\u001b[49m\u001b[43m \u001b[49m\u001b[43menv\u001b[49m\u001b[43m,\u001b[49m\n\u001b[1;32m    860\u001b[0m \u001b[43m                        \u001b[49m\u001b[43mstartupinfo\u001b[49m\u001b[43m,\u001b[49m\u001b[43m \u001b[49m\u001b[43mcreationflags\u001b[49m\u001b[43m,\u001b[49m\u001b[43m \u001b[49m\u001b[43mshell\u001b[49m\u001b[43m,\u001b[49m\n\u001b[1;32m    861\u001b[0m \u001b[43m                        \u001b[49m\u001b[43mp2cread\u001b[49m\u001b[43m,\u001b[49m\u001b[43m \u001b[49m\u001b[43mp2cwrite\u001b[49m\u001b[43m,\u001b[49m\n\u001b[1;32m    862\u001b[0m \u001b[43m                        \u001b[49m\u001b[43mc2pread\u001b[49m\u001b[43m,\u001b[49m\u001b[43m \u001b[49m\u001b[43mc2pwrite\u001b[49m\u001b[43m,\u001b[49m\n\u001b[1;32m    863\u001b[0m \u001b[43m                        \u001b[49m\u001b[43merrread\u001b[49m\u001b[43m,\u001b[49m\u001b[43m \u001b[49m\u001b[43merrwrite\u001b[49m\u001b[43m,\u001b[49m\n\u001b[1;32m    864\u001b[0m \u001b[43m                        \u001b[49m\u001b[43mrestore_signals\u001b[49m\u001b[43m,\u001b[49m\u001b[43m \u001b[49m\u001b[43mstart_new_session\u001b[49m\u001b[43m)\u001b[49m\n\u001b[1;32m    865\u001b[0m \u001b[38;5;28;01mexcept\u001b[39;00m:\n\u001b[1;32m    866\u001b[0m     \u001b[38;5;66;03m# Cleanup if the child failed starting.\u001b[39;00m\n\u001b[1;32m    867\u001b[0m     \u001b[38;5;28;01mfor\u001b[39;00m f \u001b[38;5;129;01min\u001b[39;00m \u001b[38;5;28mfilter\u001b[39m(\u001b[38;5;28;01mNone\u001b[39;00m, (\u001b[38;5;28mself\u001b[39m\u001b[38;5;241m.\u001b[39mstdin, \u001b[38;5;28mself\u001b[39m\u001b[38;5;241m.\u001b[39mstdout, \u001b[38;5;28mself\u001b[39m\u001b[38;5;241m.\u001b[39mstderr)):\n",
      "File \u001b[0;32m/usr/lib/python3.8/subprocess.py:1660\u001b[0m, in \u001b[0;36mPopen._execute_child\u001b[0;34m(self, args, executable, preexec_fn, close_fds, pass_fds, cwd, env, startupinfo, creationflags, shell, p2cread, p2cwrite, c2pread, c2pwrite, errread, errwrite, restore_signals, start_new_session)\u001b[0m\n\u001b[1;32m   1658\u001b[0m errpipe_data \u001b[38;5;241m=\u001b[39m \u001b[38;5;28mbytearray\u001b[39m()\n\u001b[1;32m   1659\u001b[0m \u001b[38;5;28;01mwhile\u001b[39;00m \u001b[38;5;28;01mTrue\u001b[39;00m:\n\u001b[0;32m-> 1660\u001b[0m     part \u001b[38;5;241m=\u001b[39m \u001b[43mos\u001b[49m\u001b[38;5;241;43m.\u001b[39;49m\u001b[43mread\u001b[49m\u001b[43m(\u001b[49m\u001b[43merrpipe_read\u001b[49m\u001b[43m,\u001b[49m\u001b[43m \u001b[49m\u001b[38;5;241;43m50000\u001b[39;49m\u001b[43m)\u001b[49m\n\u001b[1;32m   1661\u001b[0m     errpipe_data \u001b[38;5;241m+\u001b[39m\u001b[38;5;241m=\u001b[39m part\n\u001b[1;32m   1662\u001b[0m     \u001b[38;5;28;01mif\u001b[39;00m \u001b[38;5;129;01mnot\u001b[39;00m part \u001b[38;5;129;01mor\u001b[39;00m \u001b[38;5;28mlen\u001b[39m(errpipe_data) \u001b[38;5;241m>\u001b[39m \u001b[38;5;241m50000\u001b[39m:\n",
      "\u001b[0;31mKeyboardInterrupt\u001b[0m: "
     ]
    }
   ],
   "source": [
    "params = [\n",
    "    \"wino.slha\",\n",
    "]\n",
    "pss = [\n",
    "    ( 1000022, +1000024),  # N1C1p\n",
    "    ( 1000022, -1000024),  # N1C1m\n",
    "    (+1000024, -1000024),  # C1pC1m\n",
    "]\n",
    "for energy in [13000, 13600]:\n",
    "    for pa, pb in pss:\n",
    "        hepi.set_output_dir(\n",
    "            \"output_\" + str(energy) + \"_wino_\" + str(pa) + \"_\" + str(pb) + \"/\"\n",
    "        )\n",
    "        rs.default_resummino_runner.set_output_dir(hepi.get_output_dir())\n",
    "        for param in params:\n",
    "            i = hepi.Input(\n",
    "                hepi.Order.LO if test_lo else hepi.Order.aNNLO_PLUS_NNLL,\n",
    "                energy,\n",
    "                pa,\n",
    "                pb,\n",
    "                param,\n",
    "                \"PDF4LHC21_40\",\n",
    "                \"PDF4LHC21_40\",\n",
    "                1.0,\n",
    "                1.0,\n",
    "                id=\"0.0.0\",\n",
    "                precision=0.001,\n",
    "                max_iters=50,\n",
    "            )\n",
    "            li = [i]\n",
    "            li = hepi.masses_scan(\n",
    "                li,\n",
    "                [\n",
    "                    1000022,\n",
    "                    1000023,\n",
    "                    1000024,\n",
    "                ],\n",
    "                range(100, 2010, 100),\n",
    "            )\n",
    "            if not test_lo:\n",
    "                \n",
    "                li = hepi.seven_point_scan(li)\n",
    "                li = hepi.pdf_scan(li)\n",
    "                # li = hepi.change_where(li, {\"precision\": 0.0001, \"max_iters\": 200}, pdfset_nlo=0)\n",
    "                if not analyse:\n",
    "                    rs_dl = rs.run(li, skip=False, run=False, parse=False)\n",
    "                else:\n",
    "                    rs_dl = rs.run(li, skip=True, run=True, parse=True,ignore_error=True)\n",
    "                    rs_dl = hepi.pdf_errors(li,rs_dl)\n",
    "                    rs_dl = hepi.scale_errors(li,rs_dl)\n",
    "                    rs_dl = hepi.combine_errors(rs_dl)\n",
    "                    hepi.mass_plot(rs_dl,\"LO\",1000022,show=True,logy=True,interpolate=False,interpolator='cubic',pre=np.log,post=np.exp)\n",
    "            else:\n",
    "                rs_dl = rs.run(li, skip=True, run=True, parse=True)\n",
    "                hepi.mass_plot(rs_dl,\"LO\",1000022,show=True,interpolator='cubic',pre=np.log,post=np.exp)"
   ]
  },
  {
   "cell_type": "code",
   "execution_count": null,
   "id": "00171384",
   "metadata": {},
   "outputs": [],
   "source": []
  },
  {
   "cell_type": "markdown",
   "id": "da027400",
   "metadata": {},
   "source": [
    "# aNNLO+NNLL hino degenerate\n"
   ]
  },
  {
   "cell_type": "code",
   "execution_count": null,
   "id": "b344fabd",
   "metadata": {},
   "outputs": [],
   "source": [
    "params = [\n",
    "    \"hino.slha\",\n",
    "]\n",
    "pss = [\n",
    "    (1000022, +1000024),  # N2C1p\n",
    "    (1000022, -1000024),  # N2C1m\n",
    "    (+1000024, -1000024),  # C1pC2m\n",
    "    (1000022, 1000023),  # N2N1\n",
    "]\n",
    "for energy in [13000, 13600]:\n",
    "    for pa, pb in pss:\n",
    "        # save to different folders to have some substructure\n",
    "        hepi.set_output_dir(\n",
    "            \"output_\" + str(energy) + \"_hino_deg_\" + str(pa) + \"_\" + str(pb) + \"/\"\n",
    "        )\n",
    "        rs.default_resummino_runner.set_output_dir(hepi.get_output_dir())\n",
    "        for param in params:\n",
    "            i = hepi.Input(\n",
    "                hepi.Order.LO if test_lo else hepi.Order.aNNLO_PLUS_NNLL,\n",
    "                energy,\n",
    "                pa,\n",
    "                pb,\n",
    "                param,\n",
    "                \"PDF4LHC21_40\",\n",
    "                \"PDF4LHC21_40\",\n",
    "                1.0,\n",
    "                1.0,\n",
    "                id=\"0.0.0\",\n",
    "                precision=0.001,\n",
    "                max_iters=50,\n",
    "            )\n",
    "            li = [i]\n",
    "            li = hepi.masses_scan(\n",
    "                li,\n",
    "                [\n",
    "                    1000022,\n",
    "                    1000023,\n",
    "                    1000024,\n",
    "                ],\n",
    "                range(100, 1510, 100),\n",
    "                negate=[1000022],\n",
    "            )\n",
    "            if not test_lo:\n",
    "                li = hepi.seven_point_scan(li)\n",
    "                li = hepi.pdf_scan(li)\n",
    "                # li = hepi.change_where(li, {\"precision\": 0.0001, \"max_iters\": 200}, pdfset_nlo=0)\n",
    "                rs_dl = rs.run(li, skip=True, run=False, parse=False)\n",
    "            else:\n",
    "                rs_dl = rs.run(li, skip=False, run=True, parse=True)\n",
    "                hepi.mass_plot(rs_dl,\"LO\",1000023,show=True,interpolator='exp')"
   ]
  },
  {
   "cell_type": "markdown",
   "id": "c10932c6",
   "metadata": {},
   "source": [
    "# aNNLO+NNLL sleptons"
   ]
  },
  {
   "cell_type": "code",
   "execution_count": null,
   "id": "a67dfa0b",
   "metadata": {
    "scrolled": false
   },
   "outputs": [],
   "source": [
    "params = [\n",
    "    \"sleptons.slha\",\n",
    "]\n",
    "pss = [\n",
    "    (+1000011, -1000011),  # l_L^+ l_L^-\n",
    "    (+2000011, -2000011),  # l_R^+ l_R^-\n",
    "    (+1000015, -1000015),  # l_1^+ l_1^-\n",
    "]\n",
    "for energy in [13000, 13600]:\n",
    "    for pa, pb in pss:\n",
    "        hepi.set_output_dir(\"output_\" + str(energy) + \"_sleptons_\" + str(pa) + \"_\" + str(pb) +\"/\")\n",
    "        rs.default_resummino_runner.set_output_dir(hepi.get_output_dir())\n",
    "        for param in params:\n",
    "            i = hepi.Input(\n",
    "                hepi.Order.LO if test_lo else hepi.Order.aNNLO_PLUS_NNLL,\n",
    "                energy,\n",
    "                pa,\n",
    "                pb,\n",
    "                param,\n",
    "                \"PDF4LHC21_40\",\n",
    "                \"PDF4LHC21_40\",\n",
    "                1.0,\n",
    "                1.0,\n",
    "                id=\"0.0.0\",\n",
    "                precision=0.001,\n",
    "                max_iters=50,\n",
    "            )\n",
    "            li = [i]\n",
    "            li = hepi.masses_scan(\n",
    "                li,\n",
    "                [\n",
    "                    1000011,\n",
    "                    2000011,\n",
    "                    1000012,\n",
    "                    1000013,\n",
    "                    2000013,\n",
    "                    1000014,\n",
    "                    1000015,\n",
    "                    2000015,\n",
    "                    1000016,\n",
    "                ],\n",
    "                range(100, 1010, 100),\n",
    "            )\n",
    "            if not test_lo:\n",
    "                li = hepi.seven_point_scan(li)\n",
    "                li = hepi.pdf_scan(li)\n",
    "                # li = hepi.change_where(li, {\"precision\": 0.0001, \"max_iters\": 200}, pdfset_nlo=0)\n",
    "                rs_dl = rs.run(li, skip=True, run=False, parse=False)\n",
    "            else:\n",
    "                rs_dl = rs.run(li, skip=False, run=True, parse=True)\n",
    "                hepi.mass_plot(rs_dl,\"LO\",1000011,show=True,interpolator='exp')"
   ]
  },
  {
   "cell_type": "markdown",
   "id": "439fcbaa",
   "metadata": {},
   "source": [
    "# aNNLO+NNLL hino non-degenerate"
   ]
  },
  {
   "cell_type": "code",
   "execution_count": null,
   "id": "30e9708b",
   "metadata": {
    "scrolled": false
   },
   "outputs": [],
   "source": [
    "params = [\n",
    "    \"higgsino_slha_C1C1.slha\",\n",
    "]\n",
    "pss = [\n",
    "    ( 1000022, +1000024),  # N2C1p\n",
    "    ( 1000022, -1000024),  # N2C1m\n",
    "    (+1000024, -1000024),  # C1pC1m\n",
    "    ( 1000022,  1000023),  # N2N1\n",
    "]\n",
    "import urllib\n",
    "\n",
    "dl = hepi.load(\n",
    "    urllib.request.urlopen(\n",
    "        \"https://raw.githubusercontent.com/APN-Pucky/xsec/master/json/pp13_hinosplit_N2N1_NLO%2BNLL.json\"\n",
    "    ),\n",
    "    dimensions=2,\n",
    ")\n",
    "N1 = dl[\"N1\"]\n",
    "N2 = dl[\"N2\"]\n",
    "NX = dl[\"N1\"] / 2 + dl[\"N2\"] / 2\n",
    "for energy in [13000, 13600]:\n",
    "    for pa, pb in pss:\n",
    "        # save to different folders to have some substructure\n",
    "        hepi.set_output_dir(\n",
    "            \"output_\" + str(energy) + \"_hino_nondeg_\" + str(pa) + \"_\" + str(pb) + \"/\"\n",
    "        )\n",
    "        rs.default_resummino_runner.set_output_dir(hepi.get_output_dir())\n",
    "        for param in params:\n",
    "            i = hepi.Input(\n",
    "                hepi.Order.LO if test_lo else hepi.Order.aNNLO_PLUS_NNLL,\n",
    "                energy,\n",
    "                pa,\n",
    "                pb,\n",
    "                param,\n",
    "                \"PDF4LHC21_40\",\n",
    "                \"PDF4LHC21_40\",\n",
    "                1.0,\n",
    "                1.0,\n",
    "                id=\"0.0.0\",\n",
    "                precision=0.001,\n",
    "                max_iters=50,\n",
    "            )\n",
    "            li = [i]\n",
    "            li = hepi.slha_scan_rel(\n",
    "                li,\n",
    "                lambda r: [\n",
    "                    [\"MASS\", 1000022, N1[r]],\n",
    "                    [\"MASS\", 1000023, -N2[r]],\n",
    "                    [\"MASS\", 1000024, NX[r]],\n",
    "                ],\n",
    "                range(len(N1)),\n",
    "            )\n",
    "            if not test_lo:\n",
    "                li = hepi.seven_point_scan(li)\n",
    "                li = hepi.pdf_scan(li)\n",
    "                # li = hepi.change_where(li, {\"precision\": 0.0001, \"max_iters\": 200}, pdfset_nlo=0)\n",
    "                rs_dl = rs.run(li, skip=True, run=False, parse=False)\n",
    "            else:\n",
    "                rs_dl = rs.run(li, skip=True, run=True, parse=True)\n",
    "                hepi.mapplot(rs_dl,\"MASS_1000022\",\"MASS_1000023\",\"LO\",xaxis=\"$m_{\\\\tilde{\\\\chi}_1^0}$ [GeV]\",yaxis=\"$m_{\\\\tilde{\\\\chi}_2^0}$ [GeV]\" , zaxis=\"$\\\\sigma_{\\\\mathrm{NLO+NLL}}$ [pb]\")"
   ]
  },
  {
   "cell_type": "code",
   "execution_count": null,
   "id": "91e7d27c",
   "metadata": {},
   "outputs": [],
   "source": []
  }
 ],
 "metadata": {
  "kernelspec": {
   "display_name": "Python 3",
   "language": "python",
   "name": "python3"
  },
  "language_info": {
   "codemirror_mode": {
    "name": "ipython",
    "version": 3
   },
   "file_extension": ".py",
   "mimetype": "text/x-python",
   "name": "python",
   "nbconvert_exporter": "python",
   "pygments_lexer": "ipython3",
   "version": "3.8.13"
  }
 },
 "nbformat": 4,
 "nbformat_minor": 5
}
