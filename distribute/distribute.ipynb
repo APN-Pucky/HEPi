{
 "cells": [
  {
   "cell_type": "markdown",
   "id": "92353069",
   "metadata": {},
   "source": [
    "# Scenarios\n",
    "\n",
    "The scenarios are taken from https://twiki.cern.ch/twiki/bin/view/LHCPhysics/SUSYCrossSections.\n",
    "\n",
    "Modifications:\n",
    "-   we set the STAUMIX values to maximally mixed for sleptons\n",
    "-   we manually set the massses of all particles tagged with an @a or {M...} "
   ]
  },
  {
   "cell_type": "code",
   "execution_count": 2,
   "id": "6c1a697f",
   "metadata": {},
   "outputs": [
    {
     "name": "stdout",
     "output_type": "stream",
     "text": [
      "0.1.8.3+dirty\n",
      "~/git/resummino\n"
     ]
    },
    {
     "data": {
      "application/javascript": [
       "\n",
       "            setTimeout(function() {\n",
       "                var nbb_cell_id = 2;\n",
       "                var nbb_unformatted_code = \"%load_ext nb_black\\nimport hepi\\n\\n\\nprint(hepi.__version__)\\nimport smpl\\nimport numpy as np\\nimport hepi.resummino as rs\\nimport hepi.util as util\\nimport matplotlib.pyplot as plt\\n\\nrs.set_path(\\\"~/git/resummino\\\")\\nprint(rs.get_path())\";\n",
       "                var nbb_formatted_code = \"%load_ext nb_black\\nimport hepi\\n\\n\\nprint(hepi.__version__)\\nimport smpl\\nimport numpy as np\\nimport hepi.resummino as rs\\nimport hepi.util as util\\nimport matplotlib.pyplot as plt\\n\\nrs.set_path(\\\"~/git/resummino\\\")\\nprint(rs.get_path())\";\n",
       "                var nbb_cells = Jupyter.notebook.get_cells();\n",
       "                for (var i = 0; i < nbb_cells.length; ++i) {\n",
       "                    if (nbb_cells[i].input_prompt_number == nbb_cell_id) {\n",
       "                        if (nbb_cells[i].get_text() == nbb_unformatted_code) {\n",
       "                             nbb_cells[i].set_text(nbb_formatted_code);\n",
       "                        }\n",
       "                        break;\n",
       "                    }\n",
       "                }\n",
       "            }, 500);\n",
       "            "
      ],
      "text/plain": [
       "<IPython.core.display.Javascript object>"
      ]
     },
     "metadata": {},
     "output_type": "display_data"
    }
   ],
   "source": [
    "%load_ext nb_black\n",
    "import hepi\n",
    "\n",
    "\n",
    "print(hepi.__version__)\n",
    "import smpl\n",
    "import numpy as np\n",
    "import hepi.resummino as rs\n",
    "import hepi.util as util\n",
    "import matplotlib.pyplot as plt\n",
    "\n",
    "rs.set_path(\"~/git/resummino\")\n",
    "print(rs.get_path())"
   ]
  },
  {
   "cell_type": "markdown",
   "id": "9c261ba6",
   "metadata": {},
   "source": [
    "# aNNLO+NNLL wino\n"
   ]
  },
  {
   "cell_type": "code",
   "execution_count": 3,
   "id": "e050dbc9",
   "metadata": {},
   "outputs": [
    {
     "name": "stderr",
     "output_type": "stream",
     "text": [
      "/home/apn/.local/lib/python3.8/site-packages/hepi/input.py:283: RuntimeWarning: Could not set new central scale to average of masses.\n",
      "  warnings.warn(\"Could not set new central scale to average of masses.\",\n"
     ]
    },
    {
     "name": "stdout",
     "output_type": "stream",
     "text": [
      "Running: 20437 jobs\n",
      "Running: 20437 jobs\n",
      "Running: 20437 jobs\n",
      "Running: 20437 jobs\n",
      "Running: 20437 jobs\n",
      "Running: 20437 jobs\n"
     ]
    },
    {
     "data": {
      "application/javascript": [
       "\n",
       "            setTimeout(function() {\n",
       "                var nbb_cell_id = 3;\n",
       "                var nbb_unformatted_code = \"params = [\\n    \\\"wino.slha\\\",\\n]\\npss = [\\n    (1000022, +1000024),  # N1C1p\\n    (1000022, -1000024),  # N1C1m\\n    (+1000024, -1000024),  # C1pC1m\\n]\\nfor energy in [13000, 13600]:\\n    for pa, pb in pss:\\n        hepi.set_output_dir(\\n            \\\"output_\\\" + str(energy) + \\\"_wino_\\\" + str(pa) + \\\"_\\\" + str(pb) + \\\" /\\\"\\n        )\\n        rs.default_resummino_runner.set_output_dir(hepi.get_output_dir())\\n        for param in params:\\n            i = hepi.Input(\\n                hepi.Order.aNNLO_PLUS_NNLL,\\n                energy,\\n                pa,\\n                pb,\\n                param,\\n                \\\"PDF4LHC21_mc\\\",\\n                \\\"PDF4LHC21_mc\\\",\\n                1.0,\\n                1.0,\\n                id=\\\"0.0.0\\\",\\n                precision=0.001,\\n                max_iters=100,\\n            )\\n            li = [i]\\n            li = hepi.masses_scan(\\n                li,\\n                [\\n                    1000022,\\n                    1000023,\\n                    1000024,\\n                ],\\n                range(100, 2010, 10),\\n            )\\n            li = hepi.seven_point_scan(li)\\n            li = hepi.pdf_scan(li)\\n            # li = hepi.change_where(li, {\\\"precision\\\": 0.0001, \\\"max_iters\\\": 200}, pdfset_nlo=0)\\n            rs_dl = rs.run(li, skip=True, run=False, parse=False)\";\n",
       "                var nbb_formatted_code = \"params = [\\n    \\\"wino.slha\\\",\\n]\\npss = [\\n    (1000022, +1000024),  # N1C1p\\n    (1000022, -1000024),  # N1C1m\\n    (+1000024, -1000024),  # C1pC1m\\n]\\nfor energy in [13000, 13600]:\\n    for pa, pb in pss:\\n        hepi.set_output_dir(\\n            \\\"output_\\\" + str(energy) + \\\"_wino_\\\" + str(pa) + \\\"_\\\" + str(pb) + \\\" /\\\"\\n        )\\n        rs.default_resummino_runner.set_output_dir(hepi.get_output_dir())\\n        for param in params:\\n            i = hepi.Input(\\n                hepi.Order.aNNLO_PLUS_NNLL,\\n                energy,\\n                pa,\\n                pb,\\n                param,\\n                \\\"PDF4LHC21_mc\\\",\\n                \\\"PDF4LHC21_mc\\\",\\n                1.0,\\n                1.0,\\n                id=\\\"0.0.0\\\",\\n                precision=0.001,\\n                max_iters=100,\\n            )\\n            li = [i]\\n            li = hepi.masses_scan(\\n                li,\\n                [\\n                    1000022,\\n                    1000023,\\n                    1000024,\\n                ],\\n                range(100, 2010, 10),\\n            )\\n            li = hepi.seven_point_scan(li)\\n            li = hepi.pdf_scan(li)\\n            # li = hepi.change_where(li, {\\\"precision\\\": 0.0001, \\\"max_iters\\\": 200}, pdfset_nlo=0)\\n            rs_dl = rs.run(li, skip=True, run=False, parse=False)\";\n",
       "                var nbb_cells = Jupyter.notebook.get_cells();\n",
       "                for (var i = 0; i < nbb_cells.length; ++i) {\n",
       "                    if (nbb_cells[i].input_prompt_number == nbb_cell_id) {\n",
       "                        if (nbb_cells[i].get_text() == nbb_unformatted_code) {\n",
       "                             nbb_cells[i].set_text(nbb_formatted_code);\n",
       "                        }\n",
       "                        break;\n",
       "                    }\n",
       "                }\n",
       "            }, 500);\n",
       "            "
      ],
      "text/plain": [
       "<IPython.core.display.Javascript object>"
      ]
     },
     "metadata": {},
     "output_type": "display_data"
    }
   ],
   "source": [
    "params = [\n",
    "    \"wino.slha\",\n",
    "]\n",
    "pss = [\n",
    "    ( 1000022, +1000024),  # N1C1p\n",
    "    ( 1000022, -1000024),  # N1C1m\n",
    "    (+1000024, -1000024),  # C1pC1m\n",
    "]\n",
    "for energy in [13000, 13600]:\n",
    "    for pa, pb in pss:\n",
    "        hepi.set_output_dir(\n",
    "            \"output_\" + str(energy) + \"_wino_\" + str(pa) + \"_\" + str(pb) + \" /\"\n",
    "        )\n",
    "        rs.default_resummino_runner.set_output_dir(hepi.get_output_dir())\n",
    "        for param in params:\n",
    "            i = hepi.Input(\n",
    "                hepi.Order.aNNLO_PLUS_NNLL,\n",
    "                energy,\n",
    "                pa,\n",
    "                pb,\n",
    "                param,\n",
    "                \"PDF4LHC21_mc\",\n",
    "                \"PDF4LHC21_mc\",\n",
    "                1.0,\n",
    "                1.0,\n",
    "                id=\"0.0.0\",\n",
    "                precision=0.001,\n",
    "                max_iters=100,\n",
    "            )\n",
    "            li = [i]\n",
    "            li = hepi.masses_scan(\n",
    "                li,\n",
    "                [\n",
    "                    1000022,\n",
    "                    1000023,\n",
    "                    1000024,\n",
    "                ],\n",
    "                range(100, 2010, 10),\n",
    "            )\n",
    "            li = hepi.seven_point_scan(li)\n",
    "            li = hepi.pdf_scan(li)\n",
    "            # li = hepi.change_where(li, {\"precision\": 0.0001, \"max_iters\": 200}, pdfset_nlo=0)\n",
    "            rs_dl = rs.run(li, skip=True, run=False, parse=False)"
   ]
  },
  {
   "cell_type": "markdown",
   "id": "da027400",
   "metadata": {},
   "source": [
    "# aNNLO+NNLL hino degenerate\n"
   ]
  },
  {
   "cell_type": "code",
   "execution_count": 4,
   "id": "b344fabd",
   "metadata": {},
   "outputs": [
    {
     "name": "stdout",
     "output_type": "stream",
     "text": [
      "Running: 15087 jobs\n",
      "Running: 15087 jobs\n",
      "Running: 15087 jobs\n",
      "Running: 15087 jobs\n",
      "Running: 15087 jobs\n",
      "Running: 15087 jobs\n",
      "Running: 15087 jobs\n",
      "Running: 15087 jobs\n"
     ]
    },
    {
     "data": {
      "application/javascript": [
       "\n",
       "            setTimeout(function() {\n",
       "                var nbb_cell_id = 4;\n",
       "                var nbb_unformatted_code = \"params = [\\n    \\\"hino.slha\\\",\\n]\\npss = [\\n    ( 1000022, +1000024), # N2C1p\\n    ( 1000022, -1000024), # N2C1m\\n    (+1000024, -1000024), # C1pC2m\\n    ( 1000022,  1000023), # N2N1\\n]\\nfor energy in [13000, 13600]:\\n    for pa, pb in pss:\\n        # save to different folders to have some substructure\\n        hepi.set_output_dir(\\\"output_\\\" + str(energy) + \\\"_hino_deg_\\\" + str(pa) + \\\"_\\\" + str(pb)  +\\\"/\\\")\\n        rs.default_resummino_runner.set_output_dir(hepi.get_output_dir())\\n        for param in params:\\n            i = hepi.Input(\\n                hepi.Order.aNNLO_PLUS_NNLL,\\n                energy,\\n                pa,\\n                pb,\\n                param,\\n                \\\"PDF4LHC21_mc\\\",\\n                \\\"PDF4LHC21_mc\\\",\\n                1.0,\\n                1.0,\\n                id=\\\"0.0.0\\\",\\n                precision=0.001,\\n                max_iters=100,\\n            )\\n            li = [i]\\n            li = hepi.masses_scan(\\n                li,\\n                [\\n                    1000022,\\n                    1000023,\\n                    1000024,\\n                ],\\n                range(100, 1510, 10),\\n                negate=[1000022],\\n            )\\n            li = hepi.seven_point_scan(li)\\n            li = hepi.pdf_scan(li)\\n            # li = hepi.change_where(li, {\\\"precision\\\": 0.0001, \\\"max_iters\\\": 200}, pdfset_nlo=0)\\n            rs_dl = rs.run(li, skip=True, run=False, parse=False)\";\n",
       "                var nbb_formatted_code = \"params = [\\n    \\\"hino.slha\\\",\\n]\\npss = [\\n    (1000022, +1000024),  # N2C1p\\n    (1000022, -1000024),  # N2C1m\\n    (+1000024, -1000024),  # C1pC2m\\n    (1000022, 1000023),  # N2N1\\n]\\nfor energy in [13000, 13600]:\\n    for pa, pb in pss:\\n        # save to different folders to have some substructure\\n        hepi.set_output_dir(\\n            \\\"output_\\\" + str(energy) + \\\"_hino_deg_\\\" + str(pa) + \\\"_\\\" + str(pb) + \\\"/\\\"\\n        )\\n        rs.default_resummino_runner.set_output_dir(hepi.get_output_dir())\\n        for param in params:\\n            i = hepi.Input(\\n                hepi.Order.aNNLO_PLUS_NNLL,\\n                energy,\\n                pa,\\n                pb,\\n                param,\\n                \\\"PDF4LHC21_mc\\\",\\n                \\\"PDF4LHC21_mc\\\",\\n                1.0,\\n                1.0,\\n                id=\\\"0.0.0\\\",\\n                precision=0.001,\\n                max_iters=100,\\n            )\\n            li = [i]\\n            li = hepi.masses_scan(\\n                li,\\n                [\\n                    1000022,\\n                    1000023,\\n                    1000024,\\n                ],\\n                range(100, 1510, 10),\\n                negate=[1000022],\\n            )\\n            li = hepi.seven_point_scan(li)\\n            li = hepi.pdf_scan(li)\\n            # li = hepi.change_where(li, {\\\"precision\\\": 0.0001, \\\"max_iters\\\": 200}, pdfset_nlo=0)\\n            rs_dl = rs.run(li, skip=True, run=False, parse=False)\";\n",
       "                var nbb_cells = Jupyter.notebook.get_cells();\n",
       "                for (var i = 0; i < nbb_cells.length; ++i) {\n",
       "                    if (nbb_cells[i].input_prompt_number == nbb_cell_id) {\n",
       "                        if (nbb_cells[i].get_text() == nbb_unformatted_code) {\n",
       "                             nbb_cells[i].set_text(nbb_formatted_code);\n",
       "                        }\n",
       "                        break;\n",
       "                    }\n",
       "                }\n",
       "            }, 500);\n",
       "            "
      ],
      "text/plain": [
       "<IPython.core.display.Javascript object>"
      ]
     },
     "metadata": {},
     "output_type": "display_data"
    }
   ],
   "source": [
    "params = [\n",
    "    \"hino.slha\",\n",
    "]\n",
    "pss = [\n",
    "    (1000022, +1000024),  # N2C1p\n",
    "    (1000022, -1000024),  # N2C1m\n",
    "    (+1000024, -1000024),  # C1pC2m\n",
    "    (1000022, 1000023),  # N2N1\n",
    "]\n",
    "for energy in [13000, 13600]:\n",
    "    for pa, pb in pss:\n",
    "        # save to different folders to have some substructure\n",
    "        hepi.set_output_dir(\n",
    "            \"output_\" + str(energy) + \"_hino_deg_\" + str(pa) + \"_\" + str(pb) + \"/\"\n",
    "        )\n",
    "        rs.default_resummino_runner.set_output_dir(hepi.get_output_dir())\n",
    "        for param in params:\n",
    "            i = hepi.Input(\n",
    "                hepi.Order.aNNLO_PLUS_NNLL,\n",
    "                energy,\n",
    "                pa,\n",
    "                pb,\n",
    "                param,\n",
    "                \"PDF4LHC21_mc\",\n",
    "                \"PDF4LHC21_mc\",\n",
    "                1.0,\n",
    "                1.0,\n",
    "                id=\"0.0.0\",\n",
    "                precision=0.001,\n",
    "                max_iters=100,\n",
    "            )\n",
    "            li = [i]\n",
    "            li = hepi.masses_scan(\n",
    "                li,\n",
    "                [\n",
    "                    1000022,\n",
    "                    1000023,\n",
    "                    1000024,\n",
    "                ],\n",
    "                range(100, 1510, 10),\n",
    "                negate=[1000022],\n",
    "            )\n",
    "            li = hepi.seven_point_scan(li)\n",
    "            li = hepi.pdf_scan(li)\n",
    "            # li = hepi.change_where(li, {\"precision\": 0.0001, \"max_iters\": 200}, pdfset_nlo=0)\n",
    "            rs_dl = rs.run(li, skip=True, run=False, parse=False)"
   ]
  },
  {
   "cell_type": "markdown",
   "id": "439fcbaa",
   "metadata": {},
   "source": [
    "# aNNLO+NNLL hino non-degenerate"
   ]
  },
  {
   "cell_type": "code",
   "execution_count": 12,
   "id": "30e9708b",
   "metadata": {},
   "outputs": [
    {
     "name": "stdout",
     "output_type": "stream",
     "text": [
      "Running: 7811 jobs\n",
      "Running: 7811 jobs\n",
      "Running: 7811 jobs\n",
      "Running: 7811 jobs\n",
      "Running: 7811 jobs\n",
      "Running: 7811 jobs\n",
      "Running: 7811 jobs\n",
      "Running: 7811 jobs\n"
     ]
    },
    {
     "data": {
      "application/javascript": [
       "\n",
       "            setTimeout(function() {\n",
       "                var nbb_cell_id = 12;\n",
       "                var nbb_unformatted_code = \"params = [\\n    \\\"higgsino_slha_C1C1.slha\\\",\\n]\\npss = [\\n    (1000022, +1000024),  # N2C1p\\n    (1000022, -1000024),  # N2C1m\\n    (+1000024, -1000024),  # C1pC1m\\n    (1000022, 1000023),  # N2N1\\n]\\nimport urllib\\n\\ndl = hepi.load(\\n    urllib.request.urlopen(\\n        \\\"https://raw.githubusercontent.com/fuenfundachtzig/xsec/master/json/pp13_hinosplit_N2N1_NLO%2BNLL.json\\\"\\n    ),\\n    dimensions=2,\\n)\\nN1 = dl[\\\"N1\\\"]\\nN2 = dl[\\\"N2\\\"]\\nNX = dl[\\\"N1\\\"] / 2 + dl[\\\"N2\\\"] / 2\\nfor energy in [13000, 13600]:\\n    for pa, pb in pss:\\n        # save to different folders to have some substructure\\n        hepi.set_output_dir(\\n            \\\"output_\\\" + str(energy) + \\\"_hino_nondeg_\\\" + str(pa) + \\\"_\\\" + str(pb) + \\\"/\\\"\\n        )\\n        rs.default_resummino_runner.set_output_dir(hepi.get_output_dir())\\n        for param in params:\\n            i = hepi.Input(\\n                hepi.Order.aNNLO_PLUS_NNLL,\\n                energy,\\n                pa,\\n                pb,\\n                param,\\n                \\\"PDF4LHC21_mc\\\",\\n                \\\"PDF4LHC21_mc\\\",\\n                1.0,\\n                1.0,\\n                id=\\\"0.0.0\\\",\\n                precision=0.001,\\n                max_iters=100,\\n            )\\n            li = [i]\\n            li = hepi.slha_scan_rel(\\n                li,\\n                lambda r: [\\n                    [\\\"MASS\\\", 1000022, N1[r]],\\n                    [\\\"MASS\\\", 1000023, -N2[r]],\\n                    [\\\"MASS\\\", 1000024, NX[r]],\\n                ],\\n                range(len(N1)),\\n            )\\n\\n            li = hepi.seven_point_scan(li)\\n            li = hepi.pdf_scan(li)\\n            # li = hepi.change_where(li, {\\\"precision\\\": 0.0001, \\\"max_iters\\\": 200}, pdfset_nlo=0)\\n            rs_dl = rs.run(li, skip=True, run=False, parse=False)\";\n",
       "                var nbb_formatted_code = \"params = [\\n    \\\"higgsino_slha_C1C1.slha\\\",\\n]\\npss = [\\n    (1000022, +1000024),  # N2C1p\\n    (1000022, -1000024),  # N2C1m\\n    (+1000024, -1000024),  # C1pC1m\\n    (1000022, 1000023),  # N2N1\\n]\\nimport urllib\\n\\ndl = hepi.load(\\n    urllib.request.urlopen(\\n        \\\"https://raw.githubusercontent.com/fuenfundachtzig/xsec/master/json/pp13_hinosplit_N2N1_NLO%2BNLL.json\\\"\\n    ),\\n    dimensions=2,\\n)\\nN1 = dl[\\\"N1\\\"]\\nN2 = dl[\\\"N2\\\"]\\nNX = dl[\\\"N1\\\"] / 2 + dl[\\\"N2\\\"] / 2\\nfor energy in [13000, 13600]:\\n    for pa, pb in pss:\\n        # save to different folders to have some substructure\\n        hepi.set_output_dir(\\n            \\\"output_\\\" + str(energy) + \\\"_hino_nondeg_\\\" + str(pa) + \\\"_\\\" + str(pb) + \\\"/\\\"\\n        )\\n        rs.default_resummino_runner.set_output_dir(hepi.get_output_dir())\\n        for param in params:\\n            i = hepi.Input(\\n                hepi.Order.aNNLO_PLUS_NNLL,\\n                energy,\\n                pa,\\n                pb,\\n                param,\\n                \\\"PDF4LHC21_mc\\\",\\n                \\\"PDF4LHC21_mc\\\",\\n                1.0,\\n                1.0,\\n                id=\\\"0.0.0\\\",\\n                precision=0.001,\\n                max_iters=100,\\n            )\\n            li = [i]\\n            li = hepi.slha_scan_rel(\\n                li,\\n                lambda r: [\\n                    [\\\"MASS\\\", 1000022, N1[r]],\\n                    [\\\"MASS\\\", 1000023, -N2[r]],\\n                    [\\\"MASS\\\", 1000024, NX[r]],\\n                ],\\n                range(len(N1)),\\n            )\\n\\n            li = hepi.seven_point_scan(li)\\n            li = hepi.pdf_scan(li)\\n            # li = hepi.change_where(li, {\\\"precision\\\": 0.0001, \\\"max_iters\\\": 200}, pdfset_nlo=0)\\n            rs_dl = rs.run(li, skip=True, run=False, parse=False)\";\n",
       "                var nbb_cells = Jupyter.notebook.get_cells();\n",
       "                for (var i = 0; i < nbb_cells.length; ++i) {\n",
       "                    if (nbb_cells[i].input_prompt_number == nbb_cell_id) {\n",
       "                        if (nbb_cells[i].get_text() == nbb_unformatted_code) {\n",
       "                             nbb_cells[i].set_text(nbb_formatted_code);\n",
       "                        }\n",
       "                        break;\n",
       "                    }\n",
       "                }\n",
       "            }, 500);\n",
       "            "
      ],
      "text/plain": [
       "<IPython.core.display.Javascript object>"
      ]
     },
     "metadata": {},
     "output_type": "display_data"
    }
   ],
   "source": [
    "params = [\n",
    "    \"higgsino_slha_C1C1.slha\",\n",
    "]\n",
    "pss = [\n",
    "    ( 1000022, +1000024),  # N2C1p\n",
    "    ( 1000022, -1000024),  # N2C1m\n",
    "    (+1000024, -1000024),  # C1pC1m\n",
    "    ( 1000022,  1000023),  # N2N1\n",
    "]\n",
    "import urllib\n",
    "\n",
    "dl = hepi.load(\n",
    "    urllib.request.urlopen(\n",
    "        \"https://raw.githubusercontent.com/fuenfundachtzig/xsec/master/json/pp13_hinosplit_N2N1_NLO%2BNLL.json\"\n",
    "    ),\n",
    "    dimensions=2,\n",
    ")\n",
    "N1 = dl[\"N1\"]\n",
    "N2 = dl[\"N2\"]\n",
    "NX = dl[\"N1\"] / 2 + dl[\"N2\"] / 2\n",
    "for energy in [13000, 13600]:\n",
    "    for pa, pb in pss:\n",
    "        # save to different folders to have some substructure\n",
    "        hepi.set_output_dir(\n",
    "            \"output_\" + str(energy) + \"_hino_nondeg_\" + str(pa) + \"_\" + str(pb) + \"/\"\n",
    "        )\n",
    "        rs.default_resummino_runner.set_output_dir(hepi.get_output_dir())\n",
    "        for param in params:\n",
    "            i = hepi.Input(\n",
    "                hepi.Order.aNNLO_PLUS_NNLL,\n",
    "                energy,\n",
    "                pa,\n",
    "                pb,\n",
    "                param,\n",
    "                \"PDF4LHC21_mc\",\n",
    "                \"PDF4LHC21_mc\",\n",
    "                1.0,\n",
    "                1.0,\n",
    "                id=\"0.0.0\",\n",
    "                precision=0.001,\n",
    "                max_iters=100,\n",
    "            )\n",
    "            li = [i]\n",
    "            li = hepi.slha_scan_rel(\n",
    "                li,\n",
    "                lambda r: [\n",
    "                    [\"MASS\", 1000022, N1[r]],\n",
    "                    [\"MASS\", 1000023, -N2[r]],\n",
    "                    [\"MASS\", 1000024, NX[r]],\n",
    "                ],\n",
    "                range(len(N1)),\n",
    "            )\n",
    "\n",
    "            li = hepi.seven_point_scan(li)\n",
    "            li = hepi.pdf_scan(li)\n",
    "            # li = hepi.change_where(li, {\"precision\": 0.0001, \"max_iters\": 200}, pdfset_nlo=0)\n",
    "            rs_dl = rs.run(li, skip=True, run=False, parse=False)"
   ]
  },
  {
   "cell_type": "markdown",
   "id": "c10932c6",
   "metadata": {},
   "source": [
    "# aNNLO+NNLL sleptons"
   ]
  },
  {
   "cell_type": "code",
   "execution_count": 4,
   "id": "a67dfa0b",
   "metadata": {
    "scrolled": false
   },
   "outputs": [
    {
     "name": "stdout",
     "output_type": "stream",
     "text": [
      "Running: 9737 jobs\n",
      "Running: 9737 jobs\n",
      "Running: 9737 jobs\n",
      "Running: 9737 jobs\n",
      "Running: 9737 jobs\n",
      "Running: 9737 jobs\n"
     ]
    },
    {
     "data": {
      "application/javascript": [
       "\n",
       "            setTimeout(function() {\n",
       "                var nbb_cell_id = 4;\n",
       "                var nbb_unformatted_code = \"params = [\\n    \\\"sleptons.slha\\\",\\n]\\npss = [\\n    (+1000011, -1000011),  # l_L^+ l_L^-\\n    (+2000011, -2000011),  # l_R^+ l_R^-\\n    (+1000015, -1000015),  # l_1^+ l_1^-\\n]\\nfor energy in [13000, 13600]:\\n    hepi.set_output_dir(\\\"output_\\\" + str(energy) + \\\"_sleptons/\\\")\\n    rs.default_resummino_runner.set_output_dir(hepi.get_output_dir())\\n    for pa, pb in pss:\\n        for param in params:\\n            i = hepi.Input(\\n                hepi.Order.aNNLO_PLUS_NNLL,\\n                energy,\\n                pa,\\n                pb,\\n                param,\\n                \\\"PDF4LHC21_mc\\\",\\n                \\\"PDF4LHC21_mc\\\",\\n                1.0,\\n                1.0,\\n                id=\\\"0.0.0\\\",\\n                precision=0.001,\\n                max_iters=100,\\n            )\\n            li = [i]\\n            li = hepi.masses_scan(\\n                li,\\n                [\\n                    1000011,\\n                    2000011,\\n                    1000012,\\n                    1000013,\\n                    2000013,\\n                    1000014,\\n                    1000015,\\n                    2000015,\\n                    1000016,\\n                ],\\n                range(100, 1010, 10),\\n            )\\n            li = hepi.seven_point_scan(li)\\n            li = hepi.pdf_scan(li)\\n            # li = hepi.change_where(li, {\\\"precision\\\": 0.0001, \\\"max_iters\\\": 200}, pdfset_nlo=0)\\n            rs_dl = rs.run(li, skip=True, run=False, parse=False)\";\n",
       "                var nbb_formatted_code = \"params = [\\n    \\\"sleptons.slha\\\",\\n]\\npss = [\\n    (+1000011, -1000011),  # l_L^+ l_L^-\\n    (+2000011, -2000011),  # l_R^+ l_R^-\\n    (+1000015, -1000015),  # l_1^+ l_1^-\\n]\\nfor energy in [13000, 13600]:\\n    hepi.set_output_dir(\\\"output_\\\" + str(energy) + \\\"_sleptons/\\\")\\n    rs.default_resummino_runner.set_output_dir(hepi.get_output_dir())\\n    for pa, pb in pss:\\n        for param in params:\\n            i = hepi.Input(\\n                hepi.Order.aNNLO_PLUS_NNLL,\\n                energy,\\n                pa,\\n                pb,\\n                param,\\n                \\\"PDF4LHC21_mc\\\",\\n                \\\"PDF4LHC21_mc\\\",\\n                1.0,\\n                1.0,\\n                id=\\\"0.0.0\\\",\\n                precision=0.001,\\n                max_iters=100,\\n            )\\n            li = [i]\\n            li = hepi.masses_scan(\\n                li,\\n                [\\n                    1000011,\\n                    2000011,\\n                    1000012,\\n                    1000013,\\n                    2000013,\\n                    1000014,\\n                    1000015,\\n                    2000015,\\n                    1000016,\\n                ],\\n                range(100, 1010, 10),\\n            )\\n            li = hepi.seven_point_scan(li)\\n            li = hepi.pdf_scan(li)\\n            # li = hepi.change_where(li, {\\\"precision\\\": 0.0001, \\\"max_iters\\\": 200}, pdfset_nlo=0)\\n            rs_dl = rs.run(li, skip=True, run=False, parse=False)\";\n",
       "                var nbb_cells = Jupyter.notebook.get_cells();\n",
       "                for (var i = 0; i < nbb_cells.length; ++i) {\n",
       "                    if (nbb_cells[i].input_prompt_number == nbb_cell_id) {\n",
       "                        if (nbb_cells[i].get_text() == nbb_unformatted_code) {\n",
       "                             nbb_cells[i].set_text(nbb_formatted_code);\n",
       "                        }\n",
       "                        break;\n",
       "                    }\n",
       "                }\n",
       "            }, 500);\n",
       "            "
      ],
      "text/plain": [
       "<IPython.core.display.Javascript object>"
      ]
     },
     "metadata": {},
     "output_type": "display_data"
    }
   ],
   "source": [
    "params = [\n",
    "    \"sleptons.slha\",\n",
    "]\n",
    "pss = [\n",
    "    (+1000011, -1000011),  # l_L^+ l_L^-\n",
    "    (+2000011, -2000011),  # l_R^+ l_R^-\n",
    "    (+1000015, -1000015),  # l_1^+ l_1^-\n",
    "]\n",
    "for energy in [13000, 13600]:\n",
    "    hepi.set_output_dir(\"output_\" + str(energy) + \"_sleptons/\")\n",
    "    rs.default_resummino_runner.set_output_dir(hepi.get_output_dir())\n",
    "    for pa, pb in pss:\n",
    "        for param in params:\n",
    "            i = hepi.Input(\n",
    "                hepi.Order.aNNLO_PLUS_NNLL,\n",
    "                energy,\n",
    "                pa,\n",
    "                pb,\n",
    "                param,\n",
    "                \"PDF4LHC21_mc\",\n",
    "                \"PDF4LHC21_mc\",\n",
    "                1.0,\n",
    "                1.0,\n",
    "                id=\"0.0.0\",\n",
    "                precision=0.001,\n",
    "                max_iters=100,\n",
    "            )\n",
    "            li = [i]\n",
    "            li = hepi.masses_scan(\n",
    "                li,\n",
    "                [\n",
    "                    1000011,\n",
    "                    2000011,\n",
    "                    1000012,\n",
    "                    1000013,\n",
    "                    2000013,\n",
    "                    1000014,\n",
    "                    1000015,\n",
    "                    2000015,\n",
    "                    1000016,\n",
    "                ],\n",
    "                range(100, 1010, 10),\n",
    "            )\n",
    "            li = hepi.seven_point_scan(li)\n",
    "            li = hepi.pdf_scan(li)\n",
    "            # li = hepi.change_where(li, {\"precision\": 0.0001, \"max_iters\": 200}, pdfset_nlo=0)\n",
    "            rs_dl = rs.run(li, skip=True, run=False, parse=False)"
   ]
  },
  {
   "cell_type": "code",
   "execution_count": null,
   "id": "5a466209",
   "metadata": {},
   "outputs": [],
   "source": []
  }
 ],
 "metadata": {
  "kernelspec": {
   "display_name": "Python 3 (ipykernel)",
   "language": "python",
   "name": "python3"
  },
  "language_info": {
   "codemirror_mode": {
    "name": "ipython",
    "version": 3
   },
   "file_extension": ".py",
   "mimetype": "text/x-python",
   "name": "python",
   "nbconvert_exporter": "python",
   "pygments_lexer": "ipython3",
   "version": "3.8.13"
  }
 },
 "nbformat": 4,
 "nbformat_minor": 5
}
