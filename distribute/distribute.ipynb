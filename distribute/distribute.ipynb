{
 "cells": [
  {
   "cell_type": "code",
   "execution_count": 1,
   "id": "6c1a697f",
   "metadata": {},
   "outputs": [
    {
     "name": "stdout",
     "output_type": "stream",
     "text": [
      "0.1.6.19+dirty\n",
      "~/git/resummino/\n"
     ]
    },
    {
     "data": {
      "application/javascript": [
       "\n",
       "            setTimeout(function() {\n",
       "                var nbb_cell_id = 1;\n",
       "                var nbb_unformatted_code = \"%load_ext nb_black\\nimport hepi\\n\\n\\nprint(hepi.__version__)\\nimport smpl\\nimport numpy as np\\nimport hepi.resummino as rs\\nimport hepi.util as util\\nimport matplotlib.pyplot as plt\\n\\nrs.set_path(\\\"~/git/resummino\\\")\\nprint(rs.get_path())\";\n",
       "                var nbb_formatted_code = \"%load_ext nb_black\\nimport hepi\\n\\n\\nprint(hepi.__version__)\\nimport smpl\\nimport numpy as np\\nimport hepi.resummino as rs\\nimport hepi.util as util\\nimport matplotlib.pyplot as plt\\n\\nrs.set_path(\\\"~/git/resummino\\\")\\nprint(rs.get_path())\";\n",
       "                var nbb_cells = Jupyter.notebook.get_cells();\n",
       "                for (var i = 0; i < nbb_cells.length; ++i) {\n",
       "                    if (nbb_cells[i].input_prompt_number == nbb_cell_id) {\n",
       "                        if (nbb_cells[i].get_text() == nbb_unformatted_code) {\n",
       "                             nbb_cells[i].set_text(nbb_formatted_code);\n",
       "                        }\n",
       "                        break;\n",
       "                    }\n",
       "                }\n",
       "            }, 500);\n",
       "            "
      ],
      "text/plain": [
       "<IPython.core.display.Javascript object>"
      ]
     },
     "metadata": {},
     "output_type": "display_data"
    }
   ],
   "source": [
    "%load_ext nb_black\n",
    "import hepi\n",
    "\n",
    "\n",
    "print(hepi.__version__)\n",
    "import smpl\n",
    "import numpy as np\n",
    "import hepi.resummino as rs\n",
    "import hepi.util as util\n",
    "import matplotlib.pyplot as plt\n",
    "\n",
    "rs.set_path(\"~/git/resummino\")\n",
    "print(rs.get_path())"
   ]
  },
  {
   "cell_type": "markdown",
   "id": "35928a1a",
   "metadata": {},
   "source": [
    "# aNNLO+NNLL wino N2C1"
   ]
  },
  {
   "cell_type": "code",
   "execution_count": 2,
   "id": "f8611906",
   "metadata": {},
   "outputs": [
    {
     "name": "stderr",
     "output_type": "stream",
     "text": [
      "/home/apn/.local/lib/python3.8/site-packages/hepi/input.py:250: RuntimeWarning: Could not set new central scale to average of masses.\n",
      "  warnings.warn(\"Could not set new central scale to average of masses.\",\n"
     ]
    },
    {
     "name": "stdout",
     "output_type": "stream",
     "text": [
      "Running: 8132 jobs\n",
      "Running: 8132 jobs\n",
      "Running: 8132 jobs\n",
      "Running: 8132 jobs\n"
     ]
    },
    {
     "data": {
      "application/javascript": [
       "\n",
       "            setTimeout(function() {\n",
       "                var nbb_cell_id = 2;\n",
       "                var nbb_unformatted_code = \"params = [\\n    \\\"wino_N2C1.in\\\",\\n]\\npss = [\\n    (1000022, +1000024),\\n    (1000022, -1000024),\\n]\\nfor energy in [13000, 13600]:\\n    hepi.set_output_dir(\\\"output_\\\" + str(energy) + \\\"_wino_N2C1/\\\")\\n    for pa, pb in pss:\\n        for param in params:\\n            i = hepi.Input(\\n                hepi.Order.aNNLO_PLUS_NNLL,\\n                energy,\\n                pa,\\n                pb,\\n                param,\\n                \\\"PDF4LHC21_mc\\\",\\n                \\\"PDF4LHC21_mc\\\",\\n                1.0,\\n                1.0,\\n                id=\\\"0.0.0\\\",\\n            )\\n            li = [i]\\n            li = hepi.masses_scan(\\n                li,\\n                [\\n                    1000011,\\n                    2000011,\\n                    1000012,\\n                    1000013,\\n                    2000013,\\n                    1000014,\\n                    1000015,\\n                    2000015,\\n                    1000016,\\n                    1000022,\\n                    1000023,\\n                    1000024,\\n                ],\\n                range(100, 2000, 25),\\n            )\\n            li = hepi.seven_point_scan(li)\\n            li = hepi.pdf_scan(li)\\n            rs_dl = rs.run(li, skip=True, run=False, parse=False)\";\n",
       "                var nbb_formatted_code = \"params = [\\n    \\\"wino_N2C1.in\\\",\\n]\\npss = [\\n    (1000022, +1000024),\\n    (1000022, -1000024),\\n]\\nfor energy in [13000, 13600]:\\n    hepi.set_output_dir(\\\"output_\\\" + str(energy) + \\\"_wino_N2C1/\\\")\\n    for pa, pb in pss:\\n        for param in params:\\n            i = hepi.Input(\\n                hepi.Order.aNNLO_PLUS_NNLL,\\n                energy,\\n                pa,\\n                pb,\\n                param,\\n                \\\"PDF4LHC21_mc\\\",\\n                \\\"PDF4LHC21_mc\\\",\\n                1.0,\\n                1.0,\\n                id=\\\"0.0.0\\\",\\n            )\\n            li = [i]\\n            li = hepi.masses_scan(\\n                li,\\n                [\\n                    1000011,\\n                    2000011,\\n                    1000012,\\n                    1000013,\\n                    2000013,\\n                    1000014,\\n                    1000015,\\n                    2000015,\\n                    1000016,\\n                    1000022,\\n                    1000023,\\n                    1000024,\\n                ],\\n                range(100, 2000, 25),\\n            )\\n            li = hepi.seven_point_scan(li)\\n            li = hepi.pdf_scan(li)\\n            rs_dl = rs.run(li, skip=True, run=False, parse=False)\";\n",
       "                var nbb_cells = Jupyter.notebook.get_cells();\n",
       "                for (var i = 0; i < nbb_cells.length; ++i) {\n",
       "                    if (nbb_cells[i].input_prompt_number == nbb_cell_id) {\n",
       "                        if (nbb_cells[i].get_text() == nbb_unformatted_code) {\n",
       "                             nbb_cells[i].set_text(nbb_formatted_code);\n",
       "                        }\n",
       "                        break;\n",
       "                    }\n",
       "                }\n",
       "            }, 500);\n",
       "            "
      ],
      "text/plain": [
       "<IPython.core.display.Javascript object>"
      ]
     },
     "metadata": {},
     "output_type": "display_data"
    }
   ],
   "source": [
    "params = [\n",
    "    \"wino_N2C1.in\",\n",
    "]\n",
    "pss = [\n",
    "    (1000022, +1000024),\n",
    "    (1000022, -1000024),\n",
    "]\n",
    "for energy in [13000, 13600]:\n",
    "    hepi.set_output_dir(\"output_\" + str(energy) + \"_wino_N2C1/\")\n",
    "    for pa, pb in pss:\n",
    "        for param in params:\n",
    "            i = hepi.Input(\n",
    "                hepi.Order.aNNLO_PLUS_NNLL,\n",
    "                energy,\n",
    "                pa,\n",
    "                pb,\n",
    "                param,\n",
    "                \"PDF4LHC21_mc\",\n",
    "                \"PDF4LHC21_mc\",\n",
    "                1.0,\n",
    "                1.0,\n",
    "                id=\"0.0.0\",\n",
    "                precision=0.001,\n",
    "                max_iters=100\n",
    "            )\n",
    "            li = [i]\n",
    "            li = hepi.\n",
    "            li = hepi.masses_scan(\n",
    "                li,\n",
    "                [\n",
    "                    1000011,\n",
    "                    2000011,\n",
    "                    1000012,\n",
    "                    1000013,\n",
    "                    2000013,\n",
    "                    1000014,\n",
    "                    1000015,\n",
    "                    2000015,\n",
    "                    1000016,\n",
    "                    1000022,\n",
    "                    1000023,\n",
    "                    1000024,\n",
    "                ],\n",
    "                range(100, 2000, 25),\n",
    "            )\n",
    "            li = hepi.seven_point_scan(li)\n",
    "            li = hepi.pdf_scan(li)\n",
    "            li = hepi.change_where(li, {\"precision\" : 0.0001 , \"max_iters\" : 200}, pdfset_nlo=0)\n",
    "            rs_dl = rs.run(li, skip=True, run=False, parse=False)"
   ]
  },
  {
   "cell_type": "code",
   "execution_count": null,
   "id": "4fd91555",
   "metadata": {},
   "outputs": [],
   "source": []
  }
 ],
 "metadata": {
  "kernelspec": {
   "display_name": "Python 3 (ipykernel)",
   "language": "python",
   "name": "python3"
  },
  "language_info": {
   "codemirror_mode": {
    "name": "ipython",
    "version": 3
   },
   "file_extension": ".py",
   "mimetype": "text/x-python",
   "name": "python",
   "nbconvert_exporter": "python",
   "pygments_lexer": "ipython3",
   "version": "3.8.13"
  }
 },
 "nbformat": 4,
 "nbformat_minor": 5
}
