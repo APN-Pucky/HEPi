{
 "cells": [
  {
   "cell_type": "code",
   "execution_count": 1,
   "id": "6c1a697f",
   "metadata": {},
   "outputs": [
    {
     "name": "stdout",
     "output_type": "stream",
     "text": [
      "0.1.4.30+dirty\n",
      "~/git/resummino_test/\n"
     ]
    }
   ],
   "source": [
    "import hepi\n",
    "print(hepi.__version__)\n",
    "import smpl\n",
    "import numpy as np\n",
    "import hepi.resummino as rs\n",
    "import hepi.util as util\n",
    "import matplotlib.pyplot as plt\n",
    "rs.set_path(\"~/git/resummino_test\")\n",
    "print (rs.get_path())"
   ]
  },
  {
   "cell_type": "markdown",
   "id": "ed4ff937",
   "metadata": {},
   "source": [
    "# Single point"
   ]
  },
  {
   "cell_type": "code",
   "execution_count": 22,
   "id": "107ee000",
   "metadata": {},
   "outputs": [
    {
     "name": "stdout",
     "output_type": "stream",
     "text": [
      "1000023 1000024\n",
      "Running: 1 jobs\n",
      "skip1000024 -1000024\n",
      "Running: 1 jobs\n",
      "RESTART 0.010940+/-0.000011 None None ./output/648793e55287fb70d0df2b6a92c6b3ee489afc3182f6b6a751e76dc2360fcd23.out\n",
      "1000023 1000022\n",
      "Running: 1 jobs\n",
      "1000002 1000022\n",
      "Running: 1 jobs\n",
      "RESTART 0.00010573+/-0.00000011 None None ./output/301e35ca1ff5e0413144b1cf740a15e7d26eb13c439a0e8e621d35f1e3ab881e.out\n"
     ]
    },
    {
     "ename": "KeyboardInterrupt",
     "evalue": "",
     "output_type": "error",
     "traceback": [
      "\u001b[0;31m---------------------------------------------------------------------------\u001b[0m",
      "\u001b[0;31mKeyboardInterrupt\u001b[0m                         Traceback (most recent call last)",
      "\u001b[0;32m/tmp/ipykernel_2717/527643606.py\u001b[0m in \u001b[0;36m<module>\u001b[0;34m\u001b[0m\n\u001b[1;32m     14\u001b[0m         \u001b[0;31m#i = hepi.Input(hepi.Order.NLO,13000,pa,pb,param,\"CT14lo\",\"CT14lo\",1., 1.,model_path=model_path,id=\"5\")\u001b[0m\u001b[0;34m\u001b[0m\u001b[0;34m\u001b[0m\u001b[0;34m\u001b[0m\u001b[0m\n\u001b[1;32m     15\u001b[0m         \u001b[0mli\u001b[0m \u001b[0;34m=\u001b[0m \u001b[0;34m[\u001b[0m\u001b[0mi\u001b[0m\u001b[0;34m]\u001b[0m\u001b[0;34m\u001b[0m\u001b[0;34m\u001b[0m\u001b[0m\n\u001b[0;32m---> 16\u001b[0;31m         \u001b[0mrs_dl\u001b[0m \u001b[0;34m=\u001b[0m \u001b[0mrs\u001b[0m\u001b[0;34m.\u001b[0m\u001b[0mrun\u001b[0m\u001b[0;34m(\u001b[0m\u001b[0mli\u001b[0m\u001b[0;34m,\u001b[0m\u001b[0mnoskip\u001b[0m\u001b[0;34m=\u001b[0m\u001b[0;32mFalse\u001b[0m\u001b[0;34m)\u001b[0m\u001b[0;34m\u001b[0m\u001b[0;34m\u001b[0m\u001b[0m\n\u001b[0m",
      "\u001b[0;32m~/.local/lib/python3.8/site-packages/hepi/resummino/run.py\u001b[0m in \u001b[0;36mrun\u001b[0;34m(params, noskip, bar, no_parse, para, skip, parse, run)\u001b[0m\n\u001b[1;32m     94\u001b[0m     \u001b[0mrps\u001b[0m \u001b[0;34m=\u001b[0m \u001b[0m_queue\u001b[0m\u001b[0;34m(\u001b[0m\u001b[0mparams\u001b[0m\u001b[0;34m,\u001b[0m \u001b[0mnoskip\u001b[0m\u001b[0;34m)\u001b[0m\u001b[0;34m\u001b[0m\u001b[0;34m\u001b[0m\u001b[0m\n\u001b[1;32m     95\u001b[0m     \u001b[0;32mif\u001b[0m \u001b[0mrun\u001b[0m\u001b[0;34m:\u001b[0m\u001b[0;34m\u001b[0m\u001b[0;34m\u001b[0m\u001b[0m\n\u001b[0;32m---> 96\u001b[0;31m         \u001b[0m_run\u001b[0m\u001b[0;34m(\u001b[0m\u001b[0mrps\u001b[0m\u001b[0;34m,\u001b[0m \u001b[0mbar\u001b[0m\u001b[0;34m,\u001b[0m \u001b[0mno_parse\u001b[0m\u001b[0;34m,\u001b[0m\u001b[0mpara\u001b[0m\u001b[0;34m)\u001b[0m\u001b[0;34m\u001b[0m\u001b[0;34m\u001b[0m\u001b[0m\n\u001b[0m\u001b[1;32m     97\u001b[0m     \u001b[0;32mif\u001b[0m \u001b[0;32mnot\u001b[0m \u001b[0mno_parse\u001b[0m\u001b[0;34m:\u001b[0m\u001b[0;34m\u001b[0m\u001b[0;34m\u001b[0m\u001b[0m\n\u001b[1;32m     98\u001b[0m         \u001b[0mouts\u001b[0m \u001b[0;34m=\u001b[0m \u001b[0mLD2DL\u001b[0m\u001b[0;34m(\u001b[0m\u001b[0mrps\u001b[0m\u001b[0;34m)\u001b[0m\u001b[0;34m[\u001b[0m\u001b[0;34m\"out_path\"\u001b[0m\u001b[0;34m]\u001b[0m\u001b[0;34m\u001b[0m\u001b[0;34m\u001b[0m\u001b[0m\n",
      "\u001b[0;32m~/.local/lib/python3.8/site-packages/hepi/resummino/run.py\u001b[0m in \u001b[0;36m_run\u001b[0;34m(rps, bar, no_parse, para)\u001b[0m\n\u001b[1;32m    273\u001b[0m     \u001b[0;32mif\u001b[0m \u001b[0;32mnot\u001b[0m \u001b[0mno_parse\u001b[0m\u001b[0;34m:\u001b[0m\u001b[0;34m\u001b[0m\u001b[0;34m\u001b[0m\u001b[0m\n\u001b[1;32m    274\u001b[0m         \u001b[0;31m# Collect statuses\u001b[0m\u001b[0;34m\u001b[0m\u001b[0;34m\u001b[0m\u001b[0;34m\u001b[0m\u001b[0m\n\u001b[0;32m--> 275\u001b[0;31m         \u001b[0moutput\u001b[0m \u001b[0;34m=\u001b[0m \u001b[0;34m[\u001b[0m\u001b[0mp\u001b[0m\u001b[0;34m.\u001b[0m\u001b[0mwait\u001b[0m\u001b[0;34m(\u001b[0m\u001b[0;34m)\u001b[0m \u001b[0;32mfor\u001b[0m \u001b[0mp\u001b[0m \u001b[0;32min\u001b[0m \u001b[0mprocesses\u001b[0m\u001b[0;34m]\u001b[0m\u001b[0;34m\u001b[0m\u001b[0;34m\u001b[0m\u001b[0m\n\u001b[0m\u001b[1;32m    276\u001b[0m         \u001b[0;32mreturn\u001b[0m \u001b[0moutput\u001b[0m\u001b[0;34m\u001b[0m\u001b[0;34m\u001b[0m\u001b[0m\n\u001b[1;32m    277\u001b[0m     \u001b[0;32mreturn\u001b[0m \u001b[0;34m[\u001b[0m\u001b[0;34m]\u001b[0m\u001b[0;34m\u001b[0m\u001b[0;34m\u001b[0m\u001b[0m\n",
      "\u001b[0;32m~/.local/lib/python3.8/site-packages/hepi/resummino/run.py\u001b[0m in \u001b[0;36m<listcomp>\u001b[0;34m(.0)\u001b[0m\n\u001b[1;32m    273\u001b[0m     \u001b[0;32mif\u001b[0m \u001b[0;32mnot\u001b[0m \u001b[0mno_parse\u001b[0m\u001b[0;34m:\u001b[0m\u001b[0;34m\u001b[0m\u001b[0;34m\u001b[0m\u001b[0m\n\u001b[1;32m    274\u001b[0m         \u001b[0;31m# Collect statuses\u001b[0m\u001b[0;34m\u001b[0m\u001b[0;34m\u001b[0m\u001b[0;34m\u001b[0m\u001b[0m\n\u001b[0;32m--> 275\u001b[0;31m         \u001b[0moutput\u001b[0m \u001b[0;34m=\u001b[0m \u001b[0;34m[\u001b[0m\u001b[0mp\u001b[0m\u001b[0;34m.\u001b[0m\u001b[0mwait\u001b[0m\u001b[0;34m(\u001b[0m\u001b[0;34m)\u001b[0m \u001b[0;32mfor\u001b[0m \u001b[0mp\u001b[0m \u001b[0;32min\u001b[0m \u001b[0mprocesses\u001b[0m\u001b[0;34m]\u001b[0m\u001b[0;34m\u001b[0m\u001b[0;34m\u001b[0m\u001b[0m\n\u001b[0m\u001b[1;32m    276\u001b[0m         \u001b[0;32mreturn\u001b[0m \u001b[0moutput\u001b[0m\u001b[0;34m\u001b[0m\u001b[0;34m\u001b[0m\u001b[0m\n\u001b[1;32m    277\u001b[0m     \u001b[0;32mreturn\u001b[0m \u001b[0;34m[\u001b[0m\u001b[0;34m]\u001b[0m\u001b[0;34m\u001b[0m\u001b[0;34m\u001b[0m\u001b[0m\n",
      "\u001b[0;32m/usr/lib/python3.8/subprocess.py\u001b[0m in \u001b[0;36mwait\u001b[0;34m(self, timeout)\u001b[0m\n\u001b[1;32m   1081\u001b[0m             \u001b[0mendtime\u001b[0m \u001b[0;34m=\u001b[0m \u001b[0m_time\u001b[0m\u001b[0;34m(\u001b[0m\u001b[0;34m)\u001b[0m \u001b[0;34m+\u001b[0m \u001b[0mtimeout\u001b[0m\u001b[0;34m\u001b[0m\u001b[0;34m\u001b[0m\u001b[0m\n\u001b[1;32m   1082\u001b[0m         \u001b[0;32mtry\u001b[0m\u001b[0;34m:\u001b[0m\u001b[0;34m\u001b[0m\u001b[0;34m\u001b[0m\u001b[0m\n\u001b[0;32m-> 1083\u001b[0;31m             \u001b[0;32mreturn\u001b[0m \u001b[0mself\u001b[0m\u001b[0;34m.\u001b[0m\u001b[0m_wait\u001b[0m\u001b[0;34m(\u001b[0m\u001b[0mtimeout\u001b[0m\u001b[0;34m=\u001b[0m\u001b[0mtimeout\u001b[0m\u001b[0;34m)\u001b[0m\u001b[0;34m\u001b[0m\u001b[0;34m\u001b[0m\u001b[0m\n\u001b[0m\u001b[1;32m   1084\u001b[0m         \u001b[0;32mexcept\u001b[0m \u001b[0mKeyboardInterrupt\u001b[0m\u001b[0;34m:\u001b[0m\u001b[0;34m\u001b[0m\u001b[0;34m\u001b[0m\u001b[0m\n\u001b[1;32m   1085\u001b[0m             \u001b[0;31m# https://bugs.python.org/issue25942\u001b[0m\u001b[0;34m\u001b[0m\u001b[0;34m\u001b[0m\u001b[0;34m\u001b[0m\u001b[0m\n",
      "\u001b[0;32m/usr/lib/python3.8/subprocess.py\u001b[0m in \u001b[0;36m_wait\u001b[0;34m(self, timeout)\u001b[0m\n\u001b[1;32m   1804\u001b[0m                         \u001b[0;32mif\u001b[0m \u001b[0mself\u001b[0m\u001b[0;34m.\u001b[0m\u001b[0mreturncode\u001b[0m \u001b[0;32mis\u001b[0m \u001b[0;32mnot\u001b[0m \u001b[0;32mNone\u001b[0m\u001b[0;34m:\u001b[0m\u001b[0;34m\u001b[0m\u001b[0;34m\u001b[0m\u001b[0m\n\u001b[1;32m   1805\u001b[0m                             \u001b[0;32mbreak\u001b[0m  \u001b[0;31m# Another thread waited.\u001b[0m\u001b[0;34m\u001b[0m\u001b[0;34m\u001b[0m\u001b[0m\n\u001b[0;32m-> 1806\u001b[0;31m                         \u001b[0;34m(\u001b[0m\u001b[0mpid\u001b[0m\u001b[0;34m,\u001b[0m \u001b[0msts\u001b[0m\u001b[0;34m)\u001b[0m \u001b[0;34m=\u001b[0m \u001b[0mself\u001b[0m\u001b[0;34m.\u001b[0m\u001b[0m_try_wait\u001b[0m\u001b[0;34m(\u001b[0m\u001b[0;36m0\u001b[0m\u001b[0;34m)\u001b[0m\u001b[0;34m\u001b[0m\u001b[0;34m\u001b[0m\u001b[0m\n\u001b[0m\u001b[1;32m   1807\u001b[0m                         \u001b[0;31m# Check the pid and loop as waitpid has been known to\u001b[0m\u001b[0;34m\u001b[0m\u001b[0;34m\u001b[0m\u001b[0;34m\u001b[0m\u001b[0m\n\u001b[1;32m   1808\u001b[0m                         \u001b[0;31m# return 0 even without WNOHANG in odd situations.\u001b[0m\u001b[0;34m\u001b[0m\u001b[0;34m\u001b[0m\u001b[0;34m\u001b[0m\u001b[0m\n",
      "\u001b[0;32m/usr/lib/python3.8/subprocess.py\u001b[0m in \u001b[0;36m_try_wait\u001b[0;34m(self, wait_flags)\u001b[0m\n\u001b[1;32m   1762\u001b[0m             \u001b[0;34m\"\"\"All callers to this function MUST hold self._waitpid_lock.\"\"\"\u001b[0m\u001b[0;34m\u001b[0m\u001b[0;34m\u001b[0m\u001b[0m\n\u001b[1;32m   1763\u001b[0m             \u001b[0;32mtry\u001b[0m\u001b[0;34m:\u001b[0m\u001b[0;34m\u001b[0m\u001b[0;34m\u001b[0m\u001b[0m\n\u001b[0;32m-> 1764\u001b[0;31m                 \u001b[0;34m(\u001b[0m\u001b[0mpid\u001b[0m\u001b[0;34m,\u001b[0m \u001b[0msts\u001b[0m\u001b[0;34m)\u001b[0m \u001b[0;34m=\u001b[0m \u001b[0mos\u001b[0m\u001b[0;34m.\u001b[0m\u001b[0mwaitpid\u001b[0m\u001b[0;34m(\u001b[0m\u001b[0mself\u001b[0m\u001b[0;34m.\u001b[0m\u001b[0mpid\u001b[0m\u001b[0;34m,\u001b[0m \u001b[0mwait_flags\u001b[0m\u001b[0;34m)\u001b[0m\u001b[0;34m\u001b[0m\u001b[0;34m\u001b[0m\u001b[0m\n\u001b[0m\u001b[1;32m   1765\u001b[0m             \u001b[0;32mexcept\u001b[0m \u001b[0mChildProcessError\u001b[0m\u001b[0;34m:\u001b[0m\u001b[0;34m\u001b[0m\u001b[0;34m\u001b[0m\u001b[0m\n\u001b[1;32m   1766\u001b[0m                 \u001b[0;31m# This happens if SIGCLD is set to be ignored or waiting\u001b[0m\u001b[0;34m\u001b[0m\u001b[0;34m\u001b[0m\u001b[0;34m\u001b[0m\u001b[0m\n",
      "\u001b[0;31mKeyboardInterrupt\u001b[0m: "
     ]
    }
   ],
   "source": [
    "params = [\n",
    "    \"slha.in\",\n",
    "]\n",
    "pss = [\n",
    "    (1000023,1000024),\n",
    "    (1000024,-1000024),\n",
    "    (1000023,1000022),\n",
    "    (1000002,1000022),\n",
    "     ]\n",
    "for pa,pb in pss:\n",
    "    print(pa,pb)\n",
    "    for param in params:\n",
    "        i = hepi.Input(hepi.Order.NLO,13000,pa,pb,param,\"PDF4LHC21_mc\",\"PDF4LHC21_mc\",1., 1.,id=\"0\")\n",
    "        #i = hepi.Input(hepi.Order.NLO,13000,pa,pb,param,\"CT14lo\",\"CT14lo\",1., 1.,model_path=model_path,id=\"5\")\n",
    "        li = [i]\n",
    "        rs_dl = rs.run(li,noskip=False)"
   ]
  },
  {
   "cell_type": "markdown",
   "id": "234755a8",
   "metadata": {},
   "source": [
    "# Mass scan"
   ]
  },
  {
   "cell_type": "code",
   "execution_count": 2,
   "id": "e423f880",
   "metadata": {
    "scrolled": false
   },
   "outputs": [
    {
     "name": "stdout",
     "output_type": "stream",
     "text": [
      "Running: 16 jobs\n",
      "skipskipskipskipskipskipskipskipskipskipskipskipskipskipskipskip{'LO': array([8.4516147e-06+/-8.8147769e-09, 5.4366394e-06+/-5.6864392e-09,\n",
      "       3.5299423e-06+/-3.7151188e-09, 2.3095001e-06+/-2.4558275e-09,\n",
      "       1.5202574e-06+/-1.6417755e-09, 1.0054253e-06+/-1.1101775e-09,\n",
      "       6.6715066e-07+/-7.6027796e-10, 4.4357785e-07+/-5.28406e-10,\n",
      "       2.9513652e-07+/-3.7495774e-10, 1.9603091e-07+/-2.4883546e-10,\n",
      "       1.2997988e-07+/-1.8254205e-10, 8.5798704e-08+/-1.3551459e-10,\n",
      "       5.6229481e-08+/-1.0129052e-10, 3.6469333e-08+/-7.6216679e-11,\n",
      "       2.3304488e-08+/-5.7475016e-11, 1.4571741e-08+/-4.343287e-11],\n",
      "      dtype=object), 'NLO': array([9.9571585e-06+/-9.4947585e-09, 6.4368837e-06+/-6.1390512e-09,\n",
      "       4.2004897e-06+/-4.018391e-09, 2.762538e-06+/-2.6604141e-09,\n",
      "       1.8281412e-06+/-1.7798175e-09, 1.2156017e-06+/-1.2036136e-09,\n",
      "       8.1112466e-07+/-8.2371694e-10, 5.4240384e-07+/-5.7143652e-10,\n",
      "       3.6308267e-07+/-4.0436205e-10, 2.4276066e-07+/-2.7070189e-10,\n",
      "       1.6210163e-07+/-1.9765857e-10, 1.0782426e-07+/-1.460083e-10,\n",
      "       7.1279332e-08+/-1.0875098e-10, 4.6701063e-08+/-8.1635626e-11,\n",
      "       3.0211106e-08+/-6.1375432e-11, 1.9194469e-08+/-4.586183e-11],\n",
      "      dtype=object), 'NLO_PLUS_NLL': array([0.0+/-0, 0.0+/-0, 0.0+/-0, 0.0+/-0, 0.0+/-0, 0.0+/-0, 0.0+/-0,\n",
      "       0.0+/-0, 0.0+/-0, 0.0+/-0, 0.0+/-0, 0.0+/-0, 0.0+/-0, 0.0+/-0,\n",
      "       0.0+/-0, 0.0+/-0], dtype=object), 'K_LO': array([1.0+/-0, 1.0+/-0, 1.0+/-0, 1.0+/-0, 1.0+/-0,\n",
      "       1.0+/-1.2924167094752193e-19, 1.0+/-0,\n",
      "       1.0+/-2.4605821818113327e-19, 1.0+/-0, 1.0+/-2.317460812628269e-19,\n",
      "       1.0+/-1.7000553198158741e-19, 1.0+/-0, 1.0+/-0, 1.0+/-0,\n",
      "       1.0+/-4.2822223901748655e-19, 1.0+/-6.472001969814301e-19],\n",
      "      dtype=object), 'K_NLO': array([1.1781368239609882+/-0.001664913758162443,\n",
      "       1.1839820937912489+/-0.001675913014660838,\n",
      "       1.1899598755481076+/-0.001692441458629121,\n",
      "       1.1961627540089736+/-0.0017160512545175703,\n",
      "       1.202520836274173+/-0.0017484531440013363,\n",
      "       1.2090422829025687+/-0.0017931374358125,\n",
      "       1.2158043282157587+/-0.001855826612687674,\n",
      "       1.2227928874266378+/-0.0019445716047994774,\n",
      "       1.2302193913515005+/-0.002078439217487402,\n",
      "       1.2383794984168568+/-0.0020923628544953794,\n",
      "       1.2471286325237416+/-0.0023194971231523835,\n",
      "       1.2567119894957854+/-0.0026145438807140416,\n",
      "       1.2676505408257281+/-0.0029924946230130774,\n",
      "       1.2805570916254487+/-0.003488967466614962,\n",
      "       1.296364288286445+/-0.004142215735497553,\n",
      "       1.3172392372332173+/-0.005031955650630488], dtype=object), 'K_NLO_PLUS_NLL': array([0.0+/-0, 0.0+/-0, 0.0+/-0, 0.0+/-0, 0.0+/-0, 0.0+/-0, 0.0+/-0,\n",
      "       0.0+/-0, 0.0+/-0, 0.0+/-0, 0.0+/-0, 0.0+/-0, 0.0+/-0, 0.0+/-0,\n",
      "       0.0+/-0, 0.0+/-0], dtype=object), 'NLO_PLUS_NLL_OVER_NLO': array([0.0+/-0, 0.0+/-0, 0.0+/-0, 0.0+/-0, 0.0+/-0, 0.0+/-0, 0.0+/-0,\n",
      "       0.0+/-0, 0.0+/-0, 0.0+/-0, 0.0+/-0, 0.0+/-0, 0.0+/-0, 0.0+/-0,\n",
      "       0.0+/-0, 0.0+/-0], dtype=object), 'VNLO': array([3.710853e-07+/-2.2803264e-09, 2.4224974e-07+/-1.5019908e-09,\n",
      "       1.5950033e-07+/-1.0012289e-09, 1.0563221e-07+/-6.739639e-10,\n",
      "       7.0192822e-08+/-4.5653634e-10, 4.6718922e-08+/-3.1012983e-10,\n",
      "       3.1093061e-08+/-2.1255801e-10, 2.0662141e-08+/-1.4679602e-10,\n",
      "       1.3722464e-08+/-1.0363687e-10, 9.0912307e-09+/-7.440288e-11,\n",
      "       6.002063e-09+/-5.381869e-11, 3.9315404e-09+/-3.8927993e-11,\n",
      "       2.5542736e-09+/-2.8600694e-11, 1.6449131e-09+/-2.13142e-11,\n",
      "       1.047717e-09+/-1.5738752e-11, 6.610728e-10+/-9.9084419e-12],\n",
      "      dtype=object), 'P_PLUS_K': array([1.1006511e-06+/-2.6854354e-09, 7.3684396e-07+/-1.7497975e-09,\n",
      "       4.9791713e-07+/-1.152179e-09, 3.3905071e-07+/-7.6556111e-10,\n",
      "       2.3231193e-07+/-5.1265433e-10, 1.5996499e-07+/-3.456712e-10,\n",
      "       1.1056574e-07+/-2.3455798e-10, 7.6627392e-08+/-1.6015649e-10,\n",
      "       5.319289e-08+/-1.1008348e-10, 3.6946355e-08+/-7.625186e-11,\n",
      "       2.5648221e-08+/-5.3352534e-11, 1.7772341e-08+/-3.7889204e-11,\n",
      "       1.227401e-08+/-2.7348388e-11, 8.4338138e-09+/-2.0007572e-11,\n",
      "       5.7535064e-09+/-1.4679246e-11, 3.8874972e-09+/-1.0893683e-11],\n",
      "      dtype=object), 'RNLOG': array([-1.7591508e-08+/-1.7308005e-10, -1.0063407e-08+/-1.7737046e-10,\n",
      "       -6.0987064e-09+/-1.1930247e-10, -3.6430526e-09+/-7.724873e-11,\n",
      "       -2.1902289e-09+/-3.0252337e-11, -1.3304044e-09+/-2.1355459e-11,\n",
      "       -7.8370469e-10+/-1.6172955e-11, -4.6917375e-10+/-1.0792565e-11,\n",
      "       -2.7575642e-10+/-7.1923843e-12, -1.6380762e-10+/-2.8864737e-12,\n",
      "       -9.2049614e-11+/-1.8773728e-12, -5.0857604e-11+/-1.6961861e-12,\n",
      "       -2.5607849e-11+/-9.5614657e-13, -1.1439809e-11+/-8.5201914e-13,\n",
      "       -4.2919816e-12+/-5.892262e-13, 8.5490249e-13+/-1.7401214e-13],\n",
      "      dtype=object), 'RNLOQ': array([5.1398881e-08+/-9.3485714e-11, 3.1214079e-08+/-5.5954229e-11,\n",
      "       1.9228576e-08+/-3.3905398e-11, 1.1998061e-08+/-2.0878938e-11,\n",
      "       7.5693688e-09+/-1.2980421e-11, 4.8228178e-09+/-8.1605044e-12,\n",
      "       3.0989139e-09+/-5.2066183e-12, 2.0056301e-09+/-3.3383377e-12,\n",
      "       1.3065521e-09+/-2.1577348e-12, 8.5597232e-10+/-1.4003561e-12,\n",
      "       5.6351293e-10+/-9.1625979e-13, 3.7252799e-10+/-6.0088223e-13,\n",
      "       2.471755e-10+/-3.9647653e-13, 1.6444233e-10+/-2.6321637e-13,\n",
      "       1.0968617e-10+/-1.744134e-13, 7.3303061e-11+/-1.1586381e-13],\n",
      "      dtype=object), 'VNLO_PLUS_P_PLUS_K': array([1.4717364e-06+/-3.522989040305138e-09,\n",
      "       9.790937e-07+/-2.306028545853431e-09,\n",
      "       6.574174600000001e-07+/-1.526425811572973e-09,\n",
      "       4.4468292e-07+/-1.0199564459562192e-09,\n",
      "       3.02504752e-07+/-6.864691484752571e-10,\n",
      "       2.06683912e-07+/-4.644018625773037e-10,\n",
      "       1.41658801e-07+/-3.165412352235337e-10,\n",
      "       9.728953299999999e-08+/-2.1725370601432902e-10,\n",
      "       6.6915354e-08+/-1.5119184300850128e-10,\n",
      "       4.60375857e-08+/-1.0653701096686541e-10,\n",
      "       3.1650284e-08+/-7.578221610336593e-11,\n",
      "       2.1703881400000002e-08+/-5.432292719250008e-11,\n",
      "       1.48282836e-08+/-3.957188425486181e-11,\n",
      "       1.00787269e-08+/-2.9233509179966476e-11,\n",
      "       6.801223399999999e-09+/-2.1521816318471355e-11,\n",
      "       4.54857e-09+/-1.4725812377935713e-11], dtype=object), 'RNLO': array([3.3807372999999996e-08+/-1.9671370676720089e-10,\n",
      "       2.1150672e-08+/-1.8598697756454896e-10,\n",
      "       1.31298696e-08+/-1.240268332323264e-10,\n",
      "       8.3550084e-09+/-8.002059946426759e-11,\n",
      "       5.3791399e-09+/-3.291952647440133e-11,\n",
      "       3.4924134e-09+/-2.286152797087501e-11,\n",
      "       2.31520921e-09+/-1.6990389858797235e-11,\n",
      "       1.53645635e-09+/-1.1297077404287638e-11,\n",
      "       1.03079568e-09+/-7.509075268368106e-12,\n",
      "       6.921647e-10+/-3.2082281133982508e-12,\n",
      "       4.71463316e-10+/-2.089033420735696e-12,\n",
      "       3.21670386e-10+/-1.799474017640428e-12,\n",
      "       2.2156765099999999e-10+/-1.0350893208625068e-12,\n",
      "       1.53002521e-10+/-8.917507905027707e-13,\n",
      "       1.053941884e-10+/-6.144978021653129e-13,\n",
      "       7.415796349e-11+/-2.09056564917478e-13], dtype=object), 'RNLO_PLUS_VNLO_PLUS_P_PLUS_K': array([1.5055437729999999e-06+/-3.5284767337393923e-09,\n",
      "       1.000244372e-06+/-2.313516546323904e-09,\n",
      "       6.705473296000001e-07+/-1.531456304828136e-09,\n",
      "       4.5303792839999997e-07+/-1.0230906352744427e-09,\n",
      "       3.078838919e-07+/-6.872580207110306e-10,\n",
      "       2.101763254e-07+/-4.6496423456695245e-10,\n",
      "       1.4397401021e-07+/-3.169968879096361e-10,\n",
      "       9.882598935e-08+/-2.1754722874548176e-10,\n",
      "       6.794614968e-08+/-1.5137820055639887e-10,\n",
      "       4.67297504e-08+/-1.0658530589805332e-10,\n",
      "       3.2121747316e-08+/-7.581100407045277e-11,\n",
      "       2.2025551786000002e-08+/-5.4352723257458104e-11,\n",
      "       1.5049851251e-08+/-3.9585419454419626e-11,\n",
      "       1.0231729421e-08+/-2.924710718084007e-11,\n",
      "       6.9066175883999995e-09+/-2.1530587200419916e-11,\n",
      "       4.62272796349e-09+/-1.4727296250075902e-11], dtype=object), 'order': array([1, 1, 1, 1, 1, 1, 1, 1, 1, 1, 1, 1, 1, 1, 1, 1]), 'energy': array([13000, 13000, 13000, 13000, 13000, 13000, 13000, 13000, 13000,\n",
      "       13000, 13000, 13000, 13000, 13000, 13000, 13000]), 'energyhalf': array([6500., 6500., 6500., 6500., 6500., 6500., 6500., 6500., 6500.,\n",
      "       6500., 6500., 6500., 6500., 6500., 6500., 6500.]), 'particle1': array([1000011, 1000011, 1000011, 1000011, 1000011, 1000011, 1000011,\n",
      "       1000011, 1000011, 1000011, 1000011, 1000011, 1000011, 1000011,\n",
      "       1000011, 1000011]), 'particle2': array([-1000011, -1000011, -1000011, -1000011, -1000011, -1000011,\n",
      "       -1000011, -1000011, -1000011, -1000011, -1000011, -1000011,\n",
      "       -1000011, -1000011, -1000011, -1000011]), 'slha': array(['slha.in_mass_1000011_1000.0',\n",
      "       'slha.in_mass_1000011_1066.6666666666667',\n",
      "       'slha.in_mass_1000011_1133.3333333333333',\n",
      "       'slha.in_mass_1000011_1200.0',\n",
      "       'slha.in_mass_1000011_1266.6666666666667',\n",
      "       'slha.in_mass_1000011_1333.3333333333335',\n",
      "       'slha.in_mass_1000011_1400.0',\n",
      "       'slha.in_mass_1000011_1466.6666666666667',\n",
      "       'slha.in_mass_1000011_1533.3333333333335',\n",
      "       'slha.in_mass_1000011_1600.0',\n",
      "       'slha.in_mass_1000011_1666.6666666666667',\n",
      "       'slha.in_mass_1000011_1733.3333333333335',\n",
      "       'slha.in_mass_1000011_1800.0',\n",
      "       'slha.in_mass_1000011_1866.6666666666667',\n",
      "       'slha.in_mass_1000011_1933.3333333333335',\n",
      "       'slha.in_mass_1000011_2000.0'], dtype='<U39'), 'pdf_lo': array(['PDF4LHC21_mc', 'PDF4LHC21_mc', 'PDF4LHC21_mc', 'PDF4LHC21_mc',\n",
      "       'PDF4LHC21_mc', 'PDF4LHC21_mc', 'PDF4LHC21_mc', 'PDF4LHC21_mc',\n",
      "       'PDF4LHC21_mc', 'PDF4LHC21_mc', 'PDF4LHC21_mc', 'PDF4LHC21_mc',\n",
      "       'PDF4LHC21_mc', 'PDF4LHC21_mc', 'PDF4LHC21_mc', 'PDF4LHC21_mc'],\n",
      "      dtype='<U12'), 'pdfset_lo': array([0, 0, 0, 0, 0, 0, 0, 0, 0, 0, 0, 0, 0, 0, 0, 0]), 'pdf_nlo': array(['PDF4LHC21_mc', 'PDF4LHC21_mc', 'PDF4LHC21_mc', 'PDF4LHC21_mc',\n",
      "       'PDF4LHC21_mc', 'PDF4LHC21_mc', 'PDF4LHC21_mc', 'PDF4LHC21_mc',\n",
      "       'PDF4LHC21_mc', 'PDF4LHC21_mc', 'PDF4LHC21_mc', 'PDF4LHC21_mc',\n",
      "       'PDF4LHC21_mc', 'PDF4LHC21_mc', 'PDF4LHC21_mc', 'PDF4LHC21_mc'],\n",
      "      dtype='<U12'), 'pdfset_nlo': array([0, 0, 0, 0, 0, 0, 0, 0, 0, 0, 0, 0, 0, 0, 0, 0]), 'pdf_lo_id': array([93000, 93000, 93000, 93000, 93000, 93000, 93000, 93000, 93000,\n",
      "       93000, 93000, 93000, 93000, 93000, 93000, 93000]), 'pdf_nlo_id': array([93000, 93000, 93000, 93000, 93000, 93000, 93000, 93000, 93000,\n",
      "       93000, 93000, 93000, 93000, 93000, 93000, 93000]), 'mu_f': array([1., 1., 1., 1., 1., 1., 1., 1., 1., 1., 1., 1., 1., 1., 1., 1.]), 'mu_r': array([1., 1., 1., 1., 1., 1., 1., 1., 1., 1., 1., 1., 1., 1., 1., 1.]), 'precision': array([0.01, 0.01, 0.01, 0.01, 0.01, 0.01, 0.01, 0.01, 0.01, 0.01, 0.01,\n",
      "       0.01, 0.01, 0.01, 0.01, 0.01]), 'max_iters': array([50, 50, 50, 50, 50, 50, 50, 50, 50, 50, 50, 50, 50, 50, 50, 50]), 'invariant_mass': array(['auto', 'auto', 'auto', 'auto', 'auto', 'auto', 'auto', 'auto',\n",
      "       'auto', 'auto', 'auto', 'auto', 'auto', 'auto', 'auto', 'auto'],\n",
      "      dtype='<U4'), 'pt': array(['auto', 'auto', 'auto', 'auto', 'auto', 'auto', 'auto', 'auto',\n",
      "       'auto', 'auto', 'auto', 'auto', 'auto', 'auto', 'auto', 'auto'],\n",
      "      dtype='<U4'), 'result': array(['total', 'total', 'total', 'total', 'total', 'total', 'total',\n",
      "       'total', 'total', 'total', 'total', 'total', 'total', 'total',\n",
      "       'total', 'total'], dtype='<U5'), 'id': array(['0', '0', '0', '0', '0', '0', '0', '0', '0', '0', '0', '0', '0',\n",
      "       '0', '0', '0'], dtype='<U1'), 'model_path': array(['/opt/MG5_aMC_v2_7_0/models/MSSMatNLO_UFO',\n",
      "       '/opt/MG5_aMC_v2_7_0/models/MSSMatNLO_UFO',\n",
      "       '/opt/MG5_aMC_v2_7_0/models/MSSMatNLO_UFO',\n",
      "       '/opt/MG5_aMC_v2_7_0/models/MSSMatNLO_UFO',\n",
      "       '/opt/MG5_aMC_v2_7_0/models/MSSMatNLO_UFO',\n",
      "       '/opt/MG5_aMC_v2_7_0/models/MSSMatNLO_UFO',\n",
      "       '/opt/MG5_aMC_v2_7_0/models/MSSMatNLO_UFO',\n",
      "       '/opt/MG5_aMC_v2_7_0/models/MSSMatNLO_UFO',\n",
      "       '/opt/MG5_aMC_v2_7_0/models/MSSMatNLO_UFO',\n",
      "       '/opt/MG5_aMC_v2_7_0/models/MSSMatNLO_UFO',\n",
      "       '/opt/MG5_aMC_v2_7_0/models/MSSMatNLO_UFO',\n",
      "       '/opt/MG5_aMC_v2_7_0/models/MSSMatNLO_UFO',\n",
      "       '/opt/MG5_aMC_v2_7_0/models/MSSMatNLO_UFO',\n",
      "       '/opt/MG5_aMC_v2_7_0/models/MSSMatNLO_UFO',\n",
      "       '/opt/MG5_aMC_v2_7_0/models/MSSMatNLO_UFO',\n",
      "       '/opt/MG5_aMC_v2_7_0/models/MSSMatNLO_UFO'], dtype='<U40'), 'mu': array([1000.        , 1066.66666667, 1133.33333333, 1200.        ,\n",
      "       1266.66666667, 1333.33333333, 1400.        , 1466.66666667,\n",
      "       1533.33333333, 1600.        , 1666.66666667, 1733.33333333,\n",
      "       1800.        , 1866.66666667, 1933.33333333, 2000.        ]), 'mass_1000011': array([1000.        , 1066.66666667, 1133.33333333, 1200.        ,\n",
      "       1266.66666667, 1333.33333333, 1400.        , 1466.66666667,\n",
      "       1533.33333333, 1600.        , 1666.66666667, 1733.33333333,\n",
      "       1800.        , 1866.66666667, 1933.33333333, 2000.        ]), 'code': array(['RS', 'RS', 'RS', 'RS', 'RS', 'RS', 'RS', 'RS', 'RS', 'RS', 'RS',\n",
      "       'RS', 'RS', 'RS', 'RS', 'RS'], dtype='<U2')}\n"
     ]
    }
   ],
   "source": [
    "params = [\n",
    "    \"slha.in\",\n",
    "]\n",
    "pss = [\n",
    "    (1000011,-1000011),\n",
    "     ]\n",
    "for pa,pb in pss:\n",
    "    for param in params:\n",
    "        i = hepi.Input(hepi.Order.NLO,13000,pa,pb,param,\"PDF4LHC21_mc\",\"PDF4LHC21_mc\",1., 1.,id=\"0\")\n",
    "        #i = hepi.Input(hepi.Order.NLO,13000,pa,pb,param,\"CT14lo\",\"CT14lo\",1., 1.,model_path=model_path,id=\"5\")\n",
    "        li = [i]\n",
    "        li = hepi.mass_scan([i],pa, np.linspace(1000,2000,16))\n",
    "        rs_dl = rs.run(li,noskip=False)\n"
   ]
  },
  {
   "cell_type": "code",
   "execution_count": 3,
   "id": "d1e4dd71",
   "metadata": {},
   "outputs": [
    {
     "name": "stdout",
     "output_type": "stream",
     "text": [
      "\\SI{L}{}&\\SI{O}{}\\\\\n",
      "\\SI{N}{}&\\SI{L}{}&\\SI{O}{}\\\\\n",
      "\n",
      "\\begin{tabular}{lll}\n",
      "\\toprule\n",
      "{} &                     LO &                    NLO \\\\\n",
      "\\midrule\n",
      "0  &    (8.452+/-0.009)e-06 &    (9.957+/-0.009)e-06 \\\\\n",
      "1  &    (5.437+/-0.006)e-06 &    (6.437+/-0.006)e-06 \\\\\n",
      "2  &    (3.530+/-0.004)e-06 &    (4.200+/-0.004)e-06 \\\\\n",
      "3  &  (2.3095+/-0.0025)e-06 &  (2.7625+/-0.0027)e-06 \\\\\n",
      "4  &  (1.5203+/-0.0016)e-06 &  (1.8281+/-0.0018)e-06 \\\\\n",
      "5  &  (1.0054+/-0.0011)e-06 &  (1.2156+/-0.0012)e-06 \\\\\n",
      "6  &    (6.672+/-0.008)e-07 &    (8.111+/-0.008)e-07 \\\\\n",
      "7  &    (4.436+/-0.005)e-07 &    (5.424+/-0.006)e-07 \\\\\n",
      "8  &    (2.951+/-0.004)e-07 &    (3.631+/-0.004)e-07 \\\\\n",
      "9  &  (1.9603+/-0.0025)e-07 &  (2.4276+/-0.0027)e-07 \\\\\n",
      "10 &  (1.2998+/-0.0018)e-07 &  (1.6210+/-0.0020)e-07 \\\\\n",
      "11 &    (8.580+/-0.014)e-08 &  (1.0782+/-0.0015)e-07 \\\\\n",
      "12 &    (5.623+/-0.010)e-08 &    (7.128+/-0.011)e-08 \\\\\n",
      "13 &    (3.647+/-0.008)e-08 &    (4.670+/-0.008)e-08 \\\\\n",
      "14 &    (2.330+/-0.006)e-08 &    (3.021+/-0.006)e-08 \\\\\n",
      "15 &    (1.457+/-0.004)e-08 &    (1.919+/-0.005)e-08 \\\\\n",
      "\\bottomrule\n",
      "\\end{tabular}\n",
      "\n"
     ]
    },
    {
     "name": "stderr",
     "output_type": "stream",
     "text": [
      "/tmp/ipykernel_27508/3783473145.py:5: FutureWarning: In future versions `DataFrame.to_latex` is expected to utilise the base implementation of `Styler.to_latex` for formatting and rendering. The arguments signature may therefore change. It is recommended instead to use `DataFrame.style.to_latex` which also contains additional functionality.\n",
      "  print(rs_df2.to_latex())\n"
     ]
    }
   ],
   "source": [
    "from smpl import latex\n",
    "rs_df= hepi.LD2DF(rs_dl)\n",
    "rs_df2 = rs_df[[\"LO\",\"NLO\"]]\n",
    "print(latex.si_tab(rs_df2))\n",
    "print(rs_df2.to_latex())\n",
    "hepi.write_csv(rs_dl,\"test_csv_out.csv\")"
   ]
  },
  {
   "cell_type": "markdown",
   "id": "fea4a793",
   "metadata": {},
   "source": [
    "# Scale scan"
   ]
  },
  {
   "cell_type": "code",
   "execution_count": null,
   "id": "edffc936",
   "metadata": {},
   "outputs": [],
   "source": [
    "params = [\n",
    "    \"wino.in\",\n",
    "    \"hino.in\",\n",
    "]\n",
    "pss = [\n",
    "    (1000022,1000022),\n",
    "     ]\n",
    "for pa,pb in pss:\n",
    "    for param in params:\n",
    "        i = hepi.Input(hepi.Order.LO,13000,pa,pb,param,\"PDF4LHC21_mc\",\"PDF4LHC21_mc\",1., 1.,id=\"0\")\n",
    "        #i = hepi.Input(hepi.Order.NLO,13000,pa,pb,param,\"CT14lo\",\"CT14lo\",1., 1.,model_path=model_path,id=\"5\")\n",
    "        li = [i]\n",
    "        li = hepi.seven_point_scan(li)\n",
    "        rs_dl = rs.run(li,noskip=False)\n",
    "        print(rs_dl)"
   ]
  },
  {
   "cell_type": "markdown",
   "id": "c9bc20b0",
   "metadata": {},
   "source": [
    "# PDF scan"
   ]
  },
  {
   "cell_type": "code",
   "execution_count": 9,
   "id": "484741b8",
   "metadata": {},
   "outputs": [
    {
     "name": "stdout",
     "output_type": "stream",
     "text": [
      "Running: 101 jobs\n"
     ]
    }
   ],
   "source": [
    "params = [\n",
    "    \"scenarioB.in\",\n",
    "]\n",
    "pss = [\n",
    "    (1000011,-1000011),\n",
    "     ]\n",
    "for pa,pb in pss:\n",
    "    for param in params:\n",
    "        i = hepi.Input(hepi.Order.NLO,13600,pa,pb,param,\"PDF4LHC21_mc\",\"PDF4LHC21_mc\",1., 1.,id=\"0\")\n",
    "        #i = hepi.Input(hepi.Order.NLO,13000,pa,pb,param,\"CT14lo\",\"CT14lo\",1., 1.,model_path=model_path,id=\"5\")\n",
    "        li = [i]\n",
    "        li = hepi.pdf_scan(li)\n",
    "        rs_dl = rs.run(li,noskip=False,run=False,parse=False)"
   ]
  },
  {
   "cell_type": "code",
   "execution_count": null,
   "id": "6353a418",
   "metadata": {},
   "outputs": [],
   "source": []
  }
 ],
 "metadata": {
  "kernelspec": {
   "display_name": "Python 3",
   "language": "python",
   "name": "python3"
  },
  "language_info": {
   "codemirror_mode": {
    "name": "ipython",
    "version": 3
   },
   "file_extension": ".py",
   "mimetype": "text/x-python",
   "name": "python",
   "nbconvert_exporter": "python",
   "pygments_lexer": "ipython3",
   "version": "3.8.13"
  }
 },
 "nbformat": 4,
 "nbformat_minor": 5
}
