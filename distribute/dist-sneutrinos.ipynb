{
 "cells": [
  {
   "cell_type": "code",
   "execution_count": 4,
   "id": "c28d1963-400b-4ed3-98ca-c3dedbe72640",
   "metadata": {},
   "outputs": [
    {
     "name": "stdout",
     "output_type": "stream",
     "text": [
      "3.12.8 (main, Jan 25 2025, 18:14:05) [GCC 14.2.1 20241221]\n"
     ]
    }
   ],
   "source": [
    "import sys\n",
    "print(sys.version)"
   ]
  },
  {
   "cell_type": "code",
   "execution_count": 5,
   "id": "654ab555",
   "metadata": {},
   "outputs": [
    {
     "name": "stdout",
     "output_type": "stream",
     "text": [
      "0.2.17.12\n",
      "~/git/resummino/build\n",
      "resummino 3.1.2-dev\n"
     ]
    }
   ],
   "source": [
    "#%load_ext nb_black\n",
    "import hepi\n",
    "\n",
    "\n",
    "print(hepi.__version__)\n",
    "import smpl\n",
    "from smpl import data\n",
    "import numpy as np\n",
    "from hepi.run import resummino as rs\n",
    "import hepi.util as util\n",
    "import matplotlib.pyplot as plt\n",
    "import pandas as pd\n",
    "\n",
    "rs.set_path(\"~/git/resummino/build\")\n",
    "print(rs.get_path())\n",
    "rs.default_resummino_runner._check_path()\n",
    "print(rs.get_version())\n",
    "\n",
    "test_lo = False\n",
    "generate = False\n",
    "analyse  = True\n",
    "plot = True\n",
    "\n",
    "plt.rcParams.update({'font.size': 15})\n",
    "plt.rc('legend', fontsize=12)\n",
    "#rm tex files\n",
    "from smpl import io\n",
    "import os\n",
    "if analyse:\n",
    "    for _,_,f in io.files(\".tex\"):\n",
    "        os.remove(f)\n",
    "pd.set_option('display.max_columns', None)"
   ]
  },
  {
   "cell_type": "code",
   "execution_count": 7,
   "id": "0bd68487",
   "metadata": {},
   "outputs": [
    {
     "data": {
      "application/vnd.jupyter.widget-view+json": {
       "model_id": "9d5884ae769a41c7b21bb5f6632eea5d",
       "version_major": 2,
       "version_minor": 0
      },
      "text/plain": [
       "QUEUEING TASKS | Checking input:   0%|          | 0/2256 [00:00<?, ?it/s]"
      ]
     },
     "metadata": {},
     "output_type": "display_data"
    },
    {
     "data": {
      "application/vnd.jupyter.widget-view+json": {
       "model_id": "a8baa47ae30d4daf9f3d57b50e2a714e",
       "version_major": 2,
       "version_minor": 0
      },
      "text/plain": [
       "PROCESSING TASKS | Checking input:   0%|          | 0/2256 [00:00<?, ?it/s]"
      ]
     },
     "metadata": {},
     "output_type": "display_data"
    },
    {
     "data": {
      "application/vnd.jupyter.widget-view+json": {
       "model_id": "167f38d1d3404f0cbf0d2803580e704d",
       "version_major": 2,
       "version_minor": 0
      },
      "text/plain": [
       "COLLECTING RESULTS | Checking input:   0%|          | 0/2256 [00:00<?, ?it/s]"
      ]
     },
     "metadata": {},
     "output_type": "display_data"
    },
    {
     "data": {
      "application/vnd.jupyter.widget-view+json": {
       "model_id": "4e50448e804141febde905310ddeaae8",
       "version_major": 2,
       "version_minor": 0
      },
      "text/plain": [
       "QUEUEING TASKS | Preparing:   0%|          | 0/2256 [00:00<?, ?it/s]"
      ]
     },
     "metadata": {},
     "output_type": "display_data"
    },
    {
     "data": {
      "application/vnd.jupyter.widget-view+json": {
       "model_id": "b7db52ee1e6a430189d88bb53080ca37",
       "version_major": 2,
       "version_minor": 0
      },
      "text/plain": [
       "PROCESSING TASKS | Preparing:   0%|          | 0/2256 [00:00<?, ?it/s]"
      ]
     },
     "metadata": {},
     "output_type": "display_data"
    },
    {
     "data": {
      "application/vnd.jupyter.widget-view+json": {
       "model_id": "64a1e8c22ebf4203a9f97f54d38349ac",
       "version_major": 2,
       "version_minor": 0
      },
      "text/plain": [
       "COLLECTING RESULTS | Preparing:   0%|          | 0/2256 [00:00<?, ?it/s]"
      ]
     },
     "metadata": {},
     "output_type": "display_data"
    },
    {
     "name": "stdout",
     "output_type": "stream",
     "text": [
      "Skipped: 2256 Not skipped: 0\n"
     ]
    },
    {
     "data": {
      "application/vnd.jupyter.widget-view+json": {
       "model_id": "154a8707cb1c4da2b7ec0afc933846a9",
       "version_major": 2,
       "version_minor": 0
      },
      "text/plain": [
       "QUEUEING TASKS | Running: 0it [00:00, ?it/s]"
      ]
     },
     "metadata": {},
     "output_type": "display_data"
    },
    {
     "data": {
      "application/vnd.jupyter.widget-view+json": {
       "model_id": "b4c82150d06f4dbe8aa965fb5a968c6c",
       "version_major": 2,
       "version_minor": 0
      },
      "text/plain": [
       "PROCESSING TASKS | Running: 0it [00:00, ?it/s]"
      ]
     },
     "metadata": {},
     "output_type": "display_data"
    },
    {
     "data": {
      "application/vnd.jupyter.widget-view+json": {
       "model_id": "35a3ca03257b4d9ba29e8665f14e6b72",
       "version_major": 2,
       "version_minor": 0
      },
      "text/plain": [
       "COLLECTING RESULTS | Running: 0it [00:00, ?it/s]"
      ]
     },
     "metadata": {},
     "output_type": "display_data"
    },
    {
     "data": {
      "application/vnd.jupyter.widget-view+json": {
       "model_id": "4dc909c2d0cc44c1891cbdb31ab40ebd",
       "version_major": 2,
       "version_minor": 0
      },
      "text/plain": [
       "QUEUEING TASKS | Parsing:   0%|          | 0/2256 [00:00<?, ?it/s]"
      ]
     },
     "metadata": {},
     "output_type": "display_data"
    },
    {
     "data": {
      "application/vnd.jupyter.widget-view+json": {
       "model_id": "9156c8e81660410a95dfa38d79a3d6c2",
       "version_major": 2,
       "version_minor": 0
      },
      "text/plain": [
       "PROCESSING TASKS | Parsing:   0%|          | 0/2256 [00:00<?, ?it/s]"
      ]
     },
     "metadata": {},
     "output_type": "display_data"
    },
    {
     "data": {
      "application/vnd.jupyter.widget-view+json": {
       "model_id": "67d1332ddff64654a7ba90fd0816b128",
       "version_major": 2,
       "version_minor": 0
      },
      "text/plain": [
       "COLLECTING RESULTS | Parsing:   0%|          | 0/2256 [00:00<?, ?it/s]"
      ]
     },
     "metadata": {},
     "output_type": "display_data"
    },
    {
     "data": {
      "application/vnd.jupyter.widget-view+json": {
       "model_id": "74782b39ef804675b546741354cf0634",
       "version_major": 2,
       "version_minor": 0
      },
      "text/plain": [
       "QUEUEING TASKS | PDF uncertainty @ LO:   0%|          | 0/48 [00:00<?, ?it/s]"
      ]
     },
     "metadata": {},
     "output_type": "display_data"
    },
    {
     "data": {
      "application/vnd.jupyter.widget-view+json": {
       "model_id": "4ea5b993498746768839a1b70aea5906",
       "version_major": 2,
       "version_minor": 0
      },
      "text/plain": [
       "PROCESSING TASKS | PDF uncertainty @ LO:   0%|          | 0/48 [00:00<?, ?it/s]"
      ]
     },
     "metadata": {},
     "output_type": "display_data"
    },
    {
     "data": {
      "application/vnd.jupyter.widget-view+json": {
       "model_id": "af803bdb150945839fe15d3947e552ac",
       "version_major": 2,
       "version_minor": 0
      },
      "text/plain": [
       "COLLECTING RESULTS | PDF uncertainty @ LO:   0%|          | 0/48 [00:00<?, ?it/s]"
      ]
     },
     "metadata": {},
     "output_type": "display_data"
    },
    {
     "data": {
      "application/vnd.jupyter.widget-view+json": {
       "model_id": "05426f0e06e34d4c821a830351753e5f",
       "version_major": 2,
       "version_minor": 0
      },
      "text/plain": [
       "QUEUEING TASKS | PDF uncertainty @ NLO:   0%|          | 0/48 [00:00<?, ?it/s]"
      ]
     },
     "metadata": {},
     "output_type": "display_data"
    },
    {
     "data": {
      "application/vnd.jupyter.widget-view+json": {
       "model_id": "4ce64283e6344c65bf3e88c23e7baabe",
       "version_major": 2,
       "version_minor": 0
      },
      "text/plain": [
       "PROCESSING TASKS | PDF uncertainty @ NLO:   0%|          | 0/48 [00:00<?, ?it/s]"
      ]
     },
     "metadata": {},
     "output_type": "display_data"
    },
    {
     "data": {
      "application/vnd.jupyter.widget-view+json": {
       "model_id": "32715c5278eb49b08147b8ccf3714729",
       "version_major": 2,
       "version_minor": 0
      },
      "text/plain": [
       "COLLECTING RESULTS | PDF uncertainty @ NLO:   0%|          | 0/48 [00:00<?, ?it/s]"
      ]
     },
     "metadata": {},
     "output_type": "display_data"
    },
    {
     "data": {
      "application/vnd.jupyter.widget-view+json": {
       "model_id": "f18b36a8e3794a939c8da60ddf4a5b9e",
       "version_major": 2,
       "version_minor": 0
      },
      "text/plain": [
       "QUEUEING TASKS | PDF uncertainty @ aNNLO_PLUS_NNLL:   0%|          | 0/48 [00:00<?, ?it/s]"
      ]
     },
     "metadata": {},
     "output_type": "display_data"
    },
    {
     "data": {
      "application/vnd.jupyter.widget-view+json": {
       "model_id": "d6b7ccffb108498baff949758e9fdfbd",
       "version_major": 2,
       "version_minor": 0
      },
      "text/plain": [
       "PROCESSING TASKS | PDF uncertainty @ aNNLO_PLUS_NNLL:   0%|          | 0/48 [00:00<?, ?it/s]"
      ]
     },
     "metadata": {},
     "output_type": "display_data"
    },
    {
     "data": {
      "application/vnd.jupyter.widget-view+json": {
       "model_id": "45544d08d69e43678908e6dcfbfd4f51",
       "version_major": 2,
       "version_minor": 0
      },
      "text/plain": [
       "COLLECTING RESULTS | PDF uncertainty @ aNNLO_PLUS_NNLL:   0%|          | 0/48 [00:00<?, ?it/s]"
      ]
     },
     "metadata": {},
     "output_type": "display_data"
    },
    {
     "data": {
      "application/vnd.jupyter.widget-view+json": {
       "model_id": "5055e229b46b49e5a4462ca953a779d5",
       "version_major": 2,
       "version_minor": 0
      },
      "text/plain": [
       "QUEUEING TASKS | Scale uncertainty @ LO:   0%|          | 0/48 [00:00<?, ?it/s]"
      ]
     },
     "metadata": {},
     "output_type": "display_data"
    },
    {
     "data": {
      "application/vnd.jupyter.widget-view+json": {
       "model_id": "21ddcaab68584d0c8fb025296c139fb9",
       "version_major": 2,
       "version_minor": 0
      },
      "text/plain": [
       "PROCESSING TASKS | Scale uncertainty @ LO:   0%|          | 0/48 [00:00<?, ?it/s]"
      ]
     },
     "metadata": {},
     "output_type": "display_data"
    },
    {
     "data": {
      "application/vnd.jupyter.widget-view+json": {
       "model_id": "386a9c0ededa4441a45a04fb23fb0768",
       "version_major": 2,
       "version_minor": 0
      },
      "text/plain": [
       "COLLECTING RESULTS | Scale uncertainty @ LO:   0%|          | 0/48 [00:00<?, ?it/s]"
      ]
     },
     "metadata": {},
     "output_type": "display_data"
    },
    {
     "data": {
      "application/vnd.jupyter.widget-view+json": {
       "model_id": "b60b0b0149554ac09a90533f69846d74",
       "version_major": 2,
       "version_minor": 0
      },
      "text/plain": [
       "QUEUEING TASKS | Scale uncertainty @ NLO:   0%|          | 0/48 [00:00<?, ?it/s]"
      ]
     },
     "metadata": {},
     "output_type": "display_data"
    },
    {
     "data": {
      "application/vnd.jupyter.widget-view+json": {
       "model_id": "b42cad4c49e54bb78f9f102991d876af",
       "version_major": 2,
       "version_minor": 0
      },
      "text/plain": [
       "PROCESSING TASKS | Scale uncertainty @ NLO:   0%|          | 0/48 [00:00<?, ?it/s]"
      ]
     },
     "metadata": {},
     "output_type": "display_data"
    },
    {
     "data": {
      "application/vnd.jupyter.widget-view+json": {
       "model_id": "38c2bb612ddc4e49b8c38395ca12756e",
       "version_major": 2,
       "version_minor": 0
      },
      "text/plain": [
       "COLLECTING RESULTS | Scale uncertainty @ NLO:   0%|          | 0/48 [00:00<?, ?it/s]"
      ]
     },
     "metadata": {},
     "output_type": "display_data"
    },
    {
     "data": {
      "application/vnd.jupyter.widget-view+json": {
       "model_id": "81806f4845344e219388a71bef89ef8e",
       "version_major": 2,
       "version_minor": 0
      },
      "text/plain": [
       "QUEUEING TASKS | Scale uncertainty @ aNNLO_PLUS_NNLL:   0%|          | 0/48 [00:00<?, ?it/s]"
      ]
     },
     "metadata": {},
     "output_type": "display_data"
    },
    {
     "data": {
      "application/vnd.jupyter.widget-view+json": {
       "model_id": "fce4fd56ec8b4ce0a93f288ff932c8e9",
       "version_major": 2,
       "version_minor": 0
      },
      "text/plain": [
       "PROCESSING TASKS | Scale uncertainty @ aNNLO_PLUS_NNLL:   0%|          | 0/48 [00:00<?, ?it/s]"
      ]
     },
     "metadata": {},
     "output_type": "display_data"
    },
    {
     "data": {
      "application/vnd.jupyter.widget-view+json": {
       "model_id": "8eb97938d8bd4556aac6ea11b7a65f06",
       "version_major": 2,
       "version_minor": 0
      },
      "text/plain": [
       "COLLECTING RESULTS | Scale uncertainty @ aNNLO_PLUS_NNLL:   0%|          | 0/48 [00:00<?, ?it/s]"
      ]
     },
     "metadata": {},
     "output_type": "display_data"
    },
    {
     "name": "stdout",
     "output_type": "stream",
     "text": [
      "13000_sneutrinos_-1000011_1000012\n",
      "| 50.0  |  1.329e+04  |  7.4 | 2.6 | -6.8 | -2.6 |\n",
      "| 60.0  |  5766  |  7.1 | 2.7 | -5.5 | -2.7 |\n",
      "| 70.0  |  3105  |  6.8 | 2.8 | -5.3 | -2.8 |\n",
      "| 80.0  |  1869  |  6.6 | 2.9 | -5.1 | -2.9 |\n",
      "| 90.0  |  1210  |  6.4 | 3.1 | -5.0 | -3.1 |\n",
      "| 100.0  |  824.9  |  6.2 | 3.2 | -4.9 | -3.2 |\n",
      "| 110.0  |  584.8  |  6.0 | 3.2 | -4.8 | -3.2 |\n",
      "| 120.0  |  427.4  |  5.9 | 3.4 | -4.7 | -3.4 |\n",
      "| 130.0  |  320.2  |  5.8 | 3.5 | -4.6 | -3.5 |\n",
      "| 140.0  |  245  |  5.6 | 3.6 | -4.5 | -3.6 |\n",
      "| 150.0  |  190.7  |  5.5 | 3.7 | -4.4 | -3.7 |\n",
      "| 160.0  |  150.8  |  5.4 | 3.8 | -4.4 | -3.8 |\n",
      "| 170.0  |  120.7  |  5.4 | 3.9 | -4.3 | -3.9 |\n",
      "| 180.0  |  97.78  |  5.3 | 4.0 | -4.2 | -4.0 |\n",
      "| 190.0  |  80.02  |  5.3 | 4.1 | -4.2 | -4.1 |\n",
      "| 200.0  |  66.08  |  5.4 | 4.2 | -4.1 | -4.2 |\n",
      "| 210.0  |  55.03  |  5.4 | 4.3 | -4.1 | -4.3 |\n",
      "| 220.0  |  46.14  |  5.4 | 4.4 | -4.0 | -4.4 |\n",
      "| 230.0  |  38.96  |  5.4 | 4.5 | -4.0 | -4.5 |\n",
      "| 240.0  |  33.09  |  5.5 | 4.6 | -4.0 | -4.6 |\n",
      "| 250.0  |  28.26  |  5.5 | 4.7 | -3.9 | -4.7 |\n",
      "| 260.0  |  24.26  |  5.5 | 4.8 | -3.9 | -4.8 |\n",
      "| 270.0  |  20.92  |  5.5 | 4.9 | -3.9 | -4.9 |\n",
      "| 280.0  |  18.12  |  5.5 | 5.0 | -3.8 | -5.0 |\n",
      "| 290.0  |  15.76  |  5.6 | 5.1 | -3.8 | -5.1 |\n",
      "| 300.0  |  13.76  |  5.6 | 5.2 | -3.8 | -5.2 |\n",
      "| 310.0  |  12.05  |  5.5 | 5.3 | -3.8 | -5.3 |\n",
      "| 320.0  |  10.59  |  5.5 | 5.4 | -3.8 | -5.4 |\n",
      "| 330.0  |  9.338  |  5.5 | 5.5 | -3.8 | -5.5 |\n",
      "| 340.0  |  8.256  |  5.6 | 5.6 | -3.8 | -5.6 |\n",
      "| 350.0  |  7.319  |  5.6 | 5.8 | -3.8 | -5.8 |\n",
      "| 360.0  |  6.505  |  5.5 | 5.9 | -3.9 | -5.9 |\n",
      "| 370.0  |  5.795  |  5.5 | 5.9 | -3.9 | -5.9 |\n",
      "| 380.0  |  5.174  |  5.5 | 6.0 | -3.9 | -6.0 |\n",
      "| 390.0  |  4.63  |  5.5 | 6.2 | -3.9 | -6.2 |\n",
      "| 400.0  |  4.151  |  5.5 | 6.2 | -3.9 | -6.2 |\n",
      "| 450.0  |  2.47  |  5.5 | 6.8 | -3.9 | -6.8 |\n",
      "| 500.0  |  1.526  |  5.5 | 7.4 | -3.9 | -7.4 |\n",
      "| 550.0  |  0.9724  |  5.5 | 8.0 | -3.9 | -8.0 |\n",
      "| 600.0  |  0.6348  |  5.5 | 8.6 | -3.9 | -8.6 |\n",
      "| 650.0  |  0.423  |  5.5 | 9.4 | -3.9 | -9.4 |\n",
      "| 700.0  |  0.2868  |  5.4 | 10.3 | -3.9 | -10.3 |\n",
      "| 750.0  |  0.1973  |  5.4 | 11.2 | -3.9 | -11.2 |\n",
      "| 800.0  |  0.1374  |  5.4 | 12.4 | -3.9 | -12.4 |\n",
      "| 850.0  |  0.0968  |  5.4 | 13.7 | -3.9 | -13.7 |\n",
      "| 900.0  |  0.06884  |  5.4 | 15.2 | -3.8 | -15.2 |\n",
      "| 950.0  |  0.04937  |  5.3 | 17.0 | -3.8 | -17.0 |\n",
      "| 1000.0  |  0.03568  |  5.3 | 19.1 | -3.8 | -19.1 |\n"
     ]
    },
    {
     "data": {
      "application/vnd.jupyter.widget-view+json": {
       "model_id": "8cb5a3f42878445bb9330faeaa5c5024",
       "version_major": 2,
       "version_minor": 0
      },
      "text/plain": [
       "QUEUEING TASKS | Checking input:   0%|          | 0/2256 [00:00<?, ?it/s]"
      ]
     },
     "metadata": {},
     "output_type": "display_data"
    },
    {
     "data": {
      "application/vnd.jupyter.widget-view+json": {
       "model_id": "ff9c2393af414935aaef519a6a888623",
       "version_major": 2,
       "version_minor": 0
      },
      "text/plain": [
       "PROCESSING TASKS | Checking input:   0%|          | 0/2256 [00:00<?, ?it/s]"
      ]
     },
     "metadata": {},
     "output_type": "display_data"
    },
    {
     "data": {
      "application/vnd.jupyter.widget-view+json": {
       "model_id": "774fd8a96c2a4177a873965c5df34465",
       "version_major": 2,
       "version_minor": 0
      },
      "text/plain": [
       "COLLECTING RESULTS | Checking input:   0%|          | 0/2256 [00:00<?, ?it/s]"
      ]
     },
     "metadata": {},
     "output_type": "display_data"
    },
    {
     "data": {
      "application/vnd.jupyter.widget-view+json": {
       "model_id": "1e7f8bc9e71b4ca89416457fedf2dbe1",
       "version_major": 2,
       "version_minor": 0
      },
      "text/plain": [
       "QUEUEING TASKS | Preparing:   0%|          | 0/2256 [00:00<?, ?it/s]"
      ]
     },
     "metadata": {},
     "output_type": "display_data"
    },
    {
     "data": {
      "application/vnd.jupyter.widget-view+json": {
       "model_id": "4fbada8c35174ec5a168892b4121caa1",
       "version_major": 2,
       "version_minor": 0
      },
      "text/plain": [
       "PROCESSING TASKS | Preparing:   0%|          | 0/2256 [00:00<?, ?it/s]"
      ]
     },
     "metadata": {},
     "output_type": "display_data"
    },
    {
     "data": {
      "application/vnd.jupyter.widget-view+json": {
       "model_id": "2f3850876ba6499f8bf37fcac5b1578a",
       "version_major": 2,
       "version_minor": 0
      },
      "text/plain": [
       "COLLECTING RESULTS | Preparing:   0%|          | 0/2256 [00:00<?, ?it/s]"
      ]
     },
     "metadata": {},
     "output_type": "display_data"
    },
    {
     "name": "stdout",
     "output_type": "stream",
     "text": [
      "Skipped: 2256 Not skipped: 0\n"
     ]
    },
    {
     "data": {
      "application/vnd.jupyter.widget-view+json": {
       "model_id": "5d7fd817c45641b28a968d9c2c042bb7",
       "version_major": 2,
       "version_minor": 0
      },
      "text/plain": [
       "QUEUEING TASKS | Running: 0it [00:00, ?it/s]"
      ]
     },
     "metadata": {},
     "output_type": "display_data"
    },
    {
     "data": {
      "application/vnd.jupyter.widget-view+json": {
       "model_id": "73069f71c5674cf8a40d3ded6b7474c7",
       "version_major": 2,
       "version_minor": 0
      },
      "text/plain": [
       "PROCESSING TASKS | Running: 0it [00:00, ?it/s]"
      ]
     },
     "metadata": {},
     "output_type": "display_data"
    },
    {
     "data": {
      "application/vnd.jupyter.widget-view+json": {
       "model_id": "a637246736d24e54bc6aa0de8a34148d",
       "version_major": 2,
       "version_minor": 0
      },
      "text/plain": [
       "COLLECTING RESULTS | Running: 0it [00:00, ?it/s]"
      ]
     },
     "metadata": {},
     "output_type": "display_data"
    },
    {
     "data": {
      "application/vnd.jupyter.widget-view+json": {
       "model_id": "3f23c043b679494783487ec859987832",
       "version_major": 2,
       "version_minor": 0
      },
      "text/plain": [
       "QUEUEING TASKS | Parsing:   0%|          | 0/2256 [00:00<?, ?it/s]"
      ]
     },
     "metadata": {},
     "output_type": "display_data"
    },
    {
     "data": {
      "application/vnd.jupyter.widget-view+json": {
       "model_id": "1cfba7ebf90e477f9dd81c951f2f0f4d",
       "version_major": 2,
       "version_minor": 0
      },
      "text/plain": [
       "PROCESSING TASKS | Parsing:   0%|          | 0/2256 [00:00<?, ?it/s]"
      ]
     },
     "metadata": {},
     "output_type": "display_data"
    },
    {
     "data": {
      "application/vnd.jupyter.widget-view+json": {
       "model_id": "e5f433a8789741638a0e98e0aa601c1b",
       "version_major": 2,
       "version_minor": 0
      },
      "text/plain": [
       "COLLECTING RESULTS | Parsing:   0%|          | 0/2256 [00:00<?, ?it/s]"
      ]
     },
     "metadata": {},
     "output_type": "display_data"
    },
    {
     "data": {
      "application/vnd.jupyter.widget-view+json": {
       "model_id": "6f1713fee1054a98a451ac5c07c151cc",
       "version_major": 2,
       "version_minor": 0
      },
      "text/plain": [
       "QUEUEING TASKS | PDF uncertainty @ LO:   0%|          | 0/48 [00:00<?, ?it/s]"
      ]
     },
     "metadata": {},
     "output_type": "display_data"
    },
    {
     "data": {
      "application/vnd.jupyter.widget-view+json": {
       "model_id": "2d3c2e8d921a4a298317e37acf553aab",
       "version_major": 2,
       "version_minor": 0
      },
      "text/plain": [
       "PROCESSING TASKS | PDF uncertainty @ LO:   0%|          | 0/48 [00:00<?, ?it/s]"
      ]
     },
     "metadata": {},
     "output_type": "display_data"
    },
    {
     "data": {
      "application/vnd.jupyter.widget-view+json": {
       "model_id": "96517dfd2a8c437eb11c12b6ad37c89d",
       "version_major": 2,
       "version_minor": 0
      },
      "text/plain": [
       "COLLECTING RESULTS | PDF uncertainty @ LO:   0%|          | 0/48 [00:00<?, ?it/s]"
      ]
     },
     "metadata": {},
     "output_type": "display_data"
    },
    {
     "data": {
      "application/vnd.jupyter.widget-view+json": {
       "model_id": "69c8e6ce2e4e40c8a2be6d4546486a10",
       "version_major": 2,
       "version_minor": 0
      },
      "text/plain": [
       "QUEUEING TASKS | PDF uncertainty @ NLO:   0%|          | 0/48 [00:00<?, ?it/s]"
      ]
     },
     "metadata": {},
     "output_type": "display_data"
    },
    {
     "data": {
      "application/vnd.jupyter.widget-view+json": {
       "model_id": "d8521e60ce534b41b9a9a776d4109ad7",
       "version_major": 2,
       "version_minor": 0
      },
      "text/plain": [
       "PROCESSING TASKS | PDF uncertainty @ NLO:   0%|          | 0/48 [00:00<?, ?it/s]"
      ]
     },
     "metadata": {},
     "output_type": "display_data"
    },
    {
     "data": {
      "application/vnd.jupyter.widget-view+json": {
       "model_id": "20e1cfc4516345c5818174ce7c7ecd4d",
       "version_major": 2,
       "version_minor": 0
      },
      "text/plain": [
       "COLLECTING RESULTS | PDF uncertainty @ NLO:   0%|          | 0/48 [00:00<?, ?it/s]"
      ]
     },
     "metadata": {},
     "output_type": "display_data"
    },
    {
     "data": {
      "application/vnd.jupyter.widget-view+json": {
       "model_id": "2aaa0ff6650043e29bfe82213b30600f",
       "version_major": 2,
       "version_minor": 0
      },
      "text/plain": [
       "QUEUEING TASKS | PDF uncertainty @ aNNLO_PLUS_NNLL:   0%|          | 0/48 [00:00<?, ?it/s]"
      ]
     },
     "metadata": {},
     "output_type": "display_data"
    },
    {
     "data": {
      "application/vnd.jupyter.widget-view+json": {
       "model_id": "af4bfd497eaf46e7ad8121c9d0a2da8b",
       "version_major": 2,
       "version_minor": 0
      },
      "text/plain": [
       "PROCESSING TASKS | PDF uncertainty @ aNNLO_PLUS_NNLL:   0%|          | 0/48 [00:00<?, ?it/s]"
      ]
     },
     "metadata": {},
     "output_type": "display_data"
    },
    {
     "data": {
      "application/vnd.jupyter.widget-view+json": {
       "model_id": "664e4a2aaf4c4a0a9b833b9d69d55af8",
       "version_major": 2,
       "version_minor": 0
      },
      "text/plain": [
       "COLLECTING RESULTS | PDF uncertainty @ aNNLO_PLUS_NNLL:   0%|          | 0/48 [00:00<?, ?it/s]"
      ]
     },
     "metadata": {},
     "output_type": "display_data"
    },
    {
     "data": {
      "application/vnd.jupyter.widget-view+json": {
       "model_id": "bbfa73e5f8804a208c81676624415760",
       "version_major": 2,
       "version_minor": 0
      },
      "text/plain": [
       "QUEUEING TASKS | Scale uncertainty @ LO:   0%|          | 0/48 [00:00<?, ?it/s]"
      ]
     },
     "metadata": {},
     "output_type": "display_data"
    },
    {
     "data": {
      "application/vnd.jupyter.widget-view+json": {
       "model_id": "dc45081095c8423b906a9ccba4ea6e6e",
       "version_major": 2,
       "version_minor": 0
      },
      "text/plain": [
       "PROCESSING TASKS | Scale uncertainty @ LO:   0%|          | 0/48 [00:00<?, ?it/s]"
      ]
     },
     "metadata": {},
     "output_type": "display_data"
    },
    {
     "data": {
      "application/vnd.jupyter.widget-view+json": {
       "model_id": "179d9691d3454538ac69100e5094050a",
       "version_major": 2,
       "version_minor": 0
      },
      "text/plain": [
       "COLLECTING RESULTS | Scale uncertainty @ LO:   0%|          | 0/48 [00:00<?, ?it/s]"
      ]
     },
     "metadata": {},
     "output_type": "display_data"
    },
    {
     "data": {
      "application/vnd.jupyter.widget-view+json": {
       "model_id": "5abe73806af34e24b3e0d5f95b4a1514",
       "version_major": 2,
       "version_minor": 0
      },
      "text/plain": [
       "QUEUEING TASKS | Scale uncertainty @ NLO:   0%|          | 0/48 [00:00<?, ?it/s]"
      ]
     },
     "metadata": {},
     "output_type": "display_data"
    },
    {
     "data": {
      "application/vnd.jupyter.widget-view+json": {
       "model_id": "2c1c298d47744f18b5dea70ab33da5ca",
       "version_major": 2,
       "version_minor": 0
      },
      "text/plain": [
       "PROCESSING TASKS | Scale uncertainty @ NLO:   0%|          | 0/48 [00:00<?, ?it/s]"
      ]
     },
     "metadata": {},
     "output_type": "display_data"
    },
    {
     "data": {
      "application/vnd.jupyter.widget-view+json": {
       "model_id": "8b0de139764942aeae3422ebbb74c92b",
       "version_major": 2,
       "version_minor": 0
      },
      "text/plain": [
       "COLLECTING RESULTS | Scale uncertainty @ NLO:   0%|          | 0/48 [00:00<?, ?it/s]"
      ]
     },
     "metadata": {},
     "output_type": "display_data"
    },
    {
     "data": {
      "application/vnd.jupyter.widget-view+json": {
       "model_id": "0c2cc7d6b6eb453394c4a3eb775bc196",
       "version_major": 2,
       "version_minor": 0
      },
      "text/plain": [
       "QUEUEING TASKS | Scale uncertainty @ aNNLO_PLUS_NNLL:   0%|          | 0/48 [00:00<?, ?it/s]"
      ]
     },
     "metadata": {},
     "output_type": "display_data"
    },
    {
     "data": {
      "application/vnd.jupyter.widget-view+json": {
       "model_id": "6716b2f9ee394b2993527087b6fcceec",
       "version_major": 2,
       "version_minor": 0
      },
      "text/plain": [
       "PROCESSING TASKS | Scale uncertainty @ aNNLO_PLUS_NNLL:   0%|          | 0/48 [00:00<?, ?it/s]"
      ]
     },
     "metadata": {},
     "output_type": "display_data"
    },
    {
     "data": {
      "application/vnd.jupyter.widget-view+json": {
       "model_id": "97310a1c92994fb090cada5e59d0c28b",
       "version_major": 2,
       "version_minor": 0
      },
      "text/plain": [
       "COLLECTING RESULTS | Scale uncertainty @ aNNLO_PLUS_NNLL:   0%|          | 0/48 [00:00<?, ?it/s]"
      ]
     },
     "metadata": {},
     "output_type": "display_data"
    },
    {
     "name": "stdout",
     "output_type": "stream",
     "text": [
      "13600_sneutrinos_-1000011_1000012\n",
      "| 50.0  |  1.395e+04  |  7.4 | 2.6 | -7.0 | -2.6 |\n",
      "| 60.0  |  6067  |  7.1 | 2.7 | -5.5 | -2.7 |\n",
      "| 70.0  |  3272  |  6.8 | 2.8 | -5.3 | -2.8 |\n",
      "| 80.0  |  1974  |  6.6 | 2.9 | -5.1 | -2.9 |\n",
      "| 90.0  |  1280  |  6.4 | 3.0 | -5.0 | -3.0 |\n",
      "| 100.0  |  873.8  |  6.2 | 3.1 | -4.9 | -3.1 |\n",
      "| 110.0  |  620  |  6.0 | 3.2 | -4.8 | -3.2 |\n",
      "| 120.0  |  453.9  |  5.9 | 3.3 | -4.7 | -3.3 |\n",
      "| 130.0  |  340.5  |  5.8 | 3.4 | -4.6 | -3.4 |\n",
      "| 140.0  |  260.9  |  5.6 | 3.5 | -4.5 | -3.5 |\n",
      "| 150.0  |  203.4  |  5.5 | 3.6 | -4.4 | -3.6 |\n",
      "| 160.0  |  161  |  5.5 | 3.7 | -4.4 | -3.7 |\n",
      "| 170.0  |  129.1  |  5.4 | 3.8 | -4.3 | -3.8 |\n",
      "| 180.0  |  104.7  |  5.3 | 3.9 | -4.2 | -3.9 |\n",
      "| 190.0  |  85.75  |  5.3 | 4.0 | -4.2 | -4.0 |\n",
      "| 200.0  |  70.91  |  5.3 | 4.1 | -4.1 | -4.1 |\n",
      "| 210.0  |  59.12  |  5.3 | 4.2 | -4.1 | -4.2 |\n",
      "| 220.0  |  49.63  |  5.4 | 4.3 | -4.0 | -4.3 |\n",
      "| 230.0  |  41.96  |  5.4 | 4.4 | -4.0 | -4.4 |\n",
      "| 240.0  |  35.69  |  5.4 | 4.5 | -4.0 | -4.5 |\n",
      "| 250.0  |  30.52  |  5.4 | 4.6 | -3.9 | -4.6 |\n",
      "| 260.0  |  26.23  |  5.4 | 4.7 | -3.9 | -4.7 |\n",
      "| 270.0  |  22.65  |  5.5 | 4.8 | -3.9 | -4.8 |\n",
      "| 280.0  |  19.65  |  5.5 | 4.9 | -3.8 | -4.9 |\n",
      "| 290.0  |  17.11  |  5.5 | 5.0 | -3.8 | -5.0 |\n",
      "| 300.0  |  14.95  |  5.5 | 5.1 | -3.8 | -5.1 |\n",
      "| 310.0  |  13.12  |  5.5 | 5.2 | -3.7 | -5.2 |\n",
      "| 320.0  |  11.54  |  5.5 | 5.3 | -3.7 | -5.3 |\n",
      "| 330.0  |  10.19  |  5.5 | 5.4 | -3.8 | -5.4 |\n",
      "| 340.0  |  9.019  |  5.5 | 5.5 | -3.8 | -5.5 |\n",
      "| 350.0  |  8.007  |  5.5 | 5.6 | -3.8 | -5.6 |\n",
      "| 360.0  |  7.125  |  5.5 | 5.7 | -3.8 | -5.7 |\n",
      "| 370.0  |  6.356  |  5.5 | 5.8 | -3.8 | -5.8 |\n",
      "| 380.0  |  5.683  |  5.5 | 5.9 | -3.8 | -5.9 |\n",
      "| 390.0  |  5.092  |  5.5 | 6.0 | -3.8 | -6.0 |\n",
      "| 400.0  |  4.571  |  5.5 | 6.1 | -3.8 | -6.1 |\n",
      "| 450.0  |  2.739  |  5.5 | 6.6 | -3.9 | -6.6 |\n",
      "| 500.0  |  1.705  |  5.4 | 7.1 | -3.9 | -7.1 |\n",
      "| 550.0  |  1.094  |  5.4 | 7.7 | -3.9 | -7.7 |\n",
      "| 600.0  |  0.7191  |  5.4 | 8.3 | -3.9 | -8.3 |\n",
      "| 650.0  |  0.4828  |  5.4 | 9.0 | -3.9 | -9.0 |\n",
      "| 700.0  |  0.3298  |  5.4 | 9.7 | -3.9 | -9.7 |\n",
      "| 750.0  |  0.2286  |  5.4 | 10.6 | -3.9 | -10.6 |\n",
      "| 800.0  |  0.1605  |  5.4 | 11.6 | -3.9 | -11.6 |\n",
      "| 850.0  |  0.1139  |  5.4 | 12.7 | -3.8 | -12.7 |\n",
      "| 900.0  |  0.08165  |  5.3 | 14.0 | -3.8 | -14.0 |\n",
      "| 950.0  |  0.05903  |  5.3 | 15.5 | -3.8 | -15.5 |\n",
      "| 1000.0  |  0.043  |  5.3 | 17.2 | -3.8 | -17.2 |\n"
     ]
    },
    {
     "data": {
      "image/png": "[encoded data removed]",
      "text/plain": [
       "<Figure size 600x400 with 2 Axes>"
      ]
     },
     "metadata": {},
     "output_type": "display_data"
    },
    {
     "data": {
      "application/vnd.jupyter.widget-view+json": {
       "model_id": "662adba7c1de4d1bbd05324e6e04c8b8",
       "version_major": 2,
       "version_minor": 0
      },
      "text/plain": [
       "QUEUEING TASKS | Checking input:   0%|          | 0/2256 [00:00<?, ?it/s]"
      ]
     },
     "metadata": {},
     "output_type": "display_data"
    },
    {
     "data": {
      "application/vnd.jupyter.widget-view+json": {
       "model_id": "6b237ab8a6bb49e69d43a0b669aa6fce",
       "version_major": 2,
       "version_minor": 0
      },
      "text/plain": [
       "PROCESSING TASKS | Checking input:   0%|          | 0/2256 [00:00<?, ?it/s]"
      ]
     },
     "metadata": {},
     "output_type": "display_data"
    },
    {
     "data": {
      "application/vnd.jupyter.widget-view+json": {
       "model_id": "f957ad54d4294219ab173ad86eba98fb",
       "version_major": 2,
       "version_minor": 0
      },
      "text/plain": [
       "COLLECTING RESULTS | Checking input:   0%|          | 0/2256 [00:00<?, ?it/s]"
      ]
     },
     "metadata": {},
     "output_type": "display_data"
    },
    {
     "data": {
      "application/vnd.jupyter.widget-view+json": {
       "model_id": "b235f8c2cc9949b195f65bb1d115e63c",
       "version_major": 2,
       "version_minor": 0
      },
      "text/plain": [
       "QUEUEING TASKS | Preparing:   0%|          | 0/2256 [00:00<?, ?it/s]"
      ]
     },
     "metadata": {},
     "output_type": "display_data"
    },
    {
     "data": {
      "application/vnd.jupyter.widget-view+json": {
       "model_id": "bd0d5a4686f641a9b49be9c3e1669db0",
       "version_major": 2,
       "version_minor": 0
      },
      "text/plain": [
       "PROCESSING TASKS | Preparing:   0%|          | 0/2256 [00:00<?, ?it/s]"
      ]
     },
     "metadata": {},
     "output_type": "display_data"
    },
    {
     "data": {
      "application/vnd.jupyter.widget-view+json": {
       "model_id": "3c6f2071f36c4b0cb961f70d7db29dc3",
       "version_major": 2,
       "version_minor": 0
      },
      "text/plain": [
       "COLLECTING RESULTS | Preparing:   0%|          | 0/2256 [00:00<?, ?it/s]"
      ]
     },
     "metadata": {},
     "output_type": "display_data"
    },
    {
     "name": "stdout",
     "output_type": "stream",
     "text": [
      "Skipped: 2256 Not skipped: 0\n"
     ]
    },
    {
     "data": {
      "application/vnd.jupyter.widget-view+json": {
       "model_id": "c1eeedd2196043beb42a26d7bbac75f5",
       "version_major": 2,
       "version_minor": 0
      },
      "text/plain": [
       "QUEUEING TASKS | Running: 0it [00:00, ?it/s]"
      ]
     },
     "metadata": {},
     "output_type": "display_data"
    },
    {
     "data": {
      "application/vnd.jupyter.widget-view+json": {
       "model_id": "6990a4a8e2f94ed3a626570584ae6eb5",
       "version_major": 2,
       "version_minor": 0
      },
      "text/plain": [
       "PROCESSING TASKS | Running: 0it [00:00, ?it/s]"
      ]
     },
     "metadata": {},
     "output_type": "display_data"
    },
    {
     "data": {
      "application/vnd.jupyter.widget-view+json": {
       "model_id": "489ae24ed16049be92fc510371346a15",
       "version_major": 2,
       "version_minor": 0
      },
      "text/plain": [
       "COLLECTING RESULTS | Running: 0it [00:00, ?it/s]"
      ]
     },
     "metadata": {},
     "output_type": "display_data"
    },
    {
     "data": {
      "application/vnd.jupyter.widget-view+json": {
       "model_id": "8ce9433fc0b64681af190338bc3b8c9d",
       "version_major": 2,
       "version_minor": 0
      },
      "text/plain": [
       "QUEUEING TASKS | Parsing:   0%|          | 0/2256 [00:00<?, ?it/s]"
      ]
     },
     "metadata": {},
     "output_type": "display_data"
    },
    {
     "data": {
      "application/vnd.jupyter.widget-view+json": {
       "model_id": "382c3901f12541f2a65c09aff6408b07",
       "version_major": 2,
       "version_minor": 0
      },
      "text/plain": [
       "PROCESSING TASKS | Parsing:   0%|          | 0/2256 [00:00<?, ?it/s]"
      ]
     },
     "metadata": {},
     "output_type": "display_data"
    },
    {
     "data": {
      "application/vnd.jupyter.widget-view+json": {
       "model_id": "33a760ef6a7b4fa990f2d6ef58b09e85",
       "version_major": 2,
       "version_minor": 0
      },
      "text/plain": [
       "COLLECTING RESULTS | Parsing:   0%|          | 0/2256 [00:00<?, ?it/s]"
      ]
     },
     "metadata": {},
     "output_type": "display_data"
    },
    {
     "data": {
      "application/vnd.jupyter.widget-view+json": {
       "model_id": "33a90f765477496d92ab8491fa82980b",
       "version_major": 2,
       "version_minor": 0
      },
      "text/plain": [
       "QUEUEING TASKS | PDF uncertainty @ LO:   0%|          | 0/48 [00:00<?, ?it/s]"
      ]
     },
     "metadata": {},
     "output_type": "display_data"
    },
    {
     "data": {
      "application/vnd.jupyter.widget-view+json": {
       "model_id": "8b93f057a4d64f7698fb88cd49ff4281",
       "version_major": 2,
       "version_minor": 0
      },
      "text/plain": [
       "PROCESSING TASKS | PDF uncertainty @ LO:   0%|          | 0/48 [00:00<?, ?it/s]"
      ]
     },
     "metadata": {},
     "output_type": "display_data"
    },
    {
     "data": {
      "application/vnd.jupyter.widget-view+json": {
       "model_id": "4b3885df5ea94b3992b70086ec391957",
       "version_major": 2,
       "version_minor": 0
      },
      "text/plain": [
       "COLLECTING RESULTS | PDF uncertainty @ LO:   0%|          | 0/48 [00:00<?, ?it/s]"
      ]
     },
     "metadata": {},
     "output_type": "display_data"
    },
    {
     "data": {
      "application/vnd.jupyter.widget-view+json": {
       "model_id": "c2c47b6020164163839a10de7b1b3e36",
       "version_major": 2,
       "version_minor": 0
      },
      "text/plain": [
       "QUEUEING TASKS | PDF uncertainty @ NLO:   0%|          | 0/48 [00:00<?, ?it/s]"
      ]
     },
     "metadata": {},
     "output_type": "display_data"
    },
    {
     "data": {
      "application/vnd.jupyter.widget-view+json": {
       "model_id": "5fe15a68f7124c8e991cec0d16df31ee",
       "version_major": 2,
       "version_minor": 0
      },
      "text/plain": [
       "PROCESSING TASKS | PDF uncertainty @ NLO:   0%|          | 0/48 [00:00<?, ?it/s]"
      ]
     },
     "metadata": {},
     "output_type": "display_data"
    },
    {
     "data": {
      "application/vnd.jupyter.widget-view+json": {
       "model_id": "21efeee7e9bd4261bda6b99cb4762d3a",
       "version_major": 2,
       "version_minor": 0
      },
      "text/plain": [
       "COLLECTING RESULTS | PDF uncertainty @ NLO:   0%|          | 0/48 [00:00<?, ?it/s]"
      ]
     },
     "metadata": {},
     "output_type": "display_data"
    },
    {
     "data": {
      "application/vnd.jupyter.widget-view+json": {
       "model_id": "20a85263eabb40b39cb7d593ccd10cc0",
       "version_major": 2,
       "version_minor": 0
      },
      "text/plain": [
       "QUEUEING TASKS | PDF uncertainty @ aNNLO_PLUS_NNLL:   0%|          | 0/48 [00:00<?, ?it/s]"
      ]
     },
     "metadata": {},
     "output_type": "display_data"
    },
    {
     "data": {
      "application/vnd.jupyter.widget-view+json": {
       "model_id": "2319e7781e124570a7951022d4d01ba7",
       "version_major": 2,
       "version_minor": 0
      },
      "text/plain": [
       "PROCESSING TASKS | PDF uncertainty @ aNNLO_PLUS_NNLL:   0%|          | 0/48 [00:00<?, ?it/s]"
      ]
     },
     "metadata": {},
     "output_type": "display_data"
    },
    {
     "data": {
      "application/vnd.jupyter.widget-view+json": {
       "model_id": "15f78a150cdb4ef69d3b61396cac7162",
       "version_major": 2,
       "version_minor": 0
      },
      "text/plain": [
       "COLLECTING RESULTS | PDF uncertainty @ aNNLO_PLUS_NNLL:   0%|          | 0/48 [00:00<?, ?it/s]"
      ]
     },
     "metadata": {},
     "output_type": "display_data"
    },
    {
     "data": {
      "application/vnd.jupyter.widget-view+json": {
       "model_id": "354245ebca2a4400ab23eb548ee0956a",
       "version_major": 2,
       "version_minor": 0
      },
      "text/plain": [
       "QUEUEING TASKS | Scale uncertainty @ LO:   0%|          | 0/48 [00:00<?, ?it/s]"
      ]
     },
     "metadata": {},
     "output_type": "display_data"
    },
    {
     "data": {
      "application/vnd.jupyter.widget-view+json": {
       "model_id": "1320f5d79aa54d3ab59218edc77530b1",
       "version_major": 2,
       "version_minor": 0
      },
      "text/plain": [
       "PROCESSING TASKS | Scale uncertainty @ LO:   0%|          | 0/48 [00:00<?, ?it/s]"
      ]
     },
     "metadata": {},
     "output_type": "display_data"
    },
    {
     "data": {
      "application/vnd.jupyter.widget-view+json": {
       "model_id": "8591f77a70c3467d8936e6c46c0d74e0",
       "version_major": 2,
       "version_minor": 0
      },
      "text/plain": [
       "COLLECTING RESULTS | Scale uncertainty @ LO:   0%|          | 0/48 [00:00<?, ?it/s]"
      ]
     },
     "metadata": {},
     "output_type": "display_data"
    },
    {
     "data": {
      "application/vnd.jupyter.widget-view+json": {
       "model_id": "66964628304846bab53b696c3af9492e",
       "version_major": 2,
       "version_minor": 0
      },
      "text/plain": [
       "QUEUEING TASKS | Scale uncertainty @ NLO:   0%|          | 0/48 [00:00<?, ?it/s]"
      ]
     },
     "metadata": {},
     "output_type": "display_data"
    },
    {
     "data": {
      "application/vnd.jupyter.widget-view+json": {
       "model_id": "0e6e8d4fedd24120bedf2e8348a62ee7",
       "version_major": 2,
       "version_minor": 0
      },
      "text/plain": [
       "PROCESSING TASKS | Scale uncertainty @ NLO:   0%|          | 0/48 [00:00<?, ?it/s]"
      ]
     },
     "metadata": {},
     "output_type": "display_data"
    },
    {
     "data": {
      "application/vnd.jupyter.widget-view+json": {
       "model_id": "7d3b8eb5f6614abbb271f09c6cc6b06a",
       "version_major": 2,
       "version_minor": 0
      },
      "text/plain": [
       "COLLECTING RESULTS | Scale uncertainty @ NLO:   0%|          | 0/48 [00:00<?, ?it/s]"
      ]
     },
     "metadata": {},
     "output_type": "display_data"
    },
    {
     "data": {
      "application/vnd.jupyter.widget-view+json": {
       "model_id": "cd09d382c34f45dd9c697bf2dfe8b89e",
       "version_major": 2,
       "version_minor": 0
      },
      "text/plain": [
       "QUEUEING TASKS | Scale uncertainty @ aNNLO_PLUS_NNLL:   0%|          | 0/48 [00:00<?, ?it/s]"
      ]
     },
     "metadata": {},
     "output_type": "display_data"
    },
    {
     "data": {
      "application/vnd.jupyter.widget-view+json": {
       "model_id": "af15225fcb2b4bb3b92af6fe9c60021c",
       "version_major": 2,
       "version_minor": 0
      },
      "text/plain": [
       "PROCESSING TASKS | Scale uncertainty @ aNNLO_PLUS_NNLL:   0%|          | 0/48 [00:00<?, ?it/s]"
      ]
     },
     "metadata": {},
     "output_type": "display_data"
    },
    {
     "data": {
      "application/vnd.jupyter.widget-view+json": {
       "model_id": "02ca4db6bf404957bd9b1339e75737c9",
       "version_major": 2,
       "version_minor": 0
      },
      "text/plain": [
       "COLLECTING RESULTS | Scale uncertainty @ aNNLO_PLUS_NNLL:   0%|          | 0/48 [00:00<?, ?it/s]"
      ]
     },
     "metadata": {},
     "output_type": "display_data"
    },
    {
     "name": "stdout",
     "output_type": "stream",
     "text": [
      "13000_sneutrinos_1000011_-1000012\n",
      "| 50.0  |  9185  |  7.4 | 2.5 | -7.0 | -2.5 |\n",
      "| 60.0  |  3862  |  7.1 | 2.6 | -5.5 | -2.6 |\n",
      "| 70.0  |  2025  |  6.8 | 2.7 | -5.3 | -2.7 |\n",
      "| 80.0  |  1191  |  6.5 | 2.9 | -5.1 | -2.9 |\n",
      "| 90.0  |  754.6  |  6.3 | 3.0 | -5.0 | -3.0 |\n",
      "| 100.0  |  504  |  6.2 | 3.1 | -4.8 | -3.1 |\n",
      "| 110.0  |  350.4  |  6.0 | 3.2 | -4.7 | -3.2 |\n",
      "| 120.0  |  251.5  |  5.9 | 3.3 | -4.6 | -3.3 |\n",
      "| 130.0  |  185.3  |  5.7 | 3.4 | -4.5 | -3.4 |\n",
      "| 140.0  |  139.4  |  5.6 | 3.6 | -4.5 | -3.6 |\n",
      "| 150.0  |  106.8  |  5.5 | 3.7 | -4.4 | -3.7 |\n",
      "| 160.0  |  83.13  |  5.4 | 3.8 | -4.3 | -3.8 |\n",
      "| 170.0  |  65.6  |  5.3 | 4.0 | -4.3 | -4.0 |\n",
      "| 180.0  |  52.37  |  5.3 | 4.1 | -4.2 | -4.1 |\n",
      "| 190.0  |  42.26  |  5.2 | 4.2 | -4.1 | -4.2 |\n",
      "| 200.0  |  34.43  |  5.3 | 4.3 | -4.1 | -4.3 |\n",
      "| 210.0  |  28.29  |  5.3 | 4.5 | -4.0 | -4.5 |\n",
      "| 220.0  |  23.42  |  5.4 | 4.6 | -4.0 | -4.6 |\n",
      "| 230.0  |  19.53  |  5.4 | 4.8 | -3.9 | -4.8 |\n",
      "| 240.0  |  16.39  |  5.4 | 4.9 | -3.9 | -4.9 |\n",
      "| 250.0  |  13.83  |  5.4 | 5.0 | -3.9 | -5.0 |\n",
      "| 260.0  |  11.74  |  5.5 | 5.2 | -3.8 | -5.2 |\n",
      "| 270.0  |  10.01  |  5.4 | 5.3 | -3.8 | -5.3 |\n",
      "| 280.0  |  8.576  |  5.5 | 5.4 | -3.8 | -5.4 |\n",
      "| 290.0  |  7.378  |  5.5 | 5.6 | -3.7 | -5.6 |\n",
      "| 300.0  |  6.374  |  5.5 | 5.8 | -3.7 | -5.8 |\n",
      "| 310.0  |  5.527  |  5.5 | 5.9 | -3.7 | -5.9 |\n",
      "| 320.0  |  4.809  |  5.5 | 6.1 | -3.7 | -6.1 |\n",
      "| 330.0  |  4.197  |  5.5 | 6.2 | -3.6 | -6.2 |\n",
      "| 340.0  |  3.675  |  5.5 | 6.4 | -3.6 | -6.4 |\n",
      "| 350.0  |  3.227  |  5.5 | 6.5 | -3.6 | -6.5 |\n",
      "| 360.0  |  2.841  |  5.5 | 6.7 | -3.6 | -6.7 |\n",
      "| 370.0  |  2.508  |  5.5 | 6.8 | -3.6 | -6.8 |\n",
      "| 380.0  |  2.22  |  5.4 | 7.0 | -3.7 | -7.0 |\n",
      "| 390.0  |  1.969  |  5.4 | 7.2 | -3.7 | -7.2 |\n",
      "| 400.0  |  1.75  |  5.4 | 7.4 | -3.7 | -7.4 |\n",
      "| 450.0  |  1  |  5.4 | 8.2 | -3.7 | -8.2 |\n",
      "| 500.0  |  0.5955  |  5.4 | 9.2 | -3.7 | -9.2 |\n",
      "| 550.0  |  0.3667  |  5.4 | 10.3 | -3.7 | -10.3 |\n",
      "| 600.0  |  0.2321  |  5.4 | 11.5 | -3.7 | -11.5 |\n",
      "| 650.0  |  0.1504  |  5.4 | 12.8 | -3.7 | -12.8 |\n",
      "| 700.0  |  0.0994  |  5.3 | 14.4 | -3.7 | -14.4 |\n",
      "| 750.0  |  0.06683  |  5.3 | 16.2 | -3.7 | -16.2 |\n",
      "| 800.0  |  0.0456  |  5.3 | 18.3 | -3.6 | -18.3 |\n",
      "| 850.0  |  0.03153  |  5.3 | 20.5 | -3.6 | -20.5 |\n",
      "| 900.0  |  0.02206  |  5.2 | 23.1 | -3.6 | -23.1 |\n",
      "| 950.0  |  0.01559  |  5.2 | 26.0 | -3.5 | -26.0 |\n",
      "| 1000.0  |  0.01113  |  5.2 | 29.2 | -3.5 | -29.2 |\n"
     ]
    },
    {
     "data": {
      "application/vnd.jupyter.widget-view+json": {
       "model_id": "8166a55d63f84d7db1876a9223b5e4b6",
       "version_major": 2,
       "version_minor": 0
      },
      "text/plain": [
       "QUEUEING TASKS | Checking input:   0%|          | 0/2256 [00:00<?, ?it/s]"
      ]
     },
     "metadata": {},
     "output_type": "display_data"
    },
    {
     "data": {
      "application/vnd.jupyter.widget-view+json": {
       "model_id": "fce60d2c57914943a11bc4abb8d5f604",
       "version_major": 2,
       "version_minor": 0
      },
      "text/plain": [
       "PROCESSING TASKS | Checking input:   0%|          | 0/2256 [00:00<?, ?it/s]"
      ]
     },
     "metadata": {},
     "output_type": "display_data"
    },
    {
     "data": {
      "application/vnd.jupyter.widget-view+json": {
       "model_id": "1c91b91a9dbf4df095ee5470dd1805bb",
       "version_major": 2,
       "version_minor": 0
      },
      "text/plain": [
       "COLLECTING RESULTS | Checking input:   0%|          | 0/2256 [00:00<?, ?it/s]"
      ]
     },
     "metadata": {},
     "output_type": "display_data"
    },
    {
     "data": {
      "application/vnd.jupyter.widget-view+json": {
       "model_id": "cdc02b1e5c4a45f9b28b5df2986bc997",
       "version_major": 2,
       "version_minor": 0
      },
      "text/plain": [
       "QUEUEING TASKS | Preparing:   0%|          | 0/2256 [00:00<?, ?it/s]"
      ]
     },
     "metadata": {},
     "output_type": "display_data"
    },
    {
     "data": {
      "application/vnd.jupyter.widget-view+json": {
       "model_id": "4b2ce26e081142bdb47af4d95246e3c8",
       "version_major": 2,
       "version_minor": 0
      },
      "text/plain": [
       "PROCESSING TASKS | Preparing:   0%|          | 0/2256 [00:00<?, ?it/s]"
      ]
     },
     "metadata": {},
     "output_type": "display_data"
    },
    {
     "data": {
      "application/vnd.jupyter.widget-view+json": {
       "model_id": "b03cdb9c89b84f159a84ecc769d835d6",
       "version_major": 2,
       "version_minor": 0
      },
      "text/plain": [
       "COLLECTING RESULTS | Preparing:   0%|          | 0/2256 [00:00<?, ?it/s]"
      ]
     },
     "metadata": {},
     "output_type": "display_data"
    },
    {
     "name": "stdout",
     "output_type": "stream",
     "text": [
      "Skipped: 2256 Not skipped: 0\n"
     ]
    },
    {
     "data": {
      "application/vnd.jupyter.widget-view+json": {
       "model_id": "4c56c52a7e014922967b40c0a3378a74",
       "version_major": 2,
       "version_minor": 0
      },
      "text/plain": [
       "QUEUEING TASKS | Running: 0it [00:00, ?it/s]"
      ]
     },
     "metadata": {},
     "output_type": "display_data"
    },
    {
     "data": {
      "application/vnd.jupyter.widget-view+json": {
       "model_id": "bf059f49234f474885373ba9ccdb4270",
       "version_major": 2,
       "version_minor": 0
      },
      "text/plain": [
       "PROCESSING TASKS | Running: 0it [00:00, ?it/s]"
      ]
     },
     "metadata": {},
     "output_type": "display_data"
    },
    {
     "data": {
      "application/vnd.jupyter.widget-view+json": {
       "model_id": "ee6742f6eff24fcb816fd29f61b91b75",
       "version_major": 2,
       "version_minor": 0
      },
      "text/plain": [
       "COLLECTING RESULTS | Running: 0it [00:00, ?it/s]"
      ]
     },
     "metadata": {},
     "output_type": "display_data"
    },
    {
     "data": {
      "application/vnd.jupyter.widget-view+json": {
       "model_id": "487764b987a94fe09bf31551c56c3119",
       "version_major": 2,
       "version_minor": 0
      },
      "text/plain": [
       "QUEUEING TASKS | Parsing:   0%|          | 0/2256 [00:00<?, ?it/s]"
      ]
     },
     "metadata": {},
     "output_type": "display_data"
    },
    {
     "data": {
      "application/vnd.jupyter.widget-view+json": {
       "model_id": "fe35dd7532e24157ac7a5d6115e6a0eb",
       "version_major": 2,
       "version_minor": 0
      },
      "text/plain": [
       "PROCESSING TASKS | Parsing:   0%|          | 0/2256 [00:00<?, ?it/s]"
      ]
     },
     "metadata": {},
     "output_type": "display_data"
    },
    {
     "data": {
      "application/vnd.jupyter.widget-view+json": {
       "model_id": "975e7a6fb68e45738a03e07c8783a09e",
       "version_major": 2,
       "version_minor": 0
      },
      "text/plain": [
       "COLLECTING RESULTS | Parsing:   0%|          | 0/2256 [00:00<?, ?it/s]"
      ]
     },
     "metadata": {},
     "output_type": "display_data"
    },
    {
     "data": {
      "application/vnd.jupyter.widget-view+json": {
       "model_id": "25c348674ec44db59ca8603e415d7682",
       "version_major": 2,
       "version_minor": 0
      },
      "text/plain": [
       "QUEUEING TASKS | PDF uncertainty @ LO:   0%|          | 0/48 [00:00<?, ?it/s]"
      ]
     },
     "metadata": {},
     "output_type": "display_data"
    },
    {
     "data": {
      "application/vnd.jupyter.widget-view+json": {
       "model_id": "365c1c7a83c14db699f2f9e220d8bb27",
       "version_major": 2,
       "version_minor": 0
      },
      "text/plain": [
       "PROCESSING TASKS | PDF uncertainty @ LO:   0%|          | 0/48 [00:00<?, ?it/s]"
      ]
     },
     "metadata": {},
     "output_type": "display_data"
    },
    {
     "data": {
      "application/vnd.jupyter.widget-view+json": {
       "model_id": "29514b786e964dd4a1c17c43ce3f1a1e",
       "version_major": 2,
       "version_minor": 0
      },
      "text/plain": [
       "COLLECTING RESULTS | PDF uncertainty @ LO:   0%|          | 0/48 [00:00<?, ?it/s]"
      ]
     },
     "metadata": {},
     "output_type": "display_data"
    },
    {
     "data": {
      "application/vnd.jupyter.widget-view+json": {
       "model_id": "0fcc58dabc38428b9835191d10674ceb",
       "version_major": 2,
       "version_minor": 0
      },
      "text/plain": [
       "QUEUEING TASKS | PDF uncertainty @ NLO:   0%|          | 0/48 [00:00<?, ?it/s]"
      ]
     },
     "metadata": {},
     "output_type": "display_data"
    },
    {
     "data": {
      "application/vnd.jupyter.widget-view+json": {
       "model_id": "974add34f52a46d6aeedd2d7a8a595a1",
       "version_major": 2,
       "version_minor": 0
      },
      "text/plain": [
       "PROCESSING TASKS | PDF uncertainty @ NLO:   0%|          | 0/48 [00:00<?, ?it/s]"
      ]
     },
     "metadata": {},
     "output_type": "display_data"
    },
    {
     "data": {
      "application/vnd.jupyter.widget-view+json": {
       "model_id": "f31888ae4aff455ca6091982f710aa3b",
       "version_major": 2,
       "version_minor": 0
      },
      "text/plain": [
       "COLLECTING RESULTS | PDF uncertainty @ NLO:   0%|          | 0/48 [00:00<?, ?it/s]"
      ]
     },
     "metadata": {},
     "output_type": "display_data"
    },
    {
     "data": {
      "application/vnd.jupyter.widget-view+json": {
       "model_id": "7faf07d101c04c3fb74d4b3361fc7d25",
       "version_major": 2,
       "version_minor": 0
      },
      "text/plain": [
       "QUEUEING TASKS | PDF uncertainty @ aNNLO_PLUS_NNLL:   0%|          | 0/48 [00:00<?, ?it/s]"
      ]
     },
     "metadata": {},
     "output_type": "display_data"
    },
    {
     "data": {
      "application/vnd.jupyter.widget-view+json": {
       "model_id": "7ff7fd18adca4feda873b1a03540609b",
       "version_major": 2,
       "version_minor": 0
      },
      "text/plain": [
       "PROCESSING TASKS | PDF uncertainty @ aNNLO_PLUS_NNLL:   0%|          | 0/48 [00:00<?, ?it/s]"
      ]
     },
     "metadata": {},
     "output_type": "display_data"
    },
    {
     "data": {
      "application/vnd.jupyter.widget-view+json": {
       "model_id": "2cfa802a0b31422097bcad903b34a84a",
       "version_major": 2,
       "version_minor": 0
      },
      "text/plain": [
       "COLLECTING RESULTS | PDF uncertainty @ aNNLO_PLUS_NNLL:   0%|          | 0/48 [00:00<?, ?it/s]"
      ]
     },
     "metadata": {},
     "output_type": "display_data"
    },
    {
     "data": {
      "application/vnd.jupyter.widget-view+json": {
       "model_id": "db372d6136d54f30ace0cd7401bbc8fa",
       "version_major": 2,
       "version_minor": 0
      },
      "text/plain": [
       "QUEUEING TASKS | Scale uncertainty @ LO:   0%|          | 0/48 [00:00<?, ?it/s]"
      ]
     },
     "metadata": {},
     "output_type": "display_data"
    },
    {
     "data": {
      "application/vnd.jupyter.widget-view+json": {
       "model_id": "3ebd92c3d06b491998677426a271fd2a",
       "version_major": 2,
       "version_minor": 0
      },
      "text/plain": [
       "PROCESSING TASKS | Scale uncertainty @ LO:   0%|          | 0/48 [00:00<?, ?it/s]"
      ]
     },
     "metadata": {},
     "output_type": "display_data"
    },
    {
     "data": {
      "application/vnd.jupyter.widget-view+json": {
       "model_id": "08be6b11f38440cbba9a5cfd0d1046de",
       "version_major": 2,
       "version_minor": 0
      },
      "text/plain": [
       "COLLECTING RESULTS | Scale uncertainty @ LO:   0%|          | 0/48 [00:00<?, ?it/s]"
      ]
     },
     "metadata": {},
     "output_type": "display_data"
    },
    {
     "data": {
      "application/vnd.jupyter.widget-view+json": {
       "model_id": "a5b749b5a6e7400e9b3d7f5849356728",
       "version_major": 2,
       "version_minor": 0
      },
      "text/plain": [
       "QUEUEING TASKS | Scale uncertainty @ NLO:   0%|          | 0/48 [00:00<?, ?it/s]"
      ]
     },
     "metadata": {},
     "output_type": "display_data"
    },
    {
     "data": {
      "application/vnd.jupyter.widget-view+json": {
       "model_id": "954c150d45f04f079ea619e4ebd263bd",
       "version_major": 2,
       "version_minor": 0
      },
      "text/plain": [
       "PROCESSING TASKS | Scale uncertainty @ NLO:   0%|          | 0/48 [00:00<?, ?it/s]"
      ]
     },
     "metadata": {},
     "output_type": "display_data"
    },
    {
     "data": {
      "application/vnd.jupyter.widget-view+json": {
       "model_id": "074923aaeb4647158762f95e875eb160",
       "version_major": 2,
       "version_minor": 0
      },
      "text/plain": [
       "COLLECTING RESULTS | Scale uncertainty @ NLO:   0%|          | 0/48 [00:00<?, ?it/s]"
      ]
     },
     "metadata": {},
     "output_type": "display_data"
    },
    {
     "data": {
      "application/vnd.jupyter.widget-view+json": {
       "model_id": "f9a3b7a2ff634ba6b904efe188912ddf",
       "version_major": 2,
       "version_minor": 0
      },
      "text/plain": [
       "QUEUEING TASKS | Scale uncertainty @ aNNLO_PLUS_NNLL:   0%|          | 0/48 [00:00<?, ?it/s]"
      ]
     },
     "metadata": {},
     "output_type": "display_data"
    },
    {
     "data": {
      "application/vnd.jupyter.widget-view+json": {
       "model_id": "44ae3488e2be42cf81aba575e0d56d4b",
       "version_major": 2,
       "version_minor": 0
      },
      "text/plain": [
       "PROCESSING TASKS | Scale uncertainty @ aNNLO_PLUS_NNLL:   0%|          | 0/48 [00:00<?, ?it/s]"
      ]
     },
     "metadata": {},
     "output_type": "display_data"
    },
    {
     "data": {
      "application/vnd.jupyter.widget-view+json": {
       "model_id": "666d4d30968149a3b27bc16489e261b9",
       "version_major": 2,
       "version_minor": 0
      },
      "text/plain": [
       "COLLECTING RESULTS | Scale uncertainty @ aNNLO_PLUS_NNLL:   0%|          | 0/48 [00:00<?, ?it/s]"
      ]
     },
     "metadata": {},
     "output_type": "display_data"
    },
    {
     "name": "stdout",
     "output_type": "stream",
     "text": [
      "13600_sneutrinos_1000011_-1000012\n",
      "| 50.0  |  9696  |  7.4 | 2.5 | -7.2 | -2.5 |\n",
      "| 60.0  |  4089  |  7.1 | 2.6 | -5.7 | -2.6 |\n",
      "| 70.0  |  2149  |  6.8 | 2.7 | -5.3 | -2.7 |\n",
      "| 80.0  |  1267  |  6.6 | 2.8 | -5.1 | -2.8 |\n",
      "| 90.0  |  804.4  |  6.4 | 2.9 | -5.0 | -2.9 |\n",
      "| 100.0  |  538.4  |  6.2 | 3.0 | -4.8 | -3.0 |\n",
      "| 110.0  |  375  |  6.0 | 3.2 | -4.7 | -3.2 |\n",
      "| 120.0  |  269.6  |  5.9 | 3.2 | -4.6 | -3.2 |\n",
      "| 130.0  |  198.9  |  5.7 | 3.4 | -4.5 | -3.4 |\n",
      "| 140.0  |  149.9  |  5.6 | 3.5 | -4.5 | -3.5 |\n",
      "| 150.0  |  115.1  |  5.5 | 3.6 | -4.4 | -3.6 |\n",
      "| 160.0  |  89.72  |  5.4 | 3.7 | -4.3 | -3.7 |\n",
      "| 170.0  |  70.9  |  5.3 | 3.9 | -4.3 | -3.9 |\n",
      "| 180.0  |  56.7  |  5.3 | 4.0 | -4.2 | -4.0 |\n",
      "| 190.0  |  45.82  |  5.2 | 4.1 | -4.2 | -4.1 |\n",
      "| 200.0  |  37.39  |  5.2 | 4.2 | -4.1 | -4.2 |\n",
      "| 210.0  |  30.77  |  5.2 | 4.4 | -4.0 | -4.4 |\n",
      "| 220.0  |  25.51  |  5.3 | 4.5 | -4.0 | -4.5 |\n",
      "| 230.0  |  21.3  |  5.3 | 4.6 | -4.0 | -4.6 |\n",
      "| 240.0  |  17.9  |  5.3 | 4.7 | -3.9 | -4.7 |\n",
      "| 250.0  |  15.13  |  5.4 | 4.9 | -3.9 | -4.9 |\n",
      "| 260.0  |  12.86  |  5.4 | 5.0 | -3.8 | -5.0 |\n",
      "| 270.0  |  10.98  |  5.4 | 5.2 | -3.8 | -5.2 |\n",
      "| 280.0  |  9.424  |  5.4 | 5.3 | -3.8 | -5.3 |\n",
      "| 290.0  |  8.121  |  5.4 | 5.4 | -3.7 | -5.4 |\n",
      "| 300.0  |  7.025  |  5.4 | 5.6 | -3.7 | -5.6 |\n",
      "| 310.0  |  6.1  |  5.4 | 5.7 | -3.7 | -5.7 |\n",
      "| 320.0  |  5.315  |  5.4 | 5.9 | -3.7 | -5.9 |\n",
      "| 330.0  |  4.646  |  5.4 | 6.0 | -3.6 | -6.0 |\n",
      "| 340.0  |  4.074  |  5.4 | 6.1 | -3.6 | -6.1 |\n",
      "| 350.0  |  3.582  |  5.4 | 6.2 | -3.6 | -6.2 |\n",
      "| 360.0  |  3.159  |  5.4 | 6.4 | -3.6 | -6.4 |\n",
      "| 370.0  |  2.792  |  5.4 | 6.6 | -3.6 | -6.6 |\n",
      "| 380.0  |  2.475  |  5.4 | 6.7 | -3.6 | -6.7 |\n",
      "| 390.0  |  2.198  |  5.4 | 6.9 | -3.6 | -6.9 |\n",
      "| 400.0  |  1.957  |  5.4 | 7.1 | -3.6 | -7.1 |\n",
      "| 450.0  |  1.126  |  5.4 | 7.9 | -3.7 | -7.9 |\n",
      "| 500.0  |  0.6756  |  5.4 | 8.7 | -3.7 | -8.7 |\n",
      "| 550.0  |  0.4191  |  5.3 | 9.7 | -3.7 | -9.7 |\n",
      "| 600.0  |  0.2672  |  5.3 | 10.8 | -3.7 | -10.8 |\n",
      "| 650.0  |  0.1744  |  5.3 | 12.1 | -3.7 | -12.1 |\n",
      "| 700.0  |  0.1161  |  5.3 | 13.5 | -3.7 | -13.5 |\n",
      "| 750.0  |  0.0786  |  5.3 | 15.1 | -3.7 | -15.1 |\n",
      "| 800.0  |  0.05402  |  5.2 | 16.8 | -3.6 | -16.8 |\n",
      "| 850.0  |  0.03762  |  5.2 | 18.8 | -3.6 | -18.8 |\n",
      "| 900.0  |  0.0265  |  5.2 | 21.1 | -3.6 | -21.1 |\n",
      "| 950.0  |  0.01887  |  5.2 | 23.6 | -3.5 | -23.6 |\n",
      "| 1000.0  |  0.01356  |  5.1 | 26.4 | -3.5 | -26.4 |\n"
     ]
    },
    {
     "data": {
      "image/png": "[encoded data removed]",
      "text/plain": [
       "<Figure size 600x400 with 2 Axes>"
      ]
     },
     "metadata": {},
     "output_type": "display_data"
    },
    {
     "data": {
      "application/vnd.jupyter.widget-view+json": {
       "model_id": "f66a343e5c50422dbbfec4999b788c95",
       "version_major": 2,
       "version_minor": 0
      },
      "text/plain": [
       "QUEUEING TASKS | Checking input:   0%|          | 0/2256 [00:00<?, ?it/s]"
      ]
     },
     "metadata": {},
     "output_type": "display_data"
    },
    {
     "data": {
      "application/vnd.jupyter.widget-view+json": {
       "model_id": "55ab88774e5c4d37963f41feda22388d",
       "version_major": 2,
       "version_minor": 0
      },
      "text/plain": [
       "PROCESSING TASKS | Checking input:   0%|          | 0/2256 [00:00<?, ?it/s]"
      ]
     },
     "metadata": {},
     "output_type": "display_data"
    },
    {
     "data": {
      "application/vnd.jupyter.widget-view+json": {
       "model_id": "9ec39b3c59a645c18a4f1031206c4beb",
       "version_major": 2,
       "version_minor": 0
      },
      "text/plain": [
       "COLLECTING RESULTS | Checking input:   0%|          | 0/2256 [00:00<?, ?it/s]"
      ]
     },
     "metadata": {},
     "output_type": "display_data"
    },
    {
     "data": {
      "application/vnd.jupyter.widget-view+json": {
       "model_id": "3934ffc4571a48c9b8f4e08c684f722e",
       "version_major": 2,
       "version_minor": 0
      },
      "text/plain": [
       "QUEUEING TASKS | Preparing:   0%|          | 0/2256 [00:00<?, ?it/s]"
      ]
     },
     "metadata": {},
     "output_type": "display_data"
    },
    {
     "data": {
      "application/vnd.jupyter.widget-view+json": {
       "model_id": "d2b01ee3a6b7415b87516f15d9495363",
       "version_major": 2,
       "version_minor": 0
      },
      "text/plain": [
       "PROCESSING TASKS | Preparing:   0%|          | 0/2256 [00:00<?, ?it/s]"
      ]
     },
     "metadata": {},
     "output_type": "display_data"
    },
    {
     "data": {
      "application/vnd.jupyter.widget-view+json": {
       "model_id": "115d919153ac484eaf3671f546c359ef",
       "version_major": 2,
       "version_minor": 0
      },
      "text/plain": [
       "COLLECTING RESULTS | Preparing:   0%|          | 0/2256 [00:00<?, ?it/s]"
      ]
     },
     "metadata": {},
     "output_type": "display_data"
    },
    {
     "name": "stdout",
     "output_type": "stream",
     "text": [
      "Skipped: 2256 Not skipped: 0\n"
     ]
    },
    {
     "data": {
      "application/vnd.jupyter.widget-view+json": {
       "model_id": "ef88875b4f23464fbf2bb881120088df",
       "version_major": 2,
       "version_minor": 0
      },
      "text/plain": [
       "QUEUEING TASKS | Running: 0it [00:00, ?it/s]"
      ]
     },
     "metadata": {},
     "output_type": "display_data"
    },
    {
     "data": {
      "application/vnd.jupyter.widget-view+json": {
       "model_id": "3c5e58b175cd40078267e7ffec541e5f",
       "version_major": 2,
       "version_minor": 0
      },
      "text/plain": [
       "PROCESSING TASKS | Running: 0it [00:00, ?it/s]"
      ]
     },
     "metadata": {},
     "output_type": "display_data"
    },
    {
     "data": {
      "application/vnd.jupyter.widget-view+json": {
       "model_id": "24ed18e791154ae391ae4c739cf12540",
       "version_major": 2,
       "version_minor": 0
      },
      "text/plain": [
       "COLLECTING RESULTS | Running: 0it [00:00, ?it/s]"
      ]
     },
     "metadata": {},
     "output_type": "display_data"
    },
    {
     "data": {
      "application/vnd.jupyter.widget-view+json": {
       "model_id": "c6bab1ea5b3f410b8d20188f896ac832",
       "version_major": 2,
       "version_minor": 0
      },
      "text/plain": [
       "QUEUEING TASKS | Parsing:   0%|          | 0/2256 [00:00<?, ?it/s]"
      ]
     },
     "metadata": {},
     "output_type": "display_data"
    },
    {
     "data": {
      "application/vnd.jupyter.widget-view+json": {
       "model_id": "2131ba955d774db99352de4d52cf56ff",
       "version_major": 2,
       "version_minor": 0
      },
      "text/plain": [
       "PROCESSING TASKS | Parsing:   0%|          | 0/2256 [00:00<?, ?it/s]"
      ]
     },
     "metadata": {},
     "output_type": "display_data"
    },
    {
     "data": {
      "application/vnd.jupyter.widget-view+json": {
       "model_id": "fb508671d2ca4703864d8d8d9032ffd4",
       "version_major": 2,
       "version_minor": 0
      },
      "text/plain": [
       "COLLECTING RESULTS | Parsing:   0%|          | 0/2256 [00:00<?, ?it/s]"
      ]
     },
     "metadata": {},
     "output_type": "display_data"
    },
    {
     "data": {
      "application/vnd.jupyter.widget-view+json": {
       "model_id": "8f877bca2f64414281a22e7ec3a7c826",
       "version_major": 2,
       "version_minor": 0
      },
      "text/plain": [
       "QUEUEING TASKS | PDF uncertainty @ LO:   0%|          | 0/48 [00:00<?, ?it/s]"
      ]
     },
     "metadata": {},
     "output_type": "display_data"
    },
    {
     "data": {
      "application/vnd.jupyter.widget-view+json": {
       "model_id": "35785683bc154341a79d89a96cd4ee95",
       "version_major": 2,
       "version_minor": 0
      },
      "text/plain": [
       "PROCESSING TASKS | PDF uncertainty @ LO:   0%|          | 0/48 [00:00<?, ?it/s]"
      ]
     },
     "metadata": {},
     "output_type": "display_data"
    },
    {
     "data": {
      "application/vnd.jupyter.widget-view+json": {
       "model_id": "a6d298b6d9ca466b8c521e35797bee2b",
       "version_major": 2,
       "version_minor": 0
      },
      "text/plain": [
       "COLLECTING RESULTS | PDF uncertainty @ LO:   0%|          | 0/48 [00:00<?, ?it/s]"
      ]
     },
     "metadata": {},
     "output_type": "display_data"
    },
    {
     "data": {
      "application/vnd.jupyter.widget-view+json": {
       "model_id": "356747ae3ac7487097230a06d78c521d",
       "version_major": 2,
       "version_minor": 0
      },
      "text/plain": [
       "QUEUEING TASKS | PDF uncertainty @ NLO:   0%|          | 0/48 [00:00<?, ?it/s]"
      ]
     },
     "metadata": {},
     "output_type": "display_data"
    },
    {
     "data": {
      "application/vnd.jupyter.widget-view+json": {
       "model_id": "e3ac91f332bb4a0caeee0c7ee06b5673",
       "version_major": 2,
       "version_minor": 0
      },
      "text/plain": [
       "PROCESSING TASKS | PDF uncertainty @ NLO:   0%|          | 0/48 [00:00<?, ?it/s]"
      ]
     },
     "metadata": {},
     "output_type": "display_data"
    },
    {
     "data": {
      "application/vnd.jupyter.widget-view+json": {
       "model_id": "852129f44e4f4fa69eed34213fe26c25",
       "version_major": 2,
       "version_minor": 0
      },
      "text/plain": [
       "COLLECTING RESULTS | PDF uncertainty @ NLO:   0%|          | 0/48 [00:00<?, ?it/s]"
      ]
     },
     "metadata": {},
     "output_type": "display_data"
    },
    {
     "data": {
      "application/vnd.jupyter.widget-view+json": {
       "model_id": "326c42bb42884a559d3e355494827f1e",
       "version_major": 2,
       "version_minor": 0
      },
      "text/plain": [
       "QUEUEING TASKS | PDF uncertainty @ aNNLO_PLUS_NNLL:   0%|          | 0/48 [00:00<?, ?it/s]"
      ]
     },
     "metadata": {},
     "output_type": "display_data"
    },
    {
     "data": {
      "application/vnd.jupyter.widget-view+json": {
       "model_id": "ab168f6acd03434cb719aa762aae44c2",
       "version_major": 2,
       "version_minor": 0
      },
      "text/plain": [
       "PROCESSING TASKS | PDF uncertainty @ aNNLO_PLUS_NNLL:   0%|          | 0/48 [00:00<?, ?it/s]"
      ]
     },
     "metadata": {},
     "output_type": "display_data"
    },
    {
     "data": {
      "application/vnd.jupyter.widget-view+json": {
       "model_id": "7062121e99a84befac381dc50ed2da4b",
       "version_major": 2,
       "version_minor": 0
      },
      "text/plain": [
       "COLLECTING RESULTS | PDF uncertainty @ aNNLO_PLUS_NNLL:   0%|          | 0/48 [00:00<?, ?it/s]"
      ]
     },
     "metadata": {},
     "output_type": "display_data"
    },
    {
     "data": {
      "application/vnd.jupyter.widget-view+json": {
       "model_id": "b3cfabad51ac49b3842b78552f52c1e8",
       "version_major": 2,
       "version_minor": 0
      },
      "text/plain": [
       "QUEUEING TASKS | Scale uncertainty @ LO:   0%|          | 0/48 [00:00<?, ?it/s]"
      ]
     },
     "metadata": {},
     "output_type": "display_data"
    },
    {
     "data": {
      "application/vnd.jupyter.widget-view+json": {
       "model_id": "41cea5c74a90445c836b7bfe3bb8fcc6",
       "version_major": 2,
       "version_minor": 0
      },
      "text/plain": [
       "PROCESSING TASKS | Scale uncertainty @ LO:   0%|          | 0/48 [00:00<?, ?it/s]"
      ]
     },
     "metadata": {},
     "output_type": "display_data"
    },
    {
     "data": {
      "application/vnd.jupyter.widget-view+json": {
       "model_id": "a67c9039c38a4c02b730de74b378c2b0",
       "version_major": 2,
       "version_minor": 0
      },
      "text/plain": [
       "COLLECTING RESULTS | Scale uncertainty @ LO:   0%|          | 0/48 [00:00<?, ?it/s]"
      ]
     },
     "metadata": {},
     "output_type": "display_data"
    },
    {
     "data": {
      "application/vnd.jupyter.widget-view+json": {
       "model_id": "81007a35b6be404ab02d55891215815c",
       "version_major": 2,
       "version_minor": 0
      },
      "text/plain": [
       "QUEUEING TASKS | Scale uncertainty @ NLO:   0%|          | 0/48 [00:00<?, ?it/s]"
      ]
     },
     "metadata": {},
     "output_type": "display_data"
    },
    {
     "data": {
      "application/vnd.jupyter.widget-view+json": {
       "model_id": "a422f028c66740c78461073a42f3cc3b",
       "version_major": 2,
       "version_minor": 0
      },
      "text/plain": [
       "PROCESSING TASKS | Scale uncertainty @ NLO:   0%|          | 0/48 [00:00<?, ?it/s]"
      ]
     },
     "metadata": {},
     "output_type": "display_data"
    },
    {
     "data": {
      "application/vnd.jupyter.widget-view+json": {
       "model_id": "403d46b250cc46ad8aed1fb948b518a7",
       "version_major": 2,
       "version_minor": 0
      },
      "text/plain": [
       "COLLECTING RESULTS | Scale uncertainty @ NLO:   0%|          | 0/48 [00:00<?, ?it/s]"
      ]
     },
     "metadata": {},
     "output_type": "display_data"
    },
    {
     "data": {
      "application/vnd.jupyter.widget-view+json": {
       "model_id": "31bfaa6634424308a8fccfcccf01021c",
       "version_major": 2,
       "version_minor": 0
      },
      "text/plain": [
       "QUEUEING TASKS | Scale uncertainty @ aNNLO_PLUS_NNLL:   0%|          | 0/48 [00:00<?, ?it/s]"
      ]
     },
     "metadata": {},
     "output_type": "display_data"
    },
    {
     "data": {
      "application/vnd.jupyter.widget-view+json": {
       "model_id": "eb91a87b62aa472ebe07d962b504c670",
       "version_major": 2,
       "version_minor": 0
      },
      "text/plain": [
       "PROCESSING TASKS | Scale uncertainty @ aNNLO_PLUS_NNLL:   0%|          | 0/48 [00:00<?, ?it/s]"
      ]
     },
     "metadata": {},
     "output_type": "display_data"
    },
    {
     "data": {
      "application/vnd.jupyter.widget-view+json": {
       "model_id": "5fe4ca2de8ea44eca2655857ccb2822c",
       "version_major": 2,
       "version_minor": 0
      },
      "text/plain": [
       "COLLECTING RESULTS | Scale uncertainty @ aNNLO_PLUS_NNLL:   0%|          | 0/48 [00:00<?, ?it/s]"
      ]
     },
     "metadata": {},
     "output_type": "display_data"
    },
    {
     "name": "stdout",
     "output_type": "stream",
     "text": [
      "13000_sneutrinos_-1000012_1000012\n",
      "| 50.0  |  6958  |  4.0 | 2.5 | -6.1 | -2.5 |\n",
      "| 60.0  |  2435  |  3.1 | 2.6 | -4.7 | -2.6 |\n",
      "| 70.0  |  1220  |  2.6 | 2.7 | -3.9 | -2.7 |\n",
      "| 80.0  |  707.1  |  2.2 | 2.7 | -3.2 | -2.7 |\n",
      "| 90.0  |  446.4  |  1.9 | 2.8 | -2.8 | -2.8 |\n",
      "| 100.0  |  298.7  |  1.7 | 2.9 | -2.4 | -2.9 |\n",
      "| 110.0  |  208.6  |  1.6 | 3.0 | -2.1 | -3.0 |\n",
      "| 120.0  |  150.7  |  1.4 | 3.1 | -1.9 | -3.1 |\n",
      "| 130.0  |  111.7  |  1.3 | 3.1 | -1.6 | -3.1 |\n",
      "| 140.0  |  84.69  |  1.2 | 3.2 | -1.5 | -3.2 |\n",
      "| 150.0  |  65.39  |  1.2 | 3.3 | -1.4 | -3.3 |\n",
      "| 160.0  |  51.26  |  1.2 | 3.4 | -1.2 | -3.4 |\n",
      "| 170.0  |  40.77  |  1.1 | 3.5 | -1.1 | -3.5 |\n",
      "| 180.0  |  32.8  |  1.1 | 3.5 | -1.0 | -3.5 |\n",
      "| 190.0  |  26.67  |  1.1 | 3.6 | -0.9 | -3.6 |\n",
      "| 200.0  |  21.89  |  1.0 | 3.7 | -0.8 | -3.7 |\n",
      "| 210.0  |  18.12  |  1.0 | 3.8 | -0.8 | -3.8 |\n",
      "| 220.0  |  15.12  |  0.9 | 3.9 | -0.7 | -3.9 |\n",
      "| 230.0  |  12.7  |  0.9 | 4.0 | -0.7 | -4.0 |\n",
      "| 240.0  |  10.73  |  0.8 | 4.1 | -0.6 | -4.1 |\n",
      "| 250.0  |  9.124  |  0.8 | 4.2 | -0.7 | -4.2 |\n",
      "| 260.0  |  7.794  |  0.8 | 4.3 | -0.6 | -4.3 |\n",
      "| 270.0  |  6.692  |  0.8 | 4.4 | -0.6 | -4.4 |\n",
      "| 280.0  |  5.769  |  0.8 | 4.5 | -0.5 | -4.5 |\n",
      "| 290.0  |  4.997  |  0.7 | 4.6 | -0.5 | -4.6 |\n",
      "| 300.0  |  4.343  |  0.7 | 4.7 | -0.5 | -4.7 |\n",
      "| 310.0  |  3.789  |  0.7 | 4.7 | -0.5 | -4.7 |\n",
      "| 320.0  |  3.316  |  0.7 | 4.9 | -0.4 | -4.9 |\n",
      "| 330.0  |  2.912  |  0.7 | 4.9 | -0.4 | -4.9 |\n",
      "| 340.0  |  2.565  |  0.7 | 5.0 | -0.4 | -5.0 |\n",
      "| 350.0  |  2.265  |  0.7 | 5.2 | -0.4 | -5.2 |\n",
      "| 360.0  |  2.006  |  0.6 | 5.2 | -0.4 | -5.2 |\n",
      "| 370.0  |  1.78  |  0.6 | 5.4 | -0.4 | -5.4 |\n",
      "| 380.0  |  1.584  |  0.6 | 5.5 | -0.4 | -5.5 |\n",
      "| 390.0  |  1.413  |  0.6 | 5.5 | -0.4 | -5.5 |\n",
      "| 400.0  |  1.262  |  0.6 | 5.7 | -0.4 | -5.7 |\n",
      "| 450.0  |  0.7391  |  0.5 | 6.2 | -0.3 | -6.2 |\n",
      "| 500.0  |  0.4503  |  0.5 | 6.8 | -0.3 | -6.8 |\n",
      "| 550.0  |  0.2831  |  0.5 | 7.4 | -0.3 | -7.4 |\n",
      "| 600.0  |  0.1827  |  0.5 | 8.1 | -0.2 | -8.1 |\n",
      "| 650.0  |  0.1205  |  0.5 | 8.9 | -0.2 | -8.9 |\n",
      "| 700.0  |  0.08093  |  0.4 | 9.8 | -0.2 | -9.8 |\n",
      "| 750.0  |  0.05524  |  0.4 | 10.8 | -0.2 | -10.8 |\n",
      "| 800.0  |  0.03822  |  0.4 | 12.0 | -0.2 | -12.0 |\n",
      "| 850.0  |  0.02676  |  0.4 | 13.3 | -0.2 | -13.3 |\n",
      "| 900.0  |  0.01895  |  0.4 | 14.9 | -0.2 | -14.9 |\n",
      "| 950.0  |  0.01354  |  0.4 | 16.6 | -0.2 | -16.6 |\n",
      "| 1000.0  |  0.00976  |  0.4 | 18.5 | -0.1 | -18.5 |\n"
     ]
    },
    {
     "data": {
      "application/vnd.jupyter.widget-view+json": {
       "model_id": "3ef0af5757574182b9e1f1471c6431dc",
       "version_major": 2,
       "version_minor": 0
      },
      "text/plain": [
       "QUEUEING TASKS | Checking input:   0%|          | 0/2256 [00:00<?, ?it/s]"
      ]
     },
     "metadata": {},
     "output_type": "display_data"
    },
    {
     "data": {
      "application/vnd.jupyter.widget-view+json": {
       "model_id": "46ec7a5d9efd4fd58057097f7e469017",
       "version_major": 2,
       "version_minor": 0
      },
      "text/plain": [
       "PROCESSING TASKS | Checking input:   0%|          | 0/2256 [00:00<?, ?it/s]"
      ]
     },
     "metadata": {},
     "output_type": "display_data"
    },
    {
     "data": {
      "application/vnd.jupyter.widget-view+json": {
       "model_id": "5be194947f8041dcaaaaaba2bc40b40b",
       "version_major": 2,
       "version_minor": 0
      },
      "text/plain": [
       "COLLECTING RESULTS | Checking input:   0%|          | 0/2256 [00:00<?, ?it/s]"
      ]
     },
     "metadata": {},
     "output_type": "display_data"
    },
    {
     "data": {
      "application/vnd.jupyter.widget-view+json": {
       "model_id": "fb0ec66a239443c88e8e71bc3dc176d7",
       "version_major": 2,
       "version_minor": 0
      },
      "text/plain": [
       "QUEUEING TASKS | Preparing:   0%|          | 0/2256 [00:00<?, ?it/s]"
      ]
     },
     "metadata": {},
     "output_type": "display_data"
    },
    {
     "data": {
      "application/vnd.jupyter.widget-view+json": {
       "model_id": "99801b72561748b0bdec6e730437c582",
       "version_major": 2,
       "version_minor": 0
      },
      "text/plain": [
       "PROCESSING TASKS | Preparing:   0%|          | 0/2256 [00:00<?, ?it/s]"
      ]
     },
     "metadata": {},
     "output_type": "display_data"
    },
    {
     "data": {
      "application/vnd.jupyter.widget-view+json": {
       "model_id": "ea36784de4984c85991311a1e221a9c0",
       "version_major": 2,
       "version_minor": 0
      },
      "text/plain": [
       "COLLECTING RESULTS | Preparing:   0%|          | 0/2256 [00:00<?, ?it/s]"
      ]
     },
     "metadata": {},
     "output_type": "display_data"
    },
    {
     "name": "stdout",
     "output_type": "stream",
     "text": [
      "Skipped: 2256 Not skipped: 0\n"
     ]
    },
    {
     "data": {
      "application/vnd.jupyter.widget-view+json": {
       "model_id": "dd76a5fbcbe9482c840e7f51e1e6ba38",
       "version_major": 2,
       "version_minor": 0
      },
      "text/plain": [
       "QUEUEING TASKS | Running: 0it [00:00, ?it/s]"
      ]
     },
     "metadata": {},
     "output_type": "display_data"
    },
    {
     "data": {
      "application/vnd.jupyter.widget-view+json": {
       "model_id": "d0872342c25949f898a640d39658a7e0",
       "version_major": 2,
       "version_minor": 0
      },
      "text/plain": [
       "PROCESSING TASKS | Running: 0it [00:00, ?it/s]"
      ]
     },
     "metadata": {},
     "output_type": "display_data"
    },
    {
     "data": {
      "application/vnd.jupyter.widget-view+json": {
       "model_id": "07d8e722915948a68f83f794ae64d69c",
       "version_major": 2,
       "version_minor": 0
      },
      "text/plain": [
       "COLLECTING RESULTS | Running: 0it [00:00, ?it/s]"
      ]
     },
     "metadata": {},
     "output_type": "display_data"
    },
    {
     "data": {
      "application/vnd.jupyter.widget-view+json": {
       "model_id": "ed84a2b18b9345809149494f64d59a5a",
       "version_major": 2,
       "version_minor": 0
      },
      "text/plain": [
       "QUEUEING TASKS | Parsing:   0%|          | 0/2256 [00:00<?, ?it/s]"
      ]
     },
     "metadata": {},
     "output_type": "display_data"
    },
    {
     "data": {
      "application/vnd.jupyter.widget-view+json": {
       "model_id": "45210c00b799425298f00f8f87fa5256",
       "version_major": 2,
       "version_minor": 0
      },
      "text/plain": [
       "PROCESSING TASKS | Parsing:   0%|          | 0/2256 [00:00<?, ?it/s]"
      ]
     },
     "metadata": {},
     "output_type": "display_data"
    },
    {
     "data": {
      "application/vnd.jupyter.widget-view+json": {
       "model_id": "d7f1fd5327b44e57886868ca6b13955e",
       "version_major": 2,
       "version_minor": 0
      },
      "text/plain": [
       "COLLECTING RESULTS | Parsing:   0%|          | 0/2256 [00:00<?, ?it/s]"
      ]
     },
     "metadata": {},
     "output_type": "display_data"
    },
    {
     "data": {
      "application/vnd.jupyter.widget-view+json": {
       "model_id": "0e3d2b66913d4bfe8ddddca58993b762",
       "version_major": 2,
       "version_minor": 0
      },
      "text/plain": [
       "QUEUEING TASKS | PDF uncertainty @ LO:   0%|          | 0/48 [00:00<?, ?it/s]"
      ]
     },
     "metadata": {},
     "output_type": "display_data"
    },
    {
     "data": {
      "application/vnd.jupyter.widget-view+json": {
       "model_id": "ca2527485e7940d4b485b2988fa431c8",
       "version_major": 2,
       "version_minor": 0
      },
      "text/plain": [
       "PROCESSING TASKS | PDF uncertainty @ LO:   0%|          | 0/48 [00:00<?, ?it/s]"
      ]
     },
     "metadata": {},
     "output_type": "display_data"
    },
    {
     "data": {
      "application/vnd.jupyter.widget-view+json": {
       "model_id": "b45bb92b981c40debd6c1be5db98a93c",
       "version_major": 2,
       "version_minor": 0
      },
      "text/plain": [
       "COLLECTING RESULTS | PDF uncertainty @ LO:   0%|          | 0/48 [00:00<?, ?it/s]"
      ]
     },
     "metadata": {},
     "output_type": "display_data"
    },
    {
     "data": {
      "application/vnd.jupyter.widget-view+json": {
       "model_id": "c011aa9c5b604a88965677eaf2389d18",
       "version_major": 2,
       "version_minor": 0
      },
      "text/plain": [
       "QUEUEING TASKS | PDF uncertainty @ NLO:   0%|          | 0/48 [00:00<?, ?it/s]"
      ]
     },
     "metadata": {},
     "output_type": "display_data"
    },
    {
     "data": {
      "application/vnd.jupyter.widget-view+json": {
       "model_id": "ac5e2501c7e14fa09b92f8eef0e339af",
       "version_major": 2,
       "version_minor": 0
      },
      "text/plain": [
       "PROCESSING TASKS | PDF uncertainty @ NLO:   0%|          | 0/48 [00:00<?, ?it/s]"
      ]
     },
     "metadata": {},
     "output_type": "display_data"
    },
    {
     "data": {
      "application/vnd.jupyter.widget-view+json": {
       "model_id": "dbcef16c4334403f84414f335225ec11",
       "version_major": 2,
       "version_minor": 0
      },
      "text/plain": [
       "COLLECTING RESULTS | PDF uncertainty @ NLO:   0%|          | 0/48 [00:00<?, ?it/s]"
      ]
     },
     "metadata": {},
     "output_type": "display_data"
    },
    {
     "data": {
      "application/vnd.jupyter.widget-view+json": {
       "model_id": "487bc5b96e714509bef57b320dc42c3f",
       "version_major": 2,
       "version_minor": 0
      },
      "text/plain": [
       "QUEUEING TASKS | PDF uncertainty @ aNNLO_PLUS_NNLL:   0%|          | 0/48 [00:00<?, ?it/s]"
      ]
     },
     "metadata": {},
     "output_type": "display_data"
    },
    {
     "data": {
      "application/vnd.jupyter.widget-view+json": {
       "model_id": "6c7a9fa54e7c495bbff07e50c6960f71",
       "version_major": 2,
       "version_minor": 0
      },
      "text/plain": [
       "PROCESSING TASKS | PDF uncertainty @ aNNLO_PLUS_NNLL:   0%|          | 0/48 [00:00<?, ?it/s]"
      ]
     },
     "metadata": {},
     "output_type": "display_data"
    },
    {
     "data": {
      "application/vnd.jupyter.widget-view+json": {
       "model_id": "88b9418bc19f4b95874f416386706666",
       "version_major": 2,
       "version_minor": 0
      },
      "text/plain": [
       "COLLECTING RESULTS | PDF uncertainty @ aNNLO_PLUS_NNLL:   0%|          | 0/48 [00:00<?, ?it/s]"
      ]
     },
     "metadata": {},
     "output_type": "display_data"
    },
    {
     "data": {
      "application/vnd.jupyter.widget-view+json": {
       "model_id": "3777fefb7e4a415d9877117fb087bdad",
       "version_major": 2,
       "version_minor": 0
      },
      "text/plain": [
       "QUEUEING TASKS | Scale uncertainty @ LO:   0%|          | 0/48 [00:00<?, ?it/s]"
      ]
     },
     "metadata": {},
     "output_type": "display_data"
    },
    {
     "data": {
      "application/vnd.jupyter.widget-view+json": {
       "model_id": "c25fd74d96d9485c884bf139e2dcfdbf",
       "version_major": 2,
       "version_minor": 0
      },
      "text/plain": [
       "PROCESSING TASKS | Scale uncertainty @ LO:   0%|          | 0/48 [00:00<?, ?it/s]"
      ]
     },
     "metadata": {},
     "output_type": "display_data"
    },
    {
     "data": {
      "application/vnd.jupyter.widget-view+json": {
       "model_id": "99e4e8c4f53c4886858d6825068402d1",
       "version_major": 2,
       "version_minor": 0
      },
      "text/plain": [
       "COLLECTING RESULTS | Scale uncertainty @ LO:   0%|          | 0/48 [00:00<?, ?it/s]"
      ]
     },
     "metadata": {},
     "output_type": "display_data"
    },
    {
     "data": {
      "application/vnd.jupyter.widget-view+json": {
       "model_id": "c0a757d6a9bc415f903c1a9b8a8972d4",
       "version_major": 2,
       "version_minor": 0
      },
      "text/plain": [
       "QUEUEING TASKS | Scale uncertainty @ NLO:   0%|          | 0/48 [00:00<?, ?it/s]"
      ]
     },
     "metadata": {},
     "output_type": "display_data"
    },
    {
     "data": {
      "application/vnd.jupyter.widget-view+json": {
       "model_id": "ac8a63f77fdd48dc91724b5b329a15b8",
       "version_major": 2,
       "version_minor": 0
      },
      "text/plain": [
       "PROCESSING TASKS | Scale uncertainty @ NLO:   0%|          | 0/48 [00:00<?, ?it/s]"
      ]
     },
     "metadata": {},
     "output_type": "display_data"
    },
    {
     "data": {
      "application/vnd.jupyter.widget-view+json": {
       "model_id": "b713b1966e4849768dd42bd444690241",
       "version_major": 2,
       "version_minor": 0
      },
      "text/plain": [
       "COLLECTING RESULTS | Scale uncertainty @ NLO:   0%|          | 0/48 [00:00<?, ?it/s]"
      ]
     },
     "metadata": {},
     "output_type": "display_data"
    },
    {
     "data": {
      "application/vnd.jupyter.widget-view+json": {
       "model_id": "4e47e9ff329f481eb3d264ef9a73e572",
       "version_major": 2,
       "version_minor": 0
      },
      "text/plain": [
       "QUEUEING TASKS | Scale uncertainty @ aNNLO_PLUS_NNLL:   0%|          | 0/48 [00:00<?, ?it/s]"
      ]
     },
     "metadata": {},
     "output_type": "display_data"
    },
    {
     "data": {
      "application/vnd.jupyter.widget-view+json": {
       "model_id": "4c04bbb1d3c14fb0a903893692de038b",
       "version_major": 2,
       "version_minor": 0
      },
      "text/plain": [
       "PROCESSING TASKS | Scale uncertainty @ aNNLO_PLUS_NNLL:   0%|          | 0/48 [00:00<?, ?it/s]"
      ]
     },
     "metadata": {},
     "output_type": "display_data"
    },
    {
     "data": {
      "application/vnd.jupyter.widget-view+json": {
       "model_id": "0fed4aa21ed849f19a85145219dd0aa7",
       "version_major": 2,
       "version_minor": 0
      },
      "text/plain": [
       "COLLECTING RESULTS | Scale uncertainty @ aNNLO_PLUS_NNLL:   0%|          | 0/48 [00:00<?, ?it/s]"
      ]
     },
     "metadata": {},
     "output_type": "display_data"
    },
    {
     "name": "stdout",
     "output_type": "stream",
     "text": [
      "13600_sneutrinos_-1000012_1000012\n",
      "| 50.0  |  7327  |  4.1 | 2.5 | -6.3 | -2.5 |\n",
      "| 60.0  |  2571  |  3.3 | 2.6 | -4.9 | -2.6 |\n",
      "| 70.0  |  1291  |  2.7 | 2.7 | -4.0 | -2.7 |\n",
      "| 80.0  |  750.2  |  2.2 | 2.7 | -3.4 | -2.7 |\n",
      "| 90.0  |  474.4  |  2.0 | 2.8 | -2.8 | -2.8 |\n",
      "| 100.0  |  318  |  1.8 | 2.9 | -2.5 | -2.9 |\n",
      "| 110.0  |  222.5  |  1.6 | 2.9 | -2.2 | -2.9 |\n",
      "| 120.0  |  160.9  |  1.4 | 3.0 | -1.9 | -3.0 |\n",
      "| 130.0  |  119.5  |  1.3 | 3.1 | -1.7 | -3.1 |\n",
      "| 140.0  |  90.73  |  1.2 | 3.1 | -1.6 | -3.1 |\n",
      "| 150.0  |  70.16  |  1.2 | 3.2 | -1.4 | -3.2 |\n",
      "| 160.0  |  55.08  |  1.2 | 3.4 | -1.3 | -3.4 |\n",
      "| 170.0  |  43.85  |  1.1 | 3.4 | -1.2 | -3.4 |\n",
      "| 180.0  |  35.33  |  1.1 | 3.4 | -1.0 | -3.4 |\n",
      "| 190.0  |  28.77  |  1.1 | 3.5 | -1.0 | -3.5 |\n",
      "| 200.0  |  23.64  |  1.1 | 3.6 | -0.9 | -3.6 |\n",
      "| 210.0  |  19.6  |  1.0 | 3.7 | -0.8 | -3.7 |\n",
      "| 220.0  |  16.37  |  1.0 | 3.8 | -0.8 | -3.8 |\n",
      "| 230.0  |  13.77  |  0.9 | 3.9 | -0.7 | -3.9 |\n",
      "| 240.0  |  11.65  |  0.8 | 4.0 | -0.7 | -4.0 |\n",
      "| 250.0  |  9.915  |  0.8 | 4.1 | -0.6 | -4.1 |\n",
      "| 260.0  |  8.488  |  0.8 | 4.2 | -0.6 | -4.2 |\n",
      "| 270.0  |  7.297  |  0.8 | 4.2 | -0.6 | -4.2 |\n",
      "| 280.0  |  6.302  |  0.8 | 4.3 | -0.6 | -4.3 |\n",
      "| 290.0  |  5.463  |  0.8 | 4.4 | -0.5 | -4.4 |\n",
      "| 300.0  |  4.756  |  0.7 | 4.5 | -0.5 | -4.5 |\n",
      "| 310.0  |  4.154  |  0.7 | 4.6 | -0.5 | -4.6 |\n",
      "| 320.0  |  3.641  |  0.7 | 4.7 | -0.5 | -4.7 |\n",
      "| 330.0  |  3.202  |  0.7 | 4.8 | -0.4 | -4.8 |\n",
      "| 340.0  |  2.824  |  0.7 | 4.9 | -0.4 | -4.9 |\n",
      "| 350.0  |  2.497  |  0.7 | 5.0 | -0.4 | -5.0 |\n",
      "| 360.0  |  2.214  |  0.7 | 5.1 | -0.4 | -5.1 |\n",
      "| 370.0  |  1.968  |  0.6 | 5.2 | -0.4 | -5.2 |\n",
      "| 380.0  |  1.753  |  0.6 | 5.3 | -0.4 | -5.3 |\n",
      "| 390.0  |  1.566  |  0.6 | 5.4 | -0.4 | -5.4 |\n",
      "| 400.0  |  1.401  |  0.6 | 5.5 | -0.4 | -5.5 |\n",
      "| 450.0  |  0.8261  |  0.6 | 6.0 | -0.3 | -6.0 |\n",
      "| 500.0  |  0.5069  |  0.5 | 6.6 | -0.3 | -6.6 |\n",
      "| 550.0  |  0.3209  |  0.5 | 7.1 | -0.3 | -7.1 |\n",
      "| 600.0  |  0.2086  |  0.5 | 7.8 | -0.3 | -7.8 |\n",
      "| 650.0  |  0.1386  |  0.4 | 8.5 | -0.2 | -8.5 |\n",
      "| 700.0  |  0.09375  |  0.4 | 9.3 | -0.2 | -9.3 |\n",
      "| 750.0  |  0.06445  |  0.4 | 10.2 | -0.2 | -10.2 |\n",
      "| 800.0  |  0.04492  |  0.4 | 11.2 | -0.2 | -11.2 |\n",
      "| 850.0  |  0.03168  |  0.4 | 12.3 | -0.2 | -12.3 |\n",
      "| 900.0  |  0.02259  |  0.4 | 13.7 | -0.2 | -13.7 |\n",
      "| 950.0  |  0.01627  |  0.4 | 15.2 | -0.2 | -15.2 |\n",
      "| 1000.0  |  0.01181  |  0.4 | 16.8 | -0.2 | -16.8 |\n"
     ]
    },
    {
     "data": {
      "image/png": "[encoded data removed]",
      "text/plain": [
       "<Figure size 600x400 with 2 Axes>"
      ]
     },
     "metadata": {},
     "output_type": "display_data"
    },
    {
     "data": {
      "application/vnd.jupyter.widget-view+json": {
       "model_id": "b2b9d3154ab144108dd0547da0f762b9",
       "version_major": 2,
       "version_minor": 0
      },
      "text/plain": [
       "QUEUEING TASKS | Checking input:   0%|          | 0/2256 [00:00<?, ?it/s]"
      ]
     },
     "metadata": {},
     "output_type": "display_data"
    },
    {
     "data": {
      "application/vnd.jupyter.widget-view+json": {
       "model_id": "4225770cbecd4bf78fdcacb9633cd79c",
       "version_major": 2,
       "version_minor": 0
      },
      "text/plain": [
       "PROCESSING TASKS | Checking input:   0%|          | 0/2256 [00:00<?, ?it/s]"
      ]
     },
     "metadata": {},
     "output_type": "display_data"
    },
    {
     "data": {
      "application/vnd.jupyter.widget-view+json": {
       "model_id": "a6730b6033474c4f98ef2dcb3a99bbac",
       "version_major": 2,
       "version_minor": 0
      },
      "text/plain": [
       "COLLECTING RESULTS | Checking input:   0%|          | 0/2256 [00:00<?, ?it/s]"
      ]
     },
     "metadata": {},
     "output_type": "display_data"
    },
    {
     "data": {
      "application/vnd.jupyter.widget-view+json": {
       "model_id": "f8d202edc91142a4b0990c9925f5c8e0",
       "version_major": 2,
       "version_minor": 0
      },
      "text/plain": [
       "QUEUEING TASKS | Preparing:   0%|          | 0/2256 [00:00<?, ?it/s]"
      ]
     },
     "metadata": {},
     "output_type": "display_data"
    },
    {
     "data": {
      "application/vnd.jupyter.widget-view+json": {
       "model_id": "2d2335b358e54546a8e748e573dad74f",
       "version_major": 2,
       "version_minor": 0
      },
      "text/plain": [
       "PROCESSING TASKS | Preparing:   0%|          | 0/2256 [00:00<?, ?it/s]"
      ]
     },
     "metadata": {},
     "output_type": "display_data"
    },
    {
     "data": {
      "application/vnd.jupyter.widget-view+json": {
       "model_id": "19afd84ab34c4075b1a872309b69835b",
       "version_major": 2,
       "version_minor": 0
      },
      "text/plain": [
       "COLLECTING RESULTS | Preparing:   0%|          | 0/2256 [00:00<?, ?it/s]"
      ]
     },
     "metadata": {},
     "output_type": "display_data"
    },
    {
     "name": "stdout",
     "output_type": "stream",
     "text": [
      "Skipped: 2256 Not skipped: 0\n"
     ]
    },
    {
     "data": {
      "application/vnd.jupyter.widget-view+json": {
       "model_id": "a8adaabb33f04c26b6ae86ef23b71737",
       "version_major": 2,
       "version_minor": 0
      },
      "text/plain": [
       "QUEUEING TASKS | Running: 0it [00:00, ?it/s]"
      ]
     },
     "metadata": {},
     "output_type": "display_data"
    },
    {
     "data": {
      "application/vnd.jupyter.widget-view+json": {
       "model_id": "bdd9ffd33e7348e3baf8cd6d1249fdae",
       "version_major": 2,
       "version_minor": 0
      },
      "text/plain": [
       "PROCESSING TASKS | Running: 0it [00:00, ?it/s]"
      ]
     },
     "metadata": {},
     "output_type": "display_data"
    },
    {
     "data": {
      "application/vnd.jupyter.widget-view+json": {
       "model_id": "70f2afc898d04508a3115075a1a04baa",
       "version_major": 2,
       "version_minor": 0
      },
      "text/plain": [
       "COLLECTING RESULTS | Running: 0it [00:00, ?it/s]"
      ]
     },
     "metadata": {},
     "output_type": "display_data"
    },
    {
     "data": {
      "application/vnd.jupyter.widget-view+json": {
       "model_id": "d5c4ba61961c44619ba7b3f7895d1dda",
       "version_major": 2,
       "version_minor": 0
      },
      "text/plain": [
       "QUEUEING TASKS | Parsing:   0%|          | 0/2256 [00:00<?, ?it/s]"
      ]
     },
     "metadata": {},
     "output_type": "display_data"
    },
    {
     "data": {
      "application/vnd.jupyter.widget-view+json": {
       "model_id": "d736f3a882e8496e83fa0da66ccfd664",
       "version_major": 2,
       "version_minor": 0
      },
      "text/plain": [
       "PROCESSING TASKS | Parsing:   0%|          | 0/2256 [00:00<?, ?it/s]"
      ]
     },
     "metadata": {},
     "output_type": "display_data"
    },
    {
     "data": {
      "application/vnd.jupyter.widget-view+json": {
       "model_id": "478c75d29b254b34b60bf575af0d1d94",
       "version_major": 2,
       "version_minor": 0
      },
      "text/plain": [
       "COLLECTING RESULTS | Parsing:   0%|          | 0/2256 [00:00<?, ?it/s]"
      ]
     },
     "metadata": {},
     "output_type": "display_data"
    },
    {
     "data": {
      "application/vnd.jupyter.widget-view+json": {
       "model_id": "033fd58e7834440cb52b0d9cff4ee2e4",
       "version_major": 2,
       "version_minor": 0
      },
      "text/plain": [
       "QUEUEING TASKS | PDF uncertainty @ LO:   0%|          | 0/48 [00:00<?, ?it/s]"
      ]
     },
     "metadata": {},
     "output_type": "display_data"
    },
    {
     "data": {
      "application/vnd.jupyter.widget-view+json": {
       "model_id": "a6e975f7a41b48ef99df765d8f155df7",
       "version_major": 2,
       "version_minor": 0
      },
      "text/plain": [
       "PROCESSING TASKS | PDF uncertainty @ LO:   0%|          | 0/48 [00:00<?, ?it/s]"
      ]
     },
     "metadata": {},
     "output_type": "display_data"
    },
    {
     "data": {
      "application/vnd.jupyter.widget-view+json": {
       "model_id": "8a3872d8ff014373acbf88c2fd4136eb",
       "version_major": 2,
       "version_minor": 0
      },
      "text/plain": [
       "COLLECTING RESULTS | PDF uncertainty @ LO:   0%|          | 0/48 [00:00<?, ?it/s]"
      ]
     },
     "metadata": {},
     "output_type": "display_data"
    },
    {
     "data": {
      "application/vnd.jupyter.widget-view+json": {
       "model_id": "37d9f62003544548bd0eea39e6727b45",
       "version_major": 2,
       "version_minor": 0
      },
      "text/plain": [
       "QUEUEING TASKS | PDF uncertainty @ NLO:   0%|          | 0/48 [00:00<?, ?it/s]"
      ]
     },
     "metadata": {},
     "output_type": "display_data"
    },
    {
     "data": {
      "application/vnd.jupyter.widget-view+json": {
       "model_id": "35591b5ded70464fab946217fc5e3cb9",
       "version_major": 2,
       "version_minor": 0
      },
      "text/plain": [
       "PROCESSING TASKS | PDF uncertainty @ NLO:   0%|          | 0/48 [00:00<?, ?it/s]"
      ]
     },
     "metadata": {},
     "output_type": "display_data"
    },
    {
     "data": {
      "application/vnd.jupyter.widget-view+json": {
       "model_id": "61e7e49b8ebc4b2785738fed01099a1b",
       "version_major": 2,
       "version_minor": 0
      },
      "text/plain": [
       "COLLECTING RESULTS | PDF uncertainty @ NLO:   0%|          | 0/48 [00:00<?, ?it/s]"
      ]
     },
     "metadata": {},
     "output_type": "display_data"
    },
    {
     "data": {
      "application/vnd.jupyter.widget-view+json": {
       "model_id": "4b3f0d3d3db3458c915cc1f8816ff8a5",
       "version_major": 2,
       "version_minor": 0
      },
      "text/plain": [
       "QUEUEING TASKS | PDF uncertainty @ aNNLO_PLUS_NNLL:   0%|          | 0/48 [00:00<?, ?it/s]"
      ]
     },
     "metadata": {},
     "output_type": "display_data"
    },
    {
     "data": {
      "application/vnd.jupyter.widget-view+json": {
       "model_id": "d02a2652ae1347bfb6c2d8f5444c36b4",
       "version_major": 2,
       "version_minor": 0
      },
      "text/plain": [
       "PROCESSING TASKS | PDF uncertainty @ aNNLO_PLUS_NNLL:   0%|          | 0/48 [00:00<?, ?it/s]"
      ]
     },
     "metadata": {},
     "output_type": "display_data"
    },
    {
     "data": {
      "application/vnd.jupyter.widget-view+json": {
       "model_id": "b720b0c54a0b417791d265666e240724",
       "version_major": 2,
       "version_minor": 0
      },
      "text/plain": [
       "COLLECTING RESULTS | PDF uncertainty @ aNNLO_PLUS_NNLL:   0%|          | 0/48 [00:00<?, ?it/s]"
      ]
     },
     "metadata": {},
     "output_type": "display_data"
    },
    {
     "data": {
      "application/vnd.jupyter.widget-view+json": {
       "model_id": "d7a32ecadc484051a05e965f0d2c4585",
       "version_major": 2,
       "version_minor": 0
      },
      "text/plain": [
       "QUEUEING TASKS | Scale uncertainty @ LO:   0%|          | 0/48 [00:00<?, ?it/s]"
      ]
     },
     "metadata": {},
     "output_type": "display_data"
    },
    {
     "data": {
      "application/vnd.jupyter.widget-view+json": {
       "model_id": "9899ec5f2d9742eab10a7d45e78b216c",
       "version_major": 2,
       "version_minor": 0
      },
      "text/plain": [
       "PROCESSING TASKS | Scale uncertainty @ LO:   0%|          | 0/48 [00:00<?, ?it/s]"
      ]
     },
     "metadata": {},
     "output_type": "display_data"
    },
    {
     "data": {
      "application/vnd.jupyter.widget-view+json": {
       "model_id": "966bd2fd59ae4f8da7268f5529d34f9b",
       "version_major": 2,
       "version_minor": 0
      },
      "text/plain": [
       "COLLECTING RESULTS | Scale uncertainty @ LO:   0%|          | 0/48 [00:00<?, ?it/s]"
      ]
     },
     "metadata": {},
     "output_type": "display_data"
    },
    {
     "data": {
      "application/vnd.jupyter.widget-view+json": {
       "model_id": "681f6ccee3994ed99a9a7bbf9276c577",
       "version_major": 2,
       "version_minor": 0
      },
      "text/plain": [
       "QUEUEING TASKS | Scale uncertainty @ NLO:   0%|          | 0/48 [00:00<?, ?it/s]"
      ]
     },
     "metadata": {},
     "output_type": "display_data"
    },
    {
     "data": {
      "application/vnd.jupyter.widget-view+json": {
       "model_id": "30b4e37fedca498c965f418350c8f1ba",
       "version_major": 2,
       "version_minor": 0
      },
      "text/plain": [
       "PROCESSING TASKS | Scale uncertainty @ NLO:   0%|          | 0/48 [00:00<?, ?it/s]"
      ]
     },
     "metadata": {},
     "output_type": "display_data"
    },
    {
     "data": {
      "application/vnd.jupyter.widget-view+json": {
       "model_id": "723b8eb23606420f87d8f2fb9adafb4a",
       "version_major": 2,
       "version_minor": 0
      },
      "text/plain": [
       "COLLECTING RESULTS | Scale uncertainty @ NLO:   0%|          | 0/48 [00:00<?, ?it/s]"
      ]
     },
     "metadata": {},
     "output_type": "display_data"
    },
    {
     "data": {
      "application/vnd.jupyter.widget-view+json": {
       "model_id": "3f16b9a4bfdf4003a4154ac3fb127264",
       "version_major": 2,
       "version_minor": 0
      },
      "text/plain": [
       "QUEUEING TASKS | Scale uncertainty @ aNNLO_PLUS_NNLL:   0%|          | 0/48 [00:00<?, ?it/s]"
      ]
     },
     "metadata": {},
     "output_type": "display_data"
    },
    {
     "data": {
      "application/vnd.jupyter.widget-view+json": {
       "model_id": "0fe41a9efedb42909c8bcdd4098f62e4",
       "version_major": 2,
       "version_minor": 0
      },
      "text/plain": [
       "PROCESSING TASKS | Scale uncertainty @ aNNLO_PLUS_NNLL:   0%|          | 0/48 [00:00<?, ?it/s]"
      ]
     },
     "metadata": {},
     "output_type": "display_data"
    },
    {
     "data": {
      "application/vnd.jupyter.widget-view+json": {
       "model_id": "1275a76bfc2040698b3a838ec832001b",
       "version_major": 2,
       "version_minor": 0
      },
      "text/plain": [
       "COLLECTING RESULTS | Scale uncertainty @ aNNLO_PLUS_NNLL:   0%|          | 0/48 [00:00<?, ?it/s]"
      ]
     },
     "metadata": {},
     "output_type": "display_data"
    },
    {
     "name": "stdout",
     "output_type": "stream",
     "text": [
      "13000_sneutrinos_-1000015_1000016\n",
      "| 50.0  |  6645  |  7.4 | 2.6 | -6.8 | -2.6 |\n",
      "| 60.0  |  2883  |  7.1 | 2.7 | -5.5 | -2.7 |\n",
      "| 70.0  |  1552  |  6.8 | 2.8 | -5.3 | -2.8 |\n",
      "| 80.0  |  934.7  |  6.6 | 2.9 | -5.1 | -2.9 |\n",
      "| 90.0  |  605.1  |  6.4 | 3.1 | -5.0 | -3.1 |\n",
      "| 100.0  |  412.5  |  6.2 | 3.2 | -4.9 | -3.2 |\n",
      "| 110.0  |  292.4  |  6.0 | 3.2 | -4.8 | -3.2 |\n",
      "| 120.0  |  213.7  |  5.9 | 3.4 | -4.7 | -3.4 |\n",
      "| 130.0  |  160.1  |  5.8 | 3.5 | -4.6 | -3.5 |\n",
      "| 140.0  |  122.5  |  5.6 | 3.6 | -4.5 | -3.6 |\n",
      "| 150.0  |  95.36  |  5.5 | 3.7 | -4.4 | -3.7 |\n",
      "| 160.0  |  75.38  |  5.4 | 3.8 | -4.4 | -3.8 |\n",
      "| 170.0  |  60.37  |  5.4 | 3.9 | -4.3 | -3.9 |\n",
      "| 180.0  |  48.89  |  5.3 | 4.0 | -4.2 | -4.0 |\n",
      "| 190.0  |  40.01  |  5.3 | 4.1 | -4.2 | -4.1 |\n",
      "| 200.0  |  33.04  |  5.4 | 4.2 | -4.1 | -4.2 |\n",
      "| 210.0  |  27.51  |  5.4 | 4.3 | -4.1 | -4.3 |\n",
      "| 220.0  |  23.07  |  5.4 | 4.4 | -4.0 | -4.4 |\n",
      "| 230.0  |  19.48  |  5.4 | 4.5 | -4.0 | -4.5 |\n",
      "| 240.0  |  16.54  |  5.5 | 4.6 | -4.0 | -4.6 |\n",
      "| 250.0  |  14.13  |  5.5 | 4.7 | -3.9 | -4.7 |\n",
      "| 260.0  |  12.13  |  5.5 | 4.8 | -3.9 | -4.8 |\n",
      "| 270.0  |  10.46  |  5.5 | 4.9 | -3.9 | -4.9 |\n",
      "| 280.0  |  9.061  |  5.5 | 5.0 | -3.8 | -5.0 |\n",
      "| 290.0  |  7.88  |  5.6 | 5.1 | -3.8 | -5.1 |\n",
      "| 300.0  |  6.879  |  5.6 | 5.2 | -3.8 | -5.2 |\n",
      "| 310.0  |  6.027  |  5.5 | 5.3 | -3.8 | -5.3 |\n",
      "| 320.0  |  5.296  |  5.5 | 5.4 | -3.8 | -5.4 |\n",
      "| 330.0  |  4.669  |  5.5 | 5.5 | -3.8 | -5.5 |\n",
      "| 340.0  |  4.128  |  5.6 | 5.6 | -3.8 | -5.6 |\n",
      "| 350.0  |  3.659  |  5.6 | 5.8 | -3.8 | -5.8 |\n",
      "| 360.0  |  3.252  |  5.5 | 5.9 | -3.9 | -5.9 |\n",
      "| 370.0  |  2.898  |  5.5 | 5.9 | -3.9 | -5.9 |\n",
      "| 380.0  |  2.587  |  5.5 | 6.0 | -3.9 | -6.0 |\n",
      "| 390.0  |  2.315  |  5.5 | 6.2 | -3.9 | -6.2 |\n",
      "| 400.0  |  2.075  |  5.5 | 6.2 | -3.9 | -6.2 |\n",
      "| 450.0  |  1.235  |  5.5 | 6.8 | -3.9 | -6.8 |\n",
      "| 500.0  |  0.7632  |  5.5 | 7.4 | -3.9 | -7.4 |\n",
      "| 550.0  |  0.4862  |  5.5 | 8.0 | -3.9 | -8.0 |\n",
      "| 600.0  |  0.3174  |  5.5 | 8.6 | -3.9 | -8.6 |\n",
      "| 650.0  |  0.2115  |  5.5 | 9.4 | -3.9 | -9.4 |\n",
      "| 700.0  |  0.1434  |  5.4 | 10.3 | -3.9 | -10.3 |\n",
      "| 750.0  |  0.09864  |  5.4 | 11.2 | -3.9 | -11.2 |\n",
      "| 800.0  |  0.06872  |  5.4 | 12.4 | -3.9 | -12.4 |\n",
      "| 850.0  |  0.0484  |  5.4 | 13.7 | -3.9 | -13.7 |\n",
      "| 900.0  |  0.03442  |  5.4 | 15.2 | -3.8 | -15.2 |\n",
      "| 950.0  |  0.02469  |  5.3 | 17.0 | -3.8 | -17.0 |\n",
      "| 1000.0  |  0.01784  |  5.3 | 19.1 | -3.8 | -19.1 |\n"
     ]
    },
    {
     "data": {
      "application/vnd.jupyter.widget-view+json": {
       "model_id": "4bfb5708d9da4307bdb39c1609dfdada",
       "version_major": 2,
       "version_minor": 0
      },
      "text/plain": [
       "QUEUEING TASKS | Checking input:   0%|          | 0/2256 [00:00<?, ?it/s]"
      ]
     },
     "metadata": {},
     "output_type": "display_data"
    },
    {
     "data": {
      "application/vnd.jupyter.widget-view+json": {
       "model_id": "a84dbbffaacd4bbb949748bd80817420",
       "version_major": 2,
       "version_minor": 0
      },
      "text/plain": [
       "PROCESSING TASKS | Checking input:   0%|          | 0/2256 [00:00<?, ?it/s]"
      ]
     },
     "metadata": {},
     "output_type": "display_data"
    },
    {
     "data": {
      "application/vnd.jupyter.widget-view+json": {
       "model_id": "50257f9ae65c4366bc0b69a145e7a7da",
       "version_major": 2,
       "version_minor": 0
      },
      "text/plain": [
       "COLLECTING RESULTS | Checking input:   0%|          | 0/2256 [00:00<?, ?it/s]"
      ]
     },
     "metadata": {},
     "output_type": "display_data"
    },
    {
     "data": {
      "application/vnd.jupyter.widget-view+json": {
       "model_id": "cdcc5960b58f446b9e10770185cd3ec3",
       "version_major": 2,
       "version_minor": 0
      },
      "text/plain": [
       "QUEUEING TASKS | Preparing:   0%|          | 0/2256 [00:00<?, ?it/s]"
      ]
     },
     "metadata": {},
     "output_type": "display_data"
    },
    {
     "data": {
      "application/vnd.jupyter.widget-view+json": {
       "model_id": "d6e012f912dc40678a4713917189c40a",
       "version_major": 2,
       "version_minor": 0
      },
      "text/plain": [
       "PROCESSING TASKS | Preparing:   0%|          | 0/2256 [00:00<?, ?it/s]"
      ]
     },
     "metadata": {},
     "output_type": "display_data"
    },
    {
     "data": {
      "application/vnd.jupyter.widget-view+json": {
       "model_id": "8858c4d05d9c4c6fa1aa72c7ed0ccc12",
       "version_major": 2,
       "version_minor": 0
      },
      "text/plain": [
       "COLLECTING RESULTS | Preparing:   0%|          | 0/2256 [00:00<?, ?it/s]"
      ]
     },
     "metadata": {},
     "output_type": "display_data"
    },
    {
     "name": "stdout",
     "output_type": "stream",
     "text": [
      "Skipped: 2256 Not skipped: 0\n"
     ]
    },
    {
     "data": {
      "application/vnd.jupyter.widget-view+json": {
       "model_id": "17a52dd4f8c2464babae3806f22283fe",
       "version_major": 2,
       "version_minor": 0
      },
      "text/plain": [
       "QUEUEING TASKS | Running: 0it [00:00, ?it/s]"
      ]
     },
     "metadata": {},
     "output_type": "display_data"
    },
    {
     "data": {
      "application/vnd.jupyter.widget-view+json": {
       "model_id": "c5d2a787ee134ee48471becc8ce73125",
       "version_major": 2,
       "version_minor": 0
      },
      "text/plain": [
       "PROCESSING TASKS | Running: 0it [00:00, ?it/s]"
      ]
     },
     "metadata": {},
     "output_type": "display_data"
    },
    {
     "data": {
      "application/vnd.jupyter.widget-view+json": {
       "model_id": "ccd03a48378d4e17837b6552530150ba",
       "version_major": 2,
       "version_minor": 0
      },
      "text/plain": [
       "COLLECTING RESULTS | Running: 0it [00:00, ?it/s]"
      ]
     },
     "metadata": {},
     "output_type": "display_data"
    },
    {
     "data": {
      "application/vnd.jupyter.widget-view+json": {
       "model_id": "6c012bca58e94439a327ed0623d19b05",
       "version_major": 2,
       "version_minor": 0
      },
      "text/plain": [
       "QUEUEING TASKS | Parsing:   0%|          | 0/2256 [00:00<?, ?it/s]"
      ]
     },
     "metadata": {},
     "output_type": "display_data"
    },
    {
     "data": {
      "application/vnd.jupyter.widget-view+json": {
       "model_id": "6ea73875a2094bfeb70256161d27fc16",
       "version_major": 2,
       "version_minor": 0
      },
      "text/plain": [
       "PROCESSING TASKS | Parsing:   0%|          | 0/2256 [00:00<?, ?it/s]"
      ]
     },
     "metadata": {},
     "output_type": "display_data"
    },
    {
     "data": {
      "application/vnd.jupyter.widget-view+json": {
       "model_id": "6c4a2948754b43569f511e105e50284e",
       "version_major": 2,
       "version_minor": 0
      },
      "text/plain": [
       "COLLECTING RESULTS | Parsing:   0%|          | 0/2256 [00:00<?, ?it/s]"
      ]
     },
     "metadata": {},
     "output_type": "display_data"
    },
    {
     "data": {
      "application/vnd.jupyter.widget-view+json": {
       "model_id": "22ae642667ca4ec29ba1812ea9a0f466",
       "version_major": 2,
       "version_minor": 0
      },
      "text/plain": [
       "QUEUEING TASKS | PDF uncertainty @ LO:   0%|          | 0/48 [00:00<?, ?it/s]"
      ]
     },
     "metadata": {},
     "output_type": "display_data"
    },
    {
     "data": {
      "application/vnd.jupyter.widget-view+json": {
       "model_id": "14fe0412866b4769b4ff69fd570fbc77",
       "version_major": 2,
       "version_minor": 0
      },
      "text/plain": [
       "PROCESSING TASKS | PDF uncertainty @ LO:   0%|          | 0/48 [00:00<?, ?it/s]"
      ]
     },
     "metadata": {},
     "output_type": "display_data"
    },
    {
     "data": {
      "application/vnd.jupyter.widget-view+json": {
       "model_id": "62343d1c19964dd0bbcfc79cdb667adf",
       "version_major": 2,
       "version_minor": 0
      },
      "text/plain": [
       "COLLECTING RESULTS | PDF uncertainty @ LO:   0%|          | 0/48 [00:00<?, ?it/s]"
      ]
     },
     "metadata": {},
     "output_type": "display_data"
    },
    {
     "data": {
      "application/vnd.jupyter.widget-view+json": {
       "model_id": "3440e6999c0540a19aa7db868a320f4e",
       "version_major": 2,
       "version_minor": 0
      },
      "text/plain": [
       "QUEUEING TASKS | PDF uncertainty @ NLO:   0%|          | 0/48 [00:00<?, ?it/s]"
      ]
     },
     "metadata": {},
     "output_type": "display_data"
    },
    {
     "data": {
      "application/vnd.jupyter.widget-view+json": {
       "model_id": "64889f35b64748989ebf9d6422db5323",
       "version_major": 2,
       "version_minor": 0
      },
      "text/plain": [
       "PROCESSING TASKS | PDF uncertainty @ NLO:   0%|          | 0/48 [00:00<?, ?it/s]"
      ]
     },
     "metadata": {},
     "output_type": "display_data"
    },
    {
     "data": {
      "application/vnd.jupyter.widget-view+json": {
       "model_id": "b5ec4eb99ea44436a3e44cb8e3c5a39c",
       "version_major": 2,
       "version_minor": 0
      },
      "text/plain": [
       "COLLECTING RESULTS | PDF uncertainty @ NLO:   0%|          | 0/48 [00:00<?, ?it/s]"
      ]
     },
     "metadata": {},
     "output_type": "display_data"
    },
    {
     "data": {
      "application/vnd.jupyter.widget-view+json": {
       "model_id": "009a172f70cd46d78ff967e5b4ca72a4",
       "version_major": 2,
       "version_minor": 0
      },
      "text/plain": [
       "QUEUEING TASKS | PDF uncertainty @ aNNLO_PLUS_NNLL:   0%|          | 0/48 [00:00<?, ?it/s]"
      ]
     },
     "metadata": {},
     "output_type": "display_data"
    },
    {
     "data": {
      "application/vnd.jupyter.widget-view+json": {
       "model_id": "8ec1b63010414e6fb38df1624a7b4bf0",
       "version_major": 2,
       "version_minor": 0
      },
      "text/plain": [
       "PROCESSING TASKS | PDF uncertainty @ aNNLO_PLUS_NNLL:   0%|          | 0/48 [00:00<?, ?it/s]"
      ]
     },
     "metadata": {},
     "output_type": "display_data"
    },
    {
     "data": {
      "application/vnd.jupyter.widget-view+json": {
       "model_id": "451f4ebd76a245ce852c9b8247748fbf",
       "version_major": 2,
       "version_minor": 0
      },
      "text/plain": [
       "COLLECTING RESULTS | PDF uncertainty @ aNNLO_PLUS_NNLL:   0%|          | 0/48 [00:00<?, ?it/s]"
      ]
     },
     "metadata": {},
     "output_type": "display_data"
    },
    {
     "data": {
      "application/vnd.jupyter.widget-view+json": {
       "model_id": "35dae225f76246788266543df7589a4d",
       "version_major": 2,
       "version_minor": 0
      },
      "text/plain": [
       "QUEUEING TASKS | Scale uncertainty @ LO:   0%|          | 0/48 [00:00<?, ?it/s]"
      ]
     },
     "metadata": {},
     "output_type": "display_data"
    },
    {
     "data": {
      "application/vnd.jupyter.widget-view+json": {
       "model_id": "6c35d8aaabb84a189586703c1de60c80",
       "version_major": 2,
       "version_minor": 0
      },
      "text/plain": [
       "PROCESSING TASKS | Scale uncertainty @ LO:   0%|          | 0/48 [00:00<?, ?it/s]"
      ]
     },
     "metadata": {},
     "output_type": "display_data"
    },
    {
     "data": {
      "application/vnd.jupyter.widget-view+json": {
       "model_id": "df610b9137394447a44f4622845b98e0",
       "version_major": 2,
       "version_minor": 0
      },
      "text/plain": [
       "COLLECTING RESULTS | Scale uncertainty @ LO:   0%|          | 0/48 [00:00<?, ?it/s]"
      ]
     },
     "metadata": {},
     "output_type": "display_data"
    },
    {
     "data": {
      "application/vnd.jupyter.widget-view+json": {
       "model_id": "f778b27337e54d20885a56cec4006024",
       "version_major": 2,
       "version_minor": 0
      },
      "text/plain": [
       "QUEUEING TASKS | Scale uncertainty @ NLO:   0%|          | 0/48 [00:00<?, ?it/s]"
      ]
     },
     "metadata": {},
     "output_type": "display_data"
    },
    {
     "data": {
      "application/vnd.jupyter.widget-view+json": {
       "model_id": "b2e102dc05c441d59f00486b38481384",
       "version_major": 2,
       "version_minor": 0
      },
      "text/plain": [
       "PROCESSING TASKS | Scale uncertainty @ NLO:   0%|          | 0/48 [00:00<?, ?it/s]"
      ]
     },
     "metadata": {},
     "output_type": "display_data"
    },
    {
     "data": {
      "application/vnd.jupyter.widget-view+json": {
       "model_id": "36a912b0b67a41a693508b3ebdb67b6e",
       "version_major": 2,
       "version_minor": 0
      },
      "text/plain": [
       "COLLECTING RESULTS | Scale uncertainty @ NLO:   0%|          | 0/48 [00:00<?, ?it/s]"
      ]
     },
     "metadata": {},
     "output_type": "display_data"
    },
    {
     "data": {
      "application/vnd.jupyter.widget-view+json": {
       "model_id": "4b39bb0bf05241b284bbe4f3eb509498",
       "version_major": 2,
       "version_minor": 0
      },
      "text/plain": [
       "QUEUEING TASKS | Scale uncertainty @ aNNLO_PLUS_NNLL:   0%|          | 0/48 [00:00<?, ?it/s]"
      ]
     },
     "metadata": {},
     "output_type": "display_data"
    },
    {
     "data": {
      "application/vnd.jupyter.widget-view+json": {
       "model_id": "b56c3c48f0194508877b33fbe6277205",
       "version_major": 2,
       "version_minor": 0
      },
      "text/plain": [
       "PROCESSING TASKS | Scale uncertainty @ aNNLO_PLUS_NNLL:   0%|          | 0/48 [00:00<?, ?it/s]"
      ]
     },
     "metadata": {},
     "output_type": "display_data"
    },
    {
     "data": {
      "application/vnd.jupyter.widget-view+json": {
       "model_id": "5af46b77a058420795649c6fd5fd8f03",
       "version_major": 2,
       "version_minor": 0
      },
      "text/plain": [
       "COLLECTING RESULTS | Scale uncertainty @ aNNLO_PLUS_NNLL:   0%|          | 0/48 [00:00<?, ?it/s]"
      ]
     },
     "metadata": {},
     "output_type": "display_data"
    },
    {
     "name": "stdout",
     "output_type": "stream",
     "text": [
      "13600_sneutrinos_-1000015_1000016\n",
      "| 50.0  |  6976  |  7.4 | 2.6 | -7.0 | -2.6 |\n",
      "| 60.0  |  3033  |  7.1 | 2.7 | -5.5 | -2.7 |\n",
      "| 70.0  |  1636  |  6.8 | 2.8 | -5.3 | -2.8 |\n",
      "| 80.0  |  987  |  6.6 | 2.9 | -5.1 | -2.9 |\n",
      "| 90.0  |  639.9  |  6.4 | 3.0 | -5.0 | -3.0 |\n",
      "| 100.0  |  436.9  |  6.2 | 3.1 | -4.9 | -3.1 |\n",
      "| 110.0  |  310  |  6.0 | 3.2 | -4.8 | -3.2 |\n",
      "| 120.0  |  226.9  |  5.9 | 3.3 | -4.7 | -3.3 |\n",
      "| 130.0  |  170.3  |  5.8 | 3.4 | -4.6 | -3.4 |\n",
      "| 140.0  |  130.4  |  5.6 | 3.5 | -4.5 | -3.5 |\n",
      "| 150.0  |  101.7  |  5.5 | 3.6 | -4.4 | -3.6 |\n",
      "| 160.0  |  80.5  |  5.5 | 3.7 | -4.4 | -3.7 |\n",
      "| 170.0  |  64.55  |  5.4 | 3.8 | -4.3 | -3.8 |\n",
      "| 180.0  |  52.33  |  5.3 | 3.9 | -4.2 | -3.9 |\n",
      "| 190.0  |  42.88  |  5.3 | 4.0 | -4.2 | -4.0 |\n",
      "| 200.0  |  35.45  |  5.3 | 4.1 | -4.1 | -4.1 |\n",
      "| 210.0  |  29.56  |  5.3 | 4.2 | -4.1 | -4.2 |\n",
      "| 220.0  |  24.82  |  5.4 | 4.3 | -4.0 | -4.3 |\n",
      "| 230.0  |  20.98  |  5.4 | 4.4 | -4.0 | -4.4 |\n",
      "| 240.0  |  17.84  |  5.4 | 4.5 | -4.0 | -4.5 |\n",
      "| 250.0  |  15.26  |  5.4 | 4.6 | -3.9 | -4.6 |\n",
      "| 260.0  |  13.12  |  5.4 | 4.7 | -3.9 | -4.7 |\n",
      "| 270.0  |  11.32  |  5.5 | 4.8 | -3.9 | -4.8 |\n",
      "| 280.0  |  9.823  |  5.5 | 4.9 | -3.8 | -4.9 |\n",
      "| 290.0  |  8.554  |  5.5 | 5.0 | -3.8 | -5.0 |\n",
      "| 300.0  |  7.476  |  5.5 | 5.1 | -3.8 | -5.1 |\n",
      "| 310.0  |  6.558  |  5.5 | 5.2 | -3.7 | -5.2 |\n",
      "| 320.0  |  5.771  |  5.5 | 5.3 | -3.7 | -5.3 |\n",
      "| 330.0  |  5.095  |  5.5 | 5.4 | -3.8 | -5.4 |\n",
      "| 340.0  |  4.509  |  5.5 | 5.5 | -3.8 | -5.5 |\n",
      "| 350.0  |  4.004  |  5.5 | 5.6 | -3.8 | -5.6 |\n",
      "| 360.0  |  3.563  |  5.5 | 5.7 | -3.8 | -5.7 |\n",
      "| 370.0  |  3.178  |  5.5 | 5.8 | -3.8 | -5.8 |\n",
      "| 380.0  |  2.842  |  5.5 | 5.9 | -3.8 | -5.9 |\n",
      "| 390.0  |  2.546  |  5.5 | 6.0 | -3.8 | -6.0 |\n",
      "| 400.0  |  2.286  |  5.5 | 6.1 | -3.8 | -6.1 |\n",
      "| 450.0  |  1.37  |  5.5 | 6.6 | -3.9 | -6.6 |\n",
      "| 500.0  |  0.8523  |  5.4 | 7.1 | -3.9 | -7.1 |\n",
      "| 550.0  |  0.5468  |  5.4 | 7.7 | -3.9 | -7.7 |\n",
      "| 600.0  |  0.3596  |  5.4 | 8.3 | -3.9 | -8.3 |\n",
      "| 650.0  |  0.2414  |  5.4 | 9.0 | -3.9 | -9.0 |\n",
      "| 700.0  |  0.1649  |  5.4 | 9.7 | -3.9 | -9.7 |\n",
      "| 750.0  |  0.1143  |  5.4 | 10.6 | -3.9 | -10.6 |\n",
      "| 800.0  |  0.08024  |  5.4 | 11.6 | -3.9 | -11.6 |\n",
      "| 850.0  |  0.05695  |  5.4 | 12.7 | -3.8 | -12.7 |\n",
      "| 900.0  |  0.04083  |  5.3 | 14.0 | -3.8 | -14.0 |\n",
      "| 950.0  |  0.02952  |  5.3 | 15.5 | -3.8 | -15.5 |\n",
      "| 1000.0  |  0.0215  |  5.3 | 17.2 | -3.8 | -17.2 |\n"
     ]
    },
    {
     "data": {
      "image/png": "[encoded data removed]",
      "text/plain": [
       "<Figure size 600x400 with 2 Axes>"
      ]
     },
     "metadata": {},
     "output_type": "display_data"
    },
    {
     "data": {
      "application/vnd.jupyter.widget-view+json": {
       "model_id": "f1674543edca4f739a7b97e9ac46de6a",
       "version_major": 2,
       "version_minor": 0
      },
      "text/plain": [
       "QUEUEING TASKS | Checking input:   0%|          | 0/2256 [00:00<?, ?it/s]"
      ]
     },
     "metadata": {},
     "output_type": "display_data"
    },
    {
     "data": {
      "application/vnd.jupyter.widget-view+json": {
       "model_id": "590b82c8be42481a8907c6e5f88d6d73",
       "version_major": 2,
       "version_minor": 0
      },
      "text/plain": [
       "PROCESSING TASKS | Checking input:   0%|          | 0/2256 [00:00<?, ?it/s]"
      ]
     },
     "metadata": {},
     "output_type": "display_data"
    },
    {
     "data": {
      "application/vnd.jupyter.widget-view+json": {
       "model_id": "cc12f4f69af3410ea9d1a628ae132bce",
       "version_major": 2,
       "version_minor": 0
      },
      "text/plain": [
       "COLLECTING RESULTS | Checking input:   0%|          | 0/2256 [00:00<?, ?it/s]"
      ]
     },
     "metadata": {},
     "output_type": "display_data"
    },
    {
     "data": {
      "application/vnd.jupyter.widget-view+json": {
       "model_id": "2f34c3bb571543d3a2da938b9167574e",
       "version_major": 2,
       "version_minor": 0
      },
      "text/plain": [
       "QUEUEING TASKS | Preparing:   0%|          | 0/2256 [00:00<?, ?it/s]"
      ]
     },
     "metadata": {},
     "output_type": "display_data"
    },
    {
     "data": {
      "application/vnd.jupyter.widget-view+json": {
       "model_id": "b53369bbbfc2411c807d62640c80576c",
       "version_major": 2,
       "version_minor": 0
      },
      "text/plain": [
       "PROCESSING TASKS | Preparing:   0%|          | 0/2256 [00:00<?, ?it/s]"
      ]
     },
     "metadata": {},
     "output_type": "display_data"
    },
    {
     "data": {
      "application/vnd.jupyter.widget-view+json": {
       "model_id": "2999d7ff3ce0431c8eea3599d6b8ae49",
       "version_major": 2,
       "version_minor": 0
      },
      "text/plain": [
       "COLLECTING RESULTS | Preparing:   0%|          | 0/2256 [00:00<?, ?it/s]"
      ]
     },
     "metadata": {},
     "output_type": "display_data"
    },
    {
     "name": "stdout",
     "output_type": "stream",
     "text": [
      "Skipped: 2256 Not skipped: 0\n"
     ]
    },
    {
     "data": {
      "application/vnd.jupyter.widget-view+json": {
       "model_id": "f4386673e7314286bc40567d34902cbb",
       "version_major": 2,
       "version_minor": 0
      },
      "text/plain": [
       "QUEUEING TASKS | Running: 0it [00:00, ?it/s]"
      ]
     },
     "metadata": {},
     "output_type": "display_data"
    },
    {
     "data": {
      "application/vnd.jupyter.widget-view+json": {
       "model_id": "f25b658fcd684c0e88871138e50c6da3",
       "version_major": 2,
       "version_minor": 0
      },
      "text/plain": [
       "PROCESSING TASKS | Running: 0it [00:00, ?it/s]"
      ]
     },
     "metadata": {},
     "output_type": "display_data"
    },
    {
     "data": {
      "application/vnd.jupyter.widget-view+json": {
       "model_id": "af17246d15d541b7bbb35cad1e9ebdea",
       "version_major": 2,
       "version_minor": 0
      },
      "text/plain": [
       "COLLECTING RESULTS | Running: 0it [00:00, ?it/s]"
      ]
     },
     "metadata": {},
     "output_type": "display_data"
    },
    {
     "data": {
      "application/vnd.jupyter.widget-view+json": {
       "model_id": "dd1de27b76334665bca0da82ce602e64",
       "version_major": 2,
       "version_minor": 0
      },
      "text/plain": [
       "QUEUEING TASKS | Parsing:   0%|          | 0/2256 [00:00<?, ?it/s]"
      ]
     },
     "metadata": {},
     "output_type": "display_data"
    },
    {
     "data": {
      "application/vnd.jupyter.widget-view+json": {
       "model_id": "546bc998fc4c44afa7201e1134959dd7",
       "version_major": 2,
       "version_minor": 0
      },
      "text/plain": [
       "PROCESSING TASKS | Parsing:   0%|          | 0/2256 [00:00<?, ?it/s]"
      ]
     },
     "metadata": {},
     "output_type": "display_data"
    },
    {
     "data": {
      "application/vnd.jupyter.widget-view+json": {
       "model_id": "bc87569c50f5482a8637ebc9944d15ec",
       "version_major": 2,
       "version_minor": 0
      },
      "text/plain": [
       "COLLECTING RESULTS | Parsing:   0%|          | 0/2256 [00:00<?, ?it/s]"
      ]
     },
     "metadata": {},
     "output_type": "display_data"
    },
    {
     "data": {
      "application/vnd.jupyter.widget-view+json": {
       "model_id": "a1f6decc46914482a122d9eb4d237717",
       "version_major": 2,
       "version_minor": 0
      },
      "text/plain": [
       "QUEUEING TASKS | PDF uncertainty @ LO:   0%|          | 0/48 [00:00<?, ?it/s]"
      ]
     },
     "metadata": {},
     "output_type": "display_data"
    },
    {
     "data": {
      "application/vnd.jupyter.widget-view+json": {
       "model_id": "7555273a11f34be39386f16bd5694004",
       "version_major": 2,
       "version_minor": 0
      },
      "text/plain": [
       "PROCESSING TASKS | PDF uncertainty @ LO:   0%|          | 0/48 [00:00<?, ?it/s]"
      ]
     },
     "metadata": {},
     "output_type": "display_data"
    },
    {
     "data": {
      "application/vnd.jupyter.widget-view+json": {
       "model_id": "9245084363b942d28020dc4c711fcc92",
       "version_major": 2,
       "version_minor": 0
      },
      "text/plain": [
       "COLLECTING RESULTS | PDF uncertainty @ LO:   0%|          | 0/48 [00:00<?, ?it/s]"
      ]
     },
     "metadata": {},
     "output_type": "display_data"
    },
    {
     "data": {
      "application/vnd.jupyter.widget-view+json": {
       "model_id": "0ee776d0e0434344a91d86c81e582114",
       "version_major": 2,
       "version_minor": 0
      },
      "text/plain": [
       "QUEUEING TASKS | PDF uncertainty @ NLO:   0%|          | 0/48 [00:00<?, ?it/s]"
      ]
     },
     "metadata": {},
     "output_type": "display_data"
    },
    {
     "data": {
      "application/vnd.jupyter.widget-view+json": {
       "model_id": "85e22dbb8fc0415f901a62836f536f89",
       "version_major": 2,
       "version_minor": 0
      },
      "text/plain": [
       "PROCESSING TASKS | PDF uncertainty @ NLO:   0%|          | 0/48 [00:00<?, ?it/s]"
      ]
     },
     "metadata": {},
     "output_type": "display_data"
    },
    {
     "data": {
      "application/vnd.jupyter.widget-view+json": {
       "model_id": "0988c55e63e74bb280c4c901a1b62879",
       "version_major": 2,
       "version_minor": 0
      },
      "text/plain": [
       "COLLECTING RESULTS | PDF uncertainty @ NLO:   0%|          | 0/48 [00:00<?, ?it/s]"
      ]
     },
     "metadata": {},
     "output_type": "display_data"
    },
    {
     "data": {
      "application/vnd.jupyter.widget-view+json": {
       "model_id": "7d7b4f3cf95c4164bb104d965bb6e974",
       "version_major": 2,
       "version_minor": 0
      },
      "text/plain": [
       "QUEUEING TASKS | PDF uncertainty @ aNNLO_PLUS_NNLL:   0%|          | 0/48 [00:00<?, ?it/s]"
      ]
     },
     "metadata": {},
     "output_type": "display_data"
    },
    {
     "data": {
      "application/vnd.jupyter.widget-view+json": {
       "model_id": "4ec77747adbc4c94bfddbe235f7e3142",
       "version_major": 2,
       "version_minor": 0
      },
      "text/plain": [
       "PROCESSING TASKS | PDF uncertainty @ aNNLO_PLUS_NNLL:   0%|          | 0/48 [00:00<?, ?it/s]"
      ]
     },
     "metadata": {},
     "output_type": "display_data"
    },
    {
     "data": {
      "application/vnd.jupyter.widget-view+json": {
       "model_id": "480f685c30204f7fbb3f3d937a65c85f",
       "version_major": 2,
       "version_minor": 0
      },
      "text/plain": [
       "COLLECTING RESULTS | PDF uncertainty @ aNNLO_PLUS_NNLL:   0%|          | 0/48 [00:00<?, ?it/s]"
      ]
     },
     "metadata": {},
     "output_type": "display_data"
    },
    {
     "data": {
      "application/vnd.jupyter.widget-view+json": {
       "model_id": "8157fefd705f47cbacd027df20c71600",
       "version_major": 2,
       "version_minor": 0
      },
      "text/plain": [
       "QUEUEING TASKS | Scale uncertainty @ LO:   0%|          | 0/48 [00:00<?, ?it/s]"
      ]
     },
     "metadata": {},
     "output_type": "display_data"
    },
    {
     "data": {
      "application/vnd.jupyter.widget-view+json": {
       "model_id": "b759291792a3494fac9c157f87c59ed4",
       "version_major": 2,
       "version_minor": 0
      },
      "text/plain": [
       "PROCESSING TASKS | Scale uncertainty @ LO:   0%|          | 0/48 [00:00<?, ?it/s]"
      ]
     },
     "metadata": {},
     "output_type": "display_data"
    },
    {
     "data": {
      "application/vnd.jupyter.widget-view+json": {
       "model_id": "91e5dd27dd7e4d49a1d9f11c8bf2f52c",
       "version_major": 2,
       "version_minor": 0
      },
      "text/plain": [
       "COLLECTING RESULTS | Scale uncertainty @ LO:   0%|          | 0/48 [00:00<?, ?it/s]"
      ]
     },
     "metadata": {},
     "output_type": "display_data"
    },
    {
     "data": {
      "application/vnd.jupyter.widget-view+json": {
       "model_id": "20f61020e8b24c908048322f85caefe4",
       "version_major": 2,
       "version_minor": 0
      },
      "text/plain": [
       "QUEUEING TASKS | Scale uncertainty @ NLO:   0%|          | 0/48 [00:00<?, ?it/s]"
      ]
     },
     "metadata": {},
     "output_type": "display_data"
    },
    {
     "data": {
      "application/vnd.jupyter.widget-view+json": {
       "model_id": "de1026c3c57c44c2985c7818ab0e6bd3",
       "version_major": 2,
       "version_minor": 0
      },
      "text/plain": [
       "PROCESSING TASKS | Scale uncertainty @ NLO:   0%|          | 0/48 [00:00<?, ?it/s]"
      ]
     },
     "metadata": {},
     "output_type": "display_data"
    },
    {
     "data": {
      "application/vnd.jupyter.widget-view+json": {
       "model_id": "021f3a6020334677a5d3cc7dcc1970da",
       "version_major": 2,
       "version_minor": 0
      },
      "text/plain": [
       "COLLECTING RESULTS | Scale uncertainty @ NLO:   0%|          | 0/48 [00:00<?, ?it/s]"
      ]
     },
     "metadata": {},
     "output_type": "display_data"
    },
    {
     "data": {
      "application/vnd.jupyter.widget-view+json": {
       "model_id": "2c4f639b8e254d689066f4f34622e569",
       "version_major": 2,
       "version_minor": 0
      },
      "text/plain": [
       "QUEUEING TASKS | Scale uncertainty @ aNNLO_PLUS_NNLL:   0%|          | 0/48 [00:00<?, ?it/s]"
      ]
     },
     "metadata": {},
     "output_type": "display_data"
    },
    {
     "data": {
      "application/vnd.jupyter.widget-view+json": {
       "model_id": "b6bc9e1ac4e94c8ca90c341e4cd8e147",
       "version_major": 2,
       "version_minor": 0
      },
      "text/plain": [
       "PROCESSING TASKS | Scale uncertainty @ aNNLO_PLUS_NNLL:   0%|          | 0/48 [00:00<?, ?it/s]"
      ]
     },
     "metadata": {},
     "output_type": "display_data"
    },
    {
     "data": {
      "application/vnd.jupyter.widget-view+json": {
       "model_id": "2385852e1a984e0481ea2450ee0a4ddc",
       "version_major": 2,
       "version_minor": 0
      },
      "text/plain": [
       "COLLECTING RESULTS | Scale uncertainty @ aNNLO_PLUS_NNLL:   0%|          | 0/48 [00:00<?, ?it/s]"
      ]
     },
     "metadata": {},
     "output_type": "display_data"
    },
    {
     "name": "stdout",
     "output_type": "stream",
     "text": [
      "13000_sneutrinos_1000015_-1000016\n",
      "| 50.0  |  4592  |  7.4 | 2.5 | -7.0 | -2.5 |\n",
      "| 60.0  |  1931  |  7.1 | 2.6 | -5.5 | -2.6 |\n",
      "| 70.0  |  1012  |  6.8 | 2.7 | -5.3 | -2.7 |\n",
      "| 80.0  |  595.6  |  6.5 | 2.9 | -5.1 | -2.9 |\n",
      "| 90.0  |  377.3  |  6.3 | 3.0 | -5.0 | -3.0 |\n",
      "| 100.0  |  252  |  6.2 | 3.1 | -4.8 | -3.1 |\n",
      "| 110.0  |  175.2  |  6.0 | 3.2 | -4.7 | -3.2 |\n",
      "| 120.0  |  125.8  |  5.9 | 3.3 | -4.6 | -3.3 |\n",
      "| 130.0  |  92.63  |  5.7 | 3.4 | -4.5 | -3.4 |\n",
      "| 140.0  |  69.69  |  5.6 | 3.6 | -4.5 | -3.6 |\n",
      "| 150.0  |  53.41  |  5.5 | 3.7 | -4.4 | -3.7 |\n",
      "| 160.0  |  41.57  |  5.4 | 3.8 | -4.3 | -3.8 |\n",
      "| 170.0  |  32.8  |  5.3 | 4.0 | -4.3 | -4.0 |\n",
      "| 180.0  |  26.18  |  5.3 | 4.1 | -4.2 | -4.1 |\n",
      "| 190.0  |  21.13  |  5.2 | 4.2 | -4.1 | -4.2 |\n",
      "| 200.0  |  17.21  |  5.3 | 4.3 | -4.1 | -4.3 |\n",
      "| 210.0  |  14.15  |  5.3 | 4.5 | -4.0 | -4.5 |\n",
      "| 220.0  |  11.71  |  5.4 | 4.6 | -4.0 | -4.6 |\n",
      "| 230.0  |  9.765  |  5.4 | 4.8 | -3.9 | -4.8 |\n",
      "| 240.0  |  8.195  |  5.4 | 4.9 | -3.9 | -4.9 |\n",
      "| 250.0  |  6.916  |  5.4 | 5.0 | -3.9 | -5.0 |\n",
      "| 260.0  |  5.869  |  5.5 | 5.2 | -3.8 | -5.2 |\n",
      "| 270.0  |  5.006  |  5.4 | 5.3 | -3.8 | -5.3 |\n",
      "| 280.0  |  4.288  |  5.5 | 5.4 | -3.8 | -5.4 |\n",
      "| 290.0  |  3.689  |  5.5 | 5.6 | -3.7 | -5.6 |\n",
      "| 300.0  |  3.187  |  5.5 | 5.8 | -3.7 | -5.8 |\n",
      "| 310.0  |  2.764  |  5.5 | 5.9 | -3.7 | -5.9 |\n",
      "| 320.0  |  2.404  |  5.5 | 6.1 | -3.7 | -6.1 |\n",
      "| 330.0  |  2.099  |  5.5 | 6.2 | -3.6 | -6.2 |\n",
      "| 340.0  |  1.837  |  5.5 | 6.4 | -3.6 | -6.4 |\n",
      "| 350.0  |  1.613  |  5.5 | 6.5 | -3.6 | -6.5 |\n",
      "| 360.0  |  1.421  |  5.5 | 6.7 | -3.6 | -6.7 |\n",
      "| 370.0  |  1.254  |  5.5 | 6.8 | -3.6 | -6.8 |\n",
      "| 380.0  |  1.11  |  5.4 | 7.0 | -3.7 | -7.0 |\n",
      "| 390.0  |  0.9844  |  5.4 | 7.2 | -3.7 | -7.2 |\n",
      "| 400.0  |  0.8751  |  5.4 | 7.4 | -3.7 | -7.4 |\n",
      "| 450.0  |  0.5  |  5.4 | 8.2 | -3.7 | -8.2 |\n",
      "| 500.0  |  0.2978  |  5.4 | 9.2 | -3.7 | -9.2 |\n",
      "| 550.0  |  0.1834  |  5.4 | 10.3 | -3.7 | -10.3 |\n",
      "| 600.0  |  0.1161  |  5.4 | 11.5 | -3.7 | -11.5 |\n",
      "| 650.0  |  0.0752  |  5.4 | 12.8 | -3.7 | -12.8 |\n",
      "| 700.0  |  0.0497  |  5.3 | 14.4 | -3.7 | -14.4 |\n",
      "| 750.0  |  0.03341  |  5.3 | 16.2 | -3.7 | -16.2 |\n",
      "| 800.0  |  0.0228  |  5.3 | 18.3 | -3.6 | -18.3 |\n",
      "| 850.0  |  0.01577  |  5.3 | 20.5 | -3.6 | -20.5 |\n",
      "| 900.0  |  0.01103  |  5.2 | 23.1 | -3.6 | -23.1 |\n",
      "| 950.0  |  0.007797  |  5.2 | 26.0 | -3.5 | -26.0 |\n",
      "| 1000.0  |  0.005565  |  5.2 | 29.2 | -3.5 | -29.2 |\n"
     ]
    },
    {
     "data": {
      "application/vnd.jupyter.widget-view+json": {
       "model_id": "61cf764c4e4848ad898ac35e2b375fb3",
       "version_major": 2,
       "version_minor": 0
      },
      "text/plain": [
       "QUEUEING TASKS | Checking input:   0%|          | 0/2256 [00:00<?, ?it/s]"
      ]
     },
     "metadata": {},
     "output_type": "display_data"
    },
    {
     "data": {
      "application/vnd.jupyter.widget-view+json": {
       "model_id": "d9adc401541846a5815b76dbedaffa24",
       "version_major": 2,
       "version_minor": 0
      },
      "text/plain": [
       "PROCESSING TASKS | Checking input:   0%|          | 0/2256 [00:00<?, ?it/s]"
      ]
     },
     "metadata": {},
     "output_type": "display_data"
    },
    {
     "data": {
      "application/vnd.jupyter.widget-view+json": {
       "model_id": "24ffe22c9ae241a887250adbc5758586",
       "version_major": 2,
       "version_minor": 0
      },
      "text/plain": [
       "COLLECTING RESULTS | Checking input:   0%|          | 0/2256 [00:00<?, ?it/s]"
      ]
     },
     "metadata": {},
     "output_type": "display_data"
    },
    {
     "data": {
      "application/vnd.jupyter.widget-view+json": {
       "model_id": "c4167ca858a849339c91d7b510e20e75",
       "version_major": 2,
       "version_minor": 0
      },
      "text/plain": [
       "QUEUEING TASKS | Preparing:   0%|          | 0/2256 [00:00<?, ?it/s]"
      ]
     },
     "metadata": {},
     "output_type": "display_data"
    },
    {
     "data": {
      "application/vnd.jupyter.widget-view+json": {
       "model_id": "7752dfec2e0440d38b340fa3e8bde768",
       "version_major": 2,
       "version_minor": 0
      },
      "text/plain": [
       "PROCESSING TASKS | Preparing:   0%|          | 0/2256 [00:00<?, ?it/s]"
      ]
     },
     "metadata": {},
     "output_type": "display_data"
    },
    {
     "data": {
      "application/vnd.jupyter.widget-view+json": {
       "model_id": "4cfd2e0fb348429ab8a86d15b4c8f977",
       "version_major": 2,
       "version_minor": 0
      },
      "text/plain": [
       "COLLECTING RESULTS | Preparing:   0%|          | 0/2256 [00:00<?, ?it/s]"
      ]
     },
     "metadata": {},
     "output_type": "display_data"
    },
    {
     "name": "stdout",
     "output_type": "stream",
     "text": [
      "Skipped: 2256 Not skipped: 0\n"
     ]
    },
    {
     "data": {
      "application/vnd.jupyter.widget-view+json": {
       "model_id": "9854d577e34145a0a05b6e17afb55059",
       "version_major": 2,
       "version_minor": 0
      },
      "text/plain": [
       "QUEUEING TASKS | Running: 0it [00:00, ?it/s]"
      ]
     },
     "metadata": {},
     "output_type": "display_data"
    },
    {
     "data": {
      "application/vnd.jupyter.widget-view+json": {
       "model_id": "e913f7d4a125468ab4a41484c6ee0c45",
       "version_major": 2,
       "version_minor": 0
      },
      "text/plain": [
       "PROCESSING TASKS | Running: 0it [00:00, ?it/s]"
      ]
     },
     "metadata": {},
     "output_type": "display_data"
    },
    {
     "data": {
      "application/vnd.jupyter.widget-view+json": {
       "model_id": "e4823cef3f4045c98ba5e78c039ecf70",
       "version_major": 2,
       "version_minor": 0
      },
      "text/plain": [
       "COLLECTING RESULTS | Running: 0it [00:00, ?it/s]"
      ]
     },
     "metadata": {},
     "output_type": "display_data"
    },
    {
     "data": {
      "application/vnd.jupyter.widget-view+json": {
       "model_id": "6622d89e98e64c11bacab6c55d98cacd",
       "version_major": 2,
       "version_minor": 0
      },
      "text/plain": [
       "QUEUEING TASKS | Parsing:   0%|          | 0/2256 [00:00<?, ?it/s]"
      ]
     },
     "metadata": {},
     "output_type": "display_data"
    },
    {
     "data": {
      "application/vnd.jupyter.widget-view+json": {
       "model_id": "ac7a30622e62401bbf2177267604a654",
       "version_major": 2,
       "version_minor": 0
      },
      "text/plain": [
       "PROCESSING TASKS | Parsing:   0%|          | 0/2256 [00:00<?, ?it/s]"
      ]
     },
     "metadata": {},
     "output_type": "display_data"
    },
    {
     "data": {
      "application/vnd.jupyter.widget-view+json": {
       "model_id": "480ae582e7ac411dac6864c374e8a28d",
       "version_major": 2,
       "version_minor": 0
      },
      "text/plain": [
       "COLLECTING RESULTS | Parsing:   0%|          | 0/2256 [00:00<?, ?it/s]"
      ]
     },
     "metadata": {},
     "output_type": "display_data"
    },
    {
     "data": {
      "application/vnd.jupyter.widget-view+json": {
       "model_id": "ee3f1679904f4ee1aedc6e782f0bc6c7",
       "version_major": 2,
       "version_minor": 0
      },
      "text/plain": [
       "QUEUEING TASKS | PDF uncertainty @ LO:   0%|          | 0/48 [00:00<?, ?it/s]"
      ]
     },
     "metadata": {},
     "output_type": "display_data"
    },
    {
     "data": {
      "application/vnd.jupyter.widget-view+json": {
       "model_id": "e289726ad79f45da8b6fbd53d22561b0",
       "version_major": 2,
       "version_minor": 0
      },
      "text/plain": [
       "PROCESSING TASKS | PDF uncertainty @ LO:   0%|          | 0/48 [00:00<?, ?it/s]"
      ]
     },
     "metadata": {},
     "output_type": "display_data"
    },
    {
     "data": {
      "application/vnd.jupyter.widget-view+json": {
       "model_id": "9eb0dce2aac041c4ab0a17bc20ca5af6",
       "version_major": 2,
       "version_minor": 0
      },
      "text/plain": [
       "COLLECTING RESULTS | PDF uncertainty @ LO:   0%|          | 0/48 [00:00<?, ?it/s]"
      ]
     },
     "metadata": {},
     "output_type": "display_data"
    },
    {
     "data": {
      "application/vnd.jupyter.widget-view+json": {
       "model_id": "dd503ea84b47485e845fdb12f6ae2f51",
       "version_major": 2,
       "version_minor": 0
      },
      "text/plain": [
       "QUEUEING TASKS | PDF uncertainty @ NLO:   0%|          | 0/48 [00:00<?, ?it/s]"
      ]
     },
     "metadata": {},
     "output_type": "display_data"
    },
    {
     "data": {
      "application/vnd.jupyter.widget-view+json": {
       "model_id": "dfb6133b59bc47098869455159011c9c",
       "version_major": 2,
       "version_minor": 0
      },
      "text/plain": [
       "PROCESSING TASKS | PDF uncertainty @ NLO:   0%|          | 0/48 [00:00<?, ?it/s]"
      ]
     },
     "metadata": {},
     "output_type": "display_data"
    },
    {
     "data": {
      "application/vnd.jupyter.widget-view+json": {
       "model_id": "81edbe5b82144b18817650096fa8cc99",
       "version_major": 2,
       "version_minor": 0
      },
      "text/plain": [
       "COLLECTING RESULTS | PDF uncertainty @ NLO:   0%|          | 0/48 [00:00<?, ?it/s]"
      ]
     },
     "metadata": {},
     "output_type": "display_data"
    },
    {
     "data": {
      "application/vnd.jupyter.widget-view+json": {
       "model_id": "7f9db61421424876b3ea2745077a32a8",
       "version_major": 2,
       "version_minor": 0
      },
      "text/plain": [
       "QUEUEING TASKS | PDF uncertainty @ aNNLO_PLUS_NNLL:   0%|          | 0/48 [00:00<?, ?it/s]"
      ]
     },
     "metadata": {},
     "output_type": "display_data"
    },
    {
     "data": {
      "application/vnd.jupyter.widget-view+json": {
       "model_id": "25d638a3eeca4088ae31bb79aa564659",
       "version_major": 2,
       "version_minor": 0
      },
      "text/plain": [
       "PROCESSING TASKS | PDF uncertainty @ aNNLO_PLUS_NNLL:   0%|          | 0/48 [00:00<?, ?it/s]"
      ]
     },
     "metadata": {},
     "output_type": "display_data"
    },
    {
     "data": {
      "application/vnd.jupyter.widget-view+json": {
       "model_id": "3fab76be0cf046f194531038af237851",
       "version_major": 2,
       "version_minor": 0
      },
      "text/plain": [
       "COLLECTING RESULTS | PDF uncertainty @ aNNLO_PLUS_NNLL:   0%|          | 0/48 [00:00<?, ?it/s]"
      ]
     },
     "metadata": {},
     "output_type": "display_data"
    },
    {
     "data": {
      "application/vnd.jupyter.widget-view+json": {
       "model_id": "10944b8dccba44738886b7102966731b",
       "version_major": 2,
       "version_minor": 0
      },
      "text/plain": [
       "QUEUEING TASKS | Scale uncertainty @ LO:   0%|          | 0/48 [00:00<?, ?it/s]"
      ]
     },
     "metadata": {},
     "output_type": "display_data"
    },
    {
     "data": {
      "application/vnd.jupyter.widget-view+json": {
       "model_id": "12cd2262ba6c463e9f869a121af6796a",
       "version_major": 2,
       "version_minor": 0
      },
      "text/plain": [
       "PROCESSING TASKS | Scale uncertainty @ LO:   0%|          | 0/48 [00:00<?, ?it/s]"
      ]
     },
     "metadata": {},
     "output_type": "display_data"
    },
    {
     "data": {
      "application/vnd.jupyter.widget-view+json": {
       "model_id": "1a3bd32707124e888397c3e0ba846631",
       "version_major": 2,
       "version_minor": 0
      },
      "text/plain": [
       "COLLECTING RESULTS | Scale uncertainty @ LO:   0%|          | 0/48 [00:00<?, ?it/s]"
      ]
     },
     "metadata": {},
     "output_type": "display_data"
    },
    {
     "data": {
      "application/vnd.jupyter.widget-view+json": {
       "model_id": "f5710e66b67548289a3f2169e6ee2786",
       "version_major": 2,
       "version_minor": 0
      },
      "text/plain": [
       "QUEUEING TASKS | Scale uncertainty @ NLO:   0%|          | 0/48 [00:00<?, ?it/s]"
      ]
     },
     "metadata": {},
     "output_type": "display_data"
    },
    {
     "data": {
      "application/vnd.jupyter.widget-view+json": {
       "model_id": "5344b159b57441f2a05211b0bf459715",
       "version_major": 2,
       "version_minor": 0
      },
      "text/plain": [
       "PROCESSING TASKS | Scale uncertainty @ NLO:   0%|          | 0/48 [00:00<?, ?it/s]"
      ]
     },
     "metadata": {},
     "output_type": "display_data"
    },
    {
     "data": {
      "application/vnd.jupyter.widget-view+json": {
       "model_id": "26e56b3b971a46e0b3cea7a41d59d379",
       "version_major": 2,
       "version_minor": 0
      },
      "text/plain": [
       "COLLECTING RESULTS | Scale uncertainty @ NLO:   0%|          | 0/48 [00:00<?, ?it/s]"
      ]
     },
     "metadata": {},
     "output_type": "display_data"
    },
    {
     "data": {
      "application/vnd.jupyter.widget-view+json": {
       "model_id": "0827b5ec305e447aa19a74fec6b475f4",
       "version_major": 2,
       "version_minor": 0
      },
      "text/plain": [
       "QUEUEING TASKS | Scale uncertainty @ aNNLO_PLUS_NNLL:   0%|          | 0/48 [00:00<?, ?it/s]"
      ]
     },
     "metadata": {},
     "output_type": "display_data"
    },
    {
     "data": {
      "application/vnd.jupyter.widget-view+json": {
       "model_id": "cb13dc862b7247c9b3f3e10135ac7dc0",
       "version_major": 2,
       "version_minor": 0
      },
      "text/plain": [
       "PROCESSING TASKS | Scale uncertainty @ aNNLO_PLUS_NNLL:   0%|          | 0/48 [00:00<?, ?it/s]"
      ]
     },
     "metadata": {},
     "output_type": "display_data"
    },
    {
     "data": {
      "application/vnd.jupyter.widget-view+json": {
       "model_id": "8fae7a9b60d24626adc50d519207cc77",
       "version_major": 2,
       "version_minor": 0
      },
      "text/plain": [
       "COLLECTING RESULTS | Scale uncertainty @ aNNLO_PLUS_NNLL:   0%|          | 0/48 [00:00<?, ?it/s]"
      ]
     },
     "metadata": {},
     "output_type": "display_data"
    },
    {
     "name": "stdout",
     "output_type": "stream",
     "text": [
      "13600_sneutrinos_1000015_-1000016\n",
      "| 50.0  |  4848  |  7.4 | 2.5 | -7.2 | -2.5 |\n",
      "| 60.0  |  2045  |  7.1 | 2.6 | -5.7 | -2.6 |\n",
      "| 70.0  |  1075  |  6.8 | 2.7 | -5.3 | -2.7 |\n",
      "| 80.0  |  633.6  |  6.6 | 2.8 | -5.1 | -2.8 |\n",
      "| 90.0  |  402.2  |  6.4 | 2.9 | -5.0 | -2.9 |\n",
      "| 100.0  |  269.2  |  6.2 | 3.0 | -4.8 | -3.0 |\n",
      "| 110.0  |  187.5  |  6.0 | 3.2 | -4.7 | -3.2 |\n",
      "| 120.0  |  134.8  |  5.9 | 3.2 | -4.6 | -3.2 |\n",
      "| 130.0  |  99.46  |  5.7 | 3.4 | -4.5 | -3.4 |\n",
      "| 140.0  |  74.96  |  5.6 | 3.5 | -4.5 | -3.5 |\n",
      "| 150.0  |  57.54  |  5.5 | 3.6 | -4.4 | -3.6 |\n",
      "| 160.0  |  44.86  |  5.4 | 3.7 | -4.3 | -3.7 |\n",
      "| 170.0  |  35.45  |  5.3 | 3.9 | -4.3 | -3.9 |\n",
      "| 180.0  |  28.35  |  5.3 | 4.0 | -4.2 | -4.0 |\n",
      "| 190.0  |  22.91  |  5.2 | 4.1 | -4.2 | -4.1 |\n",
      "| 200.0  |  18.69  |  5.2 | 4.2 | -4.1 | -4.2 |\n",
      "| 210.0  |  15.38  |  5.2 | 4.4 | -4.0 | -4.4 |\n",
      "| 220.0  |  12.75  |  5.3 | 4.5 | -4.0 | -4.5 |\n",
      "| 230.0  |  10.65  |  5.3 | 4.6 | -4.0 | -4.6 |\n",
      "| 240.0  |  8.951  |  5.3 | 4.7 | -3.9 | -4.7 |\n",
      "| 250.0  |  7.566  |  5.4 | 4.9 | -3.9 | -4.9 |\n",
      "| 260.0  |  6.43  |  5.4 | 5.0 | -3.8 | -5.0 |\n",
      "| 270.0  |  5.492  |  5.4 | 5.2 | -3.8 | -5.2 |\n",
      "| 280.0  |  4.712  |  5.4 | 5.3 | -3.8 | -5.3 |\n",
      "| 290.0  |  4.061  |  5.4 | 5.4 | -3.7 | -5.4 |\n",
      "| 300.0  |  3.513  |  5.4 | 5.6 | -3.7 | -5.6 |\n",
      "| 310.0  |  3.05  |  5.4 | 5.7 | -3.7 | -5.7 |\n",
      "| 320.0  |  2.658  |  5.4 | 5.9 | -3.7 | -5.9 |\n",
      "| 330.0  |  2.323  |  5.4 | 6.0 | -3.6 | -6.0 |\n",
      "| 340.0  |  2.037  |  5.4 | 6.1 | -3.6 | -6.1 |\n",
      "| 350.0  |  1.791  |  5.4 | 6.2 | -3.6 | -6.2 |\n",
      "| 360.0  |  1.579  |  5.4 | 6.4 | -3.6 | -6.4 |\n",
      "| 370.0  |  1.396  |  5.4 | 6.6 | -3.6 | -6.6 |\n",
      "| 380.0  |  1.237  |  5.4 | 6.7 | -3.6 | -6.7 |\n",
      "| 390.0  |  1.099  |  5.4 | 6.9 | -3.6 | -6.9 |\n",
      "| 400.0  |  0.9785  |  5.4 | 7.1 | -3.6 | -7.1 |\n",
      "| 450.0  |  0.5632  |  5.4 | 7.9 | -3.7 | -7.9 |\n",
      "| 500.0  |  0.3378  |  5.4 | 8.7 | -3.7 | -8.7 |\n",
      "| 550.0  |  0.2095  |  5.3 | 9.7 | -3.7 | -9.7 |\n",
      "| 600.0  |  0.1336  |  5.3 | 10.8 | -3.7 | -10.8 |\n",
      "| 650.0  |  0.08718  |  5.3 | 12.1 | -3.7 | -12.1 |\n",
      "| 700.0  |  0.05804  |  5.3 | 13.5 | -3.7 | -13.5 |\n",
      "| 750.0  |  0.0393  |  5.3 | 15.1 | -3.7 | -15.1 |\n",
      "| 800.0  |  0.02701  |  5.2 | 16.8 | -3.6 | -16.8 |\n",
      "| 850.0  |  0.01881  |  5.2 | 18.8 | -3.6 | -18.8 |\n",
      "| 900.0  |  0.01325  |  5.2 | 21.1 | -3.6 | -21.1 |\n",
      "| 950.0  |  0.009435  |  5.2 | 23.6 | -3.5 | -23.6 |\n",
      "| 1000.0  |  0.006782  |  5.1 | 26.4 | -3.5 | -26.4 |\n"
     ]
    },
    {
     "data": {
      "image/png": "[encoded data removed]",
      "text/plain": [
       "<Figure size 600x400 with 2 Axes>"
      ]
     },
     "metadata": {},
     "output_type": "display_data"
    }
   ],
   "source": [
    "params = [\n",
    "    \"sneutrino.slha\",\n",
    "]\n",
    "pss = [\n",
    "    (-1000011, +1000012),  # se_L_snu_L\n",
    "    ( 1000011, -1000012),  # ~se_L_~snu_L\n",
    "    (-1000012, +1000012),  # sneu_L\n",
    "    (-1000015, +1000016),  # stau_1_snutau_L\n",
    "    ( 1000015, -1000016),  # ~stau_1_~snutau_L\n",
    "]\n",
    "for pa, pb in pss:\n",
    "    for energy in [13000, 13600]:\n",
    "        name = str(energy) + \"_sneutrinos_\" + str(pa) + \"_\" + str(pb)\n",
    "        hepi.set_output_dir(\"output_\" + name +\"/\")\n",
    "        rs.default_resummino_runner.set_output_dir(hepi.get_output_dir())\n",
    "        for param in params:\n",
    "            i = hepi.Input(\n",
    "                hepi.Order.LO if test_lo else hepi.Order.aNNLO_PLUS_NNLL,\n",
    "                energy,\n",
    "                pa,\n",
    "                pb,\n",
    "                param,\n",
    "                \"PDF4LHC21_40\",\n",
    "                \"PDF4LHC21_40\",\n",
    "                1.0,\n",
    "                1.0,\n",
    "                id=\"0.0.0\",\n",
    "                precision=0.001,\n",
    "                max_iters=50,\n",
    "            )\n",
    "            li = [i]\n",
    "            li = hepi.masses_scan(\n",
    "                li,\n",
    "                [\n",
    "                    pa,\n",
    "                    pb\n",
    "                ],\n",
    "                 list(range(50,400,10)) + list(range(400,1010,50)) ,\n",
    "            )\n",
    "            ms = f\"mass_{pa}_{pb}\"\n",
    "            if test_lo:\n",
    "                rs_dl = rs.run(li, skip=True, run=True, parse=True)\n",
    "                hepi.title(li[0],cms_energy=True,pdf_info=False,scenario=\"\")\n",
    "                hepi.mass_plot(rs_dl,\"LO\",pb,show=True,interpolator='exp')\n",
    "            else:\n",
    "                li = hepi.seven_point_scan(li)\n",
    "                li = hepi.pdf_scan(li)\n",
    "                #return\n",
    "                # li = hepi.change_where(li, {\"precision\": 0.0001, \"max_iters\": 200}, pdfset_nlo=0)\n",
    "                if generate:\n",
    "                    rs_dl = rs.run(li, skip=False, run=False, parse=False)\n",
    "                else:\n",
    "                    if analyse:\n",
    "                        rs_dl = rs.run(li, skip=True, run=True, parse=True,ignore_error=True)\n",
    "                        rs_dl = hepi.pdf_errors(li,rs_dl)\n",
    "                        rs_dl = hepi.scale_errors(li,rs_dl)\n",
    "                        rs_dl = hepi.combine_errors(rs_dl)\n",
    "                        hepi.write_json(rs_dl[rs_dl[\"aNNLO_PLUS_NNLL_COMBINED\"].notnull()],hepi.Order.aNNLO_PLUS_NNLL,[ms],name + \"_NNLL.json\",error_sym=False)\n",
    "                        hepi.write_latex_table_transposed_header(rs_dl,\"aNNLO_PLUS_NNLL\",param+str(energy)+\".tex\",ms)\n",
    "                        hepi.write_latex_table_transposed(rs_dl,\"aNNLO_PLUS_NNLL\",param+str(energy)+\".tex\",yscale=1000.)\n",
    "                    if plot:\n",
    "                        rs_dl = hepi.load_json(open(name + \"_NNLL.json\"),1)\n",
    "                        print(name)\n",
    "                        hepi.write_twiki(rs_dl,ms,\"aNNLO_PLUS_NNLL\",yscale=1000)\n",
    "                        if energy == 13000:\n",
    "                            fig, axs = plt.subplots(2, 1, figsize=(6,4), sharex=True, gridspec_kw={'height_ratios': [2, 1]})         # Remove horizontal space between axes         \n",
    "                            fig.subplots_adjust(hspace=0.1)\n",
    "                            hepi.title(li[0],axe=axs[0],cms_energy=False,pdf_info=False,scenario=\"\")\n",
    "                            frac = rs_dl[\"aNNLO_PLUS_NNLL_NOERR\"][rs_dl[\"aNNLO_PLUS_NNLL_COMBINED\"].notnull()]\n",
    "                        #hepi.combined_plot(rs_dl,ms,\"aNNLO_PLUS_NNLL\",yscale=1000,axes=axs[0],tight=False,show=False,plot_data=False,logy=True,interpolate=True,interpolator='cubic',pre=lambda a :np.log(a.clip(min=1e-22)),post=np.exp,init=False,label=\"13.0 TeV\" if energy == 13000 else \"13.6 TeV\" )\n",
    "                        #hepi.combined_plot(rs_dl,ms,\"aNNLO_PLUS_NNLL\",xaxis=\"$m_{\" + hepi.particles.get_name(pb) + \"}$ [GeV]\",yscale=1./frac,axes=axs[1],tight=False,show=False,plot_data=False,logy=False,interpolate=True,interpolator='cubic',pre=lambda a :np.log(a.clip(min=1e-22)),post=np.exp,init=False,label=\"\" )\n",
    "                        #axs[0].set_ylim(1e-3,5e4)\n",
    "                        #axs[1].set_ylim(0.75,1.5)\n",
    "                        #axs[0].set_xlabel(None)\n",
    "                        #axs[1].set_xlabel('$m_{\\\\tilde{l}}$ [GeV]')\n",
    "                        #axs[1].set_ylabel('$\\\\sigma/\\\\sigma$(13.0 TeV)')\n",
    "                        #axs[0].set_ylabel('$\\\\sigma$ [fb]')\n",
    "                        if energy == 13600:\n",
    "                            plt.savefig(name + \".pdf\",bbox_inches ='tight',pad_inches=0)\n",
    "                            plt.show()\n",
    "                    "
   ]
  },
  {
   "cell_type": "code",
   "execution_count": null,
   "id": "513497a5",
   "metadata": {},
   "outputs": [],
   "source": []
  }
 ],
 "metadata": {
  "kernelspec": {
   "display_name": "Python 3 (ipykernel)",
   "language": "python",
   "name": "python3"
  },
  "language_info": {
   "codemirror_mode": {
    "name": "ipython",
    "version": 3
   },
   "file_extension": ".py",
   "mimetype": "text/x-python",
   "name": "python",
   "nbconvert_exporter": "python",
   "pygments_lexer": "ipython3",
   "version": "3.13.3"
  }
 },
 "nbformat": 4,
 "nbformat_minor": 5
}
