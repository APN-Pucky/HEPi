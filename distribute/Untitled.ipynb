{
 "cells": [
  {
   "cell_type": "code",
   "execution_count": 1,
   "id": "1bb8cc20",
   "metadata": {},
   "outputs": [],
   "source": [
    "import lhapdf"
   ]
  },
  {
   "cell_type": "code",
   "execution_count": null,
   "id": "e4a7526b",
   "metadata": {},
   "outputs": [],
   "source": [
    "lhapdf.getPDFSet(\"PDF4LHC21_40_pdfas_nf4\")"
   ]
  },
  {
   "cell_type": "code",
   "execution_count": null,
   "id": "15b72a13",
   "metadata": {},
   "outputs": [],
   "source": []
  }
 ],
 "metadata": {
  "kernelspec": {
   "display_name": "Python 3 (ipykernel)",
   "language": "python",
   "name": "python3"
  },
  "language_info": {
   "codemirror_mode": {
    "name": "ipython",
    "version": 3
   },
   "file_extension": ".py",
   "mimetype": "text/x-python",
   "name": "python",
   "nbconvert_exporter": "python",
   "pygments_lexer": "ipython3",
   "version": "3.11.7"
  }
 },
 "nbformat": 4,
 "nbformat_minor": 5
}
