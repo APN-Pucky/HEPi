{
 "cells": [
  {
   "cell_type": "code",
   "execution_count": 3,
   "id": "6c1a697f",
   "metadata": {},
   "outputs": [
    {
     "name": "stdout",
     "output_type": "stream",
     "text": [
      "0.1.4.18+dirty\n",
      "~/git/resummino/\n"
     ]
    }
   ],
   "source": [
    "import hepi\n",
    "print(hepi.__version__)\n",
    "import smpl\n",
    "import numpy as np\n",
    "import hepi.resummino as rs\n",
    "import hepi.util as util\n",
    "import matplotlib.pyplot as plt\n",
    "rs.set_path(\"~/git/resummino\")\n",
    "print (rs.get_path())"
   ]
  },
  {
   "cell_type": "code",
   "execution_count": 4,
   "id": "96faad7d",
   "metadata": {
    "scrolled": true
   },
   "outputs": [],
   "source": [
    "params = [\n",
    "    \"mastercode_with_gm2.in\",\n",
    "    #\"mastercode_no_gm2_mod.in\",\n",
    "]\n",
    "pss = [\n",
    "      (1000022,1000022),\n",
    "     ]"
   ]
  },
  {
   "cell_type": "markdown",
   "id": "234755a8",
   "metadata": {},
   "source": [
    "# Mass"
   ]
  },
  {
   "cell_type": "code",
   "execution_count": 9,
   "id": "e423f880",
   "metadata": {
    "scrolled": false
   },
   "outputs": [
    {
     "name": "stdout",
     "output_type": "stream",
     "text": [
      "Running: 8 jobs\n"
     ]
    }
   ],
   "source": [
    "for pa,pb in pss:\n",
    "    for param in params:\n",
    "        i = hepi.Input(hepi.Order.NLO_PLUS_NLL,13000,pa,pb,param,\"cteq6l1\",\"cteq66\",1., 1.,id=\"5\")\n",
    "        #i = hepi.Input(hepi.Order.NLO,13000,pa,pb,param,\"CT14lo\",\"CT14lo\",1., 1.,model_path=model_path,id=\"5\")\n",
    "        li = [i]\n",
    "        li = hepi.mass_scan([i],pa, np.linspace(1000,4000,8))\n",
    "        rs_dl = rs.run(li,noskip=False,run=False,parse=False)\n",
    "\n"
   ]
  },
  {
   "cell_type": "code",
   "execution_count": null,
   "id": "484741b8",
   "metadata": {},
   "outputs": [],
   "source": []
  }
 ],
 "metadata": {
  "kernelspec": {
   "display_name": "Python 3 (ipykernel)",
   "language": "python",
   "name": "python3"
  },
  "language_info": {
   "codemirror_mode": {
    "name": "ipython",
    "version": 3
   },
   "file_extension": ".py",
   "mimetype": "text/x-python",
   "name": "python",
   "nbconvert_exporter": "python",
   "pygments_lexer": "ipython3",
   "version": "3.8.13"
  }
 },
 "nbformat": 4,
 "nbformat_minor": 5
}
