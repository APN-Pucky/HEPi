{
 "cells": [
  {
   "cell_type": "code",
   "execution_count": 1,
   "id": "6c1a697f",
   "metadata": {},
   "outputs": [
    {
     "name": "stdout",
     "output_type": "stream",
     "text": [
      "0.1.6.18+dirty\n",
      "~/git/resummino/\n"
     ]
    }
   ],
   "source": [
    "import hepi\n",
    "print(hepi.__version__)\n",
    "import smpl\n",
    "import numpy as np\n",
    "import hepi.resummino as rs\n",
    "import hepi.util as util\n",
    "import matplotlib.pyplot as plt\n",
    "rs.set_path(\"~/git/resummino\")\n",
    "print (rs.get_path())"
   ]
  },
  {
   "cell_type": "markdown",
   "id": "35928a1a",
   "metadata": {},
   "source": [
    "# aNNLO+NNLL wino N2C1"
   ]
  },
  {
   "cell_type": "code",
   "execution_count": 3,
   "id": "f8611906",
   "metadata": {},
   "outputs": [
    {
     "name": "stdout",
     "output_type": "stream",
     "text": [
      "Running: 8132 jobs\n",
      "Running: 8132 jobs\n",
      "Running: 8132 jobs\n",
      "Running: 8132 jobs\n"
     ]
    }
   ],
   "source": [
    "\n",
    "params = [\n",
    "    \"wino_N2C1_mod.in\",\n",
    "]\n",
    "pss = [\n",
    "    (1000022,+1000024),\n",
    "    (1000022,-1000024),\n",
    "     ]\n",
    "for energy  in [13000,13600]:\n",
    "    hepi.set_output_dir(\"output_\" + str(energy) + \"_wino_N2C1/\")\n",
    "    for pa,pb in pss:\n",
    "        for param in params:\n",
    "            i = hepi.Input(hepi.Order.aNNLO_PLUS_NNLL,energy,pa,pb,param,\"PDF4LHC21_mc\",\"PDF4LHC21_mc\",1., 1.,id=\"0.0.0\")\n",
    "            li = [i]\n",
    "            li = hepi.masses_scan(li,[\n",
    "                1000011   ,\n",
    "   2000011   ,\n",
    "   1000012   ,\n",
    "   1000013   ,\n",
    "   2000013   ,\n",
    "   1000014   ,\n",
    "   1000015   ,\n",
    "   2000015  , \n",
    "   1000016 ,\n",
    "                                         1000022   ,\n",
    "   1000023   ,\n",
    "   1000024   ,\n",
    "                                     \n",
    "                                     ],range(100,2000,25))\n",
    "            li = hepi.seven_point_scan(li)\n",
    "            li = hepi.pdf_scan(li)\n",
    "            rs_dl = rs.run(li,skip=True,run=False,parse=False)"
   ]
  },
  {
   "cell_type": "code",
   "execution_count": null,
   "id": "932ef0f7",
   "metadata": {},
   "outputs": [],
   "source": []
  }
 ],
 "metadata": {
  "kernelspec": {
   "display_name": "Python 3 (ipykernel)",
   "language": "python",
   "name": "python3"
  },
  "language_info": {
   "codemirror_mode": {
    "name": "ipython",
    "version": 3
   },
   "file_extension": ".py",
   "mimetype": "text/x-python",
   "name": "python",
   "nbconvert_exporter": "python",
   "pygments_lexer": "ipython3",
   "version": "3.8.13"
  }
 },
 "nbformat": 4,
 "nbformat_minor": 5
}
