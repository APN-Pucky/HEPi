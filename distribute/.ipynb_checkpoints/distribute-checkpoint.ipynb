{
 "cells": [
  {
   "cell_type": "markdown",
   "id": "92353069",
   "metadata": {},
   "source": [
    "# Scenarios\n",
    "\n",
    "The scenarios are taken from https://twiki.cern.ch/twiki/bin/view/LHCPhysics/SUSYCrossSections.\n",
    "\n",
    "Modifications:\n",
    "-   we set the STAUMIX values to maximally mixed for sleptons\n",
    "-   we manually set the massses of all particles tagged with an @a or {M...} "
   ]
  },
  {
   "cell_type": "code",
   "execution_count": 1,
   "id": "6c1a697f",
   "metadata": {},
   "outputs": [
    {
     "name": "stdout",
     "output_type": "stream",
     "text": [
      "0.1.12.1\n",
      "~/git/resummino/build\n"
     ]
    }
   ],
   "source": [
    "#%load_ext nb_black\n",
    "import hepi\n",
    "\n",
    "\n",
    "print(hepi.__version__)\n",
    "import smpl\n",
    "from smpl import data\n",
    "import numpy as np\n",
    "import hepi.resummino as rs\n",
    "import hepi.util as util\n",
    "import matplotlib.pyplot as plt\n",
    "\n",
    "rs.set_path(\"~/git/resummino/build\")\n",
    "print(rs.get_path())\n",
    "\n",
    "test_lo = True\n",
    "analyse  = False # else generation"
   ]
  },
  {
   "cell_type": "markdown",
   "id": "9c261ba6",
   "metadata": {},
   "source": [
    "# aNNLO+NNLL wino\n"
   ]
  },
  {
   "cell_type": "code",
   "execution_count": 2,
   "id": "e050dbc9",
   "metadata": {
    "scrolled": false
   },
   "outputs": [
    {
     "name": "stdout",
     "output_type": "stream",
     "text": [
      "|||||= 5 jobs\n"
     ]
    },
    {
     "name": "stderr",
     "output_type": "stream",
     "text": [
      "/home/apn/.local/lib/python3.9/site-packages/hepi/input.py:283: RuntimeWarning: Could not set new central scale to average of masses.\n",
      "  warnings.warn(\"Could not set new central scale to average of masses.\",\n",
      "100%|██████████████████████████████| 5/5 [00:00<00:00, 499.51it/s]\n"
     ]
    },
    {
     "data": {
      "image/png": "[encoded data removed]",
      "text/plain": [
       "<Figure size 432x288 with 1 Axes>"
      ]
     },
     "metadata": {
      "needs_background": "light"
     },
     "output_type": "display_data"
    },
    {
     "name": "stderr",
     "output_type": "stream",
     "text": [
      "/home/apn/.local/lib/python3.9/site-packages/hepi/input.py:283: RuntimeWarning: Could not set new central scale to average of masses.\n",
      "  warnings.warn(\"Could not set new central scale to average of masses.\",\n"
     ]
    },
    {
     "name": "stdout",
     "output_type": "stream",
     "text": [
      "|||||= 5 jobs\n"
     ]
    },
    {
     "name": "stderr",
     "output_type": "stream",
     "text": [
      "100%|██████████████████████████████| 5/5 [00:00<00:00, 428.16it/s]\n"
     ]
    },
    {
     "ename": "KeyboardInterrupt",
     "evalue": "",
     "output_type": "error",
     "traceback": [
      "\u001b[0;31m---------------------------------------------------------------------------\u001b[0m",
      "\u001b[0;31mKeyboardInterrupt\u001b[0m                         Traceback (most recent call last)",
      "\u001b[0;32m/tmp/ipykernel_31984/1450851102.py\u001b[0m in \u001b[0;36m<module>\u001b[0;34m\u001b[0m\n\u001b[1;32m     59\u001b[0m             \u001b[0;32melse\u001b[0m\u001b[0;34m:\u001b[0m\u001b[0;34m\u001b[0m\u001b[0;34m\u001b[0m\u001b[0m\n\u001b[1;32m     60\u001b[0m                 \u001b[0mrs_dl\u001b[0m \u001b[0;34m=\u001b[0m \u001b[0mrs\u001b[0m\u001b[0;34m.\u001b[0m\u001b[0mrun\u001b[0m\u001b[0;34m(\u001b[0m\u001b[0mli\u001b[0m\u001b[0;34m,\u001b[0m \u001b[0mskip\u001b[0m\u001b[0;34m=\u001b[0m\u001b[0;32mTrue\u001b[0m\u001b[0;34m,\u001b[0m \u001b[0mrun\u001b[0m\u001b[0;34m=\u001b[0m\u001b[0;32mTrue\u001b[0m\u001b[0;34m,\u001b[0m \u001b[0mparse\u001b[0m\u001b[0;34m=\u001b[0m\u001b[0;32mTrue\u001b[0m\u001b[0;34m)\u001b[0m\u001b[0;34m\u001b[0m\u001b[0;34m\u001b[0m\u001b[0m\n\u001b[0;32m---> 61\u001b[0;31m                 \u001b[0mhepi\u001b[0m\u001b[0;34m.\u001b[0m\u001b[0mmass_plot\u001b[0m\u001b[0;34m(\u001b[0m\u001b[0mrs_dl\u001b[0m\u001b[0;34m,\u001b[0m\u001b[0;34m\"LO\"\u001b[0m\u001b[0;34m,\u001b[0m\u001b[0;36m1000022\u001b[0m\u001b[0;34m,\u001b[0m\u001b[0mshow\u001b[0m\u001b[0;34m=\u001b[0m\u001b[0;32mTrue\u001b[0m\u001b[0;34m,\u001b[0m\u001b[0minterpolator\u001b[0m\u001b[0;34m=\u001b[0m\u001b[0;34m'cubic'\u001b[0m\u001b[0;34m,\u001b[0m\u001b[0mpre\u001b[0m\u001b[0;34m=\u001b[0m\u001b[0mnp\u001b[0m\u001b[0;34m.\u001b[0m\u001b[0mlog\u001b[0m\u001b[0;34m,\u001b[0m\u001b[0mpost\u001b[0m\u001b[0;34m=\u001b[0m\u001b[0mnp\u001b[0m\u001b[0;34m.\u001b[0m\u001b[0mexp\u001b[0m\u001b[0;34m)\u001b[0m\u001b[0;34m\u001b[0m\u001b[0;34m\u001b[0m\u001b[0m\n\u001b[0m",
      "\u001b[0;32m~/.local/lib/python3.9/site-packages/hepi/plot.py\u001b[0m in \u001b[0;36mmass_plot\u001b[0;34m(dict_list, y, part, logy, yaxis, yscale, label, **kwargs)\u001b[0m\n\u001b[1;32m     67\u001b[0m               **kwargs):\n\u001b[1;32m     68\u001b[0m     \u001b[0mdict_list\u001b[0m\u001b[0;34m[\u001b[0m\u001b[0;34m\"mass_\"\u001b[0m \u001b[0;34m+\u001b[0m \u001b[0mstr\u001b[0m\u001b[0;34m(\u001b[0m\u001b[0mpart\u001b[0m\u001b[0;34m)\u001b[0m\u001b[0;34m]\u001b[0m \u001b[0;34m=\u001b[0m \u001b[0mget_mass\u001b[0m\u001b[0;34m(\u001b[0m\u001b[0mdict_list\u001b[0m\u001b[0;34m,\u001b[0m \u001b[0mabs\u001b[0m\u001b[0;34m(\u001b[0m\u001b[0mpart\u001b[0m\u001b[0;34m)\u001b[0m\u001b[0;34m)\u001b[0m\u001b[0;34m\u001b[0m\u001b[0;34m\u001b[0m\u001b[0m\n\u001b[0;32m---> 69\u001b[0;31m     plot(dict_list,\n\u001b[0m\u001b[1;32m     70\u001b[0m          \u001b[0;34m\"mass_\"\u001b[0m \u001b[0;34m+\u001b[0m \u001b[0mstr\u001b[0m\u001b[0;34m(\u001b[0m\u001b[0mpart\u001b[0m\u001b[0;34m)\u001b[0m\u001b[0;34m,\u001b[0m\u001b[0;34m\u001b[0m\u001b[0;34m\u001b[0m\u001b[0m\n\u001b[1;32m     71\u001b[0m          \u001b[0my\u001b[0m\u001b[0;34m,\u001b[0m\u001b[0;34m\u001b[0m\u001b[0;34m\u001b[0m\u001b[0m\n",
      "\u001b[0;32m~/.local/lib/python3.9/site-packages/hepi/plot.py\u001b[0m in \u001b[0;36mplot\u001b[0;34m(dict_list, x, y, label, xaxis, yaxis, ratio, K, K_plus_1, logy, yscale, mask, **kwargs)\u001b[0m\n\u001b[1;32m    166\u001b[0m         \u001b[0mvy\u001b[0m \u001b[0;34m=\u001b[0m \u001b[0mvy\u001b[0m \u001b[0;34m/\u001b[0m \u001b[0msplot\u001b[0m\u001b[0;34m.\u001b[0m\u001b[0munv\u001b[0m\u001b[0;34m(\u001b[0m\u001b[0mvy\u001b[0m\u001b[0;34m)\u001b[0m\u001b[0;34m\u001b[0m\u001b[0;34m\u001b[0m\u001b[0m\n\u001b[1;32m    167\u001b[0m \u001b[0;34m\u001b[0m\u001b[0m\n\u001b[0;32m--> 168\u001b[0;31m     \u001b[0mvplot\u001b[0m\u001b[0;34m(\u001b[0m\u001b[0mvx\u001b[0m\u001b[0;34m,\u001b[0m \u001b[0mvy\u001b[0m\u001b[0;34m,\u001b[0m \u001b[0mlabel\u001b[0m\u001b[0;34m,\u001b[0m \u001b[0mxaxis\u001b[0m\u001b[0;34m,\u001b[0m \u001b[0myaxis\u001b[0m\u001b[0;34m,\u001b[0m \u001b[0mlogy\u001b[0m\u001b[0;34m,\u001b[0m \u001b[0myscale\u001b[0m\u001b[0;34m,\u001b[0m \u001b[0mmask\u001b[0m\u001b[0;34m=\u001b[0m\u001b[0mmask\u001b[0m\u001b[0;34m,\u001b[0m \u001b[0;34m**\u001b[0m\u001b[0mkwargs\u001b[0m\u001b[0;34m)\u001b[0m\u001b[0;34m\u001b[0m\u001b[0;34m\u001b[0m\u001b[0m\n\u001b[0m\u001b[1;32m    169\u001b[0m \u001b[0;34m\u001b[0m\u001b[0m\n\u001b[1;32m    170\u001b[0m \u001b[0;34m\u001b[0m\u001b[0m\n",
      "\u001b[0;32m~/.local/lib/python3.9/site-packages/hepi/plot.py\u001b[0m in \u001b[0;36mvplot\u001b[0;34m(x, y, label, xaxis, yaxis, logy, yscale, interpolate, plot_data, data_color, mask, fill, data_fmt, fmt, print_area, sort, **kwargs)\u001b[0m\n\u001b[1;32m    233\u001b[0m             \u001b[0mbl\u001b[0m\u001b[0;34m,\u001b[0m \u001b[0;34m=\u001b[0m \u001b[0mplt\u001b[0m\u001b[0;34m.\u001b[0m\u001b[0mgca\u001b[0m\u001b[0;34m(\u001b[0m\u001b[0;34m)\u001b[0m\u001b[0;34m.\u001b[0m\u001b[0mplot\u001b[0m\u001b[0;34m(\u001b[0m\u001b[0;34m[\u001b[0m\u001b[0;34m]\u001b[0m\u001b[0;34m,\u001b[0m \u001b[0;34m[\u001b[0m\u001b[0;34m]\u001b[0m\u001b[0;34m)\u001b[0m\u001b[0;34m\u001b[0m\u001b[0;34m\u001b[0m\u001b[0m\n\u001b[1;32m    234\u001b[0m         \u001b[0mcolor\u001b[0m \u001b[0;34m=\u001b[0m \u001b[0mbl\u001b[0m\u001b[0;34m.\u001b[0m\u001b[0mget_color\u001b[0m\u001b[0;34m(\u001b[0m\u001b[0;34m)\u001b[0m\u001b[0;34m\u001b[0m\u001b[0;34m\u001b[0m\u001b[0m\n\u001b[0;32m--> 235\u001b[0;31m     iii = splot.data(vx,\n\u001b[0m\u001b[1;32m    236\u001b[0m                             \u001b[0mvy\u001b[0m \u001b[0;34m*\u001b[0m \u001b[0myscale\u001b[0m\u001b[0;34m,\u001b[0m\u001b[0;34m\u001b[0m\u001b[0;34m\u001b[0m\u001b[0m\n\u001b[1;32m    237\u001b[0m                             \u001b[0mlabel\u001b[0m\u001b[0;34m=\u001b[0m\u001b[0mlabel\u001b[0m\u001b[0;34m,\u001b[0m\u001b[0;34m\u001b[0m\u001b[0;34m\u001b[0m\u001b[0m\n",
      "\u001b[0;32m~/.local/lib/python3.9/site-packages/smpl/plot/plot.py\u001b[0m in \u001b[0;36mdata\u001b[0;34m(datax, datay, function, **kwargs)\u001b[0m\n\u001b[1;32m    218\u001b[0m     \u001b[0;32mif\u001b[0m \u001b[0mkwargs\u001b[0m\u001b[0;34m[\u001b[0m\u001b[0;34m'label'\u001b[0m\u001b[0;34m]\u001b[0m \u001b[0;34m==\u001b[0m \u001b[0;32mNone\u001b[0m \u001b[0;32mand\u001b[0m \u001b[0mkwargs\u001b[0m\u001b[0;34m[\u001b[0m\u001b[0;34m'lpos'\u001b[0m\u001b[0;34m]\u001b[0m \u001b[0;34m==\u001b[0m \u001b[0;36m0\u001b[0m\u001b[0;34m:\u001b[0m\u001b[0;34m\u001b[0m\u001b[0;34m\u001b[0m\u001b[0m\n\u001b[1;32m    219\u001b[0m         \u001b[0mkwargs\u001b[0m\u001b[0;34m[\u001b[0m\u001b[0;34m'lpos'\u001b[0m\u001b[0;34m]\u001b[0m \u001b[0;34m=\u001b[0m \u001b[0;34m-\u001b[0m\u001b[0;36m1\u001b[0m\u001b[0;34m\u001b[0m\u001b[0;34m\u001b[0m\u001b[0m\n\u001b[0;32m--> 220\u001b[0;31m     \u001b[0;32mreturn\u001b[0m \u001b[0mfit\u001b[0m\u001b[0;34m(\u001b[0m\u001b[0mdatax\u001b[0m\u001b[0;34m,\u001b[0m \u001b[0mdatay\u001b[0m\u001b[0;34m,\u001b[0m \u001b[0mfunction\u001b[0m\u001b[0;34m,\u001b[0m \u001b[0;34m**\u001b[0m\u001b[0mkwargs\u001b[0m\u001b[0;34m)\u001b[0m\u001b[0;34m\u001b[0m\u001b[0;34m\u001b[0m\u001b[0m\n\u001b[0m\u001b[1;32m    221\u001b[0m \u001b[0;34m\u001b[0m\u001b[0m\n\u001b[1;32m    222\u001b[0m \u001b[0;34m\u001b[0m\u001b[0m\n",
      "\u001b[0;32m~/.local/lib/python3.9/site-packages/smpl/plot/plot.py\u001b[0m in \u001b[0;36mfit\u001b[0;34m(datax, datay, function, **kwargs)\u001b[0m\n\u001b[1;32m    175\u001b[0m         \u001b[0mll\u001b[0m \u001b[0;34m=\u001b[0m \u001b[0mplt_data\u001b[0m\u001b[0;34m(\u001b[0m\u001b[0mdatax\u001b[0m\u001b[0;34m,\u001b[0m \u001b[0mdatay\u001b[0m\u001b[0;34m,\u001b[0m \u001b[0;34m**\u001b[0m\u001b[0mkwargs\u001b[0m\u001b[0;34m)\u001b[0m\u001b[0;34m.\u001b[0m\u001b[0mget_color\u001b[0m\u001b[0;34m(\u001b[0m\u001b[0;34m)\u001b[0m\u001b[0;34m\u001b[0m\u001b[0;34m\u001b[0m\u001b[0m\n\u001b[1;32m    176\u001b[0m     \u001b[0;32mif\u001b[0m \u001b[0mkwargs\u001b[0m\u001b[0;34m[\u001b[0m\u001b[0;34m'interpolate'\u001b[0m\u001b[0;34m]\u001b[0m\u001b[0;34m:\u001b[0m\u001b[0;34m\u001b[0m\u001b[0;34m\u001b[0m\u001b[0m\n\u001b[0;32m--> 177\u001b[0;31m         \u001b[0mifit\u001b[0m\u001b[0;34m,\u001b[0m \u001b[0m_\u001b[0m\u001b[0;34m,\u001b[0m \u001b[0mx\u001b[0m\u001b[0;34m,\u001b[0m \u001b[0my\u001b[0m \u001b[0;34m=\u001b[0m \u001b[0mplt_interpolate\u001b[0m\u001b[0;34m(\u001b[0m\u001b[0mdatax\u001b[0m\u001b[0;34m,\u001b[0m \u001b[0mdatay\u001b[0m\u001b[0;34m,\u001b[0m \u001b[0micolor\u001b[0m\u001b[0;34m=\u001b[0m\u001b[0mll\u001b[0m\u001b[0;34m,\u001b[0m \u001b[0;34m**\u001b[0m\u001b[0mkwargs\u001b[0m\u001b[0;34m)\u001b[0m\u001b[0;34m\u001b[0m\u001b[0;34m\u001b[0m\u001b[0m\n\u001b[0m\u001b[1;32m    178\u001b[0m     \u001b[0;32mif\u001b[0m \u001b[0mkwargs\u001b[0m\u001b[0;34m[\u001b[0m\u001b[0;34m'also_fit'\u001b[0m\u001b[0;34m]\u001b[0m\u001b[0;34m:\u001b[0m\u001b[0;34m\u001b[0m\u001b[0;34m\u001b[0m\u001b[0m\n\u001b[1;32m    179\u001b[0m         rfit, kwargs['fit_color'], _, _ = plt_fit(\n",
      "\u001b[0;32m~/.local/lib/python3.9/site-packages/smpl/plot/plot.py\u001b[0m in \u001b[0;36mplt_interpolate\u001b[0;34m(datax, datay, icolor, **kwargs)\u001b[0m\n\u001b[1;32m    441\u001b[0m         \u001b[0mkargs\u001b[0m\u001b[0;34m[\u001b[0m\u001b[0;34m\"f\"\u001b[0m\u001b[0;34m]\u001b[0m \u001b[0;34m=\u001b[0m \u001b[0mkwargs\u001b[0m\u001b[0;34m[\u001b[0m\u001b[0;34m\"interpolate_fmt\"\u001b[0m\u001b[0;34m]\u001b[0m\u001b[0;34m\u001b[0m\u001b[0;34m\u001b[0m\u001b[0m\n\u001b[1;32m    442\u001b[0m     \u001b[0;31m# l = None so that no label\u001b[0m\u001b[0;34m\u001b[0m\u001b[0;34m\u001b[0m\u001b[0m\n\u001b[0;32m--> 443\u001b[0;31m     \u001b[0;32mreturn\u001b[0m \u001b[0;34m(\u001b[0m\u001b[0minter\u001b[0m\u001b[0;34m,\u001b[0m \u001b[0;34m*\u001b[0m\u001b[0mplt_fit_or_interpolate\u001b[0m\u001b[0;34m(\u001b[0m\u001b[0mdatax\u001b[0m\u001b[0;34m,\u001b[0m \u001b[0mdatay\u001b[0m\u001b[0;34m,\u001b[0m \u001b[0minter\u001b[0m\u001b[0;34m,\u001b[0m \u001b[0ml\u001b[0m\u001b[0;34m=\u001b[0m\u001b[0;32mNone\u001b[0m\u001b[0;34m,\u001b[0m \u001b[0mc\u001b[0m\u001b[0;34m=\u001b[0m\u001b[0micolor\u001b[0m\u001b[0;34m,\u001b[0m \u001b[0;34m**\u001b[0m\u001b[0mkargs\u001b[0m\u001b[0;34m,\u001b[0m \u001b[0;34m**\u001b[0m\u001b[0mkwargs\u001b[0m\u001b[0;34m)\u001b[0m\u001b[0;34m)\u001b[0m\u001b[0;34m\u001b[0m\u001b[0;34m\u001b[0m\u001b[0m\n\u001b[0m\u001b[1;32m    444\u001b[0m \u001b[0;34m\u001b[0m\u001b[0m\n\u001b[1;32m    445\u001b[0m \u001b[0;34m\u001b[0m\u001b[0m\n",
      "\u001b[0;32m~/.local/lib/python3.9/site-packages/smpl/plot/plot.py\u001b[0m in \u001b[0;36mplt_fit_or_interpolate\u001b[0;34m(datax, datay, fitted, l, c, f, ls, **kwargs)\u001b[0m\n\u001b[1;32m    427\u001b[0m         __function(fitted, kwargs['xspace'](np.max(xfit), np.max(xxfit), kwargs['steps']), util.get(\"extrapolate_fmt\", kwargs, \"--\"),\n\u001b[1;32m    428\u001b[0m                    color=ll.get_color(), hatch=util.get(\"extrapolate_hatch\", kwargs, r\"||\"), sigmas=kwargs['sigmas'])\n\u001b[0;32m--> 429\u001b[0;31m     \u001b[0;32mreturn\u001b[0m \u001b[0mll\u001b[0m\u001b[0;34m.\u001b[0m\u001b[0mget_color\u001b[0m\u001b[0;34m(\u001b[0m\u001b[0;34m)\u001b[0m\u001b[0;34m,\u001b[0m \u001b[0mxfit\u001b[0m\u001b[0;34m,\u001b[0m \u001b[0mfitted\u001b[0m\u001b[0;34m(\u001b[0m\u001b[0mxfit\u001b[0m\u001b[0;34m)\u001b[0m\u001b[0;34m\u001b[0m\u001b[0;34m\u001b[0m\u001b[0m\n\u001b[0m\u001b[1;32m    430\u001b[0m \u001b[0;34m\u001b[0m\u001b[0m\n\u001b[1;32m    431\u001b[0m \u001b[0;34m\u001b[0m\u001b[0m\n",
      "\u001b[0;32m/usr/lib/python3.9/site-packages/numpy/lib/function_base.py\u001b[0m in \u001b[0;36m__call__\u001b[0;34m(self, *args, **kwargs)\u001b[0m\n\u001b[1;32m   2302\u001b[0m             \u001b[0mvargs\u001b[0m\u001b[0;34m.\u001b[0m\u001b[0mextend\u001b[0m\u001b[0;34m(\u001b[0m\u001b[0;34m[\u001b[0m\u001b[0mkwargs\u001b[0m\u001b[0;34m[\u001b[0m\u001b[0m_n\u001b[0m\u001b[0;34m]\u001b[0m \u001b[0;32mfor\u001b[0m \u001b[0m_n\u001b[0m \u001b[0;32min\u001b[0m \u001b[0mnames\u001b[0m\u001b[0;34m]\u001b[0m\u001b[0;34m)\u001b[0m\u001b[0;34m\u001b[0m\u001b[0;34m\u001b[0m\u001b[0m\n\u001b[1;32m   2303\u001b[0m \u001b[0;34m\u001b[0m\u001b[0m\n\u001b[0;32m-> 2304\u001b[0;31m         \u001b[0;32mreturn\u001b[0m \u001b[0mself\u001b[0m\u001b[0;34m.\u001b[0m\u001b[0m_vectorize_call\u001b[0m\u001b[0;34m(\u001b[0m\u001b[0mfunc\u001b[0m\u001b[0;34m=\u001b[0m\u001b[0mfunc\u001b[0m\u001b[0;34m,\u001b[0m \u001b[0margs\u001b[0m\u001b[0;34m=\u001b[0m\u001b[0mvargs\u001b[0m\u001b[0;34m)\u001b[0m\u001b[0;34m\u001b[0m\u001b[0;34m\u001b[0m\u001b[0m\n\u001b[0m\u001b[1;32m   2305\u001b[0m \u001b[0;34m\u001b[0m\u001b[0m\n\u001b[1;32m   2306\u001b[0m     \u001b[0;32mdef\u001b[0m \u001b[0m_get_ufunc_and_otypes\u001b[0m\u001b[0;34m(\u001b[0m\u001b[0mself\u001b[0m\u001b[0;34m,\u001b[0m \u001b[0mfunc\u001b[0m\u001b[0;34m,\u001b[0m \u001b[0margs\u001b[0m\u001b[0;34m)\u001b[0m\u001b[0;34m:\u001b[0m\u001b[0;34m\u001b[0m\u001b[0;34m\u001b[0m\u001b[0m\n",
      "\u001b[0;32m/usr/lib/python3.9/site-packages/numpy/lib/function_base.py\u001b[0m in \u001b[0;36m_vectorize_call\u001b[0;34m(self, func, args)\u001b[0m\n\u001b[1;32m   2385\u001b[0m             \u001b[0minputs\u001b[0m \u001b[0;34m=\u001b[0m \u001b[0;34m[\u001b[0m\u001b[0masanyarray\u001b[0m\u001b[0;34m(\u001b[0m\u001b[0ma\u001b[0m\u001b[0;34m,\u001b[0m \u001b[0mdtype\u001b[0m\u001b[0;34m=\u001b[0m\u001b[0mobject\u001b[0m\u001b[0;34m)\u001b[0m \u001b[0;32mfor\u001b[0m \u001b[0ma\u001b[0m \u001b[0;32min\u001b[0m \u001b[0margs\u001b[0m\u001b[0;34m]\u001b[0m\u001b[0;34m\u001b[0m\u001b[0;34m\u001b[0m\u001b[0m\n\u001b[1;32m   2386\u001b[0m \u001b[0;34m\u001b[0m\u001b[0m\n\u001b[0;32m-> 2387\u001b[0;31m             \u001b[0moutputs\u001b[0m \u001b[0;34m=\u001b[0m \u001b[0mufunc\u001b[0m\u001b[0;34m(\u001b[0m\u001b[0;34m*\u001b[0m\u001b[0minputs\u001b[0m\u001b[0;34m)\u001b[0m\u001b[0;34m\u001b[0m\u001b[0;34m\u001b[0m\u001b[0m\n\u001b[0m\u001b[1;32m   2388\u001b[0m \u001b[0;34m\u001b[0m\u001b[0m\n\u001b[1;32m   2389\u001b[0m             \u001b[0;32mif\u001b[0m \u001b[0mufunc\u001b[0m\u001b[0;34m.\u001b[0m\u001b[0mnout\u001b[0m \u001b[0;34m==\u001b[0m \u001b[0;36m1\u001b[0m\u001b[0;34m:\u001b[0m\u001b[0;34m\u001b[0m\u001b[0;34m\u001b[0m\u001b[0m\n",
      "\u001b[0;32m~/.local/lib/python3.9/site-packages/smpl/interpolate/interpolate.py\u001b[0m in \u001b[0;36m<lambda>\u001b[0;34m(*a)\u001b[0m\n\u001b[1;32m     59\u001b[0m         \u001b[0mspl_up\u001b[0m \u001b[0;34m=\u001b[0m \u001b[0m_interpolate\u001b[0m\u001b[0;34m(\u001b[0m\u001b[0;34m*\u001b[0m\u001b[0mdata\u001b[0m\u001b[0;34m[\u001b[0m\u001b[0;34m:\u001b[0m\u001b[0;34m-\u001b[0m\u001b[0;36m1\u001b[0m\u001b[0;34m]\u001b[0m\u001b[0;34m,\u001b[0m \u001b[0mkwargs\u001b[0m\u001b[0;34m[\u001b[0m\u001b[0;34m'pre'\u001b[0m\u001b[0;34m]\u001b[0m\u001b[0;34m(\u001b[0m\u001b[0my\u001b[0m\u001b[0;34m+\u001b[0m\u001b[0mdy\u001b[0m\u001b[0;34m)\u001b[0m\u001b[0;34m,\u001b[0m \u001b[0;34m**\u001b[0m\u001b[0mkwargs\u001b[0m\u001b[0;34m)\u001b[0m\u001b[0;34m\u001b[0m\u001b[0;34m\u001b[0m\u001b[0m\n\u001b[1;32m     60\u001b[0m         \u001b[0mspl_down\u001b[0m \u001b[0;34m=\u001b[0m \u001b[0m_interpolate\u001b[0m\u001b[0;34m(\u001b[0m\u001b[0;34m*\u001b[0m\u001b[0mdata\u001b[0m\u001b[0;34m[\u001b[0m\u001b[0;34m:\u001b[0m\u001b[0;34m-\u001b[0m\u001b[0;36m1\u001b[0m\u001b[0;34m]\u001b[0m\u001b[0;34m,\u001b[0m \u001b[0mkwargs\u001b[0m\u001b[0;34m[\u001b[0m\u001b[0;34m'pre'\u001b[0m\u001b[0;34m]\u001b[0m\u001b[0;34m(\u001b[0m\u001b[0my\u001b[0m\u001b[0;34m-\u001b[0m\u001b[0mdy\u001b[0m\u001b[0;34m)\u001b[0m\u001b[0;34m,\u001b[0m \u001b[0;34m**\u001b[0m\u001b[0mkwargs\u001b[0m\u001b[0;34m)\u001b[0m\u001b[0;34m\u001b[0m\u001b[0;34m\u001b[0m\u001b[0m\n\u001b[0;32m---> 61\u001b[0;31m         ret = np.vectorize(lambda *a: unc.ufloat(spl_up(*a)/2 + spl_down(*a)/2,\n\u001b[0m\u001b[1;32m     62\u001b[0m                                                  np.abs(spl_up(*a) - spl_down(*a))/2), otypes=[\"object\"])  # symmetrized error...\n\u001b[1;32m     63\u001b[0m     \u001b[0;32mif\u001b[0m \u001b[0;32mnot\u001b[0m \u001b[0mcheck\u001b[0m\u001b[0;34m(\u001b[0m\u001b[0mret\u001b[0m\u001b[0;34m,\u001b[0m \u001b[0;34m*\u001b[0m\u001b[0mdata\u001b[0m\u001b[0;34m)\u001b[0m\u001b[0;34m:\u001b[0m\u001b[0;34m\u001b[0m\u001b[0;34m\u001b[0m\u001b[0m\n",
      "\u001b[0;32m~/.local/lib/python3.9/site-packages/smpl/interpolate/interpolate.py\u001b[0m in \u001b[0;36m<lambda>\u001b[0;34m(*a)\u001b[0m\n\u001b[1;32m     89\u001b[0m             \u001b[0mret\u001b[0m \u001b[0;34m=\u001b[0m \u001b[0minterp\u001b[0m\u001b[0;34m.\u001b[0m\u001b[0mLinearNDInterpolator\u001b[0m\u001b[0;34m(\u001b[0m\u001b[0mlist\u001b[0m\u001b[0;34m(\u001b[0m\u001b[0mzip\u001b[0m\u001b[0;34m(\u001b[0m\u001b[0;34m*\u001b[0m\u001b[0mdata\u001b[0m\u001b[0;34m[\u001b[0m\u001b[0;34m:\u001b[0m\u001b[0;34m-\u001b[0m\u001b[0;36m1\u001b[0m\u001b[0;34m]\u001b[0m\u001b[0;34m)\u001b[0m\u001b[0;34m)\u001b[0m\u001b[0;34m,\u001b[0m \u001b[0mdata\u001b[0m\u001b[0;34m[\u001b[0m\u001b[0;34m-\u001b[0m\u001b[0;36m1\u001b[0m\u001b[0;34m]\u001b[0m\u001b[0;34m)\u001b[0m\u001b[0;34m\u001b[0m\u001b[0;34m\u001b[0m\u001b[0m\n\u001b[1;32m     90\u001b[0m \u001b[0;34m\u001b[0m\u001b[0m\n\u001b[0;32m---> 91\u001b[0;31m     \u001b[0;32mreturn\u001b[0m \u001b[0;32mlambda\u001b[0m \u001b[0;34m*\u001b[0m\u001b[0ma\u001b[0m\u001b[0;34m:\u001b[0m \u001b[0mkwargs\u001b[0m\u001b[0;34m[\u001b[0m\u001b[0;34m'post'\u001b[0m\u001b[0;34m]\u001b[0m\u001b[0;34m(\u001b[0m\u001b[0mret\u001b[0m\u001b[0;34m(\u001b[0m\u001b[0;34m*\u001b[0m\u001b[0ma\u001b[0m\u001b[0;34m)\u001b[0m\u001b[0;34m)\u001b[0m\u001b[0;34m\u001b[0m\u001b[0;34m\u001b[0m\u001b[0m\n\u001b[0m\u001b[1;32m     92\u001b[0m \u001b[0;34m\u001b[0m\u001b[0m\n\u001b[1;32m     93\u001b[0m \u001b[0;34m\u001b[0m\u001b[0m\n",
      "\u001b[0;31mKeyboardInterrupt\u001b[0m: "
     ]
    },
    {
     "data": {
      "image/png": "[encoded data removed]",
      "text/plain": [
       "<Figure size 432x288 with 1 Axes>"
      ]
     },
     "metadata": {
      "needs_background": "light"
     },
     "output_type": "display_data"
    }
   ],
   "source": [
    "params = [\n",
    "    \"wino.slha\",\n",
    "]\n",
    "pss = [\n",
    "    ( 1000023, +1000024),  # N1C1p\n",
    "    ( 1000023, -1000024),  # N1C1m\n",
    "    (+1000024, -1000024),  # C1pC1m\n",
    "]\n",
    "pdfs = [\"PDF4LHC21_40\",\"PDF4LHC15_nlo_30\",\"PDF4LHC21_mc\",\"CT18NNLO\"]\n",
    "for energy in [13000, 13600]:\n",
    "    for pa, pb in pss:\n",
    "        for pdf in pdfs:\n",
    "            hepi.set_output_dir(\n",
    "                \"output_\" + str(energy) + \"_wino_\" + str(pa) + \"_\" + str(pb) + \"/\"\n",
    "            )\n",
    "            rs.default_resummino_runner.set_output_dir(hepi.get_output_dir())\n",
    "            for param in params:\n",
    "                i = hepi.Input(\n",
    "                    hepi.Order.LO if test_lo else hepi.Order.aNNLO_PLUS_NNLL,\n",
    "                    energy,\n",
    "                    pa,\n",
    "                    pb,\n",
    "                    param,\n",
    "                    \"PDF4LHC21_40\",\n",
    "                    \"PDF4LHC21_40\",\n",
    "                    1.0,\n",
    "                    1.0,\n",
    "                    id=\"0.0.0\",\n",
    "                    precision=0.001,\n",
    "                    max_iters=50,\n",
    "                )\n",
    "                li = [i]\n",
    "                li = hepi.masses_scan(\n",
    "                    li,\n",
    "                    [\n",
    "                        1000022,\n",
    "                        1000023,\n",
    "                        1000024,\n",
    "                    ],\n",
    "                    np.linspace(100,2010,3),\n",
    "                )\n",
    "                if not test_lo:\n",
    "\n",
    "                    li = hepi.seven_point_scan(li)\n",
    "                    li = hepi.pdf_scan(li)\n",
    "                    # li = hepi.change_where(li, {\"precision\": 0.0001, \"max_iters\": 200}, pdfset_nlo=0)\n",
    "                    if not analyse:\n",
    "                        rs_dl = rs.run(li, skip=False, run=False, parse=False)\n",
    "                    else:\n",
    "                        rs_dl = rs.run(li, skip=True, run=True, parse=True,ignore_error=True)\n",
    "                        rs_dl = hepi.pdf_errors(li,rs_dl)\n",
    "                        rs_dl = hepi.scale_errors(li,rs_dl)\n",
    "                        rs_dl = hepi.combine_errors(rs_dl)\n",
    "                        hepi.title(li[0])\n",
    "                        #hepi.mass_plot(rs_dl,\"LO_COMBINED\",1000022,mask = rs_dl[\"aNNLO_PLUS_NNLL_COMBINED\"].notnull(),show=True,logy=True,interpolate=True,fill=True,interpolator='cubic',pre=np.log,post=np.exp)\n",
    "                        #hepi.mass_plot(rs_dl,\"NLO_COMBINED\",1000022,mask = rs_dl[\"aNNLO_PLUS_NNLL_COMBINED\"].notnull(),show=True,logy=True,interpolate=True,fill=True,interpolator='cubic',pre=np.log,post=np.exp,init=False)\n",
    "                        hepi.mass_plot(rs_dl,\"aNNLO_PLUS_NNLL_COMBINED\",1000022,mask = rs_dl[\"aNNLO_PLUS_NNLL_COMBINED\"].notnull(),show=True,logy=True,interpolate=True,fill=True,interpolator='cubic',pre=np.log,post=np.exp,init=False)\n",
    "                        hepi.mass_plot(rs_dl,\"aNNLO_PLUS_NNLL_SCALE\",1000022,mask = rs_dl[\"aNNLO_PLUS_NNLL_COMBINED\"].notnull(),show=True,logy=True,interpolate=True,fill=True,interpolator='cubic',pre=np.log,post=np.exp,init=False)\n",
    "                        hepi.mass_plot(rs_dl,\"aNNLO_PLUS_NNLL_PDF\",1000022,mask = rs_dl[\"aNNLO_PLUS_NNLL_COMBINED\"].notnull(),ratio=True,show=True,logy=False,interpolate=True,fill=True,interpolator='cubic',pre=np.log,post=np.exp,init=False)\n",
    "\n",
    "                else:\n",
    "                    rs_dl = rs.run(li, skip=True, run=True, parse=True)\n",
    "                    hepi.mass_plot(rs_dl,\"LO\",1000022,show=True,interpolator='cubic',pre=np.log,post=np.exp)"
   ]
  },
  {
   "cell_type": "markdown",
   "id": "da027400",
   "metadata": {},
   "source": [
    "# aNNLO+NNLL hino degenerate\n"
   ]
  },
  {
   "cell_type": "code",
   "execution_count": null,
   "id": "b344fabd",
   "metadata": {
    "scrolled": false
   },
   "outputs": [],
   "source": [
    "params = [\n",
    "    \"hino.slha\",\n",
    "]\n",
    "pss = [\n",
    "    (1000022, +1000024),  # N2C1p\n",
    "    (1000022, -1000024),  # N2C1m\n",
    "    (+1000024, -1000024),  # C1pC2m\n",
    "    (1000022, 1000023),  # N2N1\n",
    "]\n",
    "for energy in [13000, 13600]:\n",
    "    for pa, pb in pss:\n",
    "        # save to different folders to have some substructure\n",
    "        hepi.set_output_dir(\n",
    "            \"output_\" + str(energy) + \"_hino_deg_\" + str(pa) + \"_\" + str(pb) + \"/\"\n",
    "        )\n",
    "        rs.default_resummino_runner.set_output_dir(hepi.get_output_dir())\n",
    "        for param in params:\n",
    "            i = hepi.Input(\n",
    "                hepi.Order.LO if test_lo else hepi.Order.aNNLO_PLUS_NNLL,\n",
    "                energy,\n",
    "                pa,\n",
    "                pb,\n",
    "                param,\n",
    "                \"PDF4LHC21_40\",\n",
    "                \"PDF4LHC21_40\",\n",
    "                1.0,\n",
    "                1.0,\n",
    "                id=\"0.0.0\",\n",
    "                precision=0.001,\n",
    "                max_iters=50,\n",
    "            )\n",
    "            li = [i]\n",
    "            li = hepi.masses_scan(\n",
    "                li,\n",
    "                [\n",
    "                    1000022,\n",
    "                    1000023,\n",
    "                    1000024,\n",
    "                ],\n",
    "                range(100, 1510, 100),\n",
    "                negate=[1000022],\n",
    "            )\n",
    "            if not test_lo:\n",
    "                li = hepi.seven_point_scan(li)\n",
    "                li = hepi.pdf_scan(li)\n",
    "                # li = hepi.change_where(li, {\"precision\": 0.0001, \"max_iters\": 200}, pdfset_nlo=0)\n",
    "                if not analyse:\n",
    "                    rs_dl = rs.run(li, skip=False, run=False, parse=False)\n",
    "                else:\n",
    "                    rs_dl = rs.run(li, skip=True, run=True, parse=True,ignore_error=True)\n",
    "                    rs_dl = hepi.pdf_errors(li,rs_dl)\n",
    "                    rs_dl = hepi.scale_errors(li,rs_dl)\n",
    "                    rs_dl = hepi.combine_errors(rs_dl)\n",
    "                    hepi.title(li[0])\n",
    "                    #hepi.mass_plot(rs_dl,\"LO_COMBINED\",1000022,mask = rs_dl[\"aNNLO_PLUS_NNLL_COMBINED\"].notnull(),show=True,logy=True,interpolate=True,fill=True,interpolator='cubic',pre=np.log,post=np.exp)\n",
    "                    #hepi.mass_plot(rs_dl,\"NLO_COMBINED\",1000022,mask = rs_dl[\"aNNLO_PLUS_NNLL_COMBINED\"].notnull(),show=True,logy=True,interpolate=True,fill=True,interpolator='cubic',pre=np.log,post=np.exp,init=False)\n",
    "                    hepi.mass_plot(rs_dl,\"aNNLO_PLUS_NNLL_COMBINED\",1000023,mask = rs_dl[\"aNNLO_PLUS_NNLL_COMBINED\"].notnull(),show=True,logy=True,interpolate=True,fill=True,interpolator='cubic',pre=np.log,post=np.exp,init=False)\n",
    "                    hepi.mass_plot(rs_dl,\"aNNLO_PLUS_NNLL_SCALE\",1000023,mask = rs_dl[\"aNNLO_PLUS_NNLL_COMBINED\"].notnull(),show=True,logy=True,interpolate=True,fill=True,interpolator='cubic',pre=np.log,post=np.exp,init=False)\n",
    "                    hepi.mass_plot(rs_dl,\"aNNLO_PLUS_NNLL_PDF\",1000023,mask = rs_dl[\"aNNLO_PLUS_NNLL_COMBINED\"].notnull(),ratio=True,show=True,logy=False,interpolate=True,fill=True,interpolator='cubic',pre=np.log,post=np.exp,init=False)\n",
    "            else:\n",
    "                rs_dl = rs.run(li, skip=False, run=True, parse=True)\n",
    "                hepi.mass_plot(rs_dl,\"LO\",1000023,show=True,interpolator='exp')"
   ]
  },
  {
   "cell_type": "markdown",
   "id": "c10932c6",
   "metadata": {},
   "source": [
    "# aNNLO+NNLL sleptons"
   ]
  },
  {
   "cell_type": "code",
   "execution_count": null,
   "id": "a67dfa0b",
   "metadata": {
    "scrolled": false
   },
   "outputs": [],
   "source": [
    "params = [\n",
    "    \"sleptons.slha\",\n",
    "]\n",
    "pss = [\n",
    "    (+1000011, -1000011),  # l_L^+ l_L^-\n",
    "    (+2000011, -2000011),  # l_R^+ l_R^-\n",
    "    (+1000015, -1000015),  # l_1^+ l_1^-\n",
    "]\n",
    "for energy in [13000, 13600]:\n",
    "    for pa, pb in pss:\n",
    "        hepi.set_output_dir(\"output_\" + str(energy) + \"_sleptons_\" + str(pa) + \"_\" + str(pb) +\"/\")\n",
    "        rs.default_resummino_runner.set_output_dir(hepi.get_output_dir())\n",
    "        for param in params:\n",
    "            i = hepi.Input(\n",
    "                hepi.Order.LO if test_lo else hepi.Order.aNNLO_PLUS_NNLL,\n",
    "                energy,\n",
    "                pa,\n",
    "                pb,\n",
    "                param,\n",
    "                \"PDF4LHC21_40\",\n",
    "                \"PDF4LHC21_40\",\n",
    "                1.0,\n",
    "                1.0,\n",
    "                id=\"0.0.0\",\n",
    "                precision=0.001,\n",
    "                max_iters=50,\n",
    "            )\n",
    "            li = [i]\n",
    "            li = hepi.masses_scan(\n",
    "                li,\n",
    "                [\n",
    "                    1000011,\n",
    "                    2000011,\n",
    "                    1000012,\n",
    "                    1000013,\n",
    "                    2000013,\n",
    "                    1000014,\n",
    "                    1000015,\n",
    "                    2000015,\n",
    "                    1000016,\n",
    "                ],\n",
    "                range(100, 1010, 100),\n",
    "            )\n",
    "            if not test_lo:\n",
    "                li = hepi.seven_point_scan(li)\n",
    "                li = hepi.pdf_scan(li)\n",
    "                # li = hepi.change_where(li, {\"precision\": 0.0001, \"max_iters\": 200}, pdfset_nlo=0)\n",
    "                if not analyse:\n",
    "                    rs_dl = rs.run(li, skip=False, run=False, parse=False)\n",
    "                else:\n",
    "                    rs_dl = rs.run(li, skip=True, run=True, parse=True,ignore_error=True)\n",
    "                    rs_dl = hepi.pdf_errors(li,rs_dl)\n",
    "                    rs_dl = hepi.scale_errors(li,rs_dl)\n",
    "                    rs_dl = hepi.combine_errors(rs_dl)\n",
    "                    hepi.title(li[0])\n",
    "                    #hepi.mass_plot(rs_dl,\"LO_COMBINED\",1000022,mask = rs_dl[\"aNNLO_PLUS_NNLL_COMBINED\"].notnull(),show=True,logy=True,interpolate=True,fill=True,interpolator='cubic',pre=np.log,post=np.exp)\n",
    "                    #hepi.mass_plot(rs_dl,\"NLO_COMBINED\",1000022,mask = rs_dl[\"aNNLO_PLUS_NNLL_COMBINED\"].notnull(),show=True,logy=True,interpolate=True,fill=True,interpolator='cubic',pre=np.log,post=np.exp,init=False)\n",
    "                    hepi.mass_plot(rs_dl,\"aNNLO_PLUS_NNLL_COMBINED\",1000011,mask = rs_dl[\"aNNLO_PLUS_NNLL_COMBINED\"].notnull(),show=True,logy=True,interpolate=True,fill=True,interpolator='cubic',pre=np.log,post=np.exp,init=False)\n",
    "                    hepi.mass_plot(rs_dl,\"aNNLO_PLUS_NNLL_SCALE\",1000011,mask = rs_dl[\"aNNLO_PLUS_NNLL_COMBINED\"].notnull(),show=True,logy=True,interpolate=True,fill=True,interpolator='cubic',pre=np.log,post=np.exp,init=False)\n",
    "                    hepi.mass_plot(rs_dl,\"aNNLO_PLUS_NNLL_PDF\",1000011,mask = rs_dl[\"aNNLO_PLUS_NNLL_COMBINED\"].notnull(),ratio=True,show=True,logy=False,interpolate=True,fill=True,interpolator='cubic',pre=np.log,post=np.exp,init=False)\n",
    "            else:\n",
    "                rs_dl = rs.run(li, skip=False, run=True, parse=True)\n",
    "                hepi.mass_plot(rs_dl,\"LO\",1000011,show=True,interpolator='exp')"
   ]
  },
  {
   "cell_type": "markdown",
   "id": "439fcbaa",
   "metadata": {},
   "source": [
    "# aNNLO+NNLL hino non-degenerate"
   ]
  },
  {
   "cell_type": "code",
   "execution_count": null,
   "id": "30e9708b",
   "metadata": {
    "scrolled": false
   },
   "outputs": [],
   "source": [
    "params = [\n",
    "    \"higgsino_slha_C1C1.slha\",\n",
    "]\n",
    "pss = [\n",
    "    ( 1000022, +1000024),  # N2C1p\n",
    "    ( 1000022, -1000024),  # N2C1m\n",
    "    (+1000024, -1000024),  # C1pC1m\n",
    "    ( 1000022,  1000023),  # N2N1\n",
    "]\n",
    "import urllib\n",
    "\n",
    "dl = hepi.load(\n",
    "    urllib.request.urlopen(\n",
    "        \"https://raw.githubusercontent.com/APN-Pucky/xsec/master/json/pp13_hinosplit_N2N1_NLO%2BNLL.json\"\n",
    "    ),\n",
    "    dimensions=2,\n",
    ")\n",
    "N1 = dl[\"N1\"]\n",
    "N2 = dl[\"N2\"]\n",
    "NX = dl[\"N1\"] / 2 + dl[\"N2\"] / 2\n",
    "for energy in [13000, 13600]:\n",
    "    for pa, pb in pss:\n",
    "        # save to different folders to have some substructure\n",
    "        hepi.set_output_dir(\n",
    "            \"output_\" + str(energy) + \"_hino_nondeg_\" + str(pa) + \"_\" + str(pb) + \"/\"\n",
    "        )\n",
    "        rs.default_resummino_runner.set_output_dir(hepi.get_output_dir())\n",
    "        for param in params:\n",
    "            i = hepi.Input(\n",
    "                hepi.Order.LO if test_lo else hepi.Order.aNNLO_PLUS_NNLL,\n",
    "                energy,\n",
    "                pa,\n",
    "                pb,\n",
    "                param,\n",
    "                \"PDF4LHC21_40\",\n",
    "                \"PDF4LHC21_40\",\n",
    "                1.0,\n",
    "                1.0,\n",
    "                id=\"0.0.0\",\n",
    "                precision=0.001,\n",
    "                max_iters=50,\n",
    "            )\n",
    "            li = [i]\n",
    "            li = hepi.slha_scan_rel(\n",
    "                li,\n",
    "                lambda r: [\n",
    "                    [\"MASS\", 1000022, N1[r]],\n",
    "                    [\"MASS\", 1000023, -N2[r]],\n",
    "                    [\"MASS\", 1000024, NX[r]],\n",
    "                ],\n",
    "                range(len(N1)),\n",
    "            )\n",
    "            if not test_lo:\n",
    "                li = hepi.seven_point_scan(li)\n",
    "                li = hepi.pdf_scan(li)\n",
    "                # li = hepi.change_where(li, {\"precision\": 0.0001, \"max_iters\": 200}, pdfset_nlo=0)\n",
    "                if not analyse:\n",
    "                    rs_dl = rs.run(li, skip=True, run=False, parse=False)\n",
    "                else:\n",
    "                    rs_dl = rs.run(li, skip=True, run=True, parse=True)\n",
    "                    \n",
    "                    \n",
    "                    rs_dl = hepi.pdf_errors(li,rs_dl)\n",
    "                    rs_dl = hepi.scale_errors(li,rs_dl)\n",
    "                    rs_dl = hepi.combine_errors(rs_dl)\n",
    "                    mask = rs_dl[\"aNNLO_PLUS_NNLL_COMBINED\"].notnull()\n",
    "                    \n",
    "                    hepi.mapplot(rs_dl[mask],\"MASS_1000022\",\"MASS_1000024\",\"aNNLO_PLUS_NNLL_COMBINED\",xaxis=\"$m_{\\\\tilde{\\\\chi}_1^0}$ [GeV]\",yaxis=\"$m_{\\\\tilde{\\\\chi}_1^-}$ [GeV]\" , zaxis=\"$\\\\sigma_{\\\\mathrm{aNNLO+NNLL}}$ [pb]\")\n",
    "\n",
    "                    hepi.title(li[0])\n",
    "\n",
    "                    xx,yy = data.flatmesh(np.linspace(50,320,100),np.linspace(80,320,100))\n",
    "                    dll = hepi.interpolate_2d(rs_dl[mask],\"MASS_1000022\",\"MASS_1000024\",\"aNNLO_PLUS_NNLL_COMBINED\",xx,yy,interpolator=\"linearnd\",pre=np.log,post=np.exp)             \n",
    "                    hepi.mapplot(dll,\"MASS_1000022\",\"MASS_1000024\",\"aNNLO_PLUS_NNLL_COMBINED\",xaxis=\"$m_{\\\\tilde{\\\\chi}_1^0}$ [GeV]\",yaxis=\"$m_{\\\\tilde{\\\\chi}_1^-}$ [GeV]\" , zaxis=\"$\\\\sigma_{\\\\mathrm{aNNLO+NNLL}}$ [pb]\",fill_missing=False)\n",
    "                    hepi.title(li[0])\n",
    "                \n",
    "            else:\n",
    "                rs_dl = rs.run(li, skip=True, run=True, parse=True)\n",
    "                hepi.mapplot(rs_dl,\"MASS_1000022\",\"MASS_1000024\",\"LO\",xaxis=\"$m_{\\\\tilde{\\\\chi}_1^0}$ [GeV]\",yaxis=\"$m_{\\\\tilde{\\\\chi}_1^-}$ [GeV]\" , zaxis=\"$\\\\sigma_{\\\\mathrm{NLO+NLL}}$ [pb]\")"
   ]
  },
  {
   "cell_type": "code",
   "execution_count": null,
   "id": "624037e1",
   "metadata": {},
   "outputs": [],
   "source": [
    "\n"
   ]
  },
  {
   "cell_type": "code",
   "execution_count": null,
   "id": "03bef720",
   "metadata": {},
   "outputs": [],
   "source": []
  }
 ],
 "metadata": {
  "kernelspec": {
   "display_name": "Python 3 (ipykernel)",
   "language": "python",
   "name": "python3"
  },
  "language_info": {
   "codemirror_mode": {
    "name": "ipython",
    "version": 3
   },
   "file_extension": ".py",
   "mimetype": "text/x-python",
   "name": "python",
   "nbconvert_exporter": "python",
   "pygments_lexer": "ipython3",
   "version": "3.9.13"
  }
 },
 "nbformat": 4,
 "nbformat_minor": 5
}
