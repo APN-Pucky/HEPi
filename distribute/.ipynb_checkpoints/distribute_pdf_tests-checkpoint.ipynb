{
 "cells": [
  {
   "cell_type": "markdown",
   "id": "92353069",
   "metadata": {},
   "source": [
    "# Scenarios\n",
    "\n",
    "The scenarios are taken from https://twiki.cern.ch/twiki/bin/view/LHCPhysics/SUSYCrossSections.\n",
    "\n",
    "Modifications:\n",
    "-   we set the STAUMIX values to maximally mixed for sleptons\n",
    "-   we manually set the massses of all particles tagged with an @a or {M...} "
   ]
  },
  {
   "cell_type": "code",
   "execution_count": 1,
   "id": "6c1a697f",
   "metadata": {},
   "outputs": [
    {
     "name": "stdout",
     "output_type": "stream",
     "text": [
      "0.1.12.1\n",
      "resummino 3.1.1-dev\n",
      "~/git/resummino/build/bin/resummino\n"
     ]
    }
   ],
   "source": [
    "#%load_ext nb_black\n",
    "import hepi\n",
    "\n",
    "\n",
    "print(hepi.__version__)\n",
    "import smpl\n",
    "from smpl import data\n",
    "import numpy as np\n",
    "import hepi.resummino as rs\n",
    "import hepi.util as util\n",
    "import matplotlib.pyplot as plt\n",
    "\n",
    "rs.set_path(\"~/git/resummino/build/bin/resummino\")\n",
    "print(rs.default_resummino_runner.get_version())\n",
    "print(rs.get_path())\n",
    "\n",
    "test_lo = True\n",
    "analyse  = False # else generation"
   ]
  },
  {
   "cell_type": "markdown",
   "id": "9c261ba6",
   "metadata": {},
   "source": [
    "# aNNLO+NNLL wino\n"
   ]
  },
  {
   "cell_type": "code",
   "execution_count": null,
   "id": "e050dbc9",
   "metadata": {
    "scrolled": false
   },
   "outputs": [
    {
     "name": "stdout",
     "output_type": "stream",
     "text": [
      "||||= 4 jobs\n"
     ]
    },
    {
     "name": "stderr",
     "output_type": "stream",
     "text": [
      "/home/apn/.local/lib/python3.9/site-packages/hepi/input.py:283: RuntimeWarning: Could not set new central scale to average of masses.\n",
      "  warnings.warn(\"Could not set new central scale to average of masses.\",\n",
      "100%|██████████████████████████████| 4/4 [00:00<00:00, 253.34it/s]\n"
     ]
    },
    {
     "data": {
      "image/png": "[encoded data removed]",
      "text/plain": [
       "<Figure size 432x288 with 1 Axes>"
      ]
     },
     "metadata": {
      "needs_background": "light"
     },
     "output_type": "display_data"
    },
    {
     "name": "stderr",
     "output_type": "stream",
     "text": [
      "/home/apn/.local/lib/python3.9/site-packages/hepi/input.py:283: RuntimeWarning: Could not set new central scale to average of masses.\n",
      "  warnings.warn(\"Could not set new central scale to average of masses.\",\n"
     ]
    },
    {
     "name": "stdout",
     "output_type": "stream",
     "text": [
      "||||= 4 jobs\n"
     ]
    },
    {
     "name": "stderr",
     "output_type": "stream",
     "text": [
      "100%|██████████████████████████████| 4/4 [00:00<00:00, 346.06it/s]\n"
     ]
    },
    {
     "data": {
      "image/png": "[encoded data removed]",
      "text/plain": [
       "<Figure size 432x288 with 1 Axes>"
      ]
     },
     "metadata": {
      "needs_background": "light"
     },
     "output_type": "display_data"
    },
    {
     "name": "stderr",
     "output_type": "stream",
     "text": [
      "/home/apn/.local/lib/python3.9/site-packages/hepi/input.py:283: RuntimeWarning: Could not set new central scale to average of masses.\n",
      "  warnings.warn(\"Could not set new central scale to average of masses.\",\n"
     ]
    },
    {
     "name": "stdout",
     "output_type": "stream",
     "text": [
      "||||= 4 jobs\n"
     ]
    }
   ],
   "source": [
    "params = [\n",
    "    \"wino.slha\",\n",
    "]\n",
    "energies = [13000,\n",
    "            #13600\n",
    "           ]\n",
    "pss = [\n",
    "    ( 1000022, +1000024),  # N1C1p\n",
    "    #( 1000022, -1000024),  # N1C1m\n",
    "    #(+1000024, -1000024),  # C1pC1m\n",
    "]\n",
    "pdfs = [\"PDF4LHC21_40\",\"PDF4LHC21_mc\",\"PDF4LHC15_nnlo_30\",\"CT18NNLO\",\"MSHT20nnlo_as118\"]\n",
    "for energy in energies:\n",
    "    for pa, pb in pss:\n",
    "        for pdf in pdfs:\n",
    "            hepi.set_output_dir(\n",
    "                \"output_\" + str(energy) + \"_wino_\" + str(pa) + \"_\" + str(pb) + \"_\" + pdf+ \"/\"\n",
    "            )\n",
    "            rs.default_resummino_runner.set_output_dir(hepi.get_output_dir())\n",
    "            for param in params:\n",
    "                i = hepi.Input(\n",
    "                    hepi.Order.LO if test_lo else hepi.Order.aNNLO_PLUS_NNLL,\n",
    "                    energy,\n",
    "                    pa,\n",
    "                    pb,\n",
    "                    param,\n",
    "                    pdf,\n",
    "                    pdf,\n",
    "                    1.0,\n",
    "                    1.0,\n",
    "                    id=\"0.0.0\",\n",
    "                    precision=0.001,\n",
    "                    max_iters=50,\n",
    "                )\n",
    "                li = [i]\n",
    "                li = hepi.masses_scan(\n",
    "                    li,\n",
    "                    [\n",
    "                        1000022,\n",
    "                        1000023,\n",
    "                        1000024,\n",
    "                    ],\n",
    "                    np.linspace(100,2010,4),\n",
    "                )\n",
    "                if not test_lo:\n",
    "\n",
    "                    li = hepi.seven_point_scan(li)\n",
    "                    li = hepi.pdf_scan(li)\n",
    "                    # li = hepi.change_where(li, {\"precision\": 0.0001, \"max_iters\": 200}, pdfset_nlo=0)\n",
    "                    if not analyse:\n",
    "                        rs_dl = rs.run(li, skip=False, run=False, parse=False)\n",
    "                    else:\n",
    "                        rs_dl = rs.run(li, skip=True, run=True, parse=True,ignore_error=True)\n",
    "                        rs_dl = hepi.pdf_errors(li,rs_dl)\n",
    "                        rs_dl = hepi.scale_errors(li,rs_dl)\n",
    "                        rs_dl = hepi.combine_errors(rs_dl)\n",
    "                        hepi.title(li[0])\n",
    "                        #hepi.mass_plot(rs_dl,\"LO_COMBINED\",1000022,mask = rs_dl[\"aNNLO_PLUS_NNLL_COMBINED\"].notnull(),show=True,logy=True,interpolate=True,fill=True,interpolator='cubic',pre=np.log,post=np.exp)\n",
    "                        #hepi.mass_plot(rs_dl,\"NLO_COMBINED\",1000022,mask = rs_dl[\"aNNLO_PLUS_NNLL_COMBINED\"].notnull(),show=True,logy=True,interpolate=True,fill=True,interpolator='cubic',pre=np.log,post=np.exp,init=False)\n",
    "                        hepi.mass_plot(rs_dl,\"aNNLO_PLUS_NNLL_COMBINED\",1000022,mask = rs_dl[\"aNNLO_PLUS_NNLL_COMBINED\"].notnull(),show=True,logy=True,interpolate=True,fill=True,interpolator='cubic',pre=np.log,post=np.exp,init=False)\n",
    "                        hepi.mass_plot(rs_dl,\"aNNLO_PLUS_NNLL_SCALE\",1000022,mask = rs_dl[\"aNNLO_PLUS_NNLL_COMBINED\"].notnull(),show=True,logy=True,interpolate=True,fill=True,interpolator='cubic',pre=np.log,post=np.exp,init=False)\n",
    "                        hepi.mass_plot(rs_dl,\"aNNLO_PLUS_NNLL_PDF\",1000022,mask = rs_dl[\"aNNLO_PLUS_NNLL_COMBINED\"].notnull(),ratio=True,show=True,logy=False,interpolate=True,fill=True,interpolator='cubic',pre=np.log,post=np.exp,init=False)\n",
    "\n",
    "                else:\n",
    "                    rs_dl = rs.run(li, skip=True, run=True, parse=True)\n",
    "                    hepi.mass_plot(rs_dl,\"LO\",1000022,show=True,interpolator='cubic',pre=np.log,post=np.exp)"
   ]
  },
  {
   "cell_type": "markdown",
   "id": "6cd37879",
   "metadata": {},
   "source": [
    "# NLO+NLL wino\n"
   ]
  },
  {
   "cell_type": "code",
   "execution_count": null,
   "id": "f44b3255",
   "metadata": {
    "scrolled": false
   },
   "outputs": [],
   "source": [
    "params = [\n",
    "    \"wino.slha\",\n",
    "]\n",
    "pss = [\n",
    "    ( 1000022, +1000024),  # N1C1p\n",
    "    #( 1000022, -1000024),  # N1C1m\n",
    "    #(+1000024, -1000024),  # C1pC1m\n",
    "]\n",
    "energies = [13000,\n",
    "            #13600\n",
    "           ]\n",
    "pdfs = [\"PDF4LHC15_nlo_30\",\"CT18NLO\",\"MSHT20nlo_as118\"]\n",
    "\n",
    "for energy in energies:\n",
    "    for pa, pb in pss:\n",
    "        for pdf in pdfs:\n",
    "            hepi.set_output_dir(\n",
    "                \"output_\" + str(energy) + \"_wino_\" + str(pa) + \"_\" + str(pb) + \"_\" + pdf+ \"/\"\n",
    "            )\n",
    "            rs.default_resummino_runner.set_output_dir(hepi.get_output_dir())\n",
    "            for param in params:\n",
    "                i = hepi.Input(\n",
    "                    hepi.Order.LO if test_lo else hepi.Order.NLO_PLUS_NLL,\n",
    "                    energy,\n",
    "                    pa,\n",
    "                    pb,\n",
    "                    param,\n",
    "                    pdf,\n",
    "                    pdf\n",
    "                    1.0,\n",
    "                    1.0,\n",
    "                    id=\"0.0.0\",\n",
    "                    precision=0.001,\n",
    "                    max_iters=50,\n",
    "                )\n",
    "                li = [i]\n",
    "                li = hepi.masses_scan(\n",
    "                    li,\n",
    "                    [\n",
    "                        1000022,\n",
    "                        1000023,\n",
    "                        1000024,\n",
    "                    ],\n",
    "                    np.linspace(100,2010,4),\n",
    "                )\n",
    "                if not test_lo:\n",
    "\n",
    "                    li = hepi.seven_point_scan(li)\n",
    "                    li = hepi.pdf_scan(li)\n",
    "                    # li = hepi.change_where(li, {\"precision\": 0.0001, \"max_iters\": 200}, pdfset_nlo=0)\n",
    "                    if not analyse:\n",
    "                        rs_dl = rs.run(li, skip=False, run=False, parse=False)\n",
    "                    else:\n",
    "                        rs_dl = rs.run(li, skip=True, run=True, parse=True,ignore_error=True)\n",
    "                        rs_dl = hepi.pdf_errors(li,rs_dl)\n",
    "                        rs_dl = hepi.scale_errors(li,rs_dl)\n",
    "                        rs_dl = hepi.combine_errors(rs_dl)\n",
    "                        hepi.title(li[0])\n",
    "                        #hepi.mass_plot(rs_dl,\"LO_COMBINED\",1000022,mask = rs_dl[\"aNNLO_PLUS_NNLL_COMBINED\"].notnull(),show=True,logy=True,interpolate=True,fill=True,interpolator='cubic',pre=np.log,post=np.exp)\n",
    "                        #hepi.mass_plot(rs_dl,\"NLO_COMBINED\",1000022,mask = rs_dl[\"aNNLO_PLUS_NNLL_COMBINED\"].notnull(),show=True,logy=True,interpolate=True,fill=True,interpolator='cubic',pre=np.log,post=np.exp,init=False)\n",
    "                        hepi.mass_plot(rs_dl,\"aNNLO_PLUS_NNLL_COMBINED\",1000022,mask = rs_dl[\"aNNLO_PLUS_NNLL_COMBINED\"].notnull(),show=True,logy=True,interpolate=True,fill=True,interpolator='cubic',pre=np.log,post=np.exp,init=False)\n",
    "                        hepi.mass_plot(rs_dl,\"aNNLO_PLUS_NNLL_SCALE\",1000022,mask = rs_dl[\"aNNLO_PLUS_NNLL_COMBINED\"].notnull(),show=True,logy=True,interpolate=True,fill=True,interpolator='cubic',pre=np.log,post=np.exp,init=False)\n",
    "                        hepi.mass_plot(rs_dl,\"aNNLO_PLUS_NNLL_PDF\",1000022,mask = rs_dl[\"aNNLO_PLUS_NNLL_COMBINED\"].notnull(),ratio=True,show=True,logy=False,interpolate=True,fill=True,interpolator='cubic',pre=np.log,post=np.exp,init=False)\n",
    "\n",
    "                else:\n",
    "                    rs_dl = rs.run(li, skip=True, run=True, parse=True)\n",
    "                    hepi.mass_plot(rs_dl,\"LO\",1000022,show=True,interpolator='cubic',pre=np.log,post=np.exp)"
   ]
  }
 ],
 "metadata": {
  "kernelspec": {
   "display_name": "Python 3 (ipykernel)",
   "language": "python",
   "name": "python3"
  },
  "language_info": {
   "codemirror_mode": {
    "name": "ipython",
    "version": 3
   },
   "file_extension": ".py",
   "mimetype": "text/x-python",
   "name": "python",
   "nbconvert_exporter": "python",
   "pygments_lexer": "ipython3",
   "version": "3.9.12"
  }
 },
 "nbformat": 4,
 "nbformat_minor": 5
}
