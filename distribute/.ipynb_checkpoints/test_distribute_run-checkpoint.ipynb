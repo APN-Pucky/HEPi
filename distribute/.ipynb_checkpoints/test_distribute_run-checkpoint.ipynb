{
 "cells": [
  {
   "cell_type": "code",
   "execution_count": 1,
   "id": "6c1a697f",
   "metadata": {},
   "outputs": [
    {
     "name": "stdout",
     "output_type": "stream",
     "text": [
      "0.1.4.28+dirty\n",
      "~/git/resummino/\n"
     ]
    }
   ],
   "source": [
    "import hepi\n",
    "print(hepi.__version__)\n",
    "import smpl\n",
    "import numpy as np\n",
    "import hepi.resummino as rs\n",
    "import hepi.util as util\n",
    "import matplotlib.pyplot as plt\n",
    "rs.set_path(\"~/git/resummino\")\n",
    "print (rs.get_path())"
   ]
  },
  {
   "cell_type": "markdown",
   "id": "ed4ff937",
   "metadata": {},
   "source": [
    "# Single point"
   ]
  },
  {
   "cell_type": "code",
   "execution_count": 12,
   "id": "107ee000",
   "metadata": {},
   "outputs": [
    {
     "name": "stdout",
     "output_type": "stream",
     "text": [
      "Running: 1 jobs\n",
      "Running: 1 jobs\n",
      "Running: 1 jobs\n",
      "Running: 1 jobs\n",
      "RESTART None None None ./output/086a5e6f74677e9101881b8a9f6b0b8c452310ceb102bf7b941a0369c01ac7bf.out\n",
      "Running: 1 jobs\n",
      "RESTART None None None ./output/a6ec00023aa1479b5f5fe22c8e1ffc7e18d4d484d07eb7cc381819c8fc6f00d3.out\n",
      "Running: 1 jobs\n",
      "RESTART None None None ./output/df32f5bb69877d7d26b564966ceda0da5534805ef9c906e7c39fb693d33c67ea.out\n",
      "Running: 1 jobs\n",
      "RESTART None None None ./output/b961f87398318a753d6877b7bc41860014d39418ff8f9103d3ac7299a823e7e5.out\n",
      "Running: 1 jobs\n",
      "RESTART None None None ./output/310e0d08e2b77f890398388af9e54c0137b7b316c825476605c3602bbfc2d315.out\n",
      "Running: 1 jobs\n",
      "RESTART None None None ./output/aed8d14270ee7ceaf651cce76dd0093ec6fd990813087cdf9437f6b840272aec.out\n",
      "Running: 1 jobs\n",
      "RESTART None None None ./output/3c61d60948d6bb02fc05a4e857e668171c247958624c3c0dbe872e848f2b7000.out\n",
      "Running: 1 jobs\n",
      "RESTART None None None ./output/3c4c1267d514484d8ba8a87e68081e4ed366fc502f8b1ef6244bbb9ba2821162.out\n",
      "Running: 1 jobs\n",
      "RESTART None None None ./output/4ed0b0038d17c436f1b9cdbfd7f356296d7ff006da9001f0d99fa324dd76b6a7.out\n",
      "Running: 1 jobs\n",
      "RESTART None None None ./output/31ef23f79e10ff50d0dcd4a71f2df9b409c22bb210869d139952edfe0d3215e9.out\n",
      "Running: 1 jobs\n",
      "RESTART None None None ./output/41b1034022072cff58660143929ea60d228abdbd7794e1febda4a8011ac29874.out\n",
      "Running: 1 jobs\n",
      "RESTART None None None ./output/841c2ca9b316781da56b73219e58e18605ee6468e6460cb558baced17cb0c9dd.out\n"
     ]
    }
   ],
   "source": [
    "params = [\n",
    "    \"slha.in\",\n",
    "    \"wino.in\",\n",
    "    \"hino.in\"\n",
    "]\n",
    "pss = [\n",
    "    (1000011,-1000011),\n",
    "    (1000002,1000022),\n",
    "    (1000023,1000024),\n",
    "    (1000024,1000024),\n",
    "    (1000023,1000022),\n",
    "     ]\n",
    "for pa,pb in pss:\n",
    "    for param in params:\n",
    "        i = hepi.Input(hepi.Order.NLO_PLUS_NLL,13000,pa,pb,param,\"PDF4LHC21_mc\",\"PDF4LHC21_mc\",1., 1.,id=\"0\")\n",
    "        #i = hepi.Input(hepi.Order.NLO,13000,pa,pb,param,\"CT14lo\",\"CT14lo\",1., 1.,model_path=model_path,id=\"5\")\n",
    "        li = [i]\n",
    "        rs_dl = rs.run(li,noskip=False,run=False,parse=False)"
   ]
  },
  {
   "cell_type": "markdown",
   "id": "234755a8",
   "metadata": {},
   "source": [
    "# Mass scan"
   ]
  },
  {
   "cell_type": "code",
   "execution_count": 4,
   "id": "e423f880",
   "metadata": {
    "scrolled": false
   },
   "outputs": [
    {
     "name": "stdout",
     "output_type": "stream",
     "text": [
      "Running: 16 jobs\n"
     ]
    }
   ],
   "source": [
    "params = [\n",
    "    \"slha.in\",\n",
    "]\n",
    "pss = [\n",
    "    (1000011,-1000011),\n",
    "     ]\n",
    "for pa,pb in pss:\n",
    "    for param in params:\n",
    "        i = hepi.Input(hepi.Order.NLO_PLUS_NLL,13000,pa,pb,param,\"PDF4LHC21_mc\",\"PDF4LHC21_mc\",1., 1.,id=\"0\")\n",
    "        #i = hepi.Input(hepi.Order.NLO,13000,pa,pb,param,\"CT14lo\",\"CT14lo\",1., 1.,model_path=model_path,id=\"5\")\n",
    "        li = [i]\n",
    "        li = hepi.mass_scan([i],pa, np.linspace(1000,2000,16))\n",
    "        rs_dl = rs.run(li,noskip=False,run=False,parse=False)\n",
    "\n"
   ]
  },
  {
   "cell_type": "markdown",
   "id": "fea4a793",
   "metadata": {},
   "source": [
    "# Scale scan"
   ]
  },
  {
   "cell_type": "code",
   "execution_count": 10,
   "id": "edffc936",
   "metadata": {},
   "outputs": [
    {
     "name": "stdout",
     "output_type": "stream",
     "text": [
      "Running: 7 jobs\n"
     ]
    }
   ],
   "source": [
    "params = [\n",
    "    \"scenarioA.in\",\n",
    "]\n",
    "pss = [\n",
    "    (1000011,-1000011),\n",
    "     ]\n",
    "for pa,pb in pss:\n",
    "    for param in params:\n",
    "        i = hepi.Input(hepi.Order.NLO_PLUS_NLL,13000,pa,pb,param,\"PDF4LHC21_mc\",\"PDF4LHC21_mc\",1., 1.,id=\"0\")\n",
    "        #i = hepi.Input(hepi.Order.NLO,13000,pa,pb,param,\"CT14lo\",\"CT14lo\",1., 1.,model_path=model_path,id=\"5\")\n",
    "        li = [i]\n",
    "        li = hepi.seven_point_scan(li)\n",
    "        rs_dl = rs.run(li,noskip=False,run=False,parse=False)"
   ]
  },
  {
   "cell_type": "markdown",
   "id": "c9bc20b0",
   "metadata": {},
   "source": [
    "# PDF scan"
   ]
  },
  {
   "cell_type": "code",
   "execution_count": 9,
   "id": "484741b8",
   "metadata": {},
   "outputs": [
    {
     "name": "stdout",
     "output_type": "stream",
     "text": [
      "Running: 101 jobs\n"
     ]
    }
   ],
   "source": [
    "params = [\n",
    "    \"scenarioB.in\",\n",
    "]\n",
    "pss = [\n",
    "    (1000011,-1000011),\n",
    "     ]\n",
    "for pa,pb in pss:\n",
    "    for param in params:\n",
    "        i = hepi.Input(hepi.Order.NLO_PLUS_NLL,13600,pa,pb,param,\"PDF4LHC21_mc\",\"PDF4LHC21_mc\",1., 1.,id=\"0\")\n",
    "        #i = hepi.Input(hepi.Order.NLO,13000,pa,pb,param,\"CT14lo\",\"CT14lo\",1., 1.,model_path=model_path,id=\"5\")\n",
    "        li = [i]\n",
    "        li = hepi.pdf_scan(li)\n",
    "        rs_dl = rs.run(li,noskip=False,run=False,parse=False)"
   ]
  },
  {
   "cell_type": "code",
   "execution_count": null,
   "id": "6353a418",
   "metadata": {},
   "outputs": [],
   "source": []
  }
 ],
 "metadata": {
  "kernelspec": {
   "display_name": "Python 3",
   "language": "python",
   "name": "python3"
  },
  "language_info": {
   "codemirror_mode": {
    "name": "ipython",
    "version": 3
   },
   "file_extension": ".py",
   "mimetype": "text/x-python",
   "name": "python",
   "nbconvert_exporter": "python",
   "pygments_lexer": "ipython3",
   "version": "3.8.13"
  }
 },
 "nbformat": 4,
 "nbformat_minor": 5
}
