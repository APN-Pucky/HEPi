{
 "cells": [
  {
   "cell_type": "markdown",
   "id": "fcca5058",
   "metadata": {},
   "source": [
    "# pyslha comparison"
   ]
  },
  {
   "cell_type": "code",
   "execution_count": 5,
   "id": "b583970e",
   "metadata": {},
   "outputs": [
    {
     "name": "stdout",
     "output_type": "stream",
     "text": [
      "0.1.4.28+dirty\n",
      "~/git/resummino_test/\n"
     ]
    }
   ],
   "source": [
    "import hepi\n",
    "print(hepi.__version__)\n",
    "import smpl\n",
    "import numpy as np\n",
    "import hepi.resummino as rs\n",
    "import hepi.util as util\n",
    "import matplotlib.pyplot as plt\n",
    "rs.set_path(\"~/git/resummino_test\")\n",
    "print (rs.get_path())"
   ]
  },
  {
   "cell_type": "code",
   "execution_count": 6,
   "id": "7d048757",
   "metadata": {},
   "outputs": [],
   "source": [
    "params = [\n",
    "    \"mastercode_with_gm2.in\",\n",
    "]\n",
    "pss = [    \n",
    "      (1000022,1000022),\n",
    "     ]"
   ]
  },
  {
   "cell_type": "code",
   "execution_count": 9,
   "id": "ed7216a4",
   "metadata": {},
   "outputs": [
    {
     "name": "stdout",
     "output_type": "stream",
     "text": [
      "Running: 1 jobs\n",
      "{'LO': array([8.7592441e-06+/-7.8475953e-09], dtype=object), 'NLO': array([1.0663038e-05+/-9.2752399e-09], dtype=object), 'NLO_PLUS_NLL': array([0.0+/-0], dtype=object), 'K_LO': array([1.0+/-0], dtype=object), 'K_NLO': array([1.2173468256239144+/-0.0015201312515062064], dtype=object), 'K_NLO_PLUS_NLL': array([0.0+/-0], dtype=object), 'NLO_PLUS_NLL_OVER_NLO': array([0.0+/-0], dtype=object), 'VNLO': array([1.2408607e-06+/-4.5813373e-09], dtype=object), 'P_PLUS_K': array([3.8807666e-07+/-2.0758299e-09], dtype=object), 'RNLOG': array([-4.1688858e-08+/-4.0857279e-10], dtype=object), 'RNLOQ': array([1.6592239e-07+/-4.9756549e-10], dtype=object), 'VNLO_PLUS_P_PLUS_K': array([1.62893736e-06+/-5.029684008971667e-09], dtype=object), 'RNLO': array([1.24233532e-07+/-6.438191839075038e-10], dtype=object), 'RNLO_PLUS_VNLO_PLUS_P_PLUS_K': array([1.7531708919999999e-06+/-5.070722273174959e-09], dtype=object), 'order': array([1]), 'energy': array([13000]), 'energyhalf': array([6500.]), 'particle1': array([1000022]), 'particle2': array([1000022]), 'slha': array(['mastercode_with_gm2.in_mass_1000022_248.758955'], dtype='<U46'), 'pdf_lo': array(['cteq6l1'], dtype='<U7'), 'pdfset_lo': array([0]), 'pdf_nlo': array(['cteq66'], dtype='<U6'), 'pdfset_nlo': array([0]), 'pdf_lo_id': array([10042]), 'pdf_nlo_id': array([10550]), 'mu_f': array([1.]), 'mu_r': array([1.]), 'precision': array([0.01]), 'max_iters': array([50]), 'invariant_mass': array(['auto'], dtype='<U4'), 'pt': array(['auto'], dtype='<U4'), 'result': array(['total'], dtype='<U5'), 'id': array(['5'], dtype='<U1'), 'model_path': array(['/opt/MG5_aMC_v2_7_0/models/MSSMatNLO_UFO'], dtype='<U40'), 'mu': array([248.758955]), 'mass_1000022': array([248.758955]), 'code': array(['RS'], dtype='<U2')}\n"
     ]
    }
   ],
   "source": [
    "for pa,pb in pss:\n",
    "    for param in params:\n",
    "        i = hepi.Input(hepi.Order.NLO,13000,pa,pb,param,\"cteq6l1\",\"cteq66\",1., 1.,id=\"5\")\n",
    "        #i = hepi.Input(hepi.Order.NLO,13000,pa,pb,param,\"CT14lo\",\"CT14lo\",1., 1.,model_path=model_path,id=\"5\")\n",
    "        li = [i]\n",
    "        li = hepi.mass_scan([i],pa, np.linspace(2.48758955E+02,2.48758955E+02,1))\n",
    "        rs_dl = rs.run(li,noskip=False)\n",
    "        print(rs_dl)"
   ]
  },
  {
   "cell_type": "code",
   "execution_count": 8,
   "id": "a74a3e82",
   "metadata": {},
   "outputs": [
    {
     "name": "stdout",
     "output_type": "stream",
     "text": [
      "Running: 1 jobs\n",
      "RESTART None None None ./output/01306087b8a5d7c92a02239ba9a08dd7cd8e055cbeecb8db7a1b22b3ec70a1a4.out\n",
      "{'LO': array([8.7592443e-06+/-7.8475955e-09], dtype=object), 'NLO': array([1.0662875e-05+/-9.274417e-09], dtype=object), 'NLO_PLUS_NLL': array([0.0+/-0], dtype=object), 'K_LO': array([1.0+/-1.1419754446251318e-19], dtype=object), 'K_NLO': array([1.2173281889169367+/-0.0015200538159673982], dtype=object), 'K_NLO_PLUS_NLL': array([0.0+/-0], dtype=object), 'NLO_PLUS_NLL_OVER_NLO': array([0.0+/-0], dtype=object), 'VNLO': array([1.2408607e-06+/-4.5813374e-09], dtype=object), 'P_PLUS_K': array([3.8807668e-07+/-2.0758299e-09], dtype=object), 'RNLOG': array([-4.1688859e-08+/-4.085728e-10], dtype=object), 'RNLOQ': array([1.6575915e-07+/-4.8197672e-10], dtype=object), 'VNLO_PLUS_P_PLUS_K': array([1.62893738e-06+/-5.029684100057653e-09], dtype=object), 'RNLO': array([1.2407029100000002e-07+/-6.318491050257161e-10], dtype=object), 'RNLO_PLUS_VNLO_PLUS_P_PLUS_K': array([1.753007671e-06+/-5.0692164520657985e-09], dtype=object), 'order': array([1]), 'energy': array([13000]), 'energyhalf': array([6500.]), 'particle1': array([1000022]), 'particle2': array([1000022]), 'slha': array(['mastercode_with_gm2.in'], dtype='<U22'), 'pdf_lo': array(['cteq6l1'], dtype='<U7'), 'pdfset_lo': array([0]), 'pdf_nlo': array(['cteq66'], dtype='<U6'), 'pdfset_nlo': array([0]), 'pdf_lo_id': array([10042]), 'pdf_nlo_id': array([10550]), 'mu_f': array([1.]), 'mu_r': array([1.]), 'precision': array([0.01]), 'max_iters': array([50]), 'invariant_mass': array(['auto'], dtype='<U4'), 'pt': array(['auto'], dtype='<U4'), 'result': array(['total'], dtype='<U5'), 'id': array(['5'], dtype='<U1'), 'model_path': array(['/opt/MG5_aMC_v2_7_0/models/MSSMatNLO_UFO'], dtype='<U40'), 'mu': array([248.758955]), 'code': array(['RS'], dtype='<U2')}\n"
     ]
    }
   ],
   "source": [
    "for pa,pb in pss:\n",
    "    for param in params:\n",
    "        i = hepi.Input(hepi.Order.NLO,13000,pa,pb,param,\"cteq6l1\",\"cteq66\",1., 1.,id=\"5\")\n",
    "        #i = hepi.Input(hepi.Order.NLO,13000,pa,pb,param,\"CT14lo\",\"CT14lo\",1., 1.,model_path=model_path,id=\"5\")\n",
    "        li = [i]\n",
    "        #li = hepi.mass_scan([i],pa, np.linspace(2.4876e2,2.4876e2,1))\n",
    "        rs_dl = rs.run(li,noskip=False)\n",
    "        print(rs_dl)"
   ]
  },
  {
   "cell_type": "code",
   "execution_count": null,
   "id": "949b48eb",
   "metadata": {},
   "outputs": [],
   "source": []
  }
 ],
 "metadata": {
  "kernelspec": {
   "display_name": "Python 3",
   "language": "python",
   "name": "python3"
  },
  "language_info": {
   "codemirror_mode": {
    "name": "ipython",
    "version": 3
   },
   "file_extension": ".py",
   "mimetype": "text/x-python",
   "name": "python",
   "nbconvert_exporter": "python",
   "pygments_lexer": "ipython3",
   "version": "3.8.13"
  }
 },
 "nbformat": 4,
 "nbformat_minor": 5
}
