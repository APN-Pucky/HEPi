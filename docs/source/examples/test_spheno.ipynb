{
 "cells": [
  {
   "cell_type": "markdown",
   "metadata": {},
   "source": [
    "# SPheno example"
   ]
  },
  {
   "cell_type": "code",
   "execution_count": 1,
   "metadata": {},
   "outputs": [
    {
     "name": "stdout",
     "output_type": "stream",
     "text": [
      "0.1.4.15+dirty\n",
      "~/git/resummino_ug_to_UX_vNLO/\n",
      "~/git/SPheno-3.3.8/\n"
     ]
    }
   ],
   "source": [
    "import hepi\n",
    "print(hepi.__version__)\n",
    "import smpl\n",
    "import numpy as np\n",
    "import hepi.resummino as rs\n",
    "import hepi.util as util\n",
    "import hepi.spheno as sp\n",
    "import matplotlib.pyplot as plt\n",
    "\n",
    "rs.set_path(\"~/git/resummino_ug_to_UX_vNLO\")\n",
    "sp.set_path(\"~/git/SPheno-3.3.8\")\n",
    "print (rs.get_path())\n",
    "print (sp.get_path())"
   ]
  },
  {
   "cell_type": "code",
   "execution_count": 2,
   "metadata": {
    "scrolled": false
   },
   "outputs": [
    {
     "ename": "FileNotFoundError",
     "evalue": "[Errno 2] No such file or directory: './input/LesHouches.in'",
     "output_type": "error",
     "traceback": [
      "\u001b[0;31m---------------------------------------------------------------------------\u001b[0m",
      "\u001b[0;31mFileNotFoundError\u001b[0m                         Traceback (most recent call last)",
      "\u001b[0;32m/tmp/ipykernel_12727/649120515.py\u001b[0m in \u001b[0;36m<module>\u001b[0;34m\u001b[0m\n\u001b[1;32m      3\u001b[0m     \u001b[0mfig\u001b[0m\u001b[0;34m.\u001b[0m\u001b[0msubplots_adjust\u001b[0m\u001b[0;34m(\u001b[0m\u001b[0mhspace\u001b[0m\u001b[0;34m=\u001b[0m\u001b[0;36m0\u001b[0m\u001b[0;34m)\u001b[0m\u001b[0;34m\u001b[0m\u001b[0;34m\u001b[0m\u001b[0m\n\u001b[1;32m      4\u001b[0m     \u001b[0;32mfor\u001b[0m \u001b[0mpdf\u001b[0m\u001b[0;34m,\u001b[0m\u001b[0mnlopdf\u001b[0m \u001b[0;32min\u001b[0m \u001b[0;34m[\u001b[0m\u001b[0;34m(\u001b[0m\u001b[0;34m\"CT14lo\"\u001b[0m\u001b[0;34m,\u001b[0m\u001b[0;34m\"CT14lo\"\u001b[0m\u001b[0;34m)\u001b[0m\u001b[0;34m]\u001b[0m\u001b[0;34m:\u001b[0m\u001b[0;34m\u001b[0m\u001b[0;34m\u001b[0m\u001b[0m\n\u001b[0;32m----> 5\u001b[0;31m         \u001b[0mli\u001b[0m \u001b[0;34m=\u001b[0m \u001b[0;34m[\u001b[0m\u001b[0mhepi\u001b[0m\u001b[0;34m.\u001b[0m\u001b[0mInput\u001b[0m\u001b[0;34m(\u001b[0m\u001b[0mhepi\u001b[0m\u001b[0;34m.\u001b[0m\u001b[0mOrder\u001b[0m\u001b[0;34m.\u001b[0m\u001b[0mLO\u001b[0m\u001b[0;34m,\u001b[0m\u001b[0;36m13000\u001b[0m\u001b[0;34m,\u001b[0m\u001b[0msq\u001b[0m\u001b[0;34m,\u001b[0m\u001b[0;36m1000022\u001b[0m\u001b[0;34m,\u001b[0m\u001b[0;34m\"LesHouches.in\"\u001b[0m\u001b[0;34m,\u001b[0m\u001b[0mpdf\u001b[0m\u001b[0;34m,\u001b[0m\u001b[0mnlopdf\u001b[0m\u001b[0;34m,\u001b[0m\u001b[0;36m1.\u001b[0m\u001b[0;34m,\u001b[0m \u001b[0;36m1.\u001b[0m\u001b[0;34m,\u001b[0m\u001b[0mid\u001b[0m\u001b[0;34m=\u001b[0m\u001b[0;34m\"test\"\u001b[0m\u001b[0;34m)\u001b[0m\u001b[0;34m]\u001b[0m\u001b[0;34m\u001b[0m\u001b[0;34m\u001b[0m\u001b[0m\n\u001b[0m\u001b[1;32m      6\u001b[0m         \u001b[0mli\u001b[0m\u001b[0;34m=\u001b[0m\u001b[0mhepi\u001b[0m\u001b[0;34m.\u001b[0m\u001b[0mslha_scan_rel\u001b[0m\u001b[0;34m(\u001b[0m\u001b[0mli\u001b[0m\u001b[0;34m,\u001b[0m\u001b[0;32mlambda\u001b[0m \u001b[0mr\u001b[0m \u001b[0;34m:\u001b[0m \u001b[0;34m[\u001b[0m\u001b[0;34m[\u001b[0m\u001b[0;34m\"EXTPAR\"\u001b[0m\u001b[0;34m,\u001b[0m\u001b[0;36m1\u001b[0m\u001b[0;34m,\u001b[0m\u001b[0;36m510\u001b[0m\u001b[0;34m]\u001b[0m\u001b[0;34m,\u001b[0m\u001b[0;34m[\u001b[0m\u001b[0;34m\"EXTPAR\"\u001b[0m\u001b[0;34m,\u001b[0m\u001b[0;36m2\u001b[0m\u001b[0;34m,\u001b[0m\u001b[0mr\u001b[0m\u001b[0;34m]\u001b[0m\u001b[0;34m]\u001b[0m\u001b[0;34m,\u001b[0m\u001b[0mnp\u001b[0m\u001b[0;34m.\u001b[0m\u001b[0mlinspace\u001b[0m\u001b[0;34m(\u001b[0m\u001b[0;36m470.\u001b[0m\u001b[0;34m,\u001b[0m\u001b[0;36m530.\u001b[0m\u001b[0;34m,\u001b[0m\u001b[0;36m16\u001b[0m\u001b[0;34m)\u001b[0m\u001b[0;34m)\u001b[0m\u001b[0;34m\u001b[0m\u001b[0;34m\u001b[0m\u001b[0m\n\u001b[1;32m      7\u001b[0m         \u001b[0msp\u001b[0m\u001b[0;34m.\u001b[0m\u001b[0mrun\u001b[0m\u001b[0;34m(\u001b[0m\u001b[0mli\u001b[0m\u001b[0;34m)\u001b[0m\u001b[0;34m\u001b[0m\u001b[0;34m\u001b[0m\u001b[0m\n",
      "\u001b[0;32m~/.local/lib/python3.8/site-packages/hepi/input.py\u001b[0m in \u001b[0;36m__init__\u001b[0;34m(self, order, energy, particle1, particle2, slha, pdf_lo, pdf_nlo, mu_f, mu_r, pdfset_lo, pdfset_nlo, precision, max_iters, invariant_mass, result, pt, id, model_path, update)\u001b[0m\n\u001b[1;32m    151\u001b[0m         \u001b[0mself\u001b[0m\u001b[0;34m.\u001b[0m\u001b[0mmodel_path\u001b[0m \u001b[0;34m=\u001b[0m \u001b[0mmodel_path\u001b[0m\u001b[0;34m\u001b[0m\u001b[0;34m\u001b[0m\u001b[0m\n\u001b[1;32m    152\u001b[0m         \u001b[0;32mif\u001b[0m \u001b[0mupdate\u001b[0m\u001b[0;34m:\u001b[0m\u001b[0;34m\u001b[0m\u001b[0;34m\u001b[0m\u001b[0m\n\u001b[0;32m--> 153\u001b[0;31m             \u001b[0mupdate_slha\u001b[0m\u001b[0;34m(\u001b[0m\u001b[0mself\u001b[0m\u001b[0;34m)\u001b[0m\u001b[0;34m\u001b[0m\u001b[0;34m\u001b[0m\u001b[0m\n\u001b[0m\u001b[1;32m    154\u001b[0m \u001b[0;34m\u001b[0m\u001b[0m\n\u001b[1;32m    155\u001b[0m \u001b[0;32mdef\u001b[0m \u001b[0mupdate_slha\u001b[0m\u001b[0;34m(\u001b[0m \u001b[0mi\u001b[0m\u001b[0;34m:\u001b[0m\u001b[0mInput\u001b[0m \u001b[0;34m)\u001b[0m\u001b[0;34m:\u001b[0m\u001b[0;34m\u001b[0m\u001b[0;34m\u001b[0m\u001b[0m\n",
      "\u001b[0;32m~/.local/lib/python3.8/site-packages/hepi/input.py\u001b[0m in \u001b[0;36mupdate_slha\u001b[0;34m(i)\u001b[0m\n\u001b[1;32m    161\u001b[0m \u001b[0;34m\u001b[0m\u001b[0m\n\u001b[1;32m    162\u001b[0m     \"\"\"\n\u001b[0;32m--> 163\u001b[0;31m     \u001b[0mb\u001b[0m \u001b[0;34m=\u001b[0m \u001b[0mpyslha\u001b[0m\u001b[0;34m.\u001b[0m\u001b[0mread\u001b[0m\u001b[0;34m(\u001b[0m\u001b[0mget_input_dir\u001b[0m\u001b[0;34m(\u001b[0m\u001b[0;34m)\u001b[0m \u001b[0;34m+\u001b[0m \u001b[0mi\u001b[0m\u001b[0;34m.\u001b[0m\u001b[0mslha\u001b[0m\u001b[0;34m,\u001b[0m\u001b[0mignorenomass\u001b[0m\u001b[0;34m=\u001b[0m\u001b[0;32mTrue\u001b[0m\u001b[0;34m)\u001b[0m\u001b[0;34m\u001b[0m\u001b[0;34m\u001b[0m\u001b[0m\n\u001b[0m\u001b[1;32m    164\u001b[0m     \u001b[0;32mtry\u001b[0m\u001b[0;34m:\u001b[0m\u001b[0;34m\u001b[0m\u001b[0;34m\u001b[0m\u001b[0m\n\u001b[1;32m    165\u001b[0m         i.mu = (abs(b.blocks[\"MASS\"][abs(i.particle1)]) +\n",
      "\u001b[0;32m~/.local/lib/python3.8/site-packages/pyslha.py\u001b[0m in \u001b[0;36mread\u001b[0;34m(spcfile, **kwargs)\u001b[0m\n\u001b[1;32m   1546\u001b[0m     \u001b[0mOther\u001b[0m \u001b[0mkeyword\u001b[0m \u001b[0mparameters\u001b[0m \u001b[0mare\u001b[0m \u001b[0mpassed\u001b[0m \u001b[0mto\u001b[0m \u001b[0mreadSLHA\u001b[0m\u001b[0;34m/\u001b[0m\u001b[0mreadISAWIG\u001b[0m\u001b[0;34m.\u001b[0m\u001b[0;34m\u001b[0m\u001b[0;34m\u001b[0m\u001b[0m\n\u001b[1;32m   1547\u001b[0m     \"\"\"\n\u001b[0;32m-> 1548\u001b[0;31m     \u001b[0mtxt\u001b[0m \u001b[0;34m=\u001b[0m \u001b[0m_read\u001b[0m\u001b[0;34m(\u001b[0m\u001b[0mspcfile\u001b[0m\u001b[0;34m)\u001b[0m\u001b[0;34m\u001b[0m\u001b[0;34m\u001b[0m\u001b[0m\n\u001b[0m\u001b[1;32m   1549\u001b[0m     \u001b[0;32mif\u001b[0m \u001b[0mtype\u001b[0m\u001b[0;34m(\u001b[0m\u001b[0mspcfile\u001b[0m\u001b[0;34m)\u001b[0m \u001b[0;32mis\u001b[0m \u001b[0mstr\u001b[0m \u001b[0;32mand\u001b[0m \u001b[0mspcfile\u001b[0m\u001b[0;34m.\u001b[0m\u001b[0mendswith\u001b[0m\u001b[0;34m(\u001b[0m\u001b[0;34m\".isa\"\u001b[0m\u001b[0;34m)\u001b[0m\u001b[0;34m:\u001b[0m\u001b[0;34m\u001b[0m\u001b[0;34m\u001b[0m\u001b[0m\n\u001b[1;32m   1550\u001b[0m         \u001b[0;32mreturn\u001b[0m \u001b[0mreadISAWIG\u001b[0m\u001b[0;34m(\u001b[0m\u001b[0mtxt\u001b[0m\u001b[0;34m,\u001b[0m \u001b[0;34m**\u001b[0m\u001b[0mkwargs\u001b[0m\u001b[0;34m)\u001b[0m\u001b[0;34m\u001b[0m\u001b[0;34m\u001b[0m\u001b[0m\n",
      "\u001b[0;32m~/.local/lib/python3.8/site-packages/pyslha.py\u001b[0m in \u001b[0;36m_read\u001b[0;34m(f)\u001b[0m\n\u001b[1;32m    235\u001b[0m             \u001b[0;32mreturn\u001b[0m \u001b[0msys\u001b[0m\u001b[0;34m.\u001b[0m\u001b[0mstdin\u001b[0m\u001b[0;34m.\u001b[0m\u001b[0mread\u001b[0m\u001b[0;34m(\u001b[0m\u001b[0;34m)\u001b[0m\u001b[0;34m\u001b[0m\u001b[0;34m\u001b[0m\u001b[0m\n\u001b[1;32m    236\u001b[0m         \u001b[0;32melse\u001b[0m\u001b[0;34m:\u001b[0m\u001b[0;34m\u001b[0m\u001b[0;34m\u001b[0m\u001b[0m\n\u001b[0;32m--> 237\u001b[0;31m             \u001b[0;32mwith\u001b[0m \u001b[0mopen\u001b[0m\u001b[0;34m(\u001b[0m\u001b[0mf\u001b[0m\u001b[0;34m,\u001b[0m \u001b[0;34m\"r\"\u001b[0m\u001b[0;34m)\u001b[0m \u001b[0;32mas\u001b[0m \u001b[0mff\u001b[0m\u001b[0;34m:\u001b[0m\u001b[0;34m\u001b[0m\u001b[0;34m\u001b[0m\u001b[0m\n\u001b[0m\u001b[1;32m    238\u001b[0m                 \u001b[0;32mreturn\u001b[0m \u001b[0mff\u001b[0m\u001b[0;34m.\u001b[0m\u001b[0mread\u001b[0m\u001b[0;34m(\u001b[0m\u001b[0;34m)\u001b[0m\u001b[0;34m\u001b[0m\u001b[0;34m\u001b[0m\u001b[0m\n\u001b[1;32m    239\u001b[0m     \u001b[0;32melse\u001b[0m\u001b[0;34m:\u001b[0m\u001b[0;34m\u001b[0m\u001b[0;34m\u001b[0m\u001b[0m\n",
      "\u001b[0;31mFileNotFoundError\u001b[0m: [Errno 2] No such file or directory: './input/LesHouches.in'"
     ]
    },
    {
     "data": {
      "image/png": "[encoded data removed]",
      "text/plain": [
       "<Figure size 864x864 with 3 Axes>"
      ]
     },
     "metadata": {
      "needs_background": "light"
     },
     "output_type": "display_data"
    }
   ],
   "source": [
    "for sq in [2000002,1000002]:\n",
    "    fig, axs = plt.subplots(3, 1, figsize=(12, 12), sharex=True)\n",
    "    fig.subplots_adjust(hspace=0)\n",
    "    for pdf,nlopdf in [(\"CT14lo\",\"CT14lo\")]:\n",
    "        li = [hepi.Input(hepi.Order.LO,13000,sq,1000022,\"LesHouches.in\",pdf,nlopdf,1., 1.,id=\"test\")]\n",
    "        li=hepi.slha_scan_rel(li,lambda r : [[\"EXTPAR\",1,510],[\"EXTPAR\",2,r]],np.linspace(470.,530.,16))\n",
    "        sp.run(li)\n",
    "        dl = rs.run(li,False,False)\n",
    "        for p in [1000022,1000023,1000025,1000035]:\n",
    "            hepi.slha_plot(li,[\"EXTPAR\",2],[\"MASS\",p],axes=axs[0],logy=True,xaxis=\"$M_2$ [GeV]\",yaxis=\"$M$\",label=\"$\"+hepi.util.get_name(p)+\"$\",tight=False)\n",
    "        for nm1 in [1]:\n",
    "            for nm2 in [1,2,3,4]:\n",
    "                hepi.slha_plot(li,[\"EXTPAR\",2],[\"NMIX\",(nm1,nm2)],fmt=\"-\",interpolate=False,xaxis=\"$M_2$ [GeV]\",yaxis=\"Mixing\",logy=False,axes=axs[1],label=\"$\"+\"N_{\"+ str(nm1)+ str(nm2)+\"}$\",tight=False)\n",
    "        hepi.vplot(hepi.slha_data(li,[\"EXTPAR\",2]),dl[\"lo\"],plot_data=True,axes=axs[2],xaxis=\"$M_2$ [GeV]\",yaxis= \"$\\sigma$ [pb]\",tight=False,label=\"$\\sigma_{lo}$\")"
   ]
  },
  {
   "cell_type": "code",
   "execution_count": null,
   "metadata": {
    "scrolled": false
   },
   "outputs": [],
   "source": [
    "for sq in [2000002,1000002]:\n",
    "    for pdf,nlopdf in [(\"CT14lo\",\"CT14lo\")]:\n",
    "        li = [hepi.Input(hepi.Order.LO,13000,sq,1000022,\"LesHouches.in\",pdf,nlopdf,1., 1.,id=\"test\")]\n",
    "        #li=hepi.slha_scan_rel(li,lambda r : [[\"EXTPAR\",1,r],[\"EXTPAR\",2,r]],np.linspace(500.,1500.,16*2))\n",
    "\n",
    "        li=hepi.slha_scan(li,\"EXTPAR\",1,np.linspace(500.,1500.,16))\n",
    "        li=hepi.slha_scan(li,\"EXTPAR\",2,np.linspace(500.,1500.,16))\n",
    "        sp.run(li)\n",
    "        dl = rs.run(li,False,False)\n",
    "        for nm1 in [1]:\n",
    "            for nm2 in [1,2]:\n",
    "                print(nm2)\n",
    "                hepi.map_vplot(hepi.slha_data(li,[\"EXTPAR\",1]),hepi.slha_data(li,[\"EXTPAR\",2]),\n",
    "                               hepi.slha_data(li,[\"NMIX\",(nm1,nm2)]),logz=False,xaxis=\"$M_1$\",yaxis=\"$M_2$\",zaxis=\"Mixing\")\n",
    "        \n",
    "        hepi.map_vplot(hepi.slha_data(li,[\"EXTPAR\",1]),hepi.slha_data(li,[\"EXTPAR\",2]),dl[\"lo\"],xaxis=\"$M_1$\",yaxis=\"$M_2$\",zaxis=\"$\\sigma_{lo}$\")"
   ]
  },
  {
   "cell_type": "code",
   "execution_count": null,
   "metadata": {
    "scrolled": false
   },
   "outputs": [],
   "source": [
    "dll = {}\n",
    "sqs=[2000002,1000002]\n",
    "for sq in sqs:\n",
    "    for pdf,nlopdf in [(\"CT14lo\",\"CT14lo\")]:\n",
    "        li = [hepi.Input(hepi.Order.LO,13000,sq,1000022,\"LesHouches.in\",pdf,nlopdf,1., 1.,id=\"test\")]\n",
    "        #li=hepi.slha_scan_rel(li,lambda r : [[\"EXTPAR\",1,r],[\"EXTPAR\",2,r]],np.linspace(500.,1500.,16*2))\n",
    "\n",
    "        li=hepi.slha_scan(li,\"EXTPAR\",1,np.linspace(475.,525.,10+1))\n",
    "        li=hepi.slha_scan(li,\"EXTPAR\",2,np.linspace(450.,500.,10+1))\n",
    "        sp.run(li)\n",
    "        dl = rs.run(li,False,False)\n",
    "        for nm1 in [1]:\n",
    "            for nm2 in [1,2]:\n",
    "                print(nm2)\n",
    "                hepi.map_vplot(hepi.slha_data(li,[\"EXTPAR\",1]),hepi.slha_data(li,[\"EXTPAR\",2]),\n",
    "                               hepi.slha_data(li,[\"NMIX\",(nm1,nm2)]),logz=False,xaxis=\"$M_1$\",yaxis=\"$M_2$\",zaxis=\"Mixing\")\n",
    "        \n",
    "        hepi.map_vplot(hepi.slha_data(li,[\"EXTPAR\",1]),hepi.slha_data(li,[\"EXTPAR\",2]),\n",
    "                       dl[\"lo\"],xaxis=\"$M_1$\",yaxis=\"$M_2$\",zaxis=\"$\\sigma_{lo}$\")\n",
    "        hepi.map_vplot(hepi.slha_data(li,[\"EXTPAR\",1]),hepi.slha_data(li,[\"EXTPAR\",2]),\n",
    "                       hepi.slha_data(li,[\"MASS\",1000022]),xaxis=\"$M_1$\",yaxis=\"$M_2$\",zaxis=\"$MX$\")\n",
    "        dll[sq] = dl\n",
    "\n",
    "hepi.map_vplot(hepi.slha_data(li,[\"EXTPAR\",1]),hepi.slha_data(li,[\"EXTPAR\",2]),\n",
    "                       dll[sqs[0]][\"lo\"]+dll[sqs[1]][\"lo\"],xaxis=\"$M_1$\",yaxis=\"$M_2$\",zaxis=\"$\\sigma_{lo+lo}$\")\n",
    "    "
   ]
  },
  {
   "cell_type": "code",
   "execution_count": null,
   "metadata": {},
   "outputs": [],
   "source": []
  }
 ],
 "metadata": {
  "kernelspec": {
   "display_name": "Python 3",
   "language": "python",
   "name": "python3"
  },
  "language_info": {
   "codemirror_mode": {
    "name": "ipython",
    "version": 3
   },
   "file_extension": ".py",
   "mimetype": "text/x-python",
   "name": "python",
   "nbconvert_exporter": "python",
   "pygments_lexer": "ipython3",
   "version": "3.8.13"
  }
 },
 "nbformat": 4,
 "nbformat_minor": 4
}
