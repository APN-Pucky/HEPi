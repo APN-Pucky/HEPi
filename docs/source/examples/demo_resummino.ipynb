{
 "cells": [
  {
   "cell_type": "markdown",
   "id": "fcca5058",
   "metadata": {},
   "source": [
    "# Resummino example"
   ]
  },
  {
   "cell_type": "code",
   "execution_count": 1,
   "id": "b583970e",
   "metadata": {},
   "outputs": [
    {
     "name": "stdout",
     "output_type": "stream",
     "text": [
      "0.1.10.0+dirty\n",
      "~/git/resummino_release/\n"
     ]
    }
   ],
   "source": [
    "import hepi\n",
    "print(hepi.__version__)\n",
    "import smpl\n",
    "import numpy as np\n",
    "import hepi.util as util\n",
    "import matplotlib.pyplot as plt\n",
    "import hepi.resummino as rs\n",
    "rs.set_path(\"~/git/resummino_release/\")\n",
    "print (rs.get_path())"
   ]
  },
  {
   "cell_type": "markdown",
   "id": "c2dda3a7",
   "metadata": {},
   "source": [
    "## aNNLO+NNLL for weakino pair, slepton pair, Z'/W'->leptons,"
   ]
  },
  {
   "cell_type": "code",
   "execution_count": null,
   "id": "ed7216a4",
   "metadata": {
    "scrolled": false
   },
   "outputs": [
    {
     "name": "stdout",
     "output_type": "stream",
     "text": [
      "skipskipskipskipskipskipskipskipskipskipskipskipskipskipskipRunning: 15 jobs\n"
     ]
    }
   ],
   "source": [
    "%%time\n",
    "params = [\n",
    "    \"mastercode_with_gm2.in\",\n",
    "]\n",
    "pss = [    \n",
    "      (1000011,-1000011),\n",
    "     ]\n",
    "\n",
    "for pa,pb in pss:\n",
    "    for param in params:\n",
    "        i = hepi.Input(hepi.Order.aNNLO_PLUS_NNLL,13000,pa,pb,param,\"cteq6l1\",\"cteq66\",1., 1.)\n",
    "        #i = hepi.Input(hepi.Order.LO,13000,pa,pb,param,\"cteq6l1\",\"cteq66\",1., 1.)\n",
    "        li = [i]\n",
    "        li = hepi.mass_scan([i],pa, np.linspace(100,1000,7+8))\n",
    "        rs_dl = rs.run(li,skip=True)\n",
    "        \n",
    "        _,axs = hepi.init_double_plot()\n",
    "        hepi.mass_plot(rs_dl,[\"LO\",\"NLO\",\"aNNLO_PLUS_NNLL\"],pa,axes=axs[0],tight=False)\n",
    "        hepi.mass_plot(rs_dl,[\"K_LO\",\"K_NLO\",\"K_aNNLO_PLUS_NNLL\",\"aNNLO_PLUS_NNLL_OVER_NLO\"],pa, yaxis=None, axes=axs[1],logy=False,tight=False)\n",
    "        hepi.title(axs[0],li[0],scenario=\"mastercode\")"
   ]
  },
  {
   "cell_type": "markdown",
   "id": "2dd526dd",
   "metadata": {},
   "source": [
    "## NLO+NLL for squark/gluino+weakino"
   ]
  },
  {
   "cell_type": "code",
   "execution_count": null,
   "id": "19e4273a",
   "metadata": {},
   "outputs": [],
   "source": [
    "%%time\n",
    "params = [\n",
    "    \"mastercode_with_gm2.in\",\n",
    "]\n",
    "pss = [    \n",
    "      (1000022,1000021),\n",
    "     ]\n",
    "for pa,pb in pss:\n",
    "    for param in params:\n",
    "        i = hepi.Input(hepi.Order.NLO_PLUS_NLL,13000,pa,pb,param,\"cteq6l1\",\"cteq66\",1., 1.)\n",
    "        li = [i]\n",
    "        li = hepi.mass_scan([i],pa, np.linspace(100,1000,7+8))\n",
    "        rs_dl = rs.run(li,skip=True)\n",
    "        \n",
    "        _,axs = hepi.init_double_plot()\n",
    "        hepi.mass_plot(rs_dl,[\"LO\",\"NLO\",\"NLO_PLUS_NLL\"],pa, axes=axs[0],tight=False)\n",
    "        hepi.mass_plot(rs_dl,[\"K_NLO\",\"K_NLO_PLUS_NLL\",\"NLO_PLUS_NLL_OVER_NLO\"],pa,yaxis=None, axes=axs[1],logy=False,tight=False)\n",
    "        hepi.title(axs[0],li[0],scenario=\"mastercode\")"
   ]
  },
  {
   "cell_type": "code",
   "execution_count": null,
   "id": "b27fc2d8",
   "metadata": {},
   "outputs": [],
   "source": []
  }
 ],
 "metadata": {
  "kernelspec": {
   "display_name": "Python 3 (ipykernel)",
   "language": "python",
   "name": "python3"
  },
  "language_info": {
   "codemirror_mode": {
    "name": "ipython",
    "version": 3
   },
   "file_extension": ".py",
   "mimetype": "text/x-python",
   "name": "python",
   "nbconvert_exporter": "python",
   "pygments_lexer": "ipython3",
   "version": "3.8.13"
  }
 },
 "nbformat": 4,
 "nbformat_minor": 5
}
