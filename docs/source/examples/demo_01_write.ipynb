{
 "cells": [
  {
   "cell_type": "markdown",
   "id": "fcca5058",
   "metadata": {},
   "source": [
    "# Result writing"
   ]
  },
  {
   "cell_type": "code",
   "execution_count": 1,
   "id": "b583970e",
   "metadata": {},
   "outputs": [
    {
     "name": "stdout",
     "output_type": "stream",
     "text": [
      "0.2.9.7\n",
      "~/git/resummino_releases\n"
     ]
    }
   ],
   "source": [
    "import hepi\n",
    "print(hepi.__version__)\n",
    "import smpl\n",
    "import numpy as np\n",
    "from hepi .run import resummino as rs\n",
    "import hepi.util as util\n",
    "import matplotlib.pyplot as plt\n",
    "rs.set_path(\"resummino\")\n",
    "print (rs.get_path())"
   ]
  },
  {
   "cell_type": "code",
   "execution_count": 2,
   "id": "7d048757",
   "metadata": {},
   "outputs": [],
   "source": [
    "params = [\n",
    "    \"mastercode_with_gm2.in\",\n",
    "]\n",
    "pss = [    \n",
    "      (1000011,-1000011),\n",
    "     ]"
   ]
  },
  {
   "cell_type": "markdown",
   "id": "2dd526dd",
   "metadata": {},
   "source": [
    "## Print"
   ]
  },
  {
   "cell_type": "code",
   "execution_count": 3,
   "id": "ed7216a4",
   "metadata": {},
   "outputs": [
    {
     "name": "stderr",
     "output_type": "stream",
     "text": [
      "/home/apn/data/de.neuwirthinformatik.Alexander/Development/git/hepi/hepi/util.py:101: UserWarning: LHAPDF python binding not installed? Make sure you set PYTHONPATH correctly (i.e. correct python version) if you want to compute PDF uncertainties.\n",
      "  warnings.warn(\n"
     ]
    },
    {
     "data": {
      "application/vnd.jupyter.widget-view+json": {
       "model_id": "0f1f3830644e4980a8de75c90824964d",
       "version_major": 2,
       "version_minor": 0
      },
      "text/plain": [
       "QUEUEING TASKS | Checking input:   0%|          | 0/9 [00:00<?, ?it/s]"
      ]
     },
     "metadata": {},
     "output_type": "display_data"
    },
    {
     "data": {
      "application/vnd.jupyter.widget-view+json": {
       "model_id": "3b010a0c1eb54ebc997faa4a8b35f2f4",
       "version_major": 2,
       "version_minor": 0
      },
      "text/plain": [
       "PROCESSING TASKS | Checking input:   0%|          | 0/9 [00:00<?, ?it/s]"
      ]
     },
     "metadata": {},
     "output_type": "display_data"
    },
    {
     "data": {
      "application/vnd.jupyter.widget-view+json": {
       "model_id": "48436c1b2f5d412d85461a4638a3c379",
       "version_major": 2,
       "version_minor": 0
      },
      "text/plain": [
       "COLLECTING RESULTS | Checking input:   0%|          | 0/9 [00:00<?, ?it/s]"
      ]
     },
     "metadata": {},
     "output_type": "display_data"
    },
    {
     "data": {
      "application/vnd.jupyter.widget-view+json": {
       "model_id": "2684ff6bff224b9fa4486104deeda4d1",
       "version_major": 2,
       "version_minor": 0
      },
      "text/plain": [
       "QUEUEING TASKS | Preparing:   0%|          | 0/9 [00:00<?, ?it/s]"
      ]
     },
     "metadata": {},
     "output_type": "display_data"
    },
    {
     "data": {
      "application/vnd.jupyter.widget-view+json": {
       "model_id": "db2e6b2df49b49549d9c4595d1b59f0b",
       "version_major": 2,
       "version_minor": 0
      },
      "text/plain": [
       "PROCESSING TASKS | Preparing:   0%|          | 0/9 [00:00<?, ?it/s]"
      ]
     },
     "metadata": {},
     "output_type": "display_data"
    },
    {
     "data": {
      "application/vnd.jupyter.widget-view+json": {
       "model_id": "57cf75179a2a40acb603a15a367ef590",
       "version_major": 2,
       "version_minor": 0
      },
      "text/plain": [
       "COLLECTING RESULTS | Preparing:   0%|          | 0/9 [00:00<?, ?it/s]"
      ]
     },
     "metadata": {},
     "output_type": "display_data"
    },
    {
     "name": "stdout",
     "output_type": "stream",
     "text": [
      "Skipped: 9 Not skipped: 0\n"
     ]
    },
    {
     "data": {
      "application/vnd.jupyter.widget-view+json": {
       "model_id": "a32736fd91044e5b9091eac7e0eb697a",
       "version_major": 2,
       "version_minor": 0
      },
      "text/plain": [
       "QUEUEING TASKS | Running: 0it [00:00, ?it/s]"
      ]
     },
     "metadata": {},
     "output_type": "display_data"
    },
    {
     "data": {
      "application/vnd.jupyter.widget-view+json": {
       "model_id": "01b3560a0bdb443d842df8b04d16006e",
       "version_major": 2,
       "version_minor": 0
      },
      "text/plain": [
       "PROCESSING TASKS | Running: 0it [00:00, ?it/s]"
      ]
     },
     "metadata": {},
     "output_type": "display_data"
    },
    {
     "data": {
      "application/vnd.jupyter.widget-view+json": {
       "model_id": "a255f125450742daacf1148750c791ab",
       "version_major": 2,
       "version_minor": 0
      },
      "text/plain": [
       "COLLECTING RESULTS | Running: 0it [00:00, ?it/s]"
      ]
     },
     "metadata": {},
     "output_type": "display_data"
    },
    {
     "data": {
      "application/vnd.jupyter.widget-view+json": {
       "model_id": "9ca87a40a1ef425cb5186582173229b6",
       "version_major": 2,
       "version_minor": 0
      },
      "text/plain": [
       "QUEUEING TASKS | Parsing:   0%|          | 0/9 [00:00<?, ?it/s]"
      ]
     },
     "metadata": {},
     "output_type": "display_data"
    },
    {
     "data": {
      "application/vnd.jupyter.widget-view+json": {
       "model_id": "a2a13c3e292c42e6b1274f0d69684d78",
       "version_major": 2,
       "version_minor": 0
      },
      "text/plain": [
       "PROCESSING TASKS | Parsing:   0%|          | 0/9 [00:00<?, ?it/s]"
      ]
     },
     "metadata": {},
     "output_type": "display_data"
    },
    {
     "data": {
      "application/vnd.jupyter.widget-view+json": {
       "model_id": "8d05054331b44cfba939db2b5bd904aa",
       "version_major": 2,
       "version_minor": 0
      },
      "text/plain": [
       "COLLECTING RESULTS | Parsing:   0%|          | 0/9 [00:00<?, ?it/s]"
      ]
     },
     "metadata": {},
     "output_type": "display_data"
    },
    {
     "name": "stdout",
     "output_type": "stream",
     "text": [
      "                        LO                      NLO NLO_PLUS_NLL   \n",
      "0        0.20208+/-0.00029          0.2679+/-0.0004      0.0+/-0  \\\n",
      "1      0.013713+/-0.000018      0.017043+/-0.000020      0.0+/-0   \n",
      "2    0.0026091+/-0.0000031    0.0031281+/-0.0000035      0.0+/-0   \n",
      "3    0.0007347+/-0.0000008    0.0008593+/-0.0000009      0.0+/-0   \n",
      "4  0.00025475+/-0.00000028  0.00029242+/-0.00000029      0.0+/-0   \n",
      "5  0.00010047+/-0.00000011  0.00011369+/-0.00000011      0.0+/-0   \n",
      "6      (4.322+/-0.004)e-05      (4.841+/-0.005)e-05      0.0+/-0   \n",
      "7    (1.9790+/-0.0020)e-05    (2.2010+/-0.0020)e-05      0.0+/-0   \n",
      "8      (9.489+/-0.009)e-06    (1.0515+/-0.0009)e-05      0.0+/-0   \n",
      "\n",
      "  aNNLO_PLUS_NNLL                                             K_LO   \n",
      "0            None  1.00000000000000000000+/-0.00000000000000000026  \\\n",
      "1            None                                          1.0+/-0   \n",
      "2            None                                          1.0+/-0   \n",
      "3            None                                          1.0+/-0   \n",
      "4            None  1.00000000000000000000+/-0.00000000000000000013   \n",
      "5            None                                          1.0+/-0   \n",
      "6            None                                          1.0+/-0   \n",
      "7            None                                          1.0+/-0   \n",
      "8            None                                          1.0+/-0   \n",
      "\n",
      "             K_NLO K_NLO_PLUS_NLL NLO_PLUS_NLL_OVER_NLO K_aNNLO_PLUS_NNLL   \n",
      "0  1.3255+/-0.0026        0.0+/-0               0.0+/-0              None  \\\n",
      "1  1.2429+/-0.0022        0.0+/-0               0.0+/-0              None   \n",
      "2  1.1989+/-0.0020        0.0+/-0               0.0+/-0              None   \n",
      "3  1.1697+/-0.0018        0.0+/-0               0.0+/-0              None   \n",
      "4  1.1479+/-0.0017        0.0+/-0               0.0+/-0              None   \n",
      "5  1.1316+/-0.0016        0.0+/-0               0.0+/-0              None   \n",
      "6  1.1199+/-0.0016        0.0+/-0               0.0+/-0              None   \n",
      "7  1.1122+/-0.0015        0.0+/-0               0.0+/-0              None   \n",
      "8  1.1081+/-0.0015        0.0+/-0               0.0+/-0              None   \n",
      "\n",
      "  aNNLO_PLUS_NNLL_OVER_NLO  ... precision max_iters invariant_mass    pt   \n",
      "0                     None  ...      0.01        50           auto  auto  \\\n",
      "1                     None  ...      0.01        50           auto  auto   \n",
      "2                     None  ...      0.01        50           auto  auto   \n",
      "3                     None  ...      0.01        50           auto  auto   \n",
      "4                     None  ...      0.01        50           auto  auto   \n",
      "5                     None  ...      0.01        50           auto  auto   \n",
      "6                     None  ...      0.01        50           auto  auto   \n",
      "7                     None  ...      0.01        50           auto  auto   \n",
      "8                     None  ...      0.01        50           auto  auto   \n",
      "\n",
      "  result id model      mu  mass_1000011                                runner  \n",
      "0  total  5         100.0         100.0  ResumminoRunner-resummino git-latest  \n",
      "1  total  5         212.5         212.5  ResumminoRunner-resummino git-latest  \n",
      "2  total  5         325.0         325.0  ResumminoRunner-resummino git-latest  \n",
      "3  total  5         437.5         437.5  ResumminoRunner-resummino git-latest  \n",
      "4  total  5         550.0         550.0  ResumminoRunner-resummino git-latest  \n",
      "5  total  5         662.5         662.5  ResumminoRunner-resummino git-latest  \n",
      "6  total  5         775.0         775.0  ResumminoRunner-resummino git-latest  \n",
      "7  total  5         887.5         887.5  ResumminoRunner-resummino git-latest  \n",
      "8  total  5        1000.0        1000.0  ResumminoRunner-resummino git-latest  \n",
      "\n",
      "[9 rows x 41 columns]\n"
     ]
    }
   ],
   "source": [
    "for pa,pb in pss:\n",
    "    for param in params:\n",
    "        i = hepi.Input(hepi.Order.NLO,13000,pa,pb,param,\"cteq6l1\",\"cteq66\",1., 1.,id=\"5\")\n",
    "        #i = hepi.Input(hepi.Order.NLO,13000,pa,pb,param,\"CT14lo\",\"CT14lo\",1., 1.,model_path=model_path,id=\"5\")\n",
    "        li = [i]\n",
    "        li = hepi.mass_scan([i],pa, np.linspace(100,1000,9))\n",
    "        rs_dl = rs.run(li,noskip=False)\n",
    "        print(rs_dl)"
   ]
  },
  {
   "cell_type": "markdown",
   "id": "6ffe4795",
   "metadata": {},
   "source": [
    "## Pandas"
   ]
  },
  {
   "cell_type": "code",
   "execution_count": 4,
   "id": "7dedc960",
   "metadata": {},
   "outputs": [
    {
     "data": {
      "text/html": [
       "<div>\n",
       "<style scoped>\n",
       "    .dataframe tbody tr th:only-of-type {\n",
       "        vertical-align: middle;\n",
       "    }\n",
       "\n",
       "    .dataframe tbody tr th {\n",
       "        vertical-align: top;\n",
       "    }\n",
       "\n",
       "    .dataframe thead th {\n",
       "        text-align: right;\n",
       "    }\n",
       "</style>\n",
       "<table border=\"1\" class=\"dataframe\">\n",
       "  <thead>\n",
       "    <tr style=\"text-align: right;\">\n",
       "      <th></th>\n",
       "      <th>LO</th>\n",
       "      <th>NLO</th>\n",
       "      <th>NLO_PLUS_NLL</th>\n",
       "      <th>aNNLO_PLUS_NNLL</th>\n",
       "      <th>K_LO</th>\n",
       "      <th>K_NLO</th>\n",
       "      <th>K_NLO_PLUS_NLL</th>\n",
       "      <th>NLO_PLUS_NLL_OVER_NLO</th>\n",
       "      <th>K_aNNLO_PLUS_NNLL</th>\n",
       "      <th>aNNLO_PLUS_NNLL_OVER_NLO</th>\n",
       "      <th>...</th>\n",
       "      <th>precision</th>\n",
       "      <th>max_iters</th>\n",
       "      <th>invariant_mass</th>\n",
       "      <th>pt</th>\n",
       "      <th>result</th>\n",
       "      <th>id</th>\n",
       "      <th>model</th>\n",
       "      <th>mu</th>\n",
       "      <th>mass_1000011</th>\n",
       "      <th>runner</th>\n",
       "    </tr>\n",
       "  </thead>\n",
       "  <tbody>\n",
       "    <tr>\n",
       "      <th>0</th>\n",
       "      <td>0.20208+/-0.00029</td>\n",
       "      <td>0.2679+/-0.0004</td>\n",
       "      <td>0.0+/-0</td>\n",
       "      <td>None</td>\n",
       "      <td>1.00000000000000000000+/-0.00000000000000000026</td>\n",
       "      <td>1.3255+/-0.0026</td>\n",
       "      <td>0.0+/-0</td>\n",
       "      <td>0.0+/-0</td>\n",
       "      <td>None</td>\n",
       "      <td>None</td>\n",
       "      <td>...</td>\n",
       "      <td>0.01</td>\n",
       "      <td>50</td>\n",
       "      <td>auto</td>\n",
       "      <td>auto</td>\n",
       "      <td>total</td>\n",
       "      <td>5</td>\n",
       "      <td></td>\n",
       "      <td>100.0</td>\n",
       "      <td>100.0</td>\n",
       "      <td>ResumminoRunner-resummino git-latest</td>\n",
       "    </tr>\n",
       "    <tr>\n",
       "      <th>1</th>\n",
       "      <td>0.013713+/-0.000018</td>\n",
       "      <td>0.017043+/-0.000020</td>\n",
       "      <td>0.0+/-0</td>\n",
       "      <td>None</td>\n",
       "      <td>1.0+/-0</td>\n",
       "      <td>1.2429+/-0.0022</td>\n",
       "      <td>0.0+/-0</td>\n",
       "      <td>0.0+/-0</td>\n",
       "      <td>None</td>\n",
       "      <td>None</td>\n",
       "      <td>...</td>\n",
       "      <td>0.01</td>\n",
       "      <td>50</td>\n",
       "      <td>auto</td>\n",
       "      <td>auto</td>\n",
       "      <td>total</td>\n",
       "      <td>5</td>\n",
       "      <td></td>\n",
       "      <td>212.5</td>\n",
       "      <td>212.5</td>\n",
       "      <td>ResumminoRunner-resummino git-latest</td>\n",
       "    </tr>\n",
       "    <tr>\n",
       "      <th>2</th>\n",
       "      <td>0.0026091+/-0.0000031</td>\n",
       "      <td>0.0031281+/-0.0000035</td>\n",
       "      <td>0.0+/-0</td>\n",
       "      <td>None</td>\n",
       "      <td>1.0+/-0</td>\n",
       "      <td>1.1989+/-0.0020</td>\n",
       "      <td>0.0+/-0</td>\n",
       "      <td>0.0+/-0</td>\n",
       "      <td>None</td>\n",
       "      <td>None</td>\n",
       "      <td>...</td>\n",
       "      <td>0.01</td>\n",
       "      <td>50</td>\n",
       "      <td>auto</td>\n",
       "      <td>auto</td>\n",
       "      <td>total</td>\n",
       "      <td>5</td>\n",
       "      <td></td>\n",
       "      <td>325.0</td>\n",
       "      <td>325.0</td>\n",
       "      <td>ResumminoRunner-resummino git-latest</td>\n",
       "    </tr>\n",
       "    <tr>\n",
       "      <th>3</th>\n",
       "      <td>0.0007347+/-0.0000008</td>\n",
       "      <td>0.0008593+/-0.0000009</td>\n",
       "      <td>0.0+/-0</td>\n",
       "      <td>None</td>\n",
       "      <td>1.0+/-0</td>\n",
       "      <td>1.1697+/-0.0018</td>\n",
       "      <td>0.0+/-0</td>\n",
       "      <td>0.0+/-0</td>\n",
       "      <td>None</td>\n",
       "      <td>None</td>\n",
       "      <td>...</td>\n",
       "      <td>0.01</td>\n",
       "      <td>50</td>\n",
       "      <td>auto</td>\n",
       "      <td>auto</td>\n",
       "      <td>total</td>\n",
       "      <td>5</td>\n",
       "      <td></td>\n",
       "      <td>437.5</td>\n",
       "      <td>437.5</td>\n",
       "      <td>ResumminoRunner-resummino git-latest</td>\n",
       "    </tr>\n",
       "    <tr>\n",
       "      <th>4</th>\n",
       "      <td>0.00025475+/-0.00000028</td>\n",
       "      <td>0.00029242+/-0.00000029</td>\n",
       "      <td>0.0+/-0</td>\n",
       "      <td>None</td>\n",
       "      <td>1.00000000000000000000+/-0.00000000000000000013</td>\n",
       "      <td>1.1479+/-0.0017</td>\n",
       "      <td>0.0+/-0</td>\n",
       "      <td>0.0+/-0</td>\n",
       "      <td>None</td>\n",
       "      <td>None</td>\n",
       "      <td>...</td>\n",
       "      <td>0.01</td>\n",
       "      <td>50</td>\n",
       "      <td>auto</td>\n",
       "      <td>auto</td>\n",
       "      <td>total</td>\n",
       "      <td>5</td>\n",
       "      <td></td>\n",
       "      <td>550.0</td>\n",
       "      <td>550.0</td>\n",
       "      <td>ResumminoRunner-resummino git-latest</td>\n",
       "    </tr>\n",
       "    <tr>\n",
       "      <th>5</th>\n",
       "      <td>0.00010047+/-0.00000011</td>\n",
       "      <td>0.00011369+/-0.00000011</td>\n",
       "      <td>0.0+/-0</td>\n",
       "      <td>None</td>\n",
       "      <td>1.0+/-0</td>\n",
       "      <td>1.1316+/-0.0016</td>\n",
       "      <td>0.0+/-0</td>\n",
       "      <td>0.0+/-0</td>\n",
       "      <td>None</td>\n",
       "      <td>None</td>\n",
       "      <td>...</td>\n",
       "      <td>0.01</td>\n",
       "      <td>50</td>\n",
       "      <td>auto</td>\n",
       "      <td>auto</td>\n",
       "      <td>total</td>\n",
       "      <td>5</td>\n",
       "      <td></td>\n",
       "      <td>662.5</td>\n",
       "      <td>662.5</td>\n",
       "      <td>ResumminoRunner-resummino git-latest</td>\n",
       "    </tr>\n",
       "    <tr>\n",
       "      <th>6</th>\n",
       "      <td>(4.322+/-0.004)e-05</td>\n",
       "      <td>(4.841+/-0.005)e-05</td>\n",
       "      <td>0.0+/-0</td>\n",
       "      <td>None</td>\n",
       "      <td>1.0+/-0</td>\n",
       "      <td>1.1199+/-0.0016</td>\n",
       "      <td>0.0+/-0</td>\n",
       "      <td>0.0+/-0</td>\n",
       "      <td>None</td>\n",
       "      <td>None</td>\n",
       "      <td>...</td>\n",
       "      <td>0.01</td>\n",
       "      <td>50</td>\n",
       "      <td>auto</td>\n",
       "      <td>auto</td>\n",
       "      <td>total</td>\n",
       "      <td>5</td>\n",
       "      <td></td>\n",
       "      <td>775.0</td>\n",
       "      <td>775.0</td>\n",
       "      <td>ResumminoRunner-resummino git-latest</td>\n",
       "    </tr>\n",
       "    <tr>\n",
       "      <th>7</th>\n",
       "      <td>(1.9790+/-0.0020)e-05</td>\n",
       "      <td>(2.2010+/-0.0020)e-05</td>\n",
       "      <td>0.0+/-0</td>\n",
       "      <td>None</td>\n",
       "      <td>1.0+/-0</td>\n",
       "      <td>1.1122+/-0.0015</td>\n",
       "      <td>0.0+/-0</td>\n",
       "      <td>0.0+/-0</td>\n",
       "      <td>None</td>\n",
       "      <td>None</td>\n",
       "      <td>...</td>\n",
       "      <td>0.01</td>\n",
       "      <td>50</td>\n",
       "      <td>auto</td>\n",
       "      <td>auto</td>\n",
       "      <td>total</td>\n",
       "      <td>5</td>\n",
       "      <td></td>\n",
       "      <td>887.5</td>\n",
       "      <td>887.5</td>\n",
       "      <td>ResumminoRunner-resummino git-latest</td>\n",
       "    </tr>\n",
       "    <tr>\n",
       "      <th>8</th>\n",
       "      <td>(9.489+/-0.009)e-06</td>\n",
       "      <td>(1.0515+/-0.0009)e-05</td>\n",
       "      <td>0.0+/-0</td>\n",
       "      <td>None</td>\n",
       "      <td>1.0+/-0</td>\n",
       "      <td>1.1081+/-0.0015</td>\n",
       "      <td>0.0+/-0</td>\n",
       "      <td>0.0+/-0</td>\n",
       "      <td>None</td>\n",
       "      <td>None</td>\n",
       "      <td>...</td>\n",
       "      <td>0.01</td>\n",
       "      <td>50</td>\n",
       "      <td>auto</td>\n",
       "      <td>auto</td>\n",
       "      <td>total</td>\n",
       "      <td>5</td>\n",
       "      <td></td>\n",
       "      <td>1000.0</td>\n",
       "      <td>1000.0</td>\n",
       "      <td>ResumminoRunner-resummino git-latest</td>\n",
       "    </tr>\n",
       "  </tbody>\n",
       "</table>\n",
       "<p>9 rows × 41 columns</p>\n",
       "</div>"
      ],
      "text/plain": [
       "                        LO                      NLO NLO_PLUS_NLL   \n",
       "0        0.20208+/-0.00029          0.2679+/-0.0004      0.0+/-0  \\\n",
       "1      0.013713+/-0.000018      0.017043+/-0.000020      0.0+/-0   \n",
       "2    0.0026091+/-0.0000031    0.0031281+/-0.0000035      0.0+/-0   \n",
       "3    0.0007347+/-0.0000008    0.0008593+/-0.0000009      0.0+/-0   \n",
       "4  0.00025475+/-0.00000028  0.00029242+/-0.00000029      0.0+/-0   \n",
       "5  0.00010047+/-0.00000011  0.00011369+/-0.00000011      0.0+/-0   \n",
       "6      (4.322+/-0.004)e-05      (4.841+/-0.005)e-05      0.0+/-0   \n",
       "7    (1.9790+/-0.0020)e-05    (2.2010+/-0.0020)e-05      0.0+/-0   \n",
       "8      (9.489+/-0.009)e-06    (1.0515+/-0.0009)e-05      0.0+/-0   \n",
       "\n",
       "  aNNLO_PLUS_NNLL                                             K_LO   \n",
       "0            None  1.00000000000000000000+/-0.00000000000000000026  \\\n",
       "1            None                                          1.0+/-0   \n",
       "2            None                                          1.0+/-0   \n",
       "3            None                                          1.0+/-0   \n",
       "4            None  1.00000000000000000000+/-0.00000000000000000013   \n",
       "5            None                                          1.0+/-0   \n",
       "6            None                                          1.0+/-0   \n",
       "7            None                                          1.0+/-0   \n",
       "8            None                                          1.0+/-0   \n",
       "\n",
       "             K_NLO K_NLO_PLUS_NLL NLO_PLUS_NLL_OVER_NLO K_aNNLO_PLUS_NNLL   \n",
       "0  1.3255+/-0.0026        0.0+/-0               0.0+/-0              None  \\\n",
       "1  1.2429+/-0.0022        0.0+/-0               0.0+/-0              None   \n",
       "2  1.1989+/-0.0020        0.0+/-0               0.0+/-0              None   \n",
       "3  1.1697+/-0.0018        0.0+/-0               0.0+/-0              None   \n",
       "4  1.1479+/-0.0017        0.0+/-0               0.0+/-0              None   \n",
       "5  1.1316+/-0.0016        0.0+/-0               0.0+/-0              None   \n",
       "6  1.1199+/-0.0016        0.0+/-0               0.0+/-0              None   \n",
       "7  1.1122+/-0.0015        0.0+/-0               0.0+/-0              None   \n",
       "8  1.1081+/-0.0015        0.0+/-0               0.0+/-0              None   \n",
       "\n",
       "  aNNLO_PLUS_NNLL_OVER_NLO  ... precision max_iters invariant_mass    pt   \n",
       "0                     None  ...      0.01        50           auto  auto  \\\n",
       "1                     None  ...      0.01        50           auto  auto   \n",
       "2                     None  ...      0.01        50           auto  auto   \n",
       "3                     None  ...      0.01        50           auto  auto   \n",
       "4                     None  ...      0.01        50           auto  auto   \n",
       "5                     None  ...      0.01        50           auto  auto   \n",
       "6                     None  ...      0.01        50           auto  auto   \n",
       "7                     None  ...      0.01        50           auto  auto   \n",
       "8                     None  ...      0.01        50           auto  auto   \n",
       "\n",
       "  result id model      mu  mass_1000011                                runner  \n",
       "0  total  5         100.0         100.0  ResumminoRunner-resummino git-latest  \n",
       "1  total  5         212.5         212.5  ResumminoRunner-resummino git-latest  \n",
       "2  total  5         325.0         325.0  ResumminoRunner-resummino git-latest  \n",
       "3  total  5         437.5         437.5  ResumminoRunner-resummino git-latest  \n",
       "4  total  5         550.0         550.0  ResumminoRunner-resummino git-latest  \n",
       "5  total  5         662.5         662.5  ResumminoRunner-resummino git-latest  \n",
       "6  total  5         775.0         775.0  ResumminoRunner-resummino git-latest  \n",
       "7  total  5         887.5         887.5  ResumminoRunner-resummino git-latest  \n",
       "8  total  5        1000.0        1000.0  ResumminoRunner-resummino git-latest  \n",
       "\n",
       "[9 rows x 41 columns]"
      ]
     },
     "execution_count": 4,
     "metadata": {},
     "output_type": "execute_result"
    }
   ],
   "source": [
    "rs_dl"
   ]
  },
  {
   "cell_type": "markdown",
   "id": "db0d183d",
   "metadata": {},
   "source": [
    "## CSV"
   ]
  },
  {
   "cell_type": "code",
   "execution_count": 5,
   "id": "a74a3e82",
   "metadata": {},
   "outputs": [
    {
     "name": "stdout",
     "output_type": "stream",
     "text": [
      "LO,NLO,NLO_PLUS_NLL,aNNLO_PLUS_NNLL,K_LO,K_NLO,K_NLO_PLUS_NLL,NLO_PLUS_NLL_OVER_NLO,K_aNNLO_PLUS_NNLL,aNNLO_PLUS_NNLL_OVER_NLO,VNLO,P_PLUS_K,RNLOG,RNLOQ,VNLO_PLUS_P_PLUS_K,RNLO,RNLO_PLUS_VNLO_PLUS_P_PLUS_K,order,energy,energyhalf,particle1,particle2,slha,pdf_lo,pdfset_lo,pdf_nlo,pdfset_nlo,pdf_lo_id,pdf_nlo_id,mu_f,mu_r,precision,max_iters,invariant_mass,pt,result,id,model,mu,mass_1000011,runner\n",
      "0.20208+/-0.00029,0.2679+/-0.0004,0.0+/-0,,1.00000000000000000000+/-0.00000000000000000026,1.3255+/-0.0026,0.0+/-0,0.0+/-0,,,0.01062+/-0.00008,0.02998+/-0.00017,-0.00218+/-0.00005,0.009949+/-0.000025,0.04059+/-0.00019,0.00777+/-0.00005,0.04837+/-0.00020,1,13000,6500.0,1000011,-1000011,mastercode_with_gm2.in_mass_1000011_100.0,cteq6l1,0,cteq66,0,0,0,1.0,1.0,0.01,50,auto,auto,total,5,,100.0,100.0,ResumminoRunner-resummino git-latest\n",
      "0.013713+/-0.000018,0.017043+/-0.000020,0.0+/-0,,1.0+/-0,1.2429+/-0.0022,0.0+/-0,0.0+/-0,,,0.000639+/-0.000005,0.001524+/-0.000006,-0.0001066+/-0.0000020,0.0003784+/-0.0000009,0.002163+/-0.000008,0.0002719+/-0.0000022,0.002435+/-0.000008,1,13000,6500.0,1000011,-1000011,mastercode_with_gm2.in_mass_1000011_212.5,cteq6l1,0,cteq66,0,0,0,1.0,1.0,0.01,50,auto,auto,total,5,,212.5,212.5,ResumminoRunner-resummino git-latest\n",
      "0.0026091+/-0.0000031,0.0031281+/-0.0000035,0.0+/-0,,1.0+/-0,1.1989+/-0.0020,0.0+/-0,0.0+/-0,,,0.0001128+/-0.0000008,0.0002628+/-0.0000010,(-1.554+/-0.029)e-05,(4.906+/-0.011)e-05,0.0003757+/-0.0000013,(3.352+/-0.031)e-05,0.0004092+/-0.0000013,1,13000,6500.0,1000011,-1000011,mastercode_with_gm2.in_mass_1000011_325.0,cteq6l1,0,cteq66,0,0,0,1.0,1.0,0.01,50,auto,auto,total,5,,325.0,325.0,ResumminoRunner-resummino git-latest\n",
      "0.0007347+/-0.0000008,0.0008593+/-0.0000009,0.0+/-0,,1.0+/-0,1.1697+/-0.0018,0.0+/-0,0.0+/-0,,,(3.010+/-0.020)e-05,(7.281+/-0.025)e-05,(-3.50+/-0.06)e-06,(1.0308+/-0.0022)e-05,0.00010290+/-0.00000032,(6.81+/-0.07)e-06,0.00010971+/-0.00000032,1,13000,6500.0,1000011,-1000011,mastercode_with_gm2.in_mass_1000011_437.5,cteq6l1,0,cteq66,0,0,0,1.0,1.0,0.01,50,auto,auto,total,5,,437.5,437.5,ResumminoRunner-resummino git-latest\n",
      "0.00025475+/-0.00000028,0.00029242+/-0.00000029,0.0+/-0,,1.00000000000000000000+/-0.00000000000000000013,1.1479+/-0.0017,0.0+/-0,0.0+/-0,,,(9.99+/-0.06)e-06,(2.562+/-0.008)e-05,(-1.005+/-0.017)e-06,(2.820+/-0.006)e-06,(3.561+/-0.010)e-05,(1.815+/-0.018)e-06,(3.743+/-0.010)e-05,1,13000,6500.0,1000011,-1000011,mastercode_with_gm2.in_mass_1000011_550.0,cteq6l1,0,cteq66,0,0,0,1.0,1.0,0.01,50,auto,auto,total,5,,550.0,550.0,ResumminoRunner-resummino git-latest\n",
      "0.00010047+/-0.00000011,0.00011369+/-0.00000011,0.0+/-0,,1.0+/-0,1.1316+/-0.0016,0.0+/-0,0.0+/-0,,,(3.805+/-0.023)e-06,(1.0433+/-0.0030)e-05,(-3.438+/-0.033)e-07,(9.123+/-0.018)e-07,(1.424+/-0.004)e-05,(5.68+/-0.04)e-07,(1.481+/-0.004)e-05,1,13000,6500.0,1000011,-1000011,mastercode_with_gm2.in_mass_1000011_662.5,cteq6l1,0,cteq66,0,0,0,1.0,1.0,0.01,50,auto,auto,total,5,,662.5,662.5,ResumminoRunner-resummino git-latest\n",
      "(4.322+/-0.004)e-05,(4.841+/-0.005)e-05,0.0+/-0,,1.0+/-0,1.1199+/-0.0016,0.0+/-0,0.0+/-0,,,(1.590+/-0.010)e-06,(4.678+/-0.013)e-06,(-1.245+/-0.016)e-07,(3.312+/-0.006)e-07,(6.269+/-0.016)e-06,(2.067+/-0.017)e-07,(6.475+/-0.016)e-06,1,13000,6500.0,1000011,-1000011,mastercode_with_gm2.in_mass_1000011_775.0,cteq6l1,0,cteq66,0,0,0,1.0,1.0,0.01,50,auto,auto,total,5,,775.0,775.0,ResumminoRunner-resummino git-latest\n",
      "(1.9790+/-0.0020)e-05,(2.2010+/-0.0020)e-05,0.0+/-0,,1.0+/-0,1.1122+/-0.0015,0.0+/-0,0.0+/-0,,,(7.11+/-0.04)e-07,(2.242+/-0.006)e-06,(-4.90+/-0.09)e-08,(1.3073+/-0.0025)e-07,(2.954+/-0.007)e-06,(8.17+/-0.09)e-08,(3.035+/-0.007)e-06,1,13000,6500.0,1000011,-1000011,mastercode_with_gm2.in_mass_1000011_887.5,cteq6l1,0,cteq66,0,0,0,1.0,1.0,0.01,50,auto,auto,total,5,,887.5,887.5,ResumminoRunner-resummino git-latest\n",
      "(9.489+/-0.009)e-06,(1.0515+/-0.0009)e-05,0.0+/-0,,1.0+/-0,1.1081+/-0.0015,0.0+/-0,0.0+/-0,,,(3.351+/-0.019)e-07,(1.1287+/-0.0028)e-06,(-2.06+/-0.04)e-08,(5.497+/-0.010)e-08,(1.4638+/-0.0034)e-06,(3.43+/-0.04)e-08,(1.4981+/-0.0034)e-06,1,13000,6500.0,1000011,-1000011,mastercode_with_gm2.in_mass_1000011_1000.0,cteq6l1,0,cteq66,0,0,0,1.0,1.0,0.01,50,auto,auto,total,5,,1000.0,1000.0,ResumminoRunner-resummino git-latest\n",
      "\n"
     ]
    }
   ],
   "source": [
    "hepi.write_csv(rs_dl,\"out.csv\")\n",
    "print(open('out.csv','r').read())"
   ]
  },
  {
   "cell_type": "markdown",
   "id": "8c245911",
   "metadata": {},
   "source": [
    "## JSON"
   ]
  },
  {
   "cell_type": "code",
   "execution_count": 6,
   "id": "949b48eb",
   "metadata": {},
   "outputs": [
    {
     "name": "stdout",
     "output_type": "stream",
     "text": [
      "{\n",
      "    \"initial state\": \"pp\",\n",
      "    \"order\": \"NLO\",\n",
      "    \"source\": \"hepi-0.2.9.7\",\n",
      "    \"contact\": \"Alexander Puck Neuwirth <alexander@neuwirth-informatik.de>\",\n",
      "    \"tool\": \"Resummino-resummino git-latest\",\n",
      "    \"process_latex\": \"$\\\\tilde{e}_{L}^{-}\\\\tilde{e}_{L}^{+}$\",\n",
      "    \"comment\": \"5\",\n",
      "    \"reference\": \"?\",\n",
      "    \"Ecom [GeV]\": \"13000\",\n",
      "    \"process_id\": \"pp_13000_1000011_-1000011\",\n",
      "    \"PDF set\": \"cteq66\",\n",
      "    \"parameters\": [\n",
      "        [\n",
      "            \"mass_1000011\"\n",
      "        ]\n",
      "    ],\n",
      "    \"data\": {\n",
      "        \"100.0\": {\n",
      "            \"xsec_pb\": 0.26786916\n",
      "        },\n",
      "        \"212.5\": {\n",
      "            \"xsec_pb\": 0.017042798\n",
      "        },\n",
      "        \"325.0\": {\n",
      "            \"xsec_pb\": 0.0031280684\n",
      "        },\n",
      "        \"437.5\": {\n",
      "            \"xsec_pb\": 0.00085929957\n",
      "        },\n",
      "        \"550.0\": {\n",
      "            \"xsec_pb\": 0.00029242159\n",
      "        },\n",
      "        \"662.5\": {\n",
      "            \"xsec_pb\": 0.00011369143\n",
      "        },\n",
      "        \"775.0\": {\n",
      "            \"xsec_pb\": 4.8409699e-05\n",
      "        },\n",
      "        \"887.5\": {\n",
      "            \"xsec_pb\": 2.2010282e-05\n",
      "        },\n",
      "        \"1000.0\": {\n",
      "            \"xsec_pb\": 1.0515472e-05\n",
      "        }\n",
      "    }\n",
      "}\n"
     ]
    }
   ],
   "source": [
    "hepi.write_json(rs_dl,hepi.Order.NLO,[\"mass_1000011\"],\"out.json\",error=False)\n",
    "print(open('out.json','r').read())"
   ]
  },
  {
   "cell_type": "code",
   "execution_count": null,
   "id": "bde9afca",
   "metadata": {},
   "outputs": [],
   "source": []
  },
  {
   "cell_type": "code",
   "execution_count": null,
   "id": "19e4273a",
   "metadata": {},
   "outputs": [],
   "source": []
  }
 ],
 "metadata": {
  "kernelspec": {
   "display_name": "Python 3 (ipykernel)",
   "language": "python",
   "name": "python3"
  },
  "language_info": {
   "codemirror_mode": {
    "name": "ipython",
    "version": 3
   },
   "file_extension": ".py",
   "mimetype": "text/x-python",
   "name": "python",
   "nbconvert_exporter": "python",
   "pygments_lexer": "ipython3",
   "version": "3.10.10"
  }
 },
 "nbformat": 4,
 "nbformat_minor": 5
}
