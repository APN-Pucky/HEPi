{
 "cells": [
  {
   "cell_type": "markdown",
   "id": "6bf5b861",
   "metadata": {},
   "source": [
    "# Distribute resummino run files to clusters\n",
    "\n",
    "After running this example one only needs to run the generated output/\\*.sh files or queue them to your favourite cluster:\n",
    "\n",
    "```sh\n",
    "$ ./output/*.sh\n",
    "```"
   ]
  },
  {
   "cell_type": "code",
   "execution_count": 1,
   "id": "6c1a697f",
   "metadata": {},
   "outputs": [
    {
     "name": "stdout",
     "output_type": "stream",
     "text": [
      "0.1.8.9+dirty\n",
      "~/git/resummino\n"
     ]
    }
   ],
   "source": [
    "import hepi\n",
    "print(hepi.__version__)\n",
    "import smpl\n",
    "import numpy as np\n",
    "import hepi.resummino as rs\n",
    "import hepi.util as util\n",
    "import matplotlib.pyplot as plt\n",
    "rs.set_path(\"~/git/resummino\")\n",
    "print (rs.get_path())"
   ]
  },
  {
   "cell_type": "markdown",
   "id": "35928a1a",
   "metadata": {},
   "source": [
    "## Single point"
   ]
  },
  {
   "cell_type": "code",
   "execution_count": 2,
   "id": "f8611906",
   "metadata": {},
   "outputs": [
    {
     "name": "stdout",
     "output_type": "stream",
     "text": [
      "Running: 1 jobs\n",
      "Running: 1 jobs\n",
      "Running: 1 jobs\n",
      "Running: 1 jobs\n"
     ]
    }
   ],
   "source": [
    "params = [\n",
    "    \"slha.in\",\n",
    "]\n",
    "pss = [\n",
    "    (1000023,1000024),\n",
    "    (1000024,-1000024),\n",
    "    (1000023,1000022),\n",
    "    (1000002,1000022),\n",
    "     ]\n",
    "for pa,pb in pss:\n",
    "    for param in params:\n",
    "        i = hepi.Input(hepi.Order.NLO_PLUS_NLL,13000,pa,pb,param,\"PDF4LHC21_mc\",\"PDF4LHC21_mc\",1., 1.,id=\"0\")\n",
    "        #i = hepi.Input(hepi.Order.NLO,13000,pa,pb,param,\"CT14lo\",\"CT14lo\",1., 1.,model_path=model_path,id=\"5\")\n",
    "        li = [i]\n",
    "        rs_dl = rs.run(li,noskip=False,run=False,parse=False)"
   ]
  },
  {
   "cell_type": "markdown",
   "id": "234755a8",
   "metadata": {},
   "source": [
    "## Mass scan"
   ]
  },
  {
   "cell_type": "code",
   "execution_count": 3,
   "id": "e423f880",
   "metadata": {
    "scrolled": false
   },
   "outputs": [
    {
     "name": "stdout",
     "output_type": "stream",
     "text": [
      "Running: 9 jobs\n"
     ]
    }
   ],
   "source": [
    "params = [\n",
    "    \"slha.in\",\n",
    "]\n",
    "pss = [\n",
    "    (1000011,-1000011),\n",
    "     ]\n",
    "for pa,pb in pss:\n",
    "    for param in params:\n",
    "        i = hepi.Input(hepi.Order.NLO_PLUS_NLL,13000,pa,pb,param,\"PDF4LHC21_mc\",\"PDF4LHC21_mc\",1., 1.,id=\"0\")\n",
    "        #i = hepi.Input(hepi.Order.NLO,13000,pa,pb,param,\"CT14lo\",\"CT14lo\",1., 1.,model_path=model_path,id=\"5\")\n",
    "        li = [i]\n",
    "        li = hepi.mass_scan([i],pa, np.linspace(1000,2000,9))\n",
    "        rs_dl = rs.run(li,noskip=False,run=False,parse=False)\n",
    "\n"
   ]
  },
  {
   "cell_type": "markdown",
   "id": "1ab31979",
   "metadata": {},
   "source": [
    "## Scale scan"
   ]
  },
  {
   "cell_type": "code",
   "execution_count": 4,
   "id": "de19c4fa",
   "metadata": {},
   "outputs": [
    {
     "name": "stdout",
     "output_type": "stream",
     "text": [
      "Running: 7 jobs\n",
      "Running: 7 jobs\n"
     ]
    }
   ],
   "source": [
    "params = [\n",
    "    \"wino.in\",\n",
    "    \"hino.in\",\n",
    "]\n",
    "pss = [\n",
    "    (1000022,1000022),\n",
    "     ]\n",
    "for pa,pb in pss:\n",
    "    for param in params:\n",
    "        i = hepi.Input(hepi.Order.NLO_PLUS_NLL,13000,pa,pb,param,\"PDF4LHC21_mc\",\"PDF4LHC21_mc\",1., 1.,id=\"0\")\n",
    "        #i = hepi.Input(hepi.Order.NLO,13000,pa,pb,param,\"CT14lo\",\"CT14lo\",1., 1.,model_path=model_path,id=\"5\")\n",
    "        li = [i]\n",
    "        li = hepi.seven_point_scan(li)\n",
    "        rs_dl = rs.run(li,noskip=False,run=False,parse=False)"
   ]
  },
  {
   "cell_type": "markdown",
   "id": "7a3ef80d",
   "metadata": {},
   "source": [
    "## PDF scan"
   ]
  },
  {
   "cell_type": "code",
   "execution_count": 6,
   "id": "484741b8",
   "metadata": {},
   "outputs": [
    {
     "name": "stdout",
     "output_type": "stream",
     "text": [
      "Running: 101 jobs\n"
     ]
    }
   ],
   "source": [
    "params = [\n",
    "    \"slha.in\",\n",
    "]\n",
    "pss = [\n",
    "    (1000011,-1000011),\n",
    "     ]\n",
    "for pa,pb in pss:\n",
    "    for param in params:\n",
    "        i = hepi.Input(hepi.Order.NLO_PLUS_NLL,13600,pa,pb,param,\"PDF4LHC21_mc\",\"PDF4LHC21_mc\",1., 1.,id=\"0\")\n",
    "        #i = hepi.Input(hepi.Order.NLO,13000,pa,pb,param,\"CT14lo\",\"CT14lo\",1., 1.,model_path=model_path,id=\"5\")\n",
    "        li = [i]\n",
    "        li = hepi.pdf_scan(li)\n",
    "        rs_dl = rs.run(li,noskip=False,run=False,parse=False)"
   ]
  },
  {
   "cell_type": "code",
   "execution_count": null,
   "id": "8cec298e",
   "metadata": {},
   "outputs": [],
   "source": []
  }
 ],
 "metadata": {
  "kernelspec": {
   "display_name": "Python 3 (ipykernel)",
   "language": "python",
   "name": "python3"
  },
  "language_info": {
   "codemirror_mode": {
    "name": "ipython",
    "version": 3
   },
   "file_extension": ".py",
   "mimetype": "text/x-python",
   "name": "python",
   "nbconvert_exporter": "python",
   "pygments_lexer": "ipython3",
   "version": "3.8.13"
  }
 },
 "nbformat": 4,
 "nbformat_minor": 5
}
